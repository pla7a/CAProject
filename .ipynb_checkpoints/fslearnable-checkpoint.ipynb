{
 "cells": [
  {
   "cell_type": "code",
   "execution_count": 1,
   "id": "derived-lesson",
   "metadata": {},
   "outputs": [],
   "source": [
    "import torch\n",
    "%matplotlib inline\n",
    "\n",
    "import os\n",
    "import gzip\n",
    "import time\n",
    "import pickle\n",
    "\n",
    "import numpy as np\n",
    "import matplotlib.pyplot as plt\n",
    "import torch\n",
    "import torch.nn as nn\n",
    "import torch.optim as optim\n",
    "import torch.nn.functional as F\n",
    "\n",
    "from IPython.display import clear_output\n",
    "from datetime import datetime\n",
    "from torchvision import datasets, transforms\n",
    "from sklearn import metrics\n",
    "from PIL import Image\n",
    "from IPython.display import Image \n",
    "\n"
   ]
  },
  {
   "cell_type": "code",
   "execution_count": 2,
   "id": "legal-turkish",
   "metadata": {},
   "outputs": [
    {
     "name": "stdout",
     "output_type": "stream",
     "text": [
      "cuda:0\n"
     ]
    }
   ],
   "source": [
    "if torch.cuda.is_available():  \n",
    "  dev = \"cuda:0\" \n",
    "else:  \n",
    "  dev = \"cpu\"\n",
    "\n",
    "print(dev)"
   ]
  },
  {
   "cell_type": "code",
   "execution_count": 3,
   "id": "overall-vintage",
   "metadata": {},
   "outputs": [],
   "source": [
    "batch_size = 10"
   ]
  },
  {
   "cell_type": "code",
   "execution_count": 4,
   "id": "divine-activation",
   "metadata": {},
   "outputs": [],
   "source": [
    "from torch.utils.data import Dataset, DataLoader\n",
    "import os\n",
    "import glob\n",
    "from PIL import Image\n",
    "import re\n",
    "\n",
    "\n",
    "px_size = 60\n",
    "py_size = 60\n",
    "\n",
    "class DatasetMSE(Dataset):\n",
    "\n",
    "    def __init__(self, image_dir, label_dir):\n",
    "        self.colors = {\n",
    "            0:torch.FloatTensor([255.0, 0.0, 0.0]),\n",
    "            1:torch.FloatTensor([127.0, 0.0, 0.0]),\n",
    "            2:torch.FloatTensor([255.0, 255.0, 0.0]),\n",
    "            3:torch.FloatTensor([0.0, 255.0, 255.0]),\n",
    "            4:torch.FloatTensor([0.0, 0.0, 255.0]),\n",
    "            5:torch.FloatTensor([0.0, 255.0, 0.0])\n",
    "            }\n",
    "        \n",
    "        self.transforms = []\n",
    "        self.tf = transforms.Compose([transforms.ToTensor(), transforms.Resize((px_size,py_size))])\n",
    "        self.label_imgs = torch.stack([self.get_labels(self.tf((Image.open(file)))) for file in glob.glob(label_dir + '/00*')]).to(dev)\n",
    "        self.colour = torch.stack([self.get_colour(self.tf((Image.open(file)))) for file in glob.glob(label_dir + '/00*')]).to(dev)\n",
    "        self.input_imgs = torch.stack([(self.tf((Image.open(file)))) for file in glob.glob(image_dir + '/00*')]).to(dev)\n",
    "        self.add_colour()\n",
    "\n",
    "    def __len__(self):\n",
    "        return len(self.input_imgs)\n",
    "\n",
    "\n",
    "    def __getitem__(self, idx):\n",
    "        input_img, label_img = self.input_imgs[idx], self.label_imgs[idx]\n",
    "        return input_img, label_img\n",
    "    \n",
    "    def col_sim(self, d):\n",
    "        d = d*255\n",
    "        a = torch.FloatTensor([torch.dist(d, self.colors[i]) for i in self.colors])\n",
    "        return torch.argmin(a) \n",
    "    \n",
    "    def view_shape(self):\n",
    "        print(self.label_imgs.shape)\n",
    "        print(self.input_imgs.shape)\n",
    "    \n",
    "    def get_labels(self, x):\n",
    "        new_x = torch.zeros(6,px_size,px_size)\n",
    "        for i in range(px_size):\n",
    "            for j in range(px_size):\n",
    "                new_d3 = x.transpose(0,1).transpose(1,2)\n",
    "                new_x[self.col_sim(new_d3[i][j])][i][j] = 1\n",
    "                \n",
    "        return new_x\n",
    "        \n",
    "    def get_colour(self, x):\n",
    "        new_x = torch.zeros(px_size,px_size)\n",
    "        for i in range(px_size):\n",
    "            for j in range(px_size):\n",
    "                new_d3 = x.transpose(0,1).transpose(1,2)\n",
    "                new_x[i][j] = self.col_sim(new_d3[i][j])\n",
    "        return new_x\n",
    "        \n",
    "    def add_colour(self):\n",
    "        print(self.input_imgs.shape)\n",
    "        for i in range(self.input_imgs.shape[0]):\n",
    "            print(i)\n",
    "            self.input_imgs[i][0][self.colour[i] == 3] += 0.2\n",
    "            self.input_imgs[i][1][self.colour[i] == 4] += 0.2\n",
    "            self.input_imgs[i][2][self.colour[i] == 5] += 0.2\n",
    "        self.input_imgs = self.input_imgs.clamp(0, 1)\n",
    "            #new_x[1][y[i]==4] += 0.5\n",
    "            #new_x[2][y[i]==5] += 0.5\n",
    "            #new_x[2][y[i] == 0] += 0.5\n",
    "            #new_x[1][y[i]==0] += 0.5\n",
    "        \n",
    "    \n",
    "    def print_tensor(self, x):\n",
    "        print(self.input_imgs[x])"
   ]
  },
  {
   "cell_type": "code",
   "execution_count": 32,
   "id": "detailed-winner",
   "metadata": {},
   "outputs": [
    {
     "name": "stdout",
     "output_type": "stream",
     "text": [
      "torch.Size([9, 3, 60, 60])\n",
      "0\n",
      "1\n",
      "2\n",
      "3\n",
      "4\n",
      "5\n",
      "6\n",
      "7\n",
      "8\n"
     ]
    }
   ],
   "source": [
    "dset_mse = DatasetMSE(\"Original\",\"Labeled\")\n",
    "train_loader_MSE = torch.utils.data.DataLoader(dset_mse, shuffle=True, batch_size=batch_size)\n",
    "#dset_mse.print_tensor(2)"
   ]
  },
  {
   "cell_type": "code",
   "execution_count": 3,
   "id": "occasional-alberta",
   "metadata": {},
   "outputs": [],
   "source": [
    "import torch, gc\n",
    "gc.collect()\n",
    "torch.cuda.empty_cache()"
   ]
  },
  {
   "cell_type": "code",
   "execution_count": 4,
   "id": "natural-charleston",
   "metadata": {
    "scrolled": true
   },
   "outputs": [],
   "source": [
    "def initial_seed(batch_size):\n",
    "    return torch.zeros(batch_size, 3, px_size, py_size)\n",
    "\n",
    "# Encode colour classes 1\n",
    "def to_classes(d):\n",
    "    d = d*255\n",
    "    x = torch.zeros(6, d.shape[1], d.shape[2])\n",
    "    # RED 255,0,0\n",
    "    x[0][(d[0] > 220) & (d[1] < 20) & (d[2] < 20)] = 1\n",
    "    # BROWN 127,0,0\n",
    "    x[1][(d[0] > 60) & (d[0] < 200) & (d[1] < 60) & (d[2] < 60)] = 1\n",
    "    # YELLOW 255, 255, 0\n",
    "    x[2][(d[0] > 20) & (d[1] > 30) & (d[2] < 230)] = 1\n",
    "    # LIGHT BLUE 0,255,255\n",
    "    x[3][(d[0] < 100) & (d[1] > 100) & (d[2] > 100)] = 1\n",
    "    # DARK BLUE 0,0,255\n",
    "    x[4][(d[0] < 30) & (d[1] < 30) & (d[2] > 150)] = 1\n",
    "    # GREEN 0,255,0\n",
    "    x[5][(d[0] < 120) & (d[1] > 140) & (d[2] < 160)] = 1\n",
    "    return torch.FloatTensor(x)\n",
    "\n",
    "# Encode colour classes 2\n",
    "def to_class(d):\n",
    "    d = d*255\n",
    "    x = torch.zeros(d.shape[1], d.shape[2])\n",
    "    # RED 255,0,0\n",
    "    #x[(d[0] > 180) & (d[1] < 60) & (d[2] < 60)] = 0\n",
    "    # BROWN 127,0,0\n",
    "    x[(d[0] > 60) & (d[0] < 200) & (d[1] < 60) & (d[2] < 60)] = 1\n",
    "    # YELLOW 255, 255, 0\n",
    "    x[(d[0] > 100) & (d[1] > 100) & (d[2] < 100)] = 2\n",
    "    # LIGHT BLUE 0,255,255\n",
    "    x[(d[0] < 60) & (d[1] > 180) & (d[2] > 180)] = 3\n",
    "    # DARK BLUE 0,0,255\n",
    "    x[(d[0] < 60) & (d[1] < 60) & (d[2] > 180)] = 4\n",
    "    # GREEN 0,255,0\n",
    "    x[(d[0] < 70) & (d[1] > 170) & (d[2] < 70)] = 5\n",
    "    return torch.FloatTensor(x)\n",
    "\n",
    "colors = {\n",
    "    0:torch.FloatTensor([255.0, 0.0, 0.0]).to(dev),\n",
    "    1:torch.FloatTensor([127.0, 0.0, 0.0]).to(dev),\n",
    "    2:torch.FloatTensor([255.0, 255.0, 0.0]).to(dev),\n",
    "    3:torch.FloatTensor([0.0, 255.0, 255.0]).to(dev),\n",
    "    4:torch.FloatTensor([0.0, 0.0, 255.0]).to(dev),\n",
    "    5:torch.FloatTensor([0.0, 255.0, 0.0]).to(dev)\n",
    "    }\n",
    "          \n",
    "    \n",
    "# Get RGB class channels\n",
    "def get_rgb(x):\n",
    "    return x.transpose(0,1)[3:9].transpose(0,1)\n",
    "\n",
    "# Transform to display image\n",
    "ts = transforms.ToPILImage()\n",
    "\n",
    "# Get max class value and convert to RGB for the C classes\n",
    "def max_rgb(x):\n",
    "    newimg = torch.zeros(x.shape[0], px_size, px_size, 3).to(dev)\n",
    "    for i in range(x.shape[0]):\n",
    "        # RED 255, 0, 0\n",
    "        newimg[i][torch.argmax(x[i],dim=0) == 0] = colors[0]\n",
    "        # BROWN 127 0 0 \n",
    "        newimg[i][torch.argmax(x[i],dim=0) == 1] = colors[1]\n",
    "        # YELLOW 255, 255, 0\n",
    "        newimg[i][torch.argmax(x[i],dim=0) == 2] = colors[2]\n",
    "        # L BLUE 0, 255, 255\n",
    "        newimg[i][torch.argmax(x[i],dim=0) == 3] = colors[3]\n",
    "        # D BLUE 0, 0, 255\n",
    "        newimg[i][torch.argmax(x[i],dim=0) == 4] = colors[4]\n",
    "        # GREEN 0, 255, 0\n",
    "        newimg[i][torch.argmax(x[i],dim=0) == 5] = colors[5]\n",
    "    \n",
    "    return (newimg/255.0).transpose(1,3).transpose(2,3)\n",
    "\n",
    "\n",
    "def max_rgba(x):\n",
    "    newimg = torch.zeros(px_size, px_size, 3)\n",
    "    # RED 255, 0, 0\n",
    "    newimg[torch.argmax(x,dim=0) == 0] = torch.FloatTensor([255.0, 0.0, 0.0])\n",
    "    # BROWN 127 0 0 \n",
    "    newimg[torch.argmax(x,dim=0) == 1] = torch.FloatTensor([127.0, 0.0, 0.0])\n",
    "    # YELLOW 255, 255, 0\n",
    "    newimg[torch.argmax(x,dim=0) == 2] = torch.FloatTensor([255.0, 255.0, 0.0])\n",
    "    # L BLUE 0, 255, 255\n",
    "    newimg[torch.argmax(x,dim=0) == 3] = torch.FloatTensor([0.0, 255.0, 255.0])\n",
    "    # D BLUE 0, 0, 255\n",
    "    newimg[torch.argmax(x,dim=0) == 4] = torch.FloatTensor([0.0, 0.0, 255.0])\n",
    "    # GREEN 0, 255, 0\n",
    "    newimg[torch.argmax(x,dim=0) == 5] = torch.FloatTensor([0.0, 255.0, 0.0])\n",
    "    \n",
    "    alpha = torch.max(x, dim=0).values.to(dev)\n",
    "    #alpha = alpha/torch.max(alpha)\n",
    "    newimg = (newimg/255.0).to(dev)\n",
    "    newimg = torch.cat((newimg, alpha.view(px_size, px_size, 1)), dim=2)\n",
    "    print(newimg.shape)\n",
    "    return newimg.transpose(0,2).transpose(1,2)\n",
    "\n",
    "# Flatten dimension\n",
    "def loss_classes(x):\n",
    "    y = torch.flatten(x,1,2)\n",
    "    return y\n"
   ]
  },
  {
   "cell_type": "code",
   "execution_count": 5,
   "id": "recovered-preliminary",
   "metadata": {},
   "outputs": [],
   "source": [
    "batch_size = 10"
   ]
  },
  {
   "cell_type": "code",
   "execution_count": 6,
   "id": "viral-second",
   "metadata": {},
   "outputs": [],
   "source": [
    "# Cross Entropy\n",
    "\n",
    "from torch.utils.data import Dataset, DataLoader\n",
    "import os\n",
    "import glob\n",
    "from PIL import Image\n",
    "\n",
    "\n",
    "px_size = 60\n",
    "py_size = 60\n",
    "\n",
    "class DatasetCE(Dataset):\n",
    "\n",
    "    def __init__(self, image_dir, label_dir):\n",
    "        self.colors = {\n",
    "            0:torch.FloatTensor([255.0, 0.0, 0.0]),\n",
    "            1:torch.FloatTensor([127.0, 0.0, 0.0]),\n",
    "            2:torch.FloatTensor([255.0, 255.0, 0.0]),\n",
    "            3:torch.FloatTensor([0.0, 255.0, 255.0]),\n",
    "            4:torch.FloatTensor([0.0, 0.0, 255.0]),\n",
    "            5:torch.FloatTensor([0.0, 255.0, 0.0])\n",
    "            }\n",
    "        \n",
    "        self.transforms = []\n",
    "        self.tf = transforms.Compose([transforms.ToTensor(), transforms.Resize((px_size,py_size))])\n",
    "        self.input_imgs = torch.stack([self.tf((Image.open(file))) for file in glob.glob(image_dir + '/*')]).to(dev)\n",
    "        self.label_imgs = torch.stack([self.get_labels(self.tf((Image.open(file)))) for file in glob.glob(label_dir + '/*')]).to(dev)\n",
    "        #self.add_colour()\n",
    "    \n",
    "    def __len__(self):\n",
    "        return len(self.input_imgs)\n",
    "\n",
    "\n",
    "    def __getitem__(self, idx):\n",
    "        input_img, label_img = self.input_imgs[idx], self.label_imgs[idx]\n",
    "        return input_img, label_img\n",
    "    \n",
    "    def col_sim(self, d):\n",
    "        d = d*255\n",
    "        a = torch.FloatTensor([torch.dist(d, self.colors[i]) for i in self.colors])\n",
    "        return torch.argmin(a) \n",
    "    \n",
    "    def view_shape(self):\n",
    "        print(self.label_imgs.shape)\n",
    "        print(self.input_imgs.shape)\n",
    "    \n",
    "    # (3, x, y)\n",
    "    def get_labels(self, x):\n",
    "        new_x = torch.zeros(px_size,px_size)\n",
    "        for i in range(px_size):\n",
    "            for j in range(px_size):\n",
    "                new_d3 = x.transpose(0,1).transpose(1,2)\n",
    "                new_x[i][j] = self.col_sim(new_d3[i][j])\n",
    "        return new_x\n",
    "    \n",
    "    def add_colour(self):\n",
    "        y = self.label_imgs.clone().detach()\n",
    "        for i in range(self.input_imgs.shape[0]):\n",
    "            self.input_imgs[i][0][y[i] == 3] += 0.3\n",
    "            self.input_imgs[i][1][y[i] == 4] += 0.3\n",
    "            self.input_imgs[i][2][y[i] == 5] += 0.3\n",
    "        self.input_imgs = self.input_imgs.clamp(0, 1)     \n",
    "        \n",
    "    def get_imgs(self, x):\n",
    "        new_x = torch.zeros(6,px_size,px_size)\n",
    "        for i in range(px_size):\n",
    "            for j in range(px_size):\n",
    "                new_d3 = x.transpose(0,1).transpose(1,2)\n",
    "                new_x[self.col_sim(new_d3[i][j])][i][j] = 1\n",
    "                \n",
    "        return new_x\n",
    "\n",
    "    \n",
    "\n",
    "    "
   ]
  },
  {
   "cell_type": "code",
   "execution_count": 7,
   "id": "desirable-ebony",
   "metadata": {},
   "outputs": [],
   "source": [
    "# Cross Entropy\n",
    "\n",
    "dsetCE = DatasetCE(\"Original\",\"Labeled\")"
   ]
  },
  {
   "cell_type": "code",
   "execution_count": 8,
   "id": "particular-camping",
   "metadata": {},
   "outputs": [
    {
     "data": {
      "image/png": "[encoded data removed]",
      "text/plain": [
       "<Figure size 432x288 with 1 Axes>"
      ]
     },
     "metadata": {
      "needs_background": "light"
     },
     "output_type": "display_data"
    }
   ],
   "source": [
    "distn = dsetCE.label_imgs.clone().detach().flatten().int()\n",
    "distn = np.asarray(distn.cpu())\n",
    "plt.hist(distn, 6)\n",
    "plt.xlabel(\"Segmentation Class\")\n",
    "plt.ylabel(\"Pixels in Class\")\n",
    "plt.savefig(\"pixeldistn.png\", bbox_inches='tight')"
   ]
  },
  {
   "cell_type": "code",
   "execution_count": 9,
   "id": "expanded-fashion",
   "metadata": {},
   "outputs": [],
   "source": [
    "train_DS, test_DS = torch.utils.data.random_split(dsetCE, [120, 30])\n",
    "train_loader_CE = torch.utils.data.DataLoader(train_DS, shuffle=True, batch_size=batch_size)\n",
    "test_loader_CE = torch.utils.data.DataLoader(test_DS, shuffle=True, batch_size=1)"
   ]
  },
  {
   "cell_type": "code",
   "execution_count": 7,
   "id": "million-seventh",
   "metadata": {},
   "outputs": [
    {
     "data": {
      "image/png": "[encoded data removed]",
      "text/plain": [
       "<Figure size 432x288 with 1 Axes>"
      ]
     },
     "metadata": {
      "needs_background": "light"
     },
     "output_type": "display_data"
    }
   ],
   "source": [
    "import torchvision\n",
    "\n",
    "def imshow(inp, title=None):\n",
    "    \"\"\"Imshow for Tensor.\"\"\"\n",
    "    inp = inp.cpu().numpy().transpose((1, 2, 0))\n",
    "    #mean = np.array([0.485, 0.456, 0.406])\n",
    "    #std = np.array([0.229, 0.224, 0.225])\n",
    "    #inp = std * inp + mean\n",
    "    #inp = np.clip(inp, 0, 1)\n",
    "    plt.imshow(inp)\n",
    "    if title is not None:\n",
    "        plt.title(title)\n",
    "    plt.pause(0.001)  # pause a bit so that plots are updated\n",
    "\n",
    "\n",
    "# Get a batch of training data\n",
    "# inputs contains 4 images because batch_size=4 for the dataloaders\n",
    "inputs, labels = next(iter(train_loader_CE))\n",
    "# Make a grid from batch\n",
    "out = torchvision.utils.make_grid(torch.cat((inputs, max_rgb(labels)),dim=0), nrow=batch_size)\n",
    "imshow(out, title=\"Sample Batch (Image and Ground Truth)\")\n"
   ]
  },
  {
   "cell_type": "code",
   "execution_count": 23,
   "id": "embedded-friendly",
   "metadata": {},
   "outputs": [],
   "source": [
    "# Cellular automata class\n",
    "class CAModel(nn.Module):\n",
    "\n",
    "    def __init__(self, channel_n, fire_rate=0.5, device=torch.device(\"cpu\")):\n",
    "        super(CAModel, self).__init__()\n",
    "\n",
    "        self.device = device\n",
    "        self.channel_n = channel_n\n",
    "\n",
    "        self.fire_rate = fire_rate\n",
    "        self.to(self.device)\n",
    "        \n",
    "        self.conv1 = nn.Conv2d(45, 32, kernel_size=3, padding=1)\n",
    "        #self.conv1a = nn.Conv2d(36,24, kernel_size=1, padding=1)\n",
    "        self.relu = nn.ReLU()\n",
    "        self.conv2 = nn.Conv2d(32, 16, kernel_size=1)\n",
    "        self.conv3 = nn.Conv2d(16, 6, kernel_size=1)\n",
    "        \n",
    "        self.pre_weight1 = nn.Conv2d(9, 9, kernel_size=3, padding=1)\n",
    "        self.pre_weight2 = nn.Conv2d(9, 9, kernel_size=3, padding=1)\n",
    "        self.pre_weight3 = nn.Conv2d(9, 9, kernel_size=3, padding=1)\n",
    "        self.pre_weight4 = nn.Conv2d(9, 9, kernel_size=3, padding=1)\n",
    "        \n",
    "    def perceive(self, x, angle):\n",
    "\n",
    "        def _perceive_with(x, weight):\n",
    "            size = weight.shape[0]\n",
    "            padding = (size-1)/2\n",
    "            weight = weight.view(1,1,size,size).repeat(self.channel_n, 1, 1, 1)\n",
    "            return F.conv2d(x, weight, padding=int(padding), groups=self.channel_n)\n",
    "        \n",
    "        # 3x3 sobel operators\n",
    "        wa_1 = self.sobel_x\n",
    "        wa_2 = self.sobel_y\n",
    "        wa_3 = self.prewitt_x\n",
    "        wa_4 = self.prewitt_y\n",
    "        \n",
    "        # Normalise these\n",
    "        wa_1/=torch.sum(torch.abs(wa_1))\n",
    "        wa_2/=torch.sum(torch.abs(wa_2))\n",
    "        wa_3/=torch.sum(torch.abs(wa_3))\n",
    "        wa_4/=torch.sum(torch.abs(wa_4))\n",
    "\n",
    "        # Apply convolutions with the 4 of these filters\n",
    "        y1 = _perceive_with(x, wa_1)\n",
    "        y2 = _perceive_with(x, wa_2)\n",
    "        y3 = _perceive_with(x, wa_1)\n",
    "        y4 = _perceive_with(x, wa_2)\n",
    "\n",
    "        # Concatenate: x (6 channels), 4 sobel filters (6 channels each), max pool (6 channels) = 36 total\n",
    "        y = torch.cat((x,y1,y2,y3,y4),1)\n",
    "        return y\n",
    "\n",
    "\n",
    "    def forward(self, steps, x, last=False):\n",
    "        x = torch.cat((x, torch.zeros(batch_size,6,px_size,px_size).to(dev)), dim=1)\n",
    "        if last == True:\n",
    "            epoch_history = []\n",
    "            for i in range(steps):\n",
    "                epoch_history.append(x.detach()[:,3:9,:])\n",
    "                b1 = self.pre_weight1(x)\n",
    "                b2 = self.pre_weight2(x)\n",
    "                b3 = self.pre_weight3(x)\n",
    "                b4 = self.pre_weight4(x)\n",
    "                \n",
    "                b = torch.cat((x, b1, b2, b3, b4), dim=1)\n",
    "                bb = self.conv3(self.conv2(((self.relu(self.conv1(b))))))\n",
    "                \n",
    "                c = x.detach().clone()\n",
    "                stochastic = torch.rand([bb.size(0),bb.size(1),bb.size(2),bb.size(3)])<self.fire_rate\n",
    "                stochastic = stochastic.float().to(self.device)\n",
    "\n",
    "                d = bb*stochastic\n",
    "                e = c.transpose(0,1)[3:9].transpose(0,1) + d\n",
    "                f = F.softmax(e, dim=1)\n",
    "                \n",
    "                x = torch.cat((c.transpose(0,1)[0:3].transpose(0,1),f),dim=1)\n",
    "                \n",
    "            return x, epoch_history\n",
    "                \n",
    "        else:\n",
    "            for i in range(steps):\n",
    "                b1 = self.pre_weight1(x)\n",
    "                b2 = self.pre_weight2(x)\n",
    "                b3 = self.pre_weight3(x)\n",
    "                b4 = self.pre_weight4(x)\n",
    "                \n",
    "                b = torch.cat((x, b1, b2, b3, b4), dim=1)\n",
    "                bb = self.conv3(self.conv2(((self.relu(self.conv1(b))))))\n",
    "                \n",
    "                c = x.detach().clone()\n",
    "                stochastic = torch.rand([bb.size(0),bb.size(1),bb.size(2),bb.size(3)])<self.fire_rate\n",
    "                stochastic = stochastic.float().to(self.device)\n",
    "\n",
    "                d = bb*stochastic\n",
    "                e = c.transpose(0,1)[3:9].transpose(0,1) + d\n",
    "                f = F.softmax(e, dim=1)\n",
    "                \n",
    "                x = torch.cat((c.transpose(0,1)[0:3].transpose(0,1),f),dim=1)\n",
    "            return x"
   ]
  },
  {
   "cell_type": "code",
   "execution_count": 24,
   "id": "widespread-archive",
   "metadata": {},
   "outputs": [],
   "source": [
    "# Load model, set loss function, optimizer and scheduler\n",
    "\n",
    "model = CAModel(9,fire_rate=0.5,device=dev)\n",
    "#model = torch.load('modelcollab1.pth')\n",
    "model.cuda()\n",
    "optimizer = optim.Adam(model.parameters(), lr=0.0005, betas=(0.9, 0.999))\n",
    "#scheduler = optim.lr_scheduler.ExponentialLR(optimizer, 0.999)\n",
    "scheduler = torch.optim.lr_scheduler.MultiStepLR(optimizer, [30,60,90], 0.6)\n",
    "#loss1 = torch.nn.MSELoss(size_average=None, reduce=None, reduction='mean')\n",
    "\n",
    "# RED, BROWN, YELLOW, LBLUE, DBLUE, GREEN\n",
    "w = torch.FloatTensor([1.2,1, 1.05, 9, 12, 8.8]).to(dev)\n",
    "loss2 = torch.nn.CrossEntropyLoss(weight=w, size_average=None, ignore_index=-100, reduce=None, reduction='mean')\n",
    "#loss = torch.nn.KLDivLoss(size_average=None, reduce=None, reduction='mean', log_target=False)\n",
    "#loss = FocalLoss()\n",
    "loss_mse = []\n",
    "loss_ce = []\n",
    "history = []\n",
    "epochs = 200\n",
    "\n",
    "batch_size=10"
   ]
  },
  {
   "cell_type": "code",
   "execution_count": 12,
   "id": "cutting-maine",
   "metadata": {},
   "outputs": [
    {
     "name": "stdout",
     "output_type": "stream",
     "text": [
      "19780\n"
     ]
    }
   ],
   "source": [
    "# Print number of model parameters\n",
    "model_parameters = filter(lambda p: p.requires_grad, model.parameters())\n",
    "params = sum([np.prod(p.size()) for p in model_parameters])\n",
    "print(params)"
   ]
  },
  {
   "cell_type": "code",
   "execution_count": 112,
   "id": "comprehensive-width",
   "metadata": {},
   "outputs": [],
   "source": [
    "mask1 = torch.zeros(1,6,55,55).to(dev)\n",
    "mask2 = torch.zeros(1,6,55,55).to(dev)\n",
    "k = mask1.shape[2]\n",
    "for i in range(k):\n",
    "    for j in range(k):\n",
    "        mask1[:,:,i,j] = (i + j + 1) % 2\n",
    "        mask2[:,:,i,j] = (i + j) % 2"
   ]
  },
  {
   "cell_type": "code",
   "execution_count": null,
   "id": "compliant-sociology",
   "metadata": {
    "scrolled": true
   },
   "outputs": [],
   "source": [
    "for epoch in range(epochs):\n",
    "    i = 0\n",
    "    last = False\n",
    "    if epoch == epochs-1:\n",
    "        last = True\n",
    "    for batch in train_loader_MSE:\n",
    "        inputs, targets = batch\n",
    "        if last == True:\n",
    "            x, epoch_history = model.forward(130, inputs, last=last)\n",
    "        else:\n",
    "            x = model.forward(130, inputs, last=last)\n",
    "            \n",
    "        b = get_rgb(x)\n",
    "        out = loss1(b,targets)\n",
    "        print(\"Loss =\", out)\n",
    "        loss_mse.append(float(out))\n",
    "        c = b.detach().clone()\n",
    "        if (i % 5 == 0):\n",
    "            print(\"EPOCH: \", epoch)\n",
    "            display(ts(max_rgb(c)[0]))\n",
    "            del c\n",
    "            \n",
    "        i += 1\n",
    "        optimizer.zero_grad()\n",
    "        out.backward()\n",
    "        optimizer.step()"
   ]
  },
  {
   "cell_type": "code",
   "execution_count": 19,
   "id": "structured-completion",
   "metadata": {},
   "outputs": [],
   "source": [
    "torch.save(model, 'modelMSE.pth')"
   ]
  },
  {
   "cell_type": "code",
   "execution_count": null,
   "id": "modern-exploration",
   "metadata": {},
   "outputs": [],
   "source": [
    "from array2gif import write_gif\n",
    "eh = [(max_rgb(epoch_history[i])[1]*255).cpu().detach().numpy() for i in range(len(epoch_history))]\n",
    "#eh = [(max_rgb(epoch_history[i][0])*255).cpu().detach().numpy() for i in range(len(epoch_history))]\n",
    "\n",
    "write_gif(eh, 'final.gif', fps=1)\n",
    "#eh[0].shape\n",
    "#torch.stack(epoch_history)[0].shape"
   ]
  },
  {
   "cell_type": "code",
   "execution_count": 25,
   "id": "anticipated-understanding",
   "metadata": {
    "scrolled": true
   },
   "outputs": [
    {
     "name": "stdout",
     "output_type": "stream",
     "text": [
      "Loss = tensor(1.7958, device='cuda:0', grad_fn=<NllLoss2DBackward>)\n",
      "EPOCH:  0\n"
     ]
    },
    {
     "data": {
      "image/png": "[encoded data removed]",
      "text/plain": [
       "<PIL.Image.Image image mode=RGB size=60x60 at 0x7FE74024FEE0>"
      ]
     },
     "metadata": {},
     "output_type": "display_data"
    },
    {
     "name": "stdout",
     "output_type": "stream",
     "text": [
      "Learning rate:  0.0005\n",
      "Loss = tensor(1.7944, device='cuda:0', grad_fn=<NllLoss2DBackward>)\n",
      "Loss = tensor(1.7934, device='cuda:0', grad_fn=<NllLoss2DBackward>)\n",
      "Loss = tensor(1.7921, device='cuda:0', grad_fn=<NllLoss2DBackward>)\n",
      "Loss = tensor(1.7909, device='cuda:0', grad_fn=<NllLoss2DBackward>)\n",
      "Loss = tensor(1.7890, device='cuda:0', grad_fn=<NllLoss2DBackward>)\n",
      "EPOCH:  0\n"
     ]
    },
    {
     "data": {
      "image/png": "[encoded data removed]",
      "text/plain": [
       "<PIL.Image.Image image mode=RGB size=60x60 at 0x7FE74024F550>"
      ]
     },
     "metadata": {},
     "output_type": "display_data"
    },
    {
     "name": "stdout",
     "output_type": "stream",
     "text": [
      "Learning rate:  0.0005\n",
      "Loss = tensor(1.7883, device='cuda:0', grad_fn=<NllLoss2DBackward>)\n",
      "Loss = tensor(1.7873, device='cuda:0', grad_fn=<NllLoss2DBackward>)\n",
      "Loss = tensor(1.7852, device='cuda:0', grad_fn=<NllLoss2DBackward>)\n",
      "Loss = tensor(1.7840, device='cuda:0', grad_fn=<NllLoss2DBackward>)\n",
      "Loss = tensor(1.7812, device='cuda:0', grad_fn=<NllLoss2DBackward>)\n",
      "EPOCH:  0\n"
     ]
    },
    {
     "data": {
      "image/png": "[encoded data removed]",
      "text/plain": [
       "<PIL.Image.Image image mode=RGB size=60x60 at 0x7FE74024F190>"
      ]
     },
     "metadata": {},
     "output_type": "display_data"
    },
    {
     "name": "stdout",
     "output_type": "stream",
     "text": [
      "Learning rate:  0.0005\n",
      "Loss = tensor(1.7790, device='cuda:0', grad_fn=<NllLoss2DBackward>)\n",
      "Loss = tensor(1.7764, device='cuda:0', grad_fn=<NllLoss2DBackward>)\n",
      "EPOCH:  1\n"
     ]
    },
    {
     "data": {
      "image/png": "[encoded data removed]",
      "text/plain": [
       "<PIL.Image.Image image mode=RGB size=60x60 at 0x7FE74024F550>"
      ]
     },
     "metadata": {},
     "output_type": "display_data"
    },
    {
     "name": "stdout",
     "output_type": "stream",
     "text": [
      "Learning rate:  0.0005\n",
      "Loss = tensor(1.7767, device='cuda:0', grad_fn=<NllLoss2DBackward>)\n",
      "Loss = tensor(1.7667, device='cuda:0', grad_fn=<NllLoss2DBackward>)\n",
      "Loss = tensor(1.7673, device='cuda:0', grad_fn=<NllLoss2DBackward>)\n",
      "Loss = tensor(1.7634, device='cuda:0', grad_fn=<NllLoss2DBackward>)\n",
      "Loss = tensor(1.7559, device='cuda:0', grad_fn=<NllLoss2DBackward>)\n",
      "EPOCH:  1\n"
     ]
    },
    {
     "data": {
      "image/png": "[encoded data removed]",
      "text/plain": [
       "<PIL.Image.Image image mode=RGB size=60x60 at 0x7FE74024FC40>"
      ]
     },
     "metadata": {},
     "output_type": "display_data"
    },
    {
     "name": "stdout",
     "output_type": "stream",
     "text": [
      "Learning rate:  0.0005\n",
      "Loss = tensor(1.7470, device='cuda:0', grad_fn=<NllLoss2DBackward>)\n",
      "Loss = tensor(1.7518, device='cuda:0', grad_fn=<NllLoss2DBackward>)\n",
      "Loss = tensor(1.7450, device='cuda:0', grad_fn=<NllLoss2DBackward>)\n",
      "Loss = tensor(1.7429, device='cuda:0', grad_fn=<NllLoss2DBackward>)\n",
      "Loss = tensor(1.7438, device='cuda:0', grad_fn=<NllLoss2DBackward>)\n",
      "EPOCH:  1\n"
     ]
    },
    {
     "data": {
      "image/png": "[encoded data removed]",
      "text/plain": [
       "<PIL.Image.Image image mode=RGB size=60x60 at 0x7FE74024F550>"
      ]
     },
     "metadata": {},
     "output_type": "display_data"
    },
    {
     "name": "stdout",
     "output_type": "stream",
     "text": [
      "Learning rate:  0.0005\n",
      "Loss = tensor(1.7313, device='cuda:0', grad_fn=<NllLoss2DBackward>)\n",
      "Loss = tensor(1.7435, device='cuda:0', grad_fn=<NllLoss2DBackward>)\n",
      "EPOCH:  2\n"
     ]
    },
    {
     "data": {
      "image/png": "[encoded data removed]",
      "text/plain": [
       "<PIL.Image.Image image mode=RGB size=60x60 at 0x7FE74024F550>"
      ]
     },
     "metadata": {},
     "output_type": "display_data"
    },
    {
     "name": "stdout",
     "output_type": "stream",
     "text": [
      "Learning rate:  0.0005\n",
      "Loss = tensor(1.7318, device='cuda:0', grad_fn=<NllLoss2DBackward>)\n",
      "Loss = tensor(1.7249, device='cuda:0', grad_fn=<NllLoss2DBackward>)\n",
      "Loss = tensor(1.7141, device='cuda:0', grad_fn=<NllLoss2DBackward>)\n",
      "Loss = tensor(1.7221, device='cuda:0', grad_fn=<NllLoss2DBackward>)\n",
      "Loss = tensor(1.7184, device='cuda:0', grad_fn=<NllLoss2DBackward>)\n",
      "EPOCH:  2\n"
     ]
    },
    {
     "data": {
      "image/png": "[encoded data removed]",
      "text/plain": [
       "<PIL.Image.Image image mode=RGB size=60x60 at 0x7FE74024F550>"
      ]
     },
     "metadata": {},
     "output_type": "display_data"
    },
    {
     "name": "stdout",
     "output_type": "stream",
     "text": [
      "Learning rate:  0.0005\n",
      "Loss = tensor(1.7060, device='cuda:0', grad_fn=<NllLoss2DBackward>)\n",
      "Loss = tensor(1.7174, device='cuda:0', grad_fn=<NllLoss2DBackward>)\n",
      "Loss = tensor(1.7161, device='cuda:0', grad_fn=<NllLoss2DBackward>)\n",
      "Loss = tensor(1.7117, device='cuda:0', grad_fn=<NllLoss2DBackward>)\n",
      "Loss = tensor(1.7153, device='cuda:0', grad_fn=<NllLoss2DBackward>)\n",
      "EPOCH:  2\n"
     ]
    },
    {
     "data": {
      "image/png": "[encoded data removed]",
      "text/plain": [
       "<PIL.Image.Image image mode=RGB size=60x60 at 0x7FE74024FC40>"
      ]
     },
     "metadata": {},
     "output_type": "display_data"
    },
    {
     "name": "stdout",
     "output_type": "stream",
     "text": [
      "Learning rate:  0.0005\n",
      "Loss = tensor(1.7180, device='cuda:0', grad_fn=<NllLoss2DBackward>)\n",
      "Loss = tensor(1.7144, device='cuda:0', grad_fn=<NllLoss2DBackward>)\n",
      "EPOCH:  3\n"
     ]
    },
    {
     "data": {
      "image/png": "[encoded data removed]",
      "text/plain": [
       "<PIL.Image.Image image mode=RGB size=60x60 at 0x7FE74024FC40>"
      ]
     },
     "metadata": {},
     "output_type": "display_data"
    },
    {
     "name": "stdout",
     "output_type": "stream",
     "text": [
      "Learning rate:  0.0005\n",
      "Loss = tensor(1.7062, device='cuda:0', grad_fn=<NllLoss2DBackward>)\n",
      "Loss = tensor(1.7115, device='cuda:0', grad_fn=<NllLoss2DBackward>)\n",
      "Loss = tensor(1.7138, device='cuda:0', grad_fn=<NllLoss2DBackward>)\n",
      "Loss = tensor(1.7020, device='cuda:0', grad_fn=<NllLoss2DBackward>)\n",
      "Loss = tensor(1.6982, device='cuda:0', grad_fn=<NllLoss2DBackward>)\n",
      "EPOCH:  3\n"
     ]
    },
    {
     "data": {
      "image/png": "[encoded data removed]",
      "text/plain": [
       "<PIL.Image.Image image mode=RGB size=60x60 at 0x7FE74024F550>"
      ]
     },
     "metadata": {},
     "output_type": "display_data"
    },
    {
     "name": "stdout",
     "output_type": "stream",
     "text": [
      "Learning rate:  0.0005\n",
      "Loss = tensor(1.6996, device='cuda:0', grad_fn=<NllLoss2DBackward>)\n",
      "Loss = tensor(1.6952, device='cuda:0', grad_fn=<NllLoss2DBackward>)\n",
      "Loss = tensor(1.6960, device='cuda:0', grad_fn=<NllLoss2DBackward>)\n",
      "Loss = tensor(1.6822, device='cuda:0', grad_fn=<NllLoss2DBackward>)\n",
      "Loss = tensor(1.6873, device='cuda:0', grad_fn=<NllLoss2DBackward>)\n",
      "EPOCH:  3\n"
     ]
    },
    {
     "data": {
      "image/png": "[encoded data removed]",
      "text/plain": [
       "<PIL.Image.Image image mode=RGB size=60x60 at 0x7FE74024F550>"
      ]
     },
     "metadata": {},
     "output_type": "display_data"
    },
    {
     "name": "stdout",
     "output_type": "stream",
     "text": [
      "Learning rate:  0.0005\n",
      "Loss = tensor(1.6931, device='cuda:0', grad_fn=<NllLoss2DBackward>)\n",
      "Loss = tensor(1.6875, device='cuda:0', grad_fn=<NllLoss2DBackward>)\n",
      "EPOCH:  4\n"
     ]
    },
    {
     "data": {
      "image/png": "[encoded data removed]",
      "text/plain": [
       "<PIL.Image.Image image mode=RGB size=60x60 at 0x7FE74024FEE0>"
      ]
     },
     "metadata": {},
     "output_type": "display_data"
    },
    {
     "name": "stdout",
     "output_type": "stream",
     "text": [
      "Learning rate:  0.0005\n",
      "Loss = tensor(1.6865, device='cuda:0', grad_fn=<NllLoss2DBackward>)\n",
      "Loss = tensor(1.6783, device='cuda:0', grad_fn=<NllLoss2DBackward>)\n",
      "Loss = tensor(1.6739, device='cuda:0', grad_fn=<NllLoss2DBackward>)\n",
      "Loss = tensor(1.6780, device='cuda:0', grad_fn=<NllLoss2DBackward>)\n",
      "Loss = tensor(1.6669, device='cuda:0', grad_fn=<NllLoss2DBackward>)\n",
      "EPOCH:  4\n"
     ]
    },
    {
     "data": {
      "image/png": "[encoded data removed]",
      "text/plain": [
       "<PIL.Image.Image image mode=RGB size=60x60 at 0x7FE74024F190>"
      ]
     },
     "metadata": {},
     "output_type": "display_data"
    },
    {
     "name": "stdout",
     "output_type": "stream",
     "text": [
      "Learning rate:  0.0005\n",
      "Loss = tensor(1.6693, device='cuda:0', grad_fn=<NllLoss2DBackward>)\n",
      "Loss = tensor(1.6488, device='cuda:0', grad_fn=<NllLoss2DBackward>)\n",
      "Loss = tensor(1.6562, device='cuda:0', grad_fn=<NllLoss2DBackward>)\n",
      "Loss = tensor(1.6559, device='cuda:0', grad_fn=<NllLoss2DBackward>)\n",
      "Loss = tensor(1.6623, device='cuda:0', grad_fn=<NllLoss2DBackward>)\n",
      "EPOCH:  4\n"
     ]
    },
    {
     "data": {
      "image/png": "[encoded data removed]",
      "text/plain": [
       "<PIL.Image.Image image mode=RGB size=60x60 at 0x7FE74024FC40>"
      ]
     },
     "metadata": {},
     "output_type": "display_data"
    },
    {
     "name": "stdout",
     "output_type": "stream",
     "text": [
      "Learning rate:  0.0005\n",
      "Loss = tensor(1.6655, device='cuda:0', grad_fn=<NllLoss2DBackward>)\n",
      "Loss = tensor(1.6421, device='cuda:0', grad_fn=<NllLoss2DBackward>)\n",
      "EPOCH:  5\n"
     ]
    },
    {
     "data": {
      "image/png": "[encoded data removed]",
      "text/plain": [
       "<PIL.Image.Image image mode=RGB size=60x60 at 0x7FE74024F550>"
      ]
     },
     "metadata": {},
     "output_type": "display_data"
    },
    {
     "name": "stdout",
     "output_type": "stream",
     "text": [
      "Learning rate:  0.0005\n",
      "Loss = tensor(1.6452, device='cuda:0', grad_fn=<NllLoss2DBackward>)\n",
      "Loss = tensor(1.6455, device='cuda:0', grad_fn=<NllLoss2DBackward>)\n",
      "Loss = tensor(1.6420, device='cuda:0', grad_fn=<NllLoss2DBackward>)\n",
      "Loss = tensor(1.6380, device='cuda:0', grad_fn=<NllLoss2DBackward>)\n",
      "Loss = tensor(1.6358, device='cuda:0', grad_fn=<NllLoss2DBackward>)\n",
      "EPOCH:  5\n"
     ]
    },
    {
     "data": {
      "image/png": "[encoded data removed]",
      "text/plain": [
       "<PIL.Image.Image image mode=RGB size=60x60 at 0x7FE74024F550>"
      ]
     },
     "metadata": {},
     "output_type": "display_data"
    },
    {
     "name": "stdout",
     "output_type": "stream",
     "text": [
      "Learning rate:  0.0005\n",
      "Loss = tensor(1.6261, device='cuda:0', grad_fn=<NllLoss2DBackward>)\n",
      "Loss = tensor(1.6434, device='cuda:0', grad_fn=<NllLoss2DBackward>)\n",
      "Loss = tensor(1.5984, device='cuda:0', grad_fn=<NllLoss2DBackward>)\n",
      "Loss = tensor(1.6094, device='cuda:0', grad_fn=<NllLoss2DBackward>)\n",
      "Loss = tensor(1.6458, device='cuda:0', grad_fn=<NllLoss2DBackward>)\n",
      "EPOCH:  5\n"
     ]
    },
    {
     "data": {
      "image/png": "[encoded data removed]",
      "text/plain": [
       "<PIL.Image.Image image mode=RGB size=60x60 at 0x7FE74024F550>"
      ]
     },
     "metadata": {},
     "output_type": "display_data"
    },
    {
     "name": "stdout",
     "output_type": "stream",
     "text": [
      "Learning rate:  0.0005\n",
      "Loss = tensor(1.6094, device='cuda:0', grad_fn=<NllLoss2DBackward>)\n",
      "Loss = tensor(1.6088, device='cuda:0', grad_fn=<NllLoss2DBackward>)\n",
      "EPOCH:  6\n"
     ]
    },
    {
     "data": {
      "image/png": "[encoded data removed]",
      "text/plain": [
       "<PIL.Image.Image image mode=RGB size=60x60 at 0x7FE74024F190>"
      ]
     },
     "metadata": {},
     "output_type": "display_data"
    },
    {
     "name": "stdout",
     "output_type": "stream",
     "text": [
      "Learning rate:  0.0005\n",
      "Loss = tensor(1.6290, device='cuda:0', grad_fn=<NllLoss2DBackward>)\n",
      "Loss = tensor(1.6244, device='cuda:0', grad_fn=<NllLoss2DBackward>)\n",
      "Loss = tensor(1.6290, device='cuda:0', grad_fn=<NllLoss2DBackward>)\n",
      "Loss = tensor(1.6165, device='cuda:0', grad_fn=<NllLoss2DBackward>)\n",
      "Loss = tensor(1.6085, device='cuda:0', grad_fn=<NllLoss2DBackward>)\n",
      "EPOCH:  6\n"
     ]
    },
    {
     "data": {
      "image/png": "[encoded data removed]",
      "text/plain": [
       "<PIL.Image.Image image mode=RGB size=60x60 at 0x7FE74024FEE0>"
      ]
     },
     "metadata": {},
     "output_type": "display_data"
    },
    {
     "name": "stdout",
     "output_type": "stream",
     "text": [
      "Learning rate:  0.0005\n",
      "Loss = tensor(1.5932, device='cuda:0', grad_fn=<NllLoss2DBackward>)\n",
      "Loss = tensor(1.6339, device='cuda:0', grad_fn=<NllLoss2DBackward>)\n",
      "Loss = tensor(1.6334, device='cuda:0', grad_fn=<NllLoss2DBackward>)\n",
      "Loss = tensor(1.5967, device='cuda:0', grad_fn=<NllLoss2DBackward>)\n",
      "Loss = tensor(1.6080, device='cuda:0', grad_fn=<NllLoss2DBackward>)\n",
      "EPOCH:  6\n"
     ]
    },
    {
     "data": {
      "image/png": "[encoded data removed]",
      "text/plain": [
       "<PIL.Image.Image image mode=RGB size=60x60 at 0x7FE74024F190>"
      ]
     },
     "metadata": {},
     "output_type": "display_data"
    },
    {
     "name": "stdout",
     "output_type": "stream",
     "text": [
      "Learning rate:  0.0005\n",
      "Loss = tensor(1.6192, device='cuda:0', grad_fn=<NllLoss2DBackward>)\n",
      "Loss = tensor(1.6190, device='cuda:0', grad_fn=<NllLoss2DBackward>)\n",
      "EPOCH:  7\n"
     ]
    },
    {
     "data": {
      "image/png": "[encoded data removed]",
      "text/plain": [
       "<PIL.Image.Image image mode=RGB size=60x60 at 0x7FE74024F550>"
      ]
     },
     "metadata": {},
     "output_type": "display_data"
    },
    {
     "name": "stdout",
     "output_type": "stream",
     "text": [
      "Learning rate:  0.0005\n",
      "Loss = tensor(1.6019, device='cuda:0', grad_fn=<NllLoss2DBackward>)\n",
      "Loss = tensor(1.6092, device='cuda:0', grad_fn=<NllLoss2DBackward>)\n",
      "Loss = tensor(1.6320, device='cuda:0', grad_fn=<NllLoss2DBackward>)\n",
      "Loss = tensor(1.6051, device='cuda:0', grad_fn=<NllLoss2DBackward>)\n",
      "Loss = tensor(1.6033, device='cuda:0', grad_fn=<NllLoss2DBackward>)\n",
      "EPOCH:  7\n"
     ]
    },
    {
     "data": {
      "image/png": "[encoded data removed]",
      "text/plain": [
       "<PIL.Image.Image image mode=RGB size=60x60 at 0x7FE74024F550>"
      ]
     },
     "metadata": {},
     "output_type": "display_data"
    },
    {
     "name": "stdout",
     "output_type": "stream",
     "text": [
      "Learning rate:  0.0005\n",
      "Loss = tensor(1.6063, device='cuda:0', grad_fn=<NllLoss2DBackward>)\n",
      "Loss = tensor(1.6080, device='cuda:0', grad_fn=<NllLoss2DBackward>)\n",
      "Loss = tensor(1.6076, device='cuda:0', grad_fn=<NllLoss2DBackward>)\n",
      "Loss = tensor(1.6212, device='cuda:0', grad_fn=<NllLoss2DBackward>)\n",
      "Loss = tensor(1.6081, device='cuda:0', grad_fn=<NllLoss2DBackward>)\n",
      "EPOCH:  7\n"
     ]
    },
    {
     "data": {
      "image/png": "[encoded data removed]",
      "text/plain": [
       "<PIL.Image.Image image mode=RGB size=60x60 at 0x7FE74024F550>"
      ]
     },
     "metadata": {},
     "output_type": "display_data"
    },
    {
     "name": "stdout",
     "output_type": "stream",
     "text": [
      "Learning rate:  0.0005\n",
      "Loss = tensor(1.6169, device='cuda:0', grad_fn=<NllLoss2DBackward>)\n",
      "Loss = tensor(1.6201, device='cuda:0', grad_fn=<NllLoss2DBackward>)\n",
      "EPOCH:  8\n"
     ]
    },
    {
     "data": {
      "image/png": "[encoded data removed]",
      "text/plain": [
       "<PIL.Image.Image image mode=RGB size=60x60 at 0x7FE74024FEE0>"
      ]
     },
     "metadata": {},
     "output_type": "display_data"
    },
    {
     "name": "stdout",
     "output_type": "stream",
     "text": [
      "Learning rate:  0.0005\n",
      "Loss = tensor(1.6079, device='cuda:0', grad_fn=<NllLoss2DBackward>)\n",
      "Loss = tensor(1.6398, device='cuda:0', grad_fn=<NllLoss2DBackward>)\n",
      "Loss = tensor(1.6174, device='cuda:0', grad_fn=<NllLoss2DBackward>)\n",
      "Loss = tensor(1.6384, device='cuda:0', grad_fn=<NllLoss2DBackward>)\n",
      "Loss = tensor(1.5973, device='cuda:0', grad_fn=<NllLoss2DBackward>)\n",
      "EPOCH:  8\n"
     ]
    },
    {
     "data": {
      "image/png": "[encoded data removed]",
      "text/plain": [
       "<PIL.Image.Image image mode=RGB size=60x60 at 0x7FE74024F550>"
      ]
     },
     "metadata": {},
     "output_type": "display_data"
    },
    {
     "name": "stdout",
     "output_type": "stream",
     "text": [
      "Learning rate:  0.0005\n",
      "Loss = tensor(1.5932, device='cuda:0', grad_fn=<NllLoss2DBackward>)\n",
      "Loss = tensor(1.5982, device='cuda:0', grad_fn=<NllLoss2DBackward>)\n",
      "Loss = tensor(1.6016, device='cuda:0', grad_fn=<NllLoss2DBackward>)\n",
      "Loss = tensor(1.6238, device='cuda:0', grad_fn=<NllLoss2DBackward>)\n",
      "Loss = tensor(1.5795, device='cuda:0', grad_fn=<NllLoss2DBackward>)\n",
      "EPOCH:  8\n"
     ]
    },
    {
     "data": {
      "image/png": "[encoded data removed]",
      "text/plain": [
       "<PIL.Image.Image image mode=RGB size=60x60 at 0x7FE74024F550>"
      ]
     },
     "metadata": {},
     "output_type": "display_data"
    },
    {
     "name": "stdout",
     "output_type": "stream",
     "text": [
      "Learning rate:  0.0005\n",
      "Loss = tensor(1.6139, device='cuda:0', grad_fn=<NllLoss2DBackward>)\n",
      "Loss = tensor(1.6013, device='cuda:0', grad_fn=<NllLoss2DBackward>)\n",
      "EPOCH:  9\n"
     ]
    },
    {
     "data": {
      "image/png": "[encoded data removed]",
      "text/plain": [
       "<PIL.Image.Image image mode=RGB size=60x60 at 0x7FE74024FEE0>"
      ]
     },
     "metadata": {},
     "output_type": "display_data"
    },
    {
     "name": "stdout",
     "output_type": "stream",
     "text": [
      "Learning rate:  0.0005\n",
      "Loss = tensor(1.6129, device='cuda:0', grad_fn=<NllLoss2DBackward>)\n",
      "Loss = tensor(1.6185, device='cuda:0', grad_fn=<NllLoss2DBackward>)\n",
      "Loss = tensor(1.6089, device='cuda:0', grad_fn=<NllLoss2DBackward>)\n",
      "Loss = tensor(1.6174, device='cuda:0', grad_fn=<NllLoss2DBackward>)\n",
      "Loss = tensor(1.6037, device='cuda:0', grad_fn=<NllLoss2DBackward>)\n",
      "EPOCH:  9\n"
     ]
    },
    {
     "data": {
      "image/png": "[encoded data removed]",
      "text/plain": [
       "<PIL.Image.Image image mode=RGB size=60x60 at 0x7FE74024F550>"
      ]
     },
     "metadata": {},
     "output_type": "display_data"
    },
    {
     "name": "stdout",
     "output_type": "stream",
     "text": [
      "Learning rate:  0.0005\n",
      "Loss = tensor(1.6135, device='cuda:0', grad_fn=<NllLoss2DBackward>)\n",
      "Loss = tensor(1.6219, device='cuda:0', grad_fn=<NllLoss2DBackward>)\n",
      "Loss = tensor(1.5982, device='cuda:0', grad_fn=<NllLoss2DBackward>)\n",
      "Loss = tensor(1.6272, device='cuda:0', grad_fn=<NllLoss2DBackward>)\n",
      "Loss = tensor(1.6022, device='cuda:0', grad_fn=<NllLoss2DBackward>)\n",
      "EPOCH:  9\n"
     ]
    },
    {
     "data": {
      "image/png": "[encoded data removed]",
      "text/plain": [
       "<PIL.Image.Image image mode=RGB size=60x60 at 0x7FE74024FEE0>"
      ]
     },
     "metadata": {},
     "output_type": "display_data"
    },
    {
     "name": "stdout",
     "output_type": "stream",
     "text": [
      "Learning rate:  0.0005\n",
      "Loss = tensor(1.5994, device='cuda:0', grad_fn=<NllLoss2DBackward>)\n",
      "Loss = tensor(1.5946, device='cuda:0', grad_fn=<NllLoss2DBackward>)\n",
      "EPOCH:  10\n"
     ]
    },
    {
     "data": {
      "image/png": "[encoded data removed]",
      "text/plain": [
       "<PIL.Image.Image image mode=RGB size=60x60 at 0x7FE74024FEE0>"
      ]
     },
     "metadata": {},
     "output_type": "display_data"
    },
    {
     "name": "stdout",
     "output_type": "stream",
     "text": [
      "Learning rate:  0.0005\n",
      "Loss = tensor(1.6156, device='cuda:0', grad_fn=<NllLoss2DBackward>)\n",
      "Loss = tensor(1.6129, device='cuda:0', grad_fn=<NllLoss2DBackward>)\n",
      "Loss = tensor(1.6148, device='cuda:0', grad_fn=<NllLoss2DBackward>)\n",
      "Loss = tensor(1.6124, device='cuda:0', grad_fn=<NllLoss2DBackward>)\n",
      "Loss = tensor(1.6287, device='cuda:0', grad_fn=<NllLoss2DBackward>)\n",
      "EPOCH:  10\n"
     ]
    },
    {
     "data": {
      "image/png": "[encoded data removed]",
      "text/plain": [
       "<PIL.Image.Image image mode=RGB size=60x60 at 0x7FE74024FEE0>"
      ]
     },
     "metadata": {},
     "output_type": "display_data"
    },
    {
     "name": "stdout",
     "output_type": "stream",
     "text": [
      "Learning rate:  0.0005\n",
      "Loss = tensor(1.6082, device='cuda:0', grad_fn=<NllLoss2DBackward>)\n",
      "Loss = tensor(1.5931, device='cuda:0', grad_fn=<NllLoss2DBackward>)\n",
      "Loss = tensor(1.6297, device='cuda:0', grad_fn=<NllLoss2DBackward>)\n",
      "Loss = tensor(1.6047, device='cuda:0', grad_fn=<NllLoss2DBackward>)\n",
      "Loss = tensor(1.6015, device='cuda:0', grad_fn=<NllLoss2DBackward>)\n",
      "EPOCH:  10\n"
     ]
    },
    {
     "data": {
      "image/png": "[encoded data removed]",
      "text/plain": [
       "<PIL.Image.Image image mode=RGB size=60x60 at 0x7FE74024F550>"
      ]
     },
     "metadata": {},
     "output_type": "display_data"
    },
    {
     "name": "stdout",
     "output_type": "stream",
     "text": [
      "Learning rate:  0.0005\n",
      "Loss = tensor(1.5978, device='cuda:0', grad_fn=<NllLoss2DBackward>)\n",
      "Loss = tensor(1.6256, device='cuda:0', grad_fn=<NllLoss2DBackward>)\n",
      "EPOCH:  11\n"
     ]
    },
    {
     "data": {
      "image/png": "[encoded data removed]",
      "text/plain": [
       "<PIL.Image.Image image mode=RGB size=60x60 at 0x7FE74024F550>"
      ]
     },
     "metadata": {},
     "output_type": "display_data"
    },
    {
     "name": "stdout",
     "output_type": "stream",
     "text": [
      "Learning rate:  0.0005\n",
      "Loss = tensor(1.6159, device='cuda:0', grad_fn=<NllLoss2DBackward>)\n",
      "Loss = tensor(1.6049, device='cuda:0', grad_fn=<NllLoss2DBackward>)\n",
      "Loss = tensor(1.6309, device='cuda:0', grad_fn=<NllLoss2DBackward>)\n",
      "Loss = tensor(1.5806, device='cuda:0', grad_fn=<NllLoss2DBackward>)\n",
      "Loss = tensor(1.6177, device='cuda:0', grad_fn=<NllLoss2DBackward>)\n",
      "EPOCH:  11\n"
     ]
    },
    {
     "data": {
      "image/png": "[encoded data removed]",
      "text/plain": [
       "<PIL.Image.Image image mode=RGB size=60x60 at 0x7FE74024F550>"
      ]
     },
     "metadata": {},
     "output_type": "display_data"
    },
    {
     "name": "stdout",
     "output_type": "stream",
     "text": [
      "Learning rate:  0.0005\n",
      "Loss = tensor(1.6060, device='cuda:0', grad_fn=<NllLoss2DBackward>)\n",
      "Loss = tensor(1.6118, device='cuda:0', grad_fn=<NllLoss2DBackward>)\n",
      "Loss = tensor(1.5952, device='cuda:0', grad_fn=<NllLoss2DBackward>)\n",
      "Loss = tensor(1.5889, device='cuda:0', grad_fn=<NllLoss2DBackward>)\n",
      "Loss = tensor(1.5991, device='cuda:0', grad_fn=<NllLoss2DBackward>)\n",
      "EPOCH:  11\n"
     ]
    },
    {
     "data": {
      "image/png": "[encoded data removed]",
      "text/plain": [
       "<PIL.Image.Image image mode=RGB size=60x60 at 0x7FE74024F550>"
      ]
     },
     "metadata": {},
     "output_type": "display_data"
    },
    {
     "name": "stdout",
     "output_type": "stream",
     "text": [
      "Learning rate:  0.0005\n",
      "Loss = tensor(1.6273, device='cuda:0', grad_fn=<NllLoss2DBackward>)\n",
      "Loss = tensor(1.5994, device='cuda:0', grad_fn=<NllLoss2DBackward>)\n",
      "EPOCH:  12\n"
     ]
    },
    {
     "data": {
      "image/png": "[encoded data removed]",
      "text/plain": [
       "<PIL.Image.Image image mode=RGB size=60x60 at 0x7FE74024F550>"
      ]
     },
     "metadata": {},
     "output_type": "display_data"
    },
    {
     "name": "stdout",
     "output_type": "stream",
     "text": [
      "Learning rate:  0.0005\n",
      "Loss = tensor(1.6005, device='cuda:0', grad_fn=<NllLoss2DBackward>)\n",
      "Loss = tensor(1.6036, device='cuda:0', grad_fn=<NllLoss2DBackward>)\n",
      "Loss = tensor(1.6154, device='cuda:0', grad_fn=<NllLoss2DBackward>)\n",
      "Loss = tensor(1.6092, device='cuda:0', grad_fn=<NllLoss2DBackward>)\n",
      "Loss = tensor(1.6149, device='cuda:0', grad_fn=<NllLoss2DBackward>)\n",
      "EPOCH:  12\n"
     ]
    },
    {
     "data": {
      "image/png": "[encoded data removed]",
      "text/plain": [
       "<PIL.Image.Image image mode=RGB size=60x60 at 0x7FE74024FC40>"
      ]
     },
     "metadata": {},
     "output_type": "display_data"
    },
    {
     "name": "stdout",
     "output_type": "stream",
     "text": [
      "Learning rate:  0.0005\n",
      "Loss = tensor(1.6009, device='cuda:0', grad_fn=<NllLoss2DBackward>)\n",
      "Loss = tensor(1.6142, device='cuda:0', grad_fn=<NllLoss2DBackward>)\n",
      "Loss = tensor(1.6189, device='cuda:0', grad_fn=<NllLoss2DBackward>)\n",
      "Loss = tensor(1.6329, device='cuda:0', grad_fn=<NllLoss2DBackward>)\n",
      "Loss = tensor(1.5901, device='cuda:0', grad_fn=<NllLoss2DBackward>)\n",
      "EPOCH:  12\n"
     ]
    },
    {
     "data": {
      "image/png": "[encoded data removed]",
      "text/plain": [
       "<PIL.Image.Image image mode=RGB size=60x60 at 0x7FE74024F550>"
      ]
     },
     "metadata": {},
     "output_type": "display_data"
    },
    {
     "name": "stdout",
     "output_type": "stream",
     "text": [
      "Learning rate:  0.0005\n",
      "Loss = tensor(1.5992, device='cuda:0', grad_fn=<NllLoss2DBackward>)\n",
      "Loss = tensor(1.6166, device='cuda:0', grad_fn=<NllLoss2DBackward>)\n",
      "EPOCH:  13\n"
     ]
    },
    {
     "data": {
      "image/png": "[encoded data removed]",
      "text/plain": [
       "<PIL.Image.Image image mode=RGB size=60x60 at 0x7FE74024F190>"
      ]
     },
     "metadata": {},
     "output_type": "display_data"
    },
    {
     "name": "stdout",
     "output_type": "stream",
     "text": [
      "Learning rate:  0.0005\n",
      "Loss = tensor(1.5991, device='cuda:0', grad_fn=<NllLoss2DBackward>)\n",
      "Loss = tensor(1.6098, device='cuda:0', grad_fn=<NllLoss2DBackward>)\n",
      "Loss = tensor(1.6155, device='cuda:0', grad_fn=<NllLoss2DBackward>)\n",
      "Loss = tensor(1.6072, device='cuda:0', grad_fn=<NllLoss2DBackward>)\n",
      "Loss = tensor(1.6228, device='cuda:0', grad_fn=<NllLoss2DBackward>)\n",
      "EPOCH:  13\n"
     ]
    },
    {
     "data": {
      "image/png": "[encoded data removed]",
      "text/plain": [
       "<PIL.Image.Image image mode=RGB size=60x60 at 0x7FE74024F190>"
      ]
     },
     "metadata": {},
     "output_type": "display_data"
    },
    {
     "name": "stdout",
     "output_type": "stream",
     "text": [
      "Learning rate:  0.0005\n",
      "Loss = tensor(1.6000, device='cuda:0', grad_fn=<NllLoss2DBackward>)\n",
      "Loss = tensor(1.5958, device='cuda:0', grad_fn=<NllLoss2DBackward>)\n",
      "Loss = tensor(1.6137, device='cuda:0', grad_fn=<NllLoss2DBackward>)\n",
      "Loss = tensor(1.5985, device='cuda:0', grad_fn=<NllLoss2DBackward>)\n",
      "Loss = tensor(1.5978, device='cuda:0', grad_fn=<NllLoss2DBackward>)\n",
      "EPOCH:  13\n"
     ]
    },
    {
     "data": {
      "image/png": "[encoded data removed]",
      "text/plain": [
       "<PIL.Image.Image image mode=RGB size=60x60 at 0x7FE74024F550>"
      ]
     },
     "metadata": {},
     "output_type": "display_data"
    },
    {
     "name": "stdout",
     "output_type": "stream",
     "text": [
      "Learning rate:  0.0005\n",
      "Loss = tensor(1.6303, device='cuda:0', grad_fn=<NllLoss2DBackward>)\n",
      "Loss = tensor(1.6071, device='cuda:0', grad_fn=<NllLoss2DBackward>)\n",
      "EPOCH:  14\n"
     ]
    },
    {
     "data": {
      "image/png": "[encoded data removed]",
      "text/plain": [
       "<PIL.Image.Image image mode=RGB size=60x60 at 0x7FE74024F190>"
      ]
     },
     "metadata": {},
     "output_type": "display_data"
    },
    {
     "name": "stdout",
     "output_type": "stream",
     "text": [
      "Learning rate:  0.0005\n",
      "Loss = tensor(1.6139, device='cuda:0', grad_fn=<NllLoss2DBackward>)\n",
      "Loss = tensor(1.6360, device='cuda:0', grad_fn=<NllLoss2DBackward>)\n",
      "Loss = tensor(1.5773, device='cuda:0', grad_fn=<NllLoss2DBackward>)\n",
      "Loss = tensor(1.6160, device='cuda:0', grad_fn=<NllLoss2DBackward>)\n",
      "Loss = tensor(1.6012, device='cuda:0', grad_fn=<NllLoss2DBackward>)\n",
      "EPOCH:  14\n"
     ]
    },
    {
     "data": {
      "image/png": "[encoded data removed]",
      "text/plain": [
       "<PIL.Image.Image image mode=RGB size=60x60 at 0x7FE74024FEE0>"
      ]
     },
     "metadata": {},
     "output_type": "display_data"
    },
    {
     "name": "stdout",
     "output_type": "stream",
     "text": [
      "Learning rate:  0.0005\n",
      "Loss = tensor(1.6112, device='cuda:0', grad_fn=<NllLoss2DBackward>)\n",
      "Loss = tensor(1.5982, device='cuda:0', grad_fn=<NllLoss2DBackward>)\n",
      "Loss = tensor(1.6213, device='cuda:0', grad_fn=<NllLoss2DBackward>)\n",
      "Loss = tensor(1.5998, device='cuda:0', grad_fn=<NllLoss2DBackward>)\n",
      "Loss = tensor(1.6154, device='cuda:0', grad_fn=<NllLoss2DBackward>)\n",
      "EPOCH:  14\n"
     ]
    },
    {
     "data": {
      "image/png": "[encoded data removed]",
      "text/plain": [
       "<PIL.Image.Image image mode=RGB size=60x60 at 0x7FE74024FEE0>"
      ]
     },
     "metadata": {},
     "output_type": "display_data"
    },
    {
     "name": "stdout",
     "output_type": "stream",
     "text": [
      "Learning rate:  0.0005\n",
      "Loss = tensor(1.6049, device='cuda:0', grad_fn=<NllLoss2DBackward>)\n",
      "Loss = tensor(1.6097, device='cuda:0', grad_fn=<NllLoss2DBackward>)\n",
      "EPOCH:  15\n"
     ]
    },
    {
     "data": {
      "image/png": "[encoded data removed]",
      "text/plain": [
       "<PIL.Image.Image image mode=RGB size=60x60 at 0x7FE74024F550>"
      ]
     },
     "metadata": {},
     "output_type": "display_data"
    },
    {
     "name": "stdout",
     "output_type": "stream",
     "text": [
      "Learning rate:  0.0005\n",
      "Loss = tensor(1.6152, device='cuda:0', grad_fn=<NllLoss2DBackward>)\n",
      "Loss = tensor(1.5891, device='cuda:0', grad_fn=<NllLoss2DBackward>)\n",
      "Loss = tensor(1.6156, device='cuda:0', grad_fn=<NllLoss2DBackward>)\n",
      "Loss = tensor(1.6061, device='cuda:0', grad_fn=<NllLoss2DBackward>)\n",
      "Loss = tensor(1.6393, device='cuda:0', grad_fn=<NllLoss2DBackward>)\n",
      "EPOCH:  15\n"
     ]
    },
    {
     "data": {
      "image/png": "[encoded data removed]",
      "text/plain": [
       "<PIL.Image.Image image mode=RGB size=60x60 at 0x7FE74024FE80>"
      ]
     },
     "metadata": {},
     "output_type": "display_data"
    },
    {
     "name": "stdout",
     "output_type": "stream",
     "text": [
      "Learning rate:  0.0005\n",
      "Loss = tensor(1.6008, device='cuda:0', grad_fn=<NllLoss2DBackward>)\n",
      "Loss = tensor(1.5941, device='cuda:0', grad_fn=<NllLoss2DBackward>)\n",
      "Loss = tensor(1.6075, device='cuda:0', grad_fn=<NllLoss2DBackward>)\n",
      "Loss = tensor(1.6000, device='cuda:0', grad_fn=<NllLoss2DBackward>)\n",
      "Loss = tensor(1.6168, device='cuda:0', grad_fn=<NllLoss2DBackward>)\n",
      "EPOCH:  15\n"
     ]
    },
    {
     "data": {
      "image/png": "[encoded data removed]",
      "text/plain": [
       "<PIL.Image.Image image mode=RGB size=60x60 at 0x7FE74024FE80>"
      ]
     },
     "metadata": {},
     "output_type": "display_data"
    },
    {
     "name": "stdout",
     "output_type": "stream",
     "text": [
      "Learning rate:  0.0005\n",
      "Loss = tensor(1.6011, device='cuda:0', grad_fn=<NllLoss2DBackward>)\n",
      "Loss = tensor(1.5986, device='cuda:0', grad_fn=<NllLoss2DBackward>)\n",
      "EPOCH:  16\n"
     ]
    },
    {
     "data": {
      "image/png": "[encoded data removed]",
      "text/plain": [
       "<PIL.Image.Image image mode=RGB size=60x60 at 0x7FE74024F190>"
      ]
     },
     "metadata": {},
     "output_type": "display_data"
    },
    {
     "name": "stdout",
     "output_type": "stream",
     "text": [
      "Learning rate:  0.0005\n",
      "Loss = tensor(1.6238, device='cuda:0', grad_fn=<NllLoss2DBackward>)\n",
      "Loss = tensor(1.6253, device='cuda:0', grad_fn=<NllLoss2DBackward>)\n",
      "Loss = tensor(1.6086, device='cuda:0', grad_fn=<NllLoss2DBackward>)\n",
      "Loss = tensor(1.5653, device='cuda:0', grad_fn=<NllLoss2DBackward>)\n",
      "Loss = tensor(1.6071, device='cuda:0', grad_fn=<NllLoss2DBackward>)\n",
      "EPOCH:  16\n"
     ]
    },
    {
     "data": {
      "image/png": "[encoded data removed]",
      "text/plain": [
       "<PIL.Image.Image image mode=RGB size=60x60 at 0x7FE74024F550>"
      ]
     },
     "metadata": {},
     "output_type": "display_data"
    },
    {
     "name": "stdout",
     "output_type": "stream",
     "text": [
      "Learning rate:  0.0005\n",
      "Loss = tensor(1.6049, device='cuda:0', grad_fn=<NllLoss2DBackward>)\n",
      "Loss = tensor(1.6193, device='cuda:0', grad_fn=<NllLoss2DBackward>)\n",
      "Loss = tensor(1.6059, device='cuda:0', grad_fn=<NllLoss2DBackward>)\n",
      "Loss = tensor(1.6185, device='cuda:0', grad_fn=<NllLoss2DBackward>)\n",
      "Loss = tensor(1.6149, device='cuda:0', grad_fn=<NllLoss2DBackward>)\n",
      "EPOCH:  16\n"
     ]
    },
    {
     "data": {
      "image/png": "[encoded data removed]",
      "text/plain": [
       "<PIL.Image.Image image mode=RGB size=60x60 at 0x7FE74024F190>"
      ]
     },
     "metadata": {},
     "output_type": "display_data"
    },
    {
     "name": "stdout",
     "output_type": "stream",
     "text": [
      "Learning rate:  0.0005\n",
      "Loss = tensor(1.5994, device='cuda:0', grad_fn=<NllLoss2DBackward>)\n",
      "Loss = tensor(1.6052, device='cuda:0', grad_fn=<NllLoss2DBackward>)\n",
      "EPOCH:  17\n"
     ]
    },
    {
     "data": {
      "image/png": "[encoded data removed]",
      "text/plain": [
       "<PIL.Image.Image image mode=RGB size=60x60 at 0x7FE74024F190>"
      ]
     },
     "metadata": {},
     "output_type": "display_data"
    },
    {
     "name": "stdout",
     "output_type": "stream",
     "text": [
      "Learning rate:  0.0005\n",
      "Loss = tensor(1.5895, device='cuda:0', grad_fn=<NllLoss2DBackward>)\n",
      "Loss = tensor(1.6107, device='cuda:0', grad_fn=<NllLoss2DBackward>)\n",
      "Loss = tensor(1.6070, device='cuda:0', grad_fn=<NllLoss2DBackward>)\n",
      "Loss = tensor(1.5953, device='cuda:0', grad_fn=<NllLoss2DBackward>)\n",
      "Loss = tensor(1.6217, device='cuda:0', grad_fn=<NllLoss2DBackward>)\n",
      "EPOCH:  17\n"
     ]
    },
    {
     "data": {
      "image/png": "[encoded data removed]",
      "text/plain": [
       "<PIL.Image.Image image mode=RGB size=60x60 at 0x7FE74024FE80>"
      ]
     },
     "metadata": {},
     "output_type": "display_data"
    },
    {
     "name": "stdout",
     "output_type": "stream",
     "text": [
      "Learning rate:  0.0005\n",
      "Loss = tensor(1.6041, device='cuda:0', grad_fn=<NllLoss2DBackward>)\n",
      "Loss = tensor(1.6087, device='cuda:0', grad_fn=<NllLoss2DBackward>)\n",
      "Loss = tensor(1.6242, device='cuda:0', grad_fn=<NllLoss2DBackward>)\n",
      "Loss = tensor(1.6069, device='cuda:0', grad_fn=<NllLoss2DBackward>)\n",
      "Loss = tensor(1.6255, device='cuda:0', grad_fn=<NllLoss2DBackward>)\n",
      "EPOCH:  17\n"
     ]
    },
    {
     "data": {
      "image/png": "[encoded data removed]",
      "text/plain": [
       "<PIL.Image.Image image mode=RGB size=60x60 at 0x7FE74024F190>"
      ]
     },
     "metadata": {},
     "output_type": "display_data"
    },
    {
     "name": "stdout",
     "output_type": "stream",
     "text": [
      "Learning rate:  0.0005\n",
      "Loss = tensor(1.5910, device='cuda:0', grad_fn=<NllLoss2DBackward>)\n",
      "Loss = tensor(1.6045, device='cuda:0', grad_fn=<NllLoss2DBackward>)\n",
      "EPOCH:  18\n"
     ]
    },
    {
     "data": {
      "image/png": "[encoded data removed]",
      "text/plain": [
       "<PIL.Image.Image image mode=RGB size=60x60 at 0x7FE74024F190>"
      ]
     },
     "metadata": {},
     "output_type": "display_data"
    },
    {
     "name": "stdout",
     "output_type": "stream",
     "text": [
      "Learning rate:  0.0005\n",
      "Loss = tensor(1.6227, device='cuda:0', grad_fn=<NllLoss2DBackward>)\n",
      "Loss = tensor(1.6241, device='cuda:0', grad_fn=<NllLoss2DBackward>)\n",
      "Loss = tensor(1.5903, device='cuda:0', grad_fn=<NllLoss2DBackward>)\n",
      "Loss = tensor(1.6046, device='cuda:0', grad_fn=<NllLoss2DBackward>)\n",
      "Loss = tensor(1.6081, device='cuda:0', grad_fn=<NllLoss2DBackward>)\n",
      "EPOCH:  18\n"
     ]
    },
    {
     "data": {
      "image/png": "[encoded data removed]",
      "text/plain": [
       "<PIL.Image.Image image mode=RGB size=60x60 at 0x7FE74024F550>"
      ]
     },
     "metadata": {},
     "output_type": "display_data"
    },
    {
     "name": "stdout",
     "output_type": "stream",
     "text": [
      "Learning rate:  0.0005\n",
      "Loss = tensor(1.5985, device='cuda:0', grad_fn=<NllLoss2DBackward>)\n",
      "Loss = tensor(1.6052, device='cuda:0', grad_fn=<NllLoss2DBackward>)\n",
      "Loss = tensor(1.6262, device='cuda:0', grad_fn=<NllLoss2DBackward>)\n",
      "Loss = tensor(1.5799, device='cuda:0', grad_fn=<NllLoss2DBackward>)\n",
      "Loss = tensor(1.5973, device='cuda:0', grad_fn=<NllLoss2DBackward>)\n",
      "EPOCH:  18\n"
     ]
    },
    {
     "data": {
      "image/png": "[encoded data removed]",
      "text/plain": [
       "<PIL.Image.Image image mode=RGB size=60x60 at 0x7FE74024F550>"
      ]
     },
     "metadata": {},
     "output_type": "display_data"
    },
    {
     "name": "stdout",
     "output_type": "stream",
     "text": [
      "Learning rate:  0.0005\n",
      "Loss = tensor(1.6264, device='cuda:0', grad_fn=<NllLoss2DBackward>)\n",
      "Loss = tensor(1.5935, device='cuda:0', grad_fn=<NllLoss2DBackward>)\n",
      "EPOCH:  19\n"
     ]
    },
    {
     "data": {
      "image/png": "[encoded data removed]",
      "text/plain": [
       "<PIL.Image.Image image mode=RGB size=60x60 at 0x7FE74024FE80>"
      ]
     },
     "metadata": {},
     "output_type": "display_data"
    },
    {
     "name": "stdout",
     "output_type": "stream",
     "text": [
      "Learning rate:  0.0005\n",
      "Loss = tensor(1.6121, device='cuda:0', grad_fn=<NllLoss2DBackward>)\n",
      "Loss = tensor(1.5958, device='cuda:0', grad_fn=<NllLoss2DBackward>)\n",
      "Loss = tensor(1.6273, device='cuda:0', grad_fn=<NllLoss2DBackward>)\n",
      "Loss = tensor(1.6038, device='cuda:0', grad_fn=<NllLoss2DBackward>)\n",
      "Loss = tensor(1.6139, device='cuda:0', grad_fn=<NllLoss2DBackward>)\n",
      "EPOCH:  19\n"
     ]
    },
    {
     "data": {
      "image/png": "[encoded data removed]",
      "text/plain": [
       "<PIL.Image.Image image mode=RGB size=60x60 at 0x7FE74024FE80>"
      ]
     },
     "metadata": {},
     "output_type": "display_data"
    },
    {
     "name": "stdout",
     "output_type": "stream",
     "text": [
      "Learning rate:  0.0005\n",
      "Loss = tensor(1.6151, device='cuda:0', grad_fn=<NllLoss2DBackward>)\n",
      "Loss = tensor(1.6033, device='cuda:0', grad_fn=<NllLoss2DBackward>)\n",
      "Loss = tensor(1.5999, device='cuda:0', grad_fn=<NllLoss2DBackward>)\n",
      "Loss = tensor(1.6098, device='cuda:0', grad_fn=<NllLoss2DBackward>)\n",
      "Loss = tensor(1.6022, device='cuda:0', grad_fn=<NllLoss2DBackward>)\n",
      "EPOCH:  19\n"
     ]
    },
    {
     "data": {
      "image/png": "[encoded data removed]",
      "text/plain": [
       "<PIL.Image.Image image mode=RGB size=60x60 at 0x7FE74024FE80>"
      ]
     },
     "metadata": {},
     "output_type": "display_data"
    },
    {
     "name": "stdout",
     "output_type": "stream",
     "text": [
      "Learning rate:  0.0005\n",
      "Loss = tensor(1.5994, device='cuda:0', grad_fn=<NllLoss2DBackward>)\n",
      "Loss = tensor(1.6108, device='cuda:0', grad_fn=<NllLoss2DBackward>)\n",
      "EPOCH:  20\n"
     ]
    },
    {
     "data": {
      "image/png": "[encoded data removed]",
      "text/plain": [
       "<PIL.Image.Image image mode=RGB size=60x60 at 0x7FE74024FE80>"
      ]
     },
     "metadata": {},
     "output_type": "display_data"
    },
    {
     "name": "stdout",
     "output_type": "stream",
     "text": [
      "Learning rate:  0.0005\n",
      "Loss = tensor(1.6014, device='cuda:0', grad_fn=<NllLoss2DBackward>)\n",
      "Loss = tensor(1.6107, device='cuda:0', grad_fn=<NllLoss2DBackward>)\n",
      "Loss = tensor(1.5902, device='cuda:0', grad_fn=<NllLoss2DBackward>)\n",
      "Loss = tensor(1.6272, device='cuda:0', grad_fn=<NllLoss2DBackward>)\n",
      "Loss = tensor(1.6015, device='cuda:0', grad_fn=<NllLoss2DBackward>)\n",
      "EPOCH:  20\n"
     ]
    },
    {
     "data": {
      "image/png": "[encoded data removed]",
      "text/plain": [
       "<PIL.Image.Image image mode=RGB size=60x60 at 0x7FE74024FE80>"
      ]
     },
     "metadata": {},
     "output_type": "display_data"
    },
    {
     "name": "stdout",
     "output_type": "stream",
     "text": [
      "Learning rate:  0.0005\n",
      "Loss = tensor(1.6194, device='cuda:0', grad_fn=<NllLoss2DBackward>)\n",
      "Loss = tensor(1.5981, device='cuda:0', grad_fn=<NllLoss2DBackward>)\n",
      "Loss = tensor(1.5960, device='cuda:0', grad_fn=<NllLoss2DBackward>)\n",
      "Loss = tensor(1.5994, device='cuda:0', grad_fn=<NllLoss2DBackward>)\n",
      "Loss = tensor(1.6230, device='cuda:0', grad_fn=<NllLoss2DBackward>)\n",
      "EPOCH:  20\n"
     ]
    },
    {
     "data": {
      "image/png": "[encoded data removed]",
      "text/plain": [
       "<PIL.Image.Image image mode=RGB size=60x60 at 0x7FE74024F190>"
      ]
     },
     "metadata": {},
     "output_type": "display_data"
    },
    {
     "name": "stdout",
     "output_type": "stream",
     "text": [
      "Learning rate:  0.0005\n",
      "Loss = tensor(1.5924, device='cuda:0', grad_fn=<NllLoss2DBackward>)\n",
      "Loss = tensor(1.6078, device='cuda:0', grad_fn=<NllLoss2DBackward>)\n",
      "EPOCH:  21\n"
     ]
    },
    {
     "data": {
      "image/png": "[encoded data removed]",
      "text/plain": [
       "<PIL.Image.Image image mode=RGB size=60x60 at 0x7FE74024F190>"
      ]
     },
     "metadata": {},
     "output_type": "display_data"
    },
    {
     "name": "stdout",
     "output_type": "stream",
     "text": [
      "Learning rate:  0.0005\n",
      "Loss = tensor(1.5950, device='cuda:0', grad_fn=<NllLoss2DBackward>)\n",
      "Loss = tensor(1.5944, device='cuda:0', grad_fn=<NllLoss2DBackward>)\n",
      "Loss = tensor(1.6131, device='cuda:0', grad_fn=<NllLoss2DBackward>)\n",
      "Loss = tensor(1.6066, device='cuda:0', grad_fn=<NllLoss2DBackward>)\n",
      "Loss = tensor(1.6170, device='cuda:0', grad_fn=<NllLoss2DBackward>)\n",
      "EPOCH:  21\n"
     ]
    },
    {
     "data": {
      "image/png": "[encoded data removed]",
      "text/plain": [
       "<PIL.Image.Image image mode=RGB size=60x60 at 0x7FE74024FE80>"
      ]
     },
     "metadata": {},
     "output_type": "display_data"
    },
    {
     "name": "stdout",
     "output_type": "stream",
     "text": [
      "Learning rate:  0.0005\n",
      "Loss = tensor(1.5882, device='cuda:0', grad_fn=<NllLoss2DBackward>)\n",
      "Loss = tensor(1.6089, device='cuda:0', grad_fn=<NllLoss2DBackward>)\n",
      "Loss = tensor(1.6238, device='cuda:0', grad_fn=<NllLoss2DBackward>)\n",
      "Loss = tensor(1.5959, device='cuda:0', grad_fn=<NllLoss2DBackward>)\n",
      "Loss = tensor(1.6244, device='cuda:0', grad_fn=<NllLoss2DBackward>)\n",
      "EPOCH:  21\n"
     ]
    },
    {
     "data": {
      "image/png": "[encoded data removed]",
      "text/plain": [
       "<PIL.Image.Image image mode=RGB size=60x60 at 0x7FE74024F190>"
      ]
     },
     "metadata": {},
     "output_type": "display_data"
    },
    {
     "name": "stdout",
     "output_type": "stream",
     "text": [
      "Learning rate:  0.0005\n",
      "Loss = tensor(1.5887, device='cuda:0', grad_fn=<NllLoss2DBackward>)\n",
      "Loss = tensor(1.5978, device='cuda:0', grad_fn=<NllLoss2DBackward>)\n",
      "EPOCH:  22\n"
     ]
    },
    {
     "data": {
      "image/png": "[encoded data removed]",
      "text/plain": [
       "<PIL.Image.Image image mode=RGB size=60x60 at 0x7FE74024F190>"
      ]
     },
     "metadata": {},
     "output_type": "display_data"
    },
    {
     "name": "stdout",
     "output_type": "stream",
     "text": [
      "Learning rate:  0.0005\n",
      "Loss = tensor(1.6131, device='cuda:0', grad_fn=<NllLoss2DBackward>)\n",
      "Loss = tensor(1.6056, device='cuda:0', grad_fn=<NllLoss2DBackward>)\n",
      "Loss = tensor(1.6020, device='cuda:0', grad_fn=<NllLoss2DBackward>)\n",
      "Loss = tensor(1.6275, device='cuda:0', grad_fn=<NllLoss2DBackward>)\n",
      "Loss = tensor(1.6123, device='cuda:0', grad_fn=<NllLoss2DBackward>)\n",
      "EPOCH:  22\n"
     ]
    },
    {
     "data": {
      "image/png": "[encoded data removed]",
      "text/plain": [
       "<PIL.Image.Image image mode=RGB size=60x60 at 0x7FE74024F190>"
      ]
     },
     "metadata": {},
     "output_type": "display_data"
    },
    {
     "name": "stdout",
     "output_type": "stream",
     "text": [
      "Learning rate:  0.0005\n",
      "Loss = tensor(1.6127, device='cuda:0', grad_fn=<NllLoss2DBackward>)\n",
      "Loss = tensor(1.5994, device='cuda:0', grad_fn=<NllLoss2DBackward>)\n",
      "Loss = tensor(1.5842, device='cuda:0', grad_fn=<NllLoss2DBackward>)\n",
      "Loss = tensor(1.6098, device='cuda:0', grad_fn=<NllLoss2DBackward>)\n",
      "Loss = tensor(1.5896, device='cuda:0', grad_fn=<NllLoss2DBackward>)\n",
      "EPOCH:  22\n"
     ]
    },
    {
     "data": {
      "image/png": "[encoded data removed]",
      "text/plain": [
       "<PIL.Image.Image image mode=RGB size=60x60 at 0x7FE74024FE80>"
      ]
     },
     "metadata": {},
     "output_type": "display_data"
    },
    {
     "name": "stdout",
     "output_type": "stream",
     "text": [
      "Learning rate:  0.0005\n",
      "Loss = tensor(1.5864, device='cuda:0', grad_fn=<NllLoss2DBackward>)\n",
      "Loss = tensor(1.6083, device='cuda:0', grad_fn=<NllLoss2DBackward>)\n",
      "EPOCH:  23\n"
     ]
    },
    {
     "data": {
      "image/png": "[encoded data removed]",
      "text/plain": [
       "<PIL.Image.Image image mode=RGB size=60x60 at 0x7FE74024F190>"
      ]
     },
     "metadata": {},
     "output_type": "display_data"
    },
    {
     "name": "stdout",
     "output_type": "stream",
     "text": [
      "Learning rate:  0.0005\n",
      "Loss = tensor(1.5972, device='cuda:0', grad_fn=<NllLoss2DBackward>)\n",
      "Loss = tensor(1.5870, device='cuda:0', grad_fn=<NllLoss2DBackward>)\n",
      "Loss = tensor(1.6051, device='cuda:0', grad_fn=<NllLoss2DBackward>)\n",
      "Loss = tensor(1.5892, device='cuda:0', grad_fn=<NllLoss2DBackward>)\n",
      "Loss = tensor(1.6363, device='cuda:0', grad_fn=<NllLoss2DBackward>)\n",
      "EPOCH:  23\n"
     ]
    },
    {
     "data": {
      "image/png": "[encoded data removed]",
      "text/plain": [
       "<PIL.Image.Image image mode=RGB size=60x60 at 0x7FE74024F550>"
      ]
     },
     "metadata": {},
     "output_type": "display_data"
    },
    {
     "name": "stdout",
     "output_type": "stream",
     "text": [
      "Learning rate:  0.0005\n",
      "Loss = tensor(1.5927, device='cuda:0', grad_fn=<NllLoss2DBackward>)\n",
      "Loss = tensor(1.5846, device='cuda:0', grad_fn=<NllLoss2DBackward>)\n",
      "Loss = tensor(1.6213, device='cuda:0', grad_fn=<NllLoss2DBackward>)\n",
      "Loss = tensor(1.5974, device='cuda:0', grad_fn=<NllLoss2DBackward>)\n",
      "Loss = tensor(1.5788, device='cuda:0', grad_fn=<NllLoss2DBackward>)\n",
      "EPOCH:  23\n"
     ]
    },
    {
     "data": {
      "image/png": "[encoded data removed]",
      "text/plain": [
       "<PIL.Image.Image image mode=RGB size=60x60 at 0x7FE74024F550>"
      ]
     },
     "metadata": {},
     "output_type": "display_data"
    },
    {
     "name": "stdout",
     "output_type": "stream",
     "text": [
      "Learning rate:  0.0005\n",
      "Loss = tensor(1.6178, device='cuda:0', grad_fn=<NllLoss2DBackward>)\n",
      "Loss = tensor(1.6140, device='cuda:0', grad_fn=<NllLoss2DBackward>)\n",
      "EPOCH:  24\n"
     ]
    },
    {
     "data": {
      "image/png": "[encoded data removed]",
      "text/plain": [
       "<PIL.Image.Image image mode=RGB size=60x60 at 0x7FE74024FE80>"
      ]
     },
     "metadata": {},
     "output_type": "display_data"
    },
    {
     "name": "stdout",
     "output_type": "stream",
     "text": [
      "Learning rate:  0.0005\n",
      "Loss = tensor(1.6064, device='cuda:0', grad_fn=<NllLoss2DBackward>)\n",
      "Loss = tensor(1.5929, device='cuda:0', grad_fn=<NllLoss2DBackward>)\n",
      "Loss = tensor(1.6121, device='cuda:0', grad_fn=<NllLoss2DBackward>)\n",
      "Loss = tensor(1.6076, device='cuda:0', grad_fn=<NllLoss2DBackward>)\n",
      "Loss = tensor(1.5897, device='cuda:0', grad_fn=<NllLoss2DBackward>)\n",
      "EPOCH:  24\n"
     ]
    },
    {
     "data": {
      "image/png": "[encoded data removed]",
      "text/plain": [
       "<PIL.Image.Image image mode=RGB size=60x60 at 0x7FE74024F550>"
      ]
     },
     "metadata": {},
     "output_type": "display_data"
    },
    {
     "name": "stdout",
     "output_type": "stream",
     "text": [
      "Learning rate:  0.0005\n",
      "Loss = tensor(1.5944, device='cuda:0', grad_fn=<NllLoss2DBackward>)\n",
      "Loss = tensor(1.5993, device='cuda:0', grad_fn=<NllLoss2DBackward>)\n",
      "Loss = tensor(1.5998, device='cuda:0', grad_fn=<NllLoss2DBackward>)\n",
      "Loss = tensor(1.5986, device='cuda:0', grad_fn=<NllLoss2DBackward>)\n",
      "Loss = tensor(1.5705, device='cuda:0', grad_fn=<NllLoss2DBackward>)\n",
      "EPOCH:  24\n"
     ]
    },
    {
     "data": {
      "image/png": "[encoded data removed]",
      "text/plain": [
       "<PIL.Image.Image image mode=RGB size=60x60 at 0x7FE74024FE80>"
      ]
     },
     "metadata": {},
     "output_type": "display_data"
    },
    {
     "name": "stdout",
     "output_type": "stream",
     "text": [
      "Learning rate:  0.0005\n",
      "Loss = tensor(1.6090, device='cuda:0', grad_fn=<NllLoss2DBackward>)\n",
      "Loss = tensor(1.6141, device='cuda:0', grad_fn=<NllLoss2DBackward>)\n",
      "EPOCH:  25\n"
     ]
    },
    {
     "data": {
      "image/png": "[encoded data removed]",
      "text/plain": [
       "<PIL.Image.Image image mode=RGB size=60x60 at 0x7FE74024FE80>"
      ]
     },
     "metadata": {},
     "output_type": "display_data"
    },
    {
     "name": "stdout",
     "output_type": "stream",
     "text": [
      "Learning rate:  0.0005\n",
      "Loss = tensor(1.5847, device='cuda:0', grad_fn=<NllLoss2DBackward>)\n",
      "Loss = tensor(1.6114, device='cuda:0', grad_fn=<NllLoss2DBackward>)\n",
      "Loss = tensor(1.6030, device='cuda:0', grad_fn=<NllLoss2DBackward>)\n",
      "Loss = tensor(1.5806, device='cuda:0', grad_fn=<NllLoss2DBackward>)\n",
      "Loss = tensor(1.5990, device='cuda:0', grad_fn=<NllLoss2DBackward>)\n",
      "EPOCH:  25\n"
     ]
    },
    {
     "data": {
      "image/png": "[encoded data removed]",
      "text/plain": [
       "<PIL.Image.Image image mode=RGB size=60x60 at 0x7FE74024FE80>"
      ]
     },
     "metadata": {},
     "output_type": "display_data"
    },
    {
     "name": "stdout",
     "output_type": "stream",
     "text": [
      "Learning rate:  0.0005\n",
      "Loss = tensor(1.5945, device='cuda:0', grad_fn=<NllLoss2DBackward>)\n",
      "Loss = tensor(1.6000, device='cuda:0', grad_fn=<NllLoss2DBackward>)\n",
      "Loss = tensor(1.5715, device='cuda:0', grad_fn=<NllLoss2DBackward>)\n",
      "Loss = tensor(1.5811, device='cuda:0', grad_fn=<NllLoss2DBackward>)\n",
      "Loss = tensor(1.5996, device='cuda:0', grad_fn=<NllLoss2DBackward>)\n",
      "EPOCH:  25\n"
     ]
    },
    {
     "data": {
      "image/png": "[encoded data removed]",
      "text/plain": [
       "<PIL.Image.Image image mode=RGB size=60x60 at 0x7FE74024F190>"
      ]
     },
     "metadata": {},
     "output_type": "display_data"
    },
    {
     "name": "stdout",
     "output_type": "stream",
     "text": [
      "Learning rate:  0.0005\n",
      "Loss = tensor(1.6155, device='cuda:0', grad_fn=<NllLoss2DBackward>)\n",
      "Loss = tensor(1.5751, device='cuda:0', grad_fn=<NllLoss2DBackward>)\n",
      "EPOCH:  26\n"
     ]
    },
    {
     "data": {
      "image/png": "[encoded data removed]",
      "text/plain": [
       "<PIL.Image.Image image mode=RGB size=60x60 at 0x7FE74024F190>"
      ]
     },
     "metadata": {},
     "output_type": "display_data"
    },
    {
     "name": "stdout",
     "output_type": "stream",
     "text": [
      "Learning rate:  0.0005\n",
      "Loss = tensor(1.5967, device='cuda:0', grad_fn=<NllLoss2DBackward>)\n",
      "Loss = tensor(1.5889, device='cuda:0', grad_fn=<NllLoss2DBackward>)\n",
      "Loss = tensor(1.5936, device='cuda:0', grad_fn=<NllLoss2DBackward>)\n",
      "Loss = tensor(1.5851, device='cuda:0', grad_fn=<NllLoss2DBackward>)\n",
      "Loss = tensor(1.5912, device='cuda:0', grad_fn=<NllLoss2DBackward>)\n",
      "EPOCH:  26\n"
     ]
    },
    {
     "data": {
      "image/png": "[encoded data removed]",
      "text/plain": [
       "<PIL.Image.Image image mode=RGB size=60x60 at 0x7FE74024F550>"
      ]
     },
     "metadata": {},
     "output_type": "display_data"
    },
    {
     "name": "stdout",
     "output_type": "stream",
     "text": [
      "Learning rate:  0.0005\n",
      "Loss = tensor(1.5847, device='cuda:0', grad_fn=<NllLoss2DBackward>)\n",
      "Loss = tensor(1.5775, device='cuda:0', grad_fn=<NllLoss2DBackward>)\n",
      "Loss = tensor(1.5826, device='cuda:0', grad_fn=<NllLoss2DBackward>)\n",
      "Loss = tensor(1.5828, device='cuda:0', grad_fn=<NllLoss2DBackward>)\n",
      "Loss = tensor(1.5906, device='cuda:0', grad_fn=<NllLoss2DBackward>)\n",
      "EPOCH:  26\n"
     ]
    },
    {
     "data": {
      "image/png": "[encoded data removed]",
      "text/plain": [
       "<PIL.Image.Image image mode=RGB size=60x60 at 0x7FE74024FE80>"
      ]
     },
     "metadata": {},
     "output_type": "display_data"
    },
    {
     "name": "stdout",
     "output_type": "stream",
     "text": [
      "Learning rate:  0.0005\n",
      "Loss = tensor(1.5810, device='cuda:0', grad_fn=<NllLoss2DBackward>)\n",
      "Loss = tensor(1.5958, device='cuda:0', grad_fn=<NllLoss2DBackward>)\n",
      "EPOCH:  27\n"
     ]
    },
    {
     "data": {
      "image/png": "[encoded data removed]",
      "text/plain": [
       "<PIL.Image.Image image mode=RGB size=60x60 at 0x7FE74024F550>"
      ]
     },
     "metadata": {},
     "output_type": "display_data"
    },
    {
     "name": "stdout",
     "output_type": "stream",
     "text": [
      "Learning rate:  0.0005\n",
      "Loss = tensor(1.5560, device='cuda:0', grad_fn=<NllLoss2DBackward>)\n",
      "Loss = tensor(1.5613, device='cuda:0', grad_fn=<NllLoss2DBackward>)\n",
      "Loss = tensor(1.5649, device='cuda:0', grad_fn=<NllLoss2DBackward>)\n",
      "Loss = tensor(1.5659, device='cuda:0', grad_fn=<NllLoss2DBackward>)\n",
      "Loss = tensor(1.6072, device='cuda:0', grad_fn=<NllLoss2DBackward>)\n",
      "EPOCH:  27\n"
     ]
    },
    {
     "data": {
      "image/png": "[encoded data removed]",
      "text/plain": [
       "<PIL.Image.Image image mode=RGB size=60x60 at 0x7FE74024FEE0>"
      ]
     },
     "metadata": {},
     "output_type": "display_data"
    },
    {
     "name": "stdout",
     "output_type": "stream",
     "text": [
      "Learning rate:  0.0005\n",
      "Loss = tensor(1.5768, device='cuda:0', grad_fn=<NllLoss2DBackward>)\n",
      "Loss = tensor(1.5637, device='cuda:0', grad_fn=<NllLoss2DBackward>)\n",
      "Loss = tensor(1.5568, device='cuda:0', grad_fn=<NllLoss2DBackward>)\n",
      "Loss = tensor(1.6135, device='cuda:0', grad_fn=<NllLoss2DBackward>)\n",
      "Loss = tensor(1.5672, device='cuda:0', grad_fn=<NllLoss2DBackward>)\n",
      "EPOCH:  27\n"
     ]
    },
    {
     "data": {
      "image/png": "[encoded data removed]",
      "text/plain": [
       "<PIL.Image.Image image mode=RGB size=60x60 at 0x7FE74024F190>"
      ]
     },
     "metadata": {},
     "output_type": "display_data"
    },
    {
     "name": "stdout",
     "output_type": "stream",
     "text": [
      "Learning rate:  0.0005\n",
      "Loss = tensor(1.5413, device='cuda:0', grad_fn=<NllLoss2DBackward>)\n",
      "Loss = tensor(1.6092, device='cuda:0', grad_fn=<NllLoss2DBackward>)\n",
      "EPOCH:  28\n"
     ]
    },
    {
     "data": {
      "image/png": "[encoded data removed]",
      "text/plain": [
       "<PIL.Image.Image image mode=RGB size=60x60 at 0x7FE74024FE80>"
      ]
     },
     "metadata": {},
     "output_type": "display_data"
    },
    {
     "name": "stdout",
     "output_type": "stream",
     "text": [
      "Learning rate:  0.0005\n",
      "Loss = tensor(1.5616, device='cuda:0', grad_fn=<NllLoss2DBackward>)\n",
      "Loss = tensor(1.5474, device='cuda:0', grad_fn=<NllLoss2DBackward>)\n",
      "Loss = tensor(1.5621, device='cuda:0', grad_fn=<NllLoss2DBackward>)\n",
      "Loss = tensor(1.5379, device='cuda:0', grad_fn=<NllLoss2DBackward>)\n",
      "Loss = tensor(1.5452, device='cuda:0', grad_fn=<NllLoss2DBackward>)\n",
      "EPOCH:  28\n"
     ]
    },
    {
     "data": {
      "image/png": "[encoded data removed]",
      "text/plain": [
       "<PIL.Image.Image image mode=RGB size=60x60 at 0x7FE74024FE80>"
      ]
     },
     "metadata": {},
     "output_type": "display_data"
    },
    {
     "name": "stdout",
     "output_type": "stream",
     "text": [
      "Learning rate:  0.0005\n",
      "Loss = tensor(1.5556, device='cuda:0', grad_fn=<NllLoss2DBackward>)\n",
      "Loss = tensor(1.5851, device='cuda:0', grad_fn=<NllLoss2DBackward>)\n",
      "Loss = tensor(1.5821, device='cuda:0', grad_fn=<NllLoss2DBackward>)\n",
      "Loss = tensor(1.5451, device='cuda:0', grad_fn=<NllLoss2DBackward>)\n",
      "Loss = tensor(1.5642, device='cuda:0', grad_fn=<NllLoss2DBackward>)\n",
      "EPOCH:  28\n"
     ]
    },
    {
     "data": {
      "image/png": "[encoded data removed]",
      "text/plain": [
       "<PIL.Image.Image image mode=RGB size=60x60 at 0x7FE74024F550>"
      ]
     },
     "metadata": {},
     "output_type": "display_data"
    },
    {
     "name": "stdout",
     "output_type": "stream",
     "text": [
      "Learning rate:  0.0005\n",
      "Loss = tensor(1.5623, device='cuda:0', grad_fn=<NllLoss2DBackward>)\n",
      "Loss = tensor(1.5547, device='cuda:0', grad_fn=<NllLoss2DBackward>)\n",
      "EPOCH:  29\n"
     ]
    },
    {
     "data": {
      "image/png": "[encoded data removed]",
      "text/plain": [
       "<PIL.Image.Image image mode=RGB size=60x60 at 0x7FE74024FEE0>"
      ]
     },
     "metadata": {},
     "output_type": "display_data"
    },
    {
     "name": "stdout",
     "output_type": "stream",
     "text": [
      "Learning rate:  0.0005\n",
      "Loss = tensor(1.5255, device='cuda:0', grad_fn=<NllLoss2DBackward>)\n",
      "Loss = tensor(1.5667, device='cuda:0', grad_fn=<NllLoss2DBackward>)\n",
      "Loss = tensor(1.5449, device='cuda:0', grad_fn=<NllLoss2DBackward>)\n",
      "Loss = tensor(1.5776, device='cuda:0', grad_fn=<NllLoss2DBackward>)\n",
      "Loss = tensor(1.5595, device='cuda:0', grad_fn=<NllLoss2DBackward>)\n",
      "EPOCH:  29\n"
     ]
    },
    {
     "data": {
      "image/png": "[encoded data removed]",
      "text/plain": [
       "<PIL.Image.Image image mode=RGB size=60x60 at 0x7FE74024FEE0>"
      ]
     },
     "metadata": {},
     "output_type": "display_data"
    },
    {
     "name": "stdout",
     "output_type": "stream",
     "text": [
      "Learning rate:  0.0005\n",
      "Loss = tensor(1.5268, device='cuda:0', grad_fn=<NllLoss2DBackward>)\n",
      "Loss = tensor(1.5672, device='cuda:0', grad_fn=<NllLoss2DBackward>)\n",
      "Loss = tensor(1.5716, device='cuda:0', grad_fn=<NllLoss2DBackward>)\n",
      "Loss = tensor(1.5524, device='cuda:0', grad_fn=<NllLoss2DBackward>)\n",
      "Loss = tensor(1.5536, device='cuda:0', grad_fn=<NllLoss2DBackward>)\n",
      "EPOCH:  29\n"
     ]
    },
    {
     "data": {
      "image/png": "[encoded data removed]",
      "text/plain": [
       "<PIL.Image.Image image mode=RGB size=60x60 at 0x7FE74024FE80>"
      ]
     },
     "metadata": {},
     "output_type": "display_data"
    },
    {
     "name": "stdout",
     "output_type": "stream",
     "text": [
      "Learning rate:  0.0005\n",
      "Loss = tensor(1.5437, device='cuda:0', grad_fn=<NllLoss2DBackward>)\n",
      "Loss = tensor(1.5386, device='cuda:0', grad_fn=<NllLoss2DBackward>)\n",
      "EPOCH:  30\n"
     ]
    },
    {
     "data": {
      "image/png": "[encoded data removed]",
      "text/plain": [
       "<PIL.Image.Image image mode=RGB size=60x60 at 0x7FE74024FE80>"
      ]
     },
     "metadata": {},
     "output_type": "display_data"
    },
    {
     "name": "stdout",
     "output_type": "stream",
     "text": [
      "Learning rate:  0.0003\n",
      "Loss = tensor(1.5589, device='cuda:0', grad_fn=<NllLoss2DBackward>)\n",
      "Loss = tensor(1.5746, device='cuda:0', grad_fn=<NllLoss2DBackward>)\n",
      "Loss = tensor(1.5532, device='cuda:0', grad_fn=<NllLoss2DBackward>)\n",
      "Loss = tensor(1.5240, device='cuda:0', grad_fn=<NllLoss2DBackward>)\n",
      "Loss = tensor(1.5441, device='cuda:0', grad_fn=<NllLoss2DBackward>)\n",
      "EPOCH:  30\n"
     ]
    },
    {
     "data": {
      "image/png": "[encoded data removed]",
      "text/plain": [
       "<PIL.Image.Image image mode=RGB size=60x60 at 0x7FE74024F190>"
      ]
     },
     "metadata": {},
     "output_type": "display_data"
    },
    {
     "name": "stdout",
     "output_type": "stream",
     "text": [
      "Learning rate:  0.0003\n",
      "Loss = tensor(1.5373, device='cuda:0', grad_fn=<NllLoss2DBackward>)\n",
      "Loss = tensor(1.5763, device='cuda:0', grad_fn=<NllLoss2DBackward>)\n",
      "Loss = tensor(1.5257, device='cuda:0', grad_fn=<NllLoss2DBackward>)\n",
      "Loss = tensor(1.5306, device='cuda:0', grad_fn=<NllLoss2DBackward>)\n",
      "Loss = tensor(1.5411, device='cuda:0', grad_fn=<NllLoss2DBackward>)\n",
      "EPOCH:  30\n"
     ]
    },
    {
     "data": {
      "image/png": "[encoded data removed]",
      "text/plain": [
       "<PIL.Image.Image image mode=RGB size=60x60 at 0x7FE74024F190>"
      ]
     },
     "metadata": {},
     "output_type": "display_data"
    },
    {
     "name": "stdout",
     "output_type": "stream",
     "text": [
      "Learning rate:  0.0003\n",
      "Loss = tensor(1.5728, device='cuda:0', grad_fn=<NllLoss2DBackward>)\n",
      "Loss = tensor(1.5455, device='cuda:0', grad_fn=<NllLoss2DBackward>)\n",
      "EPOCH:  31\n"
     ]
    },
    {
     "data": {
      "image/png": "[encoded data removed]",
      "text/plain": [
       "<PIL.Image.Image image mode=RGB size=60x60 at 0x7FE74024FEE0>"
      ]
     },
     "metadata": {},
     "output_type": "display_data"
    },
    {
     "name": "stdout",
     "output_type": "stream",
     "text": [
      "Learning rate:  0.0003\n",
      "Loss = tensor(1.5243, device='cuda:0', grad_fn=<NllLoss2DBackward>)\n",
      "Loss = tensor(1.5425, device='cuda:0', grad_fn=<NllLoss2DBackward>)\n",
      "Loss = tensor(1.5390, device='cuda:0', grad_fn=<NllLoss2DBackward>)\n",
      "Loss = tensor(1.5544, device='cuda:0', grad_fn=<NllLoss2DBackward>)\n",
      "Loss = tensor(1.5571, device='cuda:0', grad_fn=<NllLoss2DBackward>)\n",
      "EPOCH:  31\n"
     ]
    },
    {
     "data": {
      "image/png": "[encoded data removed]",
      "text/plain": [
       "<PIL.Image.Image image mode=RGB size=60x60 at 0x7FE74024FEE0>"
      ]
     },
     "metadata": {},
     "output_type": "display_data"
    },
    {
     "name": "stdout",
     "output_type": "stream",
     "text": [
      "Learning rate:  0.0003\n",
      "Loss = tensor(1.5206, device='cuda:0', grad_fn=<NllLoss2DBackward>)\n",
      "Loss = tensor(1.5460, device='cuda:0', grad_fn=<NllLoss2DBackward>)\n",
      "Loss = tensor(1.5362, device='cuda:0', grad_fn=<NllLoss2DBackward>)\n",
      "Loss = tensor(1.5419, device='cuda:0', grad_fn=<NllLoss2DBackward>)\n",
      "Loss = tensor(1.5383, device='cuda:0', grad_fn=<NllLoss2DBackward>)\n",
      "EPOCH:  31\n"
     ]
    },
    {
     "data": {
      "image/png": "[encoded data removed]",
      "text/plain": [
       "<PIL.Image.Image image mode=RGB size=60x60 at 0x7FE74024FE80>"
      ]
     },
     "metadata": {},
     "output_type": "display_data"
    },
    {
     "name": "stdout",
     "output_type": "stream",
     "text": [
      "Learning rate:  0.0003\n",
      "Loss = tensor(1.5953, device='cuda:0', grad_fn=<NllLoss2DBackward>)\n",
      "Loss = tensor(1.5212, device='cuda:0', grad_fn=<NllLoss2DBackward>)\n",
      "EPOCH:  32\n"
     ]
    },
    {
     "data": {
      "image/png": "[encoded data removed]",
      "text/plain": [
       "<PIL.Image.Image image mode=RGB size=60x60 at 0x7FE74024FE80>"
      ]
     },
     "metadata": {},
     "output_type": "display_data"
    },
    {
     "name": "stdout",
     "output_type": "stream",
     "text": [
      "Learning rate:  0.0003\n",
      "Loss = tensor(1.5285, device='cuda:0', grad_fn=<NllLoss2DBackward>)\n",
      "Loss = tensor(1.5591, device='cuda:0', grad_fn=<NllLoss2DBackward>)\n",
      "Loss = tensor(1.5582, device='cuda:0', grad_fn=<NllLoss2DBackward>)\n",
      "Loss = tensor(1.5413, device='cuda:0', grad_fn=<NllLoss2DBackward>)\n",
      "Loss = tensor(1.5247, device='cuda:0', grad_fn=<NllLoss2DBackward>)\n",
      "EPOCH:  32\n"
     ]
    },
    {
     "data": {
      "image/png": "[encoded data removed]",
      "text/plain": [
       "<PIL.Image.Image image mode=RGB size=60x60 at 0x7FE74024FE80>"
      ]
     },
     "metadata": {},
     "output_type": "display_data"
    },
    {
     "name": "stdout",
     "output_type": "stream",
     "text": [
      "Learning rate:  0.0003\n",
      "Loss = tensor(1.5264, device='cuda:0', grad_fn=<NllLoss2DBackward>)\n",
      "Loss = tensor(1.5649, device='cuda:0', grad_fn=<NllLoss2DBackward>)\n",
      "Loss = tensor(1.5537, device='cuda:0', grad_fn=<NllLoss2DBackward>)\n",
      "Loss = tensor(1.5292, device='cuda:0', grad_fn=<NllLoss2DBackward>)\n",
      "Loss = tensor(1.5664, device='cuda:0', grad_fn=<NllLoss2DBackward>)\n",
      "EPOCH:  32\n"
     ]
    },
    {
     "data": {
      "image/png": "[encoded data removed]",
      "text/plain": [
       "<PIL.Image.Image image mode=RGB size=60x60 at 0x7FE74024FE80>"
      ]
     },
     "metadata": {},
     "output_type": "display_data"
    },
    {
     "name": "stdout",
     "output_type": "stream",
     "text": [
      "Learning rate:  0.0003\n",
      "Loss = tensor(1.5534, device='cuda:0', grad_fn=<NllLoss2DBackward>)\n",
      "Loss = tensor(1.5644, device='cuda:0', grad_fn=<NllLoss2DBackward>)\n",
      "EPOCH:  33\n"
     ]
    },
    {
     "data": {
      "image/png": "[encoded data removed]",
      "text/plain": [
       "<PIL.Image.Image image mode=RGB size=60x60 at 0x7FE74024FE80>"
      ]
     },
     "metadata": {},
     "output_type": "display_data"
    },
    {
     "name": "stdout",
     "output_type": "stream",
     "text": [
      "Learning rate:  0.0003\n",
      "Loss = tensor(1.5276, device='cuda:0', grad_fn=<NllLoss2DBackward>)\n",
      "Loss = tensor(1.5598, device='cuda:0', grad_fn=<NllLoss2DBackward>)\n",
      "Loss = tensor(1.5432, device='cuda:0', grad_fn=<NllLoss2DBackward>)\n",
      "Loss = tensor(1.5445, device='cuda:0', grad_fn=<NllLoss2DBackward>)\n",
      "Loss = tensor(1.5416, device='cuda:0', grad_fn=<NllLoss2DBackward>)\n",
      "EPOCH:  33\n"
     ]
    },
    {
     "data": {
      "image/png": "[encoded data removed]",
      "text/plain": [
       "<PIL.Image.Image image mode=RGB size=60x60 at 0x7FE74024FEE0>"
      ]
     },
     "metadata": {},
     "output_type": "display_data"
    },
    {
     "name": "stdout",
     "output_type": "stream",
     "text": [
      "Learning rate:  0.0003\n",
      "Loss = tensor(1.5477, device='cuda:0', grad_fn=<NllLoss2DBackward>)\n",
      "Loss = tensor(1.5400, device='cuda:0', grad_fn=<NllLoss2DBackward>)\n",
      "Loss = tensor(1.5230, device='cuda:0', grad_fn=<NllLoss2DBackward>)\n",
      "Loss = tensor(1.5364, device='cuda:0', grad_fn=<NllLoss2DBackward>)\n",
      "Loss = tensor(1.5524, device='cuda:0', grad_fn=<NllLoss2DBackward>)\n",
      "EPOCH:  33\n"
     ]
    },
    {
     "data": {
      "image/png": "[encoded data removed]",
      "text/plain": [
       "<PIL.Image.Image image mode=RGB size=60x60 at 0x7FE74024FEE0>"
      ]
     },
     "metadata": {},
     "output_type": "display_data"
    },
    {
     "name": "stdout",
     "output_type": "stream",
     "text": [
      "Learning rate:  0.0003\n",
      "Loss = tensor(1.5151, device='cuda:0', grad_fn=<NllLoss2DBackward>)\n",
      "Loss = tensor(1.5339, device='cuda:0', grad_fn=<NllLoss2DBackward>)\n",
      "EPOCH:  34\n"
     ]
    },
    {
     "data": {
      "image/png": "[encoded data removed]",
      "text/plain": [
       "<PIL.Image.Image image mode=RGB size=60x60 at 0x7FE74024FEE0>"
      ]
     },
     "metadata": {},
     "output_type": "display_data"
    },
    {
     "name": "stdout",
     "output_type": "stream",
     "text": [
      "Learning rate:  0.0003\n",
      "Loss = tensor(1.5307, device='cuda:0', grad_fn=<NllLoss2DBackward>)\n",
      "Loss = tensor(1.5367, device='cuda:0', grad_fn=<NllLoss2DBackward>)\n",
      "Loss = tensor(1.5574, device='cuda:0', grad_fn=<NllLoss2DBackward>)\n",
      "Loss = tensor(1.5432, device='cuda:0', grad_fn=<NllLoss2DBackward>)\n",
      "Loss = tensor(1.5361, device='cuda:0', grad_fn=<NllLoss2DBackward>)\n",
      "EPOCH:  34\n"
     ]
    },
    {
     "data": {
      "image/png": "[encoded data removed]",
      "text/plain": [
       "<PIL.Image.Image image mode=RGB size=60x60 at 0x7FE74024FEE0>"
      ]
     },
     "metadata": {},
     "output_type": "display_data"
    },
    {
     "name": "stdout",
     "output_type": "stream",
     "text": [
      "Learning rate:  0.0003\n",
      "Loss = tensor(1.5548, device='cuda:0', grad_fn=<NllLoss2DBackward>)\n",
      "Loss = tensor(1.5489, device='cuda:0', grad_fn=<NllLoss2DBackward>)\n",
      "Loss = tensor(1.5408, device='cuda:0', grad_fn=<NllLoss2DBackward>)\n",
      "Loss = tensor(1.5299, device='cuda:0', grad_fn=<NllLoss2DBackward>)\n",
      "Loss = tensor(1.5549, device='cuda:0', grad_fn=<NllLoss2DBackward>)\n",
      "EPOCH:  34\n"
     ]
    },
    {
     "data": {
      "image/png": "[encoded data removed]",
      "text/plain": [
       "<PIL.Image.Image image mode=RGB size=60x60 at 0x7FE74024FEE0>"
      ]
     },
     "metadata": {},
     "output_type": "display_data"
    },
    {
     "name": "stdout",
     "output_type": "stream",
     "text": [
      "Learning rate:  0.0003\n",
      "Loss = tensor(1.5297, device='cuda:0', grad_fn=<NllLoss2DBackward>)\n",
      "Loss = tensor(1.5407, device='cuda:0', grad_fn=<NllLoss2DBackward>)\n",
      "EPOCH:  35\n"
     ]
    },
    {
     "data": {
      "image/png": "[encoded data removed]",
      "text/plain": [
       "<PIL.Image.Image image mode=RGB size=60x60 at 0x7FE74024FEE0>"
      ]
     },
     "metadata": {},
     "output_type": "display_data"
    },
    {
     "name": "stdout",
     "output_type": "stream",
     "text": [
      "Learning rate:  0.0003\n",
      "Loss = tensor(1.5486, device='cuda:0', grad_fn=<NllLoss2DBackward>)\n",
      "Loss = tensor(1.5283, device='cuda:0', grad_fn=<NllLoss2DBackward>)\n",
      "Loss = tensor(1.5444, device='cuda:0', grad_fn=<NllLoss2DBackward>)\n",
      "Loss = tensor(1.5311, device='cuda:0', grad_fn=<NllLoss2DBackward>)\n",
      "Loss = tensor(1.5311, device='cuda:0', grad_fn=<NllLoss2DBackward>)\n",
      "EPOCH:  35\n"
     ]
    },
    {
     "data": {
      "image/png": "[encoded data removed]",
      "text/plain": [
       "<PIL.Image.Image image mode=RGB size=60x60 at 0x7FE74024FE80>"
      ]
     },
     "metadata": {},
     "output_type": "display_data"
    },
    {
     "name": "stdout",
     "output_type": "stream",
     "text": [
      "Learning rate:  0.0003\n",
      "Loss = tensor(1.5715, device='cuda:0', grad_fn=<NllLoss2DBackward>)\n",
      "Loss = tensor(1.5336, device='cuda:0', grad_fn=<NllLoss2DBackward>)\n",
      "Loss = tensor(1.5550, device='cuda:0', grad_fn=<NllLoss2DBackward>)\n",
      "Loss = tensor(1.5355, device='cuda:0', grad_fn=<NllLoss2DBackward>)\n",
      "Loss = tensor(1.5469, device='cuda:0', grad_fn=<NllLoss2DBackward>)\n",
      "EPOCH:  35\n"
     ]
    },
    {
     "data": {
      "image/png": "[encoded data removed]",
      "text/plain": [
       "<PIL.Image.Image image mode=RGB size=60x60 at 0x7FE74024F190>"
      ]
     },
     "metadata": {},
     "output_type": "display_data"
    },
    {
     "name": "stdout",
     "output_type": "stream",
     "text": [
      "Learning rate:  0.0003\n",
      "Loss = tensor(1.5347, device='cuda:0', grad_fn=<NllLoss2DBackward>)\n",
      "Loss = tensor(1.5307, device='cuda:0', grad_fn=<NllLoss2DBackward>)\n",
      "EPOCH:  36\n"
     ]
    },
    {
     "data": {
      "image/png": "[encoded data removed]",
      "text/plain": [
       "<PIL.Image.Image image mode=RGB size=60x60 at 0x7FE74024FE80>"
      ]
     },
     "metadata": {},
     "output_type": "display_data"
    },
    {
     "name": "stdout",
     "output_type": "stream",
     "text": [
      "Learning rate:  0.0003\n",
      "Loss = tensor(1.5562, device='cuda:0', grad_fn=<NllLoss2DBackward>)\n",
      "Loss = tensor(1.5217, device='cuda:0', grad_fn=<NllLoss2DBackward>)\n",
      "Loss = tensor(1.5269, device='cuda:0', grad_fn=<NllLoss2DBackward>)\n",
      "Loss = tensor(1.5246, device='cuda:0', grad_fn=<NllLoss2DBackward>)\n",
      "Loss = tensor(1.5461, device='cuda:0', grad_fn=<NllLoss2DBackward>)\n",
      "EPOCH:  36\n"
     ]
    },
    {
     "data": {
      "image/png": "[encoded data removed]",
      "text/plain": [
       "<PIL.Image.Image image mode=RGB size=60x60 at 0x7FE74024F190>"
      ]
     },
     "metadata": {},
     "output_type": "display_data"
    },
    {
     "name": "stdout",
     "output_type": "stream",
     "text": [
      "Learning rate:  0.0003\n",
      "Loss = tensor(1.5378, device='cuda:0', grad_fn=<NllLoss2DBackward>)\n",
      "Loss = tensor(1.5450, device='cuda:0', grad_fn=<NllLoss2DBackward>)\n",
      "Loss = tensor(1.5331, device='cuda:0', grad_fn=<NllLoss2DBackward>)\n",
      "Loss = tensor(1.5531, device='cuda:0', grad_fn=<NllLoss2DBackward>)\n",
      "Loss = tensor(1.5339, device='cuda:0', grad_fn=<NllLoss2DBackward>)\n",
      "EPOCH:  36\n"
     ]
    },
    {
     "data": {
      "image/png": "[encoded data removed]",
      "text/plain": [
       "<PIL.Image.Image image mode=RGB size=60x60 at 0x7FE74024FE80>"
      ]
     },
     "metadata": {},
     "output_type": "display_data"
    },
    {
     "name": "stdout",
     "output_type": "stream",
     "text": [
      "Learning rate:  0.0003\n",
      "Loss = tensor(1.5588, device='cuda:0', grad_fn=<NllLoss2DBackward>)\n",
      "Loss = tensor(1.5271, device='cuda:0', grad_fn=<NllLoss2DBackward>)\n",
      "EPOCH:  37\n"
     ]
    },
    {
     "data": {
      "image/png": "[encoded data removed]",
      "text/plain": [
       "<PIL.Image.Image image mode=RGB size=60x60 at 0x7FE74024FE80>"
      ]
     },
     "metadata": {},
     "output_type": "display_data"
    },
    {
     "name": "stdout",
     "output_type": "stream",
     "text": [
      "Learning rate:  0.0003\n",
      "Loss = tensor(1.5478, device='cuda:0', grad_fn=<NllLoss2DBackward>)\n",
      "Loss = tensor(1.5313, device='cuda:0', grad_fn=<NllLoss2DBackward>)\n",
      "Loss = tensor(1.5316, device='cuda:0', grad_fn=<NllLoss2DBackward>)\n",
      "Loss = tensor(1.5327, device='cuda:0', grad_fn=<NllLoss2DBackward>)\n",
      "Loss = tensor(1.5254, device='cuda:0', grad_fn=<NllLoss2DBackward>)\n",
      "EPOCH:  37\n"
     ]
    },
    {
     "data": {
      "image/png": "[encoded data removed]",
      "text/plain": [
       "<PIL.Image.Image image mode=RGB size=60x60 at 0x7FE74024FEE0>"
      ]
     },
     "metadata": {},
     "output_type": "display_data"
    },
    {
     "name": "stdout",
     "output_type": "stream",
     "text": [
      "Learning rate:  0.0003\n",
      "Loss = tensor(1.5382, device='cuda:0', grad_fn=<NllLoss2DBackward>)\n",
      "Loss = tensor(1.5251, device='cuda:0', grad_fn=<NllLoss2DBackward>)\n",
      "Loss = tensor(1.5490, device='cuda:0', grad_fn=<NllLoss2DBackward>)\n",
      "Loss = tensor(1.5641, device='cuda:0', grad_fn=<NllLoss2DBackward>)\n",
      "Loss = tensor(1.5643, device='cuda:0', grad_fn=<NllLoss2DBackward>)\n",
      "EPOCH:  37\n"
     ]
    },
    {
     "data": {
      "image/png": "[encoded data removed]",
      "text/plain": [
       "<PIL.Image.Image image mode=RGB size=60x60 at 0x7FE74024FEE0>"
      ]
     },
     "metadata": {},
     "output_type": "display_data"
    },
    {
     "name": "stdout",
     "output_type": "stream",
     "text": [
      "Learning rate:  0.0003\n",
      "Loss = tensor(1.5306, device='cuda:0', grad_fn=<NllLoss2DBackward>)\n",
      "Loss = tensor(1.5194, device='cuda:0', grad_fn=<NllLoss2DBackward>)\n",
      "EPOCH:  38\n"
     ]
    },
    {
     "data": {
      "image/png": "[encoded data removed]",
      "text/plain": [
       "<PIL.Image.Image image mode=RGB size=60x60 at 0x7FE7402EC280>"
      ]
     },
     "metadata": {},
     "output_type": "display_data"
    },
    {
     "name": "stdout",
     "output_type": "stream",
     "text": [
      "Learning rate:  0.0003\n",
      "Loss = tensor(1.5493, device='cuda:0', grad_fn=<NllLoss2DBackward>)\n",
      "Loss = tensor(1.5636, device='cuda:0', grad_fn=<NllLoss2DBackward>)\n",
      "Loss = tensor(1.5352, device='cuda:0', grad_fn=<NllLoss2DBackward>)\n",
      "Loss = tensor(1.5379, device='cuda:0', grad_fn=<NllLoss2DBackward>)\n",
      "Loss = tensor(1.5397, device='cuda:0', grad_fn=<NllLoss2DBackward>)\n",
      "EPOCH:  38\n"
     ]
    },
    {
     "data": {
      "image/png": "[encoded data removed]",
      "text/plain": [
       "<PIL.Image.Image image mode=RGB size=60x60 at 0x7FE7402EC280>"
      ]
     },
     "metadata": {},
     "output_type": "display_data"
    },
    {
     "name": "stdout",
     "output_type": "stream",
     "text": [
      "Learning rate:  0.0003\n",
      "Loss = tensor(1.5256, device='cuda:0', grad_fn=<NllLoss2DBackward>)\n",
      "Loss = tensor(1.5450, device='cuda:0', grad_fn=<NllLoss2DBackward>)\n",
      "Loss = tensor(1.5359, device='cuda:0', grad_fn=<NllLoss2DBackward>)\n",
      "Loss = tensor(1.5391, device='cuda:0', grad_fn=<NllLoss2DBackward>)\n",
      "Loss = tensor(1.5340, device='cuda:0', grad_fn=<NllLoss2DBackward>)\n",
      "EPOCH:  38\n"
     ]
    },
    {
     "data": {
      "image/png": "[encoded data removed]",
      "text/plain": [
       "<PIL.Image.Image image mode=RGB size=60x60 at 0x7FE7402D0C40>"
      ]
     },
     "metadata": {},
     "output_type": "display_data"
    },
    {
     "name": "stdout",
     "output_type": "stream",
     "text": [
      "Learning rate:  0.0003\n",
      "Loss = tensor(1.5411, device='cuda:0', grad_fn=<NllLoss2DBackward>)\n",
      "Loss = tensor(1.5432, device='cuda:0', grad_fn=<NllLoss2DBackward>)\n",
      "EPOCH:  39\n"
     ]
    },
    {
     "data": {
      "image/png": "[encoded data removed]",
      "text/plain": [
       "<PIL.Image.Image image mode=RGB size=60x60 at 0x7FE74029BF70>"
      ]
     },
     "metadata": {},
     "output_type": "display_data"
    },
    {
     "name": "stdout",
     "output_type": "stream",
     "text": [
      "Learning rate:  0.0003\n",
      "Loss = tensor(1.5494, device='cuda:0', grad_fn=<NllLoss2DBackward>)\n",
      "Loss = tensor(1.5381, device='cuda:0', grad_fn=<NllLoss2DBackward>)\n",
      "Loss = tensor(1.5244, device='cuda:0', grad_fn=<NllLoss2DBackward>)\n",
      "Loss = tensor(1.5449, device='cuda:0', grad_fn=<NllLoss2DBackward>)\n",
      "Loss = tensor(1.5385, device='cuda:0', grad_fn=<NllLoss2DBackward>)\n",
      "EPOCH:  39\n"
     ]
    },
    {
     "data": {
      "image/png": "[encoded data removed]",
      "text/plain": [
       "<PIL.Image.Image image mode=RGB size=60x60 at 0x7FE74024FE80>"
      ]
     },
     "metadata": {},
     "output_type": "display_data"
    },
    {
     "name": "stdout",
     "output_type": "stream",
     "text": [
      "Learning rate:  0.0003\n",
      "Loss = tensor(1.5297, device='cuda:0', grad_fn=<NllLoss2DBackward>)\n",
      "Loss = tensor(1.5506, device='cuda:0', grad_fn=<NllLoss2DBackward>)\n",
      "Loss = tensor(1.5449, device='cuda:0', grad_fn=<NllLoss2DBackward>)\n",
      "Loss = tensor(1.5340, device='cuda:0', grad_fn=<NllLoss2DBackward>)\n",
      "Loss = tensor(1.5330, device='cuda:0', grad_fn=<NllLoss2DBackward>)\n",
      "EPOCH:  39\n"
     ]
    },
    {
     "data": {
      "image/png": "[encoded data removed]",
      "text/plain": [
       "<PIL.Image.Image image mode=RGB size=60x60 at 0x7FE74029B0A0>"
      ]
     },
     "metadata": {},
     "output_type": "display_data"
    },
    {
     "name": "stdout",
     "output_type": "stream",
     "text": [
      "Learning rate:  0.0003\n",
      "Loss = tensor(1.5269, device='cuda:0', grad_fn=<NllLoss2DBackward>)\n",
      "Loss = tensor(1.5256, device='cuda:0', grad_fn=<NllLoss2DBackward>)\n",
      "EPOCH:  40\n"
     ]
    },
    {
     "data": {
      "image/png": "[encoded data removed]",
      "text/plain": [
       "<PIL.Image.Image image mode=RGB size=60x60 at 0x7FE74024F190>"
      ]
     },
     "metadata": {},
     "output_type": "display_data"
    },
    {
     "name": "stdout",
     "output_type": "stream",
     "text": [
      "Learning rate:  0.0003\n",
      "Loss = tensor(1.5460, device='cuda:0', grad_fn=<NllLoss2DBackward>)\n",
      "Loss = tensor(1.5293, device='cuda:0', grad_fn=<NllLoss2DBackward>)\n",
      "Loss = tensor(1.5378, device='cuda:0', grad_fn=<NllLoss2DBackward>)\n",
      "Loss = tensor(1.5195, device='cuda:0', grad_fn=<NllLoss2DBackward>)\n",
      "Loss = tensor(1.5252, device='cuda:0', grad_fn=<NllLoss2DBackward>)\n",
      "EPOCH:  40\n"
     ]
    },
    {
     "data": {
      "image/png": "[encoded data removed]",
      "text/plain": [
       "<PIL.Image.Image image mode=RGB size=60x60 at 0x7FE74024FEE0>"
      ]
     },
     "metadata": {},
     "output_type": "display_data"
    },
    {
     "name": "stdout",
     "output_type": "stream",
     "text": [
      "Learning rate:  0.0003\n",
      "Loss = tensor(1.5525, device='cuda:0', grad_fn=<NllLoss2DBackward>)\n",
      "Loss = tensor(1.5656, device='cuda:0', grad_fn=<NllLoss2DBackward>)\n",
      "Loss = tensor(1.5400, device='cuda:0', grad_fn=<NllLoss2DBackward>)\n",
      "Loss = tensor(1.5429, device='cuda:0', grad_fn=<NllLoss2DBackward>)\n",
      "Loss = tensor(1.5357, device='cuda:0', grad_fn=<NllLoss2DBackward>)\n",
      "EPOCH:  40\n"
     ]
    },
    {
     "data": {
      "image/png": "[encoded data removed]",
      "text/plain": [
       "<PIL.Image.Image image mode=RGB size=60x60 at 0x7FE74024F550>"
      ]
     },
     "metadata": {},
     "output_type": "display_data"
    },
    {
     "name": "stdout",
     "output_type": "stream",
     "text": [
      "Learning rate:  0.0003\n",
      "Loss = tensor(1.5475, device='cuda:0', grad_fn=<NllLoss2DBackward>)\n",
      "Loss = tensor(1.5313, device='cuda:0', grad_fn=<NllLoss2DBackward>)\n",
      "EPOCH:  41\n"
     ]
    },
    {
     "data": {
      "image/png": "[encoded data removed]",
      "text/plain": [
       "<PIL.Image.Image image mode=RGB size=60x60 at 0x7FE74029BF70>"
      ]
     },
     "metadata": {},
     "output_type": "display_data"
    },
    {
     "name": "stdout",
     "output_type": "stream",
     "text": [
      "Learning rate:  0.0003\n",
      "Loss = tensor(1.5336, device='cuda:0', grad_fn=<NllLoss2DBackward>)\n",
      "Loss = tensor(1.5531, device='cuda:0', grad_fn=<NllLoss2DBackward>)\n",
      "Loss = tensor(1.5358, device='cuda:0', grad_fn=<NllLoss2DBackward>)\n",
      "Loss = tensor(1.5236, device='cuda:0', grad_fn=<NllLoss2DBackward>)\n",
      "Loss = tensor(1.5380, device='cuda:0', grad_fn=<NllLoss2DBackward>)\n",
      "EPOCH:  41\n"
     ]
    },
    {
     "data": {
      "image/png": "[encoded data removed]",
      "text/plain": [
       "<PIL.Image.Image image mode=RGB size=60x60 at 0x7FE748063D60>"
      ]
     },
     "metadata": {},
     "output_type": "display_data"
    },
    {
     "name": "stdout",
     "output_type": "stream",
     "text": [
      "Learning rate:  0.0003\n",
      "Loss = tensor(1.5320, device='cuda:0', grad_fn=<NllLoss2DBackward>)\n",
      "Loss = tensor(1.5302, device='cuda:0', grad_fn=<NllLoss2DBackward>)\n",
      "Loss = tensor(1.5588, device='cuda:0', grad_fn=<NllLoss2DBackward>)\n",
      "Loss = tensor(1.5544, device='cuda:0', grad_fn=<NllLoss2DBackward>)\n",
      "Loss = tensor(1.5214, device='cuda:0', grad_fn=<NllLoss2DBackward>)\n",
      "EPOCH:  41\n"
     ]
    },
    {
     "data": {
      "image/png": "[encoded data removed]",
      "text/plain": [
       "<PIL.Image.Image image mode=RGB size=60x60 at 0x7FE74024FEE0>"
      ]
     },
     "metadata": {},
     "output_type": "display_data"
    },
    {
     "name": "stdout",
     "output_type": "stream",
     "text": [
      "Learning rate:  0.0003\n",
      "Loss = tensor(1.5430, device='cuda:0', grad_fn=<NllLoss2DBackward>)\n",
      "Loss = tensor(1.5284, device='cuda:0', grad_fn=<NllLoss2DBackward>)\n",
      "EPOCH:  42\n"
     ]
    },
    {
     "data": {
      "image/png": "[encoded data removed]",
      "text/plain": [
       "<PIL.Image.Image image mode=RGB size=60x60 at 0x7FE74024FC40>"
      ]
     },
     "metadata": {},
     "output_type": "display_data"
    },
    {
     "name": "stdout",
     "output_type": "stream",
     "text": [
      "Learning rate:  0.0003\n",
      "Loss = tensor(1.5350, device='cuda:0', grad_fn=<NllLoss2DBackward>)\n",
      "Loss = tensor(1.5439, device='cuda:0', grad_fn=<NllLoss2DBackward>)\n",
      "Loss = tensor(1.5500, device='cuda:0', grad_fn=<NllLoss2DBackward>)\n",
      "Loss = tensor(1.5198, device='cuda:0', grad_fn=<NllLoss2DBackward>)\n",
      "Loss = tensor(1.5544, device='cuda:0', grad_fn=<NllLoss2DBackward>)\n",
      "EPOCH:  42\n"
     ]
    },
    {
     "data": {
      "image/png": "[encoded data removed]",
      "text/plain": [
       "<PIL.Image.Image image mode=RGB size=60x60 at 0x7FE74024FEE0>"
      ]
     },
     "metadata": {},
     "output_type": "display_data"
    },
    {
     "name": "stdout",
     "output_type": "stream",
     "text": [
      "Learning rate:  0.0003\n",
      "Loss = tensor(1.5324, device='cuda:0', grad_fn=<NllLoss2DBackward>)\n",
      "Loss = tensor(1.5440, device='cuda:0', grad_fn=<NllLoss2DBackward>)\n",
      "Loss = tensor(1.5278, device='cuda:0', grad_fn=<NllLoss2DBackward>)\n",
      "Loss = tensor(1.5282, device='cuda:0', grad_fn=<NllLoss2DBackward>)\n",
      "Loss = tensor(1.5631, device='cuda:0', grad_fn=<NllLoss2DBackward>)\n",
      "EPOCH:  42\n"
     ]
    },
    {
     "data": {
      "image/png": "[encoded data removed]",
      "text/plain": [
       "<PIL.Image.Image image mode=RGB size=60x60 at 0x7FE74024F550>"
      ]
     },
     "metadata": {},
     "output_type": "display_data"
    },
    {
     "name": "stdout",
     "output_type": "stream",
     "text": [
      "Learning rate:  0.0003\n",
      "Loss = tensor(1.5151, device='cuda:0', grad_fn=<NllLoss2DBackward>)\n",
      "Loss = tensor(1.5429, device='cuda:0', grad_fn=<NllLoss2DBackward>)\n",
      "EPOCH:  43\n"
     ]
    },
    {
     "data": {
      "image/png": "[encoded data removed]",
      "text/plain": [
       "<PIL.Image.Image image mode=RGB size=60x60 at 0x7FE7DC0B4CD0>"
      ]
     },
     "metadata": {},
     "output_type": "display_data"
    },
    {
     "name": "stdout",
     "output_type": "stream",
     "text": [
      "Learning rate:  0.0003\n",
      "Loss = tensor(1.5243, device='cuda:0', grad_fn=<NllLoss2DBackward>)\n",
      "Loss = tensor(1.5396, device='cuda:0', grad_fn=<NllLoss2DBackward>)\n",
      "Loss = tensor(1.5380, device='cuda:0', grad_fn=<NllLoss2DBackward>)\n",
      "Loss = tensor(1.5305, device='cuda:0', grad_fn=<NllLoss2DBackward>)\n",
      "Loss = tensor(1.5545, device='cuda:0', grad_fn=<NllLoss2DBackward>)\n",
      "EPOCH:  43\n"
     ]
    },
    {
     "data": {
      "image/png": "[encoded data removed]",
      "text/plain": [
       "<PIL.Image.Image image mode=RGB size=60x60 at 0x7FE74029B2B0>"
      ]
     },
     "metadata": {},
     "output_type": "display_data"
    },
    {
     "name": "stdout",
     "output_type": "stream",
     "text": [
      "Learning rate:  0.0003\n",
      "Loss = tensor(1.5414, device='cuda:0', grad_fn=<NllLoss2DBackward>)\n",
      "Loss = tensor(1.5327, device='cuda:0', grad_fn=<NllLoss2DBackward>)\n",
      "Loss = tensor(1.5214, device='cuda:0', grad_fn=<NllLoss2DBackward>)\n",
      "Loss = tensor(1.5216, device='cuda:0', grad_fn=<NllLoss2DBackward>)\n",
      "Loss = tensor(1.5232, device='cuda:0', grad_fn=<NllLoss2DBackward>)\n",
      "EPOCH:  43\n"
     ]
    },
    {
     "data": {
      "image/png": "[encoded data removed]",
      "text/plain": [
       "<PIL.Image.Image image mode=RGB size=60x60 at 0x7FE74024FEE0>"
      ]
     },
     "metadata": {},
     "output_type": "display_data"
    },
    {
     "name": "stdout",
     "output_type": "stream",
     "text": [
      "Learning rate:  0.0003\n",
      "Loss = tensor(1.5725, device='cuda:0', grad_fn=<NllLoss2DBackward>)\n",
      "Loss = tensor(1.5223, device='cuda:0', grad_fn=<NllLoss2DBackward>)\n",
      "EPOCH:  44\n"
     ]
    },
    {
     "data": {
      "image/png": "[encoded data removed]",
      "text/plain": [
       "<PIL.Image.Image image mode=RGB size=60x60 at 0x7FE74029B2B0>"
      ]
     },
     "metadata": {},
     "output_type": "display_data"
    },
    {
     "name": "stdout",
     "output_type": "stream",
     "text": [
      "Learning rate:  0.0003\n",
      "Loss = tensor(1.5462, device='cuda:0', grad_fn=<NllLoss2DBackward>)\n",
      "Loss = tensor(1.5413, device='cuda:0', grad_fn=<NllLoss2DBackward>)\n",
      "Loss = tensor(1.5306, device='cuda:0', grad_fn=<NllLoss2DBackward>)\n",
      "Loss = tensor(1.5488, device='cuda:0', grad_fn=<NllLoss2DBackward>)\n",
      "Loss = tensor(1.5214, device='cuda:0', grad_fn=<NllLoss2DBackward>)\n",
      "EPOCH:  44\n"
     ]
    },
    {
     "data": {
      "image/png": "[encoded data removed]",
      "text/plain": [
       "<PIL.Image.Image image mode=RGB size=60x60 at 0x7FE74024FC40>"
      ]
     },
     "metadata": {},
     "output_type": "display_data"
    },
    {
     "name": "stdout",
     "output_type": "stream",
     "text": [
      "Learning rate:  0.0003\n",
      "Loss = tensor(1.5407, device='cuda:0', grad_fn=<NllLoss2DBackward>)\n",
      "Loss = tensor(1.5387, device='cuda:0', grad_fn=<NllLoss2DBackward>)\n",
      "Loss = tensor(1.5569, device='cuda:0', grad_fn=<NllLoss2DBackward>)\n",
      "Loss = tensor(1.5194, device='cuda:0', grad_fn=<NllLoss2DBackward>)\n",
      "Loss = tensor(1.5440, device='cuda:0', grad_fn=<NllLoss2DBackward>)\n",
      "EPOCH:  44\n"
     ]
    },
    {
     "data": {
      "image/png": "[encoded data removed]",
      "text/plain": [
       "<PIL.Image.Image image mode=RGB size=60x60 at 0x7FE74029BF70>"
      ]
     },
     "metadata": {},
     "output_type": "display_data"
    },
    {
     "name": "stdout",
     "output_type": "stream",
     "text": [
      "Learning rate:  0.0003\n",
      "Loss = tensor(1.5296, device='cuda:0', grad_fn=<NllLoss2DBackward>)\n",
      "Loss = tensor(1.5366, device='cuda:0', grad_fn=<NllLoss2DBackward>)\n",
      "EPOCH:  45\n"
     ]
    },
    {
     "data": {
      "image/png": "[encoded data removed]",
      "text/plain": [
       "<PIL.Image.Image image mode=RGB size=60x60 at 0x7FE74024F550>"
      ]
     },
     "metadata": {},
     "output_type": "display_data"
    },
    {
     "name": "stdout",
     "output_type": "stream",
     "text": [
      "Learning rate:  0.0003\n",
      "Loss = tensor(1.5349, device='cuda:0', grad_fn=<NllLoss2DBackward>)\n",
      "Loss = tensor(1.5363, device='cuda:0', grad_fn=<NllLoss2DBackward>)\n",
      "Loss = tensor(1.5411, device='cuda:0', grad_fn=<NllLoss2DBackward>)\n",
      "Loss = tensor(1.5313, device='cuda:0', grad_fn=<NllLoss2DBackward>)\n",
      "Loss = tensor(1.5303, device='cuda:0', grad_fn=<NllLoss2DBackward>)\n",
      "EPOCH:  45\n"
     ]
    },
    {
     "data": {
      "image/png": "[encoded data removed]",
      "text/plain": [
       "<PIL.Image.Image image mode=RGB size=60x60 at 0x7FE7402EC4C0>"
      ]
     },
     "metadata": {},
     "output_type": "display_data"
    },
    {
     "name": "stdout",
     "output_type": "stream",
     "text": [
      "Learning rate:  0.0003\n",
      "Loss = tensor(1.5368, device='cuda:0', grad_fn=<NllLoss2DBackward>)\n",
      "Loss = tensor(1.5441, device='cuda:0', grad_fn=<NllLoss2DBackward>)\n",
      "Loss = tensor(1.5221, device='cuda:0', grad_fn=<NllLoss2DBackward>)\n",
      "Loss = tensor(1.5246, device='cuda:0', grad_fn=<NllLoss2DBackward>)\n",
      "Loss = tensor(1.5400, device='cuda:0', grad_fn=<NllLoss2DBackward>)\n",
      "EPOCH:  45\n"
     ]
    },
    {
     "data": {
      "image/png": "[encoded data removed]",
      "text/plain": [
       "<PIL.Image.Image image mode=RGB size=60x60 at 0x7FE74029B0A0>"
      ]
     },
     "metadata": {},
     "output_type": "display_data"
    },
    {
     "name": "stdout",
     "output_type": "stream",
     "text": [
      "Learning rate:  0.0003\n",
      "Loss = tensor(1.5563, device='cuda:0', grad_fn=<NllLoss2DBackward>)\n",
      "Loss = tensor(1.5280, device='cuda:0', grad_fn=<NllLoss2DBackward>)\n",
      "EPOCH:  46\n"
     ]
    },
    {
     "data": {
      "image/png": "[encoded data removed]",
      "text/plain": [
       "<PIL.Image.Image image mode=RGB size=60x60 at 0x7FE74024FE80>"
      ]
     },
     "metadata": {},
     "output_type": "display_data"
    },
    {
     "name": "stdout",
     "output_type": "stream",
     "text": [
      "Learning rate:  0.0003\n",
      "Loss = tensor(1.5346, device='cuda:0', grad_fn=<NllLoss2DBackward>)\n",
      "Loss = tensor(1.5610, device='cuda:0', grad_fn=<NllLoss2DBackward>)\n",
      "Loss = tensor(1.5368, device='cuda:0', grad_fn=<NllLoss2DBackward>)\n",
      "Loss = tensor(1.5367, device='cuda:0', grad_fn=<NllLoss2DBackward>)\n",
      "Loss = tensor(1.5359, device='cuda:0', grad_fn=<NllLoss2DBackward>)\n",
      "EPOCH:  46\n"
     ]
    },
    {
     "data": {
      "image/png": "[encoded data removed]",
      "text/plain": [
       "<PIL.Image.Image image mode=RGB size=60x60 at 0x7FE74024FE80>"
      ]
     },
     "metadata": {},
     "output_type": "display_data"
    },
    {
     "name": "stdout",
     "output_type": "stream",
     "text": [
      "Learning rate:  0.0003\n",
      "Loss = tensor(1.5393, device='cuda:0', grad_fn=<NllLoss2DBackward>)\n",
      "Loss = tensor(1.5247, device='cuda:0', grad_fn=<NllLoss2DBackward>)\n",
      "Loss = tensor(1.5239, device='cuda:0', grad_fn=<NllLoss2DBackward>)\n",
      "Loss = tensor(1.5206, device='cuda:0', grad_fn=<NllLoss2DBackward>)\n",
      "Loss = tensor(1.5473, device='cuda:0', grad_fn=<NllLoss2DBackward>)\n",
      "EPOCH:  46\n"
     ]
    },
    {
     "data": {
      "image/png": "[encoded data removed]",
      "text/plain": [
       "<PIL.Image.Image image mode=RGB size=60x60 at 0x7FE74024FE80>"
      ]
     },
     "metadata": {},
     "output_type": "display_data"
    },
    {
     "name": "stdout",
     "output_type": "stream",
     "text": [
      "Learning rate:  0.0003\n",
      "Loss = tensor(1.5509, device='cuda:0', grad_fn=<NllLoss2DBackward>)\n",
      "Loss = tensor(1.5478, device='cuda:0', grad_fn=<NllLoss2DBackward>)\n",
      "EPOCH:  47\n"
     ]
    },
    {
     "data": {
      "image/png": "[encoded data removed]",
      "text/plain": [
       "<PIL.Image.Image image mode=RGB size=60x60 at 0x7FE74024FC40>"
      ]
     },
     "metadata": {},
     "output_type": "display_data"
    },
    {
     "name": "stdout",
     "output_type": "stream",
     "text": [
      "Learning rate:  0.0003\n",
      "Loss = tensor(1.5417, device='cuda:0', grad_fn=<NllLoss2DBackward>)\n",
      "Loss = tensor(1.5502, device='cuda:0', grad_fn=<NllLoss2DBackward>)\n",
      "Loss = tensor(1.5572, device='cuda:0', grad_fn=<NllLoss2DBackward>)\n",
      "Loss = tensor(1.5223, device='cuda:0', grad_fn=<NllLoss2DBackward>)\n",
      "Loss = tensor(1.5395, device='cuda:0', grad_fn=<NllLoss2DBackward>)\n",
      "EPOCH:  47\n"
     ]
    },
    {
     "data": {
      "image/png": "[encoded data removed]",
      "text/plain": [
       "<PIL.Image.Image image mode=RGB size=60x60 at 0x7FE7402D0C40>"
      ]
     },
     "metadata": {},
     "output_type": "display_data"
    },
    {
     "name": "stdout",
     "output_type": "stream",
     "text": [
      "Learning rate:  0.0003\n",
      "Loss = tensor(1.5172, device='cuda:0', grad_fn=<NllLoss2DBackward>)\n",
      "Loss = tensor(1.5283, device='cuda:0', grad_fn=<NllLoss2DBackward>)\n",
      "Loss = tensor(1.5329, device='cuda:0', grad_fn=<NllLoss2DBackward>)\n",
      "Loss = tensor(1.5374, device='cuda:0', grad_fn=<NllLoss2DBackward>)\n",
      "Loss = tensor(1.5310, device='cuda:0', grad_fn=<NllLoss2DBackward>)\n",
      "EPOCH:  47\n"
     ]
    },
    {
     "data": {
      "image/png": "[encoded data removed]",
      "text/plain": [
       "<PIL.Image.Image image mode=RGB size=60x60 at 0x7FE74029BDC0>"
      ]
     },
     "metadata": {},
     "output_type": "display_data"
    },
    {
     "name": "stdout",
     "output_type": "stream",
     "text": [
      "Learning rate:  0.0003\n",
      "Loss = tensor(1.5320, device='cuda:0', grad_fn=<NllLoss2DBackward>)\n",
      "Loss = tensor(1.5329, device='cuda:0', grad_fn=<NllLoss2DBackward>)\n",
      "EPOCH:  48\n"
     ]
    },
    {
     "data": {
      "image/png": "[encoded data removed]",
      "text/plain": [
       "<PIL.Image.Image image mode=RGB size=60x60 at 0x7FE74029BE50>"
      ]
     },
     "metadata": {},
     "output_type": "display_data"
    },
    {
     "name": "stdout",
     "output_type": "stream",
     "text": [
      "Learning rate:  0.0003\n",
      "Loss = tensor(1.5490, device='cuda:0', grad_fn=<NllLoss2DBackward>)\n",
      "Loss = tensor(1.5510, device='cuda:0', grad_fn=<NllLoss2DBackward>)\n",
      "Loss = tensor(1.5297, device='cuda:0', grad_fn=<NllLoss2DBackward>)\n",
      "Loss = tensor(1.5146, device='cuda:0', grad_fn=<NllLoss2DBackward>)\n",
      "Loss = tensor(1.5602, device='cuda:0', grad_fn=<NllLoss2DBackward>)\n",
      "EPOCH:  48\n"
     ]
    },
    {
     "data": {
      "image/png": "[encoded data removed]",
      "text/plain": [
       "<PIL.Image.Image image mode=RGB size=60x60 at 0x7FE74029B2B0>"
      ]
     },
     "metadata": {},
     "output_type": "display_data"
    },
    {
     "name": "stdout",
     "output_type": "stream",
     "text": [
      "Learning rate:  0.0003\n",
      "Loss = tensor(1.5428, device='cuda:0', grad_fn=<NllLoss2DBackward>)\n",
      "Loss = tensor(1.5462, device='cuda:0', grad_fn=<NllLoss2DBackward>)\n",
      "Loss = tensor(1.5301, device='cuda:0', grad_fn=<NllLoss2DBackward>)\n",
      "Loss = tensor(1.5313, device='cuda:0', grad_fn=<NllLoss2DBackward>)\n",
      "Loss = tensor(1.5151, device='cuda:0', grad_fn=<NllLoss2DBackward>)\n",
      "EPOCH:  48\n"
     ]
    },
    {
     "data": {
      "image/png": "[encoded data removed]",
      "text/plain": [
       "<PIL.Image.Image image mode=RGB size=60x60 at 0x7FE74029B2B0>"
      ]
     },
     "metadata": {},
     "output_type": "display_data"
    },
    {
     "name": "stdout",
     "output_type": "stream",
     "text": [
      "Learning rate:  0.0003\n",
      "Loss = tensor(1.5473, device='cuda:0', grad_fn=<NllLoss2DBackward>)\n",
      "Loss = tensor(1.5415, device='cuda:0', grad_fn=<NllLoss2DBackward>)\n",
      "EPOCH:  49\n"
     ]
    },
    {
     "data": {
      "image/png": "[encoded data removed]",
      "text/plain": [
       "<PIL.Image.Image image mode=RGB size=60x60 at 0x7FE74024FEE0>"
      ]
     },
     "metadata": {},
     "output_type": "display_data"
    },
    {
     "name": "stdout",
     "output_type": "stream",
     "text": [
      "Learning rate:  0.0003\n",
      "Loss = tensor(1.5353, device='cuda:0', grad_fn=<NllLoss2DBackward>)\n",
      "Loss = tensor(1.5270, device='cuda:0', grad_fn=<NllLoss2DBackward>)\n",
      "Loss = tensor(1.5404, device='cuda:0', grad_fn=<NllLoss2DBackward>)\n",
      "Loss = tensor(1.5331, device='cuda:0', grad_fn=<NllLoss2DBackward>)\n",
      "Loss = tensor(1.5400, device='cuda:0', grad_fn=<NllLoss2DBackward>)\n",
      "EPOCH:  49\n"
     ]
    },
    {
     "data": {
      "image/png": "[encoded data removed]",
      "text/plain": [
       "<PIL.Image.Image image mode=RGB size=60x60 at 0x7FE74024FE80>"
      ]
     },
     "metadata": {},
     "output_type": "display_data"
    },
    {
     "name": "stdout",
     "output_type": "stream",
     "text": [
      "Learning rate:  0.0003\n",
      "Loss = tensor(1.5418, device='cuda:0', grad_fn=<NllLoss2DBackward>)\n",
      "Loss = tensor(1.5469, device='cuda:0', grad_fn=<NllLoss2DBackward>)\n",
      "Loss = tensor(1.5262, device='cuda:0', grad_fn=<NllLoss2DBackward>)\n",
      "Loss = tensor(1.5519, device='cuda:0', grad_fn=<NllLoss2DBackward>)\n",
      "Loss = tensor(1.5113, device='cuda:0', grad_fn=<NllLoss2DBackward>)\n",
      "EPOCH:  49\n"
     ]
    },
    {
     "data": {
      "image/png": "[encoded data removed]",
      "text/plain": [
       "<PIL.Image.Image image mode=RGB size=60x60 at 0x7FE74029B0A0>"
      ]
     },
     "metadata": {},
     "output_type": "display_data"
    },
    {
     "name": "stdout",
     "output_type": "stream",
     "text": [
      "Learning rate:  0.0003\n",
      "Loss = tensor(1.5320, device='cuda:0', grad_fn=<NllLoss2DBackward>)\n",
      "Loss = tensor(1.5424, device='cuda:0', grad_fn=<NllLoss2DBackward>)\n",
      "EPOCH:  50\n"
     ]
    },
    {
     "data": {
      "image/png": "[encoded data removed]",
      "text/plain": [
       "<PIL.Image.Image image mode=RGB size=60x60 at 0x7FE748063D60>"
      ]
     },
     "metadata": {},
     "output_type": "display_data"
    },
    {
     "name": "stdout",
     "output_type": "stream",
     "text": [
      "Learning rate:  0.0003\n",
      "Loss = tensor(1.5443, device='cuda:0', grad_fn=<NllLoss2DBackward>)\n",
      "Loss = tensor(1.5178, device='cuda:0', grad_fn=<NllLoss2DBackward>)\n",
      "Loss = tensor(1.5255, device='cuda:0', grad_fn=<NllLoss2DBackward>)\n",
      "Loss = tensor(1.5388, device='cuda:0', grad_fn=<NllLoss2DBackward>)\n",
      "Loss = tensor(1.5428, device='cuda:0', grad_fn=<NllLoss2DBackward>)\n",
      "EPOCH:  50\n"
     ]
    },
    {
     "data": {
      "image/png": "[encoded data removed]",
      "text/plain": [
       "<PIL.Image.Image image mode=RGB size=60x60 at 0x7FE74029BF70>"
      ]
     },
     "metadata": {},
     "output_type": "display_data"
    },
    {
     "name": "stdout",
     "output_type": "stream",
     "text": [
      "Learning rate:  0.0003\n",
      "Loss = tensor(1.5473, device='cuda:0', grad_fn=<NllLoss2DBackward>)\n",
      "Loss = tensor(1.5289, device='cuda:0', grad_fn=<NllLoss2DBackward>)\n",
      "Loss = tensor(1.5166, device='cuda:0', grad_fn=<NllLoss2DBackward>)\n",
      "Loss = tensor(1.5643, device='cuda:0', grad_fn=<NllLoss2DBackward>)\n",
      "Loss = tensor(1.5423, device='cuda:0', grad_fn=<NllLoss2DBackward>)\n",
      "EPOCH:  50\n"
     ]
    },
    {
     "data": {
      "image/png": "[encoded data removed]",
      "text/plain": [
       "<PIL.Image.Image image mode=RGB size=60x60 at 0x7FE74024FC40>"
      ]
     },
     "metadata": {},
     "output_type": "display_data"
    },
    {
     "name": "stdout",
     "output_type": "stream",
     "text": [
      "Learning rate:  0.0003\n",
      "Loss = tensor(1.5144, device='cuda:0', grad_fn=<NllLoss2DBackward>)\n",
      "Loss = tensor(1.5477, device='cuda:0', grad_fn=<NllLoss2DBackward>)\n",
      "EPOCH:  51\n"
     ]
    },
    {
     "data": {
      "image/png": "[encoded data removed]",
      "text/plain": [
       "<PIL.Image.Image image mode=RGB size=60x60 at 0x7FE74029BF70>"
      ]
     },
     "metadata": {},
     "output_type": "display_data"
    },
    {
     "name": "stdout",
     "output_type": "stream",
     "text": [
      "Learning rate:  0.0003\n",
      "Loss = tensor(1.5635, device='cuda:0', grad_fn=<NllLoss2DBackward>)\n",
      "Loss = tensor(1.5207, device='cuda:0', grad_fn=<NllLoss2DBackward>)\n",
      "Loss = tensor(1.5227, device='cuda:0', grad_fn=<NllLoss2DBackward>)\n",
      "Loss = tensor(1.5416, device='cuda:0', grad_fn=<NllLoss2DBackward>)\n",
      "Loss = tensor(1.5337, device='cuda:0', grad_fn=<NllLoss2DBackward>)\n",
      "EPOCH:  51\n"
     ]
    },
    {
     "data": {
      "image/png": "[encoded data removed]",
      "text/plain": [
       "<PIL.Image.Image image mode=RGB size=60x60 at 0x7FE748063D60>"
      ]
     },
     "metadata": {},
     "output_type": "display_data"
    },
    {
     "name": "stdout",
     "output_type": "stream",
     "text": [
      "Learning rate:  0.0003\n",
      "Loss = tensor(1.5332, device='cuda:0', grad_fn=<NllLoss2DBackward>)\n",
      "Loss = tensor(1.5327, device='cuda:0', grad_fn=<NllLoss2DBackward>)\n",
      "Loss = tensor(1.5239, device='cuda:0', grad_fn=<NllLoss2DBackward>)\n",
      "Loss = tensor(1.5179, device='cuda:0', grad_fn=<NllLoss2DBackward>)\n",
      "Loss = tensor(1.5317, device='cuda:0', grad_fn=<NllLoss2DBackward>)\n",
      "EPOCH:  51\n"
     ]
    },
    {
     "data": {
      "image/png": "[encoded data removed]",
      "text/plain": [
       "<PIL.Image.Image image mode=RGB size=60x60 at 0x7FE74024F550>"
      ]
     },
     "metadata": {},
     "output_type": "display_data"
    },
    {
     "name": "stdout",
     "output_type": "stream",
     "text": [
      "Learning rate:  0.0003\n",
      "Loss = tensor(1.5519, device='cuda:0', grad_fn=<NllLoss2DBackward>)\n",
      "Loss = tensor(1.5295, device='cuda:0', grad_fn=<NllLoss2DBackward>)\n",
      "EPOCH:  52\n"
     ]
    },
    {
     "data": {
      "image/png": "[encoded data removed]",
      "text/plain": [
       "<PIL.Image.Image image mode=RGB size=60x60 at 0x7FE7402EC280>"
      ]
     },
     "metadata": {},
     "output_type": "display_data"
    },
    {
     "name": "stdout",
     "output_type": "stream",
     "text": [
      "Learning rate:  0.0003\n",
      "Loss = tensor(1.5304, device='cuda:0', grad_fn=<NllLoss2DBackward>)\n",
      "Loss = tensor(1.5310, device='cuda:0', grad_fn=<NllLoss2DBackward>)\n",
      "Loss = tensor(1.5508, device='cuda:0', grad_fn=<NllLoss2DBackward>)\n",
      "Loss = tensor(1.5358, device='cuda:0', grad_fn=<NllLoss2DBackward>)\n",
      "Loss = tensor(1.5366, device='cuda:0', grad_fn=<NllLoss2DBackward>)\n",
      "EPOCH:  52\n"
     ]
    },
    {
     "data": {
      "image/png": "[encoded data removed]",
      "text/plain": [
       "<PIL.Image.Image image mode=RGB size=60x60 at 0x7FE7402EC280>"
      ]
     },
     "metadata": {},
     "output_type": "display_data"
    },
    {
     "name": "stdout",
     "output_type": "stream",
     "text": [
      "Learning rate:  0.0003\n",
      "Loss = tensor(1.5278, device='cuda:0', grad_fn=<NllLoss2DBackward>)\n",
      "Loss = tensor(1.5290, device='cuda:0', grad_fn=<NllLoss2DBackward>)\n",
      "Loss = tensor(1.5238, device='cuda:0', grad_fn=<NllLoss2DBackward>)\n",
      "Loss = tensor(1.5599, device='cuda:0', grad_fn=<NllLoss2DBackward>)\n",
      "Loss = tensor(1.5291, device='cuda:0', grad_fn=<NllLoss2DBackward>)\n",
      "EPOCH:  52\n"
     ]
    },
    {
     "data": {
      "image/png": "[encoded data removed]",
      "text/plain": [
       "<PIL.Image.Image image mode=RGB size=60x60 at 0x7FE748063D60>"
      ]
     },
     "metadata": {},
     "output_type": "display_data"
    },
    {
     "name": "stdout",
     "output_type": "stream",
     "text": [
      "Learning rate:  0.0003\n",
      "Loss = tensor(1.5656, device='cuda:0', grad_fn=<NllLoss2DBackward>)\n",
      "Loss = tensor(1.5650, device='cuda:0', grad_fn=<NllLoss2DBackward>)\n",
      "EPOCH:  53\n"
     ]
    },
    {
     "data": {
      "image/png": "[encoded data removed]",
      "text/plain": [
       "<PIL.Image.Image image mode=RGB size=60x60 at 0x7FE74029BE50>"
      ]
     },
     "metadata": {},
     "output_type": "display_data"
    },
    {
     "name": "stdout",
     "output_type": "stream",
     "text": [
      "Learning rate:  0.0003\n",
      "Loss = tensor(1.5343, device='cuda:0', grad_fn=<NllLoss2DBackward>)\n",
      "Loss = tensor(1.5275, device='cuda:0', grad_fn=<NllLoss2DBackward>)\n",
      "Loss = tensor(1.5236, device='cuda:0', grad_fn=<NllLoss2DBackward>)\n",
      "Loss = tensor(1.5291, device='cuda:0', grad_fn=<NllLoss2DBackward>)\n",
      "Loss = tensor(1.5546, device='cuda:0', grad_fn=<NllLoss2DBackward>)\n",
      "EPOCH:  53\n"
     ]
    },
    {
     "data": {
      "image/png": "[encoded data removed]",
      "text/plain": [
       "<PIL.Image.Image image mode=RGB size=60x60 at 0x7FE74029BE50>"
      ]
     },
     "metadata": {},
     "output_type": "display_data"
    },
    {
     "name": "stdout",
     "output_type": "stream",
     "text": [
      "Learning rate:  0.0003\n",
      "Loss = tensor(1.5431, device='cuda:0', grad_fn=<NllLoss2DBackward>)\n",
      "Loss = tensor(1.5190, device='cuda:0', grad_fn=<NllLoss2DBackward>)\n",
      "Loss = tensor(1.5425, device='cuda:0', grad_fn=<NllLoss2DBackward>)\n",
      "Loss = tensor(1.5299, device='cuda:0', grad_fn=<NllLoss2DBackward>)\n",
      "Loss = tensor(1.5437, device='cuda:0', grad_fn=<NllLoss2DBackward>)\n",
      "EPOCH:  53\n"
     ]
    },
    {
     "data": {
      "image/png": "[encoded data removed]",
      "text/plain": [
       "<PIL.Image.Image image mode=RGB size=60x60 at 0x7FE7402D0C40>"
      ]
     },
     "metadata": {},
     "output_type": "display_data"
    },
    {
     "name": "stdout",
     "output_type": "stream",
     "text": [
      "Learning rate:  0.0003\n",
      "Loss = tensor(1.5289, device='cuda:0', grad_fn=<NllLoss2DBackward>)\n",
      "Loss = tensor(1.5377, device='cuda:0', grad_fn=<NllLoss2DBackward>)\n",
      "EPOCH:  54\n"
     ]
    },
    {
     "data": {
      "image/png": "[encoded data removed]",
      "text/plain": [
       "<PIL.Image.Image image mode=RGB size=60x60 at 0x7FE748053C40>"
      ]
     },
     "metadata": {},
     "output_type": "display_data"
    },
    {
     "name": "stdout",
     "output_type": "stream",
     "text": [
      "Learning rate:  0.0003\n",
      "Loss = tensor(1.5365, device='cuda:0', grad_fn=<NllLoss2DBackward>)\n",
      "Loss = tensor(1.5352, device='cuda:0', grad_fn=<NllLoss2DBackward>)\n",
      "Loss = tensor(1.5437, device='cuda:0', grad_fn=<NllLoss2DBackward>)\n",
      "Loss = tensor(1.5474, device='cuda:0', grad_fn=<NllLoss2DBackward>)\n",
      "Loss = tensor(1.5588, device='cuda:0', grad_fn=<NllLoss2DBackward>)\n",
      "EPOCH:  54\n"
     ]
    },
    {
     "data": {
      "image/png": "[encoded data removed]",
      "text/plain": [
       "<PIL.Image.Image image mode=RGB size=60x60 at 0x7FE74029B2B0>"
      ]
     },
     "metadata": {},
     "output_type": "display_data"
    },
    {
     "name": "stdout",
     "output_type": "stream",
     "text": [
      "Learning rate:  0.0003\n",
      "Loss = tensor(1.5358, device='cuda:0', grad_fn=<NllLoss2DBackward>)\n",
      "Loss = tensor(1.5254, device='cuda:0', grad_fn=<NllLoss2DBackward>)\n",
      "Loss = tensor(1.5246, device='cuda:0', grad_fn=<NllLoss2DBackward>)\n",
      "Loss = tensor(1.5157, device='cuda:0', grad_fn=<NllLoss2DBackward>)\n",
      "Loss = tensor(1.5212, device='cuda:0', grad_fn=<NllLoss2DBackward>)\n",
      "EPOCH:  54\n"
     ]
    },
    {
     "data": {
      "image/png": "[encoded data removed]",
      "text/plain": [
       "<PIL.Image.Image image mode=RGB size=60x60 at 0x7FE74024F190>"
      ]
     },
     "metadata": {},
     "output_type": "display_data"
    },
    {
     "name": "stdout",
     "output_type": "stream",
     "text": [
      "Learning rate:  0.0003\n",
      "Loss = tensor(1.5417, device='cuda:0', grad_fn=<NllLoss2DBackward>)\n",
      "Loss = tensor(1.5249, device='cuda:0', grad_fn=<NllLoss2DBackward>)\n",
      "EPOCH:  55\n"
     ]
    },
    {
     "data": {
      "image/png": "[encoded data removed]",
      "text/plain": [
       "<PIL.Image.Image image mode=RGB size=60x60 at 0x7FE74029BF70>"
      ]
     },
     "metadata": {},
     "output_type": "display_data"
    },
    {
     "name": "stdout",
     "output_type": "stream",
     "text": [
      "Learning rate:  0.0003\n",
      "Loss = tensor(1.5142, device='cuda:0', grad_fn=<NllLoss2DBackward>)\n",
      "Loss = tensor(1.5479, device='cuda:0', grad_fn=<NllLoss2DBackward>)\n",
      "Loss = tensor(1.5346, device='cuda:0', grad_fn=<NllLoss2DBackward>)\n",
      "Loss = tensor(1.5338, device='cuda:0', grad_fn=<NllLoss2DBackward>)\n",
      "Loss = tensor(1.5374, device='cuda:0', grad_fn=<NllLoss2DBackward>)\n",
      "EPOCH:  55\n"
     ]
    },
    {
     "data": {
      "image/png": "[encoded data removed]",
      "text/plain": [
       "<PIL.Image.Image image mode=RGB size=60x60 at 0x7FE74024FC40>"
      ]
     },
     "metadata": {},
     "output_type": "display_data"
    },
    {
     "name": "stdout",
     "output_type": "stream",
     "text": [
      "Learning rate:  0.0003\n",
      "Loss = tensor(1.5268, device='cuda:0', grad_fn=<NllLoss2DBackward>)\n",
      "Loss = tensor(1.5642, device='cuda:0', grad_fn=<NllLoss2DBackward>)\n",
      "Loss = tensor(1.5385, device='cuda:0', grad_fn=<NllLoss2DBackward>)\n",
      "Loss = tensor(1.5242, device='cuda:0', grad_fn=<NllLoss2DBackward>)\n",
      "Loss = tensor(1.5387, device='cuda:0', grad_fn=<NllLoss2DBackward>)\n",
      "EPOCH:  55\n"
     ]
    },
    {
     "data": {
      "image/png": "[encoded data removed]",
      "text/plain": [
       "<PIL.Image.Image image mode=RGB size=60x60 at 0x7FE74024FC40>"
      ]
     },
     "metadata": {},
     "output_type": "display_data"
    },
    {
     "name": "stdout",
     "output_type": "stream",
     "text": [
      "Learning rate:  0.0003\n",
      "Loss = tensor(1.5420, device='cuda:0', grad_fn=<NllLoss2DBackward>)\n",
      "Loss = tensor(1.5273, device='cuda:0', grad_fn=<NllLoss2DBackward>)\n",
      "EPOCH:  56\n"
     ]
    },
    {
     "data": {
      "image/png": "[encoded data removed]",
      "text/plain": [
       "<PIL.Image.Image image mode=RGB size=60x60 at 0x7FE74029BF70>"
      ]
     },
     "metadata": {},
     "output_type": "display_data"
    },
    {
     "name": "stdout",
     "output_type": "stream",
     "text": [
      "Learning rate:  0.0003\n",
      "Loss = tensor(1.5307, device='cuda:0', grad_fn=<NllLoss2DBackward>)\n",
      "Loss = tensor(1.5319, device='cuda:0', grad_fn=<NllLoss2DBackward>)\n",
      "Loss = tensor(1.5351, device='cuda:0', grad_fn=<NllLoss2DBackward>)\n",
      "Loss = tensor(1.5228, device='cuda:0', grad_fn=<NllLoss2DBackward>)\n",
      "Loss = tensor(1.5188, device='cuda:0', grad_fn=<NllLoss2DBackward>)\n",
      "EPOCH:  56\n"
     ]
    },
    {
     "data": {
      "image/png": "[encoded data removed]",
      "text/plain": [
       "<PIL.Image.Image image mode=RGB size=60x60 at 0x7FE74024F550>"
      ]
     },
     "metadata": {},
     "output_type": "display_data"
    },
    {
     "name": "stdout",
     "output_type": "stream",
     "text": [
      "Learning rate:  0.0003\n",
      "Loss = tensor(1.5374, device='cuda:0', grad_fn=<NllLoss2DBackward>)\n",
      "Loss = tensor(1.5529, device='cuda:0', grad_fn=<NllLoss2DBackward>)\n",
      "Loss = tensor(1.5426, device='cuda:0', grad_fn=<NllLoss2DBackward>)\n",
      "Loss = tensor(1.5410, device='cuda:0', grad_fn=<NllLoss2DBackward>)\n",
      "Loss = tensor(1.5530, device='cuda:0', grad_fn=<NllLoss2DBackward>)\n",
      "EPOCH:  56\n"
     ]
    },
    {
     "data": {
      "image/png": "[encoded data removed]",
      "text/plain": [
       "<PIL.Image.Image image mode=RGB size=60x60 at 0x7FE74024FE80>"
      ]
     },
     "metadata": {},
     "output_type": "display_data"
    },
    {
     "name": "stdout",
     "output_type": "stream",
     "text": [
      "Learning rate:  0.0003\n",
      "Loss = tensor(1.5313, device='cuda:0', grad_fn=<NllLoss2DBackward>)\n",
      "Loss = tensor(1.5399, device='cuda:0', grad_fn=<NllLoss2DBackward>)\n",
      "EPOCH:  57\n"
     ]
    },
    {
     "data": {
      "image/png": "[encoded data removed]",
      "text/plain": [
       "<PIL.Image.Image image mode=RGB size=60x60 at 0x7FE74024F190>"
      ]
     },
     "metadata": {},
     "output_type": "display_data"
    },
    {
     "name": "stdout",
     "output_type": "stream",
     "text": [
      "Learning rate:  0.0003\n",
      "Loss = tensor(1.5225, device='cuda:0', grad_fn=<NllLoss2DBackward>)\n",
      "Loss = tensor(1.5340, device='cuda:0', grad_fn=<NllLoss2DBackward>)\n",
      "Loss = tensor(1.5275, device='cuda:0', grad_fn=<NllLoss2DBackward>)\n",
      "Loss = tensor(1.5325, device='cuda:0', grad_fn=<NllLoss2DBackward>)\n",
      "Loss = tensor(1.5273, device='cuda:0', grad_fn=<NllLoss2DBackward>)\n",
      "EPOCH:  57\n"
     ]
    },
    {
     "data": {
      "image/png": "[encoded data removed]",
      "text/plain": [
       "<PIL.Image.Image image mode=RGB size=60x60 at 0x7FE74029B0A0>"
      ]
     },
     "metadata": {},
     "output_type": "display_data"
    },
    {
     "name": "stdout",
     "output_type": "stream",
     "text": [
      "Learning rate:  0.0003\n",
      "Loss = tensor(1.5369, device='cuda:0', grad_fn=<NllLoss2DBackward>)\n",
      "Loss = tensor(1.5561, device='cuda:0', grad_fn=<NllLoss2DBackward>)\n",
      "Loss = tensor(1.5418, device='cuda:0', grad_fn=<NllLoss2DBackward>)\n",
      "Loss = tensor(1.5337, device='cuda:0', grad_fn=<NllLoss2DBackward>)\n",
      "Loss = tensor(1.5277, device='cuda:0', grad_fn=<NllLoss2DBackward>)\n",
      "EPOCH:  57\n"
     ]
    },
    {
     "data": {
      "image/png": "[encoded data removed]",
      "text/plain": [
       "<PIL.Image.Image image mode=RGB size=60x60 at 0x7FE74024FC40>"
      ]
     },
     "metadata": {},
     "output_type": "display_data"
    },
    {
     "name": "stdout",
     "output_type": "stream",
     "text": [
      "Learning rate:  0.0003\n",
      "Loss = tensor(1.5384, device='cuda:0', grad_fn=<NllLoss2DBackward>)\n",
      "Loss = tensor(1.5229, device='cuda:0', grad_fn=<NllLoss2DBackward>)\n",
      "EPOCH:  58\n"
     ]
    },
    {
     "data": {
      "image/png": "[encoded data removed]",
      "text/plain": [
       "<PIL.Image.Image image mode=RGB size=60x60 at 0x7FE74029BE50>"
      ]
     },
     "metadata": {},
     "output_type": "display_data"
    },
    {
     "name": "stdout",
     "output_type": "stream",
     "text": [
      "Learning rate:  0.0003\n",
      "Loss = tensor(1.5190, device='cuda:0', grad_fn=<NllLoss2DBackward>)\n",
      "Loss = tensor(1.5442, device='cuda:0', grad_fn=<NllLoss2DBackward>)\n",
      "Loss = tensor(1.5177, device='cuda:0', grad_fn=<NllLoss2DBackward>)\n",
      "Loss = tensor(1.5285, device='cuda:0', grad_fn=<NllLoss2DBackward>)\n",
      "Loss = tensor(1.5108, device='cuda:0', grad_fn=<NllLoss2DBackward>)\n",
      "EPOCH:  58\n"
     ]
    },
    {
     "data": {
      "image/png": "[encoded data removed]",
      "text/plain": [
       "<PIL.Image.Image image mode=RGB size=60x60 at 0x7FE7402EC4C0>"
      ]
     },
     "metadata": {},
     "output_type": "display_data"
    },
    {
     "name": "stdout",
     "output_type": "stream",
     "text": [
      "Learning rate:  0.0003\n",
      "Loss = tensor(1.5632, device='cuda:0', grad_fn=<NllLoss2DBackward>)\n",
      "Loss = tensor(1.5610, device='cuda:0', grad_fn=<NllLoss2DBackward>)\n",
      "Loss = tensor(1.5321, device='cuda:0', grad_fn=<NllLoss2DBackward>)\n",
      "Loss = tensor(1.5364, device='cuda:0', grad_fn=<NllLoss2DBackward>)\n",
      "Loss = tensor(1.5481, device='cuda:0', grad_fn=<NllLoss2DBackward>)\n",
      "EPOCH:  58\n"
     ]
    },
    {
     "data": {
      "image/png": "[encoded data removed]",
      "text/plain": [
       "<PIL.Image.Image image mode=RGB size=60x60 at 0x7FE74029B2B0>"
      ]
     },
     "metadata": {},
     "output_type": "display_data"
    },
    {
     "name": "stdout",
     "output_type": "stream",
     "text": [
      "Learning rate:  0.0003\n",
      "Loss = tensor(1.5347, device='cuda:0', grad_fn=<NllLoss2DBackward>)\n",
      "Loss = tensor(1.5313, device='cuda:0', grad_fn=<NllLoss2DBackward>)\n",
      "EPOCH:  59\n"
     ]
    },
    {
     "data": {
      "image/png": "[encoded data removed]",
      "text/plain": [
       "<PIL.Image.Image image mode=RGB size=60x60 at 0x7FE74029BF70>"
      ]
     },
     "metadata": {},
     "output_type": "display_data"
    },
    {
     "name": "stdout",
     "output_type": "stream",
     "text": [
      "Learning rate:  0.0003\n",
      "Loss = tensor(1.5509, device='cuda:0', grad_fn=<NllLoss2DBackward>)\n",
      "Loss = tensor(1.5262, device='cuda:0', grad_fn=<NllLoss2DBackward>)\n",
      "Loss = tensor(1.5421, device='cuda:0', grad_fn=<NllLoss2DBackward>)\n",
      "Loss = tensor(1.5414, device='cuda:0', grad_fn=<NllLoss2DBackward>)\n",
      "Loss = tensor(1.5390, device='cuda:0', grad_fn=<NllLoss2DBackward>)\n",
      "EPOCH:  59\n"
     ]
    },
    {
     "data": {
      "image/png": "[encoded data removed]",
      "text/plain": [
       "<PIL.Image.Image image mode=RGB size=60x60 at 0x7FE74024FC40>"
      ]
     },
     "metadata": {},
     "output_type": "display_data"
    },
    {
     "name": "stdout",
     "output_type": "stream",
     "text": [
      "Learning rate:  0.0003\n",
      "Loss = tensor(1.5310, device='cuda:0', grad_fn=<NllLoss2DBackward>)\n",
      "Loss = tensor(1.5284, device='cuda:0', grad_fn=<NllLoss2DBackward>)\n",
      "Loss = tensor(1.5297, device='cuda:0', grad_fn=<NllLoss2DBackward>)\n",
      "Loss = tensor(1.5379, device='cuda:0', grad_fn=<NllLoss2DBackward>)\n",
      "Loss = tensor(1.5336, device='cuda:0', grad_fn=<NllLoss2DBackward>)\n",
      "EPOCH:  59\n"
     ]
    },
    {
     "data": {
      "image/png": "[encoded data removed]",
      "text/plain": [
       "<PIL.Image.Image image mode=RGB size=60x60 at 0x7FE74024FE80>"
      ]
     },
     "metadata": {},
     "output_type": "display_data"
    },
    {
     "name": "stdout",
     "output_type": "stream",
     "text": [
      "Learning rate:  0.0003\n",
      "Loss = tensor(1.5303, device='cuda:0', grad_fn=<NllLoss2DBackward>)\n",
      "Loss = tensor(1.5309, device='cuda:0', grad_fn=<NllLoss2DBackward>)\n",
      "EPOCH:  60\n"
     ]
    },
    {
     "data": {
      "image/png": "[encoded data removed]",
      "text/plain": [
       "<PIL.Image.Image image mode=RGB size=60x60 at 0x7FE74029B0A0>"
      ]
     },
     "metadata": {},
     "output_type": "display_data"
    },
    {
     "name": "stdout",
     "output_type": "stream",
     "text": [
      "Learning rate:  0.00017999999999999998\n",
      "Loss = tensor(1.5139, device='cuda:0', grad_fn=<NllLoss2DBackward>)\n",
      "Loss = tensor(1.5131, device='cuda:0', grad_fn=<NllLoss2DBackward>)\n",
      "Loss = tensor(1.5312, device='cuda:0', grad_fn=<NllLoss2DBackward>)\n",
      "Loss = tensor(1.5367, device='cuda:0', grad_fn=<NllLoss2DBackward>)\n",
      "Loss = tensor(1.5531, device='cuda:0', grad_fn=<NllLoss2DBackward>)\n",
      "EPOCH:  60\n"
     ]
    },
    {
     "data": {
      "image/png": "[encoded data removed]",
      "text/plain": [
       "<PIL.Image.Image image mode=RGB size=60x60 at 0x7FE74029BF70>"
      ]
     },
     "metadata": {},
     "output_type": "display_data"
    },
    {
     "name": "stdout",
     "output_type": "stream",
     "text": [
      "Learning rate:  0.00017999999999999998\n",
      "Loss = tensor(1.5554, device='cuda:0', grad_fn=<NllLoss2DBackward>)\n",
      "Loss = tensor(1.5316, device='cuda:0', grad_fn=<NllLoss2DBackward>)\n",
      "Loss = tensor(1.5241, device='cuda:0', grad_fn=<NllLoss2DBackward>)\n",
      "Loss = tensor(1.5585, device='cuda:0', grad_fn=<NllLoss2DBackward>)\n",
      "Loss = tensor(1.5402, device='cuda:0', grad_fn=<NllLoss2DBackward>)\n",
      "EPOCH:  60\n"
     ]
    },
    {
     "data": {
      "image/png": "[encoded data removed]",
      "text/plain": [
       "<PIL.Image.Image image mode=RGB size=60x60 at 0x7FE74029BE50>"
      ]
     },
     "metadata": {},
     "output_type": "display_data"
    },
    {
     "name": "stdout",
     "output_type": "stream",
     "text": [
      "Learning rate:  0.00017999999999999998\n",
      "Loss = tensor(1.5283, device='cuda:0', grad_fn=<NllLoss2DBackward>)\n",
      "Loss = tensor(1.5243, device='cuda:0', grad_fn=<NllLoss2DBackward>)\n",
      "EPOCH:  61\n"
     ]
    },
    {
     "data": {
      "image/png": "[encoded data removed]",
      "text/plain": [
       "<PIL.Image.Image image mode=RGB size=60x60 at 0x7FE7402D0C40>"
      ]
     },
     "metadata": {},
     "output_type": "display_data"
    },
    {
     "name": "stdout",
     "output_type": "stream",
     "text": [
      "Learning rate:  0.00017999999999999998\n",
      "Loss = tensor(1.5320, device='cuda:0', grad_fn=<NllLoss2DBackward>)\n",
      "Loss = tensor(1.5476, device='cuda:0', grad_fn=<NllLoss2DBackward>)\n",
      "Loss = tensor(1.5462, device='cuda:0', grad_fn=<NllLoss2DBackward>)\n",
      "Loss = tensor(1.5243, device='cuda:0', grad_fn=<NllLoss2DBackward>)\n",
      "Loss = tensor(1.5503, device='cuda:0', grad_fn=<NllLoss2DBackward>)\n",
      "EPOCH:  61\n"
     ]
    },
    {
     "data": {
      "image/png": "[encoded data removed]",
      "text/plain": [
       "<PIL.Image.Image image mode=RGB size=60x60 at 0x7FE74029B2B0>"
      ]
     },
     "metadata": {},
     "output_type": "display_data"
    },
    {
     "name": "stdout",
     "output_type": "stream",
     "text": [
      "Learning rate:  0.00017999999999999998\n",
      "Loss = tensor(1.5333, device='cuda:0', grad_fn=<NllLoss2DBackward>)\n",
      "Loss = tensor(1.5214, device='cuda:0', grad_fn=<NllLoss2DBackward>)\n",
      "Loss = tensor(1.5242, device='cuda:0', grad_fn=<NllLoss2DBackward>)\n",
      "Loss = tensor(1.5292, device='cuda:0', grad_fn=<NllLoss2DBackward>)\n",
      "Loss = tensor(1.5331, device='cuda:0', grad_fn=<NllLoss2DBackward>)\n",
      "EPOCH:  61\n"
     ]
    },
    {
     "data": {
      "image/png": "[encoded data removed]",
      "text/plain": [
       "<PIL.Image.Image image mode=RGB size=60x60 at 0x7FE74024F190>"
      ]
     },
     "metadata": {},
     "output_type": "display_data"
    },
    {
     "name": "stdout",
     "output_type": "stream",
     "text": [
      "Learning rate:  0.00017999999999999998\n",
      "Loss = tensor(1.5480, device='cuda:0', grad_fn=<NllLoss2DBackward>)\n",
      "Loss = tensor(1.5435, device='cuda:0', grad_fn=<NllLoss2DBackward>)\n",
      "EPOCH:  62\n"
     ]
    },
    {
     "data": {
      "image/png": "[encoded data removed]",
      "text/plain": [
       "<PIL.Image.Image image mode=RGB size=60x60 at 0x7FE74029B0A0>"
      ]
     },
     "metadata": {},
     "output_type": "display_data"
    },
    {
     "name": "stdout",
     "output_type": "stream",
     "text": [
      "Learning rate:  0.00017999999999999998\n",
      "Loss = tensor(1.5429, device='cuda:0', grad_fn=<NllLoss2DBackward>)\n",
      "Loss = tensor(1.5338, device='cuda:0', grad_fn=<NllLoss2DBackward>)\n",
      "Loss = tensor(1.5205, device='cuda:0', grad_fn=<NllLoss2DBackward>)\n",
      "Loss = tensor(1.5347, device='cuda:0', grad_fn=<NllLoss2DBackward>)\n",
      "Loss = tensor(1.5316, device='cuda:0', grad_fn=<NllLoss2DBackward>)\n",
      "EPOCH:  62\n"
     ]
    },
    {
     "data": {
      "image/png": "[encoded data removed]",
      "text/plain": [
       "<PIL.Image.Image image mode=RGB size=60x60 at 0x7FE7402EC280>"
      ]
     },
     "metadata": {},
     "output_type": "display_data"
    },
    {
     "name": "stdout",
     "output_type": "stream",
     "text": [
      "Learning rate:  0.00017999999999999998\n",
      "Loss = tensor(1.5333, device='cuda:0', grad_fn=<NllLoss2DBackward>)\n",
      "Loss = tensor(1.5341, device='cuda:0', grad_fn=<NllLoss2DBackward>)\n",
      "Loss = tensor(1.5308, device='cuda:0', grad_fn=<NllLoss2DBackward>)\n",
      "Loss = tensor(1.5288, device='cuda:0', grad_fn=<NllLoss2DBackward>)\n",
      "Loss = tensor(1.5407, device='cuda:0', grad_fn=<NllLoss2DBackward>)\n",
      "EPOCH:  62\n"
     ]
    },
    {
     "data": {
      "image/png": "[encoded data removed]",
      "text/plain": [
       "<PIL.Image.Image image mode=RGB size=60x60 at 0x7FE74029BE50>"
      ]
     },
     "metadata": {},
     "output_type": "display_data"
    },
    {
     "name": "stdout",
     "output_type": "stream",
     "text": [
      "Learning rate:  0.00017999999999999998\n",
      "Loss = tensor(1.5352, device='cuda:0', grad_fn=<NllLoss2DBackward>)\n",
      "Loss = tensor(1.5134, device='cuda:0', grad_fn=<NllLoss2DBackward>)\n",
      "EPOCH:  63\n"
     ]
    },
    {
     "data": {
      "image/png": "[encoded data removed]",
      "text/plain": [
       "<PIL.Image.Image image mode=RGB size=60x60 at 0x7FE74029BE50>"
      ]
     },
     "metadata": {},
     "output_type": "display_data"
    },
    {
     "name": "stdout",
     "output_type": "stream",
     "text": [
      "Learning rate:  0.00017999999999999998\n",
      "Loss = tensor(1.5465, device='cuda:0', grad_fn=<NllLoss2DBackward>)\n",
      "Loss = tensor(1.5378, device='cuda:0', grad_fn=<NllLoss2DBackward>)\n",
      "Loss = tensor(1.5500, device='cuda:0', grad_fn=<NllLoss2DBackward>)\n",
      "Loss = tensor(1.5137, device='cuda:0', grad_fn=<NllLoss2DBackward>)\n",
      "Loss = tensor(1.5462, device='cuda:0', grad_fn=<NllLoss2DBackward>)\n",
      "EPOCH:  63\n"
     ]
    },
    {
     "data": {
      "image/png": "[encoded data removed]",
      "text/plain": [
       "<PIL.Image.Image image mode=RGB size=60x60 at 0x7FE74024FC40>"
      ]
     },
     "metadata": {},
     "output_type": "display_data"
    },
    {
     "name": "stdout",
     "output_type": "stream",
     "text": [
      "Learning rate:  0.00017999999999999998\n",
      "Loss = tensor(1.5374, device='cuda:0', grad_fn=<NllLoss2DBackward>)\n",
      "Loss = tensor(1.5437, device='cuda:0', grad_fn=<NllLoss2DBackward>)\n",
      "Loss = tensor(1.5374, device='cuda:0', grad_fn=<NllLoss2DBackward>)\n",
      "Loss = tensor(1.5225, device='cuda:0', grad_fn=<NllLoss2DBackward>)\n",
      "Loss = tensor(1.5169, device='cuda:0', grad_fn=<NllLoss2DBackward>)\n",
      "EPOCH:  63\n"
     ]
    },
    {
     "data": {
      "image/png": "[encoded data removed]",
      "text/plain": [
       "<PIL.Image.Image image mode=RGB size=60x60 at 0x7FE74024FEE0>"
      ]
     },
     "metadata": {},
     "output_type": "display_data"
    },
    {
     "name": "stdout",
     "output_type": "stream",
     "text": [
      "Learning rate:  0.00017999999999999998\n",
      "Loss = tensor(1.5360, device='cuda:0', grad_fn=<NllLoss2DBackward>)\n",
      "Loss = tensor(1.5250, device='cuda:0', grad_fn=<NllLoss2DBackward>)\n",
      "EPOCH:  64\n"
     ]
    },
    {
     "data": {
      "image/png": "[encoded data removed]",
      "text/plain": [
       "<PIL.Image.Image image mode=RGB size=60x60 at 0x7FE74029B0A0>"
      ]
     },
     "metadata": {},
     "output_type": "display_data"
    },
    {
     "name": "stdout",
     "output_type": "stream",
     "text": [
      "Learning rate:  0.00017999999999999998\n",
      "Loss = tensor(1.5358, device='cuda:0', grad_fn=<NllLoss2DBackward>)\n",
      "Loss = tensor(1.5400, device='cuda:0', grad_fn=<NllLoss2DBackward>)\n",
      "Loss = tensor(1.5333, device='cuda:0', grad_fn=<NllLoss2DBackward>)\n",
      "Loss = tensor(1.5313, device='cuda:0', grad_fn=<NllLoss2DBackward>)\n",
      "Loss = tensor(1.5435, device='cuda:0', grad_fn=<NllLoss2DBackward>)\n",
      "EPOCH:  64\n"
     ]
    },
    {
     "data": {
      "image/png": "[encoded data removed]",
      "text/plain": [
       "<PIL.Image.Image image mode=RGB size=60x60 at 0x7FE74029BE50>"
      ]
     },
     "metadata": {},
     "output_type": "display_data"
    },
    {
     "name": "stdout",
     "output_type": "stream",
     "text": [
      "Learning rate:  0.00017999999999999998\n",
      "Loss = tensor(1.5371, device='cuda:0', grad_fn=<NllLoss2DBackward>)\n",
      "Loss = tensor(1.5203, device='cuda:0', grad_fn=<NllLoss2DBackward>)\n",
      "Loss = tensor(1.5243, device='cuda:0', grad_fn=<NllLoss2DBackward>)\n",
      "Loss = tensor(1.5298, device='cuda:0', grad_fn=<NllLoss2DBackward>)\n",
      "Loss = tensor(1.5474, device='cuda:0', grad_fn=<NllLoss2DBackward>)\n",
      "EPOCH:  64\n"
     ]
    },
    {
     "data": {
      "image/png": "[encoded data removed]",
      "text/plain": [
       "<PIL.Image.Image image mode=RGB size=60x60 at 0x7FE74029B2B0>"
      ]
     },
     "metadata": {},
     "output_type": "display_data"
    },
    {
     "name": "stdout",
     "output_type": "stream",
     "text": [
      "Learning rate:  0.00017999999999999998\n",
      "Loss = tensor(1.5347, device='cuda:0', grad_fn=<NllLoss2DBackward>)\n",
      "Loss = tensor(1.5354, device='cuda:0', grad_fn=<NllLoss2DBackward>)\n",
      "EPOCH:  65\n"
     ]
    },
    {
     "data": {
      "image/png": "[encoded data removed]",
      "text/plain": [
       "<PIL.Image.Image image mode=RGB size=60x60 at 0x7FE74029B2B0>"
      ]
     },
     "metadata": {},
     "output_type": "display_data"
    },
    {
     "name": "stdout",
     "output_type": "stream",
     "text": [
      "Learning rate:  0.00017999999999999998\n",
      "Loss = tensor(1.5599, device='cuda:0', grad_fn=<NllLoss2DBackward>)\n",
      "Loss = tensor(1.5454, device='cuda:0', grad_fn=<NllLoss2DBackward>)\n",
      "Loss = tensor(1.5153, device='cuda:0', grad_fn=<NllLoss2DBackward>)\n",
      "Loss = tensor(1.5278, device='cuda:0', grad_fn=<NllLoss2DBackward>)\n",
      "Loss = tensor(1.5260, device='cuda:0', grad_fn=<NllLoss2DBackward>)\n",
      "EPOCH:  65\n"
     ]
    },
    {
     "data": {
      "image/png": "[encoded data removed]",
      "text/plain": [
       "<PIL.Image.Image image mode=RGB size=60x60 at 0x7FE74029B0A0>"
      ]
     },
     "metadata": {},
     "output_type": "display_data"
    },
    {
     "name": "stdout",
     "output_type": "stream",
     "text": [
      "Learning rate:  0.00017999999999999998\n",
      "Loss = tensor(1.5421, device='cuda:0', grad_fn=<NllLoss2DBackward>)\n",
      "Loss = tensor(1.5192, device='cuda:0', grad_fn=<NllLoss2DBackward>)\n",
      "Loss = tensor(1.5291, device='cuda:0', grad_fn=<NllLoss2DBackward>)\n",
      "Loss = tensor(1.5398, device='cuda:0', grad_fn=<NllLoss2DBackward>)\n",
      "Loss = tensor(1.5373, device='cuda:0', grad_fn=<NllLoss2DBackward>)\n",
      "EPOCH:  65\n"
     ]
    },
    {
     "data": {
      "image/png": "[encoded data removed]",
      "text/plain": [
       "<PIL.Image.Image image mode=RGB size=60x60 at 0x7FE74029B0A0>"
      ]
     },
     "metadata": {},
     "output_type": "display_data"
    },
    {
     "name": "stdout",
     "output_type": "stream",
     "text": [
      "Learning rate:  0.00017999999999999998\n",
      "Loss = tensor(1.5391, device='cuda:0', grad_fn=<NllLoss2DBackward>)\n",
      "Loss = tensor(1.5260, device='cuda:0', grad_fn=<NllLoss2DBackward>)\n",
      "EPOCH:  66\n"
     ]
    },
    {
     "data": {
      "image/png": "[encoded data removed]",
      "text/plain": [
       "<PIL.Image.Image image mode=RGB size=60x60 at 0x7FE74029B0A0>"
      ]
     },
     "metadata": {},
     "output_type": "display_data"
    },
    {
     "name": "stdout",
     "output_type": "stream",
     "text": [
      "Learning rate:  0.00017999999999999998\n",
      "Loss = tensor(1.5273, device='cuda:0', grad_fn=<NllLoss2DBackward>)\n",
      "Loss = tensor(1.5466, device='cuda:0', grad_fn=<NllLoss2DBackward>)\n",
      "Loss = tensor(1.5269, device='cuda:0', grad_fn=<NllLoss2DBackward>)\n",
      "Loss = tensor(1.5309, device='cuda:0', grad_fn=<NllLoss2DBackward>)\n",
      "Loss = tensor(1.5451, device='cuda:0', grad_fn=<NllLoss2DBackward>)\n",
      "EPOCH:  66\n"
     ]
    },
    {
     "data": {
      "image/png": "[encoded data removed]",
      "text/plain": [
       "<PIL.Image.Image image mode=RGB size=60x60 at 0x7FE74029B0A0>"
      ]
     },
     "metadata": {},
     "output_type": "display_data"
    },
    {
     "name": "stdout",
     "output_type": "stream",
     "text": [
      "Learning rate:  0.00017999999999999998\n",
      "Loss = tensor(1.5249, device='cuda:0', grad_fn=<NllLoss2DBackward>)\n",
      "Loss = tensor(1.5357, device='cuda:0', grad_fn=<NllLoss2DBackward>)\n",
      "Loss = tensor(1.5565, device='cuda:0', grad_fn=<NllLoss2DBackward>)\n",
      "Loss = tensor(1.5311, device='cuda:0', grad_fn=<NllLoss2DBackward>)\n",
      "Loss = tensor(1.5116, device='cuda:0', grad_fn=<NllLoss2DBackward>)\n",
      "EPOCH:  66\n"
     ]
    },
    {
     "data": {
      "image/png": "[encoded data removed]",
      "text/plain": [
       "<PIL.Image.Image image mode=RGB size=60x60 at 0x7FE74029BDC0>"
      ]
     },
     "metadata": {},
     "output_type": "display_data"
    },
    {
     "name": "stdout",
     "output_type": "stream",
     "text": [
      "Learning rate:  0.00017999999999999998\n",
      "Loss = tensor(1.5420, device='cuda:0', grad_fn=<NllLoss2DBackward>)\n",
      "Loss = tensor(1.5116, device='cuda:0', grad_fn=<NllLoss2DBackward>)\n",
      "EPOCH:  67\n"
     ]
    },
    {
     "data": {
      "image/png": "[encoded data removed]",
      "text/plain": [
       "<PIL.Image.Image image mode=RGB size=60x60 at 0x7FE74024F190>"
      ]
     },
     "metadata": {},
     "output_type": "display_data"
    },
    {
     "name": "stdout",
     "output_type": "stream",
     "text": [
      "Learning rate:  0.00017999999999999998\n",
      "Loss = tensor(1.5409, device='cuda:0', grad_fn=<NllLoss2DBackward>)\n",
      "Loss = tensor(1.5324, device='cuda:0', grad_fn=<NllLoss2DBackward>)\n",
      "Loss = tensor(1.5328, device='cuda:0', grad_fn=<NllLoss2DBackward>)\n",
      "Loss = tensor(1.5301, device='cuda:0', grad_fn=<NllLoss2DBackward>)\n",
      "Loss = tensor(1.5544, device='cuda:0', grad_fn=<NllLoss2DBackward>)\n",
      "EPOCH:  67\n"
     ]
    },
    {
     "data": {
      "image/png": "[encoded data removed]",
      "text/plain": [
       "<PIL.Image.Image image mode=RGB size=60x60 at 0x7FE74029B0A0>"
      ]
     },
     "metadata": {},
     "output_type": "display_data"
    },
    {
     "name": "stdout",
     "output_type": "stream",
     "text": [
      "Learning rate:  0.00017999999999999998\n",
      "Loss = tensor(1.5427, device='cuda:0', grad_fn=<NllLoss2DBackward>)\n",
      "Loss = tensor(1.5566, device='cuda:0', grad_fn=<NllLoss2DBackward>)\n",
      "Loss = tensor(1.5177, device='cuda:0', grad_fn=<NllLoss2DBackward>)\n",
      "Loss = tensor(1.5424, device='cuda:0', grad_fn=<NllLoss2DBackward>)\n",
      "Loss = tensor(1.5181, device='cuda:0', grad_fn=<NllLoss2DBackward>)\n",
      "EPOCH:  67\n"
     ]
    },
    {
     "data": {
      "image/png": "[encoded data removed]",
      "text/plain": [
       "<PIL.Image.Image image mode=RGB size=60x60 at 0x7FE7402EC4C0>"
      ]
     },
     "metadata": {},
     "output_type": "display_data"
    },
    {
     "name": "stdout",
     "output_type": "stream",
     "text": [
      "Learning rate:  0.00017999999999999998\n",
      "Loss = tensor(1.5280, device='cuda:0', grad_fn=<NllLoss2DBackward>)\n",
      "Loss = tensor(1.5201, device='cuda:0', grad_fn=<NllLoss2DBackward>)\n",
      "EPOCH:  68\n"
     ]
    },
    {
     "data": {
      "image/png": "[encoded data removed]",
      "text/plain": [
       "<PIL.Image.Image image mode=RGB size=60x60 at 0x7FE74029BDC0>"
      ]
     },
     "metadata": {},
     "output_type": "display_data"
    },
    {
     "name": "stdout",
     "output_type": "stream",
     "text": [
      "Learning rate:  0.00017999999999999998\n",
      "Loss = tensor(1.5404, device='cuda:0', grad_fn=<NllLoss2DBackward>)\n",
      "Loss = tensor(1.5649, device='cuda:0', grad_fn=<NllLoss2DBackward>)\n",
      "Loss = tensor(1.5251, device='cuda:0', grad_fn=<NllLoss2DBackward>)\n",
      "Loss = tensor(1.5269, device='cuda:0', grad_fn=<NllLoss2DBackward>)\n",
      "Loss = tensor(1.5369, device='cuda:0', grad_fn=<NllLoss2DBackward>)\n",
      "EPOCH:  68\n"
     ]
    },
    {
     "data": {
      "image/png": "[encoded data removed]",
      "text/plain": [
       "<PIL.Image.Image image mode=RGB size=60x60 at 0x7FE7402EC4C0>"
      ]
     },
     "metadata": {},
     "output_type": "display_data"
    },
    {
     "name": "stdout",
     "output_type": "stream",
     "text": [
      "Learning rate:  0.00017999999999999998\n",
      "Loss = tensor(1.5323, device='cuda:0', grad_fn=<NllLoss2DBackward>)\n",
      "Loss = tensor(1.5309, device='cuda:0', grad_fn=<NllLoss2DBackward>)\n",
      "Loss = tensor(1.5314, device='cuda:0', grad_fn=<NllLoss2DBackward>)\n",
      "Loss = tensor(1.5233, device='cuda:0', grad_fn=<NllLoss2DBackward>)\n",
      "Loss = tensor(1.5306, device='cuda:0', grad_fn=<NllLoss2DBackward>)\n",
      "EPOCH:  68\n"
     ]
    },
    {
     "data": {
      "image/png": "[encoded data removed]",
      "text/plain": [
       "<PIL.Image.Image image mode=RGB size=60x60 at 0x7FE74024F550>"
      ]
     },
     "metadata": {},
     "output_type": "display_data"
    },
    {
     "name": "stdout",
     "output_type": "stream",
     "text": [
      "Learning rate:  0.00017999999999999998\n",
      "Loss = tensor(1.5386, device='cuda:0', grad_fn=<NllLoss2DBackward>)\n",
      "Loss = tensor(1.5196, device='cuda:0', grad_fn=<NllLoss2DBackward>)\n",
      "EPOCH:  69\n"
     ]
    },
    {
     "data": {
      "image/png": "[encoded data removed]",
      "text/plain": [
       "<PIL.Image.Image image mode=RGB size=60x60 at 0x7FE74029BDC0>"
      ]
     },
     "metadata": {},
     "output_type": "display_data"
    },
    {
     "name": "stdout",
     "output_type": "stream",
     "text": [
      "Learning rate:  0.00017999999999999998\n",
      "Loss = tensor(1.5538, device='cuda:0', grad_fn=<NllLoss2DBackward>)\n",
      "Loss = tensor(1.5301, device='cuda:0', grad_fn=<NllLoss2DBackward>)\n",
      "Loss = tensor(1.5224, device='cuda:0', grad_fn=<NllLoss2DBackward>)\n",
      "Loss = tensor(1.5272, device='cuda:0', grad_fn=<NllLoss2DBackward>)\n",
      "Loss = tensor(1.5350, device='cuda:0', grad_fn=<NllLoss2DBackward>)\n",
      "EPOCH:  69\n"
     ]
    },
    {
     "data": {
      "image/png": "[encoded data removed]",
      "text/plain": [
       "<PIL.Image.Image image mode=RGB size=60x60 at 0x7FE74024F190>"
      ]
     },
     "metadata": {},
     "output_type": "display_data"
    },
    {
     "name": "stdout",
     "output_type": "stream",
     "text": [
      "Learning rate:  0.00017999999999999998\n",
      "Loss = tensor(1.5510, device='cuda:0', grad_fn=<NllLoss2DBackward>)\n",
      "Loss = tensor(1.5255, device='cuda:0', grad_fn=<NllLoss2DBackward>)\n",
      "Loss = tensor(1.5208, device='cuda:0', grad_fn=<NllLoss2DBackward>)\n",
      "Loss = tensor(1.5541, device='cuda:0', grad_fn=<NllLoss2DBackward>)\n",
      "Loss = tensor(1.5367, device='cuda:0', grad_fn=<NllLoss2DBackward>)\n",
      "EPOCH:  69\n"
     ]
    },
    {
     "data": {
      "image/png": "[encoded data removed]",
      "text/plain": [
       "<PIL.Image.Image image mode=RGB size=60x60 at 0x7FE74029B0A0>"
      ]
     },
     "metadata": {},
     "output_type": "display_data"
    },
    {
     "name": "stdout",
     "output_type": "stream",
     "text": [
      "Learning rate:  0.00017999999999999998\n",
      "Loss = tensor(1.5341, device='cuda:0', grad_fn=<NllLoss2DBackward>)\n",
      "Loss = tensor(1.5145, device='cuda:0', grad_fn=<NllLoss2DBackward>)\n",
      "EPOCH:  70\n"
     ]
    },
    {
     "data": {
      "image/png": "[encoded data removed]",
      "text/plain": [
       "<PIL.Image.Image image mode=RGB size=60x60 at 0x7FE748053C40>"
      ]
     },
     "metadata": {},
     "output_type": "display_data"
    },
    {
     "name": "stdout",
     "output_type": "stream",
     "text": [
      "Learning rate:  0.00017999999999999998\n",
      "Loss = tensor(1.5451, device='cuda:0', grad_fn=<NllLoss2DBackward>)\n",
      "Loss = tensor(1.5268, device='cuda:0', grad_fn=<NllLoss2DBackward>)\n",
      "Loss = tensor(1.5229, device='cuda:0', grad_fn=<NllLoss2DBackward>)\n",
      "Loss = tensor(1.5522, device='cuda:0', grad_fn=<NllLoss2DBackward>)\n",
      "Loss = tensor(1.5475, device='cuda:0', grad_fn=<NllLoss2DBackward>)\n",
      "EPOCH:  70\n"
     ]
    },
    {
     "data": {
      "image/png": "[encoded data removed]",
      "text/plain": [
       "<PIL.Image.Image image mode=RGB size=60x60 at 0x7FE74024FEE0>"
      ]
     },
     "metadata": {},
     "output_type": "display_data"
    },
    {
     "name": "stdout",
     "output_type": "stream",
     "text": [
      "Learning rate:  0.00017999999999999998\n",
      "Loss = tensor(1.5417, device='cuda:0', grad_fn=<NllLoss2DBackward>)\n",
      "Loss = tensor(1.5334, device='cuda:0', grad_fn=<NllLoss2DBackward>)\n",
      "Loss = tensor(1.5349, device='cuda:0', grad_fn=<NllLoss2DBackward>)\n",
      "Loss = tensor(1.5240, device='cuda:0', grad_fn=<NllLoss2DBackward>)\n",
      "Loss = tensor(1.5278, device='cuda:0', grad_fn=<NllLoss2DBackward>)\n",
      "EPOCH:  70\n"
     ]
    },
    {
     "data": {
      "image/png": "[encoded data removed]",
      "text/plain": [
       "<PIL.Image.Image image mode=RGB size=60x60 at 0x7FE7402EC4C0>"
      ]
     },
     "metadata": {},
     "output_type": "display_data"
    },
    {
     "name": "stdout",
     "output_type": "stream",
     "text": [
      "Learning rate:  0.00017999999999999998\n",
      "Loss = tensor(1.5303, device='cuda:0', grad_fn=<NllLoss2DBackward>)\n",
      "Loss = tensor(1.5499, device='cuda:0', grad_fn=<NllLoss2DBackward>)\n",
      "EPOCH:  71\n"
     ]
    },
    {
     "data": {
      "image/png": "[encoded data removed]",
      "text/plain": [
       "<PIL.Image.Image image mode=RGB size=60x60 at 0x7FE74029B0A0>"
      ]
     },
     "metadata": {},
     "output_type": "display_data"
    },
    {
     "name": "stdout",
     "output_type": "stream",
     "text": [
      "Learning rate:  0.00017999999999999998\n",
      "Loss = tensor(1.5362, device='cuda:0', grad_fn=<NllLoss2DBackward>)\n",
      "Loss = tensor(1.5599, device='cuda:0', grad_fn=<NllLoss2DBackward>)\n",
      "Loss = tensor(1.5172, device='cuda:0', grad_fn=<NllLoss2DBackward>)\n",
      "Loss = tensor(1.5386, device='cuda:0', grad_fn=<NllLoss2DBackward>)\n",
      "Loss = tensor(1.5265, device='cuda:0', grad_fn=<NllLoss2DBackward>)\n",
      "EPOCH:  71\n"
     ]
    },
    {
     "data": {
      "image/png": "[encoded data removed]",
      "text/plain": [
       "<PIL.Image.Image image mode=RGB size=60x60 at 0x7FE7402EC4C0>"
      ]
     },
     "metadata": {},
     "output_type": "display_data"
    },
    {
     "name": "stdout",
     "output_type": "stream",
     "text": [
      "Learning rate:  0.00017999999999999998\n",
      "Loss = tensor(1.5162, device='cuda:0', grad_fn=<NllLoss2DBackward>)\n",
      "Loss = tensor(1.5341, device='cuda:0', grad_fn=<NllLoss2DBackward>)\n",
      "Loss = tensor(1.5369, device='cuda:0', grad_fn=<NllLoss2DBackward>)\n",
      "Loss = tensor(1.5232, device='cuda:0', grad_fn=<NllLoss2DBackward>)\n",
      "Loss = tensor(1.5271, device='cuda:0', grad_fn=<NllLoss2DBackward>)\n",
      "EPOCH:  71\n"
     ]
    },
    {
     "data": {
      "image/png": "[encoded data removed]",
      "text/plain": [
       "<PIL.Image.Image image mode=RGB size=60x60 at 0x7FE74024FC40>"
      ]
     },
     "metadata": {},
     "output_type": "display_data"
    },
    {
     "name": "stdout",
     "output_type": "stream",
     "text": [
      "Learning rate:  0.00017999999999999998\n",
      "Loss = tensor(1.5442, device='cuda:0', grad_fn=<NllLoss2DBackward>)\n",
      "Loss = tensor(1.5248, device='cuda:0', grad_fn=<NllLoss2DBackward>)\n",
      "EPOCH:  72\n"
     ]
    },
    {
     "data": {
      "image/png": "[encoded data removed]",
      "text/plain": [
       "<PIL.Image.Image image mode=RGB size=60x60 at 0x7FE74029BDC0>"
      ]
     },
     "metadata": {},
     "output_type": "display_data"
    },
    {
     "name": "stdout",
     "output_type": "stream",
     "text": [
      "Learning rate:  0.00017999999999999998\n",
      "Loss = tensor(1.5249, device='cuda:0', grad_fn=<NllLoss2DBackward>)\n",
      "Loss = tensor(1.5468, device='cuda:0', grad_fn=<NllLoss2DBackward>)\n",
      "Loss = tensor(1.5372, device='cuda:0', grad_fn=<NllLoss2DBackward>)\n",
      "Loss = tensor(1.5223, device='cuda:0', grad_fn=<NllLoss2DBackward>)\n",
      "Loss = tensor(1.5269, device='cuda:0', grad_fn=<NllLoss2DBackward>)\n",
      "EPOCH:  72\n"
     ]
    },
    {
     "data": {
      "image/png": "[encoded data removed]",
      "text/plain": [
       "<PIL.Image.Image image mode=RGB size=60x60 at 0x7FE74029B0A0>"
      ]
     },
     "metadata": {},
     "output_type": "display_data"
    },
    {
     "name": "stdout",
     "output_type": "stream",
     "text": [
      "Learning rate:  0.00017999999999999998\n",
      "Loss = tensor(1.5261, device='cuda:0', grad_fn=<NllLoss2DBackward>)\n",
      "Loss = tensor(1.5227, device='cuda:0', grad_fn=<NllLoss2DBackward>)\n",
      "Loss = tensor(1.5387, device='cuda:0', grad_fn=<NllLoss2DBackward>)\n",
      "Loss = tensor(1.5449, device='cuda:0', grad_fn=<NllLoss2DBackward>)\n",
      "Loss = tensor(1.5515, device='cuda:0', grad_fn=<NllLoss2DBackward>)\n",
      "EPOCH:  72\n"
     ]
    },
    {
     "data": {
      "image/png": "[encoded data removed]",
      "text/plain": [
       "<PIL.Image.Image image mode=RGB size=60x60 at 0x7FE74029BDC0>"
      ]
     },
     "metadata": {},
     "output_type": "display_data"
    },
    {
     "name": "stdout",
     "output_type": "stream",
     "text": [
      "Learning rate:  0.00017999999999999998\n",
      "Loss = tensor(1.5358, device='cuda:0', grad_fn=<NllLoss2DBackward>)\n",
      "Loss = tensor(1.5319, device='cuda:0', grad_fn=<NllLoss2DBackward>)\n",
      "EPOCH:  73\n"
     ]
    },
    {
     "data": {
      "image/png": "[encoded data removed]",
      "text/plain": [
       "<PIL.Image.Image image mode=RGB size=60x60 at 0x7FE74029BF70>"
      ]
     },
     "metadata": {},
     "output_type": "display_data"
    },
    {
     "name": "stdout",
     "output_type": "stream",
     "text": [
      "Learning rate:  0.00017999999999999998\n",
      "Loss = tensor(1.5179, device='cuda:0', grad_fn=<NllLoss2DBackward>)\n",
      "Loss = tensor(1.5204, device='cuda:0', grad_fn=<NllLoss2DBackward>)\n",
      "Loss = tensor(1.5336, device='cuda:0', grad_fn=<NllLoss2DBackward>)\n",
      "Loss = tensor(1.5427, device='cuda:0', grad_fn=<NllLoss2DBackward>)\n",
      "Loss = tensor(1.5238, device='cuda:0', grad_fn=<NllLoss2DBackward>)\n",
      "EPOCH:  73\n"
     ]
    },
    {
     "data": {
      "image/png": "[encoded data removed]",
      "text/plain": [
       "<PIL.Image.Image image mode=RGB size=60x60 at 0x7FE748053C40>"
      ]
     },
     "metadata": {},
     "output_type": "display_data"
    },
    {
     "name": "stdout",
     "output_type": "stream",
     "text": [
      "Learning rate:  0.00017999999999999998\n",
      "Loss = tensor(1.5389, device='cuda:0', grad_fn=<NllLoss2DBackward>)\n",
      "Loss = tensor(1.5390, device='cuda:0', grad_fn=<NllLoss2DBackward>)\n",
      "Loss = tensor(1.5576, device='cuda:0', grad_fn=<NllLoss2DBackward>)\n",
      "Loss = tensor(1.5374, device='cuda:0', grad_fn=<NllLoss2DBackward>)\n",
      "Loss = tensor(1.5221, device='cuda:0', grad_fn=<NllLoss2DBackward>)\n",
      "EPOCH:  73\n"
     ]
    },
    {
     "data": {
      "image/png": "[encoded data removed]",
      "text/plain": [
       "<PIL.Image.Image image mode=RGB size=60x60 at 0x7FE7402EC280>"
      ]
     },
     "metadata": {},
     "output_type": "display_data"
    },
    {
     "name": "stdout",
     "output_type": "stream",
     "text": [
      "Learning rate:  0.00017999999999999998\n",
      "Loss = tensor(1.5408, device='cuda:0', grad_fn=<NllLoss2DBackward>)\n",
      "Loss = tensor(1.5395, device='cuda:0', grad_fn=<NllLoss2DBackward>)\n",
      "EPOCH:  74\n"
     ]
    },
    {
     "data": {
      "image/png": "[encoded data removed]",
      "text/plain": [
       "<PIL.Image.Image image mode=RGB size=60x60 at 0x7FE74024FE80>"
      ]
     },
     "metadata": {},
     "output_type": "display_data"
    },
    {
     "name": "stdout",
     "output_type": "stream",
     "text": [
      "Learning rate:  0.00017999999999999998\n",
      "Loss = tensor(1.5555, device='cuda:0', grad_fn=<NllLoss2DBackward>)\n",
      "Loss = tensor(1.5329, device='cuda:0', grad_fn=<NllLoss2DBackward>)\n",
      "Loss = tensor(1.5261, device='cuda:0', grad_fn=<NllLoss2DBackward>)\n",
      "Loss = tensor(1.5527, device='cuda:0', grad_fn=<NllLoss2DBackward>)\n",
      "Loss = tensor(1.5288, device='cuda:0', grad_fn=<NllLoss2DBackward>)\n",
      "EPOCH:  74\n"
     ]
    },
    {
     "data": {
      "image/png": "[encoded data removed]",
      "text/plain": [
       "<PIL.Image.Image image mode=RGB size=60x60 at 0x7FE74029BF70>"
      ]
     },
     "metadata": {},
     "output_type": "display_data"
    },
    {
     "name": "stdout",
     "output_type": "stream",
     "text": [
      "Learning rate:  0.00017999999999999998\n",
      "Loss = tensor(1.5314, device='cuda:0', grad_fn=<NllLoss2DBackward>)\n",
      "Loss = tensor(1.5289, device='cuda:0', grad_fn=<NllLoss2DBackward>)\n",
      "Loss = tensor(1.5120, device='cuda:0', grad_fn=<NllLoss2DBackward>)\n",
      "Loss = tensor(1.5259, device='cuda:0', grad_fn=<NllLoss2DBackward>)\n",
      "Loss = tensor(1.5344, device='cuda:0', grad_fn=<NllLoss2DBackward>)\n",
      "EPOCH:  74\n"
     ]
    },
    {
     "data": {
      "image/png": "[encoded data removed]",
      "text/plain": [
       "<PIL.Image.Image image mode=RGB size=60x60 at 0x7FE74029B2B0>"
      ]
     },
     "metadata": {},
     "output_type": "display_data"
    },
    {
     "name": "stdout",
     "output_type": "stream",
     "text": [
      "Learning rate:  0.00017999999999999998\n",
      "Loss = tensor(1.5412, device='cuda:0', grad_fn=<NllLoss2DBackward>)\n",
      "Loss = tensor(1.5298, device='cuda:0', grad_fn=<NllLoss2DBackward>)\n",
      "EPOCH:  75\n"
     ]
    },
    {
     "data": {
      "image/png": "[encoded data removed]",
      "text/plain": [
       "<PIL.Image.Image image mode=RGB size=60x60 at 0x7FE74024F550>"
      ]
     },
     "metadata": {},
     "output_type": "display_data"
    },
    {
     "name": "stdout",
     "output_type": "stream",
     "text": [
      "Learning rate:  0.00017999999999999998\n",
      "Loss = tensor(1.5205, device='cuda:0', grad_fn=<NllLoss2DBackward>)\n",
      "Loss = tensor(1.5410, device='cuda:0', grad_fn=<NllLoss2DBackward>)\n",
      "Loss = tensor(1.5317, device='cuda:0', grad_fn=<NllLoss2DBackward>)\n",
      "Loss = tensor(1.5306, device='cuda:0', grad_fn=<NllLoss2DBackward>)\n",
      "Loss = tensor(1.5323, device='cuda:0', grad_fn=<NllLoss2DBackward>)\n",
      "EPOCH:  75\n"
     ]
    },
    {
     "data": {
      "image/png": "[encoded data removed]",
      "text/plain": [
       "<PIL.Image.Image image mode=RGB size=60x60 at 0x7FE74024F550>"
      ]
     },
     "metadata": {},
     "output_type": "display_data"
    },
    {
     "name": "stdout",
     "output_type": "stream",
     "text": [
      "Learning rate:  0.00017999999999999998\n",
      "Loss = tensor(1.5095, device='cuda:0', grad_fn=<NllLoss2DBackward>)\n",
      "Loss = tensor(1.5303, device='cuda:0', grad_fn=<NllLoss2DBackward>)\n",
      "Loss = tensor(1.5682, device='cuda:0', grad_fn=<NllLoss2DBackward>)\n",
      "Loss = tensor(1.5333, device='cuda:0', grad_fn=<NllLoss2DBackward>)\n",
      "Loss = tensor(1.5423, device='cuda:0', grad_fn=<NllLoss2DBackward>)\n",
      "EPOCH:  75\n"
     ]
    },
    {
     "data": {
      "image/png": "[encoded data removed]",
      "text/plain": [
       "<PIL.Image.Image image mode=RGB size=60x60 at 0x7FE74029BE50>"
      ]
     },
     "metadata": {},
     "output_type": "display_data"
    },
    {
     "name": "stdout",
     "output_type": "stream",
     "text": [
      "Learning rate:  0.00017999999999999998\n",
      "Loss = tensor(1.5283, device='cuda:0', grad_fn=<NllLoss2DBackward>)\n",
      "Loss = tensor(1.5246, device='cuda:0', grad_fn=<NllLoss2DBackward>)\n",
      "EPOCH:  76\n"
     ]
    },
    {
     "data": {
      "image/png": "[encoded data removed]",
      "text/plain": [
       "<PIL.Image.Image image mode=RGB size=60x60 at 0x7FE74024F190>"
      ]
     },
     "metadata": {},
     "output_type": "display_data"
    },
    {
     "name": "stdout",
     "output_type": "stream",
     "text": [
      "Learning rate:  0.00017999999999999998\n",
      "Loss = tensor(1.5287, device='cuda:0', grad_fn=<NllLoss2DBackward>)\n",
      "Loss = tensor(1.5443, device='cuda:0', grad_fn=<NllLoss2DBackward>)\n",
      "Loss = tensor(1.5469, device='cuda:0', grad_fn=<NllLoss2DBackward>)\n",
      "Loss = tensor(1.5233, device='cuda:0', grad_fn=<NllLoss2DBackward>)\n",
      "Loss = tensor(1.5265, device='cuda:0', grad_fn=<NllLoss2DBackward>)\n",
      "EPOCH:  76\n"
     ]
    },
    {
     "data": {
      "image/png": "[encoded data removed]",
      "text/plain": [
       "<PIL.Image.Image image mode=RGB size=60x60 at 0x7FE74024FC40>"
      ]
     },
     "metadata": {},
     "output_type": "display_data"
    },
    {
     "name": "stdout",
     "output_type": "stream",
     "text": [
      "Learning rate:  0.00017999999999999998\n",
      "Loss = tensor(1.5417, device='cuda:0', grad_fn=<NllLoss2DBackward>)\n",
      "Loss = tensor(1.5435, device='cuda:0', grad_fn=<NllLoss2DBackward>)\n",
      "Loss = tensor(1.5202, device='cuda:0', grad_fn=<NllLoss2DBackward>)\n",
      "Loss = tensor(1.5373, device='cuda:0', grad_fn=<NllLoss2DBackward>)\n",
      "Loss = tensor(1.5236, device='cuda:0', grad_fn=<NllLoss2DBackward>)\n",
      "EPOCH:  76\n"
     ]
    },
    {
     "data": {
      "image/png": "[encoded data removed]",
      "text/plain": [
       "<PIL.Image.Image image mode=RGB size=60x60 at 0x7FE74029BDC0>"
      ]
     },
     "metadata": {},
     "output_type": "display_data"
    },
    {
     "name": "stdout",
     "output_type": "stream",
     "text": [
      "Learning rate:  0.00017999999999999998\n",
      "Loss = tensor(1.5447, device='cuda:0', grad_fn=<NllLoss2DBackward>)\n",
      "Loss = tensor(1.5245, device='cuda:0', grad_fn=<NllLoss2DBackward>)\n",
      "EPOCH:  77\n"
     ]
    },
    {
     "data": {
      "image/png": "[encoded data removed]",
      "text/plain": [
       "<PIL.Image.Image image mode=RGB size=60x60 at 0x7FE74029B2B0>"
      ]
     },
     "metadata": {},
     "output_type": "display_data"
    },
    {
     "name": "stdout",
     "output_type": "stream",
     "text": [
      "Learning rate:  0.00017999999999999998\n",
      "Loss = tensor(1.5424, device='cuda:0', grad_fn=<NllLoss2DBackward>)\n",
      "Loss = tensor(1.5338, device='cuda:0', grad_fn=<NllLoss2DBackward>)\n",
      "Loss = tensor(1.5234, device='cuda:0', grad_fn=<NllLoss2DBackward>)\n",
      "Loss = tensor(1.5468, device='cuda:0', grad_fn=<NllLoss2DBackward>)\n",
      "Loss = tensor(1.5200, device='cuda:0', grad_fn=<NllLoss2DBackward>)\n",
      "EPOCH:  77\n"
     ]
    },
    {
     "data": {
      "image/png": "[encoded data removed]",
      "text/plain": [
       "<PIL.Image.Image image mode=RGB size=60x60 at 0x7FE74024F550>"
      ]
     },
     "metadata": {},
     "output_type": "display_data"
    },
    {
     "name": "stdout",
     "output_type": "stream",
     "text": [
      "Learning rate:  0.00017999999999999998\n",
      "Loss = tensor(1.5212, device='cuda:0', grad_fn=<NllLoss2DBackward>)\n",
      "Loss = tensor(1.5132, device='cuda:0', grad_fn=<NllLoss2DBackward>)\n",
      "Loss = tensor(1.5394, device='cuda:0', grad_fn=<NllLoss2DBackward>)\n",
      "Loss = tensor(1.5533, device='cuda:0', grad_fn=<NllLoss2DBackward>)\n",
      "Loss = tensor(1.5346, device='cuda:0', grad_fn=<NllLoss2DBackward>)\n",
      "EPOCH:  77\n"
     ]
    },
    {
     "data": {
      "image/png": "[encoded data removed]",
      "text/plain": [
       "<PIL.Image.Image image mode=RGB size=60x60 at 0x7FE74024F550>"
      ]
     },
     "metadata": {},
     "output_type": "display_data"
    },
    {
     "name": "stdout",
     "output_type": "stream",
     "text": [
      "Learning rate:  0.00017999999999999998\n",
      "Loss = tensor(1.5480, device='cuda:0', grad_fn=<NllLoss2DBackward>)\n",
      "Loss = tensor(1.5308, device='cuda:0', grad_fn=<NllLoss2DBackward>)\n",
      "EPOCH:  78\n"
     ]
    },
    {
     "data": {
      "image/png": "[encoded data removed]",
      "text/plain": [
       "<PIL.Image.Image image mode=RGB size=60x60 at 0x7FE74029BF70>"
      ]
     },
     "metadata": {},
     "output_type": "display_data"
    },
    {
     "name": "stdout",
     "output_type": "stream",
     "text": [
      "Learning rate:  0.00017999999999999998\n",
      "Loss = tensor(1.5319, device='cuda:0', grad_fn=<NllLoss2DBackward>)\n",
      "Loss = tensor(1.5195, device='cuda:0', grad_fn=<NllLoss2DBackward>)\n",
      "Loss = tensor(1.5362, device='cuda:0', grad_fn=<NllLoss2DBackward>)\n",
      "Loss = tensor(1.5225, device='cuda:0', grad_fn=<NllLoss2DBackward>)\n",
      "Loss = tensor(1.5169, device='cuda:0', grad_fn=<NllLoss2DBackward>)\n",
      "EPOCH:  78\n"
     ]
    },
    {
     "data": {
      "image/png": "[encoded data removed]",
      "text/plain": [
       "<PIL.Image.Image image mode=RGB size=60x60 at 0x7FE74024FE80>"
      ]
     },
     "metadata": {},
     "output_type": "display_data"
    },
    {
     "name": "stdout",
     "output_type": "stream",
     "text": [
      "Learning rate:  0.00017999999999999998\n",
      "Loss = tensor(1.5560, device='cuda:0', grad_fn=<NllLoss2DBackward>)\n",
      "Loss = tensor(1.5177, device='cuda:0', grad_fn=<NllLoss2DBackward>)\n",
      "Loss = tensor(1.5383, device='cuda:0', grad_fn=<NllLoss2DBackward>)\n",
      "Loss = tensor(1.5451, device='cuda:0', grad_fn=<NllLoss2DBackward>)\n",
      "Loss = tensor(1.5467, device='cuda:0', grad_fn=<NllLoss2DBackward>)\n",
      "EPOCH:  78\n"
     ]
    },
    {
     "data": {
      "image/png": "[encoded data removed]",
      "text/plain": [
       "<PIL.Image.Image image mode=RGB size=60x60 at 0x7FE74024F190>"
      ]
     },
     "metadata": {},
     "output_type": "display_data"
    },
    {
     "name": "stdout",
     "output_type": "stream",
     "text": [
      "Learning rate:  0.00017999999999999998\n",
      "Loss = tensor(1.5331, device='cuda:0', grad_fn=<NllLoss2DBackward>)\n",
      "Loss = tensor(1.5571, device='cuda:0', grad_fn=<NllLoss2DBackward>)\n",
      "EPOCH:  79\n"
     ]
    },
    {
     "data": {
      "image/png": "[encoded data removed]",
      "text/plain": [
       "<PIL.Image.Image image mode=RGB size=60x60 at 0x7FE74029BE50>"
      ]
     },
     "metadata": {},
     "output_type": "display_data"
    },
    {
     "name": "stdout",
     "output_type": "stream",
     "text": [
      "Learning rate:  0.00017999999999999998\n",
      "Loss = tensor(1.5165, device='cuda:0', grad_fn=<NllLoss2DBackward>)\n",
      "Loss = tensor(1.5353, device='cuda:0', grad_fn=<NllLoss2DBackward>)\n",
      "Loss = tensor(1.5386, device='cuda:0', grad_fn=<NllLoss2DBackward>)\n",
      "Loss = tensor(1.5445, device='cuda:0', grad_fn=<NllLoss2DBackward>)\n",
      "Loss = tensor(1.5216, device='cuda:0', grad_fn=<NllLoss2DBackward>)\n",
      "EPOCH:  79\n"
     ]
    },
    {
     "data": {
      "image/png": "[encoded data removed]",
      "text/plain": [
       "<PIL.Image.Image image mode=RGB size=60x60 at 0x7FE74029B2B0>"
      ]
     },
     "metadata": {},
     "output_type": "display_data"
    },
    {
     "name": "stdout",
     "output_type": "stream",
     "text": [
      "Learning rate:  0.00017999999999999998\n",
      "Loss = tensor(1.5161, device='cuda:0', grad_fn=<NllLoss2DBackward>)\n",
      "Loss = tensor(1.5311, device='cuda:0', grad_fn=<NllLoss2DBackward>)\n",
      "Loss = tensor(1.5596, device='cuda:0', grad_fn=<NllLoss2DBackward>)\n",
      "Loss = tensor(1.5253, device='cuda:0', grad_fn=<NllLoss2DBackward>)\n",
      "Loss = tensor(1.5334, device='cuda:0', grad_fn=<NllLoss2DBackward>)\n",
      "EPOCH:  79\n"
     ]
    },
    {
     "data": {
      "image/png": "[encoded data removed]",
      "text/plain": [
       "<PIL.Image.Image image mode=RGB size=60x60 at 0x7FE74029BF70>"
      ]
     },
     "metadata": {},
     "output_type": "display_data"
    },
    {
     "name": "stdout",
     "output_type": "stream",
     "text": [
      "Learning rate:  0.00017999999999999998\n",
      "Loss = tensor(1.5122, device='cuda:0', grad_fn=<NllLoss2DBackward>)\n",
      "Loss = tensor(1.5260, device='cuda:0', grad_fn=<NllLoss2DBackward>)\n",
      "EPOCH:  80\n"
     ]
    },
    {
     "data": {
      "image/png": "[encoded data removed]",
      "text/plain": [
       "<PIL.Image.Image image mode=RGB size=60x60 at 0x7FE74024FE80>"
      ]
     },
     "metadata": {},
     "output_type": "display_data"
    },
    {
     "name": "stdout",
     "output_type": "stream",
     "text": [
      "Learning rate:  0.00017999999999999998\n",
      "Loss = tensor(1.5356, device='cuda:0', grad_fn=<NllLoss2DBackward>)\n",
      "Loss = tensor(1.5198, device='cuda:0', grad_fn=<NllLoss2DBackward>)\n",
      "Loss = tensor(1.5602, device='cuda:0', grad_fn=<NllLoss2DBackward>)\n",
      "Loss = tensor(1.5272, device='cuda:0', grad_fn=<NllLoss2DBackward>)\n",
      "Loss = tensor(1.5309, device='cuda:0', grad_fn=<NllLoss2DBackward>)\n",
      "EPOCH:  80\n"
     ]
    },
    {
     "data": {
      "image/png": "[encoded data removed]",
      "text/plain": [
       "<PIL.Image.Image image mode=RGB size=60x60 at 0x7FE74024F190>"
      ]
     },
     "metadata": {},
     "output_type": "display_data"
    },
    {
     "name": "stdout",
     "output_type": "stream",
     "text": [
      "Learning rate:  0.00017999999999999998\n",
      "Loss = tensor(1.5400, device='cuda:0', grad_fn=<NllLoss2DBackward>)\n",
      "Loss = tensor(1.5382, device='cuda:0', grad_fn=<NllLoss2DBackward>)\n",
      "Loss = tensor(1.5468, device='cuda:0', grad_fn=<NllLoss2DBackward>)\n",
      "Loss = tensor(1.5312, device='cuda:0', grad_fn=<NllLoss2DBackward>)\n",
      "Loss = tensor(1.5249, device='cuda:0', grad_fn=<NllLoss2DBackward>)\n",
      "EPOCH:  80\n"
     ]
    },
    {
     "data": {
      "image/png": "[encoded data removed]",
      "text/plain": [
       "<PIL.Image.Image image mode=RGB size=60x60 at 0x7FE74024F550>"
      ]
     },
     "metadata": {},
     "output_type": "display_data"
    },
    {
     "name": "stdout",
     "output_type": "stream",
     "text": [
      "Learning rate:  0.00017999999999999998\n",
      "Loss = tensor(1.5222, device='cuda:0', grad_fn=<NllLoss2DBackward>)\n",
      "Loss = tensor(1.5321, device='cuda:0', grad_fn=<NllLoss2DBackward>)\n",
      "EPOCH:  81\n"
     ]
    },
    {
     "data": {
      "image/png": "[encoded data removed]",
      "text/plain": [
       "<PIL.Image.Image image mode=RGB size=60x60 at 0x7FE74029BF70>"
      ]
     },
     "metadata": {},
     "output_type": "display_data"
    },
    {
     "name": "stdout",
     "output_type": "stream",
     "text": [
      "Learning rate:  0.00017999999999999998\n",
      "Loss = tensor(1.5230, device='cuda:0', grad_fn=<NllLoss2DBackward>)\n",
      "Loss = tensor(1.5314, device='cuda:0', grad_fn=<NllLoss2DBackward>)\n",
      "Loss = tensor(1.5437, device='cuda:0', grad_fn=<NllLoss2DBackward>)\n",
      "Loss = tensor(1.5197, device='cuda:0', grad_fn=<NllLoss2DBackward>)\n",
      "Loss = tensor(1.5177, device='cuda:0', grad_fn=<NllLoss2DBackward>)\n",
      "EPOCH:  81\n"
     ]
    },
    {
     "data": {
      "image/png": "[encoded data removed]",
      "text/plain": [
       "<PIL.Image.Image image mode=RGB size=60x60 at 0x7FE748053C40>"
      ]
     },
     "metadata": {},
     "output_type": "display_data"
    },
    {
     "name": "stdout",
     "output_type": "stream",
     "text": [
      "Learning rate:  0.00017999999999999998\n",
      "Loss = tensor(1.5289, device='cuda:0', grad_fn=<NllLoss2DBackward>)\n",
      "Loss = tensor(1.5537, device='cuda:0', grad_fn=<NllLoss2DBackward>)\n",
      "Loss = tensor(1.5375, device='cuda:0', grad_fn=<NllLoss2DBackward>)\n",
      "Loss = tensor(1.5429, device='cuda:0', grad_fn=<NllLoss2DBackward>)\n",
      "Loss = tensor(1.5304, device='cuda:0', grad_fn=<NllLoss2DBackward>)\n",
      "EPOCH:  81\n"
     ]
    },
    {
     "data": {
      "image/png": "[encoded data removed]",
      "text/plain": [
       "<PIL.Image.Image image mode=RGB size=60x60 at 0x7FE74024FC40>"
      ]
     },
     "metadata": {},
     "output_type": "display_data"
    },
    {
     "name": "stdout",
     "output_type": "stream",
     "text": [
      "Learning rate:  0.00017999999999999998\n",
      "Loss = tensor(1.5261, device='cuda:0', grad_fn=<NllLoss2DBackward>)\n",
      "Loss = tensor(1.5264, device='cuda:0', grad_fn=<NllLoss2DBackward>)\n",
      "EPOCH:  82\n"
     ]
    },
    {
     "data": {
      "image/png": "[encoded data removed]",
      "text/plain": [
       "<PIL.Image.Image image mode=RGB size=60x60 at 0x7FE74024F190>"
      ]
     },
     "metadata": {},
     "output_type": "display_data"
    },
    {
     "name": "stdout",
     "output_type": "stream",
     "text": [
      "Learning rate:  0.00017999999999999998\n",
      "Loss = tensor(1.5303, device='cuda:0', grad_fn=<NllLoss2DBackward>)\n",
      "Loss = tensor(1.5397, device='cuda:0', grad_fn=<NllLoss2DBackward>)\n",
      "Loss = tensor(1.5299, device='cuda:0', grad_fn=<NllLoss2DBackward>)\n",
      "Loss = tensor(1.5270, device='cuda:0', grad_fn=<NllLoss2DBackward>)\n",
      "Loss = tensor(1.5518, device='cuda:0', grad_fn=<NllLoss2DBackward>)\n",
      "EPOCH:  82\n"
     ]
    },
    {
     "data": {
      "image/png": "[encoded data removed]",
      "text/plain": [
       "<PIL.Image.Image image mode=RGB size=60x60 at 0x7FE74024F550>"
      ]
     },
     "metadata": {},
     "output_type": "display_data"
    },
    {
     "name": "stdout",
     "output_type": "stream",
     "text": [
      "Learning rate:  0.00017999999999999998\n",
      "Loss = tensor(1.5527, device='cuda:0', grad_fn=<NllLoss2DBackward>)\n",
      "Loss = tensor(1.5433, device='cuda:0', grad_fn=<NllLoss2DBackward>)\n",
      "Loss = tensor(1.5182, device='cuda:0', grad_fn=<NllLoss2DBackward>)\n",
      "Loss = tensor(1.5159, device='cuda:0', grad_fn=<NllLoss2DBackward>)\n",
      "Loss = tensor(1.5283, device='cuda:0', grad_fn=<NllLoss2DBackward>)\n",
      "EPOCH:  82\n"
     ]
    },
    {
     "data": {
      "image/png": "[encoded data removed]",
      "text/plain": [
       "<PIL.Image.Image image mode=RGB size=60x60 at 0x7FE74029B2B0>"
      ]
     },
     "metadata": {},
     "output_type": "display_data"
    },
    {
     "name": "stdout",
     "output_type": "stream",
     "text": [
      "Learning rate:  0.00017999999999999998\n",
      "Loss = tensor(1.5283, device='cuda:0', grad_fn=<NllLoss2DBackward>)\n",
      "Loss = tensor(1.5197, device='cuda:0', grad_fn=<NllLoss2DBackward>)\n",
      "EPOCH:  83\n"
     ]
    },
    {
     "data": {
      "image/png": "[encoded data removed]",
      "text/plain": [
       "<PIL.Image.Image image mode=RGB size=60x60 at 0x7FE74024F190>"
      ]
     },
     "metadata": {},
     "output_type": "display_data"
    },
    {
     "name": "stdout",
     "output_type": "stream",
     "text": [
      "Learning rate:  0.00017999999999999998\n",
      "Loss = tensor(1.5364, device='cuda:0', grad_fn=<NllLoss2DBackward>)\n",
      "Loss = tensor(1.5199, device='cuda:0', grad_fn=<NllLoss2DBackward>)\n",
      "Loss = tensor(1.5242, device='cuda:0', grad_fn=<NllLoss2DBackward>)\n",
      "Loss = tensor(1.5252, device='cuda:0', grad_fn=<NllLoss2DBackward>)\n",
      "Loss = tensor(1.5433, device='cuda:0', grad_fn=<NllLoss2DBackward>)\n",
      "EPOCH:  83\n"
     ]
    },
    {
     "data": {
      "image/png": "[encoded data removed]",
      "text/plain": [
       "<PIL.Image.Image image mode=RGB size=60x60 at 0x7FE748053C40>"
      ]
     },
     "metadata": {},
     "output_type": "display_data"
    },
    {
     "name": "stdout",
     "output_type": "stream",
     "text": [
      "Learning rate:  0.00017999999999999998\n"
     ]
    },
    {
     "ename": "KeyboardInterrupt",
     "evalue": "",
     "output_type": "error",
     "traceback": [
      "\u001b[0;31m---------------------------------------------------------------------------\u001b[0m",
      "\u001b[0;31mKeyboardInterrupt\u001b[0m                         Traceback (most recent call last)",
      "\u001b[0;32m<ipython-input-25-89ccfedebc23>\u001b[0m in \u001b[0;36m<module>\u001b[0;34m\u001b[0m\n\u001b[1;32m     11\u001b[0m             \u001b[0mx\u001b[0m\u001b[0;34m,\u001b[0m \u001b[0mepoch_history\u001b[0m \u001b[0;34m=\u001b[0m \u001b[0mmodel\u001b[0m\u001b[0;34m.\u001b[0m\u001b[0mforward\u001b[0m\u001b[0;34m(\u001b[0m\u001b[0;36m130\u001b[0m\u001b[0;34m,\u001b[0m \u001b[0minputs\u001b[0m\u001b[0;34m,\u001b[0m \u001b[0mlast\u001b[0m\u001b[0;34m=\u001b[0m\u001b[0mlast\u001b[0m\u001b[0;34m)\u001b[0m\u001b[0;34m\u001b[0m\u001b[0;34m\u001b[0m\u001b[0m\n\u001b[1;32m     12\u001b[0m         \u001b[0;32melse\u001b[0m\u001b[0;34m:\u001b[0m\u001b[0;34m\u001b[0m\u001b[0;34m\u001b[0m\u001b[0m\n\u001b[0;32m---> 13\u001b[0;31m             \u001b[0mx\u001b[0m \u001b[0;34m=\u001b[0m \u001b[0mmodel\u001b[0m\u001b[0;34m.\u001b[0m\u001b[0mforward\u001b[0m\u001b[0;34m(\u001b[0m\u001b[0;36m130\u001b[0m\u001b[0;34m,\u001b[0m \u001b[0minputs\u001b[0m\u001b[0;34m,\u001b[0m \u001b[0mlast\u001b[0m\u001b[0;34m=\u001b[0m\u001b[0mlast\u001b[0m\u001b[0;34m)\u001b[0m\u001b[0;34m\u001b[0m\u001b[0;34m\u001b[0m\u001b[0m\n\u001b[0m\u001b[1;32m     14\u001b[0m \u001b[0;34m\u001b[0m\u001b[0m\n\u001b[1;32m     15\u001b[0m         \u001b[0mb\u001b[0m \u001b[0;34m=\u001b[0m \u001b[0mget_rgb\u001b[0m\u001b[0;34m(\u001b[0m\u001b[0mx\u001b[0m\u001b[0;34m)\u001b[0m\u001b[0;34m\u001b[0m\u001b[0;34m\u001b[0m\u001b[0m\n",
      "\u001b[0;32m<ipython-input-23-8a1c94e7d5b6>\u001b[0m in \u001b[0;36mforward\u001b[0;34m(self, steps, x, last)\u001b[0m\n\u001b[1;32m     90\u001b[0m \u001b[0;34m\u001b[0m\u001b[0m\n\u001b[1;32m     91\u001b[0m                 \u001b[0mc\u001b[0m \u001b[0;34m=\u001b[0m \u001b[0mx\u001b[0m\u001b[0;34m.\u001b[0m\u001b[0mdetach\u001b[0m\u001b[0;34m(\u001b[0m\u001b[0;34m)\u001b[0m\u001b[0;34m.\u001b[0m\u001b[0mclone\u001b[0m\u001b[0;34m(\u001b[0m\u001b[0;34m)\u001b[0m\u001b[0;34m\u001b[0m\u001b[0;34m\u001b[0m\u001b[0m\n\u001b[0;32m---> 92\u001b[0;31m                 \u001b[0mstochastic\u001b[0m \u001b[0;34m=\u001b[0m \u001b[0mtorch\u001b[0m\u001b[0;34m.\u001b[0m\u001b[0mrand\u001b[0m\u001b[0;34m(\u001b[0m\u001b[0;34m[\u001b[0m\u001b[0mbb\u001b[0m\u001b[0;34m.\u001b[0m\u001b[0msize\u001b[0m\u001b[0;34m(\u001b[0m\u001b[0;36m0\u001b[0m\u001b[0;34m)\u001b[0m\u001b[0;34m,\u001b[0m\u001b[0mbb\u001b[0m\u001b[0;34m.\u001b[0m\u001b[0msize\u001b[0m\u001b[0;34m(\u001b[0m\u001b[0;36m1\u001b[0m\u001b[0;34m)\u001b[0m\u001b[0;34m,\u001b[0m\u001b[0mbb\u001b[0m\u001b[0;34m.\u001b[0m\u001b[0msize\u001b[0m\u001b[0;34m(\u001b[0m\u001b[0;36m2\u001b[0m\u001b[0;34m)\u001b[0m\u001b[0;34m,\u001b[0m\u001b[0mbb\u001b[0m\u001b[0;34m.\u001b[0m\u001b[0msize\u001b[0m\u001b[0;34m(\u001b[0m\u001b[0;36m3\u001b[0m\u001b[0;34m)\u001b[0m\u001b[0;34m]\u001b[0m\u001b[0;34m)\u001b[0m\u001b[0;34m<\u001b[0m\u001b[0mself\u001b[0m\u001b[0;34m.\u001b[0m\u001b[0mfire_rate\u001b[0m\u001b[0;34m\u001b[0m\u001b[0;34m\u001b[0m\u001b[0m\n\u001b[0m\u001b[1;32m     93\u001b[0m                 \u001b[0mstochastic\u001b[0m \u001b[0;34m=\u001b[0m \u001b[0mstochastic\u001b[0m\u001b[0;34m.\u001b[0m\u001b[0mfloat\u001b[0m\u001b[0;34m(\u001b[0m\u001b[0;34m)\u001b[0m\u001b[0;34m.\u001b[0m\u001b[0mto\u001b[0m\u001b[0;34m(\u001b[0m\u001b[0mself\u001b[0m\u001b[0;34m.\u001b[0m\u001b[0mdevice\u001b[0m\u001b[0;34m)\u001b[0m\u001b[0;34m\u001b[0m\u001b[0;34m\u001b[0m\u001b[0m\n\u001b[1;32m     94\u001b[0m \u001b[0;34m\u001b[0m\u001b[0m\n",
      "\u001b[0;31mKeyboardInterrupt\u001b[0m: "
     ]
    }
   ],
   "source": [
    "for epoch in range(epochs):\n",
    "    i = 0\n",
    "    last = False\n",
    "    \n",
    "    if epoch == epochs-1:\n",
    "        last = True\n",
    "        \n",
    "    for batch in train_loader_CE:\n",
    "        inputs, targets = batch\n",
    "        if last == True:\n",
    "            x, epoch_history = model.forward(130, inputs, last=last)\n",
    "        else:\n",
    "            x = model.forward(130, inputs, last=last)\n",
    "            \n",
    "        b = get_rgb(x)\n",
    "        out = loss2(b, targets.detach().long())\n",
    "        print(\"Loss =\", out)\n",
    "        loss_ce.append(float(out))\n",
    "        c = b.detach().clone()\n",
    "        \n",
    "        if (i % 5 == 0):\n",
    "            print(\"EPOCH: \", epoch)\n",
    "            display(ts(max_rgb(c)[0]))\n",
    "            print(\"Learning rate: \", scheduler.get_last_lr()[0])\n",
    "            del c\n",
    "        i += 1\n",
    "        \n",
    "        optimizer.zero_grad()\n",
    "        out.backward()\n",
    "        optimizer.step()\n",
    "        \n",
    "    scheduler.step()"
   ]
  },
  {
   "cell_type": "code",
   "execution_count": 26,
   "id": "voluntary-skill",
   "metadata": {},
   "outputs": [],
   "source": [
    "torch.save(model, 'misc_figures/learnable.pth')"
   ]
  },
  {
   "cell_type": "code",
   "execution_count": 26,
   "id": "japanese-hypothetical",
   "metadata": {},
   "outputs": [
    {
     "data": {
      "image/gif": "[encoded data removed]",
      "text/plain": [
       "<IPython.core.display.Image object>"
      ]
     },
     "execution_count": 26,
     "metadata": {},
     "output_type": "execute_result"
    }
   ],
   "source": [
    "from IPython.display import display, Image\n",
    "Image('final.gif')"
   ]
  },
  {
   "cell_type": "code",
   "execution_count": 94,
   "id": "billion-mumbai",
   "metadata": {},
   "outputs": [
    {
     "name": "stdout",
     "output_type": "stream",
     "text": [
      "torch.Size([70, 70, 4])\n"
     ]
    },
    {
     "data": {
      "image/png": "[encoded data removed]",
      "text/plain": [
       "<Figure size 432x288 with 1 Axes>"
      ]
     },
     "metadata": {
      "needs_background": "light"
     },
     "output_type": "display_data"
    }
   ],
   "source": [
    "# Show certainty of pixels\n",
    "\n",
    "a = max_rgba(b[0]).detach().clone().to('cpu')\n",
    "plt.imshow(a.transpose(1,2).transpose(0,2))\n",
    "plt.show()"
   ]
  },
  {
   "cell_type": "code",
   "execution_count": 107,
   "id": "affecting-going",
   "metadata": {},
   "outputs": [],
   "source": [
    "# Save final iterations as gif\n",
    "\n",
    "epoch_new = [ts(max_rgb(i)[0]) for i in epoch_history]\n",
    "epoch_new[0].save('anitest.gif',\n",
    "               save_all=True,\n",
    "               append_images=epoch_new[1:],\n",
    "               duration=1000,\n",
    "               loop=0)"
   ]
  },
  {
   "cell_type": "code",
   "execution_count": 25,
   "id": "numerical-meter",
   "metadata": {},
   "outputs": [],
   "source": [
    "from sklearn.metrics import confusion_matrix\n",
    "from sklearn.metrics import mutual_info_score \n",
    "from sklearn.metrics import ConfusionMatrixDisplay\n",
    "\n",
    "# DICE Score\n",
    "def dice(pred, truth, epsilon=1e-6):\n",
    "    pred = pred.view(-1).cpu()\n",
    "    target = truth.view(-1).cpu()\n",
    "\n",
    "    x = confusion_matrix(pred, target)\n",
    "    \n",
    "    FP = x.sum(axis=0) - np.diag(x)\n",
    "    FN = x.sum(axis=1) - np.diag(x)\n",
    "    TP = np.diag(x)\n",
    "    TN = x.sum() - (FP + FN + TP)\n",
    "    \n",
    "    FP = np.sum(FP)\n",
    "    FN = np.sum(FN)\n",
    "    TP = np.sum(TP)\n",
    "    TN = np.sum(TN)\n",
    "    \n",
    "    d5 = 2*TP+FN+FP\n",
    "    if d5 == 0:\n",
    "        d5 = epsilon\n",
    "    dice = 2*TP/d5\n",
    "    \n",
    "    return dice   \n",
    "\n",
    "# Precision, Recall, Accuracy and Specificity Score\n",
    "def pras(pred, truth):\n",
    "    \n",
    "    # Convert to format for confusion matrix\n",
    "    pred = pred.view(-1).cpu()\n",
    "    target = truth.view(-1).cpu()\n",
    "\n",
    "    x = confusion_matrix(pred, target)\n",
    "\n",
    "    # Calculate FP, FN, TP, TN\n",
    "    FP = x.sum(axis=0) - np.diag(x)\n",
    "    FN = x.sum(axis=1) - np.diag(x)\n",
    "    TP = np.diag(x)\n",
    "    TN = x.sum() - (FP + FN + TP)\n",
    "    \n",
    "    # Set the denominators and deal with 0 denominators\n",
    "    d1 = TP+FP\n",
    "    d1[np.where(d1==0)] = -1\n",
    "    d2 = TP+FN\n",
    "    d2[np.where(d2==0)] = -1\n",
    "    d3 = TP+TN+FP+FN\n",
    "    d3[np.where(d3==0)] = -1\n",
    "    d4 = TN+FP\n",
    "    d4[np.where(d4==0)] = -1\n",
    "\n",
    "    # Calculate and return scores\n",
    "    precision = TP/d1\n",
    "    recall = TP/d2\n",
    "    accuracy = (TP+TN)/d3\n",
    "    specificity = TN/d4\n",
    "    \n",
    "    return precision, recall, accuracy, specificity\n",
    "\n",
    "# Recall Score\n",
    "def overall_pras(pred, truth):\n",
    "    \n",
    "    # Convert to format for confusion matrix\n",
    "    pred = pred.view(-1).cpu()\n",
    "    target = truth.view(-1).cpu()\n",
    "    \n",
    "    x = confusion_matrix(pred, target)\n",
    "\n",
    "    FP = x.sum(axis=0) - np.diag(x)  \n",
    "    FN = x.sum(axis=1) - np.diag(x)\n",
    "    TP = np.diag(x)\n",
    "    TN = x.sum() - (FP + FN + TP)\n",
    "    \n",
    "    # Sum the values for overall values\n",
    "    FP = np.sum(FP)\n",
    "    FN = np.sum(FN)\n",
    "    TP = np.sum(TP)\n",
    "    TN = np.sum(TN)\n",
    "    \n",
    "    # Set the denominators and deal with 0 denominators\n",
    "    d1 = TP+FP\n",
    "    d2 = TP+FN\n",
    "    d3 = TP+TN+FP+FN\n",
    "    d4 = TN+FP\n",
    "    \n",
    "    # Calculate and return scores and deal with potential 0 denominators\n",
    "    if d1 > 0:\n",
    "        precision = TP/d1\n",
    "    else:\n",
    "        precision = -1\n",
    "        \n",
    "    if d2 > 0:\n",
    "        recall = TP/d2\n",
    "    else:\n",
    "        recall = -1\n",
    "    \n",
    "    if d3 > 0:\n",
    "        accuracy = (TP+TN)/d3\n",
    "    else:\n",
    "        d3 = -1\n",
    "        \n",
    "    if d4 > 0:\n",
    "        specificity = TN/d4\n",
    "    else:\n",
    "        specificity = -1\n",
    "    \n",
    "    return precision, recall, accuracy, specificity\n",
    "\n",
    "# Mutual Information\n",
    "def mi(pred, target):\n",
    "    print(pred.squeeze().shape)\n",
    "    print(target.flatten().shape)\n",
    "    return mutual_info_score(pred.flatten().cpu(), target.flatten().cpu())\n",
    "\n",
    "def get_confusion(pred, target):\n",
    "    pred = pred.view(-1).cpu()\n",
    "    target = target.view(-1).cpu()\n",
    "    x = confusion_matrix(pred.cpu(), target.cpu())\n",
    "    return x\n",
    "\n",
    "def print_confusion(conf):\n",
    "    xt = [\"Background\", \"Hair\", \"Face\", \"Nose\", \"Eyes\", \"Mouth\"]\n",
    "    sns.set(font_scale=1.4, rc={'figure.figsize':(11.7,8.27)}) \n",
    "    sns.heatmap(conf, annot=True, annot_kws={\"size\": 16}, fmt='g', xticklabels=xt, yticklabels=xt)\n",
    "    plt.savefig(\"confusion.png\")"
   ]
  },
  {
   "cell_type": "code",
   "execution_count": 26,
   "id": "worst-option",
   "metadata": {},
   "outputs": [],
   "source": [
    "# Empty lists for precision, recall, accuracy, specificity, DICE\n",
    "\n",
    "po_list = []\n",
    "ro_list = []\n",
    "ao_list = []\n",
    "so_list = []\n",
    "\n",
    "p_list = []\n",
    "r_list = []\n",
    "a_list = []\n",
    "s_list = []\n",
    "\n",
    "dice_list = []\n",
    "mi_list = []"
   ]
  },
  {
   "cell_type": "code",
   "execution_count": 27,
   "id": "british-steal",
   "metadata": {
    "scrolled": true
   },
   "outputs": [
    {
     "name": "stdout",
     "output_type": "stream",
     "text": [
      "Loss = tensor(1.5026, device='cuda:0')\n",
      "torch.Size([60, 60])\n",
      "torch.Size([3600])\n"
     ]
    },
    {
     "data": {
      "image/png": "[encoded data removed]",
      "text/plain": [
       "<PIL.Image.Image image mode=RGB size=60x60 at 0x7F852B2D5700>"
      ]
     },
     "metadata": {},
     "output_type": "display_data"
    },
    {
     "name": "stdout",
     "output_type": "stream",
     "text": [
      "1.502629041671753\n",
      "Loss = tensor(1.4379, device='cuda:0')\n",
      "torch.Size([60, 60])\n",
      "torch.Size([3600])\n"
     ]
    },
    {
     "data": {
      "image/png": "[encoded data removed]",
      "text/plain": [
       "<PIL.Image.Image image mode=RGB size=60x60 at 0x7F852B144070>"
      ]
     },
     "metadata": {},
     "output_type": "display_data"
    },
    {
     "name": "stdout",
     "output_type": "stream",
     "text": [
      "1.437887191772461\n",
      "Loss = tensor(1.4396, device='cuda:0')\n",
      "torch.Size([60, 60])\n",
      "torch.Size([3600])\n"
     ]
    },
    {
     "data": {
      "image/png": "[encoded data removed]",
      "text/plain": [
       "<PIL.Image.Image image mode=RGB size=60x60 at 0x7F85B4392310>"
      ]
     },
     "metadata": {},
     "output_type": "display_data"
    },
    {
     "name": "stdout",
     "output_type": "stream",
     "text": [
      "1.439571738243103\n",
      "Loss = tensor(1.4139, device='cuda:0')\n",
      "torch.Size([60, 60])\n",
      "torch.Size([3600])\n"
     ]
    },
    {
     "data": {
      "image/png": "[encoded data removed]",
      "text/plain": [
       "<PIL.Image.Image image mode=RGB size=60x60 at 0x7F85B43E7E80>"
      ]
     },
     "metadata": {},
     "output_type": "display_data"
    },
    {
     "name": "stdout",
     "output_type": "stream",
     "text": [
      "1.4139163494110107\n",
      "Loss = tensor(1.4512, device='cuda:0')\n",
      "torch.Size([60, 60])\n",
      "torch.Size([3600])\n"
     ]
    },
    {
     "data": {
      "image/png": "[encoded data removed]",
      "text/plain": [
       "<PIL.Image.Image image mode=RGB size=60x60 at 0x7F85B43E7E80>"
      ]
     },
     "metadata": {},
     "output_type": "display_data"
    },
    {
     "name": "stdout",
     "output_type": "stream",
     "text": [
      "1.4511669874191284\n",
      "Loss = tensor(1.4150, device='cuda:0')\n",
      "torch.Size([60, 60])\n",
      "torch.Size([3600])\n"
     ]
    },
    {
     "data": {
      "image/png": "[encoded data removed]",
      "text/plain": [
       "<PIL.Image.Image image mode=RGB size=60x60 at 0x7F85B43E7E80>"
      ]
     },
     "metadata": {},
     "output_type": "display_data"
    },
    {
     "name": "stdout",
     "output_type": "stream",
     "text": [
      "1.415017008781433\n",
      "Loss = tensor(1.4720, device='cuda:0')\n",
      "torch.Size([60, 60])\n",
      "torch.Size([3600])\n"
     ]
    },
    {
     "data": {
      "image/png": "[encoded data removed]",
      "text/plain": [
       "<PIL.Image.Image image mode=RGB size=60x60 at 0x7F852B2D5700>"
      ]
     },
     "metadata": {},
     "output_type": "display_data"
    },
    {
     "name": "stdout",
     "output_type": "stream",
     "text": [
      "1.472037672996521\n",
      "Loss = tensor(1.7380, device='cuda:0')\n",
      "torch.Size([60, 60])\n",
      "torch.Size([3600])\n"
     ]
    },
    {
     "data": {
      "image/png": "[encoded data removed]",
      "text/plain": [
       "<PIL.Image.Image image mode=RGB size=60x60 at 0x7F852B2D5700>"
      ]
     },
     "metadata": {},
     "output_type": "display_data"
    },
    {
     "name": "stdout",
     "output_type": "stream",
     "text": [
      "1.7379792928695679\n",
      "Loss = tensor(1.7510, device='cuda:0')\n",
      "torch.Size([60, 60])\n",
      "torch.Size([3600])\n"
     ]
    },
    {
     "data": {
      "image/png": "[encoded data removed]",
      "text/plain": [
       "<PIL.Image.Image image mode=RGB size=60x60 at 0x7F852B2D5700>"
      ]
     },
     "metadata": {},
     "output_type": "display_data"
    },
    {
     "name": "stdout",
     "output_type": "stream",
     "text": [
      "1.7510093450546265\n",
      "Loss = tensor(1.4343, device='cuda:0')\n",
      "torch.Size([60, 60])\n",
      "torch.Size([3600])\n"
     ]
    },
    {
     "data": {
      "image/png": "[encoded data removed]",
      "text/plain": [
       "<PIL.Image.Image image mode=RGB size=60x60 at 0x7F85B43E7E80>"
      ]
     },
     "metadata": {},
     "output_type": "display_data"
    },
    {
     "name": "stdout",
     "output_type": "stream",
     "text": [
      "1.4342882633209229\n",
      "Loss = tensor(1.4810, device='cuda:0')\n",
      "torch.Size([60, 60])\n",
      "torch.Size([3600])\n"
     ]
    },
    {
     "data": {
      "image/png": "[encoded data removed]",
      "text/plain": [
       "<PIL.Image.Image image mode=RGB size=60x60 at 0x7F852B2D5700>"
      ]
     },
     "metadata": {},
     "output_type": "display_data"
    },
    {
     "name": "stdout",
     "output_type": "stream",
     "text": [
      "1.481019377708435\n",
      "Loss = tensor(1.4532, device='cuda:0')\n",
      "torch.Size([60, 60])\n",
      "torch.Size([3600])\n"
     ]
    },
    {
     "data": {
      "image/png": "[encoded data removed]",
      "text/plain": [
       "<PIL.Image.Image image mode=RGB size=60x60 at 0x7F85B43E7E80>"
      ]
     },
     "metadata": {},
     "output_type": "display_data"
    },
    {
     "name": "stdout",
     "output_type": "stream",
     "text": [
      "1.4532376527786255\n",
      "Loss = tensor(1.4750, device='cuda:0')\n",
      "torch.Size([60, 60])\n",
      "torch.Size([3600])\n"
     ]
    },
    {
     "data": {
      "image/png": "[encoded data removed]",
      "text/plain": [
       "<PIL.Image.Image image mode=RGB size=60x60 at 0x7F85B43E7E80>"
      ]
     },
     "metadata": {},
     "output_type": "display_data"
    },
    {
     "name": "stdout",
     "output_type": "stream",
     "text": [
      "1.475045084953308\n",
      "Loss = tensor(1.4302, device='cuda:0')\n",
      "torch.Size([60, 60])\n",
      "torch.Size([3600])\n"
     ]
    },
    {
     "data": {
      "image/png": "[encoded data removed]",
      "text/plain": [
       "<PIL.Image.Image image mode=RGB size=60x60 at 0x7F85B43E7E80>"
      ]
     },
     "metadata": {},
     "output_type": "display_data"
    },
    {
     "name": "stdout",
     "output_type": "stream",
     "text": [
      "1.4301788806915283\n",
      "Loss = tensor(1.4582, device='cuda:0')\n",
      "torch.Size([60, 60])\n",
      "torch.Size([3600])\n"
     ]
    },
    {
     "data": {
      "image/png": "[encoded data removed]",
      "text/plain": [
       "<PIL.Image.Image image mode=RGB size=60x60 at 0x7F85B43E7E80>"
      ]
     },
     "metadata": {},
     "output_type": "display_data"
    },
    {
     "name": "stdout",
     "output_type": "stream",
     "text": [
      "1.458184003829956\n",
      "Loss = tensor(1.5727, device='cuda:0')\n",
      "torch.Size([60, 60])\n",
      "torch.Size([3600])\n"
     ]
    },
    {
     "data": {
      "image/png": "[encoded data removed]",
      "text/plain": [
       "<PIL.Image.Image image mode=RGB size=60x60 at 0x7F85B4392310>"
      ]
     },
     "metadata": {},
     "output_type": "display_data"
    },
    {
     "name": "stdout",
     "output_type": "stream",
     "text": [
      "1.5726631879806519\n",
      "Loss = tensor(1.4286, device='cuda:0')\n",
      "torch.Size([60, 60])\n",
      "torch.Size([3600])\n"
     ]
    },
    {
     "data": {
      "image/png": "[encoded data removed]",
      "text/plain": [
       "<PIL.Image.Image image mode=RGB size=60x60 at 0x7F852B2D5700>"
      ]
     },
     "metadata": {},
     "output_type": "display_data"
    },
    {
     "name": "stdout",
     "output_type": "stream",
     "text": [
      "1.4286024570465088\n",
      "Loss = tensor(1.4614, device='cuda:0')\n",
      "torch.Size([60, 60])\n",
      "torch.Size([3600])\n"
     ]
    },
    {
     "data": {
      "image/png": "[encoded data removed]",
      "text/plain": [
       "<PIL.Image.Image image mode=RGB size=60x60 at 0x7F85B43E7E80>"
      ]
     },
     "metadata": {},
     "output_type": "display_data"
    },
    {
     "name": "stdout",
     "output_type": "stream",
     "text": [
      "1.4613633155822754\n",
      "Loss = tensor(1.4639, device='cuda:0')\n",
      "torch.Size([60, 60])\n",
      "torch.Size([3600])\n"
     ]
    },
    {
     "data": {
      "image/png": "[encoded data removed]",
      "text/plain": [
       "<PIL.Image.Image image mode=RGB size=60x60 at 0x7F85B43E7E80>"
      ]
     },
     "metadata": {},
     "output_type": "display_data"
    },
    {
     "name": "stdout",
     "output_type": "stream",
     "text": [
      "1.463870644569397\n",
      "Loss = tensor(1.3986, device='cuda:0')\n",
      "torch.Size([60, 60])\n",
      "torch.Size([3600])\n"
     ]
    },
    {
     "data": {
      "image/png": "[encoded data removed]",
      "text/plain": [
       "<PIL.Image.Image image mode=RGB size=60x60 at 0x7F85B43E7E80>"
      ]
     },
     "metadata": {},
     "output_type": "display_data"
    },
    {
     "name": "stdout",
     "output_type": "stream",
     "text": [
      "1.3986308574676514\n",
      "Loss = tensor(1.4887, device='cuda:0')\n",
      "torch.Size([60, 60])\n",
      "torch.Size([3600])\n"
     ]
    },
    {
     "data": {
      "image/png": "[encoded data removed]",
      "text/plain": [
       "<PIL.Image.Image image mode=RGB size=60x60 at 0x7F852B2D5700>"
      ]
     },
     "metadata": {},
     "output_type": "display_data"
    },
    {
     "name": "stdout",
     "output_type": "stream",
     "text": [
      "1.4887045621871948\n",
      "Loss = tensor(1.4716, device='cuda:0')\n",
      "torch.Size([60, 60])\n",
      "torch.Size([3600])\n"
     ]
    },
    {
     "data": {
      "image/png": "[encoded data removed]",
      "text/plain": [
       "<PIL.Image.Image image mode=RGB size=60x60 at 0x7F85B43E7E80>"
      ]
     },
     "metadata": {},
     "output_type": "display_data"
    },
    {
     "name": "stdout",
     "output_type": "stream",
     "text": [
      "1.471634864807129\n",
      "Loss = tensor(1.4242, device='cuda:0')\n",
      "torch.Size([60, 60])\n",
      "torch.Size([3600])\n"
     ]
    },
    {
     "data": {
      "image/png": "[encoded data removed]",
      "text/plain": [
       "<PIL.Image.Image image mode=RGB size=60x60 at 0x7F85B43E7E80>"
      ]
     },
     "metadata": {},
     "output_type": "display_data"
    },
    {
     "name": "stdout",
     "output_type": "stream",
     "text": [
      "1.4242277145385742\n",
      "Loss = tensor(1.4863, device='cuda:0')\n",
      "torch.Size([60, 60])\n",
      "torch.Size([3600])\n"
     ]
    },
    {
     "data": {
      "image/png": "[encoded data removed]",
      "text/plain": [
       "<PIL.Image.Image image mode=RGB size=60x60 at 0x7F852B2D5700>"
      ]
     },
     "metadata": {},
     "output_type": "display_data"
    },
    {
     "name": "stdout",
     "output_type": "stream",
     "text": [
      "1.4862816333770752\n",
      "Loss = tensor(1.4941, device='cuda:0')\n",
      "torch.Size([60, 60])\n",
      "torch.Size([3600])\n"
     ]
    },
    {
     "data": {
      "image/png": "[encoded data removed]",
      "text/plain": [
       "<PIL.Image.Image image mode=RGB size=60x60 at 0x7F852B2D5700>"
      ]
     },
     "metadata": {},
     "output_type": "display_data"
    },
    {
     "name": "stdout",
     "output_type": "stream",
     "text": [
      "1.4940820932388306\n",
      "Loss = tensor(1.4564, device='cuda:0')\n",
      "torch.Size([60, 60])\n",
      "torch.Size([3600])\n"
     ]
    },
    {
     "data": {
      "image/png": "[encoded data removed]",
      "text/plain": [
       "<PIL.Image.Image image mode=RGB size=60x60 at 0x7F852B2D5700>"
      ]
     },
     "metadata": {},
     "output_type": "display_data"
    },
    {
     "name": "stdout",
     "output_type": "stream",
     "text": [
      "1.456355333328247\n",
      "Loss = tensor(1.4522, device='cuda:0')\n",
      "torch.Size([60, 60])\n",
      "torch.Size([3600])\n"
     ]
    },
    {
     "data": {
      "image/png": "[encoded data removed]",
      "text/plain": [
       "<PIL.Image.Image image mode=RGB size=60x60 at 0x7F852B2D5700>"
      ]
     },
     "metadata": {},
     "output_type": "display_data"
    },
    {
     "name": "stdout",
     "output_type": "stream",
     "text": [
      "1.4522364139556885\n",
      "Loss = tensor(1.4514, device='cuda:0')\n",
      "torch.Size([60, 60])\n",
      "torch.Size([3600])\n"
     ]
    },
    {
     "data": {
      "image/png": "[encoded data removed]",
      "text/plain": [
       "<PIL.Image.Image image mode=RGB size=60x60 at 0x7F852B2D5700>"
      ]
     },
     "metadata": {},
     "output_type": "display_data"
    },
    {
     "name": "stdout",
     "output_type": "stream",
     "text": [
      "1.451393961906433\n",
      "Loss = tensor(1.4687, device='cuda:0')\n",
      "torch.Size([60, 60])\n",
      "torch.Size([3600])\n"
     ]
    },
    {
     "data": {
      "image/png": "[encoded data removed]",
      "text/plain": [
       "<PIL.Image.Image image mode=RGB size=60x60 at 0x7F85B43E7E80>"
      ]
     },
     "metadata": {},
     "output_type": "display_data"
    },
    {
     "name": "stdout",
     "output_type": "stream",
     "text": [
      "1.4687440395355225\n",
      "Loss = tensor(1.4678, device='cuda:0')\n",
      "torch.Size([60, 60])\n",
      "torch.Size([3600])\n"
     ]
    },
    {
     "data": {
      "image/png": "[encoded data removed]",
      "text/plain": [
       "<PIL.Image.Image image mode=RGB size=60x60 at 0x7F85B43E7E80>"
      ]
     },
     "metadata": {},
     "output_type": "display_data"
    },
    {
     "name": "stdout",
     "output_type": "stream",
     "text": [
      "1.467756748199463\n"
     ]
    }
   ],
   "source": [
    "# Inference and test loss\n",
    "loss_test_ce = []\n",
    "batch_size=1\n",
    "conf_running = torch.zeros(6,6)\n",
    "\n",
    "with torch.no_grad():\n",
    "    for batch in test_loader_CE:\n",
    "        inputs, targets = batch\n",
    "        if last == True:\n",
    "            x, epoch_history = model.forward(130, inputs, last=last)\n",
    "        else:\n",
    "            x = model.forward(130, inputs, last=last)\n",
    "\n",
    "        b = get_rgb(x)\n",
    "        pred = torch.argmax(b, dim=1)\n",
    "        out = loss2(b, targets.detach().long())\n",
    "        print(\"Loss =\", out)\n",
    "        loss_test_ce.append(float(out))\n",
    "        c = b.detach().clone()\n",
    "        \n",
    "        target = targets.detach().long()\n",
    "        \n",
    "        # Log metrics\n",
    "        p,r,a,s = overall_pras(pred, target)\n",
    "        po_list.append(p)\n",
    "        ro_list.append(r)\n",
    "        ao_list.append(a)\n",
    "        so_list.append(s)\n",
    "        \n",
    "        d = dice(pred, target)\n",
    "        dice_list.append(d.item())\n",
    "        \n",
    "        m = mi(pred, target)\n",
    "        mi_list.append(m)\n",
    "        \n",
    "        p,r,a,s = pras(pred, target)\n",
    "        p_list.append(p)\n",
    "        r_list.append(r)\n",
    "        a_list.append(a)\n",
    "        s_list.append(s)\n",
    "        \n",
    "        conf_running += get_confusion(pred, target)\n",
    "        \n",
    "        for i in range(batch_size):\n",
    "            display(ts(max_rgb(c)[i]))\n",
    "        del c\n",
    "        print(float(out))"
   ]
  },
  {
   "cell_type": "code",
   "execution_count": 29,
   "id": "chicken-penalty",
   "metadata": {},
   "outputs": [],
   "source": [
    "boxplot_p = np.array(p_list)\n",
    "boxplot_r = np.array(r_list)\n",
    "boxplot_a = np.array(a_list)\n",
    "boxplot_s = np.array(s_list)\n",
    "boxplot_mi = np.array(mi_list)\n",
    "\n",
    "np.save('metrics/learn_p.npy', boxplot_p)\n",
    "np.save('metrics/learn_r.npy', boxplot_r)\n",
    "np.save('metrics/learn_a.npy', boxplot_a)\n",
    "np.save('metrics/learn_s.npy', boxplot_s)\n",
    "np.save('metrics/learn_m.npy', boxplot_mi)\n",
    "np.save('metrics/learn_dice.npy', dice_list)"
   ]
  },
  {
   "cell_type": "code",
   "execution_count": 30,
   "id": "martial-belle",
   "metadata": {},
   "outputs": [
    {
     "data": {
      "image/png": "[encoded data removed]",
      "text/plain": [
       "<Figure size 432x288 with 1 Axes>"
      ]
     },
     "metadata": {
      "needs_background": "light"
     },
     "output_type": "display_data"
    },
    {
     "data": {
      "image/png": "[encoded data removed]",
      "text/plain": [
       "<Figure size 864x864 with 4 Axes>"
      ]
     },
     "metadata": {
      "needs_background": "light"
     },
     "output_type": "display_data"
    }
   ],
   "source": [
    "pras_overall_list = [dice_list, po_list, ro_list, ao_list, so_list, mi_list]\n",
    "#sns.boxplot(x=np.array(pras_overall_list), y=np.array([1,2,3,4]))\n",
    "plt.boxplot(pras_overall_list)\n",
    "plt.xticks([1,2,3,4,5,6],[\"DICE\", \"Precision\", \"Recall\", \"Accuracy\", \"Specificity\", \"MI\"])\n",
    "plt.title(\"Overall Metrics for Test Set\")\n",
    "plt.savefig(\"1LearnPras.png\")\n",
    "\n",
    "\n",
    "fig, ((ax1, ax2), (ax3, ax4)) = plt.subplots(2,2)\n",
    "ax1.boxplot(boxplot_p)\n",
    "ax1.set_title(\"Precision\")\n",
    "ax1.set_xticklabels([\"Background\", \"Hair\", \"Face\", \"Nose\", \"Eyes\", \"Mouth\"])\n",
    "\n",
    "ax2.boxplot(boxplot_r)\n",
    "ax2.set_title(\"Recall\")\n",
    "ax2.set_xticklabels([\"Background\", \"Hair\", \"Face\", \"Nose\", \"Eyes\", \"Mouth\"])\n",
    "\n",
    "ax3.boxplot(boxplot_a)\n",
    "ax3.set_title(\"Accuracy\")\n",
    "ax3.set_xticklabels([\"Background\", \"Hair\", \"Face\", \"Nose\", \"Eyes\", \"Mouth\"])\n",
    "\n",
    "ax4.boxplot(boxplot_s)\n",
    "ax4.set_title(\"Specificity\")\n",
    "ax4.set_xticklabels([\"Background\", \"Hair\", \"Face\", \"Nose\", \"Eyes\", \"Mouth\"])\n",
    "\n",
    "fig.set_figwidth(12)\n",
    "fig.set_figheight(12)\n",
    "\n",
    "plt.setp(ax1.xaxis.get_majorticklabels(), rotation=45)\n",
    "plt.setp(ax2.xaxis.get_majorticklabels(), rotation=45)\n",
    "plt.setp(ax3.xaxis.get_majorticklabels(), rotation=45)\n",
    "plt.setp(ax4.xaxis.get_majorticklabels(), rotation=45)\n",
    "fig.suptitle('PRAS Across Classes')\n",
    "\n",
    "plt.savefig(\"pras/1LearnPrasClass.png\")"
   ]
  },
  {
   "cell_type": "code",
   "execution_count": 31,
   "id": "greatest-experience",
   "metadata": {},
   "outputs": [],
   "source": [
    "np.save('1dice_learn.npy', dice_list)"
   ]
  },
  {
   "cell_type": "code",
   "execution_count": 4,
   "id": "formed-growth",
   "metadata": {},
   "outputs": [],
   "source": [
    "learn = np.load('dice_learn.npy')\n",
    "collab = np.load('dice_collabAlt.npy')\n",
    "global1 = np.load('dice_global.npy')\n",
    "naive = np.load('dice_naive.npy')\n",
    "nbhd = np.load('dice_nbhd.npy')\n",
    "stoch = np.load('dice_stoch.npy')"
   ]
  },
  {
   "cell_type": "code",
   "execution_count": 18,
   "id": "offshore-cocktail",
   "metadata": {},
   "outputs": [
    {
     "data": {
      "image/png": "[encoded data removed]",
      "text/plain": [
       "<Figure size 432x288 with 1 Axes>"
      ]
     },
     "metadata": {
      "needs_background": "light"
     },
     "output_type": "display_data"
    }
   ],
   "source": [
    "dice_scores = [naive, stoch, learn, global1, collab, nbhd]\n",
    "plt.boxplot(dice_scores)\n",
    "plt.xticks([1,2,3,4,5,6],[\"Naive\", \"Stochastic\", \"Learnable\", \"Global\", \"Varying Rules\", \"Nbhd\"], rotation=20)\n",
    "plt.savefig(\"overall_dice.png\")"
   ]
  },
  {
   "cell_type": "code",
   "execution_count": 20,
   "id": "formed-sheep",
   "metadata": {},
   "outputs": [
    {
     "data": {
      "text/plain": [
       "array([0.96375079, 0.96999221, 0.96604569, 0.95440691, 0.97352972,\n",
       "       0.98331245])"
      ]
     },
     "execution_count": 20,
     "metadata": {},
     "output_type": "execute_result"
    }
   ],
   "source": [
    "mean_dice_scores = np.mean(np.array(dice_scores), axis=1)\n",
    "mean_dice_scores"
   ]
  },
  {
   "cell_type": "code",
   "execution_count": null,
   "id": "published-freedom",
   "metadata": {},
   "outputs": [],
   "source": []
  }
 ],
 "metadata": {
  "kernelspec": {
   "display_name": "Python 3",
   "language": "python",
   "name": "python3"
  },
  "language_info": {
   "codemirror_mode": {
    "name": "ipython",
    "version": 3
   },
   "file_extension": ".py",
   "mimetype": "text/x-python",
   "name": "python",
   "nbconvert_exporter": "python",
   "pygments_lexer": "ipython3",
   "version": "3.8.5"
  }
 },
 "nbformat": 4,
 "nbformat_minor": 5
}
