{
 "cells": [
  {
   "cell_type": "code",
   "execution_count": 1,
   "id": "exposed-contractor",
   "metadata": {},
   "outputs": [],
   "source": [
    "import torch\n",
    "%matplotlib inline\n",
    "\n",
    "import os\n",
    "import gzip\n",
    "import time\n",
    "import pickle\n",
    "\n",
    "import numpy as np\n",
    "import matplotlib.pyplot as plt\n",
    "#from scipy import ndimage\n",
    "\n",
    "import torch\n",
    "import torch.nn as nn\n",
    "import torch.optim as optim\n",
    "import torch.nn.functional as F\n",
    "\n",
    "from IPython.display import clear_output\n",
    "from datetime import datetime\n",
    "from torchvision import datasets, transforms\n",
    "\n",
    "from PIL import Image\n",
    "from IPython.display import Image \n",
    "\n"
   ]
  },
  {
   "cell_type": "code",
   "execution_count": 2,
   "id": "anticipated-ukraine",
   "metadata": {},
   "outputs": [
    {
     "name": "stdout",
     "output_type": "stream",
     "text": [
      "cuda:0\n"
     ]
    }
   ],
   "source": [
    "if torch.cuda.is_available():  \n",
    "  dev = \"cuda:0\" \n",
    "else:  \n",
    "  dev = \"cpu\"\n",
    "\n",
    "print(dev)"
   ]
  },
  {
   "cell_type": "code",
   "execution_count": 2,
   "id": "portable-liver",
   "metadata": {},
   "outputs": [],
   "source": [
    "batch_size = 10"
   ]
  },
  {
   "cell_type": "code",
   "execution_count": 3,
   "id": "excessive-kuwait",
   "metadata": {},
   "outputs": [],
   "source": [
    "from torch.utils.data import Dataset, DataLoader\n",
    "import os\n",
    "import glob\n",
    "from PIL import Image\n",
    "import re\n",
    "\n",
    "\n",
    "px_size = 60\n",
    "py_size = 60\n",
    "\n",
    "class DatasetMSE(Dataset):\n",
    "\n",
    "    def __init__(self, image_dir, label_dir):\n",
    "        self.colors = {\n",
    "            0:torch.FloatTensor([255.0, 0.0, 0.0]),\n",
    "            1:torch.FloatTensor([127.0, 0.0, 0.0]),\n",
    "            2:torch.FloatTensor([255.0, 255.0, 0.0]),\n",
    "            3:torch.FloatTensor([0.0, 255.0, 255.0]),\n",
    "            4:torch.FloatTensor([0.0, 0.0, 255.0]),\n",
    "            5:torch.FloatTensor([0.0, 255.0, 0.0])\n",
    "            }\n",
    "        \n",
    "        self.transforms = []\n",
    "        self.tf = transforms.Compose([transforms.ToTensor(), transforms.Resize((px_size,py_size))])\n",
    "        self.label_imgs = torch.stack([self.get_labels(self.tf((Image.open(file)))) for file in glob.glob(label_dir + '/00*')]).to(dev)\n",
    "        self.colour = torch.stack([self.get_colour(self.tf((Image.open(file)))) for file in glob.glob(label_dir + '/00*')]).to(dev)\n",
    "        self.input_imgs = torch.stack([(self.tf((Image.open(file)))) for file in glob.glob(image_dir + '/00*')]).to(dev)\n",
    "        self.add_colour()\n",
    "\n",
    "    def __len__(self):\n",
    "        return len(self.input_imgs)\n",
    "\n",
    "\n",
    "    def __getitem__(self, idx):\n",
    "        input_img, label_img = self.input_imgs[idx], self.label_imgs[idx]\n",
    "        return input_img, label_img\n",
    "    \n",
    "    def col_sim(self, d):\n",
    "        d = d*255\n",
    "        a = torch.FloatTensor([torch.dist(d, self.colors[i]) for i in self.colors])\n",
    "        return torch.argmin(a) \n",
    "    \n",
    "    def view_shape(self):\n",
    "        print(self.label_imgs.shape)\n",
    "        print(self.input_imgs.shape)\n",
    "    \n",
    "    def get_labels(self, x):\n",
    "        new_x = torch.zeros(6,px_size,px_size)\n",
    "        for i in range(px_size):\n",
    "            for j in range(px_size):\n",
    "                new_d3 = x.transpose(0,1).transpose(1,2)\n",
    "                new_x[self.col_sim(new_d3[i][j])][i][j] = 1\n",
    "                \n",
    "        return new_x\n",
    "        \n",
    "    def get_colour(self, x):\n",
    "        new_x = torch.zeros(px_size,px_size)\n",
    "        for i in range(px_size):\n",
    "            for j in range(px_size):\n",
    "                new_d3 = x.transpose(0,1).transpose(1,2)\n",
    "                new_x[i][j] = self.col_sim(new_d3[i][j])\n",
    "        return new_x\n",
    "        \n",
    "    def add_colour(self):\n",
    "        print(self.input_imgs.shape)\n",
    "        for i in range(self.input_imgs.shape[0]):\n",
    "            print(i)\n",
    "            self.input_imgs[i][0][self.colour[i] == 3] += 0.2\n",
    "            self.input_imgs[i][1][self.colour[i] == 4] += 0.2\n",
    "            self.input_imgs[i][2][self.colour[i] == 5] += 0.2\n",
    "        self.input_imgs = self.input_imgs.clamp(0, 1)\n",
    "            #new_x[1][y[i]==4] += 0.5\n",
    "            #new_x[2][y[i]==5] += 0.5\n",
    "            #new_x[2][y[i] == 0] += 0.5\n",
    "            #new_x[1][y[i]==0] += 0.5\n",
    "        \n",
    "    \n",
    "    def print_tensor(self, x):\n",
    "        print(self.input_imgs[x])"
   ]
  },
  {
   "cell_type": "code",
   "execution_count": 32,
   "id": "military-manchester",
   "metadata": {},
   "outputs": [
    {
     "name": "stdout",
     "output_type": "stream",
     "text": [
      "torch.Size([9, 3, 60, 60])\n",
      "0\n",
      "1\n",
      "2\n",
      "3\n",
      "4\n",
      "5\n",
      "6\n",
      "7\n",
      "8\n"
     ]
    }
   ],
   "source": [
    "dset_mse = DatasetMSE(\"Original\",\"Labeled\")\n",
    "train_loader_MSE = torch.utils.data.DataLoader(dset_mse, shuffle=True, batch_size=batch_size)\n",
    "#dset_mse.print_tensor(2)"
   ]
  },
  {
   "cell_type": "code",
   "execution_count": 3,
   "id": "peaceful-probe",
   "metadata": {},
   "outputs": [],
   "source": [
    "import torch, gc\n",
    "gc.collect()\n",
    "torch.cuda.empty_cache()"
   ]
  },
  {
   "cell_type": "code",
   "execution_count": 3,
   "id": "monetary-smith",
   "metadata": {
    "scrolled": true
   },
   "outputs": [],
   "source": [
    "def initial_seed(batch_size):\n",
    "    return torch.zeros(batch_size, 3, px_size, py_size)\n",
    "\n",
    "# Encode colour classes 1\n",
    "def to_classes(d):\n",
    "    d = d*255\n",
    "    x = torch.zeros(6, d.shape[1], d.shape[2])\n",
    "    # RED 255,0,0\n",
    "    x[0][(d[0] > 220) & (d[1] < 20) & (d[2] < 20)] = 1\n",
    "    # BROWN 127,0,0\n",
    "    x[1][(d[0] > 60) & (d[0] < 200) & (d[1] < 60) & (d[2] < 60)] = 1\n",
    "    # YELLOW 255, 255, 0\n",
    "    x[2][(d[0] > 20) & (d[1] > 30) & (d[2] < 230)] = 1\n",
    "    # LIGHT BLUE 0,255,255\n",
    "    x[3][(d[0] < 100) & (d[1] > 100) & (d[2] > 100)] = 1\n",
    "    # DARK BLUE 0,0,255\n",
    "    x[4][(d[0] < 30) & (d[1] < 30) & (d[2] > 150)] = 1\n",
    "    # GREEN 0,255,0\n",
    "    x[5][(d[0] < 120) & (d[1] > 140) & (d[2] < 160)] = 1\n",
    "    return torch.FloatTensor(x)\n",
    "\n",
    "# Encode colour classes 2\n",
    "def to_class(d):\n",
    "    d = d*255\n",
    "    x = torch.zeros(d.shape[1], d.shape[2])\n",
    "    # RED 255,0,0\n",
    "    #x[(d[0] > 180) & (d[1] < 60) & (d[2] < 60)] = 0\n",
    "    # BROWN 127,0,0\n",
    "    x[(d[0] > 60) & (d[0] < 200) & (d[1] < 60) & (d[2] < 60)] = 1\n",
    "    # YELLOW 255, 255, 0\n",
    "    x[(d[0] > 100) & (d[1] > 100) & (d[2] < 100)] = 2\n",
    "    # LIGHT BLUE 0,255,255\n",
    "    x[(d[0] < 60) & (d[1] > 180) & (d[2] > 180)] = 3\n",
    "    # DARK BLUE 0,0,255\n",
    "    x[(d[0] < 60) & (d[1] < 60) & (d[2] > 180)] = 4\n",
    "    # GREEN 0,255,0\n",
    "    x[(d[0] < 70) & (d[1] > 170) & (d[2] < 70)] = 5\n",
    "    return torch.FloatTensor(x)\n",
    "\n",
    "colors = {\n",
    "    0:torch.FloatTensor([255.0, 0.0, 0.0]).to(dev),\n",
    "    1:torch.FloatTensor([127.0, 0.0, 0.0]).to(dev),\n",
    "    2:torch.FloatTensor([255.0, 255.0, 0.0]).to(dev),\n",
    "    3:torch.FloatTensor([0.0, 255.0, 255.0]).to(dev),\n",
    "    4:torch.FloatTensor([0.0, 0.0, 255.0]).to(dev),\n",
    "    5:torch.FloatTensor([0.0, 255.0, 0.0]).to(dev)\n",
    "    }\n",
    "          \n",
    "    \n",
    "# Get RGB class channels\n",
    "def get_rgb(x):\n",
    "    return x.transpose(0,1)[3:9].transpose(0,1)\n",
    "\n",
    "# Transform to display image\n",
    "ts = transforms.ToPILImage()\n",
    "\n",
    "# Get max class value and convert to RGB for the C classes\n",
    "def max_rgb(x):\n",
    "    newimg = torch.zeros(x.shape[0], px_size, px_size, 3).to(dev)\n",
    "    for i in range(x.shape[0]):\n",
    "        # RED 255, 0, 0\n",
    "        newimg[i][torch.argmax(x[i],dim=0) == 0] = colors[0]\n",
    "        # BROWN 127 0 0 \n",
    "        newimg[i][torch.argmax(x[i],dim=0) == 1] = colors[1]\n",
    "        # YELLOW 255, 255, 0\n",
    "        newimg[i][torch.argmax(x[i],dim=0) == 2] = colors[2]\n",
    "        # L BLUE 0, 255, 255\n",
    "        newimg[i][torch.argmax(x[i],dim=0) == 3] = colors[3]\n",
    "        # D BLUE 0, 0, 255\n",
    "        newimg[i][torch.argmax(x[i],dim=0) == 4] = colors[4]\n",
    "        # GREEN 0, 255, 0\n",
    "        newimg[i][torch.argmax(x[i],dim=0) == 5] = colors[5]\n",
    "    \n",
    "    return (newimg/255.0).transpose(1,3).transpose(2,3)\n",
    "\n",
    "\n",
    "def max_rgba(x):\n",
    "    newimg = torch.zeros(px_size, px_size, 3)\n",
    "    # RED 255, 0, 0\n",
    "    newimg[torch.argmax(x,dim=0) == 0] = torch.FloatTensor([255.0, 0.0, 0.0])\n",
    "    # BROWN 127 0 0 \n",
    "    newimg[torch.argmax(x,dim=0) == 1] = torch.FloatTensor([127.0, 0.0, 0.0])\n",
    "    # YELLOW 255, 255, 0\n",
    "    newimg[torch.argmax(x,dim=0) == 2] = torch.FloatTensor([255.0, 255.0, 0.0])\n",
    "    # L BLUE 0, 255, 255\n",
    "    newimg[torch.argmax(x,dim=0) == 3] = torch.FloatTensor([0.0, 255.0, 255.0])\n",
    "    # D BLUE 0, 0, 255\n",
    "    newimg[torch.argmax(x,dim=0) == 4] = torch.FloatTensor([0.0, 0.0, 255.0])\n",
    "    # GREEN 0, 255, 0\n",
    "    newimg[torch.argmax(x,dim=0) == 5] = torch.FloatTensor([0.0, 255.0, 0.0])\n",
    "    \n",
    "    alpha = torch.max(x, dim=0).values.to(dev)\n",
    "    #alpha = alpha/torch.max(alpha)\n",
    "    newimg = (newimg/255.0).to(dev)\n",
    "    newimg = torch.cat((newimg, alpha.view(px_size, px_size, 1)), dim=2)\n",
    "    print(newimg.shape)\n",
    "    return newimg.transpose(0,2).transpose(1,2)\n",
    "\n",
    "# Flatten dimension\n",
    "def loss_classes(x):\n",
    "    y = torch.flatten(x,1,2)\n",
    "    return y\n"
   ]
  },
  {
   "cell_type": "code",
   "execution_count": 4,
   "id": "insured-plumbing",
   "metadata": {},
   "outputs": [
    {
     "ename": "NameError",
     "evalue": "name 'train_loader_CE' is not defined",
     "output_type": "error",
     "traceback": [
      "\u001b[0;31m---------------------------------------------------------------------------\u001b[0m",
      "\u001b[0;31mNameError\u001b[0m                                 Traceback (most recent call last)",
      "\u001b[0;32m<ipython-input-4-e6f9b92b8ff1>\u001b[0m in \u001b[0;36m<module>\u001b[0;34m\u001b[0m\n\u001b[1;32m     16\u001b[0m \u001b[0;31m# Get a batch of training data\u001b[0m\u001b[0;34m\u001b[0m\u001b[0;34m\u001b[0m\u001b[0;34m\u001b[0m\u001b[0m\n\u001b[1;32m     17\u001b[0m \u001b[0;31m# inputs contains 4 images because batch_size=4 for the dataloaders\u001b[0m\u001b[0;34m\u001b[0m\u001b[0;34m\u001b[0m\u001b[0;34m\u001b[0m\u001b[0m\n\u001b[0;32m---> 18\u001b[0;31m \u001b[0minputs\u001b[0m\u001b[0;34m,\u001b[0m \u001b[0mlabels\u001b[0m \u001b[0;34m=\u001b[0m \u001b[0mnext\u001b[0m\u001b[0;34m(\u001b[0m\u001b[0miter\u001b[0m\u001b[0;34m(\u001b[0m\u001b[0mtrain_loader_CE\u001b[0m\u001b[0;34m)\u001b[0m\u001b[0;34m)\u001b[0m\u001b[0;34m\u001b[0m\u001b[0;34m\u001b[0m\u001b[0m\n\u001b[0m\u001b[1;32m     19\u001b[0m \u001b[0;31m# Make a grid from batch\u001b[0m\u001b[0;34m\u001b[0m\u001b[0;34m\u001b[0m\u001b[0;34m\u001b[0m\u001b[0m\n\u001b[1;32m     20\u001b[0m \u001b[0mout\u001b[0m \u001b[0;34m=\u001b[0m \u001b[0mtorchvision\u001b[0m\u001b[0;34m.\u001b[0m\u001b[0mutils\u001b[0m\u001b[0;34m.\u001b[0m\u001b[0mmake_grid\u001b[0m\u001b[0;34m(\u001b[0m\u001b[0mtorch\u001b[0m\u001b[0;34m.\u001b[0m\u001b[0mcat\u001b[0m\u001b[0;34m(\u001b[0m\u001b[0;34m(\u001b[0m\u001b[0minputs\u001b[0m\u001b[0;34m,\u001b[0m \u001b[0mmax_rgb\u001b[0m\u001b[0;34m(\u001b[0m\u001b[0mlabels\u001b[0m\u001b[0;34m)\u001b[0m\u001b[0;34m)\u001b[0m\u001b[0;34m,\u001b[0m\u001b[0mdim\u001b[0m\u001b[0;34m=\u001b[0m\u001b[0;36m0\u001b[0m\u001b[0;34m)\u001b[0m\u001b[0;34m,\u001b[0m \u001b[0mnrow\u001b[0m\u001b[0;34m=\u001b[0m\u001b[0mbatch_size\u001b[0m\u001b[0;34m)\u001b[0m\u001b[0;34m\u001b[0m\u001b[0;34m\u001b[0m\u001b[0m\n",
      "\u001b[0;31mNameError\u001b[0m: name 'train_loader_CE' is not defined"
     ]
    }
   ],
   "source": [
    "import torchvision\n",
    "\n",
    "def imshow(inp, title=None):\n",
    "    \"\"\"Imshow for Tensor.\"\"\"\n",
    "    inp = inp.cpu().numpy().transpose((1, 2, 0))\n",
    "    #mean = np.array([0.485, 0.456, 0.406])\n",
    "    #std = np.array([0.229, 0.224, 0.225])\n",
    "    #inp = std * inp + mean\n",
    "    #inp = np.clip(inp, 0, 1)\n",
    "    plt.imshow(inp)\n",
    "    if title is not None:\n",
    "        plt.title(title)\n",
    "    plt.pause(0.001)  # pause a bit so that plots are updated\n",
    "\n",
    "\n",
    "# Get a batch of training data\n",
    "# inputs contains 4 images because batch_size=4 for the dataloaders\n",
    "inputs, labels = next(iter(train_loader_CE))\n",
    "# Make a grid from batch\n",
    "out = torchvision.utils.make_grid(torch.cat((inputs, max_rgb(labels)),dim=0), nrow=batch_size)\n",
    "imshow(out, title=\"Sample Batch (Image and Ground Truth)\")\n"
   ]
  },
  {
   "cell_type": "code",
   "execution_count": 5,
   "id": "interior-amino",
   "metadata": {},
   "outputs": [],
   "source": [
    "batch_size = 10"
   ]
  },
  {
   "cell_type": "code",
   "execution_count": 6,
   "id": "referenced-exploration",
   "metadata": {},
   "outputs": [],
   "source": [
    "# Cross Entropy\n",
    "\n",
    "from torch.utils.data import Dataset, DataLoader\n",
    "import os\n",
    "import glob\n",
    "from PIL import Image\n",
    "\n",
    "\n",
    "px_size = 60\n",
    "py_size = 60\n",
    "\n",
    "class DatasetCE(Dataset):\n",
    "\n",
    "    def __init__(self, image_dir, label_dir):\n",
    "        self.colors = {\n",
    "            0:torch.FloatTensor([255.0, 0.0, 0.0]),\n",
    "            1:torch.FloatTensor([127.0, 0.0, 0.0]),\n",
    "            2:torch.FloatTensor([255.0, 255.0, 0.0]),\n",
    "            3:torch.FloatTensor([0.0, 255.0, 255.0]),\n",
    "            4:torch.FloatTensor([0.0, 0.0, 255.0]),\n",
    "            5:torch.FloatTensor([0.0, 255.0, 0.0])\n",
    "            }\n",
    "        \n",
    "        self.transforms = []\n",
    "        self.tf = transforms.Compose([transforms.ToTensor(), transforms.Resize((px_size,py_size))])\n",
    "        self.input_imgs = torch.stack([self.tf((Image.open(file))) for file in glob.glob(image_dir + '/*')]).to(dev)\n",
    "        self.label_imgs = torch.stack([self.get_labels(self.tf((Image.open(file)))) for file in glob.glob(label_dir + '/*')]).to(dev)\n",
    "        #self.add_colour()\n",
    "    \n",
    "    def __len__(self):\n",
    "        return len(self.input_imgs)\n",
    "\n",
    "\n",
    "    def __getitem__(self, idx):\n",
    "        input_img, label_img = self.input_imgs[idx], self.label_imgs[idx]\n",
    "        return input_img, label_img\n",
    "    \n",
    "    def col_sim(self, d):\n",
    "        d = d*255\n",
    "        a = torch.FloatTensor([torch.dist(d, self.colors[i]) for i in self.colors])\n",
    "        return torch.argmin(a) \n",
    "    \n",
    "    def view_shape(self):\n",
    "        print(self.label_imgs.shape)\n",
    "        print(self.input_imgs.shape)\n",
    "    \n",
    "    # (3, x, y)\n",
    "    def get_labels(self, x):\n",
    "        new_x = torch.zeros(px_size,px_size)\n",
    "        for i in range(px_size):\n",
    "            for j in range(px_size):\n",
    "                new_d3 = x.transpose(0,1).transpose(1,2)\n",
    "                new_x[i][j] = self.col_sim(new_d3[i][j])\n",
    "        return new_x\n",
    "    \n",
    "    def add_colour(self):\n",
    "        y = self.label_imgs.clone().detach()\n",
    "        for i in range(self.input_imgs.shape[0]):\n",
    "            self.input_imgs[i][0][y[i] == 3] += 0.3\n",
    "            self.input_imgs[i][1][y[i] == 4] += 0.3\n",
    "            self.input_imgs[i][2][y[i] == 5] += 0.3\n",
    "        self.input_imgs = self.input_imgs.clamp(0, 1)\n",
    "\n",
    "    \n",
    "\n",
    "    "
   ]
  },
  {
   "cell_type": "code",
   "execution_count": 7,
   "id": "continuing-session",
   "metadata": {},
   "outputs": [
    {
     "data": {
      "text/plain": [
       "150"
      ]
     },
     "execution_count": 7,
     "metadata": {},
     "output_type": "execute_result"
    }
   ],
   "source": [
    "# Cross Entropy\n",
    "\n",
    "dsetCE = DatasetCE(\"Original\",\"Labeled\")\n",
    "train_loader_CE = torch.utils.data.DataLoader(dsetCE, shuffle=True, batch_size=batch_size)\n",
    "dsetCE.__len__()"
   ]
  },
  {
   "cell_type": "code",
   "execution_count": 8,
   "id": "sapphire-palestinian",
   "metadata": {},
   "outputs": [],
   "source": [
    "train_DS, test_DS = torch.utils.data.random_split(dsetCE, [120, 30])\n",
    "train_loader_CE = torch.utils.data.DataLoader(train_DS, shuffle=True, batch_size=batch_size)\n",
    "test_loader_CE = torch.utils.data.DataLoader(test_DS, shuffle=True, batch_size=1)"
   ]
  },
  {
   "cell_type": "code",
   "execution_count": 9,
   "id": "removed-necessity",
   "metadata": {},
   "outputs": [],
   "source": [
    "# Cellular automata class\n",
    "class CAModel(nn.Module):\n",
    "\n",
    "    def __init__(self, channel_n, fire_rate=0.5, device=torch.device(\"cpu\")):\n",
    "        super(CAModel, self).__init__()\n",
    "\n",
    "        self.device = device\n",
    "        self.channel_n = channel_n        \n",
    "\n",
    "        self.fire_rate = fire_rate\n",
    "        self.to(self.device)\n",
    "        \n",
    "        self.conv0 = nn.Conv2d(45, 1, kernel_size=px_size)\n",
    "        self.conv1 = nn.Conv2d(46, 34, kernel_size=3, padding=1)\n",
    "        self.relu = nn.ReLU()\n",
    "        self.conv2 = nn.Conv2d(34, 16, kernel_size=1)\n",
    "        self.conv3 = nn.Conv2d(16, 6, kernel_size=1)\n",
    "        \n",
    "        self.prewitt_x = torch.FloatTensor([[1,0,-1],[1,0,-1],[1,0,-1]]).to(dev)\n",
    "        self.prewitt_y = torch.FloatTensor([[1,1,1],[0,0,0],[-1,-1,-1]]).to(dev)\n",
    "        \n",
    "        self.sobel_x = torch.FloatTensor([[1,0,-1],[2,0,-2],[1,0,-1]]).to(dev)\n",
    "        self.sobel_y = torch.FloatTensor([[1,2,1],[0,0,0],[-1,-2,-1]]).to(dev)\n",
    "        \n",
    "    def perceive(self, x, angle):\n",
    "\n",
    "        def _perceive_with(x, weight):\n",
    "            size = weight.shape[0]\n",
    "            padding = (size-1)/2\n",
    "            weight = weight.view(1,1,size,size).repeat(self.channel_n, 1, 1, 1)\n",
    "            return F.conv2d(x, weight, padding=int(padding), groups=self.channel_n)\n",
    "        \n",
    "        # 3x3 sobel operators\n",
    "        wa_1 = self.sobel_x\n",
    "        wa_2 = self.sobel_y\n",
    "        wa_3 = self.prewitt_x\n",
    "        wa_4 = self.prewitt_y\n",
    "        \n",
    "        # Normalise these\n",
    "        wa_1/=torch.sum(torch.abs(wa_1))\n",
    "        wa_2/=torch.sum(torch.abs(wa_2))\n",
    "        wa_3/=torch.sum(torch.abs(wa_3))\n",
    "        wa_4/=torch.sum(torch.abs(wa_4))\n",
    "\n",
    "        # Apply convolutions with the 4 of these filters\n",
    "        y1 = _perceive_with(x, wa_1)\n",
    "        y2 = _perceive_with(x, wa_2)\n",
    "        y3 = _perceive_with(x, wa_1)\n",
    "        y4 = _perceive_with(x, wa_2)\n",
    "\n",
    "        # Concatenate: x (6 channels), 4 sobel filters (6 channels each), max pool (6 channels) = 36 total\n",
    "        y = torch.cat((x,y1,y2,y3,y4),1)\n",
    "        return y\n",
    "    \n",
    "    def forward(self, steps, x, last=False):\n",
    "        x = torch.cat((x, torch.zeros(batch_size,6,px_size,px_size).to(dev)), dim=1)\n",
    "        if last == True:\n",
    "            epoch_history = []\n",
    "            for i in range(steps):\n",
    "                epoch_history.append(x.detach().transpose(0,1)[3:9])\n",
    "                b0 = self.perceive(x, 0)\n",
    "                b1 = self.conv0(b0)\n",
    "                b10 = torch.zeros(batch_size, 1, px_size, px_size).to(dev) + b1\n",
    "                b2 = torch.cat((b0, b10), dim=1)\n",
    "                b3 = self.conv3((self.conv2(self.relu(self.conv1(b2)))))\n",
    "\n",
    "                c = x.detach().clone()\n",
    "                stochastic = torch.rand([b3.size(0),b3.size(1),b3.size(2),b3.size(3)])>self.fire_rate\n",
    "                stochastic = stochastic.float().to(self.device)\n",
    "\n",
    "                d = b3*stochastic\n",
    "                e = c.transpose(0,1)[3:9].transpose(0,1) + d\n",
    "                f = F.softmax(e, dim=1)\n",
    "                \n",
    "                x = torch.cat((c.transpose(0,1)[0:3].transpose(0,1),f),dim=1)\n",
    "                \n",
    "            return x, epoch_history\n",
    "                \n",
    "        else:\n",
    "            for i in range(steps):\n",
    "                b0 = self.perceive(x, 0)\n",
    "                b1 = self.conv0(b0)\n",
    "                b10 = torch.zeros(batch_size, 1, px_size, px_size).to(dev) + b1\n",
    "                b2 = torch.cat((b0, b10), dim=1)\n",
    "                b3 = self.conv3((self.conv2(self.relu(self.conv1(b2)))))\n",
    "\n",
    "                c = x.detach().clone()\n",
    "                stochastic = torch.rand([b3.size(0),b3.size(1),b3.size(2),b3.size(3)])>self.fire_rate\n",
    "                stochastic = stochastic.float().to(self.device)\n",
    "\n",
    "                d = b3*stochastic\n",
    "                e = c.transpose(0,1)[3:9].transpose(0,1) + d\n",
    "                f = F.softmax(e, dim=1)\n",
    "                \n",
    "                x = torch.cat((c.transpose(0,1)[0:3].transpose(0,1),f),dim=1)\n",
    "            return x"
   ]
  },
  {
   "cell_type": "code",
   "execution_count": 10,
   "id": "absolute-eleven",
   "metadata": {},
   "outputs": [],
   "source": [
    "# Load model, set loss function, optimizer and scheduler\n",
    "\n",
    "model = CAModel(9,fire_rate=0.5,device=dev)\n",
    "#model = torch.load('modelcollab1.pth')\n",
    "model.cuda()\n",
    "optimizer = optim.Adam(model.parameters(), lr=0.0014, betas=(0.9, 0.999))\n",
    "#scheduler = optim.lr_scheduler.ExponentialLR(optimizer, 0.999)\n",
    "scheduler = torch.optim.lr_scheduler.MultiStepLR(optimizer, [30,60,90], 0.6)\n",
    "#loss1 = torch.nn.MSELoss(size_average=None, reduce=None, reduction='mean')\n",
    "\n",
    "# RED, BROWN, YELLOW, LBLUE, DBLUE, GREEN\n",
    "w = torch.FloatTensor([2,1, 1.05, 8, 9, 8.8]).to(dev)\n",
    "loss2 = torch.nn.CrossEntropyLoss(weight=None, size_average=None, ignore_index=-100, reduce=None, reduction='mean')\n",
    "#loss = torch.nn.KLDivLoss(size_average=None, reduce=None, reduction='mean', log_target=False)\n",
    "#loss = FocalLoss()\n",
    "loss_mse = []\n",
    "loss_ce = []\n",
    "history = []\n",
    "epochs = 200\n",
    "\n",
    "batch_size=10"
   ]
  },
  {
   "cell_type": "code",
   "execution_count": null,
   "id": "dressed-sending",
   "metadata": {
    "scrolled": true
   },
   "outputs": [],
   "source": [
    "for epoch in range(epochs):\n",
    "    i = 0\n",
    "    last = False\n",
    "    if epoch == epochs-1:\n",
    "        last = True\n",
    "    for batch in train_loader_MSE:\n",
    "        inputs, targets = batch\n",
    "        if last == True:\n",
    "            x, epoch_history = model.forward(130, inputs, last=last)\n",
    "        else:\n",
    "            x = model.forward(130, inputs, last=last)\n",
    "            \n",
    "        b = get_rgb(x)\n",
    "        out = loss1(b,targets)\n",
    "        print(\"Loss =\", out)\n",
    "        loss_mse.append(float(out))\n",
    "        c = b.detach().clone()\n",
    "        if (i % 5 == 0):\n",
    "            print(\"EPOCH: \", epoch)\n",
    "            display(ts(max_rgb(c)[0]))\n",
    "            del c\n",
    "            \n",
    "        i += 1\n",
    "        optimizer.zero_grad()\n",
    "        out.backward()\n",
    "        optimizer.step()"
   ]
  },
  {
   "cell_type": "code",
   "execution_count": 19,
   "id": "about-connection",
   "metadata": {},
   "outputs": [],
   "source": [
    "torch.save(model, 'modelMSE.pth')"
   ]
  },
  {
   "cell_type": "code",
   "execution_count": 11,
   "id": "rising-microphone",
   "metadata": {
    "scrolled": true
   },
   "outputs": [
    {
     "name": "stdout",
     "output_type": "stream",
     "text": [
      "Loss = tensor(1.7910, device='cuda:0', grad_fn=<NllLoss2DBackward>)\n",
      "EPOCH:  0\n"
     ]
    },
    {
     "data": {
      "image/png": "[encoded data removed]",
      "text/plain": [
       "<PIL.Image.Image image mode=RGB size=60x60 at 0x7FA4F7B07520>"
      ]
     },
     "metadata": {},
     "output_type": "display_data"
    },
    {
     "name": "stdout",
     "output_type": "stream",
     "text": [
      "Learning rate:  0.0012\n",
      "Loss = tensor(1.7933, device='cuda:0', grad_fn=<NllLoss2DBackward>)\n",
      "Loss = tensor(1.7870, device='cuda:0', grad_fn=<NllLoss2DBackward>)\n",
      "Loss = tensor(1.7800, device='cuda:0', grad_fn=<NllLoss2DBackward>)\n",
      "Loss = tensor(1.7656, device='cuda:0', grad_fn=<NllLoss2DBackward>)\n",
      "Loss = tensor(1.7500, device='cuda:0', grad_fn=<NllLoss2DBackward>)\n",
      "EPOCH:  0\n"
     ]
    },
    {
     "data": {
      "image/png": "[encoded data removed]",
      "text/plain": [
       "<PIL.Image.Image image mode=RGB size=60x60 at 0x7FA4F7B078E0>"
      ]
     },
     "metadata": {},
     "output_type": "display_data"
    },
    {
     "name": "stdout",
     "output_type": "stream",
     "text": [
      "Learning rate:  0.0012\n",
      "Loss = tensor(1.7339, device='cuda:0', grad_fn=<NllLoss2DBackward>)\n",
      "Loss = tensor(1.7355, device='cuda:0', grad_fn=<NllLoss2DBackward>)\n",
      "Loss = tensor(1.7497, device='cuda:0', grad_fn=<NllLoss2DBackward>)\n",
      "Loss = tensor(1.7576, device='cuda:0', grad_fn=<NllLoss2DBackward>)\n",
      "Loss = tensor(1.7554, device='cuda:0', grad_fn=<NllLoss2DBackward>)\n",
      "EPOCH:  0\n"
     ]
    },
    {
     "data": {
      "image/png": "[encoded data removed]",
      "text/plain": [
       "<PIL.Image.Image image mode=RGB size=60x60 at 0x7FA4F7B07520>"
      ]
     },
     "metadata": {},
     "output_type": "display_data"
    },
    {
     "name": "stdout",
     "output_type": "stream",
     "text": [
      "Learning rate:  0.0012\n",
      "Loss = tensor(1.7364, device='cuda:0', grad_fn=<NllLoss2DBackward>)\n",
      "Loss = tensor(1.7385, device='cuda:0', grad_fn=<NllLoss2DBackward>)\n",
      "EPOCH:  1\n"
     ]
    },
    {
     "data": {
      "image/png": "[encoded data removed]",
      "text/plain": [
       "<PIL.Image.Image image mode=RGB size=60x60 at 0x7FA4F7B07400>"
      ]
     },
     "metadata": {},
     "output_type": "display_data"
    },
    {
     "name": "stdout",
     "output_type": "stream",
     "text": [
      "Learning rate:  0.0012\n",
      "Loss = tensor(1.7467, device='cuda:0', grad_fn=<NllLoss2DBackward>)\n",
      "Loss = tensor(1.7431, device='cuda:0', grad_fn=<NllLoss2DBackward>)\n",
      "Loss = tensor(1.7397, device='cuda:0', grad_fn=<NllLoss2DBackward>)\n",
      "Loss = tensor(1.7467, device='cuda:0', grad_fn=<NllLoss2DBackward>)\n",
      "Loss = tensor(1.7284, device='cuda:0', grad_fn=<NllLoss2DBackward>)\n",
      "EPOCH:  1\n"
     ]
    },
    {
     "data": {
      "image/png": "[encoded data removed]",
      "text/plain": [
       "<PIL.Image.Image image mode=RGB size=60x60 at 0x7FA57C2070D0>"
      ]
     },
     "metadata": {},
     "output_type": "display_data"
    },
    {
     "name": "stdout",
     "output_type": "stream",
     "text": [
      "Learning rate:  0.0012\n",
      "Loss = tensor(1.7638, device='cuda:0', grad_fn=<NllLoss2DBackward>)\n",
      "Loss = tensor(1.7394, device='cuda:0', grad_fn=<NllLoss2DBackward>)\n",
      "Loss = tensor(1.7533, device='cuda:0', grad_fn=<NllLoss2DBackward>)\n",
      "Loss = tensor(1.7486, device='cuda:0', grad_fn=<NllLoss2DBackward>)\n",
      "Loss = tensor(1.7158, device='cuda:0', grad_fn=<NllLoss2DBackward>)\n",
      "EPOCH:  1\n"
     ]
    },
    {
     "data": {
      "image/png": "[encoded data removed]",
      "text/plain": [
       "<PIL.Image.Image image mode=RGB size=60x60 at 0x7FA4F7B07400>"
      ]
     },
     "metadata": {},
     "output_type": "display_data"
    },
    {
     "name": "stdout",
     "output_type": "stream",
     "text": [
      "Learning rate:  0.0012\n",
      "Loss = tensor(1.7508, device='cuda:0', grad_fn=<NllLoss2DBackward>)\n",
      "Loss = tensor(1.7359, device='cuda:0', grad_fn=<NllLoss2DBackward>)\n",
      "EPOCH:  2\n"
     ]
    },
    {
     "data": {
      "image/png": "[encoded data removed]",
      "text/plain": [
       "<PIL.Image.Image image mode=RGB size=60x60 at 0x7FA4F75EFF10>"
      ]
     },
     "metadata": {},
     "output_type": "display_data"
    },
    {
     "name": "stdout",
     "output_type": "stream",
     "text": [
      "Learning rate:  0.0012\n",
      "Loss = tensor(1.7524, device='cuda:0', grad_fn=<NllLoss2DBackward>)\n",
      "Loss = tensor(1.7480, device='cuda:0', grad_fn=<NllLoss2DBackward>)\n",
      "Loss = tensor(1.7451, device='cuda:0', grad_fn=<NllLoss2DBackward>)\n",
      "Loss = tensor(1.7311, device='cuda:0', grad_fn=<NllLoss2DBackward>)\n",
      "Loss = tensor(1.7357, device='cuda:0', grad_fn=<NllLoss2DBackward>)\n",
      "EPOCH:  2\n"
     ]
    },
    {
     "data": {
      "image/png": "[encoded data removed]",
      "text/plain": [
       "<PIL.Image.Image image mode=RGB size=60x60 at 0x7FA4F75EFF10>"
      ]
     },
     "metadata": {},
     "output_type": "display_data"
    },
    {
     "name": "stdout",
     "output_type": "stream",
     "text": [
      "Learning rate:  0.0012\n",
      "Loss = tensor(1.7347, device='cuda:0', grad_fn=<NllLoss2DBackward>)\n",
      "Loss = tensor(1.7212, device='cuda:0', grad_fn=<NllLoss2DBackward>)\n",
      "Loss = tensor(1.7273, device='cuda:0', grad_fn=<NllLoss2DBackward>)\n",
      "Loss = tensor(1.7399, device='cuda:0', grad_fn=<NllLoss2DBackward>)\n",
      "Loss = tensor(1.7306, device='cuda:0', grad_fn=<NllLoss2DBackward>)\n",
      "EPOCH:  2\n"
     ]
    },
    {
     "data": {
      "image/png": "[encoded data removed]",
      "text/plain": [
       "<PIL.Image.Image image mode=RGB size=60x60 at 0x7FA4F75EFC70>"
      ]
     },
     "metadata": {},
     "output_type": "display_data"
    },
    {
     "name": "stdout",
     "output_type": "stream",
     "text": [
      "Learning rate:  0.0012\n",
      "Loss = tensor(1.7103, device='cuda:0', grad_fn=<NllLoss2DBackward>)\n",
      "Loss = tensor(1.7410, device='cuda:0', grad_fn=<NllLoss2DBackward>)\n",
      "EPOCH:  3\n"
     ]
    },
    {
     "data": {
      "image/png": "[encoded data removed]",
      "text/plain": [
       "<PIL.Image.Image image mode=RGB size=60x60 at 0x7FA4F75EFF10>"
      ]
     },
     "metadata": {},
     "output_type": "display_data"
    },
    {
     "name": "stdout",
     "output_type": "stream",
     "text": [
      "Learning rate:  0.0012\n",
      "Loss = tensor(1.7392, device='cuda:0', grad_fn=<NllLoss2DBackward>)\n",
      "Loss = tensor(1.7292, device='cuda:0', grad_fn=<NllLoss2DBackward>)\n",
      "Loss = tensor(1.7303, device='cuda:0', grad_fn=<NllLoss2DBackward>)\n",
      "Loss = tensor(1.7199, device='cuda:0', grad_fn=<NllLoss2DBackward>)\n",
      "Loss = tensor(1.7249, device='cuda:0', grad_fn=<NllLoss2DBackward>)\n",
      "EPOCH:  3\n"
     ]
    },
    {
     "data": {
      "image/png": "[encoded data removed]",
      "text/plain": [
       "<PIL.Image.Image image mode=RGB size=60x60 at 0x7FA4F7B07400>"
      ]
     },
     "metadata": {},
     "output_type": "display_data"
    },
    {
     "name": "stdout",
     "output_type": "stream",
     "text": [
      "Learning rate:  0.0012\n",
      "Loss = tensor(1.7251, device='cuda:0', grad_fn=<NllLoss2DBackward>)\n",
      "Loss = tensor(1.7230, device='cuda:0', grad_fn=<NllLoss2DBackward>)\n",
      "Loss = tensor(1.6985, device='cuda:0', grad_fn=<NllLoss2DBackward>)\n",
      "Loss = tensor(1.6953, device='cuda:0', grad_fn=<NllLoss2DBackward>)\n",
      "Loss = tensor(1.7211, device='cuda:0', grad_fn=<NllLoss2DBackward>)\n",
      "EPOCH:  3\n"
     ]
    },
    {
     "data": {
      "image/png": "[encoded data removed]",
      "text/plain": [
       "<PIL.Image.Image image mode=RGB size=60x60 at 0x7FA4F75EFE80>"
      ]
     },
     "metadata": {},
     "output_type": "display_data"
    },
    {
     "name": "stdout",
     "output_type": "stream",
     "text": [
      "Learning rate:  0.0012\n",
      "Loss = tensor(1.7170, device='cuda:0', grad_fn=<NllLoss2DBackward>)\n",
      "Loss = tensor(1.7088, device='cuda:0', grad_fn=<NllLoss2DBackward>)\n",
      "EPOCH:  4\n"
     ]
    },
    {
     "data": {
      "image/png": "[encoded data removed]",
      "text/plain": [
       "<PIL.Image.Image image mode=RGB size=60x60 at 0x7FA4F75EFEB0>"
      ]
     },
     "metadata": {},
     "output_type": "display_data"
    },
    {
     "name": "stdout",
     "output_type": "stream",
     "text": [
      "Learning rate:  0.0012\n",
      "Loss = tensor(1.7082, device='cuda:0', grad_fn=<NllLoss2DBackward>)\n",
      "Loss = tensor(1.7156, device='cuda:0', grad_fn=<NllLoss2DBackward>)\n",
      "Loss = tensor(1.7171, device='cuda:0', grad_fn=<NllLoss2DBackward>)\n",
      "Loss = tensor(1.7036, device='cuda:0', grad_fn=<NllLoss2DBackward>)\n",
      "Loss = tensor(1.7156, device='cuda:0', grad_fn=<NllLoss2DBackward>)\n",
      "EPOCH:  4\n"
     ]
    },
    {
     "data": {
      "image/png": "[encoded data removed]",
      "text/plain": [
       "<PIL.Image.Image image mode=RGB size=60x60 at 0x7FA4F75EFD60>"
      ]
     },
     "metadata": {},
     "output_type": "display_data"
    },
    {
     "name": "stdout",
     "output_type": "stream",
     "text": [
      "Learning rate:  0.0012\n",
      "Loss = tensor(1.6977, device='cuda:0', grad_fn=<NllLoss2DBackward>)\n",
      "Loss = tensor(1.7008, device='cuda:0', grad_fn=<NllLoss2DBackward>)\n",
      "Loss = tensor(1.7118, device='cuda:0', grad_fn=<NllLoss2DBackward>)\n",
      "Loss = tensor(1.7117, device='cuda:0', grad_fn=<NllLoss2DBackward>)\n",
      "Loss = tensor(1.7035, device='cuda:0', grad_fn=<NllLoss2DBackward>)\n",
      "EPOCH:  4\n"
     ]
    },
    {
     "data": {
      "image/png": "[encoded data removed]",
      "text/plain": [
       "<PIL.Image.Image image mode=RGB size=60x60 at 0x7FA4F75EFF10>"
      ]
     },
     "metadata": {},
     "output_type": "display_data"
    },
    {
     "name": "stdout",
     "output_type": "stream",
     "text": [
      "Learning rate:  0.0012\n",
      "Loss = tensor(1.7107, device='cuda:0', grad_fn=<NllLoss2DBackward>)\n",
      "Loss = tensor(1.6905, device='cuda:0', grad_fn=<NllLoss2DBackward>)\n",
      "EPOCH:  5\n"
     ]
    },
    {
     "data": {
      "image/png": "[encoded data removed]",
      "text/plain": [
       "<PIL.Image.Image image mode=RGB size=60x60 at 0x7FA4F75EFEB0>"
      ]
     },
     "metadata": {},
     "output_type": "display_data"
    },
    {
     "name": "stdout",
     "output_type": "stream",
     "text": [
      "Learning rate:  0.0012\n",
      "Loss = tensor(1.6825, device='cuda:0', grad_fn=<NllLoss2DBackward>)\n",
      "Loss = tensor(1.6983, device='cuda:0', grad_fn=<NllLoss2DBackward>)\n",
      "Loss = tensor(1.6974, device='cuda:0', grad_fn=<NllLoss2DBackward>)\n",
      "Loss = tensor(1.6935, device='cuda:0', grad_fn=<NllLoss2DBackward>)\n",
      "Loss = tensor(1.6895, device='cuda:0', grad_fn=<NllLoss2DBackward>)\n",
      "EPOCH:  5\n"
     ]
    },
    {
     "data": {
      "image/png": "[encoded data removed]",
      "text/plain": [
       "<PIL.Image.Image image mode=RGB size=60x60 at 0x7FA4F75EFF10>"
      ]
     },
     "metadata": {},
     "output_type": "display_data"
    },
    {
     "name": "stdout",
     "output_type": "stream",
     "text": [
      "Learning rate:  0.0012\n",
      "Loss = tensor(1.6905, device='cuda:0', grad_fn=<NllLoss2DBackward>)\n",
      "Loss = tensor(1.6894, device='cuda:0', grad_fn=<NllLoss2DBackward>)\n",
      "Loss = tensor(1.6891, device='cuda:0', grad_fn=<NllLoss2DBackward>)\n",
      "Loss = tensor(1.6789, device='cuda:0', grad_fn=<NllLoss2DBackward>)\n",
      "Loss = tensor(1.6883, device='cuda:0', grad_fn=<NllLoss2DBackward>)\n",
      "EPOCH:  5\n"
     ]
    },
    {
     "data": {
      "image/png": "[encoded data removed]",
      "text/plain": [
       "<PIL.Image.Image image mode=RGB size=60x60 at 0x7FA4F75EFD60>"
      ]
     },
     "metadata": {},
     "output_type": "display_data"
    },
    {
     "name": "stdout",
     "output_type": "stream",
     "text": [
      "Learning rate:  0.0012\n",
      "Loss = tensor(1.6816, device='cuda:0', grad_fn=<NllLoss2DBackward>)\n",
      "Loss = tensor(1.6806, device='cuda:0', grad_fn=<NllLoss2DBackward>)\n",
      "EPOCH:  6\n"
     ]
    },
    {
     "data": {
      "image/png": "[encoded data removed]",
      "text/plain": [
       "<PIL.Image.Image image mode=RGB size=60x60 at 0x7FA4F75EFE80>"
      ]
     },
     "metadata": {},
     "output_type": "display_data"
    },
    {
     "name": "stdout",
     "output_type": "stream",
     "text": [
      "Learning rate:  0.0012\n",
      "Loss = tensor(1.6956, device='cuda:0', grad_fn=<NllLoss2DBackward>)\n",
      "Loss = tensor(1.6565, device='cuda:0', grad_fn=<NllLoss2DBackward>)\n",
      "Loss = tensor(1.6769, device='cuda:0', grad_fn=<NllLoss2DBackward>)\n",
      "Loss = tensor(1.6608, device='cuda:0', grad_fn=<NllLoss2DBackward>)\n",
      "Loss = tensor(1.6674, device='cuda:0', grad_fn=<NllLoss2DBackward>)\n",
      "EPOCH:  6\n"
     ]
    },
    {
     "data": {
      "image/png": "[encoded data removed]",
      "text/plain": [
       "<PIL.Image.Image image mode=RGB size=60x60 at 0x7FA4F75EFE80>"
      ]
     },
     "metadata": {},
     "output_type": "display_data"
    },
    {
     "name": "stdout",
     "output_type": "stream",
     "text": [
      "Learning rate:  0.0012\n",
      "Loss = tensor(1.6664, device='cuda:0', grad_fn=<NllLoss2DBackward>)\n",
      "Loss = tensor(1.6667, device='cuda:0', grad_fn=<NllLoss2DBackward>)\n",
      "Loss = tensor(1.6645, device='cuda:0', grad_fn=<NllLoss2DBackward>)\n",
      "Loss = tensor(1.6600, device='cuda:0', grad_fn=<NllLoss2DBackward>)\n",
      "Loss = tensor(1.6576, device='cuda:0', grad_fn=<NllLoss2DBackward>)\n",
      "EPOCH:  6\n"
     ]
    },
    {
     "data": {
      "image/png": "[encoded data removed]",
      "text/plain": [
       "<PIL.Image.Image image mode=RGB size=60x60 at 0x7FA4F7B074F0>"
      ]
     },
     "metadata": {},
     "output_type": "display_data"
    },
    {
     "name": "stdout",
     "output_type": "stream",
     "text": [
      "Learning rate:  0.0012\n",
      "Loss = tensor(1.6765, device='cuda:0', grad_fn=<NllLoss2DBackward>)\n",
      "Loss = tensor(1.6674, device='cuda:0', grad_fn=<NllLoss2DBackward>)\n",
      "EPOCH:  7\n"
     ]
    },
    {
     "data": {
      "image/png": "[encoded data removed]",
      "text/plain": [
       "<PIL.Image.Image image mode=RGB size=60x60 at 0x7FA4F7B074F0>"
      ]
     },
     "metadata": {},
     "output_type": "display_data"
    },
    {
     "name": "stdout",
     "output_type": "stream",
     "text": [
      "Learning rate:  0.0012\n",
      "Loss = tensor(1.6594, device='cuda:0', grad_fn=<NllLoss2DBackward>)\n",
      "Loss = tensor(1.6571, device='cuda:0', grad_fn=<NllLoss2DBackward>)\n",
      "Loss = tensor(1.6436, device='cuda:0', grad_fn=<NllLoss2DBackward>)\n",
      "Loss = tensor(1.6224, device='cuda:0', grad_fn=<NllLoss2DBackward>)\n",
      "Loss = tensor(1.6591, device='cuda:0', grad_fn=<NllLoss2DBackward>)\n",
      "EPOCH:  7\n"
     ]
    },
    {
     "data": {
      "image/png": "[encoded data removed]",
      "text/plain": [
       "<PIL.Image.Image image mode=RGB size=60x60 at 0x7FA4F75EFD60>"
      ]
     },
     "metadata": {},
     "output_type": "display_data"
    },
    {
     "name": "stdout",
     "output_type": "stream",
     "text": [
      "Learning rate:  0.0012\n",
      "Loss = tensor(1.6404, device='cuda:0', grad_fn=<NllLoss2DBackward>)\n",
      "Loss = tensor(1.6671, device='cuda:0', grad_fn=<NllLoss2DBackward>)\n",
      "Loss = tensor(1.6410, device='cuda:0', grad_fn=<NllLoss2DBackward>)\n",
      "Loss = tensor(1.6460, device='cuda:0', grad_fn=<NllLoss2DBackward>)\n",
      "Loss = tensor(1.6361, device='cuda:0', grad_fn=<NllLoss2DBackward>)\n",
      "EPOCH:  7\n"
     ]
    },
    {
     "data": {
      "image/png": "[encoded data removed]",
      "text/plain": [
       "<PIL.Image.Image image mode=RGB size=60x60 at 0x7FA4EDA5FE80>"
      ]
     },
     "metadata": {},
     "output_type": "display_data"
    },
    {
     "name": "stdout",
     "output_type": "stream",
     "text": [
      "Learning rate:  0.0012\n",
      "Loss = tensor(1.6342, device='cuda:0', grad_fn=<NllLoss2DBackward>)\n",
      "Loss = tensor(1.6449, device='cuda:0', grad_fn=<NllLoss2DBackward>)\n",
      "EPOCH:  8\n"
     ]
    },
    {
     "data": {
      "image/png": "[encoded data removed]",
      "text/plain": [
       "<PIL.Image.Image image mode=RGB size=60x60 at 0x7FA4F75EFC70>"
      ]
     },
     "metadata": {},
     "output_type": "display_data"
    },
    {
     "name": "stdout",
     "output_type": "stream",
     "text": [
      "Learning rate:  0.0012\n",
      "Loss = tensor(1.6178, device='cuda:0', grad_fn=<NllLoss2DBackward>)\n",
      "Loss = tensor(1.6302, device='cuda:0', grad_fn=<NllLoss2DBackward>)\n",
      "Loss = tensor(1.6326, device='cuda:0', grad_fn=<NllLoss2DBackward>)\n",
      "Loss = tensor(1.6167, device='cuda:0', grad_fn=<NllLoss2DBackward>)\n",
      "Loss = tensor(1.6208, device='cuda:0', grad_fn=<NllLoss2DBackward>)\n",
      "EPOCH:  8\n"
     ]
    },
    {
     "data": {
      "image/png": "[encoded data removed]",
      "text/plain": [
       "<PIL.Image.Image image mode=RGB size=60x60 at 0x7FA4F75EFC70>"
      ]
     },
     "metadata": {},
     "output_type": "display_data"
    },
    {
     "name": "stdout",
     "output_type": "stream",
     "text": [
      "Learning rate:  0.0012\n",
      "Loss = tensor(1.6095, device='cuda:0', grad_fn=<NllLoss2DBackward>)\n",
      "Loss = tensor(1.6172, device='cuda:0', grad_fn=<NllLoss2DBackward>)\n",
      "Loss = tensor(1.6274, device='cuda:0', grad_fn=<NllLoss2DBackward>)\n",
      "Loss = tensor(1.6567, device='cuda:0', grad_fn=<NllLoss2DBackward>)\n",
      "Loss = tensor(1.6177, device='cuda:0', grad_fn=<NllLoss2DBackward>)\n",
      "EPOCH:  8\n"
     ]
    },
    {
     "data": {
      "image/png": "[encoded data removed]",
      "text/plain": [
       "<PIL.Image.Image image mode=RGB size=60x60 at 0x7FA4F7B078E0>"
      ]
     },
     "metadata": {},
     "output_type": "display_data"
    },
    {
     "name": "stdout",
     "output_type": "stream",
     "text": [
      "Learning rate:  0.0012\n",
      "Loss = tensor(1.6078, device='cuda:0', grad_fn=<NllLoss2DBackward>)\n",
      "Loss = tensor(1.6051, device='cuda:0', grad_fn=<NllLoss2DBackward>)\n",
      "EPOCH:  9\n"
     ]
    },
    {
     "data": {
      "image/png": "[encoded data removed]",
      "text/plain": [
       "<PIL.Image.Image image mode=RGB size=60x60 at 0x7FA4F7B074F0>"
      ]
     },
     "metadata": {},
     "output_type": "display_data"
    },
    {
     "name": "stdout",
     "output_type": "stream",
     "text": [
      "Learning rate:  0.0012\n",
      "Loss = tensor(1.6175, device='cuda:0', grad_fn=<NllLoss2DBackward>)\n",
      "Loss = tensor(1.5896, device='cuda:0', grad_fn=<NllLoss2DBackward>)\n",
      "Loss = tensor(1.6252, device='cuda:0', grad_fn=<NllLoss2DBackward>)\n",
      "Loss = tensor(1.6063, device='cuda:0', grad_fn=<NllLoss2DBackward>)\n",
      "Loss = tensor(1.6174, device='cuda:0', grad_fn=<NllLoss2DBackward>)\n",
      "EPOCH:  9\n"
     ]
    },
    {
     "data": {
      "image/png": "[encoded data removed]",
      "text/plain": [
       "<PIL.Image.Image image mode=RGB size=60x60 at 0x7FA4F75EFC70>"
      ]
     },
     "metadata": {},
     "output_type": "display_data"
    },
    {
     "name": "stdout",
     "output_type": "stream",
     "text": [
      "Learning rate:  0.0012\n",
      "Loss = tensor(1.6130, device='cuda:0', grad_fn=<NllLoss2DBackward>)\n",
      "Loss = tensor(1.6198, device='cuda:0', grad_fn=<NllLoss2DBackward>)\n",
      "Loss = tensor(1.6071, device='cuda:0', grad_fn=<NllLoss2DBackward>)\n",
      "Loss = tensor(1.5942, device='cuda:0', grad_fn=<NllLoss2DBackward>)\n",
      "Loss = tensor(1.6180, device='cuda:0', grad_fn=<NllLoss2DBackward>)\n",
      "EPOCH:  9\n"
     ]
    },
    {
     "data": {
      "image/png": "[encoded data removed]",
      "text/plain": [
       "<PIL.Image.Image image mode=RGB size=60x60 at 0x7FA4F7B07520>"
      ]
     },
     "metadata": {},
     "output_type": "display_data"
    },
    {
     "name": "stdout",
     "output_type": "stream",
     "text": [
      "Learning rate:  0.0012\n",
      "Loss = tensor(1.6043, device='cuda:0', grad_fn=<NllLoss2DBackward>)\n",
      "Loss = tensor(1.6086, device='cuda:0', grad_fn=<NllLoss2DBackward>)\n",
      "EPOCH:  10\n"
     ]
    },
    {
     "data": {
      "image/png": "[encoded data removed]",
      "text/plain": [
       "<PIL.Image.Image image mode=RGB size=60x60 at 0x7FA4F75EFC70>"
      ]
     },
     "metadata": {},
     "output_type": "display_data"
    },
    {
     "name": "stdout",
     "output_type": "stream",
     "text": [
      "Learning rate:  0.0012\n",
      "Loss = tensor(1.5880, device='cuda:0', grad_fn=<NllLoss2DBackward>)\n",
      "Loss = tensor(1.5869, device='cuda:0', grad_fn=<NllLoss2DBackward>)\n",
      "Loss = tensor(1.5917, device='cuda:0', grad_fn=<NllLoss2DBackward>)\n",
      "Loss = tensor(1.5896, device='cuda:0', grad_fn=<NllLoss2DBackward>)\n",
      "Loss = tensor(1.5892, device='cuda:0', grad_fn=<NllLoss2DBackward>)\n",
      "EPOCH:  10\n"
     ]
    },
    {
     "data": {
      "image/png": "[encoded data removed]",
      "text/plain": [
       "<PIL.Image.Image image mode=RGB size=60x60 at 0x7FA4F7B078E0>"
      ]
     },
     "metadata": {},
     "output_type": "display_data"
    },
    {
     "name": "stdout",
     "output_type": "stream",
     "text": [
      "Learning rate:  0.0012\n",
      "Loss = tensor(1.6011, device='cuda:0', grad_fn=<NllLoss2DBackward>)\n",
      "Loss = tensor(1.5897, device='cuda:0', grad_fn=<NllLoss2DBackward>)\n",
      "Loss = tensor(1.6091, device='cuda:0', grad_fn=<NllLoss2DBackward>)\n",
      "Loss = tensor(1.6088, device='cuda:0', grad_fn=<NllLoss2DBackward>)\n",
      "Loss = tensor(1.6007, device='cuda:0', grad_fn=<NllLoss2DBackward>)\n",
      "EPOCH:  10\n"
     ]
    },
    {
     "data": {
      "image/png": "[encoded data removed]",
      "text/plain": [
       "<PIL.Image.Image image mode=RGB size=60x60 at 0x7FA4F7B074F0>"
      ]
     },
     "metadata": {},
     "output_type": "display_data"
    },
    {
     "name": "stdout",
     "output_type": "stream",
     "text": [
      "Learning rate:  0.0012\n",
      "Loss = tensor(1.6023, device='cuda:0', grad_fn=<NllLoss2DBackward>)\n",
      "Loss = tensor(1.5993, device='cuda:0', grad_fn=<NllLoss2DBackward>)\n",
      "EPOCH:  11\n"
     ]
    },
    {
     "data": {
      "image/png": "[encoded data removed]",
      "text/plain": [
       "<PIL.Image.Image image mode=RGB size=60x60 at 0x7FA4F7B07520>"
      ]
     },
     "metadata": {},
     "output_type": "display_data"
    },
    {
     "name": "stdout",
     "output_type": "stream",
     "text": [
      "Learning rate:  0.0012\n",
      "Loss = tensor(1.5907, device='cuda:0', grad_fn=<NllLoss2DBackward>)\n",
      "Loss = tensor(1.5828, device='cuda:0', grad_fn=<NllLoss2DBackward>)\n",
      "Loss = tensor(1.5901, device='cuda:0', grad_fn=<NllLoss2DBackward>)\n",
      "Loss = tensor(1.5940, device='cuda:0', grad_fn=<NllLoss2DBackward>)\n",
      "Loss = tensor(1.5940, device='cuda:0', grad_fn=<NllLoss2DBackward>)\n",
      "EPOCH:  11\n"
     ]
    },
    {
     "data": {
      "image/png": "[encoded data removed]",
      "text/plain": [
       "<PIL.Image.Image image mode=RGB size=60x60 at 0x7FA4F7B078E0>"
      ]
     },
     "metadata": {},
     "output_type": "display_data"
    },
    {
     "name": "stdout",
     "output_type": "stream",
     "text": [
      "Learning rate:  0.0012\n",
      "Loss = tensor(1.5898, device='cuda:0', grad_fn=<NllLoss2DBackward>)\n",
      "Loss = tensor(1.6012, device='cuda:0', grad_fn=<NllLoss2DBackward>)\n",
      "Loss = tensor(1.5887, device='cuda:0', grad_fn=<NllLoss2DBackward>)\n",
      "Loss = tensor(1.5957, device='cuda:0', grad_fn=<NllLoss2DBackward>)\n",
      "Loss = tensor(1.5820, device='cuda:0', grad_fn=<NllLoss2DBackward>)\n",
      "EPOCH:  11\n"
     ]
    },
    {
     "data": {
      "image/png": "[encoded data removed]",
      "text/plain": [
       "<PIL.Image.Image image mode=RGB size=60x60 at 0x7FA4F7B078E0>"
      ]
     },
     "metadata": {},
     "output_type": "display_data"
    },
    {
     "name": "stdout",
     "output_type": "stream",
     "text": [
      "Learning rate:  0.0012\n",
      "Loss = tensor(1.5857, device='cuda:0', grad_fn=<NllLoss2DBackward>)\n",
      "Loss = tensor(1.6084, device='cuda:0', grad_fn=<NllLoss2DBackward>)\n",
      "EPOCH:  12\n"
     ]
    },
    {
     "data": {
      "image/png": "[encoded data removed]",
      "text/plain": [
       "<PIL.Image.Image image mode=RGB size=60x60 at 0x7FA4F7B078E0>"
      ]
     },
     "metadata": {},
     "output_type": "display_data"
    },
    {
     "name": "stdout",
     "output_type": "stream",
     "text": [
      "Learning rate:  0.0012\n",
      "Loss = tensor(1.5808, device='cuda:0', grad_fn=<NllLoss2DBackward>)\n",
      "Loss = tensor(1.5700, device='cuda:0', grad_fn=<NllLoss2DBackward>)\n",
      "Loss = tensor(1.5929, device='cuda:0', grad_fn=<NllLoss2DBackward>)\n",
      "Loss = tensor(1.5745, device='cuda:0', grad_fn=<NllLoss2DBackward>)\n",
      "Loss = tensor(1.5970, device='cuda:0', grad_fn=<NllLoss2DBackward>)\n",
      "EPOCH:  12\n"
     ]
    },
    {
     "data": {
      "image/png": "[encoded data removed]",
      "text/plain": [
       "<PIL.Image.Image image mode=RGB size=60x60 at 0x7FA4F7B074F0>"
      ]
     },
     "metadata": {},
     "output_type": "display_data"
    },
    {
     "name": "stdout",
     "output_type": "stream",
     "text": [
      "Learning rate:  0.0012\n",
      "Loss = tensor(1.5585, device='cuda:0', grad_fn=<NllLoss2DBackward>)\n",
      "Loss = tensor(1.6111, device='cuda:0', grad_fn=<NllLoss2DBackward>)\n",
      "Loss = tensor(1.5703, device='cuda:0', grad_fn=<NllLoss2DBackward>)\n",
      "Loss = tensor(1.5744, device='cuda:0', grad_fn=<NllLoss2DBackward>)\n",
      "Loss = tensor(1.5763, device='cuda:0', grad_fn=<NllLoss2DBackward>)\n",
      "EPOCH:  12\n"
     ]
    },
    {
     "data": {
      "image/png": "[encoded data removed]",
      "text/plain": [
       "<PIL.Image.Image image mode=RGB size=60x60 at 0x7FA4F7B078E0>"
      ]
     },
     "metadata": {},
     "output_type": "display_data"
    },
    {
     "name": "stdout",
     "output_type": "stream",
     "text": [
      "Learning rate:  0.0012\n",
      "Loss = tensor(1.5687, device='cuda:0', grad_fn=<NllLoss2DBackward>)\n",
      "Loss = tensor(1.5777, device='cuda:0', grad_fn=<NllLoss2DBackward>)\n",
      "EPOCH:  13\n"
     ]
    },
    {
     "data": {
      "image/png": "[encoded data removed]",
      "text/plain": [
       "<PIL.Image.Image image mode=RGB size=60x60 at 0x7FA4F7B078E0>"
      ]
     },
     "metadata": {},
     "output_type": "display_data"
    },
    {
     "name": "stdout",
     "output_type": "stream",
     "text": [
      "Learning rate:  0.0012\n",
      "Loss = tensor(1.5766, device='cuda:0', grad_fn=<NllLoss2DBackward>)\n",
      "Loss = tensor(1.5780, device='cuda:0', grad_fn=<NllLoss2DBackward>)\n",
      "Loss = tensor(1.5700, device='cuda:0', grad_fn=<NllLoss2DBackward>)\n",
      "Loss = tensor(1.5885, device='cuda:0', grad_fn=<NllLoss2DBackward>)\n",
      "Loss = tensor(1.5655, device='cuda:0', grad_fn=<NllLoss2DBackward>)\n",
      "EPOCH:  13\n"
     ]
    },
    {
     "data": {
      "image/png": "[encoded data removed]",
      "text/plain": [
       "<PIL.Image.Image image mode=RGB size=60x60 at 0x7FA4F7B07520>"
      ]
     },
     "metadata": {},
     "output_type": "display_data"
    },
    {
     "name": "stdout",
     "output_type": "stream",
     "text": [
      "Learning rate:  0.0012\n",
      "Loss = tensor(1.5663, device='cuda:0', grad_fn=<NllLoss2DBackward>)\n",
      "Loss = tensor(1.5645, device='cuda:0', grad_fn=<NllLoss2DBackward>)\n",
      "Loss = tensor(1.5574, device='cuda:0', grad_fn=<NllLoss2DBackward>)\n",
      "Loss = tensor(1.5874, device='cuda:0', grad_fn=<NllLoss2DBackward>)\n",
      "Loss = tensor(1.5826, device='cuda:0', grad_fn=<NllLoss2DBackward>)\n",
      "EPOCH:  13\n"
     ]
    },
    {
     "data": {
      "image/png": "[encoded data removed]",
      "text/plain": [
       "<PIL.Image.Image image mode=RGB size=60x60 at 0x7FA4F7B074F0>"
      ]
     },
     "metadata": {},
     "output_type": "display_data"
    },
    {
     "name": "stdout",
     "output_type": "stream",
     "text": [
      "Learning rate:  0.0012\n",
      "Loss = tensor(1.5696, device='cuda:0', grad_fn=<NllLoss2DBackward>)\n",
      "Loss = tensor(1.5647, device='cuda:0', grad_fn=<NllLoss2DBackward>)\n",
      "EPOCH:  14\n"
     ]
    },
    {
     "data": {
      "image/png": "[encoded data removed]",
      "text/plain": [
       "<PIL.Image.Image image mode=RGB size=60x60 at 0x7FA4F7B074F0>"
      ]
     },
     "metadata": {},
     "output_type": "display_data"
    },
    {
     "name": "stdout",
     "output_type": "stream",
     "text": [
      "Learning rate:  0.0012\n",
      "Loss = tensor(1.5790, device='cuda:0', grad_fn=<NllLoss2DBackward>)\n",
      "Loss = tensor(1.5803, device='cuda:0', grad_fn=<NllLoss2DBackward>)\n",
      "Loss = tensor(1.5697, device='cuda:0', grad_fn=<NllLoss2DBackward>)\n",
      "Loss = tensor(1.5649, device='cuda:0', grad_fn=<NllLoss2DBackward>)\n",
      "Loss = tensor(1.5636, device='cuda:0', grad_fn=<NllLoss2DBackward>)\n",
      "EPOCH:  14\n"
     ]
    },
    {
     "data": {
      "image/png": "[encoded data removed]",
      "text/plain": [
       "<PIL.Image.Image image mode=RGB size=60x60 at 0x7FA4F7B07520>"
      ]
     },
     "metadata": {},
     "output_type": "display_data"
    },
    {
     "name": "stdout",
     "output_type": "stream",
     "text": [
      "Learning rate:  0.0012\n",
      "Loss = tensor(1.5501, device='cuda:0', grad_fn=<NllLoss2DBackward>)\n",
      "Loss = tensor(1.5668, device='cuda:0', grad_fn=<NllLoss2DBackward>)\n",
      "Loss = tensor(1.5512, device='cuda:0', grad_fn=<NllLoss2DBackward>)\n",
      "Loss = tensor(1.5774, device='cuda:0', grad_fn=<NllLoss2DBackward>)\n",
      "Loss = tensor(1.5728, device='cuda:0', grad_fn=<NllLoss2DBackward>)\n",
      "EPOCH:  14\n"
     ]
    },
    {
     "data": {
      "image/png": "[encoded data removed]",
      "text/plain": [
       "<PIL.Image.Image image mode=RGB size=60x60 at 0x7FA4F7B074F0>"
      ]
     },
     "metadata": {},
     "output_type": "display_data"
    },
    {
     "name": "stdout",
     "output_type": "stream",
     "text": [
      "Learning rate:  0.0012\n",
      "Loss = tensor(1.5658, device='cuda:0', grad_fn=<NllLoss2DBackward>)\n",
      "Loss = tensor(1.5651, device='cuda:0', grad_fn=<NllLoss2DBackward>)\n",
      "EPOCH:  15\n"
     ]
    },
    {
     "data": {
      "image/png": "[encoded data removed]",
      "text/plain": [
       "<PIL.Image.Image image mode=RGB size=60x60 at 0x7FA4F7B078E0>"
      ]
     },
     "metadata": {},
     "output_type": "display_data"
    },
    {
     "name": "stdout",
     "output_type": "stream",
     "text": [
      "Learning rate:  0.0012\n",
      "Loss = tensor(1.5706, device='cuda:0', grad_fn=<NllLoss2DBackward>)\n",
      "Loss = tensor(1.5569, device='cuda:0', grad_fn=<NllLoss2DBackward>)\n",
      "Loss = tensor(1.5526, device='cuda:0', grad_fn=<NllLoss2DBackward>)\n",
      "Loss = tensor(1.5512, device='cuda:0', grad_fn=<NllLoss2DBackward>)\n",
      "Loss = tensor(1.5564, device='cuda:0', grad_fn=<NllLoss2DBackward>)\n",
      "EPOCH:  15\n"
     ]
    },
    {
     "data": {
      "image/png": "[encoded data removed]",
      "text/plain": [
       "<PIL.Image.Image image mode=RGB size=60x60 at 0x7FA4F7B07520>"
      ]
     },
     "metadata": {},
     "output_type": "display_data"
    },
    {
     "name": "stdout",
     "output_type": "stream",
     "text": [
      "Learning rate:  0.0012\n",
      "Loss = tensor(1.5599, device='cuda:0', grad_fn=<NllLoss2DBackward>)\n",
      "Loss = tensor(1.5687, device='cuda:0', grad_fn=<NllLoss2DBackward>)\n",
      "Loss = tensor(1.5504, device='cuda:0', grad_fn=<NllLoss2DBackward>)\n",
      "Loss = tensor(1.5404, device='cuda:0', grad_fn=<NllLoss2DBackward>)\n",
      "Loss = tensor(1.5833, device='cuda:0', grad_fn=<NllLoss2DBackward>)\n",
      "EPOCH:  15\n"
     ]
    },
    {
     "data": {
      "image/png": "[encoded data removed]",
      "text/plain": [
       "<PIL.Image.Image image mode=RGB size=60x60 at 0x7FA4F7B078E0>"
      ]
     },
     "metadata": {},
     "output_type": "display_data"
    },
    {
     "name": "stdout",
     "output_type": "stream",
     "text": [
      "Learning rate:  0.0012\n",
      "Loss = tensor(1.5501, device='cuda:0', grad_fn=<NllLoss2DBackward>)\n",
      "Loss = tensor(1.5565, device='cuda:0', grad_fn=<NllLoss2DBackward>)\n",
      "EPOCH:  16\n"
     ]
    },
    {
     "data": {
      "image/png": "[encoded data removed]",
      "text/plain": [
       "<PIL.Image.Image image mode=RGB size=60x60 at 0x7FA4F7B074F0>"
      ]
     },
     "metadata": {},
     "output_type": "display_data"
    },
    {
     "name": "stdout",
     "output_type": "stream",
     "text": [
      "Learning rate:  0.0012\n",
      "Loss = tensor(1.5496, device='cuda:0', grad_fn=<NllLoss2DBackward>)\n",
      "Loss = tensor(1.5499, device='cuda:0', grad_fn=<NllLoss2DBackward>)\n",
      "Loss = tensor(1.5485, device='cuda:0', grad_fn=<NllLoss2DBackward>)\n",
      "Loss = tensor(1.5382, device='cuda:0', grad_fn=<NllLoss2DBackward>)\n",
      "Loss = tensor(1.5285, device='cuda:0', grad_fn=<NllLoss2DBackward>)\n",
      "EPOCH:  16\n"
     ]
    },
    {
     "data": {
      "image/png": "[encoded data removed]",
      "text/plain": [
       "<PIL.Image.Image image mode=RGB size=60x60 at 0x7FA4F7B07520>"
      ]
     },
     "metadata": {},
     "output_type": "display_data"
    },
    {
     "name": "stdout",
     "output_type": "stream",
     "text": [
      "Learning rate:  0.0012\n",
      "Loss = tensor(1.5403, device='cuda:0', grad_fn=<NllLoss2DBackward>)\n",
      "Loss = tensor(1.5557, device='cuda:0', grad_fn=<NllLoss2DBackward>)\n",
      "Loss = tensor(1.5465, device='cuda:0', grad_fn=<NllLoss2DBackward>)\n",
      "Loss = tensor(1.5521, device='cuda:0', grad_fn=<NllLoss2DBackward>)\n",
      "Loss = tensor(1.5696, device='cuda:0', grad_fn=<NllLoss2DBackward>)\n",
      "EPOCH:  16\n"
     ]
    },
    {
     "data": {
      "image/png": "[encoded data removed]",
      "text/plain": [
       "<PIL.Image.Image image mode=RGB size=60x60 at 0x7FA4F7B07520>"
      ]
     },
     "metadata": {},
     "output_type": "display_data"
    },
    {
     "name": "stdout",
     "output_type": "stream",
     "text": [
      "Learning rate:  0.0012\n",
      "Loss = tensor(1.5551, device='cuda:0', grad_fn=<NllLoss2DBackward>)\n",
      "Loss = tensor(1.5634, device='cuda:0', grad_fn=<NllLoss2DBackward>)\n",
      "EPOCH:  17\n"
     ]
    },
    {
     "data": {
      "image/png": "[encoded data removed]",
      "text/plain": [
       "<PIL.Image.Image image mode=RGB size=60x60 at 0x7FA4F7B07520>"
      ]
     },
     "metadata": {},
     "output_type": "display_data"
    },
    {
     "name": "stdout",
     "output_type": "stream",
     "text": [
      "Learning rate:  0.0012\n",
      "Loss = tensor(1.5400, device='cuda:0', grad_fn=<NllLoss2DBackward>)\n",
      "Loss = tensor(1.5270, device='cuda:0', grad_fn=<NllLoss2DBackward>)\n",
      "Loss = tensor(1.5254, device='cuda:0', grad_fn=<NllLoss2DBackward>)\n",
      "Loss = tensor(1.5419, device='cuda:0', grad_fn=<NllLoss2DBackward>)\n",
      "Loss = tensor(1.5391, device='cuda:0', grad_fn=<NllLoss2DBackward>)\n",
      "EPOCH:  17\n"
     ]
    },
    {
     "data": {
      "image/png": "[encoded data removed]",
      "text/plain": [
       "<PIL.Image.Image image mode=RGB size=60x60 at 0x7FA4F7B074F0>"
      ]
     },
     "metadata": {},
     "output_type": "display_data"
    },
    {
     "name": "stdout",
     "output_type": "stream",
     "text": [
      "Learning rate:  0.0012\n",
      "Loss = tensor(1.5398, device='cuda:0', grad_fn=<NllLoss2DBackward>)\n",
      "Loss = tensor(1.5229, device='cuda:0', grad_fn=<NllLoss2DBackward>)\n",
      "Loss = tensor(1.5439, device='cuda:0', grad_fn=<NllLoss2DBackward>)\n",
      "Loss = tensor(1.5329, device='cuda:0', grad_fn=<NllLoss2DBackward>)\n",
      "Loss = tensor(1.5472, device='cuda:0', grad_fn=<NllLoss2DBackward>)\n",
      "EPOCH:  17\n"
     ]
    },
    {
     "data": {
      "image/png": "[encoded data removed]",
      "text/plain": [
       "<PIL.Image.Image image mode=RGB size=60x60 at 0x7FA4F7B07520>"
      ]
     },
     "metadata": {},
     "output_type": "display_data"
    },
    {
     "name": "stdout",
     "output_type": "stream",
     "text": [
      "Learning rate:  0.0012\n",
      "Loss = tensor(1.5267, device='cuda:0', grad_fn=<NllLoss2DBackward>)\n",
      "Loss = tensor(1.5470, device='cuda:0', grad_fn=<NllLoss2DBackward>)\n",
      "EPOCH:  18\n"
     ]
    },
    {
     "data": {
      "image/png": "[encoded data removed]",
      "text/plain": [
       "<PIL.Image.Image image mode=RGB size=60x60 at 0x7FA4F7B07520>"
      ]
     },
     "metadata": {},
     "output_type": "display_data"
    },
    {
     "name": "stdout",
     "output_type": "stream",
     "text": [
      "Learning rate:  0.0012\n",
      "Loss = tensor(1.5260, device='cuda:0', grad_fn=<NllLoss2DBackward>)\n",
      "Loss = tensor(1.5417, device='cuda:0', grad_fn=<NllLoss2DBackward>)\n",
      "Loss = tensor(1.5219, device='cuda:0', grad_fn=<NllLoss2DBackward>)\n",
      "Loss = tensor(1.5391, device='cuda:0', grad_fn=<NllLoss2DBackward>)\n",
      "Loss = tensor(1.5251, device='cuda:0', grad_fn=<NllLoss2DBackward>)\n",
      "EPOCH:  18\n"
     ]
    },
    {
     "data": {
      "image/png": "[encoded data removed]",
      "text/plain": [
       "<PIL.Image.Image image mode=RGB size=60x60 at 0x7FA4F7B074F0>"
      ]
     },
     "metadata": {},
     "output_type": "display_data"
    },
    {
     "name": "stdout",
     "output_type": "stream",
     "text": [
      "Learning rate:  0.0012\n",
      "Loss = tensor(1.5155, device='cuda:0', grad_fn=<NllLoss2DBackward>)\n",
      "Loss = tensor(1.5254, device='cuda:0', grad_fn=<NllLoss2DBackward>)\n",
      "Loss = tensor(1.5352, device='cuda:0', grad_fn=<NllLoss2DBackward>)\n",
      "Loss = tensor(1.5333, device='cuda:0', grad_fn=<NllLoss2DBackward>)\n",
      "Loss = tensor(1.5098, device='cuda:0', grad_fn=<NllLoss2DBackward>)\n",
      "EPOCH:  18\n"
     ]
    },
    {
     "data": {
      "image/png": "[encoded data removed]",
      "text/plain": [
       "<PIL.Image.Image image mode=RGB size=60x60 at 0x7FA4F7B074F0>"
      ]
     },
     "metadata": {},
     "output_type": "display_data"
    },
    {
     "name": "stdout",
     "output_type": "stream",
     "text": [
      "Learning rate:  0.0012\n",
      "Loss = tensor(1.5363, device='cuda:0', grad_fn=<NllLoss2DBackward>)\n",
      "Loss = tensor(1.5100, device='cuda:0', grad_fn=<NllLoss2DBackward>)\n",
      "EPOCH:  19\n"
     ]
    },
    {
     "data": {
      "image/png": "[encoded data removed]",
      "text/plain": [
       "<PIL.Image.Image image mode=RGB size=60x60 at 0x7FA4F7B074F0>"
      ]
     },
     "metadata": {},
     "output_type": "display_data"
    },
    {
     "name": "stdout",
     "output_type": "stream",
     "text": [
      "Learning rate:  0.0012\n",
      "Loss = tensor(1.5123, device='cuda:0', grad_fn=<NllLoss2DBackward>)\n",
      "Loss = tensor(1.5136, device='cuda:0', grad_fn=<NllLoss2DBackward>)\n",
      "Loss = tensor(1.5181, device='cuda:0', grad_fn=<NllLoss2DBackward>)\n",
      "Loss = tensor(1.5262, device='cuda:0', grad_fn=<NllLoss2DBackward>)\n",
      "Loss = tensor(1.5323, device='cuda:0', grad_fn=<NllLoss2DBackward>)\n",
      "EPOCH:  19\n"
     ]
    },
    {
     "data": {
      "image/png": "[encoded data removed]",
      "text/plain": [
       "<PIL.Image.Image image mode=RGB size=60x60 at 0x7FA4F7B07520>"
      ]
     },
     "metadata": {},
     "output_type": "display_data"
    },
    {
     "name": "stdout",
     "output_type": "stream",
     "text": [
      "Learning rate:  0.0012\n",
      "Loss = tensor(1.5145, device='cuda:0', grad_fn=<NllLoss2DBackward>)\n",
      "Loss = tensor(1.5101, device='cuda:0', grad_fn=<NllLoss2DBackward>)\n",
      "Loss = tensor(1.5225, device='cuda:0', grad_fn=<NllLoss2DBackward>)\n",
      "Loss = tensor(1.5482, device='cuda:0', grad_fn=<NllLoss2DBackward>)\n",
      "Loss = tensor(1.5542, device='cuda:0', grad_fn=<NllLoss2DBackward>)\n",
      "EPOCH:  19\n"
     ]
    },
    {
     "data": {
      "image/png": "[encoded data removed]",
      "text/plain": [
       "<PIL.Image.Image image mode=RGB size=60x60 at 0x7FA4F7B074F0>"
      ]
     },
     "metadata": {},
     "output_type": "display_data"
    },
    {
     "name": "stdout",
     "output_type": "stream",
     "text": [
      "Learning rate:  0.0012\n",
      "Loss = tensor(1.5227, device='cuda:0', grad_fn=<NllLoss2DBackward>)\n",
      "Loss = tensor(1.5211, device='cuda:0', grad_fn=<NllLoss2DBackward>)\n",
      "EPOCH:  20\n"
     ]
    },
    {
     "data": {
      "image/png": "[encoded data removed]",
      "text/plain": [
       "<PIL.Image.Image image mode=RGB size=60x60 at 0x7FA4F7B07400>"
      ]
     },
     "metadata": {},
     "output_type": "display_data"
    },
    {
     "name": "stdout",
     "output_type": "stream",
     "text": [
      "Learning rate:  0.0006\n",
      "Loss = tensor(1.5181, device='cuda:0', grad_fn=<NllLoss2DBackward>)\n",
      "Loss = tensor(1.5140, device='cuda:0', grad_fn=<NllLoss2DBackward>)\n",
      "Loss = tensor(1.5057, device='cuda:0', grad_fn=<NllLoss2DBackward>)\n",
      "Loss = tensor(1.5352, device='cuda:0', grad_fn=<NllLoss2DBackward>)\n",
      "Loss = tensor(1.4972, device='cuda:0', grad_fn=<NllLoss2DBackward>)\n",
      "EPOCH:  20\n"
     ]
    },
    {
     "data": {
      "image/png": "[encoded data removed]",
      "text/plain": [
       "<PIL.Image.Image image mode=RGB size=60x60 at 0x7FA4F7B07520>"
      ]
     },
     "metadata": {},
     "output_type": "display_data"
    },
    {
     "name": "stdout",
     "output_type": "stream",
     "text": [
      "Learning rate:  0.0006\n",
      "Loss = tensor(1.5404, device='cuda:0', grad_fn=<NllLoss2DBackward>)\n",
      "Loss = tensor(1.5282, device='cuda:0', grad_fn=<NllLoss2DBackward>)\n",
      "Loss = tensor(1.5062, device='cuda:0', grad_fn=<NllLoss2DBackward>)\n",
      "Loss = tensor(1.5151, device='cuda:0', grad_fn=<NllLoss2DBackward>)\n",
      "Loss = tensor(1.5270, device='cuda:0', grad_fn=<NllLoss2DBackward>)\n",
      "EPOCH:  20\n"
     ]
    },
    {
     "data": {
      "image/png": "[encoded data removed]",
      "text/plain": [
       "<PIL.Image.Image image mode=RGB size=60x60 at 0x7FA4F7B07520>"
      ]
     },
     "metadata": {},
     "output_type": "display_data"
    },
    {
     "name": "stdout",
     "output_type": "stream",
     "text": [
      "Learning rate:  0.0006\n",
      "Loss = tensor(1.5215, device='cuda:0', grad_fn=<NllLoss2DBackward>)\n",
      "Loss = tensor(1.5103, device='cuda:0', grad_fn=<NllLoss2DBackward>)\n",
      "EPOCH:  21\n"
     ]
    },
    {
     "data": {
      "image/png": "[encoded data removed]",
      "text/plain": [
       "<PIL.Image.Image image mode=RGB size=60x60 at 0x7FA4F7B07520>"
      ]
     },
     "metadata": {},
     "output_type": "display_data"
    },
    {
     "name": "stdout",
     "output_type": "stream",
     "text": [
      "Learning rate:  0.0006\n",
      "Loss = tensor(1.5092, device='cuda:0', grad_fn=<NllLoss2DBackward>)\n",
      "Loss = tensor(1.5248, device='cuda:0', grad_fn=<NllLoss2DBackward>)\n",
      "Loss = tensor(1.5159, device='cuda:0', grad_fn=<NllLoss2DBackward>)\n",
      "Loss = tensor(1.5229, device='cuda:0', grad_fn=<NllLoss2DBackward>)\n",
      "Loss = tensor(1.5226, device='cuda:0', grad_fn=<NllLoss2DBackward>)\n",
      "EPOCH:  21\n"
     ]
    },
    {
     "data": {
      "image/png": "[encoded data removed]",
      "text/plain": [
       "<PIL.Image.Image image mode=RGB size=60x60 at 0x7FA4F7B07400>"
      ]
     },
     "metadata": {},
     "output_type": "display_data"
    },
    {
     "name": "stdout",
     "output_type": "stream",
     "text": [
      "Learning rate:  0.0006\n",
      "Loss = tensor(1.5231, device='cuda:0', grad_fn=<NllLoss2DBackward>)\n",
      "Loss = tensor(1.5185, device='cuda:0', grad_fn=<NllLoss2DBackward>)\n",
      "Loss = tensor(1.5219, device='cuda:0', grad_fn=<NllLoss2DBackward>)\n",
      "Loss = tensor(1.5250, device='cuda:0', grad_fn=<NllLoss2DBackward>)\n",
      "Loss = tensor(1.5058, device='cuda:0', grad_fn=<NllLoss2DBackward>)\n",
      "EPOCH:  21\n"
     ]
    },
    {
     "data": {
      "image/png": "[encoded data removed]",
      "text/plain": [
       "<PIL.Image.Image image mode=RGB size=60x60 at 0x7FA4F7B07400>"
      ]
     },
     "metadata": {},
     "output_type": "display_data"
    },
    {
     "name": "stdout",
     "output_type": "stream",
     "text": [
      "Learning rate:  0.0006\n",
      "Loss = tensor(1.5376, device='cuda:0', grad_fn=<NllLoss2DBackward>)\n",
      "Loss = tensor(1.5328, device='cuda:0', grad_fn=<NllLoss2DBackward>)\n",
      "EPOCH:  22\n"
     ]
    },
    {
     "data": {
      "image/png": "[encoded data removed]",
      "text/plain": [
       "<PIL.Image.Image image mode=RGB size=60x60 at 0x7FA4F7B07520>"
      ]
     },
     "metadata": {},
     "output_type": "display_data"
    },
    {
     "name": "stdout",
     "output_type": "stream",
     "text": [
      "Learning rate:  0.0006\n",
      "Loss = tensor(1.5178, device='cuda:0', grad_fn=<NllLoss2DBackward>)\n",
      "Loss = tensor(1.5127, device='cuda:0', grad_fn=<NllLoss2DBackward>)\n",
      "Loss = tensor(1.5248, device='cuda:0', grad_fn=<NllLoss2DBackward>)\n",
      "Loss = tensor(1.5278, device='cuda:0', grad_fn=<NllLoss2DBackward>)\n",
      "Loss = tensor(1.5363, device='cuda:0', grad_fn=<NllLoss2DBackward>)\n",
      "EPOCH:  22\n"
     ]
    },
    {
     "data": {
      "image/png": "[encoded data removed]",
      "text/plain": [
       "<PIL.Image.Image image mode=RGB size=60x60 at 0x7FA4F7B074F0>"
      ]
     },
     "metadata": {},
     "output_type": "display_data"
    },
    {
     "name": "stdout",
     "output_type": "stream",
     "text": [
      "Learning rate:  0.0006\n",
      "Loss = tensor(1.5183, device='cuda:0', grad_fn=<NllLoss2DBackward>)\n",
      "Loss = tensor(1.5115, device='cuda:0', grad_fn=<NllLoss2DBackward>)\n",
      "Loss = tensor(1.5015, device='cuda:0', grad_fn=<NllLoss2DBackward>)\n",
      "Loss = tensor(1.5135, device='cuda:0', grad_fn=<NllLoss2DBackward>)\n",
      "Loss = tensor(1.5184, device='cuda:0', grad_fn=<NllLoss2DBackward>)\n",
      "EPOCH:  22\n"
     ]
    },
    {
     "data": {
      "image/png": "[encoded data removed]",
      "text/plain": [
       "<PIL.Image.Image image mode=RGB size=60x60 at 0x7FA4F7B07520>"
      ]
     },
     "metadata": {},
     "output_type": "display_data"
    },
    {
     "name": "stdout",
     "output_type": "stream",
     "text": [
      "Learning rate:  0.0006\n",
      "Loss = tensor(1.4966, device='cuda:0', grad_fn=<NllLoss2DBackward>)\n",
      "Loss = tensor(1.5242, device='cuda:0', grad_fn=<NllLoss2DBackward>)\n",
      "EPOCH:  23\n"
     ]
    },
    {
     "data": {
      "image/png": "[encoded data removed]",
      "text/plain": [
       "<PIL.Image.Image image mode=RGB size=60x60 at 0x7FA4F7B07520>"
      ]
     },
     "metadata": {},
     "output_type": "display_data"
    },
    {
     "name": "stdout",
     "output_type": "stream",
     "text": [
      "Learning rate:  0.0006\n",
      "Loss = tensor(1.4972, device='cuda:0', grad_fn=<NllLoss2DBackward>)\n",
      "Loss = tensor(1.5029, device='cuda:0', grad_fn=<NllLoss2DBackward>)\n",
      "Loss = tensor(1.5083, device='cuda:0', grad_fn=<NllLoss2DBackward>)\n",
      "Loss = tensor(1.5108, device='cuda:0', grad_fn=<NllLoss2DBackward>)\n",
      "Loss = tensor(1.5176, device='cuda:0', grad_fn=<NllLoss2DBackward>)\n",
      "EPOCH:  23\n"
     ]
    },
    {
     "data": {
      "image/png": "[encoded data removed]",
      "text/plain": [
       "<PIL.Image.Image image mode=RGB size=60x60 at 0x7FA4F7B07400>"
      ]
     },
     "metadata": {},
     "output_type": "display_data"
    },
    {
     "name": "stdout",
     "output_type": "stream",
     "text": [
      "Learning rate:  0.0006\n",
      "Loss = tensor(1.5299, device='cuda:0', grad_fn=<NllLoss2DBackward>)\n",
      "Loss = tensor(1.5144, device='cuda:0', grad_fn=<NllLoss2DBackward>)\n",
      "Loss = tensor(1.5040, device='cuda:0', grad_fn=<NllLoss2DBackward>)\n",
      "Loss = tensor(1.5241, device='cuda:0', grad_fn=<NllLoss2DBackward>)\n",
      "Loss = tensor(1.5232, device='cuda:0', grad_fn=<NllLoss2DBackward>)\n",
      "EPOCH:  23\n"
     ]
    },
    {
     "data": {
      "image/png": "[encoded data removed]",
      "text/plain": [
       "<PIL.Image.Image image mode=RGB size=60x60 at 0x7FA4F7B07520>"
      ]
     },
     "metadata": {},
     "output_type": "display_data"
    },
    {
     "name": "stdout",
     "output_type": "stream",
     "text": [
      "Learning rate:  0.0006\n",
      "Loss = tensor(1.5097, device='cuda:0', grad_fn=<NllLoss2DBackward>)\n",
      "Loss = tensor(1.5081, device='cuda:0', grad_fn=<NllLoss2DBackward>)\n",
      "EPOCH:  24\n"
     ]
    },
    {
     "data": {
      "image/png": "[encoded data removed]",
      "text/plain": [
       "<PIL.Image.Image image mode=RGB size=60x60 at 0x7FA4F7B07520>"
      ]
     },
     "metadata": {},
     "output_type": "display_data"
    },
    {
     "name": "stdout",
     "output_type": "stream",
     "text": [
      "Learning rate:  0.0006\n",
      "Loss = tensor(1.5092, device='cuda:0', grad_fn=<NllLoss2DBackward>)\n",
      "Loss = tensor(1.5092, device='cuda:0', grad_fn=<NllLoss2DBackward>)\n",
      "Loss = tensor(1.4983, device='cuda:0', grad_fn=<NllLoss2DBackward>)\n",
      "Loss = tensor(1.5070, device='cuda:0', grad_fn=<NllLoss2DBackward>)\n",
      "Loss = tensor(1.5163, device='cuda:0', grad_fn=<NllLoss2DBackward>)\n",
      "EPOCH:  24\n"
     ]
    },
    {
     "data": {
      "image/png": "[encoded data removed]",
      "text/plain": [
       "<PIL.Image.Image image mode=RGB size=60x60 at 0x7FA4F7B074F0>"
      ]
     },
     "metadata": {},
     "output_type": "display_data"
    },
    {
     "name": "stdout",
     "output_type": "stream",
     "text": [
      "Learning rate:  0.0006\n",
      "Loss = tensor(1.5121, device='cuda:0', grad_fn=<NllLoss2DBackward>)\n",
      "Loss = tensor(1.5003, device='cuda:0', grad_fn=<NllLoss2DBackward>)\n",
      "Loss = tensor(1.5194, device='cuda:0', grad_fn=<NllLoss2DBackward>)\n",
      "Loss = tensor(1.5115, device='cuda:0', grad_fn=<NllLoss2DBackward>)\n",
      "Loss = tensor(1.5220, device='cuda:0', grad_fn=<NllLoss2DBackward>)\n",
      "EPOCH:  24\n"
     ]
    },
    {
     "data": {
      "image/png": "[encoded data removed]",
      "text/plain": [
       "<PIL.Image.Image image mode=RGB size=60x60 at 0x7FA4F7B07520>"
      ]
     },
     "metadata": {},
     "output_type": "display_data"
    },
    {
     "name": "stdout",
     "output_type": "stream",
     "text": [
      "Learning rate:  0.0006\n",
      "Loss = tensor(1.5260, device='cuda:0', grad_fn=<NllLoss2DBackward>)\n",
      "Loss = tensor(1.5177, device='cuda:0', grad_fn=<NllLoss2DBackward>)\n",
      "EPOCH:  25\n"
     ]
    },
    {
     "data": {
      "image/png": "[encoded data removed]",
      "text/plain": [
       "<PIL.Image.Image image mode=RGB size=60x60 at 0x7FA4F7B07400>"
      ]
     },
     "metadata": {},
     "output_type": "display_data"
    },
    {
     "name": "stdout",
     "output_type": "stream",
     "text": [
      "Learning rate:  0.0006\n",
      "Loss = tensor(1.5108, device='cuda:0', grad_fn=<NllLoss2DBackward>)\n",
      "Loss = tensor(1.5142, device='cuda:0', grad_fn=<NllLoss2DBackward>)\n",
      "Loss = tensor(1.5217, device='cuda:0', grad_fn=<NllLoss2DBackward>)\n",
      "Loss = tensor(1.5131, device='cuda:0', grad_fn=<NllLoss2DBackward>)\n",
      "Loss = tensor(1.5190, device='cuda:0', grad_fn=<NllLoss2DBackward>)\n",
      "EPOCH:  25\n"
     ]
    },
    {
     "data": {
      "image/png": "[encoded data removed]",
      "text/plain": [
       "<PIL.Image.Image image mode=RGB size=60x60 at 0x7FA4F7B07400>"
      ]
     },
     "metadata": {},
     "output_type": "display_data"
    },
    {
     "name": "stdout",
     "output_type": "stream",
     "text": [
      "Learning rate:  0.0006\n",
      "Loss = tensor(1.5088, device='cuda:0', grad_fn=<NllLoss2DBackward>)\n",
      "Loss = tensor(1.5047, device='cuda:0', grad_fn=<NllLoss2DBackward>)\n",
      "Loss = tensor(1.4966, device='cuda:0', grad_fn=<NllLoss2DBackward>)\n",
      "Loss = tensor(1.5155, device='cuda:0', grad_fn=<NllLoss2DBackward>)\n",
      "Loss = tensor(1.5068, device='cuda:0', grad_fn=<NllLoss2DBackward>)\n",
      "EPOCH:  25\n"
     ]
    },
    {
     "data": {
      "image/png": "[encoded data removed]",
      "text/plain": [
       "<PIL.Image.Image image mode=RGB size=60x60 at 0x7FA4F7B07400>"
      ]
     },
     "metadata": {},
     "output_type": "display_data"
    },
    {
     "name": "stdout",
     "output_type": "stream",
     "text": [
      "Learning rate:  0.0006\n",
      "Loss = tensor(1.5156, device='cuda:0', grad_fn=<NllLoss2DBackward>)\n",
      "Loss = tensor(1.5208, device='cuda:0', grad_fn=<NllLoss2DBackward>)\n",
      "EPOCH:  26\n"
     ]
    },
    {
     "data": {
      "image/png": "[encoded data removed]",
      "text/plain": [
       "<PIL.Image.Image image mode=RGB size=60x60 at 0x7FA4F7B074F0>"
      ]
     },
     "metadata": {},
     "output_type": "display_data"
    },
    {
     "name": "stdout",
     "output_type": "stream",
     "text": [
      "Learning rate:  0.0006\n",
      "Loss = tensor(1.5178, device='cuda:0', grad_fn=<NllLoss2DBackward>)\n",
      "Loss = tensor(1.5057, device='cuda:0', grad_fn=<NllLoss2DBackward>)\n",
      "Loss = tensor(1.5174, device='cuda:0', grad_fn=<NllLoss2DBackward>)\n",
      "Loss = tensor(1.5002, device='cuda:0', grad_fn=<NllLoss2DBackward>)\n",
      "Loss = tensor(1.5058, device='cuda:0', grad_fn=<NllLoss2DBackward>)\n",
      "EPOCH:  26\n"
     ]
    },
    {
     "data": {
      "image/png": "[encoded data removed]",
      "text/plain": [
       "<PIL.Image.Image image mode=RGB size=60x60 at 0x7FA4F7B07520>"
      ]
     },
     "metadata": {},
     "output_type": "display_data"
    },
    {
     "name": "stdout",
     "output_type": "stream",
     "text": [
      "Learning rate:  0.0006\n",
      "Loss = tensor(1.5169, device='cuda:0', grad_fn=<NllLoss2DBackward>)\n",
      "Loss = tensor(1.5053, device='cuda:0', grad_fn=<NllLoss2DBackward>)\n",
      "Loss = tensor(1.5164, device='cuda:0', grad_fn=<NllLoss2DBackward>)\n",
      "Loss = tensor(1.4995, device='cuda:0', grad_fn=<NllLoss2DBackward>)\n",
      "Loss = tensor(1.5235, device='cuda:0', grad_fn=<NllLoss2DBackward>)\n",
      "EPOCH:  26\n"
     ]
    },
    {
     "data": {
      "image/png": "[encoded data removed]",
      "text/plain": [
       "<PIL.Image.Image image mode=RGB size=60x60 at 0x7FA4F7B074F0>"
      ]
     },
     "metadata": {},
     "output_type": "display_data"
    },
    {
     "name": "stdout",
     "output_type": "stream",
     "text": [
      "Learning rate:  0.0006\n",
      "Loss = tensor(1.4955, device='cuda:0', grad_fn=<NllLoss2DBackward>)\n",
      "Loss = tensor(1.4953, device='cuda:0', grad_fn=<NllLoss2DBackward>)\n",
      "EPOCH:  27\n"
     ]
    },
    {
     "data": {
      "image/png": "[encoded data removed]",
      "text/plain": [
       "<PIL.Image.Image image mode=RGB size=60x60 at 0x7FA4F7B074F0>"
      ]
     },
     "metadata": {},
     "output_type": "display_data"
    },
    {
     "name": "stdout",
     "output_type": "stream",
     "text": [
      "Learning rate:  0.0006\n",
      "Loss = tensor(1.4923, device='cuda:0', grad_fn=<NllLoss2DBackward>)\n",
      "Loss = tensor(1.5181, device='cuda:0', grad_fn=<NllLoss2DBackward>)\n",
      "Loss = tensor(1.4951, device='cuda:0', grad_fn=<NllLoss2DBackward>)\n",
      "Loss = tensor(1.5096, device='cuda:0', grad_fn=<NllLoss2DBackward>)\n",
      "Loss = tensor(1.5074, device='cuda:0', grad_fn=<NllLoss2DBackward>)\n",
      "EPOCH:  27\n"
     ]
    },
    {
     "data": {
      "image/png": "[encoded data removed]",
      "text/plain": [
       "<PIL.Image.Image image mode=RGB size=60x60 at 0x7FA4F7B07520>"
      ]
     },
     "metadata": {},
     "output_type": "display_data"
    },
    {
     "name": "stdout",
     "output_type": "stream",
     "text": [
      "Learning rate:  0.0006\n",
      "Loss = tensor(1.5061, device='cuda:0', grad_fn=<NllLoss2DBackward>)\n",
      "Loss = tensor(1.5192, device='cuda:0', grad_fn=<NllLoss2DBackward>)\n",
      "Loss = tensor(1.5297, device='cuda:0', grad_fn=<NllLoss2DBackward>)\n",
      "Loss = tensor(1.5041, device='cuda:0', grad_fn=<NllLoss2DBackward>)\n",
      "Loss = tensor(1.5146, device='cuda:0', grad_fn=<NllLoss2DBackward>)\n",
      "EPOCH:  27\n"
     ]
    },
    {
     "data": {
      "image/png": "[encoded data removed]",
      "text/plain": [
       "<PIL.Image.Image image mode=RGB size=60x60 at 0x7FA4F7B07520>"
      ]
     },
     "metadata": {},
     "output_type": "display_data"
    },
    {
     "name": "stdout",
     "output_type": "stream",
     "text": [
      "Learning rate:  0.0006\n",
      "Loss = tensor(1.4953, device='cuda:0', grad_fn=<NllLoss2DBackward>)\n",
      "Loss = tensor(1.5177, device='cuda:0', grad_fn=<NllLoss2DBackward>)\n",
      "EPOCH:  28\n"
     ]
    },
    {
     "data": {
      "image/png": "[encoded data removed]",
      "text/plain": [
       "<PIL.Image.Image image mode=RGB size=60x60 at 0x7FA4F7B07520>"
      ]
     },
     "metadata": {},
     "output_type": "display_data"
    },
    {
     "name": "stdout",
     "output_type": "stream",
     "text": [
      "Learning rate:  0.0006\n",
      "Loss = tensor(1.5003, device='cuda:0', grad_fn=<NllLoss2DBackward>)\n",
      "Loss = tensor(1.5118, device='cuda:0', grad_fn=<NllLoss2DBackward>)\n",
      "Loss = tensor(1.5094, device='cuda:0', grad_fn=<NllLoss2DBackward>)\n",
      "Loss = tensor(1.5172, device='cuda:0', grad_fn=<NllLoss2DBackward>)\n",
      "Loss = tensor(1.5137, device='cuda:0', grad_fn=<NllLoss2DBackward>)\n",
      "EPOCH:  28\n"
     ]
    },
    {
     "data": {
      "image/png": "[encoded data removed]",
      "text/plain": [
       "<PIL.Image.Image image mode=RGB size=60x60 at 0x7FA4F7B07400>"
      ]
     },
     "metadata": {},
     "output_type": "display_data"
    },
    {
     "name": "stdout",
     "output_type": "stream",
     "text": [
      "Learning rate:  0.0006\n",
      "Loss = tensor(1.5006, device='cuda:0', grad_fn=<NllLoss2DBackward>)\n",
      "Loss = tensor(1.4967, device='cuda:0', grad_fn=<NllLoss2DBackward>)\n",
      "Loss = tensor(1.4897, device='cuda:0', grad_fn=<NllLoss2DBackward>)\n",
      "Loss = tensor(1.5027, device='cuda:0', grad_fn=<NllLoss2DBackward>)\n",
      "Loss = tensor(1.5063, device='cuda:0', grad_fn=<NllLoss2DBackward>)\n",
      "EPOCH:  28\n"
     ]
    },
    {
     "data": {
      "image/png": "[encoded data removed]",
      "text/plain": [
       "<PIL.Image.Image image mode=RGB size=60x60 at 0x7FA4F7B074F0>"
      ]
     },
     "metadata": {},
     "output_type": "display_data"
    },
    {
     "name": "stdout",
     "output_type": "stream",
     "text": [
      "Learning rate:  0.0006\n",
      "Loss = tensor(1.5097, device='cuda:0', grad_fn=<NllLoss2DBackward>)\n",
      "Loss = tensor(1.4992, device='cuda:0', grad_fn=<NllLoss2DBackward>)\n",
      "EPOCH:  29\n"
     ]
    },
    {
     "data": {
      "image/png": "[encoded data removed]",
      "text/plain": [
       "<PIL.Image.Image image mode=RGB size=60x60 at 0x7FA4F7B07400>"
      ]
     },
     "metadata": {},
     "output_type": "display_data"
    },
    {
     "name": "stdout",
     "output_type": "stream",
     "text": [
      "Learning rate:  0.0006\n",
      "Loss = tensor(1.5243, device='cuda:0', grad_fn=<NllLoss2DBackward>)\n",
      "Loss = tensor(1.5191, device='cuda:0', grad_fn=<NllLoss2DBackward>)\n",
      "Loss = tensor(1.5008, device='cuda:0', grad_fn=<NllLoss2DBackward>)\n",
      "Loss = tensor(1.4982, device='cuda:0', grad_fn=<NllLoss2DBackward>)\n",
      "Loss = tensor(1.5090, device='cuda:0', grad_fn=<NllLoss2DBackward>)\n",
      "EPOCH:  29\n"
     ]
    },
    {
     "data": {
      "image/png": "[encoded data removed]",
      "text/plain": [
       "<PIL.Image.Image image mode=RGB size=60x60 at 0x7FA4F7B07520>"
      ]
     },
     "metadata": {},
     "output_type": "display_data"
    },
    {
     "name": "stdout",
     "output_type": "stream",
     "text": [
      "Learning rate:  0.0006\n",
      "Loss = tensor(1.4968, device='cuda:0', grad_fn=<NllLoss2DBackward>)\n",
      "Loss = tensor(1.5009, device='cuda:0', grad_fn=<NllLoss2DBackward>)\n",
      "Loss = tensor(1.5079, device='cuda:0', grad_fn=<NllLoss2DBackward>)\n",
      "Loss = tensor(1.5128, device='cuda:0', grad_fn=<NllLoss2DBackward>)\n",
      "Loss = tensor(1.5039, device='cuda:0', grad_fn=<NllLoss2DBackward>)\n",
      "EPOCH:  29\n"
     ]
    },
    {
     "data": {
      "image/png": "[encoded data removed]",
      "text/plain": [
       "<PIL.Image.Image image mode=RGB size=60x60 at 0x7FA4F7B074F0>"
      ]
     },
     "metadata": {},
     "output_type": "display_data"
    },
    {
     "name": "stdout",
     "output_type": "stream",
     "text": [
      "Learning rate:  0.0006\n",
      "Loss = tensor(1.4937, device='cuda:0', grad_fn=<NllLoss2DBackward>)\n",
      "Loss = tensor(1.4848, device='cuda:0', grad_fn=<NllLoss2DBackward>)\n",
      "EPOCH:  30\n"
     ]
    },
    {
     "data": {
      "image/png": "[encoded data removed]",
      "text/plain": [
       "<PIL.Image.Image image mode=RGB size=60x60 at 0x7FA4F7B07400>"
      ]
     },
     "metadata": {},
     "output_type": "display_data"
    },
    {
     "name": "stdout",
     "output_type": "stream",
     "text": [
      "Learning rate:  0.0006\n",
      "Loss = tensor(1.5121, device='cuda:0', grad_fn=<NllLoss2DBackward>)\n",
      "Loss = tensor(1.5032, device='cuda:0', grad_fn=<NllLoss2DBackward>)\n",
      "Loss = tensor(1.5144, device='cuda:0', grad_fn=<NllLoss2DBackward>)\n",
      "Loss = tensor(1.4946, device='cuda:0', grad_fn=<NllLoss2DBackward>)\n",
      "Loss = tensor(1.5219, device='cuda:0', grad_fn=<NllLoss2DBackward>)\n",
      "EPOCH:  30\n"
     ]
    },
    {
     "data": {
      "image/png": "[encoded data removed]",
      "text/plain": [
       "<PIL.Image.Image image mode=RGB size=60x60 at 0x7FA4F7B074F0>"
      ]
     },
     "metadata": {},
     "output_type": "display_data"
    },
    {
     "name": "stdout",
     "output_type": "stream",
     "text": [
      "Learning rate:  0.0006\n",
      "Loss = tensor(1.5062, device='cuda:0', grad_fn=<NllLoss2DBackward>)\n",
      "Loss = tensor(1.5166, device='cuda:0', grad_fn=<NllLoss2DBackward>)\n",
      "Loss = tensor(1.4966, device='cuda:0', grad_fn=<NllLoss2DBackward>)\n",
      "Loss = tensor(1.5086, device='cuda:0', grad_fn=<NllLoss2DBackward>)\n",
      "Loss = tensor(1.5034, device='cuda:0', grad_fn=<NllLoss2DBackward>)\n",
      "EPOCH:  30\n"
     ]
    },
    {
     "data": {
      "image/png": "[encoded data removed]",
      "text/plain": [
       "<PIL.Image.Image image mode=RGB size=60x60 at 0x7FA4F7B07520>"
      ]
     },
     "metadata": {},
     "output_type": "display_data"
    },
    {
     "name": "stdout",
     "output_type": "stream",
     "text": [
      "Learning rate:  0.0006\n",
      "Loss = tensor(1.4977, device='cuda:0', grad_fn=<NllLoss2DBackward>)\n",
      "Loss = tensor(1.4980, device='cuda:0', grad_fn=<NllLoss2DBackward>)\n",
      "EPOCH:  31\n"
     ]
    },
    {
     "data": {
      "image/png": "[encoded data removed]",
      "text/plain": [
       "<PIL.Image.Image image mode=RGB size=60x60 at 0x7FA4F7B07520>"
      ]
     },
     "metadata": {},
     "output_type": "display_data"
    },
    {
     "name": "stdout",
     "output_type": "stream",
     "text": [
      "Learning rate:  0.0006\n",
      "Loss = tensor(1.5008, device='cuda:0', grad_fn=<NllLoss2DBackward>)\n",
      "Loss = tensor(1.5032, device='cuda:0', grad_fn=<NllLoss2DBackward>)\n",
      "Loss = tensor(1.5197, device='cuda:0', grad_fn=<NllLoss2DBackward>)\n",
      "Loss = tensor(1.4931, device='cuda:0', grad_fn=<NllLoss2DBackward>)\n",
      "Loss = tensor(1.5208, device='cuda:0', grad_fn=<NllLoss2DBackward>)\n",
      "EPOCH:  31\n"
     ]
    },
    {
     "data": {
      "image/png": "[encoded data removed]",
      "text/plain": [
       "<PIL.Image.Image image mode=RGB size=60x60 at 0x7FA4F7B07520>"
      ]
     },
     "metadata": {},
     "output_type": "display_data"
    },
    {
     "name": "stdout",
     "output_type": "stream",
     "text": [
      "Learning rate:  0.0006\n",
      "Loss = tensor(1.4902, device='cuda:0', grad_fn=<NllLoss2DBackward>)\n",
      "Loss = tensor(1.5065, device='cuda:0', grad_fn=<NllLoss2DBackward>)\n",
      "Loss = tensor(1.5072, device='cuda:0', grad_fn=<NllLoss2DBackward>)\n",
      "Loss = tensor(1.5013, device='cuda:0', grad_fn=<NllLoss2DBackward>)\n",
      "Loss = tensor(1.4945, device='cuda:0', grad_fn=<NllLoss2DBackward>)\n",
      "EPOCH:  31\n"
     ]
    },
    {
     "data": {
      "image/png": "[encoded data removed]",
      "text/plain": [
       "<PIL.Image.Image image mode=RGB size=60x60 at 0x7FA4F7B074F0>"
      ]
     },
     "metadata": {},
     "output_type": "display_data"
    },
    {
     "name": "stdout",
     "output_type": "stream",
     "text": [
      "Learning rate:  0.0006\n",
      "Loss = tensor(1.5090, device='cuda:0', grad_fn=<NllLoss2DBackward>)\n",
      "Loss = tensor(1.5037, device='cuda:0', grad_fn=<NllLoss2DBackward>)\n",
      "EPOCH:  32\n"
     ]
    },
    {
     "data": {
      "image/png": "[encoded data removed]",
      "text/plain": [
       "<PIL.Image.Image image mode=RGB size=60x60 at 0x7FA4F7B07520>"
      ]
     },
     "metadata": {},
     "output_type": "display_data"
    },
    {
     "name": "stdout",
     "output_type": "stream",
     "text": [
      "Learning rate:  0.0006\n",
      "Loss = tensor(1.5152, device='cuda:0', grad_fn=<NllLoss2DBackward>)\n",
      "Loss = tensor(1.4951, device='cuda:0', grad_fn=<NllLoss2DBackward>)\n",
      "Loss = tensor(1.5023, device='cuda:0', grad_fn=<NllLoss2DBackward>)\n",
      "Loss = tensor(1.4958, device='cuda:0', grad_fn=<NllLoss2DBackward>)\n",
      "Loss = tensor(1.5132, device='cuda:0', grad_fn=<NllLoss2DBackward>)\n",
      "EPOCH:  32\n"
     ]
    },
    {
     "data": {
      "image/png": "[encoded data removed]",
      "text/plain": [
       "<PIL.Image.Image image mode=RGB size=60x60 at 0x7FA4F7B07400>"
      ]
     },
     "metadata": {},
     "output_type": "display_data"
    },
    {
     "name": "stdout",
     "output_type": "stream",
     "text": [
      "Learning rate:  0.0006\n",
      "Loss = tensor(1.4945, device='cuda:0', grad_fn=<NllLoss2DBackward>)\n",
      "Loss = tensor(1.4975, device='cuda:0', grad_fn=<NllLoss2DBackward>)\n",
      "Loss = tensor(1.5080, device='cuda:0', grad_fn=<NllLoss2DBackward>)\n",
      "Loss = tensor(1.5093, device='cuda:0', grad_fn=<NllLoss2DBackward>)\n",
      "Loss = tensor(1.5128, device='cuda:0', grad_fn=<NllLoss2DBackward>)\n",
      "EPOCH:  32\n"
     ]
    },
    {
     "data": {
      "image/png": "[encoded data removed]",
      "text/plain": [
       "<PIL.Image.Image image mode=RGB size=60x60 at 0x7FA4F7B07400>"
      ]
     },
     "metadata": {},
     "output_type": "display_data"
    },
    {
     "name": "stdout",
     "output_type": "stream",
     "text": [
      "Learning rate:  0.0006\n",
      "Loss = tensor(1.4989, device='cuda:0', grad_fn=<NllLoss2DBackward>)\n",
      "Loss = tensor(1.5030, device='cuda:0', grad_fn=<NllLoss2DBackward>)\n",
      "EPOCH:  33\n"
     ]
    },
    {
     "data": {
      "image/png": "[encoded data removed]",
      "text/plain": [
       "<PIL.Image.Image image mode=RGB size=60x60 at 0x7FA4F7B07400>"
      ]
     },
     "metadata": {},
     "output_type": "display_data"
    },
    {
     "name": "stdout",
     "output_type": "stream",
     "text": [
      "Learning rate:  0.0006\n",
      "Loss = tensor(1.5022, device='cuda:0', grad_fn=<NllLoss2DBackward>)\n",
      "Loss = tensor(1.4981, device='cuda:0', grad_fn=<NllLoss2DBackward>)\n",
      "Loss = tensor(1.5051, device='cuda:0', grad_fn=<NllLoss2DBackward>)\n",
      "Loss = tensor(1.5107, device='cuda:0', grad_fn=<NllLoss2DBackward>)\n",
      "Loss = tensor(1.4822, device='cuda:0', grad_fn=<NllLoss2DBackward>)\n",
      "EPOCH:  33\n"
     ]
    },
    {
     "data": {
      "image/png": "[encoded data removed]",
      "text/plain": [
       "<PIL.Image.Image image mode=RGB size=60x60 at 0x7FA4F7B07520>"
      ]
     },
     "metadata": {},
     "output_type": "display_data"
    },
    {
     "name": "stdout",
     "output_type": "stream",
     "text": [
      "Learning rate:  0.0006\n",
      "Loss = tensor(1.5039, device='cuda:0', grad_fn=<NllLoss2DBackward>)\n",
      "Loss = tensor(1.5020, device='cuda:0', grad_fn=<NllLoss2DBackward>)\n",
      "Loss = tensor(1.5253, device='cuda:0', grad_fn=<NllLoss2DBackward>)\n",
      "Loss = tensor(1.5102, device='cuda:0', grad_fn=<NllLoss2DBackward>)\n",
      "Loss = tensor(1.5133, device='cuda:0', grad_fn=<NllLoss2DBackward>)\n",
      "EPOCH:  33\n"
     ]
    },
    {
     "data": {
      "image/png": "[encoded data removed]",
      "text/plain": [
       "<PIL.Image.Image image mode=RGB size=60x60 at 0x7FA4F7B07400>"
      ]
     },
     "metadata": {},
     "output_type": "display_data"
    },
    {
     "name": "stdout",
     "output_type": "stream",
     "text": [
      "Learning rate:  0.0006\n",
      "Loss = tensor(1.4894, device='cuda:0', grad_fn=<NllLoss2DBackward>)\n",
      "Loss = tensor(1.4978, device='cuda:0', grad_fn=<NllLoss2DBackward>)\n",
      "EPOCH:  34\n"
     ]
    },
    {
     "data": {
      "image/png": "[encoded data removed]",
      "text/plain": [
       "<PIL.Image.Image image mode=RGB size=60x60 at 0x7FA4F7B07400>"
      ]
     },
     "metadata": {},
     "output_type": "display_data"
    },
    {
     "name": "stdout",
     "output_type": "stream",
     "text": [
      "Learning rate:  0.0006\n",
      "Loss = tensor(1.4904, device='cuda:0', grad_fn=<NllLoss2DBackward>)\n",
      "Loss = tensor(1.5061, device='cuda:0', grad_fn=<NllLoss2DBackward>)\n",
      "Loss = tensor(1.5139, device='cuda:0', grad_fn=<NllLoss2DBackward>)\n",
      "Loss = tensor(1.5076, device='cuda:0', grad_fn=<NllLoss2DBackward>)\n",
      "Loss = tensor(1.5089, device='cuda:0', grad_fn=<NllLoss2DBackward>)\n",
      "EPOCH:  34\n"
     ]
    },
    {
     "data": {
      "image/png": "[encoded data removed]",
      "text/plain": [
       "<PIL.Image.Image image mode=RGB size=60x60 at 0x7FA4F7B07520>"
      ]
     },
     "metadata": {},
     "output_type": "display_data"
    },
    {
     "name": "stdout",
     "output_type": "stream",
     "text": [
      "Learning rate:  0.0006\n",
      "Loss = tensor(1.5018, device='cuda:0', grad_fn=<NllLoss2DBackward>)\n",
      "Loss = tensor(1.4936, device='cuda:0', grad_fn=<NllLoss2DBackward>)\n",
      "Loss = tensor(1.5016, device='cuda:0', grad_fn=<NllLoss2DBackward>)\n",
      "Loss = tensor(1.4962, device='cuda:0', grad_fn=<NllLoss2DBackward>)\n",
      "Loss = tensor(1.5043, device='cuda:0', grad_fn=<NllLoss2DBackward>)\n",
      "EPOCH:  34\n"
     ]
    },
    {
     "data": {
      "image/png": "[encoded data removed]",
      "text/plain": [
       "<PIL.Image.Image image mode=RGB size=60x60 at 0x7FA4F7B07400>"
      ]
     },
     "metadata": {},
     "output_type": "display_data"
    },
    {
     "name": "stdout",
     "output_type": "stream",
     "text": [
      "Learning rate:  0.0006\n",
      "Loss = tensor(1.5242, device='cuda:0', grad_fn=<NllLoss2DBackward>)\n",
      "Loss = tensor(1.4903, device='cuda:0', grad_fn=<NllLoss2DBackward>)\n",
      "EPOCH:  35\n"
     ]
    },
    {
     "data": {
      "image/png": "[encoded data removed]",
      "text/plain": [
       "<PIL.Image.Image image mode=RGB size=60x60 at 0x7FA4F7B07520>"
      ]
     },
     "metadata": {},
     "output_type": "display_data"
    },
    {
     "name": "stdout",
     "output_type": "stream",
     "text": [
      "Learning rate:  0.0006\n",
      "Loss = tensor(1.5201, device='cuda:0', grad_fn=<NllLoss2DBackward>)\n",
      "Loss = tensor(1.5083, device='cuda:0', grad_fn=<NllLoss2DBackward>)\n",
      "Loss = tensor(1.5055, device='cuda:0', grad_fn=<NllLoss2DBackward>)\n",
      "Loss = tensor(1.4915, device='cuda:0', grad_fn=<NllLoss2DBackward>)\n",
      "Loss = tensor(1.5078, device='cuda:0', grad_fn=<NllLoss2DBackward>)\n",
      "EPOCH:  35\n"
     ]
    },
    {
     "data": {
      "image/png": "[encoded data removed]",
      "text/plain": [
       "<PIL.Image.Image image mode=RGB size=60x60 at 0x7FA4F7B07400>"
      ]
     },
     "metadata": {},
     "output_type": "display_data"
    },
    {
     "name": "stdout",
     "output_type": "stream",
     "text": [
      "Learning rate:  0.0006\n",
      "Loss = tensor(1.5018, device='cuda:0', grad_fn=<NllLoss2DBackward>)\n",
      "Loss = tensor(1.5176, device='cuda:0', grad_fn=<NllLoss2DBackward>)\n",
      "Loss = tensor(1.4983, device='cuda:0', grad_fn=<NllLoss2DBackward>)\n",
      "Loss = tensor(1.5125, device='cuda:0', grad_fn=<NllLoss2DBackward>)\n",
      "Loss = tensor(1.4856, device='cuda:0', grad_fn=<NllLoss2DBackward>)\n",
      "EPOCH:  35\n"
     ]
    },
    {
     "data": {
      "image/png": "[encoded data removed]",
      "text/plain": [
       "<PIL.Image.Image image mode=RGB size=60x60 at 0x7FA4F7B07520>"
      ]
     },
     "metadata": {},
     "output_type": "display_data"
    },
    {
     "name": "stdout",
     "output_type": "stream",
     "text": [
      "Learning rate:  0.0006\n",
      "Loss = tensor(1.5020, device='cuda:0', grad_fn=<NllLoss2DBackward>)\n",
      "Loss = tensor(1.4993, device='cuda:0', grad_fn=<NllLoss2DBackward>)\n",
      "EPOCH:  36\n"
     ]
    },
    {
     "data": {
      "image/png": "[encoded data removed]",
      "text/plain": [
       "<PIL.Image.Image image mode=RGB size=60x60 at 0x7FA4F7B074F0>"
      ]
     },
     "metadata": {},
     "output_type": "display_data"
    },
    {
     "name": "stdout",
     "output_type": "stream",
     "text": [
      "Learning rate:  0.0006\n",
      "Loss = tensor(1.5044, device='cuda:0', grad_fn=<NllLoss2DBackward>)\n",
      "Loss = tensor(1.4901, device='cuda:0', grad_fn=<NllLoss2DBackward>)\n",
      "Loss = tensor(1.5108, device='cuda:0', grad_fn=<NllLoss2DBackward>)\n",
      "Loss = tensor(1.5009, device='cuda:0', grad_fn=<NllLoss2DBackward>)\n",
      "Loss = tensor(1.5066, device='cuda:0', grad_fn=<NllLoss2DBackward>)\n",
      "EPOCH:  36\n"
     ]
    },
    {
     "data": {
      "image/png": "[encoded data removed]",
      "text/plain": [
       "<PIL.Image.Image image mode=RGB size=60x60 at 0x7FA4F7B07520>"
      ]
     },
     "metadata": {},
     "output_type": "display_data"
    },
    {
     "name": "stdout",
     "output_type": "stream",
     "text": [
      "Learning rate:  0.0006\n",
      "Loss = tensor(1.5198, device='cuda:0', grad_fn=<NllLoss2DBackward>)\n",
      "Loss = tensor(1.4992, device='cuda:0', grad_fn=<NllLoss2DBackward>)\n",
      "Loss = tensor(1.4968, device='cuda:0', grad_fn=<NllLoss2DBackward>)\n",
      "Loss = tensor(1.4802, device='cuda:0', grad_fn=<NllLoss2DBackward>)\n",
      "Loss = tensor(1.5061, device='cuda:0', grad_fn=<NllLoss2DBackward>)\n",
      "EPOCH:  36\n"
     ]
    },
    {
     "data": {
      "image/png": "[encoded data removed]",
      "text/plain": [
       "<PIL.Image.Image image mode=RGB size=60x60 at 0x7FA4F7B074F0>"
      ]
     },
     "metadata": {},
     "output_type": "display_data"
    },
    {
     "name": "stdout",
     "output_type": "stream",
     "text": [
      "Learning rate:  0.0006\n",
      "Loss = tensor(1.4995, device='cuda:0', grad_fn=<NllLoss2DBackward>)\n",
      "Loss = tensor(1.4969, device='cuda:0', grad_fn=<NllLoss2DBackward>)\n",
      "EPOCH:  37\n"
     ]
    },
    {
     "data": {
      "image/png": "[encoded data removed]",
      "text/plain": [
       "<PIL.Image.Image image mode=RGB size=60x60 at 0x7FA4F7B074F0>"
      ]
     },
     "metadata": {},
     "output_type": "display_data"
    },
    {
     "name": "stdout",
     "output_type": "stream",
     "text": [
      "Learning rate:  0.0006\n",
      "Loss = tensor(1.4979, device='cuda:0', grad_fn=<NllLoss2DBackward>)\n",
      "Loss = tensor(1.4875, device='cuda:0', grad_fn=<NllLoss2DBackward>)\n",
      "Loss = tensor(1.5000, device='cuda:0', grad_fn=<NllLoss2DBackward>)\n",
      "Loss = tensor(1.5126, device='cuda:0', grad_fn=<NllLoss2DBackward>)\n",
      "Loss = tensor(1.5018, device='cuda:0', grad_fn=<NllLoss2DBackward>)\n",
      "EPOCH:  37\n"
     ]
    },
    {
     "data": {
      "image/png": "[encoded data removed]",
      "text/plain": [
       "<PIL.Image.Image image mode=RGB size=60x60 at 0x7FA4F7B07520>"
      ]
     },
     "metadata": {},
     "output_type": "display_data"
    },
    {
     "name": "stdout",
     "output_type": "stream",
     "text": [
      "Learning rate:  0.0006\n",
      "Loss = tensor(1.4949, device='cuda:0', grad_fn=<NllLoss2DBackward>)\n",
      "Loss = tensor(1.5158, device='cuda:0', grad_fn=<NllLoss2DBackward>)\n",
      "Loss = tensor(1.4950, device='cuda:0', grad_fn=<NllLoss2DBackward>)\n",
      "Loss = tensor(1.4971, device='cuda:0', grad_fn=<NllLoss2DBackward>)\n",
      "Loss = tensor(1.4992, device='cuda:0', grad_fn=<NllLoss2DBackward>)\n",
      "EPOCH:  37\n"
     ]
    },
    {
     "data": {
      "image/png": "[encoded data removed]",
      "text/plain": [
       "<PIL.Image.Image image mode=RGB size=60x60 at 0x7FA4F7B074F0>"
      ]
     },
     "metadata": {},
     "output_type": "display_data"
    },
    {
     "name": "stdout",
     "output_type": "stream",
     "text": [
      "Learning rate:  0.0006\n",
      "Loss = tensor(1.5048, device='cuda:0', grad_fn=<NllLoss2DBackward>)\n",
      "Loss = tensor(1.4863, device='cuda:0', grad_fn=<NllLoss2DBackward>)\n",
      "EPOCH:  38\n"
     ]
    },
    {
     "data": {
      "image/png": "[encoded data removed]",
      "text/plain": [
       "<PIL.Image.Image image mode=RGB size=60x60 at 0x7FA4F7B074F0>"
      ]
     },
     "metadata": {},
     "output_type": "display_data"
    },
    {
     "name": "stdout",
     "output_type": "stream",
     "text": [
      "Learning rate:  0.0006\n",
      "Loss = tensor(1.4784, device='cuda:0', grad_fn=<NllLoss2DBackward>)\n",
      "Loss = tensor(1.4887, device='cuda:0', grad_fn=<NllLoss2DBackward>)\n",
      "Loss = tensor(1.4902, device='cuda:0', grad_fn=<NllLoss2DBackward>)\n",
      "Loss = tensor(1.5020, device='cuda:0', grad_fn=<NllLoss2DBackward>)\n",
      "Loss = tensor(1.4845, device='cuda:0', grad_fn=<NllLoss2DBackward>)\n",
      "EPOCH:  38\n"
     ]
    },
    {
     "data": {
      "image/png": "[encoded data removed]",
      "text/plain": [
       "<PIL.Image.Image image mode=RGB size=60x60 at 0x7FA4F7B074F0>"
      ]
     },
     "metadata": {},
     "output_type": "display_data"
    },
    {
     "name": "stdout",
     "output_type": "stream",
     "text": [
      "Learning rate:  0.0006\n",
      "Loss = tensor(1.5147, device='cuda:0', grad_fn=<NllLoss2DBackward>)\n",
      "Loss = tensor(1.5152, device='cuda:0', grad_fn=<NllLoss2DBackward>)\n",
      "Loss = tensor(1.4971, device='cuda:0', grad_fn=<NllLoss2DBackward>)\n",
      "Loss = tensor(1.5152, device='cuda:0', grad_fn=<NllLoss2DBackward>)\n",
      "Loss = tensor(1.5062, device='cuda:0', grad_fn=<NllLoss2DBackward>)\n",
      "EPOCH:  38\n"
     ]
    },
    {
     "data": {
      "image/png": "[encoded data removed]",
      "text/plain": [
       "<PIL.Image.Image image mode=RGB size=60x60 at 0x7FA4F7B07520>"
      ]
     },
     "metadata": {},
     "output_type": "display_data"
    },
    {
     "name": "stdout",
     "output_type": "stream",
     "text": [
      "Learning rate:  0.0006\n",
      "Loss = tensor(1.5108, device='cuda:0', grad_fn=<NllLoss2DBackward>)\n",
      "Loss = tensor(1.4977, device='cuda:0', grad_fn=<NllLoss2DBackward>)\n",
      "EPOCH:  39\n"
     ]
    },
    {
     "data": {
      "image/png": "[encoded data removed]",
      "text/plain": [
       "<PIL.Image.Image image mode=RGB size=60x60 at 0x7FA4F7B074F0>"
      ]
     },
     "metadata": {},
     "output_type": "display_data"
    },
    {
     "name": "stdout",
     "output_type": "stream",
     "text": [
      "Learning rate:  0.0006\n",
      "Loss = tensor(1.4903, device='cuda:0', grad_fn=<NllLoss2DBackward>)\n",
      "Loss = tensor(1.5020, device='cuda:0', grad_fn=<NllLoss2DBackward>)\n",
      "Loss = tensor(1.4994, device='cuda:0', grad_fn=<NllLoss2DBackward>)\n",
      "Loss = tensor(1.5061, device='cuda:0', grad_fn=<NllLoss2DBackward>)\n",
      "Loss = tensor(1.5009, device='cuda:0', grad_fn=<NllLoss2DBackward>)\n",
      "EPOCH:  39\n"
     ]
    },
    {
     "data": {
      "image/png": "[encoded data removed]",
      "text/plain": [
       "<PIL.Image.Image image mode=RGB size=60x60 at 0x7FA4F7B07520>"
      ]
     },
     "metadata": {},
     "output_type": "display_data"
    },
    {
     "name": "stdout",
     "output_type": "stream",
     "text": [
      "Learning rate:  0.0006\n",
      "Loss = tensor(1.4836, device='cuda:0', grad_fn=<NllLoss2DBackward>)\n",
      "Loss = tensor(1.5049, device='cuda:0', grad_fn=<NllLoss2DBackward>)\n",
      "Loss = tensor(1.4950, device='cuda:0', grad_fn=<NllLoss2DBackward>)\n",
      "Loss = tensor(1.5124, device='cuda:0', grad_fn=<NllLoss2DBackward>)\n",
      "Loss = tensor(1.4914, device='cuda:0', grad_fn=<NllLoss2DBackward>)\n",
      "EPOCH:  39\n"
     ]
    },
    {
     "data": {
      "image/png": "[encoded data removed]",
      "text/plain": [
       "<PIL.Image.Image image mode=RGB size=60x60 at 0x7FA4F7B07520>"
      ]
     },
     "metadata": {},
     "output_type": "display_data"
    },
    {
     "name": "stdout",
     "output_type": "stream",
     "text": [
      "Learning rate:  0.0006\n",
      "Loss = tensor(1.5012, device='cuda:0', grad_fn=<NllLoss2DBackward>)\n",
      "Loss = tensor(1.5008, device='cuda:0', grad_fn=<NllLoss2DBackward>)\n",
      "EPOCH:  40\n"
     ]
    },
    {
     "data": {
      "image/png": "[encoded data removed]",
      "text/plain": [
       "<PIL.Image.Image image mode=RGB size=60x60 at 0x7FA4F7B07520>"
      ]
     },
     "metadata": {},
     "output_type": "display_data"
    },
    {
     "name": "stdout",
     "output_type": "stream",
     "text": [
      "Learning rate:  0.0006\n",
      "Loss = tensor(1.4893, device='cuda:0', grad_fn=<NllLoss2DBackward>)\n",
      "Loss = tensor(1.5228, device='cuda:0', grad_fn=<NllLoss2DBackward>)\n",
      "Loss = tensor(1.4932, device='cuda:0', grad_fn=<NllLoss2DBackward>)\n",
      "Loss = tensor(1.4840, device='cuda:0', grad_fn=<NllLoss2DBackward>)\n",
      "Loss = tensor(1.4868, device='cuda:0', grad_fn=<NllLoss2DBackward>)\n",
      "EPOCH:  40\n"
     ]
    },
    {
     "data": {
      "image/png": "[encoded data removed]",
      "text/plain": [
       "<PIL.Image.Image image mode=RGB size=60x60 at 0x7FA4F7B074F0>"
      ]
     },
     "metadata": {},
     "output_type": "display_data"
    },
    {
     "name": "stdout",
     "output_type": "stream",
     "text": [
      "Learning rate:  0.0006\n",
      "Loss = tensor(1.5110, device='cuda:0', grad_fn=<NllLoss2DBackward>)\n",
      "Loss = tensor(1.5099, device='cuda:0', grad_fn=<NllLoss2DBackward>)\n",
      "Loss = tensor(1.4957, device='cuda:0', grad_fn=<NllLoss2DBackward>)\n",
      "Loss = tensor(1.4983, device='cuda:0', grad_fn=<NllLoss2DBackward>)\n",
      "Loss = tensor(1.4843, device='cuda:0', grad_fn=<NllLoss2DBackward>)\n",
      "EPOCH:  40\n"
     ]
    },
    {
     "data": {
      "image/png": "[encoded data removed]",
      "text/plain": [
       "<PIL.Image.Image image mode=RGB size=60x60 at 0x7FA4F7B07520>"
      ]
     },
     "metadata": {},
     "output_type": "display_data"
    },
    {
     "name": "stdout",
     "output_type": "stream",
     "text": [
      "Learning rate:  0.0006\n",
      "Loss = tensor(1.4956, device='cuda:0', grad_fn=<NllLoss2DBackward>)\n",
      "Loss = tensor(1.4968, device='cuda:0', grad_fn=<NllLoss2DBackward>)\n",
      "EPOCH:  41\n"
     ]
    },
    {
     "data": {
      "image/png": "[encoded data removed]",
      "text/plain": [
       "<PIL.Image.Image image mode=RGB size=60x60 at 0x7FA4F7B07520>"
      ]
     },
     "metadata": {},
     "output_type": "display_data"
    },
    {
     "name": "stdout",
     "output_type": "stream",
     "text": [
      "Learning rate:  0.0006\n",
      "Loss = tensor(1.5073, device='cuda:0', grad_fn=<NllLoss2DBackward>)\n",
      "Loss = tensor(1.4967, device='cuda:0', grad_fn=<NllLoss2DBackward>)\n",
      "Loss = tensor(1.4913, device='cuda:0', grad_fn=<NllLoss2DBackward>)\n",
      "Loss = tensor(1.5030, device='cuda:0', grad_fn=<NllLoss2DBackward>)\n",
      "Loss = tensor(1.4772, device='cuda:0', grad_fn=<NllLoss2DBackward>)\n",
      "EPOCH:  41\n"
     ]
    },
    {
     "data": {
      "image/png": "[encoded data removed]",
      "text/plain": [
       "<PIL.Image.Image image mode=RGB size=60x60 at 0x7FA4F7B07520>"
      ]
     },
     "metadata": {},
     "output_type": "display_data"
    },
    {
     "name": "stdout",
     "output_type": "stream",
     "text": [
      "Learning rate:  0.0006\n",
      "Loss = tensor(1.4990, device='cuda:0', grad_fn=<NllLoss2DBackward>)\n",
      "Loss = tensor(1.4825, device='cuda:0', grad_fn=<NllLoss2DBackward>)\n",
      "Loss = tensor(1.4912, device='cuda:0', grad_fn=<NllLoss2DBackward>)\n",
      "Loss = tensor(1.4970, device='cuda:0', grad_fn=<NllLoss2DBackward>)\n",
      "Loss = tensor(1.5140, device='cuda:0', grad_fn=<NllLoss2DBackward>)\n",
      "EPOCH:  41\n"
     ]
    },
    {
     "data": {
      "image/png": "[encoded data removed]",
      "text/plain": [
       "<PIL.Image.Image image mode=RGB size=60x60 at 0x7FA4F7B074F0>"
      ]
     },
     "metadata": {},
     "output_type": "display_data"
    },
    {
     "name": "stdout",
     "output_type": "stream",
     "text": [
      "Learning rate:  0.0006\n",
      "Loss = tensor(1.5118, device='cuda:0', grad_fn=<NllLoss2DBackward>)\n",
      "Loss = tensor(1.5002, device='cuda:0', grad_fn=<NllLoss2DBackward>)\n",
      "EPOCH:  42\n"
     ]
    },
    {
     "data": {
      "image/png": "[encoded data removed]",
      "text/plain": [
       "<PIL.Image.Image image mode=RGB size=60x60 at 0x7FA4F7B07520>"
      ]
     },
     "metadata": {},
     "output_type": "display_data"
    },
    {
     "name": "stdout",
     "output_type": "stream",
     "text": [
      "Learning rate:  0.0006\n",
      "Loss = tensor(1.5219, device='cuda:0', grad_fn=<NllLoss2DBackward>)\n",
      "Loss = tensor(1.4934, device='cuda:0', grad_fn=<NllLoss2DBackward>)\n",
      "Loss = tensor(1.4887, device='cuda:0', grad_fn=<NllLoss2DBackward>)\n",
      "Loss = tensor(1.4966, device='cuda:0', grad_fn=<NllLoss2DBackward>)\n",
      "Loss = tensor(1.4851, device='cuda:0', grad_fn=<NllLoss2DBackward>)\n",
      "EPOCH:  42\n"
     ]
    },
    {
     "data": {
      "image/png": "[encoded data removed]",
      "text/plain": [
       "<PIL.Image.Image image mode=RGB size=60x60 at 0x7FA4F7B07520>"
      ]
     },
     "metadata": {},
     "output_type": "display_data"
    },
    {
     "name": "stdout",
     "output_type": "stream",
     "text": [
      "Learning rate:  0.0006\n",
      "Loss = tensor(1.5071, device='cuda:0', grad_fn=<NllLoss2DBackward>)\n",
      "Loss = tensor(1.4929, device='cuda:0', grad_fn=<NllLoss2DBackward>)\n",
      "Loss = tensor(1.5010, device='cuda:0', grad_fn=<NllLoss2DBackward>)\n",
      "Loss = tensor(1.5007, device='cuda:0', grad_fn=<NllLoss2DBackward>)\n",
      "Loss = tensor(1.5107, device='cuda:0', grad_fn=<NllLoss2DBackward>)\n",
      "EPOCH:  42\n"
     ]
    },
    {
     "data": {
      "image/png": "[encoded data removed]",
      "text/plain": [
       "<PIL.Image.Image image mode=RGB size=60x60 at 0x7FA4EDA78370>"
      ]
     },
     "metadata": {},
     "output_type": "display_data"
    },
    {
     "name": "stdout",
     "output_type": "stream",
     "text": [
      "Learning rate:  0.0006\n",
      "Loss = tensor(1.4792, device='cuda:0', grad_fn=<NllLoss2DBackward>)\n",
      "Loss = tensor(1.4933, device='cuda:0', grad_fn=<NllLoss2DBackward>)\n",
      "EPOCH:  43\n"
     ]
    },
    {
     "data": {
      "image/png": "[encoded data removed]",
      "text/plain": [
       "<PIL.Image.Image image mode=RGB size=60x60 at 0x7FA4F7B07400>"
      ]
     },
     "metadata": {},
     "output_type": "display_data"
    },
    {
     "name": "stdout",
     "output_type": "stream",
     "text": [
      "Learning rate:  0.0006\n",
      "Loss = tensor(1.5080, device='cuda:0', grad_fn=<NllLoss2DBackward>)\n",
      "Loss = tensor(1.4847, device='cuda:0', grad_fn=<NllLoss2DBackward>)\n",
      "Loss = tensor(1.5003, device='cuda:0', grad_fn=<NllLoss2DBackward>)\n",
      "Loss = tensor(1.4912, device='cuda:0', grad_fn=<NllLoss2DBackward>)\n",
      "Loss = tensor(1.4945, device='cuda:0', grad_fn=<NllLoss2DBackward>)\n",
      "EPOCH:  43\n"
     ]
    },
    {
     "data": {
      "image/png": "[encoded data removed]",
      "text/plain": [
       "<PIL.Image.Image image mode=RGB size=60x60 at 0x7FA4F7B07520>"
      ]
     },
     "metadata": {},
     "output_type": "display_data"
    },
    {
     "name": "stdout",
     "output_type": "stream",
     "text": [
      "Learning rate:  0.0006\n",
      "Loss = tensor(1.4962, device='cuda:0', grad_fn=<NllLoss2DBackward>)\n",
      "Loss = tensor(1.5140, device='cuda:0', grad_fn=<NllLoss2DBackward>)\n",
      "Loss = tensor(1.4789, device='cuda:0', grad_fn=<NllLoss2DBackward>)\n",
      "Loss = tensor(1.5021, device='cuda:0', grad_fn=<NllLoss2DBackward>)\n",
      "Loss = tensor(1.4978, device='cuda:0', grad_fn=<NllLoss2DBackward>)\n",
      "EPOCH:  43\n"
     ]
    },
    {
     "data": {
      "image/png": "[encoded data removed]",
      "text/plain": [
       "<PIL.Image.Image image mode=RGB size=60x60 at 0x7FA4F7B07520>"
      ]
     },
     "metadata": {},
     "output_type": "display_data"
    },
    {
     "name": "stdout",
     "output_type": "stream",
     "text": [
      "Learning rate:  0.0006\n",
      "Loss = tensor(1.4933, device='cuda:0', grad_fn=<NllLoss2DBackward>)\n",
      "Loss = tensor(1.4924, device='cuda:0', grad_fn=<NllLoss2DBackward>)\n",
      "EPOCH:  44\n"
     ]
    },
    {
     "data": {
      "image/png": "[encoded data removed]",
      "text/plain": [
       "<PIL.Image.Image image mode=RGB size=60x60 at 0x7FA4F7B07520>"
      ]
     },
     "metadata": {},
     "output_type": "display_data"
    },
    {
     "name": "stdout",
     "output_type": "stream",
     "text": [
      "Learning rate:  0.0006\n",
      "Loss = tensor(1.4867, device='cuda:0', grad_fn=<NllLoss2DBackward>)\n",
      "Loss = tensor(1.5048, device='cuda:0', grad_fn=<NllLoss2DBackward>)\n",
      "Loss = tensor(1.5000, device='cuda:0', grad_fn=<NllLoss2DBackward>)\n",
      "Loss = tensor(1.4935, device='cuda:0', grad_fn=<NllLoss2DBackward>)\n",
      "Loss = tensor(1.4959, device='cuda:0', grad_fn=<NllLoss2DBackward>)\n",
      "EPOCH:  44\n"
     ]
    },
    {
     "data": {
      "image/png": "[encoded data removed]",
      "text/plain": [
       "<PIL.Image.Image image mode=RGB size=60x60 at 0x7FA4F7B07520>"
      ]
     },
     "metadata": {},
     "output_type": "display_data"
    },
    {
     "name": "stdout",
     "output_type": "stream",
     "text": [
      "Learning rate:  0.0006\n",
      "Loss = tensor(1.4997, device='cuda:0', grad_fn=<NllLoss2DBackward>)\n",
      "Loss = tensor(1.5078, device='cuda:0', grad_fn=<NllLoss2DBackward>)\n",
      "Loss = tensor(1.4822, device='cuda:0', grad_fn=<NllLoss2DBackward>)\n",
      "Loss = tensor(1.5019, device='cuda:0', grad_fn=<NllLoss2DBackward>)\n",
      "Loss = tensor(1.4949, device='cuda:0', grad_fn=<NllLoss2DBackward>)\n",
      "EPOCH:  44\n"
     ]
    },
    {
     "data": {
      "image/png": "[encoded data removed]",
      "text/plain": [
       "<PIL.Image.Image image mode=RGB size=60x60 at 0x7FA4F7B07400>"
      ]
     },
     "metadata": {},
     "output_type": "display_data"
    },
    {
     "name": "stdout",
     "output_type": "stream",
     "text": [
      "Learning rate:  0.0006\n",
      "Loss = tensor(1.4966, device='cuda:0', grad_fn=<NllLoss2DBackward>)\n",
      "Loss = tensor(1.4809, device='cuda:0', grad_fn=<NllLoss2DBackward>)\n",
      "EPOCH:  45\n"
     ]
    },
    {
     "data": {
      "image/png": "[encoded data removed]",
      "text/plain": [
       "<PIL.Image.Image image mode=RGB size=60x60 at 0x7FA4F75EFEB0>"
      ]
     },
     "metadata": {},
     "output_type": "display_data"
    },
    {
     "name": "stdout",
     "output_type": "stream",
     "text": [
      "Learning rate:  0.0006\n",
      "Loss = tensor(1.4941, device='cuda:0', grad_fn=<NllLoss2DBackward>)\n",
      "Loss = tensor(1.4943, device='cuda:0', grad_fn=<NllLoss2DBackward>)\n",
      "Loss = tensor(1.5076, device='cuda:0', grad_fn=<NllLoss2DBackward>)\n",
      "Loss = tensor(1.5056, device='cuda:0', grad_fn=<NllLoss2DBackward>)\n",
      "Loss = tensor(1.4914, device='cuda:0', grad_fn=<NllLoss2DBackward>)\n",
      "EPOCH:  45\n"
     ]
    },
    {
     "data": {
      "image/png": "[encoded data removed]",
      "text/plain": [
       "<PIL.Image.Image image mode=RGB size=60x60 at 0x7FA4F75EFEB0>"
      ]
     },
     "metadata": {},
     "output_type": "display_data"
    },
    {
     "name": "stdout",
     "output_type": "stream",
     "text": [
      "Learning rate:  0.0006\n",
      "Loss = tensor(1.5071, device='cuda:0', grad_fn=<NllLoss2DBackward>)\n",
      "Loss = tensor(1.4944, device='cuda:0', grad_fn=<NllLoss2DBackward>)\n",
      "Loss = tensor(1.4889, device='cuda:0', grad_fn=<NllLoss2DBackward>)\n",
      "Loss = tensor(1.5009, device='cuda:0', grad_fn=<NllLoss2DBackward>)\n",
      "Loss = tensor(1.5046, device='cuda:0', grad_fn=<NllLoss2DBackward>)\n",
      "EPOCH:  45\n"
     ]
    },
    {
     "data": {
      "image/png": "[encoded data removed]",
      "text/plain": [
       "<PIL.Image.Image image mode=RGB size=60x60 at 0x7FA4F75EFD60>"
      ]
     },
     "metadata": {},
     "output_type": "display_data"
    },
    {
     "name": "stdout",
     "output_type": "stream",
     "text": [
      "Learning rate:  0.0006\n",
      "Loss = tensor(1.4807, device='cuda:0', grad_fn=<NllLoss2DBackward>)\n",
      "Loss = tensor(1.4929, device='cuda:0', grad_fn=<NllLoss2DBackward>)\n",
      "EPOCH:  46\n"
     ]
    },
    {
     "data": {
      "image/png": "[encoded data removed]",
      "text/plain": [
       "<PIL.Image.Image image mode=RGB size=60x60 at 0x7FA4F75EFD60>"
      ]
     },
     "metadata": {},
     "output_type": "display_data"
    },
    {
     "name": "stdout",
     "output_type": "stream",
     "text": [
      "Learning rate:  0.0006\n",
      "Loss = tensor(1.4963, device='cuda:0', grad_fn=<NllLoss2DBackward>)\n",
      "Loss = tensor(1.4928, device='cuda:0', grad_fn=<NllLoss2DBackward>)\n",
      "Loss = tensor(1.5003, device='cuda:0', grad_fn=<NllLoss2DBackward>)\n",
      "Loss = tensor(1.4912, device='cuda:0', grad_fn=<NllLoss2DBackward>)\n",
      "Loss = tensor(1.5071, device='cuda:0', grad_fn=<NllLoss2DBackward>)\n",
      "EPOCH:  46\n"
     ]
    },
    {
     "data": {
      "image/png": "[encoded data removed]",
      "text/plain": [
       "<PIL.Image.Image image mode=RGB size=60x60 at 0x7FA4F75EFD60>"
      ]
     },
     "metadata": {},
     "output_type": "display_data"
    },
    {
     "name": "stdout",
     "output_type": "stream",
     "text": [
      "Learning rate:  0.0006\n",
      "Loss = tensor(1.5049, device='cuda:0', grad_fn=<NllLoss2DBackward>)\n",
      "Loss = tensor(1.4813, device='cuda:0', grad_fn=<NllLoss2DBackward>)\n",
      "Loss = tensor(1.5117, device='cuda:0', grad_fn=<NllLoss2DBackward>)\n",
      "Loss = tensor(1.5185, device='cuda:0', grad_fn=<NllLoss2DBackward>)\n",
      "Loss = tensor(1.4872, device='cuda:0', grad_fn=<NllLoss2DBackward>)\n",
      "EPOCH:  46\n"
     ]
    },
    {
     "data": {
      "image/png": "[encoded data removed]",
      "text/plain": [
       "<PIL.Image.Image image mode=RGB size=60x60 at 0x7FA4F75EFD60>"
      ]
     },
     "metadata": {},
     "output_type": "display_data"
    },
    {
     "name": "stdout",
     "output_type": "stream",
     "text": [
      "Learning rate:  0.0006\n",
      "Loss = tensor(1.4974, device='cuda:0', grad_fn=<NllLoss2DBackward>)\n",
      "Loss = tensor(1.4874, device='cuda:0', grad_fn=<NllLoss2DBackward>)\n",
      "EPOCH:  47\n"
     ]
    },
    {
     "data": {
      "image/png": "[encoded data removed]",
      "text/plain": [
       "<PIL.Image.Image image mode=RGB size=60x60 at 0x7FA4F75EFD60>"
      ]
     },
     "metadata": {},
     "output_type": "display_data"
    },
    {
     "name": "stdout",
     "output_type": "stream",
     "text": [
      "Learning rate:  0.0006\n",
      "Loss = tensor(1.4844, device='cuda:0', grad_fn=<NllLoss2DBackward>)\n",
      "Loss = tensor(1.5088, device='cuda:0', grad_fn=<NllLoss2DBackward>)\n",
      "Loss = tensor(1.4834, device='cuda:0', grad_fn=<NllLoss2DBackward>)\n",
      "Loss = tensor(1.4752, device='cuda:0', grad_fn=<NllLoss2DBackward>)\n",
      "Loss = tensor(1.5088, device='cuda:0', grad_fn=<NllLoss2DBackward>)\n",
      "EPOCH:  47\n"
     ]
    },
    {
     "data": {
      "image/png": "[encoded data removed]",
      "text/plain": [
       "<PIL.Image.Image image mode=RGB size=60x60 at 0x7FA4F75EFEB0>"
      ]
     },
     "metadata": {},
     "output_type": "display_data"
    },
    {
     "name": "stdout",
     "output_type": "stream",
     "text": [
      "Learning rate:  0.0006\n",
      "Loss = tensor(1.4945, device='cuda:0', grad_fn=<NllLoss2DBackward>)\n",
      "Loss = tensor(1.4986, device='cuda:0', grad_fn=<NllLoss2DBackward>)\n",
      "Loss = tensor(1.5070, device='cuda:0', grad_fn=<NllLoss2DBackward>)\n",
      "Loss = tensor(1.5078, device='cuda:0', grad_fn=<NllLoss2DBackward>)\n",
      "Loss = tensor(1.5074, device='cuda:0', grad_fn=<NllLoss2DBackward>)\n",
      "EPOCH:  47\n"
     ]
    },
    {
     "data": {
      "image/png": "[encoded data removed]",
      "text/plain": [
       "<PIL.Image.Image image mode=RGB size=60x60 at 0x7FA4F75EFD60>"
      ]
     },
     "metadata": {},
     "output_type": "display_data"
    },
    {
     "name": "stdout",
     "output_type": "stream",
     "text": [
      "Learning rate:  0.0006\n",
      "Loss = tensor(1.4936, device='cuda:0', grad_fn=<NllLoss2DBackward>)\n",
      "Loss = tensor(1.4807, device='cuda:0', grad_fn=<NllLoss2DBackward>)\n",
      "EPOCH:  48\n"
     ]
    },
    {
     "data": {
      "image/png": "[encoded data removed]",
      "text/plain": [
       "<PIL.Image.Image image mode=RGB size=60x60 at 0x7FA4F75EFEB0>"
      ]
     },
     "metadata": {},
     "output_type": "display_data"
    },
    {
     "name": "stdout",
     "output_type": "stream",
     "text": [
      "Learning rate:  0.0006\n",
      "Loss = tensor(1.5022, device='cuda:0', grad_fn=<NllLoss2DBackward>)\n",
      "Loss = tensor(1.4963, device='cuda:0', grad_fn=<NllLoss2DBackward>)\n",
      "Loss = tensor(1.5016, device='cuda:0', grad_fn=<NllLoss2DBackward>)\n",
      "Loss = tensor(1.5015, device='cuda:0', grad_fn=<NllLoss2DBackward>)\n",
      "Loss = tensor(1.4898, device='cuda:0', grad_fn=<NllLoss2DBackward>)\n",
      "EPOCH:  48\n"
     ]
    },
    {
     "data": {
      "image/png": "[encoded data removed]",
      "text/plain": [
       "<PIL.Image.Image image mode=RGB size=60x60 at 0x7FA4F75EFEB0>"
      ]
     },
     "metadata": {},
     "output_type": "display_data"
    },
    {
     "name": "stdout",
     "output_type": "stream",
     "text": [
      "Learning rate:  0.0006\n",
      "Loss = tensor(1.5043, device='cuda:0', grad_fn=<NllLoss2DBackward>)\n",
      "Loss = tensor(1.4811, device='cuda:0', grad_fn=<NllLoss2DBackward>)\n",
      "Loss = tensor(1.4943, device='cuda:0', grad_fn=<NllLoss2DBackward>)\n",
      "Loss = tensor(1.5030, device='cuda:0', grad_fn=<NllLoss2DBackward>)\n",
      "Loss = tensor(1.4821, device='cuda:0', grad_fn=<NllLoss2DBackward>)\n",
      "EPOCH:  48\n"
     ]
    },
    {
     "data": {
      "image/png": "[encoded data removed]",
      "text/plain": [
       "<PIL.Image.Image image mode=RGB size=60x60 at 0x7FA4F75EFD60>"
      ]
     },
     "metadata": {},
     "output_type": "display_data"
    },
    {
     "name": "stdout",
     "output_type": "stream",
     "text": [
      "Learning rate:  0.0006\n",
      "Loss = tensor(1.5005, device='cuda:0', grad_fn=<NllLoss2DBackward>)\n",
      "Loss = tensor(1.4808, device='cuda:0', grad_fn=<NllLoss2DBackward>)\n",
      "EPOCH:  49\n"
     ]
    },
    {
     "data": {
      "image/png": "[encoded data removed]",
      "text/plain": [
       "<PIL.Image.Image image mode=RGB size=60x60 at 0x7FA4F75EFD60>"
      ]
     },
     "metadata": {},
     "output_type": "display_data"
    },
    {
     "name": "stdout",
     "output_type": "stream",
     "text": [
      "Learning rate:  0.0006\n",
      "Loss = tensor(1.4883, device='cuda:0', grad_fn=<NllLoss2DBackward>)\n",
      "Loss = tensor(1.4974, device='cuda:0', grad_fn=<NllLoss2DBackward>)\n",
      "Loss = tensor(1.4990, device='cuda:0', grad_fn=<NllLoss2DBackward>)\n",
      "Loss = tensor(1.4974, device='cuda:0', grad_fn=<NllLoss2DBackward>)\n",
      "Loss = tensor(1.5006, device='cuda:0', grad_fn=<NllLoss2DBackward>)\n",
      "EPOCH:  49\n"
     ]
    },
    {
     "data": {
      "image/png": "[encoded data removed]",
      "text/plain": [
       "<PIL.Image.Image image mode=RGB size=60x60 at 0x7FA4F75EFD60>"
      ]
     },
     "metadata": {},
     "output_type": "display_data"
    },
    {
     "name": "stdout",
     "output_type": "stream",
     "text": [
      "Learning rate:  0.0006\n",
      "Loss = tensor(1.4980, device='cuda:0', grad_fn=<NllLoss2DBackward>)\n",
      "Loss = tensor(1.4884, device='cuda:0', grad_fn=<NllLoss2DBackward>)\n",
      "Loss = tensor(1.4888, device='cuda:0', grad_fn=<NllLoss2DBackward>)\n",
      "Loss = tensor(1.4971, device='cuda:0', grad_fn=<NllLoss2DBackward>)\n",
      "Loss = tensor(1.4939, device='cuda:0', grad_fn=<NllLoss2DBackward>)\n",
      "EPOCH:  49\n"
     ]
    },
    {
     "data": {
      "image/png": "[encoded data removed]",
      "text/plain": [
       "<PIL.Image.Image image mode=RGB size=60x60 at 0x7FA4F75EFD60>"
      ]
     },
     "metadata": {},
     "output_type": "display_data"
    },
    {
     "name": "stdout",
     "output_type": "stream",
     "text": [
      "Learning rate:  0.0006\n",
      "Loss = tensor(1.5015, device='cuda:0', grad_fn=<NllLoss2DBackward>)\n",
      "Loss = tensor(1.4921, device='cuda:0', grad_fn=<NllLoss2DBackward>)\n",
      "EPOCH:  50\n"
     ]
    },
    {
     "data": {
      "image/png": "[encoded data removed]",
      "text/plain": [
       "<PIL.Image.Image image mode=RGB size=60x60 at 0x7FA4F75EFEB0>"
      ]
     },
     "metadata": {},
     "output_type": "display_data"
    },
    {
     "name": "stdout",
     "output_type": "stream",
     "text": [
      "Learning rate:  0.0003\n",
      "Loss = tensor(1.4928, device='cuda:0', grad_fn=<NllLoss2DBackward>)\n",
      "Loss = tensor(1.4943, device='cuda:0', grad_fn=<NllLoss2DBackward>)\n",
      "Loss = tensor(1.4906, device='cuda:0', grad_fn=<NllLoss2DBackward>)\n",
      "Loss = tensor(1.4825, device='cuda:0', grad_fn=<NllLoss2DBackward>)\n",
      "Loss = tensor(1.4922, device='cuda:0', grad_fn=<NllLoss2DBackward>)\n",
      "EPOCH:  50\n"
     ]
    },
    {
     "data": {
      "image/png": "[encoded data removed]",
      "text/plain": [
       "<PIL.Image.Image image mode=RGB size=60x60 at 0x7FA4F75EFD60>"
      ]
     },
     "metadata": {},
     "output_type": "display_data"
    },
    {
     "name": "stdout",
     "output_type": "stream",
     "text": [
      "Learning rate:  0.0003\n",
      "Loss = tensor(1.5052, device='cuda:0', grad_fn=<NllLoss2DBackward>)\n",
      "Loss = tensor(1.4910, device='cuda:0', grad_fn=<NllLoss2DBackward>)\n",
      "Loss = tensor(1.5031, device='cuda:0', grad_fn=<NllLoss2DBackward>)\n",
      "Loss = tensor(1.4853, device='cuda:0', grad_fn=<NllLoss2DBackward>)\n",
      "Loss = tensor(1.4984, device='cuda:0', grad_fn=<NllLoss2DBackward>)\n",
      "EPOCH:  50\n"
     ]
    },
    {
     "data": {
      "image/png": "[encoded data removed]",
      "text/plain": [
       "<PIL.Image.Image image mode=RGB size=60x60 at 0x7FA4F75EFEB0>"
      ]
     },
     "metadata": {},
     "output_type": "display_data"
    },
    {
     "name": "stdout",
     "output_type": "stream",
     "text": [
      "Learning rate:  0.0003\n",
      "Loss = tensor(1.4926, device='cuda:0', grad_fn=<NllLoss2DBackward>)\n",
      "Loss = tensor(1.4769, device='cuda:0', grad_fn=<NllLoss2DBackward>)\n",
      "EPOCH:  51\n"
     ]
    },
    {
     "data": {
      "image/png": "[encoded data removed]",
      "text/plain": [
       "<PIL.Image.Image image mode=RGB size=60x60 at 0x7FA4F75EFEB0>"
      ]
     },
     "metadata": {},
     "output_type": "display_data"
    },
    {
     "name": "stdout",
     "output_type": "stream",
     "text": [
      "Learning rate:  0.0003\n",
      "Loss = tensor(1.5162, device='cuda:0', grad_fn=<NllLoss2DBackward>)\n",
      "Loss = tensor(1.4890, device='cuda:0', grad_fn=<NllLoss2DBackward>)\n",
      "Loss = tensor(1.5044, device='cuda:0', grad_fn=<NllLoss2DBackward>)\n",
      "Loss = tensor(1.4939, device='cuda:0', grad_fn=<NllLoss2DBackward>)\n",
      "Loss = tensor(1.4961, device='cuda:0', grad_fn=<NllLoss2DBackward>)\n",
      "EPOCH:  51\n"
     ]
    },
    {
     "data": {
      "image/png": "[encoded data removed]",
      "text/plain": [
       "<PIL.Image.Image image mode=RGB size=60x60 at 0x7FA4F75EFD60>"
      ]
     },
     "metadata": {},
     "output_type": "display_data"
    },
    {
     "name": "stdout",
     "output_type": "stream",
     "text": [
      "Learning rate:  0.0003\n",
      "Loss = tensor(1.4936, device='cuda:0', grad_fn=<NllLoss2DBackward>)\n",
      "Loss = tensor(1.4954, device='cuda:0', grad_fn=<NllLoss2DBackward>)\n",
      "Loss = tensor(1.4933, device='cuda:0', grad_fn=<NllLoss2DBackward>)\n",
      "Loss = tensor(1.4894, device='cuda:0', grad_fn=<NllLoss2DBackward>)\n",
      "Loss = tensor(1.4731, device='cuda:0', grad_fn=<NllLoss2DBackward>)\n",
      "EPOCH:  51\n"
     ]
    },
    {
     "data": {
      "image/png": "[encoded data removed]",
      "text/plain": [
       "<PIL.Image.Image image mode=RGB size=60x60 at 0x7FA4F75EFEB0>"
      ]
     },
     "metadata": {},
     "output_type": "display_data"
    },
    {
     "name": "stdout",
     "output_type": "stream",
     "text": [
      "Learning rate:  0.0003\n",
      "Loss = tensor(1.4992, device='cuda:0', grad_fn=<NllLoss2DBackward>)\n",
      "Loss = tensor(1.4845, device='cuda:0', grad_fn=<NllLoss2DBackward>)\n",
      "EPOCH:  52\n"
     ]
    },
    {
     "data": {
      "image/png": "[encoded data removed]",
      "text/plain": [
       "<PIL.Image.Image image mode=RGB size=60x60 at 0x7FA4F75EFD60>"
      ]
     },
     "metadata": {},
     "output_type": "display_data"
    },
    {
     "name": "stdout",
     "output_type": "stream",
     "text": [
      "Learning rate:  0.0003\n",
      "Loss = tensor(1.4968, device='cuda:0', grad_fn=<NllLoss2DBackward>)\n",
      "Loss = tensor(1.4977, device='cuda:0', grad_fn=<NllLoss2DBackward>)\n",
      "Loss = tensor(1.5012, device='cuda:0', grad_fn=<NllLoss2DBackward>)\n",
      "Loss = tensor(1.4778, device='cuda:0', grad_fn=<NllLoss2DBackward>)\n",
      "Loss = tensor(1.4861, device='cuda:0', grad_fn=<NllLoss2DBackward>)\n",
      "EPOCH:  52\n"
     ]
    },
    {
     "data": {
      "image/png": "[encoded data removed]",
      "text/plain": [
       "<PIL.Image.Image image mode=RGB size=60x60 at 0x7FA4F75EFD60>"
      ]
     },
     "metadata": {},
     "output_type": "display_data"
    },
    {
     "name": "stdout",
     "output_type": "stream",
     "text": [
      "Learning rate:  0.0003\n",
      "Loss = tensor(1.4880, device='cuda:0', grad_fn=<NllLoss2DBackward>)\n",
      "Loss = tensor(1.5019, device='cuda:0', grad_fn=<NllLoss2DBackward>)\n",
      "Loss = tensor(1.4845, device='cuda:0', grad_fn=<NllLoss2DBackward>)\n",
      "Loss = tensor(1.4991, device='cuda:0', grad_fn=<NllLoss2DBackward>)\n",
      "Loss = tensor(1.4893, device='cuda:0', grad_fn=<NllLoss2DBackward>)\n",
      "EPOCH:  52\n"
     ]
    },
    {
     "data": {
      "image/png": "[encoded data removed]",
      "text/plain": [
       "<PIL.Image.Image image mode=RGB size=60x60 at 0x7FA4F75EFEB0>"
      ]
     },
     "metadata": {},
     "output_type": "display_data"
    },
    {
     "name": "stdout",
     "output_type": "stream",
     "text": [
      "Learning rate:  0.0003\n",
      "Loss = tensor(1.5106, device='cuda:0', grad_fn=<NllLoss2DBackward>)\n",
      "Loss = tensor(1.4944, device='cuda:0', grad_fn=<NllLoss2DBackward>)\n",
      "EPOCH:  53\n"
     ]
    },
    {
     "data": {
      "image/png": "[encoded data removed]",
      "text/plain": [
       "<PIL.Image.Image image mode=RGB size=60x60 at 0x7FA4F75EFEB0>"
      ]
     },
     "metadata": {},
     "output_type": "display_data"
    },
    {
     "name": "stdout",
     "output_type": "stream",
     "text": [
      "Learning rate:  0.0003\n",
      "Loss = tensor(1.4938, device='cuda:0', grad_fn=<NllLoss2DBackward>)\n",
      "Loss = tensor(1.5004, device='cuda:0', grad_fn=<NllLoss2DBackward>)\n",
      "Loss = tensor(1.4937, device='cuda:0', grad_fn=<NllLoss2DBackward>)\n",
      "Loss = tensor(1.4846, device='cuda:0', grad_fn=<NllLoss2DBackward>)\n",
      "Loss = tensor(1.4951, device='cuda:0', grad_fn=<NllLoss2DBackward>)\n",
      "EPOCH:  53\n"
     ]
    },
    {
     "data": {
      "image/png": "[encoded data removed]",
      "text/plain": [
       "<PIL.Image.Image image mode=RGB size=60x60 at 0x7FA4F75EFD60>"
      ]
     },
     "metadata": {},
     "output_type": "display_data"
    },
    {
     "name": "stdout",
     "output_type": "stream",
     "text": [
      "Learning rate:  0.0003\n",
      "Loss = tensor(1.4990, device='cuda:0', grad_fn=<NllLoss2DBackward>)\n",
      "Loss = tensor(1.4886, device='cuda:0', grad_fn=<NllLoss2DBackward>)\n",
      "Loss = tensor(1.4937, device='cuda:0', grad_fn=<NllLoss2DBackward>)\n",
      "Loss = tensor(1.4908, device='cuda:0', grad_fn=<NllLoss2DBackward>)\n",
      "Loss = tensor(1.4837, device='cuda:0', grad_fn=<NllLoss2DBackward>)\n",
      "EPOCH:  53\n"
     ]
    },
    {
     "data": {
      "image/png": "[encoded data removed]",
      "text/plain": [
       "<PIL.Image.Image image mode=RGB size=60x60 at 0x7FA4F75EFD60>"
      ]
     },
     "metadata": {},
     "output_type": "display_data"
    },
    {
     "name": "stdout",
     "output_type": "stream",
     "text": [
      "Learning rate:  0.0003\n",
      "Loss = tensor(1.4961, device='cuda:0', grad_fn=<NllLoss2DBackward>)\n",
      "Loss = tensor(1.4905, device='cuda:0', grad_fn=<NllLoss2DBackward>)\n",
      "EPOCH:  54\n"
     ]
    },
    {
     "data": {
      "image/png": "[encoded data removed]",
      "text/plain": [
       "<PIL.Image.Image image mode=RGB size=60x60 at 0x7FA4F75EFD60>"
      ]
     },
     "metadata": {},
     "output_type": "display_data"
    },
    {
     "name": "stdout",
     "output_type": "stream",
     "text": [
      "Learning rate:  0.0003\n",
      "Loss = tensor(1.5030, device='cuda:0', grad_fn=<NllLoss2DBackward>)\n",
      "Loss = tensor(1.4967, device='cuda:0', grad_fn=<NllLoss2DBackward>)\n",
      "Loss = tensor(1.4886, device='cuda:0', grad_fn=<NllLoss2DBackward>)\n",
      "Loss = tensor(1.5018, device='cuda:0', grad_fn=<NllLoss2DBackward>)\n",
      "Loss = tensor(1.4859, device='cuda:0', grad_fn=<NllLoss2DBackward>)\n",
      "EPOCH:  54\n"
     ]
    },
    {
     "data": {
      "image/png": "[encoded data removed]",
      "text/plain": [
       "<PIL.Image.Image image mode=RGB size=60x60 at 0x7FA4F75EFEB0>"
      ]
     },
     "metadata": {},
     "output_type": "display_data"
    },
    {
     "name": "stdout",
     "output_type": "stream",
     "text": [
      "Learning rate:  0.0003\n",
      "Loss = tensor(1.4871, device='cuda:0', grad_fn=<NllLoss2DBackward>)\n",
      "Loss = tensor(1.4949, device='cuda:0', grad_fn=<NllLoss2DBackward>)\n",
      "Loss = tensor(1.5043, device='cuda:0', grad_fn=<NllLoss2DBackward>)\n",
      "Loss = tensor(1.4850, device='cuda:0', grad_fn=<NllLoss2DBackward>)\n",
      "Loss = tensor(1.4837, device='cuda:0', grad_fn=<NllLoss2DBackward>)\n",
      "EPOCH:  54\n"
     ]
    },
    {
     "data": {
      "image/png": "[encoded data removed]",
      "text/plain": [
       "<PIL.Image.Image image mode=RGB size=60x60 at 0x7FA4F75EFD60>"
      ]
     },
     "metadata": {},
     "output_type": "display_data"
    },
    {
     "name": "stdout",
     "output_type": "stream",
     "text": [
      "Learning rate:  0.0003\n",
      "Loss = tensor(1.4943, device='cuda:0', grad_fn=<NllLoss2DBackward>)\n",
      "Loss = tensor(1.4935, device='cuda:0', grad_fn=<NllLoss2DBackward>)\n",
      "EPOCH:  55\n"
     ]
    },
    {
     "data": {
      "image/png": "[encoded data removed]",
      "text/plain": [
       "<PIL.Image.Image image mode=RGB size=60x60 at 0x7FA4F75EFEB0>"
      ]
     },
     "metadata": {},
     "output_type": "display_data"
    },
    {
     "name": "stdout",
     "output_type": "stream",
     "text": [
      "Learning rate:  0.0003\n",
      "Loss = tensor(1.4943, device='cuda:0', grad_fn=<NllLoss2DBackward>)\n",
      "Loss = tensor(1.4836, device='cuda:0', grad_fn=<NllLoss2DBackward>)\n",
      "Loss = tensor(1.4834, device='cuda:0', grad_fn=<NllLoss2DBackward>)\n",
      "Loss = tensor(1.5024, device='cuda:0', grad_fn=<NllLoss2DBackward>)\n",
      "Loss = tensor(1.5032, device='cuda:0', grad_fn=<NllLoss2DBackward>)\n",
      "EPOCH:  55\n"
     ]
    },
    {
     "data": {
      "image/png": "[encoded data removed]",
      "text/plain": [
       "<PIL.Image.Image image mode=RGB size=60x60 at 0x7FA4F75EFEB0>"
      ]
     },
     "metadata": {},
     "output_type": "display_data"
    },
    {
     "name": "stdout",
     "output_type": "stream",
     "text": [
      "Learning rate:  0.0003\n",
      "Loss = tensor(1.5024, device='cuda:0', grad_fn=<NllLoss2DBackward>)\n",
      "Loss = tensor(1.4905, device='cuda:0', grad_fn=<NllLoss2DBackward>)\n",
      "Loss = tensor(1.4935, device='cuda:0', grad_fn=<NllLoss2DBackward>)\n",
      "Loss = tensor(1.5017, device='cuda:0', grad_fn=<NllLoss2DBackward>)\n",
      "Loss = tensor(1.4832, device='cuda:0', grad_fn=<NllLoss2DBackward>)\n",
      "EPOCH:  55\n"
     ]
    },
    {
     "data": {
      "image/png": "[encoded data removed]",
      "text/plain": [
       "<PIL.Image.Image image mode=RGB size=60x60 at 0x7FA4F75EFD60>"
      ]
     },
     "metadata": {},
     "output_type": "display_data"
    },
    {
     "name": "stdout",
     "output_type": "stream",
     "text": [
      "Learning rate:  0.0003\n",
      "Loss = tensor(1.4815, device='cuda:0', grad_fn=<NllLoss2DBackward>)\n",
      "Loss = tensor(1.4776, device='cuda:0', grad_fn=<NllLoss2DBackward>)\n",
      "EPOCH:  56\n"
     ]
    },
    {
     "data": {
      "image/png": "[encoded data removed]",
      "text/plain": [
       "<PIL.Image.Image image mode=RGB size=60x60 at 0x7FA4F75EFD60>"
      ]
     },
     "metadata": {},
     "output_type": "display_data"
    },
    {
     "name": "stdout",
     "output_type": "stream",
     "text": [
      "Learning rate:  0.0003\n",
      "Loss = tensor(1.5015, device='cuda:0', grad_fn=<NllLoss2DBackward>)\n",
      "Loss = tensor(1.4882, device='cuda:0', grad_fn=<NllLoss2DBackward>)\n",
      "Loss = tensor(1.5018, device='cuda:0', grad_fn=<NllLoss2DBackward>)\n",
      "Loss = tensor(1.5017, device='cuda:0', grad_fn=<NllLoss2DBackward>)\n",
      "Loss = tensor(1.4824, device='cuda:0', grad_fn=<NllLoss2DBackward>)\n",
      "EPOCH:  56\n"
     ]
    },
    {
     "data": {
      "image/png": "[encoded data removed]",
      "text/plain": [
       "<PIL.Image.Image image mode=RGB size=60x60 at 0x7FA4F75EFEB0>"
      ]
     },
     "metadata": {},
     "output_type": "display_data"
    },
    {
     "name": "stdout",
     "output_type": "stream",
     "text": [
      "Learning rate:  0.0003\n",
      "Loss = tensor(1.4925, device='cuda:0', grad_fn=<NllLoss2DBackward>)\n",
      "Loss = tensor(1.4961, device='cuda:0', grad_fn=<NllLoss2DBackward>)\n",
      "Loss = tensor(1.4917, device='cuda:0', grad_fn=<NllLoss2DBackward>)\n",
      "Loss = tensor(1.5060, device='cuda:0', grad_fn=<NllLoss2DBackward>)\n",
      "Loss = tensor(1.4924, device='cuda:0', grad_fn=<NllLoss2DBackward>)\n",
      "EPOCH:  56\n"
     ]
    },
    {
     "data": {
      "image/png": "[encoded data removed]",
      "text/plain": [
       "<PIL.Image.Image image mode=RGB size=60x60 at 0x7FA4F75EFD60>"
      ]
     },
     "metadata": {},
     "output_type": "display_data"
    },
    {
     "name": "stdout",
     "output_type": "stream",
     "text": [
      "Learning rate:  0.0003\n",
      "Loss = tensor(1.4867, device='cuda:0', grad_fn=<NllLoss2DBackward>)\n",
      "Loss = tensor(1.4848, device='cuda:0', grad_fn=<NllLoss2DBackward>)\n",
      "EPOCH:  57\n"
     ]
    },
    {
     "data": {
      "image/png": "[encoded data removed]",
      "text/plain": [
       "<PIL.Image.Image image mode=RGB size=60x60 at 0x7FA4F75EFEB0>"
      ]
     },
     "metadata": {},
     "output_type": "display_data"
    },
    {
     "name": "stdout",
     "output_type": "stream",
     "text": [
      "Learning rate:  0.0003\n",
      "Loss = tensor(1.4871, device='cuda:0', grad_fn=<NllLoss2DBackward>)\n",
      "Loss = tensor(1.4939, device='cuda:0', grad_fn=<NllLoss2DBackward>)\n",
      "Loss = tensor(1.5110, device='cuda:0', grad_fn=<NllLoss2DBackward>)\n",
      "Loss = tensor(1.4874, device='cuda:0', grad_fn=<NllLoss2DBackward>)\n",
      "Loss = tensor(1.4866, device='cuda:0', grad_fn=<NllLoss2DBackward>)\n",
      "EPOCH:  57\n"
     ]
    },
    {
     "data": {
      "image/png": "[encoded data removed]",
      "text/plain": [
       "<PIL.Image.Image image mode=RGB size=60x60 at 0x7FA4F75EFEB0>"
      ]
     },
     "metadata": {},
     "output_type": "display_data"
    },
    {
     "name": "stdout",
     "output_type": "stream",
     "text": [
      "Learning rate:  0.0003\n",
      "Loss = tensor(1.4962, device='cuda:0', grad_fn=<NllLoss2DBackward>)\n",
      "Loss = tensor(1.4962, device='cuda:0', grad_fn=<NllLoss2DBackward>)\n",
      "Loss = tensor(1.4805, device='cuda:0', grad_fn=<NllLoss2DBackward>)\n",
      "Loss = tensor(1.4804, device='cuda:0', grad_fn=<NllLoss2DBackward>)\n",
      "Loss = tensor(1.5028, device='cuda:0', grad_fn=<NllLoss2DBackward>)\n",
      "EPOCH:  57\n"
     ]
    },
    {
     "data": {
      "image/png": "[encoded data removed]",
      "text/plain": [
       "<PIL.Image.Image image mode=RGB size=60x60 at 0x7FA4F75EFD60>"
      ]
     },
     "metadata": {},
     "output_type": "display_data"
    },
    {
     "name": "stdout",
     "output_type": "stream",
     "text": [
      "Learning rate:  0.0003\n",
      "Loss = tensor(1.5068, device='cuda:0', grad_fn=<NllLoss2DBackward>)\n",
      "Loss = tensor(1.4817, device='cuda:0', grad_fn=<NllLoss2DBackward>)\n",
      "EPOCH:  58\n"
     ]
    },
    {
     "data": {
      "image/png": "[encoded data removed]",
      "text/plain": [
       "<PIL.Image.Image image mode=RGB size=60x60 at 0x7FA4F75EFD60>"
      ]
     },
     "metadata": {},
     "output_type": "display_data"
    },
    {
     "name": "stdout",
     "output_type": "stream",
     "text": [
      "Learning rate:  0.0003\n",
      "Loss = tensor(1.5006, device='cuda:0', grad_fn=<NllLoss2DBackward>)\n",
      "Loss = tensor(1.4734, device='cuda:0', grad_fn=<NllLoss2DBackward>)\n",
      "Loss = tensor(1.4969, device='cuda:0', grad_fn=<NllLoss2DBackward>)\n",
      "Loss = tensor(1.5033, device='cuda:0', grad_fn=<NllLoss2DBackward>)\n",
      "Loss = tensor(1.4953, device='cuda:0', grad_fn=<NllLoss2DBackward>)\n",
      "EPOCH:  58\n"
     ]
    },
    {
     "data": {
      "image/png": "[encoded data removed]",
      "text/plain": [
       "<PIL.Image.Image image mode=RGB size=60x60 at 0x7FA4F75EFD60>"
      ]
     },
     "metadata": {},
     "output_type": "display_data"
    },
    {
     "name": "stdout",
     "output_type": "stream",
     "text": [
      "Learning rate:  0.0003\n",
      "Loss = tensor(1.5059, device='cuda:0', grad_fn=<NllLoss2DBackward>)\n",
      "Loss = tensor(1.4870, device='cuda:0', grad_fn=<NllLoss2DBackward>)\n",
      "Loss = tensor(1.5048, device='cuda:0', grad_fn=<NllLoss2DBackward>)\n",
      "Loss = tensor(1.4782, device='cuda:0', grad_fn=<NllLoss2DBackward>)\n",
      "Loss = tensor(1.4857, device='cuda:0', grad_fn=<NllLoss2DBackward>)\n",
      "EPOCH:  58\n"
     ]
    },
    {
     "data": {
      "image/png": "[encoded data removed]",
      "text/plain": [
       "<PIL.Image.Image image mode=RGB size=60x60 at 0x7FA4F75EFEB0>"
      ]
     },
     "metadata": {},
     "output_type": "display_data"
    },
    {
     "name": "stdout",
     "output_type": "stream",
     "text": [
      "Learning rate:  0.0003\n",
      "Loss = tensor(1.4974, device='cuda:0', grad_fn=<NllLoss2DBackward>)\n",
      "Loss = tensor(1.4978, device='cuda:0', grad_fn=<NllLoss2DBackward>)\n",
      "EPOCH:  59\n"
     ]
    },
    {
     "data": {
      "image/png": "[encoded data removed]",
      "text/plain": [
       "<PIL.Image.Image image mode=RGB size=60x60 at 0x7FA4F75EFD60>"
      ]
     },
     "metadata": {},
     "output_type": "display_data"
    },
    {
     "name": "stdout",
     "output_type": "stream",
     "text": [
      "Learning rate:  0.0003\n",
      "Loss = tensor(1.5160, device='cuda:0', grad_fn=<NllLoss2DBackward>)\n",
      "Loss = tensor(1.4986, device='cuda:0', grad_fn=<NllLoss2DBackward>)\n",
      "Loss = tensor(1.4981, device='cuda:0', grad_fn=<NllLoss2DBackward>)\n",
      "Loss = tensor(1.5029, device='cuda:0', grad_fn=<NllLoss2DBackward>)\n",
      "Loss = tensor(1.4895, device='cuda:0', grad_fn=<NllLoss2DBackward>)\n",
      "EPOCH:  59\n"
     ]
    },
    {
     "data": {
      "image/png": "[encoded data removed]",
      "text/plain": [
       "<PIL.Image.Image image mode=RGB size=60x60 at 0x7FA4F75EFEB0>"
      ]
     },
     "metadata": {},
     "output_type": "display_data"
    },
    {
     "name": "stdout",
     "output_type": "stream",
     "text": [
      "Learning rate:  0.0003\n",
      "Loss = tensor(1.4796, device='cuda:0', grad_fn=<NllLoss2DBackward>)\n",
      "Loss = tensor(1.4824, device='cuda:0', grad_fn=<NllLoss2DBackward>)\n",
      "Loss = tensor(1.4916, device='cuda:0', grad_fn=<NllLoss2DBackward>)\n",
      "Loss = tensor(1.4816, device='cuda:0', grad_fn=<NllLoss2DBackward>)\n",
      "Loss = tensor(1.4686, device='cuda:0', grad_fn=<NllLoss2DBackward>)\n",
      "EPOCH:  59\n"
     ]
    },
    {
     "data": {
      "image/png": "[encoded data removed]",
      "text/plain": [
       "<PIL.Image.Image image mode=RGB size=60x60 at 0x7FA4F75EFEB0>"
      ]
     },
     "metadata": {},
     "output_type": "display_data"
    },
    {
     "name": "stdout",
     "output_type": "stream",
     "text": [
      "Learning rate:  0.0003\n",
      "Loss = tensor(1.5055, device='cuda:0', grad_fn=<NllLoss2DBackward>)\n",
      "Loss = tensor(1.4826, device='cuda:0', grad_fn=<NllLoss2DBackward>)\n",
      "EPOCH:  60\n"
     ]
    },
    {
     "data": {
      "image/png": "[encoded data removed]",
      "text/plain": [
       "<PIL.Image.Image image mode=RGB size=60x60 at 0x7FA4F75EFD60>"
      ]
     },
     "metadata": {},
     "output_type": "display_data"
    },
    {
     "name": "stdout",
     "output_type": "stream",
     "text": [
      "Learning rate:  0.00015\n",
      "Loss = tensor(1.5065, device='cuda:0', grad_fn=<NllLoss2DBackward>)\n",
      "Loss = tensor(1.4928, device='cuda:0', grad_fn=<NllLoss2DBackward>)\n",
      "Loss = tensor(1.4847, device='cuda:0', grad_fn=<NllLoss2DBackward>)\n",
      "Loss = tensor(1.5127, device='cuda:0', grad_fn=<NllLoss2DBackward>)\n",
      "Loss = tensor(1.4852, device='cuda:0', grad_fn=<NllLoss2DBackward>)\n",
      "EPOCH:  60\n"
     ]
    },
    {
     "data": {
      "image/png": "[encoded data removed]",
      "text/plain": [
       "<PIL.Image.Image image mode=RGB size=60x60 at 0x7FA4F75EFD60>"
      ]
     },
     "metadata": {},
     "output_type": "display_data"
    },
    {
     "name": "stdout",
     "output_type": "stream",
     "text": [
      "Learning rate:  0.00015\n",
      "Loss = tensor(1.4783, device='cuda:0', grad_fn=<NllLoss2DBackward>)\n",
      "Loss = tensor(1.4991, device='cuda:0', grad_fn=<NllLoss2DBackward>)\n",
      "Loss = tensor(1.4973, device='cuda:0', grad_fn=<NllLoss2DBackward>)\n",
      "Loss = tensor(1.4896, device='cuda:0', grad_fn=<NllLoss2DBackward>)\n",
      "Loss = tensor(1.4981, device='cuda:0', grad_fn=<NllLoss2DBackward>)\n",
      "EPOCH:  60\n"
     ]
    },
    {
     "data": {
      "image/png": "[encoded data removed]",
      "text/plain": [
       "<PIL.Image.Image image mode=RGB size=60x60 at 0x7FA4F75EFD60>"
      ]
     },
     "metadata": {},
     "output_type": "display_data"
    },
    {
     "name": "stdout",
     "output_type": "stream",
     "text": [
      "Learning rate:  0.00015\n",
      "Loss = tensor(1.4907, device='cuda:0', grad_fn=<NllLoss2DBackward>)\n",
      "Loss = tensor(1.4922, device='cuda:0', grad_fn=<NllLoss2DBackward>)\n",
      "EPOCH:  61\n"
     ]
    },
    {
     "data": {
      "image/png": "[encoded data removed]",
      "text/plain": [
       "<PIL.Image.Image image mode=RGB size=60x60 at 0x7FA4F75EFD60>"
      ]
     },
     "metadata": {},
     "output_type": "display_data"
    },
    {
     "name": "stdout",
     "output_type": "stream",
     "text": [
      "Learning rate:  0.00015\n",
      "Loss = tensor(1.4966, device='cuda:0', grad_fn=<NllLoss2DBackward>)\n",
      "Loss = tensor(1.4885, device='cuda:0', grad_fn=<NllLoss2DBackward>)\n",
      "Loss = tensor(1.5026, device='cuda:0', grad_fn=<NllLoss2DBackward>)\n",
      "Loss = tensor(1.4819, device='cuda:0', grad_fn=<NllLoss2DBackward>)\n",
      "Loss = tensor(1.4865, device='cuda:0', grad_fn=<NllLoss2DBackward>)\n",
      "EPOCH:  61\n"
     ]
    },
    {
     "data": {
      "image/png": "[encoded data removed]",
      "text/plain": [
       "<PIL.Image.Image image mode=RGB size=60x60 at 0x7FA4F75EFD60>"
      ]
     },
     "metadata": {},
     "output_type": "display_data"
    },
    {
     "name": "stdout",
     "output_type": "stream",
     "text": [
      "Learning rate:  0.00015\n",
      "Loss = tensor(1.5003, device='cuda:0', grad_fn=<NllLoss2DBackward>)\n",
      "Loss = tensor(1.4942, device='cuda:0', grad_fn=<NllLoss2DBackward>)\n",
      "Loss = tensor(1.4783, device='cuda:0', grad_fn=<NllLoss2DBackward>)\n",
      "Loss = tensor(1.5035, device='cuda:0', grad_fn=<NllLoss2DBackward>)\n",
      "Loss = tensor(1.4820, device='cuda:0', grad_fn=<NllLoss2DBackward>)\n",
      "EPOCH:  61\n"
     ]
    },
    {
     "data": {
      "image/png": "[encoded data removed]",
      "text/plain": [
       "<PIL.Image.Image image mode=RGB size=60x60 at 0x7FA4F75EFD60>"
      ]
     },
     "metadata": {},
     "output_type": "display_data"
    },
    {
     "name": "stdout",
     "output_type": "stream",
     "text": [
      "Learning rate:  0.00015\n",
      "Loss = tensor(1.4952, device='cuda:0', grad_fn=<NllLoss2DBackward>)\n",
      "Loss = tensor(1.4995, device='cuda:0', grad_fn=<NllLoss2DBackward>)\n",
      "EPOCH:  62\n"
     ]
    },
    {
     "data": {
      "image/png": "[encoded data removed]",
      "text/plain": [
       "<PIL.Image.Image image mode=RGB size=60x60 at 0x7FA4F75EFD60>"
      ]
     },
     "metadata": {},
     "output_type": "display_data"
    },
    {
     "name": "stdout",
     "output_type": "stream",
     "text": [
      "Learning rate:  0.00015\n",
      "Loss = tensor(1.4849, device='cuda:0', grad_fn=<NllLoss2DBackward>)\n",
      "Loss = tensor(1.4843, device='cuda:0', grad_fn=<NllLoss2DBackward>)\n",
      "Loss = tensor(1.4810, device='cuda:0', grad_fn=<NllLoss2DBackward>)\n",
      "Loss = tensor(1.4922, device='cuda:0', grad_fn=<NllLoss2DBackward>)\n",
      "Loss = tensor(1.4926, device='cuda:0', grad_fn=<NllLoss2DBackward>)\n",
      "EPOCH:  62\n"
     ]
    },
    {
     "data": {
      "image/png": "[encoded data removed]",
      "text/plain": [
       "<PIL.Image.Image image mode=RGB size=60x60 at 0x7FA4F75EFD60>"
      ]
     },
     "metadata": {},
     "output_type": "display_data"
    },
    {
     "name": "stdout",
     "output_type": "stream",
     "text": [
      "Learning rate:  0.00015\n",
      "Loss = tensor(1.4898, device='cuda:0', grad_fn=<NllLoss2DBackward>)\n",
      "Loss = tensor(1.4980, device='cuda:0', grad_fn=<NllLoss2DBackward>)\n",
      "Loss = tensor(1.4968, device='cuda:0', grad_fn=<NllLoss2DBackward>)\n",
      "Loss = tensor(1.4990, device='cuda:0', grad_fn=<NllLoss2DBackward>)\n",
      "Loss = tensor(1.4947, device='cuda:0', grad_fn=<NllLoss2DBackward>)\n",
      "EPOCH:  62\n"
     ]
    },
    {
     "data": {
      "image/png": "[encoded data removed]",
      "text/plain": [
       "<PIL.Image.Image image mode=RGB size=60x60 at 0x7FA57C2071C0>"
      ]
     },
     "metadata": {},
     "output_type": "display_data"
    },
    {
     "name": "stdout",
     "output_type": "stream",
     "text": [
      "Learning rate:  0.00015\n",
      "Loss = tensor(1.4945, device='cuda:0', grad_fn=<NllLoss2DBackward>)\n",
      "Loss = tensor(1.4970, device='cuda:0', grad_fn=<NllLoss2DBackward>)\n",
      "EPOCH:  63\n"
     ]
    },
    {
     "data": {
      "image/png": "[encoded data removed]",
      "text/plain": [
       "<PIL.Image.Image image mode=RGB size=60x60 at 0x7FA4F75EFD60>"
      ]
     },
     "metadata": {},
     "output_type": "display_data"
    },
    {
     "name": "stdout",
     "output_type": "stream",
     "text": [
      "Learning rate:  0.00015\n",
      "Loss = tensor(1.4961, device='cuda:0', grad_fn=<NllLoss2DBackward>)\n",
      "Loss = tensor(1.4838, device='cuda:0', grad_fn=<NllLoss2DBackward>)\n",
      "Loss = tensor(1.4877, device='cuda:0', grad_fn=<NllLoss2DBackward>)\n",
      "Loss = tensor(1.5011, device='cuda:0', grad_fn=<NllLoss2DBackward>)\n",
      "Loss = tensor(1.5018, device='cuda:0', grad_fn=<NllLoss2DBackward>)\n",
      "EPOCH:  63\n"
     ]
    },
    {
     "data": {
      "image/png": "[encoded data removed]",
      "text/plain": [
       "<PIL.Image.Image image mode=RGB size=60x60 at 0x7FA4F75EFD60>"
      ]
     },
     "metadata": {},
     "output_type": "display_data"
    },
    {
     "name": "stdout",
     "output_type": "stream",
     "text": [
      "Learning rate:  0.00015\n",
      "Loss = tensor(1.4814, device='cuda:0', grad_fn=<NllLoss2DBackward>)\n",
      "Loss = tensor(1.4986, device='cuda:0', grad_fn=<NllLoss2DBackward>)\n",
      "Loss = tensor(1.4863, device='cuda:0', grad_fn=<NllLoss2DBackward>)\n",
      "Loss = tensor(1.4996, device='cuda:0', grad_fn=<NllLoss2DBackward>)\n",
      "Loss = tensor(1.4860, device='cuda:0', grad_fn=<NllLoss2DBackward>)\n",
      "EPOCH:  63\n"
     ]
    },
    {
     "data": {
      "image/png": "[encoded data removed]",
      "text/plain": [
       "<PIL.Image.Image image mode=RGB size=60x60 at 0x7FA4F75EFD60>"
      ]
     },
     "metadata": {},
     "output_type": "display_data"
    },
    {
     "name": "stdout",
     "output_type": "stream",
     "text": [
      "Learning rate:  0.00015\n",
      "Loss = tensor(1.4867, device='cuda:0', grad_fn=<NllLoss2DBackward>)\n",
      "Loss = tensor(1.5086, device='cuda:0', grad_fn=<NllLoss2DBackward>)\n",
      "EPOCH:  64\n"
     ]
    },
    {
     "data": {
      "image/png": "[encoded data removed]",
      "text/plain": [
       "<PIL.Image.Image image mode=RGB size=60x60 at 0x7FA4F75EFD60>"
      ]
     },
     "metadata": {},
     "output_type": "display_data"
    },
    {
     "name": "stdout",
     "output_type": "stream",
     "text": [
      "Learning rate:  0.00015\n",
      "Loss = tensor(1.4856, device='cuda:0', grad_fn=<NllLoss2DBackward>)\n",
      "Loss = tensor(1.4873, device='cuda:0', grad_fn=<NllLoss2DBackward>)\n",
      "Loss = tensor(1.4931, device='cuda:0', grad_fn=<NllLoss2DBackward>)\n",
      "Loss = tensor(1.4843, device='cuda:0', grad_fn=<NllLoss2DBackward>)\n",
      "Loss = tensor(1.4974, device='cuda:0', grad_fn=<NllLoss2DBackward>)\n",
      "EPOCH:  64\n"
     ]
    },
    {
     "data": {
      "image/png": "[encoded data removed]",
      "text/plain": [
       "<PIL.Image.Image image mode=RGB size=60x60 at 0x7FA4F75EFD60>"
      ]
     },
     "metadata": {},
     "output_type": "display_data"
    },
    {
     "name": "stdout",
     "output_type": "stream",
     "text": [
      "Learning rate:  0.00015\n",
      "Loss = tensor(1.4895, device='cuda:0', grad_fn=<NllLoss2DBackward>)\n",
      "Loss = tensor(1.4979, device='cuda:0', grad_fn=<NllLoss2DBackward>)\n",
      "Loss = tensor(1.4845, device='cuda:0', grad_fn=<NllLoss2DBackward>)\n",
      "Loss = tensor(1.4963, device='cuda:0', grad_fn=<NllLoss2DBackward>)\n",
      "Loss = tensor(1.4823, device='cuda:0', grad_fn=<NllLoss2DBackward>)\n",
      "EPOCH:  64\n"
     ]
    },
    {
     "data": {
      "image/png": "[encoded data removed]",
      "text/plain": [
       "<PIL.Image.Image image mode=RGB size=60x60 at 0x7FA4F75EFEB0>"
      ]
     },
     "metadata": {},
     "output_type": "display_data"
    },
    {
     "name": "stdout",
     "output_type": "stream",
     "text": [
      "Learning rate:  0.00015\n",
      "Loss = tensor(1.4869, device='cuda:0', grad_fn=<NllLoss2DBackward>)\n",
      "Loss = tensor(1.4803, device='cuda:0', grad_fn=<NllLoss2DBackward>)\n",
      "EPOCH:  65\n"
     ]
    },
    {
     "data": {
      "image/png": "[encoded data removed]",
      "text/plain": [
       "<PIL.Image.Image image mode=RGB size=60x60 at 0x7FA4F75EFD60>"
      ]
     },
     "metadata": {},
     "output_type": "display_data"
    },
    {
     "name": "stdout",
     "output_type": "stream",
     "text": [
      "Learning rate:  0.00015\n",
      "Loss = tensor(1.4829, device='cuda:0', grad_fn=<NllLoss2DBackward>)\n",
      "Loss = tensor(1.5127, device='cuda:0', grad_fn=<NllLoss2DBackward>)\n",
      "Loss = tensor(1.4811, device='cuda:0', grad_fn=<NllLoss2DBackward>)\n",
      "Loss = tensor(1.4958, device='cuda:0', grad_fn=<NllLoss2DBackward>)\n",
      "Loss = tensor(1.4890, device='cuda:0', grad_fn=<NllLoss2DBackward>)\n",
      "EPOCH:  65\n"
     ]
    },
    {
     "data": {
      "image/png": "[encoded data removed]",
      "text/plain": [
       "<PIL.Image.Image image mode=RGB size=60x60 at 0x7FA4F75EFEB0>"
      ]
     },
     "metadata": {},
     "output_type": "display_data"
    },
    {
     "name": "stdout",
     "output_type": "stream",
     "text": [
      "Learning rate:  0.00015\n",
      "Loss = tensor(1.5009, device='cuda:0', grad_fn=<NllLoss2DBackward>)\n",
      "Loss = tensor(1.4857, device='cuda:0', grad_fn=<NllLoss2DBackward>)\n",
      "Loss = tensor(1.4839, device='cuda:0', grad_fn=<NllLoss2DBackward>)\n",
      "Loss = tensor(1.5069, device='cuda:0', grad_fn=<NllLoss2DBackward>)\n",
      "Loss = tensor(1.5057, device='cuda:0', grad_fn=<NllLoss2DBackward>)\n",
      "EPOCH:  65\n"
     ]
    },
    {
     "data": {
      "image/png": "[encoded data removed]",
      "text/plain": [
       "<PIL.Image.Image image mode=RGB size=60x60 at 0x7FA4F75EFD60>"
      ]
     },
     "metadata": {},
     "output_type": "display_data"
    },
    {
     "name": "stdout",
     "output_type": "stream",
     "text": [
      "Learning rate:  0.00015\n",
      "Loss = tensor(1.4861, device='cuda:0', grad_fn=<NllLoss2DBackward>)\n",
      "Loss = tensor(1.5013, device='cuda:0', grad_fn=<NllLoss2DBackward>)\n",
      "EPOCH:  66\n"
     ]
    },
    {
     "data": {
      "image/png": "[encoded data removed]",
      "text/plain": [
       "<PIL.Image.Image image mode=RGB size=60x60 at 0x7FA4F75EFD60>"
      ]
     },
     "metadata": {},
     "output_type": "display_data"
    },
    {
     "name": "stdout",
     "output_type": "stream",
     "text": [
      "Learning rate:  0.00015\n",
      "Loss = tensor(1.4881, device='cuda:0', grad_fn=<NllLoss2DBackward>)\n",
      "Loss = tensor(1.4942, device='cuda:0', grad_fn=<NllLoss2DBackward>)\n",
      "Loss = tensor(1.4777, device='cuda:0', grad_fn=<NllLoss2DBackward>)\n",
      "Loss = tensor(1.4972, device='cuda:0', grad_fn=<NllLoss2DBackward>)\n",
      "Loss = tensor(1.5014, device='cuda:0', grad_fn=<NllLoss2DBackward>)\n",
      "EPOCH:  66\n"
     ]
    },
    {
     "data": {
      "image/png": "[encoded data removed]",
      "text/plain": [
       "<PIL.Image.Image image mode=RGB size=60x60 at 0x7FA4F75EFD60>"
      ]
     },
     "metadata": {},
     "output_type": "display_data"
    },
    {
     "name": "stdout",
     "output_type": "stream",
     "text": [
      "Learning rate:  0.00015\n",
      "Loss = tensor(1.4872, device='cuda:0', grad_fn=<NllLoss2DBackward>)\n",
      "Loss = tensor(1.4895, device='cuda:0', grad_fn=<NllLoss2DBackward>)\n",
      "Loss = tensor(1.4806, device='cuda:0', grad_fn=<NllLoss2DBackward>)\n",
      "Loss = tensor(1.4958, device='cuda:0', grad_fn=<NllLoss2DBackward>)\n",
      "Loss = tensor(1.4878, device='cuda:0', grad_fn=<NllLoss2DBackward>)\n",
      "EPOCH:  66\n"
     ]
    },
    {
     "data": {
      "image/png": "[encoded data removed]",
      "text/plain": [
       "<PIL.Image.Image image mode=RGB size=60x60 at 0x7FA4F75EFEB0>"
      ]
     },
     "metadata": {},
     "output_type": "display_data"
    },
    {
     "name": "stdout",
     "output_type": "stream",
     "text": [
      "Learning rate:  0.00015\n",
      "Loss = tensor(1.5019, device='cuda:0', grad_fn=<NllLoss2DBackward>)\n",
      "Loss = tensor(1.4822, device='cuda:0', grad_fn=<NllLoss2DBackward>)\n",
      "EPOCH:  67\n"
     ]
    },
    {
     "data": {
      "image/png": "[encoded data removed]",
      "text/plain": [
       "<PIL.Image.Image image mode=RGB size=60x60 at 0x7FA4F75EFEB0>"
      ]
     },
     "metadata": {},
     "output_type": "display_data"
    },
    {
     "name": "stdout",
     "output_type": "stream",
     "text": [
      "Learning rate:  0.00015\n",
      "Loss = tensor(1.5145, device='cuda:0', grad_fn=<NllLoss2DBackward>)\n",
      "Loss = tensor(1.4931, device='cuda:0', grad_fn=<NllLoss2DBackward>)\n",
      "Loss = tensor(1.5037, device='cuda:0', grad_fn=<NllLoss2DBackward>)\n",
      "Loss = tensor(1.4972, device='cuda:0', grad_fn=<NllLoss2DBackward>)\n",
      "Loss = tensor(1.4832, device='cuda:0', grad_fn=<NllLoss2DBackward>)\n",
      "EPOCH:  67\n"
     ]
    },
    {
     "data": {
      "image/png": "[encoded data removed]",
      "text/plain": [
       "<PIL.Image.Image image mode=RGB size=60x60 at 0x7FA4F75EFD60>"
      ]
     },
     "metadata": {},
     "output_type": "display_data"
    },
    {
     "name": "stdout",
     "output_type": "stream",
     "text": [
      "Learning rate:  0.00015\n",
      "Loss = tensor(1.4819, device='cuda:0', grad_fn=<NllLoss2DBackward>)\n",
      "Loss = tensor(1.4802, device='cuda:0', grad_fn=<NllLoss2DBackward>)\n",
      "Loss = tensor(1.4839, device='cuda:0', grad_fn=<NllLoss2DBackward>)\n",
      "Loss = tensor(1.4941, device='cuda:0', grad_fn=<NllLoss2DBackward>)\n",
      "Loss = tensor(1.4898, device='cuda:0', grad_fn=<NllLoss2DBackward>)\n",
      "EPOCH:  67\n"
     ]
    },
    {
     "data": {
      "image/png": "[encoded data removed]",
      "text/plain": [
       "<PIL.Image.Image image mode=RGB size=60x60 at 0x7FA4F75EFEB0>"
      ]
     },
     "metadata": {},
     "output_type": "display_data"
    },
    {
     "name": "stdout",
     "output_type": "stream",
     "text": [
      "Learning rate:  0.00015\n",
      "Loss = tensor(1.4922, device='cuda:0', grad_fn=<NllLoss2DBackward>)\n",
      "Loss = tensor(1.4974, device='cuda:0', grad_fn=<NllLoss2DBackward>)\n",
      "EPOCH:  68\n"
     ]
    },
    {
     "data": {
      "image/png": "[encoded data removed]",
      "text/plain": [
       "<PIL.Image.Image image mode=RGB size=60x60 at 0x7FA4F75EFD60>"
      ]
     },
     "metadata": {},
     "output_type": "display_data"
    },
    {
     "name": "stdout",
     "output_type": "stream",
     "text": [
      "Learning rate:  0.00015\n",
      "Loss = tensor(1.4855, device='cuda:0', grad_fn=<NllLoss2DBackward>)\n",
      "Loss = tensor(1.4895, device='cuda:0', grad_fn=<NllLoss2DBackward>)\n",
      "Loss = tensor(1.4883, device='cuda:0', grad_fn=<NllLoss2DBackward>)\n",
      "Loss = tensor(1.4892, device='cuda:0', grad_fn=<NllLoss2DBackward>)\n",
      "Loss = tensor(1.5068, device='cuda:0', grad_fn=<NllLoss2DBackward>)\n",
      "EPOCH:  68\n"
     ]
    },
    {
     "data": {
      "image/png": "[encoded data removed]",
      "text/plain": [
       "<PIL.Image.Image image mode=RGB size=60x60 at 0x7FA4EDA78310>"
      ]
     },
     "metadata": {},
     "output_type": "display_data"
    },
    {
     "name": "stdout",
     "output_type": "stream",
     "text": [
      "Learning rate:  0.00015\n",
      "Loss = tensor(1.4819, device='cuda:0', grad_fn=<NllLoss2DBackward>)\n",
      "Loss = tensor(1.4832, device='cuda:0', grad_fn=<NllLoss2DBackward>)\n",
      "Loss = tensor(1.4969, device='cuda:0', grad_fn=<NllLoss2DBackward>)\n",
      "Loss = tensor(1.5031, device='cuda:0', grad_fn=<NllLoss2DBackward>)\n",
      "Loss = tensor(1.4840, device='cuda:0', grad_fn=<NllLoss2DBackward>)\n",
      "EPOCH:  68\n"
     ]
    },
    {
     "data": {
      "image/png": "[encoded data removed]",
      "text/plain": [
       "<PIL.Image.Image image mode=RGB size=60x60 at 0x7FA4EDA78640>"
      ]
     },
     "metadata": {},
     "output_type": "display_data"
    },
    {
     "name": "stdout",
     "output_type": "stream",
     "text": [
      "Learning rate:  0.00015\n",
      "Loss = tensor(1.4939, device='cuda:0', grad_fn=<NllLoss2DBackward>)\n",
      "Loss = tensor(1.4954, device='cuda:0', grad_fn=<NllLoss2DBackward>)\n",
      "EPOCH:  69\n"
     ]
    },
    {
     "data": {
      "image/png": "[encoded data removed]",
      "text/plain": [
       "<PIL.Image.Image image mode=RGB size=60x60 at 0x7FA4EDA786A0>"
      ]
     },
     "metadata": {},
     "output_type": "display_data"
    },
    {
     "name": "stdout",
     "output_type": "stream",
     "text": [
      "Learning rate:  0.00015\n",
      "Loss = tensor(1.4847, device='cuda:0', grad_fn=<NllLoss2DBackward>)\n",
      "Loss = tensor(1.5185, device='cuda:0', grad_fn=<NllLoss2DBackward>)\n",
      "Loss = tensor(1.4941, device='cuda:0', grad_fn=<NllLoss2DBackward>)\n",
      "Loss = tensor(1.4830, device='cuda:0', grad_fn=<NllLoss2DBackward>)\n",
      "Loss = tensor(1.4905, device='cuda:0', grad_fn=<NllLoss2DBackward>)\n",
      "EPOCH:  69\n"
     ]
    },
    {
     "data": {
      "image/png": "[encoded data removed]",
      "text/plain": [
       "<PIL.Image.Image image mode=RGB size=60x60 at 0x7FA4EDA78640>"
      ]
     },
     "metadata": {},
     "output_type": "display_data"
    },
    {
     "name": "stdout",
     "output_type": "stream",
     "text": [
      "Learning rate:  0.00015\n",
      "Loss = tensor(1.4921, device='cuda:0', grad_fn=<NllLoss2DBackward>)\n",
      "Loss = tensor(1.4839, device='cuda:0', grad_fn=<NllLoss2DBackward>)\n",
      "Loss = tensor(1.4908, device='cuda:0', grad_fn=<NllLoss2DBackward>)\n",
      "Loss = tensor(1.4879, device='cuda:0', grad_fn=<NllLoss2DBackward>)\n",
      "Loss = tensor(1.4899, device='cuda:0', grad_fn=<NllLoss2DBackward>)\n",
      "EPOCH:  69\n"
     ]
    },
    {
     "data": {
      "image/png": "[encoded data removed]",
      "text/plain": [
       "<PIL.Image.Image image mode=RGB size=60x60 at 0x7FA4EDA78610>"
      ]
     },
     "metadata": {},
     "output_type": "display_data"
    },
    {
     "name": "stdout",
     "output_type": "stream",
     "text": [
      "Learning rate:  0.00015\n",
      "Loss = tensor(1.4867, device='cuda:0', grad_fn=<NllLoss2DBackward>)\n",
      "Loss = tensor(1.5052, device='cuda:0', grad_fn=<NllLoss2DBackward>)\n",
      "EPOCH:  70\n"
     ]
    },
    {
     "data": {
      "image/png": "[encoded data removed]",
      "text/plain": [
       "<PIL.Image.Image image mode=RGB size=60x60 at 0x7FA4EDA786A0>"
      ]
     },
     "metadata": {},
     "output_type": "display_data"
    },
    {
     "name": "stdout",
     "output_type": "stream",
     "text": [
      "Learning rate:  0.00015\n",
      "Loss = tensor(1.5128, device='cuda:0', grad_fn=<NllLoss2DBackward>)\n",
      "Loss = tensor(1.4991, device='cuda:0', grad_fn=<NllLoss2DBackward>)\n",
      "Loss = tensor(1.4799, device='cuda:0', grad_fn=<NllLoss2DBackward>)\n",
      "Loss = tensor(1.4764, device='cuda:0', grad_fn=<NllLoss2DBackward>)\n",
      "Loss = tensor(1.5051, device='cuda:0', grad_fn=<NllLoss2DBackward>)\n",
      "EPOCH:  70\n"
     ]
    },
    {
     "data": {
      "image/png": "[encoded data removed]",
      "text/plain": [
       "<PIL.Image.Image image mode=RGB size=60x60 at 0x7FA4EDA78580>"
      ]
     },
     "metadata": {},
     "output_type": "display_data"
    },
    {
     "name": "stdout",
     "output_type": "stream",
     "text": [
      "Learning rate:  0.00015\n",
      "Loss = tensor(1.4889, device='cuda:0', grad_fn=<NllLoss2DBackward>)\n",
      "Loss = tensor(1.4814, device='cuda:0', grad_fn=<NllLoss2DBackward>)\n",
      "Loss = tensor(1.4977, device='cuda:0', grad_fn=<NllLoss2DBackward>)\n",
      "Loss = tensor(1.4796, device='cuda:0', grad_fn=<NllLoss2DBackward>)\n",
      "Loss = tensor(1.4818, device='cuda:0', grad_fn=<NllLoss2DBackward>)\n",
      "EPOCH:  70\n"
     ]
    },
    {
     "data": {
      "image/png": "[encoded data removed]",
      "text/plain": [
       "<PIL.Image.Image image mode=RGB size=60x60 at 0x7FA4EDA78640>"
      ]
     },
     "metadata": {},
     "output_type": "display_data"
    },
    {
     "name": "stdout",
     "output_type": "stream",
     "text": [
      "Learning rate:  0.00015\n",
      "Loss = tensor(1.4841, device='cuda:0', grad_fn=<NllLoss2DBackward>)\n",
      "Loss = tensor(1.5098, device='cuda:0', grad_fn=<NllLoss2DBackward>)\n",
      "EPOCH:  71\n"
     ]
    },
    {
     "data": {
      "image/png": "[encoded data removed]",
      "text/plain": [
       "<PIL.Image.Image image mode=RGB size=60x60 at 0x7FA4EDA78310>"
      ]
     },
     "metadata": {},
     "output_type": "display_data"
    },
    {
     "name": "stdout",
     "output_type": "stream",
     "text": [
      "Learning rate:  0.00015\n",
      "Loss = tensor(1.4860, device='cuda:0', grad_fn=<NllLoss2DBackward>)\n",
      "Loss = tensor(1.4836, device='cuda:0', grad_fn=<NllLoss2DBackward>)\n",
      "Loss = tensor(1.5023, device='cuda:0', grad_fn=<NllLoss2DBackward>)\n",
      "Loss = tensor(1.4877, device='cuda:0', grad_fn=<NllLoss2DBackward>)\n",
      "Loss = tensor(1.4892, device='cuda:0', grad_fn=<NllLoss2DBackward>)\n",
      "EPOCH:  71\n"
     ]
    },
    {
     "data": {
      "image/png": "[encoded data removed]",
      "text/plain": [
       "<PIL.Image.Image image mode=RGB size=60x60 at 0x7FA4EDA782B0>"
      ]
     },
     "metadata": {},
     "output_type": "display_data"
    },
    {
     "name": "stdout",
     "output_type": "stream",
     "text": [
      "Learning rate:  0.00015\n",
      "Loss = tensor(1.4907, device='cuda:0', grad_fn=<NllLoss2DBackward>)\n",
      "Loss = tensor(1.4942, device='cuda:0', grad_fn=<NllLoss2DBackward>)\n",
      "Loss = tensor(1.5063, device='cuda:0', grad_fn=<NllLoss2DBackward>)\n",
      "Loss = tensor(1.4697, device='cuda:0', grad_fn=<NllLoss2DBackward>)\n",
      "Loss = tensor(1.4843, device='cuda:0', grad_fn=<NllLoss2DBackward>)\n",
      "EPOCH:  71\n"
     ]
    },
    {
     "data": {
      "image/png": "[encoded data removed]",
      "text/plain": [
       "<PIL.Image.Image image mode=RGB size=60x60 at 0x7FA4EDA784F0>"
      ]
     },
     "metadata": {},
     "output_type": "display_data"
    },
    {
     "name": "stdout",
     "output_type": "stream",
     "text": [
      "Learning rate:  0.00015\n",
      "Loss = tensor(1.4913, device='cuda:0', grad_fn=<NllLoss2DBackward>)\n",
      "Loss = tensor(1.5034, device='cuda:0', grad_fn=<NllLoss2DBackward>)\n",
      "EPOCH:  72\n"
     ]
    },
    {
     "data": {
      "image/png": "[encoded data removed]",
      "text/plain": [
       "<PIL.Image.Image image mode=RGB size=60x60 at 0x7FA4F7B07400>"
      ]
     },
     "metadata": {},
     "output_type": "display_data"
    },
    {
     "name": "stdout",
     "output_type": "stream",
     "text": [
      "Learning rate:  0.00015\n",
      "Loss = tensor(1.4954, device='cuda:0', grad_fn=<NllLoss2DBackward>)\n",
      "Loss = tensor(1.4871, device='cuda:0', grad_fn=<NllLoss2DBackward>)\n",
      "Loss = tensor(1.4926, device='cuda:0', grad_fn=<NllLoss2DBackward>)\n",
      "Loss = tensor(1.4993, device='cuda:0', grad_fn=<NllLoss2DBackward>)\n",
      "Loss = tensor(1.4854, device='cuda:0', grad_fn=<NllLoss2DBackward>)\n",
      "EPOCH:  72\n"
     ]
    },
    {
     "data": {
      "image/png": "[encoded data removed]",
      "text/plain": [
       "<PIL.Image.Image image mode=RGB size=60x60 at 0x7FA4F7B07520>"
      ]
     },
     "metadata": {},
     "output_type": "display_data"
    },
    {
     "name": "stdout",
     "output_type": "stream",
     "text": [
      "Learning rate:  0.00015\n",
      "Loss = tensor(1.4728, device='cuda:0', grad_fn=<NllLoss2DBackward>)\n",
      "Loss = tensor(1.5005, device='cuda:0', grad_fn=<NllLoss2DBackward>)\n",
      "Loss = tensor(1.4867, device='cuda:0', grad_fn=<NllLoss2DBackward>)\n",
      "Loss = tensor(1.4965, device='cuda:0', grad_fn=<NllLoss2DBackward>)\n",
      "Loss = tensor(1.4950, device='cuda:0', grad_fn=<NllLoss2DBackward>)\n",
      "EPOCH:  72\n"
     ]
    },
    {
     "data": {
      "image/png": "[encoded data removed]",
      "text/plain": [
       "<PIL.Image.Image image mode=RGB size=60x60 at 0x7FA4F7B07400>"
      ]
     },
     "metadata": {},
     "output_type": "display_data"
    },
    {
     "name": "stdout",
     "output_type": "stream",
     "text": [
      "Learning rate:  0.00015\n",
      "Loss = tensor(1.4857, device='cuda:0', grad_fn=<NllLoss2DBackward>)\n",
      "Loss = tensor(1.4962, device='cuda:0', grad_fn=<NllLoss2DBackward>)\n",
      "EPOCH:  73\n"
     ]
    },
    {
     "data": {
      "image/png": "[encoded data removed]",
      "text/plain": [
       "<PIL.Image.Image image mode=RGB size=60x60 at 0x7FA4EDA78730>"
      ]
     },
     "metadata": {},
     "output_type": "display_data"
    },
    {
     "name": "stdout",
     "output_type": "stream",
     "text": [
      "Learning rate:  0.00015\n",
      "Loss = tensor(1.5056, device='cuda:0', grad_fn=<NllLoss2DBackward>)\n",
      "Loss = tensor(1.4828, device='cuda:0', grad_fn=<NllLoss2DBackward>)\n",
      "Loss = tensor(1.4877, device='cuda:0', grad_fn=<NllLoss2DBackward>)\n",
      "Loss = tensor(1.4882, device='cuda:0', grad_fn=<NllLoss2DBackward>)\n",
      "Loss = tensor(1.4939, device='cuda:0', grad_fn=<NllLoss2DBackward>)\n",
      "EPOCH:  73\n"
     ]
    },
    {
     "data": {
      "image/png": "[encoded data removed]",
      "text/plain": [
       "<PIL.Image.Image image mode=RGB size=60x60 at 0x7FA4EDA78730>"
      ]
     },
     "metadata": {},
     "output_type": "display_data"
    },
    {
     "name": "stdout",
     "output_type": "stream",
     "text": [
      "Learning rate:  0.00015\n",
      "Loss = tensor(1.4858, device='cuda:0', grad_fn=<NllLoss2DBackward>)\n",
      "Loss = tensor(1.4854, device='cuda:0', grad_fn=<NllLoss2DBackward>)\n",
      "Loss = tensor(1.4819, device='cuda:0', grad_fn=<NllLoss2DBackward>)\n",
      "Loss = tensor(1.5081, device='cuda:0', grad_fn=<NllLoss2DBackward>)\n",
      "Loss = tensor(1.4777, device='cuda:0', grad_fn=<NllLoss2DBackward>)\n",
      "EPOCH:  73\n"
     ]
    },
    {
     "data": {
      "image/png": "[encoded data removed]",
      "text/plain": [
       "<PIL.Image.Image image mode=RGB size=60x60 at 0x7FA4EDA78610>"
      ]
     },
     "metadata": {},
     "output_type": "display_data"
    },
    {
     "name": "stdout",
     "output_type": "stream",
     "text": [
      "Learning rate:  0.00015\n",
      "Loss = tensor(1.5105, device='cuda:0', grad_fn=<NllLoss2DBackward>)\n",
      "Loss = tensor(1.4960, device='cuda:0', grad_fn=<NllLoss2DBackward>)\n",
      "EPOCH:  74\n"
     ]
    },
    {
     "data": {
      "image/png": "[encoded data removed]",
      "text/plain": [
       "<PIL.Image.Image image mode=RGB size=60x60 at 0x7FA4EDA783D0>"
      ]
     },
     "metadata": {},
     "output_type": "display_data"
    },
    {
     "name": "stdout",
     "output_type": "stream",
     "text": [
      "Learning rate:  0.00015\n",
      "Loss = tensor(1.4818, device='cuda:0', grad_fn=<NllLoss2DBackward>)\n",
      "Loss = tensor(1.4873, device='cuda:0', grad_fn=<NllLoss2DBackward>)\n",
      "Loss = tensor(1.4908, device='cuda:0', grad_fn=<NllLoss2DBackward>)\n",
      "Loss = tensor(1.4851, device='cuda:0', grad_fn=<NllLoss2DBackward>)\n",
      "Loss = tensor(1.4872, device='cuda:0', grad_fn=<NllLoss2DBackward>)\n",
      "EPOCH:  74\n"
     ]
    },
    {
     "data": {
      "image/png": "[encoded data removed]",
      "text/plain": [
       "<PIL.Image.Image image mode=RGB size=60x60 at 0x7FA4EDA784C0>"
      ]
     },
     "metadata": {},
     "output_type": "display_data"
    },
    {
     "name": "stdout",
     "output_type": "stream",
     "text": [
      "Learning rate:  0.00015\n",
      "Loss = tensor(1.5169, device='cuda:0', grad_fn=<NllLoss2DBackward>)\n",
      "Loss = tensor(1.4921, device='cuda:0', grad_fn=<NllLoss2DBackward>)\n",
      "Loss = tensor(1.4950, device='cuda:0', grad_fn=<NllLoss2DBackward>)\n",
      "Loss = tensor(1.4881, device='cuda:0', grad_fn=<NllLoss2DBackward>)\n",
      "Loss = tensor(1.4946, device='cuda:0', grad_fn=<NllLoss2DBackward>)\n",
      "EPOCH:  74\n"
     ]
    },
    {
     "data": {
      "image/png": "[encoded data removed]",
      "text/plain": [
       "<PIL.Image.Image image mode=RGB size=60x60 at 0x7FA4EDA784C0>"
      ]
     },
     "metadata": {},
     "output_type": "display_data"
    },
    {
     "name": "stdout",
     "output_type": "stream",
     "text": [
      "Learning rate:  0.00015\n",
      "Loss = tensor(1.4845, device='cuda:0', grad_fn=<NllLoss2DBackward>)\n",
      "Loss = tensor(1.4828, device='cuda:0', grad_fn=<NllLoss2DBackward>)\n",
      "EPOCH:  75\n"
     ]
    },
    {
     "data": {
      "image/png": "[encoded data removed]",
      "text/plain": [
       "<PIL.Image.Image image mode=RGB size=60x60 at 0x7FA4EDA785E0>"
      ]
     },
     "metadata": {},
     "output_type": "display_data"
    },
    {
     "name": "stdout",
     "output_type": "stream",
     "text": [
      "Learning rate:  0.00015\n",
      "Loss = tensor(1.5024, device='cuda:0', grad_fn=<NllLoss2DBackward>)\n",
      "Loss = tensor(1.5033, device='cuda:0', grad_fn=<NllLoss2DBackward>)\n",
      "Loss = tensor(1.4893, device='cuda:0', grad_fn=<NllLoss2DBackward>)\n",
      "Loss = tensor(1.4789, device='cuda:0', grad_fn=<NllLoss2DBackward>)\n",
      "Loss = tensor(1.4995, device='cuda:0', grad_fn=<NllLoss2DBackward>)\n",
      "EPOCH:  75\n"
     ]
    },
    {
     "data": {
      "image/png": "[encoded data removed]",
      "text/plain": [
       "<PIL.Image.Image image mode=RGB size=60x60 at 0x7FA4EDA78550>"
      ]
     },
     "metadata": {},
     "output_type": "display_data"
    },
    {
     "name": "stdout",
     "output_type": "stream",
     "text": [
      "Learning rate:  0.00015\n",
      "Loss = tensor(1.4893, device='cuda:0', grad_fn=<NllLoss2DBackward>)\n",
      "Loss = tensor(1.4936, device='cuda:0', grad_fn=<NllLoss2DBackward>)\n",
      "Loss = tensor(1.4837, device='cuda:0', grad_fn=<NllLoss2DBackward>)\n",
      "Loss = tensor(1.4912, device='cuda:0', grad_fn=<NllLoss2DBackward>)\n",
      "Loss = tensor(1.4913, device='cuda:0', grad_fn=<NllLoss2DBackward>)\n",
      "EPOCH:  75\n"
     ]
    },
    {
     "data": {
      "image/png": "[encoded data removed]",
      "text/plain": [
       "<PIL.Image.Image image mode=RGB size=60x60 at 0x7FA4EDA78340>"
      ]
     },
     "metadata": {},
     "output_type": "display_data"
    },
    {
     "name": "stdout",
     "output_type": "stream",
     "text": [
      "Learning rate:  0.00015\n",
      "Loss = tensor(1.4850, device='cuda:0', grad_fn=<NllLoss2DBackward>)\n",
      "Loss = tensor(1.5085, device='cuda:0', grad_fn=<NllLoss2DBackward>)\n",
      "EPOCH:  76\n"
     ]
    },
    {
     "data": {
      "image/png": "[encoded data removed]",
      "text/plain": [
       "<PIL.Image.Image image mode=RGB size=60x60 at 0x7FA4EDA786A0>"
      ]
     },
     "metadata": {},
     "output_type": "display_data"
    },
    {
     "name": "stdout",
     "output_type": "stream",
     "text": [
      "Learning rate:  0.00015\n",
      "Loss = tensor(1.4748, device='cuda:0', grad_fn=<NllLoss2DBackward>)\n",
      "Loss = tensor(1.4930, device='cuda:0', grad_fn=<NllLoss2DBackward>)\n",
      "Loss = tensor(1.4893, device='cuda:0', grad_fn=<NllLoss2DBackward>)\n",
      "Loss = tensor(1.4843, device='cuda:0', grad_fn=<NllLoss2DBackward>)\n",
      "Loss = tensor(1.4943, device='cuda:0', grad_fn=<NllLoss2DBackward>)\n",
      "EPOCH:  76\n"
     ]
    },
    {
     "data": {
      "image/png": "[encoded data removed]",
      "text/plain": [
       "<PIL.Image.Image image mode=RGB size=60x60 at 0x7FA4EDA785E0>"
      ]
     },
     "metadata": {},
     "output_type": "display_data"
    },
    {
     "name": "stdout",
     "output_type": "stream",
     "text": [
      "Learning rate:  0.00015\n",
      "Loss = tensor(1.4831, device='cuda:0', grad_fn=<NllLoss2DBackward>)\n",
      "Loss = tensor(1.4965, device='cuda:0', grad_fn=<NllLoss2DBackward>)\n",
      "Loss = tensor(1.4995, device='cuda:0', grad_fn=<NllLoss2DBackward>)\n",
      "Loss = tensor(1.4964, device='cuda:0', grad_fn=<NllLoss2DBackward>)\n",
      "Loss = tensor(1.4756, device='cuda:0', grad_fn=<NllLoss2DBackward>)\n",
      "EPOCH:  76\n"
     ]
    },
    {
     "data": {
      "image/png": "[encoded data removed]",
      "text/plain": [
       "<PIL.Image.Image image mode=RGB size=60x60 at 0x7FA4EDA787F0>"
      ]
     },
     "metadata": {},
     "output_type": "display_data"
    },
    {
     "name": "stdout",
     "output_type": "stream",
     "text": [
      "Learning rate:  0.00015\n",
      "Loss = tensor(1.4970, device='cuda:0', grad_fn=<NllLoss2DBackward>)\n",
      "Loss = tensor(1.4940, device='cuda:0', grad_fn=<NllLoss2DBackward>)\n",
      "EPOCH:  77\n"
     ]
    },
    {
     "data": {
      "image/png": "[encoded data removed]",
      "text/plain": [
       "<PIL.Image.Image image mode=RGB size=60x60 at 0x7FA4EDA78610>"
      ]
     },
     "metadata": {},
     "output_type": "display_data"
    },
    {
     "name": "stdout",
     "output_type": "stream",
     "text": [
      "Learning rate:  0.00015\n",
      "Loss = tensor(1.4898, device='cuda:0', grad_fn=<NllLoss2DBackward>)\n",
      "Loss = tensor(1.4981, device='cuda:0', grad_fn=<NllLoss2DBackward>)\n",
      "Loss = tensor(1.4931, device='cuda:0', grad_fn=<NllLoss2DBackward>)\n",
      "Loss = tensor(1.4739, device='cuda:0', grad_fn=<NllLoss2DBackward>)\n",
      "Loss = tensor(1.5019, device='cuda:0', grad_fn=<NllLoss2DBackward>)\n",
      "EPOCH:  77\n"
     ]
    },
    {
     "data": {
      "image/png": "[encoded data removed]",
      "text/plain": [
       "<PIL.Image.Image image mode=RGB size=60x60 at 0x7FA4EDA787C0>"
      ]
     },
     "metadata": {},
     "output_type": "display_data"
    },
    {
     "name": "stdout",
     "output_type": "stream",
     "text": [
      "Learning rate:  0.00015\n",
      "Loss = tensor(1.4859, device='cuda:0', grad_fn=<NllLoss2DBackward>)\n",
      "Loss = tensor(1.5114, device='cuda:0', grad_fn=<NllLoss2DBackward>)\n",
      "Loss = tensor(1.4836, device='cuda:0', grad_fn=<NllLoss2DBackward>)\n",
      "Loss = tensor(1.4878, device='cuda:0', grad_fn=<NllLoss2DBackward>)\n",
      "Loss = tensor(1.4797, device='cuda:0', grad_fn=<NllLoss2DBackward>)\n",
      "EPOCH:  77\n"
     ]
    },
    {
     "data": {
      "image/png": "[encoded data removed]",
      "text/plain": [
       "<PIL.Image.Image image mode=RGB size=60x60 at 0x7FA4EDA78760>"
      ]
     },
     "metadata": {},
     "output_type": "display_data"
    },
    {
     "name": "stdout",
     "output_type": "stream",
     "text": [
      "Learning rate:  0.00015\n",
      "Loss = tensor(1.4966, device='cuda:0', grad_fn=<NllLoss2DBackward>)\n",
      "Loss = tensor(1.4817, device='cuda:0', grad_fn=<NllLoss2DBackward>)\n",
      "EPOCH:  78\n"
     ]
    },
    {
     "data": {
      "image/png": "[encoded data removed]",
      "text/plain": [
       "<PIL.Image.Image image mode=RGB size=60x60 at 0x7FA4F7B07400>"
      ]
     },
     "metadata": {},
     "output_type": "display_data"
    },
    {
     "name": "stdout",
     "output_type": "stream",
     "text": [
      "Learning rate:  0.00015\n",
      "Loss = tensor(1.4915, device='cuda:0', grad_fn=<NllLoss2DBackward>)\n",
      "Loss = tensor(1.4945, device='cuda:0', grad_fn=<NllLoss2DBackward>)\n",
      "Loss = tensor(1.4863, device='cuda:0', grad_fn=<NllLoss2DBackward>)\n",
      "Loss = tensor(1.4887, device='cuda:0', grad_fn=<NllLoss2DBackward>)\n",
      "Loss = tensor(1.4932, device='cuda:0', grad_fn=<NllLoss2DBackward>)\n",
      "EPOCH:  78\n"
     ]
    },
    {
     "data": {
      "image/png": "[encoded data removed]",
      "text/plain": [
       "<PIL.Image.Image image mode=RGB size=60x60 at 0x7FA4EDA5FE80>"
      ]
     },
     "metadata": {},
     "output_type": "display_data"
    },
    {
     "name": "stdout",
     "output_type": "stream",
     "text": [
      "Learning rate:  0.00015\n",
      "Loss = tensor(1.4850, device='cuda:0', grad_fn=<NllLoss2DBackward>)\n",
      "Loss = tensor(1.5077, device='cuda:0', grad_fn=<NllLoss2DBackward>)\n",
      "Loss = tensor(1.5107, device='cuda:0', grad_fn=<NllLoss2DBackward>)\n",
      "Loss = tensor(1.4856, device='cuda:0', grad_fn=<NllLoss2DBackward>)\n",
      "Loss = tensor(1.4842, device='cuda:0', grad_fn=<NllLoss2DBackward>)\n",
      "EPOCH:  78\n"
     ]
    },
    {
     "data": {
      "image/png": "[encoded data removed]",
      "text/plain": [
       "<PIL.Image.Image image mode=RGB size=60x60 at 0x7FA4F75EFEB0>"
      ]
     },
     "metadata": {},
     "output_type": "display_data"
    },
    {
     "name": "stdout",
     "output_type": "stream",
     "text": [
      "Learning rate:  0.00015\n",
      "Loss = tensor(1.4878, device='cuda:0', grad_fn=<NllLoss2DBackward>)\n",
      "Loss = tensor(1.5030, device='cuda:0', grad_fn=<NllLoss2DBackward>)\n",
      "EPOCH:  79\n"
     ]
    },
    {
     "data": {
      "image/png": "[encoded data removed]",
      "text/plain": [
       "<PIL.Image.Image image mode=RGB size=60x60 at 0x7FA4EDA78370>"
      ]
     },
     "metadata": {},
     "output_type": "display_data"
    },
    {
     "name": "stdout",
     "output_type": "stream",
     "text": [
      "Learning rate:  0.00015\n",
      "Loss = tensor(1.4963, device='cuda:0', grad_fn=<NllLoss2DBackward>)\n",
      "Loss = tensor(1.4782, device='cuda:0', grad_fn=<NllLoss2DBackward>)\n",
      "Loss = tensor(1.4924, device='cuda:0', grad_fn=<NllLoss2DBackward>)\n",
      "Loss = tensor(1.4934, device='cuda:0', grad_fn=<NllLoss2DBackward>)\n",
      "Loss = tensor(1.4929, device='cuda:0', grad_fn=<NllLoss2DBackward>)\n",
      "EPOCH:  79\n"
     ]
    },
    {
     "data": {
      "image/png": "[encoded data removed]",
      "text/plain": [
       "<PIL.Image.Image image mode=RGB size=60x60 at 0x7FA4EDA787C0>"
      ]
     },
     "metadata": {},
     "output_type": "display_data"
    },
    {
     "name": "stdout",
     "output_type": "stream",
     "text": [
      "Learning rate:  0.00015\n",
      "Loss = tensor(1.4990, device='cuda:0', grad_fn=<NllLoss2DBackward>)\n",
      "Loss = tensor(1.4865, device='cuda:0', grad_fn=<NllLoss2DBackward>)\n",
      "Loss = tensor(1.4817, device='cuda:0', grad_fn=<NllLoss2DBackward>)\n",
      "Loss = tensor(1.4740, device='cuda:0', grad_fn=<NllLoss2DBackward>)\n",
      "Loss = tensor(1.4948, device='cuda:0', grad_fn=<NllLoss2DBackward>)\n",
      "EPOCH:  79\n"
     ]
    },
    {
     "data": {
      "image/png": "[encoded data removed]",
      "text/plain": [
       "<PIL.Image.Image image mode=RGB size=60x60 at 0x7FA4EDA784C0>"
      ]
     },
     "metadata": {},
     "output_type": "display_data"
    },
    {
     "name": "stdout",
     "output_type": "stream",
     "text": [
      "Learning rate:  0.00015\n",
      "Loss = tensor(1.4976, device='cuda:0', grad_fn=<NllLoss2DBackward>)\n",
      "Loss = tensor(1.4925, device='cuda:0', grad_fn=<NllLoss2DBackward>)\n",
      "EPOCH:  80\n"
     ]
    },
    {
     "data": {
      "image/png": "[encoded data removed]",
      "text/plain": [
       "<PIL.Image.Image image mode=RGB size=60x60 at 0x7FA4EDA787C0>"
      ]
     },
     "metadata": {},
     "output_type": "display_data"
    },
    {
     "name": "stdout",
     "output_type": "stream",
     "text": [
      "Learning rate:  0.00015\n",
      "Loss = tensor(1.5064, device='cuda:0', grad_fn=<NllLoss2DBackward>)\n",
      "Loss = tensor(1.4888, device='cuda:0', grad_fn=<NllLoss2DBackward>)\n",
      "Loss = tensor(1.4726, device='cuda:0', grad_fn=<NllLoss2DBackward>)\n",
      "Loss = tensor(1.4986, device='cuda:0', grad_fn=<NllLoss2DBackward>)\n",
      "Loss = tensor(1.5007, device='cuda:0', grad_fn=<NllLoss2DBackward>)\n",
      "EPOCH:  80\n"
     ]
    },
    {
     "data": {
      "image/png": "[encoded data removed]",
      "text/plain": [
       "<PIL.Image.Image image mode=RGB size=60x60 at 0x7FA4EDA785B0>"
      ]
     },
     "metadata": {},
     "output_type": "display_data"
    },
    {
     "name": "stdout",
     "output_type": "stream",
     "text": [
      "Learning rate:  0.00015\n",
      "Loss = tensor(1.4971, device='cuda:0', grad_fn=<NllLoss2DBackward>)\n",
      "Loss = tensor(1.4849, device='cuda:0', grad_fn=<NllLoss2DBackward>)\n",
      "Loss = tensor(1.4873, device='cuda:0', grad_fn=<NllLoss2DBackward>)\n",
      "Loss = tensor(1.4924, device='cuda:0', grad_fn=<NllLoss2DBackward>)\n",
      "Loss = tensor(1.4956, device='cuda:0', grad_fn=<NllLoss2DBackward>)\n",
      "EPOCH:  80\n"
     ]
    },
    {
     "data": {
      "image/png": "[encoded data removed]",
      "text/plain": [
       "<PIL.Image.Image image mode=RGB size=60x60 at 0x7FA4EDA783D0>"
      ]
     },
     "metadata": {},
     "output_type": "display_data"
    },
    {
     "name": "stdout",
     "output_type": "stream",
     "text": [
      "Learning rate:  0.00015\n",
      "Loss = tensor(1.4724, device='cuda:0', grad_fn=<NllLoss2DBackward>)\n",
      "Loss = tensor(1.4890, device='cuda:0', grad_fn=<NllLoss2DBackward>)\n",
      "EPOCH:  81\n"
     ]
    },
    {
     "data": {
      "image/png": "[encoded data removed]",
      "text/plain": [
       "<PIL.Image.Image image mode=RGB size=60x60 at 0x7FA4EDA78580>"
      ]
     },
     "metadata": {},
     "output_type": "display_data"
    },
    {
     "name": "stdout",
     "output_type": "stream",
     "text": [
      "Learning rate:  0.00015\n",
      "Loss = tensor(1.4796, device='cuda:0', grad_fn=<NllLoss2DBackward>)\n",
      "Loss = tensor(1.4885, device='cuda:0', grad_fn=<NllLoss2DBackward>)\n",
      "Loss = tensor(1.4905, device='cuda:0', grad_fn=<NllLoss2DBackward>)\n",
      "Loss = tensor(1.4932, device='cuda:0', grad_fn=<NllLoss2DBackward>)\n",
      "Loss = tensor(1.4986, device='cuda:0', grad_fn=<NllLoss2DBackward>)\n",
      "EPOCH:  81\n"
     ]
    },
    {
     "data": {
      "image/png": "[encoded data removed]",
      "text/plain": [
       "<PIL.Image.Image image mode=RGB size=60x60 at 0x7FA4EDA784C0>"
      ]
     },
     "metadata": {},
     "output_type": "display_data"
    },
    {
     "name": "stdout",
     "output_type": "stream",
     "text": [
      "Learning rate:  0.00015\n",
      "Loss = tensor(1.4940, device='cuda:0', grad_fn=<NllLoss2DBackward>)\n",
      "Loss = tensor(1.5015, device='cuda:0', grad_fn=<NllLoss2DBackward>)\n",
      "Loss = tensor(1.4707, device='cuda:0', grad_fn=<NllLoss2DBackward>)\n",
      "Loss = tensor(1.4859, device='cuda:0', grad_fn=<NllLoss2DBackward>)\n",
      "Loss = tensor(1.4943, device='cuda:0', grad_fn=<NllLoss2DBackward>)\n",
      "EPOCH:  81\n"
     ]
    },
    {
     "data": {
      "image/png": "[encoded data removed]",
      "text/plain": [
       "<PIL.Image.Image image mode=RGB size=60x60 at 0x7FA4EDA783D0>"
      ]
     },
     "metadata": {},
     "output_type": "display_data"
    },
    {
     "name": "stdout",
     "output_type": "stream",
     "text": [
      "Learning rate:  0.00015\n",
      "Loss = tensor(1.5082, device='cuda:0', grad_fn=<NllLoss2DBackward>)\n",
      "Loss = tensor(1.4967, device='cuda:0', grad_fn=<NllLoss2DBackward>)\n",
      "EPOCH:  82\n"
     ]
    },
    {
     "data": {
      "image/png": "[encoded data removed]",
      "text/plain": [
       "<PIL.Image.Image image mode=RGB size=60x60 at 0x7FA4F7B07400>"
      ]
     },
     "metadata": {},
     "output_type": "display_data"
    },
    {
     "name": "stdout",
     "output_type": "stream",
     "text": [
      "Learning rate:  0.00015\n",
      "Loss = tensor(1.4833, device='cuda:0', grad_fn=<NllLoss2DBackward>)\n",
      "Loss = tensor(1.4839, device='cuda:0', grad_fn=<NllLoss2DBackward>)\n",
      "Loss = tensor(1.5065, device='cuda:0', grad_fn=<NllLoss2DBackward>)\n",
      "Loss = tensor(1.4898, device='cuda:0', grad_fn=<NllLoss2DBackward>)\n",
      "Loss = tensor(1.4876, device='cuda:0', grad_fn=<NllLoss2DBackward>)\n",
      "EPOCH:  82\n"
     ]
    },
    {
     "data": {
      "image/png": "[encoded data removed]",
      "text/plain": [
       "<PIL.Image.Image image mode=RGB size=60x60 at 0x7FA4F7B07400>"
      ]
     },
     "metadata": {},
     "output_type": "display_data"
    },
    {
     "name": "stdout",
     "output_type": "stream",
     "text": [
      "Learning rate:  0.00015\n",
      "Loss = tensor(1.4863, device='cuda:0', grad_fn=<NllLoss2DBackward>)\n",
      "Loss = tensor(1.4812, device='cuda:0', grad_fn=<NllLoss2DBackward>)\n",
      "Loss = tensor(1.4879, device='cuda:0', grad_fn=<NllLoss2DBackward>)\n",
      "Loss = tensor(1.4945, device='cuda:0', grad_fn=<NllLoss2DBackward>)\n",
      "Loss = tensor(1.4952, device='cuda:0', grad_fn=<NllLoss2DBackward>)\n",
      "EPOCH:  82\n"
     ]
    },
    {
     "data": {
      "image/png": "[encoded data removed]",
      "text/plain": [
       "<PIL.Image.Image image mode=RGB size=60x60 at 0x7FA4EDA5FE80>"
      ]
     },
     "metadata": {},
     "output_type": "display_data"
    },
    {
     "name": "stdout",
     "output_type": "stream",
     "text": [
      "Learning rate:  0.00015\n",
      "Loss = tensor(1.4853, device='cuda:0', grad_fn=<NllLoss2DBackward>)\n",
      "Loss = tensor(1.5013, device='cuda:0', grad_fn=<NllLoss2DBackward>)\n",
      "EPOCH:  83\n"
     ]
    },
    {
     "data": {
      "image/png": "[encoded data removed]",
      "text/plain": [
       "<PIL.Image.Image image mode=RGB size=60x60 at 0x7FA4EDA78520>"
      ]
     },
     "metadata": {},
     "output_type": "display_data"
    },
    {
     "name": "stdout",
     "output_type": "stream",
     "text": [
      "Learning rate:  0.00015\n",
      "Loss = tensor(1.4946, device='cuda:0', grad_fn=<NllLoss2DBackward>)\n",
      "Loss = tensor(1.5162, device='cuda:0', grad_fn=<NllLoss2DBackward>)\n",
      "Loss = tensor(1.4914, device='cuda:0', grad_fn=<NllLoss2DBackward>)\n",
      "Loss = tensor(1.4716, device='cuda:0', grad_fn=<NllLoss2DBackward>)\n",
      "Loss = tensor(1.4784, device='cuda:0', grad_fn=<NllLoss2DBackward>)\n",
      "EPOCH:  83\n"
     ]
    },
    {
     "data": {
      "image/png": "[encoded data removed]",
      "text/plain": [
       "<PIL.Image.Image image mode=RGB size=60x60 at 0x7FA4EDA782B0>"
      ]
     },
     "metadata": {},
     "output_type": "display_data"
    },
    {
     "name": "stdout",
     "output_type": "stream",
     "text": [
      "Learning rate:  0.00015\n",
      "Loss = tensor(1.4914, device='cuda:0', grad_fn=<NllLoss2DBackward>)\n",
      "Loss = tensor(1.4781, device='cuda:0', grad_fn=<NllLoss2DBackward>)\n",
      "Loss = tensor(1.4790, device='cuda:0', grad_fn=<NllLoss2DBackward>)\n",
      "Loss = tensor(1.5098, device='cuda:0', grad_fn=<NllLoss2DBackward>)\n",
      "Loss = tensor(1.4965, device='cuda:0', grad_fn=<NllLoss2DBackward>)\n",
      "EPOCH:  83\n"
     ]
    },
    {
     "data": {
      "image/png": "[encoded data removed]",
      "text/plain": [
       "<PIL.Image.Image image mode=RGB size=60x60 at 0x7FA4EDA78370>"
      ]
     },
     "metadata": {},
     "output_type": "display_data"
    },
    {
     "name": "stdout",
     "output_type": "stream",
     "text": [
      "Learning rate:  0.00015\n",
      "Loss = tensor(1.4859, device='cuda:0', grad_fn=<NllLoss2DBackward>)\n",
      "Loss = tensor(1.4792, device='cuda:0', grad_fn=<NllLoss2DBackward>)\n",
      "EPOCH:  84\n"
     ]
    },
    {
     "data": {
      "image/png": "[encoded data removed]",
      "text/plain": [
       "<PIL.Image.Image image mode=RGB size=60x60 at 0x7FA4EDA78730>"
      ]
     },
     "metadata": {},
     "output_type": "display_data"
    },
    {
     "name": "stdout",
     "output_type": "stream",
     "text": [
      "Learning rate:  0.00015\n",
      "Loss = tensor(1.5054, device='cuda:0', grad_fn=<NllLoss2DBackward>)\n",
      "Loss = tensor(1.4887, device='cuda:0', grad_fn=<NllLoss2DBackward>)\n",
      "Loss = tensor(1.4792, device='cuda:0', grad_fn=<NllLoss2DBackward>)\n",
      "Loss = tensor(1.4807, device='cuda:0', grad_fn=<NllLoss2DBackward>)\n",
      "Loss = tensor(1.4906, device='cuda:0', grad_fn=<NllLoss2DBackward>)\n",
      "EPOCH:  84\n"
     ]
    },
    {
     "data": {
      "image/png": "[encoded data removed]",
      "text/plain": [
       "<PIL.Image.Image image mode=RGB size=60x60 at 0x7FA4EDA78520>"
      ]
     },
     "metadata": {},
     "output_type": "display_data"
    },
    {
     "name": "stdout",
     "output_type": "stream",
     "text": [
      "Learning rate:  0.00015\n",
      "Loss = tensor(1.4977, device='cuda:0', grad_fn=<NllLoss2DBackward>)\n",
      "Loss = tensor(1.5086, device='cuda:0', grad_fn=<NllLoss2DBackward>)\n",
      "Loss = tensor(1.4897, device='cuda:0', grad_fn=<NllLoss2DBackward>)\n",
      "Loss = tensor(1.4847, device='cuda:0', grad_fn=<NllLoss2DBackward>)\n",
      "Loss = tensor(1.4893, device='cuda:0', grad_fn=<NllLoss2DBackward>)\n",
      "EPOCH:  84\n"
     ]
    },
    {
     "data": {
      "image/png": "[encoded data removed]",
      "text/plain": [
       "<PIL.Image.Image image mode=RGB size=60x60 at 0x7FA4EDA78310>"
      ]
     },
     "metadata": {},
     "output_type": "display_data"
    },
    {
     "name": "stdout",
     "output_type": "stream",
     "text": [
      "Learning rate:  0.00015\n",
      "Loss = tensor(1.5024, device='cuda:0', grad_fn=<NllLoss2DBackward>)\n",
      "Loss = tensor(1.4840, device='cuda:0', grad_fn=<NllLoss2DBackward>)\n",
      "EPOCH:  85\n"
     ]
    },
    {
     "data": {
      "image/png": "[encoded data removed]",
      "text/plain": [
       "<PIL.Image.Image image mode=RGB size=60x60 at 0x7FA4EDA785B0>"
      ]
     },
     "metadata": {},
     "output_type": "display_data"
    },
    {
     "name": "stdout",
     "output_type": "stream",
     "text": [
      "Learning rate:  0.00015\n",
      "Loss = tensor(1.5000, device='cuda:0', grad_fn=<NllLoss2DBackward>)\n",
      "Loss = tensor(1.4942, device='cuda:0', grad_fn=<NllLoss2DBackward>)\n",
      "Loss = tensor(1.4876, device='cuda:0', grad_fn=<NllLoss2DBackward>)\n",
      "Loss = tensor(1.4824, device='cuda:0', grad_fn=<NllLoss2DBackward>)\n",
      "Loss = tensor(1.4856, device='cuda:0', grad_fn=<NllLoss2DBackward>)\n",
      "EPOCH:  85\n"
     ]
    },
    {
     "data": {
      "image/png": "[encoded data removed]",
      "text/plain": [
       "<PIL.Image.Image image mode=RGB size=60x60 at 0x7FA4EDA784C0>"
      ]
     },
     "metadata": {},
     "output_type": "display_data"
    },
    {
     "name": "stdout",
     "output_type": "stream",
     "text": [
      "Learning rate:  0.00015\n",
      "Loss = tensor(1.4952, device='cuda:0', grad_fn=<NllLoss2DBackward>)\n",
      "Loss = tensor(1.4973, device='cuda:0', grad_fn=<NllLoss2DBackward>)\n",
      "Loss = tensor(1.5031, device='cuda:0', grad_fn=<NllLoss2DBackward>)\n",
      "Loss = tensor(1.4901, device='cuda:0', grad_fn=<NllLoss2DBackward>)\n",
      "Loss = tensor(1.4781, device='cuda:0', grad_fn=<NllLoss2DBackward>)\n",
      "EPOCH:  85\n"
     ]
    },
    {
     "data": {
      "image/png": "[encoded data removed]",
      "text/plain": [
       "<PIL.Image.Image image mode=RGB size=60x60 at 0x7FA4EDA78820>"
      ]
     },
     "metadata": {},
     "output_type": "display_data"
    },
    {
     "name": "stdout",
     "output_type": "stream",
     "text": [
      "Learning rate:  0.00015\n",
      "Loss = tensor(1.4987, device='cuda:0', grad_fn=<NllLoss2DBackward>)\n",
      "Loss = tensor(1.4925, device='cuda:0', grad_fn=<NllLoss2DBackward>)\n",
      "EPOCH:  86\n"
     ]
    },
    {
     "data": {
      "image/png": "[encoded data removed]",
      "text/plain": [
       "<PIL.Image.Image image mode=RGB size=60x60 at 0x7FA4EDA786A0>"
      ]
     },
     "metadata": {},
     "output_type": "display_data"
    },
    {
     "name": "stdout",
     "output_type": "stream",
     "text": [
      "Learning rate:  0.00015\n",
      "Loss = tensor(1.4895, device='cuda:0', grad_fn=<NllLoss2DBackward>)\n",
      "Loss = tensor(1.4784, device='cuda:0', grad_fn=<NllLoss2DBackward>)\n",
      "Loss = tensor(1.4872, device='cuda:0', grad_fn=<NllLoss2DBackward>)\n",
      "Loss = tensor(1.4888, device='cuda:0', grad_fn=<NllLoss2DBackward>)\n",
      "Loss = tensor(1.4832, device='cuda:0', grad_fn=<NllLoss2DBackward>)\n",
      "EPOCH:  86\n"
     ]
    },
    {
     "data": {
      "image/png": "[encoded data removed]",
      "text/plain": [
       "<PIL.Image.Image image mode=RGB size=60x60 at 0x7FA4EDA78340>"
      ]
     },
     "metadata": {},
     "output_type": "display_data"
    },
    {
     "name": "stdout",
     "output_type": "stream",
     "text": [
      "Learning rate:  0.00015\n",
      "Loss = tensor(1.4947, device='cuda:0', grad_fn=<NllLoss2DBackward>)\n",
      "Loss = tensor(1.4741, device='cuda:0', grad_fn=<NllLoss2DBackward>)\n",
      "Loss = tensor(1.4937, device='cuda:0', grad_fn=<NllLoss2DBackward>)\n",
      "Loss = tensor(1.4970, device='cuda:0', grad_fn=<NllLoss2DBackward>)\n",
      "Loss = tensor(1.4968, device='cuda:0', grad_fn=<NllLoss2DBackward>)\n",
      "EPOCH:  86\n"
     ]
    },
    {
     "data": {
      "image/png": "[encoded data removed]",
      "text/plain": [
       "<PIL.Image.Image image mode=RGB size=60x60 at 0x7FA4EDA786A0>"
      ]
     },
     "metadata": {},
     "output_type": "display_data"
    },
    {
     "name": "stdout",
     "output_type": "stream",
     "text": [
      "Learning rate:  0.00015\n",
      "Loss = tensor(1.5050, device='cuda:0', grad_fn=<NllLoss2DBackward>)\n",
      "Loss = tensor(1.4897, device='cuda:0', grad_fn=<NllLoss2DBackward>)\n",
      "EPOCH:  87\n"
     ]
    },
    {
     "data": {
      "image/png": "[encoded data removed]",
      "text/plain": [
       "<PIL.Image.Image image mode=RGB size=60x60 at 0x7FA4EDA786A0>"
      ]
     },
     "metadata": {},
     "output_type": "display_data"
    },
    {
     "name": "stdout",
     "output_type": "stream",
     "text": [
      "Learning rate:  0.00015\n",
      "Loss = tensor(1.4906, device='cuda:0', grad_fn=<NllLoss2DBackward>)\n",
      "Loss = tensor(1.4912, device='cuda:0', grad_fn=<NllLoss2DBackward>)\n",
      "Loss = tensor(1.5023, device='cuda:0', grad_fn=<NllLoss2DBackward>)\n",
      "Loss = tensor(1.4877, device='cuda:0', grad_fn=<NllLoss2DBackward>)\n",
      "Loss = tensor(1.4844, device='cuda:0', grad_fn=<NllLoss2DBackward>)\n",
      "EPOCH:  87\n"
     ]
    },
    {
     "data": {
      "image/png": "[encoded data removed]",
      "text/plain": [
       "<PIL.Image.Image image mode=RGB size=60x60 at 0x7FA4EDA786A0>"
      ]
     },
     "metadata": {},
     "output_type": "display_data"
    },
    {
     "name": "stdout",
     "output_type": "stream",
     "text": [
      "Learning rate:  0.00015\n",
      "Loss = tensor(1.5030, device='cuda:0', grad_fn=<NllLoss2DBackward>)\n",
      "Loss = tensor(1.4735, device='cuda:0', grad_fn=<NllLoss2DBackward>)\n",
      "Loss = tensor(1.4735, device='cuda:0', grad_fn=<NllLoss2DBackward>)\n",
      "Loss = tensor(1.5025, device='cuda:0', grad_fn=<NllLoss2DBackward>)\n",
      "Loss = tensor(1.4909, device='cuda:0', grad_fn=<NllLoss2DBackward>)\n",
      "EPOCH:  87\n"
     ]
    },
    {
     "data": {
      "image/png": "[encoded data removed]",
      "text/plain": [
       "<PIL.Image.Image image mode=RGB size=60x60 at 0x7FA4EDA786A0>"
      ]
     },
     "metadata": {},
     "output_type": "display_data"
    },
    {
     "name": "stdout",
     "output_type": "stream",
     "text": [
      "Learning rate:  0.00015\n",
      "Loss = tensor(1.4922, device='cuda:0', grad_fn=<NllLoss2DBackward>)\n",
      "Loss = tensor(1.5027, device='cuda:0', grad_fn=<NllLoss2DBackward>)\n",
      "EPOCH:  88\n"
     ]
    },
    {
     "data": {
      "image/png": "[encoded data removed]",
      "text/plain": [
       "<PIL.Image.Image image mode=RGB size=60x60 at 0x7FA4EDA78880>"
      ]
     },
     "metadata": {},
     "output_type": "display_data"
    },
    {
     "name": "stdout",
     "output_type": "stream",
     "text": [
      "Learning rate:  0.00015\n",
      "Loss = tensor(1.4908, device='cuda:0', grad_fn=<NllLoss2DBackward>)\n",
      "Loss = tensor(1.4898, device='cuda:0', grad_fn=<NllLoss2DBackward>)\n",
      "Loss = tensor(1.4898, device='cuda:0', grad_fn=<NllLoss2DBackward>)\n",
      "Loss = tensor(1.5013, device='cuda:0', grad_fn=<NllLoss2DBackward>)\n",
      "Loss = tensor(1.4818, device='cuda:0', grad_fn=<NllLoss2DBackward>)\n",
      "EPOCH:  88\n"
     ]
    },
    {
     "data": {
      "image/png": "[encoded data removed]",
      "text/plain": [
       "<PIL.Image.Image image mode=RGB size=60x60 at 0x7FA4EDA78550>"
      ]
     },
     "metadata": {},
     "output_type": "display_data"
    },
    {
     "name": "stdout",
     "output_type": "stream",
     "text": [
      "Learning rate:  0.00015\n",
      "Loss = tensor(1.5052, device='cuda:0', grad_fn=<NllLoss2DBackward>)\n",
      "Loss = tensor(1.5058, device='cuda:0', grad_fn=<NllLoss2DBackward>)\n",
      "Loss = tensor(1.4746, device='cuda:0', grad_fn=<NllLoss2DBackward>)\n",
      "Loss = tensor(1.4903, device='cuda:0', grad_fn=<NllLoss2DBackward>)\n",
      "Loss = tensor(1.4729, device='cuda:0', grad_fn=<NllLoss2DBackward>)\n",
      "EPOCH:  88\n"
     ]
    },
    {
     "data": {
      "image/png": "[encoded data removed]",
      "text/plain": [
       "<PIL.Image.Image image mode=RGB size=60x60 at 0x7FA4EDA78880>"
      ]
     },
     "metadata": {},
     "output_type": "display_data"
    },
    {
     "name": "stdout",
     "output_type": "stream",
     "text": [
      "Learning rate:  0.00015\n",
      "Loss = tensor(1.4814, device='cuda:0', grad_fn=<NllLoss2DBackward>)\n",
      "Loss = tensor(1.5012, device='cuda:0', grad_fn=<NllLoss2DBackward>)\n",
      "EPOCH:  89\n"
     ]
    },
    {
     "data": {
      "image/png": "[encoded data removed]",
      "text/plain": [
       "<PIL.Image.Image image mode=RGB size=60x60 at 0x7FA4EDA78880>"
      ]
     },
     "metadata": {},
     "output_type": "display_data"
    },
    {
     "name": "stdout",
     "output_type": "stream",
     "text": [
      "Learning rate:  0.00015\n",
      "Loss = tensor(1.4959, device='cuda:0', grad_fn=<NllLoss2DBackward>)\n",
      "Loss = tensor(1.4829, device='cuda:0', grad_fn=<NllLoss2DBackward>)\n",
      "Loss = tensor(1.4873, device='cuda:0', grad_fn=<NllLoss2DBackward>)\n",
      "Loss = tensor(1.4879, device='cuda:0', grad_fn=<NllLoss2DBackward>)\n",
      "Loss = tensor(1.5010, device='cuda:0', grad_fn=<NllLoss2DBackward>)\n",
      "EPOCH:  89\n"
     ]
    },
    {
     "data": {
      "image/png": "[encoded data removed]",
      "text/plain": [
       "<PIL.Image.Image image mode=RGB size=60x60 at 0x7FA4EDA78310>"
      ]
     },
     "metadata": {},
     "output_type": "display_data"
    },
    {
     "name": "stdout",
     "output_type": "stream",
     "text": [
      "Learning rate:  0.00015\n",
      "Loss = tensor(1.4813, device='cuda:0', grad_fn=<NllLoss2DBackward>)\n",
      "Loss = tensor(1.4788, device='cuda:0', grad_fn=<NllLoss2DBackward>)\n",
      "Loss = tensor(1.4846, device='cuda:0', grad_fn=<NllLoss2DBackward>)\n",
      "Loss = tensor(1.4882, device='cuda:0', grad_fn=<NllLoss2DBackward>)\n",
      "Loss = tensor(1.4838, device='cuda:0', grad_fn=<NllLoss2DBackward>)\n",
      "EPOCH:  89\n"
     ]
    },
    {
     "data": {
      "image/png": "[encoded data removed]",
      "text/plain": [
       "<PIL.Image.Image image mode=RGB size=60x60 at 0x7FA4EDA78670>"
      ]
     },
     "metadata": {},
     "output_type": "display_data"
    },
    {
     "name": "stdout",
     "output_type": "stream",
     "text": [
      "Learning rate:  0.00015\n",
      "Loss = tensor(1.5108, device='cuda:0', grad_fn=<NllLoss2DBackward>)\n",
      "Loss = tensor(1.4850, device='cuda:0', grad_fn=<NllLoss2DBackward>)\n",
      "EPOCH:  90\n"
     ]
    },
    {
     "data": {
      "image/png": "[encoded data removed]",
      "text/plain": [
       "<PIL.Image.Image image mode=RGB size=60x60 at 0x7FA4EDA785B0>"
      ]
     },
     "metadata": {},
     "output_type": "display_data"
    },
    {
     "name": "stdout",
     "output_type": "stream",
     "text": [
      "Learning rate:  0.00015\n",
      "Loss = tensor(1.4729, device='cuda:0', grad_fn=<NllLoss2DBackward>)\n",
      "Loss = tensor(1.4949, device='cuda:0', grad_fn=<NllLoss2DBackward>)\n",
      "Loss = tensor(1.4869, device='cuda:0', grad_fn=<NllLoss2DBackward>)\n",
      "Loss = tensor(1.4942, device='cuda:0', grad_fn=<NllLoss2DBackward>)\n",
      "Loss = tensor(1.4889, device='cuda:0', grad_fn=<NllLoss2DBackward>)\n",
      "EPOCH:  90\n"
     ]
    },
    {
     "data": {
      "image/png": "[encoded data removed]",
      "text/plain": [
       "<PIL.Image.Image image mode=RGB size=60x60 at 0x7FA4EDA78880>"
      ]
     },
     "metadata": {},
     "output_type": "display_data"
    },
    {
     "name": "stdout",
     "output_type": "stream",
     "text": [
      "Learning rate:  0.00015\n",
      "Loss = tensor(1.5052, device='cuda:0', grad_fn=<NllLoss2DBackward>)\n",
      "Loss = tensor(1.4959, device='cuda:0', grad_fn=<NllLoss2DBackward>)\n",
      "Loss = tensor(1.5044, device='cuda:0', grad_fn=<NllLoss2DBackward>)\n",
      "Loss = tensor(1.4834, device='cuda:0', grad_fn=<NllLoss2DBackward>)\n",
      "Loss = tensor(1.4810, device='cuda:0', grad_fn=<NllLoss2DBackward>)\n",
      "EPOCH:  90\n"
     ]
    },
    {
     "data": {
      "image/png": "[encoded data removed]",
      "text/plain": [
       "<PIL.Image.Image image mode=RGB size=60x60 at 0x7FA4EDA78760>"
      ]
     },
     "metadata": {},
     "output_type": "display_data"
    },
    {
     "name": "stdout",
     "output_type": "stream",
     "text": [
      "Learning rate:  0.00015\n",
      "Loss = tensor(1.4862, device='cuda:0', grad_fn=<NllLoss2DBackward>)\n",
      "Loss = tensor(1.4849, device='cuda:0', grad_fn=<NllLoss2DBackward>)\n",
      "EPOCH:  91\n"
     ]
    },
    {
     "data": {
      "image/png": "[encoded data removed]",
      "text/plain": [
       "<PIL.Image.Image image mode=RGB size=60x60 at 0x7FA4EDA78670>"
      ]
     },
     "metadata": {},
     "output_type": "display_data"
    },
    {
     "name": "stdout",
     "output_type": "stream",
     "text": [
      "Learning rate:  0.00015\n",
      "Loss = tensor(1.4927, device='cuda:0', grad_fn=<NllLoss2DBackward>)\n",
      "Loss = tensor(1.4747, device='cuda:0', grad_fn=<NllLoss2DBackward>)\n",
      "Loss = tensor(1.4894, device='cuda:0', grad_fn=<NllLoss2DBackward>)\n",
      "Loss = tensor(1.5086, device='cuda:0', grad_fn=<NllLoss2DBackward>)\n",
      "Loss = tensor(1.4846, device='cuda:0', grad_fn=<NllLoss2DBackward>)\n",
      "EPOCH:  91\n"
     ]
    },
    {
     "data": {
      "image/png": "[encoded data removed]",
      "text/plain": [
       "<PIL.Image.Image image mode=RGB size=60x60 at 0x7FA4EDA785E0>"
      ]
     },
     "metadata": {},
     "output_type": "display_data"
    },
    {
     "name": "stdout",
     "output_type": "stream",
     "text": [
      "Learning rate:  0.00015\n",
      "Loss = tensor(1.4892, device='cuda:0', grad_fn=<NllLoss2DBackward>)\n",
      "Loss = tensor(1.4933, device='cuda:0', grad_fn=<NllLoss2DBackward>)\n",
      "Loss = tensor(1.4904, device='cuda:0', grad_fn=<NllLoss2DBackward>)\n",
      "Loss = tensor(1.4871, device='cuda:0', grad_fn=<NllLoss2DBackward>)\n",
      "Loss = tensor(1.4948, device='cuda:0', grad_fn=<NllLoss2DBackward>)\n",
      "EPOCH:  91\n"
     ]
    },
    {
     "data": {
      "image/png": "[encoded data removed]",
      "text/plain": [
       "<PIL.Image.Image image mode=RGB size=60x60 at 0x7FA4EDA78310>"
      ]
     },
     "metadata": {},
     "output_type": "display_data"
    },
    {
     "name": "stdout",
     "output_type": "stream",
     "text": [
      "Learning rate:  0.00015\n",
      "Loss = tensor(1.4932, device='cuda:0', grad_fn=<NllLoss2DBackward>)\n",
      "Loss = tensor(1.4879, device='cuda:0', grad_fn=<NllLoss2DBackward>)\n",
      "EPOCH:  92\n"
     ]
    },
    {
     "data": {
      "image/png": "[encoded data removed]",
      "text/plain": [
       "<PIL.Image.Image image mode=RGB size=60x60 at 0x7FA4EDA785B0>"
      ]
     },
     "metadata": {},
     "output_type": "display_data"
    },
    {
     "name": "stdout",
     "output_type": "stream",
     "text": [
      "Learning rate:  0.00015\n",
      "Loss = tensor(1.4936, device='cuda:0', grad_fn=<NllLoss2DBackward>)\n",
      "Loss = tensor(1.5037, device='cuda:0', grad_fn=<NllLoss2DBackward>)\n",
      "Loss = tensor(1.4721, device='cuda:0', grad_fn=<NllLoss2DBackward>)\n",
      "Loss = tensor(1.4922, device='cuda:0', grad_fn=<NllLoss2DBackward>)\n",
      "Loss = tensor(1.5002, device='cuda:0', grad_fn=<NllLoss2DBackward>)\n",
      "EPOCH:  92\n"
     ]
    },
    {
     "data": {
      "image/png": "[encoded data removed]",
      "text/plain": [
       "<PIL.Image.Image image mode=RGB size=60x60 at 0x7FA4EDA78340>"
      ]
     },
     "metadata": {},
     "output_type": "display_data"
    },
    {
     "name": "stdout",
     "output_type": "stream",
     "text": [
      "Learning rate:  0.00015\n",
      "Loss = tensor(1.4897, device='cuda:0', grad_fn=<NllLoss2DBackward>)\n",
      "Loss = tensor(1.5006, device='cuda:0', grad_fn=<NllLoss2DBackward>)\n",
      "Loss = tensor(1.4757, device='cuda:0', grad_fn=<NllLoss2DBackward>)\n",
      "Loss = tensor(1.4785, device='cuda:0', grad_fn=<NllLoss2DBackward>)\n",
      "Loss = tensor(1.4888, device='cuda:0', grad_fn=<NllLoss2DBackward>)\n",
      "EPOCH:  92\n"
     ]
    },
    {
     "data": {
      "image/png": "[encoded data removed]",
      "text/plain": [
       "<PIL.Image.Image image mode=RGB size=60x60 at 0x7FA4EDA785B0>"
      ]
     },
     "metadata": {},
     "output_type": "display_data"
    },
    {
     "name": "stdout",
     "output_type": "stream",
     "text": [
      "Learning rate:  0.00015\n",
      "Loss = tensor(1.5016, device='cuda:0', grad_fn=<NllLoss2DBackward>)\n",
      "Loss = tensor(1.4925, device='cuda:0', grad_fn=<NllLoss2DBackward>)\n",
      "EPOCH:  93\n"
     ]
    },
    {
     "data": {
      "image/png": "[encoded data removed]",
      "text/plain": [
       "<PIL.Image.Image image mode=RGB size=60x60 at 0x7FA4EDA78760>"
      ]
     },
     "metadata": {},
     "output_type": "display_data"
    },
    {
     "name": "stdout",
     "output_type": "stream",
     "text": [
      "Learning rate:  0.00015\n",
      "Loss = tensor(1.5024, device='cuda:0', grad_fn=<NllLoss2DBackward>)\n",
      "Loss = tensor(1.4902, device='cuda:0', grad_fn=<NllLoss2DBackward>)\n",
      "Loss = tensor(1.4897, device='cuda:0', grad_fn=<NllLoss2DBackward>)\n",
      "Loss = tensor(1.4934, device='cuda:0', grad_fn=<NllLoss2DBackward>)\n",
      "Loss = tensor(1.4850, device='cuda:0', grad_fn=<NllLoss2DBackward>)\n",
      "EPOCH:  93\n"
     ]
    },
    {
     "data": {
      "image/png": "[encoded data removed]",
      "text/plain": [
       "<PIL.Image.Image image mode=RGB size=60x60 at 0x7FA4EDA78610>"
      ]
     },
     "metadata": {},
     "output_type": "display_data"
    },
    {
     "name": "stdout",
     "output_type": "stream",
     "text": [
      "Learning rate:  0.00015\n",
      "Loss = tensor(1.4996, device='cuda:0', grad_fn=<NllLoss2DBackward>)\n",
      "Loss = tensor(1.4627, device='cuda:0', grad_fn=<NllLoss2DBackward>)\n",
      "Loss = tensor(1.4788, device='cuda:0', grad_fn=<NllLoss2DBackward>)\n",
      "Loss = tensor(1.4965, device='cuda:0', grad_fn=<NllLoss2DBackward>)\n",
      "Loss = tensor(1.5075, device='cuda:0', grad_fn=<NllLoss2DBackward>)\n",
      "EPOCH:  93\n"
     ]
    },
    {
     "data": {
      "image/png": "[encoded data removed]",
      "text/plain": [
       "<PIL.Image.Image image mode=RGB size=60x60 at 0x7FA4EDA78580>"
      ]
     },
     "metadata": {},
     "output_type": "display_data"
    },
    {
     "name": "stdout",
     "output_type": "stream",
     "text": [
      "Learning rate:  0.00015\n",
      "Loss = tensor(1.4848, device='cuda:0', grad_fn=<NllLoss2DBackward>)\n",
      "Loss = tensor(1.4871, device='cuda:0', grad_fn=<NllLoss2DBackward>)\n",
      "EPOCH:  94\n"
     ]
    },
    {
     "data": {
      "image/png": "[encoded data removed]",
      "text/plain": [
       "<PIL.Image.Image image mode=RGB size=60x60 at 0x7FA4EDA786A0>"
      ]
     },
     "metadata": {},
     "output_type": "display_data"
    },
    {
     "name": "stdout",
     "output_type": "stream",
     "text": [
      "Learning rate:  0.00015\n",
      "Loss = tensor(1.4813, device='cuda:0', grad_fn=<NllLoss2DBackward>)\n",
      "Loss = tensor(1.4903, device='cuda:0', grad_fn=<NllLoss2DBackward>)\n",
      "Loss = tensor(1.4857, device='cuda:0', grad_fn=<NllLoss2DBackward>)\n",
      "Loss = tensor(1.4755, device='cuda:0', grad_fn=<NllLoss2DBackward>)\n",
      "Loss = tensor(1.5029, device='cuda:0', grad_fn=<NllLoss2DBackward>)\n",
      "EPOCH:  94\n"
     ]
    },
    {
     "data": {
      "image/png": "[encoded data removed]",
      "text/plain": [
       "<PIL.Image.Image image mode=RGB size=60x60 at 0x7FA4EDA78340>"
      ]
     },
     "metadata": {},
     "output_type": "display_data"
    },
    {
     "name": "stdout",
     "output_type": "stream",
     "text": [
      "Learning rate:  0.00015\n",
      "Loss = tensor(1.4863, device='cuda:0', grad_fn=<NllLoss2DBackward>)\n",
      "Loss = tensor(1.4905, device='cuda:0', grad_fn=<NllLoss2DBackward>)\n",
      "Loss = tensor(1.4953, device='cuda:0', grad_fn=<NllLoss2DBackward>)\n",
      "Loss = tensor(1.5081, device='cuda:0', grad_fn=<NllLoss2DBackward>)\n",
      "Loss = tensor(1.4940, device='cuda:0', grad_fn=<NllLoss2DBackward>)\n",
      "EPOCH:  94\n"
     ]
    },
    {
     "data": {
      "image/png": "[encoded data removed]",
      "text/plain": [
       "<PIL.Image.Image image mode=RGB size=60x60 at 0x7FA4EDA78730>"
      ]
     },
     "metadata": {},
     "output_type": "display_data"
    },
    {
     "name": "stdout",
     "output_type": "stream",
     "text": [
      "Learning rate:  0.00015\n",
      "Loss = tensor(1.4903, device='cuda:0', grad_fn=<NllLoss2DBackward>)\n",
      "Loss = tensor(1.4995, device='cuda:0', grad_fn=<NllLoss2DBackward>)\n",
      "EPOCH:  95\n"
     ]
    },
    {
     "data": {
      "image/png": "[encoded data removed]",
      "text/plain": [
       "<PIL.Image.Image image mode=RGB size=60x60 at 0x7FA4EDA787C0>"
      ]
     },
     "metadata": {},
     "output_type": "display_data"
    },
    {
     "name": "stdout",
     "output_type": "stream",
     "text": [
      "Learning rate:  0.00015\n",
      "Loss = tensor(1.4837, device='cuda:0', grad_fn=<NllLoss2DBackward>)\n",
      "Loss = tensor(1.4794, device='cuda:0', grad_fn=<NllLoss2DBackward>)\n",
      "Loss = tensor(1.4972, device='cuda:0', grad_fn=<NllLoss2DBackward>)\n",
      "Loss = tensor(1.5043, device='cuda:0', grad_fn=<NllLoss2DBackward>)\n",
      "Loss = tensor(1.5043, device='cuda:0', grad_fn=<NllLoss2DBackward>)\n",
      "EPOCH:  95\n"
     ]
    },
    {
     "data": {
      "image/png": "[encoded data removed]",
      "text/plain": [
       "<PIL.Image.Image image mode=RGB size=60x60 at 0x7FA4EDA78820>"
      ]
     },
     "metadata": {},
     "output_type": "display_data"
    },
    {
     "name": "stdout",
     "output_type": "stream",
     "text": [
      "Learning rate:  0.00015\n",
      "Loss = tensor(1.4861, device='cuda:0', grad_fn=<NllLoss2DBackward>)\n",
      "Loss = tensor(1.4856, device='cuda:0', grad_fn=<NllLoss2DBackward>)\n",
      "Loss = tensor(1.4725, device='cuda:0', grad_fn=<NllLoss2DBackward>)\n",
      "Loss = tensor(1.4950, device='cuda:0', grad_fn=<NllLoss2DBackward>)\n",
      "Loss = tensor(1.4945, device='cuda:0', grad_fn=<NllLoss2DBackward>)\n",
      "EPOCH:  95\n"
     ]
    },
    {
     "data": {
      "image/png": "[encoded data removed]",
      "text/plain": [
       "<PIL.Image.Image image mode=RGB size=60x60 at 0x7FA4EDA785B0>"
      ]
     },
     "metadata": {},
     "output_type": "display_data"
    },
    {
     "name": "stdout",
     "output_type": "stream",
     "text": [
      "Learning rate:  0.00015\n",
      "Loss = tensor(1.4780, device='cuda:0', grad_fn=<NllLoss2DBackward>)\n",
      "Loss = tensor(1.5015, device='cuda:0', grad_fn=<NllLoss2DBackward>)\n",
      "EPOCH:  96\n"
     ]
    },
    {
     "data": {
      "image/png": "[encoded data removed]",
      "text/plain": [
       "<PIL.Image.Image image mode=RGB size=60x60 at 0x7FA4EDA78610>"
      ]
     },
     "metadata": {},
     "output_type": "display_data"
    },
    {
     "name": "stdout",
     "output_type": "stream",
     "text": [
      "Learning rate:  0.00015\n",
      "Loss = tensor(1.4790, device='cuda:0', grad_fn=<NllLoss2DBackward>)\n",
      "Loss = tensor(1.4769, device='cuda:0', grad_fn=<NllLoss2DBackward>)\n",
      "Loss = tensor(1.4858, device='cuda:0', grad_fn=<NllLoss2DBackward>)\n",
      "Loss = tensor(1.4950, device='cuda:0', grad_fn=<NllLoss2DBackward>)\n",
      "Loss = tensor(1.4922, device='cuda:0', grad_fn=<NllLoss2DBackward>)\n",
      "EPOCH:  96\n"
     ]
    },
    {
     "data": {
      "image/png": "[encoded data removed]",
      "text/plain": [
       "<PIL.Image.Image image mode=RGB size=60x60 at 0x7FA4EDA786A0>"
      ]
     },
     "metadata": {},
     "output_type": "display_data"
    },
    {
     "name": "stdout",
     "output_type": "stream",
     "text": [
      "Learning rate:  0.00015\n",
      "Loss = tensor(1.4772, device='cuda:0', grad_fn=<NllLoss2DBackward>)\n",
      "Loss = tensor(1.4880, device='cuda:0', grad_fn=<NllLoss2DBackward>)\n",
      "Loss = tensor(1.4930, device='cuda:0', grad_fn=<NllLoss2DBackward>)\n",
      "Loss = tensor(1.5036, device='cuda:0', grad_fn=<NllLoss2DBackward>)\n",
      "Loss = tensor(1.4972, device='cuda:0', grad_fn=<NllLoss2DBackward>)\n",
      "EPOCH:  96\n"
     ]
    },
    {
     "data": {
      "image/png": "[encoded data removed]",
      "text/plain": [
       "<PIL.Image.Image image mode=RGB size=60x60 at 0x7FA4EDA788B0>"
      ]
     },
     "metadata": {},
     "output_type": "display_data"
    },
    {
     "name": "stdout",
     "output_type": "stream",
     "text": [
      "Learning rate:  0.00015\n",
      "Loss = tensor(1.4927, device='cuda:0', grad_fn=<NllLoss2DBackward>)\n",
      "Loss = tensor(1.4876, device='cuda:0', grad_fn=<NllLoss2DBackward>)\n",
      "EPOCH:  97\n"
     ]
    },
    {
     "data": {
      "image/png": "[encoded data removed]",
      "text/plain": [
       "<PIL.Image.Image image mode=RGB size=60x60 at 0x7FA4EDA788E0>"
      ]
     },
     "metadata": {},
     "output_type": "display_data"
    },
    {
     "name": "stdout",
     "output_type": "stream",
     "text": [
      "Learning rate:  0.00015\n",
      "Loss = tensor(1.4877, device='cuda:0', grad_fn=<NllLoss2DBackward>)\n",
      "Loss = tensor(1.4770, device='cuda:0', grad_fn=<NllLoss2DBackward>)\n",
      "Loss = tensor(1.4954, device='cuda:0', grad_fn=<NllLoss2DBackward>)\n",
      "Loss = tensor(1.4742, device='cuda:0', grad_fn=<NllLoss2DBackward>)\n",
      "Loss = tensor(1.4927, device='cuda:0', grad_fn=<NllLoss2DBackward>)\n",
      "EPOCH:  97\n"
     ]
    },
    {
     "data": {
      "image/png": "[encoded data removed]",
      "text/plain": [
       "<PIL.Image.Image image mode=RGB size=60x60 at 0x7FA4EDA785E0>"
      ]
     },
     "metadata": {},
     "output_type": "display_data"
    },
    {
     "name": "stdout",
     "output_type": "stream",
     "text": [
      "Learning rate:  0.00015\n",
      "Loss = tensor(1.5128, device='cuda:0', grad_fn=<NllLoss2DBackward>)\n",
      "Loss = tensor(1.4828, device='cuda:0', grad_fn=<NllLoss2DBackward>)\n",
      "Loss = tensor(1.4908, device='cuda:0', grad_fn=<NllLoss2DBackward>)\n",
      "Loss = tensor(1.5090, device='cuda:0', grad_fn=<NllLoss2DBackward>)\n",
      "Loss = tensor(1.4905, device='cuda:0', grad_fn=<NllLoss2DBackward>)\n",
      "EPOCH:  97\n"
     ]
    },
    {
     "data": {
      "image/png": "[encoded data removed]",
      "text/plain": [
       "<PIL.Image.Image image mode=RGB size=60x60 at 0x7FA4EDA783D0>"
      ]
     },
     "metadata": {},
     "output_type": "display_data"
    },
    {
     "name": "stdout",
     "output_type": "stream",
     "text": [
      "Learning rate:  0.00015\n",
      "Loss = tensor(1.4875, device='cuda:0', grad_fn=<NllLoss2DBackward>)\n",
      "Loss = tensor(1.5207, device='cuda:0', grad_fn=<NllLoss2DBackward>)\n",
      "EPOCH:  98\n"
     ]
    },
    {
     "data": {
      "image/png": "[encoded data removed]",
      "text/plain": [
       "<PIL.Image.Image image mode=RGB size=60x60 at 0x7FA4EDA785B0>"
      ]
     },
     "metadata": {},
     "output_type": "display_data"
    },
    {
     "name": "stdout",
     "output_type": "stream",
     "text": [
      "Learning rate:  0.00015\n",
      "Loss = tensor(1.4855, device='cuda:0', grad_fn=<NllLoss2DBackward>)\n",
      "Loss = tensor(1.4861, device='cuda:0', grad_fn=<NllLoss2DBackward>)\n",
      "Loss = tensor(1.4953, device='cuda:0', grad_fn=<NllLoss2DBackward>)\n",
      "Loss = tensor(1.4873, device='cuda:0', grad_fn=<NllLoss2DBackward>)\n",
      "Loss = tensor(1.4742, device='cuda:0', grad_fn=<NllLoss2DBackward>)\n",
      "EPOCH:  98\n"
     ]
    },
    {
     "data": {
      "image/png": "[encoded data removed]",
      "text/plain": [
       "<PIL.Image.Image image mode=RGB size=60x60 at 0x7FA4EDA784C0>"
      ]
     },
     "metadata": {},
     "output_type": "display_data"
    },
    {
     "name": "stdout",
     "output_type": "stream",
     "text": [
      "Learning rate:  0.00015\n",
      "Loss = tensor(1.4984, device='cuda:0', grad_fn=<NllLoss2DBackward>)\n",
      "Loss = tensor(1.4972, device='cuda:0', grad_fn=<NllLoss2DBackward>)\n",
      "Loss = tensor(1.4862, device='cuda:0', grad_fn=<NllLoss2DBackward>)\n",
      "Loss = tensor(1.4829, device='cuda:0', grad_fn=<NllLoss2DBackward>)\n",
      "Loss = tensor(1.4853, device='cuda:0', grad_fn=<NllLoss2DBackward>)\n",
      "EPOCH:  98\n"
     ]
    },
    {
     "data": {
      "image/png": "[encoded data removed]",
      "text/plain": [
       "<PIL.Image.Image image mode=RGB size=60x60 at 0x7FA4EDA784C0>"
      ]
     },
     "metadata": {},
     "output_type": "display_data"
    },
    {
     "name": "stdout",
     "output_type": "stream",
     "text": [
      "Learning rate:  0.00015\n",
      "Loss = tensor(1.4793, device='cuda:0', grad_fn=<NllLoss2DBackward>)\n",
      "Loss = tensor(1.4983, device='cuda:0', grad_fn=<NllLoss2DBackward>)\n",
      "EPOCH:  99\n"
     ]
    },
    {
     "data": {
      "image/png": "[encoded data removed]",
      "text/plain": [
       "<PIL.Image.Image image mode=RGB size=60x60 at 0x7FA4EDA78790>"
      ]
     },
     "metadata": {},
     "output_type": "display_data"
    },
    {
     "name": "stdout",
     "output_type": "stream",
     "text": [
      "Learning rate:  0.00015\n",
      "Loss = tensor(1.4778, device='cuda:0', grad_fn=<NllLoss2DBackward>)\n",
      "Loss = tensor(1.4833, device='cuda:0', grad_fn=<NllLoss2DBackward>)\n",
      "Loss = tensor(1.4957, device='cuda:0', grad_fn=<NllLoss2DBackward>)\n",
      "Loss = tensor(1.4929, device='cuda:0', grad_fn=<NllLoss2DBackward>)\n",
      "Loss = tensor(1.4896, device='cuda:0', grad_fn=<NllLoss2DBackward>)\n",
      "EPOCH:  99\n"
     ]
    },
    {
     "data": {
      "image/png": "[encoded data removed]",
      "text/plain": [
       "<PIL.Image.Image image mode=RGB size=60x60 at 0x7FA4EDA78370>"
      ]
     },
     "metadata": {},
     "output_type": "display_data"
    },
    {
     "name": "stdout",
     "output_type": "stream",
     "text": [
      "Learning rate:  0.00015\n",
      "Loss = tensor(1.4888, device='cuda:0', grad_fn=<NllLoss2DBackward>)\n",
      "Loss = tensor(1.4778, device='cuda:0', grad_fn=<NllLoss2DBackward>)\n",
      "Loss = tensor(1.5107, device='cuda:0', grad_fn=<NllLoss2DBackward>)\n",
      "Loss = tensor(1.4869, device='cuda:0', grad_fn=<NllLoss2DBackward>)\n",
      "Loss = tensor(1.4965, device='cuda:0', grad_fn=<NllLoss2DBackward>)\n",
      "EPOCH:  99\n"
     ]
    },
    {
     "data": {
      "image/png": "[encoded data removed]",
      "text/plain": [
       "<PIL.Image.Image image mode=RGB size=60x60 at 0x7FA4EDA78580>"
      ]
     },
     "metadata": {},
     "output_type": "display_data"
    },
    {
     "name": "stdout",
     "output_type": "stream",
     "text": [
      "Learning rate:  0.00015\n",
      "Loss = tensor(1.4843, device='cuda:0', grad_fn=<NllLoss2DBackward>)\n",
      "Loss = tensor(1.4991, device='cuda:0', grad_fn=<NllLoss2DBackward>)\n",
      "EPOCH:  100\n"
     ]
    },
    {
     "data": {
      "image/png": "[encoded data removed]",
      "text/plain": [
       "<PIL.Image.Image image mode=RGB size=60x60 at 0x7FA4EDA788B0>"
      ]
     },
     "metadata": {},
     "output_type": "display_data"
    },
    {
     "name": "stdout",
     "output_type": "stream",
     "text": [
      "Learning rate:  0.00015\n",
      "Loss = tensor(1.4885, device='cuda:0', grad_fn=<NllLoss2DBackward>)\n",
      "Loss = tensor(1.4875, device='cuda:0', grad_fn=<NllLoss2DBackward>)\n",
      "Loss = tensor(1.4798, device='cuda:0', grad_fn=<NllLoss2DBackward>)\n",
      "Loss = tensor(1.4855, device='cuda:0', grad_fn=<NllLoss2DBackward>)\n",
      "Loss = tensor(1.4887, device='cuda:0', grad_fn=<NllLoss2DBackward>)\n",
      "EPOCH:  100\n"
     ]
    },
    {
     "data": {
      "image/png": "[encoded data removed]",
      "text/plain": [
       "<PIL.Image.Image image mode=RGB size=60x60 at 0x7FA4EDA78760>"
      ]
     },
     "metadata": {},
     "output_type": "display_data"
    },
    {
     "name": "stdout",
     "output_type": "stream",
     "text": [
      "Learning rate:  0.00015\n",
      "Loss = tensor(1.4965, device='cuda:0', grad_fn=<NllLoss2DBackward>)\n",
      "Loss = tensor(1.4885, device='cuda:0', grad_fn=<NllLoss2DBackward>)\n",
      "Loss = tensor(1.4821, device='cuda:0', grad_fn=<NllLoss2DBackward>)\n",
      "Loss = tensor(1.4950, device='cuda:0', grad_fn=<NllLoss2DBackward>)\n",
      "Loss = tensor(1.4861, device='cuda:0', grad_fn=<NllLoss2DBackward>)\n",
      "EPOCH:  100\n"
     ]
    },
    {
     "data": {
      "image/png": "[encoded data removed]",
      "text/plain": [
       "<PIL.Image.Image image mode=RGB size=60x60 at 0x7FA4EDA78820>"
      ]
     },
     "metadata": {},
     "output_type": "display_data"
    },
    {
     "name": "stdout",
     "output_type": "stream",
     "text": [
      "Learning rate:  0.00015\n",
      "Loss = tensor(1.4994, device='cuda:0', grad_fn=<NllLoss2DBackward>)\n",
      "Loss = tensor(1.5057, device='cuda:0', grad_fn=<NllLoss2DBackward>)\n",
      "EPOCH:  101\n"
     ]
    },
    {
     "data": {
      "image/png": "[encoded data removed]",
      "text/plain": [
       "<PIL.Image.Image image mode=RGB size=60x60 at 0x7FA4EDA78880>"
      ]
     },
     "metadata": {},
     "output_type": "display_data"
    },
    {
     "name": "stdout",
     "output_type": "stream",
     "text": [
      "Learning rate:  0.00015\n",
      "Loss = tensor(1.4852, device='cuda:0', grad_fn=<NllLoss2DBackward>)\n",
      "Loss = tensor(1.4887, device='cuda:0', grad_fn=<NllLoss2DBackward>)\n",
      "Loss = tensor(1.4754, device='cuda:0', grad_fn=<NllLoss2DBackward>)\n",
      "Loss = tensor(1.4823, device='cuda:0', grad_fn=<NllLoss2DBackward>)\n",
      "Loss = tensor(1.5055, device='cuda:0', grad_fn=<NllLoss2DBackward>)\n",
      "EPOCH:  101\n"
     ]
    },
    {
     "data": {
      "image/png": "[encoded data removed]",
      "text/plain": [
       "<PIL.Image.Image image mode=RGB size=60x60 at 0x7FA4EDA788B0>"
      ]
     },
     "metadata": {},
     "output_type": "display_data"
    },
    {
     "name": "stdout",
     "output_type": "stream",
     "text": [
      "Learning rate:  0.00015\n",
      "Loss = tensor(1.4890, device='cuda:0', grad_fn=<NllLoss2DBackward>)\n",
      "Loss = tensor(1.4909, device='cuda:0', grad_fn=<NllLoss2DBackward>)\n",
      "Loss = tensor(1.4970, device='cuda:0', grad_fn=<NllLoss2DBackward>)\n",
      "Loss = tensor(1.4805, device='cuda:0', grad_fn=<NllLoss2DBackward>)\n",
      "Loss = tensor(1.4960, device='cuda:0', grad_fn=<NllLoss2DBackward>)\n",
      "EPOCH:  101\n"
     ]
    },
    {
     "data": {
      "image/png": "[encoded data removed]",
      "text/plain": [
       "<PIL.Image.Image image mode=RGB size=60x60 at 0x7FA4EDA788E0>"
      ]
     },
     "metadata": {},
     "output_type": "display_data"
    },
    {
     "name": "stdout",
     "output_type": "stream",
     "text": [
      "Learning rate:  0.00015\n",
      "Loss = tensor(1.4893, device='cuda:0', grad_fn=<NllLoss2DBackward>)\n",
      "Loss = tensor(1.4772, device='cuda:0', grad_fn=<NllLoss2DBackward>)\n",
      "EPOCH:  102\n"
     ]
    },
    {
     "data": {
      "image/png": "[encoded data removed]",
      "text/plain": [
       "<PIL.Image.Image image mode=RGB size=60x60 at 0x7FA4EDA784C0>"
      ]
     },
     "metadata": {},
     "output_type": "display_data"
    },
    {
     "name": "stdout",
     "output_type": "stream",
     "text": [
      "Learning rate:  0.00015\n",
      "Loss = tensor(1.4986, device='cuda:0', grad_fn=<NllLoss2DBackward>)\n",
      "Loss = tensor(1.4782, device='cuda:0', grad_fn=<NllLoss2DBackward>)\n",
      "Loss = tensor(1.4990, device='cuda:0', grad_fn=<NllLoss2DBackward>)\n",
      "Loss = tensor(1.5021, device='cuda:0', grad_fn=<NllLoss2DBackward>)\n",
      "Loss = tensor(1.5054, device='cuda:0', grad_fn=<NllLoss2DBackward>)\n",
      "EPOCH:  102\n"
     ]
    },
    {
     "data": {
      "image/png": "[encoded data removed]",
      "text/plain": [
       "<PIL.Image.Image image mode=RGB size=60x60 at 0x7FA4EDA786A0>"
      ]
     },
     "metadata": {},
     "output_type": "display_data"
    },
    {
     "name": "stdout",
     "output_type": "stream",
     "text": [
      "Learning rate:  0.00015\n",
      "Loss = tensor(1.4842, device='cuda:0', grad_fn=<NllLoss2DBackward>)\n",
      "Loss = tensor(1.4851, device='cuda:0', grad_fn=<NllLoss2DBackward>)\n",
      "Loss = tensor(1.4835, device='cuda:0', grad_fn=<NllLoss2DBackward>)\n",
      "Loss = tensor(1.4970, device='cuda:0', grad_fn=<NllLoss2DBackward>)\n",
      "Loss = tensor(1.4807, device='cuda:0', grad_fn=<NllLoss2DBackward>)\n",
      "EPOCH:  102\n"
     ]
    },
    {
     "data": {
      "image/png": "[encoded data removed]",
      "text/plain": [
       "<PIL.Image.Image image mode=RGB size=60x60 at 0x7FA4EDA78790>"
      ]
     },
     "metadata": {},
     "output_type": "display_data"
    },
    {
     "name": "stdout",
     "output_type": "stream",
     "text": [
      "Learning rate:  0.00015\n",
      "Loss = tensor(1.4802, device='cuda:0', grad_fn=<NllLoss2DBackward>)\n",
      "Loss = tensor(1.4929, device='cuda:0', grad_fn=<NllLoss2DBackward>)\n",
      "EPOCH:  103\n"
     ]
    },
    {
     "data": {
      "image/png": "[encoded data removed]",
      "text/plain": [
       "<PIL.Image.Image image mode=RGB size=60x60 at 0x7FA4EDA784C0>"
      ]
     },
     "metadata": {},
     "output_type": "display_data"
    },
    {
     "name": "stdout",
     "output_type": "stream",
     "text": [
      "Learning rate:  0.00015\n",
      "Loss = tensor(1.4739, device='cuda:0', grad_fn=<NllLoss2DBackward>)\n",
      "Loss = tensor(1.4958, device='cuda:0', grad_fn=<NllLoss2DBackward>)\n",
      "Loss = tensor(1.4915, device='cuda:0', grad_fn=<NllLoss2DBackward>)\n",
      "Loss = tensor(1.5092, device='cuda:0', grad_fn=<NllLoss2DBackward>)\n",
      "Loss = tensor(1.5036, device='cuda:0', grad_fn=<NllLoss2DBackward>)\n",
      "EPOCH:  103\n"
     ]
    },
    {
     "data": {
      "image/png": "[encoded data removed]",
      "text/plain": [
       "<PIL.Image.Image image mode=RGB size=60x60 at 0x7FA4EDA785E0>"
      ]
     },
     "metadata": {},
     "output_type": "display_data"
    },
    {
     "name": "stdout",
     "output_type": "stream",
     "text": [
      "Learning rate:  0.00015\n",
      "Loss = tensor(1.4879, device='cuda:0', grad_fn=<NllLoss2DBackward>)\n",
      "Loss = tensor(1.4880, device='cuda:0', grad_fn=<NllLoss2DBackward>)\n",
      "Loss = tensor(1.4850, device='cuda:0', grad_fn=<NllLoss2DBackward>)\n",
      "Loss = tensor(1.4845, device='cuda:0', grad_fn=<NllLoss2DBackward>)\n",
      "Loss = tensor(1.4844, device='cuda:0', grad_fn=<NllLoss2DBackward>)\n",
      "EPOCH:  103\n"
     ]
    },
    {
     "data": {
      "image/png": "[encoded data removed]",
      "text/plain": [
       "<PIL.Image.Image image mode=RGB size=60x60 at 0x7FA4EDA78610>"
      ]
     },
     "metadata": {},
     "output_type": "display_data"
    },
    {
     "name": "stdout",
     "output_type": "stream",
     "text": [
      "Learning rate:  0.00015\n",
      "Loss = tensor(1.4798, device='cuda:0', grad_fn=<NllLoss2DBackward>)\n",
      "Loss = tensor(1.4806, device='cuda:0', grad_fn=<NllLoss2DBackward>)\n",
      "EPOCH:  104\n"
     ]
    },
    {
     "data": {
      "image/png": "[encoded data removed]",
      "text/plain": [
       "<PIL.Image.Image image mode=RGB size=60x60 at 0x7FA4EDA78610>"
      ]
     },
     "metadata": {},
     "output_type": "display_data"
    },
    {
     "name": "stdout",
     "output_type": "stream",
     "text": [
      "Learning rate:  0.00015\n",
      "Loss = tensor(1.4888, device='cuda:0', grad_fn=<NllLoss2DBackward>)\n",
      "Loss = tensor(1.4929, device='cuda:0', grad_fn=<NllLoss2DBackward>)\n",
      "Loss = tensor(1.4958, device='cuda:0', grad_fn=<NllLoss2DBackward>)\n",
      "Loss = tensor(1.4843, device='cuda:0', grad_fn=<NllLoss2DBackward>)\n",
      "Loss = tensor(1.4941, device='cuda:0', grad_fn=<NllLoss2DBackward>)\n",
      "EPOCH:  104\n"
     ]
    },
    {
     "data": {
      "image/png": "[encoded data removed]",
      "text/plain": [
       "<PIL.Image.Image image mode=RGB size=60x60 at 0x7FA4EDA78880>"
      ]
     },
     "metadata": {},
     "output_type": "display_data"
    },
    {
     "name": "stdout",
     "output_type": "stream",
     "text": [
      "Learning rate:  0.00015\n",
      "Loss = tensor(1.4910, device='cuda:0', grad_fn=<NllLoss2DBackward>)\n",
      "Loss = tensor(1.4890, device='cuda:0', grad_fn=<NllLoss2DBackward>)\n",
      "Loss = tensor(1.4787, device='cuda:0', grad_fn=<NllLoss2DBackward>)\n",
      "Loss = tensor(1.4846, device='cuda:0', grad_fn=<NllLoss2DBackward>)\n",
      "Loss = tensor(1.4942, device='cuda:0', grad_fn=<NllLoss2DBackward>)\n",
      "EPOCH:  104\n"
     ]
    },
    {
     "data": {
      "image/png": "[encoded data removed]",
      "text/plain": [
       "<PIL.Image.Image image mode=RGB size=60x60 at 0x7FA4EDA78550>"
      ]
     },
     "metadata": {},
     "output_type": "display_data"
    },
    {
     "name": "stdout",
     "output_type": "stream",
     "text": [
      "Learning rate:  0.00015\n",
      "Loss = tensor(1.4956, device='cuda:0', grad_fn=<NllLoss2DBackward>)\n",
      "Loss = tensor(1.4972, device='cuda:0', grad_fn=<NllLoss2DBackward>)\n",
      "EPOCH:  105\n"
     ]
    },
    {
     "data": {
      "image/png": "[encoded data removed]",
      "text/plain": [
       "<PIL.Image.Image image mode=RGB size=60x60 at 0x7FA4EDA78610>"
      ]
     },
     "metadata": {},
     "output_type": "display_data"
    },
    {
     "name": "stdout",
     "output_type": "stream",
     "text": [
      "Learning rate:  0.00015\n",
      "Loss = tensor(1.4974, device='cuda:0', grad_fn=<NllLoss2DBackward>)\n",
      "Loss = tensor(1.4797, device='cuda:0', grad_fn=<NllLoss2DBackward>)\n",
      "Loss = tensor(1.4871, device='cuda:0', grad_fn=<NllLoss2DBackward>)\n",
      "Loss = tensor(1.4761, device='cuda:0', grad_fn=<NllLoss2DBackward>)\n",
      "Loss = tensor(1.4950, device='cuda:0', grad_fn=<NllLoss2DBackward>)\n",
      "EPOCH:  105\n"
     ]
    },
    {
     "data": {
      "image/png": "[encoded data removed]",
      "text/plain": [
       "<PIL.Image.Image image mode=RGB size=60x60 at 0x7FA4EDA78670>"
      ]
     },
     "metadata": {},
     "output_type": "display_data"
    },
    {
     "name": "stdout",
     "output_type": "stream",
     "text": [
      "Learning rate:  0.00015\n",
      "Loss = tensor(1.5027, device='cuda:0', grad_fn=<NllLoss2DBackward>)\n",
      "Loss = tensor(1.4821, device='cuda:0', grad_fn=<NllLoss2DBackward>)\n",
      "Loss = tensor(1.4948, device='cuda:0', grad_fn=<NllLoss2DBackward>)\n",
      "Loss = tensor(1.4851, device='cuda:0', grad_fn=<NllLoss2DBackward>)\n",
      "Loss = tensor(1.4893, device='cuda:0', grad_fn=<NllLoss2DBackward>)\n",
      "EPOCH:  105\n"
     ]
    },
    {
     "data": {
      "image/png": "[encoded data removed]",
      "text/plain": [
       "<PIL.Image.Image image mode=RGB size=60x60 at 0x7FA4EDA787C0>"
      ]
     },
     "metadata": {},
     "output_type": "display_data"
    },
    {
     "name": "stdout",
     "output_type": "stream",
     "text": [
      "Learning rate:  0.00015\n",
      "Loss = tensor(1.4829, device='cuda:0', grad_fn=<NllLoss2DBackward>)\n",
      "Loss = tensor(1.4755, device='cuda:0', grad_fn=<NllLoss2DBackward>)\n",
      "EPOCH:  106\n"
     ]
    },
    {
     "data": {
      "image/png": "[encoded data removed]",
      "text/plain": [
       "<PIL.Image.Image image mode=RGB size=60x60 at 0x7FA4EDA788E0>"
      ]
     },
     "metadata": {},
     "output_type": "display_data"
    },
    {
     "name": "stdout",
     "output_type": "stream",
     "text": [
      "Learning rate:  0.00015\n",
      "Loss = tensor(1.4839, device='cuda:0', grad_fn=<NllLoss2DBackward>)\n",
      "Loss = tensor(1.4832, device='cuda:0', grad_fn=<NllLoss2DBackward>)\n",
      "Loss = tensor(1.4925, device='cuda:0', grad_fn=<NllLoss2DBackward>)\n",
      "Loss = tensor(1.4804, device='cuda:0', grad_fn=<NllLoss2DBackward>)\n",
      "Loss = tensor(1.4916, device='cuda:0', grad_fn=<NllLoss2DBackward>)\n",
      "EPOCH:  106\n"
     ]
    },
    {
     "data": {
      "image/png": "[encoded data removed]",
      "text/plain": [
       "<PIL.Image.Image image mode=RGB size=60x60 at 0x7FA4EDA78370>"
      ]
     },
     "metadata": {},
     "output_type": "display_data"
    },
    {
     "name": "stdout",
     "output_type": "stream",
     "text": [
      "Learning rate:  0.00015\n",
      "Loss = tensor(1.5036, device='cuda:0', grad_fn=<NllLoss2DBackward>)\n",
      "Loss = tensor(1.4860, device='cuda:0', grad_fn=<NllLoss2DBackward>)\n",
      "Loss = tensor(1.4734, device='cuda:0', grad_fn=<NllLoss2DBackward>)\n",
      "Loss = tensor(1.5000, device='cuda:0', grad_fn=<NllLoss2DBackward>)\n",
      "Loss = tensor(1.4988, device='cuda:0', grad_fn=<NllLoss2DBackward>)\n",
      "EPOCH:  106\n"
     ]
    },
    {
     "data": {
      "image/png": "[encoded data removed]",
      "text/plain": [
       "<PIL.Image.Image image mode=RGB size=60x60 at 0x7FA4EDA78790>"
      ]
     },
     "metadata": {},
     "output_type": "display_data"
    },
    {
     "name": "stdout",
     "output_type": "stream",
     "text": [
      "Learning rate:  0.00015\n",
      "Loss = tensor(1.5005, device='cuda:0', grad_fn=<NllLoss2DBackward>)\n",
      "Loss = tensor(1.5011, device='cuda:0', grad_fn=<NllLoss2DBackward>)\n",
      "EPOCH:  107\n"
     ]
    },
    {
     "data": {
      "image/png": "[encoded data removed]",
      "text/plain": [
       "<PIL.Image.Image image mode=RGB size=60x60 at 0x7FA4EDA78670>"
      ]
     },
     "metadata": {},
     "output_type": "display_data"
    },
    {
     "name": "stdout",
     "output_type": "stream",
     "text": [
      "Learning rate:  0.00015\n",
      "Loss = tensor(1.4819, device='cuda:0', grad_fn=<NllLoss2DBackward>)\n",
      "Loss = tensor(1.4847, device='cuda:0', grad_fn=<NllLoss2DBackward>)\n",
      "Loss = tensor(1.4909, device='cuda:0', grad_fn=<NllLoss2DBackward>)\n",
      "Loss = tensor(1.4813, device='cuda:0', grad_fn=<NllLoss2DBackward>)\n",
      "Loss = tensor(1.4853, device='cuda:0', grad_fn=<NllLoss2DBackward>)\n",
      "EPOCH:  107\n"
     ]
    },
    {
     "data": {
      "image/png": "[encoded data removed]",
      "text/plain": [
       "<PIL.Image.Image image mode=RGB size=60x60 at 0x7FA4EDA783D0>"
      ]
     },
     "metadata": {},
     "output_type": "display_data"
    },
    {
     "name": "stdout",
     "output_type": "stream",
     "text": [
      "Learning rate:  0.00015\n",
      "Loss = tensor(1.4899, device='cuda:0', grad_fn=<NllLoss2DBackward>)\n",
      "Loss = tensor(1.4920, device='cuda:0', grad_fn=<NllLoss2DBackward>)\n",
      "Loss = tensor(1.4766, device='cuda:0', grad_fn=<NllLoss2DBackward>)\n",
      "Loss = tensor(1.4909, device='cuda:0', grad_fn=<NllLoss2DBackward>)\n",
      "Loss = tensor(1.4952, device='cuda:0', grad_fn=<NllLoss2DBackward>)\n",
      "EPOCH:  107\n"
     ]
    },
    {
     "data": {
      "image/png": "[encoded data removed]",
      "text/plain": [
       "<PIL.Image.Image image mode=RGB size=60x60 at 0x7FA4EDA78760>"
      ]
     },
     "metadata": {},
     "output_type": "display_data"
    },
    {
     "name": "stdout",
     "output_type": "stream",
     "text": [
      "Learning rate:  0.00015\n",
      "Loss = tensor(1.5040, device='cuda:0', grad_fn=<NllLoss2DBackward>)\n",
      "Loss = tensor(1.4984, device='cuda:0', grad_fn=<NllLoss2DBackward>)\n",
      "EPOCH:  108\n"
     ]
    },
    {
     "data": {
      "image/png": "[encoded data removed]",
      "text/plain": [
       "<PIL.Image.Image image mode=RGB size=60x60 at 0x7FA4EDA786A0>"
      ]
     },
     "metadata": {},
     "output_type": "display_data"
    },
    {
     "name": "stdout",
     "output_type": "stream",
     "text": [
      "Learning rate:  0.00015\n",
      "Loss = tensor(1.4685, device='cuda:0', grad_fn=<NllLoss2DBackward>)\n",
      "Loss = tensor(1.4948, device='cuda:0', grad_fn=<NllLoss2DBackward>)\n",
      "Loss = tensor(1.4751, device='cuda:0', grad_fn=<NllLoss2DBackward>)\n",
      "Loss = tensor(1.4841, device='cuda:0', grad_fn=<NllLoss2DBackward>)\n",
      "Loss = tensor(1.4917, device='cuda:0', grad_fn=<NllLoss2DBackward>)\n",
      "EPOCH:  108\n"
     ]
    },
    {
     "data": {
      "image/png": "[encoded data removed]",
      "text/plain": [
       "<PIL.Image.Image image mode=RGB size=60x60 at 0x7FA4EDA788E0>"
      ]
     },
     "metadata": {},
     "output_type": "display_data"
    },
    {
     "name": "stdout",
     "output_type": "stream",
     "text": [
      "Learning rate:  0.00015\n",
      "Loss = tensor(1.4950, device='cuda:0', grad_fn=<NllLoss2DBackward>)\n",
      "Loss = tensor(1.4962, device='cuda:0', grad_fn=<NllLoss2DBackward>)\n",
      "Loss = tensor(1.4951, device='cuda:0', grad_fn=<NllLoss2DBackward>)\n",
      "Loss = tensor(1.4938, device='cuda:0', grad_fn=<NllLoss2DBackward>)\n",
      "Loss = tensor(1.4960, device='cuda:0', grad_fn=<NllLoss2DBackward>)\n",
      "EPOCH:  108\n"
     ]
    },
    {
     "data": {
      "image/png": "[encoded data removed]",
      "text/plain": [
       "<PIL.Image.Image image mode=RGB size=60x60 at 0x7FA4EDA78790>"
      ]
     },
     "metadata": {},
     "output_type": "display_data"
    },
    {
     "name": "stdout",
     "output_type": "stream",
     "text": [
      "Learning rate:  0.00015\n",
      "Loss = tensor(1.4798, device='cuda:0', grad_fn=<NllLoss2DBackward>)\n",
      "Loss = tensor(1.4996, device='cuda:0', grad_fn=<NllLoss2DBackward>)\n",
      "EPOCH:  109\n"
     ]
    },
    {
     "data": {
      "image/png": "[encoded data removed]",
      "text/plain": [
       "<PIL.Image.Image image mode=RGB size=60x60 at 0x7FA4EDA78340>"
      ]
     },
     "metadata": {},
     "output_type": "display_data"
    },
    {
     "name": "stdout",
     "output_type": "stream",
     "text": [
      "Learning rate:  0.00015\n",
      "Loss = tensor(1.4921, device='cuda:0', grad_fn=<NllLoss2DBackward>)\n",
      "Loss = tensor(1.4976, device='cuda:0', grad_fn=<NllLoss2DBackward>)\n",
      "Loss = tensor(1.4888, device='cuda:0', grad_fn=<NllLoss2DBackward>)\n",
      "Loss = tensor(1.5028, device='cuda:0', grad_fn=<NllLoss2DBackward>)\n",
      "Loss = tensor(1.4786, device='cuda:0', grad_fn=<NllLoss2DBackward>)\n",
      "EPOCH:  109\n"
     ]
    },
    {
     "data": {
      "image/png": "[encoded data removed]",
      "text/plain": [
       "<PIL.Image.Image image mode=RGB size=60x60 at 0x7FA4EDA78790>"
      ]
     },
     "metadata": {},
     "output_type": "display_data"
    },
    {
     "name": "stdout",
     "output_type": "stream",
     "text": [
      "Learning rate:  0.00015\n",
      "Loss = tensor(1.4894, device='cuda:0', grad_fn=<NllLoss2DBackward>)\n",
      "Loss = tensor(1.4713, device='cuda:0', grad_fn=<NllLoss2DBackward>)\n",
      "Loss = tensor(1.4769, device='cuda:0', grad_fn=<NllLoss2DBackward>)\n",
      "Loss = tensor(1.4994, device='cuda:0', grad_fn=<NllLoss2DBackward>)\n",
      "Loss = tensor(1.4900, device='cuda:0', grad_fn=<NllLoss2DBackward>)\n",
      "EPOCH:  109\n"
     ]
    },
    {
     "data": {
      "image/png": "[encoded data removed]",
      "text/plain": [
       "<PIL.Image.Image image mode=RGB size=60x60 at 0x7FA4EDA787C0>"
      ]
     },
     "metadata": {},
     "output_type": "display_data"
    },
    {
     "name": "stdout",
     "output_type": "stream",
     "text": [
      "Learning rate:  0.00015\n",
      "Loss = tensor(1.4765, device='cuda:0', grad_fn=<NllLoss2DBackward>)\n",
      "Loss = tensor(1.4807, device='cuda:0', grad_fn=<NllLoss2DBackward>)\n",
      "EPOCH:  110\n"
     ]
    },
    {
     "data": {
      "image/png": "[encoded data removed]",
      "text/plain": [
       "<PIL.Image.Image image mode=RGB size=60x60 at 0x7FA4EDA78580>"
      ]
     },
     "metadata": {},
     "output_type": "display_data"
    },
    {
     "name": "stdout",
     "output_type": "stream",
     "text": [
      "Learning rate:  0.00015\n",
      "Loss = tensor(1.4763, device='cuda:0', grad_fn=<NllLoss2DBackward>)\n",
      "Loss = tensor(1.4917, device='cuda:0', grad_fn=<NllLoss2DBackward>)\n",
      "Loss = tensor(1.4975, device='cuda:0', grad_fn=<NllLoss2DBackward>)\n",
      "Loss = tensor(1.4938, device='cuda:0', grad_fn=<NllLoss2DBackward>)\n",
      "Loss = tensor(1.4896, device='cuda:0', grad_fn=<NllLoss2DBackward>)\n",
      "EPOCH:  110\n"
     ]
    },
    {
     "data": {
      "image/png": "[encoded data removed]",
      "text/plain": [
       "<PIL.Image.Image image mode=RGB size=60x60 at 0x7FA4EDA788B0>"
      ]
     },
     "metadata": {},
     "output_type": "display_data"
    },
    {
     "name": "stdout",
     "output_type": "stream",
     "text": [
      "Learning rate:  0.00015\n",
      "Loss = tensor(1.4803, device='cuda:0', grad_fn=<NllLoss2DBackward>)\n",
      "Loss = tensor(1.5062, device='cuda:0', grad_fn=<NllLoss2DBackward>)\n",
      "Loss = tensor(1.4782, device='cuda:0', grad_fn=<NllLoss2DBackward>)\n",
      "Loss = tensor(1.4819, device='cuda:0', grad_fn=<NllLoss2DBackward>)\n",
      "Loss = tensor(1.4961, device='cuda:0', grad_fn=<NllLoss2DBackward>)\n",
      "EPOCH:  110\n"
     ]
    },
    {
     "data": {
      "image/png": "[encoded data removed]",
      "text/plain": [
       "<PIL.Image.Image image mode=RGB size=60x60 at 0x7FA4EDA78370>"
      ]
     },
     "metadata": {},
     "output_type": "display_data"
    },
    {
     "name": "stdout",
     "output_type": "stream",
     "text": [
      "Learning rate:  0.00015\n",
      "Loss = tensor(1.4968, device='cuda:0', grad_fn=<NllLoss2DBackward>)\n",
      "Loss = tensor(1.5178, device='cuda:0', grad_fn=<NllLoss2DBackward>)\n",
      "EPOCH:  111\n"
     ]
    },
    {
     "data": {
      "image/png": "[encoded data removed]",
      "text/plain": [
       "<PIL.Image.Image image mode=RGB size=60x60 at 0x7FA4EDA78880>"
      ]
     },
     "metadata": {},
     "output_type": "display_data"
    },
    {
     "name": "stdout",
     "output_type": "stream",
     "text": [
      "Learning rate:  0.00015\n",
      "Loss = tensor(1.4952, device='cuda:0', grad_fn=<NllLoss2DBackward>)\n",
      "Loss = tensor(1.4954, device='cuda:0', grad_fn=<NllLoss2DBackward>)\n",
      "Loss = tensor(1.4860, device='cuda:0', grad_fn=<NllLoss2DBackward>)\n",
      "Loss = tensor(1.4934, device='cuda:0', grad_fn=<NllLoss2DBackward>)\n",
      "Loss = tensor(1.4859, device='cuda:0', grad_fn=<NllLoss2DBackward>)\n",
      "EPOCH:  111\n"
     ]
    },
    {
     "data": {
      "image/png": "[encoded data removed]",
      "text/plain": [
       "<PIL.Image.Image image mode=RGB size=60x60 at 0x7FA4EDA78370>"
      ]
     },
     "metadata": {},
     "output_type": "display_data"
    },
    {
     "name": "stdout",
     "output_type": "stream",
     "text": [
      "Learning rate:  0.00015\n",
      "Loss = tensor(1.4841, device='cuda:0', grad_fn=<NllLoss2DBackward>)\n",
      "Loss = tensor(1.4707, device='cuda:0', grad_fn=<NllLoss2DBackward>)\n",
      "Loss = tensor(1.4762, device='cuda:0', grad_fn=<NllLoss2DBackward>)\n",
      "Loss = tensor(1.4844, device='cuda:0', grad_fn=<NllLoss2DBackward>)\n",
      "Loss = tensor(1.4862, device='cuda:0', grad_fn=<NllLoss2DBackward>)\n",
      "EPOCH:  111\n"
     ]
    },
    {
     "data": {
      "image/png": "[encoded data removed]",
      "text/plain": [
       "<PIL.Image.Image image mode=RGB size=60x60 at 0x7FA4EDA788E0>"
      ]
     },
     "metadata": {},
     "output_type": "display_data"
    },
    {
     "name": "stdout",
     "output_type": "stream",
     "text": [
      "Learning rate:  0.00015\n",
      "Loss = tensor(1.4916, device='cuda:0', grad_fn=<NllLoss2DBackward>)\n",
      "Loss = tensor(1.4923, device='cuda:0', grad_fn=<NllLoss2DBackward>)\n",
      "EPOCH:  112\n"
     ]
    },
    {
     "data": {
      "image/png": "[encoded data removed]",
      "text/plain": [
       "<PIL.Image.Image image mode=RGB size=60x60 at 0x7FA4EDA78850>"
      ]
     },
     "metadata": {},
     "output_type": "display_data"
    },
    {
     "name": "stdout",
     "output_type": "stream",
     "text": [
      "Learning rate:  0.00015\n",
      "Loss = tensor(1.4923, device='cuda:0', grad_fn=<NllLoss2DBackward>)\n",
      "Loss = tensor(1.4748, device='cuda:0', grad_fn=<NllLoss2DBackward>)\n",
      "Loss = tensor(1.4816, device='cuda:0', grad_fn=<NllLoss2DBackward>)\n",
      "Loss = tensor(1.4880, device='cuda:0', grad_fn=<NllLoss2DBackward>)\n",
      "Loss = tensor(1.4787, device='cuda:0', grad_fn=<NllLoss2DBackward>)\n",
      "EPOCH:  112\n"
     ]
    },
    {
     "data": {
      "image/png": "[encoded data removed]",
      "text/plain": [
       "<PIL.Image.Image image mode=RGB size=60x60 at 0x7FA4EDA78760>"
      ]
     },
     "metadata": {},
     "output_type": "display_data"
    },
    {
     "name": "stdout",
     "output_type": "stream",
     "text": [
      "Learning rate:  0.00015\n",
      "Loss = tensor(1.4802, device='cuda:0', grad_fn=<NllLoss2DBackward>)\n",
      "Loss = tensor(1.4938, device='cuda:0', grad_fn=<NllLoss2DBackward>)\n",
      "Loss = tensor(1.4969, device='cuda:0', grad_fn=<NllLoss2DBackward>)\n",
      "Loss = tensor(1.4990, device='cuda:0', grad_fn=<NllLoss2DBackward>)\n",
      "Loss = tensor(1.5063, device='cuda:0', grad_fn=<NllLoss2DBackward>)\n",
      "EPOCH:  112\n"
     ]
    },
    {
     "data": {
      "image/png": "[encoded data removed]",
      "text/plain": [
       "<PIL.Image.Image image mode=RGB size=60x60 at 0x7FA4EDA783D0>"
      ]
     },
     "metadata": {},
     "output_type": "display_data"
    },
    {
     "name": "stdout",
     "output_type": "stream",
     "text": [
      "Learning rate:  0.00015\n",
      "Loss = tensor(1.4871, device='cuda:0', grad_fn=<NllLoss2DBackward>)\n",
      "Loss = tensor(1.4869, device='cuda:0', grad_fn=<NllLoss2DBackward>)\n",
      "EPOCH:  113\n"
     ]
    },
    {
     "data": {
      "image/png": "[encoded data removed]",
      "text/plain": [
       "<PIL.Image.Image image mode=RGB size=60x60 at 0x7FA4EDA78550>"
      ]
     },
     "metadata": {},
     "output_type": "display_data"
    },
    {
     "name": "stdout",
     "output_type": "stream",
     "text": [
      "Learning rate:  0.00015\n",
      "Loss = tensor(1.5034, device='cuda:0', grad_fn=<NllLoss2DBackward>)\n",
      "Loss = tensor(1.4847, device='cuda:0', grad_fn=<NllLoss2DBackward>)\n",
      "Loss = tensor(1.4917, device='cuda:0', grad_fn=<NllLoss2DBackward>)\n",
      "Loss = tensor(1.5116, device='cuda:0', grad_fn=<NllLoss2DBackward>)\n",
      "Loss = tensor(1.4818, device='cuda:0', grad_fn=<NllLoss2DBackward>)\n",
      "EPOCH:  113\n"
     ]
    },
    {
     "data": {
      "image/png": "[encoded data removed]",
      "text/plain": [
       "<PIL.Image.Image image mode=RGB size=60x60 at 0x7FA4EDA78790>"
      ]
     },
     "metadata": {},
     "output_type": "display_data"
    },
    {
     "name": "stdout",
     "output_type": "stream",
     "text": [
      "Learning rate:  0.00015\n",
      "Loss = tensor(1.4799, device='cuda:0', grad_fn=<NllLoss2DBackward>)\n",
      "Loss = tensor(1.4717, device='cuda:0', grad_fn=<NllLoss2DBackward>)\n",
      "Loss = tensor(1.5063, device='cuda:0', grad_fn=<NllLoss2DBackward>)\n",
      "Loss = tensor(1.4836, device='cuda:0', grad_fn=<NllLoss2DBackward>)\n",
      "Loss = tensor(1.4750, device='cuda:0', grad_fn=<NllLoss2DBackward>)\n",
      "EPOCH:  113\n"
     ]
    },
    {
     "data": {
      "image/png": "[encoded data removed]",
      "text/plain": [
       "<PIL.Image.Image image mode=RGB size=60x60 at 0x7FA4EDA78370>"
      ]
     },
     "metadata": {},
     "output_type": "display_data"
    },
    {
     "name": "stdout",
     "output_type": "stream",
     "text": [
      "Learning rate:  0.00015\n",
      "Loss = tensor(1.4896, device='cuda:0', grad_fn=<NllLoss2DBackward>)\n",
      "Loss = tensor(1.5019, device='cuda:0', grad_fn=<NllLoss2DBackward>)\n",
      "EPOCH:  114\n"
     ]
    },
    {
     "data": {
      "image/png": "[encoded data removed]",
      "text/plain": [
       "<PIL.Image.Image image mode=RGB size=60x60 at 0x7FA4EDA783D0>"
      ]
     },
     "metadata": {},
     "output_type": "display_data"
    },
    {
     "name": "stdout",
     "output_type": "stream",
     "text": [
      "Learning rate:  0.00015\n",
      "Loss = tensor(1.4763, device='cuda:0', grad_fn=<NllLoss2DBackward>)\n",
      "Loss = tensor(1.4936, device='cuda:0', grad_fn=<NllLoss2DBackward>)\n",
      "Loss = tensor(1.4856, device='cuda:0', grad_fn=<NllLoss2DBackward>)\n",
      "Loss = tensor(1.4848, device='cuda:0', grad_fn=<NllLoss2DBackward>)\n",
      "Loss = tensor(1.4830, device='cuda:0', grad_fn=<NllLoss2DBackward>)\n",
      "EPOCH:  114\n"
     ]
    },
    {
     "data": {
      "image/png": "[encoded data removed]",
      "text/plain": [
       "<PIL.Image.Image image mode=RGB size=60x60 at 0x7FA4EDA78790>"
      ]
     },
     "metadata": {},
     "output_type": "display_data"
    },
    {
     "name": "stdout",
     "output_type": "stream",
     "text": [
      "Learning rate:  0.00015\n",
      "Loss = tensor(1.4884, device='cuda:0', grad_fn=<NllLoss2DBackward>)\n",
      "Loss = tensor(1.4782, device='cuda:0', grad_fn=<NllLoss2DBackward>)\n",
      "Loss = tensor(1.4961, device='cuda:0', grad_fn=<NllLoss2DBackward>)\n",
      "Loss = tensor(1.4970, device='cuda:0', grad_fn=<NllLoss2DBackward>)\n",
      "Loss = tensor(1.5011, device='cuda:0', grad_fn=<NllLoss2DBackward>)\n",
      "EPOCH:  114\n"
     ]
    },
    {
     "data": {
      "image/png": "[encoded data removed]",
      "text/plain": [
       "<PIL.Image.Image image mode=RGB size=60x60 at 0x7FA4EDA786A0>"
      ]
     },
     "metadata": {},
     "output_type": "display_data"
    },
    {
     "name": "stdout",
     "output_type": "stream",
     "text": [
      "Learning rate:  0.00015\n",
      "Loss = tensor(1.4869, device='cuda:0', grad_fn=<NllLoss2DBackward>)\n",
      "Loss = tensor(1.4933, device='cuda:0', grad_fn=<NllLoss2DBackward>)\n",
      "EPOCH:  115\n"
     ]
    },
    {
     "data": {
      "image/png": "[encoded data removed]",
      "text/plain": [
       "<PIL.Image.Image image mode=RGB size=60x60 at 0x7FA4EDA78580>"
      ]
     },
     "metadata": {},
     "output_type": "display_data"
    },
    {
     "name": "stdout",
     "output_type": "stream",
     "text": [
      "Learning rate:  0.00015\n",
      "Loss = tensor(1.4784, device='cuda:0', grad_fn=<NllLoss2DBackward>)\n",
      "Loss = tensor(1.4984, device='cuda:0', grad_fn=<NllLoss2DBackward>)\n",
      "Loss = tensor(1.4821, device='cuda:0', grad_fn=<NllLoss2DBackward>)\n",
      "Loss = tensor(1.4797, device='cuda:0', grad_fn=<NllLoss2DBackward>)\n",
      "Loss = tensor(1.4840, device='cuda:0', grad_fn=<NllLoss2DBackward>)\n",
      "EPOCH:  115\n"
     ]
    },
    {
     "data": {
      "image/png": "[encoded data removed]",
      "text/plain": [
       "<PIL.Image.Image image mode=RGB size=60x60 at 0x7FA4EDA783D0>"
      ]
     },
     "metadata": {},
     "output_type": "display_data"
    },
    {
     "name": "stdout",
     "output_type": "stream",
     "text": [
      "Learning rate:  0.00015\n",
      "Loss = tensor(1.5024, device='cuda:0', grad_fn=<NllLoss2DBackward>)\n",
      "Loss = tensor(1.5008, device='cuda:0', grad_fn=<NllLoss2DBackward>)\n",
      "Loss = tensor(1.4778, device='cuda:0', grad_fn=<NllLoss2DBackward>)\n",
      "Loss = tensor(1.4989, device='cuda:0', grad_fn=<NllLoss2DBackward>)\n",
      "Loss = tensor(1.5025, device='cuda:0', grad_fn=<NllLoss2DBackward>)\n",
      "EPOCH:  115\n"
     ]
    },
    {
     "data": {
      "image/png": "[encoded data removed]",
      "text/plain": [
       "<PIL.Image.Image image mode=RGB size=60x60 at 0x7FA4EDA78670>"
      ]
     },
     "metadata": {},
     "output_type": "display_data"
    },
    {
     "name": "stdout",
     "output_type": "stream",
     "text": [
      "Learning rate:  0.00015\n",
      "Loss = tensor(1.4742, device='cuda:0', grad_fn=<NllLoss2DBackward>)\n",
      "Loss = tensor(1.4848, device='cuda:0', grad_fn=<NllLoss2DBackward>)\n",
      "EPOCH:  116\n"
     ]
    },
    {
     "data": {
      "image/png": "[encoded data removed]",
      "text/plain": [
       "<PIL.Image.Image image mode=RGB size=60x60 at 0x7FA4EDA78310>"
      ]
     },
     "metadata": {},
     "output_type": "display_data"
    },
    {
     "name": "stdout",
     "output_type": "stream",
     "text": [
      "Learning rate:  0.00015\n",
      "Loss = tensor(1.4773, device='cuda:0', grad_fn=<NllLoss2DBackward>)\n",
      "Loss = tensor(1.4960, device='cuda:0', grad_fn=<NllLoss2DBackward>)\n",
      "Loss = tensor(1.4850, device='cuda:0', grad_fn=<NllLoss2DBackward>)\n",
      "Loss = tensor(1.4752, device='cuda:0', grad_fn=<NllLoss2DBackward>)\n",
      "Loss = tensor(1.5074, device='cuda:0', grad_fn=<NllLoss2DBackward>)\n",
      "EPOCH:  116\n"
     ]
    },
    {
     "data": {
      "image/png": "[encoded data removed]",
      "text/plain": [
       "<PIL.Image.Image image mode=RGB size=60x60 at 0x7FA4EDA78790>"
      ]
     },
     "metadata": {},
     "output_type": "display_data"
    },
    {
     "name": "stdout",
     "output_type": "stream",
     "text": [
      "Learning rate:  0.00015\n",
      "Loss = tensor(1.4906, device='cuda:0', grad_fn=<NllLoss2DBackward>)\n",
      "Loss = tensor(1.4870, device='cuda:0', grad_fn=<NllLoss2DBackward>)\n",
      "Loss = tensor(1.4881, device='cuda:0', grad_fn=<NllLoss2DBackward>)\n",
      "Loss = tensor(1.5015, device='cuda:0', grad_fn=<NllLoss2DBackward>)\n",
      "Loss = tensor(1.4886, device='cuda:0', grad_fn=<NllLoss2DBackward>)\n",
      "EPOCH:  116\n"
     ]
    },
    {
     "data": {
      "image/png": "[encoded data removed]",
      "text/plain": [
       "<PIL.Image.Image image mode=RGB size=60x60 at 0x7FA4EDA78640>"
      ]
     },
     "metadata": {},
     "output_type": "display_data"
    },
    {
     "name": "stdout",
     "output_type": "stream",
     "text": [
      "Learning rate:  0.00015\n",
      "Loss = tensor(1.4869, device='cuda:0', grad_fn=<NllLoss2DBackward>)\n",
      "Loss = tensor(1.4920, device='cuda:0', grad_fn=<NllLoss2DBackward>)\n",
      "EPOCH:  117\n"
     ]
    },
    {
     "data": {
      "image/png": "[encoded data removed]",
      "text/plain": [
       "<PIL.Image.Image image mode=RGB size=60x60 at 0x7FA4EDA78880>"
      ]
     },
     "metadata": {},
     "output_type": "display_data"
    },
    {
     "name": "stdout",
     "output_type": "stream",
     "text": [
      "Learning rate:  0.00015\n",
      "Loss = tensor(1.4782, device='cuda:0', grad_fn=<NllLoss2DBackward>)\n",
      "Loss = tensor(1.4981, device='cuda:0', grad_fn=<NllLoss2DBackward>)\n",
      "Loss = tensor(1.4891, device='cuda:0', grad_fn=<NllLoss2DBackward>)\n",
      "Loss = tensor(1.4828, device='cuda:0', grad_fn=<NllLoss2DBackward>)\n",
      "Loss = tensor(1.4851, device='cuda:0', grad_fn=<NllLoss2DBackward>)\n",
      "EPOCH:  117\n"
     ]
    },
    {
     "data": {
      "image/png": "[encoded data removed]",
      "text/plain": [
       "<PIL.Image.Image image mode=RGB size=60x60 at 0x7FA4EDA78580>"
      ]
     },
     "metadata": {},
     "output_type": "display_data"
    },
    {
     "name": "stdout",
     "output_type": "stream",
     "text": [
      "Learning rate:  0.00015\n",
      "Loss = tensor(1.4795, device='cuda:0', grad_fn=<NllLoss2DBackward>)\n",
      "Loss = tensor(1.5018, device='cuda:0', grad_fn=<NllLoss2DBackward>)\n",
      "Loss = tensor(1.4992, device='cuda:0', grad_fn=<NllLoss2DBackward>)\n",
      "Loss = tensor(1.4739, device='cuda:0', grad_fn=<NllLoss2DBackward>)\n",
      "Loss = tensor(1.4918, device='cuda:0', grad_fn=<NllLoss2DBackward>)\n",
      "EPOCH:  117\n"
     ]
    },
    {
     "data": {
      "image/png": "[encoded data removed]",
      "text/plain": [
       "<PIL.Image.Image image mode=RGB size=60x60 at 0x7FA4EDA78340>"
      ]
     },
     "metadata": {},
     "output_type": "display_data"
    },
    {
     "name": "stdout",
     "output_type": "stream",
     "text": [
      "Learning rate:  0.00015\n",
      "Loss = tensor(1.4968, device='cuda:0', grad_fn=<NllLoss2DBackward>)\n",
      "Loss = tensor(1.4826, device='cuda:0', grad_fn=<NllLoss2DBackward>)\n",
      "EPOCH:  118\n"
     ]
    },
    {
     "data": {
      "image/png": "[encoded data removed]",
      "text/plain": [
       "<PIL.Image.Image image mode=RGB size=60x60 at 0x7FA4EDA783D0>"
      ]
     },
     "metadata": {},
     "output_type": "display_data"
    },
    {
     "name": "stdout",
     "output_type": "stream",
     "text": [
      "Learning rate:  0.00015\n",
      "Loss = tensor(1.4899, device='cuda:0', grad_fn=<NllLoss2DBackward>)\n",
      "Loss = tensor(1.4930, device='cuda:0', grad_fn=<NllLoss2DBackward>)\n",
      "Loss = tensor(1.5058, device='cuda:0', grad_fn=<NllLoss2DBackward>)\n",
      "Loss = tensor(1.4879, device='cuda:0', grad_fn=<NllLoss2DBackward>)\n",
      "Loss = tensor(1.4984, device='cuda:0', grad_fn=<NllLoss2DBackward>)\n",
      "EPOCH:  118\n"
     ]
    },
    {
     "data": {
      "image/png": "[encoded data removed]",
      "text/plain": [
       "<PIL.Image.Image image mode=RGB size=60x60 at 0x7FA4EDA78790>"
      ]
     },
     "metadata": {},
     "output_type": "display_data"
    },
    {
     "name": "stdout",
     "output_type": "stream",
     "text": [
      "Learning rate:  0.00015\n",
      "Loss = tensor(1.4940, device='cuda:0', grad_fn=<NllLoss2DBackward>)\n",
      "Loss = tensor(1.4851, device='cuda:0', grad_fn=<NllLoss2DBackward>)\n",
      "Loss = tensor(1.4866, device='cuda:0', grad_fn=<NllLoss2DBackward>)\n",
      "Loss = tensor(1.4848, device='cuda:0', grad_fn=<NllLoss2DBackward>)\n",
      "Loss = tensor(1.4739, device='cuda:0', grad_fn=<NllLoss2DBackward>)\n",
      "EPOCH:  118\n"
     ]
    },
    {
     "data": {
      "image/png": "[encoded data removed]",
      "text/plain": [
       "<PIL.Image.Image image mode=RGB size=60x60 at 0x7FA4EDA78340>"
      ]
     },
     "metadata": {},
     "output_type": "display_data"
    },
    {
     "name": "stdout",
     "output_type": "stream",
     "text": [
      "Learning rate:  0.00015\n",
      "Loss = tensor(1.4775, device='cuda:0', grad_fn=<NllLoss2DBackward>)\n",
      "Loss = tensor(1.5030, device='cuda:0', grad_fn=<NllLoss2DBackward>)\n",
      "EPOCH:  119\n"
     ]
    },
    {
     "data": {
      "image/png": "[encoded data removed]",
      "text/plain": [
       "<PIL.Image.Image image mode=RGB size=60x60 at 0x7FA4EDA788E0>"
      ]
     },
     "metadata": {},
     "output_type": "display_data"
    },
    {
     "name": "stdout",
     "output_type": "stream",
     "text": [
      "Learning rate:  0.00015\n",
      "Loss = tensor(1.4634, device='cuda:0', grad_fn=<NllLoss2DBackward>)\n",
      "Loss = tensor(1.4784, device='cuda:0', grad_fn=<NllLoss2DBackward>)\n",
      "Loss = tensor(1.4975, device='cuda:0', grad_fn=<NllLoss2DBackward>)\n",
      "Loss = tensor(1.4857, device='cuda:0', grad_fn=<NllLoss2DBackward>)\n",
      "Loss = tensor(1.5018, device='cuda:0', grad_fn=<NllLoss2DBackward>)\n",
      "EPOCH:  119\n"
     ]
    },
    {
     "data": {
      "image/png": "[encoded data removed]",
      "text/plain": [
       "<PIL.Image.Image image mode=RGB size=60x60 at 0x7FA4EDA78790>"
      ]
     },
     "metadata": {},
     "output_type": "display_data"
    },
    {
     "name": "stdout",
     "output_type": "stream",
     "text": [
      "Learning rate:  0.00015\n",
      "Loss = tensor(1.4924, device='cuda:0', grad_fn=<NllLoss2DBackward>)\n",
      "Loss = tensor(1.4845, device='cuda:0', grad_fn=<NllLoss2DBackward>)\n",
      "Loss = tensor(1.4764, device='cuda:0', grad_fn=<NllLoss2DBackward>)\n",
      "Loss = tensor(1.4818, device='cuda:0', grad_fn=<NllLoss2DBackward>)\n",
      "Loss = tensor(1.5010, device='cuda:0', grad_fn=<NllLoss2DBackward>)\n",
      "EPOCH:  119\n"
     ]
    },
    {
     "data": {
      "image/png": "[encoded data removed]",
      "text/plain": [
       "<PIL.Image.Image image mode=RGB size=60x60 at 0x7FA4EDA78940>"
      ]
     },
     "metadata": {},
     "output_type": "display_data"
    },
    {
     "name": "stdout",
     "output_type": "stream",
     "text": [
      "Learning rate:  0.00015\n",
      "Loss = tensor(1.4950, device='cuda:0', grad_fn=<NllLoss2DBackward>)\n",
      "Loss = tensor(1.4999, device='cuda:0', grad_fn=<NllLoss2DBackward>)\n",
      "EPOCH:  120\n"
     ]
    },
    {
     "data": {
      "image/png": "[encoded data removed]",
      "text/plain": [
       "<PIL.Image.Image image mode=RGB size=60x60 at 0x7FA4EDA78940>"
      ]
     },
     "metadata": {},
     "output_type": "display_data"
    },
    {
     "name": "stdout",
     "output_type": "stream",
     "text": [
      "Learning rate:  0.00015\n",
      "Loss = tensor(1.4877, device='cuda:0', grad_fn=<NllLoss2DBackward>)\n",
      "Loss = tensor(1.4852, device='cuda:0', grad_fn=<NllLoss2DBackward>)\n",
      "Loss = tensor(1.4868, device='cuda:0', grad_fn=<NllLoss2DBackward>)\n",
      "Loss = tensor(1.4828, device='cuda:0', grad_fn=<NllLoss2DBackward>)\n",
      "Loss = tensor(1.4945, device='cuda:0', grad_fn=<NllLoss2DBackward>)\n",
      "EPOCH:  120\n"
     ]
    },
    {
     "data": {
      "image/png": "[encoded data removed]",
      "text/plain": [
       "<PIL.Image.Image image mode=RGB size=60x60 at 0x7FA4EDA783D0>"
      ]
     },
     "metadata": {},
     "output_type": "display_data"
    },
    {
     "name": "stdout",
     "output_type": "stream",
     "text": [
      "Learning rate:  0.00015\n",
      "Loss = tensor(1.4909, device='cuda:0', grad_fn=<NllLoss2DBackward>)\n",
      "Loss = tensor(1.4864, device='cuda:0', grad_fn=<NllLoss2DBackward>)\n",
      "Loss = tensor(1.5046, device='cuda:0', grad_fn=<NllLoss2DBackward>)\n",
      "Loss = tensor(1.4723, device='cuda:0', grad_fn=<NllLoss2DBackward>)\n",
      "Loss = tensor(1.4857, device='cuda:0', grad_fn=<NllLoss2DBackward>)\n",
      "EPOCH:  120\n"
     ]
    },
    {
     "data": {
      "image/png": "[encoded data removed]",
      "text/plain": [
       "<PIL.Image.Image image mode=RGB size=60x60 at 0x7FA4EDA78940>"
      ]
     },
     "metadata": {},
     "output_type": "display_data"
    },
    {
     "name": "stdout",
     "output_type": "stream",
     "text": [
      "Learning rate:  0.00015\n",
      "Loss = tensor(1.4828, device='cuda:0', grad_fn=<NllLoss2DBackward>)\n",
      "Loss = tensor(1.5073, device='cuda:0', grad_fn=<NllLoss2DBackward>)\n",
      "EPOCH:  121\n"
     ]
    },
    {
     "data": {
      "image/png": "[encoded data removed]",
      "text/plain": [
       "<PIL.Image.Image image mode=RGB size=60x60 at 0x7FA4EDA78820>"
      ]
     },
     "metadata": {},
     "output_type": "display_data"
    },
    {
     "name": "stdout",
     "output_type": "stream",
     "text": [
      "Learning rate:  0.00015\n",
      "Loss = tensor(1.4911, device='cuda:0', grad_fn=<NllLoss2DBackward>)\n",
      "Loss = tensor(1.4926, device='cuda:0', grad_fn=<NllLoss2DBackward>)\n",
      "Loss = tensor(1.4997, device='cuda:0', grad_fn=<NllLoss2DBackward>)\n",
      "Loss = tensor(1.4829, device='cuda:0', grad_fn=<NllLoss2DBackward>)\n",
      "Loss = tensor(1.4748, device='cuda:0', grad_fn=<NllLoss2DBackward>)\n",
      "EPOCH:  121\n"
     ]
    },
    {
     "data": {
      "image/png": "[encoded data removed]",
      "text/plain": [
       "<PIL.Image.Image image mode=RGB size=60x60 at 0x7FA4EDA78370>"
      ]
     },
     "metadata": {},
     "output_type": "display_data"
    },
    {
     "name": "stdout",
     "output_type": "stream",
     "text": [
      "Learning rate:  0.00015\n",
      "Loss = tensor(1.4865, device='cuda:0', grad_fn=<NllLoss2DBackward>)\n",
      "Loss = tensor(1.4830, device='cuda:0', grad_fn=<NllLoss2DBackward>)\n",
      "Loss = tensor(1.4848, device='cuda:0', grad_fn=<NllLoss2DBackward>)\n",
      "Loss = tensor(1.4960, device='cuda:0', grad_fn=<NllLoss2DBackward>)\n",
      "Loss = tensor(1.4795, device='cuda:0', grad_fn=<NllLoss2DBackward>)\n",
      "EPOCH:  121\n"
     ]
    },
    {
     "data": {
      "image/png": "[encoded data removed]",
      "text/plain": [
       "<PIL.Image.Image image mode=RGB size=60x60 at 0x7FA4EDA783D0>"
      ]
     },
     "metadata": {},
     "output_type": "display_data"
    },
    {
     "name": "stdout",
     "output_type": "stream",
     "text": [
      "Learning rate:  0.00015\n",
      "Loss = tensor(1.4879, device='cuda:0', grad_fn=<NllLoss2DBackward>)\n",
      "Loss = tensor(1.4750, device='cuda:0', grad_fn=<NllLoss2DBackward>)\n",
      "EPOCH:  122\n"
     ]
    },
    {
     "data": {
      "image/png": "[encoded data removed]",
      "text/plain": [
       "<PIL.Image.Image image mode=RGB size=60x60 at 0x7FA4EDA787C0>"
      ]
     },
     "metadata": {},
     "output_type": "display_data"
    },
    {
     "name": "stdout",
     "output_type": "stream",
     "text": [
      "Learning rate:  0.00015\n",
      "Loss = tensor(1.4926, device='cuda:0', grad_fn=<NllLoss2DBackward>)\n",
      "Loss = tensor(1.4870, device='cuda:0', grad_fn=<NllLoss2DBackward>)\n",
      "Loss = tensor(1.4903, device='cuda:0', grad_fn=<NllLoss2DBackward>)\n",
      "Loss = tensor(1.4803, device='cuda:0', grad_fn=<NllLoss2DBackward>)\n",
      "Loss = tensor(1.4957, device='cuda:0', grad_fn=<NllLoss2DBackward>)\n",
      "EPOCH:  122\n"
     ]
    },
    {
     "data": {
      "image/png": "[encoded data removed]",
      "text/plain": [
       "<PIL.Image.Image image mode=RGB size=60x60 at 0x7FA4EDA78820>"
      ]
     },
     "metadata": {},
     "output_type": "display_data"
    },
    {
     "name": "stdout",
     "output_type": "stream",
     "text": [
      "Learning rate:  0.00015\n",
      "Loss = tensor(1.4812, device='cuda:0', grad_fn=<NllLoss2DBackward>)\n",
      "Loss = tensor(1.5095, device='cuda:0', grad_fn=<NllLoss2DBackward>)\n",
      "Loss = tensor(1.4800, device='cuda:0', grad_fn=<NllLoss2DBackward>)\n",
      "Loss = tensor(1.4929, device='cuda:0', grad_fn=<NllLoss2DBackward>)\n",
      "Loss = tensor(1.4960, device='cuda:0', grad_fn=<NllLoss2DBackward>)\n",
      "EPOCH:  122\n"
     ]
    },
    {
     "data": {
      "image/png": "[encoded data removed]",
      "text/plain": [
       "<PIL.Image.Image image mode=RGB size=60x60 at 0x7FA4EDA78580>"
      ]
     },
     "metadata": {},
     "output_type": "display_data"
    },
    {
     "name": "stdout",
     "output_type": "stream",
     "text": [
      "Learning rate:  0.00015\n",
      "Loss = tensor(1.4829, device='cuda:0', grad_fn=<NllLoss2DBackward>)\n",
      "Loss = tensor(1.5064, device='cuda:0', grad_fn=<NllLoss2DBackward>)\n",
      "EPOCH:  123\n"
     ]
    },
    {
     "data": {
      "image/png": "[encoded data removed]",
      "text/plain": [
       "<PIL.Image.Image image mode=RGB size=60x60 at 0x7FA4EDA78790>"
      ]
     },
     "metadata": {},
     "output_type": "display_data"
    },
    {
     "name": "stdout",
     "output_type": "stream",
     "text": [
      "Learning rate:  0.00015\n",
      "Loss = tensor(1.4835, device='cuda:0', grad_fn=<NllLoss2DBackward>)\n",
      "Loss = tensor(1.4798, device='cuda:0', grad_fn=<NllLoss2DBackward>)\n",
      "Loss = tensor(1.5108, device='cuda:0', grad_fn=<NllLoss2DBackward>)\n",
      "Loss = tensor(1.4908, device='cuda:0', grad_fn=<NllLoss2DBackward>)\n",
      "Loss = tensor(1.4950, device='cuda:0', grad_fn=<NllLoss2DBackward>)\n",
      "EPOCH:  123\n"
     ]
    },
    {
     "data": {
      "image/png": "[encoded data removed]",
      "text/plain": [
       "<PIL.Image.Image image mode=RGB size=60x60 at 0x7FA4EDA78550>"
      ]
     },
     "metadata": {},
     "output_type": "display_data"
    },
    {
     "name": "stdout",
     "output_type": "stream",
     "text": [
      "Learning rate:  0.00015\n",
      "Loss = tensor(1.4818, device='cuda:0', grad_fn=<NllLoss2DBackward>)\n",
      "Loss = tensor(1.4859, device='cuda:0', grad_fn=<NllLoss2DBackward>)\n",
      "Loss = tensor(1.4842, device='cuda:0', grad_fn=<NllLoss2DBackward>)\n",
      "Loss = tensor(1.4724, device='cuda:0', grad_fn=<NllLoss2DBackward>)\n",
      "Loss = tensor(1.4835, device='cuda:0', grad_fn=<NllLoss2DBackward>)\n",
      "EPOCH:  123\n"
     ]
    },
    {
     "data": {
      "image/png": "[encoded data removed]",
      "text/plain": [
       "<PIL.Image.Image image mode=RGB size=60x60 at 0x7FA4EDA786A0>"
      ]
     },
     "metadata": {},
     "output_type": "display_data"
    },
    {
     "name": "stdout",
     "output_type": "stream",
     "text": [
      "Learning rate:  0.00015\n",
      "Loss = tensor(1.4941, device='cuda:0', grad_fn=<NllLoss2DBackward>)\n",
      "Loss = tensor(1.4918, device='cuda:0', grad_fn=<NllLoss2DBackward>)\n",
      "EPOCH:  124\n"
     ]
    },
    {
     "data": {
      "image/png": "[encoded data removed]",
      "text/plain": [
       "<PIL.Image.Image image mode=RGB size=60x60 at 0x7FA4EDA78940>"
      ]
     },
     "metadata": {},
     "output_type": "display_data"
    },
    {
     "name": "stdout",
     "output_type": "stream",
     "text": [
      "Learning rate:  0.00015\n",
      "Loss = tensor(1.4829, device='cuda:0', grad_fn=<NllLoss2DBackward>)\n",
      "Loss = tensor(1.5019, device='cuda:0', grad_fn=<NllLoss2DBackward>)\n",
      "Loss = tensor(1.4861, device='cuda:0', grad_fn=<NllLoss2DBackward>)\n",
      "Loss = tensor(1.4843, device='cuda:0', grad_fn=<NllLoss2DBackward>)\n",
      "Loss = tensor(1.4705, device='cuda:0', grad_fn=<NllLoss2DBackward>)\n",
      "EPOCH:  124\n"
     ]
    },
    {
     "data": {
      "image/png": "[encoded data removed]",
      "text/plain": [
       "<PIL.Image.Image image mode=RGB size=60x60 at 0x7FA4EDA78340>"
      ]
     },
     "metadata": {},
     "output_type": "display_data"
    },
    {
     "name": "stdout",
     "output_type": "stream",
     "text": [
      "Learning rate:  0.00015\n",
      "Loss = tensor(1.4855, device='cuda:0', grad_fn=<NllLoss2DBackward>)\n",
      "Loss = tensor(1.4897, device='cuda:0', grad_fn=<NllLoss2DBackward>)\n",
      "Loss = tensor(1.4896, device='cuda:0', grad_fn=<NllLoss2DBackward>)\n",
      "Loss = tensor(1.4986, device='cuda:0', grad_fn=<NllLoss2DBackward>)\n",
      "Loss = tensor(1.4879, device='cuda:0', grad_fn=<NllLoss2DBackward>)\n",
      "EPOCH:  124\n"
     ]
    },
    {
     "data": {
      "image/png": "[encoded data removed]",
      "text/plain": [
       "<PIL.Image.Image image mode=RGB size=60x60 at 0x7FA4EDA786A0>"
      ]
     },
     "metadata": {},
     "output_type": "display_data"
    },
    {
     "name": "stdout",
     "output_type": "stream",
     "text": [
      "Learning rate:  0.00015\n",
      "Loss = tensor(1.4920, device='cuda:0', grad_fn=<NllLoss2DBackward>)\n",
      "Loss = tensor(1.4941, device='cuda:0', grad_fn=<NllLoss2DBackward>)\n",
      "EPOCH:  125\n"
     ]
    },
    {
     "data": {
      "image/png": "[encoded data removed]",
      "text/plain": [
       "<PIL.Image.Image image mode=RGB size=60x60 at 0x7FA4EDA78940>"
      ]
     },
     "metadata": {},
     "output_type": "display_data"
    },
    {
     "name": "stdout",
     "output_type": "stream",
     "text": [
      "Learning rate:  0.00015\n",
      "Loss = tensor(1.4933, device='cuda:0', grad_fn=<NllLoss2DBackward>)\n",
      "Loss = tensor(1.4738, device='cuda:0', grad_fn=<NllLoss2DBackward>)\n",
      "Loss = tensor(1.4909, device='cuda:0', grad_fn=<NllLoss2DBackward>)\n",
      "Loss = tensor(1.4727, device='cuda:0', grad_fn=<NllLoss2DBackward>)\n",
      "Loss = tensor(1.5010, device='cuda:0', grad_fn=<NllLoss2DBackward>)\n",
      "EPOCH:  125\n"
     ]
    },
    {
     "data": {
      "image/png": "[encoded data removed]",
      "text/plain": [
       "<PIL.Image.Image image mode=RGB size=60x60 at 0x7FA4EDA78940>"
      ]
     },
     "metadata": {},
     "output_type": "display_data"
    },
    {
     "name": "stdout",
     "output_type": "stream",
     "text": [
      "Learning rate:  0.00015\n",
      "Loss = tensor(1.4979, device='cuda:0', grad_fn=<NllLoss2DBackward>)\n",
      "Loss = tensor(1.4821, device='cuda:0', grad_fn=<NllLoss2DBackward>)\n",
      "Loss = tensor(1.4844, device='cuda:0', grad_fn=<NllLoss2DBackward>)\n",
      "Loss = tensor(1.4787, device='cuda:0', grad_fn=<NllLoss2DBackward>)\n",
      "Loss = tensor(1.4947, device='cuda:0', grad_fn=<NllLoss2DBackward>)\n",
      "EPOCH:  125\n"
     ]
    },
    {
     "data": {
      "image/png": "[encoded data removed]",
      "text/plain": [
       "<PIL.Image.Image image mode=RGB size=60x60 at 0x7FA4EDA78580>"
      ]
     },
     "metadata": {},
     "output_type": "display_data"
    },
    {
     "name": "stdout",
     "output_type": "stream",
     "text": [
      "Learning rate:  0.00015\n",
      "Loss = tensor(1.5020, device='cuda:0', grad_fn=<NllLoss2DBackward>)\n",
      "Loss = tensor(1.4834, device='cuda:0', grad_fn=<NllLoss2DBackward>)\n",
      "EPOCH:  126\n"
     ]
    },
    {
     "data": {
      "image/png": "[encoded data removed]",
      "text/plain": [
       "<PIL.Image.Image image mode=RGB size=60x60 at 0x7FA4EDA78910>"
      ]
     },
     "metadata": {},
     "output_type": "display_data"
    },
    {
     "name": "stdout",
     "output_type": "stream",
     "text": [
      "Learning rate:  0.00015\n",
      "Loss = tensor(1.4810, device='cuda:0', grad_fn=<NllLoss2DBackward>)\n",
      "Loss = tensor(1.4927, device='cuda:0', grad_fn=<NllLoss2DBackward>)\n",
      "Loss = tensor(1.4809, device='cuda:0', grad_fn=<NllLoss2DBackward>)\n",
      "Loss = tensor(1.4735, device='cuda:0', grad_fn=<NllLoss2DBackward>)\n",
      "Loss = tensor(1.4846, device='cuda:0', grad_fn=<NllLoss2DBackward>)\n",
      "EPOCH:  126\n"
     ]
    },
    {
     "data": {
      "image/png": "[encoded data removed]",
      "text/plain": [
       "<PIL.Image.Image image mode=RGB size=60x60 at 0x7FA4EDA78940>"
      ]
     },
     "metadata": {},
     "output_type": "display_data"
    },
    {
     "name": "stdout",
     "output_type": "stream",
     "text": [
      "Learning rate:  0.00015\n",
      "Loss = tensor(1.4854, device='cuda:0', grad_fn=<NllLoss2DBackward>)\n",
      "Loss = tensor(1.4941, device='cuda:0', grad_fn=<NllLoss2DBackward>)\n",
      "Loss = tensor(1.5075, device='cuda:0', grad_fn=<NllLoss2DBackward>)\n",
      "Loss = tensor(1.4959, device='cuda:0', grad_fn=<NllLoss2DBackward>)\n",
      "Loss = tensor(1.4895, device='cuda:0', grad_fn=<NllLoss2DBackward>)\n",
      "EPOCH:  126\n"
     ]
    },
    {
     "data": {
      "image/png": "[encoded data removed]",
      "text/plain": [
       "<PIL.Image.Image image mode=RGB size=60x60 at 0x7FA4EDA78790>"
      ]
     },
     "metadata": {},
     "output_type": "display_data"
    },
    {
     "name": "stdout",
     "output_type": "stream",
     "text": [
      "Learning rate:  0.00015\n",
      "Loss = tensor(1.4916, device='cuda:0', grad_fn=<NllLoss2DBackward>)\n",
      "Loss = tensor(1.4805, device='cuda:0', grad_fn=<NllLoss2DBackward>)\n",
      "EPOCH:  127\n"
     ]
    },
    {
     "data": {
      "image/png": "[encoded data removed]",
      "text/plain": [
       "<PIL.Image.Image image mode=RGB size=60x60 at 0x7FA4EDA788E0>"
      ]
     },
     "metadata": {},
     "output_type": "display_data"
    },
    {
     "name": "stdout",
     "output_type": "stream",
     "text": [
      "Learning rate:  0.00015\n",
      "Loss = tensor(1.4891, device='cuda:0', grad_fn=<NllLoss2DBackward>)\n",
      "Loss = tensor(1.4870, device='cuda:0', grad_fn=<NllLoss2DBackward>)\n",
      "Loss = tensor(1.4826, device='cuda:0', grad_fn=<NllLoss2DBackward>)\n",
      "Loss = tensor(1.4813, device='cuda:0', grad_fn=<NllLoss2DBackward>)\n",
      "Loss = tensor(1.5027, device='cuda:0', grad_fn=<NllLoss2DBackward>)\n",
      "EPOCH:  127\n"
     ]
    },
    {
     "data": {
      "image/png": "[encoded data removed]",
      "text/plain": [
       "<PIL.Image.Image image mode=RGB size=60x60 at 0x7FA4EDA78370>"
      ]
     },
     "metadata": {},
     "output_type": "display_data"
    },
    {
     "name": "stdout",
     "output_type": "stream",
     "text": [
      "Learning rate:  0.00015\n",
      "Loss = tensor(1.4849, device='cuda:0', grad_fn=<NllLoss2DBackward>)\n",
      "Loss = tensor(1.5015, device='cuda:0', grad_fn=<NllLoss2DBackward>)\n",
      "Loss = tensor(1.4782, device='cuda:0', grad_fn=<NllLoss2DBackward>)\n",
      "Loss = tensor(1.4852, device='cuda:0', grad_fn=<NllLoss2DBackward>)\n",
      "Loss = tensor(1.4889, device='cuda:0', grad_fn=<NllLoss2DBackward>)\n",
      "EPOCH:  127\n"
     ]
    },
    {
     "data": {
      "image/png": "[encoded data removed]",
      "text/plain": [
       "<PIL.Image.Image image mode=RGB size=60x60 at 0x7FA4EDA78550>"
      ]
     },
     "metadata": {},
     "output_type": "display_data"
    },
    {
     "name": "stdout",
     "output_type": "stream",
     "text": [
      "Learning rate:  0.00015\n",
      "Loss = tensor(1.5077, device='cuda:0', grad_fn=<NllLoss2DBackward>)\n",
      "Loss = tensor(1.4921, device='cuda:0', grad_fn=<NllLoss2DBackward>)\n",
      "EPOCH:  128\n"
     ]
    },
    {
     "data": {
      "image/png": "[encoded data removed]",
      "text/plain": [
       "<PIL.Image.Image image mode=RGB size=60x60 at 0x7FA4EDA78850>"
      ]
     },
     "metadata": {},
     "output_type": "display_data"
    },
    {
     "name": "stdout",
     "output_type": "stream",
     "text": [
      "Learning rate:  0.00015\n",
      "Loss = tensor(1.4862, device='cuda:0', grad_fn=<NllLoss2DBackward>)\n",
      "Loss = tensor(1.4708, device='cuda:0', grad_fn=<NllLoss2DBackward>)\n",
      "Loss = tensor(1.4885, device='cuda:0', grad_fn=<NllLoss2DBackward>)\n",
      "Loss = tensor(1.4837, device='cuda:0', grad_fn=<NllLoss2DBackward>)\n",
      "Loss = tensor(1.4892, device='cuda:0', grad_fn=<NllLoss2DBackward>)\n",
      "EPOCH:  128\n"
     ]
    },
    {
     "data": {
      "image/png": "[encoded data removed]",
      "text/plain": [
       "<PIL.Image.Image image mode=RGB size=60x60 at 0x7FA4EDA783D0>"
      ]
     },
     "metadata": {},
     "output_type": "display_data"
    },
    {
     "name": "stdout",
     "output_type": "stream",
     "text": [
      "Learning rate:  0.00015\n",
      "Loss = tensor(1.4804, device='cuda:0', grad_fn=<NllLoss2DBackward>)\n",
      "Loss = tensor(1.5080, device='cuda:0', grad_fn=<NllLoss2DBackward>)\n",
      "Loss = tensor(1.4879, device='cuda:0', grad_fn=<NllLoss2DBackward>)\n",
      "Loss = tensor(1.4725, device='cuda:0', grad_fn=<NllLoss2DBackward>)\n",
      "Loss = tensor(1.5037, device='cuda:0', grad_fn=<NllLoss2DBackward>)\n",
      "EPOCH:  128\n"
     ]
    },
    {
     "data": {
      "image/png": "[encoded data removed]",
      "text/plain": [
       "<PIL.Image.Image image mode=RGB size=60x60 at 0x7FA4EDA78820>"
      ]
     },
     "metadata": {},
     "output_type": "display_data"
    },
    {
     "name": "stdout",
     "output_type": "stream",
     "text": [
      "Learning rate:  0.00015\n",
      "Loss = tensor(1.4952, device='cuda:0', grad_fn=<NllLoss2DBackward>)\n",
      "Loss = tensor(1.4830, device='cuda:0', grad_fn=<NllLoss2DBackward>)\n",
      "EPOCH:  129\n"
     ]
    },
    {
     "data": {
      "image/png": "[encoded data removed]",
      "text/plain": [
       "<PIL.Image.Image image mode=RGB size=60x60 at 0x7FA4EDA78910>"
      ]
     },
     "metadata": {},
     "output_type": "display_data"
    },
    {
     "name": "stdout",
     "output_type": "stream",
     "text": [
      "Learning rate:  0.00015\n",
      "Loss = tensor(1.4818, device='cuda:0', grad_fn=<NllLoss2DBackward>)\n",
      "Loss = tensor(1.4716, device='cuda:0', grad_fn=<NllLoss2DBackward>)\n",
      "Loss = tensor(1.4862, device='cuda:0', grad_fn=<NllLoss2DBackward>)\n",
      "Loss = tensor(1.4822, device='cuda:0', grad_fn=<NllLoss2DBackward>)\n",
      "Loss = tensor(1.5012, device='cuda:0', grad_fn=<NllLoss2DBackward>)\n",
      "EPOCH:  129\n"
     ]
    },
    {
     "data": {
      "image/png": "[encoded data removed]",
      "text/plain": [
       "<PIL.Image.Image image mode=RGB size=60x60 at 0x7FA4EDA78790>"
      ]
     },
     "metadata": {},
     "output_type": "display_data"
    },
    {
     "name": "stdout",
     "output_type": "stream",
     "text": [
      "Learning rate:  0.00015\n",
      "Loss = tensor(1.4897, device='cuda:0', grad_fn=<NllLoss2DBackward>)\n",
      "Loss = tensor(1.5014, device='cuda:0', grad_fn=<NllLoss2DBackward>)\n",
      "Loss = tensor(1.4936, device='cuda:0', grad_fn=<NllLoss2DBackward>)\n",
      "Loss = tensor(1.4843, device='cuda:0', grad_fn=<NllLoss2DBackward>)\n",
      "Loss = tensor(1.4977, device='cuda:0', grad_fn=<NllLoss2DBackward>)\n",
      "EPOCH:  129\n"
     ]
    },
    {
     "data": {
      "image/png": "[encoded data removed]",
      "text/plain": [
       "<PIL.Image.Image image mode=RGB size=60x60 at 0x7FA4EDA78670>"
      ]
     },
     "metadata": {},
     "output_type": "display_data"
    },
    {
     "name": "stdout",
     "output_type": "stream",
     "text": [
      "Learning rate:  0.00015\n",
      "Loss = tensor(1.4916, device='cuda:0', grad_fn=<NllLoss2DBackward>)\n",
      "Loss = tensor(1.5021, device='cuda:0', grad_fn=<NllLoss2DBackward>)\n",
      "EPOCH:  130\n"
     ]
    },
    {
     "data": {
      "image/png": "[encoded data removed]",
      "text/plain": [
       "<PIL.Image.Image image mode=RGB size=60x60 at 0x7FA4EDA78670>"
      ]
     },
     "metadata": {},
     "output_type": "display_data"
    },
    {
     "name": "stdout",
     "output_type": "stream",
     "text": [
      "Learning rate:  0.00015\n",
      "Loss = tensor(1.4888, device='cuda:0', grad_fn=<NllLoss2DBackward>)\n",
      "Loss = tensor(1.4907, device='cuda:0', grad_fn=<NllLoss2DBackward>)\n",
      "Loss = tensor(1.4906, device='cuda:0', grad_fn=<NllLoss2DBackward>)\n",
      "Loss = tensor(1.5009, device='cuda:0', grad_fn=<NllLoss2DBackward>)\n",
      "Loss = tensor(1.4870, device='cuda:0', grad_fn=<NllLoss2DBackward>)\n",
      "EPOCH:  130\n"
     ]
    },
    {
     "data": {
      "image/png": "[encoded data removed]",
      "text/plain": [
       "<PIL.Image.Image image mode=RGB size=60x60 at 0x7FA4EDA78640>"
      ]
     },
     "metadata": {},
     "output_type": "display_data"
    },
    {
     "name": "stdout",
     "output_type": "stream",
     "text": [
      "Learning rate:  0.00015\n",
      "Loss = tensor(1.4952, device='cuda:0', grad_fn=<NllLoss2DBackward>)\n",
      "Loss = tensor(1.4823, device='cuda:0', grad_fn=<NllLoss2DBackward>)\n",
      "Loss = tensor(1.4958, device='cuda:0', grad_fn=<NllLoss2DBackward>)\n",
      "Loss = tensor(1.4760, device='cuda:0', grad_fn=<NllLoss2DBackward>)\n",
      "Loss = tensor(1.4887, device='cuda:0', grad_fn=<NllLoss2DBackward>)\n",
      "EPOCH:  130\n"
     ]
    },
    {
     "data": {
      "image/png": "[encoded data removed]",
      "text/plain": [
       "<PIL.Image.Image image mode=RGB size=60x60 at 0x7FA4EDA78550>"
      ]
     },
     "metadata": {},
     "output_type": "display_data"
    },
    {
     "name": "stdout",
     "output_type": "stream",
     "text": [
      "Learning rate:  0.00015\n",
      "Loss = tensor(1.4710, device='cuda:0', grad_fn=<NllLoss2DBackward>)\n",
      "Loss = tensor(1.4813, device='cuda:0', grad_fn=<NllLoss2DBackward>)\n",
      "EPOCH:  131\n"
     ]
    },
    {
     "data": {
      "image/png": "[encoded data removed]",
      "text/plain": [
       "<PIL.Image.Image image mode=RGB size=60x60 at 0x7FA4EDA78610>"
      ]
     },
     "metadata": {},
     "output_type": "display_data"
    },
    {
     "name": "stdout",
     "output_type": "stream",
     "text": [
      "Learning rate:  0.00015\n",
      "Loss = tensor(1.5062, device='cuda:0', grad_fn=<NllLoss2DBackward>)\n",
      "Loss = tensor(1.4903, device='cuda:0', grad_fn=<NllLoss2DBackward>)\n",
      "Loss = tensor(1.4783, device='cuda:0', grad_fn=<NllLoss2DBackward>)\n",
      "Loss = tensor(1.4772, device='cuda:0', grad_fn=<NllLoss2DBackward>)\n",
      "Loss = tensor(1.4800, device='cuda:0', grad_fn=<NllLoss2DBackward>)\n",
      "EPOCH:  131\n"
     ]
    },
    {
     "data": {
      "image/png": "[encoded data removed]",
      "text/plain": [
       "<PIL.Image.Image image mode=RGB size=60x60 at 0x7FA4EDA787C0>"
      ]
     },
     "metadata": {},
     "output_type": "display_data"
    },
    {
     "name": "stdout",
     "output_type": "stream",
     "text": [
      "Learning rate:  0.00015\n",
      "Loss = tensor(1.4959, device='cuda:0', grad_fn=<NllLoss2DBackward>)\n",
      "Loss = tensor(1.4998, device='cuda:0', grad_fn=<NllLoss2DBackward>)\n",
      "Loss = tensor(1.4804, device='cuda:0', grad_fn=<NllLoss2DBackward>)\n",
      "Loss = tensor(1.4971, device='cuda:0', grad_fn=<NllLoss2DBackward>)\n",
      "Loss = tensor(1.4859, device='cuda:0', grad_fn=<NllLoss2DBackward>)\n",
      "EPOCH:  131\n"
     ]
    },
    {
     "data": {
      "image/png": "[encoded data removed]",
      "text/plain": [
       "<PIL.Image.Image image mode=RGB size=60x60 at 0x7FA4EDA784C0>"
      ]
     },
     "metadata": {},
     "output_type": "display_data"
    },
    {
     "name": "stdout",
     "output_type": "stream",
     "text": [
      "Learning rate:  0.00015\n",
      "Loss = tensor(1.4893, device='cuda:0', grad_fn=<NllLoss2DBackward>)\n",
      "Loss = tensor(1.4882, device='cuda:0', grad_fn=<NllLoss2DBackward>)\n",
      "EPOCH:  132\n"
     ]
    },
    {
     "data": {
      "image/png": "[encoded data removed]",
      "text/plain": [
       "<PIL.Image.Image image mode=RGB size=60x60 at 0x7FA4EDA78850>"
      ]
     },
     "metadata": {},
     "output_type": "display_data"
    },
    {
     "name": "stdout",
     "output_type": "stream",
     "text": [
      "Learning rate:  0.00015\n",
      "Loss = tensor(1.4951, device='cuda:0', grad_fn=<NllLoss2DBackward>)\n",
      "Loss = tensor(1.4647, device='cuda:0', grad_fn=<NllLoss2DBackward>)\n",
      "Loss = tensor(1.4936, device='cuda:0', grad_fn=<NllLoss2DBackward>)\n",
      "Loss = tensor(1.4909, device='cuda:0', grad_fn=<NllLoss2DBackward>)\n",
      "Loss = tensor(1.4869, device='cuda:0', grad_fn=<NllLoss2DBackward>)\n",
      "EPOCH:  132\n"
     ]
    },
    {
     "data": {
      "image/png": "[encoded data removed]",
      "text/plain": [
       "<PIL.Image.Image image mode=RGB size=60x60 at 0x7FA4EDA784C0>"
      ]
     },
     "metadata": {},
     "output_type": "display_data"
    },
    {
     "name": "stdout",
     "output_type": "stream",
     "text": [
      "Learning rate:  0.00015\n",
      "Loss = tensor(1.4864, device='cuda:0', grad_fn=<NllLoss2DBackward>)\n",
      "Loss = tensor(1.4892, device='cuda:0', grad_fn=<NllLoss2DBackward>)\n",
      "Loss = tensor(1.4988, device='cuda:0', grad_fn=<NllLoss2DBackward>)\n",
      "Loss = tensor(1.5006, device='cuda:0', grad_fn=<NllLoss2DBackward>)\n",
      "Loss = tensor(1.4973, device='cuda:0', grad_fn=<NllLoss2DBackward>)\n",
      "EPOCH:  132\n"
     ]
    },
    {
     "data": {
      "image/png": "[encoded data removed]",
      "text/plain": [
       "<PIL.Image.Image image mode=RGB size=60x60 at 0x7FA4EDA78640>"
      ]
     },
     "metadata": {},
     "output_type": "display_data"
    },
    {
     "name": "stdout",
     "output_type": "stream",
     "text": [
      "Learning rate:  0.00015\n",
      "Loss = tensor(1.4815, device='cuda:0', grad_fn=<NllLoss2DBackward>)\n",
      "Loss = tensor(1.4803, device='cuda:0', grad_fn=<NllLoss2DBackward>)\n",
      "EPOCH:  133\n"
     ]
    },
    {
     "data": {
      "image/png": "[encoded data removed]",
      "text/plain": [
       "<PIL.Image.Image image mode=RGB size=60x60 at 0x7FA4EDA78820>"
      ]
     },
     "metadata": {},
     "output_type": "display_data"
    },
    {
     "name": "stdout",
     "output_type": "stream",
     "text": [
      "Learning rate:  0.00015\n",
      "Loss = tensor(1.4914, device='cuda:0', grad_fn=<NllLoss2DBackward>)\n",
      "Loss = tensor(1.4906, device='cuda:0', grad_fn=<NllLoss2DBackward>)\n",
      "Loss = tensor(1.4808, device='cuda:0', grad_fn=<NllLoss2DBackward>)\n",
      "Loss = tensor(1.4815, device='cuda:0', grad_fn=<NllLoss2DBackward>)\n",
      "Loss = tensor(1.5034, device='cuda:0', grad_fn=<NllLoss2DBackward>)\n",
      "EPOCH:  133\n"
     ]
    },
    {
     "data": {
      "image/png": "[encoded data removed]",
      "text/plain": [
       "<PIL.Image.Image image mode=RGB size=60x60 at 0x7FA4EDA78820>"
      ]
     },
     "metadata": {},
     "output_type": "display_data"
    },
    {
     "name": "stdout",
     "output_type": "stream",
     "text": [
      "Learning rate:  0.00015\n",
      "Loss = tensor(1.4848, device='cuda:0', grad_fn=<NllLoss2DBackward>)\n",
      "Loss = tensor(1.4933, device='cuda:0', grad_fn=<NllLoss2DBackward>)\n",
      "Loss = tensor(1.4867, device='cuda:0', grad_fn=<NllLoss2DBackward>)\n",
      "Loss = tensor(1.4910, device='cuda:0', grad_fn=<NllLoss2DBackward>)\n",
      "Loss = tensor(1.4812, device='cuda:0', grad_fn=<NllLoss2DBackward>)\n",
      "EPOCH:  133\n"
     ]
    },
    {
     "data": {
      "image/png": "[encoded data removed]",
      "text/plain": [
       "<PIL.Image.Image image mode=RGB size=60x60 at 0x7FA4EDA788E0>"
      ]
     },
     "metadata": {},
     "output_type": "display_data"
    },
    {
     "name": "stdout",
     "output_type": "stream",
     "text": [
      "Learning rate:  0.00015\n",
      "Loss = tensor(1.5004, device='cuda:0', grad_fn=<NllLoss2DBackward>)\n",
      "Loss = tensor(1.4736, device='cuda:0', grad_fn=<NllLoss2DBackward>)\n",
      "EPOCH:  134\n"
     ]
    },
    {
     "data": {
      "image/png": "[encoded data removed]",
      "text/plain": [
       "<PIL.Image.Image image mode=RGB size=60x60 at 0x7FA4EDA78820>"
      ]
     },
     "metadata": {},
     "output_type": "display_data"
    },
    {
     "name": "stdout",
     "output_type": "stream",
     "text": [
      "Learning rate:  0.00015\n",
      "Loss = tensor(1.4692, device='cuda:0', grad_fn=<NllLoss2DBackward>)\n",
      "Loss = tensor(1.5068, device='cuda:0', grad_fn=<NllLoss2DBackward>)\n",
      "Loss = tensor(1.4912, device='cuda:0', grad_fn=<NllLoss2DBackward>)\n",
      "Loss = tensor(1.4984, device='cuda:0', grad_fn=<NllLoss2DBackward>)\n",
      "Loss = tensor(1.4872, device='cuda:0', grad_fn=<NllLoss2DBackward>)\n",
      "EPOCH:  134\n"
     ]
    },
    {
     "data": {
      "image/png": "[encoded data removed]",
      "text/plain": [
       "<PIL.Image.Image image mode=RGB size=60x60 at 0x7FA4EDA78790>"
      ]
     },
     "metadata": {},
     "output_type": "display_data"
    },
    {
     "name": "stdout",
     "output_type": "stream",
     "text": [
      "Learning rate:  0.00015\n",
      "Loss = tensor(1.4920, device='cuda:0', grad_fn=<NllLoss2DBackward>)\n",
      "Loss = tensor(1.4843, device='cuda:0', grad_fn=<NllLoss2DBackward>)\n",
      "Loss = tensor(1.4960, device='cuda:0', grad_fn=<NllLoss2DBackward>)\n",
      "Loss = tensor(1.4877, device='cuda:0', grad_fn=<NllLoss2DBackward>)\n",
      "Loss = tensor(1.4902, device='cuda:0', grad_fn=<NllLoss2DBackward>)\n",
      "EPOCH:  134\n"
     ]
    },
    {
     "data": {
      "image/png": "[encoded data removed]",
      "text/plain": [
       "<PIL.Image.Image image mode=RGB size=60x60 at 0x7FA4EDA788E0>"
      ]
     },
     "metadata": {},
     "output_type": "display_data"
    },
    {
     "name": "stdout",
     "output_type": "stream",
     "text": [
      "Learning rate:  0.00015\n",
      "Loss = tensor(1.4784, device='cuda:0', grad_fn=<NllLoss2DBackward>)\n",
      "Loss = tensor(1.4889, device='cuda:0', grad_fn=<NllLoss2DBackward>)\n",
      "EPOCH:  135\n"
     ]
    },
    {
     "data": {
      "image/png": "[encoded data removed]",
      "text/plain": [
       "<PIL.Image.Image image mode=RGB size=60x60 at 0x7FA4EDA788E0>"
      ]
     },
     "metadata": {},
     "output_type": "display_data"
    },
    {
     "name": "stdout",
     "output_type": "stream",
     "text": [
      "Learning rate:  0.00015\n",
      "Loss = tensor(1.4998, device='cuda:0', grad_fn=<NllLoss2DBackward>)\n",
      "Loss = tensor(1.5027, device='cuda:0', grad_fn=<NllLoss2DBackward>)\n",
      "Loss = tensor(1.4815, device='cuda:0', grad_fn=<NllLoss2DBackward>)\n",
      "Loss = tensor(1.4826, device='cuda:0', grad_fn=<NllLoss2DBackward>)\n",
      "Loss = tensor(1.4803, device='cuda:0', grad_fn=<NllLoss2DBackward>)\n",
      "EPOCH:  135\n"
     ]
    },
    {
     "data": {
      "image/png": "[encoded data removed]",
      "text/plain": [
       "<PIL.Image.Image image mode=RGB size=60x60 at 0x7FA4EDA788B0>"
      ]
     },
     "metadata": {},
     "output_type": "display_data"
    },
    {
     "name": "stdout",
     "output_type": "stream",
     "text": [
      "Learning rate:  0.00015\n",
      "Loss = tensor(1.4832, device='cuda:0', grad_fn=<NllLoss2DBackward>)\n",
      "Loss = tensor(1.4889, device='cuda:0', grad_fn=<NllLoss2DBackward>)\n",
      "Loss = tensor(1.4757, device='cuda:0', grad_fn=<NllLoss2DBackward>)\n",
      "Loss = tensor(1.4983, device='cuda:0', grad_fn=<NllLoss2DBackward>)\n",
      "Loss = tensor(1.4857, device='cuda:0', grad_fn=<NllLoss2DBackward>)\n",
      "EPOCH:  135\n"
     ]
    },
    {
     "data": {
      "image/png": "[encoded data removed]",
      "text/plain": [
       "<PIL.Image.Image image mode=RGB size=60x60 at 0x7FA4EDA78880>"
      ]
     },
     "metadata": {},
     "output_type": "display_data"
    },
    {
     "name": "stdout",
     "output_type": "stream",
     "text": [
      "Learning rate:  0.00015\n",
      "Loss = tensor(1.4906, device='cuda:0', grad_fn=<NllLoss2DBackward>)\n",
      "Loss = tensor(1.4847, device='cuda:0', grad_fn=<NllLoss2DBackward>)\n",
      "EPOCH:  136\n"
     ]
    },
    {
     "data": {
      "image/png": "[encoded data removed]",
      "text/plain": [
       "<PIL.Image.Image image mode=RGB size=60x60 at 0x7FA4EDA788E0>"
      ]
     },
     "metadata": {},
     "output_type": "display_data"
    },
    {
     "name": "stdout",
     "output_type": "stream",
     "text": [
      "Learning rate:  0.00015\n",
      "Loss = tensor(1.4916, device='cuda:0', grad_fn=<NllLoss2DBackward>)\n",
      "Loss = tensor(1.5056, device='cuda:0', grad_fn=<NllLoss2DBackward>)\n",
      "Loss = tensor(1.4695, device='cuda:0', grad_fn=<NllLoss2DBackward>)\n",
      "Loss = tensor(1.5000, device='cuda:0', grad_fn=<NllLoss2DBackward>)\n",
      "Loss = tensor(1.4856, device='cuda:0', grad_fn=<NllLoss2DBackward>)\n",
      "EPOCH:  136\n"
     ]
    },
    {
     "data": {
      "image/png": "[encoded data removed]",
      "text/plain": [
       "<PIL.Image.Image image mode=RGB size=60x60 at 0x7FA4EDA788E0>"
      ]
     },
     "metadata": {},
     "output_type": "display_data"
    },
    {
     "name": "stdout",
     "output_type": "stream",
     "text": [
      "Learning rate:  0.00015\n",
      "Loss = tensor(1.4876, device='cuda:0', grad_fn=<NllLoss2DBackward>)\n",
      "Loss = tensor(1.4837, device='cuda:0', grad_fn=<NllLoss2DBackward>)\n",
      "Loss = tensor(1.4676, device='cuda:0', grad_fn=<NllLoss2DBackward>)\n",
      "Loss = tensor(1.4970, device='cuda:0', grad_fn=<NllLoss2DBackward>)\n",
      "Loss = tensor(1.5154, device='cuda:0', grad_fn=<NllLoss2DBackward>)\n",
      "EPOCH:  136\n"
     ]
    },
    {
     "data": {
      "image/png": "[encoded data removed]",
      "text/plain": [
       "<PIL.Image.Image image mode=RGB size=60x60 at 0x7FA4EDA788E0>"
      ]
     },
     "metadata": {},
     "output_type": "display_data"
    },
    {
     "name": "stdout",
     "output_type": "stream",
     "text": [
      "Learning rate:  0.00015\n",
      "Loss = tensor(1.4793, device='cuda:0', grad_fn=<NllLoss2DBackward>)\n",
      "Loss = tensor(1.4908, device='cuda:0', grad_fn=<NllLoss2DBackward>)\n",
      "EPOCH:  137\n"
     ]
    },
    {
     "data": {
      "image/png": "[encoded data removed]",
      "text/plain": [
       "<PIL.Image.Image image mode=RGB size=60x60 at 0x7FA4EDA78580>"
      ]
     },
     "metadata": {},
     "output_type": "display_data"
    },
    {
     "name": "stdout",
     "output_type": "stream",
     "text": [
      "Learning rate:  0.00015\n",
      "Loss = tensor(1.4838, device='cuda:0', grad_fn=<NllLoss2DBackward>)\n",
      "Loss = tensor(1.4738, device='cuda:0', grad_fn=<NllLoss2DBackward>)\n",
      "Loss = tensor(1.4976, device='cuda:0', grad_fn=<NllLoss2DBackward>)\n",
      "Loss = tensor(1.4917, device='cuda:0', grad_fn=<NllLoss2DBackward>)\n",
      "Loss = tensor(1.4797, device='cuda:0', grad_fn=<NllLoss2DBackward>)\n",
      "EPOCH:  137\n"
     ]
    },
    {
     "data": {
      "image/png": "[encoded data removed]",
      "text/plain": [
       "<PIL.Image.Image image mode=RGB size=60x60 at 0x7FA4EDA786A0>"
      ]
     },
     "metadata": {},
     "output_type": "display_data"
    },
    {
     "name": "stdout",
     "output_type": "stream",
     "text": [
      "Learning rate:  0.00015\n",
      "Loss = tensor(1.5077, device='cuda:0', grad_fn=<NllLoss2DBackward>)\n",
      "Loss = tensor(1.4811, device='cuda:0', grad_fn=<NllLoss2DBackward>)\n",
      "Loss = tensor(1.4983, device='cuda:0', grad_fn=<NllLoss2DBackward>)\n",
      "Loss = tensor(1.4881, device='cuda:0', grad_fn=<NllLoss2DBackward>)\n",
      "Loss = tensor(1.4819, device='cuda:0', grad_fn=<NllLoss2DBackward>)\n",
      "EPOCH:  137\n"
     ]
    },
    {
     "data": {
      "image/png": "[encoded data removed]",
      "text/plain": [
       "<PIL.Image.Image image mode=RGB size=60x60 at 0x7FA4EDA78910>"
      ]
     },
     "metadata": {},
     "output_type": "display_data"
    },
    {
     "name": "stdout",
     "output_type": "stream",
     "text": [
      "Learning rate:  0.00015\n",
      "Loss = tensor(1.4831, device='cuda:0', grad_fn=<NllLoss2DBackward>)\n",
      "Loss = tensor(1.4938, device='cuda:0', grad_fn=<NllLoss2DBackward>)\n",
      "EPOCH:  138\n"
     ]
    },
    {
     "data": {
      "image/png": "[encoded data removed]",
      "text/plain": [
       "<PIL.Image.Image image mode=RGB size=60x60 at 0x7FA4EDA78580>"
      ]
     },
     "metadata": {},
     "output_type": "display_data"
    },
    {
     "name": "stdout",
     "output_type": "stream",
     "text": [
      "Learning rate:  0.00015\n",
      "Loss = tensor(1.4964, device='cuda:0', grad_fn=<NllLoss2DBackward>)\n",
      "Loss = tensor(1.4762, device='cuda:0', grad_fn=<NllLoss2DBackward>)\n",
      "Loss = tensor(1.5074, device='cuda:0', grad_fn=<NllLoss2DBackward>)\n",
      "Loss = tensor(1.4764, device='cuda:0', grad_fn=<NllLoss2DBackward>)\n",
      "Loss = tensor(1.4896, device='cuda:0', grad_fn=<NllLoss2DBackward>)\n",
      "EPOCH:  138\n"
     ]
    },
    {
     "data": {
      "image/png": "[encoded data removed]",
      "text/plain": [
       "<PIL.Image.Image image mode=RGB size=60x60 at 0x7FA4EDA78940>"
      ]
     },
     "metadata": {},
     "output_type": "display_data"
    },
    {
     "name": "stdout",
     "output_type": "stream",
     "text": [
      "Learning rate:  0.00015\n",
      "Loss = tensor(1.4880, device='cuda:0', grad_fn=<NllLoss2DBackward>)\n",
      "Loss = tensor(1.4720, device='cuda:0', grad_fn=<NllLoss2DBackward>)\n",
      "Loss = tensor(1.4995, device='cuda:0', grad_fn=<NllLoss2DBackward>)\n",
      "Loss = tensor(1.4807, device='cuda:0', grad_fn=<NllLoss2DBackward>)\n",
      "Loss = tensor(1.4885, device='cuda:0', grad_fn=<NllLoss2DBackward>)\n",
      "EPOCH:  138\n"
     ]
    },
    {
     "data": {
      "image/png": "[encoded data removed]",
      "text/plain": [
       "<PIL.Image.Image image mode=RGB size=60x60 at 0x7FA4EDA78310>"
      ]
     },
     "metadata": {},
     "output_type": "display_data"
    },
    {
     "name": "stdout",
     "output_type": "stream",
     "text": [
      "Learning rate:  0.00015\n",
      "Loss = tensor(1.4924, device='cuda:0', grad_fn=<NllLoss2DBackward>)\n",
      "Loss = tensor(1.4959, device='cuda:0', grad_fn=<NllLoss2DBackward>)\n",
      "EPOCH:  139\n"
     ]
    },
    {
     "data": {
      "image/png": "[encoded data removed]",
      "text/plain": [
       "<PIL.Image.Image image mode=RGB size=60x60 at 0x7FA4EDA78550>"
      ]
     },
     "metadata": {},
     "output_type": "display_data"
    },
    {
     "name": "stdout",
     "output_type": "stream",
     "text": [
      "Learning rate:  0.00015\n",
      "Loss = tensor(1.4919, device='cuda:0', grad_fn=<NllLoss2DBackward>)\n",
      "Loss = tensor(1.4840, device='cuda:0', grad_fn=<NllLoss2DBackward>)\n",
      "Loss = tensor(1.4975, device='cuda:0', grad_fn=<NllLoss2DBackward>)\n",
      "Loss = tensor(1.4845, device='cuda:0', grad_fn=<NllLoss2DBackward>)\n",
      "Loss = tensor(1.4831, device='cuda:0', grad_fn=<NllLoss2DBackward>)\n",
      "EPOCH:  139\n"
     ]
    },
    {
     "data": {
      "image/png": "[encoded data removed]",
      "text/plain": [
       "<PIL.Image.Image image mode=RGB size=60x60 at 0x7FA4EDA78340>"
      ]
     },
     "metadata": {},
     "output_type": "display_data"
    },
    {
     "name": "stdout",
     "output_type": "stream",
     "text": [
      "Learning rate:  0.00015\n",
      "Loss = tensor(1.4801, device='cuda:0', grad_fn=<NllLoss2DBackward>)\n",
      "Loss = tensor(1.4861, device='cuda:0', grad_fn=<NllLoss2DBackward>)\n",
      "Loss = tensor(1.4781, device='cuda:0', grad_fn=<NllLoss2DBackward>)\n",
      "Loss = tensor(1.4911, device='cuda:0', grad_fn=<NllLoss2DBackward>)\n",
      "Loss = tensor(1.4823, device='cuda:0', grad_fn=<NllLoss2DBackward>)\n",
      "EPOCH:  139\n"
     ]
    },
    {
     "data": {
      "image/png": "[encoded data removed]",
      "text/plain": [
       "<PIL.Image.Image image mode=RGB size=60x60 at 0x7FA4EDA787C0>"
      ]
     },
     "metadata": {},
     "output_type": "display_data"
    },
    {
     "name": "stdout",
     "output_type": "stream",
     "text": [
      "Learning rate:  0.00015\n",
      "Loss = tensor(1.5006, device='cuda:0', grad_fn=<NllLoss2DBackward>)\n",
      "Loss = tensor(1.4748, device='cuda:0', grad_fn=<NllLoss2DBackward>)\n",
      "EPOCH:  140\n"
     ]
    },
    {
     "data": {
      "image/png": "[encoded data removed]",
      "text/plain": [
       "<PIL.Image.Image image mode=RGB size=60x60 at 0x7FA4EDA78850>"
      ]
     },
     "metadata": {},
     "output_type": "display_data"
    },
    {
     "name": "stdout",
     "output_type": "stream",
     "text": [
      "Learning rate:  0.00015\n",
      "Loss = tensor(1.5015, device='cuda:0', grad_fn=<NllLoss2DBackward>)\n",
      "Loss = tensor(1.5035, device='cuda:0', grad_fn=<NllLoss2DBackward>)\n",
      "Loss = tensor(1.4882, device='cuda:0', grad_fn=<NllLoss2DBackward>)\n",
      "Loss = tensor(1.4821, device='cuda:0', grad_fn=<NllLoss2DBackward>)\n",
      "Loss = tensor(1.4774, device='cuda:0', grad_fn=<NllLoss2DBackward>)\n",
      "EPOCH:  140\n"
     ]
    },
    {
     "data": {
      "image/png": "[encoded data removed]",
      "text/plain": [
       "<PIL.Image.Image image mode=RGB size=60x60 at 0x7FA4EDA78940>"
      ]
     },
     "metadata": {},
     "output_type": "display_data"
    },
    {
     "name": "stdout",
     "output_type": "stream",
     "text": [
      "Learning rate:  0.00015\n",
      "Loss = tensor(1.4732, device='cuda:0', grad_fn=<NllLoss2DBackward>)\n",
      "Loss = tensor(1.4853, device='cuda:0', grad_fn=<NllLoss2DBackward>)\n",
      "Loss = tensor(1.4841, device='cuda:0', grad_fn=<NllLoss2DBackward>)\n",
      "Loss = tensor(1.4904, device='cuda:0', grad_fn=<NllLoss2DBackward>)\n",
      "Loss = tensor(1.4913, device='cuda:0', grad_fn=<NllLoss2DBackward>)\n",
      "EPOCH:  140\n"
     ]
    },
    {
     "data": {
      "image/png": "[encoded data removed]",
      "text/plain": [
       "<PIL.Image.Image image mode=RGB size=60x60 at 0x7FA4EDA783D0>"
      ]
     },
     "metadata": {},
     "output_type": "display_data"
    },
    {
     "name": "stdout",
     "output_type": "stream",
     "text": [
      "Learning rate:  0.00015\n",
      "Loss = tensor(1.4973, device='cuda:0', grad_fn=<NllLoss2DBackward>)\n",
      "Loss = tensor(1.5086, device='cuda:0', grad_fn=<NllLoss2DBackward>)\n",
      "EPOCH:  141\n"
     ]
    },
    {
     "data": {
      "image/png": "[encoded data removed]",
      "text/plain": [
       "<PIL.Image.Image image mode=RGB size=60x60 at 0x7FA4EDA78790>"
      ]
     },
     "metadata": {},
     "output_type": "display_data"
    },
    {
     "name": "stdout",
     "output_type": "stream",
     "text": [
      "Learning rate:  0.00015\n",
      "Loss = tensor(1.4752, device='cuda:0', grad_fn=<NllLoss2DBackward>)\n",
      "Loss = tensor(1.4755, device='cuda:0', grad_fn=<NllLoss2DBackward>)\n",
      "Loss = tensor(1.4849, device='cuda:0', grad_fn=<NllLoss2DBackward>)\n",
      "Loss = tensor(1.4915, device='cuda:0', grad_fn=<NllLoss2DBackward>)\n",
      "Loss = tensor(1.4855, device='cuda:0', grad_fn=<NllLoss2DBackward>)\n",
      "EPOCH:  141\n"
     ]
    },
    {
     "data": {
      "image/png": "[encoded data removed]",
      "text/plain": [
       "<PIL.Image.Image image mode=RGB size=60x60 at 0x7FA4EDA785E0>"
      ]
     },
     "metadata": {},
     "output_type": "display_data"
    },
    {
     "name": "stdout",
     "output_type": "stream",
     "text": [
      "Learning rate:  0.00015\n",
      "Loss = tensor(1.4831, device='cuda:0', grad_fn=<NllLoss2DBackward>)\n",
      "Loss = tensor(1.4726, device='cuda:0', grad_fn=<NllLoss2DBackward>)\n",
      "Loss = tensor(1.5017, device='cuda:0', grad_fn=<NllLoss2DBackward>)\n",
      "Loss = tensor(1.4947, device='cuda:0', grad_fn=<NllLoss2DBackward>)\n",
      "Loss = tensor(1.4972, device='cuda:0', grad_fn=<NllLoss2DBackward>)\n",
      "EPOCH:  141\n"
     ]
    },
    {
     "data": {
      "image/png": "[encoded data removed]",
      "text/plain": [
       "<PIL.Image.Image image mode=RGB size=60x60 at 0x7FA4EDA784C0>"
      ]
     },
     "metadata": {},
     "output_type": "display_data"
    },
    {
     "name": "stdout",
     "output_type": "stream",
     "text": [
      "Learning rate:  0.00015\n",
      "Loss = tensor(1.4757, device='cuda:0', grad_fn=<NllLoss2DBackward>)\n",
      "Loss = tensor(1.4737, device='cuda:0', grad_fn=<NllLoss2DBackward>)\n",
      "EPOCH:  142\n"
     ]
    },
    {
     "data": {
      "image/png": "[encoded data removed]",
      "text/plain": [
       "<PIL.Image.Image image mode=RGB size=60x60 at 0x7FA4EDA78610>"
      ]
     },
     "metadata": {},
     "output_type": "display_data"
    },
    {
     "name": "stdout",
     "output_type": "stream",
     "text": [
      "Learning rate:  0.00015\n",
      "Loss = tensor(1.4844, device='cuda:0', grad_fn=<NllLoss2DBackward>)\n",
      "Loss = tensor(1.4842, device='cuda:0', grad_fn=<NllLoss2DBackward>)\n",
      "Loss = tensor(1.4788, device='cuda:0', grad_fn=<NllLoss2DBackward>)\n",
      "Loss = tensor(1.4990, device='cuda:0', grad_fn=<NllLoss2DBackward>)\n",
      "Loss = tensor(1.4887, device='cuda:0', grad_fn=<NllLoss2DBackward>)\n",
      "EPOCH:  142\n"
     ]
    },
    {
     "data": {
      "image/png": "[encoded data removed]",
      "text/plain": [
       "<PIL.Image.Image image mode=RGB size=60x60 at 0x7FA4EDA78820>"
      ]
     },
     "metadata": {},
     "output_type": "display_data"
    },
    {
     "name": "stdout",
     "output_type": "stream",
     "text": [
      "Learning rate:  0.00015\n",
      "Loss = tensor(1.4805, device='cuda:0', grad_fn=<NllLoss2DBackward>)\n",
      "Loss = tensor(1.4985, device='cuda:0', grad_fn=<NllLoss2DBackward>)\n",
      "Loss = tensor(1.4900, device='cuda:0', grad_fn=<NllLoss2DBackward>)\n",
      "Loss = tensor(1.4938, device='cuda:0', grad_fn=<NllLoss2DBackward>)\n",
      "Loss = tensor(1.4865, device='cuda:0', grad_fn=<NllLoss2DBackward>)\n",
      "EPOCH:  142\n"
     ]
    },
    {
     "data": {
      "image/png": "[encoded data removed]",
      "text/plain": [
       "<PIL.Image.Image image mode=RGB size=60x60 at 0x7FA4EDA78370>"
      ]
     },
     "metadata": {},
     "output_type": "display_data"
    },
    {
     "name": "stdout",
     "output_type": "stream",
     "text": [
      "Learning rate:  0.00015\n",
      "Loss = tensor(1.4879, device='cuda:0', grad_fn=<NllLoss2DBackward>)\n",
      "Loss = tensor(1.4959, device='cuda:0', grad_fn=<NllLoss2DBackward>)\n",
      "EPOCH:  143\n"
     ]
    },
    {
     "data": {
      "image/png": "[encoded data removed]",
      "text/plain": [
       "<PIL.Image.Image image mode=RGB size=60x60 at 0x7FA4EDA78310>"
      ]
     },
     "metadata": {},
     "output_type": "display_data"
    },
    {
     "name": "stdout",
     "output_type": "stream",
     "text": [
      "Learning rate:  0.00015\n",
      "Loss = tensor(1.4861, device='cuda:0', grad_fn=<NllLoss2DBackward>)\n",
      "Loss = tensor(1.4813, device='cuda:0', grad_fn=<NllLoss2DBackward>)\n",
      "Loss = tensor(1.4635, device='cuda:0', grad_fn=<NllLoss2DBackward>)\n",
      "Loss = tensor(1.4820, device='cuda:0', grad_fn=<NllLoss2DBackward>)\n",
      "Loss = tensor(1.4868, device='cuda:0', grad_fn=<NllLoss2DBackward>)\n",
      "EPOCH:  143\n"
     ]
    },
    {
     "data": {
      "image/png": "[encoded data removed]",
      "text/plain": [
       "<PIL.Image.Image image mode=RGB size=60x60 at 0x7FA4EDA78670>"
      ]
     },
     "metadata": {},
     "output_type": "display_data"
    },
    {
     "name": "stdout",
     "output_type": "stream",
     "text": [
      "Learning rate:  0.00015\n",
      "Loss = tensor(1.4796, device='cuda:0', grad_fn=<NllLoss2DBackward>)\n",
      "Loss = tensor(1.4797, device='cuda:0', grad_fn=<NllLoss2DBackward>)\n",
      "Loss = tensor(1.4891, device='cuda:0', grad_fn=<NllLoss2DBackward>)\n",
      "Loss = tensor(1.4869, device='cuda:0', grad_fn=<NllLoss2DBackward>)\n",
      "Loss = tensor(1.5130, device='cuda:0', grad_fn=<NllLoss2DBackward>)\n",
      "EPOCH:  143\n"
     ]
    },
    {
     "data": {
      "image/png": "[encoded data removed]",
      "text/plain": [
       "<PIL.Image.Image image mode=RGB size=60x60 at 0x7FA4EDA78820>"
      ]
     },
     "metadata": {},
     "output_type": "display_data"
    },
    {
     "name": "stdout",
     "output_type": "stream",
     "text": [
      "Learning rate:  0.00015\n",
      "Loss = tensor(1.4990, device='cuda:0', grad_fn=<NllLoss2DBackward>)\n",
      "Loss = tensor(1.4763, device='cuda:0', grad_fn=<NllLoss2DBackward>)\n",
      "EPOCH:  144\n"
     ]
    },
    {
     "data": {
      "image/png": "[encoded data removed]",
      "text/plain": [
       "<PIL.Image.Image image mode=RGB size=60x60 at 0x7FA4EDA78550>"
      ]
     },
     "metadata": {},
     "output_type": "display_data"
    },
    {
     "name": "stdout",
     "output_type": "stream",
     "text": [
      "Learning rate:  0.00015\n",
      "Loss = tensor(1.4871, device='cuda:0', grad_fn=<NllLoss2DBackward>)\n",
      "Loss = tensor(1.4886, device='cuda:0', grad_fn=<NllLoss2DBackward>)\n",
      "Loss = tensor(1.4929, device='cuda:0', grad_fn=<NllLoss2DBackward>)\n",
      "Loss = tensor(1.4845, device='cuda:0', grad_fn=<NllLoss2DBackward>)\n",
      "Loss = tensor(1.4772, device='cuda:0', grad_fn=<NllLoss2DBackward>)\n",
      "EPOCH:  144\n"
     ]
    },
    {
     "data": {
      "image/png": "[encoded data removed]",
      "text/plain": [
       "<PIL.Image.Image image mode=RGB size=60x60 at 0x7FA4EDA78670>"
      ]
     },
     "metadata": {},
     "output_type": "display_data"
    },
    {
     "name": "stdout",
     "output_type": "stream",
     "text": [
      "Learning rate:  0.00015\n",
      "Loss = tensor(1.4899, device='cuda:0', grad_fn=<NllLoss2DBackward>)\n",
      "Loss = tensor(1.4995, device='cuda:0', grad_fn=<NllLoss2DBackward>)\n",
      "Loss = tensor(1.4743, device='cuda:0', grad_fn=<NllLoss2DBackward>)\n",
      "Loss = tensor(1.4863, device='cuda:0', grad_fn=<NllLoss2DBackward>)\n",
      "Loss = tensor(1.4933, device='cuda:0', grad_fn=<NllLoss2DBackward>)\n",
      "EPOCH:  144\n"
     ]
    },
    {
     "data": {
      "image/png": "[encoded data removed]",
      "text/plain": [
       "<PIL.Image.Image image mode=RGB size=60x60 at 0x7FA4EDA78790>"
      ]
     },
     "metadata": {},
     "output_type": "display_data"
    },
    {
     "name": "stdout",
     "output_type": "stream",
     "text": [
      "Learning rate:  0.00015\n",
      "Loss = tensor(1.5039, device='cuda:0', grad_fn=<NllLoss2DBackward>)\n",
      "Loss = tensor(1.4908, device='cuda:0', grad_fn=<NllLoss2DBackward>)\n",
      "EPOCH:  145\n"
     ]
    },
    {
     "data": {
      "image/png": "[encoded data removed]",
      "text/plain": [
       "<PIL.Image.Image image mode=RGB size=60x60 at 0x7FA4EDA785E0>"
      ]
     },
     "metadata": {},
     "output_type": "display_data"
    },
    {
     "name": "stdout",
     "output_type": "stream",
     "text": [
      "Learning rate:  0.00015\n",
      "Loss = tensor(1.4878, device='cuda:0', grad_fn=<NllLoss2DBackward>)\n",
      "Loss = tensor(1.4822, device='cuda:0', grad_fn=<NllLoss2DBackward>)\n",
      "Loss = tensor(1.4937, device='cuda:0', grad_fn=<NllLoss2DBackward>)\n",
      "Loss = tensor(1.4748, device='cuda:0', grad_fn=<NllLoss2DBackward>)\n",
      "Loss = tensor(1.4859, device='cuda:0', grad_fn=<NllLoss2DBackward>)\n",
      "EPOCH:  145\n"
     ]
    },
    {
     "data": {
      "image/png": "[encoded data removed]",
      "text/plain": [
       "<PIL.Image.Image image mode=RGB size=60x60 at 0x7FA4EDA78790>"
      ]
     },
     "metadata": {},
     "output_type": "display_data"
    },
    {
     "name": "stdout",
     "output_type": "stream",
     "text": [
      "Learning rate:  0.00015\n",
      "Loss = tensor(1.4830, device='cuda:0', grad_fn=<NllLoss2DBackward>)\n",
      "Loss = tensor(1.4700, device='cuda:0', grad_fn=<NllLoss2DBackward>)\n",
      "Loss = tensor(1.4756, device='cuda:0', grad_fn=<NllLoss2DBackward>)\n",
      "Loss = tensor(1.5014, device='cuda:0', grad_fn=<NllLoss2DBackward>)\n",
      "Loss = tensor(1.5143, device='cuda:0', grad_fn=<NllLoss2DBackward>)\n",
      "EPOCH:  145\n"
     ]
    },
    {
     "data": {
      "image/png": "[encoded data removed]",
      "text/plain": [
       "<PIL.Image.Image image mode=RGB size=60x60 at 0x7FA4EDA788E0>"
      ]
     },
     "metadata": {},
     "output_type": "display_data"
    },
    {
     "name": "stdout",
     "output_type": "stream",
     "text": [
      "Learning rate:  0.00015\n",
      "Loss = tensor(1.4944, device='cuda:0', grad_fn=<NllLoss2DBackward>)\n",
      "Loss = tensor(1.4887, device='cuda:0', grad_fn=<NllLoss2DBackward>)\n",
      "EPOCH:  146\n"
     ]
    },
    {
     "data": {
      "image/png": "[encoded data removed]",
      "text/plain": [
       "<PIL.Image.Image image mode=RGB size=60x60 at 0x7FA4EDA78370>"
      ]
     },
     "metadata": {},
     "output_type": "display_data"
    },
    {
     "name": "stdout",
     "output_type": "stream",
     "text": [
      "Learning rate:  0.00015\n",
      "Loss = tensor(1.4780, device='cuda:0', grad_fn=<NllLoss2DBackward>)\n",
      "Loss = tensor(1.4784, device='cuda:0', grad_fn=<NllLoss2DBackward>)\n",
      "Loss = tensor(1.5027, device='cuda:0', grad_fn=<NllLoss2DBackward>)\n",
      "Loss = tensor(1.4963, device='cuda:0', grad_fn=<NllLoss2DBackward>)\n",
      "Loss = tensor(1.4945, device='cuda:0', grad_fn=<NllLoss2DBackward>)\n",
      "EPOCH:  146\n"
     ]
    },
    {
     "data": {
      "image/png": "[encoded data removed]",
      "text/plain": [
       "<PIL.Image.Image image mode=RGB size=60x60 at 0x7FA4EDA78550>"
      ]
     },
     "metadata": {},
     "output_type": "display_data"
    },
    {
     "name": "stdout",
     "output_type": "stream",
     "text": [
      "Learning rate:  0.00015\n",
      "Loss = tensor(1.4887, device='cuda:0', grad_fn=<NllLoss2DBackward>)\n",
      "Loss = tensor(1.4841, device='cuda:0', grad_fn=<NllLoss2DBackward>)\n",
      "Loss = tensor(1.4881, device='cuda:0', grad_fn=<NllLoss2DBackward>)\n",
      "Loss = tensor(1.4712, device='cuda:0', grad_fn=<NllLoss2DBackward>)\n",
      "Loss = tensor(1.4949, device='cuda:0', grad_fn=<NllLoss2DBackward>)\n",
      "EPOCH:  146\n"
     ]
    },
    {
     "data": {
      "image/png": "[encoded data removed]",
      "text/plain": [
       "<PIL.Image.Image image mode=RGB size=60x60 at 0x7FA4EDA78850>"
      ]
     },
     "metadata": {},
     "output_type": "display_data"
    },
    {
     "name": "stdout",
     "output_type": "stream",
     "text": [
      "Learning rate:  0.00015\n",
      "Loss = tensor(1.4803, device='cuda:0', grad_fn=<NllLoss2DBackward>)\n",
      "Loss = tensor(1.4914, device='cuda:0', grad_fn=<NllLoss2DBackward>)\n",
      "EPOCH:  147\n"
     ]
    },
    {
     "data": {
      "image/png": "[encoded data removed]",
      "text/plain": [
       "<PIL.Image.Image image mode=RGB size=60x60 at 0x7FA4EDA783D0>"
      ]
     },
     "metadata": {},
     "output_type": "display_data"
    },
    {
     "name": "stdout",
     "output_type": "stream",
     "text": [
      "Learning rate:  0.00015\n",
      "Loss = tensor(1.4841, device='cuda:0', grad_fn=<NllLoss2DBackward>)\n",
      "Loss = tensor(1.4807, device='cuda:0', grad_fn=<NllLoss2DBackward>)\n",
      "Loss = tensor(1.4857, device='cuda:0', grad_fn=<NllLoss2DBackward>)\n",
      "Loss = tensor(1.4849, device='cuda:0', grad_fn=<NllLoss2DBackward>)\n",
      "Loss = tensor(1.5011, device='cuda:0', grad_fn=<NllLoss2DBackward>)\n",
      "EPOCH:  147\n"
     ]
    },
    {
     "data": {
      "image/png": "[encoded data removed]",
      "text/plain": [
       "<PIL.Image.Image image mode=RGB size=60x60 at 0x7FA4EDA785E0>"
      ]
     },
     "metadata": {},
     "output_type": "display_data"
    },
    {
     "name": "stdout",
     "output_type": "stream",
     "text": [
      "Learning rate:  0.00015\n",
      "Loss = tensor(1.4847, device='cuda:0', grad_fn=<NllLoss2DBackward>)\n",
      "Loss = tensor(1.4877, device='cuda:0', grad_fn=<NllLoss2DBackward>)\n",
      "Loss = tensor(1.4935, device='cuda:0', grad_fn=<NllLoss2DBackward>)\n",
      "Loss = tensor(1.4959, device='cuda:0', grad_fn=<NllLoss2DBackward>)\n",
      "Loss = tensor(1.4854, device='cuda:0', grad_fn=<NllLoss2DBackward>)\n",
      "EPOCH:  147\n"
     ]
    },
    {
     "data": {
      "image/png": "[encoded data removed]",
      "text/plain": [
       "<PIL.Image.Image image mode=RGB size=60x60 at 0x7FA4EDA78580>"
      ]
     },
     "metadata": {},
     "output_type": "display_data"
    },
    {
     "name": "stdout",
     "output_type": "stream",
     "text": [
      "Learning rate:  0.00015\n",
      "Loss = tensor(1.4706, device='cuda:0', grad_fn=<NllLoss2DBackward>)\n",
      "Loss = tensor(1.4760, device='cuda:0', grad_fn=<NllLoss2DBackward>)\n",
      "EPOCH:  148\n"
     ]
    },
    {
     "data": {
      "image/png": "[encoded data removed]",
      "text/plain": [
       "<PIL.Image.Image image mode=RGB size=60x60 at 0x7FA4EDA78340>"
      ]
     },
     "metadata": {},
     "output_type": "display_data"
    },
    {
     "name": "stdout",
     "output_type": "stream",
     "text": [
      "Learning rate:  0.00015\n",
      "Loss = tensor(1.4927, device='cuda:0', grad_fn=<NllLoss2DBackward>)\n",
      "Loss = tensor(1.4912, device='cuda:0', grad_fn=<NllLoss2DBackward>)\n",
      "Loss = tensor(1.4827, device='cuda:0', grad_fn=<NllLoss2DBackward>)\n",
      "Loss = tensor(1.4819, device='cuda:0', grad_fn=<NllLoss2DBackward>)\n",
      "Loss = tensor(1.4894, device='cuda:0', grad_fn=<NllLoss2DBackward>)\n",
      "EPOCH:  148\n"
     ]
    },
    {
     "data": {
      "image/png": "[encoded data removed]",
      "text/plain": [
       "<PIL.Image.Image image mode=RGB size=60x60 at 0x7FA4EDA78670>"
      ]
     },
     "metadata": {},
     "output_type": "display_data"
    },
    {
     "name": "stdout",
     "output_type": "stream",
     "text": [
      "Learning rate:  0.00015\n",
      "Loss = tensor(1.4872, device='cuda:0', grad_fn=<NllLoss2DBackward>)\n",
      "Loss = tensor(1.4899, device='cuda:0', grad_fn=<NllLoss2DBackward>)\n",
      "Loss = tensor(1.4750, device='cuda:0', grad_fn=<NllLoss2DBackward>)\n",
      "Loss = tensor(1.4881, device='cuda:0', grad_fn=<NllLoss2DBackward>)\n",
      "Loss = tensor(1.5032, device='cuda:0', grad_fn=<NllLoss2DBackward>)\n",
      "EPOCH:  148\n"
     ]
    },
    {
     "data": {
      "image/png": "[encoded data removed]",
      "text/plain": [
       "<PIL.Image.Image image mode=RGB size=60x60 at 0x7FA4EDA78850>"
      ]
     },
     "metadata": {},
     "output_type": "display_data"
    },
    {
     "name": "stdout",
     "output_type": "stream",
     "text": [
      "Learning rate:  0.00015\n",
      "Loss = tensor(1.4740, device='cuda:0', grad_fn=<NllLoss2DBackward>)\n",
      "Loss = tensor(1.4740, device='cuda:0', grad_fn=<NllLoss2DBackward>)\n",
      "EPOCH:  149\n"
     ]
    },
    {
     "data": {
      "image/png": "[encoded data removed]",
      "text/plain": [
       "<PIL.Image.Image image mode=RGB size=60x60 at 0x7FA4EDA78820>"
      ]
     },
     "metadata": {},
     "output_type": "display_data"
    },
    {
     "name": "stdout",
     "output_type": "stream",
     "text": [
      "Learning rate:  0.00015\n",
      "Loss = tensor(1.4918, device='cuda:0', grad_fn=<NllLoss2DBackward>)\n",
      "Loss = tensor(1.4916, device='cuda:0', grad_fn=<NllLoss2DBackward>)\n",
      "Loss = tensor(1.4959, device='cuda:0', grad_fn=<NllLoss2DBackward>)\n",
      "Loss = tensor(1.4850, device='cuda:0', grad_fn=<NllLoss2DBackward>)\n",
      "Loss = tensor(1.4829, device='cuda:0', grad_fn=<NllLoss2DBackward>)\n",
      "EPOCH:  149\n"
     ]
    },
    {
     "data": {
      "image/png": "[encoded data removed]",
      "text/plain": [
       "<PIL.Image.Image image mode=RGB size=60x60 at 0x7FA4EDA784C0>"
      ]
     },
     "metadata": {},
     "output_type": "display_data"
    },
    {
     "name": "stdout",
     "output_type": "stream",
     "text": [
      "Learning rate:  0.00015\n",
      "Loss = tensor(1.4846, device='cuda:0', grad_fn=<NllLoss2DBackward>)\n",
      "Loss = tensor(1.4840, device='cuda:0', grad_fn=<NllLoss2DBackward>)\n",
      "Loss = tensor(1.4896, device='cuda:0', grad_fn=<NllLoss2DBackward>)\n",
      "Loss = tensor(1.4858, device='cuda:0', grad_fn=<NllLoss2DBackward>)\n",
      "Loss = tensor(1.4909, device='cuda:0', grad_fn=<NllLoss2DBackward>)\n",
      "EPOCH:  149\n"
     ]
    },
    {
     "data": {
      "image/png": "[encoded data removed]",
      "text/plain": [
       "<PIL.Image.Image image mode=RGB size=60x60 at 0x7FA4EDA788E0>"
      ]
     },
     "metadata": {},
     "output_type": "display_data"
    },
    {
     "name": "stdout",
     "output_type": "stream",
     "text": [
      "Learning rate:  0.00015\n",
      "Loss = tensor(1.4858, device='cuda:0', grad_fn=<NllLoss2DBackward>)\n",
      "Loss = tensor(1.4914, device='cuda:0', grad_fn=<NllLoss2DBackward>)\n",
      "EPOCH:  150\n"
     ]
    },
    {
     "data": {
      "image/png": "[encoded data removed]",
      "text/plain": [
       "<PIL.Image.Image image mode=RGB size=60x60 at 0x7FA4EDA783D0>"
      ]
     },
     "metadata": {},
     "output_type": "display_data"
    },
    {
     "name": "stdout",
     "output_type": "stream",
     "text": [
      "Learning rate:  0.00015\n",
      "Loss = tensor(1.4754, device='cuda:0', grad_fn=<NllLoss2DBackward>)\n",
      "Loss = tensor(1.4911, device='cuda:0', grad_fn=<NllLoss2DBackward>)\n",
      "Loss = tensor(1.4971, device='cuda:0', grad_fn=<NllLoss2DBackward>)\n",
      "Loss = tensor(1.4923, device='cuda:0', grad_fn=<NllLoss2DBackward>)\n",
      "Loss = tensor(1.4925, device='cuda:0', grad_fn=<NllLoss2DBackward>)\n",
      "EPOCH:  150\n"
     ]
    },
    {
     "data": {
      "image/png": "[encoded data removed]",
      "text/plain": [
       "<PIL.Image.Image image mode=RGB size=60x60 at 0x7FA4EDA78550>"
      ]
     },
     "metadata": {},
     "output_type": "display_data"
    },
    {
     "name": "stdout",
     "output_type": "stream",
     "text": [
      "Learning rate:  0.00015\n",
      "Loss = tensor(1.4798, device='cuda:0', grad_fn=<NllLoss2DBackward>)\n",
      "Loss = tensor(1.4889, device='cuda:0', grad_fn=<NllLoss2DBackward>)\n",
      "Loss = tensor(1.4775, device='cuda:0', grad_fn=<NllLoss2DBackward>)\n",
      "Loss = tensor(1.4831, device='cuda:0', grad_fn=<NllLoss2DBackward>)\n",
      "Loss = tensor(1.4823, device='cuda:0', grad_fn=<NllLoss2DBackward>)\n",
      "EPOCH:  150\n"
     ]
    },
    {
     "data": {
      "image/png": "[encoded data removed]",
      "text/plain": [
       "<PIL.Image.Image image mode=RGB size=60x60 at 0x7FA4EDA783D0>"
      ]
     },
     "metadata": {},
     "output_type": "display_data"
    },
    {
     "name": "stdout",
     "output_type": "stream",
     "text": [
      "Learning rate:  0.00015\n",
      "Loss = tensor(1.4903, device='cuda:0', grad_fn=<NllLoss2DBackward>)\n",
      "Loss = tensor(1.5000, device='cuda:0', grad_fn=<NllLoss2DBackward>)\n",
      "EPOCH:  151\n"
     ]
    },
    {
     "data": {
      "image/png": "[encoded data removed]",
      "text/plain": [
       "<PIL.Image.Image image mode=RGB size=60x60 at 0x7FA4EDA783D0>"
      ]
     },
     "metadata": {},
     "output_type": "display_data"
    },
    {
     "name": "stdout",
     "output_type": "stream",
     "text": [
      "Learning rate:  0.00015\n",
      "Loss = tensor(1.4668, device='cuda:0', grad_fn=<NllLoss2DBackward>)\n",
      "Loss = tensor(1.4828, device='cuda:0', grad_fn=<NllLoss2DBackward>)\n",
      "Loss = tensor(1.4935, device='cuda:0', grad_fn=<NllLoss2DBackward>)\n",
      "Loss = tensor(1.4954, device='cuda:0', grad_fn=<NllLoss2DBackward>)\n",
      "Loss = tensor(1.4976, device='cuda:0', grad_fn=<NllLoss2DBackward>)\n",
      "EPOCH:  151\n"
     ]
    },
    {
     "data": {
      "image/png": "[encoded data removed]",
      "text/plain": [
       "<PIL.Image.Image image mode=RGB size=60x60 at 0x7FA4EDA78670>"
      ]
     },
     "metadata": {},
     "output_type": "display_data"
    },
    {
     "name": "stdout",
     "output_type": "stream",
     "text": [
      "Learning rate:  0.00015\n",
      "Loss = tensor(1.4886, device='cuda:0', grad_fn=<NllLoss2DBackward>)\n",
      "Loss = tensor(1.4901, device='cuda:0', grad_fn=<NllLoss2DBackward>)\n",
      "Loss = tensor(1.4682, device='cuda:0', grad_fn=<NllLoss2DBackward>)\n",
      "Loss = tensor(1.4694, device='cuda:0', grad_fn=<NllLoss2DBackward>)\n",
      "Loss = tensor(1.4929, device='cuda:0', grad_fn=<NllLoss2DBackward>)\n",
      "EPOCH:  151\n"
     ]
    },
    {
     "data": {
      "image/png": "[encoded data removed]",
      "text/plain": [
       "<PIL.Image.Image image mode=RGB size=60x60 at 0x7FA4EDA78370>"
      ]
     },
     "metadata": {},
     "output_type": "display_data"
    },
    {
     "name": "stdout",
     "output_type": "stream",
     "text": [
      "Learning rate:  0.00015\n",
      "Loss = tensor(1.4992, device='cuda:0', grad_fn=<NllLoss2DBackward>)\n",
      "Loss = tensor(1.4712, device='cuda:0', grad_fn=<NllLoss2DBackward>)\n",
      "EPOCH:  152\n"
     ]
    },
    {
     "data": {
      "image/png": "[encoded data removed]",
      "text/plain": [
       "<PIL.Image.Image image mode=RGB size=60x60 at 0x7FA4EDA788E0>"
      ]
     },
     "metadata": {},
     "output_type": "display_data"
    },
    {
     "name": "stdout",
     "output_type": "stream",
     "text": [
      "Learning rate:  0.00015\n",
      "Loss = tensor(1.4939, device='cuda:0', grad_fn=<NllLoss2DBackward>)\n",
      "Loss = tensor(1.4803, device='cuda:0', grad_fn=<NllLoss2DBackward>)\n",
      "Loss = tensor(1.4890, device='cuda:0', grad_fn=<NllLoss2DBackward>)\n",
      "Loss = tensor(1.4733, device='cuda:0', grad_fn=<NllLoss2DBackward>)\n",
      "Loss = tensor(1.4935, device='cuda:0', grad_fn=<NllLoss2DBackward>)\n",
      "EPOCH:  152\n"
     ]
    },
    {
     "data": {
      "image/png": "[encoded data removed]",
      "text/plain": [
       "<PIL.Image.Image image mode=RGB size=60x60 at 0x7FA4EDA78580>"
      ]
     },
     "metadata": {},
     "output_type": "display_data"
    },
    {
     "name": "stdout",
     "output_type": "stream",
     "text": [
      "Learning rate:  0.00015\n",
      "Loss = tensor(1.4968, device='cuda:0', grad_fn=<NllLoss2DBackward>)\n",
      "Loss = tensor(1.4840, device='cuda:0', grad_fn=<NllLoss2DBackward>)\n",
      "Loss = tensor(1.4970, device='cuda:0', grad_fn=<NllLoss2DBackward>)\n",
      "Loss = tensor(1.4926, device='cuda:0', grad_fn=<NllLoss2DBackward>)\n",
      "Loss = tensor(1.4899, device='cuda:0', grad_fn=<NllLoss2DBackward>)\n",
      "EPOCH:  152\n"
     ]
    },
    {
     "data": {
      "image/png": "[encoded data removed]",
      "text/plain": [
       "<PIL.Image.Image image mode=RGB size=60x60 at 0x7FA4EDA78310>"
      ]
     },
     "metadata": {},
     "output_type": "display_data"
    },
    {
     "name": "stdout",
     "output_type": "stream",
     "text": [
      "Learning rate:  0.00015\n",
      "Loss = tensor(1.4837, device='cuda:0', grad_fn=<NllLoss2DBackward>)\n",
      "Loss = tensor(1.5014, device='cuda:0', grad_fn=<NllLoss2DBackward>)\n",
      "EPOCH:  153\n"
     ]
    },
    {
     "data": {
      "image/png": "[encoded data removed]",
      "text/plain": [
       "<PIL.Image.Image image mode=RGB size=60x60 at 0x7FA4EDA786A0>"
      ]
     },
     "metadata": {},
     "output_type": "display_data"
    },
    {
     "name": "stdout",
     "output_type": "stream",
     "text": [
      "Learning rate:  0.00015\n",
      "Loss = tensor(1.4859, device='cuda:0', grad_fn=<NllLoss2DBackward>)\n",
      "Loss = tensor(1.4741, device='cuda:0', grad_fn=<NllLoss2DBackward>)\n",
      "Loss = tensor(1.4811, device='cuda:0', grad_fn=<NllLoss2DBackward>)\n",
      "Loss = tensor(1.4827, device='cuda:0', grad_fn=<NllLoss2DBackward>)\n",
      "Loss = tensor(1.4767, device='cuda:0', grad_fn=<NllLoss2DBackward>)\n",
      "EPOCH:  153\n"
     ]
    },
    {
     "data": {
      "image/png": "[encoded data removed]",
      "text/plain": [
       "<PIL.Image.Image image mode=RGB size=60x60 at 0x7FA4EDA784C0>"
      ]
     },
     "metadata": {},
     "output_type": "display_data"
    },
    {
     "name": "stdout",
     "output_type": "stream",
     "text": [
      "Learning rate:  0.00015\n",
      "Loss = tensor(1.4984, device='cuda:0', grad_fn=<NllLoss2DBackward>)\n",
      "Loss = tensor(1.5018, device='cuda:0', grad_fn=<NllLoss2DBackward>)\n",
      "Loss = tensor(1.4847, device='cuda:0', grad_fn=<NllLoss2DBackward>)\n",
      "Loss = tensor(1.4841, device='cuda:0', grad_fn=<NllLoss2DBackward>)\n",
      "Loss = tensor(1.4866, device='cuda:0', grad_fn=<NllLoss2DBackward>)\n",
      "EPOCH:  153\n"
     ]
    },
    {
     "data": {
      "image/png": "[encoded data removed]",
      "text/plain": [
       "<PIL.Image.Image image mode=RGB size=60x60 at 0x7FA4EDA78610>"
      ]
     },
     "metadata": {},
     "output_type": "display_data"
    },
    {
     "name": "stdout",
     "output_type": "stream",
     "text": [
      "Learning rate:  0.00015\n",
      "Loss = tensor(1.4907, device='cuda:0', grad_fn=<NllLoss2DBackward>)\n",
      "Loss = tensor(1.4769, device='cuda:0', grad_fn=<NllLoss2DBackward>)\n",
      "EPOCH:  154\n"
     ]
    },
    {
     "data": {
      "image/png": "[encoded data removed]",
      "text/plain": [
       "<PIL.Image.Image image mode=RGB size=60x60 at 0x7FA4EDA787C0>"
      ]
     },
     "metadata": {},
     "output_type": "display_data"
    },
    {
     "name": "stdout",
     "output_type": "stream",
     "text": [
      "Learning rate:  0.00015\n",
      "Loss = tensor(1.4716, device='cuda:0', grad_fn=<NllLoss2DBackward>)\n",
      "Loss = tensor(1.5012, device='cuda:0', grad_fn=<NllLoss2DBackward>)\n",
      "Loss = tensor(1.4913, device='cuda:0', grad_fn=<NllLoss2DBackward>)\n",
      "Loss = tensor(1.4787, device='cuda:0', grad_fn=<NllLoss2DBackward>)\n",
      "Loss = tensor(1.4879, device='cuda:0', grad_fn=<NllLoss2DBackward>)\n",
      "EPOCH:  154\n"
     ]
    },
    {
     "data": {
      "image/png": "[encoded data removed]",
      "text/plain": [
       "<PIL.Image.Image image mode=RGB size=60x60 at 0x7FA4EDA78310>"
      ]
     },
     "metadata": {},
     "output_type": "display_data"
    },
    {
     "name": "stdout",
     "output_type": "stream",
     "text": [
      "Learning rate:  0.00015\n",
      "Loss = tensor(1.4735, device='cuda:0', grad_fn=<NllLoss2DBackward>)\n",
      "Loss = tensor(1.4968, device='cuda:0', grad_fn=<NllLoss2DBackward>)\n",
      "Loss = tensor(1.4875, device='cuda:0', grad_fn=<NllLoss2DBackward>)\n",
      "Loss = tensor(1.5042, device='cuda:0', grad_fn=<NllLoss2DBackward>)\n",
      "Loss = tensor(1.4844, device='cuda:0', grad_fn=<NllLoss2DBackward>)\n",
      "EPOCH:  154\n"
     ]
    },
    {
     "data": {
      "image/png": "[encoded data removed]",
      "text/plain": [
       "<PIL.Image.Image image mode=RGB size=60x60 at 0x7FA4EDA78550>"
      ]
     },
     "metadata": {},
     "output_type": "display_data"
    },
    {
     "name": "stdout",
     "output_type": "stream",
     "text": [
      "Learning rate:  0.00015\n",
      "Loss = tensor(1.4894, device='cuda:0', grad_fn=<NllLoss2DBackward>)\n",
      "Loss = tensor(1.4941, device='cuda:0', grad_fn=<NllLoss2DBackward>)\n",
      "EPOCH:  155\n"
     ]
    },
    {
     "data": {
      "image/png": "[encoded data removed]",
      "text/plain": [
       "<PIL.Image.Image image mode=RGB size=60x60 at 0x7FA4EDA78610>"
      ]
     },
     "metadata": {},
     "output_type": "display_data"
    },
    {
     "name": "stdout",
     "output_type": "stream",
     "text": [
      "Learning rate:  0.00015\n",
      "Loss = tensor(1.4850, device='cuda:0', grad_fn=<NllLoss2DBackward>)\n",
      "Loss = tensor(1.4954, device='cuda:0', grad_fn=<NllLoss2DBackward>)\n",
      "Loss = tensor(1.4796, device='cuda:0', grad_fn=<NllLoss2DBackward>)\n",
      "Loss = tensor(1.4804, device='cuda:0', grad_fn=<NllLoss2DBackward>)\n",
      "Loss = tensor(1.4900, device='cuda:0', grad_fn=<NllLoss2DBackward>)\n",
      "EPOCH:  155\n"
     ]
    },
    {
     "data": {
      "image/png": "[encoded data removed]",
      "text/plain": [
       "<PIL.Image.Image image mode=RGB size=60x60 at 0x7FA4EDA78580>"
      ]
     },
     "metadata": {},
     "output_type": "display_data"
    },
    {
     "name": "stdout",
     "output_type": "stream",
     "text": [
      "Learning rate:  0.00015\n",
      "Loss = tensor(1.4738, device='cuda:0', grad_fn=<NllLoss2DBackward>)\n",
      "Loss = tensor(1.4912, device='cuda:0', grad_fn=<NllLoss2DBackward>)\n",
      "Loss = tensor(1.4977, device='cuda:0', grad_fn=<NllLoss2DBackward>)\n",
      "Loss = tensor(1.4866, device='cuda:0', grad_fn=<NllLoss2DBackward>)\n",
      "Loss = tensor(1.4738, device='cuda:0', grad_fn=<NllLoss2DBackward>)\n",
      "EPOCH:  155\n"
     ]
    },
    {
     "data": {
      "image/png": "[encoded data removed]",
      "text/plain": [
       "<PIL.Image.Image image mode=RGB size=60x60 at 0x7FA4EDA78640>"
      ]
     },
     "metadata": {},
     "output_type": "display_data"
    },
    {
     "name": "stdout",
     "output_type": "stream",
     "text": [
      "Learning rate:  0.00015\n",
      "Loss = tensor(1.4892, device='cuda:0', grad_fn=<NllLoss2DBackward>)\n",
      "Loss = tensor(1.4828, device='cuda:0', grad_fn=<NllLoss2DBackward>)\n",
      "EPOCH:  156\n"
     ]
    },
    {
     "data": {
      "image/png": "[encoded data removed]",
      "text/plain": [
       "<PIL.Image.Image image mode=RGB size=60x60 at 0x7FA4EDA78310>"
      ]
     },
     "metadata": {},
     "output_type": "display_data"
    },
    {
     "name": "stdout",
     "output_type": "stream",
     "text": [
      "Learning rate:  0.00015\n",
      "Loss = tensor(1.4849, device='cuda:0', grad_fn=<NllLoss2DBackward>)\n",
      "Loss = tensor(1.4955, device='cuda:0', grad_fn=<NllLoss2DBackward>)\n",
      "Loss = tensor(1.4976, device='cuda:0', grad_fn=<NllLoss2DBackward>)\n",
      "Loss = tensor(1.4803, device='cuda:0', grad_fn=<NllLoss2DBackward>)\n",
      "Loss = tensor(1.4858, device='cuda:0', grad_fn=<NllLoss2DBackward>)\n",
      "EPOCH:  156\n"
     ]
    },
    {
     "data": {
      "image/png": "[encoded data removed]",
      "text/plain": [
       "<PIL.Image.Image image mode=RGB size=60x60 at 0x7FA4EDA78850>"
      ]
     },
     "metadata": {},
     "output_type": "display_data"
    },
    {
     "name": "stdout",
     "output_type": "stream",
     "text": [
      "Learning rate:  0.00015\n",
      "Loss = tensor(1.4830, device='cuda:0', grad_fn=<NllLoss2DBackward>)\n",
      "Loss = tensor(1.4795, device='cuda:0', grad_fn=<NllLoss2DBackward>)\n",
      "Loss = tensor(1.4891, device='cuda:0', grad_fn=<NllLoss2DBackward>)\n",
      "Loss = tensor(1.4869, device='cuda:0', grad_fn=<NllLoss2DBackward>)\n",
      "Loss = tensor(1.4745, device='cuda:0', grad_fn=<NllLoss2DBackward>)\n",
      "EPOCH:  156\n"
     ]
    },
    {
     "data": {
      "image/png": "[encoded data removed]",
      "text/plain": [
       "<PIL.Image.Image image mode=RGB size=60x60 at 0x7FA4EDA78550>"
      ]
     },
     "metadata": {},
     "output_type": "display_data"
    },
    {
     "name": "stdout",
     "output_type": "stream",
     "text": [
      "Learning rate:  0.00015\n",
      "Loss = tensor(1.4977, device='cuda:0', grad_fn=<NllLoss2DBackward>)\n",
      "Loss = tensor(1.4821, device='cuda:0', grad_fn=<NllLoss2DBackward>)\n",
      "EPOCH:  157\n"
     ]
    },
    {
     "data": {
      "image/png": "[encoded data removed]",
      "text/plain": [
       "<PIL.Image.Image image mode=RGB size=60x60 at 0x7FA4EDA78610>"
      ]
     },
     "metadata": {},
     "output_type": "display_data"
    },
    {
     "name": "stdout",
     "output_type": "stream",
     "text": [
      "Learning rate:  0.00015\n",
      "Loss = tensor(1.4840, device='cuda:0', grad_fn=<NllLoss2DBackward>)\n",
      "Loss = tensor(1.4963, device='cuda:0', grad_fn=<NllLoss2DBackward>)\n",
      "Loss = tensor(1.4935, device='cuda:0', grad_fn=<NllLoss2DBackward>)\n",
      "Loss = tensor(1.5065, device='cuda:0', grad_fn=<NllLoss2DBackward>)\n",
      "Loss = tensor(1.4729, device='cuda:0', grad_fn=<NllLoss2DBackward>)\n",
      "EPOCH:  157\n"
     ]
    },
    {
     "data": {
      "image/png": "[encoded data removed]",
      "text/plain": [
       "<PIL.Image.Image image mode=RGB size=60x60 at 0x7FA4EDA78850>"
      ]
     },
     "metadata": {},
     "output_type": "display_data"
    },
    {
     "name": "stdout",
     "output_type": "stream",
     "text": [
      "Learning rate:  0.00015\n",
      "Loss = tensor(1.4802, device='cuda:0', grad_fn=<NllLoss2DBackward>)\n",
      "Loss = tensor(1.4846, device='cuda:0', grad_fn=<NllLoss2DBackward>)\n",
      "Loss = tensor(1.4740, device='cuda:0', grad_fn=<NllLoss2DBackward>)\n",
      "Loss = tensor(1.4843, device='cuda:0', grad_fn=<NllLoss2DBackward>)\n",
      "Loss = tensor(1.4750, device='cuda:0', grad_fn=<NllLoss2DBackward>)\n",
      "EPOCH:  157\n"
     ]
    },
    {
     "data": {
      "image/png": "[encoded data removed]",
      "text/plain": [
       "<PIL.Image.Image image mode=RGB size=60x60 at 0x7FA4EDA787C0>"
      ]
     },
     "metadata": {},
     "output_type": "display_data"
    },
    {
     "name": "stdout",
     "output_type": "stream",
     "text": [
      "Learning rate:  0.00015\n",
      "Loss = tensor(1.5056, device='cuda:0', grad_fn=<NllLoss2DBackward>)\n",
      "Loss = tensor(1.4966, device='cuda:0', grad_fn=<NllLoss2DBackward>)\n",
      "EPOCH:  158\n"
     ]
    },
    {
     "data": {
      "image/png": "[encoded data removed]",
      "text/plain": [
       "<PIL.Image.Image image mode=RGB size=60x60 at 0x7FA4EDA784C0>"
      ]
     },
     "metadata": {},
     "output_type": "display_data"
    },
    {
     "name": "stdout",
     "output_type": "stream",
     "text": [
      "Learning rate:  0.00015\n",
      "Loss = tensor(1.4818, device='cuda:0', grad_fn=<NllLoss2DBackward>)\n",
      "Loss = tensor(1.4872, device='cuda:0', grad_fn=<NllLoss2DBackward>)\n",
      "Loss = tensor(1.4860, device='cuda:0', grad_fn=<NllLoss2DBackward>)\n",
      "Loss = tensor(1.4825, device='cuda:0', grad_fn=<NllLoss2DBackward>)\n",
      "Loss = tensor(1.4768, device='cuda:0', grad_fn=<NllLoss2DBackward>)\n",
      "EPOCH:  158\n"
     ]
    },
    {
     "data": {
      "image/png": "[encoded data removed]",
      "text/plain": [
       "<PIL.Image.Image image mode=RGB size=60x60 at 0x7FA4EDA788E0>"
      ]
     },
     "metadata": {},
     "output_type": "display_data"
    },
    {
     "name": "stdout",
     "output_type": "stream",
     "text": [
      "Learning rate:  0.00015\n",
      "Loss = tensor(1.4944, device='cuda:0', grad_fn=<NllLoss2DBackward>)\n",
      "Loss = tensor(1.4956, device='cuda:0', grad_fn=<NllLoss2DBackward>)\n",
      "Loss = tensor(1.4845, device='cuda:0', grad_fn=<NllLoss2DBackward>)\n",
      "Loss = tensor(1.4923, device='cuda:0', grad_fn=<NllLoss2DBackward>)\n",
      "Loss = tensor(1.4754, device='cuda:0', grad_fn=<NllLoss2DBackward>)\n",
      "EPOCH:  158\n"
     ]
    },
    {
     "data": {
      "image/png": "[encoded data removed]",
      "text/plain": [
       "<PIL.Image.Image image mode=RGB size=60x60 at 0x7FA4EDA78550>"
      ]
     },
     "metadata": {},
     "output_type": "display_data"
    },
    {
     "name": "stdout",
     "output_type": "stream",
     "text": [
      "Learning rate:  0.00015\n",
      "Loss = tensor(1.4964, device='cuda:0', grad_fn=<NllLoss2DBackward>)\n",
      "Loss = tensor(1.4912, device='cuda:0', grad_fn=<NllLoss2DBackward>)\n",
      "EPOCH:  159\n"
     ]
    },
    {
     "data": {
      "image/png": "[encoded data removed]",
      "text/plain": [
       "<PIL.Image.Image image mode=RGB size=60x60 at 0x7FA4EDA785B0>"
      ]
     },
     "metadata": {},
     "output_type": "display_data"
    },
    {
     "name": "stdout",
     "output_type": "stream",
     "text": [
      "Learning rate:  0.00015\n",
      "Loss = tensor(1.4705, device='cuda:0', grad_fn=<NllLoss2DBackward>)\n",
      "Loss = tensor(1.4962, device='cuda:0', grad_fn=<NllLoss2DBackward>)\n",
      "Loss = tensor(1.5001, device='cuda:0', grad_fn=<NllLoss2DBackward>)\n",
      "Loss = tensor(1.4796, device='cuda:0', grad_fn=<NllLoss2DBackward>)\n",
      "Loss = tensor(1.4891, device='cuda:0', grad_fn=<NllLoss2DBackward>)\n",
      "EPOCH:  159\n"
     ]
    },
    {
     "data": {
      "image/png": "[encoded data removed]",
      "text/plain": [
       "<PIL.Image.Image image mode=RGB size=60x60 at 0x7FA4EDA787C0>"
      ]
     },
     "metadata": {},
     "output_type": "display_data"
    },
    {
     "name": "stdout",
     "output_type": "stream",
     "text": [
      "Learning rate:  0.00015\n",
      "Loss = tensor(1.4848, device='cuda:0', grad_fn=<NllLoss2DBackward>)\n",
      "Loss = tensor(1.4846, device='cuda:0', grad_fn=<NllLoss2DBackward>)\n",
      "Loss = tensor(1.4898, device='cuda:0', grad_fn=<NllLoss2DBackward>)\n",
      "Loss = tensor(1.4927, device='cuda:0', grad_fn=<NllLoss2DBackward>)\n",
      "Loss = tensor(1.4838, device='cuda:0', grad_fn=<NllLoss2DBackward>)\n",
      "EPOCH:  159\n"
     ]
    },
    {
     "data": {
      "image/png": "[encoded data removed]",
      "text/plain": [
       "<PIL.Image.Image image mode=RGB size=60x60 at 0x7FA4EDA78310>"
      ]
     },
     "metadata": {},
     "output_type": "display_data"
    },
    {
     "name": "stdout",
     "output_type": "stream",
     "text": [
      "Learning rate:  0.00015\n",
      "Loss = tensor(1.4833, device='cuda:0', grad_fn=<NllLoss2DBackward>)\n",
      "Loss = tensor(1.4820, device='cuda:0', grad_fn=<NllLoss2DBackward>)\n",
      "EPOCH:  160\n"
     ]
    },
    {
     "data": {
      "image/png": "[encoded data removed]",
      "text/plain": [
       "<PIL.Image.Image image mode=RGB size=60x60 at 0x7FA4EDA78670>"
      ]
     },
     "metadata": {},
     "output_type": "display_data"
    },
    {
     "name": "stdout",
     "output_type": "stream",
     "text": [
      "Learning rate:  0.00015\n",
      "Loss = tensor(1.4881, device='cuda:0', grad_fn=<NllLoss2DBackward>)\n",
      "Loss = tensor(1.4919, device='cuda:0', grad_fn=<NllLoss2DBackward>)\n",
      "Loss = tensor(1.4892, device='cuda:0', grad_fn=<NllLoss2DBackward>)\n",
      "Loss = tensor(1.4710, device='cuda:0', grad_fn=<NllLoss2DBackward>)\n",
      "Loss = tensor(1.4921, device='cuda:0', grad_fn=<NllLoss2DBackward>)\n",
      "EPOCH:  160\n"
     ]
    },
    {
     "data": {
      "image/png": "[encoded data removed]",
      "text/plain": [
       "<PIL.Image.Image image mode=RGB size=60x60 at 0x7FA4EDA78310>"
      ]
     },
     "metadata": {},
     "output_type": "display_data"
    },
    {
     "name": "stdout",
     "output_type": "stream",
     "text": [
      "Learning rate:  0.00015\n",
      "Loss = tensor(1.5002, device='cuda:0', grad_fn=<NllLoss2DBackward>)\n",
      "Loss = tensor(1.4819, device='cuda:0', grad_fn=<NllLoss2DBackward>)\n",
      "Loss = tensor(1.4868, device='cuda:0', grad_fn=<NllLoss2DBackward>)\n",
      "Loss = tensor(1.4860, device='cuda:0', grad_fn=<NllLoss2DBackward>)\n",
      "Loss = tensor(1.4793, device='cuda:0', grad_fn=<NllLoss2DBackward>)\n",
      "EPOCH:  160\n"
     ]
    },
    {
     "data": {
      "image/png": "[encoded data removed]",
      "text/plain": [
       "<PIL.Image.Image image mode=RGB size=60x60 at 0x7FA4EDA78550>"
      ]
     },
     "metadata": {},
     "output_type": "display_data"
    },
    {
     "name": "stdout",
     "output_type": "stream",
     "text": [
      "Learning rate:  0.00015\n",
      "Loss = tensor(1.4966, device='cuda:0', grad_fn=<NllLoss2DBackward>)\n",
      "Loss = tensor(1.4913, device='cuda:0', grad_fn=<NllLoss2DBackward>)\n",
      "EPOCH:  161\n"
     ]
    },
    {
     "data": {
      "image/png": "[encoded data removed]",
      "text/plain": [
       "<PIL.Image.Image image mode=RGB size=60x60 at 0x7FA4EDA78340>"
      ]
     },
     "metadata": {},
     "output_type": "display_data"
    },
    {
     "name": "stdout",
     "output_type": "stream",
     "text": [
      "Learning rate:  0.00015\n",
      "Loss = tensor(1.4815, device='cuda:0', grad_fn=<NllLoss2DBackward>)\n",
      "Loss = tensor(1.4744, device='cuda:0', grad_fn=<NllLoss2DBackward>)\n",
      "Loss = tensor(1.5025, device='cuda:0', grad_fn=<NllLoss2DBackward>)\n",
      "Loss = tensor(1.4931, device='cuda:0', grad_fn=<NllLoss2DBackward>)\n",
      "Loss = tensor(1.4888, device='cuda:0', grad_fn=<NllLoss2DBackward>)\n",
      "EPOCH:  161\n"
     ]
    },
    {
     "data": {
      "image/png": "[encoded data removed]",
      "text/plain": [
       "<PIL.Image.Image image mode=RGB size=60x60 at 0x7FA4EDA78670>"
      ]
     },
     "metadata": {},
     "output_type": "display_data"
    },
    {
     "name": "stdout",
     "output_type": "stream",
     "text": [
      "Learning rate:  0.00015\n",
      "Loss = tensor(1.4869, device='cuda:0', grad_fn=<NllLoss2DBackward>)\n",
      "Loss = tensor(1.4924, device='cuda:0', grad_fn=<NllLoss2DBackward>)\n",
      "Loss = tensor(1.4780, device='cuda:0', grad_fn=<NllLoss2DBackward>)\n",
      "Loss = tensor(1.4743, device='cuda:0', grad_fn=<NllLoss2DBackward>)\n",
      "Loss = tensor(1.4732, device='cuda:0', grad_fn=<NllLoss2DBackward>)\n",
      "EPOCH:  161\n"
     ]
    },
    {
     "data": {
      "image/png": "[encoded data removed]",
      "text/plain": [
       "<PIL.Image.Image image mode=RGB size=60x60 at 0x7FA4EDA78850>"
      ]
     },
     "metadata": {},
     "output_type": "display_data"
    },
    {
     "name": "stdout",
     "output_type": "stream",
     "text": [
      "Learning rate:  0.00015\n",
      "Loss = tensor(1.4987, device='cuda:0', grad_fn=<NllLoss2DBackward>)\n",
      "Loss = tensor(1.4835, device='cuda:0', grad_fn=<NllLoss2DBackward>)\n",
      "EPOCH:  162\n"
     ]
    },
    {
     "data": {
      "image/png": "[encoded data removed]",
      "text/plain": [
       "<PIL.Image.Image image mode=RGB size=60x60 at 0x7FA4EDA784C0>"
      ]
     },
     "metadata": {},
     "output_type": "display_data"
    },
    {
     "name": "stdout",
     "output_type": "stream",
     "text": [
      "Learning rate:  0.00015\n",
      "Loss = tensor(1.4824, device='cuda:0', grad_fn=<NllLoss2DBackward>)\n",
      "Loss = tensor(1.5009, device='cuda:0', grad_fn=<NllLoss2DBackward>)\n",
      "Loss = tensor(1.4873, device='cuda:0', grad_fn=<NllLoss2DBackward>)\n",
      "Loss = tensor(1.4910, device='cuda:0', grad_fn=<NllLoss2DBackward>)\n",
      "Loss = tensor(1.4857, device='cuda:0', grad_fn=<NllLoss2DBackward>)\n",
      "EPOCH:  162\n"
     ]
    },
    {
     "data": {
      "image/png": "[encoded data removed]",
      "text/plain": [
       "<PIL.Image.Image image mode=RGB size=60x60 at 0x7FA4EDA787C0>"
      ]
     },
     "metadata": {},
     "output_type": "display_data"
    },
    {
     "name": "stdout",
     "output_type": "stream",
     "text": [
      "Learning rate:  0.00015\n",
      "Loss = tensor(1.4919, device='cuda:0', grad_fn=<NllLoss2DBackward>)\n",
      "Loss = tensor(1.4821, device='cuda:0', grad_fn=<NllLoss2DBackward>)\n",
      "Loss = tensor(1.4806, device='cuda:0', grad_fn=<NllLoss2DBackward>)\n",
      "Loss = tensor(1.4726, device='cuda:0', grad_fn=<NllLoss2DBackward>)\n",
      "Loss = tensor(1.5073, device='cuda:0', grad_fn=<NllLoss2DBackward>)\n",
      "EPOCH:  162\n"
     ]
    },
    {
     "data": {
      "image/png": "[encoded data removed]",
      "text/plain": [
       "<PIL.Image.Image image mode=RGB size=60x60 at 0x7FA4EDA78340>"
      ]
     },
     "metadata": {},
     "output_type": "display_data"
    },
    {
     "name": "stdout",
     "output_type": "stream",
     "text": [
      "Learning rate:  0.00015\n",
      "Loss = tensor(1.4796, device='cuda:0', grad_fn=<NllLoss2DBackward>)\n",
      "Loss = tensor(1.4947, device='cuda:0', grad_fn=<NllLoss2DBackward>)\n",
      "EPOCH:  163\n"
     ]
    },
    {
     "data": {
      "image/png": "[encoded data removed]",
      "text/plain": [
       "<PIL.Image.Image image mode=RGB size=60x60 at 0x7FA4EDA785E0>"
      ]
     },
     "metadata": {},
     "output_type": "display_data"
    },
    {
     "name": "stdout",
     "output_type": "stream",
     "text": [
      "Learning rate:  0.00015\n",
      "Loss = tensor(1.4740, device='cuda:0', grad_fn=<NllLoss2DBackward>)\n",
      "Loss = tensor(1.4866, device='cuda:0', grad_fn=<NllLoss2DBackward>)\n",
      "Loss = tensor(1.4715, device='cuda:0', grad_fn=<NllLoss2DBackward>)\n",
      "Loss = tensor(1.4885, device='cuda:0', grad_fn=<NllLoss2DBackward>)\n",
      "Loss = tensor(1.5126, device='cuda:0', grad_fn=<NllLoss2DBackward>)\n",
      "EPOCH:  163\n"
     ]
    },
    {
     "data": {
      "image/png": "[encoded data removed]",
      "text/plain": [
       "<PIL.Image.Image image mode=RGB size=60x60 at 0x7FA4EDA78370>"
      ]
     },
     "metadata": {},
     "output_type": "display_data"
    },
    {
     "name": "stdout",
     "output_type": "stream",
     "text": [
      "Learning rate:  0.00015\n",
      "Loss = tensor(1.4737, device='cuda:0', grad_fn=<NllLoss2DBackward>)\n",
      "Loss = tensor(1.4920, device='cuda:0', grad_fn=<NllLoss2DBackward>)\n",
      "Loss = tensor(1.4758, device='cuda:0', grad_fn=<NllLoss2DBackward>)\n",
      "Loss = tensor(1.4910, device='cuda:0', grad_fn=<NllLoss2DBackward>)\n",
      "Loss = tensor(1.4940, device='cuda:0', grad_fn=<NllLoss2DBackward>)\n",
      "EPOCH:  163\n"
     ]
    },
    {
     "data": {
      "image/png": "[encoded data removed]",
      "text/plain": [
       "<PIL.Image.Image image mode=RGB size=60x60 at 0x7FA4EDA78940>"
      ]
     },
     "metadata": {},
     "output_type": "display_data"
    },
    {
     "name": "stdout",
     "output_type": "stream",
     "text": [
      "Learning rate:  0.00015\n",
      "Loss = tensor(1.4848, device='cuda:0', grad_fn=<NllLoss2DBackward>)\n",
      "Loss = tensor(1.4863, device='cuda:0', grad_fn=<NllLoss2DBackward>)\n",
      "EPOCH:  164\n"
     ]
    },
    {
     "data": {
      "image/png": "[encoded data removed]",
      "text/plain": [
       "<PIL.Image.Image image mode=RGB size=60x60 at 0x7FA4EDA78640>"
      ]
     },
     "metadata": {},
     "output_type": "display_data"
    },
    {
     "name": "stdout",
     "output_type": "stream",
     "text": [
      "Learning rate:  0.00015\n",
      "Loss = tensor(1.4793, device='cuda:0', grad_fn=<NllLoss2DBackward>)\n",
      "Loss = tensor(1.4739, device='cuda:0', grad_fn=<NllLoss2DBackward>)\n",
      "Loss = tensor(1.4994, device='cuda:0', grad_fn=<NllLoss2DBackward>)\n",
      "Loss = tensor(1.4714, device='cuda:0', grad_fn=<NllLoss2DBackward>)\n",
      "Loss = tensor(1.4818, device='cuda:0', grad_fn=<NllLoss2DBackward>)\n",
      "EPOCH:  164\n"
     ]
    },
    {
     "data": {
      "image/png": "[encoded data removed]",
      "text/plain": [
       "<PIL.Image.Image image mode=RGB size=60x60 at 0x7FA4EDA78550>"
      ]
     },
     "metadata": {},
     "output_type": "display_data"
    },
    {
     "name": "stdout",
     "output_type": "stream",
     "text": [
      "Learning rate:  0.00015\n",
      "Loss = tensor(1.4937, device='cuda:0', grad_fn=<NllLoss2DBackward>)\n",
      "Loss = tensor(1.4908, device='cuda:0', grad_fn=<NllLoss2DBackward>)\n",
      "Loss = tensor(1.4988, device='cuda:0', grad_fn=<NllLoss2DBackward>)\n",
      "Loss = tensor(1.4878, device='cuda:0', grad_fn=<NllLoss2DBackward>)\n",
      "Loss = tensor(1.4902, device='cuda:0', grad_fn=<NllLoss2DBackward>)\n",
      "EPOCH:  164\n"
     ]
    },
    {
     "data": {
      "image/png": "[encoded data removed]",
      "text/plain": [
       "<PIL.Image.Image image mode=RGB size=60x60 at 0x7FA4EDA78370>"
      ]
     },
     "metadata": {},
     "output_type": "display_data"
    },
    {
     "name": "stdout",
     "output_type": "stream",
     "text": [
      "Learning rate:  0.00015\n",
      "Loss = tensor(1.4942, device='cuda:0', grad_fn=<NllLoss2DBackward>)\n",
      "Loss = tensor(1.4713, device='cuda:0', grad_fn=<NllLoss2DBackward>)\n",
      "EPOCH:  165\n"
     ]
    },
    {
     "data": {
      "image/png": "[encoded data removed]",
      "text/plain": [
       "<PIL.Image.Image image mode=RGB size=60x60 at 0x7FA4EDA783D0>"
      ]
     },
     "metadata": {},
     "output_type": "display_data"
    },
    {
     "name": "stdout",
     "output_type": "stream",
     "text": [
      "Learning rate:  0.00015\n",
      "Loss = tensor(1.4949, device='cuda:0', grad_fn=<NllLoss2DBackward>)\n",
      "Loss = tensor(1.4868, device='cuda:0', grad_fn=<NllLoss2DBackward>)\n",
      "Loss = tensor(1.4892, device='cuda:0', grad_fn=<NllLoss2DBackward>)\n",
      "Loss = tensor(1.4866, device='cuda:0', grad_fn=<NllLoss2DBackward>)\n",
      "Loss = tensor(1.4764, device='cuda:0', grad_fn=<NllLoss2DBackward>)\n",
      "EPOCH:  165\n"
     ]
    },
    {
     "data": {
      "image/png": "[encoded data removed]",
      "text/plain": [
       "<PIL.Image.Image image mode=RGB size=60x60 at 0x7FA4EDA78640>"
      ]
     },
     "metadata": {},
     "output_type": "display_data"
    },
    {
     "name": "stdout",
     "output_type": "stream",
     "text": [
      "Learning rate:  0.00015\n",
      "Loss = tensor(1.4767, device='cuda:0', grad_fn=<NllLoss2DBackward>)\n",
      "Loss = tensor(1.4888, device='cuda:0', grad_fn=<NllLoss2DBackward>)\n",
      "Loss = tensor(1.4931, device='cuda:0', grad_fn=<NllLoss2DBackward>)\n",
      "Loss = tensor(1.4872, device='cuda:0', grad_fn=<NllLoss2DBackward>)\n",
      "Loss = tensor(1.4908, device='cuda:0', grad_fn=<NllLoss2DBackward>)\n",
      "EPOCH:  165\n"
     ]
    },
    {
     "data": {
      "image/png": "[encoded data removed]",
      "text/plain": [
       "<PIL.Image.Image image mode=RGB size=60x60 at 0x7FA4EDA78850>"
      ]
     },
     "metadata": {},
     "output_type": "display_data"
    },
    {
     "name": "stdout",
     "output_type": "stream",
     "text": [
      "Learning rate:  0.00015\n",
      "Loss = tensor(1.5036, device='cuda:0', grad_fn=<NllLoss2DBackward>)\n",
      "Loss = tensor(1.4759, device='cuda:0', grad_fn=<NllLoss2DBackward>)\n",
      "EPOCH:  166\n"
     ]
    },
    {
     "data": {
      "image/png": "[encoded data removed]",
      "text/plain": [
       "<PIL.Image.Image image mode=RGB size=60x60 at 0x7FA4EDA78910>"
      ]
     },
     "metadata": {},
     "output_type": "display_data"
    },
    {
     "name": "stdout",
     "output_type": "stream",
     "text": [
      "Learning rate:  0.00015\n",
      "Loss = tensor(1.4929, device='cuda:0', grad_fn=<NllLoss2DBackward>)\n",
      "Loss = tensor(1.4858, device='cuda:0', grad_fn=<NllLoss2DBackward>)\n",
      "Loss = tensor(1.4818, device='cuda:0', grad_fn=<NllLoss2DBackward>)\n",
      "Loss = tensor(1.4857, device='cuda:0', grad_fn=<NllLoss2DBackward>)\n",
      "Loss = tensor(1.4909, device='cuda:0', grad_fn=<NllLoss2DBackward>)\n",
      "EPOCH:  166\n"
     ]
    },
    {
     "data": {
      "image/png": "[encoded data removed]",
      "text/plain": [
       "<PIL.Image.Image image mode=RGB size=60x60 at 0x7FA4EDA78850>"
      ]
     },
     "metadata": {},
     "output_type": "display_data"
    },
    {
     "name": "stdout",
     "output_type": "stream",
     "text": [
      "Learning rate:  0.00015\n",
      "Loss = tensor(1.4799, device='cuda:0', grad_fn=<NllLoss2DBackward>)\n",
      "Loss = tensor(1.4942, device='cuda:0', grad_fn=<NllLoss2DBackward>)\n",
      "Loss = tensor(1.4875, device='cuda:0', grad_fn=<NllLoss2DBackward>)\n",
      "Loss = tensor(1.4858, device='cuda:0', grad_fn=<NllLoss2DBackward>)\n",
      "Loss = tensor(1.4867, device='cuda:0', grad_fn=<NllLoss2DBackward>)\n",
      "EPOCH:  166\n"
     ]
    },
    {
     "data": {
      "image/png": "[encoded data removed]",
      "text/plain": [
       "<PIL.Image.Image image mode=RGB size=60x60 at 0x7FA4EDA78640>"
      ]
     },
     "metadata": {},
     "output_type": "display_data"
    },
    {
     "name": "stdout",
     "output_type": "stream",
     "text": [
      "Learning rate:  0.00015\n",
      "Loss = tensor(1.4902, device='cuda:0', grad_fn=<NllLoss2DBackward>)\n",
      "Loss = tensor(1.4904, device='cuda:0', grad_fn=<NllLoss2DBackward>)\n",
      "EPOCH:  167\n"
     ]
    },
    {
     "data": {
      "image/png": "[encoded data removed]",
      "text/plain": [
       "<PIL.Image.Image image mode=RGB size=60x60 at 0x7FA4EDA784C0>"
      ]
     },
     "metadata": {},
     "output_type": "display_data"
    },
    {
     "name": "stdout",
     "output_type": "stream",
     "text": [
      "Learning rate:  0.00015\n",
      "Loss = tensor(1.4869, device='cuda:0', grad_fn=<NllLoss2DBackward>)\n",
      "Loss = tensor(1.4907, device='cuda:0', grad_fn=<NllLoss2DBackward>)\n",
      "Loss = tensor(1.5021, device='cuda:0', grad_fn=<NllLoss2DBackward>)\n",
      "Loss = tensor(1.4879, device='cuda:0', grad_fn=<NllLoss2DBackward>)\n",
      "Loss = tensor(1.4798, device='cuda:0', grad_fn=<NllLoss2DBackward>)\n",
      "EPOCH:  167\n"
     ]
    },
    {
     "data": {
      "image/png": "[encoded data removed]",
      "text/plain": [
       "<PIL.Image.Image image mode=RGB size=60x60 at 0x7FA4EDA78820>"
      ]
     },
     "metadata": {},
     "output_type": "display_data"
    },
    {
     "name": "stdout",
     "output_type": "stream",
     "text": [
      "Learning rate:  0.00015\n",
      "Loss = tensor(1.4947, device='cuda:0', grad_fn=<NllLoss2DBackward>)\n",
      "Loss = tensor(1.4791, device='cuda:0', grad_fn=<NllLoss2DBackward>)\n",
      "Loss = tensor(1.4781, device='cuda:0', grad_fn=<NllLoss2DBackward>)\n",
      "Loss = tensor(1.4786, device='cuda:0', grad_fn=<NllLoss2DBackward>)\n",
      "Loss = tensor(1.4921, device='cuda:0', grad_fn=<NllLoss2DBackward>)\n",
      "EPOCH:  167\n"
     ]
    },
    {
     "data": {
      "image/png": "[encoded data removed]",
      "text/plain": [
       "<PIL.Image.Image image mode=RGB size=60x60 at 0x7FA4EDA78880>"
      ]
     },
     "metadata": {},
     "output_type": "display_data"
    },
    {
     "name": "stdout",
     "output_type": "stream",
     "text": [
      "Learning rate:  0.00015\n",
      "Loss = tensor(1.4759, device='cuda:0', grad_fn=<NllLoss2DBackward>)\n",
      "Loss = tensor(1.4743, device='cuda:0', grad_fn=<NllLoss2DBackward>)\n",
      "EPOCH:  168\n"
     ]
    },
    {
     "data": {
      "image/png": "[encoded data removed]",
      "text/plain": [
       "<PIL.Image.Image image mode=RGB size=60x60 at 0x7FA4EDA786A0>"
      ]
     },
     "metadata": {},
     "output_type": "display_data"
    },
    {
     "name": "stdout",
     "output_type": "stream",
     "text": [
      "Learning rate:  0.00015\n",
      "Loss = tensor(1.4967, device='cuda:0', grad_fn=<NllLoss2DBackward>)\n",
      "Loss = tensor(1.4804, device='cuda:0', grad_fn=<NllLoss2DBackward>)\n",
      "Loss = tensor(1.4991, device='cuda:0', grad_fn=<NllLoss2DBackward>)\n",
      "Loss = tensor(1.4931, device='cuda:0', grad_fn=<NllLoss2DBackward>)\n",
      "Loss = tensor(1.4910, device='cuda:0', grad_fn=<NllLoss2DBackward>)\n",
      "EPOCH:  168\n"
     ]
    },
    {
     "data": {
      "image/png": "[encoded data removed]",
      "text/plain": [
       "<PIL.Image.Image image mode=RGB size=60x60 at 0x7FA4EDA78580>"
      ]
     },
     "metadata": {},
     "output_type": "display_data"
    },
    {
     "name": "stdout",
     "output_type": "stream",
     "text": [
      "Learning rate:  0.00015\n",
      "Loss = tensor(1.4803, device='cuda:0', grad_fn=<NllLoss2DBackward>)\n",
      "Loss = tensor(1.4825, device='cuda:0', grad_fn=<NllLoss2DBackward>)\n",
      "Loss = tensor(1.4806, device='cuda:0', grad_fn=<NllLoss2DBackward>)\n",
      "Loss = tensor(1.4940, device='cuda:0', grad_fn=<NllLoss2DBackward>)\n",
      "Loss = tensor(1.4769, device='cuda:0', grad_fn=<NllLoss2DBackward>)\n",
      "EPOCH:  168\n"
     ]
    },
    {
     "data": {
      "image/png": "[encoded data removed]",
      "text/plain": [
       "<PIL.Image.Image image mode=RGB size=60x60 at 0x7FA4EDA78910>"
      ]
     },
     "metadata": {},
     "output_type": "display_data"
    },
    {
     "name": "stdout",
     "output_type": "stream",
     "text": [
      "Learning rate:  0.00015\n",
      "Loss = tensor(1.4939, device='cuda:0', grad_fn=<NllLoss2DBackward>)\n",
      "Loss = tensor(1.4850, device='cuda:0', grad_fn=<NllLoss2DBackward>)\n",
      "EPOCH:  169\n"
     ]
    },
    {
     "data": {
      "image/png": "[encoded data removed]",
      "text/plain": [
       "<PIL.Image.Image image mode=RGB size=60x60 at 0x7FA4EDA78880>"
      ]
     },
     "metadata": {},
     "output_type": "display_data"
    },
    {
     "name": "stdout",
     "output_type": "stream",
     "text": [
      "Learning rate:  0.00015\n",
      "Loss = tensor(1.4909, device='cuda:0', grad_fn=<NllLoss2DBackward>)\n",
      "Loss = tensor(1.4689, device='cuda:0', grad_fn=<NllLoss2DBackward>)\n",
      "Loss = tensor(1.5000, device='cuda:0', grad_fn=<NllLoss2DBackward>)\n",
      "Loss = tensor(1.4972, device='cuda:0', grad_fn=<NllLoss2DBackward>)\n",
      "Loss = tensor(1.4792, device='cuda:0', grad_fn=<NllLoss2DBackward>)\n",
      "EPOCH:  169\n"
     ]
    },
    {
     "data": {
      "image/png": "[encoded data removed]",
      "text/plain": [
       "<PIL.Image.Image image mode=RGB size=60x60 at 0x7FA4EDA788B0>"
      ]
     },
     "metadata": {},
     "output_type": "display_data"
    },
    {
     "name": "stdout",
     "output_type": "stream",
     "text": [
      "Learning rate:  0.00015\n",
      "Loss = tensor(1.4909, device='cuda:0', grad_fn=<NllLoss2DBackward>)\n",
      "Loss = tensor(1.4864, device='cuda:0', grad_fn=<NllLoss2DBackward>)\n",
      "Loss = tensor(1.4704, device='cuda:0', grad_fn=<NllLoss2DBackward>)\n",
      "Loss = tensor(1.4858, device='cuda:0', grad_fn=<NllLoss2DBackward>)\n",
      "Loss = tensor(1.4889, device='cuda:0', grad_fn=<NllLoss2DBackward>)\n",
      "EPOCH:  169\n"
     ]
    },
    {
     "data": {
      "image/png": "[encoded data removed]",
      "text/plain": [
       "<PIL.Image.Image image mode=RGB size=60x60 at 0x7FA4EDA78580>"
      ]
     },
     "metadata": {},
     "output_type": "display_data"
    },
    {
     "name": "stdout",
     "output_type": "stream",
     "text": [
      "Learning rate:  0.00015\n",
      "Loss = tensor(1.4961, device='cuda:0', grad_fn=<NllLoss2DBackward>)\n",
      "Loss = tensor(1.4995, device='cuda:0', grad_fn=<NllLoss2DBackward>)\n",
      "EPOCH:  170\n"
     ]
    },
    {
     "data": {
      "image/png": "[encoded data removed]",
      "text/plain": [
       "<PIL.Image.Image image mode=RGB size=60x60 at 0x7FA4EDA78340>"
      ]
     },
     "metadata": {},
     "output_type": "display_data"
    },
    {
     "name": "stdout",
     "output_type": "stream",
     "text": [
      "Learning rate:  0.00015\n",
      "Loss = tensor(1.4723, device='cuda:0', grad_fn=<NllLoss2DBackward>)\n",
      "Loss = tensor(1.4878, device='cuda:0', grad_fn=<NllLoss2DBackward>)\n",
      "Loss = tensor(1.4912, device='cuda:0', grad_fn=<NllLoss2DBackward>)\n",
      "Loss = tensor(1.4835, device='cuda:0', grad_fn=<NllLoss2DBackward>)\n",
      "Loss = tensor(1.4947, device='cuda:0', grad_fn=<NllLoss2DBackward>)\n",
      "EPOCH:  170\n"
     ]
    },
    {
     "data": {
      "image/png": "[encoded data removed]",
      "text/plain": [
       "<PIL.Image.Image image mode=RGB size=60x60 at 0x7FA4EDA78640>"
      ]
     },
     "metadata": {},
     "output_type": "display_data"
    },
    {
     "name": "stdout",
     "output_type": "stream",
     "text": [
      "Learning rate:  0.00015\n",
      "Loss = tensor(1.4740, device='cuda:0', grad_fn=<NllLoss2DBackward>)\n",
      "Loss = tensor(1.4886, device='cuda:0', grad_fn=<NllLoss2DBackward>)\n",
      "Loss = tensor(1.4846, device='cuda:0', grad_fn=<NllLoss2DBackward>)\n",
      "Loss = tensor(1.4882, device='cuda:0', grad_fn=<NllLoss2DBackward>)\n",
      "Loss = tensor(1.4744, device='cuda:0', grad_fn=<NllLoss2DBackward>)\n",
      "EPOCH:  170\n"
     ]
    },
    {
     "data": {
      "image/png": "[encoded data removed]",
      "text/plain": [
       "<PIL.Image.Image image mode=RGB size=60x60 at 0x7FA4EDA78940>"
      ]
     },
     "metadata": {},
     "output_type": "display_data"
    },
    {
     "name": "stdout",
     "output_type": "stream",
     "text": [
      "Learning rate:  0.00015\n",
      "Loss = tensor(1.5007, device='cuda:0', grad_fn=<NllLoss2DBackward>)\n",
      "Loss = tensor(1.4819, device='cuda:0', grad_fn=<NllLoss2DBackward>)\n",
      "EPOCH:  171\n"
     ]
    },
    {
     "data": {
      "image/png": "[encoded data removed]",
      "text/plain": [
       "<PIL.Image.Image image mode=RGB size=60x60 at 0x7FA4EDA78640>"
      ]
     },
     "metadata": {},
     "output_type": "display_data"
    },
    {
     "name": "stdout",
     "output_type": "stream",
     "text": [
      "Learning rate:  0.00015\n",
      "Loss = tensor(1.4767, device='cuda:0', grad_fn=<NllLoss2DBackward>)\n",
      "Loss = tensor(1.4893, device='cuda:0', grad_fn=<NllLoss2DBackward>)\n",
      "Loss = tensor(1.4978, device='cuda:0', grad_fn=<NllLoss2DBackward>)\n",
      "Loss = tensor(1.4975, device='cuda:0', grad_fn=<NllLoss2DBackward>)\n",
      "Loss = tensor(1.4885, device='cuda:0', grad_fn=<NllLoss2DBackward>)\n",
      "EPOCH:  171\n"
     ]
    },
    {
     "data": {
      "image/png": "[encoded data removed]",
      "text/plain": [
       "<PIL.Image.Image image mode=RGB size=60x60 at 0x7FA4EDA78550>"
      ]
     },
     "metadata": {},
     "output_type": "display_data"
    },
    {
     "name": "stdout",
     "output_type": "stream",
     "text": [
      "Learning rate:  0.00015\n",
      "Loss = tensor(1.4839, device='cuda:0', grad_fn=<NllLoss2DBackward>)\n",
      "Loss = tensor(1.4890, device='cuda:0', grad_fn=<NllLoss2DBackward>)\n",
      "Loss = tensor(1.4706, device='cuda:0', grad_fn=<NllLoss2DBackward>)\n",
      "Loss = tensor(1.4716, device='cuda:0', grad_fn=<NllLoss2DBackward>)\n",
      "Loss = tensor(1.4940, device='cuda:0', grad_fn=<NllLoss2DBackward>)\n",
      "EPOCH:  171\n"
     ]
    },
    {
     "data": {
      "image/png": "[encoded data removed]",
      "text/plain": [
       "<PIL.Image.Image image mode=RGB size=60x60 at 0x7FA4EDA78670>"
      ]
     },
     "metadata": {},
     "output_type": "display_data"
    },
    {
     "name": "stdout",
     "output_type": "stream",
     "text": [
      "Learning rate:  0.00015\n",
      "Loss = tensor(1.4974, device='cuda:0', grad_fn=<NllLoss2DBackward>)\n",
      "Loss = tensor(1.4977, device='cuda:0', grad_fn=<NllLoss2DBackward>)\n",
      "EPOCH:  172\n"
     ]
    },
    {
     "data": {
      "image/png": "[encoded data removed]",
      "text/plain": [
       "<PIL.Image.Image image mode=RGB size=60x60 at 0x7FA4EDA78580>"
      ]
     },
     "metadata": {},
     "output_type": "display_data"
    },
    {
     "name": "stdout",
     "output_type": "stream",
     "text": [
      "Learning rate:  0.00015\n",
      "Loss = tensor(1.4981, device='cuda:0', grad_fn=<NllLoss2DBackward>)\n",
      "Loss = tensor(1.4901, device='cuda:0', grad_fn=<NllLoss2DBackward>)\n",
      "Loss = tensor(1.4813, device='cuda:0', grad_fn=<NllLoss2DBackward>)\n",
      "Loss = tensor(1.4817, device='cuda:0', grad_fn=<NllLoss2DBackward>)\n",
      "Loss = tensor(1.4826, device='cuda:0', grad_fn=<NllLoss2DBackward>)\n",
      "EPOCH:  172\n"
     ]
    },
    {
     "data": {
      "image/png": "[encoded data removed]",
      "text/plain": [
       "<PIL.Image.Image image mode=RGB size=60x60 at 0x7FA4EDA78640>"
      ]
     },
     "metadata": {},
     "output_type": "display_data"
    },
    {
     "name": "stdout",
     "output_type": "stream",
     "text": [
      "Learning rate:  0.00015\n",
      "Loss = tensor(1.4819, device='cuda:0', grad_fn=<NllLoss2DBackward>)\n",
      "Loss = tensor(1.4622, device='cuda:0', grad_fn=<NllLoss2DBackward>)\n",
      "Loss = tensor(1.4865, device='cuda:0', grad_fn=<NllLoss2DBackward>)\n",
      "Loss = tensor(1.4873, device='cuda:0', grad_fn=<NllLoss2DBackward>)\n",
      "Loss = tensor(1.4969, device='cuda:0', grad_fn=<NllLoss2DBackward>)\n",
      "EPOCH:  172\n"
     ]
    },
    {
     "data": {
      "image/png": "[encoded data removed]",
      "text/plain": [
       "<PIL.Image.Image image mode=RGB size=60x60 at 0x7FA4EDA788B0>"
      ]
     },
     "metadata": {},
     "output_type": "display_data"
    },
    {
     "name": "stdout",
     "output_type": "stream",
     "text": [
      "Learning rate:  0.00015\n",
      "Loss = tensor(1.4867, device='cuda:0', grad_fn=<NllLoss2DBackward>)\n",
      "Loss = tensor(1.4854, device='cuda:0', grad_fn=<NllLoss2DBackward>)\n",
      "EPOCH:  173\n"
     ]
    },
    {
     "data": {
      "image/png": "[encoded data removed]",
      "text/plain": [
       "<PIL.Image.Image image mode=RGB size=60x60 at 0x7FA4EDA789A0>"
      ]
     },
     "metadata": {},
     "output_type": "display_data"
    },
    {
     "name": "stdout",
     "output_type": "stream",
     "text": [
      "Learning rate:  0.00015\n",
      "Loss = tensor(1.4783, device='cuda:0', grad_fn=<NllLoss2DBackward>)\n",
      "Loss = tensor(1.5022, device='cuda:0', grad_fn=<NllLoss2DBackward>)\n",
      "Loss = tensor(1.4792, device='cuda:0', grad_fn=<NllLoss2DBackward>)\n",
      "Loss = tensor(1.4946, device='cuda:0', grad_fn=<NllLoss2DBackward>)\n",
      "Loss = tensor(1.4815, device='cuda:0', grad_fn=<NllLoss2DBackward>)\n",
      "EPOCH:  173\n"
     ]
    },
    {
     "data": {
      "image/png": "[encoded data removed]",
      "text/plain": [
       "<PIL.Image.Image image mode=RGB size=60x60 at 0x7FA4EDA788B0>"
      ]
     },
     "metadata": {},
     "output_type": "display_data"
    },
    {
     "name": "stdout",
     "output_type": "stream",
     "text": [
      "Learning rate:  0.00015\n",
      "Loss = tensor(1.4988, device='cuda:0', grad_fn=<NllLoss2DBackward>)\n",
      "Loss = tensor(1.4900, device='cuda:0', grad_fn=<NllLoss2DBackward>)\n",
      "Loss = tensor(1.4823, device='cuda:0', grad_fn=<NllLoss2DBackward>)\n",
      "Loss = tensor(1.4823, device='cuda:0', grad_fn=<NllLoss2DBackward>)\n",
      "Loss = tensor(1.4818, device='cuda:0', grad_fn=<NllLoss2DBackward>)\n",
      "EPOCH:  173\n"
     ]
    },
    {
     "data": {
      "image/png": "[encoded data removed]",
      "text/plain": [
       "<PIL.Image.Image image mode=RGB size=60x60 at 0x7FA4EDA78580>"
      ]
     },
     "metadata": {},
     "output_type": "display_data"
    },
    {
     "name": "stdout",
     "output_type": "stream",
     "text": [
      "Learning rate:  0.00015\n",
      "Loss = tensor(1.4839, device='cuda:0', grad_fn=<NllLoss2DBackward>)\n",
      "Loss = tensor(1.4955, device='cuda:0', grad_fn=<NllLoss2DBackward>)\n",
      "EPOCH:  174\n"
     ]
    },
    {
     "data": {
      "image/png": "[encoded data removed]",
      "text/plain": [
       "<PIL.Image.Image image mode=RGB size=60x60 at 0x7FA4EDA789A0>"
      ]
     },
     "metadata": {},
     "output_type": "display_data"
    },
    {
     "name": "stdout",
     "output_type": "stream",
     "text": [
      "Learning rate:  0.00015\n",
      "Loss = tensor(1.4795, device='cuda:0', grad_fn=<NllLoss2DBackward>)\n",
      "Loss = tensor(1.4927, device='cuda:0', grad_fn=<NllLoss2DBackward>)\n",
      "Loss = tensor(1.4857, device='cuda:0', grad_fn=<NllLoss2DBackward>)\n",
      "Loss = tensor(1.4802, device='cuda:0', grad_fn=<NllLoss2DBackward>)\n",
      "Loss = tensor(1.4807, device='cuda:0', grad_fn=<NllLoss2DBackward>)\n",
      "EPOCH:  174\n"
     ]
    },
    {
     "data": {
      "image/png": "[encoded data removed]",
      "text/plain": [
       "<PIL.Image.Image image mode=RGB size=60x60 at 0x7FA4EDA789A0>"
      ]
     },
     "metadata": {},
     "output_type": "display_data"
    },
    {
     "name": "stdout",
     "output_type": "stream",
     "text": [
      "Learning rate:  0.00015\n",
      "Loss = tensor(1.4986, device='cuda:0', grad_fn=<NllLoss2DBackward>)\n",
      "Loss = tensor(1.4863, device='cuda:0', grad_fn=<NllLoss2DBackward>)\n",
      "Loss = tensor(1.4908, device='cuda:0', grad_fn=<NllLoss2DBackward>)\n",
      "Loss = tensor(1.4879, device='cuda:0', grad_fn=<NllLoss2DBackward>)\n",
      "Loss = tensor(1.4722, device='cuda:0', grad_fn=<NllLoss2DBackward>)\n",
      "EPOCH:  174\n"
     ]
    },
    {
     "data": {
      "image/png": "[encoded data removed]",
      "text/plain": [
       "<PIL.Image.Image image mode=RGB size=60x60 at 0x7FA4EDA785B0>"
      ]
     },
     "metadata": {},
     "output_type": "display_data"
    },
    {
     "name": "stdout",
     "output_type": "stream",
     "text": [
      "Learning rate:  0.00015\n",
      "Loss = tensor(1.4807, device='cuda:0', grad_fn=<NllLoss2DBackward>)\n",
      "Loss = tensor(1.4882, device='cuda:0', grad_fn=<NllLoss2DBackward>)\n",
      "EPOCH:  175\n"
     ]
    },
    {
     "data": {
      "image/png": "[encoded data removed]",
      "text/plain": [
       "<PIL.Image.Image image mode=RGB size=60x60 at 0x7FA4EDA78880>"
      ]
     },
     "metadata": {},
     "output_type": "display_data"
    },
    {
     "name": "stdout",
     "output_type": "stream",
     "text": [
      "Learning rate:  0.00015\n",
      "Loss = tensor(1.4961, device='cuda:0', grad_fn=<NllLoss2DBackward>)\n",
      "Loss = tensor(1.4927, device='cuda:0', grad_fn=<NllLoss2DBackward>)\n",
      "Loss = tensor(1.4891, device='cuda:0', grad_fn=<NllLoss2DBackward>)\n",
      "Loss = tensor(1.4686, device='cuda:0', grad_fn=<NllLoss2DBackward>)\n",
      "Loss = tensor(1.4883, device='cuda:0', grad_fn=<NllLoss2DBackward>)\n",
      "EPOCH:  175\n"
     ]
    },
    {
     "data": {
      "image/png": "[encoded data removed]",
      "text/plain": [
       "<PIL.Image.Image image mode=RGB size=60x60 at 0x7FA4EDA78880>"
      ]
     },
     "metadata": {},
     "output_type": "display_data"
    },
    {
     "name": "stdout",
     "output_type": "stream",
     "text": [
      "Learning rate:  0.00015\n",
      "Loss = tensor(1.4834, device='cuda:0', grad_fn=<NllLoss2DBackward>)\n",
      "Loss = tensor(1.4890, device='cuda:0', grad_fn=<NllLoss2DBackward>)\n",
      "Loss = tensor(1.4827, device='cuda:0', grad_fn=<NllLoss2DBackward>)\n",
      "Loss = tensor(1.4836, device='cuda:0', grad_fn=<NllLoss2DBackward>)\n",
      "Loss = tensor(1.4781, device='cuda:0', grad_fn=<NllLoss2DBackward>)\n",
      "EPOCH:  175\n"
     ]
    },
    {
     "data": {
      "image/png": "[encoded data removed]",
      "text/plain": [
       "<PIL.Image.Image image mode=RGB size=60x60 at 0x7FA4EDA78940>"
      ]
     },
     "metadata": {},
     "output_type": "display_data"
    },
    {
     "name": "stdout",
     "output_type": "stream",
     "text": [
      "Learning rate:  0.00015\n",
      "Loss = tensor(1.4804, device='cuda:0', grad_fn=<NllLoss2DBackward>)\n",
      "Loss = tensor(1.4803, device='cuda:0', grad_fn=<NllLoss2DBackward>)\n",
      "EPOCH:  176\n"
     ]
    },
    {
     "data": {
      "image/png": "[encoded data removed]",
      "text/plain": [
       "<PIL.Image.Image image mode=RGB size=60x60 at 0x7FA4EDA78970>"
      ]
     },
     "metadata": {},
     "output_type": "display_data"
    },
    {
     "name": "stdout",
     "output_type": "stream",
     "text": [
      "Learning rate:  0.00015\n",
      "Loss = tensor(1.4943, device='cuda:0', grad_fn=<NllLoss2DBackward>)\n",
      "Loss = tensor(1.4830, device='cuda:0', grad_fn=<NllLoss2DBackward>)\n",
      "Loss = tensor(1.4739, device='cuda:0', grad_fn=<NllLoss2DBackward>)\n",
      "Loss = tensor(1.4876, device='cuda:0', grad_fn=<NllLoss2DBackward>)\n",
      "Loss = tensor(1.4791, device='cuda:0', grad_fn=<NllLoss2DBackward>)\n",
      "EPOCH:  176\n"
     ]
    },
    {
     "data": {
      "image/png": "[encoded data removed]",
      "text/plain": [
       "<PIL.Image.Image image mode=RGB size=60x60 at 0x7FA4EDA78310>"
      ]
     },
     "metadata": {},
     "output_type": "display_data"
    },
    {
     "name": "stdout",
     "output_type": "stream",
     "text": [
      "Learning rate:  0.00015\n",
      "Loss = tensor(1.4828, device='cuda:0', grad_fn=<NllLoss2DBackward>)\n",
      "Loss = tensor(1.4886, device='cuda:0', grad_fn=<NllLoss2DBackward>)\n",
      "Loss = tensor(1.4906, device='cuda:0', grad_fn=<NllLoss2DBackward>)\n",
      "Loss = tensor(1.4812, device='cuda:0', grad_fn=<NllLoss2DBackward>)\n",
      "Loss = tensor(1.4889, device='cuda:0', grad_fn=<NllLoss2DBackward>)\n",
      "EPOCH:  176\n"
     ]
    },
    {
     "data": {
      "image/png": "[encoded data removed]",
      "text/plain": [
       "<PIL.Image.Image image mode=RGB size=60x60 at 0x7FA4EDA783D0>"
      ]
     },
     "metadata": {},
     "output_type": "display_data"
    },
    {
     "name": "stdout",
     "output_type": "stream",
     "text": [
      "Learning rate:  0.00015\n",
      "Loss = tensor(1.5008, device='cuda:0', grad_fn=<NllLoss2DBackward>)\n",
      "Loss = tensor(1.4865, device='cuda:0', grad_fn=<NllLoss2DBackward>)\n",
      "EPOCH:  177\n"
     ]
    },
    {
     "data": {
      "image/png": "[encoded data removed]",
      "text/plain": [
       "<PIL.Image.Image image mode=RGB size=60x60 at 0x7FA4EDA78640>"
      ]
     },
     "metadata": {},
     "output_type": "display_data"
    },
    {
     "name": "stdout",
     "output_type": "stream",
     "text": [
      "Learning rate:  0.00015\n",
      "Loss = tensor(1.4887, device='cuda:0', grad_fn=<NllLoss2DBackward>)\n",
      "Loss = tensor(1.4701, device='cuda:0', grad_fn=<NllLoss2DBackward>)\n",
      "Loss = tensor(1.4739, device='cuda:0', grad_fn=<NllLoss2DBackward>)\n",
      "Loss = tensor(1.4813, device='cuda:0', grad_fn=<NllLoss2DBackward>)\n",
      "Loss = tensor(1.4873, device='cuda:0', grad_fn=<NllLoss2DBackward>)\n",
      "EPOCH:  177\n"
     ]
    },
    {
     "data": {
      "image/png": "[encoded data removed]",
      "text/plain": [
       "<PIL.Image.Image image mode=RGB size=60x60 at 0x7FA4EDA78640>"
      ]
     },
     "metadata": {},
     "output_type": "display_data"
    },
    {
     "name": "stdout",
     "output_type": "stream",
     "text": [
      "Learning rate:  0.00015\n",
      "Loss = tensor(1.4816, device='cuda:0', grad_fn=<NllLoss2DBackward>)\n",
      "Loss = tensor(1.4961, device='cuda:0', grad_fn=<NllLoss2DBackward>)\n",
      "Loss = tensor(1.4817, device='cuda:0', grad_fn=<NllLoss2DBackward>)\n",
      "Loss = tensor(1.4944, device='cuda:0', grad_fn=<NllLoss2DBackward>)\n",
      "Loss = tensor(1.4897, device='cuda:0', grad_fn=<NllLoss2DBackward>)\n",
      "EPOCH:  177\n"
     ]
    },
    {
     "data": {
      "image/png": "[encoded data removed]",
      "text/plain": [
       "<PIL.Image.Image image mode=RGB size=60x60 at 0x7FA4EDA78820>"
      ]
     },
     "metadata": {},
     "output_type": "display_data"
    },
    {
     "name": "stdout",
     "output_type": "stream",
     "text": [
      "Learning rate:  0.00015\n",
      "Loss = tensor(1.4982, device='cuda:0', grad_fn=<NllLoss2DBackward>)\n",
      "Loss = tensor(1.4794, device='cuda:0', grad_fn=<NllLoss2DBackward>)\n",
      "EPOCH:  178\n"
     ]
    },
    {
     "data": {
      "image/png": "[encoded data removed]",
      "text/plain": [
       "<PIL.Image.Image image mode=RGB size=60x60 at 0x7FA4EDA789A0>"
      ]
     },
     "metadata": {},
     "output_type": "display_data"
    },
    {
     "name": "stdout",
     "output_type": "stream",
     "text": [
      "Learning rate:  0.00015\n",
      "Loss = tensor(1.4899, device='cuda:0', grad_fn=<NllLoss2DBackward>)\n",
      "Loss = tensor(1.4884, device='cuda:0', grad_fn=<NllLoss2DBackward>)\n",
      "Loss = tensor(1.4897, device='cuda:0', grad_fn=<NllLoss2DBackward>)\n",
      "Loss = tensor(1.4842, device='cuda:0', grad_fn=<NllLoss2DBackward>)\n",
      "Loss = tensor(1.4833, device='cuda:0', grad_fn=<NllLoss2DBackward>)\n",
      "EPOCH:  178\n"
     ]
    },
    {
     "data": {
      "image/png": "[encoded data removed]",
      "text/plain": [
       "<PIL.Image.Image image mode=RGB size=60x60 at 0x7FA4EDA78640>"
      ]
     },
     "metadata": {},
     "output_type": "display_data"
    },
    {
     "name": "stdout",
     "output_type": "stream",
     "text": [
      "Learning rate:  0.00015\n",
      "Loss = tensor(1.4974, device='cuda:0', grad_fn=<NllLoss2DBackward>)\n",
      "Loss = tensor(1.4767, device='cuda:0', grad_fn=<NllLoss2DBackward>)\n",
      "Loss = tensor(1.4992, device='cuda:0', grad_fn=<NllLoss2DBackward>)\n",
      "Loss = tensor(1.4762, device='cuda:0', grad_fn=<NllLoss2DBackward>)\n",
      "Loss = tensor(1.4933, device='cuda:0', grad_fn=<NllLoss2DBackward>)\n",
      "EPOCH:  178\n"
     ]
    },
    {
     "data": {
      "image/png": "[encoded data removed]",
      "text/plain": [
       "<PIL.Image.Image image mode=RGB size=60x60 at 0x7FA4EDA78340>"
      ]
     },
     "metadata": {},
     "output_type": "display_data"
    },
    {
     "name": "stdout",
     "output_type": "stream",
     "text": [
      "Learning rate:  0.00015\n",
      "Loss = tensor(1.4709, device='cuda:0', grad_fn=<NllLoss2DBackward>)\n",
      "Loss = tensor(1.4989, device='cuda:0', grad_fn=<NllLoss2DBackward>)\n",
      "EPOCH:  179\n"
     ]
    },
    {
     "data": {
      "image/png": "[encoded data removed]",
      "text/plain": [
       "<PIL.Image.Image image mode=RGB size=60x60 at 0x7FA4EDA78610>"
      ]
     },
     "metadata": {},
     "output_type": "display_data"
    },
    {
     "name": "stdout",
     "output_type": "stream",
     "text": [
      "Learning rate:  0.00015\n",
      "Loss = tensor(1.4693, device='cuda:0', grad_fn=<NllLoss2DBackward>)\n",
      "Loss = tensor(1.4713, device='cuda:0', grad_fn=<NllLoss2DBackward>)\n",
      "Loss = tensor(1.4834, device='cuda:0', grad_fn=<NllLoss2DBackward>)\n",
      "Loss = tensor(1.5064, device='cuda:0', grad_fn=<NllLoss2DBackward>)\n",
      "Loss = tensor(1.4840, device='cuda:0', grad_fn=<NllLoss2DBackward>)\n",
      "EPOCH:  179\n"
     ]
    },
    {
     "data": {
      "image/png": "[encoded data removed]",
      "text/plain": [
       "<PIL.Image.Image image mode=RGB size=60x60 at 0x7FA4EDA78610>"
      ]
     },
     "metadata": {},
     "output_type": "display_data"
    },
    {
     "name": "stdout",
     "output_type": "stream",
     "text": [
      "Learning rate:  0.00015\n",
      "Loss = tensor(1.5055, device='cuda:0', grad_fn=<NllLoss2DBackward>)\n",
      "Loss = tensor(1.4722, device='cuda:0', grad_fn=<NllLoss2DBackward>)\n",
      "Loss = tensor(1.4824, device='cuda:0', grad_fn=<NllLoss2DBackward>)\n",
      "Loss = tensor(1.4872, device='cuda:0', grad_fn=<NllLoss2DBackward>)\n",
      "Loss = tensor(1.4929, device='cuda:0', grad_fn=<NllLoss2DBackward>)\n",
      "EPOCH:  179\n"
     ]
    },
    {
     "data": {
      "image/png": "[encoded data removed]",
      "text/plain": [
       "<PIL.Image.Image image mode=RGB size=60x60 at 0x7FA4EDA78970>"
      ]
     },
     "metadata": {},
     "output_type": "display_data"
    },
    {
     "name": "stdout",
     "output_type": "stream",
     "text": [
      "Learning rate:  0.00015\n",
      "Loss = tensor(1.4766, device='cuda:0', grad_fn=<NllLoss2DBackward>)\n"
     ]
    }
   ],
   "source": [
    "for epoch in range(epochs):\n",
    "    i = 0\n",
    "    last = False\n",
    "    if epoch == epochs:\n",
    "        last = True\n",
    "    for batch in train_loader_CE:\n",
    "        inputs, targets = batch\n",
    "        if last == True:\n",
    "            x, epoch_history = model.forward(130, inputs, last=last)\n",
    "        else:\n",
    "            x = model.forward(130, inputs, last=last)\n",
    "            \n",
    "        b = get_rgb(x)\n",
    "        #out = loss1(b,c) + 4*loss1(b[3],c[3])+15*loss1(b[4],c[4])+4*loss1(b[5],c[5])\n",
    "        out = loss2(b, targets.detach().long())\n",
    "        print(\"Loss =\", out)\n",
    "        loss_ce.append(float(out))\n",
    "        c = b.detach().clone()\n",
    "        \n",
    "        if (i % 5 == 0):\n",
    "            print(\"EPOCH: \", epoch)\n",
    "            display(ts(max_rgb(c)[0]))\n",
    "            print(\"Learning rate: \", scheduler.get_last_lr()[0])\n",
    "            del c\n",
    "        i += 1\n",
    "        \n",
    "        optimizer.zero_grad()\n",
    "        out.backward()\n",
    "        optimizer.step()\n",
    "    scheduler.step()"
   ]
  },
  {
   "cell_type": "code",
   "execution_count": 14,
   "id": "underlying-relaxation",
   "metadata": {},
   "outputs": [],
   "source": [
    "torch.save(model, 'global.pth')"
   ]
  },
  {
   "cell_type": "code",
   "execution_count": 15,
   "id": "weekly-container",
   "metadata": {},
   "outputs": [
    {
     "name": "stdout",
     "output_type": "stream",
     "text": [
      "torch.Size([60, 60, 4])\n"
     ]
    },
    {
     "data": {
      "image/png": "[encoded data removed]",
      "text/plain": [
       "<Figure size 432x288 with 1 Axes>"
      ]
     },
     "metadata": {
      "needs_background": "light"
     },
     "output_type": "display_data"
    }
   ],
   "source": [
    "# Show certainty of pixels\n",
    "\n",
    "a = max_rgba(b[0]).detach().clone().to('cpu')\n",
    "plt.imshow(a.transpose(1,2).transpose(0,2))\n",
    "plt.show()"
   ]
  },
  {
   "cell_type": "code",
   "execution_count": 39,
   "id": "educational-tackle",
   "metadata": {},
   "outputs": [],
   "source": [
    "# Save final iterations as gif\n",
    "\n",
    "epoch_new = [ts(i) for i in epoch_history]\n",
    "epoch_new[0].save('anitest.gif',\n",
    "               save_all=True,\n",
    "               append_images=epoch_new[1:],\n",
    "               duration=1000,\n",
    "               loop=0)"
   ]
  },
  {
   "cell_type": "code",
   "execution_count": 12,
   "id": "incoming-habitat",
   "metadata": {},
   "outputs": [],
   "source": [
    "from sklearn.metrics import confusion_matrix\n",
    "from sklearn.metrics import mutual_info_score \n",
    "from sklearn.metrics import ConfusionMatrixDisplay\n",
    "\n",
    "# DICE Score\n",
    "def dice(pred, target, epsilon=1e-6):\n",
    "    y_true_flatten = np.asarray(target.cpu()).astype(np.bool)\n",
    "    y_pred_flatten = np.asarray(pred.cpu()).astype(np.bool)\n",
    "\n",
    "    if not np.sum(y_true_flatten) + np.sum(y_pred_flatten):\n",
    "        return 1.0\n",
    "\n",
    "    return (2. * np.sum(y_true_flatten * y_pred_flatten)) /\\\n",
    "           (np.sum(y_true_flatten) + np.sum(y_pred_flatten) + epsilon)\n",
    "\n",
    "# Precision, Recall, Accuracy and Specificity Score\n",
    "def pras(pred, truth):\n",
    "    \n",
    "    # Convert to format for confusion matrix\n",
    "    pred = pred.view(-1).cpu()\n",
    "    target = truth.view(-1).cpu()\n",
    "\n",
    "    x = confusion_matrix(pred, target)\n",
    "\n",
    "    # Calculate FP, FN, TP, TN\n",
    "    FP = x.sum(axis=0) - np.diag(x)\n",
    "    FN = x.sum(axis=1) - np.diag(x)\n",
    "    TP = np.diag(x)\n",
    "    TN = x.sum() - (FP + FN + TP)\n",
    "    \n",
    "    # Set the denominators and deal with 0 denominators\n",
    "    d1 = TP+FP\n",
    "    d1[np.where(d1==0)] = -1\n",
    "    d2 = TP+FN\n",
    "    d2[np.where(d2==0)] = -1\n",
    "    d3 = TP+TN+FP+FN\n",
    "    d3[np.where(d3==0)] = -1\n",
    "    d4 = TN+FP\n",
    "    d4[np.where(d4==0)] = -1\n",
    "\n",
    "    # Calculate and return scores\n",
    "    precision = TP/d1\n",
    "    recall = TP/d2\n",
    "    accuracy = (TP+TN)/d3\n",
    "    specificity = TN/d4\n",
    "    \n",
    "    return precision, recall, accuracy, specificity\n",
    "\n",
    "# Recall Score\n",
    "def overall_pras(pred, truth):\n",
    "    \n",
    "    # Convert to format for confusion matrix\n",
    "    pred = pred.view(-1).cpu()\n",
    "    target = truth.view(-1).cpu()\n",
    "    \n",
    "    x = confusion_matrix(pred, target)\n",
    "\n",
    "    FP = x.sum(axis=0) - np.diag(x)  \n",
    "    FN = x.sum(axis=1) - np.diag(x)\n",
    "    TP = np.diag(x)\n",
    "    TN = x.sum() - (FP + FN + TP)\n",
    "    \n",
    "    # Sum the values for overall values\n",
    "    FP = np.sum(FP)\n",
    "    FN = np.sum(FN)\n",
    "    TP = np.sum(TP)\n",
    "    TN = np.sum(TN)\n",
    "    \n",
    "    # Set the denominators and deal with 0 denominators\n",
    "    d1 = TP+FP\n",
    "    d2 = TP+FN\n",
    "    d3 = TP+TN+FP+FN\n",
    "    d4 = TN+FP\n",
    "    \n",
    "    # Calculate and return scores and deal with potential 0 denominators\n",
    "    if d1 > 0:\n",
    "        precision = TP/d1\n",
    "    else:\n",
    "        precision = -1\n",
    "        \n",
    "    if d2 > 0:\n",
    "        recall = TP/d2\n",
    "    else:\n",
    "        recall = -1\n",
    "    \n",
    "    if d3 > 0:\n",
    "        accuracy = (TP+TN)/d3\n",
    "    else:\n",
    "        d3 = -1\n",
    "        \n",
    "    if d4 > 0:\n",
    "        specificity = TN/d4\n",
    "    else:\n",
    "        specificity = -1\n",
    "    \n",
    "    return precision, recall, accuracy, specificity\n",
    "\n",
    "# Mutual Information\n",
    "def mi(pred, target):\n",
    "    print(pred.squeeze().shape)\n",
    "    print(target.flatten().shape)\n",
    "    return mutual_info_score(pred.flatten().cpu(), target.flatten().cpu())\n",
    "\n",
    "def get_confusion(pred, target):\n",
    "    pred = pred.view(-1).cpu()\n",
    "    target = target.view(-1).cpu()\n",
    "    x = confusion_matrix(pred.cpu(), target.cpu())\n",
    "    return x\n",
    "\n",
    "def print_confusion(conf):\n",
    "    xt = [\"Background\", \"Hair\", \"Face\", \"Nose\", \"Eyes\", \"Mouth\"]\n",
    "    sns.set(font_scale=1.4, rc={'figure.figsize':(11.7,8.27)}) \n",
    "    sns.heatmap(conf, annot=True, annot_kws={\"size\": 16}, fmt='g', xticklabels=xt, yticklabels=xt)\n",
    "    plt.savefig(\"confusion.png\")"
   ]
  },
  {
   "cell_type": "code",
   "execution_count": 13,
   "id": "employed-missouri",
   "metadata": {},
   "outputs": [],
   "source": [
    "# Empty lists for precision, recall, accuracy, specificity, DICE\n",
    "\n",
    "po_list = []\n",
    "ro_list = []\n",
    "ao_list = []\n",
    "so_list = []\n",
    "\n",
    "p_list = []\n",
    "r_list = []\n",
    "a_list = []\n",
    "s_list = []\n",
    "\n",
    "dice_list = []\n",
    "mi_list = []"
   ]
  },
  {
   "cell_type": "code",
   "execution_count": 14,
   "id": "given-tobago",
   "metadata": {
    "scrolled": true
   },
   "outputs": [
    {
     "name": "stdout",
     "output_type": "stream",
     "text": [
      "Loss = tensor(1.7118, device='cuda:0')\n",
      "torch.Size([60, 60])\n",
      "torch.Size([3600])\n"
     ]
    },
    {
     "data": {
      "image/png": "[encoded data removed]",
      "text/plain": [
       "<PIL.Image.Image image mode=RGB size=60x60 at 0x7FA4EDA5ECA0>"
      ]
     },
     "metadata": {},
     "output_type": "display_data"
    },
    {
     "name": "stdout",
     "output_type": "stream",
     "text": [
      "1.7117763757705688\n",
      "Loss = tensor(1.5014, device='cuda:0')\n",
      "torch.Size([60, 60])\n",
      "torch.Size([3600])\n"
     ]
    },
    {
     "data": {
      "image/png": "[encoded data removed]",
      "text/plain": [
       "<PIL.Image.Image image mode=RGB size=60x60 at 0x7FA57C264910>"
      ]
     },
     "metadata": {},
     "output_type": "display_data"
    },
    {
     "name": "stdout",
     "output_type": "stream",
     "text": [
      "1.5013887882232666\n",
      "Loss = tensor(1.4528, device='cuda:0')\n",
      "torch.Size([60, 60])\n",
      "torch.Size([3600])\n"
     ]
    },
    {
     "data": {
      "image/png": "[encoded data removed]",
      "text/plain": [
       "<PIL.Image.Image image mode=RGB size=60x60 at 0x7FA57C23AD00>"
      ]
     },
     "metadata": {},
     "output_type": "display_data"
    },
    {
     "name": "stdout",
     "output_type": "stream",
     "text": [
      "1.452806830406189\n",
      "Loss = tensor(1.5163, device='cuda:0')\n",
      "torch.Size([60, 60])\n",
      "torch.Size([3600])\n"
     ]
    },
    {
     "data": {
      "image/png": "[encoded data removed]",
      "text/plain": [
       "<PIL.Image.Image image mode=RGB size=60x60 at 0x7FA57C264910>"
      ]
     },
     "metadata": {},
     "output_type": "display_data"
    },
    {
     "name": "stdout",
     "output_type": "stream",
     "text": [
      "1.5162779092788696\n",
      "Loss = tensor(1.4939, device='cuda:0')\n",
      "torch.Size([60, 60])\n",
      "torch.Size([3600])\n"
     ]
    },
    {
     "data": {
      "image/png": "[encoded data removed]",
      "text/plain": [
       "<PIL.Image.Image image mode=RGB size=60x60 at 0x7FA4EDA622B0>"
      ]
     },
     "metadata": {},
     "output_type": "display_data"
    },
    {
     "name": "stdout",
     "output_type": "stream",
     "text": [
      "1.4939030408859253\n",
      "Loss = tensor(1.4518, device='cuda:0')\n",
      "torch.Size([60, 60])\n",
      "torch.Size([3600])\n"
     ]
    },
    {
     "data": {
      "image/png": "[encoded data removed]",
      "text/plain": [
       "<PIL.Image.Image image mode=RGB size=60x60 at 0x7FA57C207CA0>"
      ]
     },
     "metadata": {},
     "output_type": "display_data"
    },
    {
     "name": "stdout",
     "output_type": "stream",
     "text": [
      "1.4517555236816406\n",
      "Loss = tensor(1.4702, device='cuda:0')\n",
      "torch.Size([60, 60])\n",
      "torch.Size([3600])\n"
     ]
    },
    {
     "data": {
      "image/png": "[encoded data removed]",
      "text/plain": [
       "<PIL.Image.Image image mode=RGB size=60x60 at 0x7FA57C264910>"
      ]
     },
     "metadata": {},
     "output_type": "display_data"
    },
    {
     "name": "stdout",
     "output_type": "stream",
     "text": [
      "1.4702038764953613\n",
      "Loss = tensor(1.4840, device='cuda:0')\n",
      "torch.Size([60, 60])\n",
      "torch.Size([3600])\n"
     ]
    },
    {
     "data": {
      "image/png": "[encoded data removed]",
      "text/plain": [
       "<PIL.Image.Image image mode=RGB size=60x60 at 0x7FA57C264910>"
      ]
     },
     "metadata": {},
     "output_type": "display_data"
    },
    {
     "name": "stdout",
     "output_type": "stream",
     "text": [
      "1.4839794635772705\n",
      "Loss = tensor(1.5081, device='cuda:0')\n",
      "torch.Size([60, 60])\n",
      "torch.Size([3600])\n"
     ]
    },
    {
     "data": {
      "image/png": "[encoded data removed]",
      "text/plain": [
       "<PIL.Image.Image image mode=RGB size=60x60 at 0x7FA4F75EF4F0>"
      ]
     },
     "metadata": {},
     "output_type": "display_data"
    },
    {
     "name": "stdout",
     "output_type": "stream",
     "text": [
      "1.5080593824386597\n",
      "Loss = tensor(1.5539, device='cuda:0')\n",
      "torch.Size([60, 60])\n",
      "torch.Size([3600])\n"
     ]
    },
    {
     "data": {
      "image/png": "[encoded data removed]",
      "text/plain": [
       "<PIL.Image.Image image mode=RGB size=60x60 at 0x7FA4EDA5ECA0>"
      ]
     },
     "metadata": {},
     "output_type": "display_data"
    },
    {
     "name": "stdout",
     "output_type": "stream",
     "text": [
      "1.5539296865463257\n",
      "Loss = tensor(1.4593, device='cuda:0')\n",
      "torch.Size([60, 60])\n",
      "torch.Size([3600])\n"
     ]
    },
    {
     "data": {
      "image/png": "[encoded data removed]",
      "text/plain": [
       "<PIL.Image.Image image mode=RGB size=60x60 at 0x7FA4F75EFEB0>"
      ]
     },
     "metadata": {},
     "output_type": "display_data"
    },
    {
     "name": "stdout",
     "output_type": "stream",
     "text": [
      "1.4593110084533691\n",
      "Loss = tensor(1.5114, device='cuda:0')\n",
      "torch.Size([60, 60])\n",
      "torch.Size([3600])\n"
     ]
    },
    {
     "data": {
      "image/png": "[encoded data removed]",
      "text/plain": [
       "<PIL.Image.Image image mode=RGB size=60x60 at 0x7FA4EDA62A30>"
      ]
     },
     "metadata": {},
     "output_type": "display_data"
    },
    {
     "name": "stdout",
     "output_type": "stream",
     "text": [
      "1.5114126205444336\n",
      "Loss = tensor(1.4688, device='cuda:0')\n",
      "torch.Size([60, 60])\n",
      "torch.Size([3600])\n"
     ]
    },
    {
     "data": {
      "image/png": "[encoded data removed]",
      "text/plain": [
       "<PIL.Image.Image image mode=RGB size=60x60 at 0x7FA4F75EF4F0>"
      ]
     },
     "metadata": {},
     "output_type": "display_data"
    },
    {
     "name": "stdout",
     "output_type": "stream",
     "text": [
      "1.4687875509262085\n",
      "Loss = tensor(1.4956, device='cuda:0')\n",
      "torch.Size([60, 60])\n",
      "torch.Size([3600])\n"
     ]
    },
    {
     "data": {
      "image/png": "[encoded data removed]",
      "text/plain": [
       "<PIL.Image.Image image mode=RGB size=60x60 at 0x7FA4EDA622B0>"
      ]
     },
     "metadata": {},
     "output_type": "display_data"
    },
    {
     "name": "stdout",
     "output_type": "stream",
     "text": [
      "1.495639681816101\n",
      "Loss = tensor(1.4771, device='cuda:0')\n",
      "torch.Size([60, 60])\n",
      "torch.Size([3600])\n"
     ]
    },
    {
     "data": {
      "image/png": "[encoded data removed]",
      "text/plain": [
       "<PIL.Image.Image image mode=RGB size=60x60 at 0x7FA4F75EF4F0>"
      ]
     },
     "metadata": {},
     "output_type": "display_data"
    },
    {
     "name": "stdout",
     "output_type": "stream",
     "text": [
      "1.4771076440811157\n",
      "Loss = tensor(1.4384, device='cuda:0')\n",
      "torch.Size([60, 60])\n",
      "torch.Size([3600])\n"
     ]
    },
    {
     "data": {
      "image/png": "[encoded data removed]",
      "text/plain": [
       "<PIL.Image.Image image mode=RGB size=60x60 at 0x7FA4FA185AF0>"
      ]
     },
     "metadata": {},
     "output_type": "display_data"
    },
    {
     "name": "stdout",
     "output_type": "stream",
     "text": [
      "1.438395380973816\n",
      "Loss = tensor(1.5227, device='cuda:0')\n",
      "torch.Size([60, 60])\n",
      "torch.Size([3600])\n"
     ]
    },
    {
     "data": {
      "image/png": "[encoded data removed]",
      "text/plain": [
       "<PIL.Image.Image image mode=RGB size=60x60 at 0x7FA57C264910>"
      ]
     },
     "metadata": {},
     "output_type": "display_data"
    },
    {
     "name": "stdout",
     "output_type": "stream",
     "text": [
      "1.5227168798446655\n",
      "Loss = tensor(1.5446, device='cuda:0')\n",
      "torch.Size([60, 60])\n",
      "torch.Size([3600])\n"
     ]
    },
    {
     "data": {
      "image/png": "[encoded data removed]",
      "text/plain": [
       "<PIL.Image.Image image mode=RGB size=60x60 at 0x7FA57C207CA0>"
      ]
     },
     "metadata": {},
     "output_type": "display_data"
    },
    {
     "name": "stdout",
     "output_type": "stream",
     "text": [
      "1.5446181297302246\n",
      "Loss = tensor(1.4738, device='cuda:0')\n",
      "torch.Size([60, 60])\n",
      "torch.Size([3600])\n"
     ]
    },
    {
     "data": {
      "image/png": "[encoded data removed]",
      "text/plain": [
       "<PIL.Image.Image image mode=RGB size=60x60 at 0x7FA4F75EFEB0>"
      ]
     },
     "metadata": {},
     "output_type": "display_data"
    },
    {
     "name": "stdout",
     "output_type": "stream",
     "text": [
      "1.4737904071807861\n",
      "Loss = tensor(1.4804, device='cuda:0')\n",
      "torch.Size([60, 60])\n",
      "torch.Size([3600])\n"
     ]
    },
    {
     "data": {
      "image/png": "[encoded data removed]",
      "text/plain": [
       "<PIL.Image.Image image mode=RGB size=60x60 at 0x7FA4EDA622B0>"
      ]
     },
     "metadata": {},
     "output_type": "display_data"
    },
    {
     "name": "stdout",
     "output_type": "stream",
     "text": [
      "1.4803895950317383\n",
      "Loss = tensor(1.4680, device='cuda:0')\n",
      "torch.Size([60, 60])\n",
      "torch.Size([3600])\n"
     ]
    },
    {
     "data": {
      "image/png": "[encoded data removed]",
      "text/plain": [
       "<PIL.Image.Image image mode=RGB size=60x60 at 0x7FA4F75EFE20>"
      ]
     },
     "metadata": {},
     "output_type": "display_data"
    },
    {
     "name": "stdout",
     "output_type": "stream",
     "text": [
      "1.4679539203643799\n",
      "Loss = tensor(1.5180, device='cuda:0')\n",
      "torch.Size([60, 60])\n",
      "torch.Size([3600])\n"
     ]
    },
    {
     "data": {
      "image/png": "[encoded data removed]",
      "text/plain": [
       "<PIL.Image.Image image mode=RGB size=60x60 at 0x7FA57C23AD00>"
      ]
     },
     "metadata": {},
     "output_type": "display_data"
    },
    {
     "name": "stdout",
     "output_type": "stream",
     "text": [
      "1.5180424451828003\n",
      "Loss = tensor(1.4816, device='cuda:0')\n",
      "torch.Size([60, 60])\n",
      "torch.Size([3600])\n"
     ]
    },
    {
     "data": {
      "image/png": "[encoded data removed]",
      "text/plain": [
       "<PIL.Image.Image image mode=RGB size=60x60 at 0x7FA4EDA60E80>"
      ]
     },
     "metadata": {},
     "output_type": "display_data"
    },
    {
     "name": "stdout",
     "output_type": "stream",
     "text": [
      "1.48159921169281\n",
      "Loss = tensor(1.5637, device='cuda:0')\n",
      "torch.Size([60, 60])\n",
      "torch.Size([3600])\n"
     ]
    },
    {
     "data": {
      "image/png": "[encoded data removed]",
      "text/plain": [
       "<PIL.Image.Image image mode=RGB size=60x60 at 0x7FA4EDA62BB0>"
      ]
     },
     "metadata": {},
     "output_type": "display_data"
    },
    {
     "name": "stdout",
     "output_type": "stream",
     "text": [
      "1.5637059211730957\n",
      "Loss = tensor(1.4621, device='cuda:0')\n",
      "torch.Size([60, 60])\n",
      "torch.Size([3600])\n"
     ]
    },
    {
     "data": {
      "image/png": "[encoded data removed]",
      "text/plain": [
       "<PIL.Image.Image image mode=RGB size=60x60 at 0x7FA4F75EFD00>"
      ]
     },
     "metadata": {},
     "output_type": "display_data"
    },
    {
     "name": "stdout",
     "output_type": "stream",
     "text": [
      "1.4621357917785645\n",
      "Loss = tensor(1.4437, device='cuda:0')\n",
      "torch.Size([60, 60])\n",
      "torch.Size([3600])\n"
     ]
    },
    {
     "data": {
      "image/png": "[encoded data removed]",
      "text/plain": [
       "<PIL.Image.Image image mode=RGB size=60x60 at 0x7FA4F75EFE20>"
      ]
     },
     "metadata": {},
     "output_type": "display_data"
    },
    {
     "name": "stdout",
     "output_type": "stream",
     "text": [
      "1.4436614513397217\n",
      "Loss = tensor(1.4616, device='cuda:0')\n",
      "torch.Size([60, 60])\n",
      "torch.Size([3600])\n"
     ]
    },
    {
     "data": {
      "image/png": "[encoded data removed]",
      "text/plain": [
       "<PIL.Image.Image image mode=RGB size=60x60 at 0x7FA4EDA62BB0>"
      ]
     },
     "metadata": {},
     "output_type": "display_data"
    },
    {
     "name": "stdout",
     "output_type": "stream",
     "text": [
      "1.4615554809570312\n",
      "Loss = tensor(1.4846, device='cuda:0')\n",
      "torch.Size([60, 60])\n",
      "torch.Size([3600])\n"
     ]
    },
    {
     "data": {
      "image/png": "[encoded data removed]",
      "text/plain": [
       "<PIL.Image.Image image mode=RGB size=60x60 at 0x7FA4F75EFD00>"
      ]
     },
     "metadata": {},
     "output_type": "display_data"
    },
    {
     "name": "stdout",
     "output_type": "stream",
     "text": [
      "1.4845584630966187\n",
      "Loss = tensor(1.4792, device='cuda:0')\n",
      "torch.Size([60, 60])\n",
      "torch.Size([3600])\n"
     ]
    },
    {
     "data": {
      "image/png": "[encoded data removed]",
      "text/plain": [
       "<PIL.Image.Image image mode=RGB size=60x60 at 0x7FA4EDA62A30>"
      ]
     },
     "metadata": {},
     "output_type": "display_data"
    },
    {
     "name": "stdout",
     "output_type": "stream",
     "text": [
      "1.4791767597198486\n",
      "Loss = tensor(1.4657, device='cuda:0')\n",
      "torch.Size([60, 60])\n",
      "torch.Size([3600])\n"
     ]
    },
    {
     "data": {
      "image/png": "[encoded data removed]",
      "text/plain": [
       "<PIL.Image.Image image mode=RGB size=60x60 at 0x7FA4EDA62670>"
      ]
     },
     "metadata": {},
     "output_type": "display_data"
    },
    {
     "name": "stdout",
     "output_type": "stream",
     "text": [
      "1.4656665325164795\n"
     ]
    }
   ],
   "source": [
    "# Inference and test loss\n",
    "loss_test_ce = []\n",
    "batch_size=1\n",
    "conf_running = torch.zeros(6,6)\n",
    "\n",
    "with torch.no_grad():\n",
    "    for batch in test_loader_CE:\n",
    "        inputs, targets = batch\n",
    "        if last == True:\n",
    "            x, epoch_history = model.forward(130, inputs, last=last)\n",
    "        else:\n",
    "            x = model.forward(130, inputs, last=last)\n",
    "\n",
    "        b = get_rgb(x)\n",
    "        pred = torch.argmax(b, dim=1)\n",
    "        out = loss2(b, targets.detach().long())\n",
    "        print(\"Loss =\", out)\n",
    "        loss_test_ce.append(float(out))\n",
    "        c = b.detach().clone()\n",
    "        \n",
    "        target = targets.detach().long()\n",
    "        \n",
    "        # Log metrics\n",
    "        p,r,a,s = overall_pras(pred, target)\n",
    "        po_list.append(p)\n",
    "        ro_list.append(r)\n",
    "        ao_list.append(a)\n",
    "        so_list.append(s)\n",
    "        \n",
    "        d = dice(pred, target)\n",
    "        dice_list.append(d.item())\n",
    "        \n",
    "        m = mi(pred, target)\n",
    "        mi_list.append(m)\n",
    "        \n",
    "        p,r,a,s = pras(pred, target)\n",
    "        p_list.append(p)\n",
    "        r_list.append(r)\n",
    "        a_list.append(a)\n",
    "        s_list.append(s)\n",
    "        \n",
    "        conf_running += get_confusion(pred, target)\n",
    "        \n",
    "        for i in range(batch_size):\n",
    "            display(ts(max_rgb(c)[i]))\n",
    "        del c\n",
    "        print(float(out))"
   ]
  },
  {
   "cell_type": "code",
   "execution_count": 16,
   "id": "hollywood-relationship",
   "metadata": {},
   "outputs": [],
   "source": [
    "boxplot_p = np.array(p_list)\n",
    "boxplot_r = np.array(r_list)\n",
    "boxplot_a = np.array(a_list)\n",
    "boxplot_s = np.array(s_list)\n",
    "boxplot_mi = np.array(mi_list)\n",
    "\n",
    "np.save('metrics/global_p.npy', boxplot_p)\n",
    "np.save('metrics/global_r.npy', boxplot_r)\n",
    "np.save('metrics/global_a.npy', boxplot_a)\n",
    "np.save('metrics/global_s.npy', boxplot_s)\n",
    "np.save('metrics/global_m.npy', boxplot_mi)\n",
    "np.save('metrics/global_dice.npy', dice_list)"
   ]
  },
  {
   "cell_type": "code",
   "execution_count": 17,
   "id": "elder-holocaust",
   "metadata": {},
   "outputs": [
    {
     "data": {
      "image/png": "[encoded data removed]",
      "text/plain": [
       "<Figure size 432x288 with 1 Axes>"
      ]
     },
     "metadata": {
      "needs_background": "light"
     },
     "output_type": "display_data"
    },
    {
     "data": {
      "image/png": "[encoded data removed]",
      "text/plain": [
       "<Figure size 864x864 with 4 Axes>"
      ]
     },
     "metadata": {
      "needs_background": "light"
     },
     "output_type": "display_data"
    }
   ],
   "source": [
    "pras_overall_list = [dice_list, po_list, ro_list, ao_list, so_list, mi_list]\n",
    "#sns.boxplot(x=np.array(pras_overall_list), y=np.array([1,2,3,4]))\n",
    "plt.boxplot(pras_overall_list)\n",
    "plt.xticks([1,2,3,4,5,6],[\"DICE\", \"Precision\", \"Recall\", \"Accuracy\", \"Specificity\", \"MI\"])\n",
    "plt.title(\"Overall Metrics for Test Set\")\n",
    "plt.savefig(\"1GlobalPras.png\")\n",
    "\n",
    "\n",
    "fig, ((ax1, ax2), (ax3, ax4)) = plt.subplots(2,2)\n",
    "ax1.boxplot(boxplot_p)\n",
    "ax1.set_title(\"Precision\")\n",
    "ax1.set_xticklabels([\"Background\", \"Hair\", \"Face\", \"Nose\", \"Eyes\", \"Mouth\"])\n",
    "\n",
    "ax2.boxplot(boxplot_r)\n",
    "ax2.set_title(\"Recall\")\n",
    "ax2.set_xticklabels([\"Background\", \"Hair\", \"Face\", \"Nose\", \"Eyes\", \"Mouth\"])\n",
    "\n",
    "ax3.boxplot(boxplot_a)\n",
    "ax3.set_title(\"Accuracy\")\n",
    "ax3.set_xticklabels([\"Background\", \"Hair\", \"Face\", \"Nose\", \"Eyes\", \"Mouth\"])\n",
    "\n",
    "ax4.boxplot(boxplot_s)\n",
    "ax4.set_title(\"Specificity\")\n",
    "ax4.set_xticklabels([\"Background\", \"Hair\", \"Face\", \"Nose\", \"Eyes\", \"Mouth\"])\n",
    "\n",
    "fig.set_figwidth(12)\n",
    "fig.set_figheight(12)\n",
    "\n",
    "plt.setp(ax1.xaxis.get_majorticklabels(), rotation=45)\n",
    "plt.setp(ax2.xaxis.get_majorticklabels(), rotation=45)\n",
    "plt.setp(ax3.xaxis.get_majorticklabels(), rotation=45)\n",
    "plt.setp(ax4.xaxis.get_majorticklabels(), rotation=45)\n",
    "fig.suptitle('PRAS Across Classes')\n",
    "\n",
    "plt.savefig(\"pras/1GlobalPrasClass.png\")"
   ]
  },
  {
   "cell_type": "code",
   "execution_count": 30,
   "id": "hindu-buyer",
   "metadata": {},
   "outputs": [],
   "source": [
    "np.save('dice_global.npy', dice_list)"
   ]
  },
  {
   "cell_type": "code",
   "execution_count": null,
   "id": "useful-option",
   "metadata": {},
   "outputs": [],
   "source": []
  }
 ],
 "metadata": {
  "kernelspec": {
   "display_name": "Python 3",
   "language": "python",
   "name": "python3"
  },
  "language_info": {
   "codemirror_mode": {
    "name": "ipython",
    "version": 3
   },
   "file_extension": ".py",
   "mimetype": "text/x-python",
   "name": "python",
   "nbconvert_exporter": "python",
   "pygments_lexer": "ipython3",
   "version": "3.8.5"
  }
 },
 "nbformat": 4,
 "nbformat_minor": 5
}
