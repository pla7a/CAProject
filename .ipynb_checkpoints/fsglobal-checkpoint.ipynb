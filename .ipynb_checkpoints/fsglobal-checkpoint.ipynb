{
 "cells": [
  {
   "cell_type": "code",
   "execution_count": 1,
   "id": "vocational-promotion",
   "metadata": {},
   "outputs": [],
   "source": [
    "import torch\n",
    "%matplotlib inline\n",
    "\n",
    "import os\n",
    "import gzip\n",
    "import time\n",
    "import pickle\n",
    "\n",
    "import numpy as np\n",
    "import matplotlib.pyplot as plt\n",
    "#from scipy import ndimage\n",
    "\n",
    "import torch\n",
    "import torch.nn as nn\n",
    "import torch.optim as optim\n",
    "import torch.nn.functional as F\n",
    "\n",
    "from IPython.display import clear_output\n",
    "from datetime import datetime\n",
    "from torchvision import datasets, transforms\n",
    "\n",
    "from PIL import Image\n",
    "from IPython.display import Image \n",
    "\n"
   ]
  },
  {
   "cell_type": "code",
   "execution_count": 2,
   "id": "quick-blank",
   "metadata": {},
   "outputs": [
    {
     "name": "stdout",
     "output_type": "stream",
     "text": [
      "cuda:0\n"
     ]
    }
   ],
   "source": [
    "if torch.cuda.is_available():  \n",
    "  dev = \"cuda:0\" \n",
    "else:  \n",
    "  dev = \"cpu\"\n",
    "\n",
    "print(dev)"
   ]
  },
  {
   "cell_type": "code",
   "execution_count": 3,
   "id": "unauthorized-seating",
   "metadata": {},
   "outputs": [],
   "source": [
    "batch_size = 10"
   ]
  },
  {
   "cell_type": "code",
   "execution_count": 4,
   "id": "canadian-debut",
   "metadata": {},
   "outputs": [],
   "source": [
    "from torch.utils.data import Dataset, DataLoader\n",
    "import os\n",
    "import glob\n",
    "from PIL import Image\n",
    "import re\n",
    "\n",
    "\n",
    "px_size = 60\n",
    "py_size = 60\n",
    "\n",
    "class DatasetMSE(Dataset):\n",
    "\n",
    "    def __init__(self, image_dir, label_dir):\n",
    "        self.colors = {\n",
    "            0:torch.FloatTensor([255.0, 0.0, 0.0]),\n",
    "            1:torch.FloatTensor([127.0, 0.0, 0.0]),\n",
    "            2:torch.FloatTensor([255.0, 255.0, 0.0]),\n",
    "            3:torch.FloatTensor([0.0, 255.0, 255.0]),\n",
    "            4:torch.FloatTensor([0.0, 0.0, 255.0]),\n",
    "            5:torch.FloatTensor([0.0, 255.0, 0.0])\n",
    "            }\n",
    "        \n",
    "        self.transforms = []\n",
    "        self.tf = transforms.Compose([transforms.ToTensor(), transforms.Resize((px_size,py_size))])\n",
    "        self.label_imgs = torch.stack([self.get_labels(self.tf((Image.open(file)))) for file in glob.glob(label_dir + '/00*')]).to(dev)\n",
    "        self.colour = torch.stack([self.get_colour(self.tf((Image.open(file)))) for file in glob.glob(label_dir + '/00*')]).to(dev)\n",
    "        self.input_imgs = torch.stack([(self.tf((Image.open(file)))) for file in glob.glob(image_dir + '/00*')]).to(dev)\n",
    "        self.add_colour()\n",
    "\n",
    "    def __len__(self):\n",
    "        return len(self.input_imgs)\n",
    "\n",
    "\n",
    "    def __getitem__(self, idx):\n",
    "        input_img, label_img = self.input_imgs[idx], self.label_imgs[idx]\n",
    "        return input_img, label_img\n",
    "    \n",
    "    def col_sim(self, d):\n",
    "        d = d*255\n",
    "        a = torch.FloatTensor([torch.dist(d, self.colors[i]) for i in self.colors])\n",
    "        return torch.argmin(a) \n",
    "    \n",
    "    def view_shape(self):\n",
    "        print(self.label_imgs.shape)\n",
    "        print(self.input_imgs.shape)\n",
    "    \n",
    "    def get_labels(self, x):\n",
    "        new_x = torch.zeros(6,px_size,px_size)\n",
    "        for i in range(px_size):\n",
    "            for j in range(px_size):\n",
    "                new_d3 = x.transpose(0,1).transpose(1,2)\n",
    "                new_x[self.col_sim(new_d3[i][j])][i][j] = 1\n",
    "                \n",
    "        return new_x\n",
    "        \n",
    "    def get_colour(self, x):\n",
    "        new_x = torch.zeros(px_size,px_size)\n",
    "        for i in range(px_size):\n",
    "            for j in range(px_size):\n",
    "                new_d3 = x.transpose(0,1).transpose(1,2)\n",
    "                new_x[i][j] = self.col_sim(new_d3[i][j])\n",
    "        return new_x\n",
    "        \n",
    "    def add_colour(self):\n",
    "        print(self.input_imgs.shape)\n",
    "        for i in range(self.input_imgs.shape[0]):\n",
    "            print(i)\n",
    "            self.input_imgs[i][0][self.colour[i] == 3] += 0.2\n",
    "            self.input_imgs[i][1][self.colour[i] == 4] += 0.2\n",
    "            self.input_imgs[i][2][self.colour[i] == 5] += 0.2\n",
    "        self.input_imgs = self.input_imgs.clamp(0, 1)\n",
    "            #new_x[1][y[i]==4] += 0.5\n",
    "            #new_x[2][y[i]==5] += 0.5\n",
    "            #new_x[2][y[i] == 0] += 0.5\n",
    "            #new_x[1][y[i]==0] += 0.5\n",
    "        \n",
    "    \n",
    "    def print_tensor(self, x):\n",
    "        print(self.input_imgs[x])"
   ]
  },
  {
   "cell_type": "code",
   "execution_count": 32,
   "id": "julian-worthy",
   "metadata": {},
   "outputs": [
    {
     "name": "stdout",
     "output_type": "stream",
     "text": [
      "torch.Size([9, 3, 60, 60])\n",
      "0\n",
      "1\n",
      "2\n",
      "3\n",
      "4\n",
      "5\n",
      "6\n",
      "7\n",
      "8\n"
     ]
    }
   ],
   "source": [
    "dset_mse = DatasetMSE(\"Original\",\"Labeled\")\n",
    "train_loader_MSE = torch.utils.data.DataLoader(dset_mse, shuffle=True, batch_size=batch_size)\n",
    "#dset_mse.print_tensor(2)"
   ]
  },
  {
   "cell_type": "code",
   "execution_count": 3,
   "id": "hourly-administration",
   "metadata": {},
   "outputs": [],
   "source": [
    "import torch, gc\n",
    "gc.collect()\n",
    "torch.cuda.empty_cache()"
   ]
  },
  {
   "cell_type": "code",
   "execution_count": 11,
   "id": "according-passport",
   "metadata": {
    "scrolled": true
   },
   "outputs": [],
   "source": [
    "def initial_seed(batch_size):\n",
    "    return torch.zeros(batch_size, 3, px_size, py_size)\n",
    "\n",
    "# Encode colour classes 1\n",
    "def to_classes(d):\n",
    "    d = d*255\n",
    "    x = torch.zeros(6, d.shape[1], d.shape[2])\n",
    "    # RED 255,0,0\n",
    "    x[0][(d[0] > 220) & (d[1] < 20) & (d[2] < 20)] = 1\n",
    "    # BROWN 127,0,0\n",
    "    x[1][(d[0] > 60) & (d[0] < 200) & (d[1] < 60) & (d[2] < 60)] = 1\n",
    "    # YELLOW 255, 255, 0\n",
    "    x[2][(d[0] > 20) & (d[1] > 30) & (d[2] < 230)] = 1\n",
    "    # LIGHT BLUE 0,255,255\n",
    "    x[3][(d[0] < 100) & (d[1] > 100) & (d[2] > 100)] = 1\n",
    "    # DARK BLUE 0,0,255\n",
    "    x[4][(d[0] < 30) & (d[1] < 30) & (d[2] > 150)] = 1\n",
    "    # GREEN 0,255,0\n",
    "    x[5][(d[0] < 120) & (d[1] > 140) & (d[2] < 160)] = 1\n",
    "    return torch.FloatTensor(x)\n",
    "\n",
    "# Encode colour classes 2\n",
    "def to_class(d):\n",
    "    d = d*255\n",
    "    x = torch.zeros(d.shape[1], d.shape[2])\n",
    "    # RED 255,0,0\n",
    "    #x[(d[0] > 180) & (d[1] < 60) & (d[2] < 60)] = 0\n",
    "    # BROWN 127,0,0\n",
    "    x[(d[0] > 60) & (d[0] < 200) & (d[1] < 60) & (d[2] < 60)] = 1\n",
    "    # YELLOW 255, 255, 0\n",
    "    x[(d[0] > 100) & (d[1] > 100) & (d[2] < 100)] = 2\n",
    "    # LIGHT BLUE 0,255,255\n",
    "    x[(d[0] < 60) & (d[1] > 180) & (d[2] > 180)] = 3\n",
    "    # DARK BLUE 0,0,255\n",
    "    x[(d[0] < 60) & (d[1] < 60) & (d[2] > 180)] = 4\n",
    "    # GREEN 0,255,0\n",
    "    x[(d[0] < 70) & (d[1] > 170) & (d[2] < 70)] = 5\n",
    "    return torch.FloatTensor(x)\n",
    "\n",
    "colors = {\n",
    "    0:torch.FloatTensor([255.0, 0.0, 0.0]).to(dev),\n",
    "    1:torch.FloatTensor([127.0, 0.0, 0.0]).to(dev),\n",
    "    2:torch.FloatTensor([255.0, 255.0, 0.0]).to(dev),\n",
    "    3:torch.FloatTensor([0.0, 255.0, 255.0]).to(dev),\n",
    "    4:torch.FloatTensor([0.0, 0.0, 255.0]).to(dev),\n",
    "    5:torch.FloatTensor([0.0, 255.0, 0.0]).to(dev)\n",
    "    }\n",
    "          \n",
    "    \n",
    "# Get RGB class channels\n",
    "def get_rgb(x):\n",
    "    return x.transpose(0,1)[3:9].transpose(0,1)\n",
    "\n",
    "# Transform to display image\n",
    "ts = transforms.ToPILImage()\n",
    "\n",
    "# Get max class value and convert to RGB for the C classes\n",
    "def max_rgb(x):\n",
    "    newimg = torch.zeros(x.shape[0], px_size, px_size, 3).to(dev)\n",
    "    for i in range(x.shape[0]):\n",
    "        # RED 255, 0, 0\n",
    "        newimg[i][torch.argmax(x[i],dim=0) == 0] = colors[0]\n",
    "        # BROWN 127 0 0 \n",
    "        newimg[i][torch.argmax(x[i],dim=0) == 1] = colors[1]\n",
    "        # YELLOW 255, 255, 0\n",
    "        newimg[i][torch.argmax(x[i],dim=0) == 2] = colors[2]\n",
    "        # L BLUE 0, 255, 255\n",
    "        newimg[i][torch.argmax(x[i],dim=0) == 3] = colors[3]\n",
    "        # D BLUE 0, 0, 255\n",
    "        newimg[i][torch.argmax(x[i],dim=0) == 4] = colors[4]\n",
    "        # GREEN 0, 255, 0\n",
    "        newimg[i][torch.argmax(x[i],dim=0) == 5] = colors[5]\n",
    "    \n",
    "    return (newimg/255.0).transpose(1,3).transpose(2,3)\n",
    "\n",
    "\n",
    "def max_rgba(x):\n",
    "    newimg = torch.zeros(px_size, px_size, 3)\n",
    "    # RED 255, 0, 0\n",
    "    newimg[torch.argmax(x,dim=0) == 0] = torch.FloatTensor([255.0, 0.0, 0.0])\n",
    "    # BROWN 127 0 0 \n",
    "    newimg[torch.argmax(x,dim=0) == 1] = torch.FloatTensor([127.0, 0.0, 0.0])\n",
    "    # YELLOW 255, 255, 0\n",
    "    newimg[torch.argmax(x,dim=0) == 2] = torch.FloatTensor([255.0, 255.0, 0.0])\n",
    "    # L BLUE 0, 255, 255\n",
    "    newimg[torch.argmax(x,dim=0) == 3] = torch.FloatTensor([0.0, 255.0, 255.0])\n",
    "    # D BLUE 0, 0, 255\n",
    "    newimg[torch.argmax(x,dim=0) == 4] = torch.FloatTensor([0.0, 0.0, 255.0])\n",
    "    # GREEN 0, 255, 0\n",
    "    newimg[torch.argmax(x,dim=0) == 5] = torch.FloatTensor([0.0, 255.0, 0.0])\n",
    "    \n",
    "    alpha = torch.max(x, dim=0).values.to(dev)\n",
    "    #alpha = alpha/torch.max(alpha)\n",
    "    newimg = (newimg/255.0).to(dev)\n",
    "    newimg = torch.cat((newimg, alpha.view(px_size, px_size, 1)), dim=2)\n",
    "    print(newimg.shape)\n",
    "    return newimg.transpose(0,2).transpose(1,2)\n",
    "\n",
    "# Flatten dimension\n",
    "def loss_classes(x):\n",
    "    y = torch.flatten(x,1,2)\n",
    "    return y\n"
   ]
  },
  {
   "cell_type": "code",
   "execution_count": null,
   "id": "level-strap",
   "metadata": {},
   "outputs": [],
   "source": [
    "import torchvision\n",
    "\n",
    "def imshow(inp, title=None):\n",
    "    \"\"\"Imshow for Tensor.\"\"\"\n",
    "    inp = inp.cpu().numpy().transpose((1, 2, 0))\n",
    "    #mean = np.array([0.485, 0.456, 0.406])\n",
    "    #std = np.array([0.229, 0.224, 0.225])\n",
    "    #inp = std * inp + mean\n",
    "    #inp = np.clip(inp, 0, 1)\n",
    "    plt.imshow(inp)\n",
    "    if title is not None:\n",
    "        plt.title(title)\n",
    "    plt.pause(0.001)  # pause a bit so that plots are updated\n",
    "\n",
    "\n",
    "# Get a batch of training data\n",
    "# inputs contains 4 images because batch_size=4 for the dataloaders\n",
    "inputs, labels = next(iter(train_loader_CE))\n",
    "# Make a grid from batch\n",
    "out = torchvision.utils.make_grid(torch.cat((inputs, max_rgb(labels)),dim=0), nrow=batch_size)\n",
    "imshow(out, title=\"Sample Batch (Image and Ground Truth)\")\n"
   ]
  },
  {
   "cell_type": "code",
   "execution_count": 4,
   "id": "beginning-script",
   "metadata": {},
   "outputs": [],
   "source": [
    "batch_size = 10"
   ]
  },
  {
   "cell_type": "code",
   "execution_count": 5,
   "id": "racial-tactics",
   "metadata": {},
   "outputs": [],
   "source": [
    "# Cross Entropy\n",
    "\n",
    "from torch.utils.data import Dataset, DataLoader\n",
    "import os\n",
    "import glob\n",
    "from PIL import Image\n",
    "\n",
    "\n",
    "px_size = 60\n",
    "py_size = 60\n",
    "\n",
    "class DatasetCE(Dataset):\n",
    "\n",
    "    def __init__(self, image_dir, label_dir):\n",
    "        self.colors = {\n",
    "            0:torch.FloatTensor([255.0, 0.0, 0.0]),\n",
    "            1:torch.FloatTensor([127.0, 0.0, 0.0]),\n",
    "            2:torch.FloatTensor([255.0, 255.0, 0.0]),\n",
    "            3:torch.FloatTensor([0.0, 255.0, 255.0]),\n",
    "            4:torch.FloatTensor([0.0, 0.0, 255.0]),\n",
    "            5:torch.FloatTensor([0.0, 255.0, 0.0])\n",
    "            }\n",
    "        \n",
    "        self.transforms = []\n",
    "        self.tf = transforms.Compose([transforms.ToTensor(), transforms.Resize((px_size,py_size))])\n",
    "        self.input_imgs = torch.stack([self.tf((Image.open(file))) for file in glob.glob(image_dir + '/*')]).to(dev)\n",
    "        self.label_imgs = torch.stack([self.get_labels(self.tf((Image.open(file)))) for file in glob.glob(label_dir + '/*')]).to(dev)\n",
    "        #self.add_colour()\n",
    "    \n",
    "    def __len__(self):\n",
    "        return len(self.input_imgs)\n",
    "\n",
    "\n",
    "    def __getitem__(self, idx):\n",
    "        input_img, label_img = self.input_imgs[idx], self.label_imgs[idx]\n",
    "        return input_img, label_img\n",
    "    \n",
    "    def col_sim(self, d):\n",
    "        d = d*255\n",
    "        a = torch.FloatTensor([torch.dist(d, self.colors[i]) for i in self.colors])\n",
    "        return torch.argmin(a) \n",
    "    \n",
    "    def view_shape(self):\n",
    "        print(self.label_imgs.shape)\n",
    "        print(self.input_imgs.shape)\n",
    "    \n",
    "    # (3, x, y)\n",
    "    def get_labels(self, x):\n",
    "        new_x = torch.zeros(px_size,px_size)\n",
    "        for i in range(px_size):\n",
    "            for j in range(px_size):\n",
    "                new_d3 = x.transpose(0,1).transpose(1,2)\n",
    "                new_x[i][j] = self.col_sim(new_d3[i][j])\n",
    "        return new_x\n",
    "    \n",
    "    def add_colour(self):\n",
    "        y = self.label_imgs.clone().detach()\n",
    "        for i in range(self.input_imgs.shape[0]):\n",
    "            self.input_imgs[i][0][y[i] == 3] += 0.3\n",
    "            self.input_imgs[i][1][y[i] == 4] += 0.3\n",
    "            self.input_imgs[i][2][y[i] == 5] += 0.3\n",
    "        self.input_imgs = self.input_imgs.clamp(0, 1)\n",
    "\n",
    "    \n",
    "\n",
    "    "
   ]
  },
  {
   "cell_type": "code",
   "execution_count": 6,
   "id": "diagnostic-slovak",
   "metadata": {},
   "outputs": [
    {
     "data": {
      "text/plain": [
       "150"
      ]
     },
     "execution_count": 6,
     "metadata": {},
     "output_type": "execute_result"
    }
   ],
   "source": [
    "# Cross Entropy\n",
    "\n",
    "dsetCE = DatasetCE(\"Original\",\"Labeled\")\n",
    "train_loader_CE = torch.utils.data.DataLoader(dsetCE, shuffle=True, batch_size=batch_size)\n",
    "dsetCE.__len__()"
   ]
  },
  {
   "cell_type": "code",
   "execution_count": 7,
   "id": "speaking-progressive",
   "metadata": {},
   "outputs": [],
   "source": [
    "train_DS, test_DS = torch.utils.data.random_split(dsetCE, [120, 30])\n",
    "train_loader_CE = torch.utils.data.DataLoader(train_DS, shuffle=True, batch_size=batch_size)\n",
    "test_loader_CE = torch.utils.data.DataLoader(test_DS, shuffle=True, batch_size=1)"
   ]
  },
  {
   "cell_type": "code",
   "execution_count": 16,
   "id": "prerequisite-planet",
   "metadata": {},
   "outputs": [],
   "source": [
    "# Cellular automata class\n",
    "class CAModel(nn.Module):\n",
    "\n",
    "    def __init__(self, channel_n, fire_rate=0.5, device=torch.device(\"cpu\")):\n",
    "        super(CAModel, self).__init__()\n",
    "\n",
    "        self.device = device\n",
    "        self.channel_n = channel_n        \n",
    "\n",
    "        self.fire_rate = fire_rate\n",
    "        self.to(self.device)\n",
    "        \n",
    "        self.conv0 = nn.Conv2d(45, 1, kernel_size=px_size)\n",
    "        self.conv1 = nn.Conv2d(46, 34, kernel_size=3, padding=1)\n",
    "        self.relu = nn.ReLU()\n",
    "        self.conv2 = nn.Conv2d(34, 16, kernel_size=1)\n",
    "        self.conv3 = nn.Conv2d(16, 6, kernel_size=1)\n",
    "        \n",
    "        self.prewitt_x = torch.FloatTensor([[1,0,-1],[1,0,-1],[1,0,-1]]).to(dev)\n",
    "        self.prewitt_y = torch.FloatTensor([[1,1,1],[0,0,0],[-1,-1,-1]]).to(dev)\n",
    "        \n",
    "        self.sobel_x = torch.FloatTensor([[1,0,-1],[2,0,-2],[1,0,-1]]).to(dev)\n",
    "        self.sobel_y = torch.FloatTensor([[1,2,1],[0,0,0],[-1,-2,-1]]).to(dev)\n",
    "        \n",
    "    def perceive(self, x, angle):\n",
    "\n",
    "        def _perceive_with(x, weight):\n",
    "            size = weight.shape[0]\n",
    "            padding = (size-1)/2\n",
    "            weight = weight.view(1,1,size,size).repeat(self.channel_n, 1, 1, 1)\n",
    "            return F.conv2d(x, weight, padding=int(padding), groups=self.channel_n)\n",
    "        \n",
    "        # 3x3 sobel operators\n",
    "        wa_1 = self.sobel_x\n",
    "        wa_2 = self.sobel_y\n",
    "        wa_3 = self.prewitt_x\n",
    "        wa_4 = self.prewitt_y\n",
    "        \n",
    "        # Normalise these\n",
    "        wa_1/=torch.sum(torch.abs(wa_1))\n",
    "        wa_2/=torch.sum(torch.abs(wa_2))\n",
    "        wa_3/=torch.sum(torch.abs(wa_3))\n",
    "        wa_4/=torch.sum(torch.abs(wa_4))\n",
    "\n",
    "        # Apply convolutions with the 4 of these filters\n",
    "        y1 = _perceive_with(x, wa_1)\n",
    "        y2 = _perceive_with(x, wa_2)\n",
    "        y3 = _perceive_with(x, wa_1)\n",
    "        y4 = _perceive_with(x, wa_2)\n",
    "\n",
    "        # Concatenate: x (6 channels), 4 sobel filters (6 channels each), max pool (6 channels) = 36 total\n",
    "        y = torch.cat((x,y1,y2,y3,y4),1)\n",
    "        return y\n",
    "    \n",
    "    def forward(self, steps, x, last=False):\n",
    "        x = torch.cat((x, torch.zeros(batch_size,6,px_size,px_size).to(dev)), dim=1)\n",
    "        if last == True:\n",
    "            epoch_history = []\n",
    "            for i in range(steps):\n",
    "                epoch_history.append(x.detach().transpose(0,1)[3:9])\n",
    "                b0 = self.perceive(x, 0)\n",
    "                b1 = self.conv0(b0)\n",
    "                b10 = torch.zeros(batch_size, 1, px_size, px_size).to(dev) + b1\n",
    "                b2 = torch.cat((b0, b10), dim=1)\n",
    "                b3 = self.conv3((self.conv2(self.relu(self.conv1(b2)))))\n",
    "\n",
    "                c = x.detach().clone()\n",
    "                stochastic = torch.rand([b3.size(0),b3.size(1),b3.size(2),b3.size(3)])>self.fire_rate\n",
    "                stochastic = stochastic.float().to(self.device)\n",
    "\n",
    "                d = b3*stochastic\n",
    "                e = c.transpose(0,1)[3:9].transpose(0,1) + d\n",
    "                f = F.softmax(e, dim=1)\n",
    "                \n",
    "                x = torch.cat((c.transpose(0,1)[0:3].transpose(0,1),f),dim=1)\n",
    "                \n",
    "            return x, epoch_history\n",
    "                \n",
    "        else:\n",
    "            for i in range(steps):\n",
    "                b0 = self.perceive(x, 0)\n",
    "                b1 = self.conv0(b0)\n",
    "                b10 = torch.zeros(batch_size, 1, px_size, px_size).to(dev) + b1\n",
    "                b2 = torch.cat((b0, b10), dim=1)\n",
    "                b3 = self.conv3((self.conv2(self.relu(self.conv1(b2)))))\n",
    "\n",
    "                c = x.detach().clone()\n",
    "                stochastic = torch.rand([b3.size(0),b3.size(1),b3.size(2),b3.size(3)])>self.fire_rate\n",
    "                stochastic = stochastic.float().to(self.device)\n",
    "\n",
    "                d = b3*stochastic\n",
    "                e = c.transpose(0,1)[3:9].transpose(0,1) + d\n",
    "                f = F.softmax(e, dim=1)\n",
    "                \n",
    "                x = torch.cat((c.transpose(0,1)[0:3].transpose(0,1),f),dim=1)\n",
    "            return x"
   ]
  },
  {
   "cell_type": "code",
   "execution_count": 17,
   "id": "molecular-maintenance",
   "metadata": {},
   "outputs": [],
   "source": [
    "# Load model, set loss function, optimizer and scheduler\n",
    "\n",
    "model = CAModel(9,fire_rate=0.5,device=dev)\n",
    "#model = torch.load('modelcollab1.pth')\n",
    "model.cuda()\n",
    "optimizer = optim.Adam(model.parameters(), lr=0.001, betas=(0.9, 0.999))\n",
    "#scheduler = optim.lr_scheduler.ExponentialLR(optimizer, 0.999)\n",
    "scheduler = torch.optim.lr_scheduler.MultiStepLR(optimizer, [30,60,90], 0.6)\n",
    "#loss1 = torch.nn.MSELoss(size_average=None, reduce=None, reduction='mean')\n",
    "\n",
    "# RED, BROWN, YELLOW, LBLUE, DBLUE, GREEN\n",
    "w = torch.FloatTensor([2,1, 1.05, 8.9, 9, 8.8]).to(dev)\n",
    "loss2 = torch.nn.CrossEntropyLoss(weight=w, size_average=None, ignore_index=-100, reduce=None, reduction='mean')\n",
    "#loss = torch.nn.KLDivLoss(size_average=None, reduce=None, reduction='mean', log_target=False)\n",
    "#loss = FocalLoss()\n",
    "loss_mse = []\n",
    "loss_ce = []\n",
    "history = []\n",
    "epochs = 250\n",
    "\n",
    "batch_size=10"
   ]
  },
  {
   "cell_type": "code",
   "execution_count": null,
   "id": "smaller-attitude",
   "metadata": {
    "scrolled": true
   },
   "outputs": [],
   "source": [
    "for epoch in range(epochs):\n",
    "    i = 0\n",
    "    last = False\n",
    "    if epoch == epochs-1:\n",
    "        last = True\n",
    "    for batch in train_loader_MSE:\n",
    "        inputs, targets = batch\n",
    "        if last == True:\n",
    "            x, epoch_history = model.forward(130, inputs, last=last)\n",
    "        else:\n",
    "            x = model.forward(130, inputs, last=last)\n",
    "            \n",
    "        b = get_rgb(x)\n",
    "        out = loss1(b,targets)\n",
    "        print(\"Loss =\", out)\n",
    "        loss_mse.append(float(out))\n",
    "        c = b.detach().clone()\n",
    "        if (i % 5 == 0):\n",
    "            print(\"EPOCH: \", epoch)\n",
    "            display(ts(max_rgb(c)[0]))\n",
    "            del c\n",
    "            \n",
    "        i += 1\n",
    "        optimizer.zero_grad()\n",
    "        out.backward()\n",
    "        optimizer.step()"
   ]
  },
  {
   "cell_type": "code",
   "execution_count": 19,
   "id": "infectious-scottish",
   "metadata": {},
   "outputs": [],
   "source": [
    "torch.save(model, 'modelMSE.pth')"
   ]
  },
  {
   "cell_type": "code",
   "execution_count": null,
   "id": "balanced-cookie",
   "metadata": {
    "scrolled": true
   },
   "outputs": [],
   "source": [
    "for epoch in range(epochs):\n",
    "    i = 0\n",
    "    last = False\n",
    "    if epoch == epochs:\n",
    "        last = True\n",
    "    for batch in train_loader_CE:\n",
    "        inputs, targets = batch\n",
    "        if last == True:\n",
    "            x, epoch_history = model.forward(130, inputs, last=last)\n",
    "        else:\n",
    "            x = model.forward(130, inputs, last=last)\n",
    "            \n",
    "        b = get_rgb(x)\n",
    "        #out = loss1(b,c) + 4*loss1(b[3],c[3])+15*loss1(b[4],c[4])+4*loss1(b[5],c[5])\n",
    "        out = loss2(b, targets.detach().long())\n",
    "        print(\"Loss =\", out)\n",
    "        loss_ce.append(float(out))\n",
    "        c = b.detach().clone()\n",
    "        \n",
    "        if (i % 5 == 0):\n",
    "            print(\"EPOCH: \", epoch)\n",
    "            display(ts(max_rgb(c)[0]))\n",
    "            print(\"Learning rate: \", scheduler.get_last_lr()[0])\n",
    "            del c\n",
    "        i += 1\n",
    "        \n",
    "        optimizer.zero_grad()\n",
    "        out.backward()\n",
    "        optimizer.step()\n",
    "    scheduler.step()"
   ]
  },
  {
   "cell_type": "code",
   "execution_count": 19,
   "id": "working-sense",
   "metadata": {},
   "outputs": [],
   "source": [
    "torch.save(model, 'misc_figures/global.pth')"
   ]
  },
  {
   "cell_type": "code",
   "execution_count": 15,
   "id": "respiratory-capability",
   "metadata": {},
   "outputs": [
    {
     "name": "stdout",
     "output_type": "stream",
     "text": [
      "torch.Size([60, 60, 4])\n"
     ]
    },
    {
     "data": {
      "image/png": "[encoded data removed]",
      "text/plain": [
       "<Figure size 432x288 with 1 Axes>"
      ]
     },
     "metadata": {
      "needs_background": "light"
     },
     "output_type": "display_data"
    }
   ],
   "source": [
    "# Show certainty of pixels\n",
    "\n",
    "a = max_rgba(b[0]).detach().clone().to('cpu')\n",
    "plt.imshow(a.transpose(1,2).transpose(0,2))\n",
    "plt.show()"
   ]
  },
  {
   "cell_type": "code",
   "execution_count": 39,
   "id": "proof-pound",
   "metadata": {},
   "outputs": [],
   "source": [
    "# Save final iterations as gif\n",
    "\n",
    "epoch_new = [ts(i) for i in epoch_history]\n",
    "epoch_new[0].save('anitest.gif',\n",
    "               save_all=True,\n",
    "               append_images=epoch_new[1:],\n",
    "               duration=1000,\n",
    "               loop=0)"
   ]
  },
  {
   "cell_type": "code",
   "execution_count": 12,
   "id": "japanese-desire",
   "metadata": {},
   "outputs": [],
   "source": [
    "from sklearn.metrics import confusion_matrix\n",
    "from sklearn.metrics import mutual_info_score \n",
    "from sklearn.metrics import ConfusionMatrixDisplay\n",
    "\n",
    "# DICE Score\n",
    "def dice(pred, target, epsilon=1e-6):\n",
    "    y_true_flatten = np.asarray(target.cpu()).astype(np.bool)\n",
    "    y_pred_flatten = np.asarray(pred.cpu()).astype(np.bool)\n",
    "\n",
    "    if not np.sum(y_true_flatten) + np.sum(y_pred_flatten):\n",
    "        return 1.0\n",
    "\n",
    "    return (2. * np.sum(y_true_flatten * y_pred_flatten)) /\\\n",
    "           (np.sum(y_true_flatten) + np.sum(y_pred_flatten) + epsilon)\n",
    "\n",
    "# Precision, Recall, Accuracy and Specificity Score\n",
    "def pras(pred, truth):\n",
    "    \n",
    "    # Convert to format for confusion matrix\n",
    "    pred = pred.view(-1).cpu()\n",
    "    target = truth.view(-1).cpu()\n",
    "\n",
    "    x = confusion_matrix(pred, target)\n",
    "\n",
    "    # Calculate FP, FN, TP, TN\n",
    "    FP = x.sum(axis=0) - np.diag(x)\n",
    "    FN = x.sum(axis=1) - np.diag(x)\n",
    "    TP = np.diag(x)\n",
    "    TN = x.sum() - (FP + FN + TP)\n",
    "    \n",
    "    # Set the denominators and deal with 0 denominators\n",
    "    d1 = TP+FP\n",
    "    d1[np.where(d1==0)] = -1\n",
    "    d2 = TP+FN\n",
    "    d2[np.where(d2==0)] = -1\n",
    "    d3 = TP+TN+FP+FN\n",
    "    d3[np.where(d3==0)] = -1\n",
    "    d4 = TN+FP\n",
    "    d4[np.where(d4==0)] = -1\n",
    "\n",
    "    # Calculate and return scores\n",
    "    precision = TP/d1\n",
    "    recall = TP/d2\n",
    "    accuracy = (TP+TN)/d3\n",
    "    specificity = TN/d4\n",
    "    \n",
    "    return precision, recall, accuracy, specificity\n",
    "\n",
    "# Recall Score\n",
    "def overall_pras(pred, truth):\n",
    "    \n",
    "    # Convert to format for confusion matrix\n",
    "    pred = pred.view(-1).cpu()\n",
    "    target = truth.view(-1).cpu()\n",
    "    \n",
    "    x = confusion_matrix(pred, target)\n",
    "\n",
    "    FP = x.sum(axis=0) - np.diag(x)  \n",
    "    FN = x.sum(axis=1) - np.diag(x)\n",
    "    TP = np.diag(x)\n",
    "    TN = x.sum() - (FP + FN + TP)\n",
    "    \n",
    "    # Sum the values for overall values\n",
    "    FP = np.sum(FP)\n",
    "    FN = np.sum(FN)\n",
    "    TP = np.sum(TP)\n",
    "    TN = np.sum(TN)\n",
    "    \n",
    "    # Set the denominators and deal with 0 denominators\n",
    "    d1 = TP+FP\n",
    "    d2 = TP+FN\n",
    "    d3 = TP+TN+FP+FN\n",
    "    d4 = TN+FP\n",
    "    \n",
    "    # Calculate and return scores and deal with potential 0 denominators\n",
    "    if d1 > 0:\n",
    "        precision = TP/d1\n",
    "    else:\n",
    "        precision = -1\n",
    "        \n",
    "    if d2 > 0:\n",
    "        recall = TP/d2\n",
    "    else:\n",
    "        recall = -1\n",
    "    \n",
    "    if d3 > 0:\n",
    "        accuracy = (TP+TN)/d3\n",
    "    else:\n",
    "        d3 = -1\n",
    "        \n",
    "    if d4 > 0:\n",
    "        specificity = TN/d4\n",
    "    else:\n",
    "        specificity = -1\n",
    "    \n",
    "    return precision, recall, accuracy, specificity\n",
    "\n",
    "# Mutual Information\n",
    "def mi(pred, target):\n",
    "    print(pred.squeeze().shape)\n",
    "    print(target.flatten().shape)\n",
    "    return mutual_info_score(pred.flatten().cpu(), target.flatten().cpu())\n",
    "\n",
    "def get_confusion(pred, target):\n",
    "    pred = pred.view(-1).cpu()\n",
    "    target = target.view(-1).cpu()\n",
    "    x = confusion_matrix(pred.cpu(), target.cpu())\n",
    "    return x\n",
    "\n",
    "def print_confusion(conf):\n",
    "    xt = [\"Background\", \"Hair\", \"Face\", \"Nose\", \"Eyes\", \"Mouth\"]\n",
    "    sns.set(font_scale=1.4, rc={'figure.figsize':(11.7,8.27)}) \n",
    "    sns.heatmap(conf, annot=True, annot_kws={\"size\": 16}, fmt='g', xticklabels=xt, yticklabels=xt)\n",
    "    plt.savefig(\"confusion.png\")"
   ]
  },
  {
   "cell_type": "code",
   "execution_count": 13,
   "id": "ethical-chick",
   "metadata": {},
   "outputs": [],
   "source": [
    "# Empty lists for precision, recall, accuracy, specificity, DICE\n",
    "\n",
    "po_list = []\n",
    "ro_list = []\n",
    "ao_list = []\n",
    "so_list = []\n",
    "\n",
    "p_list = []\n",
    "r_list = []\n",
    "a_list = []\n",
    "s_list = []\n",
    "\n",
    "dice_list = []\n",
    "mi_list = []"
   ]
  },
  {
   "cell_type": "code",
   "execution_count": 14,
   "id": "needed-coordination",
   "metadata": {
    "scrolled": true
   },
   "outputs": [
    {
     "name": "stdout",
     "output_type": "stream",
     "text": [
      "Loss = tensor(1.7118, device='cuda:0')\n",
      "torch.Size([60, 60])\n",
      "torch.Size([3600])\n"
     ]
    },
    {
     "data": {
      "image/png": "[encoded data removed]",
      "text/plain": [
       "<PIL.Image.Image image mode=RGB size=60x60 at 0x7FA4EDA5ECA0>"
      ]
     },
     "metadata": {},
     "output_type": "display_data"
    },
    {
     "name": "stdout",
     "output_type": "stream",
     "text": [
      "1.7117763757705688\n",
      "Loss = tensor(1.5014, device='cuda:0')\n",
      "torch.Size([60, 60])\n",
      "torch.Size([3600])\n"
     ]
    },
    {
     "data": {
      "image/png": "[encoded data removed]",
      "text/plain": [
       "<PIL.Image.Image image mode=RGB size=60x60 at 0x7FA57C264910>"
      ]
     },
     "metadata": {},
     "output_type": "display_data"
    },
    {
     "name": "stdout",
     "output_type": "stream",
     "text": [
      "1.5013887882232666\n",
      "Loss = tensor(1.4528, device='cuda:0')\n",
      "torch.Size([60, 60])\n",
      "torch.Size([3600])\n"
     ]
    },
    {
     "data": {
      "image/png": "[encoded data removed]",
      "text/plain": [
       "<PIL.Image.Image image mode=RGB size=60x60 at 0x7FA57C23AD00>"
      ]
     },
     "metadata": {},
     "output_type": "display_data"
    },
    {
     "name": "stdout",
     "output_type": "stream",
     "text": [
      "1.452806830406189\n",
      "Loss = tensor(1.5163, device='cuda:0')\n",
      "torch.Size([60, 60])\n",
      "torch.Size([3600])\n"
     ]
    },
    {
     "data": {
      "image/png": "[encoded data removed]",
      "text/plain": [
       "<PIL.Image.Image image mode=RGB size=60x60 at 0x7FA57C264910>"
      ]
     },
     "metadata": {},
     "output_type": "display_data"
    },
    {
     "name": "stdout",
     "output_type": "stream",
     "text": [
      "1.5162779092788696\n",
      "Loss = tensor(1.4939, device='cuda:0')\n",
      "torch.Size([60, 60])\n",
      "torch.Size([3600])\n"
     ]
    },
    {
     "data": {
      "image/png": "[encoded data removed]",
      "text/plain": [
       "<PIL.Image.Image image mode=RGB size=60x60 at 0x7FA4EDA622B0>"
      ]
     },
     "metadata": {},
     "output_type": "display_data"
    },
    {
     "name": "stdout",
     "output_type": "stream",
     "text": [
      "1.4939030408859253\n",
      "Loss = tensor(1.4518, device='cuda:0')\n",
      "torch.Size([60, 60])\n",
      "torch.Size([3600])\n"
     ]
    },
    {
     "data": {
      "image/png": "[encoded data removed]",
      "text/plain": [
       "<PIL.Image.Image image mode=RGB size=60x60 at 0x7FA57C207CA0>"
      ]
     },
     "metadata": {},
     "output_type": "display_data"
    },
    {
     "name": "stdout",
     "output_type": "stream",
     "text": [
      "1.4517555236816406\n",
      "Loss = tensor(1.4702, device='cuda:0')\n",
      "torch.Size([60, 60])\n",
      "torch.Size([3600])\n"
     ]
    },
    {
     "data": {
      "image/png": "[encoded data removed]",
      "text/plain": [
       "<PIL.Image.Image image mode=RGB size=60x60 at 0x7FA57C264910>"
      ]
     },
     "metadata": {},
     "output_type": "display_data"
    },
    {
     "name": "stdout",
     "output_type": "stream",
     "text": [
      "1.4702038764953613\n",
      "Loss = tensor(1.4840, device='cuda:0')\n",
      "torch.Size([60, 60])\n",
      "torch.Size([3600])\n"
     ]
    },
    {
     "data": {
      "image/png": "[encoded data removed]",
      "text/plain": [
       "<PIL.Image.Image image mode=RGB size=60x60 at 0x7FA57C264910>"
      ]
     },
     "metadata": {},
     "output_type": "display_data"
    },
    {
     "name": "stdout",
     "output_type": "stream",
     "text": [
      "1.4839794635772705\n",
      "Loss = tensor(1.5081, device='cuda:0')\n",
      "torch.Size([60, 60])\n",
      "torch.Size([3600])\n"
     ]
    },
    {
     "data": {
      "image/png": "[encoded data removed]",
      "text/plain": [
       "<PIL.Image.Image image mode=RGB size=60x60 at 0x7FA4F75EF4F0>"
      ]
     },
     "metadata": {},
     "output_type": "display_data"
    },
    {
     "name": "stdout",
     "output_type": "stream",
     "text": [
      "1.5080593824386597\n",
      "Loss = tensor(1.5539, device='cuda:0')\n",
      "torch.Size([60, 60])\n",
      "torch.Size([3600])\n"
     ]
    },
    {
     "data": {
      "image/png": "[encoded data removed]",
      "text/plain": [
       "<PIL.Image.Image image mode=RGB size=60x60 at 0x7FA4EDA5ECA0>"
      ]
     },
     "metadata": {},
     "output_type": "display_data"
    },
    {
     "name": "stdout",
     "output_type": "stream",
     "text": [
      "1.5539296865463257\n",
      "Loss = tensor(1.4593, device='cuda:0')\n",
      "torch.Size([60, 60])\n",
      "torch.Size([3600])\n"
     ]
    },
    {
     "data": {
      "image/png": "[encoded data removed]",
      "text/plain": [
       "<PIL.Image.Image image mode=RGB size=60x60 at 0x7FA4F75EFEB0>"
      ]
     },
     "metadata": {},
     "output_type": "display_data"
    },
    {
     "name": "stdout",
     "output_type": "stream",
     "text": [
      "1.4593110084533691\n",
      "Loss = tensor(1.5114, device='cuda:0')\n",
      "torch.Size([60, 60])\n",
      "torch.Size([3600])\n"
     ]
    },
    {
     "data": {
      "image/png": "[encoded data removed]",
      "text/plain": [
       "<PIL.Image.Image image mode=RGB size=60x60 at 0x7FA4EDA62A30>"
      ]
     },
     "metadata": {},
     "output_type": "display_data"
    },
    {
     "name": "stdout",
     "output_type": "stream",
     "text": [
      "1.5114126205444336\n",
      "Loss = tensor(1.4688, device='cuda:0')\n",
      "torch.Size([60, 60])\n",
      "torch.Size([3600])\n"
     ]
    },
    {
     "data": {
      "image/png": "[encoded data removed]",
      "text/plain": [
       "<PIL.Image.Image image mode=RGB size=60x60 at 0x7FA4F75EF4F0>"
      ]
     },
     "metadata": {},
     "output_type": "display_data"
    },
    {
     "name": "stdout",
     "output_type": "stream",
     "text": [
      "1.4687875509262085\n",
      "Loss = tensor(1.4956, device='cuda:0')\n",
      "torch.Size([60, 60])\n",
      "torch.Size([3600])\n"
     ]
    },
    {
     "data": {
      "image/png": "[encoded data removed]",
      "text/plain": [
       "<PIL.Image.Image image mode=RGB size=60x60 at 0x7FA4EDA622B0>"
      ]
     },
     "metadata": {},
     "output_type": "display_data"
    },
    {
     "name": "stdout",
     "output_type": "stream",
     "text": [
      "1.495639681816101\n",
      "Loss = tensor(1.4771, device='cuda:0')\n",
      "torch.Size([60, 60])\n",
      "torch.Size([3600])\n"
     ]
    },
    {
     "data": {
      "image/png": "[encoded data removed]",
      "text/plain": [
       "<PIL.Image.Image image mode=RGB size=60x60 at 0x7FA4F75EF4F0>"
      ]
     },
     "metadata": {},
     "output_type": "display_data"
    },
    {
     "name": "stdout",
     "output_type": "stream",
     "text": [
      "1.4771076440811157\n",
      "Loss = tensor(1.4384, device='cuda:0')\n",
      "torch.Size([60, 60])\n",
      "torch.Size([3600])\n"
     ]
    },
    {
     "data": {
      "image/png": "[encoded data removed]",
      "text/plain": [
       "<PIL.Image.Image image mode=RGB size=60x60 at 0x7FA4FA185AF0>"
      ]
     },
     "metadata": {},
     "output_type": "display_data"
    },
    {
     "name": "stdout",
     "output_type": "stream",
     "text": [
      "1.438395380973816\n",
      "Loss = tensor(1.5227, device='cuda:0')\n",
      "torch.Size([60, 60])\n",
      "torch.Size([3600])\n"
     ]
    },
    {
     "data": {
      "image/png": "[encoded data removed]",
      "text/plain": [
       "<PIL.Image.Image image mode=RGB size=60x60 at 0x7FA57C264910>"
      ]
     },
     "metadata": {},
     "output_type": "display_data"
    },
    {
     "name": "stdout",
     "output_type": "stream",
     "text": [
      "1.5227168798446655\n",
      "Loss = tensor(1.5446, device='cuda:0')\n",
      "torch.Size([60, 60])\n",
      "torch.Size([3600])\n"
     ]
    },
    {
     "data": {
      "image/png": "[encoded data removed]",
      "text/plain": [
       "<PIL.Image.Image image mode=RGB size=60x60 at 0x7FA57C207CA0>"
      ]
     },
     "metadata": {},
     "output_type": "display_data"
    },
    {
     "name": "stdout",
     "output_type": "stream",
     "text": [
      "1.5446181297302246\n",
      "Loss = tensor(1.4738, device='cuda:0')\n",
      "torch.Size([60, 60])\n",
      "torch.Size([3600])\n"
     ]
    },
    {
     "data": {
      "image/png": "[encoded data removed]",
      "text/plain": [
       "<PIL.Image.Image image mode=RGB size=60x60 at 0x7FA4F75EFEB0>"
      ]
     },
     "metadata": {},
     "output_type": "display_data"
    },
    {
     "name": "stdout",
     "output_type": "stream",
     "text": [
      "1.4737904071807861\n",
      "Loss = tensor(1.4804, device='cuda:0')\n",
      "torch.Size([60, 60])\n",
      "torch.Size([3600])\n"
     ]
    },
    {
     "data": {
      "image/png": "[encoded data removed]",
      "text/plain": [
       "<PIL.Image.Image image mode=RGB size=60x60 at 0x7FA4EDA622B0>"
      ]
     },
     "metadata": {},
     "output_type": "display_data"
    },
    {
     "name": "stdout",
     "output_type": "stream",
     "text": [
      "1.4803895950317383\n",
      "Loss = tensor(1.4680, device='cuda:0')\n",
      "torch.Size([60, 60])\n",
      "torch.Size([3600])\n"
     ]
    },
    {
     "data": {
      "image/png": "[encoded data removed]",
      "text/plain": [
       "<PIL.Image.Image image mode=RGB size=60x60 at 0x7FA4F75EFE20>"
      ]
     },
     "metadata": {},
     "output_type": "display_data"
    },
    {
     "name": "stdout",
     "output_type": "stream",
     "text": [
      "1.4679539203643799\n",
      "Loss = tensor(1.5180, device='cuda:0')\n",
      "torch.Size([60, 60])\n",
      "torch.Size([3600])\n"
     ]
    },
    {
     "data": {
      "image/png": "[encoded data removed]",
      "text/plain": [
       "<PIL.Image.Image image mode=RGB size=60x60 at 0x7FA57C23AD00>"
      ]
     },
     "metadata": {},
     "output_type": "display_data"
    },
    {
     "name": "stdout",
     "output_type": "stream",
     "text": [
      "1.5180424451828003\n",
      "Loss = tensor(1.4816, device='cuda:0')\n",
      "torch.Size([60, 60])\n",
      "torch.Size([3600])\n"
     ]
    },
    {
     "data": {
      "image/png": "[encoded data removed]",
      "text/plain": [
       "<PIL.Image.Image image mode=RGB size=60x60 at 0x7FA4EDA60E80>"
      ]
     },
     "metadata": {},
     "output_type": "display_data"
    },
    {
     "name": "stdout",
     "output_type": "stream",
     "text": [
      "1.48159921169281\n",
      "Loss = tensor(1.5637, device='cuda:0')\n",
      "torch.Size([60, 60])\n",
      "torch.Size([3600])\n"
     ]
    },
    {
     "data": {
      "image/png": "[encoded data removed]",
      "text/plain": [
       "<PIL.Image.Image image mode=RGB size=60x60 at 0x7FA4EDA62BB0>"
      ]
     },
     "metadata": {},
     "output_type": "display_data"
    },
    {
     "name": "stdout",
     "output_type": "stream",
     "text": [
      "1.5637059211730957\n",
      "Loss = tensor(1.4621, device='cuda:0')\n",
      "torch.Size([60, 60])\n",
      "torch.Size([3600])\n"
     ]
    },
    {
     "data": {
      "image/png": "[encoded data removed]",
      "text/plain": [
       "<PIL.Image.Image image mode=RGB size=60x60 at 0x7FA4F75EFD00>"
      ]
     },
     "metadata": {},
     "output_type": "display_data"
    },
    {
     "name": "stdout",
     "output_type": "stream",
     "text": [
      "1.4621357917785645\n",
      "Loss = tensor(1.4437, device='cuda:0')\n",
      "torch.Size([60, 60])\n",
      "torch.Size([3600])\n"
     ]
    },
    {
     "data": {
      "image/png": "[encoded data removed]",
      "text/plain": [
       "<PIL.Image.Image image mode=RGB size=60x60 at 0x7FA4F75EFE20>"
      ]
     },
     "metadata": {},
     "output_type": "display_data"
    },
    {
     "name": "stdout",
     "output_type": "stream",
     "text": [
      "1.4436614513397217\n",
      "Loss = tensor(1.4616, device='cuda:0')\n",
      "torch.Size([60, 60])\n",
      "torch.Size([3600])\n"
     ]
    },
    {
     "data": {
      "image/png": "[encoded data removed]",
      "text/plain": [
       "<PIL.Image.Image image mode=RGB size=60x60 at 0x7FA4EDA62BB0>"
      ]
     },
     "metadata": {},
     "output_type": "display_data"
    },
    {
     "name": "stdout",
     "output_type": "stream",
     "text": [
      "1.4615554809570312\n",
      "Loss = tensor(1.4846, device='cuda:0')\n",
      "torch.Size([60, 60])\n",
      "torch.Size([3600])\n"
     ]
    },
    {
     "data": {
      "image/png": "[encoded data removed]",
      "text/plain": [
       "<PIL.Image.Image image mode=RGB size=60x60 at 0x7FA4F75EFD00>"
      ]
     },
     "metadata": {},
     "output_type": "display_data"
    },
    {
     "name": "stdout",
     "output_type": "stream",
     "text": [
      "1.4845584630966187\n",
      "Loss = tensor(1.4792, device='cuda:0')\n",
      "torch.Size([60, 60])\n",
      "torch.Size([3600])\n"
     ]
    },
    {
     "data": {
      "image/png": "[encoded data removed]",
      "text/plain": [
       "<PIL.Image.Image image mode=RGB size=60x60 at 0x7FA4EDA62A30>"
      ]
     },
     "metadata": {},
     "output_type": "display_data"
    },
    {
     "name": "stdout",
     "output_type": "stream",
     "text": [
      "1.4791767597198486\n",
      "Loss = tensor(1.4657, device='cuda:0')\n",
      "torch.Size([60, 60])\n",
      "torch.Size([3600])\n"
     ]
    },
    {
     "data": {
      "image/png": "[encoded data removed]",
      "text/plain": [
       "<PIL.Image.Image image mode=RGB size=60x60 at 0x7FA4EDA62670>"
      ]
     },
     "metadata": {},
     "output_type": "display_data"
    },
    {
     "name": "stdout",
     "output_type": "stream",
     "text": [
      "1.4656665325164795\n"
     ]
    }
   ],
   "source": [
    "# Inference and test loss\n",
    "loss_test_ce = []\n",
    "batch_size=1\n",
    "conf_running = torch.zeros(6,6)\n",
    "\n",
    "with torch.no_grad():\n",
    "    for batch in test_loader_CE:\n",
    "        inputs, targets = batch\n",
    "        if last == True:\n",
    "            x, epoch_history = model.forward(130, inputs, last=last)\n",
    "        else:\n",
    "            x = model.forward(130, inputs, last=last)\n",
    "\n",
    "        b = get_rgb(x)\n",
    "        pred = torch.argmax(b, dim=1)\n",
    "        out = loss2(b, targets.detach().long())\n",
    "        print(\"Loss =\", out)\n",
    "        loss_test_ce.append(float(out))\n",
    "        c = b.detach().clone()\n",
    "        \n",
    "        target = targets.detach().long()\n",
    "        \n",
    "        # Log metrics\n",
    "        p,r,a,s = overall_pras(pred, target)\n",
    "        po_list.append(p)\n",
    "        ro_list.append(r)\n",
    "        ao_list.append(a)\n",
    "        so_list.append(s)\n",
    "        \n",
    "        d = dice(pred, target)\n",
    "        dice_list.append(d.item())\n",
    "        \n",
    "        m = mi(pred, target)\n",
    "        mi_list.append(m)\n",
    "        \n",
    "        p,r,a,s = pras(pred, target)\n",
    "        p_list.append(p)\n",
    "        r_list.append(r)\n",
    "        a_list.append(a)\n",
    "        s_list.append(s)\n",
    "        \n",
    "        conf_running += get_confusion(pred, target)\n",
    "        \n",
    "        for i in range(batch_size):\n",
    "            display(ts(max_rgb(c)[i]))\n",
    "        del c\n",
    "        print(float(out))"
   ]
  },
  {
   "cell_type": "code",
   "execution_count": 16,
   "id": "corporate-warner",
   "metadata": {},
   "outputs": [],
   "source": [
    "boxplot_p = np.array(p_list)\n",
    "boxplot_r = np.array(r_list)\n",
    "boxplot_a = np.array(a_list)\n",
    "boxplot_s = np.array(s_list)\n",
    "boxplot_mi = np.array(mi_list)\n",
    "\n",
    "np.save('metrics/global_p.npy', boxplot_p)\n",
    "np.save('metrics/global_r.npy', boxplot_r)\n",
    "np.save('metrics/global_a.npy', boxplot_a)\n",
    "np.save('metrics/global_s.npy', boxplot_s)\n",
    "np.save('metrics/global_m.npy', boxplot_mi)\n",
    "np.save('metrics/global_dice.npy', dice_list)"
   ]
  },
  {
   "cell_type": "code",
   "execution_count": 17,
   "id": "thorough-token",
   "metadata": {},
   "outputs": [
    {
     "data": {
      "image/png": "[encoded data removed]",
      "text/plain": [
       "<Figure size 432x288 with 1 Axes>"
      ]
     },
     "metadata": {
      "needs_background": "light"
     },
     "output_type": "display_data"
    },
    {
     "data": {
      "image/png": "[encoded data removed]",
      "text/plain": [
       "<Figure size 864x864 with 4 Axes>"
      ]
     },
     "metadata": {
      "needs_background": "light"
     },
     "output_type": "display_data"
    }
   ],
   "source": [
    "pras_overall_list = [dice_list, po_list, ro_list, ao_list, so_list, mi_list]\n",
    "#sns.boxplot(x=np.array(pras_overall_list), y=np.array([1,2,3,4]))\n",
    "plt.boxplot(pras_overall_list)\n",
    "plt.xticks([1,2,3,4,5,6],[\"DICE\", \"Precision\", \"Recall\", \"Accuracy\", \"Specificity\", \"MI\"])\n",
    "plt.title(\"Overall Metrics for Test Set\")\n",
    "plt.savefig(\"1GlobalPras.png\")\n",
    "\n",
    "\n",
    "fig, ((ax1, ax2), (ax3, ax4)) = plt.subplots(2,2)\n",
    "ax1.boxplot(boxplot_p)\n",
    "ax1.set_title(\"Precision\")\n",
    "ax1.set_xticklabels([\"Background\", \"Hair\", \"Face\", \"Nose\", \"Eyes\", \"Mouth\"])\n",
    "\n",
    "ax2.boxplot(boxplot_r)\n",
    "ax2.set_title(\"Recall\")\n",
    "ax2.set_xticklabels([\"Background\", \"Hair\", \"Face\", \"Nose\", \"Eyes\", \"Mouth\"])\n",
    "\n",
    "ax3.boxplot(boxplot_a)\n",
    "ax3.set_title(\"Accuracy\")\n",
    "ax3.set_xticklabels([\"Background\", \"Hair\", \"Face\", \"Nose\", \"Eyes\", \"Mouth\"])\n",
    "\n",
    "ax4.boxplot(boxplot_s)\n",
    "ax4.set_title(\"Specificity\")\n",
    "ax4.set_xticklabels([\"Background\", \"Hair\", \"Face\", \"Nose\", \"Eyes\", \"Mouth\"])\n",
    "\n",
    "fig.set_figwidth(12)\n",
    "fig.set_figheight(12)\n",
    "\n",
    "plt.setp(ax1.xaxis.get_majorticklabels(), rotation=45)\n",
    "plt.setp(ax2.xaxis.get_majorticklabels(), rotation=45)\n",
    "plt.setp(ax3.xaxis.get_majorticklabels(), rotation=45)\n",
    "plt.setp(ax4.xaxis.get_majorticklabels(), rotation=45)\n",
    "fig.suptitle('PRAS Across Classes')\n",
    "\n",
    "plt.savefig(\"pras/1GlobalPrasClass.png\")"
   ]
  },
  {
   "cell_type": "code",
   "execution_count": 30,
   "id": "pressed-christian",
   "metadata": {},
   "outputs": [],
   "source": [
    "np.save('dice_global.npy', dice_list)"
   ]
  },
  {
   "cell_type": "code",
   "execution_count": null,
   "id": "tracked-reflection",
   "metadata": {},
   "outputs": [],
   "source": []
  }
 ],
 "metadata": {
  "kernelspec": {
   "display_name": "Python 3",
   "language": "python",
   "name": "python3"
  },
  "language_info": {
   "codemirror_mode": {
    "name": "ipython",
    "version": 3
   },
   "file_extension": ".py",
   "mimetype": "text/x-python",
   "name": "python",
   "nbconvert_exporter": "python",
   "pygments_lexer": "ipython3",
   "version": "3.8.5"
  }
 },
 "nbformat": 4,
 "nbformat_minor": 5
}
