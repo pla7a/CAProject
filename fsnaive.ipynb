{
 "cells": [
  {
   "cell_type": "code",
   "execution_count": 1,
   "id": "extended-charter",
   "metadata": {},
   "outputs": [],
   "source": [
    "import torch\n",
    "%matplotlib inline\n",
    "\n",
    "import os\n",
    "import gzip\n",
    "import time\n",
    "import pickle\n",
    "\n",
    "import numpy as np\n",
    "import matplotlib.pyplot as plt\n",
    "#from scipy import ndimage\n",
    "\n",
    "import torch\n",
    "import torch.nn as nn\n",
    "import torch.optim as optim\n",
    "import torch.nn.functional as F\n",
    "\n",
    "from IPython.display import clear_output\n",
    "from datetime import datetime\n",
    "from torchvision import datasets, transforms\n",
    "\n",
    "from PIL import Image\n",
    "from IPython.display import Image \n",
    "\n"
   ]
  },
  {
   "cell_type": "code",
   "execution_count": 2,
   "id": "relevant-singles",
   "metadata": {},
   "outputs": [
    {
     "name": "stdout",
     "output_type": "stream",
     "text": [
      "cuda:0\n"
     ]
    }
   ],
   "source": [
    "if torch.cuda.is_available():  \n",
    "  dev = \"cuda:0\" \n",
    "else:  \n",
    "  dev = \"cpu\"\n",
    "\n",
    "print(dev)"
   ]
  },
  {
   "cell_type": "code",
   "execution_count": 3,
   "id": "central-saying",
   "metadata": {},
   "outputs": [],
   "source": [
    "batch_size = 10"
   ]
  },
  {
   "cell_type": "code",
   "execution_count": 4,
   "id": "colonial-morning",
   "metadata": {},
   "outputs": [],
   "source": [
    "from torch.utils.data import Dataset, DataLoader\n",
    "import os\n",
    "import glob\n",
    "from PIL import Image\n",
    "import re\n",
    "\n",
    "\n",
    "px_size = 60\n",
    "py_size = 60\n",
    "\n",
    "class DatasetMSE(Dataset):\n",
    "\n",
    "    def __init__(self, image_dir, label_dir):\n",
    "        self.colors = {\n",
    "            0:torch.FloatTensor([255.0, 0.0, 0.0]),\n",
    "            1:torch.FloatTensor([127.0, 0.0, 0.0]),\n",
    "            2:torch.FloatTensor([255.0, 255.0, 0.0]),\n",
    "            3:torch.FloatTensor([0.0, 255.0, 255.0]),\n",
    "            4:torch.FloatTensor([0.0, 0.0, 255.0]),\n",
    "            5:torch.FloatTensor([0.0, 255.0, 0.0])\n",
    "            }\n",
    "        \n",
    "        self.transforms = []\n",
    "        self.tf = transforms.Compose([transforms.ToTensor(), transforms.Resize((px_size,py_size))])\n",
    "        self.label_imgs = torch.stack([self.get_labels(self.tf((Image.open(file)))) for file in glob.glob(label_dir + '/00*')]).to(dev)\n",
    "        self.colour = torch.stack([self.get_colour(self.tf((Image.open(file)))) for file in glob.glob(label_dir + '/00*')]).to(dev)\n",
    "        self.input_imgs = torch.stack([(self.tf((Image.open(file)))) for file in glob.glob(image_dir + '/00*')]).to(dev)\n",
    "        self.add_colour()\n",
    "\n",
    "    def __len__(self):\n",
    "        return len(self.input_imgs)\n",
    "\n",
    "\n",
    "    def __getitem__(self, idx):\n",
    "        input_img, label_img = self.input_imgs[idx], self.label_imgs[idx]\n",
    "        return input_img, label_img\n",
    "    \n",
    "    def col_sim(self, d):\n",
    "        d = d*255\n",
    "        a = torch.FloatTensor([torch.dist(d, self.colors[i]) for i in self.colors])\n",
    "        return torch.argmin(a) \n",
    "    \n",
    "    def view_shape(self):\n",
    "        print(self.label_imgs.shape)\n",
    "        print(self.input_imgs.shape)\n",
    "    \n",
    "    def get_labels(self, x):\n",
    "        new_x = torch.zeros(6,px_size,px_size)\n",
    "        for i in range(px_size):\n",
    "            for j in range(px_size):\n",
    "                new_d3 = x.transpose(0,1).transpose(1,2)\n",
    "                new_x[self.col_sim(new_d3[i][j])][i][j] = 1\n",
    "                \n",
    "        return new_x\n",
    "        \n",
    "    def get_colour(self, x):\n",
    "        new_x = torch.zeros(px_size,px_size)\n",
    "        for i in range(px_size):\n",
    "            for j in range(px_size):\n",
    "                new_d3 = x.transpose(0,1).transpose(1,2)\n",
    "                new_x[i][j] = self.col_sim(new_d3[i][j])\n",
    "        return new_x\n",
    "        \n",
    "    def add_colour(self):\n",
    "        print(self.input_imgs.shape)\n",
    "        for i in range(self.input_imgs.shape[0]):\n",
    "            print(i)\n",
    "            self.input_imgs[i][0][self.colour[i] == 3] += 0.2\n",
    "            self.input_imgs[i][1][self.colour[i] == 4] += 0.2\n",
    "            self.input_imgs[i][2][self.colour[i] == 5] += 0.2\n",
    "        self.input_imgs = self.input_imgs.clamp(0, 1)\n",
    "            #new_x[1][y[i]==4] += 0.5\n",
    "            #new_x[2][y[i]==5] += 0.5\n",
    "            #new_x[2][y[i] == 0] += 0.5\n",
    "            #new_x[1][y[i]==0] += 0.5\n",
    "        \n",
    "    \n",
    "    def print_tensor(self, x):\n",
    "        print(self.input_imgs[x])"
   ]
  },
  {
   "cell_type": "code",
   "execution_count": 32,
   "id": "consistent-productivity",
   "metadata": {},
   "outputs": [
    {
     "name": "stdout",
     "output_type": "stream",
     "text": [
      "torch.Size([9, 3, 60, 60])\n",
      "0\n",
      "1\n",
      "2\n",
      "3\n",
      "4\n",
      "5\n",
      "6\n",
      "7\n",
      "8\n"
     ]
    }
   ],
   "source": [
    "dset_mse = DatasetMSE(\"Original\",\"Labeled\")\n",
    "train_loader_MSE = torch.utils.data.DataLoader(dset_mse, shuffle=True, batch_size=batch_size)\n",
    "#dset_mse.print_tensor(2)"
   ]
  },
  {
   "cell_type": "code",
   "execution_count": 4,
   "id": "eight-arbitration",
   "metadata": {},
   "outputs": [],
   "source": [
    "import torch, gc\n",
    "gc.collect()\n",
    "torch.cuda.empty_cache()"
   ]
  },
  {
   "cell_type": "code",
   "execution_count": 5,
   "id": "confident-basement",
   "metadata": {
    "scrolled": true
   },
   "outputs": [],
   "source": [
    "def initial_seed(batch_size):\n",
    "    return torch.zeros(batch_size, 3, px_size, py_size)\n",
    "\n",
    "# Encode colour classes 1\n",
    "def to_classes(d):\n",
    "    d = d*255\n",
    "    x = torch.zeros(6, d.shape[1], d.shape[2])\n",
    "    # RED 255,0,0\n",
    "    x[0][(d[0] > 220) & (d[1] < 20) & (d[2] < 20)] = 1\n",
    "    # BROWN 127,0,0\n",
    "    x[1][(d[0] > 60) & (d[0] < 200) & (d[1] < 60) & (d[2] < 60)] = 1\n",
    "    # YELLOW 255, 255, 0\n",
    "    x[2][(d[0] > 20) & (d[1] > 30) & (d[2] < 230)] = 1\n",
    "    # LIGHT BLUE 0,255,255\n",
    "    x[3][(d[0] < 100) & (d[1] > 100) & (d[2] > 100)] = 1\n",
    "    # DARK BLUE 0,0,255\n",
    "    x[4][(d[0] < 30) & (d[1] < 30) & (d[2] > 150)] = 1\n",
    "    # GREEN 0,255,0\n",
    "    x[5][(d[0] < 120) & (d[1] > 140) & (d[2] < 160)] = 1\n",
    "    return torch.FloatTensor(x)\n",
    "\n",
    "# Encode colour classes 2\n",
    "def to_class(d):\n",
    "    d = d*255\n",
    "    x = torch.zeros(d.shape[1], d.shape[2])\n",
    "    # RED 255,0,0\n",
    "    #x[(d[0] > 180) & (d[1] < 60) & (d[2] < 60)] = 0\n",
    "    # BROWN 127,0,0\n",
    "    x[(d[0] > 60) & (d[0] < 200) & (d[1] < 60) & (d[2] < 60)] = 1\n",
    "    # YELLOW 255, 255, 0\n",
    "    x[(d[0] > 100) & (d[1] > 100) & (d[2] < 100)] = 2\n",
    "    # LIGHT BLUE 0,255,255\n",
    "    x[(d[0] < 60) & (d[1] > 180) & (d[2] > 180)] = 3\n",
    "    # DARK BLUE 0,0,255\n",
    "    x[(d[0] < 60) & (d[1] < 60) & (d[2] > 180)] = 4\n",
    "    # GREEN 0,255,0\n",
    "    x[(d[0] < 70) & (d[1] > 170) & (d[2] < 70)] = 5\n",
    "    return torch.FloatTensor(x)\n",
    "\n",
    "colors = {\n",
    "    0:torch.FloatTensor([255.0, 0.0, 0.0]).to(dev),\n",
    "    1:torch.FloatTensor([127.0, 0.0, 0.0]).to(dev),\n",
    "    2:torch.FloatTensor([255.0, 255.0, 0.0]).to(dev),\n",
    "    3:torch.FloatTensor([0.0, 255.0, 255.0]).to(dev),\n",
    "    4:torch.FloatTensor([0.0, 0.0, 255.0]).to(dev),\n",
    "    5:torch.FloatTensor([0.0, 255.0, 0.0]).to(dev)\n",
    "    }\n",
    "          \n",
    "    \n",
    "# Get RGB class channels\n",
    "def get_rgb(x):\n",
    "    return x.transpose(0,1)[3:9].transpose(0,1)\n",
    "\n",
    "# Transform to display image\n",
    "ts = transforms.ToPILImage()\n",
    "\n",
    "# Get max class value and convert to RGB for the C classes\n",
    "def max_rgb(x):\n",
    "    newimg = torch.zeros(x.shape[0], px_size, px_size, 3).to(dev)\n",
    "    for i in range(x.shape[0]):\n",
    "        # RED 255, 0, 0\n",
    "        newimg[i][torch.argmax(x[i],dim=0) == 0] = colors[0]\n",
    "        # BROWN 127 0 0 \n",
    "        newimg[i][torch.argmax(x[i],dim=0) == 1] = colors[1]\n",
    "        # YELLOW 255, 255, 0\n",
    "        newimg[i][torch.argmax(x[i],dim=0) == 2] = colors[2]\n",
    "        # L BLUE 0, 255, 255\n",
    "        newimg[i][torch.argmax(x[i],dim=0) == 3] = colors[3]\n",
    "        # D BLUE 0, 0, 255\n",
    "        newimg[i][torch.argmax(x[i],dim=0) == 4] = colors[4]\n",
    "        # GREEN 0, 255, 0\n",
    "        newimg[i][torch.argmax(x[i],dim=0) == 5] = colors[5]\n",
    "    \n",
    "    return (newimg/255.0).transpose(1,3).transpose(2,3)\n",
    "\n",
    "\n",
    "def max_rgba(x):\n",
    "    newimg = torch.zeros(px_size, px_size, 3)\n",
    "    # RED 255, 0, 0\n",
    "    newimg[torch.argmax(x,dim=0) == 0] = torch.FloatTensor([255.0, 0.0, 0.0])\n",
    "    # BROWN 127 0 0 \n",
    "    newimg[torch.argmax(x,dim=0) == 1] = torch.FloatTensor([127.0, 0.0, 0.0])\n",
    "    # YELLOW 255, 255, 0\n",
    "    newimg[torch.argmax(x,dim=0) == 2] = torch.FloatTensor([255.0, 255.0, 0.0])\n",
    "    # L BLUE 0, 255, 255\n",
    "    newimg[torch.argmax(x,dim=0) == 3] = torch.FloatTensor([0.0, 255.0, 255.0])\n",
    "    # D BLUE 0, 0, 255\n",
    "    newimg[torch.argmax(x,dim=0) == 4] = torch.FloatTensor([0.0, 0.0, 255.0])\n",
    "    # GREEN 0, 255, 0\n",
    "    newimg[torch.argmax(x,dim=0) == 5] = torch.FloatTensor([0.0, 255.0, 0.0])\n",
    "    \n",
    "    alpha = torch.max(x, dim=0).values.to(dev)\n",
    "    #alpha = alpha/torch.max(alpha)\n",
    "    newimg = (newimg/255.0).to(dev)\n",
    "    newimg = torch.cat((newimg, alpha.view(px_size, px_size, 1)), dim=2)\n",
    "    print(newimg.shape)\n",
    "    return newimg.transpose(0,2).transpose(1,2)\n",
    "\n",
    "# Flatten dimension\n",
    "def loss_classes(x):\n",
    "    y = torch.flatten(x,1,2)\n",
    "    return y\n"
   ]
  },
  {
   "cell_type": "code",
   "execution_count": 6,
   "id": "intelligent-brook",
   "metadata": {},
   "outputs": [
    {
     "ename": "NameError",
     "evalue": "name 'train_loader_MSE' is not defined",
     "output_type": "error",
     "traceback": [
      "\u001b[0;31m---------------------------------------------------------------------------\u001b[0m",
      "\u001b[0;31mNameError\u001b[0m                                 Traceback (most recent call last)",
      "\u001b[0;32m<ipython-input-6-d3b9923406c9>\u001b[0m in \u001b[0;36m<module>\u001b[0;34m\u001b[0m\n\u001b[1;32m     16\u001b[0m \u001b[0;31m# Get a batch of training data\u001b[0m\u001b[0;34m\u001b[0m\u001b[0;34m\u001b[0m\u001b[0;34m\u001b[0m\u001b[0m\n\u001b[1;32m     17\u001b[0m \u001b[0;31m# inputs contains 10 images because batch_size=10 for the dataloaders\u001b[0m\u001b[0;34m\u001b[0m\u001b[0;34m\u001b[0m\u001b[0;34m\u001b[0m\u001b[0m\n\u001b[0;32m---> 18\u001b[0;31m \u001b[0minputs\u001b[0m\u001b[0;34m,\u001b[0m \u001b[0mlabels\u001b[0m \u001b[0;34m=\u001b[0m \u001b[0mnext\u001b[0m\u001b[0;34m(\u001b[0m\u001b[0miter\u001b[0m\u001b[0;34m(\u001b[0m\u001b[0mtrain_loader_MSE\u001b[0m\u001b[0;34m)\u001b[0m\u001b[0;34m)\u001b[0m\u001b[0;34m\u001b[0m\u001b[0;34m\u001b[0m\u001b[0m\n\u001b[0m\u001b[1;32m     19\u001b[0m \u001b[0;31m# Make a grid from batch\u001b[0m\u001b[0;34m\u001b[0m\u001b[0;34m\u001b[0m\u001b[0;34m\u001b[0m\u001b[0m\n\u001b[1;32m     20\u001b[0m \u001b[0mout\u001b[0m \u001b[0;34m=\u001b[0m \u001b[0mtorchvision\u001b[0m\u001b[0;34m.\u001b[0m\u001b[0mutils\u001b[0m\u001b[0;34m.\u001b[0m\u001b[0mmake_grid\u001b[0m\u001b[0;34m(\u001b[0m\u001b[0mtorch\u001b[0m\u001b[0;34m.\u001b[0m\u001b[0mcat\u001b[0m\u001b[0;34m(\u001b[0m\u001b[0;34m(\u001b[0m\u001b[0minputs\u001b[0m\u001b[0;34m,\u001b[0m \u001b[0mmax_rgb\u001b[0m\u001b[0;34m(\u001b[0m\u001b[0mlabels\u001b[0m\u001b[0;34m)\u001b[0m\u001b[0;34m)\u001b[0m\u001b[0;34m,\u001b[0m\u001b[0mdim\u001b[0m\u001b[0;34m=\u001b[0m\u001b[0;36m0\u001b[0m\u001b[0;34m)\u001b[0m\u001b[0;34m,\u001b[0m \u001b[0mnrow\u001b[0m\u001b[0;34m=\u001b[0m\u001b[0mbatch_size\u001b[0m\u001b[0;34m)\u001b[0m\u001b[0;34m\u001b[0m\u001b[0;34m\u001b[0m\u001b[0m\n",
      "\u001b[0;31mNameError\u001b[0m: name 'train_loader_MSE' is not defined"
     ]
    }
   ],
   "source": [
    "import torchvision\n",
    "\n",
    "def imshow(inp, title=None):\n",
    "    \"\"\"Imshow for Tensor.\"\"\"\n",
    "    inp = inp.cpu().numpy().transpose((1, 2, 0))\n",
    "    #mean = np.array([0.485, 0.456, 0.406])\n",
    "    #std = np.array([0.229, 0.224, 0.225])\n",
    "    #inp = std * inp + mean\n",
    "    #inp = np.clip(inp, 0, 1)\n",
    "    plt.imshow(inp)\n",
    "    if title is not None:\n",
    "        plt.title(title)\n",
    "    plt.pause(0.001)  # pause a bit so that plots are updated\n",
    "\n",
    "\n",
    "# Get a batch of training data\n",
    "# inputs contains 10 images because batch_size=10 for the dataloaders\n",
    "inputs, labels = next(iter(train_loader_MSE))\n",
    "# Make a grid from batch\n",
    "out = torchvision.utils.make_grid(torch.cat((inputs, max_rgb(labels)),dim=0), nrow=batch_size)\n",
    "imshow(out, title=\"Sample Batch (Image and Ground Truth)\")\n"
   ]
  },
  {
   "cell_type": "code",
   "execution_count": 7,
   "id": "indirect-basin",
   "metadata": {},
   "outputs": [],
   "source": [
    "batch_size = 10"
   ]
  },
  {
   "cell_type": "code",
   "execution_count": 8,
   "id": "focal-gallery",
   "metadata": {},
   "outputs": [],
   "source": [
    "# Cross Entropy\n",
    "\n",
    "from torch.utils.data import Dataset, DataLoader\n",
    "import os\n",
    "import glob\n",
    "from PIL import Image\n",
    "\n",
    "\n",
    "px_size = 60\n",
    "py_size = 60\n",
    "\n",
    "class DatasetCE(Dataset):\n",
    "\n",
    "    def __init__(self, image_dir, label_dir):\n",
    "        self.colors = {\n",
    "            0:torch.FloatTensor([255.0, 0.0, 0.0]),\n",
    "            1:torch.FloatTensor([127.0, 0.0, 0.0]),\n",
    "            2:torch.FloatTensor([255.0, 255.0, 0.0]),\n",
    "            3:torch.FloatTensor([0.0, 255.0, 255.0]),\n",
    "            4:torch.FloatTensor([0.0, 0.0, 255.0]),\n",
    "            5:torch.FloatTensor([0.0, 255.0, 0.0])\n",
    "            }\n",
    "        \n",
    "        self.transforms = []\n",
    "        self.tf = transforms.Compose([transforms.ToTensor(), transforms.Resize((px_size,py_size))])\n",
    "        self.input_imgs = torch.stack([self.tf((Image.open(file))) for file in glob.glob(image_dir + '/*')]).to(dev)\n",
    "        self.label_imgs = torch.stack([self.get_labels(self.tf((Image.open(file)))) for file in glob.glob(label_dir + '/*')]).to(dev)\n",
    "        #self.add_colour()\n",
    "    \n",
    "    def __len__(self):\n",
    "        return len(self.input_imgs)\n",
    "\n",
    "\n",
    "    def __getitem__(self, idx):\n",
    "        input_img, label_img = self.input_imgs[idx], self.label_imgs[idx]\n",
    "        return input_img, label_img\n",
    "    \n",
    "    def col_sim(self, d):\n",
    "        d = d*255\n",
    "        a = torch.FloatTensor([torch.dist(d, self.colors[i]) for i in self.colors])\n",
    "        return torch.argmin(a) \n",
    "    \n",
    "    def view_shape(self):\n",
    "        print(self.label_imgs.shape)\n",
    "        print(self.input_imgs.shape)\n",
    "    \n",
    "    # (3, x, y)\n",
    "    def get_labels(self, x):\n",
    "        new_x = torch.zeros(px_size,px_size)\n",
    "        for i in range(px_size):\n",
    "            for j in range(px_size):\n",
    "                new_d3 = x.transpose(0,1).transpose(1,2)\n",
    "                new_x[i][j] = self.col_sim(new_d3[i][j])\n",
    "        return new_x\n",
    "    \n",
    "    def add_colour(self):\n",
    "        y = self.label_imgs.clone().detach()\n",
    "        for i in range(self.input_imgs.shape[0]):\n",
    "            self.input_imgs[i][0][y[i] == 3] += 0.3\n",
    "            self.input_imgs[i][1][y[i] == 4] += 0.3\n",
    "            self.input_imgs[i][2][y[i] == 5] += 0.3\n",
    "        self.input_imgs = self.input_imgs.clamp(0, 1)\n"
   ]
  },
  {
   "cell_type": "code",
   "execution_count": 9,
   "id": "lyric-firewall",
   "metadata": {},
   "outputs": [
    {
     "data": {
      "text/plain": [
       "150"
      ]
     },
     "execution_count": 9,
     "metadata": {},
     "output_type": "execute_result"
    }
   ],
   "source": [
    "# Cross Entropy\n",
    "\n",
    "dsetCE = DatasetCE(\"Original\",\"Labeled\")\n",
    "train_loader_CE = torch.utils.data.DataLoader(dsetCE, shuffle=True, batch_size=batch_size)\n",
    "dsetCE.__len__()"
   ]
  },
  {
   "cell_type": "code",
   "execution_count": 10,
   "id": "laughing-anatomy",
   "metadata": {},
   "outputs": [],
   "source": [
    "train_DS, test_DS = torch.utils.data.random_split(dsetCE, [120, 30])\n",
    "train_loader_CE = torch.utils.data.DataLoader(train_DS, shuffle=True, batch_size=batch_size)\n",
    "test_loader_CE = torch.utils.data.DataLoader(test_DS, shuffle=True, batch_size=1)"
   ]
  },
  {
   "cell_type": "code",
   "execution_count": 11,
   "id": "roman-program",
   "metadata": {},
   "outputs": [],
   "source": [
    "# Cellular automata class\n",
    "class CAModel(nn.Module):\n",
    "\n",
    "    def __init__(self, channel_n, fire_rate=0.5, device=torch.device(\"cpu\")):\n",
    "        super(CAModel, self).__init__()\n",
    "\n",
    "        self.device = device\n",
    "        self.channel_n = channel_n\n",
    "        self.fire_rate = fire_rate\n",
    "        self.to(self.device)\n",
    "        \n",
    "        # Neural network model\n",
    "        self.conv1 = nn.Conv2d(45, 32, kernel_size=3, padding=1)\n",
    "        self.relu = nn.ReLU()\n",
    "        self.conv1a = nn.Conv2d(32, 24, kernel_size=1, padding=0)\n",
    "        self.conv2 = nn.Conv2d(24, 16, kernel_size=1)\n",
    "        self.conv3 = nn.Conv2d(16, 6, kernel_size=1)\n",
    "        \n",
    "        # Pre-defined weights for embedding information\n",
    "        self.prewitt_x = torch.FloatTensor([[1,0,-1],[1,0,-1],[1,0,-1]]).to(dev)\n",
    "        self.prewitt_y = torch.FloatTensor([[1,1,1],[0,0,0],[-1,-1,-1]]).to(dev)\n",
    "        \n",
    "        self.sobel_x = torch.FloatTensor([[1,0,-1],[2,0,-2],[1,0,-1]]).to(dev)\n",
    "        self.sobel_y = torch.FloatTensor([[1,2,1],[0,0,0],[-1,-2,-1]]).to(dev)\n",
    "        \n",
    "        # If you want learnable weights\n",
    "        # self.pre_weight = nn.Conv2d(9,27,kernel_size=3, padding=1)\n",
    "        \n",
    "    def perceive(self, x):\n",
    "\n",
    "        def _perceive_with(x, weight):\n",
    "            size = weight.shape[0]\n",
    "            padding = (size-1)/2\n",
    "            weight = weight.view(1,1,size,size).repeat(self.channel_n, 1, 1, 1)\n",
    "            return F.conv2d(x, weight, padding=int(padding), groups=self.channel_n)\n",
    "        \n",
    "        # 3x3 Sobel and Prewitt operators\n",
    "        wa_1 = self.sobel_x\n",
    "        wa_2 = self.sobel_y\n",
    "        wa_3 = self.prewitt_x\n",
    "        wa_4 = self.prewitt_y\n",
    "        \n",
    "        # Normalisation of these\n",
    "        wa_1/=torch.sum(torch.abs(wa_1))\n",
    "        wa_2/=torch.sum(torch.abs(wa_2))\n",
    "        wa_3/=torch.sum(torch.abs(wa_3))\n",
    "        wa_4/=torch.sum(torch.abs(wa_4))\n",
    "\n",
    "        # Apply convolutions with these filters\n",
    "        y1 = _perceive_with(x, wa_1)\n",
    "        y2 = _perceive_with(x, wa_2)\n",
    "        y3 = _perceive_with(x, wa_1)\n",
    "        y4 = _perceive_with(x, wa_2)\n",
    "                \n",
    "        # Concatenate\n",
    "        y = torch.cat((x,y1,y2,y3,y4),1)\n",
    "        return y\n",
    "    \n",
    "    \n",
    "    def forward(self, steps, x, last=False):\n",
    "        x = torch.cat((x, torch.zeros(batch_size,6,px_size,px_size).to(dev)), dim=1)\n",
    "        if last == True:\n",
    "            epoch_history = []\n",
    "            for i in range(steps):\n",
    "                epoch_history.append(x.detach()[:,3:9,:])\n",
    "                \n",
    "                b = self.perceive(x)\n",
    "                bb = self.conv3(self.conv2(self.relu(self.conv1a(self.relu(self.conv1(b))))))\n",
    "                \n",
    "                c = x.detach().clone()\n",
    "                #stochastic = torch.rand([bb.size(0),bb.size(1),bb.size(2),bb.size(3)])<self.fire_rate\n",
    "                #stochastic = stochastic.float().to(self.device)\n",
    "\n",
    "                #d = bb*stochastic\n",
    "                d = bb\n",
    "                e = c.transpose(0,1)[3:9].transpose(0,1) + d\n",
    "                f = F.softmax(e, dim=1)\n",
    "                \n",
    "                x = torch.cat((c.transpose(0,1)[0:3].transpose(0,1),f),dim=1)\n",
    "                \n",
    "            return x, epoch_history\n",
    "                \n",
    "        else:\n",
    "            for i in range(steps):\n",
    "                b = self.perceive(x)\n",
    "                bb = self.conv3(self.conv2((self.conv1a(self.relu(self.conv1(b))))))\n",
    "                \n",
    "                c = x.detach().clone()\n",
    "                #stochastic = torch.rand([bb.size(0),bb.size(1),bb.size(2),bb.size(3)])<self.fire_rate\n",
    "                #stochastic = stochastic.float().to(self.device)\n",
    "\n",
    "                #d = bb*stochastic\n",
    "                d = bb\n",
    "                e = c.transpose(0,1)[3:9].transpose(0,1) + d\n",
    "                f = F.softmax(e, dim=1)\n",
    "                \n",
    "                x = torch.cat((c.transpose(0,1)[0:3].transpose(0,1),f),dim=1)\n",
    "            return x"
   ]
  },
  {
   "cell_type": "code",
   "execution_count": 12,
   "id": "liked-convention",
   "metadata": {},
   "outputs": [],
   "source": [
    "# Load model, set loss function, optimizer and scheduler\n",
    "\n",
    "model = CAModel(9,fire_rate=0.5,device=dev)\n",
    "#model = torch.load('modelcollab1.pth')\n",
    "model.cuda()\n",
    "optimizer = optim.Adam(model.parameters(), lr=0.00036, betas=(0.9, 0.999))\n",
    "#scheduler = optim.lr_scheduler.ExponentialLR(optimizer, 0.999)\n",
    "scheduler = torch.optim.lr_scheduler.MultiStepLR(optimizer, [30,60,90], 0.6)\n",
    "#loss1 = torch.nn.MSELoss(size_average=None, reduce=None, reduction='mean')\n",
    "\n",
    "# RED, BROWN, YELLOW, LBLUE, DBLUE, GREEN\n",
    "w = torch.FloatTensor([2,1, 1.05, 8.4, 9, 8.1]).to(dev)\n",
    "loss2 = torch.nn.CrossEntropyLoss(weight=w, size_average=None, ignore_index=-100, reduce=None, reduction='mean')\n",
    "#loss = torch.nn.KLDivLoss(size_average=None, reduce=None, reduction='mean', log_target=False)\n",
    "loss_mse = []\n",
    "loss_ce = []\n",
    "history = []\n",
    "epochs = 200\n",
    "\n",
    "batch_size=10"
   ]
  },
  {
   "cell_type": "code",
   "execution_count": 12,
   "id": "respected-british",
   "metadata": {},
   "outputs": [],
   "source": [
    "# Only needed for collaborative automata\n",
    "mask1 = torch.zeros(1,6,px_size,px_size).to(dev)\n",
    "mask2 = torch.zeros(1,6,px_size,px_size).to(dev)\n",
    "k = mask1.shape[2]\n",
    "for i in range(k):\n",
    "    for j in range(k):\n",
    "        mask1[:,:,i,j] = (i + j + 1) % 2\n",
    "        mask2[:,:,i,j] = (i + j) % 2"
   ]
  },
  {
   "cell_type": "code",
   "execution_count": null,
   "id": "spiritual-kuwait",
   "metadata": {
    "scrolled": true
   },
   "outputs": [],
   "source": [
    "# MSE training loop\n",
    "for epoch in range(epochs):\n",
    "    i = 0\n",
    "    last = False\n",
    "    if epoch == epochs-1:\n",
    "        last = True\n",
    "    for batch in train_loader_MSE:\n",
    "        inputs, targets = batch\n",
    "        if last == True:\n",
    "            x, epoch_history = model.forward(130, inputs, last=last)\n",
    "        else:\n",
    "            x = model.forward(130, inputs, last=last)\n",
    "            \n",
    "        b = get_rgb(x)\n",
    "        out = loss1(b,targets)\n",
    "        print(\"Loss =\", out)\n",
    "        loss_mse.append(float(out))\n",
    "        c = b.detach().clone()\n",
    "        if (i % 5 == 0):\n",
    "            print(\"EPOCH: \", epoch)\n",
    "            display(ts(max_rgb(c)[0]))\n",
    "            del c\n",
    "            \n",
    "        i += 1\n",
    "        optimizer.zero_grad()\n",
    "        out.backward()\n",
    "        optimizer.step()"
   ]
  },
  {
   "cell_type": "code",
   "execution_count": 19,
   "id": "lesbian-egyptian",
   "metadata": {},
   "outputs": [],
   "source": [
    "torch.save(model, 'modelMSE.pth')"
   ]
  },
  {
   "cell_type": "code",
   "execution_count": 25,
   "id": "amino-trademark",
   "metadata": {},
   "outputs": [],
   "source": [
    "from array2gif import write_gif\n",
    "eh = [(max_rgb(epoch_history[i])[1]*255).cpu().detach().numpy() for i in range(len(epoch_history))]\n",
    "#eh = [(max_rgb(epoch_history[i][0])*255).cpu().detach().numpy() for i in range(len(epoch_history))]\n",
    "\n",
    "write_gif(eh, 'final.gif', fps=1)\n",
    "#eh[0].shape\n",
    "#torch.stack(epoch_history)[0].shape"
   ]
  },
  {
   "cell_type": "code",
   "execution_count": 13,
   "id": "minor-techno",
   "metadata": {
    "scrolled": true
   },
   "outputs": [
    {
     "name": "stdout",
     "output_type": "stream",
     "text": [
      "Loss = tensor(1.8029, device='cuda:0', grad_fn=<NllLoss2DBackward>)\n",
      "EPOCH:  0\n"
     ]
    },
    {
     "data": {
      "image/png": "[encoded data removed]",
      "text/plain": [
       "<PIL.Image.Image image mode=RGB size=60x60 at 0x7F6320084070>"
      ]
     },
     "metadata": {},
     "output_type": "display_data"
    },
    {
     "name": "stdout",
     "output_type": "stream",
     "text": [
      "Learning rate:  0.00036\n",
      "Loss = tensor(1.8030, device='cuda:0', grad_fn=<NllLoss2DBackward>)\n",
      "Loss = tensor(1.8023, device='cuda:0', grad_fn=<NllLoss2DBackward>)\n",
      "Loss = tensor(1.8019, device='cuda:0', grad_fn=<NllLoss2DBackward>)\n",
      "Loss = tensor(1.8022, device='cuda:0', grad_fn=<NllLoss2DBackward>)\n",
      "Loss = tensor(1.8015, device='cuda:0', grad_fn=<NllLoss2DBackward>)\n",
      "EPOCH:  0\n"
     ]
    },
    {
     "data": {
      "image/png": "[encoded data removed]",
      "text/plain": [
       "<PIL.Image.Image image mode=RGB size=60x60 at 0x7F6397FE72E0>"
      ]
     },
     "metadata": {},
     "output_type": "display_data"
    },
    {
     "name": "stdout",
     "output_type": "stream",
     "text": [
      "Learning rate:  0.00036\n",
      "Loss = tensor(1.8014, device='cuda:0', grad_fn=<NllLoss2DBackward>)\n",
      "Loss = tensor(1.8004, device='cuda:0', grad_fn=<NllLoss2DBackward>)\n",
      "Loss = tensor(1.8007, device='cuda:0', grad_fn=<NllLoss2DBackward>)\n",
      "Loss = tensor(1.8002, device='cuda:0', grad_fn=<NllLoss2DBackward>)\n",
      "Loss = tensor(1.8010, device='cuda:0', grad_fn=<NllLoss2DBackward>)\n",
      "EPOCH:  0\n"
     ]
    },
    {
     "data": {
      "image/png": "[encoded data removed]",
      "text/plain": [
       "<PIL.Image.Image image mode=RGB size=60x60 at 0x7F6320084070>"
      ]
     },
     "metadata": {},
     "output_type": "display_data"
    },
    {
     "name": "stdout",
     "output_type": "stream",
     "text": [
      "Learning rate:  0.00036\n",
      "Loss = tensor(1.8005, device='cuda:0', grad_fn=<NllLoss2DBackward>)\n",
      "Loss = tensor(1.8008, device='cuda:0', grad_fn=<NllLoss2DBackward>)\n",
      "EPOCH:  1\n"
     ]
    },
    {
     "data": {
      "image/png": "[encoded data removed]",
      "text/plain": [
       "<PIL.Image.Image image mode=RGB size=60x60 at 0x7F6328923970>"
      ]
     },
     "metadata": {},
     "output_type": "display_data"
    },
    {
     "name": "stdout",
     "output_type": "stream",
     "text": [
      "Learning rate:  0.00036\n",
      "Loss = tensor(1.7987, device='cuda:0', grad_fn=<NllLoss2DBackward>)\n",
      "Loss = tensor(1.7989, device='cuda:0', grad_fn=<NllLoss2DBackward>)\n",
      "Loss = tensor(1.7982, device='cuda:0', grad_fn=<NllLoss2DBackward>)\n",
      "Loss = tensor(1.7980, device='cuda:0', grad_fn=<NllLoss2DBackward>)\n",
      "Loss = tensor(1.7982, device='cuda:0', grad_fn=<NllLoss2DBackward>)\n",
      "EPOCH:  1\n"
     ]
    },
    {
     "data": {
      "image/png": "[encoded data removed]",
      "text/plain": [
       "<PIL.Image.Image image mode=RGB size=60x60 at 0x7F63AC85DF40>"
      ]
     },
     "metadata": {},
     "output_type": "display_data"
    },
    {
     "name": "stdout",
     "output_type": "stream",
     "text": [
      "Learning rate:  0.00036\n",
      "Loss = tensor(1.7975, device='cuda:0', grad_fn=<NllLoss2DBackward>)\n",
      "Loss = tensor(1.7975, device='cuda:0', grad_fn=<NllLoss2DBackward>)\n",
      "Loss = tensor(1.7974, device='cuda:0', grad_fn=<NllLoss2DBackward>)\n",
      "Loss = tensor(1.7970, device='cuda:0', grad_fn=<NllLoss2DBackward>)\n",
      "Loss = tensor(1.7968, device='cuda:0', grad_fn=<NllLoss2DBackward>)\n",
      "EPOCH:  1\n"
     ]
    },
    {
     "data": {
      "image/png": "[encoded data removed]",
      "text/plain": [
       "<PIL.Image.Image image mode=RGB size=60x60 at 0x7F6328923730>"
      ]
     },
     "metadata": {},
     "output_type": "display_data"
    },
    {
     "name": "stdout",
     "output_type": "stream",
     "text": [
      "Learning rate:  0.00036\n",
      "Loss = tensor(1.7967, device='cuda:0', grad_fn=<NllLoss2DBackward>)\n",
      "Loss = tensor(1.7950, device='cuda:0', grad_fn=<NllLoss2DBackward>)\n",
      "EPOCH:  2\n"
     ]
    },
    {
     "data": {
      "image/png": "[encoded data removed]",
      "text/plain": [
       "<PIL.Image.Image image mode=RGB size=60x60 at 0x7F6328923550>"
      ]
     },
     "metadata": {},
     "output_type": "display_data"
    },
    {
     "name": "stdout",
     "output_type": "stream",
     "text": [
      "Learning rate:  0.00036\n",
      "Loss = tensor(1.7951, device='cuda:0', grad_fn=<NllLoss2DBackward>)\n",
      "Loss = tensor(1.7964, device='cuda:0', grad_fn=<NllLoss2DBackward>)\n",
      "Loss = tensor(1.7959, device='cuda:0', grad_fn=<NllLoss2DBackward>)\n",
      "Loss = tensor(1.7945, device='cuda:0', grad_fn=<NllLoss2DBackward>)\n",
      "Loss = tensor(1.7942, device='cuda:0', grad_fn=<NllLoss2DBackward>)\n",
      "EPOCH:  2\n"
     ]
    },
    {
     "data": {
      "image/png": "[encoded data removed]",
      "text/plain": [
       "<PIL.Image.Image image mode=RGB size=60x60 at 0x7F6328923730>"
      ]
     },
     "metadata": {},
     "output_type": "display_data"
    },
    {
     "name": "stdout",
     "output_type": "stream",
     "text": [
      "Learning rate:  0.00036\n",
      "Loss = tensor(1.7929, device='cuda:0', grad_fn=<NllLoss2DBackward>)\n",
      "Loss = tensor(1.7932, device='cuda:0', grad_fn=<NllLoss2DBackward>)\n",
      "Loss = tensor(1.7925, device='cuda:0', grad_fn=<NllLoss2DBackward>)\n",
      "Loss = tensor(1.7923, device='cuda:0', grad_fn=<NllLoss2DBackward>)\n",
      "Loss = tensor(1.7922, device='cuda:0', grad_fn=<NllLoss2DBackward>)\n",
      "EPOCH:  2\n"
     ]
    },
    {
     "data": {
      "image/png": "[encoded data removed]",
      "text/plain": [
       "<PIL.Image.Image image mode=RGB size=60x60 at 0x7F63AC85DFD0>"
      ]
     },
     "metadata": {},
     "output_type": "display_data"
    },
    {
     "name": "stdout",
     "output_type": "stream",
     "text": [
      "Learning rate:  0.00036\n",
      "Loss = tensor(1.7894, device='cuda:0', grad_fn=<NllLoss2DBackward>)\n",
      "Loss = tensor(1.7926, device='cuda:0', grad_fn=<NllLoss2DBackward>)\n",
      "EPOCH:  3\n"
     ]
    },
    {
     "data": {
      "image/png": "[encoded data removed]",
      "text/plain": [
       "<PIL.Image.Image image mode=RGB size=60x60 at 0x7F6328923460>"
      ]
     },
     "metadata": {},
     "output_type": "display_data"
    },
    {
     "name": "stdout",
     "output_type": "stream",
     "text": [
      "Learning rate:  0.00036\n",
      "Loss = tensor(1.7898, device='cuda:0', grad_fn=<NllLoss2DBackward>)\n",
      "Loss = tensor(1.7886, device='cuda:0', grad_fn=<NllLoss2DBackward>)\n",
      "Loss = tensor(1.7896, device='cuda:0', grad_fn=<NllLoss2DBackward>)\n",
      "Loss = tensor(1.7873, device='cuda:0', grad_fn=<NllLoss2DBackward>)\n",
      "Loss = tensor(1.7871, device='cuda:0', grad_fn=<NllLoss2DBackward>)\n",
      "EPOCH:  3\n"
     ]
    },
    {
     "data": {
      "image/png": "[encoded data removed]",
      "text/plain": [
       "<PIL.Image.Image image mode=RGB size=60x60 at 0x7F6328923730>"
      ]
     },
     "metadata": {},
     "output_type": "display_data"
    },
    {
     "name": "stdout",
     "output_type": "stream",
     "text": [
      "Learning rate:  0.00036\n",
      "Loss = tensor(1.7862, device='cuda:0', grad_fn=<NllLoss2DBackward>)\n",
      "Loss = tensor(1.7854, device='cuda:0', grad_fn=<NllLoss2DBackward>)\n",
      "Loss = tensor(1.7850, device='cuda:0', grad_fn=<NllLoss2DBackward>)\n",
      "Loss = tensor(1.7862, device='cuda:0', grad_fn=<NllLoss2DBackward>)\n",
      "Loss = tensor(1.7824, device='cuda:0', grad_fn=<NllLoss2DBackward>)\n",
      "EPOCH:  3\n"
     ]
    },
    {
     "data": {
      "image/png": "[encoded data removed]",
      "text/plain": [
       "<PIL.Image.Image image mode=RGB size=60x60 at 0x7F6328923730>"
      ]
     },
     "metadata": {},
     "output_type": "display_data"
    },
    {
     "name": "stdout",
     "output_type": "stream",
     "text": [
      "Learning rate:  0.00036\n",
      "Loss = tensor(1.7819, device='cuda:0', grad_fn=<NllLoss2DBackward>)\n",
      "Loss = tensor(1.7801, device='cuda:0', grad_fn=<NllLoss2DBackward>)\n",
      "EPOCH:  4\n"
     ]
    },
    {
     "data": {
      "image/png": "[encoded data removed]",
      "text/plain": [
       "<PIL.Image.Image image mode=RGB size=60x60 at 0x7F6328923730>"
      ]
     },
     "metadata": {},
     "output_type": "display_data"
    },
    {
     "name": "stdout",
     "output_type": "stream",
     "text": [
      "Learning rate:  0.00036\n",
      "Loss = tensor(1.7805, device='cuda:0', grad_fn=<NllLoss2DBackward>)\n",
      "Loss = tensor(1.7829, device='cuda:0', grad_fn=<NllLoss2DBackward>)\n",
      "Loss = tensor(1.7802, device='cuda:0', grad_fn=<NllLoss2DBackward>)\n",
      "Loss = tensor(1.7750, device='cuda:0', grad_fn=<NllLoss2DBackward>)\n",
      "Loss = tensor(1.7774, device='cuda:0', grad_fn=<NllLoss2DBackward>)\n",
      "EPOCH:  4\n"
     ]
    },
    {
     "data": {
      "image/png": "[encoded data removed]",
      "text/plain": [
       "<PIL.Image.Image image mode=RGB size=60x60 at 0x7F6397FE7880>"
      ]
     },
     "metadata": {},
     "output_type": "display_data"
    },
    {
     "name": "stdout",
     "output_type": "stream",
     "text": [
      "Learning rate:  0.00036\n",
      "Loss = tensor(1.7722, device='cuda:0', grad_fn=<NllLoss2DBackward>)\n",
      "Loss = tensor(1.7756, device='cuda:0', grad_fn=<NllLoss2DBackward>)\n",
      "Loss = tensor(1.7682, device='cuda:0', grad_fn=<NllLoss2DBackward>)\n",
      "Loss = tensor(1.7671, device='cuda:0', grad_fn=<NllLoss2DBackward>)\n",
      "Loss = tensor(1.7661, device='cuda:0', grad_fn=<NllLoss2DBackward>)\n",
      "EPOCH:  4\n"
     ]
    },
    {
     "data": {
      "image/png": "[encoded data removed]",
      "text/plain": [
       "<PIL.Image.Image image mode=RGB size=60x60 at 0x7F6328923460>"
      ]
     },
     "metadata": {},
     "output_type": "display_data"
    },
    {
     "name": "stdout",
     "output_type": "stream",
     "text": [
      "Learning rate:  0.00036\n",
      "Loss = tensor(1.7635, device='cuda:0', grad_fn=<NllLoss2DBackward>)\n",
      "Loss = tensor(1.7689, device='cuda:0', grad_fn=<NllLoss2DBackward>)\n",
      "EPOCH:  5\n"
     ]
    },
    {
     "data": {
      "image/png": "[encoded data removed]",
      "text/plain": [
       "<PIL.Image.Image image mode=RGB size=60x60 at 0x7F6328923460>"
      ]
     },
     "metadata": {},
     "output_type": "display_data"
    },
    {
     "name": "stdout",
     "output_type": "stream",
     "text": [
      "Learning rate:  0.00036\n",
      "Loss = tensor(1.7581, device='cuda:0', grad_fn=<NllLoss2DBackward>)\n",
      "Loss = tensor(1.7555, device='cuda:0', grad_fn=<NllLoss2DBackward>)\n",
      "Loss = tensor(1.7626, device='cuda:0', grad_fn=<NllLoss2DBackward>)\n",
      "Loss = tensor(1.7501, device='cuda:0', grad_fn=<NllLoss2DBackward>)\n",
      "Loss = tensor(1.7466, device='cuda:0', grad_fn=<NllLoss2DBackward>)\n",
      "EPOCH:  5\n"
     ]
    },
    {
     "data": {
      "image/png": "[encoded data removed]",
      "text/plain": [
       "<PIL.Image.Image image mode=RGB size=60x60 at 0x7F6328923550>"
      ]
     },
     "metadata": {},
     "output_type": "display_data"
    },
    {
     "name": "stdout",
     "output_type": "stream",
     "text": [
      "Learning rate:  0.00036\n",
      "Loss = tensor(1.7546, device='cuda:0', grad_fn=<NllLoss2DBackward>)\n",
      "Loss = tensor(1.7427, device='cuda:0', grad_fn=<NllLoss2DBackward>)\n",
      "Loss = tensor(1.7397, device='cuda:0', grad_fn=<NllLoss2DBackward>)\n",
      "Loss = tensor(1.7387, device='cuda:0', grad_fn=<NllLoss2DBackward>)\n",
      "Loss = tensor(1.7356, device='cuda:0', grad_fn=<NllLoss2DBackward>)\n",
      "EPOCH:  5\n"
     ]
    },
    {
     "data": {
      "image/png": "[encoded data removed]",
      "text/plain": [
       "<PIL.Image.Image image mode=RGB size=60x60 at 0x7F6328923730>"
      ]
     },
     "metadata": {},
     "output_type": "display_data"
    },
    {
     "name": "stdout",
     "output_type": "stream",
     "text": [
      "Learning rate:  0.00036\n",
      "Loss = tensor(1.7279, device='cuda:0', grad_fn=<NllLoss2DBackward>)\n",
      "Loss = tensor(1.7263, device='cuda:0', grad_fn=<NllLoss2DBackward>)\n",
      "EPOCH:  6\n"
     ]
    },
    {
     "data": {
      "image/png": "[encoded data removed]",
      "text/plain": [
       "<PIL.Image.Image image mode=RGB size=60x60 at 0x7F6397FE7880>"
      ]
     },
     "metadata": {},
     "output_type": "display_data"
    },
    {
     "name": "stdout",
     "output_type": "stream",
     "text": [
      "Learning rate:  0.00036\n",
      "Loss = tensor(1.7206, device='cuda:0', grad_fn=<NllLoss2DBackward>)\n",
      "Loss = tensor(1.7114, device='cuda:0', grad_fn=<NllLoss2DBackward>)\n",
      "Loss = tensor(1.7237, device='cuda:0', grad_fn=<NllLoss2DBackward>)\n",
      "Loss = tensor(1.7125, device='cuda:0', grad_fn=<NllLoss2DBackward>)\n",
      "Loss = tensor(1.7010, device='cuda:0', grad_fn=<NllLoss2DBackward>)\n",
      "EPOCH:  6\n"
     ]
    },
    {
     "data": {
      "image/png": "[encoded data removed]",
      "text/plain": [
       "<PIL.Image.Image image mode=RGB size=60x60 at 0x7F6397FE7EE0>"
      ]
     },
     "metadata": {},
     "output_type": "display_data"
    },
    {
     "name": "stdout",
     "output_type": "stream",
     "text": [
      "Learning rate:  0.00036\n",
      "Loss = tensor(1.7037, device='cuda:0', grad_fn=<NllLoss2DBackward>)\n",
      "Loss = tensor(1.6954, device='cuda:0', grad_fn=<NllLoss2DBackward>)\n",
      "Loss = tensor(1.6868, device='cuda:0', grad_fn=<NllLoss2DBackward>)\n",
      "Loss = tensor(1.6851, device='cuda:0', grad_fn=<NllLoss2DBackward>)\n",
      "Loss = tensor(1.6851, device='cuda:0', grad_fn=<NllLoss2DBackward>)\n",
      "EPOCH:  6\n"
     ]
    },
    {
     "data": {
      "image/png": "[encoded data removed]",
      "text/plain": [
       "<PIL.Image.Image image mode=RGB size=60x60 at 0x7F6397FE7880>"
      ]
     },
     "metadata": {},
     "output_type": "display_data"
    },
    {
     "name": "stdout",
     "output_type": "stream",
     "text": [
      "Learning rate:  0.00036\n",
      "Loss = tensor(1.6703, device='cuda:0', grad_fn=<NllLoss2DBackward>)\n",
      "Loss = tensor(1.6645, device='cuda:0', grad_fn=<NllLoss2DBackward>)\n",
      "EPOCH:  7\n"
     ]
    },
    {
     "data": {
      "image/png": "[encoded data removed]",
      "text/plain": [
       "<PIL.Image.Image image mode=RGB size=60x60 at 0x7F6328923460>"
      ]
     },
     "metadata": {},
     "output_type": "display_data"
    },
    {
     "name": "stdout",
     "output_type": "stream",
     "text": [
      "Learning rate:  0.00036\n",
      "Loss = tensor(1.6660, device='cuda:0', grad_fn=<NllLoss2DBackward>)\n",
      "Loss = tensor(1.6862, device='cuda:0', grad_fn=<NllLoss2DBackward>)\n",
      "Loss = tensor(1.6732, device='cuda:0', grad_fn=<NllLoss2DBackward>)\n",
      "Loss = tensor(1.6374, device='cuda:0', grad_fn=<NllLoss2DBackward>)\n",
      "Loss = tensor(1.6804, device='cuda:0', grad_fn=<NllLoss2DBackward>)\n",
      "EPOCH:  7\n"
     ]
    },
    {
     "data": {
      "image/png": "[encoded data removed]",
      "text/plain": [
       "<PIL.Image.Image image mode=RGB size=60x60 at 0x7F6328923730>"
      ]
     },
     "metadata": {},
     "output_type": "display_data"
    },
    {
     "name": "stdout",
     "output_type": "stream",
     "text": [
      "Learning rate:  0.00036\n",
      "Loss = tensor(1.6506, device='cuda:0', grad_fn=<NllLoss2DBackward>)\n",
      "Loss = tensor(1.6546, device='cuda:0', grad_fn=<NllLoss2DBackward>)\n",
      "Loss = tensor(1.6437, device='cuda:0', grad_fn=<NllLoss2DBackward>)\n",
      "Loss = tensor(1.6415, device='cuda:0', grad_fn=<NllLoss2DBackward>)\n",
      "Loss = tensor(1.6254, device='cuda:0', grad_fn=<NllLoss2DBackward>)\n",
      "EPOCH:  7\n"
     ]
    },
    {
     "data": {
      "image/png": "[encoded data removed]",
      "text/plain": [
       "<PIL.Image.Image image mode=RGB size=60x60 at 0x7F6328923460>"
      ]
     },
     "metadata": {},
     "output_type": "display_data"
    },
    {
     "name": "stdout",
     "output_type": "stream",
     "text": [
      "Learning rate:  0.00036\n",
      "Loss = tensor(1.6254, device='cuda:0', grad_fn=<NllLoss2DBackward>)\n",
      "Loss = tensor(1.6210, device='cuda:0', grad_fn=<NllLoss2DBackward>)\n",
      "EPOCH:  8\n"
     ]
    },
    {
     "data": {
      "image/png": "[encoded data removed]",
      "text/plain": [
       "<PIL.Image.Image image mode=RGB size=60x60 at 0x7F6328923460>"
      ]
     },
     "metadata": {},
     "output_type": "display_data"
    },
    {
     "name": "stdout",
     "output_type": "stream",
     "text": [
      "Learning rate:  0.00036\n",
      "Loss = tensor(1.6246, device='cuda:0', grad_fn=<NllLoss2DBackward>)\n",
      "Loss = tensor(1.6039, device='cuda:0', grad_fn=<NllLoss2DBackward>)\n",
      "Loss = tensor(1.6242, device='cuda:0', grad_fn=<NllLoss2DBackward>)\n",
      "Loss = tensor(1.6419, device='cuda:0', grad_fn=<NllLoss2DBackward>)\n",
      "Loss = tensor(1.6192, device='cuda:0', grad_fn=<NllLoss2DBackward>)\n",
      "EPOCH:  8\n"
     ]
    },
    {
     "data": {
      "image/png": "[encoded data removed]",
      "text/plain": [
       "<PIL.Image.Image image mode=RGB size=60x60 at 0x7F6397FE7EE0>"
      ]
     },
     "metadata": {},
     "output_type": "display_data"
    },
    {
     "name": "stdout",
     "output_type": "stream",
     "text": [
      "Learning rate:  0.00036\n",
      "Loss = tensor(1.6027, device='cuda:0', grad_fn=<NllLoss2DBackward>)\n",
      "Loss = tensor(1.6339, device='cuda:0', grad_fn=<NllLoss2DBackward>)\n",
      "Loss = tensor(1.6098, device='cuda:0', grad_fn=<NllLoss2DBackward>)\n",
      "Loss = tensor(1.6262, device='cuda:0', grad_fn=<NllLoss2DBackward>)\n",
      "Loss = tensor(1.6013, device='cuda:0', grad_fn=<NllLoss2DBackward>)\n",
      "EPOCH:  8\n"
     ]
    },
    {
     "data": {
      "image/png": "[encoded data removed]",
      "text/plain": [
       "<PIL.Image.Image image mode=RGB size=60x60 at 0x7F6328923730>"
      ]
     },
     "metadata": {},
     "output_type": "display_data"
    },
    {
     "name": "stdout",
     "output_type": "stream",
     "text": [
      "Learning rate:  0.00036\n",
      "Loss = tensor(1.6025, device='cuda:0', grad_fn=<NllLoss2DBackward>)\n",
      "Loss = tensor(1.5919, device='cuda:0', grad_fn=<NllLoss2DBackward>)\n",
      "EPOCH:  9\n"
     ]
    },
    {
     "data": {
      "image/png": "[encoded data removed]",
      "text/plain": [
       "<PIL.Image.Image image mode=RGB size=60x60 at 0x7F6397FE72E0>"
      ]
     },
     "metadata": {},
     "output_type": "display_data"
    },
    {
     "name": "stdout",
     "output_type": "stream",
     "text": [
      "Learning rate:  0.00036\n",
      "Loss = tensor(1.5895, device='cuda:0', grad_fn=<NllLoss2DBackward>)\n",
      "Loss = tensor(1.6159, device='cuda:0', grad_fn=<NllLoss2DBackward>)\n",
      "Loss = tensor(1.5910, device='cuda:0', grad_fn=<NllLoss2DBackward>)\n",
      "Loss = tensor(1.5910, device='cuda:0', grad_fn=<NllLoss2DBackward>)\n",
      "Loss = tensor(1.5689, device='cuda:0', grad_fn=<NllLoss2DBackward>)\n",
      "EPOCH:  9\n"
     ]
    },
    {
     "data": {
      "image/png": "[encoded data removed]",
      "text/plain": [
       "<PIL.Image.Image image mode=RGB size=60x60 at 0x7F6397FE72E0>"
      ]
     },
     "metadata": {},
     "output_type": "display_data"
    },
    {
     "name": "stdout",
     "output_type": "stream",
     "text": [
      "Learning rate:  0.00036\n",
      "Loss = tensor(1.5731, device='cuda:0', grad_fn=<NllLoss2DBackward>)\n",
      "Loss = tensor(1.5886, device='cuda:0', grad_fn=<NllLoss2DBackward>)\n",
      "Loss = tensor(1.5830, device='cuda:0', grad_fn=<NllLoss2DBackward>)\n",
      "Loss = tensor(1.5931, device='cuda:0', grad_fn=<NllLoss2DBackward>)\n",
      "Loss = tensor(1.5855, device='cuda:0', grad_fn=<NllLoss2DBackward>)\n",
      "EPOCH:  9\n"
     ]
    },
    {
     "data": {
      "image/png": "[encoded data removed]",
      "text/plain": [
       "<PIL.Image.Image image mode=RGB size=60x60 at 0x7F63AC85DF40>"
      ]
     },
     "metadata": {},
     "output_type": "display_data"
    },
    {
     "name": "stdout",
     "output_type": "stream",
     "text": [
      "Learning rate:  0.00036\n",
      "Loss = tensor(1.5736, device='cuda:0', grad_fn=<NllLoss2DBackward>)\n",
      "Loss = tensor(1.5600, device='cuda:0', grad_fn=<NllLoss2DBackward>)\n",
      "EPOCH:  10\n"
     ]
    },
    {
     "data": {
      "image/png": "[encoded data removed]",
      "text/plain": [
       "<PIL.Image.Image image mode=RGB size=60x60 at 0x7F6320084760>"
      ]
     },
     "metadata": {},
     "output_type": "display_data"
    },
    {
     "name": "stdout",
     "output_type": "stream",
     "text": [
      "Learning rate:  0.00036\n",
      "Loss = tensor(1.5884, device='cuda:0', grad_fn=<NllLoss2DBackward>)\n",
      "Loss = tensor(1.5665, device='cuda:0', grad_fn=<NllLoss2DBackward>)\n",
      "Loss = tensor(1.5787, device='cuda:0', grad_fn=<NllLoss2DBackward>)\n",
      "Loss = tensor(1.5596, device='cuda:0', grad_fn=<NllLoss2DBackward>)\n",
      "Loss = tensor(1.5926, device='cuda:0', grad_fn=<NllLoss2DBackward>)\n",
      "EPOCH:  10\n"
     ]
    },
    {
     "data": {
      "image/png": "[encoded data removed]",
      "text/plain": [
       "<PIL.Image.Image image mode=RGB size=60x60 at 0x7F63AC842A90>"
      ]
     },
     "metadata": {},
     "output_type": "display_data"
    },
    {
     "name": "stdout",
     "output_type": "stream",
     "text": [
      "Learning rate:  0.00036\n",
      "Loss = tensor(1.5413, device='cuda:0', grad_fn=<NllLoss2DBackward>)\n",
      "Loss = tensor(1.5638, device='cuda:0', grad_fn=<NllLoss2DBackward>)\n",
      "Loss = tensor(1.5676, device='cuda:0', grad_fn=<NllLoss2DBackward>)\n",
      "Loss = tensor(1.5489, device='cuda:0', grad_fn=<NllLoss2DBackward>)\n",
      "Loss = tensor(1.5584, device='cuda:0', grad_fn=<NllLoss2DBackward>)\n",
      "EPOCH:  10\n"
     ]
    },
    {
     "data": {
      "image/png": "[encoded data removed]",
      "text/plain": [
       "<PIL.Image.Image image mode=RGB size=60x60 at 0x7F6328923460>"
      ]
     },
     "metadata": {},
     "output_type": "display_data"
    },
    {
     "name": "stdout",
     "output_type": "stream",
     "text": [
      "Learning rate:  0.00036\n",
      "Loss = tensor(1.5469, device='cuda:0', grad_fn=<NllLoss2DBackward>)\n",
      "Loss = tensor(1.5866, device='cuda:0', grad_fn=<NllLoss2DBackward>)\n",
      "EPOCH:  11\n"
     ]
    },
    {
     "data": {
      "image/png": "[encoded data removed]",
      "text/plain": [
       "<PIL.Image.Image image mode=RGB size=60x60 at 0x7F6320084070>"
      ]
     },
     "metadata": {},
     "output_type": "display_data"
    },
    {
     "name": "stdout",
     "output_type": "stream",
     "text": [
      "Learning rate:  0.00036\n",
      "Loss = tensor(1.5518, device='cuda:0', grad_fn=<NllLoss2DBackward>)\n",
      "Loss = tensor(1.5482, device='cuda:0', grad_fn=<NllLoss2DBackward>)\n",
      "Loss = tensor(1.5568, device='cuda:0', grad_fn=<NllLoss2DBackward>)\n",
      "Loss = tensor(1.5741, device='cuda:0', grad_fn=<NllLoss2DBackward>)\n",
      "Loss = tensor(1.5637, device='cuda:0', grad_fn=<NllLoss2DBackward>)\n",
      "EPOCH:  11\n"
     ]
    },
    {
     "data": {
      "image/png": "[encoded data removed]",
      "text/plain": [
       "<PIL.Image.Image image mode=RGB size=60x60 at 0x7F6320084760>"
      ]
     },
     "metadata": {},
     "output_type": "display_data"
    },
    {
     "name": "stdout",
     "output_type": "stream",
     "text": [
      "Learning rate:  0.00036\n",
      "Loss = tensor(1.5341, device='cuda:0', grad_fn=<NllLoss2DBackward>)\n",
      "Loss = tensor(1.5724, device='cuda:0', grad_fn=<NllLoss2DBackward>)\n",
      "Loss = tensor(1.5414, device='cuda:0', grad_fn=<NllLoss2DBackward>)\n",
      "Loss = tensor(1.5175, device='cuda:0', grad_fn=<NllLoss2DBackward>)\n",
      "Loss = tensor(1.5433, device='cuda:0', grad_fn=<NllLoss2DBackward>)\n",
      "EPOCH:  11\n"
     ]
    },
    {
     "data": {
      "image/png": "[encoded data removed]",
      "text/plain": [
       "<PIL.Image.Image image mode=RGB size=60x60 at 0x7F6320084760>"
      ]
     },
     "metadata": {},
     "output_type": "display_data"
    },
    {
     "name": "stdout",
     "output_type": "stream",
     "text": [
      "Learning rate:  0.00036\n",
      "Loss = tensor(1.5437, device='cuda:0', grad_fn=<NllLoss2DBackward>)\n",
      "Loss = tensor(1.5385, device='cuda:0', grad_fn=<NllLoss2DBackward>)\n",
      "EPOCH:  12\n"
     ]
    },
    {
     "data": {
      "image/png": "[encoded data removed]",
      "text/plain": [
       "<PIL.Image.Image image mode=RGB size=60x60 at 0x7F6320084070>"
      ]
     },
     "metadata": {},
     "output_type": "display_data"
    },
    {
     "name": "stdout",
     "output_type": "stream",
     "text": [
      "Learning rate:  0.00036\n",
      "Loss = tensor(1.5449, device='cuda:0', grad_fn=<NllLoss2DBackward>)\n",
      "Loss = tensor(1.5513, device='cuda:0', grad_fn=<NllLoss2DBackward>)\n",
      "Loss = tensor(1.5629, device='cuda:0', grad_fn=<NllLoss2DBackward>)\n",
      "Loss = tensor(1.5234, device='cuda:0', grad_fn=<NllLoss2DBackward>)\n",
      "Loss = tensor(1.5417, device='cuda:0', grad_fn=<NllLoss2DBackward>)\n",
      "EPOCH:  12\n"
     ]
    },
    {
     "data": {
      "image/png": "[encoded data removed]",
      "text/plain": [
       "<PIL.Image.Image image mode=RGB size=60x60 at 0x7F63AC85DFD0>"
      ]
     },
     "metadata": {},
     "output_type": "display_data"
    },
    {
     "name": "stdout",
     "output_type": "stream",
     "text": [
      "Learning rate:  0.00036\n",
      "Loss = tensor(1.5229, device='cuda:0', grad_fn=<NllLoss2DBackward>)\n",
      "Loss = tensor(1.5500, device='cuda:0', grad_fn=<NllLoss2DBackward>)\n",
      "Loss = tensor(1.5559, device='cuda:0', grad_fn=<NllLoss2DBackward>)\n",
      "Loss = tensor(1.5591, device='cuda:0', grad_fn=<NllLoss2DBackward>)\n",
      "Loss = tensor(1.5336, device='cuda:0', grad_fn=<NllLoss2DBackward>)\n",
      "EPOCH:  12\n"
     ]
    },
    {
     "data": {
      "image/png": "[encoded data removed]",
      "text/plain": [
       "<PIL.Image.Image image mode=RGB size=60x60 at 0x7F6320084AF0>"
      ]
     },
     "metadata": {},
     "output_type": "display_data"
    },
    {
     "name": "stdout",
     "output_type": "stream",
     "text": [
      "Learning rate:  0.00036\n",
      "Loss = tensor(1.5655, device='cuda:0', grad_fn=<NllLoss2DBackward>)\n",
      "Loss = tensor(1.5109, device='cuda:0', grad_fn=<NllLoss2DBackward>)\n",
      "EPOCH:  13\n"
     ]
    },
    {
     "data": {
      "image/png": "[encoded data removed]",
      "text/plain": [
       "<PIL.Image.Image image mode=RGB size=60x60 at 0x7F6320084AF0>"
      ]
     },
     "metadata": {},
     "output_type": "display_data"
    },
    {
     "name": "stdout",
     "output_type": "stream",
     "text": [
      "Learning rate:  0.00036\n",
      "Loss = tensor(1.5604, device='cuda:0', grad_fn=<NllLoss2DBackward>)\n",
      "Loss = tensor(1.5380, device='cuda:0', grad_fn=<NllLoss2DBackward>)\n",
      "Loss = tensor(1.5249, device='cuda:0', grad_fn=<NllLoss2DBackward>)\n",
      "Loss = tensor(1.5349, device='cuda:0', grad_fn=<NllLoss2DBackward>)\n",
      "Loss = tensor(1.5635, device='cuda:0', grad_fn=<NllLoss2DBackward>)\n",
      "EPOCH:  13\n"
     ]
    },
    {
     "data": {
      "image/png": "[encoded data removed]",
      "text/plain": [
       "<PIL.Image.Image image mode=RGB size=60x60 at 0x7F63AC85DF40>"
      ]
     },
     "metadata": {},
     "output_type": "display_data"
    },
    {
     "name": "stdout",
     "output_type": "stream",
     "text": [
      "Learning rate:  0.00036\n",
      "Loss = tensor(1.5380, device='cuda:0', grad_fn=<NllLoss2DBackward>)\n",
      "Loss = tensor(1.5367, device='cuda:0', grad_fn=<NllLoss2DBackward>)\n",
      "Loss = tensor(1.5277, device='cuda:0', grad_fn=<NllLoss2DBackward>)\n",
      "Loss = tensor(1.5638, device='cuda:0', grad_fn=<NllLoss2DBackward>)\n",
      "Loss = tensor(1.5279, device='cuda:0', grad_fn=<NllLoss2DBackward>)\n",
      "EPOCH:  13\n"
     ]
    },
    {
     "data": {
      "image/png": "[encoded data removed]",
      "text/plain": [
       "<PIL.Image.Image image mode=RGB size=60x60 at 0x7F6328923730>"
      ]
     },
     "metadata": {},
     "output_type": "display_data"
    },
    {
     "name": "stdout",
     "output_type": "stream",
     "text": [
      "Learning rate:  0.00036\n",
      "Loss = tensor(1.5419, device='cuda:0', grad_fn=<NllLoss2DBackward>)\n",
      "Loss = tensor(1.5628, device='cuda:0', grad_fn=<NllLoss2DBackward>)\n",
      "EPOCH:  14\n"
     ]
    },
    {
     "data": {
      "image/png": "[encoded data removed]",
      "text/plain": [
       "<PIL.Image.Image image mode=RGB size=60x60 at 0x7F6328923730>"
      ]
     },
     "metadata": {},
     "output_type": "display_data"
    },
    {
     "name": "stdout",
     "output_type": "stream",
     "text": [
      "Learning rate:  0.00036\n",
      "Loss = tensor(1.5452, device='cuda:0', grad_fn=<NllLoss2DBackward>)\n",
      "Loss = tensor(1.5445, device='cuda:0', grad_fn=<NllLoss2DBackward>)\n",
      "Loss = tensor(1.4980, device='cuda:0', grad_fn=<NllLoss2DBackward>)\n",
      "Loss = tensor(1.5421, device='cuda:0', grad_fn=<NllLoss2DBackward>)\n",
      "Loss = tensor(1.5356, device='cuda:0', grad_fn=<NllLoss2DBackward>)\n",
      "EPOCH:  14\n"
     ]
    },
    {
     "data": {
      "image/png": "[encoded data removed]",
      "text/plain": [
       "<PIL.Image.Image image mode=RGB size=60x60 at 0x7F6328923460>"
      ]
     },
     "metadata": {},
     "output_type": "display_data"
    },
    {
     "name": "stdout",
     "output_type": "stream",
     "text": [
      "Learning rate:  0.00036\n",
      "Loss = tensor(1.5303, device='cuda:0', grad_fn=<NllLoss2DBackward>)\n",
      "Loss = tensor(1.5401, device='cuda:0', grad_fn=<NllLoss2DBackward>)\n",
      "Loss = tensor(1.5010, device='cuda:0', grad_fn=<NllLoss2DBackward>)\n",
      "Loss = tensor(1.5290, device='cuda:0', grad_fn=<NllLoss2DBackward>)\n",
      "Loss = tensor(1.5330, device='cuda:0', grad_fn=<NllLoss2DBackward>)\n",
      "EPOCH:  14\n"
     ]
    },
    {
     "data": {
      "image/png": "[encoded data removed]",
      "text/plain": [
       "<PIL.Image.Image image mode=RGB size=60x60 at 0x7F6328923730>"
      ]
     },
     "metadata": {},
     "output_type": "display_data"
    },
    {
     "name": "stdout",
     "output_type": "stream",
     "text": [
      "Learning rate:  0.00036\n",
      "Loss = tensor(1.5123, device='cuda:0', grad_fn=<NllLoss2DBackward>)\n",
      "Loss = tensor(1.5448, device='cuda:0', grad_fn=<NllLoss2DBackward>)\n",
      "EPOCH:  15\n"
     ]
    },
    {
     "data": {
      "image/png": "[encoded data removed]",
      "text/plain": [
       "<PIL.Image.Image image mode=RGB size=60x60 at 0x7F63AC85DFD0>"
      ]
     },
     "metadata": {},
     "output_type": "display_data"
    },
    {
     "name": "stdout",
     "output_type": "stream",
     "text": [
      "Learning rate:  0.00036\n",
      "Loss = tensor(1.5229, device='cuda:0', grad_fn=<NllLoss2DBackward>)\n",
      "Loss = tensor(1.5284, device='cuda:0', grad_fn=<NllLoss2DBackward>)\n",
      "Loss = tensor(1.5268, device='cuda:0', grad_fn=<NllLoss2DBackward>)\n",
      "Loss = tensor(1.4949, device='cuda:0', grad_fn=<NllLoss2DBackward>)\n",
      "Loss = tensor(1.5485, device='cuda:0', grad_fn=<NllLoss2DBackward>)\n",
      "EPOCH:  15\n"
     ]
    },
    {
     "data": {
      "image/png": "[encoded data removed]",
      "text/plain": [
       "<PIL.Image.Image image mode=RGB size=60x60 at 0x7F6320084AF0>"
      ]
     },
     "metadata": {},
     "output_type": "display_data"
    },
    {
     "name": "stdout",
     "output_type": "stream",
     "text": [
      "Learning rate:  0.00036\n",
      "Loss = tensor(1.5075, device='cuda:0', grad_fn=<NllLoss2DBackward>)\n",
      "Loss = tensor(1.5493, device='cuda:0', grad_fn=<NllLoss2DBackward>)\n",
      "Loss = tensor(1.5113, device='cuda:0', grad_fn=<NllLoss2DBackward>)\n",
      "Loss = tensor(1.5260, device='cuda:0', grad_fn=<NllLoss2DBackward>)\n",
      "Loss = tensor(1.5109, device='cuda:0', grad_fn=<NllLoss2DBackward>)\n",
      "EPOCH:  15\n"
     ]
    },
    {
     "data": {
      "image/png": "[encoded data removed]",
      "text/plain": [
       "<PIL.Image.Image image mode=RGB size=60x60 at 0x7F63AC85DF40>"
      ]
     },
     "metadata": {},
     "output_type": "display_data"
    },
    {
     "name": "stdout",
     "output_type": "stream",
     "text": [
      "Learning rate:  0.00036\n",
      "Loss = tensor(1.5010, device='cuda:0', grad_fn=<NllLoss2DBackward>)\n",
      "Loss = tensor(1.5406, device='cuda:0', grad_fn=<NllLoss2DBackward>)\n",
      "EPOCH:  16\n"
     ]
    },
    {
     "data": {
      "image/png": "[encoded data removed]",
      "text/plain": [
       "<PIL.Image.Image image mode=RGB size=60x60 at 0x7F63AC85DFD0>"
      ]
     },
     "metadata": {},
     "output_type": "display_data"
    },
    {
     "name": "stdout",
     "output_type": "stream",
     "text": [
      "Learning rate:  0.00036\n",
      "Loss = tensor(1.5343, device='cuda:0', grad_fn=<NllLoss2DBackward>)\n",
      "Loss = tensor(1.5258, device='cuda:0', grad_fn=<NllLoss2DBackward>)\n",
      "Loss = tensor(1.5025, device='cuda:0', grad_fn=<NllLoss2DBackward>)\n",
      "Loss = tensor(1.5058, device='cuda:0', grad_fn=<NllLoss2DBackward>)\n",
      "Loss = tensor(1.4925, device='cuda:0', grad_fn=<NllLoss2DBackward>)\n",
      "EPOCH:  16\n"
     ]
    },
    {
     "data": {
      "image/png": "[encoded data removed]",
      "text/plain": [
       "<PIL.Image.Image image mode=RGB size=60x60 at 0x7F63AC85DF40>"
      ]
     },
     "metadata": {},
     "output_type": "display_data"
    },
    {
     "name": "stdout",
     "output_type": "stream",
     "text": [
      "Learning rate:  0.00036\n",
      "Loss = tensor(1.5122, device='cuda:0', grad_fn=<NllLoss2DBackward>)\n",
      "Loss = tensor(1.4936, device='cuda:0', grad_fn=<NllLoss2DBackward>)\n",
      "Loss = tensor(1.5134, device='cuda:0', grad_fn=<NllLoss2DBackward>)\n",
      "Loss = tensor(1.5017, device='cuda:0', grad_fn=<NllLoss2DBackward>)\n",
      "Loss = tensor(1.4711, device='cuda:0', grad_fn=<NllLoss2DBackward>)\n",
      "EPOCH:  16\n"
     ]
    },
    {
     "data": {
      "image/png": "[encoded data removed]",
      "text/plain": [
       "<PIL.Image.Image image mode=RGB size=60x60 at 0x7F63AC85DF40>"
      ]
     },
     "metadata": {},
     "output_type": "display_data"
    },
    {
     "name": "stdout",
     "output_type": "stream",
     "text": [
      "Learning rate:  0.00036\n",
      "Loss = tensor(1.5420, device='cuda:0', grad_fn=<NllLoss2DBackward>)\n",
      "Loss = tensor(1.5288, device='cuda:0', grad_fn=<NllLoss2DBackward>)\n",
      "EPOCH:  17\n"
     ]
    },
    {
     "data": {
      "image/png": "[encoded data removed]",
      "text/plain": [
       "<PIL.Image.Image image mode=RGB size=60x60 at 0x7F6328923460>"
      ]
     },
     "metadata": {},
     "output_type": "display_data"
    },
    {
     "name": "stdout",
     "output_type": "stream",
     "text": [
      "Learning rate:  0.00036\n",
      "Loss = tensor(1.4958, device='cuda:0', grad_fn=<NllLoss2DBackward>)\n",
      "Loss = tensor(1.5156, device='cuda:0', grad_fn=<NllLoss2DBackward>)\n",
      "Loss = tensor(1.4958, device='cuda:0', grad_fn=<NllLoss2DBackward>)\n",
      "Loss = tensor(1.4986, device='cuda:0', grad_fn=<NllLoss2DBackward>)\n",
      "Loss = tensor(1.4668, device='cuda:0', grad_fn=<NllLoss2DBackward>)\n",
      "EPOCH:  17\n"
     ]
    },
    {
     "data": {
      "image/png": "[encoded data removed]",
      "text/plain": [
       "<PIL.Image.Image image mode=RGB size=60x60 at 0x7F6328923460>"
      ]
     },
     "metadata": {},
     "output_type": "display_data"
    },
    {
     "name": "stdout",
     "output_type": "stream",
     "text": [
      "Learning rate:  0.00036\n",
      "Loss = tensor(1.5120, device='cuda:0', grad_fn=<NllLoss2DBackward>)\n",
      "Loss = tensor(1.4404, device='cuda:0', grad_fn=<NllLoss2DBackward>)\n",
      "Loss = tensor(1.4960, device='cuda:0', grad_fn=<NllLoss2DBackward>)\n",
      "Loss = tensor(1.5539, device='cuda:0', grad_fn=<NllLoss2DBackward>)\n",
      "Loss = tensor(1.4761, device='cuda:0', grad_fn=<NllLoss2DBackward>)\n",
      "EPOCH:  17\n"
     ]
    },
    {
     "data": {
      "image/png": "[encoded data removed]",
      "text/plain": [
       "<PIL.Image.Image image mode=RGB size=60x60 at 0x7F63AC85DFD0>"
      ]
     },
     "metadata": {},
     "output_type": "display_data"
    },
    {
     "name": "stdout",
     "output_type": "stream",
     "text": [
      "Learning rate:  0.00036\n",
      "Loss = tensor(1.4853, device='cuda:0', grad_fn=<NllLoss2DBackward>)\n",
      "Loss = tensor(1.4545, device='cuda:0', grad_fn=<NllLoss2DBackward>)\n",
      "EPOCH:  18\n"
     ]
    },
    {
     "data": {
      "image/png": "[encoded data removed]",
      "text/plain": [
       "<PIL.Image.Image image mode=RGB size=60x60 at 0x7F6320084760>"
      ]
     },
     "metadata": {},
     "output_type": "display_data"
    },
    {
     "name": "stdout",
     "output_type": "stream",
     "text": [
      "Learning rate:  0.00036\n",
      "Loss = tensor(1.4566, device='cuda:0', grad_fn=<NllLoss2DBackward>)\n",
      "Loss = tensor(1.4815, device='cuda:0', grad_fn=<NllLoss2DBackward>)\n",
      "Loss = tensor(1.4740, device='cuda:0', grad_fn=<NllLoss2DBackward>)\n",
      "Loss = tensor(1.5076, device='cuda:0', grad_fn=<NllLoss2DBackward>)\n",
      "Loss = tensor(1.4706, device='cuda:0', grad_fn=<NllLoss2DBackward>)\n",
      "EPOCH:  18\n"
     ]
    },
    {
     "data": {
      "image/png": "[encoded data removed]",
      "text/plain": [
       "<PIL.Image.Image image mode=RGB size=60x60 at 0x7F63AC85DFD0>"
      ]
     },
     "metadata": {},
     "output_type": "display_data"
    },
    {
     "name": "stdout",
     "output_type": "stream",
     "text": [
      "Learning rate:  0.00036\n",
      "Loss = tensor(1.4958, device='cuda:0', grad_fn=<NllLoss2DBackward>)\n",
      "Loss = tensor(1.5021, device='cuda:0', grad_fn=<NllLoss2DBackward>)\n",
      "Loss = tensor(1.5055, device='cuda:0', grad_fn=<NllLoss2DBackward>)\n",
      "Loss = tensor(1.5126, device='cuda:0', grad_fn=<NllLoss2DBackward>)\n",
      "Loss = tensor(1.4505, device='cuda:0', grad_fn=<NllLoss2DBackward>)\n",
      "EPOCH:  18\n"
     ]
    },
    {
     "data": {
      "image/png": "[encoded data removed]",
      "text/plain": [
       "<PIL.Image.Image image mode=RGB size=60x60 at 0x7F6320084760>"
      ]
     },
     "metadata": {},
     "output_type": "display_data"
    },
    {
     "name": "stdout",
     "output_type": "stream",
     "text": [
      "Learning rate:  0.00036\n",
      "Loss = tensor(1.4489, device='cuda:0', grad_fn=<NllLoss2DBackward>)\n",
      "Loss = tensor(1.4661, device='cuda:0', grad_fn=<NllLoss2DBackward>)\n",
      "EPOCH:  19\n"
     ]
    },
    {
     "data": {
      "image/png": "[encoded data removed]",
      "text/plain": [
       "<PIL.Image.Image image mode=RGB size=60x60 at 0x7F6320084070>"
      ]
     },
     "metadata": {},
     "output_type": "display_data"
    },
    {
     "name": "stdout",
     "output_type": "stream",
     "text": [
      "Learning rate:  0.00036\n",
      "Loss = tensor(1.4572, device='cuda:0', grad_fn=<NllLoss2DBackward>)\n",
      "Loss = tensor(1.4822, device='cuda:0', grad_fn=<NllLoss2DBackward>)\n",
      "Loss = tensor(1.4764, device='cuda:0', grad_fn=<NllLoss2DBackward>)\n",
      "Loss = tensor(1.4537, device='cuda:0', grad_fn=<NllLoss2DBackward>)\n",
      "Loss = tensor(1.4434, device='cuda:0', grad_fn=<NllLoss2DBackward>)\n",
      "EPOCH:  19\n"
     ]
    },
    {
     "data": {
      "image/png": "[encoded data removed]",
      "text/plain": [
       "<PIL.Image.Image image mode=RGB size=60x60 at 0x7F6328923460>"
      ]
     },
     "metadata": {},
     "output_type": "display_data"
    },
    {
     "name": "stdout",
     "output_type": "stream",
     "text": [
      "Learning rate:  0.00036\n",
      "Loss = tensor(1.4534, device='cuda:0', grad_fn=<NllLoss2DBackward>)\n",
      "Loss = tensor(1.4398, device='cuda:0', grad_fn=<NllLoss2DBackward>)\n",
      "Loss = tensor(1.4579, device='cuda:0', grad_fn=<NllLoss2DBackward>)\n",
      "Loss = tensor(1.4175, device='cuda:0', grad_fn=<NllLoss2DBackward>)\n",
      "Loss = tensor(1.4832, device='cuda:0', grad_fn=<NllLoss2DBackward>)\n",
      "EPOCH:  19\n"
     ]
    },
    {
     "data": {
      "image/png": "[encoded data removed]",
      "text/plain": [
       "<PIL.Image.Image image mode=RGB size=60x60 at 0x7F6328923730>"
      ]
     },
     "metadata": {},
     "output_type": "display_data"
    },
    {
     "name": "stdout",
     "output_type": "stream",
     "text": [
      "Learning rate:  0.00036\n",
      "Loss = tensor(1.4999, device='cuda:0', grad_fn=<NllLoss2DBackward>)\n",
      "Loss = tensor(1.4794, device='cuda:0', grad_fn=<NllLoss2DBackward>)\n",
      "EPOCH:  20\n"
     ]
    },
    {
     "data": {
      "image/png": "[encoded data removed]",
      "text/plain": [
       "<PIL.Image.Image image mode=RGB size=60x60 at 0x7F63AC85DFD0>"
      ]
     },
     "metadata": {},
     "output_type": "display_data"
    },
    {
     "name": "stdout",
     "output_type": "stream",
     "text": [
      "Learning rate:  0.00036\n",
      "Loss = tensor(1.4359, device='cuda:0', grad_fn=<NllLoss2DBackward>)\n",
      "Loss = tensor(1.4196, device='cuda:0', grad_fn=<NllLoss2DBackward>)\n",
      "Loss = tensor(1.4566, device='cuda:0', grad_fn=<NllLoss2DBackward>)\n",
      "Loss = tensor(1.4307, device='cuda:0', grad_fn=<NllLoss2DBackward>)\n",
      "Loss = tensor(1.4376, device='cuda:0', grad_fn=<NllLoss2DBackward>)\n",
      "EPOCH:  20\n"
     ]
    },
    {
     "data": {
      "image/png": "[encoded data removed]",
      "text/plain": [
       "<PIL.Image.Image image mode=RGB size=60x60 at 0x7F6397FE7EE0>"
      ]
     },
     "metadata": {},
     "output_type": "display_data"
    },
    {
     "name": "stdout",
     "output_type": "stream",
     "text": [
      "Learning rate:  0.00036\n",
      "Loss = tensor(1.4382, device='cuda:0', grad_fn=<NllLoss2DBackward>)\n",
      "Loss = tensor(1.4391, device='cuda:0', grad_fn=<NllLoss2DBackward>)\n",
      "Loss = tensor(1.4609, device='cuda:0', grad_fn=<NllLoss2DBackward>)\n",
      "Loss = tensor(1.4734, device='cuda:0', grad_fn=<NllLoss2DBackward>)\n",
      "Loss = tensor(1.4152, device='cuda:0', grad_fn=<NllLoss2DBackward>)\n",
      "EPOCH:  20\n"
     ]
    },
    {
     "data": {
      "image/png": "[encoded data removed]",
      "text/plain": [
       "<PIL.Image.Image image mode=RGB size=60x60 at 0x7F6397FE7EE0>"
      ]
     },
     "metadata": {},
     "output_type": "display_data"
    },
    {
     "name": "stdout",
     "output_type": "stream",
     "text": [
      "Learning rate:  0.00036\n",
      "Loss = tensor(1.4134, device='cuda:0', grad_fn=<NllLoss2DBackward>)\n",
      "Loss = tensor(1.4466, device='cuda:0', grad_fn=<NllLoss2DBackward>)\n",
      "EPOCH:  21\n"
     ]
    },
    {
     "data": {
      "image/png": "[encoded data removed]",
      "text/plain": [
       "<PIL.Image.Image image mode=RGB size=60x60 at 0x7F6328923730>"
      ]
     },
     "metadata": {},
     "output_type": "display_data"
    },
    {
     "name": "stdout",
     "output_type": "stream",
     "text": [
      "Learning rate:  0.00036\n",
      "Loss = tensor(1.4468, device='cuda:0', grad_fn=<NllLoss2DBackward>)\n",
      "Loss = tensor(1.4742, device='cuda:0', grad_fn=<NllLoss2DBackward>)\n",
      "Loss = tensor(1.4525, device='cuda:0', grad_fn=<NllLoss2DBackward>)\n",
      "Loss = tensor(1.4159, device='cuda:0', grad_fn=<NllLoss2DBackward>)\n",
      "Loss = tensor(1.4088, device='cuda:0', grad_fn=<NllLoss2DBackward>)\n",
      "EPOCH:  21\n"
     ]
    },
    {
     "data": {
      "image/png": "[encoded data removed]",
      "text/plain": [
       "<PIL.Image.Image image mode=RGB size=60x60 at 0x7F6320084AF0>"
      ]
     },
     "metadata": {},
     "output_type": "display_data"
    },
    {
     "name": "stdout",
     "output_type": "stream",
     "text": [
      "Learning rate:  0.00036\n",
      "Loss = tensor(1.4121, device='cuda:0', grad_fn=<NllLoss2DBackward>)\n",
      "Loss = tensor(1.4005, device='cuda:0', grad_fn=<NllLoss2DBackward>)\n",
      "Loss = tensor(1.4592, device='cuda:0', grad_fn=<NllLoss2DBackward>)\n",
      "Loss = tensor(1.4010, device='cuda:0', grad_fn=<NllLoss2DBackward>)\n",
      "Loss = tensor(1.4084, device='cuda:0', grad_fn=<NllLoss2DBackward>)\n",
      "EPOCH:  21\n"
     ]
    },
    {
     "data": {
      "image/png": "[encoded data removed]",
      "text/plain": [
       "<PIL.Image.Image image mode=RGB size=60x60 at 0x7F6320084760>"
      ]
     },
     "metadata": {},
     "output_type": "display_data"
    },
    {
     "name": "stdout",
     "output_type": "stream",
     "text": [
      "Learning rate:  0.00036\n",
      "Loss = tensor(1.3858, device='cuda:0', grad_fn=<NllLoss2DBackward>)\n",
      "Loss = tensor(1.4820, device='cuda:0', grad_fn=<NllLoss2DBackward>)\n",
      "EPOCH:  22\n"
     ]
    },
    {
     "data": {
      "image/png": "[encoded data removed]",
      "text/plain": [
       "<PIL.Image.Image image mode=RGB size=60x60 at 0x7F63AC85DFD0>"
      ]
     },
     "metadata": {},
     "output_type": "display_data"
    },
    {
     "name": "stdout",
     "output_type": "stream",
     "text": [
      "Learning rate:  0.00036\n",
      "Loss = tensor(1.3762, device='cuda:0', grad_fn=<NllLoss2DBackward>)\n",
      "Loss = tensor(1.4027, device='cuda:0', grad_fn=<NllLoss2DBackward>)\n",
      "Loss = tensor(1.4212, device='cuda:0', grad_fn=<NllLoss2DBackward>)\n",
      "Loss = tensor(1.3954, device='cuda:0', grad_fn=<NllLoss2DBackward>)\n",
      "Loss = tensor(1.4213, device='cuda:0', grad_fn=<NllLoss2DBackward>)\n",
      "EPOCH:  22\n"
     ]
    },
    {
     "data": {
      "image/png": "[encoded data removed]",
      "text/plain": [
       "<PIL.Image.Image image mode=RGB size=60x60 at 0x7F63AC85DF40>"
      ]
     },
     "metadata": {},
     "output_type": "display_data"
    },
    {
     "name": "stdout",
     "output_type": "stream",
     "text": [
      "Learning rate:  0.00036\n",
      "Loss = tensor(1.4279, device='cuda:0', grad_fn=<NllLoss2DBackward>)\n",
      "Loss = tensor(1.4169, device='cuda:0', grad_fn=<NllLoss2DBackward>)\n",
      "Loss = tensor(1.4133, device='cuda:0', grad_fn=<NllLoss2DBackward>)\n",
      "Loss = tensor(1.4189, device='cuda:0', grad_fn=<NllLoss2DBackward>)\n",
      "Loss = tensor(1.4105, device='cuda:0', grad_fn=<NllLoss2DBackward>)\n",
      "EPOCH:  22\n"
     ]
    },
    {
     "data": {
      "image/png": "[encoded data removed]",
      "text/plain": [
       "<PIL.Image.Image image mode=RGB size=60x60 at 0x7F6320084070>"
      ]
     },
     "metadata": {},
     "output_type": "display_data"
    },
    {
     "name": "stdout",
     "output_type": "stream",
     "text": [
      "Learning rate:  0.00036\n",
      "Loss = tensor(1.3795, device='cuda:0', grad_fn=<NllLoss2DBackward>)\n",
      "Loss = tensor(1.3803, device='cuda:0', grad_fn=<NllLoss2DBackward>)\n",
      "EPOCH:  23\n"
     ]
    },
    {
     "data": {
      "image/png": "[encoded data removed]",
      "text/plain": [
       "<PIL.Image.Image image mode=RGB size=60x60 at 0x7F6328923460>"
      ]
     },
     "metadata": {},
     "output_type": "display_data"
    },
    {
     "name": "stdout",
     "output_type": "stream",
     "text": [
      "Learning rate:  0.00036\n",
      "Loss = tensor(1.3902, device='cuda:0', grad_fn=<NllLoss2DBackward>)\n",
      "Loss = tensor(1.3756, device='cuda:0', grad_fn=<NllLoss2DBackward>)\n",
      "Loss = tensor(1.4068, device='cuda:0', grad_fn=<NllLoss2DBackward>)\n",
      "Loss = tensor(1.4343, device='cuda:0', grad_fn=<NllLoss2DBackward>)\n",
      "Loss = tensor(1.4309, device='cuda:0', grad_fn=<NllLoss2DBackward>)\n",
      "EPOCH:  23\n"
     ]
    },
    {
     "data": {
      "image/png": "[encoded data removed]",
      "text/plain": [
       "<PIL.Image.Image image mode=RGB size=60x60 at 0x7F6328923460>"
      ]
     },
     "metadata": {},
     "output_type": "display_data"
    },
    {
     "name": "stdout",
     "output_type": "stream",
     "text": [
      "Learning rate:  0.00036\n",
      "Loss = tensor(1.4240, device='cuda:0', grad_fn=<NllLoss2DBackward>)\n",
      "Loss = tensor(1.3836, device='cuda:0', grad_fn=<NllLoss2DBackward>)\n",
      "Loss = tensor(1.4147, device='cuda:0', grad_fn=<NllLoss2DBackward>)\n",
      "Loss = tensor(1.3566, device='cuda:0', grad_fn=<NllLoss2DBackward>)\n",
      "Loss = tensor(1.3962, device='cuda:0', grad_fn=<NllLoss2DBackward>)\n",
      "EPOCH:  23\n"
     ]
    },
    {
     "data": {
      "image/png": "[encoded data removed]",
      "text/plain": [
       "<PIL.Image.Image image mode=RGB size=60x60 at 0x7F6328923730>"
      ]
     },
     "metadata": {},
     "output_type": "display_data"
    },
    {
     "name": "stdout",
     "output_type": "stream",
     "text": [
      "Learning rate:  0.00036\n",
      "Loss = tensor(1.4412, device='cuda:0', grad_fn=<NllLoss2DBackward>)\n",
      "Loss = tensor(1.3928, device='cuda:0', grad_fn=<NllLoss2DBackward>)\n",
      "EPOCH:  24\n"
     ]
    },
    {
     "data": {
      "image/png": "[encoded data removed]",
      "text/plain": [
       "<PIL.Image.Image image mode=RGB size=60x60 at 0x7F6397FE7EE0>"
      ]
     },
     "metadata": {},
     "output_type": "display_data"
    },
    {
     "name": "stdout",
     "output_type": "stream",
     "text": [
      "Learning rate:  0.00036\n",
      "Loss = tensor(1.3831, device='cuda:0', grad_fn=<NllLoss2DBackward>)\n",
      "Loss = tensor(1.4285, device='cuda:0', grad_fn=<NllLoss2DBackward>)\n",
      "Loss = tensor(1.3834, device='cuda:0', grad_fn=<NllLoss2DBackward>)\n",
      "Loss = tensor(1.3945, device='cuda:0', grad_fn=<NllLoss2DBackward>)\n",
      "Loss = tensor(1.3812, device='cuda:0', grad_fn=<NllLoss2DBackward>)\n",
      "EPOCH:  24\n"
     ]
    },
    {
     "data": {
      "image/png": "[encoded data removed]",
      "text/plain": [
       "<PIL.Image.Image image mode=RGB size=60x60 at 0x7F6397FE7880>"
      ]
     },
     "metadata": {},
     "output_type": "display_data"
    },
    {
     "name": "stdout",
     "output_type": "stream",
     "text": [
      "Learning rate:  0.00036\n",
      "Loss = tensor(1.3707, device='cuda:0', grad_fn=<NllLoss2DBackward>)\n",
      "Loss = tensor(1.3932, device='cuda:0', grad_fn=<NllLoss2DBackward>)\n",
      "Loss = tensor(1.3941, device='cuda:0', grad_fn=<NllLoss2DBackward>)\n",
      "Loss = tensor(1.4041, device='cuda:0', grad_fn=<NllLoss2DBackward>)\n",
      "Loss = tensor(1.3799, device='cuda:0', grad_fn=<NllLoss2DBackward>)\n",
      "EPOCH:  24\n"
     ]
    },
    {
     "data": {
      "image/png": "[encoded data removed]",
      "text/plain": [
       "<PIL.Image.Image image mode=RGB size=60x60 at 0x7F6397FE7EE0>"
      ]
     },
     "metadata": {},
     "output_type": "display_data"
    },
    {
     "name": "stdout",
     "output_type": "stream",
     "text": [
      "Learning rate:  0.00036\n",
      "Loss = tensor(1.4019, device='cuda:0', grad_fn=<NllLoss2DBackward>)\n",
      "Loss = tensor(1.3852, device='cuda:0', grad_fn=<NllLoss2DBackward>)\n",
      "EPOCH:  25\n"
     ]
    },
    {
     "data": {
      "image/png": "[encoded data removed]",
      "text/plain": [
       "<PIL.Image.Image image mode=RGB size=60x60 at 0x7F6328923730>"
      ]
     },
     "metadata": {},
     "output_type": "display_data"
    },
    {
     "name": "stdout",
     "output_type": "stream",
     "text": [
      "Learning rate:  0.00036\n",
      "Loss = tensor(1.3841, device='cuda:0', grad_fn=<NllLoss2DBackward>)\n",
      "Loss = tensor(1.3958, device='cuda:0', grad_fn=<NllLoss2DBackward>)\n",
      "Loss = tensor(1.3789, device='cuda:0', grad_fn=<NllLoss2DBackward>)\n",
      "Loss = tensor(1.3813, device='cuda:0', grad_fn=<NllLoss2DBackward>)\n",
      "Loss = tensor(1.4328, device='cuda:0', grad_fn=<NllLoss2DBackward>)\n",
      "EPOCH:  25\n"
     ]
    },
    {
     "data": {
      "image/png": "[encoded data removed]",
      "text/plain": [
       "<PIL.Image.Image image mode=RGB size=60x60 at 0x7F6320084AF0>"
      ]
     },
     "metadata": {},
     "output_type": "display_data"
    },
    {
     "name": "stdout",
     "output_type": "stream",
     "text": [
      "Learning rate:  0.00036\n",
      "Loss = tensor(1.3798, device='cuda:0', grad_fn=<NllLoss2DBackward>)\n",
      "Loss = tensor(1.3494, device='cuda:0', grad_fn=<NllLoss2DBackward>)\n",
      "Loss = tensor(1.3928, device='cuda:0', grad_fn=<NllLoss2DBackward>)\n",
      "Loss = tensor(1.3596, device='cuda:0', grad_fn=<NllLoss2DBackward>)\n",
      "Loss = tensor(1.3575, device='cuda:0', grad_fn=<NllLoss2DBackward>)\n",
      "EPOCH:  25\n"
     ]
    },
    {
     "data": {
      "image/png": "[encoded data removed]",
      "text/plain": [
       "<PIL.Image.Image image mode=RGB size=60x60 at 0x7F63AC85DF40>"
      ]
     },
     "metadata": {},
     "output_type": "display_data"
    },
    {
     "name": "stdout",
     "output_type": "stream",
     "text": [
      "Learning rate:  0.00036\n",
      "Loss = tensor(1.3844, device='cuda:0', grad_fn=<NllLoss2DBackward>)\n",
      "Loss = tensor(1.3748, device='cuda:0', grad_fn=<NllLoss2DBackward>)\n",
      "EPOCH:  26\n"
     ]
    },
    {
     "data": {
      "image/png": "[encoded data removed]",
      "text/plain": [
       "<PIL.Image.Image image mode=RGB size=60x60 at 0x7F6320084760>"
      ]
     },
     "metadata": {},
     "output_type": "display_data"
    },
    {
     "name": "stdout",
     "output_type": "stream",
     "text": [
      "Learning rate:  0.00036\n",
      "Loss = tensor(1.4006, device='cuda:0', grad_fn=<NllLoss2DBackward>)\n",
      "Loss = tensor(1.4018, device='cuda:0', grad_fn=<NllLoss2DBackward>)\n",
      "Loss = tensor(1.3795, device='cuda:0', grad_fn=<NllLoss2DBackward>)\n",
      "Loss = tensor(1.3745, device='cuda:0', grad_fn=<NllLoss2DBackward>)\n",
      "Loss = tensor(1.3361, device='cuda:0', grad_fn=<NllLoss2DBackward>)\n",
      "EPOCH:  26\n"
     ]
    },
    {
     "data": {
      "image/png": "[encoded data removed]",
      "text/plain": [
       "<PIL.Image.Image image mode=RGB size=60x60 at 0x7F6320084070>"
      ]
     },
     "metadata": {},
     "output_type": "display_data"
    },
    {
     "name": "stdout",
     "output_type": "stream",
     "text": [
      "Learning rate:  0.00036\n",
      "Loss = tensor(1.3654, device='cuda:0', grad_fn=<NllLoss2DBackward>)\n",
      "Loss = tensor(1.3589, device='cuda:0', grad_fn=<NllLoss2DBackward>)\n",
      "Loss = tensor(1.3520, device='cuda:0', grad_fn=<NllLoss2DBackward>)\n",
      "Loss = tensor(1.3654, device='cuda:0', grad_fn=<NllLoss2DBackward>)\n",
      "Loss = tensor(1.3678, device='cuda:0', grad_fn=<NllLoss2DBackward>)\n",
      "EPOCH:  26\n"
     ]
    },
    {
     "data": {
      "image/png": "[encoded data removed]",
      "text/plain": [
       "<PIL.Image.Image image mode=RGB size=60x60 at 0x7F6320084760>"
      ]
     },
     "metadata": {},
     "output_type": "display_data"
    },
    {
     "name": "stdout",
     "output_type": "stream",
     "text": [
      "Learning rate:  0.00036\n",
      "Loss = tensor(1.4112, device='cuda:0', grad_fn=<NllLoss2DBackward>)\n",
      "Loss = tensor(1.3698, device='cuda:0', grad_fn=<NllLoss2DBackward>)\n",
      "EPOCH:  27\n"
     ]
    },
    {
     "data": {
      "image/png": "[encoded data removed]",
      "text/plain": [
       "<PIL.Image.Image image mode=RGB size=60x60 at 0x7F6320084760>"
      ]
     },
     "metadata": {},
     "output_type": "display_data"
    },
    {
     "name": "stdout",
     "output_type": "stream",
     "text": [
      "Learning rate:  0.00036\n",
      "Loss = tensor(1.3334, device='cuda:0', grad_fn=<NllLoss2DBackward>)\n",
      "Loss = tensor(1.3533, device='cuda:0', grad_fn=<NllLoss2DBackward>)\n",
      "Loss = tensor(1.3795, device='cuda:0', grad_fn=<NllLoss2DBackward>)\n",
      "Loss = tensor(1.3739, device='cuda:0', grad_fn=<NllLoss2DBackward>)\n",
      "Loss = tensor(1.3510, device='cuda:0', grad_fn=<NllLoss2DBackward>)\n",
      "EPOCH:  27\n"
     ]
    },
    {
     "data": {
      "image/png": "[encoded data removed]",
      "text/plain": [
       "<PIL.Image.Image image mode=RGB size=60x60 at 0x7F6320084AF0>"
      ]
     },
     "metadata": {},
     "output_type": "display_data"
    },
    {
     "name": "stdout",
     "output_type": "stream",
     "text": [
      "Learning rate:  0.00036\n",
      "Loss = tensor(1.4133, device='cuda:0', grad_fn=<NllLoss2DBackward>)\n",
      "Loss = tensor(1.4135, device='cuda:0', grad_fn=<NllLoss2DBackward>)\n",
      "Loss = tensor(1.3504, device='cuda:0', grad_fn=<NllLoss2DBackward>)\n",
      "Loss = tensor(1.3466, device='cuda:0', grad_fn=<NllLoss2DBackward>)\n",
      "Loss = tensor(1.3649, device='cuda:0', grad_fn=<NllLoss2DBackward>)\n",
      "EPOCH:  27\n"
     ]
    },
    {
     "data": {
      "image/png": "[encoded data removed]",
      "text/plain": [
       "<PIL.Image.Image image mode=RGB size=60x60 at 0x7F6320084760>"
      ]
     },
     "metadata": {},
     "output_type": "display_data"
    },
    {
     "name": "stdout",
     "output_type": "stream",
     "text": [
      "Learning rate:  0.00036\n",
      "Loss = tensor(1.3748, device='cuda:0', grad_fn=<NllLoss2DBackward>)\n",
      "Loss = tensor(1.3534, device='cuda:0', grad_fn=<NllLoss2DBackward>)\n",
      "EPOCH:  28\n"
     ]
    },
    {
     "data": {
      "image/png": "[encoded data removed]",
      "text/plain": [
       "<PIL.Image.Image image mode=RGB size=60x60 at 0x7F6320084070>"
      ]
     },
     "metadata": {},
     "output_type": "display_data"
    },
    {
     "name": "stdout",
     "output_type": "stream",
     "text": [
      "Learning rate:  0.00036\n",
      "Loss = tensor(1.3843, device='cuda:0', grad_fn=<NllLoss2DBackward>)\n",
      "Loss = tensor(1.3519, device='cuda:0', grad_fn=<NllLoss2DBackward>)\n",
      "Loss = tensor(1.3334, device='cuda:0', grad_fn=<NllLoss2DBackward>)\n",
      "Loss = tensor(1.3524, device='cuda:0', grad_fn=<NllLoss2DBackward>)\n",
      "Loss = tensor(1.4107, device='cuda:0', grad_fn=<NllLoss2DBackward>)\n",
      "EPOCH:  28\n"
     ]
    },
    {
     "data": {
      "image/png": "[encoded data removed]",
      "text/plain": [
       "<PIL.Image.Image image mode=RGB size=60x60 at 0x7F6320084070>"
      ]
     },
     "metadata": {},
     "output_type": "display_data"
    },
    {
     "name": "stdout",
     "output_type": "stream",
     "text": [
      "Learning rate:  0.00036\n",
      "Loss = tensor(1.3460, device='cuda:0', grad_fn=<NllLoss2DBackward>)\n",
      "Loss = tensor(1.3296, device='cuda:0', grad_fn=<NllLoss2DBackward>)\n",
      "Loss = tensor(1.3589, device='cuda:0', grad_fn=<NllLoss2DBackward>)\n",
      "Loss = tensor(1.3634, device='cuda:0', grad_fn=<NllLoss2DBackward>)\n",
      "Loss = tensor(1.4057, device='cuda:0', grad_fn=<NllLoss2DBackward>)\n",
      "EPOCH:  28\n"
     ]
    },
    {
     "data": {
      "image/png": "[encoded data removed]",
      "text/plain": [
       "<PIL.Image.Image image mode=RGB size=60x60 at 0x7F6320084AF0>"
      ]
     },
     "metadata": {},
     "output_type": "display_data"
    },
    {
     "name": "stdout",
     "output_type": "stream",
     "text": [
      "Learning rate:  0.00036\n",
      "Loss = tensor(1.3976, device='cuda:0', grad_fn=<NllLoss2DBackward>)\n",
      "Loss = tensor(1.3594, device='cuda:0', grad_fn=<NllLoss2DBackward>)\n",
      "EPOCH:  29\n"
     ]
    },
    {
     "data": {
      "image/png": "[encoded data removed]",
      "text/plain": [
       "<PIL.Image.Image image mode=RGB size=60x60 at 0x7F6320084AF0>"
      ]
     },
     "metadata": {},
     "output_type": "display_data"
    },
    {
     "name": "stdout",
     "output_type": "stream",
     "text": [
      "Learning rate:  0.00036\n",
      "Loss = tensor(1.3654, device='cuda:0', grad_fn=<NllLoss2DBackward>)\n",
      "Loss = tensor(1.3517, device='cuda:0', grad_fn=<NllLoss2DBackward>)\n",
      "Loss = tensor(1.3745, device='cuda:0', grad_fn=<NllLoss2DBackward>)\n",
      "Loss = tensor(1.3615, device='cuda:0', grad_fn=<NllLoss2DBackward>)\n",
      "Loss = tensor(1.3555, device='cuda:0', grad_fn=<NllLoss2DBackward>)\n",
      "EPOCH:  29\n"
     ]
    },
    {
     "data": {
      "image/png": "[encoded data removed]",
      "text/plain": [
       "<PIL.Image.Image image mode=RGB size=60x60 at 0x7F6320084760>"
      ]
     },
     "metadata": {},
     "output_type": "display_data"
    },
    {
     "name": "stdout",
     "output_type": "stream",
     "text": [
      "Learning rate:  0.00036\n",
      "Loss = tensor(1.3671, device='cuda:0', grad_fn=<NllLoss2DBackward>)\n",
      "Loss = tensor(1.3671, device='cuda:0', grad_fn=<NllLoss2DBackward>)\n",
      "Loss = tensor(1.3677, device='cuda:0', grad_fn=<NllLoss2DBackward>)\n",
      "Loss = tensor(1.3908, device='cuda:0', grad_fn=<NllLoss2DBackward>)\n",
      "Loss = tensor(1.3593, device='cuda:0', grad_fn=<NllLoss2DBackward>)\n",
      "EPOCH:  29\n"
     ]
    },
    {
     "data": {
      "image/png": "[encoded data removed]",
      "text/plain": [
       "<PIL.Image.Image image mode=RGB size=60x60 at 0x7F6320084070>"
      ]
     },
     "metadata": {},
     "output_type": "display_data"
    },
    {
     "name": "stdout",
     "output_type": "stream",
     "text": [
      "Learning rate:  0.00036\n",
      "Loss = tensor(1.3359, device='cuda:0', grad_fn=<NllLoss2DBackward>)\n",
      "Loss = tensor(1.3321, device='cuda:0', grad_fn=<NllLoss2DBackward>)\n",
      "EPOCH:  30\n"
     ]
    },
    {
     "data": {
      "image/png": "[encoded data removed]",
      "text/plain": [
       "<PIL.Image.Image image mode=RGB size=60x60 at 0x7F63AC85DF40>"
      ]
     },
     "metadata": {},
     "output_type": "display_data"
    },
    {
     "name": "stdout",
     "output_type": "stream",
     "text": [
      "Learning rate:  0.00021600000000000002\n",
      "Loss = tensor(1.3677, device='cuda:0', grad_fn=<NllLoss2DBackward>)\n",
      "Loss = tensor(1.3468, device='cuda:0', grad_fn=<NllLoss2DBackward>)\n",
      "Loss = tensor(1.3716, device='cuda:0', grad_fn=<NllLoss2DBackward>)\n",
      "Loss = tensor(1.3402, device='cuda:0', grad_fn=<NllLoss2DBackward>)\n",
      "Loss = tensor(1.3573, device='cuda:0', grad_fn=<NllLoss2DBackward>)\n",
      "EPOCH:  30\n"
     ]
    },
    {
     "data": {
      "image/png": "[encoded data removed]",
      "text/plain": [
       "<PIL.Image.Image image mode=RGB size=60x60 at 0x7F6320084760>"
      ]
     },
     "metadata": {},
     "output_type": "display_data"
    },
    {
     "name": "stdout",
     "output_type": "stream",
     "text": [
      "Learning rate:  0.00021600000000000002\n",
      "Loss = tensor(1.3650, device='cuda:0', grad_fn=<NllLoss2DBackward>)\n",
      "Loss = tensor(1.3407, device='cuda:0', grad_fn=<NllLoss2DBackward>)\n",
      "Loss = tensor(1.3697, device='cuda:0', grad_fn=<NllLoss2DBackward>)\n",
      "Loss = tensor(1.3834, device='cuda:0', grad_fn=<NllLoss2DBackward>)\n",
      "Loss = tensor(1.4063, device='cuda:0', grad_fn=<NllLoss2DBackward>)\n",
      "EPOCH:  30\n"
     ]
    },
    {
     "data": {
      "image/png": "[encoded data removed]",
      "text/plain": [
       "<PIL.Image.Image image mode=RGB size=60x60 at 0x7F6328923730>"
      ]
     },
     "metadata": {},
     "output_type": "display_data"
    },
    {
     "name": "stdout",
     "output_type": "stream",
     "text": [
      "Learning rate:  0.00021600000000000002\n",
      "Loss = tensor(1.3759, device='cuda:0', grad_fn=<NllLoss2DBackward>)\n",
      "Loss = tensor(1.3578, device='cuda:0', grad_fn=<NllLoss2DBackward>)\n",
      "EPOCH:  31\n"
     ]
    },
    {
     "data": {
      "image/png": "[encoded data removed]",
      "text/plain": [
       "<PIL.Image.Image image mode=RGB size=60x60 at 0x7F6328923730>"
      ]
     },
     "metadata": {},
     "output_type": "display_data"
    },
    {
     "name": "stdout",
     "output_type": "stream",
     "text": [
      "Learning rate:  0.00021600000000000002\n",
      "Loss = tensor(1.3500, device='cuda:0', grad_fn=<NllLoss2DBackward>)\n",
      "Loss = tensor(1.3440, device='cuda:0', grad_fn=<NllLoss2DBackward>)\n",
      "Loss = tensor(1.3824, device='cuda:0', grad_fn=<NllLoss2DBackward>)\n",
      "Loss = tensor(1.3606, device='cuda:0', grad_fn=<NllLoss2DBackward>)\n",
      "Loss = tensor(1.3468, device='cuda:0', grad_fn=<NllLoss2DBackward>)\n",
      "EPOCH:  31\n"
     ]
    },
    {
     "data": {
      "image/png": "[encoded data removed]",
      "text/plain": [
       "<PIL.Image.Image image mode=RGB size=60x60 at 0x7F63AC85DF40>"
      ]
     },
     "metadata": {},
     "output_type": "display_data"
    },
    {
     "name": "stdout",
     "output_type": "stream",
     "text": [
      "Learning rate:  0.00021600000000000002\n",
      "Loss = tensor(1.3727, device='cuda:0', grad_fn=<NllLoss2DBackward>)\n",
      "Loss = tensor(1.3475, device='cuda:0', grad_fn=<NllLoss2DBackward>)\n",
      "Loss = tensor(1.3733, device='cuda:0', grad_fn=<NllLoss2DBackward>)\n",
      "Loss = tensor(1.3980, device='cuda:0', grad_fn=<NllLoss2DBackward>)\n",
      "Loss = tensor(1.3638, device='cuda:0', grad_fn=<NllLoss2DBackward>)\n",
      "EPOCH:  31\n"
     ]
    },
    {
     "data": {
      "image/png": "[encoded data removed]",
      "text/plain": [
       "<PIL.Image.Image image mode=RGB size=60x60 at 0x7F63AC85DF40>"
      ]
     },
     "metadata": {},
     "output_type": "display_data"
    },
    {
     "name": "stdout",
     "output_type": "stream",
     "text": [
      "Learning rate:  0.00021600000000000002\n",
      "Loss = tensor(1.3339, device='cuda:0', grad_fn=<NllLoss2DBackward>)\n",
      "Loss = tensor(1.3562, device='cuda:0', grad_fn=<NllLoss2DBackward>)\n",
      "EPOCH:  32\n"
     ]
    },
    {
     "data": {
      "image/png": "[encoded data removed]",
      "text/plain": [
       "<PIL.Image.Image image mode=RGB size=60x60 at 0x7F6328923460>"
      ]
     },
     "metadata": {},
     "output_type": "display_data"
    },
    {
     "name": "stdout",
     "output_type": "stream",
     "text": [
      "Learning rate:  0.00021600000000000002\n",
      "Loss = tensor(1.3300, device='cuda:0', grad_fn=<NllLoss2DBackward>)\n",
      "Loss = tensor(1.3694, device='cuda:0', grad_fn=<NllLoss2DBackward>)\n",
      "Loss = tensor(1.3792, device='cuda:0', grad_fn=<NllLoss2DBackward>)\n",
      "Loss = tensor(1.3330, device='cuda:0', grad_fn=<NllLoss2DBackward>)\n",
      "Loss = tensor(1.3422, device='cuda:0', grad_fn=<NllLoss2DBackward>)\n",
      "EPOCH:  32\n"
     ]
    },
    {
     "data": {
      "image/png": "[encoded data removed]",
      "text/plain": [
       "<PIL.Image.Image image mode=RGB size=60x60 at 0x7F6320084070>"
      ]
     },
     "metadata": {},
     "output_type": "display_data"
    },
    {
     "name": "stdout",
     "output_type": "stream",
     "text": [
      "Learning rate:  0.00021600000000000002\n",
      "Loss = tensor(1.3699, device='cuda:0', grad_fn=<NllLoss2DBackward>)\n",
      "Loss = tensor(1.3814, device='cuda:0', grad_fn=<NllLoss2DBackward>)\n",
      "Loss = tensor(1.3199, device='cuda:0', grad_fn=<NllLoss2DBackward>)\n",
      "Loss = tensor(1.4025, device='cuda:0', grad_fn=<NllLoss2DBackward>)\n",
      "Loss = tensor(1.3723, device='cuda:0', grad_fn=<NllLoss2DBackward>)\n",
      "EPOCH:  32\n"
     ]
    },
    {
     "data": {
      "image/png": "[encoded data removed]",
      "text/plain": [
       "<PIL.Image.Image image mode=RGB size=60x60 at 0x7F6328923460>"
      ]
     },
     "metadata": {},
     "output_type": "display_data"
    },
    {
     "name": "stdout",
     "output_type": "stream",
     "text": [
      "Learning rate:  0.00021600000000000002\n",
      "Loss = tensor(1.3646, device='cuda:0', grad_fn=<NllLoss2DBackward>)\n",
      "Loss = tensor(1.3561, device='cuda:0', grad_fn=<NllLoss2DBackward>)\n",
      "EPOCH:  33\n"
     ]
    },
    {
     "data": {
      "image/png": "[encoded data removed]",
      "text/plain": [
       "<PIL.Image.Image image mode=RGB size=60x60 at 0x7F63AC85DF40>"
      ]
     },
     "metadata": {},
     "output_type": "display_data"
    },
    {
     "name": "stdout",
     "output_type": "stream",
     "text": [
      "Learning rate:  0.00021600000000000002\n",
      "Loss = tensor(1.3964, device='cuda:0', grad_fn=<NllLoss2DBackward>)\n",
      "Loss = tensor(1.3694, device='cuda:0', grad_fn=<NllLoss2DBackward>)\n",
      "Loss = tensor(1.3516, device='cuda:0', grad_fn=<NllLoss2DBackward>)\n",
      "Loss = tensor(1.3970, device='cuda:0', grad_fn=<NllLoss2DBackward>)\n",
      "Loss = tensor(1.3350, device='cuda:0', grad_fn=<NllLoss2DBackward>)\n",
      "EPOCH:  33\n"
     ]
    },
    {
     "data": {
      "image/png": "[encoded data removed]",
      "text/plain": [
       "<PIL.Image.Image image mode=RGB size=60x60 at 0x7F63AC85DF40>"
      ]
     },
     "metadata": {},
     "output_type": "display_data"
    },
    {
     "name": "stdout",
     "output_type": "stream",
     "text": [
      "Learning rate:  0.00021600000000000002\n",
      "Loss = tensor(1.3473, device='cuda:0', grad_fn=<NllLoss2DBackward>)\n",
      "Loss = tensor(1.3530, device='cuda:0', grad_fn=<NllLoss2DBackward>)\n",
      "Loss = tensor(1.3407, device='cuda:0', grad_fn=<NllLoss2DBackward>)\n",
      "Loss = tensor(1.3507, device='cuda:0', grad_fn=<NllLoss2DBackward>)\n",
      "Loss = tensor(1.3904, device='cuda:0', grad_fn=<NllLoss2DBackward>)\n",
      "EPOCH:  33\n"
     ]
    },
    {
     "data": {
      "image/png": "[encoded data removed]",
      "text/plain": [
       "<PIL.Image.Image image mode=RGB size=60x60 at 0x7F6328923460>"
      ]
     },
     "metadata": {},
     "output_type": "display_data"
    },
    {
     "name": "stdout",
     "output_type": "stream",
     "text": [
      "Learning rate:  0.00021600000000000002\n",
      "Loss = tensor(1.3493, device='cuda:0', grad_fn=<NllLoss2DBackward>)\n",
      "Loss = tensor(1.3753, device='cuda:0', grad_fn=<NllLoss2DBackward>)\n",
      "EPOCH:  34\n"
     ]
    },
    {
     "data": {
      "image/png": "[encoded data removed]",
      "text/plain": [
       "<PIL.Image.Image image mode=RGB size=60x60 at 0x7F6320084070>"
      ]
     },
     "metadata": {},
     "output_type": "display_data"
    },
    {
     "name": "stdout",
     "output_type": "stream",
     "text": [
      "Learning rate:  0.00021600000000000002\n",
      "Loss = tensor(1.4125, device='cuda:0', grad_fn=<NllLoss2DBackward>)\n",
      "Loss = tensor(1.3525, device='cuda:0', grad_fn=<NllLoss2DBackward>)\n",
      "Loss = tensor(1.3252, device='cuda:0', grad_fn=<NllLoss2DBackward>)\n",
      "Loss = tensor(1.3812, device='cuda:0', grad_fn=<NllLoss2DBackward>)\n",
      "Loss = tensor(1.3814, device='cuda:0', grad_fn=<NllLoss2DBackward>)\n",
      "EPOCH:  34\n"
     ]
    },
    {
     "data": {
      "image/png": "[encoded data removed]",
      "text/plain": [
       "<PIL.Image.Image image mode=RGB size=60x60 at 0x7F6320084AF0>"
      ]
     },
     "metadata": {},
     "output_type": "display_data"
    },
    {
     "name": "stdout",
     "output_type": "stream",
     "text": [
      "Learning rate:  0.00021600000000000002\n",
      "Loss = tensor(1.3618, device='cuda:0', grad_fn=<NllLoss2DBackward>)\n",
      "Loss = tensor(1.3646, device='cuda:0', grad_fn=<NllLoss2DBackward>)\n",
      "Loss = tensor(1.3395, device='cuda:0', grad_fn=<NllLoss2DBackward>)\n",
      "Loss = tensor(1.3561, device='cuda:0', grad_fn=<NllLoss2DBackward>)\n",
      "Loss = tensor(1.3199, device='cuda:0', grad_fn=<NllLoss2DBackward>)\n",
      "EPOCH:  34\n"
     ]
    },
    {
     "data": {
      "image/png": "[encoded data removed]",
      "text/plain": [
       "<PIL.Image.Image image mode=RGB size=60x60 at 0x7F63AC842A90>"
      ]
     },
     "metadata": {},
     "output_type": "display_data"
    },
    {
     "name": "stdout",
     "output_type": "stream",
     "text": [
      "Learning rate:  0.00021600000000000002\n",
      "Loss = tensor(1.3534, device='cuda:0', grad_fn=<NllLoss2DBackward>)\n",
      "Loss = tensor(1.3748, device='cuda:0', grad_fn=<NllLoss2DBackward>)\n",
      "EPOCH:  35\n"
     ]
    },
    {
     "data": {
      "image/png": "[encoded data removed]",
      "text/plain": [
       "<PIL.Image.Image image mode=RGB size=60x60 at 0x7F6328923730>"
      ]
     },
     "metadata": {},
     "output_type": "display_data"
    },
    {
     "name": "stdout",
     "output_type": "stream",
     "text": [
      "Learning rate:  0.00021600000000000002\n",
      "Loss = tensor(1.3450, device='cuda:0', grad_fn=<NllLoss2DBackward>)\n",
      "Loss = tensor(1.3690, device='cuda:0', grad_fn=<NllLoss2DBackward>)\n",
      "Loss = tensor(1.3991, device='cuda:0', grad_fn=<NllLoss2DBackward>)\n",
      "Loss = tensor(1.3596, device='cuda:0', grad_fn=<NllLoss2DBackward>)\n",
      "Loss = tensor(1.3725, device='cuda:0', grad_fn=<NllLoss2DBackward>)\n",
      "EPOCH:  35\n"
     ]
    },
    {
     "data": {
      "image/png": "[encoded data removed]",
      "text/plain": [
       "<PIL.Image.Image image mode=RGB size=60x60 at 0x7F6328923460>"
      ]
     },
     "metadata": {},
     "output_type": "display_data"
    },
    {
     "name": "stdout",
     "output_type": "stream",
     "text": [
      "Learning rate:  0.00021600000000000002\n",
      "Loss = tensor(1.3330, device='cuda:0', grad_fn=<NllLoss2DBackward>)\n",
      "Loss = tensor(1.3460, device='cuda:0', grad_fn=<NllLoss2DBackward>)\n",
      "Loss = tensor(1.3662, device='cuda:0', grad_fn=<NllLoss2DBackward>)\n",
      "Loss = tensor(1.3667, device='cuda:0', grad_fn=<NllLoss2DBackward>)\n",
      "Loss = tensor(1.3403, device='cuda:0', grad_fn=<NllLoss2DBackward>)\n",
      "EPOCH:  35\n"
     ]
    },
    {
     "data": {
      "image/png": "[encoded data removed]",
      "text/plain": [
       "<PIL.Image.Image image mode=RGB size=60x60 at 0x7F6328923460>"
      ]
     },
     "metadata": {},
     "output_type": "display_data"
    },
    {
     "name": "stdout",
     "output_type": "stream",
     "text": [
      "Learning rate:  0.00021600000000000002\n",
      "Loss = tensor(1.3414, device='cuda:0', grad_fn=<NllLoss2DBackward>)\n",
      "Loss = tensor(1.3397, device='cuda:0', grad_fn=<NllLoss2DBackward>)\n",
      "EPOCH:  36\n"
     ]
    },
    {
     "data": {
      "image/png": "[encoded data removed]",
      "text/plain": [
       "<PIL.Image.Image image mode=RGB size=60x60 at 0x7F6320084070>"
      ]
     },
     "metadata": {},
     "output_type": "display_data"
    },
    {
     "name": "stdout",
     "output_type": "stream",
     "text": [
      "Learning rate:  0.00021600000000000002\n",
      "Loss = tensor(1.3867, device='cuda:0', grad_fn=<NllLoss2DBackward>)\n",
      "Loss = tensor(1.3436, device='cuda:0', grad_fn=<NllLoss2DBackward>)\n",
      "Loss = tensor(1.3769, device='cuda:0', grad_fn=<NllLoss2DBackward>)\n",
      "Loss = tensor(1.3898, device='cuda:0', grad_fn=<NllLoss2DBackward>)\n",
      "Loss = tensor(1.3477, device='cuda:0', grad_fn=<NllLoss2DBackward>)\n",
      "EPOCH:  36\n"
     ]
    },
    {
     "data": {
      "image/png": "[encoded data removed]",
      "text/plain": [
       "<PIL.Image.Image image mode=RGB size=60x60 at 0x7F6320084AF0>"
      ]
     },
     "metadata": {},
     "output_type": "display_data"
    },
    {
     "name": "stdout",
     "output_type": "stream",
     "text": [
      "Learning rate:  0.00021600000000000002\n",
      "Loss = tensor(1.3554, device='cuda:0', grad_fn=<NllLoss2DBackward>)\n",
      "Loss = tensor(1.3338, device='cuda:0', grad_fn=<NllLoss2DBackward>)\n",
      "Loss = tensor(1.3447, device='cuda:0', grad_fn=<NllLoss2DBackward>)\n",
      "Loss = tensor(1.3400, device='cuda:0', grad_fn=<NllLoss2DBackward>)\n",
      "Loss = tensor(1.3486, device='cuda:0', grad_fn=<NllLoss2DBackward>)\n",
      "EPOCH:  36\n"
     ]
    },
    {
     "data": {
      "image/png": "[encoded data removed]",
      "text/plain": [
       "<PIL.Image.Image image mode=RGB size=60x60 at 0x7F6320084070>"
      ]
     },
     "metadata": {},
     "output_type": "display_data"
    },
    {
     "name": "stdout",
     "output_type": "stream",
     "text": [
      "Learning rate:  0.00021600000000000002\n",
      "Loss = tensor(1.4002, device='cuda:0', grad_fn=<NllLoss2DBackward>)\n",
      "Loss = tensor(1.3318, device='cuda:0', grad_fn=<NllLoss2DBackward>)\n",
      "EPOCH:  37\n"
     ]
    },
    {
     "data": {
      "image/png": "[encoded data removed]",
      "text/plain": [
       "<PIL.Image.Image image mode=RGB size=60x60 at 0x7F6328923730>"
      ]
     },
     "metadata": {},
     "output_type": "display_data"
    },
    {
     "name": "stdout",
     "output_type": "stream",
     "text": [
      "Learning rate:  0.00021600000000000002\n",
      "Loss = tensor(1.3881, device='cuda:0', grad_fn=<NllLoss2DBackward>)\n",
      "Loss = tensor(1.3299, device='cuda:0', grad_fn=<NllLoss2DBackward>)\n",
      "Loss = tensor(1.3766, device='cuda:0', grad_fn=<NllLoss2DBackward>)\n",
      "Loss = tensor(1.3558, device='cuda:0', grad_fn=<NllLoss2DBackward>)\n",
      "Loss = tensor(1.3422, device='cuda:0', grad_fn=<NllLoss2DBackward>)\n",
      "EPOCH:  37\n"
     ]
    },
    {
     "data": {
      "image/png": "[encoded data removed]",
      "text/plain": [
       "<PIL.Image.Image image mode=RGB size=60x60 at 0x7F6328923730>"
      ]
     },
     "metadata": {},
     "output_type": "display_data"
    },
    {
     "name": "stdout",
     "output_type": "stream",
     "text": [
      "Learning rate:  0.00021600000000000002\n",
      "Loss = tensor(1.3278, device='cuda:0', grad_fn=<NllLoss2DBackward>)\n",
      "Loss = tensor(1.3482, device='cuda:0', grad_fn=<NllLoss2DBackward>)\n",
      "Loss = tensor(1.3369, device='cuda:0', grad_fn=<NllLoss2DBackward>)\n",
      "Loss = tensor(1.4006, device='cuda:0', grad_fn=<NllLoss2DBackward>)\n",
      "Loss = tensor(1.3726, device='cuda:0', grad_fn=<NllLoss2DBackward>)\n",
      "EPOCH:  37\n"
     ]
    },
    {
     "data": {
      "image/png": "[encoded data removed]",
      "text/plain": [
       "<PIL.Image.Image image mode=RGB size=60x60 at 0x7F63AC85DFD0>"
      ]
     },
     "metadata": {},
     "output_type": "display_data"
    },
    {
     "name": "stdout",
     "output_type": "stream",
     "text": [
      "Learning rate:  0.00021600000000000002\n",
      "Loss = tensor(1.3863, device='cuda:0', grad_fn=<NllLoss2DBackward>)\n",
      "Loss = tensor(1.3467, device='cuda:0', grad_fn=<NllLoss2DBackward>)\n",
      "EPOCH:  38\n"
     ]
    },
    {
     "data": {
      "image/png": "[encoded data removed]",
      "text/plain": [
       "<PIL.Image.Image image mode=RGB size=60x60 at 0x7F6320084AF0>"
      ]
     },
     "metadata": {},
     "output_type": "display_data"
    },
    {
     "name": "stdout",
     "output_type": "stream",
     "text": [
      "Learning rate:  0.00021600000000000002\n",
      "Loss = tensor(1.3665, device='cuda:0', grad_fn=<NllLoss2DBackward>)\n",
      "Loss = tensor(1.3746, device='cuda:0', grad_fn=<NllLoss2DBackward>)\n",
      "Loss = tensor(1.3147, device='cuda:0', grad_fn=<NllLoss2DBackward>)\n",
      "Loss = tensor(1.3593, device='cuda:0', grad_fn=<NllLoss2DBackward>)\n",
      "Loss = tensor(1.3771, device='cuda:0', grad_fn=<NllLoss2DBackward>)\n",
      "EPOCH:  38\n"
     ]
    },
    {
     "data": {
      "image/png": "[encoded data removed]",
      "text/plain": [
       "<PIL.Image.Image image mode=RGB size=60x60 at 0x7F6320084070>"
      ]
     },
     "metadata": {},
     "output_type": "display_data"
    },
    {
     "name": "stdout",
     "output_type": "stream",
     "text": [
      "Learning rate:  0.00021600000000000002\n",
      "Loss = tensor(1.3629, device='cuda:0', grad_fn=<NllLoss2DBackward>)\n",
      "Loss = tensor(1.3443, device='cuda:0', grad_fn=<NllLoss2DBackward>)\n",
      "Loss = tensor(1.3655, device='cuda:0', grad_fn=<NllLoss2DBackward>)\n",
      "Loss = tensor(1.3393, device='cuda:0', grad_fn=<NllLoss2DBackward>)\n",
      "Loss = tensor(1.3553, device='cuda:0', grad_fn=<NllLoss2DBackward>)\n",
      "EPOCH:  38\n"
     ]
    },
    {
     "data": {
      "image/png": "[encoded data removed]",
      "text/plain": [
       "<PIL.Image.Image image mode=RGB size=60x60 at 0x7F6320084AF0>"
      ]
     },
     "metadata": {},
     "output_type": "display_data"
    },
    {
     "name": "stdout",
     "output_type": "stream",
     "text": [
      "Learning rate:  0.00021600000000000002\n",
      "Loss = tensor(1.3842, device='cuda:0', grad_fn=<NllLoss2DBackward>)\n",
      "Loss = tensor(1.3284, device='cuda:0', grad_fn=<NllLoss2DBackward>)\n",
      "EPOCH:  39\n"
     ]
    },
    {
     "data": {
      "image/png": "[encoded data removed]",
      "text/plain": [
       "<PIL.Image.Image image mode=RGB size=60x60 at 0x7F63AC842A90>"
      ]
     },
     "metadata": {},
     "output_type": "display_data"
    },
    {
     "name": "stdout",
     "output_type": "stream",
     "text": [
      "Learning rate:  0.00021600000000000002\n",
      "Loss = tensor(1.3640, device='cuda:0', grad_fn=<NllLoss2DBackward>)\n",
      "Loss = tensor(1.3860, device='cuda:0', grad_fn=<NllLoss2DBackward>)\n",
      "Loss = tensor(1.3369, device='cuda:0', grad_fn=<NllLoss2DBackward>)\n",
      "Loss = tensor(1.3254, device='cuda:0', grad_fn=<NllLoss2DBackward>)\n",
      "Loss = tensor(1.3845, device='cuda:0', grad_fn=<NllLoss2DBackward>)\n",
      "EPOCH:  39\n"
     ]
    },
    {
     "data": {
      "image/png": "[encoded data removed]",
      "text/plain": [
       "<PIL.Image.Image image mode=RGB size=60x60 at 0x7F6328923460>"
      ]
     },
     "metadata": {},
     "output_type": "display_data"
    },
    {
     "name": "stdout",
     "output_type": "stream",
     "text": [
      "Learning rate:  0.00021600000000000002\n",
      "Loss = tensor(1.3690, device='cuda:0', grad_fn=<NllLoss2DBackward>)\n",
      "Loss = tensor(1.3601, device='cuda:0', grad_fn=<NllLoss2DBackward>)\n",
      "Loss = tensor(1.3356, device='cuda:0', grad_fn=<NllLoss2DBackward>)\n",
      "Loss = tensor(1.3645, device='cuda:0', grad_fn=<NllLoss2DBackward>)\n",
      "Loss = tensor(1.3588, device='cuda:0', grad_fn=<NllLoss2DBackward>)\n",
      "EPOCH:  39\n"
     ]
    },
    {
     "data": {
      "image/png": "[encoded data removed]",
      "text/plain": [
       "<PIL.Image.Image image mode=RGB size=60x60 at 0x7F63AC85DFD0>"
      ]
     },
     "metadata": {},
     "output_type": "display_data"
    },
    {
     "name": "stdout",
     "output_type": "stream",
     "text": [
      "Learning rate:  0.00021600000000000002\n",
      "Loss = tensor(1.3562, device='cuda:0', grad_fn=<NllLoss2DBackward>)\n",
      "Loss = tensor(1.3749, device='cuda:0', grad_fn=<NllLoss2DBackward>)\n",
      "EPOCH:  40\n"
     ]
    },
    {
     "data": {
      "image/png": "[encoded data removed]",
      "text/plain": [
       "<PIL.Image.Image image mode=RGB size=60x60 at 0x7F63AC85DF40>"
      ]
     },
     "metadata": {},
     "output_type": "display_data"
    },
    {
     "name": "stdout",
     "output_type": "stream",
     "text": [
      "Learning rate:  0.00021600000000000002\n",
      "Loss = tensor(1.3420, device='cuda:0', grad_fn=<NllLoss2DBackward>)\n",
      "Loss = tensor(1.3529, device='cuda:0', grad_fn=<NllLoss2DBackward>)\n",
      "Loss = tensor(1.3397, device='cuda:0', grad_fn=<NllLoss2DBackward>)\n",
      "Loss = tensor(1.3592, device='cuda:0', grad_fn=<NllLoss2DBackward>)\n",
      "Loss = tensor(1.3958, device='cuda:0', grad_fn=<NllLoss2DBackward>)\n",
      "EPOCH:  40\n"
     ]
    },
    {
     "data": {
      "image/png": "[encoded data removed]",
      "text/plain": [
       "<PIL.Image.Image image mode=RGB size=60x60 at 0x7F63AC85DFD0>"
      ]
     },
     "metadata": {},
     "output_type": "display_data"
    },
    {
     "name": "stdout",
     "output_type": "stream",
     "text": [
      "Learning rate:  0.00021600000000000002\n",
      "Loss = tensor(1.4004, device='cuda:0', grad_fn=<NllLoss2DBackward>)\n",
      "Loss = tensor(1.3314, device='cuda:0', grad_fn=<NllLoss2DBackward>)\n",
      "Loss = tensor(1.3218, device='cuda:0', grad_fn=<NllLoss2DBackward>)\n",
      "Loss = tensor(1.3613, device='cuda:0', grad_fn=<NllLoss2DBackward>)\n",
      "Loss = tensor(1.3488, device='cuda:0', grad_fn=<NllLoss2DBackward>)\n",
      "EPOCH:  40\n"
     ]
    },
    {
     "data": {
      "image/png": "[encoded data removed]",
      "text/plain": [
       "<PIL.Image.Image image mode=RGB size=60x60 at 0x7F63AC85DF40>"
      ]
     },
     "metadata": {},
     "output_type": "display_data"
    },
    {
     "name": "stdout",
     "output_type": "stream",
     "text": [
      "Learning rate:  0.00021600000000000002\n",
      "Loss = tensor(1.3522, device='cuda:0', grad_fn=<NllLoss2DBackward>)\n",
      "Loss = tensor(1.4263, device='cuda:0', grad_fn=<NllLoss2DBackward>)\n",
      "EPOCH:  41\n"
     ]
    },
    {
     "data": {
      "image/png": "[encoded data removed]",
      "text/plain": [
       "<PIL.Image.Image image mode=RGB size=60x60 at 0x7F6320084AF0>"
      ]
     },
     "metadata": {},
     "output_type": "display_data"
    },
    {
     "name": "stdout",
     "output_type": "stream",
     "text": [
      "Learning rate:  0.00021600000000000002\n",
      "Loss = tensor(1.3562, device='cuda:0', grad_fn=<NllLoss2DBackward>)\n",
      "Loss = tensor(1.3890, device='cuda:0', grad_fn=<NllLoss2DBackward>)\n",
      "Loss = tensor(1.3825, device='cuda:0', grad_fn=<NllLoss2DBackward>)\n",
      "Loss = tensor(1.3383, device='cuda:0', grad_fn=<NllLoss2DBackward>)\n",
      "Loss = tensor(1.3482, device='cuda:0', grad_fn=<NllLoss2DBackward>)\n",
      "EPOCH:  41\n"
     ]
    },
    {
     "data": {
      "image/png": "[encoded data removed]",
      "text/plain": [
       "<PIL.Image.Image image mode=RGB size=60x60 at 0x7F6320084AF0>"
      ]
     },
     "metadata": {},
     "output_type": "display_data"
    },
    {
     "name": "stdout",
     "output_type": "stream",
     "text": [
      "Learning rate:  0.00021600000000000002\n",
      "Loss = tensor(1.3175, device='cuda:0', grad_fn=<NllLoss2DBackward>)\n",
      "Loss = tensor(1.3371, device='cuda:0', grad_fn=<NllLoss2DBackward>)\n",
      "Loss = tensor(1.3707, device='cuda:0', grad_fn=<NllLoss2DBackward>)\n",
      "Loss = tensor(1.3430, device='cuda:0', grad_fn=<NllLoss2DBackward>)\n",
      "Loss = tensor(1.3415, device='cuda:0', grad_fn=<NllLoss2DBackward>)\n",
      "EPOCH:  41\n"
     ]
    },
    {
     "data": {
      "image/png": "[encoded data removed]",
      "text/plain": [
       "<PIL.Image.Image image mode=RGB size=60x60 at 0x7F6320084AF0>"
      ]
     },
     "metadata": {},
     "output_type": "display_data"
    },
    {
     "name": "stdout",
     "output_type": "stream",
     "text": [
      "Learning rate:  0.00021600000000000002\n",
      "Loss = tensor(1.3413, device='cuda:0', grad_fn=<NllLoss2DBackward>)\n",
      "Loss = tensor(1.3604, device='cuda:0', grad_fn=<NllLoss2DBackward>)\n",
      "EPOCH:  42\n"
     ]
    },
    {
     "data": {
      "image/png": "[encoded data removed]",
      "text/plain": [
       "<PIL.Image.Image image mode=RGB size=60x60 at 0x7F6328923730>"
      ]
     },
     "metadata": {},
     "output_type": "display_data"
    },
    {
     "name": "stdout",
     "output_type": "stream",
     "text": [
      "Learning rate:  0.00021600000000000002\n",
      "Loss = tensor(1.3784, device='cuda:0', grad_fn=<NllLoss2DBackward>)\n",
      "Loss = tensor(1.3912, device='cuda:0', grad_fn=<NllLoss2DBackward>)\n",
      "Loss = tensor(1.3298, device='cuda:0', grad_fn=<NllLoss2DBackward>)\n",
      "Loss = tensor(1.3934, device='cuda:0', grad_fn=<NllLoss2DBackward>)\n",
      "Loss = tensor(1.3314, device='cuda:0', grad_fn=<NllLoss2DBackward>)\n",
      "EPOCH:  42\n"
     ]
    },
    {
     "data": {
      "image/png": "[encoded data removed]",
      "text/plain": [
       "<PIL.Image.Image image mode=RGB size=60x60 at 0x7F6328923730>"
      ]
     },
     "metadata": {},
     "output_type": "display_data"
    },
    {
     "name": "stdout",
     "output_type": "stream",
     "text": [
      "Learning rate:  0.00021600000000000002\n",
      "Loss = tensor(1.3206, device='cuda:0', grad_fn=<NllLoss2DBackward>)\n",
      "Loss = tensor(1.3410, device='cuda:0', grad_fn=<NllLoss2DBackward>)\n",
      "Loss = tensor(1.3492, device='cuda:0', grad_fn=<NllLoss2DBackward>)\n",
      "Loss = tensor(1.3273, device='cuda:0', grad_fn=<NllLoss2DBackward>)\n",
      "Loss = tensor(1.3641, device='cuda:0', grad_fn=<NllLoss2DBackward>)\n",
      "EPOCH:  42\n"
     ]
    },
    {
     "data": {
      "image/png": "[encoded data removed]",
      "text/plain": [
       "<PIL.Image.Image image mode=RGB size=60x60 at 0x7F6328923460>"
      ]
     },
     "metadata": {},
     "output_type": "display_data"
    },
    {
     "name": "stdout",
     "output_type": "stream",
     "text": [
      "Learning rate:  0.00021600000000000002\n",
      "Loss = tensor(1.3789, device='cuda:0', grad_fn=<NllLoss2DBackward>)\n",
      "Loss = tensor(1.3387, device='cuda:0', grad_fn=<NllLoss2DBackward>)\n",
      "EPOCH:  43\n"
     ]
    },
    {
     "data": {
      "image/png": "[encoded data removed]",
      "text/plain": [
       "<PIL.Image.Image image mode=RGB size=60x60 at 0x7F6320084AF0>"
      ]
     },
     "metadata": {},
     "output_type": "display_data"
    },
    {
     "name": "stdout",
     "output_type": "stream",
     "text": [
      "Learning rate:  0.00021600000000000002\n",
      "Loss = tensor(1.3529, device='cuda:0', grad_fn=<NllLoss2DBackward>)\n",
      "Loss = tensor(1.3430, device='cuda:0', grad_fn=<NllLoss2DBackward>)\n",
      "Loss = tensor(1.3424, device='cuda:0', grad_fn=<NllLoss2DBackward>)\n",
      "Loss = tensor(1.3470, device='cuda:0', grad_fn=<NllLoss2DBackward>)\n",
      "Loss = tensor(1.3946, device='cuda:0', grad_fn=<NllLoss2DBackward>)\n",
      "EPOCH:  43\n"
     ]
    },
    {
     "data": {
      "image/png": "[encoded data removed]",
      "text/plain": [
       "<PIL.Image.Image image mode=RGB size=60x60 at 0x7F6320084AF0>"
      ]
     },
     "metadata": {},
     "output_type": "display_data"
    },
    {
     "name": "stdout",
     "output_type": "stream",
     "text": [
      "Learning rate:  0.00021600000000000002\n",
      "Loss = tensor(1.3290, device='cuda:0', grad_fn=<NllLoss2DBackward>)\n",
      "Loss = tensor(1.3240, device='cuda:0', grad_fn=<NllLoss2DBackward>)\n",
      "Loss = tensor(1.3660, device='cuda:0', grad_fn=<NllLoss2DBackward>)\n",
      "Loss = tensor(1.3449, device='cuda:0', grad_fn=<NllLoss2DBackward>)\n",
      "Loss = tensor(1.4016, device='cuda:0', grad_fn=<NllLoss2DBackward>)\n",
      "EPOCH:  43\n"
     ]
    },
    {
     "data": {
      "image/png": "[encoded data removed]",
      "text/plain": [
       "<PIL.Image.Image image mode=RGB size=60x60 at 0x7F6320084AF0>"
      ]
     },
     "metadata": {},
     "output_type": "display_data"
    },
    {
     "name": "stdout",
     "output_type": "stream",
     "text": [
      "Learning rate:  0.00021600000000000002\n",
      "Loss = tensor(1.3742, device='cuda:0', grad_fn=<NllLoss2DBackward>)\n",
      "Loss = tensor(1.3489, device='cuda:0', grad_fn=<NllLoss2DBackward>)\n",
      "EPOCH:  44\n"
     ]
    },
    {
     "data": {
      "image/png": "[encoded data removed]",
      "text/plain": [
       "<PIL.Image.Image image mode=RGB size=60x60 at 0x7F63AC85DF40>"
      ]
     },
     "metadata": {},
     "output_type": "display_data"
    },
    {
     "name": "stdout",
     "output_type": "stream",
     "text": [
      "Learning rate:  0.00021600000000000002\n",
      "Loss = tensor(1.3502, device='cuda:0', grad_fn=<NllLoss2DBackward>)\n",
      "Loss = tensor(1.3652, device='cuda:0', grad_fn=<NllLoss2DBackward>)\n",
      "Loss = tensor(1.3480, device='cuda:0', grad_fn=<NllLoss2DBackward>)\n",
      "Loss = tensor(1.3555, device='cuda:0', grad_fn=<NllLoss2DBackward>)\n",
      "Loss = tensor(1.3645, device='cuda:0', grad_fn=<NllLoss2DBackward>)\n",
      "EPOCH:  44\n"
     ]
    },
    {
     "data": {
      "image/png": "[encoded data removed]",
      "text/plain": [
       "<PIL.Image.Image image mode=RGB size=60x60 at 0x7F6320084070>"
      ]
     },
     "metadata": {},
     "output_type": "display_data"
    },
    {
     "name": "stdout",
     "output_type": "stream",
     "text": [
      "Learning rate:  0.00021600000000000002\n",
      "Loss = tensor(1.3431, device='cuda:0', grad_fn=<NllLoss2DBackward>)\n",
      "Loss = tensor(1.3303, device='cuda:0', grad_fn=<NllLoss2DBackward>)\n",
      "Loss = tensor(1.3436, device='cuda:0', grad_fn=<NllLoss2DBackward>)\n",
      "Loss = tensor(1.3516, device='cuda:0', grad_fn=<NllLoss2DBackward>)\n",
      "Loss = tensor(1.3769, device='cuda:0', grad_fn=<NllLoss2DBackward>)\n",
      "EPOCH:  44\n"
     ]
    },
    {
     "data": {
      "image/png": "[encoded data removed]",
      "text/plain": [
       "<PIL.Image.Image image mode=RGB size=60x60 at 0x7F6320084AF0>"
      ]
     },
     "metadata": {},
     "output_type": "display_data"
    },
    {
     "name": "stdout",
     "output_type": "stream",
     "text": [
      "Learning rate:  0.00021600000000000002\n",
      "Loss = tensor(1.3989, device='cuda:0', grad_fn=<NllLoss2DBackward>)\n",
      "Loss = tensor(1.3325, device='cuda:0', grad_fn=<NllLoss2DBackward>)\n",
      "EPOCH:  45\n"
     ]
    },
    {
     "data": {
      "image/png": "[encoded data removed]",
      "text/plain": [
       "<PIL.Image.Image image mode=RGB size=60x60 at 0x7F6328923460>"
      ]
     },
     "metadata": {},
     "output_type": "display_data"
    },
    {
     "name": "stdout",
     "output_type": "stream",
     "text": [
      "Learning rate:  0.00021600000000000002\n",
      "Loss = tensor(1.3533, device='cuda:0', grad_fn=<NllLoss2DBackward>)\n",
      "Loss = tensor(1.3358, device='cuda:0', grad_fn=<NllLoss2DBackward>)\n",
      "Loss = tensor(1.3889, device='cuda:0', grad_fn=<NllLoss2DBackward>)\n",
      "Loss = tensor(1.3586, device='cuda:0', grad_fn=<NllLoss2DBackward>)\n",
      "Loss = tensor(1.3489, device='cuda:0', grad_fn=<NllLoss2DBackward>)\n",
      "EPOCH:  45\n"
     ]
    },
    {
     "data": {
      "image/png": "[encoded data removed]",
      "text/plain": [
       "<PIL.Image.Image image mode=RGB size=60x60 at 0x7F6328923730>"
      ]
     },
     "metadata": {},
     "output_type": "display_data"
    },
    {
     "name": "stdout",
     "output_type": "stream",
     "text": [
      "Learning rate:  0.00021600000000000002\n",
      "Loss = tensor(1.3539, device='cuda:0', grad_fn=<NllLoss2DBackward>)\n",
      "Loss = tensor(1.3760, device='cuda:0', grad_fn=<NllLoss2DBackward>)\n",
      "Loss = tensor(1.3571, device='cuda:0', grad_fn=<NllLoss2DBackward>)\n",
      "Loss = tensor(1.3599, device='cuda:0', grad_fn=<NllLoss2DBackward>)\n",
      "Loss = tensor(1.3567, device='cuda:0', grad_fn=<NllLoss2DBackward>)\n",
      "EPOCH:  45\n"
     ]
    },
    {
     "data": {
      "image/png": "[encoded data removed]",
      "text/plain": [
       "<PIL.Image.Image image mode=RGB size=60x60 at 0x7F6328923460>"
      ]
     },
     "metadata": {},
     "output_type": "display_data"
    },
    {
     "name": "stdout",
     "output_type": "stream",
     "text": [
      "Learning rate:  0.00021600000000000002\n",
      "Loss = tensor(1.3187, device='cuda:0', grad_fn=<NllLoss2DBackward>)\n",
      "Loss = tensor(1.4296, device='cuda:0', grad_fn=<NllLoss2DBackward>)\n",
      "EPOCH:  46\n"
     ]
    },
    {
     "data": {
      "image/png": "[encoded data removed]",
      "text/plain": [
       "<PIL.Image.Image image mode=RGB size=60x60 at 0x7F6320084070>"
      ]
     },
     "metadata": {},
     "output_type": "display_data"
    },
    {
     "name": "stdout",
     "output_type": "stream",
     "text": [
      "Learning rate:  0.00021600000000000002\n",
      "Loss = tensor(1.3521, device='cuda:0', grad_fn=<NllLoss2DBackward>)\n",
      "Loss = tensor(1.3516, device='cuda:0', grad_fn=<NllLoss2DBackward>)\n",
      "Loss = tensor(1.3372, device='cuda:0', grad_fn=<NllLoss2DBackward>)\n",
      "Loss = tensor(1.3534, device='cuda:0', grad_fn=<NllLoss2DBackward>)\n",
      "Loss = tensor(1.3336, device='cuda:0', grad_fn=<NllLoss2DBackward>)\n",
      "EPOCH:  46\n"
     ]
    },
    {
     "data": {
      "image/png": "[encoded data removed]",
      "text/plain": [
       "<PIL.Image.Image image mode=RGB size=60x60 at 0x7F6320084AF0>"
      ]
     },
     "metadata": {},
     "output_type": "display_data"
    },
    {
     "name": "stdout",
     "output_type": "stream",
     "text": [
      "Learning rate:  0.00021600000000000002\n",
      "Loss = tensor(1.3564, device='cuda:0', grad_fn=<NllLoss2DBackward>)\n",
      "Loss = tensor(1.3322, device='cuda:0', grad_fn=<NllLoss2DBackward>)\n",
      "Loss = tensor(1.3353, device='cuda:0', grad_fn=<NllLoss2DBackward>)\n",
      "Loss = tensor(1.3654, device='cuda:0', grad_fn=<NllLoss2DBackward>)\n",
      "Loss = tensor(1.3342, device='cuda:0', grad_fn=<NllLoss2DBackward>)\n",
      "EPOCH:  46\n"
     ]
    },
    {
     "data": {
      "image/png": "[encoded data removed]",
      "text/plain": [
       "<PIL.Image.Image image mode=RGB size=60x60 at 0x7F6320084070>"
      ]
     },
     "metadata": {},
     "output_type": "display_data"
    },
    {
     "name": "stdout",
     "output_type": "stream",
     "text": [
      "Learning rate:  0.00021600000000000002\n",
      "Loss = tensor(1.3569, device='cuda:0', grad_fn=<NllLoss2DBackward>)\n",
      "Loss = tensor(1.3351, device='cuda:0', grad_fn=<NllLoss2DBackward>)\n",
      "EPOCH:  47\n"
     ]
    },
    {
     "data": {
      "image/png": "[encoded data removed]",
      "text/plain": [
       "<PIL.Image.Image image mode=RGB size=60x60 at 0x7F6328923460>"
      ]
     },
     "metadata": {},
     "output_type": "display_data"
    },
    {
     "name": "stdout",
     "output_type": "stream",
     "text": [
      "Learning rate:  0.00021600000000000002\n",
      "Loss = tensor(1.3367, device='cuda:0', grad_fn=<NllLoss2DBackward>)\n",
      "Loss = tensor(1.3830, device='cuda:0', grad_fn=<NllLoss2DBackward>)\n",
      "Loss = tensor(1.3555, device='cuda:0', grad_fn=<NllLoss2DBackward>)\n",
      "Loss = tensor(1.3395, device='cuda:0', grad_fn=<NllLoss2DBackward>)\n",
      "Loss = tensor(1.3549, device='cuda:0', grad_fn=<NllLoss2DBackward>)\n",
      "EPOCH:  47\n"
     ]
    },
    {
     "data": {
      "image/png": "[encoded data removed]",
      "text/plain": [
       "<PIL.Image.Image image mode=RGB size=60x60 at 0x7F6328923730>"
      ]
     },
     "metadata": {},
     "output_type": "display_data"
    },
    {
     "name": "stdout",
     "output_type": "stream",
     "text": [
      "Learning rate:  0.00021600000000000002\n",
      "Loss = tensor(1.3633, device='cuda:0', grad_fn=<NllLoss2DBackward>)\n",
      "Loss = tensor(1.4148, device='cuda:0', grad_fn=<NllLoss2DBackward>)\n",
      "Loss = tensor(1.3602, device='cuda:0', grad_fn=<NllLoss2DBackward>)\n",
      "Loss = tensor(1.3490, device='cuda:0', grad_fn=<NllLoss2DBackward>)\n",
      "Loss = tensor(1.3435, device='cuda:0', grad_fn=<NllLoss2DBackward>)\n",
      "EPOCH:  47\n"
     ]
    },
    {
     "data": {
      "image/png": "[encoded data removed]",
      "text/plain": [
       "<PIL.Image.Image image mode=RGB size=60x60 at 0x7F6328923730>"
      ]
     },
     "metadata": {},
     "output_type": "display_data"
    },
    {
     "name": "stdout",
     "output_type": "stream",
     "text": [
      "Learning rate:  0.00021600000000000002\n",
      "Loss = tensor(1.3145, device='cuda:0', grad_fn=<NllLoss2DBackward>)\n",
      "Loss = tensor(1.3819, device='cuda:0', grad_fn=<NllLoss2DBackward>)\n",
      "EPOCH:  48\n"
     ]
    },
    {
     "data": {
      "image/png": "[encoded data removed]",
      "text/plain": [
       "<PIL.Image.Image image mode=RGB size=60x60 at 0x7F6320084070>"
      ]
     },
     "metadata": {},
     "output_type": "display_data"
    },
    {
     "name": "stdout",
     "output_type": "stream",
     "text": [
      "Learning rate:  0.00021600000000000002\n",
      "Loss = tensor(1.3575, device='cuda:0', grad_fn=<NllLoss2DBackward>)\n",
      "Loss = tensor(1.3215, device='cuda:0', grad_fn=<NllLoss2DBackward>)\n",
      "Loss = tensor(1.3406, device='cuda:0', grad_fn=<NllLoss2DBackward>)\n",
      "Loss = tensor(1.3494, device='cuda:0', grad_fn=<NllLoss2DBackward>)\n",
      "Loss = tensor(1.3622, device='cuda:0', grad_fn=<NllLoss2DBackward>)\n",
      "EPOCH:  48\n"
     ]
    },
    {
     "data": {
      "image/png": "[encoded data removed]",
      "text/plain": [
       "<PIL.Image.Image image mode=RGB size=60x60 at 0x7F6320084AF0>"
      ]
     },
     "metadata": {},
     "output_type": "display_data"
    },
    {
     "name": "stdout",
     "output_type": "stream",
     "text": [
      "Learning rate:  0.00021600000000000002\n",
      "Loss = tensor(1.3338, device='cuda:0', grad_fn=<NllLoss2DBackward>)\n",
      "Loss = tensor(1.3527, device='cuda:0', grad_fn=<NllLoss2DBackward>)\n",
      "Loss = tensor(1.3607, device='cuda:0', grad_fn=<NllLoss2DBackward>)\n",
      "Loss = tensor(1.3442, device='cuda:0', grad_fn=<NllLoss2DBackward>)\n",
      "Loss = tensor(1.3725, device='cuda:0', grad_fn=<NllLoss2DBackward>)\n",
      "EPOCH:  48\n"
     ]
    },
    {
     "data": {
      "image/png": "[encoded data removed]",
      "text/plain": [
       "<PIL.Image.Image image mode=RGB size=60x60 at 0x7F6320084AF0>"
      ]
     },
     "metadata": {},
     "output_type": "display_data"
    },
    {
     "name": "stdout",
     "output_type": "stream",
     "text": [
      "Learning rate:  0.00021600000000000002\n",
      "Loss = tensor(1.3506, device='cuda:0', grad_fn=<NllLoss2DBackward>)\n",
      "Loss = tensor(1.3406, device='cuda:0', grad_fn=<NllLoss2DBackward>)\n",
      "EPOCH:  49\n"
     ]
    },
    {
     "data": {
      "image/png": "[encoded data removed]",
      "text/plain": [
       "<PIL.Image.Image image mode=RGB size=60x60 at 0x7F63AC85DFD0>"
      ]
     },
     "metadata": {},
     "output_type": "display_data"
    },
    {
     "name": "stdout",
     "output_type": "stream",
     "text": [
      "Learning rate:  0.00021600000000000002\n",
      "Loss = tensor(1.3611, device='cuda:0', grad_fn=<NllLoss2DBackward>)\n",
      "Loss = tensor(1.3489, device='cuda:0', grad_fn=<NllLoss2DBackward>)\n",
      "Loss = tensor(1.3311, device='cuda:0', grad_fn=<NllLoss2DBackward>)\n",
      "Loss = tensor(1.3643, device='cuda:0', grad_fn=<NllLoss2DBackward>)\n",
      "Loss = tensor(1.3366, device='cuda:0', grad_fn=<NllLoss2DBackward>)\n",
      "EPOCH:  49\n"
     ]
    },
    {
     "data": {
      "image/png": "[encoded data removed]",
      "text/plain": [
       "<PIL.Image.Image image mode=RGB size=60x60 at 0x7F63AC85DFD0>"
      ]
     },
     "metadata": {},
     "output_type": "display_data"
    },
    {
     "name": "stdout",
     "output_type": "stream",
     "text": [
      "Learning rate:  0.00021600000000000002\n",
      "Loss = tensor(1.3582, device='cuda:0', grad_fn=<NllLoss2DBackward>)\n",
      "Loss = tensor(1.3822, device='cuda:0', grad_fn=<NllLoss2DBackward>)\n",
      "Loss = tensor(1.4046, device='cuda:0', grad_fn=<NllLoss2DBackward>)\n",
      "Loss = tensor(1.3246, device='cuda:0', grad_fn=<NllLoss2DBackward>)\n",
      "Loss = tensor(1.3539, device='cuda:0', grad_fn=<NllLoss2DBackward>)\n",
      "EPOCH:  49\n"
     ]
    },
    {
     "data": {
      "image/png": "[encoded data removed]",
      "text/plain": [
       "<PIL.Image.Image image mode=RGB size=60x60 at 0x7F63AC85DF40>"
      ]
     },
     "metadata": {},
     "output_type": "display_data"
    },
    {
     "name": "stdout",
     "output_type": "stream",
     "text": [
      "Learning rate:  0.00021600000000000002\n",
      "Loss = tensor(1.3266, device='cuda:0', grad_fn=<NllLoss2DBackward>)\n",
      "Loss = tensor(1.3408, device='cuda:0', grad_fn=<NllLoss2DBackward>)\n",
      "EPOCH:  50\n"
     ]
    },
    {
     "data": {
      "image/png": "[encoded data removed]",
      "text/plain": [
       "<PIL.Image.Image image mode=RGB size=60x60 at 0x7F6320084070>"
      ]
     },
     "metadata": {},
     "output_type": "display_data"
    },
    {
     "name": "stdout",
     "output_type": "stream",
     "text": [
      "Learning rate:  0.00021600000000000002\n",
      "Loss = tensor(1.3961, device='cuda:0', grad_fn=<NllLoss2DBackward>)\n",
      "Loss = tensor(1.3451, device='cuda:0', grad_fn=<NllLoss2DBackward>)\n",
      "Loss = tensor(1.3270, device='cuda:0', grad_fn=<NllLoss2DBackward>)\n",
      "Loss = tensor(1.3673, device='cuda:0', grad_fn=<NllLoss2DBackward>)\n",
      "Loss = tensor(1.3564, device='cuda:0', grad_fn=<NllLoss2DBackward>)\n",
      "EPOCH:  50\n"
     ]
    },
    {
     "data": {
      "image/png": "[encoded data removed]",
      "text/plain": [
       "<PIL.Image.Image image mode=RGB size=60x60 at 0x7F6320084AF0>"
      ]
     },
     "metadata": {},
     "output_type": "display_data"
    },
    {
     "name": "stdout",
     "output_type": "stream",
     "text": [
      "Learning rate:  0.00021600000000000002\n",
      "Loss = tensor(1.3364, device='cuda:0', grad_fn=<NllLoss2DBackward>)\n",
      "Loss = tensor(1.3885, device='cuda:0', grad_fn=<NllLoss2DBackward>)\n",
      "Loss = tensor(1.3467, device='cuda:0', grad_fn=<NllLoss2DBackward>)\n",
      "Loss = tensor(1.3535, device='cuda:0', grad_fn=<NllLoss2DBackward>)\n",
      "Loss = tensor(1.3557, device='cuda:0', grad_fn=<NllLoss2DBackward>)\n",
      "EPOCH:  50\n"
     ]
    },
    {
     "data": {
      "image/png": "[encoded data removed]",
      "text/plain": [
       "<PIL.Image.Image image mode=RGB size=60x60 at 0x7F6320084070>"
      ]
     },
     "metadata": {},
     "output_type": "display_data"
    },
    {
     "name": "stdout",
     "output_type": "stream",
     "text": [
      "Learning rate:  0.00021600000000000002\n",
      "Loss = tensor(1.3131, device='cuda:0', grad_fn=<NllLoss2DBackward>)\n",
      "Loss = tensor(1.3408, device='cuda:0', grad_fn=<NllLoss2DBackward>)\n",
      "EPOCH:  51\n"
     ]
    },
    {
     "data": {
      "image/png": "[encoded data removed]",
      "text/plain": [
       "<PIL.Image.Image image mode=RGB size=60x60 at 0x7F6328923730>"
      ]
     },
     "metadata": {},
     "output_type": "display_data"
    },
    {
     "name": "stdout",
     "output_type": "stream",
     "text": [
      "Learning rate:  0.00021600000000000002\n",
      "Loss = tensor(1.3342, device='cuda:0', grad_fn=<NllLoss2DBackward>)\n",
      "Loss = tensor(1.3181, device='cuda:0', grad_fn=<NllLoss2DBackward>)\n",
      "Loss = tensor(1.3465, device='cuda:0', grad_fn=<NllLoss2DBackward>)\n",
      "Loss = tensor(1.3574, device='cuda:0', grad_fn=<NllLoss2DBackward>)\n",
      "Loss = tensor(1.3951, device='cuda:0', grad_fn=<NllLoss2DBackward>)\n",
      "EPOCH:  51\n"
     ]
    },
    {
     "data": {
      "image/png": "[encoded data removed]",
      "text/plain": [
       "<PIL.Image.Image image mode=RGB size=60x60 at 0x7F6328923460>"
      ]
     },
     "metadata": {},
     "output_type": "display_data"
    },
    {
     "name": "stdout",
     "output_type": "stream",
     "text": [
      "Learning rate:  0.00021600000000000002\n",
      "Loss = tensor(1.3425, device='cuda:0', grad_fn=<NllLoss2DBackward>)\n",
      "Loss = tensor(1.3478, device='cuda:0', grad_fn=<NllLoss2DBackward>)\n",
      "Loss = tensor(1.3439, device='cuda:0', grad_fn=<NllLoss2DBackward>)\n",
      "Loss = tensor(1.3656, device='cuda:0', grad_fn=<NllLoss2DBackward>)\n",
      "Loss = tensor(1.3873, device='cuda:0', grad_fn=<NllLoss2DBackward>)\n",
      "EPOCH:  51\n"
     ]
    },
    {
     "data": {
      "image/png": "[encoded data removed]",
      "text/plain": [
       "<PIL.Image.Image image mode=RGB size=60x60 at 0x7F6328923730>"
      ]
     },
     "metadata": {},
     "output_type": "display_data"
    },
    {
     "name": "stdout",
     "output_type": "stream",
     "text": [
      "Learning rate:  0.00021600000000000002\n",
      "Loss = tensor(1.3302, device='cuda:0', grad_fn=<NllLoss2DBackward>)\n",
      "Loss = tensor(1.3787, device='cuda:0', grad_fn=<NllLoss2DBackward>)\n",
      "EPOCH:  52\n"
     ]
    },
    {
     "data": {
      "image/png": "[encoded data removed]",
      "text/plain": [
       "<PIL.Image.Image image mode=RGB size=60x60 at 0x7F6320084AF0>"
      ]
     },
     "metadata": {},
     "output_type": "display_data"
    },
    {
     "name": "stdout",
     "output_type": "stream",
     "text": [
      "Learning rate:  0.00021600000000000002\n",
      "Loss = tensor(1.3500, device='cuda:0', grad_fn=<NllLoss2DBackward>)\n",
      "Loss = tensor(1.3526, device='cuda:0', grad_fn=<NllLoss2DBackward>)\n",
      "Loss = tensor(1.3398, device='cuda:0', grad_fn=<NllLoss2DBackward>)\n",
      "Loss = tensor(1.3666, device='cuda:0', grad_fn=<NllLoss2DBackward>)\n",
      "Loss = tensor(1.3177, device='cuda:0', grad_fn=<NllLoss2DBackward>)\n",
      "EPOCH:  52\n"
     ]
    },
    {
     "data": {
      "image/png": "[encoded data removed]",
      "text/plain": [
       "<PIL.Image.Image image mode=RGB size=60x60 at 0x7F6320084AF0>"
      ]
     },
     "metadata": {},
     "output_type": "display_data"
    },
    {
     "name": "stdout",
     "output_type": "stream",
     "text": [
      "Learning rate:  0.00021600000000000002\n",
      "Loss = tensor(1.3354, device='cuda:0', grad_fn=<NllLoss2DBackward>)\n",
      "Loss = tensor(1.3521, device='cuda:0', grad_fn=<NllLoss2DBackward>)\n",
      "Loss = tensor(1.3569, device='cuda:0', grad_fn=<NllLoss2DBackward>)\n",
      "Loss = tensor(1.3382, device='cuda:0', grad_fn=<NllLoss2DBackward>)\n",
      "Loss = tensor(1.3641, device='cuda:0', grad_fn=<NllLoss2DBackward>)\n",
      "EPOCH:  52\n"
     ]
    },
    {
     "data": {
      "image/png": "[encoded data removed]",
      "text/plain": [
       "<PIL.Image.Image image mode=RGB size=60x60 at 0x7F6320084AF0>"
      ]
     },
     "metadata": {},
     "output_type": "display_data"
    },
    {
     "name": "stdout",
     "output_type": "stream",
     "text": [
      "Learning rate:  0.00021600000000000002\n",
      "Loss = tensor(1.3519, device='cuda:0', grad_fn=<NllLoss2DBackward>)\n",
      "Loss = tensor(1.3679, device='cuda:0', grad_fn=<NllLoss2DBackward>)\n",
      "EPOCH:  53\n"
     ]
    },
    {
     "data": {
      "image/png": "[encoded data removed]",
      "text/plain": [
       "<PIL.Image.Image image mode=RGB size=60x60 at 0x7F6328923730>"
      ]
     },
     "metadata": {},
     "output_type": "display_data"
    },
    {
     "name": "stdout",
     "output_type": "stream",
     "text": [
      "Learning rate:  0.00021600000000000002\n",
      "Loss = tensor(1.3321, device='cuda:0', grad_fn=<NllLoss2DBackward>)\n",
      "Loss = tensor(1.3276, device='cuda:0', grad_fn=<NllLoss2DBackward>)\n",
      "Loss = tensor(1.3618, device='cuda:0', grad_fn=<NllLoss2DBackward>)\n",
      "Loss = tensor(1.3468, device='cuda:0', grad_fn=<NllLoss2DBackward>)\n",
      "Loss = tensor(1.3289, device='cuda:0', grad_fn=<NllLoss2DBackward>)\n",
      "EPOCH:  53\n"
     ]
    },
    {
     "data": {
      "image/png": "[encoded data removed]",
      "text/plain": [
       "<PIL.Image.Image image mode=RGB size=60x60 at 0x7F6328923460>"
      ]
     },
     "metadata": {},
     "output_type": "display_data"
    },
    {
     "name": "stdout",
     "output_type": "stream",
     "text": [
      "Learning rate:  0.00021600000000000002\n",
      "Loss = tensor(1.3300, device='cuda:0', grad_fn=<NllLoss2DBackward>)\n",
      "Loss = tensor(1.3397, device='cuda:0', grad_fn=<NllLoss2DBackward>)\n",
      "Loss = tensor(1.3975, device='cuda:0', grad_fn=<NllLoss2DBackward>)\n",
      "Loss = tensor(1.3354, device='cuda:0', grad_fn=<NllLoss2DBackward>)\n",
      "Loss = tensor(1.3490, device='cuda:0', grad_fn=<NllLoss2DBackward>)\n",
      "EPOCH:  53\n"
     ]
    },
    {
     "data": {
      "image/png": "[encoded data removed]",
      "text/plain": [
       "<PIL.Image.Image image mode=RGB size=60x60 at 0x7F6328923460>"
      ]
     },
     "metadata": {},
     "output_type": "display_data"
    },
    {
     "name": "stdout",
     "output_type": "stream",
     "text": [
      "Learning rate:  0.00021600000000000002\n",
      "Loss = tensor(1.3979, device='cuda:0', grad_fn=<NllLoss2DBackward>)\n",
      "Loss = tensor(1.3414, device='cuda:0', grad_fn=<NllLoss2DBackward>)\n",
      "EPOCH:  54\n"
     ]
    },
    {
     "data": {
      "image/png": "[encoded data removed]",
      "text/plain": [
       "<PIL.Image.Image image mode=RGB size=60x60 at 0x7F6328923460>"
      ]
     },
     "metadata": {},
     "output_type": "display_data"
    },
    {
     "name": "stdout",
     "output_type": "stream",
     "text": [
      "Learning rate:  0.00021600000000000002\n",
      "Loss = tensor(1.3679, device='cuda:0', grad_fn=<NllLoss2DBackward>)\n",
      "Loss = tensor(1.3391, device='cuda:0', grad_fn=<NllLoss2DBackward>)\n",
      "Loss = tensor(1.3485, device='cuda:0', grad_fn=<NllLoss2DBackward>)\n",
      "Loss = tensor(1.4084, device='cuda:0', grad_fn=<NllLoss2DBackward>)\n",
      "Loss = tensor(1.3356, device='cuda:0', grad_fn=<NllLoss2DBackward>)\n",
      "EPOCH:  54\n"
     ]
    },
    {
     "data": {
      "image/png": "[encoded data removed]",
      "text/plain": [
       "<PIL.Image.Image image mode=RGB size=60x60 at 0x7F6328923460>"
      ]
     },
     "metadata": {},
     "output_type": "display_data"
    },
    {
     "name": "stdout",
     "output_type": "stream",
     "text": [
      "Learning rate:  0.00021600000000000002\n",
      "Loss = tensor(1.3135, device='cuda:0', grad_fn=<NllLoss2DBackward>)\n",
      "Loss = tensor(1.3402, device='cuda:0', grad_fn=<NllLoss2DBackward>)\n",
      "Loss = tensor(1.3333, device='cuda:0', grad_fn=<NllLoss2DBackward>)\n",
      "Loss = tensor(1.4061, device='cuda:0', grad_fn=<NllLoss2DBackward>)\n",
      "Loss = tensor(1.3361, device='cuda:0', grad_fn=<NllLoss2DBackward>)\n",
      "EPOCH:  54\n"
     ]
    },
    {
     "data": {
      "image/png": "[encoded data removed]",
      "text/plain": [
       "<PIL.Image.Image image mode=RGB size=60x60 at 0x7F6328923730>"
      ]
     },
     "metadata": {},
     "output_type": "display_data"
    },
    {
     "name": "stdout",
     "output_type": "stream",
     "text": [
      "Learning rate:  0.00021600000000000002\n",
      "Loss = tensor(1.3317, device='cuda:0', grad_fn=<NllLoss2DBackward>)\n",
      "Loss = tensor(1.3189, device='cuda:0', grad_fn=<NllLoss2DBackward>)\n",
      "EPOCH:  55\n"
     ]
    },
    {
     "data": {
      "image/png": "[encoded data removed]",
      "text/plain": [
       "<PIL.Image.Image image mode=RGB size=60x60 at 0x7F6328923730>"
      ]
     },
     "metadata": {},
     "output_type": "display_data"
    },
    {
     "name": "stdout",
     "output_type": "stream",
     "text": [
      "Learning rate:  0.00021600000000000002\n",
      "Loss = tensor(1.3706, device='cuda:0', grad_fn=<NllLoss2DBackward>)\n",
      "Loss = tensor(1.3536, device='cuda:0', grad_fn=<NllLoss2DBackward>)\n",
      "Loss = tensor(1.3817, device='cuda:0', grad_fn=<NllLoss2DBackward>)\n",
      "Loss = tensor(1.3317, device='cuda:0', grad_fn=<NllLoss2DBackward>)\n",
      "Loss = tensor(1.3342, device='cuda:0', grad_fn=<NllLoss2DBackward>)\n",
      "EPOCH:  55\n"
     ]
    },
    {
     "data": {
      "image/png": "[encoded data removed]",
      "text/plain": [
       "<PIL.Image.Image image mode=RGB size=60x60 at 0x7F6328923730>"
      ]
     },
     "metadata": {},
     "output_type": "display_data"
    },
    {
     "name": "stdout",
     "output_type": "stream",
     "text": [
      "Learning rate:  0.00021600000000000002\n",
      "Loss = tensor(1.3314, device='cuda:0', grad_fn=<NllLoss2DBackward>)\n",
      "Loss = tensor(1.4057, device='cuda:0', grad_fn=<NllLoss2DBackward>)\n",
      "Loss = tensor(1.3344, device='cuda:0', grad_fn=<NllLoss2DBackward>)\n",
      "Loss = tensor(1.3360, device='cuda:0', grad_fn=<NllLoss2DBackward>)\n",
      "Loss = tensor(1.3683, device='cuda:0', grad_fn=<NllLoss2DBackward>)\n",
      "EPOCH:  55\n"
     ]
    },
    {
     "data": {
      "image/png": "[encoded data removed]",
      "text/plain": [
       "<PIL.Image.Image image mode=RGB size=60x60 at 0x7F6328923460>"
      ]
     },
     "metadata": {},
     "output_type": "display_data"
    },
    {
     "name": "stdout",
     "output_type": "stream",
     "text": [
      "Learning rate:  0.00021600000000000002\n",
      "Loss = tensor(1.3248, device='cuda:0', grad_fn=<NllLoss2DBackward>)\n",
      "Loss = tensor(1.3704, device='cuda:0', grad_fn=<NllLoss2DBackward>)\n",
      "EPOCH:  56\n"
     ]
    },
    {
     "data": {
      "image/png": "[encoded data removed]",
      "text/plain": [
       "<PIL.Image.Image image mode=RGB size=60x60 at 0x7F6328923460>"
      ]
     },
     "metadata": {},
     "output_type": "display_data"
    },
    {
     "name": "stdout",
     "output_type": "stream",
     "text": [
      "Learning rate:  0.00021600000000000002\n",
      "Loss = tensor(1.3583, device='cuda:0', grad_fn=<NllLoss2DBackward>)\n",
      "Loss = tensor(1.3519, device='cuda:0', grad_fn=<NllLoss2DBackward>)\n",
      "Loss = tensor(1.3236, device='cuda:0', grad_fn=<NllLoss2DBackward>)\n",
      "Loss = tensor(1.3456, device='cuda:0', grad_fn=<NllLoss2DBackward>)\n",
      "Loss = tensor(1.3132, device='cuda:0', grad_fn=<NllLoss2DBackward>)\n",
      "EPOCH:  56\n"
     ]
    },
    {
     "data": {
      "image/png": "[encoded data removed]",
      "text/plain": [
       "<PIL.Image.Image image mode=RGB size=60x60 at 0x7F6328923460>"
      ]
     },
     "metadata": {},
     "output_type": "display_data"
    },
    {
     "name": "stdout",
     "output_type": "stream",
     "text": [
      "Learning rate:  0.00021600000000000002\n",
      "Loss = tensor(1.3583, device='cuda:0', grad_fn=<NllLoss2DBackward>)\n",
      "Loss = tensor(1.3639, device='cuda:0', grad_fn=<NllLoss2DBackward>)\n",
      "Loss = tensor(1.3521, device='cuda:0', grad_fn=<NllLoss2DBackward>)\n",
      "Loss = tensor(1.3418, device='cuda:0', grad_fn=<NllLoss2DBackward>)\n",
      "Loss = tensor(1.3712, device='cuda:0', grad_fn=<NllLoss2DBackward>)\n",
      "EPOCH:  56\n"
     ]
    },
    {
     "data": {
      "image/png": "[encoded data removed]",
      "text/plain": [
       "<PIL.Image.Image image mode=RGB size=60x60 at 0x7F6328923730>"
      ]
     },
     "metadata": {},
     "output_type": "display_data"
    },
    {
     "name": "stdout",
     "output_type": "stream",
     "text": [
      "Learning rate:  0.00021600000000000002\n",
      "Loss = tensor(1.3290, device='cuda:0', grad_fn=<NllLoss2DBackward>)\n",
      "Loss = tensor(1.3629, device='cuda:0', grad_fn=<NllLoss2DBackward>)\n",
      "EPOCH:  57\n"
     ]
    },
    {
     "data": {
      "image/png": "[encoded data removed]",
      "text/plain": [
       "<PIL.Image.Image image mode=RGB size=60x60 at 0x7F6328923730>"
      ]
     },
     "metadata": {},
     "output_type": "display_data"
    },
    {
     "name": "stdout",
     "output_type": "stream",
     "text": [
      "Learning rate:  0.00021600000000000002\n",
      "Loss = tensor(1.3307, device='cuda:0', grad_fn=<NllLoss2DBackward>)\n",
      "Loss = tensor(1.3125, device='cuda:0', grad_fn=<NllLoss2DBackward>)\n",
      "Loss = tensor(1.3418, device='cuda:0', grad_fn=<NllLoss2DBackward>)\n",
      "Loss = tensor(1.3743, device='cuda:0', grad_fn=<NllLoss2DBackward>)\n",
      "Loss = tensor(1.3380, device='cuda:0', grad_fn=<NllLoss2DBackward>)\n",
      "EPOCH:  57\n"
     ]
    },
    {
     "data": {
      "image/png": "[encoded data removed]",
      "text/plain": [
       "<PIL.Image.Image image mode=RGB size=60x60 at 0x7F6397FE7EE0>"
      ]
     },
     "metadata": {},
     "output_type": "display_data"
    },
    {
     "name": "stdout",
     "output_type": "stream",
     "text": [
      "Learning rate:  0.00021600000000000002\n",
      "Loss = tensor(1.3405, device='cuda:0', grad_fn=<NllLoss2DBackward>)\n",
      "Loss = tensor(1.3669, device='cuda:0', grad_fn=<NllLoss2DBackward>)\n",
      "Loss = tensor(1.3538, device='cuda:0', grad_fn=<NllLoss2DBackward>)\n",
      "Loss = tensor(1.3536, device='cuda:0', grad_fn=<NllLoss2DBackward>)\n",
      "Loss = tensor(1.3722, device='cuda:0', grad_fn=<NllLoss2DBackward>)\n",
      "EPOCH:  57\n"
     ]
    },
    {
     "data": {
      "image/png": "[encoded data removed]",
      "text/plain": [
       "<PIL.Image.Image image mode=RGB size=60x60 at 0x7F6397FE7EE0>"
      ]
     },
     "metadata": {},
     "output_type": "display_data"
    },
    {
     "name": "stdout",
     "output_type": "stream",
     "text": [
      "Learning rate:  0.00021600000000000002\n",
      "Loss = tensor(1.3344, device='cuda:0', grad_fn=<NllLoss2DBackward>)\n",
      "Loss = tensor(1.3294, device='cuda:0', grad_fn=<NllLoss2DBackward>)\n",
      "EPOCH:  58\n"
     ]
    },
    {
     "data": {
      "image/png": "[encoded data removed]",
      "text/plain": [
       "<PIL.Image.Image image mode=RGB size=60x60 at 0x7F6328923730>"
      ]
     },
     "metadata": {},
     "output_type": "display_data"
    },
    {
     "name": "stdout",
     "output_type": "stream",
     "text": [
      "Learning rate:  0.00021600000000000002\n",
      "Loss = tensor(1.3474, device='cuda:0', grad_fn=<NllLoss2DBackward>)\n",
      "Loss = tensor(1.3606, device='cuda:0', grad_fn=<NllLoss2DBackward>)\n",
      "Loss = tensor(1.3268, device='cuda:0', grad_fn=<NllLoss2DBackward>)\n",
      "Loss = tensor(1.3981, device='cuda:0', grad_fn=<NllLoss2DBackward>)\n",
      "Loss = tensor(1.3218, device='cuda:0', grad_fn=<NllLoss2DBackward>)\n",
      "EPOCH:  58\n"
     ]
    },
    {
     "data": {
      "image/png": "[encoded data removed]",
      "text/plain": [
       "<PIL.Image.Image image mode=RGB size=60x60 at 0x7F6328923730>"
      ]
     },
     "metadata": {},
     "output_type": "display_data"
    },
    {
     "name": "stdout",
     "output_type": "stream",
     "text": [
      "Learning rate:  0.00021600000000000002\n",
      "Loss = tensor(1.3628, device='cuda:0', grad_fn=<NllLoss2DBackward>)\n",
      "Loss = tensor(1.3187, device='cuda:0', grad_fn=<NllLoss2DBackward>)\n",
      "Loss = tensor(1.3302, device='cuda:0', grad_fn=<NllLoss2DBackward>)\n",
      "Loss = tensor(1.3404, device='cuda:0', grad_fn=<NllLoss2DBackward>)\n",
      "Loss = tensor(1.3714, device='cuda:0', grad_fn=<NllLoss2DBackward>)\n",
      "EPOCH:  58\n"
     ]
    },
    {
     "data": {
      "image/png": "[encoded data removed]",
      "text/plain": [
       "<PIL.Image.Image image mode=RGB size=60x60 at 0x7F6328923460>"
      ]
     },
     "metadata": {},
     "output_type": "display_data"
    },
    {
     "name": "stdout",
     "output_type": "stream",
     "text": [
      "Learning rate:  0.00021600000000000002\n",
      "Loss = tensor(1.3682, device='cuda:0', grad_fn=<NllLoss2DBackward>)\n",
      "Loss = tensor(1.3810, device='cuda:0', grad_fn=<NllLoss2DBackward>)\n",
      "EPOCH:  59\n"
     ]
    },
    {
     "data": {
      "image/png": "[encoded data removed]",
      "text/plain": [
       "<PIL.Image.Image image mode=RGB size=60x60 at 0x7F6328923460>"
      ]
     },
     "metadata": {},
     "output_type": "display_data"
    },
    {
     "name": "stdout",
     "output_type": "stream",
     "text": [
      "Learning rate:  0.00021600000000000002\n",
      "Loss = tensor(1.3337, device='cuda:0', grad_fn=<NllLoss2DBackward>)\n",
      "Loss = tensor(1.3429, device='cuda:0', grad_fn=<NllLoss2DBackward>)\n",
      "Loss = tensor(1.3909, device='cuda:0', grad_fn=<NllLoss2DBackward>)\n",
      "Loss = tensor(1.3071, device='cuda:0', grad_fn=<NllLoss2DBackward>)\n",
      "Loss = tensor(1.3049, device='cuda:0', grad_fn=<NllLoss2DBackward>)\n",
      "EPOCH:  59\n"
     ]
    },
    {
     "data": {
      "image/png": "[encoded data removed]",
      "text/plain": [
       "<PIL.Image.Image image mode=RGB size=60x60 at 0x7F6328923730>"
      ]
     },
     "metadata": {},
     "output_type": "display_data"
    },
    {
     "name": "stdout",
     "output_type": "stream",
     "text": [
      "Learning rate:  0.00021600000000000002\n",
      "Loss = tensor(1.3319, device='cuda:0', grad_fn=<NllLoss2DBackward>)\n",
      "Loss = tensor(1.3287, device='cuda:0', grad_fn=<NllLoss2DBackward>)\n",
      "Loss = tensor(1.3712, device='cuda:0', grad_fn=<NllLoss2DBackward>)\n",
      "Loss = tensor(1.3554, device='cuda:0', grad_fn=<NllLoss2DBackward>)\n",
      "Loss = tensor(1.3796, device='cuda:0', grad_fn=<NllLoss2DBackward>)\n",
      "EPOCH:  59\n"
     ]
    },
    {
     "data": {
      "image/png": "[encoded data removed]",
      "text/plain": [
       "<PIL.Image.Image image mode=RGB size=60x60 at 0x7F6328923730>"
      ]
     },
     "metadata": {},
     "output_type": "display_data"
    },
    {
     "name": "stdout",
     "output_type": "stream",
     "text": [
      "Learning rate:  0.00021600000000000002\n",
      "Loss = tensor(1.3514, device='cuda:0', grad_fn=<NllLoss2DBackward>)\n",
      "Loss = tensor(1.3441, device='cuda:0', grad_fn=<NllLoss2DBackward>)\n",
      "EPOCH:  60\n"
     ]
    },
    {
     "data": {
      "image/png": "[encoded data removed]",
      "text/plain": [
       "<PIL.Image.Image image mode=RGB size=60x60 at 0x7F6328923730>"
      ]
     },
     "metadata": {},
     "output_type": "display_data"
    },
    {
     "name": "stdout",
     "output_type": "stream",
     "text": [
      "Learning rate:  0.0001296\n",
      "Loss = tensor(1.3228, device='cuda:0', grad_fn=<NllLoss2DBackward>)\n",
      "Loss = tensor(1.3190, device='cuda:0', grad_fn=<NllLoss2DBackward>)\n",
      "Loss = tensor(1.3319, device='cuda:0', grad_fn=<NllLoss2DBackward>)\n",
      "Loss = tensor(1.3209, device='cuda:0', grad_fn=<NllLoss2DBackward>)\n",
      "Loss = tensor(1.3701, device='cuda:0', grad_fn=<NllLoss2DBackward>)\n",
      "EPOCH:  60\n"
     ]
    },
    {
     "data": {
      "image/png": "[encoded data removed]",
      "text/plain": [
       "<PIL.Image.Image image mode=RGB size=60x60 at 0x7F6328923460>"
      ]
     },
     "metadata": {},
     "output_type": "display_data"
    },
    {
     "name": "stdout",
     "output_type": "stream",
     "text": [
      "Learning rate:  0.0001296\n",
      "Loss = tensor(1.3553, device='cuda:0', grad_fn=<NllLoss2DBackward>)\n",
      "Loss = tensor(1.3753, device='cuda:0', grad_fn=<NllLoss2DBackward>)\n",
      "Loss = tensor(1.3499, device='cuda:0', grad_fn=<NllLoss2DBackward>)\n",
      "Loss = tensor(1.3548, device='cuda:0', grad_fn=<NllLoss2DBackward>)\n",
      "Loss = tensor(1.3679, device='cuda:0', grad_fn=<NllLoss2DBackward>)\n",
      "EPOCH:  60\n"
     ]
    },
    {
     "data": {
      "image/png": "[encoded data removed]",
      "text/plain": [
       "<PIL.Image.Image image mode=RGB size=60x60 at 0x7F6328923730>"
      ]
     },
     "metadata": {},
     "output_type": "display_data"
    },
    {
     "name": "stdout",
     "output_type": "stream",
     "text": [
      "Learning rate:  0.0001296\n",
      "Loss = tensor(1.3635, device='cuda:0', grad_fn=<NllLoss2DBackward>)\n",
      "Loss = tensor(1.3485, device='cuda:0', grad_fn=<NllLoss2DBackward>)\n",
      "EPOCH:  61\n"
     ]
    },
    {
     "data": {
      "image/png": "[encoded data removed]",
      "text/plain": [
       "<PIL.Image.Image image mode=RGB size=60x60 at 0x7F6328923730>"
      ]
     },
     "metadata": {},
     "output_type": "display_data"
    },
    {
     "name": "stdout",
     "output_type": "stream",
     "text": [
      "Learning rate:  0.0001296\n",
      "Loss = tensor(1.3420, device='cuda:0', grad_fn=<NllLoss2DBackward>)\n",
      "Loss = tensor(1.3819, device='cuda:0', grad_fn=<NllLoss2DBackward>)\n",
      "Loss = tensor(1.3191, device='cuda:0', grad_fn=<NllLoss2DBackward>)\n",
      "Loss = tensor(1.3879, device='cuda:0', grad_fn=<NllLoss2DBackward>)\n",
      "Loss = tensor(1.3424, device='cuda:0', grad_fn=<NllLoss2DBackward>)\n",
      "EPOCH:  61\n"
     ]
    },
    {
     "data": {
      "image/png": "[encoded data removed]",
      "text/plain": [
       "<PIL.Image.Image image mode=RGB size=60x60 at 0x7F6328923460>"
      ]
     },
     "metadata": {},
     "output_type": "display_data"
    },
    {
     "name": "stdout",
     "output_type": "stream",
     "text": [
      "Learning rate:  0.0001296\n",
      "Loss = tensor(1.3343, device='cuda:0', grad_fn=<NllLoss2DBackward>)\n",
      "Loss = tensor(1.3564, device='cuda:0', grad_fn=<NllLoss2DBackward>)\n",
      "Loss = tensor(1.3314, device='cuda:0', grad_fn=<NllLoss2DBackward>)\n",
      "Loss = tensor(1.3345, device='cuda:0', grad_fn=<NllLoss2DBackward>)\n",
      "Loss = tensor(1.3452, device='cuda:0', grad_fn=<NllLoss2DBackward>)\n",
      "EPOCH:  61\n"
     ]
    },
    {
     "data": {
      "image/png": "[encoded data removed]",
      "text/plain": [
       "<PIL.Image.Image image mode=RGB size=60x60 at 0x7F6328923460>"
      ]
     },
     "metadata": {},
     "output_type": "display_data"
    },
    {
     "name": "stdout",
     "output_type": "stream",
     "text": [
      "Learning rate:  0.0001296\n",
      "Loss = tensor(1.3290, device='cuda:0', grad_fn=<NllLoss2DBackward>)\n",
      "Loss = tensor(1.3329, device='cuda:0', grad_fn=<NllLoss2DBackward>)\n",
      "EPOCH:  62\n"
     ]
    },
    {
     "data": {
      "image/png": "[encoded data removed]",
      "text/plain": [
       "<PIL.Image.Image image mode=RGB size=60x60 at 0x7F6328923460>"
      ]
     },
     "metadata": {},
     "output_type": "display_data"
    },
    {
     "name": "stdout",
     "output_type": "stream",
     "text": [
      "Learning rate:  0.0001296\n",
      "Loss = tensor(1.3373, device='cuda:0', grad_fn=<NllLoss2DBackward>)\n",
      "Loss = tensor(1.3467, device='cuda:0', grad_fn=<NllLoss2DBackward>)\n",
      "Loss = tensor(1.3522, device='cuda:0', grad_fn=<NllLoss2DBackward>)\n",
      "Loss = tensor(1.3722, device='cuda:0', grad_fn=<NllLoss2DBackward>)\n",
      "Loss = tensor(1.3309, device='cuda:0', grad_fn=<NllLoss2DBackward>)\n",
      "EPOCH:  62\n"
     ]
    },
    {
     "data": {
      "image/png": "[encoded data removed]",
      "text/plain": [
       "<PIL.Image.Image image mode=RGB size=60x60 at 0x7F6328923730>"
      ]
     },
     "metadata": {},
     "output_type": "display_data"
    },
    {
     "name": "stdout",
     "output_type": "stream",
     "text": [
      "Learning rate:  0.0001296\n",
      "Loss = tensor(1.3259, device='cuda:0', grad_fn=<NllLoss2DBackward>)\n",
      "Loss = tensor(1.3437, device='cuda:0', grad_fn=<NllLoss2DBackward>)\n",
      "Loss = tensor(1.3672, device='cuda:0', grad_fn=<NllLoss2DBackward>)\n",
      "Loss = tensor(1.3175, device='cuda:0', grad_fn=<NllLoss2DBackward>)\n",
      "Loss = tensor(1.3754, device='cuda:0', grad_fn=<NllLoss2DBackward>)\n",
      "EPOCH:  62\n"
     ]
    },
    {
     "data": {
      "image/png": "[encoded data removed]",
      "text/plain": [
       "<PIL.Image.Image image mode=RGB size=60x60 at 0x7F6328923730>"
      ]
     },
     "metadata": {},
     "output_type": "display_data"
    },
    {
     "name": "stdout",
     "output_type": "stream",
     "text": [
      "Learning rate:  0.0001296\n",
      "Loss = tensor(1.3543, device='cuda:0', grad_fn=<NllLoss2DBackward>)\n",
      "Loss = tensor(1.3410, device='cuda:0', grad_fn=<NllLoss2DBackward>)\n",
      "EPOCH:  63\n"
     ]
    },
    {
     "data": {
      "image/png": "[encoded data removed]",
      "text/plain": [
       "<PIL.Image.Image image mode=RGB size=60x60 at 0x7F6328923730>"
      ]
     },
     "metadata": {},
     "output_type": "display_data"
    },
    {
     "name": "stdout",
     "output_type": "stream",
     "text": [
      "Learning rate:  0.0001296\n",
      "Loss = tensor(1.3687, device='cuda:0', grad_fn=<NllLoss2DBackward>)\n",
      "Loss = tensor(1.3463, device='cuda:0', grad_fn=<NllLoss2DBackward>)\n",
      "Loss = tensor(1.3127, device='cuda:0', grad_fn=<NllLoss2DBackward>)\n",
      "Loss = tensor(1.3224, device='cuda:0', grad_fn=<NllLoss2DBackward>)\n",
      "Loss = tensor(1.3695, device='cuda:0', grad_fn=<NllLoss2DBackward>)\n",
      "EPOCH:  63\n"
     ]
    },
    {
     "data": {
      "image/png": "[encoded data removed]",
      "text/plain": [
       "<PIL.Image.Image image mode=RGB size=60x60 at 0x7F6328923460>"
      ]
     },
     "metadata": {},
     "output_type": "display_data"
    },
    {
     "name": "stdout",
     "output_type": "stream",
     "text": [
      "Learning rate:  0.0001296\n",
      "Loss = tensor(1.3383, device='cuda:0', grad_fn=<NllLoss2DBackward>)\n",
      "Loss = tensor(1.3402, device='cuda:0', grad_fn=<NllLoss2DBackward>)\n",
      "Loss = tensor(1.3789, device='cuda:0', grad_fn=<NllLoss2DBackward>)\n",
      "Loss = tensor(1.3539, device='cuda:0', grad_fn=<NllLoss2DBackward>)\n",
      "Loss = tensor(1.3150, device='cuda:0', grad_fn=<NllLoss2DBackward>)\n",
      "EPOCH:  63\n"
     ]
    },
    {
     "data": {
      "image/png": "[encoded data removed]",
      "text/plain": [
       "<PIL.Image.Image image mode=RGB size=60x60 at 0x7F6328923730>"
      ]
     },
     "metadata": {},
     "output_type": "display_data"
    },
    {
     "name": "stdout",
     "output_type": "stream",
     "text": [
      "Learning rate:  0.0001296\n",
      "Loss = tensor(1.3554, device='cuda:0', grad_fn=<NllLoss2DBackward>)\n",
      "Loss = tensor(1.3462, device='cuda:0', grad_fn=<NllLoss2DBackward>)\n",
      "EPOCH:  64\n"
     ]
    },
    {
     "data": {
      "image/png": "[encoded data removed]",
      "text/plain": [
       "<PIL.Image.Image image mode=RGB size=60x60 at 0x7F6328923730>"
      ]
     },
     "metadata": {},
     "output_type": "display_data"
    },
    {
     "name": "stdout",
     "output_type": "stream",
     "text": [
      "Learning rate:  0.0001296\n",
      "Loss = tensor(1.3950, device='cuda:0', grad_fn=<NllLoss2DBackward>)\n",
      "Loss = tensor(1.3186, device='cuda:0', grad_fn=<NllLoss2DBackward>)\n",
      "Loss = tensor(1.3693, device='cuda:0', grad_fn=<NllLoss2DBackward>)\n",
      "Loss = tensor(1.3542, device='cuda:0', grad_fn=<NllLoss2DBackward>)\n",
      "Loss = tensor(1.3203, device='cuda:0', grad_fn=<NllLoss2DBackward>)\n",
      "EPOCH:  64\n"
     ]
    },
    {
     "data": {
      "image/png": "[encoded data removed]",
      "text/plain": [
       "<PIL.Image.Image image mode=RGB size=60x60 at 0x7F6328923730>"
      ]
     },
     "metadata": {},
     "output_type": "display_data"
    },
    {
     "name": "stdout",
     "output_type": "stream",
     "text": [
      "Learning rate:  0.0001296\n",
      "Loss = tensor(1.3550, device='cuda:0', grad_fn=<NllLoss2DBackward>)\n",
      "Loss = tensor(1.3426, device='cuda:0', grad_fn=<NllLoss2DBackward>)\n",
      "Loss = tensor(1.3350, device='cuda:0', grad_fn=<NllLoss2DBackward>)\n",
      "Loss = tensor(1.3299, device='cuda:0', grad_fn=<NllLoss2DBackward>)\n",
      "Loss = tensor(1.3569, device='cuda:0', grad_fn=<NllLoss2DBackward>)\n",
      "EPOCH:  64\n"
     ]
    },
    {
     "data": {
      "image/png": "[encoded data removed]",
      "text/plain": [
       "<PIL.Image.Image image mode=RGB size=60x60 at 0x7F6328923730>"
      ]
     },
     "metadata": {},
     "output_type": "display_data"
    },
    {
     "name": "stdout",
     "output_type": "stream",
     "text": [
      "Learning rate:  0.0001296\n",
      "Loss = tensor(1.3314, device='cuda:0', grad_fn=<NllLoss2DBackward>)\n",
      "Loss = tensor(1.3292, device='cuda:0', grad_fn=<NllLoss2DBackward>)\n",
      "EPOCH:  65\n"
     ]
    },
    {
     "data": {
      "image/png": "[encoded data removed]",
      "text/plain": [
       "<PIL.Image.Image image mode=RGB size=60x60 at 0x7F6328923730>"
      ]
     },
     "metadata": {},
     "output_type": "display_data"
    },
    {
     "name": "stdout",
     "output_type": "stream",
     "text": [
      "Learning rate:  0.0001296\n",
      "Loss = tensor(1.3556, device='cuda:0', grad_fn=<NllLoss2DBackward>)\n",
      "Loss = tensor(1.3350, device='cuda:0', grad_fn=<NllLoss2DBackward>)\n",
      "Loss = tensor(1.3358, device='cuda:0', grad_fn=<NllLoss2DBackward>)\n",
      "Loss = tensor(1.3629, device='cuda:0', grad_fn=<NllLoss2DBackward>)\n",
      "Loss = tensor(1.3313, device='cuda:0', grad_fn=<NllLoss2DBackward>)\n",
      "EPOCH:  65\n"
     ]
    },
    {
     "data": {
      "image/png": "[encoded data removed]",
      "text/plain": [
       "<PIL.Image.Image image mode=RGB size=60x60 at 0x7F6328923730>"
      ]
     },
     "metadata": {},
     "output_type": "display_data"
    },
    {
     "name": "stdout",
     "output_type": "stream",
     "text": [
      "Learning rate:  0.0001296\n",
      "Loss = tensor(1.3442, device='cuda:0', grad_fn=<NllLoss2DBackward>)\n",
      "Loss = tensor(1.3436, device='cuda:0', grad_fn=<NllLoss2DBackward>)\n",
      "Loss = tensor(1.3627, device='cuda:0', grad_fn=<NllLoss2DBackward>)\n",
      "Loss = tensor(1.3432, device='cuda:0', grad_fn=<NllLoss2DBackward>)\n",
      "Loss = tensor(1.3856, device='cuda:0', grad_fn=<NllLoss2DBackward>)\n",
      "EPOCH:  65\n"
     ]
    },
    {
     "data": {
      "image/png": "[encoded data removed]",
      "text/plain": [
       "<PIL.Image.Image image mode=RGB size=60x60 at 0x7F6328923460>"
      ]
     },
     "metadata": {},
     "output_type": "display_data"
    },
    {
     "name": "stdout",
     "output_type": "stream",
     "text": [
      "Learning rate:  0.0001296\n",
      "Loss = tensor(1.3162, device='cuda:0', grad_fn=<NllLoss2DBackward>)\n",
      "Loss = tensor(1.3580, device='cuda:0', grad_fn=<NllLoss2DBackward>)\n",
      "EPOCH:  66\n"
     ]
    },
    {
     "data": {
      "image/png": "[encoded data removed]",
      "text/plain": [
       "<PIL.Image.Image image mode=RGB size=60x60 at 0x7F6328923730>"
      ]
     },
     "metadata": {},
     "output_type": "display_data"
    },
    {
     "name": "stdout",
     "output_type": "stream",
     "text": [
      "Learning rate:  0.0001296\n",
      "Loss = tensor(1.3376, device='cuda:0', grad_fn=<NllLoss2DBackward>)\n",
      "Loss = tensor(1.3395, device='cuda:0', grad_fn=<NllLoss2DBackward>)\n",
      "Loss = tensor(1.3606, device='cuda:0', grad_fn=<NllLoss2DBackward>)\n",
      "Loss = tensor(1.3339, device='cuda:0', grad_fn=<NllLoss2DBackward>)\n",
      "Loss = tensor(1.3644, device='cuda:0', grad_fn=<NllLoss2DBackward>)\n",
      "EPOCH:  66\n"
     ]
    },
    {
     "data": {
      "image/png": "[encoded data removed]",
      "text/plain": [
       "<PIL.Image.Image image mode=RGB size=60x60 at 0x7F6328923730>"
      ]
     },
     "metadata": {},
     "output_type": "display_data"
    },
    {
     "name": "stdout",
     "output_type": "stream",
     "text": [
      "Learning rate:  0.0001296\n",
      "Loss = tensor(1.3395, device='cuda:0', grad_fn=<NllLoss2DBackward>)\n",
      "Loss = tensor(1.3235, device='cuda:0', grad_fn=<NllLoss2DBackward>)\n",
      "Loss = tensor(1.3582, device='cuda:0', grad_fn=<NllLoss2DBackward>)\n",
      "Loss = tensor(1.3267, device='cuda:0', grad_fn=<NllLoss2DBackward>)\n",
      "Loss = tensor(1.3328, device='cuda:0', grad_fn=<NllLoss2DBackward>)\n",
      "EPOCH:  66\n"
     ]
    },
    {
     "data": {
      "image/png": "[encoded data removed]",
      "text/plain": [
       "<PIL.Image.Image image mode=RGB size=60x60 at 0x7F6328923460>"
      ]
     },
     "metadata": {},
     "output_type": "display_data"
    },
    {
     "name": "stdout",
     "output_type": "stream",
     "text": [
      "Learning rate:  0.0001296\n",
      "Loss = tensor(1.3601, device='cuda:0', grad_fn=<NllLoss2DBackward>)\n",
      "Loss = tensor(1.3269, device='cuda:0', grad_fn=<NllLoss2DBackward>)\n",
      "EPOCH:  67\n"
     ]
    },
    {
     "data": {
      "image/png": "[encoded data removed]",
      "text/plain": [
       "<PIL.Image.Image image mode=RGB size=60x60 at 0x7F6328923460>"
      ]
     },
     "metadata": {},
     "output_type": "display_data"
    },
    {
     "name": "stdout",
     "output_type": "stream",
     "text": [
      "Learning rate:  0.0001296\n",
      "Loss = tensor(1.3276, device='cuda:0', grad_fn=<NllLoss2DBackward>)\n",
      "Loss = tensor(1.3785, device='cuda:0', grad_fn=<NllLoss2DBackward>)\n",
      "Loss = tensor(1.3084, device='cuda:0', grad_fn=<NllLoss2DBackward>)\n",
      "Loss = tensor(1.3093, device='cuda:0', grad_fn=<NllLoss2DBackward>)\n",
      "Loss = tensor(1.3781, device='cuda:0', grad_fn=<NllLoss2DBackward>)\n",
      "EPOCH:  67\n"
     ]
    },
    {
     "data": {
      "image/png": "[encoded data removed]",
      "text/plain": [
       "<PIL.Image.Image image mode=RGB size=60x60 at 0x7F6328923730>"
      ]
     },
     "metadata": {},
     "output_type": "display_data"
    },
    {
     "name": "stdout",
     "output_type": "stream",
     "text": [
      "Learning rate:  0.0001296\n",
      "Loss = tensor(1.3377, device='cuda:0', grad_fn=<NllLoss2DBackward>)\n",
      "Loss = tensor(1.3534, device='cuda:0', grad_fn=<NllLoss2DBackward>)\n",
      "Loss = tensor(1.3314, device='cuda:0', grad_fn=<NllLoss2DBackward>)\n",
      "Loss = tensor(1.3519, device='cuda:0', grad_fn=<NllLoss2DBackward>)\n",
      "Loss = tensor(1.3808, device='cuda:0', grad_fn=<NllLoss2DBackward>)\n",
      "EPOCH:  67\n"
     ]
    },
    {
     "data": {
      "image/png": "[encoded data removed]",
      "text/plain": [
       "<PIL.Image.Image image mode=RGB size=60x60 at 0x7F6328923460>"
      ]
     },
     "metadata": {},
     "output_type": "display_data"
    },
    {
     "name": "stdout",
     "output_type": "stream",
     "text": [
      "Learning rate:  0.0001296\n",
      "Loss = tensor(1.3634, device='cuda:0', grad_fn=<NllLoss2DBackward>)\n",
      "Loss = tensor(1.3404, device='cuda:0', grad_fn=<NllLoss2DBackward>)\n",
      "EPOCH:  68\n"
     ]
    },
    {
     "data": {
      "image/png": "[encoded data removed]",
      "text/plain": [
       "<PIL.Image.Image image mode=RGB size=60x60 at 0x7F6328923460>"
      ]
     },
     "metadata": {},
     "output_type": "display_data"
    },
    {
     "name": "stdout",
     "output_type": "stream",
     "text": [
      "Learning rate:  0.0001296\n",
      "Loss = tensor(1.3400, device='cuda:0', grad_fn=<NllLoss2DBackward>)\n",
      "Loss = tensor(1.3456, device='cuda:0', grad_fn=<NllLoss2DBackward>)\n",
      "Loss = tensor(1.3626, device='cuda:0', grad_fn=<NllLoss2DBackward>)\n",
      "Loss = tensor(1.3317, device='cuda:0', grad_fn=<NllLoss2DBackward>)\n",
      "Loss = tensor(1.3513, device='cuda:0', grad_fn=<NllLoss2DBackward>)\n",
      "EPOCH:  68\n"
     ]
    },
    {
     "data": {
      "image/png": "[encoded data removed]",
      "text/plain": [
       "<PIL.Image.Image image mode=RGB size=60x60 at 0x7F63200A45B0>"
      ]
     },
     "metadata": {},
     "output_type": "display_data"
    },
    {
     "name": "stdout",
     "output_type": "stream",
     "text": [
      "Learning rate:  0.0001296\n",
      "Loss = tensor(1.3448, device='cuda:0', grad_fn=<NllLoss2DBackward>)\n",
      "Loss = tensor(1.3717, device='cuda:0', grad_fn=<NllLoss2DBackward>)\n",
      "Loss = tensor(1.3244, device='cuda:0', grad_fn=<NllLoss2DBackward>)\n",
      "Loss = tensor(1.3653, device='cuda:0', grad_fn=<NllLoss2DBackward>)\n",
      "Loss = tensor(1.3341, device='cuda:0', grad_fn=<NllLoss2DBackward>)\n",
      "EPOCH:  68\n"
     ]
    },
    {
     "data": {
      "image/png": "[encoded data removed]",
      "text/plain": [
       "<PIL.Image.Image image mode=RGB size=60x60 at 0x7F63200A4700>"
      ]
     },
     "metadata": {},
     "output_type": "display_data"
    },
    {
     "name": "stdout",
     "output_type": "stream",
     "text": [
      "Learning rate:  0.0001296\n",
      "Loss = tensor(1.3295, device='cuda:0', grad_fn=<NllLoss2DBackward>)\n",
      "Loss = tensor(1.3305, device='cuda:0', grad_fn=<NllLoss2DBackward>)\n",
      "EPOCH:  69\n"
     ]
    },
    {
     "data": {
      "image/png": "[encoded data removed]",
      "text/plain": [
       "<PIL.Image.Image image mode=RGB size=60x60 at 0x7F63AC85DFD0>"
      ]
     },
     "metadata": {},
     "output_type": "display_data"
    },
    {
     "name": "stdout",
     "output_type": "stream",
     "text": [
      "Learning rate:  0.0001296\n",
      "Loss = tensor(1.3606, device='cuda:0', grad_fn=<NllLoss2DBackward>)\n",
      "Loss = tensor(1.3904, device='cuda:0', grad_fn=<NllLoss2DBackward>)\n",
      "Loss = tensor(1.3019, device='cuda:0', grad_fn=<NllLoss2DBackward>)\n",
      "Loss = tensor(1.3225, device='cuda:0', grad_fn=<NllLoss2DBackward>)\n",
      "Loss = tensor(1.3357, device='cuda:0', grad_fn=<NllLoss2DBackward>)\n",
      "EPOCH:  69\n"
     ]
    },
    {
     "data": {
      "image/png": "[encoded data removed]",
      "text/plain": [
       "<PIL.Image.Image image mode=RGB size=60x60 at 0x7F63AC85DFD0>"
      ]
     },
     "metadata": {},
     "output_type": "display_data"
    },
    {
     "name": "stdout",
     "output_type": "stream",
     "text": [
      "Learning rate:  0.0001296\n",
      "Loss = tensor(1.3266, device='cuda:0', grad_fn=<NllLoss2DBackward>)\n",
      "Loss = tensor(1.3477, device='cuda:0', grad_fn=<NllLoss2DBackward>)\n",
      "Loss = tensor(1.3351, device='cuda:0', grad_fn=<NllLoss2DBackward>)\n",
      "Loss = tensor(1.3491, device='cuda:0', grad_fn=<NllLoss2DBackward>)\n",
      "Loss = tensor(1.3617, device='cuda:0', grad_fn=<NllLoss2DBackward>)\n",
      "EPOCH:  69\n"
     ]
    },
    {
     "data": {
      "image/png": "[encoded data removed]",
      "text/plain": [
       "<PIL.Image.Image image mode=RGB size=60x60 at 0x7F63AC85DF40>"
      ]
     },
     "metadata": {},
     "output_type": "display_data"
    },
    {
     "name": "stdout",
     "output_type": "stream",
     "text": [
      "Learning rate:  0.0001296\n",
      "Loss = tensor(1.3588, device='cuda:0', grad_fn=<NllLoss2DBackward>)\n",
      "Loss = tensor(1.3401, device='cuda:0', grad_fn=<NllLoss2DBackward>)\n",
      "EPOCH:  70\n"
     ]
    },
    {
     "data": {
      "image/png": "[encoded data removed]",
      "text/plain": [
       "<PIL.Image.Image image mode=RGB size=60x60 at 0x7F63AC85DF40>"
      ]
     },
     "metadata": {},
     "output_type": "display_data"
    },
    {
     "name": "stdout",
     "output_type": "stream",
     "text": [
      "Learning rate:  0.0001296\n",
      "Loss = tensor(1.3432, device='cuda:0', grad_fn=<NllLoss2DBackward>)\n",
      "Loss = tensor(1.3361, device='cuda:0', grad_fn=<NllLoss2DBackward>)\n",
      "Loss = tensor(1.3318, device='cuda:0', grad_fn=<NllLoss2DBackward>)\n",
      "Loss = tensor(1.3432, device='cuda:0', grad_fn=<NllLoss2DBackward>)\n",
      "Loss = tensor(1.3276, device='cuda:0', grad_fn=<NllLoss2DBackward>)\n",
      "EPOCH:  70\n"
     ]
    },
    {
     "data": {
      "image/png": "[encoded data removed]",
      "text/plain": [
       "<PIL.Image.Image image mode=RGB size=60x60 at 0x7F63AC85DF40>"
      ]
     },
     "metadata": {},
     "output_type": "display_data"
    },
    {
     "name": "stdout",
     "output_type": "stream",
     "text": [
      "Learning rate:  0.0001296\n",
      "Loss = tensor(1.3319, device='cuda:0', grad_fn=<NllLoss2DBackward>)\n",
      "Loss = tensor(1.4215, device='cuda:0', grad_fn=<NllLoss2DBackward>)\n",
      "Loss = tensor(1.3318, device='cuda:0', grad_fn=<NllLoss2DBackward>)\n",
      "Loss = tensor(1.3152, device='cuda:0', grad_fn=<NllLoss2DBackward>)\n",
      "Loss = tensor(1.3710, device='cuda:0', grad_fn=<NllLoss2DBackward>)\n",
      "EPOCH:  70\n"
     ]
    },
    {
     "data": {
      "image/png": "[encoded data removed]",
      "text/plain": [
       "<PIL.Image.Image image mode=RGB size=60x60 at 0x7F63AC85DFD0>"
      ]
     },
     "metadata": {},
     "output_type": "display_data"
    },
    {
     "name": "stdout",
     "output_type": "stream",
     "text": [
      "Learning rate:  0.0001296\n",
      "Loss = tensor(1.3382, device='cuda:0', grad_fn=<NllLoss2DBackward>)\n",
      "Loss = tensor(1.3447, device='cuda:0', grad_fn=<NllLoss2DBackward>)\n",
      "EPOCH:  71\n"
     ]
    },
    {
     "data": {
      "image/png": "[encoded data removed]",
      "text/plain": [
       "<PIL.Image.Image image mode=RGB size=60x60 at 0x7F63AC85DFD0>"
      ]
     },
     "metadata": {},
     "output_type": "display_data"
    },
    {
     "name": "stdout",
     "output_type": "stream",
     "text": [
      "Learning rate:  0.0001296\n",
      "Loss = tensor(1.3433, device='cuda:0', grad_fn=<NllLoss2DBackward>)\n",
      "Loss = tensor(1.3404, device='cuda:0', grad_fn=<NllLoss2DBackward>)\n",
      "Loss = tensor(1.3402, device='cuda:0', grad_fn=<NllLoss2DBackward>)\n",
      "Loss = tensor(1.3507, device='cuda:0', grad_fn=<NllLoss2DBackward>)\n",
      "Loss = tensor(1.3122, device='cuda:0', grad_fn=<NllLoss2DBackward>)\n",
      "EPOCH:  71\n"
     ]
    },
    {
     "data": {
      "image/png": "[encoded data removed]",
      "text/plain": [
       "<PIL.Image.Image image mode=RGB size=60x60 at 0x7F63AC85DF40>"
      ]
     },
     "metadata": {},
     "output_type": "display_data"
    },
    {
     "name": "stdout",
     "output_type": "stream",
     "text": [
      "Learning rate:  0.0001296\n",
      "Loss = tensor(1.3690, device='cuda:0', grad_fn=<NllLoss2DBackward>)\n",
      "Loss = tensor(1.3539, device='cuda:0', grad_fn=<NllLoss2DBackward>)\n",
      "Loss = tensor(1.3895, device='cuda:0', grad_fn=<NllLoss2DBackward>)\n",
      "Loss = tensor(1.3211, device='cuda:0', grad_fn=<NllLoss2DBackward>)\n",
      "Loss = tensor(1.3319, device='cuda:0', grad_fn=<NllLoss2DBackward>)\n",
      "EPOCH:  71\n"
     ]
    },
    {
     "data": {
      "image/png": "[encoded data removed]",
      "text/plain": [
       "<PIL.Image.Image image mode=RGB size=60x60 at 0x7F63AC85DF40>"
      ]
     },
     "metadata": {},
     "output_type": "display_data"
    },
    {
     "name": "stdout",
     "output_type": "stream",
     "text": [
      "Learning rate:  0.0001296\n",
      "Loss = tensor(1.3339, device='cuda:0', grad_fn=<NllLoss2DBackward>)\n",
      "Loss = tensor(1.3327, device='cuda:0', grad_fn=<NllLoss2DBackward>)\n",
      "EPOCH:  72\n"
     ]
    },
    {
     "data": {
      "image/png": "[encoded data removed]",
      "text/plain": [
       "<PIL.Image.Image image mode=RGB size=60x60 at 0x7F63AC85DFD0>"
      ]
     },
     "metadata": {},
     "output_type": "display_data"
    },
    {
     "name": "stdout",
     "output_type": "stream",
     "text": [
      "Learning rate:  0.0001296\n",
      "Loss = tensor(1.3456, device='cuda:0', grad_fn=<NllLoss2DBackward>)\n",
      "Loss = tensor(1.3266, device='cuda:0', grad_fn=<NllLoss2DBackward>)\n",
      "Loss = tensor(1.3349, device='cuda:0', grad_fn=<NllLoss2DBackward>)\n",
      "Loss = tensor(1.3634, device='cuda:0', grad_fn=<NllLoss2DBackward>)\n",
      "Loss = tensor(1.3880, device='cuda:0', grad_fn=<NllLoss2DBackward>)\n",
      "EPOCH:  72\n"
     ]
    },
    {
     "data": {
      "image/png": "[encoded data removed]",
      "text/plain": [
       "<PIL.Image.Image image mode=RGB size=60x60 at 0x7F63AC85DF40>"
      ]
     },
     "metadata": {},
     "output_type": "display_data"
    },
    {
     "name": "stdout",
     "output_type": "stream",
     "text": [
      "Learning rate:  0.0001296\n",
      "Loss = tensor(1.3336, device='cuda:0', grad_fn=<NllLoss2DBackward>)\n",
      "Loss = tensor(1.3548, device='cuda:0', grad_fn=<NllLoss2DBackward>)\n",
      "Loss = tensor(1.3620, device='cuda:0', grad_fn=<NllLoss2DBackward>)\n",
      "Loss = tensor(1.3334, device='cuda:0', grad_fn=<NllLoss2DBackward>)\n",
      "Loss = tensor(1.3297, device='cuda:0', grad_fn=<NllLoss2DBackward>)\n",
      "EPOCH:  72\n"
     ]
    },
    {
     "data": {
      "image/png": "[encoded data removed]",
      "text/plain": [
       "<PIL.Image.Image image mode=RGB size=60x60 at 0x7F63AC85DFD0>"
      ]
     },
     "metadata": {},
     "output_type": "display_data"
    },
    {
     "name": "stdout",
     "output_type": "stream",
     "text": [
      "Learning rate:  0.0001296\n",
      "Loss = tensor(1.3280, device='cuda:0', grad_fn=<NllLoss2DBackward>)\n",
      "Loss = tensor(1.3658, device='cuda:0', grad_fn=<NllLoss2DBackward>)\n",
      "EPOCH:  73\n"
     ]
    },
    {
     "data": {
      "image/png": "[encoded data removed]",
      "text/plain": [
       "<PIL.Image.Image image mode=RGB size=60x60 at 0x7F63AC85DFD0>"
      ]
     },
     "metadata": {},
     "output_type": "display_data"
    },
    {
     "name": "stdout",
     "output_type": "stream",
     "text": [
      "Learning rate:  0.0001296\n",
      "Loss = tensor(1.3703, device='cuda:0', grad_fn=<NllLoss2DBackward>)\n",
      "Loss = tensor(1.3403, device='cuda:0', grad_fn=<NllLoss2DBackward>)\n",
      "Loss = tensor(1.3301, device='cuda:0', grad_fn=<NllLoss2DBackward>)\n",
      "Loss = tensor(1.3681, device='cuda:0', grad_fn=<NllLoss2DBackward>)\n",
      "Loss = tensor(1.3260, device='cuda:0', grad_fn=<NllLoss2DBackward>)\n",
      "EPOCH:  73\n"
     ]
    },
    {
     "data": {
      "image/png": "[encoded data removed]",
      "text/plain": [
       "<PIL.Image.Image image mode=RGB size=60x60 at 0x7F63AC85DF40>"
      ]
     },
     "metadata": {},
     "output_type": "display_data"
    },
    {
     "name": "stdout",
     "output_type": "stream",
     "text": [
      "Learning rate:  0.0001296\n",
      "Loss = tensor(1.3314, device='cuda:0', grad_fn=<NllLoss2DBackward>)\n",
      "Loss = tensor(1.3440, device='cuda:0', grad_fn=<NllLoss2DBackward>)\n",
      "Loss = tensor(1.3312, device='cuda:0', grad_fn=<NllLoss2DBackward>)\n",
      "Loss = tensor(1.3432, device='cuda:0', grad_fn=<NllLoss2DBackward>)\n",
      "Loss = tensor(1.3240, device='cuda:0', grad_fn=<NllLoss2DBackward>)\n",
      "EPOCH:  73\n"
     ]
    },
    {
     "data": {
      "image/png": "[encoded data removed]",
      "text/plain": [
       "<PIL.Image.Image image mode=RGB size=60x60 at 0x7F63AC85DFD0>"
      ]
     },
     "metadata": {},
     "output_type": "display_data"
    },
    {
     "name": "stdout",
     "output_type": "stream",
     "text": [
      "Learning rate:  0.0001296\n",
      "Loss = tensor(1.3444, device='cuda:0', grad_fn=<NllLoss2DBackward>)\n",
      "Loss = tensor(1.3242, device='cuda:0', grad_fn=<NllLoss2DBackward>)\n",
      "EPOCH:  74\n"
     ]
    },
    {
     "data": {
      "image/png": "[encoded data removed]",
      "text/plain": [
       "<PIL.Image.Image image mode=RGB size=60x60 at 0x7F63AC85DFD0>"
      ]
     },
     "metadata": {},
     "output_type": "display_data"
    },
    {
     "name": "stdout",
     "output_type": "stream",
     "text": [
      "Learning rate:  0.0001296\n",
      "Loss = tensor(1.3596, device='cuda:0', grad_fn=<NllLoss2DBackward>)\n",
      "Loss = tensor(1.3355, device='cuda:0', grad_fn=<NllLoss2DBackward>)\n",
      "Loss = tensor(1.3275, device='cuda:0', grad_fn=<NllLoss2DBackward>)\n",
      "Loss = tensor(1.3316, device='cuda:0', grad_fn=<NllLoss2DBackward>)\n",
      "Loss = tensor(1.3462, device='cuda:0', grad_fn=<NllLoss2DBackward>)\n",
      "EPOCH:  74\n"
     ]
    },
    {
     "data": {
      "image/png": "[encoded data removed]",
      "text/plain": [
       "<PIL.Image.Image image mode=RGB size=60x60 at 0x7F63AC85DFD0>"
      ]
     },
     "metadata": {},
     "output_type": "display_data"
    },
    {
     "name": "stdout",
     "output_type": "stream",
     "text": [
      "Learning rate:  0.0001296\n",
      "Loss = tensor(1.3639, device='cuda:0', grad_fn=<NllLoss2DBackward>)\n",
      "Loss = tensor(1.3112, device='cuda:0', grad_fn=<NllLoss2DBackward>)\n",
      "Loss = tensor(1.3980, device='cuda:0', grad_fn=<NllLoss2DBackward>)\n",
      "Loss = tensor(1.3433, device='cuda:0', grad_fn=<NllLoss2DBackward>)\n",
      "Loss = tensor(1.3223, device='cuda:0', grad_fn=<NllLoss2DBackward>)\n",
      "EPOCH:  74\n"
     ]
    },
    {
     "data": {
      "image/png": "[encoded data removed]",
      "text/plain": [
       "<PIL.Image.Image image mode=RGB size=60x60 at 0x7F63AC85DFD0>"
      ]
     },
     "metadata": {},
     "output_type": "display_data"
    },
    {
     "name": "stdout",
     "output_type": "stream",
     "text": [
      "Learning rate:  0.0001296\n",
      "Loss = tensor(1.3473, device='cuda:0', grad_fn=<NllLoss2DBackward>)\n",
      "Loss = tensor(1.3438, device='cuda:0', grad_fn=<NllLoss2DBackward>)\n",
      "EPOCH:  75\n"
     ]
    },
    {
     "data": {
      "image/png": "[encoded data removed]",
      "text/plain": [
       "<PIL.Image.Image image mode=RGB size=60x60 at 0x7F63AC85DFD0>"
      ]
     },
     "metadata": {},
     "output_type": "display_data"
    },
    {
     "name": "stdout",
     "output_type": "stream",
     "text": [
      "Learning rate:  0.0001296\n",
      "Loss = tensor(1.3355, device='cuda:0', grad_fn=<NllLoss2DBackward>)\n",
      "Loss = tensor(1.3091, device='cuda:0', grad_fn=<NllLoss2DBackward>)\n",
      "Loss = tensor(1.3481, device='cuda:0', grad_fn=<NllLoss2DBackward>)\n",
      "Loss = tensor(1.3727, device='cuda:0', grad_fn=<NllLoss2DBackward>)\n",
      "Loss = tensor(1.3493, device='cuda:0', grad_fn=<NllLoss2DBackward>)\n",
      "EPOCH:  75\n"
     ]
    },
    {
     "data": {
      "image/png": "[encoded data removed]",
      "text/plain": [
       "<PIL.Image.Image image mode=RGB size=60x60 at 0x7F63AC85DF40>"
      ]
     },
     "metadata": {},
     "output_type": "display_data"
    },
    {
     "name": "stdout",
     "output_type": "stream",
     "text": [
      "Learning rate:  0.0001296\n",
      "Loss = tensor(1.3585, device='cuda:0', grad_fn=<NllLoss2DBackward>)\n",
      "Loss = tensor(1.3200, device='cuda:0', grad_fn=<NllLoss2DBackward>)\n",
      "Loss = tensor(1.3697, device='cuda:0', grad_fn=<NllLoss2DBackward>)\n",
      "Loss = tensor(1.3664, device='cuda:0', grad_fn=<NllLoss2DBackward>)\n",
      "Loss = tensor(1.3108, device='cuda:0', grad_fn=<NllLoss2DBackward>)\n",
      "EPOCH:  75\n"
     ]
    },
    {
     "data": {
      "image/png": "[encoded data removed]",
      "text/plain": [
       "<PIL.Image.Image image mode=RGB size=60x60 at 0x7F63AC85DFD0>"
      ]
     },
     "metadata": {},
     "output_type": "display_data"
    },
    {
     "name": "stdout",
     "output_type": "stream",
     "text": [
      "Learning rate:  0.0001296\n",
      "Loss = tensor(1.3280, device='cuda:0', grad_fn=<NllLoss2DBackward>)\n",
      "Loss = tensor(1.3422, device='cuda:0', grad_fn=<NllLoss2DBackward>)\n",
      "EPOCH:  76\n"
     ]
    },
    {
     "data": {
      "image/png": "[encoded data removed]",
      "text/plain": [
       "<PIL.Image.Image image mode=RGB size=60x60 at 0x7F63AC85DF40>"
      ]
     },
     "metadata": {},
     "output_type": "display_data"
    },
    {
     "name": "stdout",
     "output_type": "stream",
     "text": [
      "Learning rate:  0.0001296\n",
      "Loss = tensor(1.3273, device='cuda:0', grad_fn=<NllLoss2DBackward>)\n",
      "Loss = tensor(1.3543, device='cuda:0', grad_fn=<NllLoss2DBackward>)\n",
      "Loss = tensor(1.3614, device='cuda:0', grad_fn=<NllLoss2DBackward>)\n",
      "Loss = tensor(1.3280, device='cuda:0', grad_fn=<NllLoss2DBackward>)\n",
      "Loss = tensor(1.3753, device='cuda:0', grad_fn=<NllLoss2DBackward>)\n",
      "EPOCH:  76\n"
     ]
    },
    {
     "data": {
      "image/png": "[encoded data removed]",
      "text/plain": [
       "<PIL.Image.Image image mode=RGB size=60x60 at 0x7F63AC85DF40>"
      ]
     },
     "metadata": {},
     "output_type": "display_data"
    },
    {
     "name": "stdout",
     "output_type": "stream",
     "text": [
      "Learning rate:  0.0001296\n",
      "Loss = tensor(1.3567, device='cuda:0', grad_fn=<NllLoss2DBackward>)\n",
      "Loss = tensor(1.3490, device='cuda:0', grad_fn=<NllLoss2DBackward>)\n",
      "Loss = tensor(1.3220, device='cuda:0', grad_fn=<NllLoss2DBackward>)\n",
      "Loss = tensor(1.3264, device='cuda:0', grad_fn=<NllLoss2DBackward>)\n",
      "Loss = tensor(1.3428, device='cuda:0', grad_fn=<NllLoss2DBackward>)\n",
      "EPOCH:  76\n"
     ]
    },
    {
     "data": {
      "image/png": "[encoded data removed]",
      "text/plain": [
       "<PIL.Image.Image image mode=RGB size=60x60 at 0x7F63AC85DF40>"
      ]
     },
     "metadata": {},
     "output_type": "display_data"
    },
    {
     "name": "stdout",
     "output_type": "stream",
     "text": [
      "Learning rate:  0.0001296\n",
      "Loss = tensor(1.3230, device='cuda:0', grad_fn=<NllLoss2DBackward>)\n",
      "Loss = tensor(1.3525, device='cuda:0', grad_fn=<NllLoss2DBackward>)\n",
      "EPOCH:  77\n"
     ]
    },
    {
     "data": {
      "image/png": "[encoded data removed]",
      "text/plain": [
       "<PIL.Image.Image image mode=RGB size=60x60 at 0x7F63AC85DF40>"
      ]
     },
     "metadata": {},
     "output_type": "display_data"
    },
    {
     "name": "stdout",
     "output_type": "stream",
     "text": [
      "Learning rate:  0.0001296\n",
      "Loss = tensor(1.3562, device='cuda:0', grad_fn=<NllLoss2DBackward>)\n",
      "Loss = tensor(1.3601, device='cuda:0', grad_fn=<NllLoss2DBackward>)\n",
      "Loss = tensor(1.3175, device='cuda:0', grad_fn=<NllLoss2DBackward>)\n",
      "Loss = tensor(1.3520, device='cuda:0', grad_fn=<NllLoss2DBackward>)\n",
      "Loss = tensor(1.3331, device='cuda:0', grad_fn=<NllLoss2DBackward>)\n",
      "EPOCH:  77\n"
     ]
    },
    {
     "data": {
      "image/png": "[encoded data removed]",
      "text/plain": [
       "<PIL.Image.Image image mode=RGB size=60x60 at 0x7F63AC85DF40>"
      ]
     },
     "metadata": {},
     "output_type": "display_data"
    },
    {
     "name": "stdout",
     "output_type": "stream",
     "text": [
      "Learning rate:  0.0001296\n",
      "Loss = tensor(1.3372, device='cuda:0', grad_fn=<NllLoss2DBackward>)\n",
      "Loss = tensor(1.3877, device='cuda:0', grad_fn=<NllLoss2DBackward>)\n",
      "Loss = tensor(1.3295, device='cuda:0', grad_fn=<NllLoss2DBackward>)\n",
      "Loss = tensor(1.3003, device='cuda:0', grad_fn=<NllLoss2DBackward>)\n",
      "Loss = tensor(1.3381, device='cuda:0', grad_fn=<NllLoss2DBackward>)\n",
      "EPOCH:  77\n"
     ]
    },
    {
     "data": {
      "image/png": "[encoded data removed]",
      "text/plain": [
       "<PIL.Image.Image image mode=RGB size=60x60 at 0x7F63AC85DFD0>"
      ]
     },
     "metadata": {},
     "output_type": "display_data"
    },
    {
     "name": "stdout",
     "output_type": "stream",
     "text": [
      "Learning rate:  0.0001296\n",
      "Loss = tensor(1.3356, device='cuda:0', grad_fn=<NllLoss2DBackward>)\n",
      "Loss = tensor(1.3259, device='cuda:0', grad_fn=<NllLoss2DBackward>)\n",
      "EPOCH:  78\n"
     ]
    },
    {
     "data": {
      "image/png": "[encoded data removed]",
      "text/plain": [
       "<PIL.Image.Image image mode=RGB size=60x60 at 0x7F63AC85DFD0>"
      ]
     },
     "metadata": {},
     "output_type": "display_data"
    },
    {
     "name": "stdout",
     "output_type": "stream",
     "text": [
      "Learning rate:  0.0001296\n",
      "Loss = tensor(1.3576, device='cuda:0', grad_fn=<NllLoss2DBackward>)\n",
      "Loss = tensor(1.3555, device='cuda:0', grad_fn=<NllLoss2DBackward>)\n",
      "Loss = tensor(1.3572, device='cuda:0', grad_fn=<NllLoss2DBackward>)\n",
      "Loss = tensor(1.3662, device='cuda:0', grad_fn=<NllLoss2DBackward>)\n",
      "Loss = tensor(1.3341, device='cuda:0', grad_fn=<NllLoss2DBackward>)\n",
      "EPOCH:  78\n"
     ]
    },
    {
     "data": {
      "image/png": "[encoded data removed]",
      "text/plain": [
       "<PIL.Image.Image image mode=RGB size=60x60 at 0x7F63AC85DF40>"
      ]
     },
     "metadata": {},
     "output_type": "display_data"
    },
    {
     "name": "stdout",
     "output_type": "stream",
     "text": [
      "Learning rate:  0.0001296\n",
      "Loss = tensor(1.3178, device='cuda:0', grad_fn=<NllLoss2DBackward>)\n",
      "Loss = tensor(1.3606, device='cuda:0', grad_fn=<NllLoss2DBackward>)\n",
      "Loss = tensor(1.3250, device='cuda:0', grad_fn=<NllLoss2DBackward>)\n",
      "Loss = tensor(1.3379, device='cuda:0', grad_fn=<NllLoss2DBackward>)\n",
      "Loss = tensor(1.3326, device='cuda:0', grad_fn=<NllLoss2DBackward>)\n",
      "EPOCH:  78\n"
     ]
    },
    {
     "data": {
      "image/png": "[encoded data removed]",
      "text/plain": [
       "<PIL.Image.Image image mode=RGB size=60x60 at 0x7F63AC85DFD0>"
      ]
     },
     "metadata": {},
     "output_type": "display_data"
    },
    {
     "name": "stdout",
     "output_type": "stream",
     "text": [
      "Learning rate:  0.0001296\n",
      "Loss = tensor(1.3345, device='cuda:0', grad_fn=<NllLoss2DBackward>)\n",
      "Loss = tensor(1.3614, device='cuda:0', grad_fn=<NllLoss2DBackward>)\n",
      "EPOCH:  79\n"
     ]
    },
    {
     "data": {
      "image/png": "[encoded data removed]",
      "text/plain": [
       "<PIL.Image.Image image mode=RGB size=60x60 at 0x7F63AC85DF40>"
      ]
     },
     "metadata": {},
     "output_type": "display_data"
    },
    {
     "name": "stdout",
     "output_type": "stream",
     "text": [
      "Learning rate:  0.0001296\n",
      "Loss = tensor(1.3058, device='cuda:0', grad_fn=<NllLoss2DBackward>)\n",
      "Loss = tensor(1.3346, device='cuda:0', grad_fn=<NllLoss2DBackward>)\n",
      "Loss = tensor(1.3646, device='cuda:0', grad_fn=<NllLoss2DBackward>)\n",
      "Loss = tensor(1.3379, device='cuda:0', grad_fn=<NllLoss2DBackward>)\n",
      "Loss = tensor(1.3500, device='cuda:0', grad_fn=<NllLoss2DBackward>)\n",
      "EPOCH:  79\n"
     ]
    },
    {
     "data": {
      "image/png": "[encoded data removed]",
      "text/plain": [
       "<PIL.Image.Image image mode=RGB size=60x60 at 0x7F63AC85DFD0>"
      ]
     },
     "metadata": {},
     "output_type": "display_data"
    },
    {
     "name": "stdout",
     "output_type": "stream",
     "text": [
      "Learning rate:  0.0001296\n",
      "Loss = tensor(1.3365, device='cuda:0', grad_fn=<NllLoss2DBackward>)\n",
      "Loss = tensor(1.3387, device='cuda:0', grad_fn=<NllLoss2DBackward>)\n",
      "Loss = tensor(1.3525, device='cuda:0', grad_fn=<NllLoss2DBackward>)\n",
      "Loss = tensor(1.3199, device='cuda:0', grad_fn=<NllLoss2DBackward>)\n",
      "Loss = tensor(1.3590, device='cuda:0', grad_fn=<NllLoss2DBackward>)\n",
      "EPOCH:  79\n"
     ]
    },
    {
     "data": {
      "image/png": "[encoded data removed]",
      "text/plain": [
       "<PIL.Image.Image image mode=RGB size=60x60 at 0x7F63AC85DFD0>"
      ]
     },
     "metadata": {},
     "output_type": "display_data"
    },
    {
     "name": "stdout",
     "output_type": "stream",
     "text": [
      "Learning rate:  0.0001296\n",
      "Loss = tensor(1.3364, device='cuda:0', grad_fn=<NllLoss2DBackward>)\n",
      "Loss = tensor(1.3384, device='cuda:0', grad_fn=<NllLoss2DBackward>)\n",
      "EPOCH:  80\n"
     ]
    },
    {
     "data": {
      "image/png": "[encoded data removed]",
      "text/plain": [
       "<PIL.Image.Image image mode=RGB size=60x60 at 0x7F63AC85DFD0>"
      ]
     },
     "metadata": {},
     "output_type": "display_data"
    },
    {
     "name": "stdout",
     "output_type": "stream",
     "text": [
      "Learning rate:  0.0001296\n",
      "Loss = tensor(1.3728, device='cuda:0', grad_fn=<NllLoss2DBackward>)\n",
      "Loss = tensor(1.3326, device='cuda:0', grad_fn=<NllLoss2DBackward>)\n",
      "Loss = tensor(1.3542, device='cuda:0', grad_fn=<NllLoss2DBackward>)\n",
      "Loss = tensor(1.3212, device='cuda:0', grad_fn=<NllLoss2DBackward>)\n",
      "Loss = tensor(1.3505, device='cuda:0', grad_fn=<NllLoss2DBackward>)\n",
      "EPOCH:  80\n"
     ]
    },
    {
     "data": {
      "image/png": "[encoded data removed]",
      "text/plain": [
       "<PIL.Image.Image image mode=RGB size=60x60 at 0x7F63AC85DF40>"
      ]
     },
     "metadata": {},
     "output_type": "display_data"
    },
    {
     "name": "stdout",
     "output_type": "stream",
     "text": [
      "Learning rate:  0.0001296\n",
      "Loss = tensor(1.3303, device='cuda:0', grad_fn=<NllLoss2DBackward>)\n",
      "Loss = tensor(1.3367, device='cuda:0', grad_fn=<NllLoss2DBackward>)\n",
      "Loss = tensor(1.3710, device='cuda:0', grad_fn=<NllLoss2DBackward>)\n",
      "Loss = tensor(1.3022, device='cuda:0', grad_fn=<NllLoss2DBackward>)\n",
      "Loss = tensor(1.3451, device='cuda:0', grad_fn=<NllLoss2DBackward>)\n",
      "EPOCH:  80\n"
     ]
    },
    {
     "data": {
      "image/png": "[encoded data removed]",
      "text/plain": [
       "<PIL.Image.Image image mode=RGB size=60x60 at 0x7F63AC85DFD0>"
      ]
     },
     "metadata": {},
     "output_type": "display_data"
    },
    {
     "name": "stdout",
     "output_type": "stream",
     "text": [
      "Learning rate:  0.0001296\n",
      "Loss = tensor(1.3290, device='cuda:0', grad_fn=<NllLoss2DBackward>)\n",
      "Loss = tensor(1.3567, device='cuda:0', grad_fn=<NllLoss2DBackward>)\n",
      "EPOCH:  81\n"
     ]
    },
    {
     "data": {
      "image/png": "[encoded data removed]",
      "text/plain": [
       "<PIL.Image.Image image mode=RGB size=60x60 at 0x7F63AC85DF40>"
      ]
     },
     "metadata": {},
     "output_type": "display_data"
    },
    {
     "name": "stdout",
     "output_type": "stream",
     "text": [
      "Learning rate:  0.0001296\n",
      "Loss = tensor(1.3178, device='cuda:0', grad_fn=<NllLoss2DBackward>)\n",
      "Loss = tensor(1.3217, device='cuda:0', grad_fn=<NllLoss2DBackward>)\n",
      "Loss = tensor(1.3402, device='cuda:0', grad_fn=<NllLoss2DBackward>)\n",
      "Loss = tensor(1.3361, device='cuda:0', grad_fn=<NllLoss2DBackward>)\n",
      "Loss = tensor(1.3516, device='cuda:0', grad_fn=<NllLoss2DBackward>)\n",
      "EPOCH:  81\n"
     ]
    },
    {
     "data": {
      "image/png": "[encoded data removed]",
      "text/plain": [
       "<PIL.Image.Image image mode=RGB size=60x60 at 0x7F63AC85DFD0>"
      ]
     },
     "metadata": {},
     "output_type": "display_data"
    },
    {
     "name": "stdout",
     "output_type": "stream",
     "text": [
      "Learning rate:  0.0001296\n",
      "Loss = tensor(1.3240, device='cuda:0', grad_fn=<NllLoss2DBackward>)\n",
      "Loss = tensor(1.3599, device='cuda:0', grad_fn=<NllLoss2DBackward>)\n",
      "Loss = tensor(1.3191, device='cuda:0', grad_fn=<NllLoss2DBackward>)\n",
      "Loss = tensor(1.3502, device='cuda:0', grad_fn=<NllLoss2DBackward>)\n",
      "Loss = tensor(1.3604, device='cuda:0', grad_fn=<NllLoss2DBackward>)\n",
      "EPOCH:  81\n"
     ]
    },
    {
     "data": {
      "image/png": "[encoded data removed]",
      "text/plain": [
       "<PIL.Image.Image image mode=RGB size=60x60 at 0x7F63AC85DF40>"
      ]
     },
     "metadata": {},
     "output_type": "display_data"
    },
    {
     "name": "stdout",
     "output_type": "stream",
     "text": [
      "Learning rate:  0.0001296\n",
      "Loss = tensor(1.3691, device='cuda:0', grad_fn=<NllLoss2DBackward>)\n",
      "Loss = tensor(1.3388, device='cuda:0', grad_fn=<NllLoss2DBackward>)\n",
      "EPOCH:  82\n"
     ]
    },
    {
     "data": {
      "image/png": "[encoded data removed]",
      "text/plain": [
       "<PIL.Image.Image image mode=RGB size=60x60 at 0x7F63AC85DFD0>"
      ]
     },
     "metadata": {},
     "output_type": "display_data"
    },
    {
     "name": "stdout",
     "output_type": "stream",
     "text": [
      "Learning rate:  0.0001296\n",
      "Loss = tensor(1.3264, device='cuda:0', grad_fn=<NllLoss2DBackward>)\n",
      "Loss = tensor(1.3363, device='cuda:0', grad_fn=<NllLoss2DBackward>)\n",
      "Loss = tensor(1.3141, device='cuda:0', grad_fn=<NllLoss2DBackward>)\n",
      "Loss = tensor(1.3407, device='cuda:0', grad_fn=<NllLoss2DBackward>)\n",
      "Loss = tensor(1.3581, device='cuda:0', grad_fn=<NllLoss2DBackward>)\n",
      "EPOCH:  82\n"
     ]
    },
    {
     "data": {
      "image/png": "[encoded data removed]",
      "text/plain": [
       "<PIL.Image.Image image mode=RGB size=60x60 at 0x7F6328923730>"
      ]
     },
     "metadata": {},
     "output_type": "display_data"
    },
    {
     "name": "stdout",
     "output_type": "stream",
     "text": [
      "Learning rate:  0.0001296\n",
      "Loss = tensor(1.3468, device='cuda:0', grad_fn=<NllLoss2DBackward>)\n",
      "Loss = tensor(1.3695, device='cuda:0', grad_fn=<NllLoss2DBackward>)\n",
      "Loss = tensor(1.3694, device='cuda:0', grad_fn=<NllLoss2DBackward>)\n",
      "Loss = tensor(1.3329, device='cuda:0', grad_fn=<NllLoss2DBackward>)\n",
      "Loss = tensor(1.3178, device='cuda:0', grad_fn=<NllLoss2DBackward>)\n",
      "EPOCH:  82\n"
     ]
    },
    {
     "data": {
      "image/png": "[encoded data removed]",
      "text/plain": [
       "<PIL.Image.Image image mode=RGB size=60x60 at 0x7F6397FE7EE0>"
      ]
     },
     "metadata": {},
     "output_type": "display_data"
    },
    {
     "name": "stdout",
     "output_type": "stream",
     "text": [
      "Learning rate:  0.0001296\n",
      "Loss = tensor(1.3459, device='cuda:0', grad_fn=<NllLoss2DBackward>)\n",
      "Loss = tensor(1.3423, device='cuda:0', grad_fn=<NllLoss2DBackward>)\n",
      "EPOCH:  83\n"
     ]
    },
    {
     "data": {
      "image/png": "[encoded data removed]",
      "text/plain": [
       "<PIL.Image.Image image mode=RGB size=60x60 at 0x7F63AC85DFD0>"
      ]
     },
     "metadata": {},
     "output_type": "display_data"
    },
    {
     "name": "stdout",
     "output_type": "stream",
     "text": [
      "Learning rate:  0.0001296\n",
      "Loss = tensor(1.3395, device='cuda:0', grad_fn=<NllLoss2DBackward>)\n",
      "Loss = tensor(1.3246, device='cuda:0', grad_fn=<NllLoss2DBackward>)\n",
      "Loss = tensor(1.3496, device='cuda:0', grad_fn=<NllLoss2DBackward>)\n",
      "Loss = tensor(1.3336, device='cuda:0', grad_fn=<NllLoss2DBackward>)\n",
      "Loss = tensor(1.2931, device='cuda:0', grad_fn=<NllLoss2DBackward>)\n",
      "EPOCH:  83\n"
     ]
    },
    {
     "data": {
      "image/png": "[encoded data removed]",
      "text/plain": [
       "<PIL.Image.Image image mode=RGB size=60x60 at 0x7F6328923730>"
      ]
     },
     "metadata": {},
     "output_type": "display_data"
    },
    {
     "name": "stdout",
     "output_type": "stream",
     "text": [
      "Learning rate:  0.0001296\n",
      "Loss = tensor(1.3536, device='cuda:0', grad_fn=<NllLoss2DBackward>)\n",
      "Loss = tensor(1.3311, device='cuda:0', grad_fn=<NllLoss2DBackward>)\n",
      "Loss = tensor(1.3437, device='cuda:0', grad_fn=<NllLoss2DBackward>)\n",
      "Loss = tensor(1.3579, device='cuda:0', grad_fn=<NllLoss2DBackward>)\n",
      "Loss = tensor(1.3524, device='cuda:0', grad_fn=<NllLoss2DBackward>)\n",
      "EPOCH:  83\n"
     ]
    },
    {
     "data": {
      "image/png": "[encoded data removed]",
      "text/plain": [
       "<PIL.Image.Image image mode=RGB size=60x60 at 0x7F6397FE7EE0>"
      ]
     },
     "metadata": {},
     "output_type": "display_data"
    },
    {
     "name": "stdout",
     "output_type": "stream",
     "text": [
      "Learning rate:  0.0001296\n",
      "Loss = tensor(1.3576, device='cuda:0', grad_fn=<NllLoss2DBackward>)\n",
      "Loss = tensor(1.3463, device='cuda:0', grad_fn=<NllLoss2DBackward>)\n",
      "EPOCH:  84\n"
     ]
    },
    {
     "data": {
      "image/png": "[encoded data removed]",
      "text/plain": [
       "<PIL.Image.Image image mode=RGB size=60x60 at 0x7F63AC85DF40>"
      ]
     },
     "metadata": {},
     "output_type": "display_data"
    },
    {
     "name": "stdout",
     "output_type": "stream",
     "text": [
      "Learning rate:  0.0001296\n",
      "Loss = tensor(1.3197, device='cuda:0', grad_fn=<NllLoss2DBackward>)\n",
      "Loss = tensor(1.3847, device='cuda:0', grad_fn=<NllLoss2DBackward>)\n",
      "Loss = tensor(1.3301, device='cuda:0', grad_fn=<NllLoss2DBackward>)\n",
      "Loss = tensor(1.3252, device='cuda:0', grad_fn=<NllLoss2DBackward>)\n",
      "Loss = tensor(1.3508, device='cuda:0', grad_fn=<NllLoss2DBackward>)\n",
      "EPOCH:  84\n"
     ]
    },
    {
     "data": {
      "image/png": "[encoded data removed]",
      "text/plain": [
       "<PIL.Image.Image image mode=RGB size=60x60 at 0x7F63AC85DFD0>"
      ]
     },
     "metadata": {},
     "output_type": "display_data"
    },
    {
     "name": "stdout",
     "output_type": "stream",
     "text": [
      "Learning rate:  0.0001296\n",
      "Loss = tensor(1.3278, device='cuda:0', grad_fn=<NllLoss2DBackward>)\n",
      "Loss = tensor(1.3403, device='cuda:0', grad_fn=<NllLoss2DBackward>)\n",
      "Loss = tensor(1.3478, device='cuda:0', grad_fn=<NllLoss2DBackward>)\n",
      "Loss = tensor(1.3266, device='cuda:0', grad_fn=<NllLoss2DBackward>)\n",
      "Loss = tensor(1.3557, device='cuda:0', grad_fn=<NllLoss2DBackward>)\n",
      "EPOCH:  84\n"
     ]
    },
    {
     "data": {
      "image/png": "[encoded data removed]",
      "text/plain": [
       "<PIL.Image.Image image mode=RGB size=60x60 at 0x7F63AC85DF40>"
      ]
     },
     "metadata": {},
     "output_type": "display_data"
    },
    {
     "name": "stdout",
     "output_type": "stream",
     "text": [
      "Learning rate:  0.0001296\n",
      "Loss = tensor(1.3393, device='cuda:0', grad_fn=<NllLoss2DBackward>)\n",
      "Loss = tensor(1.3567, device='cuda:0', grad_fn=<NllLoss2DBackward>)\n",
      "EPOCH:  85\n"
     ]
    },
    {
     "data": {
      "image/png": "[encoded data removed]",
      "text/plain": [
       "<PIL.Image.Image image mode=RGB size=60x60 at 0x7F63AC85DF40>"
      ]
     },
     "metadata": {},
     "output_type": "display_data"
    },
    {
     "name": "stdout",
     "output_type": "stream",
     "text": [
      "Learning rate:  0.0001296\n",
      "Loss = tensor(1.3229, device='cuda:0', grad_fn=<NllLoss2DBackward>)\n",
      "Loss = tensor(1.3560, device='cuda:0', grad_fn=<NllLoss2DBackward>)\n",
      "Loss = tensor(1.3326, device='cuda:0', grad_fn=<NllLoss2DBackward>)\n",
      "Loss = tensor(1.3795, device='cuda:0', grad_fn=<NllLoss2DBackward>)\n",
      "Loss = tensor(1.3297, device='cuda:0', grad_fn=<NllLoss2DBackward>)\n",
      "EPOCH:  85\n"
     ]
    },
    {
     "data": {
      "image/png": "[encoded data removed]",
      "text/plain": [
       "<PIL.Image.Image image mode=RGB size=60x60 at 0x7F63200A4490>"
      ]
     },
     "metadata": {},
     "output_type": "display_data"
    },
    {
     "name": "stdout",
     "output_type": "stream",
     "text": [
      "Learning rate:  0.0001296\n",
      "Loss = tensor(1.3316, device='cuda:0', grad_fn=<NllLoss2DBackward>)\n",
      "Loss = tensor(1.3201, device='cuda:0', grad_fn=<NllLoss2DBackward>)\n",
      "Loss = tensor(1.3318, device='cuda:0', grad_fn=<NllLoss2DBackward>)\n",
      "Loss = tensor(1.3555, device='cuda:0', grad_fn=<NllLoss2DBackward>)\n",
      "Loss = tensor(1.3375, device='cuda:0', grad_fn=<NllLoss2DBackward>)\n",
      "EPOCH:  85\n"
     ]
    },
    {
     "data": {
      "image/png": "[encoded data removed]",
      "text/plain": [
       "<PIL.Image.Image image mode=RGB size=60x60 at 0x7F63200A4730>"
      ]
     },
     "metadata": {},
     "output_type": "display_data"
    },
    {
     "name": "stdout",
     "output_type": "stream",
     "text": [
      "Learning rate:  0.0001296\n",
      "Loss = tensor(1.3255, device='cuda:0', grad_fn=<NllLoss2DBackward>)\n",
      "Loss = tensor(1.3641, device='cuda:0', grad_fn=<NllLoss2DBackward>)\n",
      "EPOCH:  86\n"
     ]
    },
    {
     "data": {
      "image/png": "[encoded data removed]",
      "text/plain": [
       "<PIL.Image.Image image mode=RGB size=60x60 at 0x7F63200A46A0>"
      ]
     },
     "metadata": {},
     "output_type": "display_data"
    },
    {
     "name": "stdout",
     "output_type": "stream",
     "text": [
      "Learning rate:  0.0001296\n",
      "Loss = tensor(1.3099, device='cuda:0', grad_fn=<NllLoss2DBackward>)\n",
      "Loss = tensor(1.3069, device='cuda:0', grad_fn=<NllLoss2DBackward>)\n",
      "Loss = tensor(1.3253, device='cuda:0', grad_fn=<NllLoss2DBackward>)\n",
      "Loss = tensor(1.3379, device='cuda:0', grad_fn=<NllLoss2DBackward>)\n",
      "Loss = tensor(1.3666, device='cuda:0', grad_fn=<NllLoss2DBackward>)\n",
      "EPOCH:  86\n"
     ]
    },
    {
     "data": {
      "image/png": "[encoded data removed]",
      "text/plain": [
       "<PIL.Image.Image image mode=RGB size=60x60 at 0x7F63200A4550>"
      ]
     },
     "metadata": {},
     "output_type": "display_data"
    },
    {
     "name": "stdout",
     "output_type": "stream",
     "text": [
      "Learning rate:  0.0001296\n",
      "Loss = tensor(1.3174, device='cuda:0', grad_fn=<NllLoss2DBackward>)\n",
      "Loss = tensor(1.3519, device='cuda:0', grad_fn=<NllLoss2DBackward>)\n",
      "Loss = tensor(1.3546, device='cuda:0', grad_fn=<NllLoss2DBackward>)\n",
      "Loss = tensor(1.3255, device='cuda:0', grad_fn=<NllLoss2DBackward>)\n",
      "Loss = tensor(1.3450, device='cuda:0', grad_fn=<NllLoss2DBackward>)\n",
      "EPOCH:  86\n"
     ]
    },
    {
     "data": {
      "image/png": "[encoded data removed]",
      "text/plain": [
       "<PIL.Image.Image image mode=RGB size=60x60 at 0x7F63200A4370>"
      ]
     },
     "metadata": {},
     "output_type": "display_data"
    },
    {
     "name": "stdout",
     "output_type": "stream",
     "text": [
      "Learning rate:  0.0001296\n",
      "Loss = tensor(1.3661, device='cuda:0', grad_fn=<NllLoss2DBackward>)\n",
      "Loss = tensor(1.3559, device='cuda:0', grad_fn=<NllLoss2DBackward>)\n",
      "EPOCH:  87\n"
     ]
    },
    {
     "data": {
      "image/png": "[encoded data removed]",
      "text/plain": [
       "<PIL.Image.Image image mode=RGB size=60x60 at 0x7F63200A4340>"
      ]
     },
     "metadata": {},
     "output_type": "display_data"
    },
    {
     "name": "stdout",
     "output_type": "stream",
     "text": [
      "Learning rate:  0.0001296\n",
      "Loss = tensor(1.3206, device='cuda:0', grad_fn=<NllLoss2DBackward>)\n",
      "Loss = tensor(1.3221, device='cuda:0', grad_fn=<NllLoss2DBackward>)\n",
      "Loss = tensor(1.3071, device='cuda:0', grad_fn=<NllLoss2DBackward>)\n",
      "Loss = tensor(1.3598, device='cuda:0', grad_fn=<NllLoss2DBackward>)\n",
      "Loss = tensor(1.3272, device='cuda:0', grad_fn=<NllLoss2DBackward>)\n",
      "EPOCH:  87\n"
     ]
    },
    {
     "data": {
      "image/png": "[encoded data removed]",
      "text/plain": [
       "<PIL.Image.Image image mode=RGB size=60x60 at 0x7F63200A45B0>"
      ]
     },
     "metadata": {},
     "output_type": "display_data"
    },
    {
     "name": "stdout",
     "output_type": "stream",
     "text": [
      "Learning rate:  0.0001296\n",
      "Loss = tensor(1.3691, device='cuda:0', grad_fn=<NllLoss2DBackward>)\n",
      "Loss = tensor(1.3619, device='cuda:0', grad_fn=<NllLoss2DBackward>)\n",
      "Loss = tensor(1.3115, device='cuda:0', grad_fn=<NllLoss2DBackward>)\n",
      "Loss = tensor(1.3559, device='cuda:0', grad_fn=<NllLoss2DBackward>)\n",
      "Loss = tensor(1.3407, device='cuda:0', grad_fn=<NllLoss2DBackward>)\n",
      "EPOCH:  87\n"
     ]
    },
    {
     "data": {
      "image/png": "[encoded data removed]",
      "text/plain": [
       "<PIL.Image.Image image mode=RGB size=60x60 at 0x7F63200A4580>"
      ]
     },
     "metadata": {},
     "output_type": "display_data"
    },
    {
     "name": "stdout",
     "output_type": "stream",
     "text": [
      "Learning rate:  0.0001296\n",
      "Loss = tensor(1.3409, device='cuda:0', grad_fn=<NllLoss2DBackward>)\n",
      "Loss = tensor(1.3675, device='cuda:0', grad_fn=<NllLoss2DBackward>)\n",
      "EPOCH:  88\n"
     ]
    },
    {
     "data": {
      "image/png": "[encoded data removed]",
      "text/plain": [
       "<PIL.Image.Image image mode=RGB size=60x60 at 0x7F63200A4580>"
      ]
     },
     "metadata": {},
     "output_type": "display_data"
    },
    {
     "name": "stdout",
     "output_type": "stream",
     "text": [
      "Learning rate:  0.0001296\n",
      "Loss = tensor(1.3584, device='cuda:0', grad_fn=<NllLoss2DBackward>)\n",
      "Loss = tensor(1.3279, device='cuda:0', grad_fn=<NllLoss2DBackward>)\n",
      "Loss = tensor(1.3323, device='cuda:0', grad_fn=<NllLoss2DBackward>)\n",
      "Loss = tensor(1.3330, device='cuda:0', grad_fn=<NllLoss2DBackward>)\n",
      "Loss = tensor(1.3348, device='cuda:0', grad_fn=<NllLoss2DBackward>)\n",
      "EPOCH:  88\n"
     ]
    },
    {
     "data": {
      "image/png": "[encoded data removed]",
      "text/plain": [
       "<PIL.Image.Image image mode=RGB size=60x60 at 0x7F63200A4370>"
      ]
     },
     "metadata": {},
     "output_type": "display_data"
    },
    {
     "name": "stdout",
     "output_type": "stream",
     "text": [
      "Learning rate:  0.0001296\n",
      "Loss = tensor(1.3581, device='cuda:0', grad_fn=<NllLoss2DBackward>)\n",
      "Loss = tensor(1.3266, device='cuda:0', grad_fn=<NllLoss2DBackward>)\n",
      "Loss = tensor(1.3228, device='cuda:0', grad_fn=<NllLoss2DBackward>)\n",
      "Loss = tensor(1.3343, device='cuda:0', grad_fn=<NllLoss2DBackward>)\n",
      "Loss = tensor(1.3096, device='cuda:0', grad_fn=<NllLoss2DBackward>)\n",
      "EPOCH:  88\n"
     ]
    },
    {
     "data": {
      "image/png": "[encoded data removed]",
      "text/plain": [
       "<PIL.Image.Image image mode=RGB size=60x60 at 0x7F63200A45B0>"
      ]
     },
     "metadata": {},
     "output_type": "display_data"
    },
    {
     "name": "stdout",
     "output_type": "stream",
     "text": [
      "Learning rate:  0.0001296\n",
      "Loss = tensor(1.3612, device='cuda:0', grad_fn=<NllLoss2DBackward>)\n",
      "Loss = tensor(1.3516, device='cuda:0', grad_fn=<NllLoss2DBackward>)\n",
      "EPOCH:  89\n"
     ]
    },
    {
     "data": {
      "image/png": "[encoded data removed]",
      "text/plain": [
       "<PIL.Image.Image image mode=RGB size=60x60 at 0x7F63200A46A0>"
      ]
     },
     "metadata": {},
     "output_type": "display_data"
    },
    {
     "name": "stdout",
     "output_type": "stream",
     "text": [
      "Learning rate:  0.0001296\n",
      "Loss = tensor(1.3272, device='cuda:0', grad_fn=<NllLoss2DBackward>)\n",
      "Loss = tensor(1.3334, device='cuda:0', grad_fn=<NllLoss2DBackward>)\n",
      "Loss = tensor(1.3452, device='cuda:0', grad_fn=<NllLoss2DBackward>)\n",
      "Loss = tensor(1.3471, device='cuda:0', grad_fn=<NllLoss2DBackward>)\n",
      "Loss = tensor(1.3292, device='cuda:0', grad_fn=<NllLoss2DBackward>)\n",
      "EPOCH:  89\n"
     ]
    },
    {
     "data": {
      "image/png": "[encoded data removed]",
      "text/plain": [
       "<PIL.Image.Image image mode=RGB size=60x60 at 0x7F63200A4400>"
      ]
     },
     "metadata": {},
     "output_type": "display_data"
    },
    {
     "name": "stdout",
     "output_type": "stream",
     "text": [
      "Learning rate:  0.0001296\n",
      "Loss = tensor(1.3559, device='cuda:0', grad_fn=<NllLoss2DBackward>)\n",
      "Loss = tensor(1.3334, device='cuda:0', grad_fn=<NllLoss2DBackward>)\n",
      "Loss = tensor(1.3306, device='cuda:0', grad_fn=<NllLoss2DBackward>)\n",
      "Loss = tensor(1.3653, device='cuda:0', grad_fn=<NllLoss2DBackward>)\n",
      "Loss = tensor(1.3379, device='cuda:0', grad_fn=<NllLoss2DBackward>)\n",
      "EPOCH:  89\n"
     ]
    },
    {
     "data": {
      "image/png": "[encoded data removed]",
      "text/plain": [
       "<PIL.Image.Image image mode=RGB size=60x60 at 0x7F63200A4880>"
      ]
     },
     "metadata": {},
     "output_type": "display_data"
    },
    {
     "name": "stdout",
     "output_type": "stream",
     "text": [
      "Learning rate:  0.0001296\n",
      "Loss = tensor(1.3294, device='cuda:0', grad_fn=<NllLoss2DBackward>)\n",
      "Loss = tensor(1.3251, device='cuda:0', grad_fn=<NllLoss2DBackward>)\n",
      "EPOCH:  90\n"
     ]
    },
    {
     "data": {
      "image/png": "[encoded data removed]",
      "text/plain": [
       "<PIL.Image.Image image mode=RGB size=60x60 at 0x7F63200A4490>"
      ]
     },
     "metadata": {},
     "output_type": "display_data"
    },
    {
     "name": "stdout",
     "output_type": "stream",
     "text": [
      "Learning rate:  7.776e-05\n",
      "Loss = tensor(1.3643, device='cuda:0', grad_fn=<NllLoss2DBackward>)\n",
      "Loss = tensor(1.3751, device='cuda:0', grad_fn=<NllLoss2DBackward>)\n",
      "Loss = tensor(1.3028, device='cuda:0', grad_fn=<NllLoss2DBackward>)\n",
      "Loss = tensor(1.3345, device='cuda:0', grad_fn=<NllLoss2DBackward>)\n",
      "Loss = tensor(1.3402, device='cuda:0', grad_fn=<NllLoss2DBackward>)\n",
      "EPOCH:  90\n"
     ]
    },
    {
     "data": {
      "image/png": "[encoded data removed]",
      "text/plain": [
       "<PIL.Image.Image image mode=RGB size=60x60 at 0x7F63200A4400>"
      ]
     },
     "metadata": {},
     "output_type": "display_data"
    },
    {
     "name": "stdout",
     "output_type": "stream",
     "text": [
      "Learning rate:  7.776e-05\n",
      "Loss = tensor(1.3174, device='cuda:0', grad_fn=<NllLoss2DBackward>)\n",
      "Loss = tensor(1.3281, device='cuda:0', grad_fn=<NllLoss2DBackward>)\n",
      "Loss = tensor(1.3815, device='cuda:0', grad_fn=<NllLoss2DBackward>)\n",
      "Loss = tensor(1.3283, device='cuda:0', grad_fn=<NllLoss2DBackward>)\n",
      "Loss = tensor(1.3329, device='cuda:0', grad_fn=<NllLoss2DBackward>)\n",
      "EPOCH:  90\n"
     ]
    },
    {
     "data": {
      "image/png": "[encoded data removed]",
      "text/plain": [
       "<PIL.Image.Image image mode=RGB size=60x60 at 0x7F63200A4730>"
      ]
     },
     "metadata": {},
     "output_type": "display_data"
    },
    {
     "name": "stdout",
     "output_type": "stream",
     "text": [
      "Learning rate:  7.776e-05\n",
      "Loss = tensor(1.3246, device='cuda:0', grad_fn=<NllLoss2DBackward>)\n",
      "Loss = tensor(1.3441, device='cuda:0', grad_fn=<NllLoss2DBackward>)\n",
      "EPOCH:  91\n"
     ]
    },
    {
     "data": {
      "image/png": "[encoded data removed]",
      "text/plain": [
       "<PIL.Image.Image image mode=RGB size=60x60 at 0x7F63200A4580>"
      ]
     },
     "metadata": {},
     "output_type": "display_data"
    },
    {
     "name": "stdout",
     "output_type": "stream",
     "text": [
      "Learning rate:  7.776e-05\n",
      "Loss = tensor(1.3464, device='cuda:0', grad_fn=<NllLoss2DBackward>)\n",
      "Loss = tensor(1.3015, device='cuda:0', grad_fn=<NllLoss2DBackward>)\n",
      "Loss = tensor(1.3624, device='cuda:0', grad_fn=<NllLoss2DBackward>)\n",
      "Loss = tensor(1.3218, device='cuda:0', grad_fn=<NllLoss2DBackward>)\n",
      "Loss = tensor(1.3243, device='cuda:0', grad_fn=<NllLoss2DBackward>)\n",
      "EPOCH:  91\n"
     ]
    },
    {
     "data": {
      "image/png": "[encoded data removed]",
      "text/plain": [
       "<PIL.Image.Image image mode=RGB size=60x60 at 0x7F63200A4520>"
      ]
     },
     "metadata": {},
     "output_type": "display_data"
    },
    {
     "name": "stdout",
     "output_type": "stream",
     "text": [
      "Learning rate:  7.776e-05\n",
      "Loss = tensor(1.3229, device='cuda:0', grad_fn=<NllLoss2DBackward>)\n",
      "Loss = tensor(1.3428, device='cuda:0', grad_fn=<NllLoss2DBackward>)\n",
      "Loss = tensor(1.3192, device='cuda:0', grad_fn=<NllLoss2DBackward>)\n",
      "Loss = tensor(1.3547, device='cuda:0', grad_fn=<NllLoss2DBackward>)\n",
      "Loss = tensor(1.3429, device='cuda:0', grad_fn=<NllLoss2DBackward>)\n",
      "EPOCH:  91\n"
     ]
    },
    {
     "data": {
      "image/png": "[encoded data removed]",
      "text/plain": [
       "<PIL.Image.Image image mode=RGB size=60x60 at 0x7F63200A4730>"
      ]
     },
     "metadata": {},
     "output_type": "display_data"
    },
    {
     "name": "stdout",
     "output_type": "stream",
     "text": [
      "Learning rate:  7.776e-05\n",
      "Loss = tensor(1.3648, device='cuda:0', grad_fn=<NllLoss2DBackward>)\n",
      "Loss = tensor(1.3353, device='cuda:0', grad_fn=<NllLoss2DBackward>)\n",
      "EPOCH:  92\n"
     ]
    },
    {
     "data": {
      "image/png": "[encoded data removed]",
      "text/plain": [
       "<PIL.Image.Image image mode=RGB size=60x60 at 0x7F63200A47C0>"
      ]
     },
     "metadata": {},
     "output_type": "display_data"
    },
    {
     "name": "stdout",
     "output_type": "stream",
     "text": [
      "Learning rate:  7.776e-05\n",
      "Loss = tensor(1.3048, device='cuda:0', grad_fn=<NllLoss2DBackward>)\n",
      "Loss = tensor(1.3092, device='cuda:0', grad_fn=<NllLoss2DBackward>)\n",
      "Loss = tensor(1.3522, device='cuda:0', grad_fn=<NllLoss2DBackward>)\n",
      "Loss = tensor(1.3705, device='cuda:0', grad_fn=<NllLoss2DBackward>)\n",
      "Loss = tensor(1.3334, device='cuda:0', grad_fn=<NllLoss2DBackward>)\n",
      "EPOCH:  92\n"
     ]
    },
    {
     "data": {
      "image/png": "[encoded data removed]",
      "text/plain": [
       "<PIL.Image.Image image mode=RGB size=60x60 at 0x7F63200A45E0>"
      ]
     },
     "metadata": {},
     "output_type": "display_data"
    },
    {
     "name": "stdout",
     "output_type": "stream",
     "text": [
      "Learning rate:  7.776e-05\n",
      "Loss = tensor(1.3475, device='cuda:0', grad_fn=<NllLoss2DBackward>)\n",
      "Loss = tensor(1.3379, device='cuda:0', grad_fn=<NllLoss2DBackward>)\n",
      "Loss = tensor(1.3427, device='cuda:0', grad_fn=<NllLoss2DBackward>)\n",
      "Loss = tensor(1.3551, device='cuda:0', grad_fn=<NllLoss2DBackward>)\n",
      "Loss = tensor(1.3308, device='cuda:0', grad_fn=<NllLoss2DBackward>)\n",
      "EPOCH:  92\n"
     ]
    },
    {
     "data": {
      "image/png": "[encoded data removed]",
      "text/plain": [
       "<PIL.Image.Image image mode=RGB size=60x60 at 0x7F63200A4790>"
      ]
     },
     "metadata": {},
     "output_type": "display_data"
    },
    {
     "name": "stdout",
     "output_type": "stream",
     "text": [
      "Learning rate:  7.776e-05\n",
      "Loss = tensor(1.3486, device='cuda:0', grad_fn=<NllLoss2DBackward>)\n",
      "Loss = tensor(1.2941, device='cuda:0', grad_fn=<NllLoss2DBackward>)\n",
      "EPOCH:  93\n"
     ]
    },
    {
     "data": {
      "image/png": "[encoded data removed]",
      "text/plain": [
       "<PIL.Image.Image image mode=RGB size=60x60 at 0x7F63200A45E0>"
      ]
     },
     "metadata": {},
     "output_type": "display_data"
    },
    {
     "name": "stdout",
     "output_type": "stream",
     "text": [
      "Learning rate:  7.776e-05\n",
      "Loss = tensor(1.3448, device='cuda:0', grad_fn=<NllLoss2DBackward>)\n",
      "Loss = tensor(1.3259, device='cuda:0', grad_fn=<NllLoss2DBackward>)\n",
      "Loss = tensor(1.3278, device='cuda:0', grad_fn=<NllLoss2DBackward>)\n",
      "Loss = tensor(1.3848, device='cuda:0', grad_fn=<NllLoss2DBackward>)\n",
      "Loss = tensor(1.3438, device='cuda:0', grad_fn=<NllLoss2DBackward>)\n",
      "EPOCH:  93\n"
     ]
    },
    {
     "data": {
      "image/png": "[encoded data removed]",
      "text/plain": [
       "<PIL.Image.Image image mode=RGB size=60x60 at 0x7F63200A45E0>"
      ]
     },
     "metadata": {},
     "output_type": "display_data"
    },
    {
     "name": "stdout",
     "output_type": "stream",
     "text": [
      "Learning rate:  7.776e-05\n",
      "Loss = tensor(1.3295, device='cuda:0', grad_fn=<NllLoss2DBackward>)\n",
      "Loss = tensor(1.3259, device='cuda:0', grad_fn=<NllLoss2DBackward>)\n",
      "Loss = tensor(1.3830, device='cuda:0', grad_fn=<NllLoss2DBackward>)\n",
      "Loss = tensor(1.3427, device='cuda:0', grad_fn=<NllLoss2DBackward>)\n",
      "Loss = tensor(1.3240, device='cuda:0', grad_fn=<NllLoss2DBackward>)\n",
      "EPOCH:  93\n"
     ]
    },
    {
     "data": {
      "image/png": "[encoded data removed]",
      "text/plain": [
       "<PIL.Image.Image image mode=RGB size=60x60 at 0x7F63200A4340>"
      ]
     },
     "metadata": {},
     "output_type": "display_data"
    },
    {
     "name": "stdout",
     "output_type": "stream",
     "text": [
      "Learning rate:  7.776e-05\n",
      "Loss = tensor(1.3426, device='cuda:0', grad_fn=<NllLoss2DBackward>)\n",
      "Loss = tensor(1.3392, device='cuda:0', grad_fn=<NllLoss2DBackward>)\n",
      "EPOCH:  94\n"
     ]
    },
    {
     "data": {
      "image/png": "[encoded data removed]",
      "text/plain": [
       "<PIL.Image.Image image mode=RGB size=60x60 at 0x7F63200A48B0>"
      ]
     },
     "metadata": {},
     "output_type": "display_data"
    },
    {
     "name": "stdout",
     "output_type": "stream",
     "text": [
      "Learning rate:  7.776e-05\n",
      "Loss = tensor(1.3469, device='cuda:0', grad_fn=<NllLoss2DBackward>)\n",
      "Loss = tensor(1.3136, device='cuda:0', grad_fn=<NllLoss2DBackward>)\n",
      "Loss = tensor(1.3292, device='cuda:0', grad_fn=<NllLoss2DBackward>)\n",
      "Loss = tensor(1.3551, device='cuda:0', grad_fn=<NllLoss2DBackward>)\n",
      "Loss = tensor(1.3190, device='cuda:0', grad_fn=<NllLoss2DBackward>)\n",
      "EPOCH:  94\n"
     ]
    },
    {
     "data": {
      "image/png": "[encoded data removed]",
      "text/plain": [
       "<PIL.Image.Image image mode=RGB size=60x60 at 0x7F63200A48B0>"
      ]
     },
     "metadata": {},
     "output_type": "display_data"
    },
    {
     "name": "stdout",
     "output_type": "stream",
     "text": [
      "Learning rate:  7.776e-05\n",
      "Loss = tensor(1.3275, device='cuda:0', grad_fn=<NllLoss2DBackward>)\n",
      "Loss = tensor(1.3468, device='cuda:0', grad_fn=<NllLoss2DBackward>)\n",
      "Loss = tensor(1.3386, device='cuda:0', grad_fn=<NllLoss2DBackward>)\n",
      "Loss = tensor(1.3452, device='cuda:0', grad_fn=<NllLoss2DBackward>)\n",
      "Loss = tensor(1.3744, device='cuda:0', grad_fn=<NllLoss2DBackward>)\n",
      "EPOCH:  94\n"
     ]
    },
    {
     "data": {
      "image/png": "[encoded data removed]",
      "text/plain": [
       "<PIL.Image.Image image mode=RGB size=60x60 at 0x7F63200A4760>"
      ]
     },
     "metadata": {},
     "output_type": "display_data"
    },
    {
     "name": "stdout",
     "output_type": "stream",
     "text": [
      "Learning rate:  7.776e-05\n",
      "Loss = tensor(1.3196, device='cuda:0', grad_fn=<NllLoss2DBackward>)\n",
      "Loss = tensor(1.3549, device='cuda:0', grad_fn=<NllLoss2DBackward>)\n",
      "EPOCH:  95\n"
     ]
    },
    {
     "data": {
      "image/png": "[encoded data removed]",
      "text/plain": [
       "<PIL.Image.Image image mode=RGB size=60x60 at 0x7F63200A4730>"
      ]
     },
     "metadata": {},
     "output_type": "display_data"
    },
    {
     "name": "stdout",
     "output_type": "stream",
     "text": [
      "Learning rate:  7.776e-05\n",
      "Loss = tensor(1.3246, device='cuda:0', grad_fn=<NllLoss2DBackward>)\n",
      "Loss = tensor(1.3373, device='cuda:0', grad_fn=<NllLoss2DBackward>)\n",
      "Loss = tensor(1.3239, device='cuda:0', grad_fn=<NllLoss2DBackward>)\n",
      "Loss = tensor(1.3461, device='cuda:0', grad_fn=<NllLoss2DBackward>)\n",
      "Loss = tensor(1.3247, device='cuda:0', grad_fn=<NllLoss2DBackward>)\n",
      "EPOCH:  95\n"
     ]
    },
    {
     "data": {
      "image/png": "[encoded data removed]",
      "text/plain": [
       "<PIL.Image.Image image mode=RGB size=60x60 at 0x7F63200A4760>"
      ]
     },
     "metadata": {},
     "output_type": "display_data"
    },
    {
     "name": "stdout",
     "output_type": "stream",
     "text": [
      "Learning rate:  7.776e-05\n",
      "Loss = tensor(1.3380, device='cuda:0', grad_fn=<NllLoss2DBackward>)\n",
      "Loss = tensor(1.3342, device='cuda:0', grad_fn=<NllLoss2DBackward>)\n",
      "Loss = tensor(1.3256, device='cuda:0', grad_fn=<NllLoss2DBackward>)\n",
      "Loss = tensor(1.3240, device='cuda:0', grad_fn=<NllLoss2DBackward>)\n",
      "Loss = tensor(1.3482, device='cuda:0', grad_fn=<NllLoss2DBackward>)\n",
      "EPOCH:  95\n"
     ]
    },
    {
     "data": {
      "image/png": "[encoded data removed]",
      "text/plain": [
       "<PIL.Image.Image image mode=RGB size=60x60 at 0x7F63200A4580>"
      ]
     },
     "metadata": {},
     "output_type": "display_data"
    },
    {
     "name": "stdout",
     "output_type": "stream",
     "text": [
      "Learning rate:  7.776e-05\n",
      "Loss = tensor(1.3656, device='cuda:0', grad_fn=<NllLoss2DBackward>)\n",
      "Loss = tensor(1.3581, device='cuda:0', grad_fn=<NllLoss2DBackward>)\n",
      "EPOCH:  96\n"
     ]
    },
    {
     "data": {
      "image/png": "[encoded data removed]",
      "text/plain": [
       "<PIL.Image.Image image mode=RGB size=60x60 at 0x7F63200A4580>"
      ]
     },
     "metadata": {},
     "output_type": "display_data"
    },
    {
     "name": "stdout",
     "output_type": "stream",
     "text": [
      "Learning rate:  7.776e-05\n",
      "Loss = tensor(1.3321, device='cuda:0', grad_fn=<NllLoss2DBackward>)\n",
      "Loss = tensor(1.3085, device='cuda:0', grad_fn=<NllLoss2DBackward>)\n",
      "Loss = tensor(1.3408, device='cuda:0', grad_fn=<NllLoss2DBackward>)\n",
      "Loss = tensor(1.3601, device='cuda:0', grad_fn=<NllLoss2DBackward>)\n",
      "Loss = tensor(1.3640, device='cuda:0', grad_fn=<NllLoss2DBackward>)\n",
      "EPOCH:  96\n"
     ]
    },
    {
     "data": {
      "image/png": "[encoded data removed]",
      "text/plain": [
       "<PIL.Image.Image image mode=RGB size=60x60 at 0x7F63200A4730>"
      ]
     },
     "metadata": {},
     "output_type": "display_data"
    },
    {
     "name": "stdout",
     "output_type": "stream",
     "text": [
      "Learning rate:  7.776e-05\n",
      "Loss = tensor(1.3376, device='cuda:0', grad_fn=<NllLoss2DBackward>)\n",
      "Loss = tensor(1.3124, device='cuda:0', grad_fn=<NllLoss2DBackward>)\n",
      "Loss = tensor(1.3138, device='cuda:0', grad_fn=<NllLoss2DBackward>)\n",
      "Loss = tensor(1.3391, device='cuda:0', grad_fn=<NllLoss2DBackward>)\n",
      "Loss = tensor(1.3358, device='cuda:0', grad_fn=<NllLoss2DBackward>)\n",
      "EPOCH:  96\n"
     ]
    },
    {
     "data": {
      "image/png": "[encoded data removed]",
      "text/plain": [
       "<PIL.Image.Image image mode=RGB size=60x60 at 0x7F63200A4670>"
      ]
     },
     "metadata": {},
     "output_type": "display_data"
    },
    {
     "name": "stdout",
     "output_type": "stream",
     "text": [
      "Learning rate:  7.776e-05\n",
      "Loss = tensor(1.3502, device='cuda:0', grad_fn=<NllLoss2DBackward>)\n",
      "Loss = tensor(1.3344, device='cuda:0', grad_fn=<NllLoss2DBackward>)\n",
      "EPOCH:  97\n"
     ]
    },
    {
     "data": {
      "image/png": "[encoded data removed]",
      "text/plain": [
       "<PIL.Image.Image image mode=RGB size=60x60 at 0x7F63200A4640>"
      ]
     },
     "metadata": {},
     "output_type": "display_data"
    },
    {
     "name": "stdout",
     "output_type": "stream",
     "text": [
      "Learning rate:  7.776e-05\n",
      "Loss = tensor(1.3253, device='cuda:0', grad_fn=<NllLoss2DBackward>)\n",
      "Loss = tensor(1.3551, device='cuda:0', grad_fn=<NllLoss2DBackward>)\n",
      "Loss = tensor(1.3109, device='cuda:0', grad_fn=<NllLoss2DBackward>)\n",
      "Loss = tensor(1.3322, device='cuda:0', grad_fn=<NllLoss2DBackward>)\n",
      "Loss = tensor(1.3268, device='cuda:0', grad_fn=<NllLoss2DBackward>)\n",
      "EPOCH:  97\n"
     ]
    },
    {
     "data": {
      "image/png": "[encoded data removed]",
      "text/plain": [
       "<PIL.Image.Image image mode=RGB size=60x60 at 0x7F63200A4340>"
      ]
     },
     "metadata": {},
     "output_type": "display_data"
    },
    {
     "name": "stdout",
     "output_type": "stream",
     "text": [
      "Learning rate:  7.776e-05\n",
      "Loss = tensor(1.3432, device='cuda:0', grad_fn=<NllLoss2DBackward>)\n",
      "Loss = tensor(1.3801, device='cuda:0', grad_fn=<NllLoss2DBackward>)\n",
      "Loss = tensor(1.3521, device='cuda:0', grad_fn=<NllLoss2DBackward>)\n",
      "Loss = tensor(1.3355, device='cuda:0', grad_fn=<NllLoss2DBackward>)\n",
      "Loss = tensor(1.3398, device='cuda:0', grad_fn=<NllLoss2DBackward>)\n",
      "EPOCH:  97\n"
     ]
    },
    {
     "data": {
      "image/png": "[encoded data removed]",
      "text/plain": [
       "<PIL.Image.Image image mode=RGB size=60x60 at 0x7F63200A48B0>"
      ]
     },
     "metadata": {},
     "output_type": "display_data"
    },
    {
     "name": "stdout",
     "output_type": "stream",
     "text": [
      "Learning rate:  7.776e-05\n",
      "Loss = tensor(1.3191, device='cuda:0', grad_fn=<NllLoss2DBackward>)\n",
      "Loss = tensor(1.3131, device='cuda:0', grad_fn=<NllLoss2DBackward>)\n",
      "EPOCH:  98\n"
     ]
    },
    {
     "data": {
      "image/png": "[encoded data removed]",
      "text/plain": [
       "<PIL.Image.Image image mode=RGB size=60x60 at 0x7F63200A4400>"
      ]
     },
     "metadata": {},
     "output_type": "display_data"
    },
    {
     "name": "stdout",
     "output_type": "stream",
     "text": [
      "Learning rate:  7.776e-05\n",
      "Loss = tensor(1.3691, device='cuda:0', grad_fn=<NllLoss2DBackward>)\n",
      "Loss = tensor(1.3404, device='cuda:0', grad_fn=<NllLoss2DBackward>)\n",
      "Loss = tensor(1.3155, device='cuda:0', grad_fn=<NllLoss2DBackward>)\n",
      "Loss = tensor(1.3340, device='cuda:0', grad_fn=<NllLoss2DBackward>)\n",
      "Loss = tensor(1.3880, device='cuda:0', grad_fn=<NllLoss2DBackward>)\n",
      "EPOCH:  98\n"
     ]
    },
    {
     "data": {
      "image/png": "[encoded data removed]",
      "text/plain": [
       "<PIL.Image.Image image mode=RGB size=60x60 at 0x7F63200A48E0>"
      ]
     },
     "metadata": {},
     "output_type": "display_data"
    },
    {
     "name": "stdout",
     "output_type": "stream",
     "text": [
      "Learning rate:  7.776e-05\n",
      "Loss = tensor(1.3360, device='cuda:0', grad_fn=<NllLoss2DBackward>)\n",
      "Loss = tensor(1.3298, device='cuda:0', grad_fn=<NllLoss2DBackward>)\n",
      "Loss = tensor(1.3608, device='cuda:0', grad_fn=<NllLoss2DBackward>)\n",
      "Loss = tensor(1.3023, device='cuda:0', grad_fn=<NllLoss2DBackward>)\n",
      "Loss = tensor(1.3189, device='cuda:0', grad_fn=<NllLoss2DBackward>)\n",
      "EPOCH:  98\n"
     ]
    },
    {
     "data": {
      "image/png": "[encoded data removed]",
      "text/plain": [
       "<PIL.Image.Image image mode=RGB size=60x60 at 0x7F63200A45B0>"
      ]
     },
     "metadata": {},
     "output_type": "display_data"
    },
    {
     "name": "stdout",
     "output_type": "stream",
     "text": [
      "Learning rate:  7.776e-05\n",
      "Loss = tensor(1.3391, device='cuda:0', grad_fn=<NllLoss2DBackward>)\n",
      "Loss = tensor(1.3190, device='cuda:0', grad_fn=<NllLoss2DBackward>)\n",
      "EPOCH:  99\n"
     ]
    },
    {
     "data": {
      "image/png": "[encoded data removed]",
      "text/plain": [
       "<PIL.Image.Image image mode=RGB size=60x60 at 0x7F63200A4730>"
      ]
     },
     "metadata": {},
     "output_type": "display_data"
    },
    {
     "name": "stdout",
     "output_type": "stream",
     "text": [
      "Learning rate:  7.776e-05\n",
      "Loss = tensor(1.2979, device='cuda:0', grad_fn=<NllLoss2DBackward>)\n",
      "Loss = tensor(1.3405, device='cuda:0', grad_fn=<NllLoss2DBackward>)\n",
      "Loss = tensor(1.3564, device='cuda:0', grad_fn=<NllLoss2DBackward>)\n",
      "Loss = tensor(1.3784, device='cuda:0', grad_fn=<NllLoss2DBackward>)\n",
      "Loss = tensor(1.3251, device='cuda:0', grad_fn=<NllLoss2DBackward>)\n",
      "EPOCH:  99\n"
     ]
    },
    {
     "data": {
      "image/png": "[encoded data removed]",
      "text/plain": [
       "<PIL.Image.Image image mode=RGB size=60x60 at 0x7F63200A4580>"
      ]
     },
     "metadata": {},
     "output_type": "display_data"
    },
    {
     "name": "stdout",
     "output_type": "stream",
     "text": [
      "Learning rate:  7.776e-05\n",
      "Loss = tensor(1.3634, device='cuda:0', grad_fn=<NllLoss2DBackward>)\n",
      "Loss = tensor(1.3618, device='cuda:0', grad_fn=<NllLoss2DBackward>)\n",
      "Loss = tensor(1.3154, device='cuda:0', grad_fn=<NllLoss2DBackward>)\n",
      "Loss = tensor(1.3124, device='cuda:0', grad_fn=<NllLoss2DBackward>)\n",
      "Loss = tensor(1.3129, device='cuda:0', grad_fn=<NllLoss2DBackward>)\n",
      "EPOCH:  99\n"
     ]
    },
    {
     "data": {
      "image/png": "[encoded data removed]",
      "text/plain": [
       "<PIL.Image.Image image mode=RGB size=60x60 at 0x7F63200A4520>"
      ]
     },
     "metadata": {},
     "output_type": "display_data"
    },
    {
     "name": "stdout",
     "output_type": "stream",
     "text": [
      "Learning rate:  7.776e-05\n",
      "Loss = tensor(1.3564, device='cuda:0', grad_fn=<NllLoss2DBackward>)\n",
      "Loss = tensor(1.3418, device='cuda:0', grad_fn=<NllLoss2DBackward>)\n",
      "EPOCH:  100\n"
     ]
    },
    {
     "data": {
      "image/png": "[encoded data removed]",
      "text/plain": [
       "<PIL.Image.Image image mode=RGB size=60x60 at 0x7F63200A4400>"
      ]
     },
     "metadata": {},
     "output_type": "display_data"
    },
    {
     "name": "stdout",
     "output_type": "stream",
     "text": [
      "Learning rate:  7.776e-05\n",
      "Loss = tensor(1.3605, device='cuda:0', grad_fn=<NllLoss2DBackward>)\n",
      "Loss = tensor(1.3289, device='cuda:0', grad_fn=<NllLoss2DBackward>)\n",
      "Loss = tensor(1.3324, device='cuda:0', grad_fn=<NllLoss2DBackward>)\n",
      "Loss = tensor(1.3515, device='cuda:0', grad_fn=<NllLoss2DBackward>)\n",
      "Loss = tensor(1.3363, device='cuda:0', grad_fn=<NllLoss2DBackward>)\n",
      "EPOCH:  100\n"
     ]
    },
    {
     "data": {
      "image/png": "[encoded data removed]",
      "text/plain": [
       "<PIL.Image.Image image mode=RGB size=60x60 at 0x7F63200A4760>"
      ]
     },
     "metadata": {},
     "output_type": "display_data"
    },
    {
     "name": "stdout",
     "output_type": "stream",
     "text": [
      "Learning rate:  7.776e-05\n",
      "Loss = tensor(1.3351, device='cuda:0', grad_fn=<NllLoss2DBackward>)\n",
      "Loss = tensor(1.3141, device='cuda:0', grad_fn=<NllLoss2DBackward>)\n",
      "Loss = tensor(1.3555, device='cuda:0', grad_fn=<NllLoss2DBackward>)\n",
      "Loss = tensor(1.3501, device='cuda:0', grad_fn=<NllLoss2DBackward>)\n",
      "Loss = tensor(1.3407, device='cuda:0', grad_fn=<NllLoss2DBackward>)\n",
      "EPOCH:  100\n"
     ]
    },
    {
     "data": {
      "image/png": "[encoded data removed]",
      "text/plain": [
       "<PIL.Image.Image image mode=RGB size=60x60 at 0x7F63200A4520>"
      ]
     },
     "metadata": {},
     "output_type": "display_data"
    },
    {
     "name": "stdout",
     "output_type": "stream",
     "text": [
      "Learning rate:  7.776e-05\n",
      "Loss = tensor(1.3034, device='cuda:0', grad_fn=<NllLoss2DBackward>)\n",
      "Loss = tensor(1.3186, device='cuda:0', grad_fn=<NllLoss2DBackward>)\n",
      "EPOCH:  101\n"
     ]
    },
    {
     "data": {
      "image/png": "[encoded data removed]",
      "text/plain": [
       "<PIL.Image.Image image mode=RGB size=60x60 at 0x7F63200A46D0>"
      ]
     },
     "metadata": {},
     "output_type": "display_data"
    },
    {
     "name": "stdout",
     "output_type": "stream",
     "text": [
      "Learning rate:  7.776e-05\n",
      "Loss = tensor(1.3307, device='cuda:0', grad_fn=<NllLoss2DBackward>)\n",
      "Loss = tensor(1.3602, device='cuda:0', grad_fn=<NllLoss2DBackward>)\n",
      "Loss = tensor(1.3364, device='cuda:0', grad_fn=<NllLoss2DBackward>)\n",
      "Loss = tensor(1.3421, device='cuda:0', grad_fn=<NllLoss2DBackward>)\n",
      "Loss = tensor(1.3541, device='cuda:0', grad_fn=<NllLoss2DBackward>)\n",
      "EPOCH:  101\n"
     ]
    },
    {
     "data": {
      "image/png": "[encoded data removed]",
      "text/plain": [
       "<PIL.Image.Image image mode=RGB size=60x60 at 0x7F63200A4400>"
      ]
     },
     "metadata": {},
     "output_type": "display_data"
    },
    {
     "name": "stdout",
     "output_type": "stream",
     "text": [
      "Learning rate:  7.776e-05\n",
      "Loss = tensor(1.3424, device='cuda:0', grad_fn=<NllLoss2DBackward>)\n",
      "Loss = tensor(1.3384, device='cuda:0', grad_fn=<NllLoss2DBackward>)\n",
      "Loss = tensor(1.3650, device='cuda:0', grad_fn=<NllLoss2DBackward>)\n",
      "Loss = tensor(1.3199, device='cuda:0', grad_fn=<NllLoss2DBackward>)\n",
      "Loss = tensor(1.3250, device='cuda:0', grad_fn=<NllLoss2DBackward>)\n",
      "EPOCH:  101\n"
     ]
    },
    {
     "data": {
      "image/png": "[encoded data removed]",
      "text/plain": [
       "<PIL.Image.Image image mode=RGB size=60x60 at 0x7F63200A4820>"
      ]
     },
     "metadata": {},
     "output_type": "display_data"
    },
    {
     "name": "stdout",
     "output_type": "stream",
     "text": [
      "Learning rate:  7.776e-05\n",
      "Loss = tensor(1.3136, device='cuda:0', grad_fn=<NllLoss2DBackward>)\n",
      "Loss = tensor(1.3707, device='cuda:0', grad_fn=<NllLoss2DBackward>)\n",
      "EPOCH:  102\n"
     ]
    },
    {
     "data": {
      "image/png": "[encoded data removed]",
      "text/plain": [
       "<PIL.Image.Image image mode=RGB size=60x60 at 0x7F63200A48B0>"
      ]
     },
     "metadata": {},
     "output_type": "display_data"
    },
    {
     "name": "stdout",
     "output_type": "stream",
     "text": [
      "Learning rate:  7.776e-05\n",
      "Loss = tensor(1.3119, device='cuda:0', grad_fn=<NllLoss2DBackward>)\n",
      "Loss = tensor(1.3345, device='cuda:0', grad_fn=<NllLoss2DBackward>)\n",
      "Loss = tensor(1.3928, device='cuda:0', grad_fn=<NllLoss2DBackward>)\n",
      "Loss = tensor(1.3488, device='cuda:0', grad_fn=<NllLoss2DBackward>)\n",
      "Loss = tensor(1.3416, device='cuda:0', grad_fn=<NllLoss2DBackward>)\n",
      "EPOCH:  102\n"
     ]
    },
    {
     "data": {
      "image/png": "[encoded data removed]",
      "text/plain": [
       "<PIL.Image.Image image mode=RGB size=60x60 at 0x7F63200A4670>"
      ]
     },
     "metadata": {},
     "output_type": "display_data"
    },
    {
     "name": "stdout",
     "output_type": "stream",
     "text": [
      "Learning rate:  7.776e-05\n",
      "Loss = tensor(1.3035, device='cuda:0', grad_fn=<NllLoss2DBackward>)\n",
      "Loss = tensor(1.3276, device='cuda:0', grad_fn=<NllLoss2DBackward>)\n",
      "Loss = tensor(1.3219, device='cuda:0', grad_fn=<NllLoss2DBackward>)\n",
      "Loss = tensor(1.3138, device='cuda:0', grad_fn=<NllLoss2DBackward>)\n",
      "Loss = tensor(1.3239, device='cuda:0', grad_fn=<NllLoss2DBackward>)\n",
      "EPOCH:  102\n"
     ]
    },
    {
     "data": {
      "image/png": "[encoded data removed]",
      "text/plain": [
       "<PIL.Image.Image image mode=RGB size=60x60 at 0x7F63200A4580>"
      ]
     },
     "metadata": {},
     "output_type": "display_data"
    },
    {
     "name": "stdout",
     "output_type": "stream",
     "text": [
      "Learning rate:  7.776e-05\n",
      "Loss = tensor(1.3535, device='cuda:0', grad_fn=<NllLoss2DBackward>)\n",
      "Loss = tensor(1.3350, device='cuda:0', grad_fn=<NllLoss2DBackward>)\n",
      "EPOCH:  103\n"
     ]
    },
    {
     "data": {
      "image/png": "[encoded data removed]",
      "text/plain": [
       "<PIL.Image.Image image mode=RGB size=60x60 at 0x7F63200A45B0>"
      ]
     },
     "metadata": {},
     "output_type": "display_data"
    },
    {
     "name": "stdout",
     "output_type": "stream",
     "text": [
      "Learning rate:  7.776e-05\n",
      "Loss = tensor(1.3129, device='cuda:0', grad_fn=<NllLoss2DBackward>)\n",
      "Loss = tensor(1.3698, device='cuda:0', grad_fn=<NllLoss2DBackward>)\n",
      "Loss = tensor(1.3605, device='cuda:0', grad_fn=<NllLoss2DBackward>)\n",
      "Loss = tensor(1.3387, device='cuda:0', grad_fn=<NllLoss2DBackward>)\n",
      "Loss = tensor(1.3448, device='cuda:0', grad_fn=<NllLoss2DBackward>)\n",
      "EPOCH:  103\n"
     ]
    },
    {
     "data": {
      "image/png": "[encoded data removed]",
      "text/plain": [
       "<PIL.Image.Image image mode=RGB size=60x60 at 0x7F63200A4550>"
      ]
     },
     "metadata": {},
     "output_type": "display_data"
    },
    {
     "name": "stdout",
     "output_type": "stream",
     "text": [
      "Learning rate:  7.776e-05\n",
      "Loss = tensor(1.3179, device='cuda:0', grad_fn=<NllLoss2DBackward>)\n",
      "Loss = tensor(1.3312, device='cuda:0', grad_fn=<NllLoss2DBackward>)\n",
      "Loss = tensor(1.3500, device='cuda:0', grad_fn=<NllLoss2DBackward>)\n",
      "Loss = tensor(1.3239, device='cuda:0', grad_fn=<NllLoss2DBackward>)\n",
      "Loss = tensor(1.3120, device='cuda:0', grad_fn=<NllLoss2DBackward>)\n",
      "EPOCH:  103\n"
     ]
    },
    {
     "data": {
      "image/png": "[encoded data removed]",
      "text/plain": [
       "<PIL.Image.Image image mode=RGB size=60x60 at 0x7F63200A4730>"
      ]
     },
     "metadata": {},
     "output_type": "display_data"
    },
    {
     "name": "stdout",
     "output_type": "stream",
     "text": [
      "Learning rate:  7.776e-05\n",
      "Loss = tensor(1.3587, device='cuda:0', grad_fn=<NllLoss2DBackward>)\n",
      "Loss = tensor(1.3489, device='cuda:0', grad_fn=<NllLoss2DBackward>)\n",
      "EPOCH:  104\n"
     ]
    },
    {
     "data": {
      "image/png": "[encoded data removed]",
      "text/plain": [
       "<PIL.Image.Image image mode=RGB size=60x60 at 0x7F63200A4550>"
      ]
     },
     "metadata": {},
     "output_type": "display_data"
    },
    {
     "name": "stdout",
     "output_type": "stream",
     "text": [
      "Learning rate:  7.776e-05\n",
      "Loss = tensor(1.3732, device='cuda:0', grad_fn=<NllLoss2DBackward>)\n",
      "Loss = tensor(1.3102, device='cuda:0', grad_fn=<NllLoss2DBackward>)\n",
      "Loss = tensor(1.3511, device='cuda:0', grad_fn=<NllLoss2DBackward>)\n",
      "Loss = tensor(1.3187, device='cuda:0', grad_fn=<NllLoss2DBackward>)\n",
      "Loss = tensor(1.3323, device='cuda:0', grad_fn=<NllLoss2DBackward>)\n",
      "EPOCH:  104\n"
     ]
    },
    {
     "data": {
      "image/png": "[encoded data removed]",
      "text/plain": [
       "<PIL.Image.Image image mode=RGB size=60x60 at 0x7F63200A4580>"
      ]
     },
     "metadata": {},
     "output_type": "display_data"
    },
    {
     "name": "stdout",
     "output_type": "stream",
     "text": [
      "Learning rate:  7.776e-05\n",
      "Loss = tensor(1.3680, device='cuda:0', grad_fn=<NllLoss2DBackward>)\n",
      "Loss = tensor(1.3553, device='cuda:0', grad_fn=<NllLoss2DBackward>)\n",
      "Loss = tensor(1.3395, device='cuda:0', grad_fn=<NllLoss2DBackward>)\n",
      "Loss = tensor(1.3324, device='cuda:0', grad_fn=<NllLoss2DBackward>)\n",
      "Loss = tensor(1.3097, device='cuda:0', grad_fn=<NllLoss2DBackward>)\n",
      "EPOCH:  104\n"
     ]
    },
    {
     "data": {
      "image/png": "[encoded data removed]",
      "text/plain": [
       "<PIL.Image.Image image mode=RGB size=60x60 at 0x7F63200A48E0>"
      ]
     },
     "metadata": {},
     "output_type": "display_data"
    },
    {
     "name": "stdout",
     "output_type": "stream",
     "text": [
      "Learning rate:  7.776e-05\n",
      "Loss = tensor(1.2962, device='cuda:0', grad_fn=<NllLoss2DBackward>)\n",
      "Loss = tensor(1.3040, device='cuda:0', grad_fn=<NllLoss2DBackward>)\n",
      "EPOCH:  105\n"
     ]
    },
    {
     "data": {
      "image/png": "[encoded data removed]",
      "text/plain": [
       "<PIL.Image.Image image mode=RGB size=60x60 at 0x7F63200A45B0>"
      ]
     },
     "metadata": {},
     "output_type": "display_data"
    },
    {
     "name": "stdout",
     "output_type": "stream",
     "text": [
      "Learning rate:  7.776e-05\n",
      "Loss = tensor(1.3638, device='cuda:0', grad_fn=<NllLoss2DBackward>)\n",
      "Loss = tensor(1.3425, device='cuda:0', grad_fn=<NllLoss2DBackward>)\n",
      "Loss = tensor(1.3611, device='cuda:0', grad_fn=<NllLoss2DBackward>)\n",
      "Loss = tensor(1.3346, device='cuda:0', grad_fn=<NllLoss2DBackward>)\n",
      "Loss = tensor(1.3339, device='cuda:0', grad_fn=<NllLoss2DBackward>)\n",
      "EPOCH:  105\n"
     ]
    },
    {
     "data": {
      "image/png": "[encoded data removed]",
      "text/plain": [
       "<PIL.Image.Image image mode=RGB size=60x60 at 0x7F63200A4400>"
      ]
     },
     "metadata": {},
     "output_type": "display_data"
    },
    {
     "name": "stdout",
     "output_type": "stream",
     "text": [
      "Learning rate:  7.776e-05\n",
      "Loss = tensor(1.3012, device='cuda:0', grad_fn=<NllLoss2DBackward>)\n",
      "Loss = tensor(1.3449, device='cuda:0', grad_fn=<NllLoss2DBackward>)\n",
      "Loss = tensor(1.3629, device='cuda:0', grad_fn=<NllLoss2DBackward>)\n",
      "Loss = tensor(1.3326, device='cuda:0', grad_fn=<NllLoss2DBackward>)\n",
      "Loss = tensor(1.3284, device='cuda:0', grad_fn=<NllLoss2DBackward>)\n",
      "EPOCH:  105\n"
     ]
    },
    {
     "data": {
      "image/png": "[encoded data removed]",
      "text/plain": [
       "<PIL.Image.Image image mode=RGB size=60x60 at 0x7F63200A4850>"
      ]
     },
     "metadata": {},
     "output_type": "display_data"
    },
    {
     "name": "stdout",
     "output_type": "stream",
     "text": [
      "Learning rate:  7.776e-05\n",
      "Loss = tensor(1.3220, device='cuda:0', grad_fn=<NllLoss2DBackward>)\n",
      "Loss = tensor(1.3359, device='cuda:0', grad_fn=<NllLoss2DBackward>)\n",
      "EPOCH:  106\n"
     ]
    },
    {
     "data": {
      "image/png": "[encoded data removed]",
      "text/plain": [
       "<PIL.Image.Image image mode=RGB size=60x60 at 0x7F63200A4880>"
      ]
     },
     "metadata": {},
     "output_type": "display_data"
    },
    {
     "name": "stdout",
     "output_type": "stream",
     "text": [
      "Learning rate:  7.776e-05\n",
      "Loss = tensor(1.3384, device='cuda:0', grad_fn=<NllLoss2DBackward>)\n",
      "Loss = tensor(1.3364, device='cuda:0', grad_fn=<NllLoss2DBackward>)\n",
      "Loss = tensor(1.3704, device='cuda:0', grad_fn=<NllLoss2DBackward>)\n",
      "Loss = tensor(1.3070, device='cuda:0', grad_fn=<NllLoss2DBackward>)\n",
      "Loss = tensor(1.4199, device='cuda:0', grad_fn=<NllLoss2DBackward>)\n",
      "EPOCH:  106\n"
     ]
    },
    {
     "data": {
      "image/png": "[encoded data removed]",
      "text/plain": [
       "<PIL.Image.Image image mode=RGB size=60x60 at 0x7F63200A45E0>"
      ]
     },
     "metadata": {},
     "output_type": "display_data"
    },
    {
     "name": "stdout",
     "output_type": "stream",
     "text": [
      "Learning rate:  7.776e-05\n",
      "Loss = tensor(1.3323, device='cuda:0', grad_fn=<NllLoss2DBackward>)\n",
      "Loss = tensor(1.3293, device='cuda:0', grad_fn=<NllLoss2DBackward>)\n",
      "Loss = tensor(1.3234, device='cuda:0', grad_fn=<NllLoss2DBackward>)\n",
      "Loss = tensor(1.3097, device='cuda:0', grad_fn=<NllLoss2DBackward>)\n",
      "Loss = tensor(1.3397, device='cuda:0', grad_fn=<NllLoss2DBackward>)\n",
      "EPOCH:  106\n"
     ]
    },
    {
     "data": {
      "image/png": "[encoded data removed]",
      "text/plain": [
       "<PIL.Image.Image image mode=RGB size=60x60 at 0x7F63200A45B0>"
      ]
     },
     "metadata": {},
     "output_type": "display_data"
    },
    {
     "name": "stdout",
     "output_type": "stream",
     "text": [
      "Learning rate:  7.776e-05\n",
      "Loss = tensor(1.2991, device='cuda:0', grad_fn=<NllLoss2DBackward>)\n",
      "Loss = tensor(1.3027, device='cuda:0', grad_fn=<NllLoss2DBackward>)\n",
      "EPOCH:  107\n"
     ]
    },
    {
     "data": {
      "image/png": "[encoded data removed]",
      "text/plain": [
       "<PIL.Image.Image image mode=RGB size=60x60 at 0x7F63200A4340>"
      ]
     },
     "metadata": {},
     "output_type": "display_data"
    },
    {
     "name": "stdout",
     "output_type": "stream",
     "text": [
      "Learning rate:  7.776e-05\n",
      "Loss = tensor(1.3324, device='cuda:0', grad_fn=<NllLoss2DBackward>)\n",
      "Loss = tensor(1.3239, device='cuda:0', grad_fn=<NllLoss2DBackward>)\n",
      "Loss = tensor(1.3678, device='cuda:0', grad_fn=<NllLoss2DBackward>)\n",
      "Loss = tensor(1.3203, device='cuda:0', grad_fn=<NllLoss2DBackward>)\n",
      "Loss = tensor(1.3149, device='cuda:0', grad_fn=<NllLoss2DBackward>)\n",
      "EPOCH:  107\n"
     ]
    },
    {
     "data": {
      "image/png": "[encoded data removed]",
      "text/plain": [
       "<PIL.Image.Image image mode=RGB size=60x60 at 0x7F63200A4760>"
      ]
     },
     "metadata": {},
     "output_type": "display_data"
    },
    {
     "name": "stdout",
     "output_type": "stream",
     "text": [
      "Learning rate:  7.776e-05\n",
      "Loss = tensor(1.3212, device='cuda:0', grad_fn=<NllLoss2DBackward>)\n",
      "Loss = tensor(1.3353, device='cuda:0', grad_fn=<NllLoss2DBackward>)\n",
      "Loss = tensor(1.3544, device='cuda:0', grad_fn=<NllLoss2DBackward>)\n",
      "Loss = tensor(1.3380, device='cuda:0', grad_fn=<NllLoss2DBackward>)\n",
      "Loss = tensor(1.3673, device='cuda:0', grad_fn=<NllLoss2DBackward>)\n",
      "EPOCH:  107\n"
     ]
    },
    {
     "data": {
      "image/png": "[encoded data removed]",
      "text/plain": [
       "<PIL.Image.Image image mode=RGB size=60x60 at 0x7F63200A4880>"
      ]
     },
     "metadata": {},
     "output_type": "display_data"
    },
    {
     "name": "stdout",
     "output_type": "stream",
     "text": [
      "Learning rate:  7.776e-05\n",
      "Loss = tensor(1.3804, device='cuda:0', grad_fn=<NllLoss2DBackward>)\n",
      "Loss = tensor(1.3513, device='cuda:0', grad_fn=<NllLoss2DBackward>)\n",
      "EPOCH:  108\n"
     ]
    },
    {
     "data": {
      "image/png": "[encoded data removed]",
      "text/plain": [
       "<PIL.Image.Image image mode=RGB size=60x60 at 0x7F63200A4880>"
      ]
     },
     "metadata": {},
     "output_type": "display_data"
    },
    {
     "name": "stdout",
     "output_type": "stream",
     "text": [
      "Learning rate:  7.776e-05\n",
      "Loss = tensor(1.3382, device='cuda:0', grad_fn=<NllLoss2DBackward>)\n",
      "Loss = tensor(1.3283, device='cuda:0', grad_fn=<NllLoss2DBackward>)\n",
      "Loss = tensor(1.3753, device='cuda:0', grad_fn=<NllLoss2DBackward>)\n",
      "Loss = tensor(1.3203, device='cuda:0', grad_fn=<NllLoss2DBackward>)\n",
      "Loss = tensor(1.3252, device='cuda:0', grad_fn=<NllLoss2DBackward>)\n",
      "EPOCH:  108\n"
     ]
    },
    {
     "data": {
      "image/png": "[encoded data removed]",
      "text/plain": [
       "<PIL.Image.Image image mode=RGB size=60x60 at 0x7F63200A4370>"
      ]
     },
     "metadata": {},
     "output_type": "display_data"
    },
    {
     "name": "stdout",
     "output_type": "stream",
     "text": [
      "Learning rate:  7.776e-05\n",
      "Loss = tensor(1.3464, device='cuda:0', grad_fn=<NllLoss2DBackward>)\n",
      "Loss = tensor(1.3153, device='cuda:0', grad_fn=<NllLoss2DBackward>)\n",
      "Loss = tensor(1.3352, device='cuda:0', grad_fn=<NllLoss2DBackward>)\n",
      "Loss = tensor(1.3345, device='cuda:0', grad_fn=<NllLoss2DBackward>)\n",
      "Loss = tensor(1.3403, device='cuda:0', grad_fn=<NllLoss2DBackward>)\n",
      "EPOCH:  108\n"
     ]
    },
    {
     "data": {
      "image/png": "[encoded data removed]",
      "text/plain": [
       "<PIL.Image.Image image mode=RGB size=60x60 at 0x7F63200A4670>"
      ]
     },
     "metadata": {},
     "output_type": "display_data"
    },
    {
     "name": "stdout",
     "output_type": "stream",
     "text": [
      "Learning rate:  7.776e-05\n",
      "Loss = tensor(1.3328, device='cuda:0', grad_fn=<NllLoss2DBackward>)\n",
      "Loss = tensor(1.3062, device='cuda:0', grad_fn=<NllLoss2DBackward>)\n",
      "EPOCH:  109\n"
     ]
    },
    {
     "data": {
      "image/png": "[encoded data removed]",
      "text/plain": [
       "<PIL.Image.Image image mode=RGB size=60x60 at 0x7F63200A4580>"
      ]
     },
     "metadata": {},
     "output_type": "display_data"
    },
    {
     "name": "stdout",
     "output_type": "stream",
     "text": [
      "Learning rate:  7.776e-05\n",
      "Loss = tensor(1.3263, device='cuda:0', grad_fn=<NllLoss2DBackward>)\n",
      "Loss = tensor(1.3415, device='cuda:0', grad_fn=<NllLoss2DBackward>)\n",
      "Loss = tensor(1.3351, device='cuda:0', grad_fn=<NllLoss2DBackward>)\n",
      "Loss = tensor(1.3097, device='cuda:0', grad_fn=<NllLoss2DBackward>)\n",
      "Loss = tensor(1.3919, device='cuda:0', grad_fn=<NllLoss2DBackward>)\n",
      "EPOCH:  109\n"
     ]
    },
    {
     "data": {
      "image/png": "[encoded data removed]",
      "text/plain": [
       "<PIL.Image.Image image mode=RGB size=60x60 at 0x7F63200A4340>"
      ]
     },
     "metadata": {},
     "output_type": "display_data"
    },
    {
     "name": "stdout",
     "output_type": "stream",
     "text": [
      "Learning rate:  7.776e-05\n",
      "Loss = tensor(1.3390, device='cuda:0', grad_fn=<NllLoss2DBackward>)\n",
      "Loss = tensor(1.3668, device='cuda:0', grad_fn=<NllLoss2DBackward>)\n",
      "Loss = tensor(1.3190, device='cuda:0', grad_fn=<NllLoss2DBackward>)\n",
      "Loss = tensor(1.3352, device='cuda:0', grad_fn=<NllLoss2DBackward>)\n",
      "Loss = tensor(1.3161, device='cuda:0', grad_fn=<NllLoss2DBackward>)\n",
      "EPOCH:  109\n"
     ]
    },
    {
     "data": {
      "image/png": "[encoded data removed]",
      "text/plain": [
       "<PIL.Image.Image image mode=RGB size=60x60 at 0x7F63200A4580>"
      ]
     },
     "metadata": {},
     "output_type": "display_data"
    },
    {
     "name": "stdout",
     "output_type": "stream",
     "text": [
      "Learning rate:  7.776e-05\n",
      "Loss = tensor(1.3565, device='cuda:0', grad_fn=<NllLoss2DBackward>)\n",
      "Loss = tensor(1.4148, device='cuda:0', grad_fn=<NllLoss2DBackward>)\n",
      "EPOCH:  110\n"
     ]
    },
    {
     "data": {
      "image/png": "[encoded data removed]",
      "text/plain": [
       "<PIL.Image.Image image mode=RGB size=60x60 at 0x7F63200A4640>"
      ]
     },
     "metadata": {},
     "output_type": "display_data"
    },
    {
     "name": "stdout",
     "output_type": "stream",
     "text": [
      "Learning rate:  7.776e-05\n",
      "Loss = tensor(1.3283, device='cuda:0', grad_fn=<NllLoss2DBackward>)\n",
      "Loss = tensor(1.3078, device='cuda:0', grad_fn=<NllLoss2DBackward>)\n",
      "Loss = tensor(1.3379, device='cuda:0', grad_fn=<NllLoss2DBackward>)\n",
      "Loss = tensor(1.3552, device='cuda:0', grad_fn=<NllLoss2DBackward>)\n",
      "Loss = tensor(1.3435, device='cuda:0', grad_fn=<NllLoss2DBackward>)\n",
      "EPOCH:  110\n"
     ]
    },
    {
     "data": {
      "image/png": "[encoded data removed]",
      "text/plain": [
       "<PIL.Image.Image image mode=RGB size=60x60 at 0x7F63200A4760>"
      ]
     },
     "metadata": {},
     "output_type": "display_data"
    },
    {
     "name": "stdout",
     "output_type": "stream",
     "text": [
      "Learning rate:  7.776e-05\n",
      "Loss = tensor(1.3295, device='cuda:0', grad_fn=<NllLoss2DBackward>)\n",
      "Loss = tensor(1.3401, device='cuda:0', grad_fn=<NllLoss2DBackward>)\n",
      "Loss = tensor(1.3280, device='cuda:0', grad_fn=<NllLoss2DBackward>)\n",
      "Loss = tensor(1.3266, device='cuda:0', grad_fn=<NllLoss2DBackward>)\n",
      "Loss = tensor(1.3265, device='cuda:0', grad_fn=<NllLoss2DBackward>)\n",
      "EPOCH:  110\n"
     ]
    },
    {
     "data": {
      "image/png": "[encoded data removed]",
      "text/plain": [
       "<PIL.Image.Image image mode=RGB size=60x60 at 0x7F63200A48E0>"
      ]
     },
     "metadata": {},
     "output_type": "display_data"
    },
    {
     "name": "stdout",
     "output_type": "stream",
     "text": [
      "Learning rate:  7.776e-05\n",
      "Loss = tensor(1.3146, device='cuda:0', grad_fn=<NllLoss2DBackward>)\n",
      "Loss = tensor(1.3376, device='cuda:0', grad_fn=<NllLoss2DBackward>)\n",
      "EPOCH:  111\n"
     ]
    },
    {
     "data": {
      "image/png": "[encoded data removed]",
      "text/plain": [
       "<PIL.Image.Image image mode=RGB size=60x60 at 0x7F63200A46D0>"
      ]
     },
     "metadata": {},
     "output_type": "display_data"
    },
    {
     "name": "stdout",
     "output_type": "stream",
     "text": [
      "Learning rate:  7.776e-05\n",
      "Loss = tensor(1.3528, device='cuda:0', grad_fn=<NllLoss2DBackward>)\n",
      "Loss = tensor(1.3163, device='cuda:0', grad_fn=<NllLoss2DBackward>)\n",
      "Loss = tensor(1.3202, device='cuda:0', grad_fn=<NllLoss2DBackward>)\n",
      "Loss = tensor(1.3460, device='cuda:0', grad_fn=<NllLoss2DBackward>)\n",
      "Loss = tensor(1.3567, device='cuda:0', grad_fn=<NllLoss2DBackward>)\n",
      "EPOCH:  111\n"
     ]
    },
    {
     "data": {
      "image/png": "[encoded data removed]",
      "text/plain": [
       "<PIL.Image.Image image mode=RGB size=60x60 at 0x7F63200A4520>"
      ]
     },
     "metadata": {},
     "output_type": "display_data"
    },
    {
     "name": "stdout",
     "output_type": "stream",
     "text": [
      "Learning rate:  7.776e-05\n",
      "Loss = tensor(1.3296, device='cuda:0', grad_fn=<NllLoss2DBackward>)\n",
      "Loss = tensor(1.3441, device='cuda:0', grad_fn=<NllLoss2DBackward>)\n",
      "Loss = tensor(1.3457, device='cuda:0', grad_fn=<NllLoss2DBackward>)\n",
      "Loss = tensor(1.3227, device='cuda:0', grad_fn=<NllLoss2DBackward>)\n",
      "Loss = tensor(1.3290, device='cuda:0', grad_fn=<NllLoss2DBackward>)\n",
      "EPOCH:  111\n"
     ]
    },
    {
     "data": {
      "image/png": "[encoded data removed]",
      "text/plain": [
       "<PIL.Image.Image image mode=RGB size=60x60 at 0x7F63200A45E0>"
      ]
     },
     "metadata": {},
     "output_type": "display_data"
    },
    {
     "name": "stdout",
     "output_type": "stream",
     "text": [
      "Learning rate:  7.776e-05\n",
      "Loss = tensor(1.3330, device='cuda:0', grad_fn=<NllLoss2DBackward>)\n",
      "Loss = tensor(1.3415, device='cuda:0', grad_fn=<NllLoss2DBackward>)\n",
      "EPOCH:  112\n"
     ]
    },
    {
     "data": {
      "image/png": "[encoded data removed]",
      "text/plain": [
       "<PIL.Image.Image image mode=RGB size=60x60 at 0x7F63200A4850>"
      ]
     },
     "metadata": {},
     "output_type": "display_data"
    },
    {
     "name": "stdout",
     "output_type": "stream",
     "text": [
      "Learning rate:  7.776e-05\n",
      "Loss = tensor(1.3177, device='cuda:0', grad_fn=<NllLoss2DBackward>)\n",
      "Loss = tensor(1.3194, device='cuda:0', grad_fn=<NllLoss2DBackward>)\n",
      "Loss = tensor(1.3247, device='cuda:0', grad_fn=<NllLoss2DBackward>)\n",
      "Loss = tensor(1.3235, device='cuda:0', grad_fn=<NllLoss2DBackward>)\n",
      "Loss = tensor(1.3293, device='cuda:0', grad_fn=<NllLoss2DBackward>)\n",
      "EPOCH:  112\n"
     ]
    },
    {
     "data": {
      "image/png": "[encoded data removed]",
      "text/plain": [
       "<PIL.Image.Image image mode=RGB size=60x60 at 0x7F63200A45E0>"
      ]
     },
     "metadata": {},
     "output_type": "display_data"
    },
    {
     "name": "stdout",
     "output_type": "stream",
     "text": [
      "Learning rate:  7.776e-05\n",
      "Loss = tensor(1.3714, device='cuda:0', grad_fn=<NllLoss2DBackward>)\n",
      "Loss = tensor(1.3770, device='cuda:0', grad_fn=<NllLoss2DBackward>)\n",
      "Loss = tensor(1.3154, device='cuda:0', grad_fn=<NllLoss2DBackward>)\n",
      "Loss = tensor(1.3840, device='cuda:0', grad_fn=<NllLoss2DBackward>)\n",
      "Loss = tensor(1.3413, device='cuda:0', grad_fn=<NllLoss2DBackward>)\n",
      "EPOCH:  112\n"
     ]
    },
    {
     "data": {
      "image/png": "[encoded data removed]",
      "text/plain": [
       "<PIL.Image.Image image mode=RGB size=60x60 at 0x7F63200A4760>"
      ]
     },
     "metadata": {},
     "output_type": "display_data"
    },
    {
     "name": "stdout",
     "output_type": "stream",
     "text": [
      "Learning rate:  7.776e-05\n",
      "Loss = tensor(1.3008, device='cuda:0', grad_fn=<NllLoss2DBackward>)\n",
      "Loss = tensor(1.3116, device='cuda:0', grad_fn=<NllLoss2DBackward>)\n",
      "EPOCH:  113\n"
     ]
    },
    {
     "data": {
      "image/png": "[encoded data removed]",
      "text/plain": [
       "<PIL.Image.Image image mode=RGB size=60x60 at 0x7F63200A4340>"
      ]
     },
     "metadata": {},
     "output_type": "display_data"
    },
    {
     "name": "stdout",
     "output_type": "stream",
     "text": [
      "Learning rate:  7.776e-05\n",
      "Loss = tensor(1.3552, device='cuda:0', grad_fn=<NllLoss2DBackward>)\n",
      "Loss = tensor(1.3216, device='cuda:0', grad_fn=<NllLoss2DBackward>)\n",
      "Loss = tensor(1.3485, device='cuda:0', grad_fn=<NllLoss2DBackward>)\n",
      "Loss = tensor(1.3368, device='cuda:0', grad_fn=<NllLoss2DBackward>)\n",
      "Loss = tensor(1.3232, device='cuda:0', grad_fn=<NllLoss2DBackward>)\n",
      "EPOCH:  113\n"
     ]
    },
    {
     "data": {
      "image/png": "[encoded data removed]",
      "text/plain": [
       "<PIL.Image.Image image mode=RGB size=60x60 at 0x7F63200A45B0>"
      ]
     },
     "metadata": {},
     "output_type": "display_data"
    },
    {
     "name": "stdout",
     "output_type": "stream",
     "text": [
      "Learning rate:  7.776e-05\n",
      "Loss = tensor(1.3369, device='cuda:0', grad_fn=<NllLoss2DBackward>)\n",
      "Loss = tensor(1.3666, device='cuda:0', grad_fn=<NllLoss2DBackward>)\n",
      "Loss = tensor(1.3401, device='cuda:0', grad_fn=<NllLoss2DBackward>)\n",
      "Loss = tensor(1.3334, device='cuda:0', grad_fn=<NllLoss2DBackward>)\n",
      "Loss = tensor(1.3321, device='cuda:0', grad_fn=<NllLoss2DBackward>)\n",
      "EPOCH:  113\n"
     ]
    },
    {
     "data": {
      "image/png": "[encoded data removed]",
      "text/plain": [
       "<PIL.Image.Image image mode=RGB size=60x60 at 0x7F63200A4820>"
      ]
     },
     "metadata": {},
     "output_type": "display_data"
    },
    {
     "name": "stdout",
     "output_type": "stream",
     "text": [
      "Learning rate:  7.776e-05\n",
      "Loss = tensor(1.3365, device='cuda:0', grad_fn=<NllLoss2DBackward>)\n",
      "Loss = tensor(1.3395, device='cuda:0', grad_fn=<NllLoss2DBackward>)\n",
      "EPOCH:  114\n"
     ]
    },
    {
     "data": {
      "image/png": "[encoded data removed]",
      "text/plain": [
       "<PIL.Image.Image image mode=RGB size=60x60 at 0x7F63200A4640>"
      ]
     },
     "metadata": {},
     "output_type": "display_data"
    },
    {
     "name": "stdout",
     "output_type": "stream",
     "text": [
      "Learning rate:  7.776e-05\n",
      "Loss = tensor(1.3393, device='cuda:0', grad_fn=<NllLoss2DBackward>)\n",
      "Loss = tensor(1.3803, device='cuda:0', grad_fn=<NllLoss2DBackward>)\n",
      "Loss = tensor(1.3167, device='cuda:0', grad_fn=<NllLoss2DBackward>)\n",
      "Loss = tensor(1.3412, device='cuda:0', grad_fn=<NllLoss2DBackward>)\n",
      "Loss = tensor(1.3056, device='cuda:0', grad_fn=<NllLoss2DBackward>)\n",
      "EPOCH:  114\n"
     ]
    },
    {
     "data": {
      "image/png": "[encoded data removed]",
      "text/plain": [
       "<PIL.Image.Image image mode=RGB size=60x60 at 0x7F63200A45B0>"
      ]
     },
     "metadata": {},
     "output_type": "display_data"
    },
    {
     "name": "stdout",
     "output_type": "stream",
     "text": [
      "Learning rate:  7.776e-05\n",
      "Loss = tensor(1.3311, device='cuda:0', grad_fn=<NllLoss2DBackward>)\n",
      "Loss = tensor(1.3810, device='cuda:0', grad_fn=<NllLoss2DBackward>)\n",
      "Loss = tensor(1.3404, device='cuda:0', grad_fn=<NllLoss2DBackward>)\n",
      "Loss = tensor(1.3256, device='cuda:0', grad_fn=<NllLoss2DBackward>)\n",
      "Loss = tensor(1.3286, device='cuda:0', grad_fn=<NllLoss2DBackward>)\n",
      "EPOCH:  114\n"
     ]
    },
    {
     "data": {
      "image/png": "[encoded data removed]",
      "text/plain": [
       "<PIL.Image.Image image mode=RGB size=60x60 at 0x7F63200A4910>"
      ]
     },
     "metadata": {},
     "output_type": "display_data"
    },
    {
     "name": "stdout",
     "output_type": "stream",
     "text": [
      "Learning rate:  7.776e-05\n",
      "Loss = tensor(1.3046, device='cuda:0', grad_fn=<NllLoss2DBackward>)\n",
      "Loss = tensor(1.3288, device='cuda:0', grad_fn=<NllLoss2DBackward>)\n",
      "EPOCH:  115\n"
     ]
    },
    {
     "data": {
      "image/png": "[encoded data removed]",
      "text/plain": [
       "<PIL.Image.Image image mode=RGB size=60x60 at 0x7F63200A4370>"
      ]
     },
     "metadata": {},
     "output_type": "display_data"
    },
    {
     "name": "stdout",
     "output_type": "stream",
     "text": [
      "Learning rate:  7.776e-05\n",
      "Loss = tensor(1.3521, device='cuda:0', grad_fn=<NllLoss2DBackward>)\n",
      "Loss = tensor(1.3559, device='cuda:0', grad_fn=<NllLoss2DBackward>)\n",
      "Loss = tensor(1.3292, device='cuda:0', grad_fn=<NllLoss2DBackward>)\n",
      "Loss = tensor(1.3443, device='cuda:0', grad_fn=<NllLoss2DBackward>)\n",
      "Loss = tensor(1.3144, device='cuda:0', grad_fn=<NllLoss2DBackward>)\n",
      "EPOCH:  115\n"
     ]
    },
    {
     "data": {
      "image/png": "[encoded data removed]",
      "text/plain": [
       "<PIL.Image.Image image mode=RGB size=60x60 at 0x7F63200A4340>"
      ]
     },
     "metadata": {},
     "output_type": "display_data"
    },
    {
     "name": "stdout",
     "output_type": "stream",
     "text": [
      "Learning rate:  7.776e-05\n",
      "Loss = tensor(1.3595, device='cuda:0', grad_fn=<NllLoss2DBackward>)\n",
      "Loss = tensor(1.3549, device='cuda:0', grad_fn=<NllLoss2DBackward>)\n",
      "Loss = tensor(1.3256, device='cuda:0', grad_fn=<NllLoss2DBackward>)\n",
      "Loss = tensor(1.3531, device='cuda:0', grad_fn=<NllLoss2DBackward>)\n",
      "Loss = tensor(1.3260, device='cuda:0', grad_fn=<NllLoss2DBackward>)\n",
      "EPOCH:  115\n"
     ]
    },
    {
     "data": {
      "image/png": "[encoded data removed]",
      "text/plain": [
       "<PIL.Image.Image image mode=RGB size=60x60 at 0x7F63200A4730>"
      ]
     },
     "metadata": {},
     "output_type": "display_data"
    },
    {
     "name": "stdout",
     "output_type": "stream",
     "text": [
      "Learning rate:  7.776e-05\n",
      "Loss = tensor(1.2985, device='cuda:0', grad_fn=<NllLoss2DBackward>)\n",
      "Loss = tensor(1.3226, device='cuda:0', grad_fn=<NllLoss2DBackward>)\n",
      "EPOCH:  116\n"
     ]
    },
    {
     "data": {
      "image/png": "[encoded data removed]",
      "text/plain": [
       "<PIL.Image.Image image mode=RGB size=60x60 at 0x7F63200A4400>"
      ]
     },
     "metadata": {},
     "output_type": "display_data"
    },
    {
     "name": "stdout",
     "output_type": "stream",
     "text": [
      "Learning rate:  7.776e-05\n",
      "Loss = tensor(1.3400, device='cuda:0', grad_fn=<NllLoss2DBackward>)\n",
      "Loss = tensor(1.3329, device='cuda:0', grad_fn=<NllLoss2DBackward>)\n",
      "Loss = tensor(1.3131, device='cuda:0', grad_fn=<NllLoss2DBackward>)\n",
      "Loss = tensor(1.3534, device='cuda:0', grad_fn=<NllLoss2DBackward>)\n",
      "Loss = tensor(1.3331, device='cuda:0', grad_fn=<NllLoss2DBackward>)\n",
      "EPOCH:  116\n"
     ]
    },
    {
     "data": {
      "image/png": "[encoded data removed]",
      "text/plain": [
       "<PIL.Image.Image image mode=RGB size=60x60 at 0x7F63200A4820>"
      ]
     },
     "metadata": {},
     "output_type": "display_data"
    },
    {
     "name": "stdout",
     "output_type": "stream",
     "text": [
      "Learning rate:  7.776e-05\n",
      "Loss = tensor(1.3194, device='cuda:0', grad_fn=<NllLoss2DBackward>)\n",
      "Loss = tensor(1.3354, device='cuda:0', grad_fn=<NllLoss2DBackward>)\n",
      "Loss = tensor(1.3673, device='cuda:0', grad_fn=<NllLoss2DBackward>)\n",
      "Loss = tensor(1.3306, device='cuda:0', grad_fn=<NllLoss2DBackward>)\n",
      "Loss = tensor(1.3466, device='cuda:0', grad_fn=<NllLoss2DBackward>)\n",
      "EPOCH:  116\n"
     ]
    },
    {
     "data": {
      "image/png": "[encoded data removed]",
      "text/plain": [
       "<PIL.Image.Image image mode=RGB size=60x60 at 0x7F63200A4550>"
      ]
     },
     "metadata": {},
     "output_type": "display_data"
    },
    {
     "name": "stdout",
     "output_type": "stream",
     "text": [
      "Learning rate:  7.776e-05\n",
      "Loss = tensor(1.3417, device='cuda:0', grad_fn=<NllLoss2DBackward>)\n",
      "Loss = tensor(1.3425, device='cuda:0', grad_fn=<NllLoss2DBackward>)\n",
      "EPOCH:  117\n"
     ]
    },
    {
     "data": {
      "image/png": "[encoded data removed]",
      "text/plain": [
       "<PIL.Image.Image image mode=RGB size=60x60 at 0x7F63200A4340>"
      ]
     },
     "metadata": {},
     "output_type": "display_data"
    },
    {
     "name": "stdout",
     "output_type": "stream",
     "text": [
      "Learning rate:  7.776e-05\n",
      "Loss = tensor(1.3316, device='cuda:0', grad_fn=<NllLoss2DBackward>)\n",
      "Loss = tensor(1.3699, device='cuda:0', grad_fn=<NllLoss2DBackward>)\n",
      "Loss = tensor(1.3176, device='cuda:0', grad_fn=<NllLoss2DBackward>)\n",
      "Loss = tensor(1.3146, device='cuda:0', grad_fn=<NllLoss2DBackward>)\n",
      "Loss = tensor(1.3199, device='cuda:0', grad_fn=<NllLoss2DBackward>)\n",
      "EPOCH:  117\n"
     ]
    },
    {
     "data": {
      "image/png": "[encoded data removed]",
      "text/plain": [
       "<PIL.Image.Image image mode=RGB size=60x60 at 0x7F63200A4640>"
      ]
     },
     "metadata": {},
     "output_type": "display_data"
    },
    {
     "name": "stdout",
     "output_type": "stream",
     "text": [
      "Learning rate:  7.776e-05\n",
      "Loss = tensor(1.3471, device='cuda:0', grad_fn=<NllLoss2DBackward>)\n",
      "Loss = tensor(1.3031, device='cuda:0', grad_fn=<NllLoss2DBackward>)\n",
      "Loss = tensor(1.3072, device='cuda:0', grad_fn=<NllLoss2DBackward>)\n",
      "Loss = tensor(1.3393, device='cuda:0', grad_fn=<NllLoss2DBackward>)\n",
      "Loss = tensor(1.3654, device='cuda:0', grad_fn=<NllLoss2DBackward>)\n",
      "EPOCH:  117\n"
     ]
    },
    {
     "data": {
      "image/png": "[encoded data removed]",
      "text/plain": [
       "<PIL.Image.Image image mode=RGB size=60x60 at 0x7F63200A4580>"
      ]
     },
     "metadata": {},
     "output_type": "display_data"
    },
    {
     "name": "stdout",
     "output_type": "stream",
     "text": [
      "Learning rate:  7.776e-05\n",
      "Loss = tensor(1.3785, device='cuda:0', grad_fn=<NllLoss2DBackward>)\n",
      "Loss = tensor(1.3929, device='cuda:0', grad_fn=<NllLoss2DBackward>)\n",
      "EPOCH:  118\n"
     ]
    },
    {
     "data": {
      "image/png": "[encoded data removed]",
      "text/plain": [
       "<PIL.Image.Image image mode=RGB size=60x60 at 0x7F63200A4400>"
      ]
     },
     "metadata": {},
     "output_type": "display_data"
    },
    {
     "name": "stdout",
     "output_type": "stream",
     "text": [
      "Learning rate:  7.776e-05\n",
      "Loss = tensor(1.2915, device='cuda:0', grad_fn=<NllLoss2DBackward>)\n",
      "Loss = tensor(1.3321, device='cuda:0', grad_fn=<NllLoss2DBackward>)\n",
      "Loss = tensor(1.3516, device='cuda:0', grad_fn=<NllLoss2DBackward>)\n",
      "Loss = tensor(1.3599, device='cuda:0', grad_fn=<NllLoss2DBackward>)\n",
      "Loss = tensor(1.3139, device='cuda:0', grad_fn=<NllLoss2DBackward>)\n",
      "EPOCH:  118\n"
     ]
    },
    {
     "data": {
      "image/png": "[encoded data removed]",
      "text/plain": [
       "<PIL.Image.Image image mode=RGB size=60x60 at 0x7F63200A4400>"
      ]
     },
     "metadata": {},
     "output_type": "display_data"
    },
    {
     "name": "stdout",
     "output_type": "stream",
     "text": [
      "Learning rate:  7.776e-05\n",
      "Loss = tensor(1.3426, device='cuda:0', grad_fn=<NllLoss2DBackward>)\n",
      "Loss = tensor(1.3539, device='cuda:0', grad_fn=<NllLoss2DBackward>)\n",
      "Loss = tensor(1.3338, device='cuda:0', grad_fn=<NllLoss2DBackward>)\n",
      "Loss = tensor(1.3369, device='cuda:0', grad_fn=<NllLoss2DBackward>)\n",
      "Loss = tensor(1.3229, device='cuda:0', grad_fn=<NllLoss2DBackward>)\n",
      "EPOCH:  118\n"
     ]
    },
    {
     "data": {
      "image/png": "[encoded data removed]",
      "text/plain": [
       "<PIL.Image.Image image mode=RGB size=60x60 at 0x7F63200A4520>"
      ]
     },
     "metadata": {},
     "output_type": "display_data"
    },
    {
     "name": "stdout",
     "output_type": "stream",
     "text": [
      "Learning rate:  7.776e-05\n",
      "Loss = tensor(1.3032, device='cuda:0', grad_fn=<NllLoss2DBackward>)\n",
      "Loss = tensor(1.3638, device='cuda:0', grad_fn=<NllLoss2DBackward>)\n",
      "EPOCH:  119\n"
     ]
    },
    {
     "data": {
      "image/png": "[encoded data removed]",
      "text/plain": [
       "<PIL.Image.Image image mode=RGB size=60x60 at 0x7F63200A4820>"
      ]
     },
     "metadata": {},
     "output_type": "display_data"
    },
    {
     "name": "stdout",
     "output_type": "stream",
     "text": [
      "Learning rate:  7.776e-05\n",
      "Loss = tensor(1.3211, device='cuda:0', grad_fn=<NllLoss2DBackward>)\n",
      "Loss = tensor(1.3163, device='cuda:0', grad_fn=<NllLoss2DBackward>)\n",
      "Loss = tensor(1.3541, device='cuda:0', grad_fn=<NllLoss2DBackward>)\n",
      "Loss = tensor(1.3385, device='cuda:0', grad_fn=<NllLoss2DBackward>)\n",
      "Loss = tensor(1.3580, device='cuda:0', grad_fn=<NllLoss2DBackward>)\n",
      "EPOCH:  119\n"
     ]
    },
    {
     "data": {
      "image/png": "[encoded data removed]",
      "text/plain": [
       "<PIL.Image.Image image mode=RGB size=60x60 at 0x7F63200A47C0>"
      ]
     },
     "metadata": {},
     "output_type": "display_data"
    },
    {
     "name": "stdout",
     "output_type": "stream",
     "text": [
      "Learning rate:  7.776e-05\n",
      "Loss = tensor(1.3050, device='cuda:0', grad_fn=<NllLoss2DBackward>)\n",
      "Loss = tensor(1.3240, device='cuda:0', grad_fn=<NllLoss2DBackward>)\n",
      "Loss = tensor(1.3381, device='cuda:0', grad_fn=<NllLoss2DBackward>)\n",
      "Loss = tensor(1.3419, device='cuda:0', grad_fn=<NllLoss2DBackward>)\n",
      "Loss = tensor(1.3335, device='cuda:0', grad_fn=<NllLoss2DBackward>)\n",
      "EPOCH:  119\n"
     ]
    },
    {
     "data": {
      "image/png": "[encoded data removed]",
      "text/plain": [
       "<PIL.Image.Image image mode=RGB size=60x60 at 0x7F63200A4880>"
      ]
     },
     "metadata": {},
     "output_type": "display_data"
    },
    {
     "name": "stdout",
     "output_type": "stream",
     "text": [
      "Learning rate:  7.776e-05\n",
      "Loss = tensor(1.3389, device='cuda:0', grad_fn=<NllLoss2DBackward>)\n",
      "Loss = tensor(1.3453, device='cuda:0', grad_fn=<NllLoss2DBackward>)\n",
      "EPOCH:  120\n"
     ]
    },
    {
     "data": {
      "image/png": "[encoded data removed]",
      "text/plain": [
       "<PIL.Image.Image image mode=RGB size=60x60 at 0x7F63200A4580>"
      ]
     },
     "metadata": {},
     "output_type": "display_data"
    },
    {
     "name": "stdout",
     "output_type": "stream",
     "text": [
      "Learning rate:  7.776e-05\n",
      "Loss = tensor(1.3147, device='cuda:0', grad_fn=<NllLoss2DBackward>)\n",
      "Loss = tensor(1.3471, device='cuda:0', grad_fn=<NllLoss2DBackward>)\n",
      "Loss = tensor(1.3623, device='cuda:0', grad_fn=<NllLoss2DBackward>)\n",
      "Loss = tensor(1.3697, device='cuda:0', grad_fn=<NllLoss2DBackward>)\n",
      "Loss = tensor(1.3206, device='cuda:0', grad_fn=<NllLoss2DBackward>)\n",
      "EPOCH:  120\n"
     ]
    },
    {
     "data": {
      "image/png": "[encoded data removed]",
      "text/plain": [
       "<PIL.Image.Image image mode=RGB size=60x60 at 0x7F63200A4520>"
      ]
     },
     "metadata": {},
     "output_type": "display_data"
    },
    {
     "name": "stdout",
     "output_type": "stream",
     "text": [
      "Learning rate:  7.776e-05\n",
      "Loss = tensor(1.3379, device='cuda:0', grad_fn=<NllLoss2DBackward>)\n",
      "Loss = tensor(1.3225, device='cuda:0', grad_fn=<NllLoss2DBackward>)\n",
      "Loss = tensor(1.3312, device='cuda:0', grad_fn=<NllLoss2DBackward>)\n",
      "Loss = tensor(1.3298, device='cuda:0', grad_fn=<NllLoss2DBackward>)\n",
      "Loss = tensor(1.3281, device='cuda:0', grad_fn=<NllLoss2DBackward>)\n",
      "EPOCH:  120\n"
     ]
    },
    {
     "data": {
      "image/png": "[encoded data removed]",
      "text/plain": [
       "<PIL.Image.Image image mode=RGB size=60x60 at 0x7F63200A45B0>"
      ]
     },
     "metadata": {},
     "output_type": "display_data"
    },
    {
     "name": "stdout",
     "output_type": "stream",
     "text": [
      "Learning rate:  7.776e-05\n",
      "Loss = tensor(1.3242, device='cuda:0', grad_fn=<NllLoss2DBackward>)\n",
      "Loss = tensor(1.3043, device='cuda:0', grad_fn=<NllLoss2DBackward>)\n",
      "EPOCH:  121\n"
     ]
    },
    {
     "data": {
      "image/png": "[encoded data removed]",
      "text/plain": [
       "<PIL.Image.Image image mode=RGB size=60x60 at 0x7F63200A4490>"
      ]
     },
     "metadata": {},
     "output_type": "display_data"
    },
    {
     "name": "stdout",
     "output_type": "stream",
     "text": [
      "Learning rate:  7.776e-05\n",
      "Loss = tensor(1.3323, device='cuda:0', grad_fn=<NllLoss2DBackward>)\n",
      "Loss = tensor(1.3199, device='cuda:0', grad_fn=<NllLoss2DBackward>)\n",
      "Loss = tensor(1.3495, device='cuda:0', grad_fn=<NllLoss2DBackward>)\n",
      "Loss = tensor(1.3453, device='cuda:0', grad_fn=<NllLoss2DBackward>)\n",
      "Loss = tensor(1.3278, device='cuda:0', grad_fn=<NllLoss2DBackward>)\n",
      "EPOCH:  121\n"
     ]
    },
    {
     "data": {
      "image/png": "[encoded data removed]",
      "text/plain": [
       "<PIL.Image.Image image mode=RGB size=60x60 at 0x7F63200A45B0>"
      ]
     },
     "metadata": {},
     "output_type": "display_data"
    },
    {
     "name": "stdout",
     "output_type": "stream",
     "text": [
      "Learning rate:  7.776e-05\n",
      "Loss = tensor(1.3899, device='cuda:0', grad_fn=<NllLoss2DBackward>)\n",
      "Loss = tensor(1.3196, device='cuda:0', grad_fn=<NllLoss2DBackward>)\n",
      "Loss = tensor(1.3493, device='cuda:0', grad_fn=<NllLoss2DBackward>)\n",
      "Loss = tensor(1.3505, device='cuda:0', grad_fn=<NllLoss2DBackward>)\n",
      "Loss = tensor(1.3027, device='cuda:0', grad_fn=<NllLoss2DBackward>)\n",
      "EPOCH:  121\n"
     ]
    },
    {
     "data": {
      "image/png": "[encoded data removed]",
      "text/plain": [
       "<PIL.Image.Image image mode=RGB size=60x60 at 0x7F63200A4370>"
      ]
     },
     "metadata": {},
     "output_type": "display_data"
    },
    {
     "name": "stdout",
     "output_type": "stream",
     "text": [
      "Learning rate:  7.776e-05\n",
      "Loss = tensor(1.3363, device='cuda:0', grad_fn=<NllLoss2DBackward>)\n",
      "Loss = tensor(1.3360, device='cuda:0', grad_fn=<NllLoss2DBackward>)\n",
      "EPOCH:  122\n"
     ]
    },
    {
     "data": {
      "image/png": "[encoded data removed]",
      "text/plain": [
       "<PIL.Image.Image image mode=RGB size=60x60 at 0x7F63200A46D0>"
      ]
     },
     "metadata": {},
     "output_type": "display_data"
    },
    {
     "name": "stdout",
     "output_type": "stream",
     "text": [
      "Learning rate:  7.776e-05\n",
      "Loss = tensor(1.3773, device='cuda:0', grad_fn=<NllLoss2DBackward>)\n",
      "Loss = tensor(1.3002, device='cuda:0', grad_fn=<NllLoss2DBackward>)\n",
      "Loss = tensor(1.3268, device='cuda:0', grad_fn=<NllLoss2DBackward>)\n",
      "Loss = tensor(1.3209, device='cuda:0', grad_fn=<NllLoss2DBackward>)\n",
      "Loss = tensor(1.3580, device='cuda:0', grad_fn=<NllLoss2DBackward>)\n",
      "EPOCH:  122\n"
     ]
    },
    {
     "data": {
      "image/png": "[encoded data removed]",
      "text/plain": [
       "<PIL.Image.Image image mode=RGB size=60x60 at 0x7F63200A4490>"
      ]
     },
     "metadata": {},
     "output_type": "display_data"
    },
    {
     "name": "stdout",
     "output_type": "stream",
     "text": [
      "Learning rate:  7.776e-05\n",
      "Loss = tensor(1.3447, device='cuda:0', grad_fn=<NllLoss2DBackward>)\n",
      "Loss = tensor(1.3733, device='cuda:0', grad_fn=<NllLoss2DBackward>)\n",
      "Loss = tensor(1.3420, device='cuda:0', grad_fn=<NllLoss2DBackward>)\n",
      "Loss = tensor(1.3137, device='cuda:0', grad_fn=<NllLoss2DBackward>)\n",
      "Loss = tensor(1.3228, device='cuda:0', grad_fn=<NllLoss2DBackward>)\n",
      "EPOCH:  122\n"
     ]
    },
    {
     "data": {
      "image/png": "[encoded data removed]",
      "text/plain": [
       "<PIL.Image.Image image mode=RGB size=60x60 at 0x7F63200A46D0>"
      ]
     },
     "metadata": {},
     "output_type": "display_data"
    },
    {
     "name": "stdout",
     "output_type": "stream",
     "text": [
      "Learning rate:  7.776e-05\n",
      "Loss = tensor(1.3187, device='cuda:0', grad_fn=<NllLoss2DBackward>)\n",
      "Loss = tensor(1.3221, device='cuda:0', grad_fn=<NllLoss2DBackward>)\n",
      "EPOCH:  123\n"
     ]
    },
    {
     "data": {
      "image/png": "[encoded data removed]",
      "text/plain": [
       "<PIL.Image.Image image mode=RGB size=60x60 at 0x7F63200A46D0>"
      ]
     },
     "metadata": {},
     "output_type": "display_data"
    },
    {
     "name": "stdout",
     "output_type": "stream",
     "text": [
      "Learning rate:  7.776e-05\n",
      "Loss = tensor(1.3205, device='cuda:0', grad_fn=<NllLoss2DBackward>)\n",
      "Loss = tensor(1.3396, device='cuda:0', grad_fn=<NllLoss2DBackward>)\n",
      "Loss = tensor(1.3624, device='cuda:0', grad_fn=<NllLoss2DBackward>)\n",
      "Loss = tensor(1.3057, device='cuda:0', grad_fn=<NllLoss2DBackward>)\n",
      "Loss = tensor(1.3135, device='cuda:0', grad_fn=<NllLoss2DBackward>)\n",
      "EPOCH:  123\n"
     ]
    },
    {
     "data": {
      "image/png": "[encoded data removed]",
      "text/plain": [
       "<PIL.Image.Image image mode=RGB size=60x60 at 0x7F63200A4880>"
      ]
     },
     "metadata": {},
     "output_type": "display_data"
    },
    {
     "name": "stdout",
     "output_type": "stream",
     "text": [
      "Learning rate:  7.776e-05\n",
      "Loss = tensor(1.3615, device='cuda:0', grad_fn=<NllLoss2DBackward>)\n",
      "Loss = tensor(1.3222, device='cuda:0', grad_fn=<NllLoss2DBackward>)\n",
      "Loss = tensor(1.3491, device='cuda:0', grad_fn=<NllLoss2DBackward>)\n",
      "Loss = tensor(1.3375, device='cuda:0', grad_fn=<NllLoss2DBackward>)\n",
      "Loss = tensor(1.3696, device='cuda:0', grad_fn=<NllLoss2DBackward>)\n",
      "EPOCH:  123\n"
     ]
    },
    {
     "data": {
      "image/png": "[encoded data removed]",
      "text/plain": [
       "<PIL.Image.Image image mode=RGB size=60x60 at 0x7F63200A46A0>"
      ]
     },
     "metadata": {},
     "output_type": "display_data"
    },
    {
     "name": "stdout",
     "output_type": "stream",
     "text": [
      "Learning rate:  7.776e-05\n",
      "Loss = tensor(1.3377, device='cuda:0', grad_fn=<NllLoss2DBackward>)\n",
      "Loss = tensor(1.3271, device='cuda:0', grad_fn=<NllLoss2DBackward>)\n",
      "EPOCH:  124\n"
     ]
    },
    {
     "data": {
      "image/png": "[encoded data removed]",
      "text/plain": [
       "<PIL.Image.Image image mode=RGB size=60x60 at 0x7F63200A4640>"
      ]
     },
     "metadata": {},
     "output_type": "display_data"
    },
    {
     "name": "stdout",
     "output_type": "stream",
     "text": [
      "Learning rate:  7.776e-05\n",
      "Loss = tensor(1.3186, device='cuda:0', grad_fn=<NllLoss2DBackward>)\n",
      "Loss = tensor(1.3458, device='cuda:0', grad_fn=<NllLoss2DBackward>)\n",
      "Loss = tensor(1.3495, device='cuda:0', grad_fn=<NllLoss2DBackward>)\n",
      "Loss = tensor(1.3088, device='cuda:0', grad_fn=<NllLoss2DBackward>)\n",
      "Loss = tensor(1.3580, device='cuda:0', grad_fn=<NllLoss2DBackward>)\n",
      "EPOCH:  124\n"
     ]
    },
    {
     "data": {
      "image/png": "[encoded data removed]",
      "text/plain": [
       "<PIL.Image.Image image mode=RGB size=60x60 at 0x7F63200A4580>"
      ]
     },
     "metadata": {},
     "output_type": "display_data"
    },
    {
     "name": "stdout",
     "output_type": "stream",
     "text": [
      "Learning rate:  7.776e-05\n",
      "Loss = tensor(1.3518, device='cuda:0', grad_fn=<NllLoss2DBackward>)\n",
      "Loss = tensor(1.3625, device='cuda:0', grad_fn=<NllLoss2DBackward>)\n",
      "Loss = tensor(1.3156, device='cuda:0', grad_fn=<NllLoss2DBackward>)\n",
      "Loss = tensor(1.3383, device='cuda:0', grad_fn=<NllLoss2DBackward>)\n",
      "Loss = tensor(1.3134, device='cuda:0', grad_fn=<NllLoss2DBackward>)\n",
      "EPOCH:  124\n"
     ]
    },
    {
     "data": {
      "image/png": "[encoded data removed]",
      "text/plain": [
       "<PIL.Image.Image image mode=RGB size=60x60 at 0x7F63200A47C0>"
      ]
     },
     "metadata": {},
     "output_type": "display_data"
    },
    {
     "name": "stdout",
     "output_type": "stream",
     "text": [
      "Learning rate:  7.776e-05\n",
      "Loss = tensor(1.3374, device='cuda:0', grad_fn=<NllLoss2DBackward>)\n",
      "Loss = tensor(1.3255, device='cuda:0', grad_fn=<NllLoss2DBackward>)\n",
      "EPOCH:  125\n"
     ]
    },
    {
     "data": {
      "image/png": "[encoded data removed]",
      "text/plain": [
       "<PIL.Image.Image image mode=RGB size=60x60 at 0x7F63200A4670>"
      ]
     },
     "metadata": {},
     "output_type": "display_data"
    },
    {
     "name": "stdout",
     "output_type": "stream",
     "text": [
      "Learning rate:  7.776e-05\n",
      "Loss = tensor(1.3423, device='cuda:0', grad_fn=<NllLoss2DBackward>)\n",
      "Loss = tensor(1.3356, device='cuda:0', grad_fn=<NllLoss2DBackward>)\n",
      "Loss = tensor(1.3950, device='cuda:0', grad_fn=<NllLoss2DBackward>)\n",
      "Loss = tensor(1.3352, device='cuda:0', grad_fn=<NllLoss2DBackward>)\n",
      "Loss = tensor(1.3237, device='cuda:0', grad_fn=<NllLoss2DBackward>)\n",
      "EPOCH:  125\n"
     ]
    },
    {
     "data": {
      "image/png": "[encoded data removed]",
      "text/plain": [
       "<PIL.Image.Image image mode=RGB size=60x60 at 0x7F63200A4400>"
      ]
     },
     "metadata": {},
     "output_type": "display_data"
    },
    {
     "name": "stdout",
     "output_type": "stream",
     "text": [
      "Learning rate:  7.776e-05\n",
      "Loss = tensor(1.2944, device='cuda:0', grad_fn=<NllLoss2DBackward>)\n",
      "Loss = tensor(1.3172, device='cuda:0', grad_fn=<NllLoss2DBackward>)\n",
      "Loss = tensor(1.3343, device='cuda:0', grad_fn=<NllLoss2DBackward>)\n",
      "Loss = tensor(1.3448, device='cuda:0', grad_fn=<NllLoss2DBackward>)\n",
      "Loss = tensor(1.3513, device='cuda:0', grad_fn=<NllLoss2DBackward>)\n",
      "EPOCH:  125\n"
     ]
    },
    {
     "data": {
      "image/png": "[encoded data removed]",
      "text/plain": [
       "<PIL.Image.Image image mode=RGB size=60x60 at 0x7F63200A4550>"
      ]
     },
     "metadata": {},
     "output_type": "display_data"
    },
    {
     "name": "stdout",
     "output_type": "stream",
     "text": [
      "Learning rate:  7.776e-05\n",
      "Loss = tensor(1.3249, device='cuda:0', grad_fn=<NllLoss2DBackward>)\n",
      "Loss = tensor(1.3466, device='cuda:0', grad_fn=<NllLoss2DBackward>)\n",
      "EPOCH:  126\n"
     ]
    },
    {
     "data": {
      "image/png": "[encoded data removed]",
      "text/plain": [
       "<PIL.Image.Image image mode=RGB size=60x60 at 0x7F63200A4670>"
      ]
     },
     "metadata": {},
     "output_type": "display_data"
    },
    {
     "name": "stdout",
     "output_type": "stream",
     "text": [
      "Learning rate:  7.776e-05\n",
      "Loss = tensor(1.3558, device='cuda:0', grad_fn=<NllLoss2DBackward>)\n",
      "Loss = tensor(1.3196, device='cuda:0', grad_fn=<NllLoss2DBackward>)\n",
      "Loss = tensor(1.3280, device='cuda:0', grad_fn=<NllLoss2DBackward>)\n",
      "Loss = tensor(1.3024, device='cuda:0', grad_fn=<NllLoss2DBackward>)\n",
      "Loss = tensor(1.3297, device='cuda:0', grad_fn=<NllLoss2DBackward>)\n",
      "EPOCH:  126\n"
     ]
    },
    {
     "data": {
      "image/png": "[encoded data removed]",
      "text/plain": [
       "<PIL.Image.Image image mode=RGB size=60x60 at 0x7F63200A46A0>"
      ]
     },
     "metadata": {},
     "output_type": "display_data"
    },
    {
     "name": "stdout",
     "output_type": "stream",
     "text": [
      "Learning rate:  7.776e-05\n",
      "Loss = tensor(1.3542, device='cuda:0', grad_fn=<NllLoss2DBackward>)\n",
      "Loss = tensor(1.3084, device='cuda:0', grad_fn=<NllLoss2DBackward>)\n",
      "Loss = tensor(1.3057, device='cuda:0', grad_fn=<NllLoss2DBackward>)\n",
      "Loss = tensor(1.3557, device='cuda:0', grad_fn=<NllLoss2DBackward>)\n",
      "Loss = tensor(1.3786, device='cuda:0', grad_fn=<NllLoss2DBackward>)\n",
      "EPOCH:  126\n"
     ]
    },
    {
     "data": {
      "image/png": "[encoded data removed]",
      "text/plain": [
       "<PIL.Image.Image image mode=RGB size=60x60 at 0x7F63200A46D0>"
      ]
     },
     "metadata": {},
     "output_type": "display_data"
    },
    {
     "name": "stdout",
     "output_type": "stream",
     "text": [
      "Learning rate:  7.776e-05\n",
      "Loss = tensor(1.3373, device='cuda:0', grad_fn=<NllLoss2DBackward>)\n",
      "Loss = tensor(1.3408, device='cuda:0', grad_fn=<NllLoss2DBackward>)\n",
      "EPOCH:  127\n"
     ]
    },
    {
     "data": {
      "image/png": "[encoded data removed]",
      "text/plain": [
       "<PIL.Image.Image image mode=RGB size=60x60 at 0x7F63200A4340>"
      ]
     },
     "metadata": {},
     "output_type": "display_data"
    },
    {
     "name": "stdout",
     "output_type": "stream",
     "text": [
      "Learning rate:  7.776e-05\n",
      "Loss = tensor(1.3194, device='cuda:0', grad_fn=<NllLoss2DBackward>)\n",
      "Loss = tensor(1.3315, device='cuda:0', grad_fn=<NllLoss2DBackward>)\n",
      "Loss = tensor(1.3139, device='cuda:0', grad_fn=<NllLoss2DBackward>)\n",
      "Loss = tensor(1.3513, device='cuda:0', grad_fn=<NllLoss2DBackward>)\n",
      "Loss = tensor(1.3401, device='cuda:0', grad_fn=<NllLoss2DBackward>)\n",
      "EPOCH:  127\n"
     ]
    },
    {
     "data": {
      "image/png": "[encoded data removed]",
      "text/plain": [
       "<PIL.Image.Image image mode=RGB size=60x60 at 0x7F63200A4820>"
      ]
     },
     "metadata": {},
     "output_type": "display_data"
    },
    {
     "name": "stdout",
     "output_type": "stream",
     "text": [
      "Learning rate:  7.776e-05\n",
      "Loss = tensor(1.3569, device='cuda:0', grad_fn=<NllLoss2DBackward>)\n",
      "Loss = tensor(1.3135, device='cuda:0', grad_fn=<NllLoss2DBackward>)\n",
      "Loss = tensor(1.3318, device='cuda:0', grad_fn=<NllLoss2DBackward>)\n",
      "Loss = tensor(1.3355, device='cuda:0', grad_fn=<NllLoss2DBackward>)\n",
      "Loss = tensor(1.3234, device='cuda:0', grad_fn=<NllLoss2DBackward>)\n",
      "EPOCH:  127\n"
     ]
    },
    {
     "data": {
      "image/png": "[encoded data removed]",
      "text/plain": [
       "<PIL.Image.Image image mode=RGB size=60x60 at 0x7F63200A4730>"
      ]
     },
     "metadata": {},
     "output_type": "display_data"
    },
    {
     "name": "stdout",
     "output_type": "stream",
     "text": [
      "Learning rate:  7.776e-05\n",
      "Loss = tensor(1.3721, device='cuda:0', grad_fn=<NllLoss2DBackward>)\n",
      "Loss = tensor(1.3212, device='cuda:0', grad_fn=<NllLoss2DBackward>)\n",
      "EPOCH:  128\n"
     ]
    },
    {
     "data": {
      "image/png": "[encoded data removed]",
      "text/plain": [
       "<PIL.Image.Image image mode=RGB size=60x60 at 0x7F63200A4730>"
      ]
     },
     "metadata": {},
     "output_type": "display_data"
    },
    {
     "name": "stdout",
     "output_type": "stream",
     "text": [
      "Learning rate:  7.776e-05\n",
      "Loss = tensor(1.3607, device='cuda:0', grad_fn=<NllLoss2DBackward>)\n",
      "Loss = tensor(1.3192, device='cuda:0', grad_fn=<NllLoss2DBackward>)\n",
      "Loss = tensor(1.3347, device='cuda:0', grad_fn=<NllLoss2DBackward>)\n",
      "Loss = tensor(1.3387, device='cuda:0', grad_fn=<NllLoss2DBackward>)\n",
      "Loss = tensor(1.3436, device='cuda:0', grad_fn=<NllLoss2DBackward>)\n",
      "EPOCH:  128\n"
     ]
    },
    {
     "data": {
      "image/png": "[encoded data removed]",
      "text/plain": [
       "<PIL.Image.Image image mode=RGB size=60x60 at 0x7F63200A4730>"
      ]
     },
     "metadata": {},
     "output_type": "display_data"
    },
    {
     "name": "stdout",
     "output_type": "stream",
     "text": [
      "Learning rate:  7.776e-05\n",
      "Loss = tensor(1.3077, device='cuda:0', grad_fn=<NllLoss2DBackward>)\n",
      "Loss = tensor(1.3474, device='cuda:0', grad_fn=<NllLoss2DBackward>)\n",
      "Loss = tensor(1.3454, device='cuda:0', grad_fn=<NllLoss2DBackward>)\n",
      "Loss = tensor(1.3227, device='cuda:0', grad_fn=<NllLoss2DBackward>)\n",
      "Loss = tensor(1.3127, device='cuda:0', grad_fn=<NllLoss2DBackward>)\n",
      "EPOCH:  128\n"
     ]
    },
    {
     "data": {
      "image/png": "[encoded data removed]",
      "text/plain": [
       "<PIL.Image.Image image mode=RGB size=60x60 at 0x7F63200A4550>"
      ]
     },
     "metadata": {},
     "output_type": "display_data"
    },
    {
     "name": "stdout",
     "output_type": "stream",
     "text": [
      "Learning rate:  7.776e-05\n",
      "Loss = tensor(1.3714, device='cuda:0', grad_fn=<NllLoss2DBackward>)\n",
      "Loss = tensor(1.3833, device='cuda:0', grad_fn=<NllLoss2DBackward>)\n",
      "EPOCH:  129\n"
     ]
    },
    {
     "data": {
      "image/png": "[encoded data removed]",
      "text/plain": [
       "<PIL.Image.Image image mode=RGB size=60x60 at 0x7F63200A4520>"
      ]
     },
     "metadata": {},
     "output_type": "display_data"
    },
    {
     "name": "stdout",
     "output_type": "stream",
     "text": [
      "Learning rate:  7.776e-05\n",
      "Loss = tensor(1.3138, device='cuda:0', grad_fn=<NllLoss2DBackward>)\n",
      "Loss = tensor(1.3268, device='cuda:0', grad_fn=<NllLoss2DBackward>)\n",
      "Loss = tensor(1.3422, device='cuda:0', grad_fn=<NllLoss2DBackward>)\n",
      "Loss = tensor(1.2925, device='cuda:0', grad_fn=<NllLoss2DBackward>)\n",
      "Loss = tensor(1.3467, device='cuda:0', grad_fn=<NllLoss2DBackward>)\n",
      "EPOCH:  129\n"
     ]
    },
    {
     "data": {
      "image/png": "[encoded data removed]",
      "text/plain": [
       "<PIL.Image.Image image mode=RGB size=60x60 at 0x7F63200A4640>"
      ]
     },
     "metadata": {},
     "output_type": "display_data"
    },
    {
     "name": "stdout",
     "output_type": "stream",
     "text": [
      "Learning rate:  7.776e-05\n",
      "Loss = tensor(1.3716, device='cuda:0', grad_fn=<NllLoss2DBackward>)\n",
      "Loss = tensor(1.3570, device='cuda:0', grad_fn=<NllLoss2DBackward>)\n",
      "Loss = tensor(1.2968, device='cuda:0', grad_fn=<NllLoss2DBackward>)\n",
      "Loss = tensor(1.3290, device='cuda:0', grad_fn=<NllLoss2DBackward>)\n",
      "Loss = tensor(1.3251, device='cuda:0', grad_fn=<NllLoss2DBackward>)\n",
      "EPOCH:  129\n"
     ]
    },
    {
     "data": {
      "image/png": "[encoded data removed]",
      "text/plain": [
       "<PIL.Image.Image image mode=RGB size=60x60 at 0x7F63200A4670>"
      ]
     },
     "metadata": {},
     "output_type": "display_data"
    },
    {
     "name": "stdout",
     "output_type": "stream",
     "text": [
      "Learning rate:  7.776e-05\n",
      "Loss = tensor(1.3539, device='cuda:0', grad_fn=<NllLoss2DBackward>)\n",
      "Loss = tensor(1.3160, device='cuda:0', grad_fn=<NllLoss2DBackward>)\n",
      "EPOCH:  130\n"
     ]
    },
    {
     "data": {
      "image/png": "[encoded data removed]",
      "text/plain": [
       "<PIL.Image.Image image mode=RGB size=60x60 at 0x7F63200A45E0>"
      ]
     },
     "metadata": {},
     "output_type": "display_data"
    },
    {
     "name": "stdout",
     "output_type": "stream",
     "text": [
      "Learning rate:  7.776e-05\n",
      "Loss = tensor(1.3669, device='cuda:0', grad_fn=<NllLoss2DBackward>)\n",
      "Loss = tensor(1.3572, device='cuda:0', grad_fn=<NllLoss2DBackward>)\n",
      "Loss = tensor(1.3257, device='cuda:0', grad_fn=<NllLoss2DBackward>)\n",
      "Loss = tensor(1.3144, device='cuda:0', grad_fn=<NllLoss2DBackward>)\n",
      "Loss = tensor(1.3372, device='cuda:0', grad_fn=<NllLoss2DBackward>)\n",
      "EPOCH:  130\n"
     ]
    },
    {
     "data": {
      "image/png": "[encoded data removed]",
      "text/plain": [
       "<PIL.Image.Image image mode=RGB size=60x60 at 0x7F63200A4370>"
      ]
     },
     "metadata": {},
     "output_type": "display_data"
    },
    {
     "name": "stdout",
     "output_type": "stream",
     "text": [
      "Learning rate:  7.776e-05\n",
      "Loss = tensor(1.3058, device='cuda:0', grad_fn=<NllLoss2DBackward>)\n",
      "Loss = tensor(1.3907, device='cuda:0', grad_fn=<NllLoss2DBackward>)\n",
      "Loss = tensor(1.3339, device='cuda:0', grad_fn=<NllLoss2DBackward>)\n",
      "Loss = tensor(1.3206, device='cuda:0', grad_fn=<NllLoss2DBackward>)\n",
      "Loss = tensor(1.3367, device='cuda:0', grad_fn=<NllLoss2DBackward>)\n",
      "EPOCH:  130\n"
     ]
    },
    {
     "data": {
      "image/png": "[encoded data removed]",
      "text/plain": [
       "<PIL.Image.Image image mode=RGB size=60x60 at 0x7F63200A45B0>"
      ]
     },
     "metadata": {},
     "output_type": "display_data"
    },
    {
     "name": "stdout",
     "output_type": "stream",
     "text": [
      "Learning rate:  7.776e-05\n",
      "Loss = tensor(1.3187, device='cuda:0', grad_fn=<NllLoss2DBackward>)\n",
      "Loss = tensor(1.3637, device='cuda:0', grad_fn=<NllLoss2DBackward>)\n",
      "EPOCH:  131\n"
     ]
    },
    {
     "data": {
      "image/png": "[encoded data removed]",
      "text/plain": [
       "<PIL.Image.Image image mode=RGB size=60x60 at 0x7F63200A45B0>"
      ]
     },
     "metadata": {},
     "output_type": "display_data"
    },
    {
     "name": "stdout",
     "output_type": "stream",
     "text": [
      "Learning rate:  7.776e-05\n",
      "Loss = tensor(1.3167, device='cuda:0', grad_fn=<NllLoss2DBackward>)\n",
      "Loss = tensor(1.3306, device='cuda:0', grad_fn=<NllLoss2DBackward>)\n",
      "Loss = tensor(1.3203, device='cuda:0', grad_fn=<NllLoss2DBackward>)\n",
      "Loss = tensor(1.3375, device='cuda:0', grad_fn=<NllLoss2DBackward>)\n",
      "Loss = tensor(1.3370, device='cuda:0', grad_fn=<NllLoss2DBackward>)\n",
      "EPOCH:  131\n"
     ]
    },
    {
     "data": {
      "image/png": "[encoded data removed]",
      "text/plain": [
       "<PIL.Image.Image image mode=RGB size=60x60 at 0x7F63200A46A0>"
      ]
     },
     "metadata": {},
     "output_type": "display_data"
    },
    {
     "name": "stdout",
     "output_type": "stream",
     "text": [
      "Learning rate:  7.776e-05\n",
      "Loss = tensor(1.3643, device='cuda:0', grad_fn=<NllLoss2DBackward>)\n",
      "Loss = tensor(1.3468, device='cuda:0', grad_fn=<NllLoss2DBackward>)\n",
      "Loss = tensor(1.3639, device='cuda:0', grad_fn=<NllLoss2DBackward>)\n",
      "Loss = tensor(1.3165, device='cuda:0', grad_fn=<NllLoss2DBackward>)\n",
      "Loss = tensor(1.3041, device='cuda:0', grad_fn=<NllLoss2DBackward>)\n",
      "EPOCH:  131\n"
     ]
    },
    {
     "data": {
      "image/png": "[encoded data removed]",
      "text/plain": [
       "<PIL.Image.Image image mode=RGB size=60x60 at 0x7F63200A4520>"
      ]
     },
     "metadata": {},
     "output_type": "display_data"
    },
    {
     "name": "stdout",
     "output_type": "stream",
     "text": [
      "Learning rate:  7.776e-05\n",
      "Loss = tensor(1.3383, device='cuda:0', grad_fn=<NllLoss2DBackward>)\n",
      "Loss = tensor(1.3269, device='cuda:0', grad_fn=<NllLoss2DBackward>)\n",
      "EPOCH:  132\n"
     ]
    },
    {
     "data": {
      "image/png": "[encoded data removed]",
      "text/plain": [
       "<PIL.Image.Image image mode=RGB size=60x60 at 0x7F63200A46A0>"
      ]
     },
     "metadata": {},
     "output_type": "display_data"
    },
    {
     "name": "stdout",
     "output_type": "stream",
     "text": [
      "Learning rate:  7.776e-05\n",
      "Loss = tensor(1.3402, device='cuda:0', grad_fn=<NllLoss2DBackward>)\n",
      "Loss = tensor(1.3404, device='cuda:0', grad_fn=<NllLoss2DBackward>)\n",
      "Loss = tensor(1.3240, device='cuda:0', grad_fn=<NllLoss2DBackward>)\n",
      "Loss = tensor(1.3244, device='cuda:0', grad_fn=<NllLoss2DBackward>)\n",
      "Loss = tensor(1.3081, device='cuda:0', grad_fn=<NllLoss2DBackward>)\n",
      "EPOCH:  132\n"
     ]
    },
    {
     "data": {
      "image/png": "[encoded data removed]",
      "text/plain": [
       "<PIL.Image.Image image mode=RGB size=60x60 at 0x7F63200A4730>"
      ]
     },
     "metadata": {},
     "output_type": "display_data"
    },
    {
     "name": "stdout",
     "output_type": "stream",
     "text": [
      "Learning rate:  7.776e-05\n",
      "Loss = tensor(1.3779, device='cuda:0', grad_fn=<NllLoss2DBackward>)\n",
      "Loss = tensor(1.3232, device='cuda:0', grad_fn=<NllLoss2DBackward>)\n",
      "Loss = tensor(1.3509, device='cuda:0', grad_fn=<NllLoss2DBackward>)\n",
      "Loss = tensor(1.3652, device='cuda:0', grad_fn=<NllLoss2DBackward>)\n",
      "Loss = tensor(1.3356, device='cuda:0', grad_fn=<NllLoss2DBackward>)\n",
      "EPOCH:  132\n"
     ]
    },
    {
     "data": {
      "image/png": "[encoded data removed]",
      "text/plain": [
       "<PIL.Image.Image image mode=RGB size=60x60 at 0x7F63200A4490>"
      ]
     },
     "metadata": {},
     "output_type": "display_data"
    },
    {
     "name": "stdout",
     "output_type": "stream",
     "text": [
      "Learning rate:  7.776e-05\n",
      "Loss = tensor(1.3173, device='cuda:0', grad_fn=<NllLoss2DBackward>)\n",
      "Loss = tensor(1.3676, device='cuda:0', grad_fn=<NllLoss2DBackward>)\n",
      "EPOCH:  133\n"
     ]
    },
    {
     "data": {
      "image/png": "[encoded data removed]",
      "text/plain": [
       "<PIL.Image.Image image mode=RGB size=60x60 at 0x7F63200A46A0>"
      ]
     },
     "metadata": {},
     "output_type": "display_data"
    },
    {
     "name": "stdout",
     "output_type": "stream",
     "text": [
      "Learning rate:  7.776e-05\n",
      "Loss = tensor(1.3149, device='cuda:0', grad_fn=<NllLoss2DBackward>)\n",
      "Loss = tensor(1.3003, device='cuda:0', grad_fn=<NllLoss2DBackward>)\n",
      "Loss = tensor(1.3206, device='cuda:0', grad_fn=<NllLoss2DBackward>)\n",
      "Loss = tensor(1.3218, device='cuda:0', grad_fn=<NllLoss2DBackward>)\n",
      "Loss = tensor(1.3235, device='cuda:0', grad_fn=<NllLoss2DBackward>)\n",
      "EPOCH:  133\n"
     ]
    },
    {
     "data": {
      "image/png": "[encoded data removed]",
      "text/plain": [
       "<PIL.Image.Image image mode=RGB size=60x60 at 0x7F63200A4850>"
      ]
     },
     "metadata": {},
     "output_type": "display_data"
    },
    {
     "name": "stdout",
     "output_type": "stream",
     "text": [
      "Learning rate:  7.776e-05\n",
      "Loss = tensor(1.3357, device='cuda:0', grad_fn=<NllLoss2DBackward>)\n",
      "Loss = tensor(1.3528, device='cuda:0', grad_fn=<NllLoss2DBackward>)\n",
      "Loss = tensor(1.3315, device='cuda:0', grad_fn=<NllLoss2DBackward>)\n",
      "Loss = tensor(1.3286, device='cuda:0', grad_fn=<NllLoss2DBackward>)\n",
      "Loss = tensor(1.3717, device='cuda:0', grad_fn=<NllLoss2DBackward>)\n",
      "EPOCH:  133\n"
     ]
    },
    {
     "data": {
      "image/png": "[encoded data removed]",
      "text/plain": [
       "<PIL.Image.Image image mode=RGB size=60x60 at 0x7F63200A4730>"
      ]
     },
     "metadata": {},
     "output_type": "display_data"
    },
    {
     "name": "stdout",
     "output_type": "stream",
     "text": [
      "Learning rate:  7.776e-05\n",
      "Loss = tensor(1.3530, device='cuda:0', grad_fn=<NllLoss2DBackward>)\n",
      "Loss = tensor(1.3155, device='cuda:0', grad_fn=<NllLoss2DBackward>)\n",
      "EPOCH:  134\n"
     ]
    },
    {
     "data": {
      "image/png": "[encoded data removed]",
      "text/plain": [
       "<PIL.Image.Image image mode=RGB size=60x60 at 0x7F63200A4880>"
      ]
     },
     "metadata": {},
     "output_type": "display_data"
    },
    {
     "name": "stdout",
     "output_type": "stream",
     "text": [
      "Learning rate:  7.776e-05\n",
      "Loss = tensor(1.3351, device='cuda:0', grad_fn=<NllLoss2DBackward>)\n",
      "Loss = tensor(1.3215, device='cuda:0', grad_fn=<NllLoss2DBackward>)\n",
      "Loss = tensor(1.3288, device='cuda:0', grad_fn=<NllLoss2DBackward>)\n",
      "Loss = tensor(1.3486, device='cuda:0', grad_fn=<NllLoss2DBackward>)\n",
      "Loss = tensor(1.3216, device='cuda:0', grad_fn=<NllLoss2DBackward>)\n",
      "EPOCH:  134\n"
     ]
    },
    {
     "data": {
      "image/png": "[encoded data removed]",
      "text/plain": [
       "<PIL.Image.Image image mode=RGB size=60x60 at 0x7F63200A4370>"
      ]
     },
     "metadata": {},
     "output_type": "display_data"
    },
    {
     "name": "stdout",
     "output_type": "stream",
     "text": [
      "Learning rate:  7.776e-05\n",
      "Loss = tensor(1.3549, device='cuda:0', grad_fn=<NllLoss2DBackward>)\n",
      "Loss = tensor(1.3314, device='cuda:0', grad_fn=<NllLoss2DBackward>)\n",
      "Loss = tensor(1.3381, device='cuda:0', grad_fn=<NllLoss2DBackward>)\n",
      "Loss = tensor(1.3479, device='cuda:0', grad_fn=<NllLoss2DBackward>)\n",
      "Loss = tensor(1.3269, device='cuda:0', grad_fn=<NllLoss2DBackward>)\n",
      "EPOCH:  134\n"
     ]
    },
    {
     "data": {
      "image/png": "[encoded data removed]",
      "text/plain": [
       "<PIL.Image.Image image mode=RGB size=60x60 at 0x7F63200A46A0>"
      ]
     },
     "metadata": {},
     "output_type": "display_data"
    },
    {
     "name": "stdout",
     "output_type": "stream",
     "text": [
      "Learning rate:  7.776e-05\n",
      "Loss = tensor(1.3534, device='cuda:0', grad_fn=<NllLoss2DBackward>)\n",
      "Loss = tensor(1.3226, device='cuda:0', grad_fn=<NllLoss2DBackward>)\n",
      "EPOCH:  135\n"
     ]
    },
    {
     "data": {
      "image/png": "[encoded data removed]",
      "text/plain": [
       "<PIL.Image.Image image mode=RGB size=60x60 at 0x7F63200A4580>"
      ]
     },
     "metadata": {},
     "output_type": "display_data"
    },
    {
     "name": "stdout",
     "output_type": "stream",
     "text": [
      "Learning rate:  7.776e-05\n",
      "Loss = tensor(1.3221, device='cuda:0', grad_fn=<NllLoss2DBackward>)\n",
      "Loss = tensor(1.3303, device='cuda:0', grad_fn=<NllLoss2DBackward>)\n",
      "Loss = tensor(1.3053, device='cuda:0', grad_fn=<NllLoss2DBackward>)\n",
      "Loss = tensor(1.3357, device='cuda:0', grad_fn=<NllLoss2DBackward>)\n",
      "Loss = tensor(1.3207, device='cuda:0', grad_fn=<NllLoss2DBackward>)\n",
      "EPOCH:  135\n"
     ]
    },
    {
     "data": {
      "image/png": "[encoded data removed]",
      "text/plain": [
       "<PIL.Image.Image image mode=RGB size=60x60 at 0x7F63200A4340>"
      ]
     },
     "metadata": {},
     "output_type": "display_data"
    },
    {
     "name": "stdout",
     "output_type": "stream",
     "text": [
      "Learning rate:  7.776e-05\n",
      "Loss = tensor(1.3433, device='cuda:0', grad_fn=<NllLoss2DBackward>)\n",
      "Loss = tensor(1.3545, device='cuda:0', grad_fn=<NllLoss2DBackward>)\n",
      "Loss = tensor(1.3288, device='cuda:0', grad_fn=<NllLoss2DBackward>)\n",
      "Loss = tensor(1.3577, device='cuda:0', grad_fn=<NllLoss2DBackward>)\n",
      "Loss = tensor(1.3098, device='cuda:0', grad_fn=<NllLoss2DBackward>)\n",
      "EPOCH:  135\n"
     ]
    },
    {
     "data": {
      "image/png": "[encoded data removed]",
      "text/plain": [
       "<PIL.Image.Image image mode=RGB size=60x60 at 0x7F63200A4400>"
      ]
     },
     "metadata": {},
     "output_type": "display_data"
    },
    {
     "name": "stdout",
     "output_type": "stream",
     "text": [
      "Learning rate:  7.776e-05\n",
      "Loss = tensor(1.3868, device='cuda:0', grad_fn=<NllLoss2DBackward>)\n",
      "Loss = tensor(1.3664, device='cuda:0', grad_fn=<NllLoss2DBackward>)\n",
      "EPOCH:  136\n"
     ]
    },
    {
     "data": {
      "image/png": "[encoded data removed]",
      "text/plain": [
       "<PIL.Image.Image image mode=RGB size=60x60 at 0x7F63200A4520>"
      ]
     },
     "metadata": {},
     "output_type": "display_data"
    },
    {
     "name": "stdout",
     "output_type": "stream",
     "text": [
      "Learning rate:  7.776e-05\n",
      "Loss = tensor(1.3194, device='cuda:0', grad_fn=<NllLoss2DBackward>)\n",
      "Loss = tensor(1.3348, device='cuda:0', grad_fn=<NllLoss2DBackward>)\n",
      "Loss = tensor(1.3603, device='cuda:0', grad_fn=<NllLoss2DBackward>)\n",
      "Loss = tensor(1.3143, device='cuda:0', grad_fn=<NllLoss2DBackward>)\n",
      "Loss = tensor(1.3474, device='cuda:0', grad_fn=<NllLoss2DBackward>)\n",
      "EPOCH:  136\n"
     ]
    },
    {
     "data": {
      "image/png": "[encoded data removed]",
      "text/plain": [
       "<PIL.Image.Image image mode=RGB size=60x60 at 0x7F63200A4550>"
      ]
     },
     "metadata": {},
     "output_type": "display_data"
    },
    {
     "name": "stdout",
     "output_type": "stream",
     "text": [
      "Learning rate:  7.776e-05\n",
      "Loss = tensor(1.3194, device='cuda:0', grad_fn=<NllLoss2DBackward>)\n",
      "Loss = tensor(1.3412, device='cuda:0', grad_fn=<NllLoss2DBackward>)\n",
      "Loss = tensor(1.3117, device='cuda:0', grad_fn=<NllLoss2DBackward>)\n",
      "Loss = tensor(1.3146, device='cuda:0', grad_fn=<NllLoss2DBackward>)\n",
      "Loss = tensor(1.3673, device='cuda:0', grad_fn=<NllLoss2DBackward>)\n",
      "EPOCH:  136\n"
     ]
    },
    {
     "data": {
      "image/png": "[encoded data removed]",
      "text/plain": [
       "<PIL.Image.Image image mode=RGB size=60x60 at 0x7F63200A4640>"
      ]
     },
     "metadata": {},
     "output_type": "display_data"
    },
    {
     "name": "stdout",
     "output_type": "stream",
     "text": [
      "Learning rate:  7.776e-05\n",
      "Loss = tensor(1.3205, device='cuda:0', grad_fn=<NllLoss2DBackward>)\n",
      "Loss = tensor(1.2901, device='cuda:0', grad_fn=<NllLoss2DBackward>)\n",
      "EPOCH:  137\n"
     ]
    },
    {
     "data": {
      "image/png": "[encoded data removed]",
      "text/plain": [
       "<PIL.Image.Image image mode=RGB size=60x60 at 0x7F63200A4910>"
      ]
     },
     "metadata": {},
     "output_type": "display_data"
    },
    {
     "name": "stdout",
     "output_type": "stream",
     "text": [
      "Learning rate:  7.776e-05\n",
      "Loss = tensor(1.3301, device='cuda:0', grad_fn=<NllLoss2DBackward>)\n",
      "Loss = tensor(1.3420, device='cuda:0', grad_fn=<NllLoss2DBackward>)\n",
      "Loss = tensor(1.3185, device='cuda:0', grad_fn=<NllLoss2DBackward>)\n",
      "Loss = tensor(1.3177, device='cuda:0', grad_fn=<NllLoss2DBackward>)\n",
      "Loss = tensor(1.3713, device='cuda:0', grad_fn=<NllLoss2DBackward>)\n",
      "EPOCH:  137\n"
     ]
    },
    {
     "data": {
      "image/png": "[encoded data removed]",
      "text/plain": [
       "<PIL.Image.Image image mode=RGB size=60x60 at 0x7F63200A46A0>"
      ]
     },
     "metadata": {},
     "output_type": "display_data"
    },
    {
     "name": "stdout",
     "output_type": "stream",
     "text": [
      "Learning rate:  7.776e-05\n",
      "Loss = tensor(1.3335, device='cuda:0', grad_fn=<NllLoss2DBackward>)\n",
      "Loss = tensor(1.3231, device='cuda:0', grad_fn=<NllLoss2DBackward>)\n",
      "Loss = tensor(1.3890, device='cuda:0', grad_fn=<NllLoss2DBackward>)\n",
      "Loss = tensor(1.3437, device='cuda:0', grad_fn=<NllLoss2DBackward>)\n",
      "Loss = tensor(1.3161, device='cuda:0', grad_fn=<NllLoss2DBackward>)\n",
      "EPOCH:  137\n"
     ]
    },
    {
     "data": {
      "image/png": "[encoded data removed]",
      "text/plain": [
       "<PIL.Image.Image image mode=RGB size=60x60 at 0x7F63200A4880>"
      ]
     },
     "metadata": {},
     "output_type": "display_data"
    },
    {
     "name": "stdout",
     "output_type": "stream",
     "text": [
      "Learning rate:  7.776e-05\n",
      "Loss = tensor(1.3422, device='cuda:0', grad_fn=<NllLoss2DBackward>)\n",
      "Loss = tensor(1.3264, device='cuda:0', grad_fn=<NllLoss2DBackward>)\n",
      "EPOCH:  138\n"
     ]
    },
    {
     "data": {
      "image/png": "[encoded data removed]",
      "text/plain": [
       "<PIL.Image.Image image mode=RGB size=60x60 at 0x7F63200A4490>"
      ]
     },
     "metadata": {},
     "output_type": "display_data"
    },
    {
     "name": "stdout",
     "output_type": "stream",
     "text": [
      "Learning rate:  7.776e-05\n",
      "Loss = tensor(1.3807, device='cuda:0', grad_fn=<NllLoss2DBackward>)\n",
      "Loss = tensor(1.3140, device='cuda:0', grad_fn=<NllLoss2DBackward>)\n",
      "Loss = tensor(1.3468, device='cuda:0', grad_fn=<NllLoss2DBackward>)\n",
      "Loss = tensor(1.2992, device='cuda:0', grad_fn=<NllLoss2DBackward>)\n",
      "Loss = tensor(1.3539, device='cuda:0', grad_fn=<NllLoss2DBackward>)\n",
      "EPOCH:  138\n"
     ]
    },
    {
     "data": {
      "image/png": "[encoded data removed]",
      "text/plain": [
       "<PIL.Image.Image image mode=RGB size=60x60 at 0x7F63200A4520>"
      ]
     },
     "metadata": {},
     "output_type": "display_data"
    },
    {
     "name": "stdout",
     "output_type": "stream",
     "text": [
      "Learning rate:  7.776e-05\n",
      "Loss = tensor(1.3526, device='cuda:0', grad_fn=<NllLoss2DBackward>)\n",
      "Loss = tensor(1.3355, device='cuda:0', grad_fn=<NllLoss2DBackward>)\n",
      "Loss = tensor(1.3260, device='cuda:0', grad_fn=<NllLoss2DBackward>)\n",
      "Loss = tensor(1.3216, device='cuda:0', grad_fn=<NllLoss2DBackward>)\n",
      "Loss = tensor(1.3438, device='cuda:0', grad_fn=<NllLoss2DBackward>)\n",
      "EPOCH:  138\n"
     ]
    },
    {
     "data": {
      "image/png": "[encoded data removed]",
      "text/plain": [
       "<PIL.Image.Image image mode=RGB size=60x60 at 0x7F63200A4910>"
      ]
     },
     "metadata": {},
     "output_type": "display_data"
    },
    {
     "name": "stdout",
     "output_type": "stream",
     "text": [
      "Learning rate:  7.776e-05\n",
      "Loss = tensor(1.3212, device='cuda:0', grad_fn=<NllLoss2DBackward>)\n",
      "Loss = tensor(1.3406, device='cuda:0', grad_fn=<NllLoss2DBackward>)\n",
      "EPOCH:  139\n"
     ]
    },
    {
     "data": {
      "image/png": "[encoded data removed]",
      "text/plain": [
       "<PIL.Image.Image image mode=RGB size=60x60 at 0x7F63200A4670>"
      ]
     },
     "metadata": {},
     "output_type": "display_data"
    },
    {
     "name": "stdout",
     "output_type": "stream",
     "text": [
      "Learning rate:  7.776e-05\n",
      "Loss = tensor(1.3421, device='cuda:0', grad_fn=<NllLoss2DBackward>)\n",
      "Loss = tensor(1.3391, device='cuda:0', grad_fn=<NllLoss2DBackward>)\n",
      "Loss = tensor(1.3393, device='cuda:0', grad_fn=<NllLoss2DBackward>)\n",
      "Loss = tensor(1.2927, device='cuda:0', grad_fn=<NllLoss2DBackward>)\n",
      "Loss = tensor(1.3675, device='cuda:0', grad_fn=<NllLoss2DBackward>)\n",
      "EPOCH:  139\n"
     ]
    },
    {
     "data": {
      "image/png": "[encoded data removed]",
      "text/plain": [
       "<PIL.Image.Image image mode=RGB size=60x60 at 0x7F63200A4880>"
      ]
     },
     "metadata": {},
     "output_type": "display_data"
    },
    {
     "name": "stdout",
     "output_type": "stream",
     "text": [
      "Learning rate:  7.776e-05\n",
      "Loss = tensor(1.3092, device='cuda:0', grad_fn=<NllLoss2DBackward>)\n",
      "Loss = tensor(1.3533, device='cuda:0', grad_fn=<NllLoss2DBackward>)\n",
      "Loss = tensor(1.3413, device='cuda:0', grad_fn=<NllLoss2DBackward>)\n",
      "Loss = tensor(1.3419, device='cuda:0', grad_fn=<NllLoss2DBackward>)\n",
      "Loss = tensor(1.3266, device='cuda:0', grad_fn=<NllLoss2DBackward>)\n",
      "EPOCH:  139\n"
     ]
    },
    {
     "data": {
      "image/png": "[encoded data removed]",
      "text/plain": [
       "<PIL.Image.Image image mode=RGB size=60x60 at 0x7F63200A4850>"
      ]
     },
     "metadata": {},
     "output_type": "display_data"
    },
    {
     "name": "stdout",
     "output_type": "stream",
     "text": [
      "Learning rate:  7.776e-05\n",
      "Loss = tensor(1.3249, device='cuda:0', grad_fn=<NllLoss2DBackward>)\n",
      "Loss = tensor(1.3316, device='cuda:0', grad_fn=<NllLoss2DBackward>)\n",
      "EPOCH:  140\n"
     ]
    },
    {
     "data": {
      "image/png": "[encoded data removed]",
      "text/plain": [
       "<PIL.Image.Image image mode=RGB size=60x60 at 0x7F63200A47C0>"
      ]
     },
     "metadata": {},
     "output_type": "display_data"
    },
    {
     "name": "stdout",
     "output_type": "stream",
     "text": [
      "Learning rate:  7.776e-05\n",
      "Loss = tensor(1.3383, device='cuda:0', grad_fn=<NllLoss2DBackward>)\n",
      "Loss = tensor(1.3323, device='cuda:0', grad_fn=<NllLoss2DBackward>)\n",
      "Loss = tensor(1.2989, device='cuda:0', grad_fn=<NllLoss2DBackward>)\n",
      "Loss = tensor(1.3263, device='cuda:0', grad_fn=<NllLoss2DBackward>)\n",
      "Loss = tensor(1.3023, device='cuda:0', grad_fn=<NllLoss2DBackward>)\n",
      "EPOCH:  140\n"
     ]
    },
    {
     "data": {
      "image/png": "[encoded data removed]",
      "text/plain": [
       "<PIL.Image.Image image mode=RGB size=60x60 at 0x7F63200A4520>"
      ]
     },
     "metadata": {},
     "output_type": "display_data"
    },
    {
     "name": "stdout",
     "output_type": "stream",
     "text": [
      "Learning rate:  7.776e-05\n",
      "Loss = tensor(1.3837, device='cuda:0', grad_fn=<NllLoss2DBackward>)\n",
      "Loss = tensor(1.3561, device='cuda:0', grad_fn=<NllLoss2DBackward>)\n",
      "Loss = tensor(1.3111, device='cuda:0', grad_fn=<NllLoss2DBackward>)\n",
      "Loss = tensor(1.3285, device='cuda:0', grad_fn=<NllLoss2DBackward>)\n",
      "Loss = tensor(1.3829, device='cuda:0', grad_fn=<NllLoss2DBackward>)\n",
      "EPOCH:  140\n"
     ]
    },
    {
     "data": {
      "image/png": "[encoded data removed]",
      "text/plain": [
       "<PIL.Image.Image image mode=RGB size=60x60 at 0x7F63200A45B0>"
      ]
     },
     "metadata": {},
     "output_type": "display_data"
    },
    {
     "name": "stdout",
     "output_type": "stream",
     "text": [
      "Learning rate:  7.776e-05\n",
      "Loss = tensor(1.3220, device='cuda:0', grad_fn=<NllLoss2DBackward>)\n",
      "Loss = tensor(1.3199, device='cuda:0', grad_fn=<NllLoss2DBackward>)\n",
      "EPOCH:  141\n"
     ]
    },
    {
     "data": {
      "image/png": "[encoded data removed]",
      "text/plain": [
       "<PIL.Image.Image image mode=RGB size=60x60 at 0x7F63200A46D0>"
      ]
     },
     "metadata": {},
     "output_type": "display_data"
    },
    {
     "name": "stdout",
     "output_type": "stream",
     "text": [
      "Learning rate:  7.776e-05\n",
      "Loss = tensor(1.3366, device='cuda:0', grad_fn=<NllLoss2DBackward>)\n",
      "Loss = tensor(1.3242, device='cuda:0', grad_fn=<NllLoss2DBackward>)\n",
      "Loss = tensor(1.3401, device='cuda:0', grad_fn=<NllLoss2DBackward>)\n",
      "Loss = tensor(1.3327, device='cuda:0', grad_fn=<NllLoss2DBackward>)\n",
      "Loss = tensor(1.3152, device='cuda:0', grad_fn=<NllLoss2DBackward>)\n",
      "EPOCH:  141\n"
     ]
    },
    {
     "data": {
      "image/png": "[encoded data removed]",
      "text/plain": [
       "<PIL.Image.Image image mode=RGB size=60x60 at 0x7F63200A48E0>"
      ]
     },
     "metadata": {},
     "output_type": "display_data"
    },
    {
     "name": "stdout",
     "output_type": "stream",
     "text": [
      "Learning rate:  7.776e-05\n",
      "Loss = tensor(1.3754, device='cuda:0', grad_fn=<NllLoss2DBackward>)\n",
      "Loss = tensor(1.3299, device='cuda:0', grad_fn=<NllLoss2DBackward>)\n",
      "Loss = tensor(1.3614, device='cuda:0', grad_fn=<NllLoss2DBackward>)\n",
      "Loss = tensor(1.3118, device='cuda:0', grad_fn=<NllLoss2DBackward>)\n",
      "Loss = tensor(1.3252, device='cuda:0', grad_fn=<NllLoss2DBackward>)\n",
      "EPOCH:  141\n"
     ]
    },
    {
     "data": {
      "image/png": "[encoded data removed]",
      "text/plain": [
       "<PIL.Image.Image image mode=RGB size=60x60 at 0x7F63200A4910>"
      ]
     },
     "metadata": {},
     "output_type": "display_data"
    },
    {
     "name": "stdout",
     "output_type": "stream",
     "text": [
      "Learning rate:  7.776e-05\n",
      "Loss = tensor(1.3415, device='cuda:0', grad_fn=<NllLoss2DBackward>)\n",
      "Loss = tensor(1.3278, device='cuda:0', grad_fn=<NllLoss2DBackward>)\n",
      "EPOCH:  142\n"
     ]
    },
    {
     "data": {
      "image/png": "[encoded data removed]",
      "text/plain": [
       "<PIL.Image.Image image mode=RGB size=60x60 at 0x7F63200A4850>"
      ]
     },
     "metadata": {},
     "output_type": "display_data"
    },
    {
     "name": "stdout",
     "output_type": "stream",
     "text": [
      "Learning rate:  7.776e-05\n",
      "Loss = tensor(1.3611, device='cuda:0', grad_fn=<NllLoss2DBackward>)\n",
      "Loss = tensor(1.3026, device='cuda:0', grad_fn=<NllLoss2DBackward>)\n",
      "Loss = tensor(1.3191, device='cuda:0', grad_fn=<NllLoss2DBackward>)\n",
      "Loss = tensor(1.3842, device='cuda:0', grad_fn=<NllLoss2DBackward>)\n",
      "Loss = tensor(1.3429, device='cuda:0', grad_fn=<NllLoss2DBackward>)\n",
      "EPOCH:  142\n"
     ]
    },
    {
     "data": {
      "image/png": "[encoded data removed]",
      "text/plain": [
       "<PIL.Image.Image image mode=RGB size=60x60 at 0x7F63200A4580>"
      ]
     },
     "metadata": {},
     "output_type": "display_data"
    },
    {
     "name": "stdout",
     "output_type": "stream",
     "text": [
      "Learning rate:  7.776e-05\n",
      "Loss = tensor(1.3421, device='cuda:0', grad_fn=<NllLoss2DBackward>)\n",
      "Loss = tensor(1.3414, device='cuda:0', grad_fn=<NllLoss2DBackward>)\n",
      "Loss = tensor(1.3376, device='cuda:0', grad_fn=<NllLoss2DBackward>)\n",
      "Loss = tensor(1.3229, device='cuda:0', grad_fn=<NllLoss2DBackward>)\n",
      "Loss = tensor(1.3266, device='cuda:0', grad_fn=<NllLoss2DBackward>)\n",
      "EPOCH:  142\n"
     ]
    },
    {
     "data": {
      "image/png": "[encoded data removed]",
      "text/plain": [
       "<PIL.Image.Image image mode=RGB size=60x60 at 0x7F63200A4910>"
      ]
     },
     "metadata": {},
     "output_type": "display_data"
    },
    {
     "name": "stdout",
     "output_type": "stream",
     "text": [
      "Learning rate:  7.776e-05\n",
      "Loss = tensor(1.3171, device='cuda:0', grad_fn=<NllLoss2DBackward>)\n",
      "Loss = tensor(1.3625, device='cuda:0', grad_fn=<NllLoss2DBackward>)\n",
      "EPOCH:  143\n"
     ]
    },
    {
     "data": {
      "image/png": "[encoded data removed]",
      "text/plain": [
       "<PIL.Image.Image image mode=RGB size=60x60 at 0x7F63200A4580>"
      ]
     },
     "metadata": {},
     "output_type": "display_data"
    },
    {
     "name": "stdout",
     "output_type": "stream",
     "text": [
      "Learning rate:  7.776e-05\n",
      "Loss = tensor(1.3353, device='cuda:0', grad_fn=<NllLoss2DBackward>)\n",
      "Loss = tensor(1.3152, device='cuda:0', grad_fn=<NllLoss2DBackward>)\n",
      "Loss = tensor(1.3110, device='cuda:0', grad_fn=<NllLoss2DBackward>)\n",
      "Loss = tensor(1.3507, device='cuda:0', grad_fn=<NllLoss2DBackward>)\n",
      "Loss = tensor(1.3161, device='cuda:0', grad_fn=<NllLoss2DBackward>)\n",
      "EPOCH:  143\n"
     ]
    },
    {
     "data": {
      "image/png": "[encoded data removed]",
      "text/plain": [
       "<PIL.Image.Image image mode=RGB size=60x60 at 0x7F63200A4730>"
      ]
     },
     "metadata": {},
     "output_type": "display_data"
    },
    {
     "name": "stdout",
     "output_type": "stream",
     "text": [
      "Learning rate:  7.776e-05\n",
      "Loss = tensor(1.3395, device='cuda:0', grad_fn=<NllLoss2DBackward>)\n",
      "Loss = tensor(1.3337, device='cuda:0', grad_fn=<NllLoss2DBackward>)\n",
      "Loss = tensor(1.3326, device='cuda:0', grad_fn=<NllLoss2DBackward>)\n",
      "Loss = tensor(1.3365, device='cuda:0', grad_fn=<NllLoss2DBackward>)\n",
      "Loss = tensor(1.3532, device='cuda:0', grad_fn=<NllLoss2DBackward>)\n",
      "EPOCH:  143\n"
     ]
    },
    {
     "data": {
      "image/png": "[encoded data removed]",
      "text/plain": [
       "<PIL.Image.Image image mode=RGB size=60x60 at 0x7F63200A4940>"
      ]
     },
     "metadata": {},
     "output_type": "display_data"
    },
    {
     "name": "stdout",
     "output_type": "stream",
     "text": [
      "Learning rate:  7.776e-05\n",
      "Loss = tensor(1.3243, device='cuda:0', grad_fn=<NllLoss2DBackward>)\n",
      "Loss = tensor(1.3225, device='cuda:0', grad_fn=<NllLoss2DBackward>)\n",
      "EPOCH:  144\n"
     ]
    },
    {
     "data": {
      "image/png": "[encoded data removed]",
      "text/plain": [
       "<PIL.Image.Image image mode=RGB size=60x60 at 0x7F63200A4910>"
      ]
     },
     "metadata": {},
     "output_type": "display_data"
    },
    {
     "name": "stdout",
     "output_type": "stream",
     "text": [
      "Learning rate:  7.776e-05\n",
      "Loss = tensor(1.3763, device='cuda:0', grad_fn=<NllLoss2DBackward>)\n",
      "Loss = tensor(1.3343, device='cuda:0', grad_fn=<NllLoss2DBackward>)\n",
      "Loss = tensor(1.3344, device='cuda:0', grad_fn=<NllLoss2DBackward>)\n",
      "Loss = tensor(1.3658, device='cuda:0', grad_fn=<NllLoss2DBackward>)\n",
      "Loss = tensor(1.3345, device='cuda:0', grad_fn=<NllLoss2DBackward>)\n",
      "EPOCH:  144\n"
     ]
    },
    {
     "data": {
      "image/png": "[encoded data removed]",
      "text/plain": [
       "<PIL.Image.Image image mode=RGB size=60x60 at 0x7F63200A4820>"
      ]
     },
     "metadata": {},
     "output_type": "display_data"
    },
    {
     "name": "stdout",
     "output_type": "stream",
     "text": [
      "Learning rate:  7.776e-05\n",
      "Loss = tensor(1.3283, device='cuda:0', grad_fn=<NllLoss2DBackward>)\n",
      "Loss = tensor(1.3077, device='cuda:0', grad_fn=<NllLoss2DBackward>)\n",
      "Loss = tensor(1.3161, device='cuda:0', grad_fn=<NllLoss2DBackward>)\n",
      "Loss = tensor(1.3213, device='cuda:0', grad_fn=<NllLoss2DBackward>)\n",
      "Loss = tensor(1.3281, device='cuda:0', grad_fn=<NllLoss2DBackward>)\n",
      "EPOCH:  144\n"
     ]
    },
    {
     "data": {
      "image/png": "[encoded data removed]",
      "text/plain": [
       "<PIL.Image.Image image mode=RGB size=60x60 at 0x7F63200A45B0>"
      ]
     },
     "metadata": {},
     "output_type": "display_data"
    },
    {
     "name": "stdout",
     "output_type": "stream",
     "text": [
      "Learning rate:  7.776e-05\n",
      "Loss = tensor(1.3355, device='cuda:0', grad_fn=<NllLoss2DBackward>)\n",
      "Loss = tensor(1.3723, device='cuda:0', grad_fn=<NllLoss2DBackward>)\n",
      "EPOCH:  145\n"
     ]
    },
    {
     "data": {
      "image/png": "[encoded data removed]",
      "text/plain": [
       "<PIL.Image.Image image mode=RGB size=60x60 at 0x7F63200A4580>"
      ]
     },
     "metadata": {},
     "output_type": "display_data"
    },
    {
     "name": "stdout",
     "output_type": "stream",
     "text": [
      "Learning rate:  7.776e-05\n",
      "Loss = tensor(1.3283, device='cuda:0', grad_fn=<NllLoss2DBackward>)\n",
      "Loss = tensor(1.3566, device='cuda:0', grad_fn=<NllLoss2DBackward>)\n",
      "Loss = tensor(1.3258, device='cuda:0', grad_fn=<NllLoss2DBackward>)\n",
      "Loss = tensor(1.3361, device='cuda:0', grad_fn=<NllLoss2DBackward>)\n",
      "Loss = tensor(1.3449, device='cuda:0', grad_fn=<NllLoss2DBackward>)\n",
      "EPOCH:  145\n"
     ]
    },
    {
     "data": {
      "image/png": "[encoded data removed]",
      "text/plain": [
       "<PIL.Image.Image image mode=RGB size=60x60 at 0x7F63200A4580>"
      ]
     },
     "metadata": {},
     "output_type": "display_data"
    },
    {
     "name": "stdout",
     "output_type": "stream",
     "text": [
      "Learning rate:  7.776e-05\n",
      "Loss = tensor(1.3366, device='cuda:0', grad_fn=<NllLoss2DBackward>)\n",
      "Loss = tensor(1.3688, device='cuda:0', grad_fn=<NllLoss2DBackward>)\n",
      "Loss = tensor(1.3175, device='cuda:0', grad_fn=<NllLoss2DBackward>)\n",
      "Loss = tensor(1.3284, device='cuda:0', grad_fn=<NllLoss2DBackward>)\n",
      "Loss = tensor(1.3004, device='cuda:0', grad_fn=<NllLoss2DBackward>)\n",
      "EPOCH:  145\n"
     ]
    },
    {
     "data": {
      "image/png": "[encoded data removed]",
      "text/plain": [
       "<PIL.Image.Image image mode=RGB size=60x60 at 0x7F63200A4340>"
      ]
     },
     "metadata": {},
     "output_type": "display_data"
    },
    {
     "name": "stdout",
     "output_type": "stream",
     "text": [
      "Learning rate:  7.776e-05\n",
      "Loss = tensor(1.3098, device='cuda:0', grad_fn=<NllLoss2DBackward>)\n",
      "Loss = tensor(1.3057, device='cuda:0', grad_fn=<NllLoss2DBackward>)\n",
      "EPOCH:  146\n"
     ]
    },
    {
     "data": {
      "image/png": "[encoded data removed]",
      "text/plain": [
       "<PIL.Image.Image image mode=RGB size=60x60 at 0x7F63200A4910>"
      ]
     },
     "metadata": {},
     "output_type": "display_data"
    },
    {
     "name": "stdout",
     "output_type": "stream",
     "text": [
      "Learning rate:  7.776e-05\n",
      "Loss = tensor(1.3680, device='cuda:0', grad_fn=<NllLoss2DBackward>)\n",
      "Loss = tensor(1.3401, device='cuda:0', grad_fn=<NllLoss2DBackward>)\n",
      "Loss = tensor(1.3322, device='cuda:0', grad_fn=<NllLoss2DBackward>)\n",
      "Loss = tensor(1.3780, device='cuda:0', grad_fn=<NllLoss2DBackward>)\n",
      "Loss = tensor(1.3251, device='cuda:0', grad_fn=<NllLoss2DBackward>)\n",
      "EPOCH:  146\n"
     ]
    },
    {
     "data": {
      "image/png": "[encoded data removed]",
      "text/plain": [
       "<PIL.Image.Image image mode=RGB size=60x60 at 0x7F63200A4790>"
      ]
     },
     "metadata": {},
     "output_type": "display_data"
    },
    {
     "name": "stdout",
     "output_type": "stream",
     "text": [
      "Learning rate:  7.776e-05\n",
      "Loss = tensor(1.3273, device='cuda:0', grad_fn=<NllLoss2DBackward>)\n",
      "Loss = tensor(1.3516, device='cuda:0', grad_fn=<NllLoss2DBackward>)\n",
      "Loss = tensor(1.3180, device='cuda:0', grad_fn=<NllLoss2DBackward>)\n",
      "Loss = tensor(1.3121, device='cuda:0', grad_fn=<NllLoss2DBackward>)\n",
      "Loss = tensor(1.3240, device='cuda:0', grad_fn=<NllLoss2DBackward>)\n",
      "EPOCH:  146\n"
     ]
    },
    {
     "data": {
      "image/png": "[encoded data removed]",
      "text/plain": [
       "<PIL.Image.Image image mode=RGB size=60x60 at 0x7F63200A4520>"
      ]
     },
     "metadata": {},
     "output_type": "display_data"
    },
    {
     "name": "stdout",
     "output_type": "stream",
     "text": [
      "Learning rate:  7.776e-05\n",
      "Loss = tensor(1.3364, device='cuda:0', grad_fn=<NllLoss2DBackward>)\n",
      "Loss = tensor(1.3890, device='cuda:0', grad_fn=<NllLoss2DBackward>)\n",
      "EPOCH:  147\n"
     ]
    },
    {
     "data": {
      "image/png": "[encoded data removed]",
      "text/plain": [
       "<PIL.Image.Image image mode=RGB size=60x60 at 0x7F63200A4940>"
      ]
     },
     "metadata": {},
     "output_type": "display_data"
    },
    {
     "name": "stdout",
     "output_type": "stream",
     "text": [
      "Learning rate:  7.776e-05\n",
      "Loss = tensor(1.3224, device='cuda:0', grad_fn=<NllLoss2DBackward>)\n",
      "Loss = tensor(1.3253, device='cuda:0', grad_fn=<NllLoss2DBackward>)\n",
      "Loss = tensor(1.3056, device='cuda:0', grad_fn=<NllLoss2DBackward>)\n",
      "Loss = tensor(1.3167, device='cuda:0', grad_fn=<NllLoss2DBackward>)\n",
      "Loss = tensor(1.3105, device='cuda:0', grad_fn=<NllLoss2DBackward>)\n",
      "EPOCH:  147\n"
     ]
    },
    {
     "data": {
      "image/png": "[encoded data removed]",
      "text/plain": [
       "<PIL.Image.Image image mode=RGB size=60x60 at 0x7F63200A4670>"
      ]
     },
     "metadata": {},
     "output_type": "display_data"
    },
    {
     "name": "stdout",
     "output_type": "stream",
     "text": [
      "Learning rate:  7.776e-05\n",
      "Loss = tensor(1.3639, device='cuda:0', grad_fn=<NllLoss2DBackward>)\n",
      "Loss = tensor(1.3089, device='cuda:0', grad_fn=<NllLoss2DBackward>)\n",
      "Loss = tensor(1.3702, device='cuda:0', grad_fn=<NllLoss2DBackward>)\n",
      "Loss = tensor(1.3271, device='cuda:0', grad_fn=<NllLoss2DBackward>)\n",
      "Loss = tensor(1.3342, device='cuda:0', grad_fn=<NllLoss2DBackward>)\n",
      "EPOCH:  147\n"
     ]
    },
    {
     "data": {
      "image/png": "[encoded data removed]",
      "text/plain": [
       "<PIL.Image.Image image mode=RGB size=60x60 at 0x7F63200A4880>"
      ]
     },
     "metadata": {},
     "output_type": "display_data"
    },
    {
     "name": "stdout",
     "output_type": "stream",
     "text": [
      "Learning rate:  7.776e-05\n",
      "Loss = tensor(1.3305, device='cuda:0', grad_fn=<NllLoss2DBackward>)\n",
      "Loss = tensor(1.3289, device='cuda:0', grad_fn=<NllLoss2DBackward>)\n",
      "EPOCH:  148\n"
     ]
    },
    {
     "data": {
      "image/png": "[encoded data removed]",
      "text/plain": [
       "<PIL.Image.Image image mode=RGB size=60x60 at 0x7F63200A48E0>"
      ]
     },
     "metadata": {},
     "output_type": "display_data"
    },
    {
     "name": "stdout",
     "output_type": "stream",
     "text": [
      "Learning rate:  7.776e-05\n",
      "Loss = tensor(1.3225, device='cuda:0', grad_fn=<NllLoss2DBackward>)\n",
      "Loss = tensor(1.3441, device='cuda:0', grad_fn=<NllLoss2DBackward>)\n",
      "Loss = tensor(1.3425, device='cuda:0', grad_fn=<NllLoss2DBackward>)\n",
      "Loss = tensor(1.3108, device='cuda:0', grad_fn=<NllLoss2DBackward>)\n",
      "Loss = tensor(1.3341, device='cuda:0', grad_fn=<NllLoss2DBackward>)\n",
      "EPOCH:  148\n"
     ]
    },
    {
     "data": {
      "image/png": "[encoded data removed]",
      "text/plain": [
       "<PIL.Image.Image image mode=RGB size=60x60 at 0x7F63200A4940>"
      ]
     },
     "metadata": {},
     "output_type": "display_data"
    },
    {
     "name": "stdout",
     "output_type": "stream",
     "text": [
      "Learning rate:  7.776e-05\n",
      "Loss = tensor(1.3496, device='cuda:0', grad_fn=<NllLoss2DBackward>)\n",
      "Loss = tensor(1.3273, device='cuda:0', grad_fn=<NllLoss2DBackward>)\n",
      "Loss = tensor(1.3515, device='cuda:0', grad_fn=<NllLoss2DBackward>)\n",
      "Loss = tensor(1.3414, device='cuda:0', grad_fn=<NllLoss2DBackward>)\n",
      "Loss = tensor(1.3263, device='cuda:0', grad_fn=<NllLoss2DBackward>)\n",
      "EPOCH:  148\n"
     ]
    },
    {
     "data": {
      "image/png": "[encoded data removed]",
      "text/plain": [
       "<PIL.Image.Image image mode=RGB size=60x60 at 0x7F63200A47C0>"
      ]
     },
     "metadata": {},
     "output_type": "display_data"
    },
    {
     "name": "stdout",
     "output_type": "stream",
     "text": [
      "Learning rate:  7.776e-05\n",
      "Loss = tensor(1.3259, device='cuda:0', grad_fn=<NllLoss2DBackward>)\n",
      "Loss = tensor(1.3321, device='cuda:0', grad_fn=<NllLoss2DBackward>)\n",
      "EPOCH:  149\n"
     ]
    },
    {
     "data": {
      "image/png": "[encoded data removed]",
      "text/plain": [
       "<PIL.Image.Image image mode=RGB size=60x60 at 0x7F63200A4520>"
      ]
     },
     "metadata": {},
     "output_type": "display_data"
    },
    {
     "name": "stdout",
     "output_type": "stream",
     "text": [
      "Learning rate:  7.776e-05\n",
      "Loss = tensor(1.3331, device='cuda:0', grad_fn=<NllLoss2DBackward>)\n",
      "Loss = tensor(1.3349, device='cuda:0', grad_fn=<NllLoss2DBackward>)\n",
      "Loss = tensor(1.3236, device='cuda:0', grad_fn=<NllLoss2DBackward>)\n",
      "Loss = tensor(1.3220, device='cuda:0', grad_fn=<NllLoss2DBackward>)\n",
      "Loss = tensor(1.3579, device='cuda:0', grad_fn=<NllLoss2DBackward>)\n",
      "EPOCH:  149\n"
     ]
    },
    {
     "data": {
      "image/png": "[encoded data removed]",
      "text/plain": [
       "<PIL.Image.Image image mode=RGB size=60x60 at 0x7F63200A45B0>"
      ]
     },
     "metadata": {},
     "output_type": "display_data"
    },
    {
     "name": "stdout",
     "output_type": "stream",
     "text": [
      "Learning rate:  7.776e-05\n",
      "Loss = tensor(1.3075, device='cuda:0', grad_fn=<NllLoss2DBackward>)\n",
      "Loss = tensor(1.3333, device='cuda:0', grad_fn=<NllLoss2DBackward>)\n",
      "Loss = tensor(1.3286, device='cuda:0', grad_fn=<NllLoss2DBackward>)\n",
      "Loss = tensor(1.3245, device='cuda:0', grad_fn=<NllLoss2DBackward>)\n",
      "Loss = tensor(1.3401, device='cuda:0', grad_fn=<NllLoss2DBackward>)\n",
      "EPOCH:  149\n"
     ]
    },
    {
     "data": {
      "image/png": "[encoded data removed]",
      "text/plain": [
       "<PIL.Image.Image image mode=RGB size=60x60 at 0x7F63200A45B0>"
      ]
     },
     "metadata": {},
     "output_type": "display_data"
    },
    {
     "name": "stdout",
     "output_type": "stream",
     "text": [
      "Learning rate:  7.776e-05\n",
      "Loss = tensor(1.3640, device='cuda:0', grad_fn=<NllLoss2DBackward>)\n",
      "Loss = tensor(1.3137, device='cuda:0', grad_fn=<NllLoss2DBackward>)\n",
      "EPOCH:  150\n"
     ]
    },
    {
     "data": {
      "image/png": "[encoded data removed]",
      "text/plain": [
       "<PIL.Image.Image image mode=RGB size=60x60 at 0x7F63200A46A0>"
      ]
     },
     "metadata": {},
     "output_type": "display_data"
    },
    {
     "name": "stdout",
     "output_type": "stream",
     "text": [
      "Learning rate:  7.776e-05\n",
      "Loss = tensor(1.3233, device='cuda:0', grad_fn=<NllLoss2DBackward>)\n",
      "Loss = tensor(1.3515, device='cuda:0', grad_fn=<NllLoss2DBackward>)\n",
      "Loss = tensor(1.3329, device='cuda:0', grad_fn=<NllLoss2DBackward>)\n",
      "Loss = tensor(1.3216, device='cuda:0', grad_fn=<NllLoss2DBackward>)\n",
      "Loss = tensor(1.3325, device='cuda:0', grad_fn=<NllLoss2DBackward>)\n",
      "EPOCH:  150\n"
     ]
    },
    {
     "data": {
      "image/png": "[encoded data removed]",
      "text/plain": [
       "<PIL.Image.Image image mode=RGB size=60x60 at 0x7F63200A46D0>"
      ]
     },
     "metadata": {},
     "output_type": "display_data"
    },
    {
     "name": "stdout",
     "output_type": "stream",
     "text": [
      "Learning rate:  7.776e-05\n",
      "Loss = tensor(1.3138, device='cuda:0', grad_fn=<NllLoss2DBackward>)\n",
      "Loss = tensor(1.3252, device='cuda:0', grad_fn=<NllLoss2DBackward>)\n",
      "Loss = tensor(1.3618, device='cuda:0', grad_fn=<NllLoss2DBackward>)\n",
      "Loss = tensor(1.3882, device='cuda:0', grad_fn=<NllLoss2DBackward>)\n",
      "Loss = tensor(1.3230, device='cuda:0', grad_fn=<NllLoss2DBackward>)\n",
      "EPOCH:  150\n"
     ]
    },
    {
     "data": {
      "image/png": "[encoded data removed]",
      "text/plain": [
       "<PIL.Image.Image image mode=RGB size=60x60 at 0x7F63200A4730>"
      ]
     },
     "metadata": {},
     "output_type": "display_data"
    },
    {
     "name": "stdout",
     "output_type": "stream",
     "text": [
      "Learning rate:  7.776e-05\n",
      "Loss = tensor(1.3267, device='cuda:0', grad_fn=<NllLoss2DBackward>)\n",
      "Loss = tensor(1.3247, device='cuda:0', grad_fn=<NllLoss2DBackward>)\n",
      "EPOCH:  151\n"
     ]
    },
    {
     "data": {
      "image/png": "[encoded data removed]",
      "text/plain": [
       "<PIL.Image.Image image mode=RGB size=60x60 at 0x7F63200A4820>"
      ]
     },
     "metadata": {},
     "output_type": "display_data"
    },
    {
     "name": "stdout",
     "output_type": "stream",
     "text": [
      "Learning rate:  7.776e-05\n",
      "Loss = tensor(1.3135, device='cuda:0', grad_fn=<NllLoss2DBackward>)\n",
      "Loss = tensor(1.3814, device='cuda:0', grad_fn=<NllLoss2DBackward>)\n",
      "Loss = tensor(1.3394, device='cuda:0', grad_fn=<NllLoss2DBackward>)\n",
      "Loss = tensor(1.3331, device='cuda:0', grad_fn=<NllLoss2DBackward>)\n",
      "Loss = tensor(1.3233, device='cuda:0', grad_fn=<NllLoss2DBackward>)\n",
      "EPOCH:  151\n"
     ]
    },
    {
     "data": {
      "image/png": "[encoded data removed]",
      "text/plain": [
       "<PIL.Image.Image image mode=RGB size=60x60 at 0x7F63200A4640>"
      ]
     },
     "metadata": {},
     "output_type": "display_data"
    },
    {
     "name": "stdout",
     "output_type": "stream",
     "text": [
      "Learning rate:  7.776e-05\n",
      "Loss = tensor(1.3646, device='cuda:0', grad_fn=<NllLoss2DBackward>)\n",
      "Loss = tensor(1.3435, device='cuda:0', grad_fn=<NllLoss2DBackward>)\n",
      "Loss = tensor(1.3271, device='cuda:0', grad_fn=<NllLoss2DBackward>)\n",
      "Loss = tensor(1.3055, device='cuda:0', grad_fn=<NllLoss2DBackward>)\n",
      "Loss = tensor(1.3299, device='cuda:0', grad_fn=<NllLoss2DBackward>)\n",
      "EPOCH:  151\n"
     ]
    },
    {
     "data": {
      "image/png": "[encoded data removed]",
      "text/plain": [
       "<PIL.Image.Image image mode=RGB size=60x60 at 0x7F63200A4670>"
      ]
     },
     "metadata": {},
     "output_type": "display_data"
    },
    {
     "name": "stdout",
     "output_type": "stream",
     "text": [
      "Learning rate:  7.776e-05\n",
      "Loss = tensor(1.3309, device='cuda:0', grad_fn=<NllLoss2DBackward>)\n",
      "Loss = tensor(1.3543, device='cuda:0', grad_fn=<NllLoss2DBackward>)\n",
      "EPOCH:  152\n"
     ]
    },
    {
     "data": {
      "image/png": "[encoded data removed]",
      "text/plain": [
       "<PIL.Image.Image image mode=RGB size=60x60 at 0x7F63200A4340>"
      ]
     },
     "metadata": {},
     "output_type": "display_data"
    },
    {
     "name": "stdout",
     "output_type": "stream",
     "text": [
      "Learning rate:  7.776e-05\n",
      "Loss = tensor(1.3386, device='cuda:0', grad_fn=<NllLoss2DBackward>)\n",
      "Loss = tensor(1.3573, device='cuda:0', grad_fn=<NllLoss2DBackward>)\n",
      "Loss = tensor(1.3444, device='cuda:0', grad_fn=<NllLoss2DBackward>)\n",
      "Loss = tensor(1.2931, device='cuda:0', grad_fn=<NllLoss2DBackward>)\n",
      "Loss = tensor(1.3161, device='cuda:0', grad_fn=<NllLoss2DBackward>)\n",
      "EPOCH:  152\n"
     ]
    },
    {
     "data": {
      "image/png": "[encoded data removed]",
      "text/plain": [
       "<PIL.Image.Image image mode=RGB size=60x60 at 0x7F63200A4490>"
      ]
     },
     "metadata": {},
     "output_type": "display_data"
    },
    {
     "name": "stdout",
     "output_type": "stream",
     "text": [
      "Learning rate:  7.776e-05\n",
      "Loss = tensor(1.3115, device='cuda:0', grad_fn=<NllLoss2DBackward>)\n",
      "Loss = tensor(1.3550, device='cuda:0', grad_fn=<NllLoss2DBackward>)\n",
      "Loss = tensor(1.3302, device='cuda:0', grad_fn=<NllLoss2DBackward>)\n",
      "Loss = tensor(1.3326, device='cuda:0', grad_fn=<NllLoss2DBackward>)\n",
      "Loss = tensor(1.3216, device='cuda:0', grad_fn=<NllLoss2DBackward>)\n",
      "EPOCH:  152\n"
     ]
    },
    {
     "data": {
      "image/png": "[encoded data removed]",
      "text/plain": [
       "<PIL.Image.Image image mode=RGB size=60x60 at 0x7F63200A4940>"
      ]
     },
     "metadata": {},
     "output_type": "display_data"
    },
    {
     "name": "stdout",
     "output_type": "stream",
     "text": [
      "Learning rate:  7.776e-05\n",
      "Loss = tensor(1.3473, device='cuda:0', grad_fn=<NllLoss2DBackward>)\n",
      "Loss = tensor(1.3192, device='cuda:0', grad_fn=<NllLoss2DBackward>)\n",
      "EPOCH:  153\n"
     ]
    },
    {
     "data": {
      "image/png": "[encoded data removed]",
      "text/plain": [
       "<PIL.Image.Image image mode=RGB size=60x60 at 0x7F63200A4670>"
      ]
     },
     "metadata": {},
     "output_type": "display_data"
    },
    {
     "name": "stdout",
     "output_type": "stream",
     "text": [
      "Learning rate:  7.776e-05\n",
      "Loss = tensor(1.3246, device='cuda:0', grad_fn=<NllLoss2DBackward>)\n",
      "Loss = tensor(1.3608, device='cuda:0', grad_fn=<NllLoss2DBackward>)\n",
      "Loss = tensor(1.3198, device='cuda:0', grad_fn=<NllLoss2DBackward>)\n",
      "Loss = tensor(1.3061, device='cuda:0', grad_fn=<NllLoss2DBackward>)\n",
      "Loss = tensor(1.3696, device='cuda:0', grad_fn=<NllLoss2DBackward>)\n",
      "EPOCH:  153\n"
     ]
    },
    {
     "data": {
      "image/png": "[encoded data removed]",
      "text/plain": [
       "<PIL.Image.Image image mode=RGB size=60x60 at 0x7F63200A4340>"
      ]
     },
     "metadata": {},
     "output_type": "display_data"
    },
    {
     "name": "stdout",
     "output_type": "stream",
     "text": [
      "Learning rate:  7.776e-05\n",
      "Loss = tensor(1.3322, device='cuda:0', grad_fn=<NllLoss2DBackward>)\n",
      "Loss = tensor(1.3472, device='cuda:0', grad_fn=<NllLoss2DBackward>)\n",
      "Loss = tensor(1.3203, device='cuda:0', grad_fn=<NllLoss2DBackward>)\n",
      "Loss = tensor(1.3402, device='cuda:0', grad_fn=<NllLoss2DBackward>)\n",
      "Loss = tensor(1.3329, device='cuda:0', grad_fn=<NllLoss2DBackward>)\n",
      "EPOCH:  153\n"
     ]
    },
    {
     "data": {
      "image/png": "[encoded data removed]",
      "text/plain": [
       "<PIL.Image.Image image mode=RGB size=60x60 at 0x7F63200A4910>"
      ]
     },
     "metadata": {},
     "output_type": "display_data"
    },
    {
     "name": "stdout",
     "output_type": "stream",
     "text": [
      "Learning rate:  7.776e-05\n",
      "Loss = tensor(1.3341, device='cuda:0', grad_fn=<NllLoss2DBackward>)\n",
      "Loss = tensor(1.3677, device='cuda:0', grad_fn=<NllLoss2DBackward>)\n",
      "EPOCH:  154\n"
     ]
    },
    {
     "data": {
      "image/png": "[encoded data removed]",
      "text/plain": [
       "<PIL.Image.Image image mode=RGB size=60x60 at 0x7F63200A4520>"
      ]
     },
     "metadata": {},
     "output_type": "display_data"
    },
    {
     "name": "stdout",
     "output_type": "stream",
     "text": [
      "Learning rate:  7.776e-05\n",
      "Loss = tensor(1.3411, device='cuda:0', grad_fn=<NllLoss2DBackward>)\n",
      "Loss = tensor(1.3522, device='cuda:0', grad_fn=<NllLoss2DBackward>)\n",
      "Loss = tensor(1.3207, device='cuda:0', grad_fn=<NllLoss2DBackward>)\n",
      "Loss = tensor(1.3353, device='cuda:0', grad_fn=<NllLoss2DBackward>)\n",
      "Loss = tensor(1.3214, device='cuda:0', grad_fn=<NllLoss2DBackward>)\n",
      "EPOCH:  154\n"
     ]
    },
    {
     "data": {
      "image/png": "[encoded data removed]",
      "text/plain": [
       "<PIL.Image.Image image mode=RGB size=60x60 at 0x7F63200A4520>"
      ]
     },
     "metadata": {},
     "output_type": "display_data"
    },
    {
     "name": "stdout",
     "output_type": "stream",
     "text": [
      "Learning rate:  7.776e-05\n",
      "Loss = tensor(1.3133, device='cuda:0', grad_fn=<NllLoss2DBackward>)\n",
      "Loss = tensor(1.3313, device='cuda:0', grad_fn=<NllLoss2DBackward>)\n",
      "Loss = tensor(1.2946, device='cuda:0', grad_fn=<NllLoss2DBackward>)\n",
      "Loss = tensor(1.3392, device='cuda:0', grad_fn=<NllLoss2DBackward>)\n",
      "Loss = tensor(1.3706, device='cuda:0', grad_fn=<NllLoss2DBackward>)\n",
      "EPOCH:  154\n"
     ]
    },
    {
     "data": {
      "image/png": "[encoded data removed]",
      "text/plain": [
       "<PIL.Image.Image image mode=RGB size=60x60 at 0x7F63200A4370>"
      ]
     },
     "metadata": {},
     "output_type": "display_data"
    },
    {
     "name": "stdout",
     "output_type": "stream",
     "text": [
      "Learning rate:  7.776e-05\n",
      "Loss = tensor(1.3166, device='cuda:0', grad_fn=<NllLoss2DBackward>)\n",
      "Loss = tensor(1.3535, device='cuda:0', grad_fn=<NllLoss2DBackward>)\n",
      "EPOCH:  155\n"
     ]
    },
    {
     "data": {
      "image/png": "[encoded data removed]",
      "text/plain": [
       "<PIL.Image.Image image mode=RGB size=60x60 at 0x7F63200A46A0>"
      ]
     },
     "metadata": {},
     "output_type": "display_data"
    },
    {
     "name": "stdout",
     "output_type": "stream",
     "text": [
      "Learning rate:  7.776e-05\n",
      "Loss = tensor(1.3206, device='cuda:0', grad_fn=<NllLoss2DBackward>)\n",
      "Loss = tensor(1.3893, device='cuda:0', grad_fn=<NllLoss2DBackward>)\n",
      "Loss = tensor(1.3266, device='cuda:0', grad_fn=<NllLoss2DBackward>)\n",
      "Loss = tensor(1.3643, device='cuda:0', grad_fn=<NllLoss2DBackward>)\n",
      "Loss = tensor(1.3026, device='cuda:0', grad_fn=<NllLoss2DBackward>)\n",
      "EPOCH:  155\n"
     ]
    },
    {
     "data": {
      "image/png": "[encoded data removed]",
      "text/plain": [
       "<PIL.Image.Image image mode=RGB size=60x60 at 0x7F63200A4850>"
      ]
     },
     "metadata": {},
     "output_type": "display_data"
    },
    {
     "name": "stdout",
     "output_type": "stream",
     "text": [
      "Learning rate:  7.776e-05\n",
      "Loss = tensor(1.3131, device='cuda:0', grad_fn=<NllLoss2DBackward>)\n",
      "Loss = tensor(1.3367, device='cuda:0', grad_fn=<NllLoss2DBackward>)\n",
      "Loss = tensor(1.3355, device='cuda:0', grad_fn=<NllLoss2DBackward>)\n",
      "Loss = tensor(1.3311, device='cuda:0', grad_fn=<NllLoss2DBackward>)\n",
      "Loss = tensor(1.3390, device='cuda:0', grad_fn=<NllLoss2DBackward>)\n",
      "EPOCH:  155\n"
     ]
    },
    {
     "data": {
      "image/png": "[encoded data removed]",
      "text/plain": [
       "<PIL.Image.Image image mode=RGB size=60x60 at 0x7F63200A4910>"
      ]
     },
     "metadata": {},
     "output_type": "display_data"
    },
    {
     "name": "stdout",
     "output_type": "stream",
     "text": [
      "Learning rate:  7.776e-05\n",
      "Loss = tensor(1.2870, device='cuda:0', grad_fn=<NllLoss2DBackward>)\n",
      "Loss = tensor(1.3537, device='cuda:0', grad_fn=<NllLoss2DBackward>)\n",
      "EPOCH:  156\n"
     ]
    },
    {
     "data": {
      "image/png": "[encoded data removed]",
      "text/plain": [
       "<PIL.Image.Image image mode=RGB size=60x60 at 0x7F63200A46A0>"
      ]
     },
     "metadata": {},
     "output_type": "display_data"
    },
    {
     "name": "stdout",
     "output_type": "stream",
     "text": [
      "Learning rate:  7.776e-05\n",
      "Loss = tensor(1.3478, device='cuda:0', grad_fn=<NllLoss2DBackward>)\n",
      "Loss = tensor(1.3374, device='cuda:0', grad_fn=<NllLoss2DBackward>)\n",
      "Loss = tensor(1.3326, device='cuda:0', grad_fn=<NllLoss2DBackward>)\n",
      "Loss = tensor(1.3322, device='cuda:0', grad_fn=<NllLoss2DBackward>)\n",
      "Loss = tensor(1.3186, device='cuda:0', grad_fn=<NllLoss2DBackward>)\n",
      "EPOCH:  156\n"
     ]
    },
    {
     "data": {
      "image/png": "[encoded data removed]",
      "text/plain": [
       "<PIL.Image.Image image mode=RGB size=60x60 at 0x7F63200A4790>"
      ]
     },
     "metadata": {},
     "output_type": "display_data"
    },
    {
     "name": "stdout",
     "output_type": "stream",
     "text": [
      "Learning rate:  7.776e-05\n",
      "Loss = tensor(1.3151, device='cuda:0', grad_fn=<NllLoss2DBackward>)\n",
      "Loss = tensor(1.3116, device='cuda:0', grad_fn=<NllLoss2DBackward>)\n",
      "Loss = tensor(1.3278, device='cuda:0', grad_fn=<NllLoss2DBackward>)\n",
      "Loss = tensor(1.3366, device='cuda:0', grad_fn=<NllLoss2DBackward>)\n",
      "Loss = tensor(1.3402, device='cuda:0', grad_fn=<NllLoss2DBackward>)\n",
      "EPOCH:  156\n"
     ]
    },
    {
     "data": {
      "image/png": "[encoded data removed]",
      "text/plain": [
       "<PIL.Image.Image image mode=RGB size=60x60 at 0x7F63200A46A0>"
      ]
     },
     "metadata": {},
     "output_type": "display_data"
    },
    {
     "name": "stdout",
     "output_type": "stream",
     "text": [
      "Learning rate:  7.776e-05\n",
      "Loss = tensor(1.3587, device='cuda:0', grad_fn=<NllLoss2DBackward>)\n",
      "Loss = tensor(1.3204, device='cuda:0', grad_fn=<NllLoss2DBackward>)\n",
      "EPOCH:  157\n"
     ]
    },
    {
     "data": {
      "image/png": "[encoded data removed]",
      "text/plain": [
       "<PIL.Image.Image image mode=RGB size=60x60 at 0x7F63200A4790>"
      ]
     },
     "metadata": {},
     "output_type": "display_data"
    },
    {
     "name": "stdout",
     "output_type": "stream",
     "text": [
      "Learning rate:  7.776e-05\n",
      "Loss = tensor(1.3367, device='cuda:0', grad_fn=<NllLoss2DBackward>)\n",
      "Loss = tensor(1.3554, device='cuda:0', grad_fn=<NllLoss2DBackward>)\n",
      "Loss = tensor(1.3145, device='cuda:0', grad_fn=<NllLoss2DBackward>)\n",
      "Loss = tensor(1.3416, device='cuda:0', grad_fn=<NllLoss2DBackward>)\n",
      "Loss = tensor(1.3393, device='cuda:0', grad_fn=<NllLoss2DBackward>)\n",
      "EPOCH:  157\n"
     ]
    },
    {
     "data": {
      "image/png": "[encoded data removed]",
      "text/plain": [
       "<PIL.Image.Image image mode=RGB size=60x60 at 0x7F63200A4550>"
      ]
     },
     "metadata": {},
     "output_type": "display_data"
    },
    {
     "name": "stdout",
     "output_type": "stream",
     "text": [
      "Learning rate:  7.776e-05\n",
      "Loss = tensor(1.3100, device='cuda:0', grad_fn=<NllLoss2DBackward>)\n",
      "Loss = tensor(1.3363, device='cuda:0', grad_fn=<NllLoss2DBackward>)\n",
      "Loss = tensor(1.3397, device='cuda:0', grad_fn=<NllLoss2DBackward>)\n",
      "Loss = tensor(1.3476, device='cuda:0', grad_fn=<NllLoss2DBackward>)\n",
      "Loss = tensor(1.3557, device='cuda:0', grad_fn=<NllLoss2DBackward>)\n",
      "EPOCH:  157\n"
     ]
    },
    {
     "data": {
      "image/png": "[encoded data removed]",
      "text/plain": [
       "<PIL.Image.Image image mode=RGB size=60x60 at 0x7F63200A4790>"
      ]
     },
     "metadata": {},
     "output_type": "display_data"
    },
    {
     "name": "stdout",
     "output_type": "stream",
     "text": [
      "Learning rate:  7.776e-05\n",
      "Loss = tensor(1.3079, device='cuda:0', grad_fn=<NllLoss2DBackward>)\n",
      "Loss = tensor(1.3295, device='cuda:0', grad_fn=<NllLoss2DBackward>)\n",
      "EPOCH:  158\n"
     ]
    },
    {
     "data": {
      "image/png": "[encoded data removed]",
      "text/plain": [
       "<PIL.Image.Image image mode=RGB size=60x60 at 0x7F63200A4640>"
      ]
     },
     "metadata": {},
     "output_type": "display_data"
    },
    {
     "name": "stdout",
     "output_type": "stream",
     "text": [
      "Learning rate:  7.776e-05\n",
      "Loss = tensor(1.3265, device='cuda:0', grad_fn=<NllLoss2DBackward>)\n",
      "Loss = tensor(1.3435, device='cuda:0', grad_fn=<NllLoss2DBackward>)\n",
      "Loss = tensor(1.3477, device='cuda:0', grad_fn=<NllLoss2DBackward>)\n",
      "Loss = tensor(1.3132, device='cuda:0', grad_fn=<NllLoss2DBackward>)\n",
      "Loss = tensor(1.3428, device='cuda:0', grad_fn=<NllLoss2DBackward>)\n",
      "EPOCH:  158\n"
     ]
    },
    {
     "data": {
      "image/png": "[encoded data removed]",
      "text/plain": [
       "<PIL.Image.Image image mode=RGB size=60x60 at 0x7F63200A4580>"
      ]
     },
     "metadata": {},
     "output_type": "display_data"
    },
    {
     "name": "stdout",
     "output_type": "stream",
     "text": [
      "Learning rate:  7.776e-05\n",
      "Loss = tensor(1.3247, device='cuda:0', grad_fn=<NllLoss2DBackward>)\n",
      "Loss = tensor(1.3475, device='cuda:0', grad_fn=<NllLoss2DBackward>)\n",
      "Loss = tensor(1.3410, device='cuda:0', grad_fn=<NllLoss2DBackward>)\n",
      "Loss = tensor(1.3302, device='cuda:0', grad_fn=<NllLoss2DBackward>)\n",
      "Loss = tensor(1.3486, device='cuda:0', grad_fn=<NllLoss2DBackward>)\n",
      "EPOCH:  158\n"
     ]
    },
    {
     "data": {
      "image/png": "[encoded data removed]",
      "text/plain": [
       "<PIL.Image.Image image mode=RGB size=60x60 at 0x7F63200A4340>"
      ]
     },
     "metadata": {},
     "output_type": "display_data"
    },
    {
     "name": "stdout",
     "output_type": "stream",
     "text": [
      "Learning rate:  7.776e-05\n",
      "Loss = tensor(1.3096, device='cuda:0', grad_fn=<NllLoss2DBackward>)\n",
      "Loss = tensor(1.3226, device='cuda:0', grad_fn=<NllLoss2DBackward>)\n",
      "EPOCH:  159\n"
     ]
    },
    {
     "data": {
      "image/png": "[encoded data removed]",
      "text/plain": [
       "<PIL.Image.Image image mode=RGB size=60x60 at 0x7F63200A4550>"
      ]
     },
     "metadata": {},
     "output_type": "display_data"
    },
    {
     "name": "stdout",
     "output_type": "stream",
     "text": [
      "Learning rate:  7.776e-05\n",
      "Loss = tensor(1.3416, device='cuda:0', grad_fn=<NllLoss2DBackward>)\n",
      "Loss = tensor(1.3797, device='cuda:0', grad_fn=<NllLoss2DBackward>)\n",
      "Loss = tensor(1.3044, device='cuda:0', grad_fn=<NllLoss2DBackward>)\n",
      "Loss = tensor(1.3119, device='cuda:0', grad_fn=<NllLoss2DBackward>)\n",
      "Loss = tensor(1.3303, device='cuda:0', grad_fn=<NllLoss2DBackward>)\n",
      "EPOCH:  159\n"
     ]
    },
    {
     "data": {
      "image/png": "[encoded data removed]",
      "text/plain": [
       "<PIL.Image.Image image mode=RGB size=60x60 at 0x7F63200A4370>"
      ]
     },
     "metadata": {},
     "output_type": "display_data"
    },
    {
     "name": "stdout",
     "output_type": "stream",
     "text": [
      "Learning rate:  7.776e-05\n",
      "Loss = tensor(1.3476, device='cuda:0', grad_fn=<NllLoss2DBackward>)\n",
      "Loss = tensor(1.3368, device='cuda:0', grad_fn=<NllLoss2DBackward>)\n",
      "Loss = tensor(1.3471, device='cuda:0', grad_fn=<NllLoss2DBackward>)\n",
      "Loss = tensor(1.3148, device='cuda:0', grad_fn=<NllLoss2DBackward>)\n",
      "Loss = tensor(1.3312, device='cuda:0', grad_fn=<NllLoss2DBackward>)\n",
      "EPOCH:  159\n"
     ]
    },
    {
     "data": {
      "image/png": "[encoded data removed]",
      "text/plain": [
       "<PIL.Image.Image image mode=RGB size=60x60 at 0x7F63200A45B0>"
      ]
     },
     "metadata": {},
     "output_type": "display_data"
    },
    {
     "name": "stdout",
     "output_type": "stream",
     "text": [
      "Learning rate:  7.776e-05\n",
      "Loss = tensor(1.3300, device='cuda:0', grad_fn=<NllLoss2DBackward>)\n",
      "Loss = tensor(1.3155, device='cuda:0', grad_fn=<NllLoss2DBackward>)\n",
      "EPOCH:  160\n"
     ]
    },
    {
     "data": {
      "image/png": "[encoded data removed]",
      "text/plain": [
       "<PIL.Image.Image image mode=RGB size=60x60 at 0x7F63200A45B0>"
      ]
     },
     "metadata": {},
     "output_type": "display_data"
    },
    {
     "name": "stdout",
     "output_type": "stream",
     "text": [
      "Learning rate:  7.776e-05\n",
      "Loss = tensor(1.3217, device='cuda:0', grad_fn=<NllLoss2DBackward>)\n",
      "Loss = tensor(1.3619, device='cuda:0', grad_fn=<NllLoss2DBackward>)\n",
      "Loss = tensor(1.3121, device='cuda:0', grad_fn=<NllLoss2DBackward>)\n",
      "Loss = tensor(1.3907, device='cuda:0', grad_fn=<NllLoss2DBackward>)\n",
      "Loss = tensor(1.3373, device='cuda:0', grad_fn=<NllLoss2DBackward>)\n",
      "EPOCH:  160\n"
     ]
    },
    {
     "data": {
      "image/png": "[encoded data removed]",
      "text/plain": [
       "<PIL.Image.Image image mode=RGB size=60x60 at 0x7F63200A4790>"
      ]
     },
     "metadata": {},
     "output_type": "display_data"
    },
    {
     "name": "stdout",
     "output_type": "stream",
     "text": [
      "Learning rate:  7.776e-05\n",
      "Loss = tensor(1.2898, device='cuda:0', grad_fn=<NllLoss2DBackward>)\n",
      "Loss = tensor(1.3634, device='cuda:0', grad_fn=<NllLoss2DBackward>)\n",
      "Loss = tensor(1.3269, device='cuda:0', grad_fn=<NllLoss2DBackward>)\n",
      "Loss = tensor(1.3399, device='cuda:0', grad_fn=<NllLoss2DBackward>)\n",
      "Loss = tensor(1.3225, device='cuda:0', grad_fn=<NllLoss2DBackward>)\n",
      "EPOCH:  160\n"
     ]
    },
    {
     "data": {
      "image/png": "[encoded data removed]",
      "text/plain": [
       "<PIL.Image.Image image mode=RGB size=60x60 at 0x7F63200A4790>"
      ]
     },
     "metadata": {},
     "output_type": "display_data"
    },
    {
     "name": "stdout",
     "output_type": "stream",
     "text": [
      "Learning rate:  7.776e-05\n",
      "Loss = tensor(1.3122, device='cuda:0', grad_fn=<NllLoss2DBackward>)\n",
      "Loss = tensor(1.3271, device='cuda:0', grad_fn=<NllLoss2DBackward>)\n",
      "EPOCH:  161\n"
     ]
    },
    {
     "data": {
      "image/png": "[encoded data removed]",
      "text/plain": [
       "<PIL.Image.Image image mode=RGB size=60x60 at 0x7F63200A46D0>"
      ]
     },
     "metadata": {},
     "output_type": "display_data"
    },
    {
     "name": "stdout",
     "output_type": "stream",
     "text": [
      "Learning rate:  7.776e-05\n",
      "Loss = tensor(1.3277, device='cuda:0', grad_fn=<NllLoss2DBackward>)\n",
      "Loss = tensor(1.3198, device='cuda:0', grad_fn=<NllLoss2DBackward>)\n",
      "Loss = tensor(1.3252, device='cuda:0', grad_fn=<NllLoss2DBackward>)\n",
      "Loss = tensor(1.3457, device='cuda:0', grad_fn=<NllLoss2DBackward>)\n",
      "Loss = tensor(1.3559, device='cuda:0', grad_fn=<NllLoss2DBackward>)\n",
      "EPOCH:  161\n"
     ]
    },
    {
     "data": {
      "image/png": "[encoded data removed]",
      "text/plain": [
       "<PIL.Image.Image image mode=RGB size=60x60 at 0x7F63200A4340>"
      ]
     },
     "metadata": {},
     "output_type": "display_data"
    },
    {
     "name": "stdout",
     "output_type": "stream",
     "text": [
      "Learning rate:  7.776e-05\n",
      "Loss = tensor(1.3025, device='cuda:0', grad_fn=<NllLoss2DBackward>)\n",
      "Loss = tensor(1.3410, device='cuda:0', grad_fn=<NllLoss2DBackward>)\n",
      "Loss = tensor(1.3004, device='cuda:0', grad_fn=<NllLoss2DBackward>)\n",
      "Loss = tensor(1.3604, device='cuda:0', grad_fn=<NllLoss2DBackward>)\n",
      "Loss = tensor(1.3399, device='cuda:0', grad_fn=<NllLoss2DBackward>)\n",
      "EPOCH:  161\n"
     ]
    },
    {
     "data": {
      "image/png": "[encoded data removed]",
      "text/plain": [
       "<PIL.Image.Image image mode=RGB size=60x60 at 0x7F63200A4340>"
      ]
     },
     "metadata": {},
     "output_type": "display_data"
    },
    {
     "name": "stdout",
     "output_type": "stream",
     "text": [
      "Learning rate:  7.776e-05\n",
      "Loss = tensor(1.3528, device='cuda:0', grad_fn=<NllLoss2DBackward>)\n",
      "Loss = tensor(1.3628, device='cuda:0', grad_fn=<NllLoss2DBackward>)\n",
      "EPOCH:  162\n"
     ]
    },
    {
     "data": {
      "image/png": "[encoded data removed]",
      "text/plain": [
       "<PIL.Image.Image image mode=RGB size=60x60 at 0x7F63200A46D0>"
      ]
     },
     "metadata": {},
     "output_type": "display_data"
    },
    {
     "name": "stdout",
     "output_type": "stream",
     "text": [
      "Learning rate:  7.776e-05\n",
      "Loss = tensor(1.3051, device='cuda:0', grad_fn=<NllLoss2DBackward>)\n",
      "Loss = tensor(1.3234, device='cuda:0', grad_fn=<NllLoss2DBackward>)\n",
      "Loss = tensor(1.3120, device='cuda:0', grad_fn=<NllLoss2DBackward>)\n",
      "Loss = tensor(1.3239, device='cuda:0', grad_fn=<NllLoss2DBackward>)\n",
      "Loss = tensor(1.3344, device='cuda:0', grad_fn=<NllLoss2DBackward>)\n",
      "EPOCH:  162\n"
     ]
    },
    {
     "data": {
      "image/png": "[encoded data removed]",
      "text/plain": [
       "<PIL.Image.Image image mode=RGB size=60x60 at 0x7F63200A4580>"
      ]
     },
     "metadata": {},
     "output_type": "display_data"
    },
    {
     "name": "stdout",
     "output_type": "stream",
     "text": [
      "Learning rate:  7.776e-05\n",
      "Loss = tensor(1.3130, device='cuda:0', grad_fn=<NllLoss2DBackward>)\n",
      "Loss = tensor(1.3577, device='cuda:0', grad_fn=<NllLoss2DBackward>)\n",
      "Loss = tensor(1.3065, device='cuda:0', grad_fn=<NllLoss2DBackward>)\n",
      "Loss = tensor(1.3794, device='cuda:0', grad_fn=<NllLoss2DBackward>)\n",
      "Loss = tensor(1.3504, device='cuda:0', grad_fn=<NllLoss2DBackward>)\n",
      "EPOCH:  162\n"
     ]
    },
    {
     "data": {
      "image/png": "[encoded data removed]",
      "text/plain": [
       "<PIL.Image.Image image mode=RGB size=60x60 at 0x7F63200A4490>"
      ]
     },
     "metadata": {},
     "output_type": "display_data"
    },
    {
     "name": "stdout",
     "output_type": "stream",
     "text": [
      "Learning rate:  7.776e-05\n",
      "Loss = tensor(1.3297, device='cuda:0', grad_fn=<NllLoss2DBackward>)\n",
      "Loss = tensor(1.3397, device='cuda:0', grad_fn=<NllLoss2DBackward>)\n",
      "EPOCH:  163\n"
     ]
    },
    {
     "data": {
      "image/png": "[encoded data removed]",
      "text/plain": [
       "<PIL.Image.Image image mode=RGB size=60x60 at 0x7F63200A4550>"
      ]
     },
     "metadata": {},
     "output_type": "display_data"
    },
    {
     "name": "stdout",
     "output_type": "stream",
     "text": [
      "Learning rate:  7.776e-05\n",
      "Loss = tensor(1.3704, device='cuda:0', grad_fn=<NllLoss2DBackward>)\n",
      "Loss = tensor(1.3131, device='cuda:0', grad_fn=<NllLoss2DBackward>)\n",
      "Loss = tensor(1.3414, device='cuda:0', grad_fn=<NllLoss2DBackward>)\n",
      "Loss = tensor(1.3278, device='cuda:0', grad_fn=<NllLoss2DBackward>)\n",
      "Loss = tensor(1.3036, device='cuda:0', grad_fn=<NllLoss2DBackward>)\n",
      "EPOCH:  163\n"
     ]
    },
    {
     "data": {
      "image/png": "[encoded data removed]",
      "text/plain": [
       "<PIL.Image.Image image mode=RGB size=60x60 at 0x7F63200A4580>"
      ]
     },
     "metadata": {},
     "output_type": "display_data"
    },
    {
     "name": "stdout",
     "output_type": "stream",
     "text": [
      "Learning rate:  7.776e-05\n",
      "Loss = tensor(1.3028, device='cuda:0', grad_fn=<NllLoss2DBackward>)\n",
      "Loss = tensor(1.3253, device='cuda:0', grad_fn=<NllLoss2DBackward>)\n",
      "Loss = tensor(1.3324, device='cuda:0', grad_fn=<NllLoss2DBackward>)\n",
      "Loss = tensor(1.3652, device='cuda:0', grad_fn=<NllLoss2DBackward>)\n",
      "Loss = tensor(1.3514, device='cuda:0', grad_fn=<NllLoss2DBackward>)\n",
      "EPOCH:  163\n"
     ]
    },
    {
     "data": {
      "image/png": "[encoded data removed]",
      "text/plain": [
       "<PIL.Image.Image image mode=RGB size=60x60 at 0x7F63200A4580>"
      ]
     },
     "metadata": {},
     "output_type": "display_data"
    },
    {
     "name": "stdout",
     "output_type": "stream",
     "text": [
      "Learning rate:  7.776e-05\n",
      "Loss = tensor(1.3210, device='cuda:0', grad_fn=<NllLoss2DBackward>)\n",
      "Loss = tensor(1.3116, device='cuda:0', grad_fn=<NllLoss2DBackward>)\n",
      "EPOCH:  164\n"
     ]
    },
    {
     "data": {
      "image/png": "[encoded data removed]",
      "text/plain": [
       "<PIL.Image.Image image mode=RGB size=60x60 at 0x7F63200A4490>"
      ]
     },
     "metadata": {},
     "output_type": "display_data"
    },
    {
     "name": "stdout",
     "output_type": "stream",
     "text": [
      "Learning rate:  7.776e-05\n",
      "Loss = tensor(1.3566, device='cuda:0', grad_fn=<NllLoss2DBackward>)\n",
      "Loss = tensor(1.3178, device='cuda:0', grad_fn=<NllLoss2DBackward>)\n",
      "Loss = tensor(1.3619, device='cuda:0', grad_fn=<NllLoss2DBackward>)\n",
      "Loss = tensor(1.3155, device='cuda:0', grad_fn=<NllLoss2DBackward>)\n",
      "Loss = tensor(1.3465, device='cuda:0', grad_fn=<NllLoss2DBackward>)\n",
      "EPOCH:  164\n"
     ]
    },
    {
     "data": {
      "image/png": "[encoded data removed]",
      "text/plain": [
       "<PIL.Image.Image image mode=RGB size=60x60 at 0x7F63200A4850>"
      ]
     },
     "metadata": {},
     "output_type": "display_data"
    },
    {
     "name": "stdout",
     "output_type": "stream",
     "text": [
      "Learning rate:  7.776e-05\n",
      "Loss = tensor(1.3322, device='cuda:0', grad_fn=<NllLoss2DBackward>)\n",
      "Loss = tensor(1.3362, device='cuda:0', grad_fn=<NllLoss2DBackward>)\n",
      "Loss = tensor(1.3318, device='cuda:0', grad_fn=<NllLoss2DBackward>)\n",
      "Loss = tensor(1.3371, device='cuda:0', grad_fn=<NllLoss2DBackward>)\n",
      "Loss = tensor(1.3552, device='cuda:0', grad_fn=<NllLoss2DBackward>)\n",
      "EPOCH:  164\n"
     ]
    },
    {
     "data": {
      "image/png": "[encoded data removed]",
      "text/plain": [
       "<PIL.Image.Image image mode=RGB size=60x60 at 0x7F63200A4370>"
      ]
     },
     "metadata": {},
     "output_type": "display_data"
    },
    {
     "name": "stdout",
     "output_type": "stream",
     "text": [
      "Learning rate:  7.776e-05\n",
      "Loss = tensor(1.2899, device='cuda:0', grad_fn=<NllLoss2DBackward>)\n",
      "Loss = tensor(1.3399, device='cuda:0', grad_fn=<NllLoss2DBackward>)\n",
      "EPOCH:  165\n"
     ]
    },
    {
     "data": {
      "image/png": "[encoded data removed]",
      "text/plain": [
       "<PIL.Image.Image image mode=RGB size=60x60 at 0x7F63200A4880>"
      ]
     },
     "metadata": {},
     "output_type": "display_data"
    },
    {
     "name": "stdout",
     "output_type": "stream",
     "text": [
      "Learning rate:  7.776e-05\n",
      "Loss = tensor(1.3319, device='cuda:0', grad_fn=<NllLoss2DBackward>)\n",
      "Loss = tensor(1.3468, device='cuda:0', grad_fn=<NllLoss2DBackward>)\n",
      "Loss = tensor(1.3533, device='cuda:0', grad_fn=<NllLoss2DBackward>)\n",
      "Loss = tensor(1.3193, device='cuda:0', grad_fn=<NllLoss2DBackward>)\n",
      "Loss = tensor(1.3021, device='cuda:0', grad_fn=<NllLoss2DBackward>)\n",
      "EPOCH:  165\n"
     ]
    },
    {
     "data": {
      "image/png": "[encoded data removed]",
      "text/plain": [
       "<PIL.Image.Image image mode=RGB size=60x60 at 0x7F63200A4340>"
      ]
     },
     "metadata": {},
     "output_type": "display_data"
    },
    {
     "name": "stdout",
     "output_type": "stream",
     "text": [
      "Learning rate:  7.776e-05\n",
      "Loss = tensor(1.3314, device='cuda:0', grad_fn=<NllLoss2DBackward>)\n",
      "Loss = tensor(1.3447, device='cuda:0', grad_fn=<NllLoss2DBackward>)\n",
      "Loss = tensor(1.3431, device='cuda:0', grad_fn=<NllLoss2DBackward>)\n",
      "Loss = tensor(1.3182, device='cuda:0', grad_fn=<NllLoss2DBackward>)\n",
      "Loss = tensor(1.3311, device='cuda:0', grad_fn=<NllLoss2DBackward>)\n",
      "EPOCH:  165\n"
     ]
    },
    {
     "data": {
      "image/png": "[encoded data removed]",
      "text/plain": [
       "<PIL.Image.Image image mode=RGB size=60x60 at 0x7F63200A4880>"
      ]
     },
     "metadata": {},
     "output_type": "display_data"
    },
    {
     "name": "stdout",
     "output_type": "stream",
     "text": [
      "Learning rate:  7.776e-05\n",
      "Loss = tensor(1.3242, device='cuda:0', grad_fn=<NllLoss2DBackward>)\n",
      "Loss = tensor(1.3612, device='cuda:0', grad_fn=<NllLoss2DBackward>)\n",
      "EPOCH:  166\n"
     ]
    },
    {
     "data": {
      "image/png": "[encoded data removed]",
      "text/plain": [
       "<PIL.Image.Image image mode=RGB size=60x60 at 0x7F63200A4490>"
      ]
     },
     "metadata": {},
     "output_type": "display_data"
    },
    {
     "name": "stdout",
     "output_type": "stream",
     "text": [
      "Learning rate:  7.776e-05\n",
      "Loss = tensor(1.3082, device='cuda:0', grad_fn=<NllLoss2DBackward>)\n",
      "Loss = tensor(1.3266, device='cuda:0', grad_fn=<NllLoss2DBackward>)\n",
      "Loss = tensor(1.3100, device='cuda:0', grad_fn=<NllLoss2DBackward>)\n",
      "Loss = tensor(1.3250, device='cuda:0', grad_fn=<NllLoss2DBackward>)\n",
      "Loss = tensor(1.3602, device='cuda:0', grad_fn=<NllLoss2DBackward>)\n",
      "EPOCH:  166\n"
     ]
    },
    {
     "data": {
      "image/png": "[encoded data removed]",
      "text/plain": [
       "<PIL.Image.Image image mode=RGB size=60x60 at 0x7F63200A4940>"
      ]
     },
     "metadata": {},
     "output_type": "display_data"
    },
    {
     "name": "stdout",
     "output_type": "stream",
     "text": [
      "Learning rate:  7.776e-05\n",
      "Loss = tensor(1.3529, device='cuda:0', grad_fn=<NllLoss2DBackward>)\n",
      "Loss = tensor(1.3006, device='cuda:0', grad_fn=<NllLoss2DBackward>)\n",
      "Loss = tensor(1.3407, device='cuda:0', grad_fn=<NllLoss2DBackward>)\n",
      "Loss = tensor(1.3352, device='cuda:0', grad_fn=<NllLoss2DBackward>)\n",
      "Loss = tensor(1.3413, device='cuda:0', grad_fn=<NllLoss2DBackward>)\n",
      "EPOCH:  166\n"
     ]
    },
    {
     "data": {
      "image/png": "[encoded data removed]",
      "text/plain": [
       "<PIL.Image.Image image mode=RGB size=60x60 at 0x7F63200A45B0>"
      ]
     },
     "metadata": {},
     "output_type": "display_data"
    },
    {
     "name": "stdout",
     "output_type": "stream",
     "text": [
      "Learning rate:  7.776e-05\n",
      "Loss = tensor(1.3248, device='cuda:0', grad_fn=<NllLoss2DBackward>)\n",
      "Loss = tensor(1.3053, device='cuda:0', grad_fn=<NllLoss2DBackward>)\n",
      "EPOCH:  167\n"
     ]
    },
    {
     "data": {
      "image/png": "[encoded data removed]",
      "text/plain": [
       "<PIL.Image.Image image mode=RGB size=60x60 at 0x7F63200A46D0>"
      ]
     },
     "metadata": {},
     "output_type": "display_data"
    },
    {
     "name": "stdout",
     "output_type": "stream",
     "text": [
      "Learning rate:  7.776e-05\n",
      "Loss = tensor(1.2987, device='cuda:0', grad_fn=<NllLoss2DBackward>)\n",
      "Loss = tensor(1.3473, device='cuda:0', grad_fn=<NllLoss2DBackward>)\n",
      "Loss = tensor(1.3373, device='cuda:0', grad_fn=<NllLoss2DBackward>)\n",
      "Loss = tensor(1.3262, device='cuda:0', grad_fn=<NllLoss2DBackward>)\n",
      "Loss = tensor(1.3544, device='cuda:0', grad_fn=<NllLoss2DBackward>)\n",
      "EPOCH:  167\n"
     ]
    },
    {
     "data": {
      "image/png": "[encoded data removed]",
      "text/plain": [
       "<PIL.Image.Image image mode=RGB size=60x60 at 0x7F63200A4730>"
      ]
     },
     "metadata": {},
     "output_type": "display_data"
    },
    {
     "name": "stdout",
     "output_type": "stream",
     "text": [
      "Learning rate:  7.776e-05\n",
      "Loss = tensor(1.3405, device='cuda:0', grad_fn=<NllLoss2DBackward>)\n",
      "Loss = tensor(1.3199, device='cuda:0', grad_fn=<NllLoss2DBackward>)\n",
      "Loss = tensor(1.3376, device='cuda:0', grad_fn=<NllLoss2DBackward>)\n",
      "Loss = tensor(1.3531, device='cuda:0', grad_fn=<NllLoss2DBackward>)\n",
      "Loss = tensor(1.3331, device='cuda:0', grad_fn=<NllLoss2DBackward>)\n",
      "EPOCH:  167\n"
     ]
    },
    {
     "data": {
      "image/png": "[encoded data removed]",
      "text/plain": [
       "<PIL.Image.Image image mode=RGB size=60x60 at 0x7F63200A4880>"
      ]
     },
     "metadata": {},
     "output_type": "display_data"
    },
    {
     "name": "stdout",
     "output_type": "stream",
     "text": [
      "Learning rate:  7.776e-05\n",
      "Loss = tensor(1.3358, device='cuda:0', grad_fn=<NllLoss2DBackward>)\n",
      "Loss = tensor(1.3048, device='cuda:0', grad_fn=<NllLoss2DBackward>)\n",
      "EPOCH:  168\n"
     ]
    },
    {
     "data": {
      "image/png": "[encoded data removed]",
      "text/plain": [
       "<PIL.Image.Image image mode=RGB size=60x60 at 0x7F63200A4850>"
      ]
     },
     "metadata": {},
     "output_type": "display_data"
    },
    {
     "name": "stdout",
     "output_type": "stream",
     "text": [
      "Learning rate:  7.776e-05\n",
      "Loss = tensor(1.3365, device='cuda:0', grad_fn=<NllLoss2DBackward>)\n",
      "Loss = tensor(1.3344, device='cuda:0', grad_fn=<NllLoss2DBackward>)\n",
      "Loss = tensor(1.3347, device='cuda:0', grad_fn=<NllLoss2DBackward>)\n",
      "Loss = tensor(1.3214, device='cuda:0', grad_fn=<NllLoss2DBackward>)\n",
      "Loss = tensor(1.3292, device='cuda:0', grad_fn=<NllLoss2DBackward>)\n",
      "EPOCH:  168\n"
     ]
    },
    {
     "data": {
      "image/png": "[encoded data removed]",
      "text/plain": [
       "<PIL.Image.Image image mode=RGB size=60x60 at 0x7F63200A4790>"
      ]
     },
     "metadata": {},
     "output_type": "display_data"
    },
    {
     "name": "stdout",
     "output_type": "stream",
     "text": [
      "Learning rate:  7.776e-05\n",
      "Loss = tensor(1.3343, device='cuda:0', grad_fn=<NllLoss2DBackward>)\n",
      "Loss = tensor(1.3189, device='cuda:0', grad_fn=<NllLoss2DBackward>)\n",
      "Loss = tensor(1.3103, device='cuda:0', grad_fn=<NllLoss2DBackward>)\n",
      "Loss = tensor(1.3730, device='cuda:0', grad_fn=<NllLoss2DBackward>)\n",
      "Loss = tensor(1.3527, device='cuda:0', grad_fn=<NllLoss2DBackward>)\n",
      "EPOCH:  168\n"
     ]
    },
    {
     "data": {
      "image/png": "[encoded data removed]",
      "text/plain": [
       "<PIL.Image.Image image mode=RGB size=60x60 at 0x7F63200A4400>"
      ]
     },
     "metadata": {},
     "output_type": "display_data"
    },
    {
     "name": "stdout",
     "output_type": "stream",
     "text": [
      "Learning rate:  7.776e-05\n",
      "Loss = tensor(1.3480, device='cuda:0', grad_fn=<NllLoss2DBackward>)\n",
      "Loss = tensor(1.3475, device='cuda:0', grad_fn=<NllLoss2DBackward>)\n",
      "EPOCH:  169\n"
     ]
    },
    {
     "data": {
      "image/png": "[encoded data removed]",
      "text/plain": [
       "<PIL.Image.Image image mode=RGB size=60x60 at 0x7F63200A4520>"
      ]
     },
     "metadata": {},
     "output_type": "display_data"
    },
    {
     "name": "stdout",
     "output_type": "stream",
     "text": [
      "Learning rate:  7.776e-05\n",
      "Loss = tensor(1.3337, device='cuda:0', grad_fn=<NllLoss2DBackward>)\n",
      "Loss = tensor(1.3222, device='cuda:0', grad_fn=<NllLoss2DBackward>)\n",
      "Loss = tensor(1.3122, device='cuda:0', grad_fn=<NllLoss2DBackward>)\n",
      "Loss = tensor(1.3240, device='cuda:0', grad_fn=<NllLoss2DBackward>)\n",
      "Loss = tensor(1.3473, device='cuda:0', grad_fn=<NllLoss2DBackward>)\n",
      "EPOCH:  169\n"
     ]
    },
    {
     "data": {
      "image/png": "[encoded data removed]",
      "text/plain": [
       "<PIL.Image.Image image mode=RGB size=60x60 at 0x7F63200A4520>"
      ]
     },
     "metadata": {},
     "output_type": "display_data"
    },
    {
     "name": "stdout",
     "output_type": "stream",
     "text": [
      "Learning rate:  7.776e-05\n",
      "Loss = tensor(1.3125, device='cuda:0', grad_fn=<NllLoss2DBackward>)\n",
      "Loss = tensor(1.3401, device='cuda:0', grad_fn=<NllLoss2DBackward>)\n",
      "Loss = tensor(1.3391, device='cuda:0', grad_fn=<NllLoss2DBackward>)\n",
      "Loss = tensor(1.3628, device='cuda:0', grad_fn=<NllLoss2DBackward>)\n",
      "Loss = tensor(1.3132, device='cuda:0', grad_fn=<NllLoss2DBackward>)\n",
      "EPOCH:  169\n"
     ]
    },
    {
     "data": {
      "image/png": "[encoded data removed]",
      "text/plain": [
       "<PIL.Image.Image image mode=RGB size=60x60 at 0x7F63200A4490>"
      ]
     },
     "metadata": {},
     "output_type": "display_data"
    },
    {
     "name": "stdout",
     "output_type": "stream",
     "text": [
      "Learning rate:  7.776e-05\n",
      "Loss = tensor(1.3287, device='cuda:0', grad_fn=<NllLoss2DBackward>)\n",
      "Loss = tensor(1.3879, device='cuda:0', grad_fn=<NllLoss2DBackward>)\n",
      "EPOCH:  170\n"
     ]
    },
    {
     "data": {
      "image/png": "[encoded data removed]",
      "text/plain": [
       "<PIL.Image.Image image mode=RGB size=60x60 at 0x7F63200A47C0>"
      ]
     },
     "metadata": {},
     "output_type": "display_data"
    },
    {
     "name": "stdout",
     "output_type": "stream",
     "text": [
      "Learning rate:  7.776e-05\n",
      "Loss = tensor(1.3278, device='cuda:0', grad_fn=<NllLoss2DBackward>)\n",
      "Loss = tensor(1.3162, device='cuda:0', grad_fn=<NllLoss2DBackward>)\n",
      "Loss = tensor(1.3379, device='cuda:0', grad_fn=<NllLoss2DBackward>)\n",
      "Loss = tensor(1.3116, device='cuda:0', grad_fn=<NllLoss2DBackward>)\n",
      "Loss = tensor(1.3085, device='cuda:0', grad_fn=<NllLoss2DBackward>)\n",
      "EPOCH:  170\n"
     ]
    },
    {
     "data": {
      "image/png": "[encoded data removed]",
      "text/plain": [
       "<PIL.Image.Image image mode=RGB size=60x60 at 0x7F63200A4940>"
      ]
     },
     "metadata": {},
     "output_type": "display_data"
    },
    {
     "name": "stdout",
     "output_type": "stream",
     "text": [
      "Learning rate:  7.776e-05\n",
      "Loss = tensor(1.3221, device='cuda:0', grad_fn=<NllLoss2DBackward>)\n",
      "Loss = tensor(1.3472, device='cuda:0', grad_fn=<NllLoss2DBackward>)\n",
      "Loss = tensor(1.3368, device='cuda:0', grad_fn=<NllLoss2DBackward>)\n",
      "Loss = tensor(1.3478, device='cuda:0', grad_fn=<NllLoss2DBackward>)\n",
      "Loss = tensor(1.3420, device='cuda:0', grad_fn=<NllLoss2DBackward>)\n",
      "EPOCH:  170\n"
     ]
    },
    {
     "data": {
      "image/png": "[encoded data removed]",
      "text/plain": [
       "<PIL.Image.Image image mode=RGB size=60x60 at 0x7F63200A4790>"
      ]
     },
     "metadata": {},
     "output_type": "display_data"
    },
    {
     "name": "stdout",
     "output_type": "stream",
     "text": [
      "Learning rate:  7.776e-05\n",
      "Loss = tensor(1.3039, device='cuda:0', grad_fn=<NllLoss2DBackward>)\n",
      "Loss = tensor(1.3214, device='cuda:0', grad_fn=<NllLoss2DBackward>)\n",
      "EPOCH:  171\n"
     ]
    },
    {
     "data": {
      "image/png": "[encoded data removed]",
      "text/plain": [
       "<PIL.Image.Image image mode=RGB size=60x60 at 0x7F63200A4970>"
      ]
     },
     "metadata": {},
     "output_type": "display_data"
    },
    {
     "name": "stdout",
     "output_type": "stream",
     "text": [
      "Learning rate:  7.776e-05\n",
      "Loss = tensor(1.3916, device='cuda:0', grad_fn=<NllLoss2DBackward>)\n",
      "Loss = tensor(1.3238, device='cuda:0', grad_fn=<NllLoss2DBackward>)\n",
      "Loss = tensor(1.3103, device='cuda:0', grad_fn=<NllLoss2DBackward>)\n",
      "Loss = tensor(1.3255, device='cuda:0', grad_fn=<NllLoss2DBackward>)\n",
      "Loss = tensor(1.3255, device='cuda:0', grad_fn=<NllLoss2DBackward>)\n",
      "EPOCH:  171\n"
     ]
    },
    {
     "data": {
      "image/png": "[encoded data removed]",
      "text/plain": [
       "<PIL.Image.Image image mode=RGB size=60x60 at 0x7F63200A47C0>"
      ]
     },
     "metadata": {},
     "output_type": "display_data"
    },
    {
     "name": "stdout",
     "output_type": "stream",
     "text": [
      "Learning rate:  7.776e-05\n",
      "Loss = tensor(1.3019, device='cuda:0', grad_fn=<NllLoss2DBackward>)\n",
      "Loss = tensor(1.3396, device='cuda:0', grad_fn=<NllLoss2DBackward>)\n",
      "Loss = tensor(1.3251, device='cuda:0', grad_fn=<NllLoss2DBackward>)\n",
      "Loss = tensor(1.3318, device='cuda:0', grad_fn=<NllLoss2DBackward>)\n",
      "Loss = tensor(1.3195, device='cuda:0', grad_fn=<NllLoss2DBackward>)\n",
      "EPOCH:  171\n"
     ]
    },
    {
     "data": {
      "image/png": "[encoded data removed]",
      "text/plain": [
       "<PIL.Image.Image image mode=RGB size=60x60 at 0x7F63200A46D0>"
      ]
     },
     "metadata": {},
     "output_type": "display_data"
    },
    {
     "name": "stdout",
     "output_type": "stream",
     "text": [
      "Learning rate:  7.776e-05\n",
      "Loss = tensor(1.3736, device='cuda:0', grad_fn=<NllLoss2DBackward>)\n",
      "Loss = tensor(1.2995, device='cuda:0', grad_fn=<NllLoss2DBackward>)\n",
      "EPOCH:  172\n"
     ]
    },
    {
     "data": {
      "image/png": "[encoded data removed]",
      "text/plain": [
       "<PIL.Image.Image image mode=RGB size=60x60 at 0x7F63200A4940>"
      ]
     },
     "metadata": {},
     "output_type": "display_data"
    },
    {
     "name": "stdout",
     "output_type": "stream",
     "text": [
      "Learning rate:  7.776e-05\n",
      "Loss = tensor(1.3540, device='cuda:0', grad_fn=<NllLoss2DBackward>)\n",
      "Loss = tensor(1.3054, device='cuda:0', grad_fn=<NllLoss2DBackward>)\n",
      "Loss = tensor(1.3272, device='cuda:0', grad_fn=<NllLoss2DBackward>)\n",
      "Loss = tensor(1.3605, device='cuda:0', grad_fn=<NllLoss2DBackward>)\n",
      "Loss = tensor(1.3238, device='cuda:0', grad_fn=<NllLoss2DBackward>)\n",
      "EPOCH:  172\n"
     ]
    },
    {
     "data": {
      "image/png": "[encoded data removed]",
      "text/plain": [
       "<PIL.Image.Image image mode=RGB size=60x60 at 0x7F63200A4400>"
      ]
     },
     "metadata": {},
     "output_type": "display_data"
    },
    {
     "name": "stdout",
     "output_type": "stream",
     "text": [
      "Learning rate:  7.776e-05\n",
      "Loss = tensor(1.3252, device='cuda:0', grad_fn=<NllLoss2DBackward>)\n",
      "Loss = tensor(1.3999, device='cuda:0', grad_fn=<NllLoss2DBackward>)\n",
      "Loss = tensor(1.3209, device='cuda:0', grad_fn=<NllLoss2DBackward>)\n",
      "Loss = tensor(1.3144, device='cuda:0', grad_fn=<NllLoss2DBackward>)\n",
      "Loss = tensor(1.3351, device='cuda:0', grad_fn=<NllLoss2DBackward>)\n",
      "EPOCH:  172\n"
     ]
    },
    {
     "data": {
      "image/png": "[encoded data removed]",
      "text/plain": [
       "<PIL.Image.Image image mode=RGB size=60x60 at 0x7F63200A4940>"
      ]
     },
     "metadata": {},
     "output_type": "display_data"
    },
    {
     "name": "stdout",
     "output_type": "stream",
     "text": [
      "Learning rate:  7.776e-05\n",
      "Loss = tensor(1.3159, device='cuda:0', grad_fn=<NllLoss2DBackward>)\n",
      "Loss = tensor(1.3077, device='cuda:0', grad_fn=<NllLoss2DBackward>)\n",
      "EPOCH:  173\n"
     ]
    },
    {
     "data": {
      "image/png": "[encoded data removed]",
      "text/plain": [
       "<PIL.Image.Image image mode=RGB size=60x60 at 0x7F63200A4880>"
      ]
     },
     "metadata": {},
     "output_type": "display_data"
    },
    {
     "name": "stdout",
     "output_type": "stream",
     "text": [
      "Learning rate:  7.776e-05\n",
      "Loss = tensor(1.3225, device='cuda:0', grad_fn=<NllLoss2DBackward>)\n",
      "Loss = tensor(1.3769, device='cuda:0', grad_fn=<NllLoss2DBackward>)\n",
      "Loss = tensor(1.3556, device='cuda:0', grad_fn=<NllLoss2DBackward>)\n",
      "Loss = tensor(1.3115, device='cuda:0', grad_fn=<NllLoss2DBackward>)\n",
      "Loss = tensor(1.3321, device='cuda:0', grad_fn=<NllLoss2DBackward>)\n",
      "EPOCH:  173\n"
     ]
    },
    {
     "data": {
      "image/png": "[encoded data removed]",
      "text/plain": [
       "<PIL.Image.Image image mode=RGB size=60x60 at 0x7F63200A4940>"
      ]
     },
     "metadata": {},
     "output_type": "display_data"
    },
    {
     "name": "stdout",
     "output_type": "stream",
     "text": [
      "Learning rate:  7.776e-05\n",
      "Loss = tensor(1.3358, device='cuda:0', grad_fn=<NllLoss2DBackward>)\n",
      "Loss = tensor(1.3464, device='cuda:0', grad_fn=<NllLoss2DBackward>)\n",
      "Loss = tensor(1.3209, device='cuda:0', grad_fn=<NllLoss2DBackward>)\n",
      "Loss = tensor(1.3163, device='cuda:0', grad_fn=<NllLoss2DBackward>)\n",
      "Loss = tensor(1.3461, device='cuda:0', grad_fn=<NllLoss2DBackward>)\n",
      "EPOCH:  173\n"
     ]
    },
    {
     "data": {
      "image/png": "[encoded data removed]",
      "text/plain": [
       "<PIL.Image.Image image mode=RGB size=60x60 at 0x7F63200A4520>"
      ]
     },
     "metadata": {},
     "output_type": "display_data"
    },
    {
     "name": "stdout",
     "output_type": "stream",
     "text": [
      "Learning rate:  7.776e-05\n",
      "Loss = tensor(1.3156, device='cuda:0', grad_fn=<NllLoss2DBackward>)\n",
      "Loss = tensor(1.3171, device='cuda:0', grad_fn=<NllLoss2DBackward>)\n",
      "EPOCH:  174\n"
     ]
    },
    {
     "data": {
      "image/png": "[encoded data removed]",
      "text/plain": [
       "<PIL.Image.Image image mode=RGB size=60x60 at 0x7F63200A4940>"
      ]
     },
     "metadata": {},
     "output_type": "display_data"
    },
    {
     "name": "stdout",
     "output_type": "stream",
     "text": [
      "Learning rate:  7.776e-05\n",
      "Loss = tensor(1.3349, device='cuda:0', grad_fn=<NllLoss2DBackward>)\n",
      "Loss = tensor(1.3090, device='cuda:0', grad_fn=<NllLoss2DBackward>)\n",
      "Loss = tensor(1.3246, device='cuda:0', grad_fn=<NllLoss2DBackward>)\n",
      "Loss = tensor(1.3001, device='cuda:0', grad_fn=<NllLoss2DBackward>)\n",
      "Loss = tensor(1.3676, device='cuda:0', grad_fn=<NllLoss2DBackward>)\n",
      "EPOCH:  174\n"
     ]
    },
    {
     "data": {
      "image/png": "[encoded data removed]",
      "text/plain": [
       "<PIL.Image.Image image mode=RGB size=60x60 at 0x7F63200A4640>"
      ]
     },
     "metadata": {},
     "output_type": "display_data"
    },
    {
     "name": "stdout",
     "output_type": "stream",
     "text": [
      "Learning rate:  7.776e-05\n",
      "Loss = tensor(1.3656, device='cuda:0', grad_fn=<NllLoss2DBackward>)\n",
      "Loss = tensor(1.3367, device='cuda:0', grad_fn=<NllLoss2DBackward>)\n",
      "Loss = tensor(1.3282, device='cuda:0', grad_fn=<NllLoss2DBackward>)\n",
      "Loss = tensor(1.3293, device='cuda:0', grad_fn=<NllLoss2DBackward>)\n",
      "Loss = tensor(1.3356, device='cuda:0', grad_fn=<NllLoss2DBackward>)\n",
      "EPOCH:  174\n"
     ]
    },
    {
     "data": {
      "image/png": "[encoded data removed]",
      "text/plain": [
       "<PIL.Image.Image image mode=RGB size=60x60 at 0x7F63200A49A0>"
      ]
     },
     "metadata": {},
     "output_type": "display_data"
    },
    {
     "name": "stdout",
     "output_type": "stream",
     "text": [
      "Learning rate:  7.776e-05\n",
      "Loss = tensor(1.3394, device='cuda:0', grad_fn=<NllLoss2DBackward>)\n",
      "Loss = tensor(1.3304, device='cuda:0', grad_fn=<NllLoss2DBackward>)\n",
      "EPOCH:  175\n"
     ]
    },
    {
     "data": {
      "image/png": "[encoded data removed]",
      "text/plain": [
       "<PIL.Image.Image image mode=RGB size=60x60 at 0x7F63200A4910>"
      ]
     },
     "metadata": {},
     "output_type": "display_data"
    },
    {
     "name": "stdout",
     "output_type": "stream",
     "text": [
      "Learning rate:  7.776e-05\n",
      "Loss = tensor(1.3437, device='cuda:0', grad_fn=<NllLoss2DBackward>)\n",
      "Loss = tensor(1.3816, device='cuda:0', grad_fn=<NllLoss2DBackward>)\n",
      "Loss = tensor(1.3322, device='cuda:0', grad_fn=<NllLoss2DBackward>)\n",
      "Loss = tensor(1.3079, device='cuda:0', grad_fn=<NllLoss2DBackward>)\n",
      "Loss = tensor(1.3190, device='cuda:0', grad_fn=<NllLoss2DBackward>)\n",
      "EPOCH:  175\n"
     ]
    },
    {
     "data": {
      "image/png": "[encoded data removed]",
      "text/plain": [
       "<PIL.Image.Image image mode=RGB size=60x60 at 0x7F63200A4520>"
      ]
     },
     "metadata": {},
     "output_type": "display_data"
    },
    {
     "name": "stdout",
     "output_type": "stream",
     "text": [
      "Learning rate:  7.776e-05\n",
      "Loss = tensor(1.3619, device='cuda:0', grad_fn=<NllLoss2DBackward>)\n",
      "Loss = tensor(1.2968, device='cuda:0', grad_fn=<NllLoss2DBackward>)\n",
      "Loss = tensor(1.3343, device='cuda:0', grad_fn=<NllLoss2DBackward>)\n",
      "Loss = tensor(1.3308, device='cuda:0', grad_fn=<NllLoss2DBackward>)\n",
      "Loss = tensor(1.3426, device='cuda:0', grad_fn=<NllLoss2DBackward>)\n",
      "EPOCH:  175\n"
     ]
    },
    {
     "data": {
      "image/png": "[encoded data removed]",
      "text/plain": [
       "<PIL.Image.Image image mode=RGB size=60x60 at 0x7F63200A4910>"
      ]
     },
     "metadata": {},
     "output_type": "display_data"
    },
    {
     "name": "stdout",
     "output_type": "stream",
     "text": [
      "Learning rate:  7.776e-05\n",
      "Loss = tensor(1.3002, device='cuda:0', grad_fn=<NllLoss2DBackward>)\n",
      "Loss = tensor(1.3287, device='cuda:0', grad_fn=<NllLoss2DBackward>)\n",
      "EPOCH:  176\n"
     ]
    },
    {
     "data": {
      "image/png": "[encoded data removed]",
      "text/plain": [
       "<PIL.Image.Image image mode=RGB size=60x60 at 0x7F63200A4790>"
      ]
     },
     "metadata": {},
     "output_type": "display_data"
    },
    {
     "name": "stdout",
     "output_type": "stream",
     "text": [
      "Learning rate:  7.776e-05\n",
      "Loss = tensor(1.3175, device='cuda:0', grad_fn=<NllLoss2DBackward>)\n",
      "Loss = tensor(1.3248, device='cuda:0', grad_fn=<NllLoss2DBackward>)\n",
      "Loss = tensor(1.3136, device='cuda:0', grad_fn=<NllLoss2DBackward>)\n",
      "Loss = tensor(1.3470, device='cuda:0', grad_fn=<NllLoss2DBackward>)\n",
      "Loss = tensor(1.3140, device='cuda:0', grad_fn=<NllLoss2DBackward>)\n",
      "EPOCH:  176\n"
     ]
    },
    {
     "data": {
      "image/png": "[encoded data removed]",
      "text/plain": [
       "<PIL.Image.Image image mode=RGB size=60x60 at 0x7F63200A4820>"
      ]
     },
     "metadata": {},
     "output_type": "display_data"
    },
    {
     "name": "stdout",
     "output_type": "stream",
     "text": [
      "Learning rate:  7.776e-05\n",
      "Loss = tensor(1.3398, device='cuda:0', grad_fn=<NllLoss2DBackward>)\n",
      "Loss = tensor(1.3802, device='cuda:0', grad_fn=<NllLoss2DBackward>)\n",
      "Loss = tensor(1.3617, device='cuda:0', grad_fn=<NllLoss2DBackward>)\n",
      "Loss = tensor(1.2980, device='cuda:0', grad_fn=<NllLoss2DBackward>)\n",
      "Loss = tensor(1.3293, device='cuda:0', grad_fn=<NllLoss2DBackward>)\n",
      "EPOCH:  176\n"
     ]
    },
    {
     "data": {
      "image/png": "[encoded data removed]",
      "text/plain": [
       "<PIL.Image.Image image mode=RGB size=60x60 at 0x7F63200A46D0>"
      ]
     },
     "metadata": {},
     "output_type": "display_data"
    },
    {
     "name": "stdout",
     "output_type": "stream",
     "text": [
      "Learning rate:  7.776e-05\n",
      "Loss = tensor(1.3239, device='cuda:0', grad_fn=<NllLoss2DBackward>)\n",
      "Loss = tensor(1.3223, device='cuda:0', grad_fn=<NllLoss2DBackward>)\n",
      "EPOCH:  177\n"
     ]
    },
    {
     "data": {
      "image/png": "[encoded data removed]",
      "text/plain": [
       "<PIL.Image.Image image mode=RGB size=60x60 at 0x7F63200A4790>"
      ]
     },
     "metadata": {},
     "output_type": "display_data"
    },
    {
     "name": "stdout",
     "output_type": "stream",
     "text": [
      "Learning rate:  7.776e-05\n",
      "Loss = tensor(1.3292, device='cuda:0', grad_fn=<NllLoss2DBackward>)\n",
      "Loss = tensor(1.3077, device='cuda:0', grad_fn=<NllLoss2DBackward>)\n",
      "Loss = tensor(1.3427, device='cuda:0', grad_fn=<NllLoss2DBackward>)\n",
      "Loss = tensor(1.3267, device='cuda:0', grad_fn=<NllLoss2DBackward>)\n",
      "Loss = tensor(1.3161, device='cuda:0', grad_fn=<NllLoss2DBackward>)\n",
      "EPOCH:  177\n"
     ]
    },
    {
     "data": {
      "image/png": "[encoded data removed]",
      "text/plain": [
       "<PIL.Image.Image image mode=RGB size=60x60 at 0x7F63200A48E0>"
      ]
     },
     "metadata": {},
     "output_type": "display_data"
    },
    {
     "name": "stdout",
     "output_type": "stream",
     "text": [
      "Learning rate:  7.776e-05\n",
      "Loss = tensor(1.3445, device='cuda:0', grad_fn=<NllLoss2DBackward>)\n",
      "Loss = tensor(1.3530, device='cuda:0', grad_fn=<NllLoss2DBackward>)\n",
      "Loss = tensor(1.3177, device='cuda:0', grad_fn=<NllLoss2DBackward>)\n",
      "Loss = tensor(1.3483, device='cuda:0', grad_fn=<NllLoss2DBackward>)\n",
      "Loss = tensor(1.3475, device='cuda:0', grad_fn=<NllLoss2DBackward>)\n",
      "EPOCH:  177\n"
     ]
    },
    {
     "data": {
      "image/png": "[encoded data removed]",
      "text/plain": [
       "<PIL.Image.Image image mode=RGB size=60x60 at 0x7F63200A4550>"
      ]
     },
     "metadata": {},
     "output_type": "display_data"
    },
    {
     "name": "stdout",
     "output_type": "stream",
     "text": [
      "Learning rate:  7.776e-05\n",
      "Loss = tensor(1.3322, device='cuda:0', grad_fn=<NllLoss2DBackward>)\n",
      "Loss = tensor(1.3097, device='cuda:0', grad_fn=<NllLoss2DBackward>)\n",
      "EPOCH:  178\n"
     ]
    },
    {
     "data": {
      "image/png": "[encoded data removed]",
      "text/plain": [
       "<PIL.Image.Image image mode=RGB size=60x60 at 0x7F63200A4340>"
      ]
     },
     "metadata": {},
     "output_type": "display_data"
    },
    {
     "name": "stdout",
     "output_type": "stream",
     "text": [
      "Learning rate:  7.776e-05\n",
      "Loss = tensor(1.3289, device='cuda:0', grad_fn=<NllLoss2DBackward>)\n",
      "Loss = tensor(1.3551, device='cuda:0', grad_fn=<NllLoss2DBackward>)\n",
      "Loss = tensor(1.3992, device='cuda:0', grad_fn=<NllLoss2DBackward>)\n",
      "Loss = tensor(1.3214, device='cuda:0', grad_fn=<NllLoss2DBackward>)\n",
      "Loss = tensor(1.3203, device='cuda:0', grad_fn=<NllLoss2DBackward>)\n",
      "EPOCH:  178\n"
     ]
    },
    {
     "data": {
      "image/png": "[encoded data removed]",
      "text/plain": [
       "<PIL.Image.Image image mode=RGB size=60x60 at 0x7F63200A4910>"
      ]
     },
     "metadata": {},
     "output_type": "display_data"
    },
    {
     "name": "stdout",
     "output_type": "stream",
     "text": [
      "Learning rate:  7.776e-05\n",
      "Loss = tensor(1.3389, device='cuda:0', grad_fn=<NllLoss2DBackward>)\n",
      "Loss = tensor(1.3158, device='cuda:0', grad_fn=<NllLoss2DBackward>)\n",
      "Loss = tensor(1.3110, device='cuda:0', grad_fn=<NllLoss2DBackward>)\n",
      "Loss = tensor(1.3354, device='cuda:0', grad_fn=<NllLoss2DBackward>)\n",
      "Loss = tensor(1.3474, device='cuda:0', grad_fn=<NllLoss2DBackward>)\n",
      "EPOCH:  178\n"
     ]
    },
    {
     "data": {
      "image/png": "[encoded data removed]",
      "text/plain": [
       "<PIL.Image.Image image mode=RGB size=60x60 at 0x7F63200A48E0>"
      ]
     },
     "metadata": {},
     "output_type": "display_data"
    },
    {
     "name": "stdout",
     "output_type": "stream",
     "text": [
      "Learning rate:  7.776e-05\n",
      "Loss = tensor(1.3004, device='cuda:0', grad_fn=<NllLoss2DBackward>)\n",
      "Loss = tensor(1.3244, device='cuda:0', grad_fn=<NllLoss2DBackward>)\n",
      "EPOCH:  179\n"
     ]
    },
    {
     "data": {
      "image/png": "[encoded data removed]",
      "text/plain": [
       "<PIL.Image.Image image mode=RGB size=60x60 at 0x7F63200A4970>"
      ]
     },
     "metadata": {},
     "output_type": "display_data"
    },
    {
     "name": "stdout",
     "output_type": "stream",
     "text": [
      "Learning rate:  7.776e-05\n",
      "Loss = tensor(1.3215, device='cuda:0', grad_fn=<NllLoss2DBackward>)\n",
      "Loss = tensor(1.3313, device='cuda:0', grad_fn=<NllLoss2DBackward>)\n",
      "Loss = tensor(1.3121, device='cuda:0', grad_fn=<NllLoss2DBackward>)\n",
      "Loss = tensor(1.2907, device='cuda:0', grad_fn=<NllLoss2DBackward>)\n",
      "Loss = tensor(1.3913, device='cuda:0', grad_fn=<NllLoss2DBackward>)\n",
      "EPOCH:  179\n"
     ]
    },
    {
     "data": {
      "image/png": "[encoded data removed]",
      "text/plain": [
       "<PIL.Image.Image image mode=RGB size=60x60 at 0x7F63200A4340>"
      ]
     },
     "metadata": {},
     "output_type": "display_data"
    },
    {
     "name": "stdout",
     "output_type": "stream",
     "text": [
      "Learning rate:  7.776e-05\n",
      "Loss = tensor(1.3320, device='cuda:0', grad_fn=<NllLoss2DBackward>)\n",
      "Loss = tensor(1.3778, device='cuda:0', grad_fn=<NllLoss2DBackward>)\n",
      "Loss = tensor(1.3306, device='cuda:0', grad_fn=<NllLoss2DBackward>)\n",
      "Loss = tensor(1.3181, device='cuda:0', grad_fn=<NllLoss2DBackward>)\n",
      "Loss = tensor(1.3130, device='cuda:0', grad_fn=<NllLoss2DBackward>)\n",
      "EPOCH:  179\n"
     ]
    },
    {
     "data": {
      "image/png": "[encoded data removed]",
      "text/plain": [
       "<PIL.Image.Image image mode=RGB size=60x60 at 0x7F63200A4670>"
      ]
     },
     "metadata": {},
     "output_type": "display_data"
    },
    {
     "name": "stdout",
     "output_type": "stream",
     "text": [
      "Learning rate:  7.776e-05\n",
      "Loss = tensor(1.3340, device='cuda:0', grad_fn=<NllLoss2DBackward>)\n",
      "Loss = tensor(1.3292, device='cuda:0', grad_fn=<NllLoss2DBackward>)\n",
      "EPOCH:  180\n"
     ]
    },
    {
     "data": {
      "image/png": "[encoded data removed]",
      "text/plain": [
       "<PIL.Image.Image image mode=RGB size=60x60 at 0x7F63200A47C0>"
      ]
     },
     "metadata": {},
     "output_type": "display_data"
    },
    {
     "name": "stdout",
     "output_type": "stream",
     "text": [
      "Learning rate:  7.776e-05\n",
      "Loss = tensor(1.3086, device='cuda:0', grad_fn=<NllLoss2DBackward>)\n",
      "Loss = tensor(1.3237, device='cuda:0', grad_fn=<NllLoss2DBackward>)\n",
      "Loss = tensor(1.4016, device='cuda:0', grad_fn=<NllLoss2DBackward>)\n",
      "Loss = tensor(1.3576, device='cuda:0', grad_fn=<NllLoss2DBackward>)\n",
      "Loss = tensor(1.3104, device='cuda:0', grad_fn=<NllLoss2DBackward>)\n",
      "EPOCH:  180\n"
     ]
    },
    {
     "data": {
      "image/png": "[encoded data removed]",
      "text/plain": [
       "<PIL.Image.Image image mode=RGB size=60x60 at 0x7F63200A4400>"
      ]
     },
     "metadata": {},
     "output_type": "display_data"
    },
    {
     "name": "stdout",
     "output_type": "stream",
     "text": [
      "Learning rate:  7.776e-05\n",
      "Loss = tensor(1.3308, device='cuda:0', grad_fn=<NllLoss2DBackward>)\n",
      "Loss = tensor(1.3337, device='cuda:0', grad_fn=<NllLoss2DBackward>)\n",
      "Loss = tensor(1.3171, device='cuda:0', grad_fn=<NllLoss2DBackward>)\n",
      "Loss = tensor(1.3319, device='cuda:0', grad_fn=<NllLoss2DBackward>)\n",
      "Loss = tensor(1.3213, device='cuda:0', grad_fn=<NllLoss2DBackward>)\n",
      "EPOCH:  180\n"
     ]
    },
    {
     "data": {
      "image/png": "[encoded data removed]",
      "text/plain": [
       "<PIL.Image.Image image mode=RGB size=60x60 at 0x7F63200A4370>"
      ]
     },
     "metadata": {},
     "output_type": "display_data"
    },
    {
     "name": "stdout",
     "output_type": "stream",
     "text": [
      "Learning rate:  7.776e-05\n",
      "Loss = tensor(1.3180, device='cuda:0', grad_fn=<NllLoss2DBackward>)\n",
      "Loss = tensor(1.3361, device='cuda:0', grad_fn=<NllLoss2DBackward>)\n",
      "EPOCH:  181\n"
     ]
    },
    {
     "data": {
      "image/png": "[encoded data removed]",
      "text/plain": [
       "<PIL.Image.Image image mode=RGB size=60x60 at 0x7F63200A4910>"
      ]
     },
     "metadata": {},
     "output_type": "display_data"
    },
    {
     "name": "stdout",
     "output_type": "stream",
     "text": [
      "Learning rate:  7.776e-05\n",
      "Loss = tensor(1.3922, device='cuda:0', grad_fn=<NllLoss2DBackward>)\n",
      "Loss = tensor(1.3105, device='cuda:0', grad_fn=<NllLoss2DBackward>)\n",
      "Loss = tensor(1.3306, device='cuda:0', grad_fn=<NllLoss2DBackward>)\n",
      "Loss = tensor(1.3174, device='cuda:0', grad_fn=<NllLoss2DBackward>)\n",
      "Loss = tensor(1.3097, device='cuda:0', grad_fn=<NllLoss2DBackward>)\n",
      "EPOCH:  181\n"
     ]
    },
    {
     "data": {
      "image/png": "[encoded data removed]",
      "text/plain": [
       "<PIL.Image.Image image mode=RGB size=60x60 at 0x7F63200A4550>"
      ]
     },
     "metadata": {},
     "output_type": "display_data"
    },
    {
     "name": "stdout",
     "output_type": "stream",
     "text": [
      "Learning rate:  7.776e-05\n",
      "Loss = tensor(1.3857, device='cuda:0', grad_fn=<NllLoss2DBackward>)\n",
      "Loss = tensor(1.3284, device='cuda:0', grad_fn=<NllLoss2DBackward>)\n",
      "Loss = tensor(1.3192, device='cuda:0', grad_fn=<NllLoss2DBackward>)\n",
      "Loss = tensor(1.3087, device='cuda:0', grad_fn=<NllLoss2DBackward>)\n",
      "Loss = tensor(1.3077, device='cuda:0', grad_fn=<NllLoss2DBackward>)\n",
      "EPOCH:  181\n"
     ]
    },
    {
     "data": {
      "image/png": "[encoded data removed]",
      "text/plain": [
       "<PIL.Image.Image image mode=RGB size=60x60 at 0x7F63200A4910>"
      ]
     },
     "metadata": {},
     "output_type": "display_data"
    },
    {
     "name": "stdout",
     "output_type": "stream",
     "text": [
      "Learning rate:  7.776e-05\n",
      "Loss = tensor(1.3394, device='cuda:0', grad_fn=<NllLoss2DBackward>)\n",
      "Loss = tensor(1.3344, device='cuda:0', grad_fn=<NllLoss2DBackward>)\n",
      "EPOCH:  182\n"
     ]
    },
    {
     "data": {
      "image/png": "[encoded data removed]",
      "text/plain": [
       "<PIL.Image.Image image mode=RGB size=60x60 at 0x7F63200A4850>"
      ]
     },
     "metadata": {},
     "output_type": "display_data"
    },
    {
     "name": "stdout",
     "output_type": "stream",
     "text": [
      "Learning rate:  7.776e-05\n",
      "Loss = tensor(1.3544, device='cuda:0', grad_fn=<NllLoss2DBackward>)\n",
      "Loss = tensor(1.3453, device='cuda:0', grad_fn=<NllLoss2DBackward>)\n",
      "Loss = tensor(1.3342, device='cuda:0', grad_fn=<NllLoss2DBackward>)\n",
      "Loss = tensor(1.3191, device='cuda:0', grad_fn=<NllLoss2DBackward>)\n",
      "Loss = tensor(1.3293, device='cuda:0', grad_fn=<NllLoss2DBackward>)\n",
      "EPOCH:  182\n"
     ]
    },
    {
     "data": {
      "image/png": "[encoded data removed]",
      "text/plain": [
       "<PIL.Image.Image image mode=RGB size=60x60 at 0x7F63200A4820>"
      ]
     },
     "metadata": {},
     "output_type": "display_data"
    },
    {
     "name": "stdout",
     "output_type": "stream",
     "text": [
      "Learning rate:  7.776e-05\n",
      "Loss = tensor(1.3154, device='cuda:0', grad_fn=<NllLoss2DBackward>)\n",
      "Loss = tensor(1.3524, device='cuda:0', grad_fn=<NllLoss2DBackward>)\n",
      "Loss = tensor(1.3088, device='cuda:0', grad_fn=<NllLoss2DBackward>)\n",
      "Loss = tensor(1.3212, device='cuda:0', grad_fn=<NllLoss2DBackward>)\n",
      "Loss = tensor(1.3448, device='cuda:0', grad_fn=<NllLoss2DBackward>)\n",
      "EPOCH:  182\n"
     ]
    },
    {
     "data": {
      "image/png": "[encoded data removed]",
      "text/plain": [
       "<PIL.Image.Image image mode=RGB size=60x60 at 0x7F63200A47C0>"
      ]
     },
     "metadata": {},
     "output_type": "display_data"
    },
    {
     "name": "stdout",
     "output_type": "stream",
     "text": [
      "Learning rate:  7.776e-05\n",
      "Loss = tensor(1.3212, device='cuda:0', grad_fn=<NllLoss2DBackward>)\n",
      "Loss = tensor(1.3556, device='cuda:0', grad_fn=<NllLoss2DBackward>)\n",
      "EPOCH:  183\n"
     ]
    },
    {
     "data": {
      "image/png": "[encoded data removed]",
      "text/plain": [
       "<PIL.Image.Image image mode=RGB size=60x60 at 0x7F63200A49A0>"
      ]
     },
     "metadata": {},
     "output_type": "display_data"
    },
    {
     "name": "stdout",
     "output_type": "stream",
     "text": [
      "Learning rate:  7.776e-05\n",
      "Loss = tensor(1.3455, device='cuda:0', grad_fn=<NllLoss2DBackward>)\n",
      "Loss = tensor(1.3201, device='cuda:0', grad_fn=<NllLoss2DBackward>)\n",
      "Loss = tensor(1.3196, device='cuda:0', grad_fn=<NllLoss2DBackward>)\n",
      "Loss = tensor(1.3087, device='cuda:0', grad_fn=<NllLoss2DBackward>)\n",
      "Loss = tensor(1.3619, device='cuda:0', grad_fn=<NllLoss2DBackward>)\n",
      "EPOCH:  183\n"
     ]
    },
    {
     "data": {
      "image/png": "[encoded data removed]",
      "text/plain": [
       "<PIL.Image.Image image mode=RGB size=60x60 at 0x7F63200A4640>"
      ]
     },
     "metadata": {},
     "output_type": "display_data"
    },
    {
     "name": "stdout",
     "output_type": "stream",
     "text": [
      "Learning rate:  7.776e-05\n",
      "Loss = tensor(1.3601, device='cuda:0', grad_fn=<NllLoss2DBackward>)\n",
      "Loss = tensor(1.3440, device='cuda:0', grad_fn=<NllLoss2DBackward>)\n",
      "Loss = tensor(1.3153, device='cuda:0', grad_fn=<NllLoss2DBackward>)\n",
      "Loss = tensor(1.3197, device='cuda:0', grad_fn=<NllLoss2DBackward>)\n",
      "Loss = tensor(1.3250, device='cuda:0', grad_fn=<NllLoss2DBackward>)\n",
      "EPOCH:  183\n"
     ]
    },
    {
     "data": {
      "image/png": "[encoded data removed]",
      "text/plain": [
       "<PIL.Image.Image image mode=RGB size=60x60 at 0x7F63200A4490>"
      ]
     },
     "metadata": {},
     "output_type": "display_data"
    },
    {
     "name": "stdout",
     "output_type": "stream",
     "text": [
      "Learning rate:  7.776e-05\n",
      "Loss = tensor(1.3113, device='cuda:0', grad_fn=<NllLoss2DBackward>)\n",
      "Loss = tensor(1.3419, device='cuda:0', grad_fn=<NllLoss2DBackward>)\n",
      "EPOCH:  184\n"
     ]
    },
    {
     "data": {
      "image/png": "[encoded data removed]",
      "text/plain": [
       "<PIL.Image.Image image mode=RGB size=60x60 at 0x7F63200A4790>"
      ]
     },
     "metadata": {},
     "output_type": "display_data"
    },
    {
     "name": "stdout",
     "output_type": "stream",
     "text": [
      "Learning rate:  7.776e-05\n",
      "Loss = tensor(1.3140, device='cuda:0', grad_fn=<NllLoss2DBackward>)\n",
      "Loss = tensor(1.3159, device='cuda:0', grad_fn=<NllLoss2DBackward>)\n",
      "Loss = tensor(1.3286, device='cuda:0', grad_fn=<NllLoss2DBackward>)\n",
      "Loss = tensor(1.3501, device='cuda:0', grad_fn=<NllLoss2DBackward>)\n",
      "Loss = tensor(1.3217, device='cuda:0', grad_fn=<NllLoss2DBackward>)\n",
      "EPOCH:  184\n"
     ]
    },
    {
     "data": {
      "image/png": "[encoded data removed]",
      "text/plain": [
       "<PIL.Image.Image image mode=RGB size=60x60 at 0x7F63200A4940>"
      ]
     },
     "metadata": {},
     "output_type": "display_data"
    },
    {
     "name": "stdout",
     "output_type": "stream",
     "text": [
      "Learning rate:  7.776e-05\n",
      "Loss = tensor(1.3417, device='cuda:0', grad_fn=<NllLoss2DBackward>)\n",
      "Loss = tensor(1.3153, device='cuda:0', grad_fn=<NllLoss2DBackward>)\n",
      "Loss = tensor(1.3227, device='cuda:0', grad_fn=<NllLoss2DBackward>)\n",
      "Loss = tensor(1.3330, device='cuda:0', grad_fn=<NllLoss2DBackward>)\n",
      "Loss = tensor(1.3535, device='cuda:0', grad_fn=<NllLoss2DBackward>)\n",
      "EPOCH:  184\n"
     ]
    },
    {
     "data": {
      "image/png": "[encoded data removed]",
      "text/plain": [
       "<PIL.Image.Image image mode=RGB size=60x60 at 0x7F63200A4850>"
      ]
     },
     "metadata": {},
     "output_type": "display_data"
    },
    {
     "name": "stdout",
     "output_type": "stream",
     "text": [
      "Learning rate:  7.776e-05\n",
      "Loss = tensor(1.3388, device='cuda:0', grad_fn=<NllLoss2DBackward>)\n",
      "Loss = tensor(1.3050, device='cuda:0', grad_fn=<NllLoss2DBackward>)\n",
      "EPOCH:  185\n"
     ]
    },
    {
     "data": {
      "image/png": "[encoded data removed]",
      "text/plain": [
       "<PIL.Image.Image image mode=RGB size=60x60 at 0x7F63200A4850>"
      ]
     },
     "metadata": {},
     "output_type": "display_data"
    },
    {
     "name": "stdout",
     "output_type": "stream",
     "text": [
      "Learning rate:  7.776e-05\n",
      "Loss = tensor(1.3368, device='cuda:0', grad_fn=<NllLoss2DBackward>)\n",
      "Loss = tensor(1.3692, device='cuda:0', grad_fn=<NllLoss2DBackward>)\n",
      "Loss = tensor(1.3111, device='cuda:0', grad_fn=<NllLoss2DBackward>)\n",
      "Loss = tensor(1.3411, device='cuda:0', grad_fn=<NllLoss2DBackward>)\n",
      "Loss = tensor(1.3823, device='cuda:0', grad_fn=<NllLoss2DBackward>)\n",
      "EPOCH:  185\n"
     ]
    },
    {
     "data": {
      "image/png": "[encoded data removed]",
      "text/plain": [
       "<PIL.Image.Image image mode=RGB size=60x60 at 0x7F63200A45E0>"
      ]
     },
     "metadata": {},
     "output_type": "display_data"
    },
    {
     "name": "stdout",
     "output_type": "stream",
     "text": [
      "Learning rate:  7.776e-05\n",
      "Loss = tensor(1.3051, device='cuda:0', grad_fn=<NllLoss2DBackward>)\n",
      "Loss = tensor(1.3233, device='cuda:0', grad_fn=<NllLoss2DBackward>)\n",
      "Loss = tensor(1.3219, device='cuda:0', grad_fn=<NllLoss2DBackward>)\n",
      "Loss = tensor(1.3425, device='cuda:0', grad_fn=<NllLoss2DBackward>)\n",
      "Loss = tensor(1.3171, device='cuda:0', grad_fn=<NllLoss2DBackward>)\n",
      "EPOCH:  185\n"
     ]
    },
    {
     "data": {
      "image/png": "[encoded data removed]",
      "text/plain": [
       "<PIL.Image.Image image mode=RGB size=60x60 at 0x7F63200A4550>"
      ]
     },
     "metadata": {},
     "output_type": "display_data"
    },
    {
     "name": "stdout",
     "output_type": "stream",
     "text": [
      "Learning rate:  7.776e-05\n",
      "Loss = tensor(1.3214, device='cuda:0', grad_fn=<NllLoss2DBackward>)\n",
      "Loss = tensor(1.3205, device='cuda:0', grad_fn=<NllLoss2DBackward>)\n",
      "EPOCH:  186\n"
     ]
    },
    {
     "data": {
      "image/png": "[encoded data removed]",
      "text/plain": [
       "<PIL.Image.Image image mode=RGB size=60x60 at 0x7F63200A46A0>"
      ]
     },
     "metadata": {},
     "output_type": "display_data"
    },
    {
     "name": "stdout",
     "output_type": "stream",
     "text": [
      "Learning rate:  7.776e-05\n",
      "Loss = tensor(1.3174, device='cuda:0', grad_fn=<NllLoss2DBackward>)\n",
      "Loss = tensor(1.3758, device='cuda:0', grad_fn=<NllLoss2DBackward>)\n",
      "Loss = tensor(1.3263, device='cuda:0', grad_fn=<NllLoss2DBackward>)\n",
      "Loss = tensor(1.3143, device='cuda:0', grad_fn=<NllLoss2DBackward>)\n",
      "Loss = tensor(1.3311, device='cuda:0', grad_fn=<NllLoss2DBackward>)\n",
      "EPOCH:  186\n"
     ]
    },
    {
     "data": {
      "image/png": "[encoded data removed]",
      "text/plain": [
       "<PIL.Image.Image image mode=RGB size=60x60 at 0x7F63200A4520>"
      ]
     },
     "metadata": {},
     "output_type": "display_data"
    },
    {
     "name": "stdout",
     "output_type": "stream",
     "text": [
      "Learning rate:  7.776e-05\n",
      "Loss = tensor(1.3268, device='cuda:0', grad_fn=<NllLoss2DBackward>)\n",
      "Loss = tensor(1.3165, device='cuda:0', grad_fn=<NllLoss2DBackward>)\n",
      "Loss = tensor(1.3154, device='cuda:0', grad_fn=<NllLoss2DBackward>)\n",
      "Loss = tensor(1.3384, device='cuda:0', grad_fn=<NllLoss2DBackward>)\n",
      "Loss = tensor(1.3211, device='cuda:0', grad_fn=<NllLoss2DBackward>)\n",
      "EPOCH:  186\n"
     ]
    },
    {
     "data": {
      "image/png": "[encoded data removed]",
      "text/plain": [
       "<PIL.Image.Image image mode=RGB size=60x60 at 0x7F63200A4790>"
      ]
     },
     "metadata": {},
     "output_type": "display_data"
    },
    {
     "name": "stdout",
     "output_type": "stream",
     "text": [
      "Learning rate:  7.776e-05\n",
      "Loss = tensor(1.3744, device='cuda:0', grad_fn=<NllLoss2DBackward>)\n",
      "Loss = tensor(1.4100, device='cuda:0', grad_fn=<NllLoss2DBackward>)\n",
      "EPOCH:  187\n"
     ]
    },
    {
     "data": {
      "image/png": "[encoded data removed]",
      "text/plain": [
       "<PIL.Image.Image image mode=RGB size=60x60 at 0x7F63200A46D0>"
      ]
     },
     "metadata": {},
     "output_type": "display_data"
    },
    {
     "name": "stdout",
     "output_type": "stream",
     "text": [
      "Learning rate:  7.776e-05\n",
      "Loss = tensor(1.3237, device='cuda:0', grad_fn=<NllLoss2DBackward>)\n",
      "Loss = tensor(1.3356, device='cuda:0', grad_fn=<NllLoss2DBackward>)\n",
      "Loss = tensor(1.3109, device='cuda:0', grad_fn=<NllLoss2DBackward>)\n",
      "Loss = tensor(1.3265, device='cuda:0', grad_fn=<NllLoss2DBackward>)\n",
      "Loss = tensor(1.3052, device='cuda:0', grad_fn=<NllLoss2DBackward>)\n",
      "EPOCH:  187\n"
     ]
    },
    {
     "data": {
      "image/png": "[encoded data removed]",
      "text/plain": [
       "<PIL.Image.Image image mode=RGB size=60x60 at 0x7F63200A4520>"
      ]
     },
     "metadata": {},
     "output_type": "display_data"
    },
    {
     "name": "stdout",
     "output_type": "stream",
     "text": [
      "Learning rate:  7.776e-05\n",
      "Loss = tensor(1.2952, device='cuda:0', grad_fn=<NllLoss2DBackward>)\n",
      "Loss = tensor(1.3391, device='cuda:0', grad_fn=<NllLoss2DBackward>)\n",
      "Loss = tensor(1.3370, device='cuda:0', grad_fn=<NllLoss2DBackward>)\n",
      "Loss = tensor(1.3224, device='cuda:0', grad_fn=<NllLoss2DBackward>)\n",
      "Loss = tensor(1.3199, device='cuda:0', grad_fn=<NllLoss2DBackward>)\n",
      "EPOCH:  187\n"
     ]
    },
    {
     "data": {
      "image/png": "[encoded data removed]",
      "text/plain": [
       "<PIL.Image.Image image mode=RGB size=60x60 at 0x7F63200A4850>"
      ]
     },
     "metadata": {},
     "output_type": "display_data"
    },
    {
     "name": "stdout",
     "output_type": "stream",
     "text": [
      "Learning rate:  7.776e-05\n",
      "Loss = tensor(1.3511, device='cuda:0', grad_fn=<NllLoss2DBackward>)\n",
      "Loss = tensor(1.3332, device='cuda:0', grad_fn=<NllLoss2DBackward>)\n",
      "EPOCH:  188\n"
     ]
    },
    {
     "data": {
      "image/png": "[encoded data removed]",
      "text/plain": [
       "<PIL.Image.Image image mode=RGB size=60x60 at 0x7F63200A4520>"
      ]
     },
     "metadata": {},
     "output_type": "display_data"
    },
    {
     "name": "stdout",
     "output_type": "stream",
     "text": [
      "Learning rate:  7.776e-05\n",
      "Loss = tensor(1.3418, device='cuda:0', grad_fn=<NllLoss2DBackward>)\n",
      "Loss = tensor(1.3192, device='cuda:0', grad_fn=<NllLoss2DBackward>)\n",
      "Loss = tensor(1.3290, device='cuda:0', grad_fn=<NllLoss2DBackward>)\n",
      "Loss = tensor(1.3162, device='cuda:0', grad_fn=<NllLoss2DBackward>)\n",
      "Loss = tensor(1.3303, device='cuda:0', grad_fn=<NllLoss2DBackward>)\n",
      "EPOCH:  188\n"
     ]
    },
    {
     "data": {
      "image/png": "[encoded data removed]",
      "text/plain": [
       "<PIL.Image.Image image mode=RGB size=60x60 at 0x7F63200A4850>"
      ]
     },
     "metadata": {},
     "output_type": "display_data"
    },
    {
     "name": "stdout",
     "output_type": "stream",
     "text": [
      "Learning rate:  7.776e-05\n",
      "Loss = tensor(1.3576, device='cuda:0', grad_fn=<NllLoss2DBackward>)\n",
      "Loss = tensor(1.3230, device='cuda:0', grad_fn=<NllLoss2DBackward>)\n",
      "Loss = tensor(1.3299, device='cuda:0', grad_fn=<NllLoss2DBackward>)\n",
      "Loss = tensor(1.3171, device='cuda:0', grad_fn=<NllLoss2DBackward>)\n",
      "Loss = tensor(1.3167, device='cuda:0', grad_fn=<NllLoss2DBackward>)\n",
      "EPOCH:  188\n"
     ]
    },
    {
     "data": {
      "image/png": "[encoded data removed]",
      "text/plain": [
       "<PIL.Image.Image image mode=RGB size=60x60 at 0x7F63200A4550>"
      ]
     },
     "metadata": {},
     "output_type": "display_data"
    },
    {
     "name": "stdout",
     "output_type": "stream",
     "text": [
      "Learning rate:  7.776e-05\n",
      "Loss = tensor(1.3619, device='cuda:0', grad_fn=<NllLoss2DBackward>)\n",
      "Loss = tensor(1.3030, device='cuda:0', grad_fn=<NllLoss2DBackward>)\n",
      "EPOCH:  189\n"
     ]
    },
    {
     "data": {
      "image/png": "[encoded data removed]",
      "text/plain": [
       "<PIL.Image.Image image mode=RGB size=60x60 at 0x7F63200A4370>"
      ]
     },
     "metadata": {},
     "output_type": "display_data"
    },
    {
     "name": "stdout",
     "output_type": "stream",
     "text": [
      "Learning rate:  7.776e-05\n",
      "Loss = tensor(1.3378, device='cuda:0', grad_fn=<NllLoss2DBackward>)\n",
      "Loss = tensor(1.3247, device='cuda:0', grad_fn=<NllLoss2DBackward>)\n",
      "Loss = tensor(1.3611, device='cuda:0', grad_fn=<NllLoss2DBackward>)\n",
      "Loss = tensor(1.3183, device='cuda:0', grad_fn=<NllLoss2DBackward>)\n",
      "Loss = tensor(1.3413, device='cuda:0', grad_fn=<NllLoss2DBackward>)\n",
      "EPOCH:  189\n"
     ]
    },
    {
     "data": {
      "image/png": "[encoded data removed]",
      "text/plain": [
       "<PIL.Image.Image image mode=RGB size=60x60 at 0x7F63200A4550>"
      ]
     },
     "metadata": {},
     "output_type": "display_data"
    },
    {
     "name": "stdout",
     "output_type": "stream",
     "text": [
      "Learning rate:  7.776e-05\n",
      "Loss = tensor(1.3307, device='cuda:0', grad_fn=<NllLoss2DBackward>)\n",
      "Loss = tensor(1.3140, device='cuda:0', grad_fn=<NllLoss2DBackward>)\n",
      "Loss = tensor(1.3359, device='cuda:0', grad_fn=<NllLoss2DBackward>)\n",
      "Loss = tensor(1.3496, device='cuda:0', grad_fn=<NllLoss2DBackward>)\n",
      "Loss = tensor(1.3014, device='cuda:0', grad_fn=<NllLoss2DBackward>)\n",
      "EPOCH:  189\n"
     ]
    },
    {
     "data": {
      "image/png": "[encoded data removed]",
      "text/plain": [
       "<PIL.Image.Image image mode=RGB size=60x60 at 0x7F63200A46D0>"
      ]
     },
     "metadata": {},
     "output_type": "display_data"
    },
    {
     "name": "stdout",
     "output_type": "stream",
     "text": [
      "Learning rate:  7.776e-05\n",
      "Loss = tensor(1.3563, device='cuda:0', grad_fn=<NllLoss2DBackward>)\n",
      "Loss = tensor(1.3469, device='cuda:0', grad_fn=<NllLoss2DBackward>)\n",
      "EPOCH:  190\n"
     ]
    },
    {
     "data": {
      "image/png": "[encoded data removed]",
      "text/plain": [
       "<PIL.Image.Image image mode=RGB size=60x60 at 0x7F63200A4490>"
      ]
     },
     "metadata": {},
     "output_type": "display_data"
    },
    {
     "name": "stdout",
     "output_type": "stream",
     "text": [
      "Learning rate:  7.776e-05\n",
      "Loss = tensor(1.3404, device='cuda:0', grad_fn=<NllLoss2DBackward>)\n",
      "Loss = tensor(1.3298, device='cuda:0', grad_fn=<NllLoss2DBackward>)\n",
      "Loss = tensor(1.3131, device='cuda:0', grad_fn=<NllLoss2DBackward>)\n",
      "Loss = tensor(1.3809, device='cuda:0', grad_fn=<NllLoss2DBackward>)\n",
      "Loss = tensor(1.3301, device='cuda:0', grad_fn=<NllLoss2DBackward>)\n",
      "EPOCH:  190\n"
     ]
    },
    {
     "data": {
      "image/png": "[encoded data removed]",
      "text/plain": [
       "<PIL.Image.Image image mode=RGB size=60x60 at 0x7F63200A45B0>"
      ]
     },
     "metadata": {},
     "output_type": "display_data"
    },
    {
     "name": "stdout",
     "output_type": "stream",
     "text": [
      "Learning rate:  7.776e-05\n",
      "Loss = tensor(1.3417, device='cuda:0', grad_fn=<NllLoss2DBackward>)\n",
      "Loss = tensor(1.3298, device='cuda:0', grad_fn=<NllLoss2DBackward>)\n",
      "Loss = tensor(1.3186, device='cuda:0', grad_fn=<NllLoss2DBackward>)\n",
      "Loss = tensor(1.3245, device='cuda:0', grad_fn=<NllLoss2DBackward>)\n",
      "Loss = tensor(1.3145, device='cuda:0', grad_fn=<NllLoss2DBackward>)\n",
      "EPOCH:  190\n"
     ]
    },
    {
     "data": {
      "image/png": "[encoded data removed]",
      "text/plain": [
       "<PIL.Image.Image image mode=RGB size=60x60 at 0x7F63200A45E0>"
      ]
     },
     "metadata": {},
     "output_type": "display_data"
    },
    {
     "name": "stdout",
     "output_type": "stream",
     "text": [
      "Learning rate:  7.776e-05\n",
      "Loss = tensor(1.3107, device='cuda:0', grad_fn=<NllLoss2DBackward>)\n",
      "Loss = tensor(1.3199, device='cuda:0', grad_fn=<NllLoss2DBackward>)\n",
      "EPOCH:  191\n"
     ]
    },
    {
     "data": {
      "image/png": "[encoded data removed]",
      "text/plain": [
       "<PIL.Image.Image image mode=RGB size=60x60 at 0x7F63200A4490>"
      ]
     },
     "metadata": {},
     "output_type": "display_data"
    },
    {
     "name": "stdout",
     "output_type": "stream",
     "text": [
      "Learning rate:  7.776e-05\n",
      "Loss = tensor(1.3222, device='cuda:0', grad_fn=<NllLoss2DBackward>)\n",
      "Loss = tensor(1.3083, device='cuda:0', grad_fn=<NllLoss2DBackward>)\n",
      "Loss = tensor(1.3273, device='cuda:0', grad_fn=<NllLoss2DBackward>)\n",
      "Loss = tensor(1.3442, device='cuda:0', grad_fn=<NllLoss2DBackward>)\n",
      "Loss = tensor(1.3351, device='cuda:0', grad_fn=<NllLoss2DBackward>)\n",
      "EPOCH:  191\n"
     ]
    },
    {
     "data": {
      "image/png": "[encoded data removed]",
      "text/plain": [
       "<PIL.Image.Image image mode=RGB size=60x60 at 0x7F63200A4340>"
      ]
     },
     "metadata": {},
     "output_type": "display_data"
    },
    {
     "name": "stdout",
     "output_type": "stream",
     "text": [
      "Learning rate:  7.776e-05\n",
      "Loss = tensor(1.3158, device='cuda:0', grad_fn=<NllLoss2DBackward>)\n",
      "Loss = tensor(1.3588, device='cuda:0', grad_fn=<NllLoss2DBackward>)\n",
      "Loss = tensor(1.3169, device='cuda:0', grad_fn=<NllLoss2DBackward>)\n",
      "Loss = tensor(1.3157, device='cuda:0', grad_fn=<NllLoss2DBackward>)\n",
      "Loss = tensor(1.3641, device='cuda:0', grad_fn=<NllLoss2DBackward>)\n",
      "EPOCH:  191\n"
     ]
    },
    {
     "data": {
      "image/png": "[encoded data removed]",
      "text/plain": [
       "<PIL.Image.Image image mode=RGB size=60x60 at 0x7F63200A4820>"
      ]
     },
     "metadata": {},
     "output_type": "display_data"
    },
    {
     "name": "stdout",
     "output_type": "stream",
     "text": [
      "Learning rate:  7.776e-05\n",
      "Loss = tensor(1.3460, device='cuda:0', grad_fn=<NllLoss2DBackward>)\n",
      "Loss = tensor(1.3403, device='cuda:0', grad_fn=<NllLoss2DBackward>)\n",
      "EPOCH:  192\n"
     ]
    },
    {
     "data": {
      "image/png": "[encoded data removed]",
      "text/plain": [
       "<PIL.Image.Image image mode=RGB size=60x60 at 0x7F63200A45E0>"
      ]
     },
     "metadata": {},
     "output_type": "display_data"
    },
    {
     "name": "stdout",
     "output_type": "stream",
     "text": [
      "Learning rate:  7.776e-05\n",
      "Loss = tensor(1.3391, device='cuda:0', grad_fn=<NllLoss2DBackward>)\n",
      "Loss = tensor(1.3919, device='cuda:0', grad_fn=<NllLoss2DBackward>)\n",
      "Loss = tensor(1.3114, device='cuda:0', grad_fn=<NllLoss2DBackward>)\n",
      "Loss = tensor(1.3271, device='cuda:0', grad_fn=<NllLoss2DBackward>)\n",
      "Loss = tensor(1.3228, device='cuda:0', grad_fn=<NllLoss2DBackward>)\n",
      "EPOCH:  192\n"
     ]
    },
    {
     "data": {
      "image/png": "[encoded data removed]",
      "text/plain": [
       "<PIL.Image.Image image mode=RGB size=60x60 at 0x7F63200A48E0>"
      ]
     },
     "metadata": {},
     "output_type": "display_data"
    },
    {
     "name": "stdout",
     "output_type": "stream",
     "text": [
      "Learning rate:  7.776e-05\n",
      "Loss = tensor(1.3354, device='cuda:0', grad_fn=<NllLoss2DBackward>)\n",
      "Loss = tensor(1.3326, device='cuda:0', grad_fn=<NllLoss2DBackward>)\n",
      "Loss = tensor(1.3020, device='cuda:0', grad_fn=<NllLoss2DBackward>)\n",
      "Loss = tensor(1.3133, device='cuda:0', grad_fn=<NllLoss2DBackward>)\n",
      "Loss = tensor(1.3187, device='cuda:0', grad_fn=<NllLoss2DBackward>)\n",
      "EPOCH:  192\n"
     ]
    },
    {
     "data": {
      "image/png": "[encoded data removed]",
      "text/plain": [
       "<PIL.Image.Image image mode=RGB size=60x60 at 0x7F63200A4370>"
      ]
     },
     "metadata": {},
     "output_type": "display_data"
    },
    {
     "name": "stdout",
     "output_type": "stream",
     "text": [
      "Learning rate:  7.776e-05\n",
      "Loss = tensor(1.3455, device='cuda:0', grad_fn=<NllLoss2DBackward>)\n",
      "Loss = tensor(1.3236, device='cuda:0', grad_fn=<NllLoss2DBackward>)\n",
      "EPOCH:  193\n"
     ]
    },
    {
     "data": {
      "image/png": "[encoded data removed]",
      "text/plain": [
       "<PIL.Image.Image image mode=RGB size=60x60 at 0x7F63200A49A0>"
      ]
     },
     "metadata": {},
     "output_type": "display_data"
    },
    {
     "name": "stdout",
     "output_type": "stream",
     "text": [
      "Learning rate:  7.776e-05\n",
      "Loss = tensor(1.3339, device='cuda:0', grad_fn=<NllLoss2DBackward>)\n",
      "Loss = tensor(1.3331, device='cuda:0', grad_fn=<NllLoss2DBackward>)\n",
      "Loss = tensor(1.3654, device='cuda:0', grad_fn=<NllLoss2DBackward>)\n",
      "Loss = tensor(1.3339, device='cuda:0', grad_fn=<NllLoss2DBackward>)\n",
      "Loss = tensor(1.2944, device='cuda:0', grad_fn=<NllLoss2DBackward>)\n",
      "EPOCH:  193\n"
     ]
    },
    {
     "data": {
      "image/png": "[encoded data removed]",
      "text/plain": [
       "<PIL.Image.Image image mode=RGB size=60x60 at 0x7F63200A49A0>"
      ]
     },
     "metadata": {},
     "output_type": "display_data"
    },
    {
     "name": "stdout",
     "output_type": "stream",
     "text": [
      "Learning rate:  7.776e-05\n",
      "Loss = tensor(1.3518, device='cuda:0', grad_fn=<NllLoss2DBackward>)\n",
      "Loss = tensor(1.3238, device='cuda:0', grad_fn=<NllLoss2DBackward>)\n",
      "Loss = tensor(1.3355, device='cuda:0', grad_fn=<NllLoss2DBackward>)\n",
      "Loss = tensor(1.3102, device='cuda:0', grad_fn=<NllLoss2DBackward>)\n",
      "Loss = tensor(1.3304, device='cuda:0', grad_fn=<NllLoss2DBackward>)\n",
      "EPOCH:  193\n"
     ]
    },
    {
     "data": {
      "image/png": "[encoded data removed]",
      "text/plain": [
       "<PIL.Image.Image image mode=RGB size=60x60 at 0x7F63200A4670>"
      ]
     },
     "metadata": {},
     "output_type": "display_data"
    },
    {
     "name": "stdout",
     "output_type": "stream",
     "text": [
      "Learning rate:  7.776e-05\n",
      "Loss = tensor(1.3406, device='cuda:0', grad_fn=<NllLoss2DBackward>)\n",
      "Loss = tensor(1.3251, device='cuda:0', grad_fn=<NllLoss2DBackward>)\n",
      "EPOCH:  194\n"
     ]
    },
    {
     "data": {
      "image/png": "[encoded data removed]",
      "text/plain": [
       "<PIL.Image.Image image mode=RGB size=60x60 at 0x7F63200A46A0>"
      ]
     },
     "metadata": {},
     "output_type": "display_data"
    },
    {
     "name": "stdout",
     "output_type": "stream",
     "text": [
      "Learning rate:  7.776e-05\n",
      "Loss = tensor(1.3392, device='cuda:0', grad_fn=<NllLoss2DBackward>)\n",
      "Loss = tensor(1.3083, device='cuda:0', grad_fn=<NllLoss2DBackward>)\n",
      "Loss = tensor(1.3194, device='cuda:0', grad_fn=<NllLoss2DBackward>)\n",
      "Loss = tensor(1.3256, device='cuda:0', grad_fn=<NllLoss2DBackward>)\n",
      "Loss = tensor(1.3360, device='cuda:0', grad_fn=<NllLoss2DBackward>)\n",
      "EPOCH:  194\n"
     ]
    },
    {
     "data": {
      "image/png": "[encoded data removed]",
      "text/plain": [
       "<PIL.Image.Image image mode=RGB size=60x60 at 0x7F63200A46D0>"
      ]
     },
     "metadata": {},
     "output_type": "display_data"
    },
    {
     "name": "stdout",
     "output_type": "stream",
     "text": [
      "Learning rate:  7.776e-05\n",
      "Loss = tensor(1.3327, device='cuda:0', grad_fn=<NllLoss2DBackward>)\n",
      "Loss = tensor(1.3152, device='cuda:0', grad_fn=<NllLoss2DBackward>)\n",
      "Loss = tensor(1.3367, device='cuda:0', grad_fn=<NllLoss2DBackward>)\n",
      "Loss = tensor(1.3409, device='cuda:0', grad_fn=<NllLoss2DBackward>)\n",
      "Loss = tensor(1.3758, device='cuda:0', grad_fn=<NllLoss2DBackward>)\n",
      "EPOCH:  194\n"
     ]
    },
    {
     "data": {
      "image/png": "[encoded data removed]",
      "text/plain": [
       "<PIL.Image.Image image mode=RGB size=60x60 at 0x7F63200A46D0>"
      ]
     },
     "metadata": {},
     "output_type": "display_data"
    },
    {
     "name": "stdout",
     "output_type": "stream",
     "text": [
      "Learning rate:  7.776e-05\n",
      "Loss = tensor(1.3133, device='cuda:0', grad_fn=<NllLoss2DBackward>)\n",
      "Loss = tensor(1.3289, device='cuda:0', grad_fn=<NllLoss2DBackward>)\n",
      "EPOCH:  195\n"
     ]
    },
    {
     "data": {
      "image/png": "[encoded data removed]",
      "text/plain": [
       "<PIL.Image.Image image mode=RGB size=60x60 at 0x7F63200A4490>"
      ]
     },
     "metadata": {},
     "output_type": "display_data"
    },
    {
     "name": "stdout",
     "output_type": "stream",
     "text": [
      "Learning rate:  7.776e-05\n",
      "Loss = tensor(1.3271, device='cuda:0', grad_fn=<NllLoss2DBackward>)\n",
      "Loss = tensor(1.3229, device='cuda:0', grad_fn=<NllLoss2DBackward>)\n",
      "Loss = tensor(1.3279, device='cuda:0', grad_fn=<NllLoss2DBackward>)\n",
      "Loss = tensor(1.3103, device='cuda:0', grad_fn=<NllLoss2DBackward>)\n",
      "Loss = tensor(1.3436, device='cuda:0', grad_fn=<NllLoss2DBackward>)\n",
      "EPOCH:  195\n"
     ]
    },
    {
     "data": {
      "image/png": "[encoded data removed]",
      "text/plain": [
       "<PIL.Image.Image image mode=RGB size=60x60 at 0x7F63200A4910>"
      ]
     },
     "metadata": {},
     "output_type": "display_data"
    },
    {
     "name": "stdout",
     "output_type": "stream",
     "text": [
      "Learning rate:  7.776e-05\n",
      "Loss = tensor(1.3114, device='cuda:0', grad_fn=<NllLoss2DBackward>)\n",
      "Loss = tensor(1.3777, device='cuda:0', grad_fn=<NllLoss2DBackward>)\n",
      "Loss = tensor(1.3099, device='cuda:0', grad_fn=<NllLoss2DBackward>)\n",
      "Loss = tensor(1.3790, device='cuda:0', grad_fn=<NllLoss2DBackward>)\n",
      "Loss = tensor(1.3194, device='cuda:0', grad_fn=<NllLoss2DBackward>)\n",
      "EPOCH:  195\n"
     ]
    },
    {
     "data": {
      "image/png": "[encoded data removed]",
      "text/plain": [
       "<PIL.Image.Image image mode=RGB size=60x60 at 0x7F63200A4820>"
      ]
     },
     "metadata": {},
     "output_type": "display_data"
    },
    {
     "name": "stdout",
     "output_type": "stream",
     "text": [
      "Learning rate:  7.776e-05\n",
      "Loss = tensor(1.3112, device='cuda:0', grad_fn=<NllLoss2DBackward>)\n",
      "Loss = tensor(1.3268, device='cuda:0', grad_fn=<NllLoss2DBackward>)\n",
      "EPOCH:  196\n"
     ]
    },
    {
     "data": {
      "image/png": "[encoded data removed]",
      "text/plain": [
       "<PIL.Image.Image image mode=RGB size=60x60 at 0x7F63200A45B0>"
      ]
     },
     "metadata": {},
     "output_type": "display_data"
    },
    {
     "name": "stdout",
     "output_type": "stream",
     "text": [
      "Learning rate:  7.776e-05\n",
      "Loss = tensor(1.3479, device='cuda:0', grad_fn=<NllLoss2DBackward>)\n",
      "Loss = tensor(1.3408, device='cuda:0', grad_fn=<NllLoss2DBackward>)\n",
      "Loss = tensor(1.3388, device='cuda:0', grad_fn=<NllLoss2DBackward>)\n",
      "Loss = tensor(1.3391, device='cuda:0', grad_fn=<NllLoss2DBackward>)\n",
      "Loss = tensor(1.3178, device='cuda:0', grad_fn=<NllLoss2DBackward>)\n",
      "EPOCH:  196\n"
     ]
    },
    {
     "data": {
      "image/png": "[encoded data removed]",
      "text/plain": [
       "<PIL.Image.Image image mode=RGB size=60x60 at 0x7F63200A4820>"
      ]
     },
     "metadata": {},
     "output_type": "display_data"
    },
    {
     "name": "stdout",
     "output_type": "stream",
     "text": [
      "Learning rate:  7.776e-05\n",
      "Loss = tensor(1.3186, device='cuda:0', grad_fn=<NllLoss2DBackward>)\n",
      "Loss = tensor(1.3262, device='cuda:0', grad_fn=<NllLoss2DBackward>)\n",
      "Loss = tensor(1.3220, device='cuda:0', grad_fn=<NllLoss2DBackward>)\n",
      "Loss = tensor(1.3013, device='cuda:0', grad_fn=<NllLoss2DBackward>)\n",
      "Loss = tensor(1.3571, device='cuda:0', grad_fn=<NllLoss2DBackward>)\n",
      "EPOCH:  196\n"
     ]
    },
    {
     "data": {
      "image/png": "[encoded data removed]",
      "text/plain": [
       "<PIL.Image.Image image mode=RGB size=60x60 at 0x7F63200A4790>"
      ]
     },
     "metadata": {},
     "output_type": "display_data"
    },
    {
     "name": "stdout",
     "output_type": "stream",
     "text": [
      "Learning rate:  7.776e-05\n",
      "Loss = tensor(1.3328, device='cuda:0', grad_fn=<NllLoss2DBackward>)\n",
      "Loss = tensor(1.2991, device='cuda:0', grad_fn=<NllLoss2DBackward>)\n",
      "EPOCH:  197\n"
     ]
    },
    {
     "data": {
      "image/png": "[encoded data removed]",
      "text/plain": [
       "<PIL.Image.Image image mode=RGB size=60x60 at 0x7F63200A4340>"
      ]
     },
     "metadata": {},
     "output_type": "display_data"
    },
    {
     "name": "stdout",
     "output_type": "stream",
     "text": [
      "Learning rate:  7.776e-05\n",
      "Loss = tensor(1.3444, device='cuda:0', grad_fn=<NllLoss2DBackward>)\n",
      "Loss = tensor(1.3183, device='cuda:0', grad_fn=<NllLoss2DBackward>)\n",
      "Loss = tensor(1.3287, device='cuda:0', grad_fn=<NllLoss2DBackward>)\n",
      "Loss = tensor(1.3331, device='cuda:0', grad_fn=<NllLoss2DBackward>)\n",
      "Loss = tensor(1.3295, device='cuda:0', grad_fn=<NllLoss2DBackward>)\n",
      "EPOCH:  197\n"
     ]
    },
    {
     "data": {
      "image/png": "[encoded data removed]",
      "text/plain": [
       "<PIL.Image.Image image mode=RGB size=60x60 at 0x7F63200A4940>"
      ]
     },
     "metadata": {},
     "output_type": "display_data"
    },
    {
     "name": "stdout",
     "output_type": "stream",
     "text": [
      "Learning rate:  7.776e-05\n",
      "Loss = tensor(1.3477, device='cuda:0', grad_fn=<NllLoss2DBackward>)\n",
      "Loss = tensor(1.3176, device='cuda:0', grad_fn=<NllLoss2DBackward>)\n",
      "Loss = tensor(1.2988, device='cuda:0', grad_fn=<NllLoss2DBackward>)\n",
      "Loss = tensor(1.3477, device='cuda:0', grad_fn=<NllLoss2DBackward>)\n",
      "Loss = tensor(1.3212, device='cuda:0', grad_fn=<NllLoss2DBackward>)\n",
      "EPOCH:  197\n"
     ]
    },
    {
     "data": {
      "image/png": "[encoded data removed]",
      "text/plain": [
       "<PIL.Image.Image image mode=RGB size=60x60 at 0x7F63200A46D0>"
      ]
     },
     "metadata": {},
     "output_type": "display_data"
    },
    {
     "name": "stdout",
     "output_type": "stream",
     "text": [
      "Learning rate:  7.776e-05\n",
      "Loss = tensor(1.3872, device='cuda:0', grad_fn=<NllLoss2DBackward>)\n",
      "Loss = tensor(1.3319, device='cuda:0', grad_fn=<NllLoss2DBackward>)\n",
      "EPOCH:  198\n"
     ]
    },
    {
     "data": {
      "image/png": "[encoded data removed]",
      "text/plain": [
       "<PIL.Image.Image image mode=RGB size=60x60 at 0x7F63200A45E0>"
      ]
     },
     "metadata": {},
     "output_type": "display_data"
    },
    {
     "name": "stdout",
     "output_type": "stream",
     "text": [
      "Learning rate:  7.776e-05\n",
      "Loss = tensor(1.3180, device='cuda:0', grad_fn=<NllLoss2DBackward>)\n",
      "Loss = tensor(1.3136, device='cuda:0', grad_fn=<NllLoss2DBackward>)\n",
      "Loss = tensor(1.3282, device='cuda:0', grad_fn=<NllLoss2DBackward>)\n",
      "Loss = tensor(1.3159, device='cuda:0', grad_fn=<NllLoss2DBackward>)\n",
      "Loss = tensor(1.3312, device='cuda:0', grad_fn=<NllLoss2DBackward>)\n",
      "EPOCH:  198\n"
     ]
    },
    {
     "data": {
      "image/png": "[encoded data removed]",
      "text/plain": [
       "<PIL.Image.Image image mode=RGB size=60x60 at 0x7F63200A4400>"
      ]
     },
     "metadata": {},
     "output_type": "display_data"
    },
    {
     "name": "stdout",
     "output_type": "stream",
     "text": [
      "Learning rate:  7.776e-05\n",
      "Loss = tensor(1.3211, device='cuda:0', grad_fn=<NllLoss2DBackward>)\n",
      "Loss = tensor(1.3465, device='cuda:0', grad_fn=<NllLoss2DBackward>)\n",
      "Loss = tensor(1.3385, device='cuda:0', grad_fn=<NllLoss2DBackward>)\n",
      "Loss = tensor(1.3671, device='cuda:0', grad_fn=<NllLoss2DBackward>)\n",
      "Loss = tensor(1.3244, device='cuda:0', grad_fn=<NllLoss2DBackward>)\n",
      "EPOCH:  198\n"
     ]
    },
    {
     "data": {
      "image/png": "[encoded data removed]",
      "text/plain": [
       "<PIL.Image.Image image mode=RGB size=60x60 at 0x7F63200A4370>"
      ]
     },
     "metadata": {},
     "output_type": "display_data"
    },
    {
     "name": "stdout",
     "output_type": "stream",
     "text": [
      "Learning rate:  7.776e-05\n",
      "Loss = tensor(1.3328, device='cuda:0', grad_fn=<NllLoss2DBackward>)\n",
      "Loss = tensor(1.3185, device='cuda:0', grad_fn=<NllLoss2DBackward>)\n",
      "EPOCH:  199\n"
     ]
    },
    {
     "data": {
      "image/png": "[encoded data removed]",
      "text/plain": [
       "<PIL.Image.Image image mode=RGB size=60x60 at 0x7F63200A4970>"
      ]
     },
     "metadata": {},
     "output_type": "display_data"
    },
    {
     "name": "stdout",
     "output_type": "stream",
     "text": [
      "Learning rate:  7.776e-05\n",
      "Loss = tensor(1.3488, device='cuda:0', grad_fn=<NllLoss2DBackward>)\n",
      "Loss = tensor(1.3036, device='cuda:0', grad_fn=<NllLoss2DBackward>)\n",
      "Loss = tensor(1.3233, device='cuda:0', grad_fn=<NllLoss2DBackward>)\n",
      "Loss = tensor(1.3161, device='cuda:0', grad_fn=<NllLoss2DBackward>)\n",
      "Loss = tensor(1.3295, device='cuda:0', grad_fn=<NllLoss2DBackward>)\n",
      "EPOCH:  199\n"
     ]
    },
    {
     "data": {
      "image/png": "[encoded data removed]",
      "text/plain": [
       "<PIL.Image.Image image mode=RGB size=60x60 at 0x7F63200A4670>"
      ]
     },
     "metadata": {},
     "output_type": "display_data"
    },
    {
     "name": "stdout",
     "output_type": "stream",
     "text": [
      "Learning rate:  7.776e-05\n",
      "Loss = tensor(1.3403, device='cuda:0', grad_fn=<NllLoss2DBackward>)\n",
      "Loss = tensor(1.3126, device='cuda:0', grad_fn=<NllLoss2DBackward>)\n",
      "Loss = tensor(1.3176, device='cuda:0', grad_fn=<NllLoss2DBackward>)\n",
      "Loss = tensor(1.3759, device='cuda:0', grad_fn=<NllLoss2DBackward>)\n",
      "Loss = tensor(1.3521, device='cuda:0', grad_fn=<NllLoss2DBackward>)\n",
      "EPOCH:  199\n"
     ]
    },
    {
     "data": {
      "image/png": "[encoded data removed]",
      "text/plain": [
       "<PIL.Image.Image image mode=RGB size=60x60 at 0x7F63200A4640>"
      ]
     },
     "metadata": {},
     "output_type": "display_data"
    },
    {
     "name": "stdout",
     "output_type": "stream",
     "text": [
      "Learning rate:  7.776e-05\n",
      "Loss = tensor(1.3307, device='cuda:0', grad_fn=<NllLoss2DBackward>)\n"
     ]
    }
   ],
   "source": [
    "# Cross-entropy training loop\n",
    "for epoch in range(epochs):\n",
    "    i = 0\n",
    "    # Last is so we can record the steps from the final epoch\n",
    "    last = False\n",
    "    if epoch == epochs:\n",
    "        last = True\n",
    "    for batch in train_loader_CE:\n",
    "        inputs, targets = batch\n",
    "        if last == True:\n",
    "            x, epoch_history = model.forward(130, inputs, last=last)\n",
    "        else:\n",
    "            x = model.forward(130, inputs, last=last)\n",
    "            \n",
    "        b = get_rgb(x)\n",
    "        #out = loss1(b,c) + 4*loss1(b[3],c[3])+15*loss1(b[4],c[4])+4*loss1(b[5],c[5])\n",
    "        out = loss2(b, targets.detach().long())\n",
    "        print(\"Loss =\", out)\n",
    "        loss_ce.append(float(out))\n",
    "        c = b.detach().clone()\n",
    "        \n",
    "        if (i % 5 == 0):\n",
    "            print(\"EPOCH: \", epoch)\n",
    "            display(ts(max_rgb(c)[0]))\n",
    "            print(\"Learning rate: \", scheduler.get_last_lr()[0])\n",
    "            del c\n",
    "        i += 1\n",
    "        \n",
    "        optimizer.zero_grad()\n",
    "        out.backward()\n",
    "        optimizer.step()\n",
    "    scheduler.step()"
   ]
  },
  {
   "cell_type": "code",
   "execution_count": 14,
   "id": "premium-kingdom",
   "metadata": {},
   "outputs": [],
   "source": [
    "torch.save(model, 'misc_figures/naive.pth')"
   ]
  },
  {
   "cell_type": "code",
   "execution_count": 26,
   "id": "coated-paragraph",
   "metadata": {},
   "outputs": [
    {
     "data": {
      "image/gif": "[encoded data removed]",
      "text/plain": [
       "<IPython.core.display.Image object>"
      ]
     },
     "execution_count": 26,
     "metadata": {},
     "output_type": "execute_result"
    }
   ],
   "source": [
    "from IPython.display import display, Image\n",
    "Image('final.gif')"
   ]
  },
  {
   "cell_type": "code",
   "execution_count": null,
   "id": "stuck-vaccine",
   "metadata": {},
   "outputs": [],
   "source": [
    "plt.plot(loss_mse)"
   ]
  },
  {
   "cell_type": "code",
   "execution_count": 31,
   "id": "under-tokyo",
   "metadata": {},
   "outputs": [
    {
     "data": {
      "text/plain": [
       "torch.Size([5, 4900])"
      ]
     },
     "execution_count": 31,
     "metadata": {},
     "output_type": "execute_result"
    }
   ],
   "source": [
    "torch.argmax(get_rgb(x), dim=1).flatten(1,2).shape"
   ]
  },
  {
   "cell_type": "code",
   "execution_count": 28,
   "id": "graphic-journalist",
   "metadata": {},
   "outputs": [
    {
     "name": "stdout",
     "output_type": "stream",
     "text": [
      "torch.Size([60, 60, 4])\n"
     ]
    },
    {
     "data": {
      "image/png": "[encoded data removed]",
      "text/plain": [
       "<Figure size 432x288 with 1 Axes>"
      ]
     },
     "metadata": {
      "needs_background": "light"
     },
     "output_type": "display_data"
    }
   ],
   "source": [
    "# Show certainty of pixels\n",
    "\n",
    "a = max_rgba(b[0]).detach().clone().to('cpu')\n",
    "plt.imshow(a.transpose(1,2).transpose(0,2))\n",
    "plt.show()"
   ]
  },
  {
   "cell_type": "code",
   "execution_count": 39,
   "id": "effective-killing",
   "metadata": {},
   "outputs": [],
   "source": [
    "# Save final iterations as gif\n",
    "\n",
    "epoch_new = [ts(i) for i in epoch_history]\n",
    "epoch_new[0].save('anitest.gif',\n",
    "               save_all=True,\n",
    "               append_images=epoch_new[1:],\n",
    "               duration=1000,\n",
    "               loop=0)"
   ]
  },
  {
   "cell_type": "code",
   "execution_count": 12,
   "id": "characteristic-gospel",
   "metadata": {},
   "outputs": [],
   "source": [
    "from sklearn.metrics import confusion_matrix\n",
    "from sklearn.metrics import mutual_info_score \n",
    "from sklearn.metrics import ConfusionMatrixDisplay\n",
    "\n",
    "def dice(pred, truth, epsilon=1e-6):\n",
    "    pred = pred.view(-1).cpu()\n",
    "    target = truth.view(-1).cpu()\n",
    "\n",
    "    x = confusion_matrix(pred, target)\n",
    "    \n",
    "    FP = x.sum(axis=0) - np.diag(x)\n",
    "    FN = x.sum(axis=1) - np.diag(x)\n",
    "    TP = np.diag(x)\n",
    "    TN = x.sum() - (FP + FN + TP)\n",
    "    \n",
    "    FP = np.sum(FP)\n",
    "    FN = np.sum(FN)\n",
    "    TP = np.sum(TP)\n",
    "    TN = np.sum(TN)\n",
    "    \n",
    "    d5 = 2*TP+FN+FP\n",
    "    if d5 == 0:\n",
    "        d5 = epsilon\n",
    "    dice = 2*TP/d5\n",
    "    \n",
    "    return dice  \n",
    "\n",
    "# Precision, Recall, Accuracy and Specificity Score\n",
    "def pras(pred, truth):\n",
    "    \n",
    "    # Convert to format for confusion matrix\n",
    "    pred = pred.view(-1).cpu()\n",
    "    target = truth.view(-1).cpu()\n",
    "\n",
    "    x = confusion_matrix(pred, target)\n",
    "\n",
    "    # Calculate FP, FN, TP, TN\n",
    "    FP = x.sum(axis=0) - np.diag(x)\n",
    "    FN = x.sum(axis=1) - np.diag(x)\n",
    "    TP = np.diag(x)\n",
    "    TN = x.sum() - (FP + FN + TP)\n",
    "    \n",
    "    # Set the denominators and deal with 0 denominators\n",
    "    d1 = TP+FP\n",
    "    d1[np.where(d1==0)] = -1\n",
    "    d2 = TP+FN\n",
    "    d2[np.where(d2==0)] = -1\n",
    "    d3 = TP+TN+FP+FN\n",
    "    d3[np.where(d3==0)] = -1\n",
    "    d4 = TN+FP\n",
    "    d4[np.where(d4==0)] = -1\n",
    "\n",
    "    # Calculate and return scores\n",
    "    precision = TP/d1\n",
    "    recall = TP/d2\n",
    "    accuracy = (TP+TN)/d3\n",
    "    specificity = TN/d4\n",
    "    \n",
    "    return precision, recall, accuracy, specificity\n",
    "\n",
    "# Recall Score\n",
    "def overall_pras(pred, truth):\n",
    "    \n",
    "    # Convert to format for confusion matrix\n",
    "    pred = pred.view(-1).cpu()\n",
    "    target = truth.view(-1).cpu()\n",
    "    \n",
    "    x = confusion_matrix(pred, target)\n",
    "\n",
    "    FP = x.sum(axis=0) - np.diag(x)  \n",
    "    FN = x.sum(axis=1) - np.diag(x)\n",
    "    TP = np.diag(x)\n",
    "    TN = x.sum() - (FP + FN + TP)\n",
    "    \n",
    "    # Sum the values for overall values\n",
    "    FP = np.sum(FP)\n",
    "    FN = np.sum(FN)\n",
    "    TP = np.sum(TP)\n",
    "    TN = np.sum(TN)\n",
    "    \n",
    "    # Set the denominators and deal with 0 denominators\n",
    "    d1 = TP+FP\n",
    "    d2 = TP+FN\n",
    "    d3 = TP+TN+FP+FN\n",
    "    d4 = TN+FP\n",
    "    \n",
    "    # Calculate and return scores and deal with potential 0 denominators\n",
    "    if d1 > 0:\n",
    "        precision = TP/d1\n",
    "    else:\n",
    "        precision = -1\n",
    "        \n",
    "    if d2 > 0:\n",
    "        recall = TP/d2\n",
    "    else:\n",
    "        recall = -1\n",
    "    \n",
    "    if d3 > 0:\n",
    "        accuracy = (TP+TN)/d3\n",
    "    else:\n",
    "        d3 = -1\n",
    "        \n",
    "    if d4 > 0:\n",
    "        specificity = TN/d4\n",
    "    else:\n",
    "        specificity = -1\n",
    "    \n",
    "    return precision, recall, accuracy, specificity\n",
    "\n",
    "# Mutual Information\n",
    "def mi(pred, target):\n",
    "    print(pred.squeeze().shape)\n",
    "    print(target.flatten().shape)\n",
    "    return mutual_info_score(pred.flatten().cpu(), target.flatten().cpu())\n",
    "\n",
    "def get_confusion(pred, target):\n",
    "    pred = pred.view(-1).cpu()\n",
    "    target = target.view(-1).cpu()\n",
    "    x = confusion_matrix(pred.cpu(), target.cpu())\n",
    "    return x\n",
    "\n",
    "def print_confusion(conf):\n",
    "    xt = [\"Background\", \"Hair\", \"Face\", \"Nose\", \"Eyes\", \"Mouth\"]\n",
    "    sns.set(font_scale=1.4, rc={'figure.figsize':(11.7,8.27)}) \n",
    "    sns.heatmap(conf, annot=True, annot_kws={\"size\": 16}, fmt='g', xticklabels=xt, yticklabels=xt)\n",
    "    plt.savefig(\"confusion.png\")"
   ]
  },
  {
   "cell_type": "code",
   "execution_count": 13,
   "id": "separate-negative",
   "metadata": {},
   "outputs": [],
   "source": [
    "# Empty lists for precision, recall, accuracy, specificity, DICE\n",
    "\n",
    "po_list = []\n",
    "ro_list = []\n",
    "ao_list = []\n",
    "so_list = []\n",
    "\n",
    "p_list = []\n",
    "r_list = []\n",
    "a_list = []\n",
    "s_list = []\n",
    "\n",
    "dice_list = []\n",
    "mi_list = []"
   ]
  },
  {
   "cell_type": "code",
   "execution_count": 14,
   "id": "distinct-possibility",
   "metadata": {
    "scrolled": true
   },
   "outputs": [
    {
     "name": "stdout",
     "output_type": "stream",
     "text": [
      "Loss = tensor(1.6257, device='cuda:0')\n",
      "torch.Size([60, 60])\n",
      "torch.Size([3600])\n"
     ]
    },
    {
     "data": {
      "image/png": "[encoded data removed]",
      "text/plain": [
       "<PIL.Image.Image image mode=RGB size=60x60 at 0x7F1F9401FC10>"
      ]
     },
     "metadata": {},
     "output_type": "display_data"
    },
    {
     "name": "stdout",
     "output_type": "stream",
     "text": [
      "1.6256805658340454\n",
      "Loss = tensor(1.2909, device='cuda:0')\n",
      "torch.Size([60, 60])\n",
      "torch.Size([3600])\n"
     ]
    },
    {
     "data": {
      "image/png": "[encoded data removed]",
      "text/plain": [
       "<PIL.Image.Image image mode=RGB size=60x60 at 0x7F20E28352B0>"
      ]
     },
     "metadata": {},
     "output_type": "display_data"
    },
    {
     "name": "stdout",
     "output_type": "stream",
     "text": [
      "1.2909468412399292\n",
      "Loss = tensor(1.3848, device='cuda:0')\n",
      "torch.Size([60, 60])\n",
      "torch.Size([3600])\n"
     ]
    },
    {
     "data": {
      "image/png": "[encoded data removed]",
      "text/plain": [
       "<PIL.Image.Image image mode=RGB size=60x60 at 0x7F20E2835130>"
      ]
     },
     "metadata": {},
     "output_type": "display_data"
    },
    {
     "name": "stdout",
     "output_type": "stream",
     "text": [
      "1.3847682476043701\n",
      "Loss = tensor(1.3942, device='cuda:0')\n",
      "torch.Size([60, 60])\n",
      "torch.Size([3600])\n"
     ]
    },
    {
     "data": {
      "image/png": "[encoded data removed]",
      "text/plain": [
       "<PIL.Image.Image image mode=RGB size=60x60 at 0x7F20E2835130>"
      ]
     },
     "metadata": {},
     "output_type": "display_data"
    },
    {
     "name": "stdout",
     "output_type": "stream",
     "text": [
      "1.394240140914917\n",
      "Loss = tensor(1.2760, device='cuda:0')\n",
      "torch.Size([60, 60])\n",
      "torch.Size([3600])\n"
     ]
    },
    {
     "data": {
      "image/png": "[encoded data removed]",
      "text/plain": [
       "<PIL.Image.Image image mode=RGB size=60x60 at 0x7F2170595FA0>"
      ]
     },
     "metadata": {},
     "output_type": "display_data"
    },
    {
     "name": "stdout",
     "output_type": "stream",
     "text": [
      "1.275985836982727\n",
      "Loss = tensor(1.3382, device='cuda:0')\n",
      "torch.Size([60, 60])\n",
      "torch.Size([3600])\n"
     ]
    },
    {
     "data": {
      "image/png": "[encoded data removed]",
      "text/plain": [
       "<PIL.Image.Image image mode=RGB size=60x60 at 0x7F2170595DF0>"
      ]
     },
     "metadata": {},
     "output_type": "display_data"
    },
    {
     "name": "stdout",
     "output_type": "stream",
     "text": [
      "1.338197946548462\n",
      "Loss = tensor(1.3876, device='cuda:0')\n",
      "torch.Size([60, 60])\n",
      "torch.Size([3600])\n"
     ]
    },
    {
     "data": {
      "image/png": "[encoded data removed]",
      "text/plain": [
       "<PIL.Image.Image image mode=RGB size=60x60 at 0x7F2170595F10>"
      ]
     },
     "metadata": {},
     "output_type": "display_data"
    },
    {
     "name": "stdout",
     "output_type": "stream",
     "text": [
      "1.3876286745071411\n",
      "Loss = tensor(1.3286, device='cuda:0')\n",
      "torch.Size([60, 60])\n",
      "torch.Size([3600])\n"
     ]
    },
    {
     "data": {
      "image/png": "[encoded data removed]",
      "text/plain": [
       "<PIL.Image.Image image mode=RGB size=60x60 at 0x7F2170595580>"
      ]
     },
     "metadata": {},
     "output_type": "display_data"
    },
    {
     "name": "stdout",
     "output_type": "stream",
     "text": [
      "1.3285850286483765\n",
      "Loss = tensor(1.3165, device='cuda:0')\n",
      "torch.Size([60, 60])\n",
      "torch.Size([3600])\n"
     ]
    },
    {
     "data": {
      "image/png": "[encoded data removed]",
      "text/plain": [
       "<PIL.Image.Image image mode=RGB size=60x60 at 0x7F2170595FA0>"
      ]
     },
     "metadata": {},
     "output_type": "display_data"
    },
    {
     "name": "stdout",
     "output_type": "stream",
     "text": [
      "1.3164860010147095\n",
      "Loss = tensor(1.3535, device='cuda:0')\n",
      "torch.Size([60, 60])\n",
      "torch.Size([3600])\n"
     ]
    },
    {
     "data": {
      "image/png": "[encoded data removed]",
      "text/plain": [
       "<PIL.Image.Image image mode=RGB size=60x60 at 0x7F20E2835310>"
      ]
     },
     "metadata": {},
     "output_type": "display_data"
    },
    {
     "name": "stdout",
     "output_type": "stream",
     "text": [
      "1.3534773588180542\n",
      "Loss = tensor(1.2847, device='cuda:0')\n",
      "torch.Size([60, 60])\n",
      "torch.Size([3600])\n"
     ]
    },
    {
     "data": {
      "image/png": "[encoded data removed]",
      "text/plain": [
       "<PIL.Image.Image image mode=RGB size=60x60 at 0x7F20E28352B0>"
      ]
     },
     "metadata": {},
     "output_type": "display_data"
    },
    {
     "name": "stdout",
     "output_type": "stream",
     "text": [
      "1.284747838973999\n",
      "Loss = tensor(1.2992, device='cuda:0')\n",
      "torch.Size([60, 60])\n",
      "torch.Size([3600])\n"
     ]
    },
    {
     "data": {
      "image/png": "[encoded data removed]",
      "text/plain": [
       "<PIL.Image.Image image mode=RGB size=60x60 at 0x7F20E2835610>"
      ]
     },
     "metadata": {},
     "output_type": "display_data"
    },
    {
     "name": "stdout",
     "output_type": "stream",
     "text": [
      "1.2991952896118164\n",
      "Loss = tensor(1.4886, device='cuda:0')\n",
      "torch.Size([60, 60])\n",
      "torch.Size([3600])\n"
     ]
    },
    {
     "data": {
      "image/png": "[encoded data removed]",
      "text/plain": [
       "<PIL.Image.Image image mode=RGB size=60x60 at 0x7F20E28352B0>"
      ]
     },
     "metadata": {},
     "output_type": "display_data"
    },
    {
     "name": "stdout",
     "output_type": "stream",
     "text": [
      "1.488637089729309\n",
      "Loss = tensor(1.2852, device='cuda:0')\n",
      "torch.Size([60, 60])\n",
      "torch.Size([3600])\n"
     ]
    },
    {
     "data": {
      "image/png": "[encoded data removed]",
      "text/plain": [
       "<PIL.Image.Image image mode=RGB size=60x60 at 0x7F20E28352B0>"
      ]
     },
     "metadata": {},
     "output_type": "display_data"
    },
    {
     "name": "stdout",
     "output_type": "stream",
     "text": [
      "1.2851858139038086\n",
      "Loss = tensor(1.3334, device='cuda:0')\n",
      "torch.Size([60, 60])\n",
      "torch.Size([3600])\n"
     ]
    },
    {
     "data": {
      "image/png": "[encoded data removed]",
      "text/plain": [
       "<PIL.Image.Image image mode=RGB size=60x60 at 0x7F20E2835130>"
      ]
     },
     "metadata": {},
     "output_type": "display_data"
    },
    {
     "name": "stdout",
     "output_type": "stream",
     "text": [
      "1.3333861827850342\n",
      "Loss = tensor(1.2625, device='cuda:0')\n",
      "torch.Size([60, 60])\n",
      "torch.Size([3600])\n"
     ]
    },
    {
     "data": {
      "image/png": "[encoded data removed]",
      "text/plain": [
       "<PIL.Image.Image image mode=RGB size=60x60 at 0x7F2170595DF0>"
      ]
     },
     "metadata": {},
     "output_type": "display_data"
    },
    {
     "name": "stdout",
     "output_type": "stream",
     "text": [
      "1.2625274658203125\n",
      "Loss = tensor(1.3842, device='cuda:0')\n",
      "torch.Size([60, 60])\n",
      "torch.Size([3600])\n"
     ]
    },
    {
     "data": {
      "image/png": "[encoded data removed]",
      "text/plain": [
       "<PIL.Image.Image image mode=RGB size=60x60 at 0x7F20E28352B0>"
      ]
     },
     "metadata": {},
     "output_type": "display_data"
    },
    {
     "name": "stdout",
     "output_type": "stream",
     "text": [
      "1.3842464685440063\n",
      "Loss = tensor(1.2911, device='cuda:0')\n",
      "torch.Size([60, 60])\n",
      "torch.Size([3600])\n"
     ]
    },
    {
     "data": {
      "image/png": "[encoded data removed]",
      "text/plain": [
       "<PIL.Image.Image image mode=RGB size=60x60 at 0x7F2170595F10>"
      ]
     },
     "metadata": {},
     "output_type": "display_data"
    },
    {
     "name": "stdout",
     "output_type": "stream",
     "text": [
      "1.2910785675048828\n",
      "Loss = tensor(1.4117, device='cuda:0')\n",
      "torch.Size([60, 60])\n",
      "torch.Size([3600])\n"
     ]
    },
    {
     "data": {
      "image/png": "[encoded data removed]",
      "text/plain": [
       "<PIL.Image.Image image mode=RGB size=60x60 at 0x7F20E2835130>"
      ]
     },
     "metadata": {},
     "output_type": "display_data"
    },
    {
     "name": "stdout",
     "output_type": "stream",
     "text": [
      "1.4116612672805786\n",
      "Loss = tensor(1.3177, device='cuda:0')\n",
      "torch.Size([60, 60])\n",
      "torch.Size([3600])\n"
     ]
    },
    {
     "data": {
      "image/png": "[encoded data removed]",
      "text/plain": [
       "<PIL.Image.Image image mode=RGB size=60x60 at 0x7F20E2835130>"
      ]
     },
     "metadata": {},
     "output_type": "display_data"
    },
    {
     "name": "stdout",
     "output_type": "stream",
     "text": [
      "1.317700982093811\n",
      "Loss = tensor(1.2965, device='cuda:0')\n",
      "torch.Size([60, 60])\n",
      "torch.Size([3600])\n"
     ]
    },
    {
     "data": {
      "image/png": "[encoded data removed]",
      "text/plain": [
       "<PIL.Image.Image image mode=RGB size=60x60 at 0x7F2170595EE0>"
      ]
     },
     "metadata": {},
     "output_type": "display_data"
    },
    {
     "name": "stdout",
     "output_type": "stream",
     "text": [
      "1.2964756488800049\n",
      "Loss = tensor(1.3595, device='cuda:0')\n",
      "torch.Size([60, 60])\n",
      "torch.Size([3600])\n"
     ]
    },
    {
     "data": {
      "image/png": "[encoded data removed]",
      "text/plain": [
       "<PIL.Image.Image image mode=RGB size=60x60 at 0x7F2170595580>"
      ]
     },
     "metadata": {},
     "output_type": "display_data"
    },
    {
     "name": "stdout",
     "output_type": "stream",
     "text": [
      "1.3594715595245361\n",
      "Loss = tensor(1.3431, device='cuda:0')\n",
      "torch.Size([60, 60])\n",
      "torch.Size([3600])\n"
     ]
    },
    {
     "data": {
      "image/png": "[encoded data removed]",
      "text/plain": [
       "<PIL.Image.Image image mode=RGB size=60x60 at 0x7F2170595DF0>"
      ]
     },
     "metadata": {},
     "output_type": "display_data"
    },
    {
     "name": "stdout",
     "output_type": "stream",
     "text": [
      "1.3431376218795776\n",
      "Loss = tensor(1.3827, device='cuda:0')\n",
      "torch.Size([60, 60])\n",
      "torch.Size([3600])\n"
     ]
    },
    {
     "data": {
      "image/png": "[encoded data removed]",
      "text/plain": [
       "<PIL.Image.Image image mode=RGB size=60x60 at 0x7F20E28352B0>"
      ]
     },
     "metadata": {},
     "output_type": "display_data"
    },
    {
     "name": "stdout",
     "output_type": "stream",
     "text": [
      "1.3826584815979004\n",
      "Loss = tensor(1.3589, device='cuda:0')\n",
      "torch.Size([60, 60])\n",
      "torch.Size([3600])\n"
     ]
    },
    {
     "data": {
      "image/png": "[encoded data removed]",
      "text/plain": [
       "<PIL.Image.Image image mode=RGB size=60x60 at 0x7F2170595EE0>"
      ]
     },
     "metadata": {},
     "output_type": "display_data"
    },
    {
     "name": "stdout",
     "output_type": "stream",
     "text": [
      "1.358903169631958\n",
      "Loss = tensor(1.4311, device='cuda:0')\n",
      "torch.Size([60, 60])\n",
      "torch.Size([3600])\n"
     ]
    },
    {
     "data": {
      "image/png": "[encoded data removed]",
      "text/plain": [
       "<PIL.Image.Image image mode=RGB size=60x60 at 0x7F20E28350D0>"
      ]
     },
     "metadata": {},
     "output_type": "display_data"
    },
    {
     "name": "stdout",
     "output_type": "stream",
     "text": [
      "1.431139349937439\n",
      "Loss = tensor(1.2611, device='cuda:0')\n",
      "torch.Size([60, 60])\n",
      "torch.Size([3600])\n"
     ]
    },
    {
     "data": {
      "image/png": "[encoded data removed]",
      "text/plain": [
       "<PIL.Image.Image image mode=RGB size=60x60 at 0x7F20E2835610>"
      ]
     },
     "metadata": {},
     "output_type": "display_data"
    },
    {
     "name": "stdout",
     "output_type": "stream",
     "text": [
      "1.26105797290802\n",
      "Loss = tensor(1.3772, device='cuda:0')\n",
      "torch.Size([60, 60])\n",
      "torch.Size([3600])\n"
     ]
    },
    {
     "data": {
      "image/png": "[encoded data removed]",
      "text/plain": [
       "<PIL.Image.Image image mode=RGB size=60x60 at 0x7F20E2835610>"
      ]
     },
     "metadata": {},
     "output_type": "display_data"
    },
    {
     "name": "stdout",
     "output_type": "stream",
     "text": [
      "1.377220630645752\n",
      "Loss = tensor(1.3926, device='cuda:0')\n",
      "torch.Size([60, 60])\n",
      "torch.Size([3600])\n"
     ]
    },
    {
     "data": {
      "image/png": "[encoded data removed]",
      "text/plain": [
       "<PIL.Image.Image image mode=RGB size=60x60 at 0x7F2170595F10>"
      ]
     },
     "metadata": {},
     "output_type": "display_data"
    },
    {
     "name": "stdout",
     "output_type": "stream",
     "text": [
      "1.392622709274292\n",
      "Loss = tensor(1.4908, device='cuda:0')\n",
      "torch.Size([60, 60])\n",
      "torch.Size([3600])\n"
     ]
    },
    {
     "data": {
      "image/png": "[encoded data removed]",
      "text/plain": [
       "<PIL.Image.Image image mode=RGB size=60x60 at 0x7F2170595F10>"
      ]
     },
     "metadata": {},
     "output_type": "display_data"
    },
    {
     "name": "stdout",
     "output_type": "stream",
     "text": [
      "1.490848183631897\n"
     ]
    }
   ],
   "source": [
    "# Inference and test loss\n",
    "loss_test_ce = []\n",
    "batch_size=1\n",
    "conf_running = torch.zeros(6,6)\n",
    "\n",
    "with torch.no_grad():\n",
    "    for batch in test_loader_CE:\n",
    "        inputs, targets = batch\n",
    "        if last == True:\n",
    "            x, epoch_history = model.forward(130, inputs, last=last)\n",
    "        else:\n",
    "            x = model.forward(130, inputs, last=last)\n",
    "\n",
    "        b = get_rgb(x)\n",
    "        pred = torch.argmax(b, dim=1)\n",
    "        out = loss2(b, targets.detach().long())\n",
    "        print(\"Loss =\", out)\n",
    "        loss_test_ce.append(float(out))\n",
    "        c = b.detach().clone()\n",
    "        \n",
    "        target = targets.detach().long()\n",
    "        \n",
    "        # Log metrics\n",
    "        p,r,a,s = overall_pras(pred, target)\n",
    "        po_list.append(p)\n",
    "        ro_list.append(r)\n",
    "        ao_list.append(a)\n",
    "        so_list.append(s)\n",
    "        \n",
    "        d = dice(pred, target)\n",
    "        dice_list.append(d.item())\n",
    "        \n",
    "        m = mi(pred, target)\n",
    "        mi_list.append(m)\n",
    "        \n",
    "        p,r,a,s = pras(pred, target)\n",
    "        p_list.append(p)\n",
    "        r_list.append(r)\n",
    "        a_list.append(a)\n",
    "        s_list.append(s)\n",
    "        \n",
    "        conf_running += get_confusion(pred, target)\n",
    "        \n",
    "        for i in range(batch_size):\n",
    "            display(ts(max_rgb(c)[i]))\n",
    "        del c\n",
    "        print(float(out))"
   ]
  },
  {
   "cell_type": "code",
   "execution_count": 16,
   "id": "circular-tumor",
   "metadata": {},
   "outputs": [],
   "source": [
    "boxplot_p = np.array(p_list)\n",
    "boxplot_r = np.array(r_list)\n",
    "boxplot_a = np.array(a_list)\n",
    "boxplot_s = np.array(s_list)\n",
    "boxplot_mi = np.array(mi_list)\n",
    "\n",
    "np.save('metrics/naive_p.npy', boxplot_p)\n",
    "np.save('metrics/naive_r.npy', boxplot_r)\n",
    "np.save('metrics/naive_a.npy', boxplot_a)\n",
    "np.save('metrics/naive_s.npy', boxplot_s)\n",
    "np.save('metrics/naive_m.npy', boxplot_mi)\n",
    "np.save('metrics/naive_dice.npy', dice_list)"
   ]
  },
  {
   "cell_type": "code",
   "execution_count": 17,
   "id": "respiratory-moment",
   "metadata": {},
   "outputs": [
    {
     "data": {
      "image/png": "[encoded data removed]",
      "text/plain": [
       "<Figure size 432x288 with 1 Axes>"
      ]
     },
     "metadata": {
      "needs_background": "light"
     },
     "output_type": "display_data"
    },
    {
     "data": {
      "image/png": "[encoded data removed]",
      "text/plain": [
       "<Figure size 864x864 with 4 Axes>"
      ]
     },
     "metadata": {
      "needs_background": "light"
     },
     "output_type": "display_data"
    }
   ],
   "source": [
    "pras_overall_list = [dice_list, po_list, ro_list, ao_list, so_list, mi_list]\n",
    "#sns.boxplot(x=np.array(pras_overall_list), y=np.array([1,2,3,4]))\n",
    "plt.boxplot(pras_overall_list)\n",
    "plt.xticks([1,2,3,4,5,6],[\"DICE\", \"Precision\", \"Recall\", \"Accuracy\", \"Specificity\", \"MI\"])\n",
    "plt.title(\"Overall Metrics for Test Set\")\n",
    "plt.savefig(\"1NaivePras.png\")\n",
    "\n",
    "\n",
    "fig, ((ax1, ax2), (ax3, ax4)) = plt.subplots(2,2)\n",
    "ax1.boxplot(boxplot_p)\n",
    "ax1.set_title(\"Precision\")\n",
    "ax1.set_xticklabels([\"Background\", \"Hair\", \"Face\", \"Nose\", \"Eyes\", \"Mouth\"])\n",
    "\n",
    "ax2.boxplot(boxplot_r)\n",
    "ax2.set_title(\"Recall\")\n",
    "ax2.set_xticklabels([\"Background\", \"Hair\", \"Face\", \"Nose\", \"Eyes\", \"Mouth\"])\n",
    "\n",
    "ax3.boxplot(boxplot_a)\n",
    "ax3.set_title(\"Accuracy\")\n",
    "ax3.set_xticklabels([\"Background\", \"Hair\", \"Face\", \"Nose\", \"Eyes\", \"Mouth\"])\n",
    "\n",
    "ax4.boxplot(boxplot_s)\n",
    "ax4.set_title(\"Specificity\")\n",
    "ax4.set_xticklabels([\"Background\", \"Hair\", \"Face\", \"Nose\", \"Eyes\", \"Mouth\"])\n",
    "\n",
    "fig.set_figwidth(12)\n",
    "fig.set_figheight(12)\n",
    "\n",
    "plt.setp(ax1.xaxis.get_majorticklabels(), rotation=45)\n",
    "plt.setp(ax2.xaxis.get_majorticklabels(), rotation=45)\n",
    "plt.setp(ax3.xaxis.get_majorticklabels(), rotation=45)\n",
    "plt.setp(ax4.xaxis.get_majorticklabels(), rotation=45)\n",
    "fig.suptitle('PRAS Across Classes')\n",
    "\n",
    "plt.savefig(\"1NaivePrasClass.png\")"
   ]
  },
  {
   "cell_type": "code",
   "execution_count": 22,
   "id": "broadband-thermal",
   "metadata": {},
   "outputs": [],
   "source": [
    "np.save('1dice_naive.npy', np.array(dice_list))"
   ]
  },
  {
   "cell_type": "code",
   "execution_count": 21,
   "id": "missing-efficiency",
   "metadata": {
    "scrolled": true
   },
   "outputs": [
    {
     "name": "stdout",
     "output_type": "stream",
     "text": [
      "Steps: 10 0.7817777777777778\n",
      "Steps: 20 0.797861111111111\n",
      "Steps: 30 0.807185185185185\n",
      "Steps: 40 0.813111111111111\n",
      "Steps: 50 0.8173148148148148\n",
      "Steps: 60 0.8200833333333333\n",
      "Steps: 70 0.8221666666666667\n",
      "Steps: 80 0.8239166666666666\n",
      "Steps: 90 0.8246759259259259\n",
      "Steps: 100 0.8249537037037036\n",
      "Steps: 110 0.8254444444444444\n",
      "Steps: 120 0.8258425925925927\n",
      "Steps: 130 0.8262314814814816\n",
      "Steps: 140 0.8264907407407409\n",
      "Steps: 150 0.826648148148148\n",
      "Steps: 160 0.8268796296296297\n",
      "Steps: 170 0.8270833333333333\n",
      "Steps: 180 0.8273611111111112\n",
      "Steps: 190 0.8274814814814814\n",
      "Steps: 200 0.8275185185185183\n",
      "Steps: 210 0.8276296296296296\n",
      "Steps: 220 0.8277500000000001\n",
      "Steps: 230 0.8278148148148147\n",
      "Steps: 240 0.8277685185185184\n",
      "Steps: 250 0.8277222222222221\n",
      "Steps: 260 0.8277407407407408\n",
      "Steps: 270 0.8277962962962963\n",
      "Steps: 280 0.8278611111111108\n",
      "Steps: 290 0.827824074074074\n",
      "Steps: 300 0.8277592592592591\n",
      "Steps: 310 0.8277777777777778\n",
      "Steps: 320 0.8278055555555555\n",
      "Steps: 330 0.8278611111111112\n",
      "Steps: 340 0.8278240740740741\n",
      "Steps: 350 0.8277592592592593\n",
      "Steps: 360 0.8277777777777776\n",
      "Steps: 370 0.8278055555555555\n",
      "Steps: 380 0.8278611111111113\n",
      "Steps: 390 0.8278333333333333\n",
      "Steps: 400 0.8277685185185185\n",
      "Steps: 410 0.8277777777777776\n",
      "Steps: 420 0.8278055555555556\n",
      "Steps: 430 0.8278611111111112\n",
      "Steps: 440 0.8278425925925925\n",
      "Steps: 450 0.8277685185185187\n",
      "Steps: 460 0.8277777777777777\n",
      "Steps: 470 0.8278055555555556\n",
      "Steps: 480 0.827861111111111\n",
      "Steps: 490 0.8278425925925925\n"
     ]
    }
   ],
   "source": [
    "# Analysing stability using number of steps\n",
    "last = False\n",
    "stability_dice = []\n",
    "images = []\n",
    "batch_size = 1\n",
    "\n",
    "\n",
    "for i in range(1,50):\n",
    "    dice_list=[]\n",
    "    with torch.no_grad():\n",
    "        for batch in test_loader_CE:\n",
    "            inputs, targets = batch\n",
    "            if last == True:\n",
    "                x, epoch_history = model.forward(i*10, inputs, last=last)\n",
    "            else:\n",
    "                x = model.forward(i*10, inputs, last=last)\n",
    "\n",
    "            b = get_rgb(x)\n",
    "            pred = torch.argmax(b, dim=1)\n",
    "            out = loss2(b, targets.detach().long())\n",
    "            c = b.detach().clone()\n",
    "            images.append(c)\n",
    "        \n",
    "            target = targets.detach().long()\n",
    "        \n",
    "            d = dice(pred, target)\n",
    "            dice_list.append(d.item())\n",
    "                \n",
    "            \n",
    "        print(\"Steps: \" + str(10*i) + \" \" + str(np.mean(dice_list)))\n",
    "        stability_dice.append(np.mean(dice_list))\n",
    "    "
   ]
  },
  {
   "cell_type": "code",
   "execution_count": 14,
   "id": "focal-victorian",
   "metadata": {},
   "outputs": [],
   "source": [
    "# Save the DICE scores for the stability plot\n",
    "np.save('metrics/stability_naive.npy', stability_dice)"
   ]
  },
  {
   "cell_type": "code",
   "execution_count": null,
   "id": "checked-virtue",
   "metadata": {},
   "outputs": [],
   "source": []
  }
 ],
 "metadata": {
  "kernelspec": {
   "display_name": "Python 3",
   "language": "python",
   "name": "python3"
  },
  "language_info": {
   "codemirror_mode": {
    "name": "ipython",
    "version": 3
   },
   "file_extension": ".py",
   "mimetype": "text/x-python",
   "name": "python",
   "nbconvert_exporter": "python",
   "pygments_lexer": "ipython3",
   "version": "3.8.5"
  }
 },
 "nbformat": 4,
 "nbformat_minor": 5
}
