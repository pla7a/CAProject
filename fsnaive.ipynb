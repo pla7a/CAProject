{
 "cells": [
  {
   "cell_type": "code",
   "execution_count": 1,
   "id": "comic-entrepreneur",
   "metadata": {},
   "outputs": [],
   "source": [
    "import torch\n",
    "%matplotlib inline\n",
    "\n",
    "import os\n",
    "import gzip\n",
    "import time\n",
    "import pickle\n",
    "\n",
    "import numpy as np\n",
    "import matplotlib.pyplot as plt\n",
    "#from scipy import ndimage\n",
    "\n",
    "import torch\n",
    "import torch.nn as nn\n",
    "import torch.optim as optim\n",
    "import torch.nn.functional as F\n",
    "\n",
    "from IPython.display import clear_output\n",
    "from datetime import datetime\n",
    "from torchvision import datasets, transforms\n",
    "\n",
    "from PIL import Image\n",
    "from IPython.display import Image \n",
    "\n"
   ]
  },
  {
   "cell_type": "code",
   "execution_count": 2,
   "id": "atomic-witch",
   "metadata": {},
   "outputs": [
    {
     "name": "stdout",
     "output_type": "stream",
     "text": [
      "cuda:0\n"
     ]
    }
   ],
   "source": [
    "if torch.cuda.is_available():  \n",
    "  dev = \"cuda:0\" \n",
    "else:  \n",
    "  dev = \"cpu\"\n",
    "\n",
    "print(dev)"
   ]
  },
  {
   "cell_type": "code",
   "execution_count": 3,
   "id": "indian-disclosure",
   "metadata": {},
   "outputs": [],
   "source": [
    "batch_size = 10"
   ]
  },
  {
   "cell_type": "code",
   "execution_count": 4,
   "id": "coated-field",
   "metadata": {},
   "outputs": [],
   "source": [
    "from torch.utils.data import Dataset, DataLoader\n",
    "import os\n",
    "import glob\n",
    "from PIL import Image\n",
    "import re\n",
    "\n",
    "\n",
    "px_size = 60\n",
    "py_size = 60\n",
    "\n",
    "class DatasetMSE(Dataset):\n",
    "\n",
    "    def __init__(self, image_dir, label_dir):\n",
    "        self.colors = {\n",
    "            0:torch.FloatTensor([255.0, 0.0, 0.0]),\n",
    "            1:torch.FloatTensor([127.0, 0.0, 0.0]),\n",
    "            2:torch.FloatTensor([255.0, 255.0, 0.0]),\n",
    "            3:torch.FloatTensor([0.0, 255.0, 255.0]),\n",
    "            4:torch.FloatTensor([0.0, 0.0, 255.0]),\n",
    "            5:torch.FloatTensor([0.0, 255.0, 0.0])\n",
    "            }\n",
    "        \n",
    "        self.transforms = []\n",
    "        self.tf = transforms.Compose([transforms.ToTensor(), transforms.Resize((px_size,py_size))])\n",
    "        self.label_imgs = torch.stack([self.get_labels(self.tf((Image.open(file)))) for file in glob.glob(label_dir + '/00*')]).to(dev)\n",
    "        self.colour = torch.stack([self.get_colour(self.tf((Image.open(file)))) for file in glob.glob(label_dir + '/00*')]).to(dev)\n",
    "        self.input_imgs = torch.stack([(self.tf((Image.open(file)))) for file in glob.glob(image_dir + '/00*')]).to(dev)\n",
    "        self.add_colour()\n",
    "\n",
    "    def __len__(self):\n",
    "        return len(self.input_imgs)\n",
    "\n",
    "\n",
    "    def __getitem__(self, idx):\n",
    "        input_img, label_img = self.input_imgs[idx], self.label_imgs[idx]\n",
    "        return input_img, label_img\n",
    "    \n",
    "    def col_sim(self, d):\n",
    "        d = d*255\n",
    "        a = torch.FloatTensor([torch.dist(d, self.colors[i]) for i in self.colors])\n",
    "        return torch.argmin(a) \n",
    "    \n",
    "    def view_shape(self):\n",
    "        print(self.label_imgs.shape)\n",
    "        print(self.input_imgs.shape)\n",
    "    \n",
    "    def get_labels(self, x):\n",
    "        new_x = torch.zeros(6,px_size,px_size)\n",
    "        for i in range(px_size):\n",
    "            for j in range(px_size):\n",
    "                new_d3 = x.transpose(0,1).transpose(1,2)\n",
    "                new_x[self.col_sim(new_d3[i][j])][i][j] = 1\n",
    "                \n",
    "        return new_x\n",
    "        \n",
    "    def get_colour(self, x):\n",
    "        new_x = torch.zeros(px_size,px_size)\n",
    "        for i in range(px_size):\n",
    "            for j in range(px_size):\n",
    "                new_d3 = x.transpose(0,1).transpose(1,2)\n",
    "                new_x[i][j] = self.col_sim(new_d3[i][j])\n",
    "        return new_x\n",
    "        \n",
    "    def add_colour(self):\n",
    "        print(self.input_imgs.shape)\n",
    "        for i in range(self.input_imgs.shape[0]):\n",
    "            print(i)\n",
    "            self.input_imgs[i][0][self.colour[i] == 3] += 0.2\n",
    "            self.input_imgs[i][1][self.colour[i] == 4] += 0.2\n",
    "            self.input_imgs[i][2][self.colour[i] == 5] += 0.2\n",
    "        self.input_imgs = self.input_imgs.clamp(0, 1)\n",
    "            #new_x[1][y[i]==4] += 0.5\n",
    "            #new_x[2][y[i]==5] += 0.5\n",
    "            #new_x[2][y[i] == 0] += 0.5\n",
    "            #new_x[1][y[i]==0] += 0.5\n",
    "        \n",
    "    \n",
    "    def print_tensor(self, x):\n",
    "        print(self.input_imgs[x])"
   ]
  },
  {
   "cell_type": "code",
   "execution_count": 32,
   "id": "supreme-conjunction",
   "metadata": {},
   "outputs": [
    {
     "name": "stdout",
     "output_type": "stream",
     "text": [
      "torch.Size([9, 3, 60, 60])\n",
      "0\n",
      "1\n",
      "2\n",
      "3\n",
      "4\n",
      "5\n",
      "6\n",
      "7\n",
      "8\n"
     ]
    }
   ],
   "source": [
    "dset_mse = DatasetMSE(\"Original\",\"Labeled\")\n",
    "train_loader_MSE = torch.utils.data.DataLoader(dset_mse, shuffle=True, batch_size=batch_size)\n",
    "#dset_mse.print_tensor(2)"
   ]
  },
  {
   "cell_type": "code",
   "execution_count": 4,
   "id": "fixed-decline",
   "metadata": {},
   "outputs": [],
   "source": [
    "import torch, gc\n",
    "gc.collect()\n",
    "torch.cuda.empty_cache()"
   ]
  },
  {
   "cell_type": "code",
   "execution_count": 5,
   "id": "biblical-suite",
   "metadata": {
    "scrolled": true
   },
   "outputs": [],
   "source": [
    "def initial_seed(batch_size):\n",
    "    return torch.zeros(batch_size, 3, px_size, py_size)\n",
    "\n",
    "# Encode colour classes 1\n",
    "def to_classes(d):\n",
    "    d = d*255\n",
    "    x = torch.zeros(6, d.shape[1], d.shape[2])\n",
    "    # RED 255,0,0\n",
    "    x[0][(d[0] > 220) & (d[1] < 20) & (d[2] < 20)] = 1\n",
    "    # BROWN 127,0,0\n",
    "    x[1][(d[0] > 60) & (d[0] < 200) & (d[1] < 60) & (d[2] < 60)] = 1\n",
    "    # YELLOW 255, 255, 0\n",
    "    x[2][(d[0] > 20) & (d[1] > 30) & (d[2] < 230)] = 1\n",
    "    # LIGHT BLUE 0,255,255\n",
    "    x[3][(d[0] < 100) & (d[1] > 100) & (d[2] > 100)] = 1\n",
    "    # DARK BLUE 0,0,255\n",
    "    x[4][(d[0] < 30) & (d[1] < 30) & (d[2] > 150)] = 1\n",
    "    # GREEN 0,255,0\n",
    "    x[5][(d[0] < 120) & (d[1] > 140) & (d[2] < 160)] = 1\n",
    "    return torch.FloatTensor(x)\n",
    "\n",
    "# Encode colour classes 2\n",
    "def to_class(d):\n",
    "    d = d*255\n",
    "    x = torch.zeros(d.shape[1], d.shape[2])\n",
    "    # RED 255,0,0\n",
    "    #x[(d[0] > 180) & (d[1] < 60) & (d[2] < 60)] = 0\n",
    "    # BROWN 127,0,0\n",
    "    x[(d[0] > 60) & (d[0] < 200) & (d[1] < 60) & (d[2] < 60)] = 1\n",
    "    # YELLOW 255, 255, 0\n",
    "    x[(d[0] > 100) & (d[1] > 100) & (d[2] < 100)] = 2\n",
    "    # LIGHT BLUE 0,255,255\n",
    "    x[(d[0] < 60) & (d[1] > 180) & (d[2] > 180)] = 3\n",
    "    # DARK BLUE 0,0,255\n",
    "    x[(d[0] < 60) & (d[1] < 60) & (d[2] > 180)] = 4\n",
    "    # GREEN 0,255,0\n",
    "    x[(d[0] < 70) & (d[1] > 170) & (d[2] < 70)] = 5\n",
    "    return torch.FloatTensor(x)\n",
    "\n",
    "colors = {\n",
    "    0:torch.FloatTensor([255.0, 0.0, 0.0]).to(dev),\n",
    "    1:torch.FloatTensor([127.0, 0.0, 0.0]).to(dev),\n",
    "    2:torch.FloatTensor([255.0, 255.0, 0.0]).to(dev),\n",
    "    3:torch.FloatTensor([0.0, 255.0, 255.0]).to(dev),\n",
    "    4:torch.FloatTensor([0.0, 0.0, 255.0]).to(dev),\n",
    "    5:torch.FloatTensor([0.0, 255.0, 0.0]).to(dev)\n",
    "    }\n",
    "          \n",
    "    \n",
    "# Get RGB class channels\n",
    "def get_rgb(x):\n",
    "    return x.transpose(0,1)[3:9].transpose(0,1)\n",
    "\n",
    "# Transform to display image\n",
    "ts = transforms.ToPILImage()\n",
    "\n",
    "# Get max class value and convert to RGB for the C classes\n",
    "def max_rgb(x):\n",
    "    newimg = torch.zeros(x.shape[0], px_size, px_size, 3).to(dev)\n",
    "    for i in range(x.shape[0]):\n",
    "        # RED 255, 0, 0\n",
    "        newimg[i][torch.argmax(x[i],dim=0) == 0] = colors[0]\n",
    "        # BROWN 127 0 0 \n",
    "        newimg[i][torch.argmax(x[i],dim=0) == 1] = colors[1]\n",
    "        # YELLOW 255, 255, 0\n",
    "        newimg[i][torch.argmax(x[i],dim=0) == 2] = colors[2]\n",
    "        # L BLUE 0, 255, 255\n",
    "        newimg[i][torch.argmax(x[i],dim=0) == 3] = colors[3]\n",
    "        # D BLUE 0, 0, 255\n",
    "        newimg[i][torch.argmax(x[i],dim=0) == 4] = colors[4]\n",
    "        # GREEN 0, 255, 0\n",
    "        newimg[i][torch.argmax(x[i],dim=0) == 5] = colors[5]\n",
    "    \n",
    "    return (newimg/255.0).transpose(1,3).transpose(2,3)\n",
    "\n",
    "\n",
    "def max_rgba(x):\n",
    "    newimg = torch.zeros(px_size, px_size, 3)\n",
    "    # RED 255, 0, 0\n",
    "    newimg[torch.argmax(x,dim=0) == 0] = torch.FloatTensor([255.0, 0.0, 0.0])\n",
    "    # BROWN 127 0 0 \n",
    "    newimg[torch.argmax(x,dim=0) == 1] = torch.FloatTensor([127.0, 0.0, 0.0])\n",
    "    # YELLOW 255, 255, 0\n",
    "    newimg[torch.argmax(x,dim=0) == 2] = torch.FloatTensor([255.0, 255.0, 0.0])\n",
    "    # L BLUE 0, 255, 255\n",
    "    newimg[torch.argmax(x,dim=0) == 3] = torch.FloatTensor([0.0, 255.0, 255.0])\n",
    "    # D BLUE 0, 0, 255\n",
    "    newimg[torch.argmax(x,dim=0) == 4] = torch.FloatTensor([0.0, 0.0, 255.0])\n",
    "    # GREEN 0, 255, 0\n",
    "    newimg[torch.argmax(x,dim=0) == 5] = torch.FloatTensor([0.0, 255.0, 0.0])\n",
    "    \n",
    "    alpha = torch.max(x, dim=0).values.to(dev)\n",
    "    #alpha = alpha/torch.max(alpha)\n",
    "    newimg = (newimg/255.0).to(dev)\n",
    "    newimg = torch.cat((newimg, alpha.view(px_size, px_size, 1)), dim=2)\n",
    "    print(newimg.shape)\n",
    "    return newimg.transpose(0,2).transpose(1,2)\n",
    "\n",
    "# Flatten dimension\n",
    "def loss_classes(x):\n",
    "    y = torch.flatten(x,1,2)\n",
    "    return y\n"
   ]
  },
  {
   "cell_type": "code",
   "execution_count": 6,
   "id": "liked-thomas",
   "metadata": {},
   "outputs": [
    {
     "ename": "NameError",
     "evalue": "name 'train_loader_MSE' is not defined",
     "output_type": "error",
     "traceback": [
      "\u001b[0;31m---------------------------------------------------------------------------\u001b[0m",
      "\u001b[0;31mNameError\u001b[0m                                 Traceback (most recent call last)",
      "\u001b[0;32m<ipython-input-6-d3b9923406c9>\u001b[0m in \u001b[0;36m<module>\u001b[0;34m\u001b[0m\n\u001b[1;32m     16\u001b[0m \u001b[0;31m# Get a batch of training data\u001b[0m\u001b[0;34m\u001b[0m\u001b[0;34m\u001b[0m\u001b[0;34m\u001b[0m\u001b[0m\n\u001b[1;32m     17\u001b[0m \u001b[0;31m# inputs contains 10 images because batch_size=10 for the dataloaders\u001b[0m\u001b[0;34m\u001b[0m\u001b[0;34m\u001b[0m\u001b[0;34m\u001b[0m\u001b[0m\n\u001b[0;32m---> 18\u001b[0;31m \u001b[0minputs\u001b[0m\u001b[0;34m,\u001b[0m \u001b[0mlabels\u001b[0m \u001b[0;34m=\u001b[0m \u001b[0mnext\u001b[0m\u001b[0;34m(\u001b[0m\u001b[0miter\u001b[0m\u001b[0;34m(\u001b[0m\u001b[0mtrain_loader_MSE\u001b[0m\u001b[0;34m)\u001b[0m\u001b[0;34m)\u001b[0m\u001b[0;34m\u001b[0m\u001b[0;34m\u001b[0m\u001b[0m\n\u001b[0m\u001b[1;32m     19\u001b[0m \u001b[0;31m# Make a grid from batch\u001b[0m\u001b[0;34m\u001b[0m\u001b[0;34m\u001b[0m\u001b[0;34m\u001b[0m\u001b[0m\n\u001b[1;32m     20\u001b[0m \u001b[0mout\u001b[0m \u001b[0;34m=\u001b[0m \u001b[0mtorchvision\u001b[0m\u001b[0;34m.\u001b[0m\u001b[0mutils\u001b[0m\u001b[0;34m.\u001b[0m\u001b[0mmake_grid\u001b[0m\u001b[0;34m(\u001b[0m\u001b[0mtorch\u001b[0m\u001b[0;34m.\u001b[0m\u001b[0mcat\u001b[0m\u001b[0;34m(\u001b[0m\u001b[0;34m(\u001b[0m\u001b[0minputs\u001b[0m\u001b[0;34m,\u001b[0m \u001b[0mmax_rgb\u001b[0m\u001b[0;34m(\u001b[0m\u001b[0mlabels\u001b[0m\u001b[0;34m)\u001b[0m\u001b[0;34m)\u001b[0m\u001b[0;34m,\u001b[0m\u001b[0mdim\u001b[0m\u001b[0;34m=\u001b[0m\u001b[0;36m0\u001b[0m\u001b[0;34m)\u001b[0m\u001b[0;34m,\u001b[0m \u001b[0mnrow\u001b[0m\u001b[0;34m=\u001b[0m\u001b[0mbatch_size\u001b[0m\u001b[0;34m)\u001b[0m\u001b[0;34m\u001b[0m\u001b[0;34m\u001b[0m\u001b[0m\n",
      "\u001b[0;31mNameError\u001b[0m: name 'train_loader_MSE' is not defined"
     ]
    }
   ],
   "source": [
    "import torchvision\n",
    "\n",
    "def imshow(inp, title=None):\n",
    "    \"\"\"Imshow for Tensor.\"\"\"\n",
    "    inp = inp.cpu().numpy().transpose((1, 2, 0))\n",
    "    #mean = np.array([0.485, 0.456, 0.406])\n",
    "    #std = np.array([0.229, 0.224, 0.225])\n",
    "    #inp = std * inp + mean\n",
    "    #inp = np.clip(inp, 0, 1)\n",
    "    plt.imshow(inp)\n",
    "    if title is not None:\n",
    "        plt.title(title)\n",
    "    plt.pause(0.001)  # pause a bit so that plots are updated\n",
    "\n",
    "\n",
    "# Get a batch of training data\n",
    "# inputs contains 10 images because batch_size=10 for the dataloaders\n",
    "inputs, labels = next(iter(train_loader_MSE))\n",
    "# Make a grid from batch\n",
    "out = torchvision.utils.make_grid(torch.cat((inputs, max_rgb(labels)),dim=0), nrow=batch_size)\n",
    "imshow(out, title=\"Sample Batch (Image and Ground Truth)\")\n"
   ]
  },
  {
   "cell_type": "code",
   "execution_count": 7,
   "id": "refined-world",
   "metadata": {},
   "outputs": [],
   "source": [
    "batch_size = 10"
   ]
  },
  {
   "cell_type": "code",
   "execution_count": 8,
   "id": "formed-general",
   "metadata": {},
   "outputs": [],
   "source": [
    "# Cross Entropy\n",
    "\n",
    "from torch.utils.data import Dataset, DataLoader\n",
    "import os\n",
    "import glob\n",
    "from PIL import Image\n",
    "\n",
    "\n",
    "px_size = 60\n",
    "py_size = 60\n",
    "\n",
    "class DatasetCE(Dataset):\n",
    "\n",
    "    def __init__(self, image_dir, label_dir):\n",
    "        self.colors = {\n",
    "            0:torch.FloatTensor([255.0, 0.0, 0.0]),\n",
    "            1:torch.FloatTensor([127.0, 0.0, 0.0]),\n",
    "            2:torch.FloatTensor([255.0, 255.0, 0.0]),\n",
    "            3:torch.FloatTensor([0.0, 255.0, 255.0]),\n",
    "            4:torch.FloatTensor([0.0, 0.0, 255.0]),\n",
    "            5:torch.FloatTensor([0.0, 255.0, 0.0])\n",
    "            }\n",
    "        \n",
    "        self.transforms = []\n",
    "        self.tf = transforms.Compose([transforms.ToTensor(), transforms.Resize((px_size,py_size))])\n",
    "        self.input_imgs = torch.stack([self.tf((Image.open(file))) for file in glob.glob(image_dir + '/*')]).to(dev)\n",
    "        self.label_imgs = torch.stack([self.get_labels(self.tf((Image.open(file)))) for file in glob.glob(label_dir + '/*')]).to(dev)\n",
    "        #self.add_colour()\n",
    "    \n",
    "    def __len__(self):\n",
    "        return len(self.input_imgs)\n",
    "\n",
    "\n",
    "    def __getitem__(self, idx):\n",
    "        input_img, label_img = self.input_imgs[idx], self.label_imgs[idx]\n",
    "        return input_img, label_img\n",
    "    \n",
    "    def col_sim(self, d):\n",
    "        d = d*255\n",
    "        a = torch.FloatTensor([torch.dist(d, self.colors[i]) for i in self.colors])\n",
    "        return torch.argmin(a) \n",
    "    \n",
    "    def view_shape(self):\n",
    "        print(self.label_imgs.shape)\n",
    "        print(self.input_imgs.shape)\n",
    "    \n",
    "    # (3, x, y)\n",
    "    def get_labels(self, x):\n",
    "        new_x = torch.zeros(px_size,px_size)\n",
    "        for i in range(px_size):\n",
    "            for j in range(px_size):\n",
    "                new_d3 = x.transpose(0,1).transpose(1,2)\n",
    "                new_x[i][j] = self.col_sim(new_d3[i][j])\n",
    "        return new_x\n",
    "    \n",
    "    def add_colour(self):\n",
    "        y = self.label_imgs.clone().detach()\n",
    "        for i in range(self.input_imgs.shape[0]):\n",
    "            self.input_imgs[i][0][y[i] == 3] += 0.3\n",
    "            self.input_imgs[i][1][y[i] == 4] += 0.3\n",
    "            self.input_imgs[i][2][y[i] == 5] += 0.3\n",
    "        self.input_imgs = self.input_imgs.clamp(0, 1)\n"
   ]
  },
  {
   "cell_type": "code",
   "execution_count": 9,
   "id": "received-register",
   "metadata": {},
   "outputs": [
    {
     "data": {
      "text/plain": [
       "150"
      ]
     },
     "execution_count": 9,
     "metadata": {},
     "output_type": "execute_result"
    }
   ],
   "source": [
    "# Cross Entropy\n",
    "\n",
    "dsetCE = DatasetCE(\"Original\",\"Labeled\")\n",
    "train_loader_CE = torch.utils.data.DataLoader(dsetCE, shuffle=True, batch_size=batch_size)\n",
    "dsetCE.__len__()"
   ]
  },
  {
   "cell_type": "code",
   "execution_count": 10,
   "id": "exposed-adelaide",
   "metadata": {},
   "outputs": [],
   "source": [
    "train_DS, test_DS = torch.utils.data.random_split(dsetCE, [120, 30])\n",
    "train_loader_CE = torch.utils.data.DataLoader(train_DS, shuffle=True, batch_size=batch_size)\n",
    "test_loader_CE = torch.utils.data.DataLoader(test_DS, shuffle=True, batch_size=1)"
   ]
  },
  {
   "cell_type": "code",
   "execution_count": 11,
   "id": "distinguished-belief",
   "metadata": {},
   "outputs": [],
   "source": [
    "# Cellular automata class\n",
    "class CAModel(nn.Module):\n",
    "\n",
    "    def __init__(self, channel_n, fire_rate=0.5, device=torch.device(\"cpu\")):\n",
    "        super(CAModel, self).__init__()\n",
    "\n",
    "        self.device = device\n",
    "        self.channel_n = channel_n\n",
    "        self.fire_rate = fire_rate\n",
    "        self.to(self.device)\n",
    "        \n",
    "        # Neural network model\n",
    "        self.conv1 = nn.Conv2d(45, 32, kernel_size=3, padding=1)\n",
    "        self.relu = nn.ReLU()\n",
    "        self.conv1a = nn.Conv2d(32, 24, kernel_size=1, padding=0)\n",
    "        self.conv2 = nn.Conv2d(24, 16, kernel_size=1)\n",
    "        self.conv3 = nn.Conv2d(16, 6, kernel_size=1)\n",
    "        \n",
    "        # Pre-defined weights for embedding information\n",
    "        self.prewitt_x = torch.FloatTensor([[1,0,-1],[1,0,-1],[1,0,-1]]).to(dev)\n",
    "        self.prewitt_y = torch.FloatTensor([[1,1,1],[0,0,0],[-1,-1,-1]]).to(dev)\n",
    "        \n",
    "        self.sobel_x = torch.FloatTensor([[1,0,-1],[2,0,-2],[1,0,-1]]).to(dev)\n",
    "        self.sobel_y = torch.FloatTensor([[1,2,1],[0,0,0],[-1,-2,-1]]).to(dev)\n",
    "        \n",
    "        # If you want learnable weights\n",
    "        # self.pre_weight = nn.Conv2d(9,27,kernel_size=3, padding=1)\n",
    "        \n",
    "    def perceive(self, x):\n",
    "\n",
    "        def _perceive_with(x, weight):\n",
    "            size = weight.shape[0]\n",
    "            padding = (size-1)/2\n",
    "            weight = weight.view(1,1,size,size).repeat(self.channel_n, 1, 1, 1)\n",
    "            return F.conv2d(x, weight, padding=int(padding), groups=self.channel_n)\n",
    "        \n",
    "        # 3x3 Sobel and Prewitt operators\n",
    "        wa_1 = self.sobel_x\n",
    "        wa_2 = self.sobel_y\n",
    "        wa_3 = self.prewitt_x\n",
    "        wa_4 = self.prewitt_y\n",
    "        \n",
    "        # Normalisation of these\n",
    "        wa_1/=torch.sum(torch.abs(wa_1))\n",
    "        wa_2/=torch.sum(torch.abs(wa_2))\n",
    "        wa_3/=torch.sum(torch.abs(wa_3))\n",
    "        wa_4/=torch.sum(torch.abs(wa_4))\n",
    "\n",
    "        # Apply convolutions with these filters\n",
    "        y1 = _perceive_with(x, wa_1)\n",
    "        y2 = _perceive_with(x, wa_2)\n",
    "        y3 = _perceive_with(x, wa_1)\n",
    "        y4 = _perceive_with(x, wa_2)\n",
    "                \n",
    "        # Concatenate\n",
    "        y = torch.cat((x,y1,y2,y3,y4),1)\n",
    "        return y\n",
    "    \n",
    "    \n",
    "    def forward(self, steps, x, last=False):\n",
    "        x = torch.cat((x, torch.zeros(batch_size,6,px_size,px_size).to(dev)), dim=1)\n",
    "        if last == True:\n",
    "            epoch_history = []\n",
    "            for i in range(steps):\n",
    "                epoch_history.append(x.detach()[:,3:9,:])\n",
    "                \n",
    "                b = self.perceive(x)\n",
    "                bb = self.conv3(self.conv2(self.relu(self.conv1a(self.relu(self.conv1(b))))))\n",
    "                \n",
    "                c = x.detach().clone()\n",
    "                #stochastic = torch.rand([bb.size(0),bb.size(1),bb.size(2),bb.size(3)])<self.fire_rate\n",
    "                #stochastic = stochastic.float().to(self.device)\n",
    "\n",
    "                #d = bb*stochastic\n",
    "                d = bb\n",
    "                e = c.transpose(0,1)[3:9].transpose(0,1) + d\n",
    "                f = F.softmax(e, dim=1)\n",
    "                \n",
    "                x = torch.cat((c.transpose(0,1)[0:3].transpose(0,1),f),dim=1)\n",
    "                \n",
    "            return x, epoch_history\n",
    "                \n",
    "        else:\n",
    "            for i in range(steps):\n",
    "                b = self.perceive(x)\n",
    "                bb = self.conv3(self.conv2((self.conv1a(self.relu(self.conv1(b))))))\n",
    "                \n",
    "                c = x.detach().clone()\n",
    "                #stochastic = torch.rand([bb.size(0),bb.size(1),bb.size(2),bb.size(3)])<self.fire_rate\n",
    "                #stochastic = stochastic.float().to(self.device)\n",
    "\n",
    "                #d = bb*stochastic\n",
    "                d = bb\n",
    "                e = c.transpose(0,1)[3:9].transpose(0,1) + d\n",
    "                f = F.softmax(e, dim=1)\n",
    "                \n",
    "                x = torch.cat((c.transpose(0,1)[0:3].transpose(0,1),f),dim=1)\n",
    "            return x"
   ]
  },
  {
   "cell_type": "code",
   "execution_count": 12,
   "id": "ranking-courage",
   "metadata": {},
   "outputs": [],
   "source": [
    "# Load model, set loss function, optimizer and scheduler\n",
    "\n",
    "model = CAModel(9,fire_rate=0.5,device=dev)\n",
    "#model = torch.load('modelcollab1.pth')\n",
    "model.cuda()\n",
    "optimizer = optim.Adam(model.parameters(), lr=0.00036, betas=(0.9, 0.999))\n",
    "#scheduler = optim.lr_scheduler.ExponentialLR(optimizer, 0.999)\n",
    "scheduler = torch.optim.lr_scheduler.MultiStepLR(optimizer, [30,60,90], 0.6)\n",
    "#loss1 = torch.nn.MSELoss(size_average=None, reduce=None, reduction='mean')\n",
    "\n",
    "# RED, BROWN, YELLOW, LBLUE, DBLUE, GREEN\n",
    "w = torch.FloatTensor([2,1, 1.05, 8.4, 9, 8.1]).to(dev)\n",
    "loss2 = torch.nn.CrossEntropyLoss(weight=w, size_average=None, ignore_index=-100, reduce=None, reduction='mean')\n",
    "#loss = torch.nn.KLDivLoss(size_average=None, reduce=None, reduction='mean', log_target=False)\n",
    "loss_mse = []\n",
    "loss_ce = []\n",
    "history = []\n",
    "epochs = 200\n",
    "\n",
    "batch_size=10"
   ]
  },
  {
   "cell_type": "code",
   "execution_count": 12,
   "id": "popular-recognition",
   "metadata": {},
   "outputs": [],
   "source": [
    "# Only needed for collaborative automata\n",
    "mask1 = torch.zeros(1,6,px_size,px_size).to(dev)\n",
    "mask2 = torch.zeros(1,6,px_size,px_size).to(dev)\n",
    "k = mask1.shape[2]\n",
    "for i in range(k):\n",
    "    for j in range(k):\n",
    "        mask1[:,:,i,j] = (i + j + 1) % 2\n",
    "        mask2[:,:,i,j] = (i + j) % 2"
   ]
  },
  {
   "cell_type": "code",
   "execution_count": null,
   "id": "resistant-terrorism",
   "metadata": {
    "scrolled": true
   },
   "outputs": [],
   "source": [
    "# MSE training loop\n",
    "for epoch in range(epochs):\n",
    "    i = 0\n",
    "    last = False\n",
    "    if epoch == epochs-1:\n",
    "        last = True\n",
    "    for batch in train_loader_MSE:\n",
    "        inputs, targets = batch\n",
    "        if last == True:\n",
    "            x, epoch_history = model.forward(130, inputs, last=last)\n",
    "        else:\n",
    "            x = model.forward(130, inputs, last=last)\n",
    "            \n",
    "        b = get_rgb(x)\n",
    "        out = loss1(b,targets)\n",
    "        print(\"Loss =\", out)\n",
    "        loss_mse.append(float(out))\n",
    "        c = b.detach().clone()\n",
    "        if (i % 5 == 0):\n",
    "            print(\"EPOCH: \", epoch)\n",
    "            display(ts(max_rgb(c)[0]))\n",
    "            del c\n",
    "            \n",
    "        i += 1\n",
    "        optimizer.zero_grad()\n",
    "        out.backward()\n",
    "        optimizer.step()"
   ]
  },
  {
   "cell_type": "code",
   "execution_count": 19,
   "id": "married-kruger",
   "metadata": {},
   "outputs": [],
   "source": [
    "torch.save(model, 'modelMSE.pth')"
   ]
  },
  {
   "cell_type": "code",
   "execution_count": 25,
   "id": "written-postcard",
   "metadata": {},
   "outputs": [],
   "source": [
    "from array2gif import write_gif\n",
    "eh = [(max_rgb(epoch_history[i])[1]*255).cpu().detach().numpy() for i in range(len(epoch_history))]\n",
    "#eh = [(max_rgb(epoch_history[i][0])*255).cpu().detach().numpy() for i in range(len(epoch_history))]\n",
    "\n",
    "write_gif(eh, 'final.gif', fps=1)\n",
    "#eh[0].shape\n",
    "#torch.stack(epoch_history)[0].shape"
   ]
  },
  {
   "cell_type": "code",
   "execution_count": null,
   "id": "middle-newsletter",
   "metadata": {
    "scrolled": true
   },
   "outputs": [],
   "source": [
    "# Cross-entropy training loop\n",
    "for epoch in range(epochs):\n",
    "    i = 0\n",
    "    # Last is so we can record the steps from the final epoch\n",
    "    last = False\n",
    "    if epoch == epochs:\n",
    "        last = True\n",
    "    for batch in train_loader_CE:\n",
    "        inputs, targets = batch\n",
    "        if last == True:\n",
    "            x, epoch_history = model.forward(130, inputs, last=last)\n",
    "        else:\n",
    "            x = model.forward(130, inputs, last=last)\n",
    "            \n",
    "        b = get_rgb(x)\n",
    "        #out = loss1(b,c) + 4*loss1(b[3],c[3])+15*loss1(b[4],c[4])+4*loss1(b[5],c[5])\n",
    "        out = loss2(b, targets.detach().long())\n",
    "        print(\"Loss =\", out)\n",
    "        loss_ce.append(float(out))\n",
    "        c = b.detach().clone()\n",
    "        \n",
    "        if (i % 5 == 0):\n",
    "            print(\"EPOCH: \", epoch)\n",
    "            display(ts(max_rgb(c)[0]))\n",
    "            print(\"Learning rate: \", scheduler.get_last_lr()[0])\n",
    "            del c\n",
    "        i += 1\n",
    "        \n",
    "        optimizer.zero_grad()\n",
    "        out.backward()\n",
    "        optimizer.step()\n",
    "    scheduler.step()"
   ]
  },
  {
   "cell_type": "code",
   "execution_count": 14,
   "id": "pleased-basketball",
   "metadata": {},
   "outputs": [],
   "source": [
    "torch.save(model, 'misc_figures/naive.pth')"
   ]
  },
  {
   "cell_type": "code",
   "execution_count": 26,
   "id": "dense-being",
   "metadata": {},
   "outputs": [
    {
     "data": {
      "image/gif": "[encoded data removed]",
      "text/plain": [
       "<IPython.core.display.Image object>"
      ]
     },
     "execution_count": 26,
     "metadata": {},
     "output_type": "execute_result"
    }
   ],
   "source": [
    "from IPython.display import display, Image\n",
    "Image('final.gif')"
   ]
  },
  {
   "cell_type": "code",
   "execution_count": null,
   "id": "recovered-brunswick",
   "metadata": {},
   "outputs": [],
   "source": [
    "plt.plot(loss_mse)"
   ]
  },
  {
   "cell_type": "code",
   "execution_count": 31,
   "id": "internal-dealing",
   "metadata": {},
   "outputs": [
    {
     "data": {
      "text/plain": [
       "torch.Size([5, 4900])"
      ]
     },
     "execution_count": 31,
     "metadata": {},
     "output_type": "execute_result"
    }
   ],
   "source": [
    "torch.argmax(get_rgb(x), dim=1).flatten(1,2).shape"
   ]
  },
  {
   "cell_type": "code",
   "execution_count": 28,
   "id": "female-defensive",
   "metadata": {},
   "outputs": [
    {
     "name": "stdout",
     "output_type": "stream",
     "text": [
      "torch.Size([60, 60, 4])\n"
     ]
    },
    {
     "data": {
      "image/png": "[encoded data removed]",
      "text/plain": [
       "<Figure size 432x288 with 1 Axes>"
      ]
     },
     "metadata": {
      "needs_background": "light"
     },
     "output_type": "display_data"
    }
   ],
   "source": [
    "# Show certainty of pixels\n",
    "\n",
    "a = max_rgba(b[0]).detach().clone().to('cpu')\n",
    "plt.imshow(a.transpose(1,2).transpose(0,2))\n",
    "plt.show()"
   ]
  },
  {
   "cell_type": "code",
   "execution_count": 39,
   "id": "checked-scroll",
   "metadata": {},
   "outputs": [],
   "source": [
    "# Save final iterations as gif\n",
    "\n",
    "epoch_new = [ts(i) for i in epoch_history]\n",
    "epoch_new[0].save('anitest.gif',\n",
    "               save_all=True,\n",
    "               append_images=epoch_new[1:],\n",
    "               duration=1000,\n",
    "               loop=0)"
   ]
  },
  {
   "cell_type": "code",
   "execution_count": 12,
   "id": "recovered-edinburgh",
   "metadata": {},
   "outputs": [],
   "source": [
    "from sklearn.metrics import confusion_matrix\n",
    "from sklearn.metrics import mutual_info_score \n",
    "from sklearn.metrics import ConfusionMatrixDisplay\n",
    "\n",
    "def dice(pred, truth, epsilon=1e-6):\n",
    "    pred = pred.view(-1).cpu()\n",
    "    target = truth.view(-1).cpu()\n",
    "\n",
    "    x = confusion_matrix(pred, target)\n",
    "    \n",
    "    FP = x.sum(axis=0) - np.diag(x)\n",
    "    FN = x.sum(axis=1) - np.diag(x)\n",
    "    TP = np.diag(x)\n",
    "    TN = x.sum() - (FP + FN + TP)\n",
    "    \n",
    "    FP = np.sum(FP)\n",
    "    FN = np.sum(FN)\n",
    "    TP = np.sum(TP)\n",
    "    TN = np.sum(TN)\n",
    "    \n",
    "    d5 = 2*TP+FN+FP\n",
    "    if d5 == 0:\n",
    "        d5 = epsilon\n",
    "    dice = 2*TP/d5\n",
    "    \n",
    "    return dice  \n",
    "\n",
    "# Precision, Recall, Accuracy and Specificity Score\n",
    "def pras(pred, truth):\n",
    "    \n",
    "    # Convert to format for confusion matrix\n",
    "    pred = pred.view(-1).cpu()\n",
    "    target = truth.view(-1).cpu()\n",
    "\n",
    "    x = confusion_matrix(pred, target)\n",
    "\n",
    "    # Calculate FP, FN, TP, TN\n",
    "    FP = x.sum(axis=0) - np.diag(x)\n",
    "    FN = x.sum(axis=1) - np.diag(x)\n",
    "    TP = np.diag(x)\n",
    "    TN = x.sum() - (FP + FN + TP)\n",
    "    \n",
    "    # Set the denominators and deal with 0 denominators\n",
    "    d1 = TP+FP\n",
    "    d1[np.where(d1==0)] = -1\n",
    "    d2 = TP+FN\n",
    "    d2[np.where(d2==0)] = -1\n",
    "    d3 = TP+TN+FP+FN\n",
    "    d3[np.where(d3==0)] = -1\n",
    "    d4 = TN+FP\n",
    "    d4[np.where(d4==0)] = -1\n",
    "\n",
    "    # Calculate and return scores\n",
    "    precision = TP/d1\n",
    "    recall = TP/d2\n",
    "    accuracy = (TP+TN)/d3\n",
    "    specificity = TN/d4\n",
    "    \n",
    "    return precision, recall, accuracy, specificity\n",
    "\n",
    "# Recall Score\n",
    "def overall_pras(pred, truth):\n",
    "    \n",
    "    # Convert to format for confusion matrix\n",
    "    pred = pred.view(-1).cpu()\n",
    "    target = truth.view(-1).cpu()\n",
    "    \n",
    "    x = confusion_matrix(pred, target)\n",
    "\n",
    "    FP = x.sum(axis=0) - np.diag(x)  \n",
    "    FN = x.sum(axis=1) - np.diag(x)\n",
    "    TP = np.diag(x)\n",
    "    TN = x.sum() - (FP + FN + TP)\n",
    "    \n",
    "    # Sum the values for overall values\n",
    "    FP = np.sum(FP)\n",
    "    FN = np.sum(FN)\n",
    "    TP = np.sum(TP)\n",
    "    TN = np.sum(TN)\n",
    "    \n",
    "    # Set the denominators and deal with 0 denominators\n",
    "    d1 = TP+FP\n",
    "    d2 = TP+FN\n",
    "    d3 = TP+TN+FP+FN\n",
    "    d4 = TN+FP\n",
    "    \n",
    "    # Calculate and return scores and deal with potential 0 denominators\n",
    "    if d1 > 0:\n",
    "        precision = TP/d1\n",
    "    else:\n",
    "        precision = -1\n",
    "        \n",
    "    if d2 > 0:\n",
    "        recall = TP/d2\n",
    "    else:\n",
    "        recall = -1\n",
    "    \n",
    "    if d3 > 0:\n",
    "        accuracy = (TP+TN)/d3\n",
    "    else:\n",
    "        d3 = -1\n",
    "        \n",
    "    if d4 > 0:\n",
    "        specificity = TN/d4\n",
    "    else:\n",
    "        specificity = -1\n",
    "    \n",
    "    return precision, recall, accuracy, specificity\n",
    "\n",
    "# Mutual Information\n",
    "def mi(pred, target):\n",
    "    print(pred.squeeze().shape)\n",
    "    print(target.flatten().shape)\n",
    "    return mutual_info_score(pred.flatten().cpu(), target.flatten().cpu())\n",
    "\n",
    "def get_confusion(pred, target):\n",
    "    pred = pred.view(-1).cpu()\n",
    "    target = target.view(-1).cpu()\n",
    "    x = confusion_matrix(pred.cpu(), target.cpu())\n",
    "    return x\n",
    "\n",
    "def print_confusion(conf):\n",
    "    xt = [\"Background\", \"Hair\", \"Face\", \"Nose\", \"Eyes\", \"Mouth\"]\n",
    "    sns.set(font_scale=1.4, rc={'figure.figsize':(11.7,8.27)}) \n",
    "    sns.heatmap(conf, annot=True, annot_kws={\"size\": 16}, fmt='g', xticklabels=xt, yticklabels=xt)\n",
    "    plt.savefig(\"confusion.png\")"
   ]
  },
  {
   "cell_type": "code",
   "execution_count": 13,
   "id": "inappropriate-elevation",
   "metadata": {},
   "outputs": [],
   "source": [
    "# Empty lists for precision, recall, accuracy, specificity, DICE\n",
    "\n",
    "po_list = []\n",
    "ro_list = []\n",
    "ao_list = []\n",
    "so_list = []\n",
    "\n",
    "p_list = []\n",
    "r_list = []\n",
    "a_list = []\n",
    "s_list = []\n",
    "\n",
    "dice_list = []\n",
    "mi_list = []"
   ]
  },
  {
   "cell_type": "code",
   "execution_count": 14,
   "id": "announced-voice",
   "metadata": {
    "scrolled": true
   },
   "outputs": [
    {
     "name": "stdout",
     "output_type": "stream",
     "text": [
      "Loss = tensor(1.6257, device='cuda:0')\n",
      "torch.Size([60, 60])\n",
      "torch.Size([3600])\n"
     ]
    },
    {
     "data": {
      "image/png": "[encoded data removed]",
      "text/plain": [
       "<PIL.Image.Image image mode=RGB size=60x60 at 0x7F1F9401FC10>"
      ]
     },
     "metadata": {},
     "output_type": "display_data"
    },
    {
     "name": "stdout",
     "output_type": "stream",
     "text": [
      "1.6256805658340454\n",
      "Loss = tensor(1.2909, device='cuda:0')\n",
      "torch.Size([60, 60])\n",
      "torch.Size([3600])\n"
     ]
    },
    {
     "data": {
      "image/png": "[encoded data removed]",
      "text/plain": [
       "<PIL.Image.Image image mode=RGB size=60x60 at 0x7F20E28352B0>"
      ]
     },
     "metadata": {},
     "output_type": "display_data"
    },
    {
     "name": "stdout",
     "output_type": "stream",
     "text": [
      "1.2909468412399292\n",
      "Loss = tensor(1.3848, device='cuda:0')\n",
      "torch.Size([60, 60])\n",
      "torch.Size([3600])\n"
     ]
    },
    {
     "data": {
      "image/png": "[encoded data removed]",
      "text/plain": [
       "<PIL.Image.Image image mode=RGB size=60x60 at 0x7F20E2835130>"
      ]
     },
     "metadata": {},
     "output_type": "display_data"
    },
    {
     "name": "stdout",
     "output_type": "stream",
     "text": [
      "1.3847682476043701\n",
      "Loss = tensor(1.3942, device='cuda:0')\n",
      "torch.Size([60, 60])\n",
      "torch.Size([3600])\n"
     ]
    },
    {
     "data": {
      "image/png": "[encoded data removed]",
      "text/plain": [
       "<PIL.Image.Image image mode=RGB size=60x60 at 0x7F20E2835130>"
      ]
     },
     "metadata": {},
     "output_type": "display_data"
    },
    {
     "name": "stdout",
     "output_type": "stream",
     "text": [
      "1.394240140914917\n",
      "Loss = tensor(1.2760, device='cuda:0')\n",
      "torch.Size([60, 60])\n",
      "torch.Size([3600])\n"
     ]
    },
    {
     "data": {
      "image/png": "[encoded data removed]",
      "text/plain": [
       "<PIL.Image.Image image mode=RGB size=60x60 at 0x7F2170595FA0>"
      ]
     },
     "metadata": {},
     "output_type": "display_data"
    },
    {
     "name": "stdout",
     "output_type": "stream",
     "text": [
      "1.275985836982727\n",
      "Loss = tensor(1.3382, device='cuda:0')\n",
      "torch.Size([60, 60])\n",
      "torch.Size([3600])\n"
     ]
    },
    {
     "data": {
      "image/png": "[encoded data removed]",
      "text/plain": [
       "<PIL.Image.Image image mode=RGB size=60x60 at 0x7F2170595DF0>"
      ]
     },
     "metadata": {},
     "output_type": "display_data"
    },
    {
     "name": "stdout",
     "output_type": "stream",
     "text": [
      "1.338197946548462\n",
      "Loss = tensor(1.3876, device='cuda:0')\n",
      "torch.Size([60, 60])\n",
      "torch.Size([3600])\n"
     ]
    },
    {
     "data": {
      "image/png": "[encoded data removed]",
      "text/plain": [
       "<PIL.Image.Image image mode=RGB size=60x60 at 0x7F2170595F10>"
      ]
     },
     "metadata": {},
     "output_type": "display_data"
    },
    {
     "name": "stdout",
     "output_type": "stream",
     "text": [
      "1.3876286745071411\n",
      "Loss = tensor(1.3286, device='cuda:0')\n",
      "torch.Size([60, 60])\n",
      "torch.Size([3600])\n"
     ]
    },
    {
     "data": {
      "image/png": "[encoded data removed]",
      "text/plain": [
       "<PIL.Image.Image image mode=RGB size=60x60 at 0x7F2170595580>"
      ]
     },
     "metadata": {},
     "output_type": "display_data"
    },
    {
     "name": "stdout",
     "output_type": "stream",
     "text": [
      "1.3285850286483765\n",
      "Loss = tensor(1.3165, device='cuda:0')\n",
      "torch.Size([60, 60])\n",
      "torch.Size([3600])\n"
     ]
    },
    {
     "data": {
      "image/png": "[encoded data removed]",
      "text/plain": [
       "<PIL.Image.Image image mode=RGB size=60x60 at 0x7F2170595FA0>"
      ]
     },
     "metadata": {},
     "output_type": "display_data"
    },
    {
     "name": "stdout",
     "output_type": "stream",
     "text": [
      "1.3164860010147095\n",
      "Loss = tensor(1.3535, device='cuda:0')\n",
      "torch.Size([60, 60])\n",
      "torch.Size([3600])\n"
     ]
    },
    {
     "data": {
      "image/png": "[encoded data removed]",
      "text/plain": [
       "<PIL.Image.Image image mode=RGB size=60x60 at 0x7F20E2835310>"
      ]
     },
     "metadata": {},
     "output_type": "display_data"
    },
    {
     "name": "stdout",
     "output_type": "stream",
     "text": [
      "1.3534773588180542\n",
      "Loss = tensor(1.2847, device='cuda:0')\n",
      "torch.Size([60, 60])\n",
      "torch.Size([3600])\n"
     ]
    },
    {
     "data": {
      "image/png": "[encoded data removed]",
      "text/plain": [
       "<PIL.Image.Image image mode=RGB size=60x60 at 0x7F20E28352B0>"
      ]
     },
     "metadata": {},
     "output_type": "display_data"
    },
    {
     "name": "stdout",
     "output_type": "stream",
     "text": [
      "1.284747838973999\n",
      "Loss = tensor(1.2992, device='cuda:0')\n",
      "torch.Size([60, 60])\n",
      "torch.Size([3600])\n"
     ]
    },
    {
     "data": {
      "image/png": "[encoded data removed]",
      "text/plain": [
       "<PIL.Image.Image image mode=RGB size=60x60 at 0x7F20E2835610>"
      ]
     },
     "metadata": {},
     "output_type": "display_data"
    },
    {
     "name": "stdout",
     "output_type": "stream",
     "text": [
      "1.2991952896118164\n",
      "Loss = tensor(1.4886, device='cuda:0')\n",
      "torch.Size([60, 60])\n",
      "torch.Size([3600])\n"
     ]
    },
    {
     "data": {
      "image/png": "[encoded data removed]",
      "text/plain": [
       "<PIL.Image.Image image mode=RGB size=60x60 at 0x7F20E28352B0>"
      ]
     },
     "metadata": {},
     "output_type": "display_data"
    },
    {
     "name": "stdout",
     "output_type": "stream",
     "text": [
      "1.488637089729309\n",
      "Loss = tensor(1.2852, device='cuda:0')\n",
      "torch.Size([60, 60])\n",
      "torch.Size([3600])\n"
     ]
    },
    {
     "data": {
      "image/png": "[encoded data removed]",
      "text/plain": [
       "<PIL.Image.Image image mode=RGB size=60x60 at 0x7F20E28352B0>"
      ]
     },
     "metadata": {},
     "output_type": "display_data"
    },
    {
     "name": "stdout",
     "output_type": "stream",
     "text": [
      "1.2851858139038086\n",
      "Loss = tensor(1.3334, device='cuda:0')\n",
      "torch.Size([60, 60])\n",
      "torch.Size([3600])\n"
     ]
    },
    {
     "data": {
      "image/png": "[encoded data removed]",
      "text/plain": [
       "<PIL.Image.Image image mode=RGB size=60x60 at 0x7F20E2835130>"
      ]
     },
     "metadata": {},
     "output_type": "display_data"
    },
    {
     "name": "stdout",
     "output_type": "stream",
     "text": [
      "1.3333861827850342\n",
      "Loss = tensor(1.2625, device='cuda:0')\n",
      "torch.Size([60, 60])\n",
      "torch.Size([3600])\n"
     ]
    },
    {
     "data": {
      "image/png": "[encoded data removed]",
      "text/plain": [
       "<PIL.Image.Image image mode=RGB size=60x60 at 0x7F2170595DF0>"
      ]
     },
     "metadata": {},
     "output_type": "display_data"
    },
    {
     "name": "stdout",
     "output_type": "stream",
     "text": [
      "1.2625274658203125\n",
      "Loss = tensor(1.3842, device='cuda:0')\n",
      "torch.Size([60, 60])\n",
      "torch.Size([3600])\n"
     ]
    },
    {
     "data": {
      "image/png": "[encoded data removed]",
      "text/plain": [
       "<PIL.Image.Image image mode=RGB size=60x60 at 0x7F20E28352B0>"
      ]
     },
     "metadata": {},
     "output_type": "display_data"
    },
    {
     "name": "stdout",
     "output_type": "stream",
     "text": [
      "1.3842464685440063\n",
      "Loss = tensor(1.2911, device='cuda:0')\n",
      "torch.Size([60, 60])\n",
      "torch.Size([3600])\n"
     ]
    },
    {
     "data": {
      "image/png": "[encoded data removed]",
      "text/plain": [
       "<PIL.Image.Image image mode=RGB size=60x60 at 0x7F2170595F10>"
      ]
     },
     "metadata": {},
     "output_type": "display_data"
    },
    {
     "name": "stdout",
     "output_type": "stream",
     "text": [
      "1.2910785675048828\n",
      "Loss = tensor(1.4117, device='cuda:0')\n",
      "torch.Size([60, 60])\n",
      "torch.Size([3600])\n"
     ]
    },
    {
     "data": {
      "image/png": "[encoded data removed]",
      "text/plain": [
       "<PIL.Image.Image image mode=RGB size=60x60 at 0x7F20E2835130>"
      ]
     },
     "metadata": {},
     "output_type": "display_data"
    },
    {
     "name": "stdout",
     "output_type": "stream",
     "text": [
      "1.4116612672805786\n",
      "Loss = tensor(1.3177, device='cuda:0')\n",
      "torch.Size([60, 60])\n",
      "torch.Size([3600])\n"
     ]
    },
    {
     "data": {
      "image/png": "[encoded data removed]",
      "text/plain": [
       "<PIL.Image.Image image mode=RGB size=60x60 at 0x7F20E2835130>"
      ]
     },
     "metadata": {},
     "output_type": "display_data"
    },
    {
     "name": "stdout",
     "output_type": "stream",
     "text": [
      "1.317700982093811\n",
      "Loss = tensor(1.2965, device='cuda:0')\n",
      "torch.Size([60, 60])\n",
      "torch.Size([3600])\n"
     ]
    },
    {
     "data": {
      "image/png": "[encoded data removed]",
      "text/plain": [
       "<PIL.Image.Image image mode=RGB size=60x60 at 0x7F2170595EE0>"
      ]
     },
     "metadata": {},
     "output_type": "display_data"
    },
    {
     "name": "stdout",
     "output_type": "stream",
     "text": [
      "1.2964756488800049\n",
      "Loss = tensor(1.3595, device='cuda:0')\n",
      "torch.Size([60, 60])\n",
      "torch.Size([3600])\n"
     ]
    },
    {
     "data": {
      "image/png": "[encoded data removed]",
      "text/plain": [
       "<PIL.Image.Image image mode=RGB size=60x60 at 0x7F2170595580>"
      ]
     },
     "metadata": {},
     "output_type": "display_data"
    },
    {
     "name": "stdout",
     "output_type": "stream",
     "text": [
      "1.3594715595245361\n",
      "Loss = tensor(1.3431, device='cuda:0')\n",
      "torch.Size([60, 60])\n",
      "torch.Size([3600])\n"
     ]
    },
    {
     "data": {
      "image/png": "[encoded data removed]",
      "text/plain": [
       "<PIL.Image.Image image mode=RGB size=60x60 at 0x7F2170595DF0>"
      ]
     },
     "metadata": {},
     "output_type": "display_data"
    },
    {
     "name": "stdout",
     "output_type": "stream",
     "text": [
      "1.3431376218795776\n",
      "Loss = tensor(1.3827, device='cuda:0')\n",
      "torch.Size([60, 60])\n",
      "torch.Size([3600])\n"
     ]
    },
    {
     "data": {
      "image/png": "[encoded data removed]",
      "text/plain": [
       "<PIL.Image.Image image mode=RGB size=60x60 at 0x7F20E28352B0>"
      ]
     },
     "metadata": {},
     "output_type": "display_data"
    },
    {
     "name": "stdout",
     "output_type": "stream",
     "text": [
      "1.3826584815979004\n",
      "Loss = tensor(1.3589, device='cuda:0')\n",
      "torch.Size([60, 60])\n",
      "torch.Size([3600])\n"
     ]
    },
    {
     "data": {
      "image/png": "[encoded data removed]",
      "text/plain": [
       "<PIL.Image.Image image mode=RGB size=60x60 at 0x7F2170595EE0>"
      ]
     },
     "metadata": {},
     "output_type": "display_data"
    },
    {
     "name": "stdout",
     "output_type": "stream",
     "text": [
      "1.358903169631958\n",
      "Loss = tensor(1.4311, device='cuda:0')\n",
      "torch.Size([60, 60])\n",
      "torch.Size([3600])\n"
     ]
    },
    {
     "data": {
      "image/png": "[encoded data removed]",
      "text/plain": [
       "<PIL.Image.Image image mode=RGB size=60x60 at 0x7F20E28350D0>"
      ]
     },
     "metadata": {},
     "output_type": "display_data"
    },
    {
     "name": "stdout",
     "output_type": "stream",
     "text": [
      "1.431139349937439\n",
      "Loss = tensor(1.2611, device='cuda:0')\n",
      "torch.Size([60, 60])\n",
      "torch.Size([3600])\n"
     ]
    },
    {
     "data": {
      "image/png": "[encoded data removed]",
      "text/plain": [
       "<PIL.Image.Image image mode=RGB size=60x60 at 0x7F20E2835610>"
      ]
     },
     "metadata": {},
     "output_type": "display_data"
    },
    {
     "name": "stdout",
     "output_type": "stream",
     "text": [
      "1.26105797290802\n",
      "Loss = tensor(1.3772, device='cuda:0')\n",
      "torch.Size([60, 60])\n",
      "torch.Size([3600])\n"
     ]
    },
    {
     "data": {
      "image/png": "[encoded data removed]",
      "text/plain": [
       "<PIL.Image.Image image mode=RGB size=60x60 at 0x7F20E2835610>"
      ]
     },
     "metadata": {},
     "output_type": "display_data"
    },
    {
     "name": "stdout",
     "output_type": "stream",
     "text": [
      "1.377220630645752\n",
      "Loss = tensor(1.3926, device='cuda:0')\n",
      "torch.Size([60, 60])\n",
      "torch.Size([3600])\n"
     ]
    },
    {
     "data": {
      "image/png": "[encoded data removed]",
      "text/plain": [
       "<PIL.Image.Image image mode=RGB size=60x60 at 0x7F2170595F10>"
      ]
     },
     "metadata": {},
     "output_type": "display_data"
    },
    {
     "name": "stdout",
     "output_type": "stream",
     "text": [
      "1.392622709274292\n",
      "Loss = tensor(1.4908, device='cuda:0')\n",
      "torch.Size([60, 60])\n",
      "torch.Size([3600])\n"
     ]
    },
    {
     "data": {
      "image/png": "[encoded data removed]",
      "text/plain": [
       "<PIL.Image.Image image mode=RGB size=60x60 at 0x7F2170595F10>"
      ]
     },
     "metadata": {},
     "output_type": "display_data"
    },
    {
     "name": "stdout",
     "output_type": "stream",
     "text": [
      "1.490848183631897\n"
     ]
    }
   ],
   "source": [
    "# Inference and test loss\n",
    "loss_test_ce = []\n",
    "batch_size=1\n",
    "conf_running = torch.zeros(6,6)\n",
    "\n",
    "with torch.no_grad():\n",
    "    for batch in test_loader_CE:\n",
    "        inputs, targets = batch\n",
    "        if last == True:\n",
    "            x, epoch_history = model.forward(130, inputs, last=last)\n",
    "        else:\n",
    "            x = model.forward(130, inputs, last=last)\n",
    "\n",
    "        b = get_rgb(x)\n",
    "        pred = torch.argmax(b, dim=1)\n",
    "        out = loss2(b, targets.detach().long())\n",
    "        print(\"Loss =\", out)\n",
    "        loss_test_ce.append(float(out))\n",
    "        c = b.detach().clone()\n",
    "        \n",
    "        target = targets.detach().long()\n",
    "        \n",
    "        # Log metrics\n",
    "        p,r,a,s = overall_pras(pred, target)\n",
    "        po_list.append(p)\n",
    "        ro_list.append(r)\n",
    "        ao_list.append(a)\n",
    "        so_list.append(s)\n",
    "        \n",
    "        d = dice(pred, target)\n",
    "        dice_list.append(d.item())\n",
    "        \n",
    "        m = mi(pred, target)\n",
    "        mi_list.append(m)\n",
    "        \n",
    "        p,r,a,s = pras(pred, target)\n",
    "        p_list.append(p)\n",
    "        r_list.append(r)\n",
    "        a_list.append(a)\n",
    "        s_list.append(s)\n",
    "        \n",
    "        conf_running += get_confusion(pred, target)\n",
    "        \n",
    "        for i in range(batch_size):\n",
    "            display(ts(max_rgb(c)[i]))\n",
    "        del c\n",
    "        print(float(out))"
   ]
  },
  {
   "cell_type": "code",
   "execution_count": 16,
   "id": "frozen-principle",
   "metadata": {},
   "outputs": [],
   "source": [
    "boxplot_p = np.array(p_list)\n",
    "boxplot_r = np.array(r_list)\n",
    "boxplot_a = np.array(a_list)\n",
    "boxplot_s = np.array(s_list)\n",
    "boxplot_mi = np.array(mi_list)\n",
    "\n",
    "np.save('metrics/naive_p.npy', boxplot_p)\n",
    "np.save('metrics/naive_r.npy', boxplot_r)\n",
    "np.save('metrics/naive_a.npy', boxplot_a)\n",
    "np.save('metrics/naive_s.npy', boxplot_s)\n",
    "np.save('metrics/naive_m.npy', boxplot_mi)\n",
    "np.save('metrics/naive_dice.npy', dice_list)"
   ]
  },
  {
   "cell_type": "code",
   "execution_count": 17,
   "id": "cooked-lightweight",
   "metadata": {},
   "outputs": [
    {
     "data": {
      "image/png": "[encoded data removed]",
      "text/plain": [
       "<Figure size 432x288 with 1 Axes>"
      ]
     },
     "metadata": {
      "needs_background": "light"
     },
     "output_type": "display_data"
    },
    {
     "data": {
      "image/png": "[encoded data removed]",
      "text/plain": [
       "<Figure size 864x864 with 4 Axes>"
      ]
     },
     "metadata": {
      "needs_background": "light"
     },
     "output_type": "display_data"
    }
   ],
   "source": [
    "pras_overall_list = [dice_list, po_list, ro_list, ao_list, so_list, mi_list]\n",
    "#sns.boxplot(x=np.array(pras_overall_list), y=np.array([1,2,3,4]))\n",
    "plt.boxplot(pras_overall_list)\n",
    "plt.xticks([1,2,3,4,5,6],[\"DICE\", \"Precision\", \"Recall\", \"Accuracy\", \"Specificity\", \"MI\"])\n",
    "plt.title(\"Overall Metrics for Test Set\")\n",
    "plt.savefig(\"1NaivePras.png\")\n",
    "\n",
    "\n",
    "fig, ((ax1, ax2), (ax3, ax4)) = plt.subplots(2,2)\n",
    "ax1.boxplot(boxplot_p)\n",
    "ax1.set_title(\"Precision\")\n",
    "ax1.set_xticklabels([\"Background\", \"Hair\", \"Face\", \"Nose\", \"Eyes\", \"Mouth\"])\n",
    "\n",
    "ax2.boxplot(boxplot_r)\n",
    "ax2.set_title(\"Recall\")\n",
    "ax2.set_xticklabels([\"Background\", \"Hair\", \"Face\", \"Nose\", \"Eyes\", \"Mouth\"])\n",
    "\n",
    "ax3.boxplot(boxplot_a)\n",
    "ax3.set_title(\"Accuracy\")\n",
    "ax3.set_xticklabels([\"Background\", \"Hair\", \"Face\", \"Nose\", \"Eyes\", \"Mouth\"])\n",
    "\n",
    "ax4.boxplot(boxplot_s)\n",
    "ax4.set_title(\"Specificity\")\n",
    "ax4.set_xticklabels([\"Background\", \"Hair\", \"Face\", \"Nose\", \"Eyes\", \"Mouth\"])\n",
    "\n",
    "fig.set_figwidth(12)\n",
    "fig.set_figheight(12)\n",
    "\n",
    "plt.setp(ax1.xaxis.get_majorticklabels(), rotation=45)\n",
    "plt.setp(ax2.xaxis.get_majorticklabels(), rotation=45)\n",
    "plt.setp(ax3.xaxis.get_majorticklabels(), rotation=45)\n",
    "plt.setp(ax4.xaxis.get_majorticklabels(), rotation=45)\n",
    "fig.suptitle('PRAS Across Classes')\n",
    "\n",
    "plt.savefig(\"1NaivePrasClass.png\")"
   ]
  },
  {
   "cell_type": "code",
   "execution_count": 22,
   "id": "efficient-guess",
   "metadata": {},
   "outputs": [],
   "source": [
    "np.save('1dice_naive.npy', np.array(dice_list))"
   ]
  },
  {
   "cell_type": "code",
   "execution_count": 21,
   "id": "naval-enclosure",
   "metadata": {
    "scrolled": true
   },
   "outputs": [
    {
     "name": "stdout",
     "output_type": "stream",
     "text": [
      "Steps: 10 0.7817777777777778\n",
      "Steps: 20 0.797861111111111\n",
      "Steps: 30 0.807185185185185\n",
      "Steps: 40 0.813111111111111\n",
      "Steps: 50 0.8173148148148148\n",
      "Steps: 60 0.8200833333333333\n",
      "Steps: 70 0.8221666666666667\n",
      "Steps: 80 0.8239166666666666\n",
      "Steps: 90 0.8246759259259259\n",
      "Steps: 100 0.8249537037037036\n",
      "Steps: 110 0.8254444444444444\n",
      "Steps: 120 0.8258425925925927\n",
      "Steps: 130 0.8262314814814816\n",
      "Steps: 140 0.8264907407407409\n",
      "Steps: 150 0.826648148148148\n",
      "Steps: 160 0.8268796296296297\n",
      "Steps: 170 0.8270833333333333\n",
      "Steps: 180 0.8273611111111112\n",
      "Steps: 190 0.8274814814814814\n",
      "Steps: 200 0.8275185185185183\n",
      "Steps: 210 0.8276296296296296\n",
      "Steps: 220 0.8277500000000001\n",
      "Steps: 230 0.8278148148148147\n",
      "Steps: 240 0.8277685185185184\n",
      "Steps: 250 0.8277222222222221\n",
      "Steps: 260 0.8277407407407408\n",
      "Steps: 270 0.8277962962962963\n",
      "Steps: 280 0.8278611111111108\n",
      "Steps: 290 0.827824074074074\n",
      "Steps: 300 0.8277592592592591\n",
      "Steps: 310 0.8277777777777778\n",
      "Steps: 320 0.8278055555555555\n",
      "Steps: 330 0.8278611111111112\n",
      "Steps: 340 0.8278240740740741\n",
      "Steps: 350 0.8277592592592593\n",
      "Steps: 360 0.8277777777777776\n",
      "Steps: 370 0.8278055555555555\n",
      "Steps: 380 0.8278611111111113\n",
      "Steps: 390 0.8278333333333333\n",
      "Steps: 400 0.8277685185185185\n",
      "Steps: 410 0.8277777777777776\n",
      "Steps: 420 0.8278055555555556\n",
      "Steps: 430 0.8278611111111112\n",
      "Steps: 440 0.8278425925925925\n",
      "Steps: 450 0.8277685185185187\n",
      "Steps: 460 0.8277777777777777\n",
      "Steps: 470 0.8278055555555556\n",
      "Steps: 480 0.827861111111111\n",
      "Steps: 490 0.8278425925925925\n"
     ]
    }
   ],
   "source": [
    "# Analysing stability using number of steps\n",
    "last = False\n",
    "stability_dice = []\n",
    "images = []\n",
    "batch_size = 1\n",
    "\n",
    "\n",
    "for i in range(1,50):\n",
    "    dice_list=[]\n",
    "    with torch.no_grad():\n",
    "        for batch in test_loader_CE:\n",
    "            inputs, targets = batch\n",
    "            if last == True:\n",
    "                x, epoch_history = model.forward(i*10, inputs, last=last)\n",
    "            else:\n",
    "                x = model.forward(i*10, inputs, last=last)\n",
    "\n",
    "            b = get_rgb(x)\n",
    "            pred = torch.argmax(b, dim=1)\n",
    "            out = loss2(b, targets.detach().long())\n",
    "            c = b.detach().clone()\n",
    "            images.append(c)\n",
    "        \n",
    "            target = targets.detach().long()\n",
    "        \n",
    "            d = dice(pred, target)\n",
    "            dice_list.append(d.item())\n",
    "                \n",
    "            \n",
    "        print(\"Steps: \" + str(10*i) + \" \" + str(np.mean(dice_list)))\n",
    "        stability_dice.append(np.mean(dice_list))\n",
    "    "
   ]
  },
  {
   "cell_type": "code",
   "execution_count": 14,
   "id": "pleasant-substitute",
   "metadata": {},
   "outputs": [],
   "source": [
    "# Save the DICE scores for the stability plot\n",
    "np.save('metrics/stability_naive.npy', stability_dice)"
   ]
  },
  {
   "cell_type": "code",
   "execution_count": null,
   "id": "verified-experience",
   "metadata": {},
   "outputs": [],
   "source": []
  }
 ],
 "metadata": {
  "kernelspec": {
   "display_name": "Python 3",
   "language": "python",
   "name": "python3"
  },
  "language_info": {
   "codemirror_mode": {
    "name": "ipython",
    "version": 3
   },
   "file_extension": ".py",
   "mimetype": "text/x-python",
   "name": "python",
   "nbconvert_exporter": "python",
   "pygments_lexer": "ipython3",
   "version": "3.8.5"
  }
 },
 "nbformat": 4,
 "nbformat_minor": 5
}
