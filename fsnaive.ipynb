{
 "cells": [
  {
   "cell_type": "code",
   "execution_count": 1,
   "id": "acoustic-waters",
   "metadata": {},
   "outputs": [],
   "source": [
    "import torch\n",
    "%matplotlib inline\n",
    "\n",
    "import os\n",
    "import gzip\n",
    "import time\n",
    "import pickle\n",
    "\n",
    "import numpy as np\n",
    "import matplotlib.pyplot as plt\n",
    "#from scipy import ndimage\n",
    "\n",
    "import torch\n",
    "import torch.nn as nn\n",
    "import torch.optim as optim\n",
    "import torch.nn.functional as F\n",
    "\n",
    "from IPython.display import clear_output\n",
    "from datetime import datetime\n",
    "from torchvision import datasets, transforms\n",
    "\n",
    "from PIL import Image\n",
    "from IPython.display import Image \n",
    "\n"
   ]
  },
  {
   "cell_type": "code",
   "execution_count": 2,
   "id": "freelance-workshop",
   "metadata": {},
   "outputs": [
    {
     "name": "stdout",
     "output_type": "stream",
     "text": [
      "cuda:0\n"
     ]
    }
   ],
   "source": [
    "if torch.cuda.is_available():  \n",
    "  dev = \"cuda:0\" \n",
    "else:  \n",
    "  dev = \"cpu\"\n",
    "\n",
    "print(dev)"
   ]
  },
  {
   "cell_type": "code",
   "execution_count": 3,
   "id": "certified-condition",
   "metadata": {},
   "outputs": [],
   "source": [
    "batch_size = 10"
   ]
  },
  {
   "cell_type": "code",
   "execution_count": 4,
   "id": "virtual-surveillance",
   "metadata": {},
   "outputs": [],
   "source": [
    "from torch.utils.data import Dataset, DataLoader\n",
    "import os\n",
    "import glob\n",
    "from PIL import Image\n",
    "import re\n",
    "\n",
    "\n",
    "px_size = 60\n",
    "py_size = 60\n",
    "\n",
    "class DatasetMSE(Dataset):\n",
    "\n",
    "    def __init__(self, image_dir, label_dir):\n",
    "        self.colors = {\n",
    "            0:torch.FloatTensor([255.0, 0.0, 0.0]),\n",
    "            1:torch.FloatTensor([127.0, 0.0, 0.0]),\n",
    "            2:torch.FloatTensor([255.0, 255.0, 0.0]),\n",
    "            3:torch.FloatTensor([0.0, 255.0, 255.0]),\n",
    "            4:torch.FloatTensor([0.0, 0.0, 255.0]),\n",
    "            5:torch.FloatTensor([0.0, 255.0, 0.0])\n",
    "            }\n",
    "        \n",
    "        self.transforms = []\n",
    "        self.tf = transforms.Compose([transforms.ToTensor(), transforms.Resize((px_size,py_size))])\n",
    "        self.label_imgs = torch.stack([self.get_labels(self.tf((Image.open(file)))) for file in glob.glob(label_dir + '/00*')]).to(dev)\n",
    "        self.colour = torch.stack([self.get_colour(self.tf((Image.open(file)))) for file in glob.glob(label_dir + '/00*')]).to(dev)\n",
    "        self.input_imgs = torch.stack([(self.tf((Image.open(file)))) for file in glob.glob(image_dir + '/00*')]).to(dev)\n",
    "        self.add_colour()\n",
    "\n",
    "    def __len__(self):\n",
    "        return len(self.input_imgs)\n",
    "\n",
    "\n",
    "    def __getitem__(self, idx):\n",
    "        input_img, label_img = self.input_imgs[idx], self.label_imgs[idx]\n",
    "        return input_img, label_img\n",
    "    \n",
    "    def col_sim(self, d):\n",
    "        d = d*255\n",
    "        a = torch.FloatTensor([torch.dist(d, self.colors[i]) for i in self.colors])\n",
    "        return torch.argmin(a) \n",
    "    \n",
    "    def view_shape(self):\n",
    "        print(self.label_imgs.shape)\n",
    "        print(self.input_imgs.shape)\n",
    "    \n",
    "    def get_labels(self, x):\n",
    "        new_x = torch.zeros(6,px_size,px_size)\n",
    "        for i in range(px_size):\n",
    "            for j in range(px_size):\n",
    "                new_d3 = x.transpose(0,1).transpose(1,2)\n",
    "                new_x[self.col_sim(new_d3[i][j])][i][j] = 1\n",
    "                \n",
    "        return new_x\n",
    "        \n",
    "    def get_colour(self, x):\n",
    "        new_x = torch.zeros(px_size,px_size)\n",
    "        for i in range(px_size):\n",
    "            for j in range(px_size):\n",
    "                new_d3 = x.transpose(0,1).transpose(1,2)\n",
    "                new_x[i][j] = self.col_sim(new_d3[i][j])\n",
    "        return new_x\n",
    "        \n",
    "    def add_colour(self):\n",
    "        print(self.input_imgs.shape)\n",
    "        for i in range(self.input_imgs.shape[0]):\n",
    "            print(i)\n",
    "            self.input_imgs[i][0][self.colour[i] == 3] += 0.2\n",
    "            self.input_imgs[i][1][self.colour[i] == 4] += 0.2\n",
    "            self.input_imgs[i][2][self.colour[i] == 5] += 0.2\n",
    "        self.input_imgs = self.input_imgs.clamp(0, 1)\n",
    "            #new_x[1][y[i]==4] += 0.5\n",
    "            #new_x[2][y[i]==5] += 0.5\n",
    "            #new_x[2][y[i] == 0] += 0.5\n",
    "            #new_x[1][y[i]==0] += 0.5\n",
    "        \n",
    "    \n",
    "    def print_tensor(self, x):\n",
    "        print(self.input_imgs[x])"
   ]
  },
  {
   "cell_type": "code",
   "execution_count": 32,
   "id": "fifth-briefing",
   "metadata": {},
   "outputs": [
    {
     "name": "stdout",
     "output_type": "stream",
     "text": [
      "torch.Size([9, 3, 60, 60])\n",
      "0\n",
      "1\n",
      "2\n",
      "3\n",
      "4\n",
      "5\n",
      "6\n",
      "7\n",
      "8\n"
     ]
    }
   ],
   "source": [
    "dset_mse = DatasetMSE(\"Original\",\"Labeled\")\n",
    "train_loader_MSE = torch.utils.data.DataLoader(dset_mse, shuffle=True, batch_size=batch_size)\n",
    "#dset_mse.print_tensor(2)"
   ]
  },
  {
   "cell_type": "code",
   "execution_count": 15,
   "id": "personalized-spine",
   "metadata": {},
   "outputs": [],
   "source": [
    "import torch, gc\n",
    "gc.collect()\n",
    "torch.cuda.empty_cache()"
   ]
  },
  {
   "cell_type": "code",
   "execution_count": 4,
   "id": "moral-austria",
   "metadata": {
    "scrolled": true
   },
   "outputs": [],
   "source": [
    "def initial_seed(batch_size):\n",
    "    return torch.zeros(batch_size, 3, px_size, py_size)\n",
    "\n",
    "# Encode colour classes 1\n",
    "def to_classes(d):\n",
    "    d = d*255\n",
    "    x = torch.zeros(6, d.shape[1], d.shape[2])\n",
    "    # RED 255,0,0\n",
    "    x[0][(d[0] > 220) & (d[1] < 20) & (d[2] < 20)] = 1\n",
    "    # BROWN 127,0,0\n",
    "    x[1][(d[0] > 60) & (d[0] < 200) & (d[1] < 60) & (d[2] < 60)] = 1\n",
    "    # YELLOW 255, 255, 0\n",
    "    x[2][(d[0] > 20) & (d[1] > 30) & (d[2] < 230)] = 1\n",
    "    # LIGHT BLUE 0,255,255\n",
    "    x[3][(d[0] < 100) & (d[1] > 100) & (d[2] > 100)] = 1\n",
    "    # DARK BLUE 0,0,255\n",
    "    x[4][(d[0] < 30) & (d[1] < 30) & (d[2] > 150)] = 1\n",
    "    # GREEN 0,255,0\n",
    "    x[5][(d[0] < 120) & (d[1] > 140) & (d[2] < 160)] = 1\n",
    "    return torch.FloatTensor(x)\n",
    "\n",
    "# Encode colour classes 2\n",
    "def to_class(d):\n",
    "    d = d*255\n",
    "    x = torch.zeros(d.shape[1], d.shape[2])\n",
    "    # RED 255,0,0\n",
    "    #x[(d[0] > 180) & (d[1] < 60) & (d[2] < 60)] = 0\n",
    "    # BROWN 127,0,0\n",
    "    x[(d[0] > 60) & (d[0] < 200) & (d[1] < 60) & (d[2] < 60)] = 1\n",
    "    # YELLOW 255, 255, 0\n",
    "    x[(d[0] > 100) & (d[1] > 100) & (d[2] < 100)] = 2\n",
    "    # LIGHT BLUE 0,255,255\n",
    "    x[(d[0] < 60) & (d[1] > 180) & (d[2] > 180)] = 3\n",
    "    # DARK BLUE 0,0,255\n",
    "    x[(d[0] < 60) & (d[1] < 60) & (d[2] > 180)] = 4\n",
    "    # GREEN 0,255,0\n",
    "    x[(d[0] < 70) & (d[1] > 170) & (d[2] < 70)] = 5\n",
    "    return torch.FloatTensor(x)\n",
    "\n",
    "colors = {\n",
    "    0:torch.FloatTensor([255.0, 0.0, 0.0]).to(dev),\n",
    "    1:torch.FloatTensor([127.0, 0.0, 0.0]).to(dev),\n",
    "    2:torch.FloatTensor([255.0, 255.0, 0.0]).to(dev),\n",
    "    3:torch.FloatTensor([0.0, 255.0, 255.0]).to(dev),\n",
    "    4:torch.FloatTensor([0.0, 0.0, 255.0]).to(dev),\n",
    "    5:torch.FloatTensor([0.0, 255.0, 0.0]).to(dev)\n",
    "    }\n",
    "          \n",
    "    \n",
    "# Get RGB class channels\n",
    "def get_rgb(x):\n",
    "    return x.transpose(0,1)[3:9].transpose(0,1)\n",
    "\n",
    "# Transform to display image\n",
    "ts = transforms.ToPILImage()\n",
    "\n",
    "# Get max class value and convert to RGB for the C classes\n",
    "def max_rgb(x):\n",
    "    newimg = torch.zeros(x.shape[0], px_size, px_size, 3).to(dev)\n",
    "    for i in range(x.shape[0]):\n",
    "        # RED 255, 0, 0\n",
    "        newimg[i][torch.argmax(x[i],dim=0) == 0] = colors[0]\n",
    "        # BROWN 127 0 0 \n",
    "        newimg[i][torch.argmax(x[i],dim=0) == 1] = colors[1]\n",
    "        # YELLOW 255, 255, 0\n",
    "        newimg[i][torch.argmax(x[i],dim=0) == 2] = colors[2]\n",
    "        # L BLUE 0, 255, 255\n",
    "        newimg[i][torch.argmax(x[i],dim=0) == 3] = colors[3]\n",
    "        # D BLUE 0, 0, 255\n",
    "        newimg[i][torch.argmax(x[i],dim=0) == 4] = colors[4]\n",
    "        # GREEN 0, 255, 0\n",
    "        newimg[i][torch.argmax(x[i],dim=0) == 5] = colors[5]\n",
    "    \n",
    "    return (newimg/255.0).transpose(1,3).transpose(2,3)\n",
    "\n",
    "\n",
    "def max_rgba(x):\n",
    "    newimg = torch.zeros(px_size, px_size, 3)\n",
    "    # RED 255, 0, 0\n",
    "    newimg[torch.argmax(x,dim=0) == 0] = torch.FloatTensor([255.0, 0.0, 0.0])\n",
    "    # BROWN 127 0 0 \n",
    "    newimg[torch.argmax(x,dim=0) == 1] = torch.FloatTensor([127.0, 0.0, 0.0])\n",
    "    # YELLOW 255, 255, 0\n",
    "    newimg[torch.argmax(x,dim=0) == 2] = torch.FloatTensor([255.0, 255.0, 0.0])\n",
    "    # L BLUE 0, 255, 255\n",
    "    newimg[torch.argmax(x,dim=0) == 3] = torch.FloatTensor([0.0, 255.0, 255.0])\n",
    "    # D BLUE 0, 0, 255\n",
    "    newimg[torch.argmax(x,dim=0) == 4] = torch.FloatTensor([0.0, 0.0, 255.0])\n",
    "    # GREEN 0, 255, 0\n",
    "    newimg[torch.argmax(x,dim=0) == 5] = torch.FloatTensor([0.0, 255.0, 0.0])\n",
    "    \n",
    "    alpha = torch.max(x, dim=0).values.to(dev)\n",
    "    #alpha = alpha/torch.max(alpha)\n",
    "    newimg = (newimg/255.0).to(dev)\n",
    "    newimg = torch.cat((newimg, alpha.view(px_size, px_size, 1)), dim=2)\n",
    "    print(newimg.shape)\n",
    "    return newimg.transpose(0,2).transpose(1,2)\n",
    "\n",
    "# Flatten dimension\n",
    "def loss_classes(x):\n",
    "    y = torch.flatten(x,1,2)\n",
    "    return y\n"
   ]
  },
  {
   "cell_type": "code",
   "execution_count": null,
   "id": "bronze-logic",
   "metadata": {},
   "outputs": [],
   "source": [
    "import torchvision\n",
    "\n",
    "def imshow(inp, title=None):\n",
    "    \"\"\"Imshow for Tensor.\"\"\"\n",
    "    inp = inp.cpu().numpy().transpose((1, 2, 0))\n",
    "    #mean = np.array([0.485, 0.456, 0.406])\n",
    "    #std = np.array([0.229, 0.224, 0.225])\n",
    "    #inp = std * inp + mean\n",
    "    #inp = np.clip(inp, 0, 1)\n",
    "    plt.imshow(inp)\n",
    "    if title is not None:\n",
    "        plt.title(title)\n",
    "    plt.pause(0.001)  # pause a bit so that plots are updated\n",
    "\n",
    "\n",
    "# Get a batch of training data\n",
    "# inputs contains 10 images because batch_size=10 for the dataloaders\n",
    "inputs, labels = next(iter(train_loader_MSE))\n",
    "# Make a grid from batch\n",
    "out = torchvision.utils.make_grid(torch.cat((inputs, max_rgb(labels)),dim=0), nrow=batch_size)\n",
    "imshow(out, title=\"Sample Batch (Image and Ground Truth)\")\n"
   ]
  },
  {
   "cell_type": "code",
   "execution_count": 5,
   "id": "concerned-production",
   "metadata": {},
   "outputs": [],
   "source": [
    "batch_size = 10"
   ]
  },
  {
   "cell_type": "code",
   "execution_count": 6,
   "id": "surprised-praise",
   "metadata": {},
   "outputs": [],
   "source": [
    "# Cross Entropy\n",
    "\n",
    "from torch.utils.data import Dataset, DataLoader\n",
    "import os\n",
    "import glob\n",
    "from PIL import Image\n",
    "\n",
    "\n",
    "px_size = 60\n",
    "py_size = 60\n",
    "\n",
    "class DatasetCE(Dataset):\n",
    "\n",
    "    def __init__(self, image_dir, label_dir):\n",
    "        self.colors = {\n",
    "            0:torch.FloatTensor([255.0, 0.0, 0.0]),\n",
    "            1:torch.FloatTensor([127.0, 0.0, 0.0]),\n",
    "            2:torch.FloatTensor([255.0, 255.0, 0.0]),\n",
    "            3:torch.FloatTensor([0.0, 255.0, 255.0]),\n",
    "            4:torch.FloatTensor([0.0, 0.0, 255.0]),\n",
    "            5:torch.FloatTensor([0.0, 255.0, 0.0])\n",
    "            }\n",
    "        \n",
    "        self.transforms = []\n",
    "        self.tf = transforms.Compose([transforms.ToTensor(), transforms.Resize((px_size,py_size))])\n",
    "        self.input_imgs = torch.stack([self.tf((Image.open(file))) for file in glob.glob(image_dir + '/*')]).to(dev)\n",
    "        self.label_imgs = torch.stack([self.get_labels(self.tf((Image.open(file)))) for file in glob.glob(label_dir + '/*')]).to(dev)\n",
    "        #self.add_colour()\n",
    "    \n",
    "    def __len__(self):\n",
    "        return len(self.input_imgs)\n",
    "\n",
    "\n",
    "    def __getitem__(self, idx):\n",
    "        input_img, label_img = self.input_imgs[idx], self.label_imgs[idx]\n",
    "        return input_img, label_img\n",
    "    \n",
    "    def col_sim(self, d):\n",
    "        d = d*255\n",
    "        a = torch.FloatTensor([torch.dist(d, self.colors[i]) for i in self.colors])\n",
    "        return torch.argmin(a) \n",
    "    \n",
    "    def view_shape(self):\n",
    "        print(self.label_imgs.shape)\n",
    "        print(self.input_imgs.shape)\n",
    "    \n",
    "    # (3, x, y)\n",
    "    def get_labels(self, x):\n",
    "        new_x = torch.zeros(px_size,px_size)\n",
    "        for i in range(px_size):\n",
    "            for j in range(px_size):\n",
    "                new_d3 = x.transpose(0,1).transpose(1,2)\n",
    "                new_x[i][j] = self.col_sim(new_d3[i][j])\n",
    "        return new_x\n",
    "    \n",
    "    def add_colour(self):\n",
    "        y = self.label_imgs.clone().detach()\n",
    "        for i in range(self.input_imgs.shape[0]):\n",
    "            self.input_imgs[i][0][y[i] == 3] += 0.3\n",
    "            self.input_imgs[i][1][y[i] == 4] += 0.3\n",
    "            self.input_imgs[i][2][y[i] == 5] += 0.3\n",
    "        self.input_imgs = self.input_imgs.clamp(0, 1)\n"
   ]
  },
  {
   "cell_type": "code",
   "execution_count": 7,
   "id": "cellular-width",
   "metadata": {},
   "outputs": [
    {
     "data": {
      "text/plain": [
       "150"
      ]
     },
     "execution_count": 7,
     "metadata": {},
     "output_type": "execute_result"
    }
   ],
   "source": [
    "# Cross Entropy\n",
    "\n",
    "dsetCE = DatasetCE(\"Original\",\"Labeled\")\n",
    "train_loader_CE = torch.utils.data.DataLoader(dsetCE, shuffle=True, batch_size=batch_size)\n",
    "dsetCE.__len__()"
   ]
  },
  {
   "cell_type": "code",
   "execution_count": 8,
   "id": "overall-christopher",
   "metadata": {},
   "outputs": [],
   "source": [
    "train_DS, test_DS = torch.utils.data.random_split(dsetCE, [120, 30])\n",
    "train_loader_CE = torch.utils.data.DataLoader(train_DS, shuffle=True, batch_size=batch_size)\n",
    "test_loader_CE = torch.utils.data.DataLoader(test_DS, shuffle=True, batch_size=1)"
   ]
  },
  {
   "cell_type": "code",
   "execution_count": 16,
   "id": "accurate-approval",
   "metadata": {},
   "outputs": [],
   "source": [
    "# Cellular automata class\n",
    "class CAModel(nn.Module):\n",
    "\n",
    "    def __init__(self, channel_n,\n",
    "                 fire_rate=0.5, device=torch.device(\"cpu\")):\n",
    "        super(CAModel, self).__init__()\n",
    "\n",
    "        self.device = device\n",
    "        self.channel_n = channel_n\n",
    "        self.fire_rate = fire_rate\n",
    "        self.to(self.device)\n",
    "        \n",
    "        # Neural network model\n",
    "        self.conv1 = nn.Conv2d(45, 32, kernel_size=3, padding=1)\n",
    "        self.relu = nn.ReLU()\n",
    "        self.conv1a = nn.Conv2d(32, 24, kernel_size=1, padding=0)\n",
    "        self.conv2 = nn.Conv2d(24, 16, kernel_size=1)\n",
    "        self.conv3 = nn.Conv2d(16, 6, kernel_size=1)\n",
    "        \n",
    "        # Pre-defined weights for embedding information\n",
    "        self.prewitt_x = torch.FloatTensor([[1,0,-1],[1,0,-1],[1,0,-1]]).to(dev)\n",
    "        self.prewitt_y = torch.FloatTensor([[1,1,1],[0,0,0],[-1,-1,-1]]).to(dev)\n",
    "        \n",
    "        self.sobel_x = torch.FloatTensor([[1,0,-1],[2,0,-2],[1,0,-1]]).to(dev)\n",
    "        self.sobel_y = torch.FloatTensor([[1,2,1],[0,0,0],[-1,-2,-1]]).to(dev)\n",
    "        \n",
    "        # If you want learnable weights\n",
    "        # self.pre_weight = nn.Conv2d(9,27,kernel_size=3, padding=1)\n",
    "        \n",
    "    def perceive(self, x):\n",
    "\n",
    "        def _perceive_with(x, weight):\n",
    "            size = weight.shape[0]\n",
    "            padding = (size-1)/2\n",
    "            weight = weight.view(1,1,size,size).repeat(self.channel_n, 1, 1, 1)\n",
    "            return F.conv2d(x, weight, padding=int(padding), groups=self.channel_n)\n",
    "        \n",
    "        # 3x3 Sobel and Prewitt operators\n",
    "        wa_1 = self.sobel_x\n",
    "        wa_2 = self.sobel_y\n",
    "        wa_3 = self.prewitt_x\n",
    "        wa_4 = self.prewitt_y\n",
    "        \n",
    "        # Normalisation of these\n",
    "        wa_1/=torch.sum(torch.abs(wa_1))\n",
    "        wa_2/=torch.sum(torch.abs(wa_2))\n",
    "        wa_3/=torch.sum(torch.abs(wa_3))\n",
    "        wa_4/=torch.sum(torch.abs(wa_4))\n",
    "\n",
    "        # Apply convolutions with these filters\n",
    "        y1 = _perceive_with(x, wa_1)\n",
    "        y2 = _perceive_with(x, wa_2)\n",
    "        y3 = _perceive_with(x, wa_1)\n",
    "        y4 = _perceive_with(x, wa_2)\n",
    "                \n",
    "        # Concatenate\n",
    "        y = torch.cat((x,y1,y2,y3,y4),1)\n",
    "        return y\n",
    "    \n",
    "    \n",
    "    def forward(self, steps, x, last=False):\n",
    "        x = torch.cat((x, torch.zeros(batch_size,6,px_size,px_size).to(dev)), dim=1)\n",
    "        if last == True:\n",
    "            epoch_history = []\n",
    "            for i in range(steps):\n",
    "                epoch_history.append(x.detach()[:,3:9,:])\n",
    "                \n",
    "                b = self.perceive(x)\n",
    "                bb = self.conv3(self.conv2(self.relu(self.conv1a(self.relu(self.conv1(b))))))\n",
    "                \n",
    "                c = x.detach().clone()\n",
    "                #stochastic = torch.rand([bb.size(0),bb.size(1),bb.size(2),bb.size(3)])<self.fire_rate\n",
    "                #stochastic = stochastic.float().to(self.device)\n",
    "\n",
    "                #d = bb*stochastic\n",
    "                d = bb\n",
    "                e = c.transpose(0,1)[3:9].transpose(0,1) + d\n",
    "                f = F.softmax(e, dim=1)\n",
    "                \n",
    "                x = torch.cat((c.transpose(0,1)[0:3].transpose(0,1),f),dim=1)\n",
    "                \n",
    "            return x, epoch_history\n",
    "                \n",
    "        else:\n",
    "            for i in range(steps):\n",
    "                b = self.perceive(x)\n",
    "                bb = self.conv3(self.conv2((self.conv1a(self.relu(self.conv1(b))))))\n",
    "                \n",
    "                c = x.detach().clone()\n",
    "                #stochastic = torch.rand([bb.size(0),bb.size(1),bb.size(2),bb.size(3)])<self.fire_rate\n",
    "                #stochastic = stochastic.float().to(self.device)\n",
    "\n",
    "                #d = bb*stochastic\n",
    "                d = bb\n",
    "                e = c.transpose(0,1)[3:9].transpose(0,1) + d\n",
    "                f = F.softmax(e, dim=1)\n",
    "                \n",
    "                x = torch.cat((c.transpose(0,1)[0:3].transpose(0,1),f),dim=1)\n",
    "            return x"
   ]
  },
  {
   "cell_type": "code",
   "execution_count": 19,
   "id": "welcome-minneapolis",
   "metadata": {},
   "outputs": [],
   "source": [
    "# Load model, set loss function, optimizer and scheduler\n",
    "\n",
    "model = CAModel(9,fire_rate=0.5,device=dev)\n",
    "#model = torch.load('modelcollab1.pth')\n",
    "model.cuda()\n",
    "optimizer = optim.Adam(model.parameters(), lr=0.00036, betas=(0.9, 0.999))\n",
    "#scheduler = optim.lr_scheduler.ExponentialLR(optimizer, 0.999)\n",
    "scheduler = torch.optim.lr_scheduler.MultiStepLR(optimizer, [30,60,90], 0.6)\n",
    "#loss1 = torch.nn.MSELoss(size_average=None, reduce=None, reduction='mean')\n",
    "\n",
    "# RED, BROWN, YELLOW, LBLUE, DBLUE, GREEN\n",
    "w = torch.FloatTensor([2,1, 1.05, 8.4, 9, 8.1]).to(dev)\n",
    "loss2 = torch.nn.CrossEntropyLoss(weight=w, size_average=None, ignore_index=-100, reduce=None, reduction='mean')\n",
    "#loss = torch.nn.KLDivLoss(size_average=None, reduce=None, reduction='mean', log_target=False)\n",
    "loss_mse = []\n",
    "loss_ce = []\n",
    "history = []\n",
    "epochs = 200\n",
    "\n",
    "batch_size=10"
   ]
  },
  {
   "cell_type": "code",
   "execution_count": 12,
   "id": "equal-tuning",
   "metadata": {},
   "outputs": [],
   "source": [
    "# Only needed for collaborative automata\n",
    "mask1 = torch.zeros(1,6,px_size,px_size).to(dev)\n",
    "mask2 = torch.zeros(1,6,px_size,px_size).to(dev)\n",
    "k = mask1.shape[2]\n",
    "for i in range(k):\n",
    "    for j in range(k):\n",
    "        mask1[:,:,i,j] = (i + j + 1) % 2\n",
    "        mask2[:,:,i,j] = (i + j) % 2"
   ]
  },
  {
   "cell_type": "code",
   "execution_count": null,
   "id": "combined-tomorrow",
   "metadata": {
    "scrolled": true
   },
   "outputs": [],
   "source": [
    "# MSE training loop\n",
    "for epoch in range(epochs):\n",
    "    i = 0\n",
    "    last = False\n",
    "    if epoch == epochs-1:\n",
    "        last = True\n",
    "    for batch in train_loader_MSE:\n",
    "        inputs, targets = batch\n",
    "        if last == True:\n",
    "            x, epoch_history = model.forward(130, inputs, last=last)\n",
    "        else:\n",
    "            x = model.forward(130, inputs, last=last)\n",
    "            \n",
    "        b = get_rgb(x)\n",
    "        out = loss1(b,targets)\n",
    "        print(\"Loss =\", out)\n",
    "        loss_mse.append(float(out))\n",
    "        c = b.detach().clone()\n",
    "        if (i % 5 == 0):\n",
    "            print(\"EPOCH: \", epoch)\n",
    "            display(ts(max_rgb(c)[0]))\n",
    "            del c\n",
    "            \n",
    "        i += 1\n",
    "        optimizer.zero_grad()\n",
    "        out.backward()\n",
    "        optimizer.step()"
   ]
  },
  {
   "cell_type": "code",
   "execution_count": 19,
   "id": "affected-microwave",
   "metadata": {},
   "outputs": [],
   "source": [
    "torch.save(model, 'modelMSE.pth')"
   ]
  },
  {
   "cell_type": "code",
   "execution_count": 25,
   "id": "funded-cholesterol",
   "metadata": {},
   "outputs": [],
   "source": [
    "from array2gif import write_gif\n",
    "eh = [(max_rgb(epoch_history[i])[1]*255).cpu().detach().numpy() for i in range(len(epoch_history))]\n",
    "#eh = [(max_rgb(epoch_history[i][0])*255).cpu().detach().numpy() for i in range(len(epoch_history))]\n",
    "\n",
    "write_gif(eh, 'final.gif', fps=1)\n",
    "#eh[0].shape\n",
    "#torch.stack(epoch_history)[0].shape"
   ]
  },
  {
   "cell_type": "code",
   "execution_count": 20,
   "id": "judicial-dancing",
   "metadata": {
    "scrolled": true
   },
   "outputs": [
    {
     "name": "stdout",
     "output_type": "stream",
     "text": [
      "Loss = tensor(1.7979, device='cuda:0', grad_fn=<NllLoss2DBackward>)\n",
      "EPOCH:  0\n"
     ]
    },
    {
     "data": {
      "image/png": "[encoded data removed]",
      "text/plain": [
       "<PIL.Image.Image image mode=RGB size=60x60 at 0x7F1A3C22FEE0>"
      ]
     },
     "metadata": {},
     "output_type": "display_data"
    },
    {
     "name": "stdout",
     "output_type": "stream",
     "text": [
      "Learning rate:  0.00036\n",
      "Loss = tensor(1.7985, device='cuda:0', grad_fn=<NllLoss2DBackward>)\n",
      "Loss = tensor(1.7976, device='cuda:0', grad_fn=<NllLoss2DBackward>)\n",
      "Loss = tensor(1.7985, device='cuda:0', grad_fn=<NllLoss2DBackward>)\n",
      "Loss = tensor(1.7981, device='cuda:0', grad_fn=<NllLoss2DBackward>)\n",
      "Loss = tensor(1.7977, device='cuda:0', grad_fn=<NllLoss2DBackward>)\n",
      "EPOCH:  0\n"
     ]
    },
    {
     "data": {
      "image/png": "[encoded data removed]",
      "text/plain": [
       "<PIL.Image.Image image mode=RGB size=60x60 at 0x7F1A3C22F3D0>"
      ]
     },
     "metadata": {},
     "output_type": "display_data"
    },
    {
     "name": "stdout",
     "output_type": "stream",
     "text": [
      "Learning rate:  0.00036\n",
      "Loss = tensor(1.7961, device='cuda:0', grad_fn=<NllLoss2DBackward>)\n",
      "Loss = tensor(1.7968, device='cuda:0', grad_fn=<NllLoss2DBackward>)\n",
      "Loss = tensor(1.7961, device='cuda:0', grad_fn=<NllLoss2DBackward>)\n",
      "Loss = tensor(1.7955, device='cuda:0', grad_fn=<NllLoss2DBackward>)\n",
      "Loss = tensor(1.7952, device='cuda:0', grad_fn=<NllLoss2DBackward>)\n",
      "EPOCH:  0\n"
     ]
    },
    {
     "data": {
      "image/png": "[encoded data removed]",
      "text/plain": [
       "<PIL.Image.Image image mode=RGB size=60x60 at 0x7F1A3C22FFA0>"
      ]
     },
     "metadata": {},
     "output_type": "display_data"
    },
    {
     "name": "stdout",
     "output_type": "stream",
     "text": [
      "Learning rate:  0.00036\n",
      "Loss = tensor(1.7958, device='cuda:0', grad_fn=<NllLoss2DBackward>)\n",
      "Loss = tensor(1.7959, device='cuda:0', grad_fn=<NllLoss2DBackward>)\n",
      "EPOCH:  1\n"
     ]
    },
    {
     "data": {
      "image/png": "[encoded data removed]",
      "text/plain": [
       "<PIL.Image.Image image mode=RGB size=60x60 at 0x7F1A3C22F400>"
      ]
     },
     "metadata": {},
     "output_type": "display_data"
    },
    {
     "name": "stdout",
     "output_type": "stream",
     "text": [
      "Learning rate:  0.00036\n",
      "Loss = tensor(1.7948, device='cuda:0', grad_fn=<NllLoss2DBackward>)\n",
      "Loss = tensor(1.7949, device='cuda:0', grad_fn=<NllLoss2DBackward>)\n",
      "Loss = tensor(1.7939, device='cuda:0', grad_fn=<NllLoss2DBackward>)\n",
      "Loss = tensor(1.7939, device='cuda:0', grad_fn=<NllLoss2DBackward>)\n",
      "Loss = tensor(1.7941, device='cuda:0', grad_fn=<NllLoss2DBackward>)\n",
      "EPOCH:  1\n"
     ]
    },
    {
     "data": {
      "image/png": "[encoded data removed]",
      "text/plain": [
       "<PIL.Image.Image image mode=RGB size=60x60 at 0x7F1A3C22F250>"
      ]
     },
     "metadata": {},
     "output_type": "display_data"
    },
    {
     "name": "stdout",
     "output_type": "stream",
     "text": [
      "Learning rate:  0.00036\n",
      "Loss = tensor(1.7943, device='cuda:0', grad_fn=<NllLoss2DBackward>)\n",
      "Loss = tensor(1.7921, device='cuda:0', grad_fn=<NllLoss2DBackward>)\n",
      "Loss = tensor(1.7921, device='cuda:0', grad_fn=<NllLoss2DBackward>)\n",
      "Loss = tensor(1.7930, device='cuda:0', grad_fn=<NllLoss2DBackward>)\n",
      "Loss = tensor(1.7907, device='cuda:0', grad_fn=<NllLoss2DBackward>)\n",
      "EPOCH:  1\n"
     ]
    },
    {
     "data": {
      "image/png": "[encoded data removed]",
      "text/plain": [
       "<PIL.Image.Image image mode=RGB size=60x60 at 0x7F1A3C22F550>"
      ]
     },
     "metadata": {},
     "output_type": "display_data"
    },
    {
     "name": "stdout",
     "output_type": "stream",
     "text": [
      "Learning rate:  0.00036\n",
      "Loss = tensor(1.7911, device='cuda:0', grad_fn=<NllLoss2DBackward>)\n",
      "Loss = tensor(1.7910, device='cuda:0', grad_fn=<NllLoss2DBackward>)\n",
      "EPOCH:  2\n"
     ]
    },
    {
     "data": {
      "image/png": "[encoded data removed]",
      "text/plain": [
       "<PIL.Image.Image image mode=RGB size=60x60 at 0x7F1A3C22F250>"
      ]
     },
     "metadata": {},
     "output_type": "display_data"
    },
    {
     "name": "stdout",
     "output_type": "stream",
     "text": [
      "Learning rate:  0.00036\n",
      "Loss = tensor(1.7902, device='cuda:0', grad_fn=<NllLoss2DBackward>)\n",
      "Loss = tensor(1.7896, device='cuda:0', grad_fn=<NllLoss2DBackward>)\n",
      "Loss = tensor(1.7891, device='cuda:0', grad_fn=<NllLoss2DBackward>)\n",
      "Loss = tensor(1.7886, device='cuda:0', grad_fn=<NllLoss2DBackward>)\n",
      "Loss = tensor(1.7891, device='cuda:0', grad_fn=<NllLoss2DBackward>)\n",
      "EPOCH:  2\n"
     ]
    },
    {
     "data": {
      "image/png": "[encoded data removed]",
      "text/plain": [
       "<PIL.Image.Image image mode=RGB size=60x60 at 0x7F1A3C22F400>"
      ]
     },
     "metadata": {},
     "output_type": "display_data"
    },
    {
     "name": "stdout",
     "output_type": "stream",
     "text": [
      "Learning rate:  0.00036\n",
      "Loss = tensor(1.7897, device='cuda:0', grad_fn=<NllLoss2DBackward>)\n",
      "Loss = tensor(1.7891, device='cuda:0', grad_fn=<NllLoss2DBackward>)\n",
      "Loss = tensor(1.7879, device='cuda:0', grad_fn=<NllLoss2DBackward>)\n",
      "Loss = tensor(1.7888, device='cuda:0', grad_fn=<NllLoss2DBackward>)\n",
      "Loss = tensor(1.7871, device='cuda:0', grad_fn=<NllLoss2DBackward>)\n",
      "EPOCH:  2\n"
     ]
    },
    {
     "data": {
      "image/png": "[encoded data removed]",
      "text/plain": [
       "<PIL.Image.Image image mode=RGB size=60x60 at 0x7F1A3C22F250>"
      ]
     },
     "metadata": {},
     "output_type": "display_data"
    },
    {
     "name": "stdout",
     "output_type": "stream",
     "text": [
      "Learning rate:  0.00036\n",
      "Loss = tensor(1.7867, device='cuda:0', grad_fn=<NllLoss2DBackward>)\n",
      "Loss = tensor(1.7862, device='cuda:0', grad_fn=<NllLoss2DBackward>)\n",
      "EPOCH:  3\n"
     ]
    },
    {
     "data": {
      "image/png": "[encoded data removed]",
      "text/plain": [
       "<PIL.Image.Image image mode=RGB size=60x60 at 0x7F1A3C22F250>"
      ]
     },
     "metadata": {},
     "output_type": "display_data"
    },
    {
     "name": "stdout",
     "output_type": "stream",
     "text": [
      "Learning rate:  0.00036\n",
      "Loss = tensor(1.7852, device='cuda:0', grad_fn=<NllLoss2DBackward>)\n",
      "Loss = tensor(1.7840, device='cuda:0', grad_fn=<NllLoss2DBackward>)\n",
      "Loss = tensor(1.7839, device='cuda:0', grad_fn=<NllLoss2DBackward>)\n",
      "Loss = tensor(1.7843, device='cuda:0', grad_fn=<NllLoss2DBackward>)\n",
      "Loss = tensor(1.7813, device='cuda:0', grad_fn=<NllLoss2DBackward>)\n",
      "EPOCH:  3\n"
     ]
    },
    {
     "data": {
      "image/png": "[encoded data removed]",
      "text/plain": [
       "<PIL.Image.Image image mode=RGB size=60x60 at 0x7F1A3C22F550>"
      ]
     },
     "metadata": {},
     "output_type": "display_data"
    },
    {
     "name": "stdout",
     "output_type": "stream",
     "text": [
      "Learning rate:  0.00036\n",
      "Loss = tensor(1.7810, device='cuda:0', grad_fn=<NllLoss2DBackward>)\n",
      "Loss = tensor(1.7815, device='cuda:0', grad_fn=<NllLoss2DBackward>)\n",
      "Loss = tensor(1.7790, device='cuda:0', grad_fn=<NllLoss2DBackward>)\n",
      "Loss = tensor(1.7798, device='cuda:0', grad_fn=<NllLoss2DBackward>)\n",
      "Loss = tensor(1.7795, device='cuda:0', grad_fn=<NllLoss2DBackward>)\n",
      "EPOCH:  3\n"
     ]
    },
    {
     "data": {
      "image/png": "[encoded data removed]",
      "text/plain": [
       "<PIL.Image.Image image mode=RGB size=60x60 at 0x7F1A3C22F400>"
      ]
     },
     "metadata": {},
     "output_type": "display_data"
    },
    {
     "name": "stdout",
     "output_type": "stream",
     "text": [
      "Learning rate:  0.00036\n",
      "Loss = tensor(1.7778, device='cuda:0', grad_fn=<NllLoss2DBackward>)\n",
      "Loss = tensor(1.7788, device='cuda:0', grad_fn=<NllLoss2DBackward>)\n",
      "EPOCH:  4\n"
     ]
    },
    {
     "data": {
      "image/png": "[encoded data removed]",
      "text/plain": [
       "<PIL.Image.Image image mode=RGB size=60x60 at 0x7F1A3C22F400>"
      ]
     },
     "metadata": {},
     "output_type": "display_data"
    },
    {
     "name": "stdout",
     "output_type": "stream",
     "text": [
      "Learning rate:  0.00036\n",
      "Loss = tensor(1.7774, device='cuda:0', grad_fn=<NllLoss2DBackward>)\n",
      "Loss = tensor(1.7735, device='cuda:0', grad_fn=<NllLoss2DBackward>)\n",
      "Loss = tensor(1.7742, device='cuda:0', grad_fn=<NllLoss2DBackward>)\n",
      "Loss = tensor(1.7722, device='cuda:0', grad_fn=<NllLoss2DBackward>)\n",
      "Loss = tensor(1.7703, device='cuda:0', grad_fn=<NllLoss2DBackward>)\n",
      "EPOCH:  4\n"
     ]
    },
    {
     "data": {
      "image/png": "[encoded data removed]",
      "text/plain": [
       "<PIL.Image.Image image mode=RGB size=60x60 at 0x7F1A3C22F250>"
      ]
     },
     "metadata": {},
     "output_type": "display_data"
    },
    {
     "name": "stdout",
     "output_type": "stream",
     "text": [
      "Learning rate:  0.00036\n",
      "Loss = tensor(1.7690, device='cuda:0', grad_fn=<NllLoss2DBackward>)\n",
      "Loss = tensor(1.7680, device='cuda:0', grad_fn=<NllLoss2DBackward>)\n",
      "Loss = tensor(1.7676, device='cuda:0', grad_fn=<NllLoss2DBackward>)\n",
      "Loss = tensor(1.7648, device='cuda:0', grad_fn=<NllLoss2DBackward>)\n",
      "Loss = tensor(1.7611, device='cuda:0', grad_fn=<NllLoss2DBackward>)\n",
      "EPOCH:  4\n"
     ]
    },
    {
     "data": {
      "image/png": "[encoded data removed]",
      "text/plain": [
       "<PIL.Image.Image image mode=RGB size=60x60 at 0x7F1A3C22F550>"
      ]
     },
     "metadata": {},
     "output_type": "display_data"
    },
    {
     "name": "stdout",
     "output_type": "stream",
     "text": [
      "Learning rate:  0.00036\n",
      "Loss = tensor(1.7623, device='cuda:0', grad_fn=<NllLoss2DBackward>)\n",
      "Loss = tensor(1.7611, device='cuda:0', grad_fn=<NllLoss2DBackward>)\n",
      "EPOCH:  5\n"
     ]
    },
    {
     "data": {
      "image/png": "[encoded data removed]",
      "text/plain": [
       "<PIL.Image.Image image mode=RGB size=60x60 at 0x7F1A3C22F550>"
      ]
     },
     "metadata": {},
     "output_type": "display_data"
    },
    {
     "name": "stdout",
     "output_type": "stream",
     "text": [
      "Learning rate:  0.00036\n",
      "Loss = tensor(1.7587, device='cuda:0', grad_fn=<NllLoss2DBackward>)\n",
      "Loss = tensor(1.7559, device='cuda:0', grad_fn=<NllLoss2DBackward>)\n",
      "Loss = tensor(1.7531, device='cuda:0', grad_fn=<NllLoss2DBackward>)\n",
      "Loss = tensor(1.7515, device='cuda:0', grad_fn=<NllLoss2DBackward>)\n",
      "Loss = tensor(1.7506, device='cuda:0', grad_fn=<NllLoss2DBackward>)\n",
      "EPOCH:  5\n"
     ]
    },
    {
     "data": {
      "image/png": "[encoded data removed]",
      "text/plain": [
       "<PIL.Image.Image image mode=RGB size=60x60 at 0x7F1A3C22F400>"
      ]
     },
     "metadata": {},
     "output_type": "display_data"
    },
    {
     "name": "stdout",
     "output_type": "stream",
     "text": [
      "Learning rate:  0.00036\n",
      "Loss = tensor(1.7483, device='cuda:0', grad_fn=<NllLoss2DBackward>)\n",
      "Loss = tensor(1.7451, device='cuda:0', grad_fn=<NllLoss2DBackward>)\n",
      "Loss = tensor(1.7367, device='cuda:0', grad_fn=<NllLoss2DBackward>)\n",
      "Loss = tensor(1.7380, device='cuda:0', grad_fn=<NllLoss2DBackward>)\n",
      "Loss = tensor(1.7301, device='cuda:0', grad_fn=<NllLoss2DBackward>)\n",
      "EPOCH:  5\n"
     ]
    },
    {
     "data": {
      "image/png": "[encoded data removed]",
      "text/plain": [
       "<PIL.Image.Image image mode=RGB size=60x60 at 0x7F1A3C22F550>"
      ]
     },
     "metadata": {},
     "output_type": "display_data"
    },
    {
     "name": "stdout",
     "output_type": "stream",
     "text": [
      "Learning rate:  0.00036\n",
      "Loss = tensor(1.7302, device='cuda:0', grad_fn=<NllLoss2DBackward>)\n",
      "Loss = tensor(1.7240, device='cuda:0', grad_fn=<NllLoss2DBackward>)\n",
      "EPOCH:  6\n"
     ]
    },
    {
     "data": {
      "image/png": "[encoded data removed]",
      "text/plain": [
       "<PIL.Image.Image image mode=RGB size=60x60 at 0x7F1A3C22F550>"
      ]
     },
     "metadata": {},
     "output_type": "display_data"
    },
    {
     "name": "stdout",
     "output_type": "stream",
     "text": [
      "Learning rate:  0.00036\n",
      "Loss = tensor(1.7183, device='cuda:0', grad_fn=<NllLoss2DBackward>)\n",
      "Loss = tensor(1.7307, device='cuda:0', grad_fn=<NllLoss2DBackward>)\n",
      "Loss = tensor(1.7285, device='cuda:0', grad_fn=<NllLoss2DBackward>)\n",
      "Loss = tensor(1.7109, device='cuda:0', grad_fn=<NllLoss2DBackward>)\n",
      "Loss = tensor(1.7154, device='cuda:0', grad_fn=<NllLoss2DBackward>)\n",
      "EPOCH:  6\n"
     ]
    },
    {
     "data": {
      "image/png": "[encoded data removed]",
      "text/plain": [
       "<PIL.Image.Image image mode=RGB size=60x60 at 0x7F1A3C22F400>"
      ]
     },
     "metadata": {},
     "output_type": "display_data"
    },
    {
     "name": "stdout",
     "output_type": "stream",
     "text": [
      "Learning rate:  0.00036\n",
      "Loss = tensor(1.7129, device='cuda:0', grad_fn=<NllLoss2DBackward>)\n",
      "Loss = tensor(1.6894, device='cuda:0', grad_fn=<NllLoss2DBackward>)\n",
      "Loss = tensor(1.6981, device='cuda:0', grad_fn=<NllLoss2DBackward>)\n",
      "Loss = tensor(1.6832, device='cuda:0', grad_fn=<NllLoss2DBackward>)\n",
      "Loss = tensor(1.6825, device='cuda:0', grad_fn=<NllLoss2DBackward>)\n",
      "EPOCH:  6\n"
     ]
    },
    {
     "data": {
      "image/png": "[encoded data removed]",
      "text/plain": [
       "<PIL.Image.Image image mode=RGB size=60x60 at 0x7F1A3C22F250>"
      ]
     },
     "metadata": {},
     "output_type": "display_data"
    },
    {
     "name": "stdout",
     "output_type": "stream",
     "text": [
      "Learning rate:  0.00036\n",
      "Loss = tensor(1.6744, device='cuda:0', grad_fn=<NllLoss2DBackward>)\n",
      "Loss = tensor(1.6824, device='cuda:0', grad_fn=<NllLoss2DBackward>)\n",
      "EPOCH:  7\n"
     ]
    },
    {
     "data": {
      "image/png": "[encoded data removed]",
      "text/plain": [
       "<PIL.Image.Image image mode=RGB size=60x60 at 0x7F1A3C22F550>"
      ]
     },
     "metadata": {},
     "output_type": "display_data"
    },
    {
     "name": "stdout",
     "output_type": "stream",
     "text": [
      "Learning rate:  0.00036\n",
      "Loss = tensor(1.6912, device='cuda:0', grad_fn=<NllLoss2DBackward>)\n",
      "Loss = tensor(1.6633, device='cuda:0', grad_fn=<NllLoss2DBackward>)\n",
      "Loss = tensor(1.6727, device='cuda:0', grad_fn=<NllLoss2DBackward>)\n",
      "Loss = tensor(1.6666, device='cuda:0', grad_fn=<NllLoss2DBackward>)\n",
      "Loss = tensor(1.6654, device='cuda:0', grad_fn=<NllLoss2DBackward>)\n",
      "EPOCH:  7\n"
     ]
    },
    {
     "data": {
      "image/png": "[encoded data removed]",
      "text/plain": [
       "<PIL.Image.Image image mode=RGB size=60x60 at 0x7F1A3C22F250>"
      ]
     },
     "metadata": {},
     "output_type": "display_data"
    },
    {
     "name": "stdout",
     "output_type": "stream",
     "text": [
      "Learning rate:  0.00036\n",
      "Loss = tensor(1.6617, device='cuda:0', grad_fn=<NllLoss2DBackward>)\n",
      "Loss = tensor(1.6654, device='cuda:0', grad_fn=<NllLoss2DBackward>)\n",
      "Loss = tensor(1.6526, device='cuda:0', grad_fn=<NllLoss2DBackward>)\n",
      "Loss = tensor(1.6553, device='cuda:0', grad_fn=<NllLoss2DBackward>)\n",
      "Loss = tensor(1.6867, device='cuda:0', grad_fn=<NllLoss2DBackward>)\n",
      "EPOCH:  7\n"
     ]
    },
    {
     "data": {
      "image/png": "[encoded data removed]",
      "text/plain": [
       "<PIL.Image.Image image mode=RGB size=60x60 at 0x7F1A3C22F400>"
      ]
     },
     "metadata": {},
     "output_type": "display_data"
    },
    {
     "name": "stdout",
     "output_type": "stream",
     "text": [
      "Learning rate:  0.00036\n",
      "Loss = tensor(1.6629, device='cuda:0', grad_fn=<NllLoss2DBackward>)\n",
      "Loss = tensor(1.6376, device='cuda:0', grad_fn=<NllLoss2DBackward>)\n",
      "EPOCH:  8\n"
     ]
    },
    {
     "data": {
      "image/png": "[encoded data removed]",
      "text/plain": [
       "<PIL.Image.Image image mode=RGB size=60x60 at 0x7F1A3C22F400>"
      ]
     },
     "metadata": {},
     "output_type": "display_data"
    },
    {
     "name": "stdout",
     "output_type": "stream",
     "text": [
      "Learning rate:  0.00036\n",
      "Loss = tensor(1.6538, device='cuda:0', grad_fn=<NllLoss2DBackward>)\n",
      "Loss = tensor(1.6397, device='cuda:0', grad_fn=<NllLoss2DBackward>)\n",
      "Loss = tensor(1.6469, device='cuda:0', grad_fn=<NllLoss2DBackward>)\n",
      "Loss = tensor(1.6383, device='cuda:0', grad_fn=<NllLoss2DBackward>)\n",
      "Loss = tensor(1.6365, device='cuda:0', grad_fn=<NllLoss2DBackward>)\n",
      "EPOCH:  8\n"
     ]
    },
    {
     "data": {
      "image/png": "[encoded data removed]",
      "text/plain": [
       "<PIL.Image.Image image mode=RGB size=60x60 at 0x7F1A3C22F400>"
      ]
     },
     "metadata": {},
     "output_type": "display_data"
    },
    {
     "name": "stdout",
     "output_type": "stream",
     "text": [
      "Learning rate:  0.00036\n",
      "Loss = tensor(1.6303, device='cuda:0', grad_fn=<NllLoss2DBackward>)\n",
      "Loss = tensor(1.6530, device='cuda:0', grad_fn=<NllLoss2DBackward>)\n",
      "Loss = tensor(1.6544, device='cuda:0', grad_fn=<NllLoss2DBackward>)\n",
      "Loss = tensor(1.6266, device='cuda:0', grad_fn=<NllLoss2DBackward>)\n",
      "Loss = tensor(1.6160, device='cuda:0', grad_fn=<NllLoss2DBackward>)\n",
      "EPOCH:  8\n"
     ]
    },
    {
     "data": {
      "image/png": "[encoded data removed]",
      "text/plain": [
       "<PIL.Image.Image image mode=RGB size=60x60 at 0x7F1A3C22F250>"
      ]
     },
     "metadata": {},
     "output_type": "display_data"
    },
    {
     "name": "stdout",
     "output_type": "stream",
     "text": [
      "Learning rate:  0.00036\n",
      "Loss = tensor(1.6488, device='cuda:0', grad_fn=<NllLoss2DBackward>)\n",
      "Loss = tensor(1.6126, device='cuda:0', grad_fn=<NllLoss2DBackward>)\n",
      "EPOCH:  9\n"
     ]
    },
    {
     "data": {
      "image/png": "[encoded data removed]",
      "text/plain": [
       "<PIL.Image.Image image mode=RGB size=60x60 at 0x7F1A3C22F400>"
      ]
     },
     "metadata": {},
     "output_type": "display_data"
    },
    {
     "name": "stdout",
     "output_type": "stream",
     "text": [
      "Learning rate:  0.00036\n",
      "Loss = tensor(1.6212, device='cuda:0', grad_fn=<NllLoss2DBackward>)\n",
      "Loss = tensor(1.6393, device='cuda:0', grad_fn=<NllLoss2DBackward>)\n",
      "Loss = tensor(1.6561, device='cuda:0', grad_fn=<NllLoss2DBackward>)\n",
      "Loss = tensor(1.6026, device='cuda:0', grad_fn=<NllLoss2DBackward>)\n",
      "Loss = tensor(1.6066, device='cuda:0', grad_fn=<NllLoss2DBackward>)\n",
      "EPOCH:  9\n"
     ]
    },
    {
     "data": {
      "image/png": "[encoded data removed]",
      "text/plain": [
       "<PIL.Image.Image image mode=RGB size=60x60 at 0x7F1A3C22F250>"
      ]
     },
     "metadata": {},
     "output_type": "display_data"
    },
    {
     "name": "stdout",
     "output_type": "stream",
     "text": [
      "Learning rate:  0.00036\n",
      "Loss = tensor(1.5592, device='cuda:0', grad_fn=<NllLoss2DBackward>)\n",
      "Loss = tensor(1.6176, device='cuda:0', grad_fn=<NllLoss2DBackward>)\n",
      "Loss = tensor(1.5704, device='cuda:0', grad_fn=<NllLoss2DBackward>)\n",
      "Loss = tensor(1.5642, device='cuda:0', grad_fn=<NllLoss2DBackward>)\n",
      "Loss = tensor(1.5735, device='cuda:0', grad_fn=<NllLoss2DBackward>)\n",
      "EPOCH:  9\n"
     ]
    },
    {
     "data": {
      "image/png": "[encoded data removed]",
      "text/plain": [
       "<PIL.Image.Image image mode=RGB size=60x60 at 0x7F1A3C22F550>"
      ]
     },
     "metadata": {},
     "output_type": "display_data"
    },
    {
     "name": "stdout",
     "output_type": "stream",
     "text": [
      "Learning rate:  0.00036\n",
      "Loss = tensor(1.5694, device='cuda:0', grad_fn=<NllLoss2DBackward>)\n",
      "Loss = tensor(1.5687, device='cuda:0', grad_fn=<NllLoss2DBackward>)\n",
      "EPOCH:  10\n"
     ]
    },
    {
     "data": {
      "image/png": "[encoded data removed]",
      "text/plain": [
       "<PIL.Image.Image image mode=RGB size=60x60 at 0x7F1A3C22F550>"
      ]
     },
     "metadata": {},
     "output_type": "display_data"
    },
    {
     "name": "stdout",
     "output_type": "stream",
     "text": [
      "Learning rate:  0.00036\n",
      "Loss = tensor(1.5905, device='cuda:0', grad_fn=<NllLoss2DBackward>)\n",
      "Loss = tensor(1.6010, device='cuda:0', grad_fn=<NllLoss2DBackward>)\n",
      "Loss = tensor(1.5885, device='cuda:0', grad_fn=<NllLoss2DBackward>)\n",
      "Loss = tensor(1.5350, device='cuda:0', grad_fn=<NllLoss2DBackward>)\n",
      "Loss = tensor(1.5650, device='cuda:0', grad_fn=<NllLoss2DBackward>)\n",
      "EPOCH:  10\n"
     ]
    },
    {
     "data": {
      "image/png": "[encoded data removed]",
      "text/plain": [
       "<PIL.Image.Image image mode=RGB size=60x60 at 0x7F1A3C22F400>"
      ]
     },
     "metadata": {},
     "output_type": "display_data"
    },
    {
     "name": "stdout",
     "output_type": "stream",
     "text": [
      "Learning rate:  0.00036\n",
      "Loss = tensor(1.5522, device='cuda:0', grad_fn=<NllLoss2DBackward>)\n",
      "Loss = tensor(1.5749, device='cuda:0', grad_fn=<NllLoss2DBackward>)\n",
      "Loss = tensor(1.5560, device='cuda:0', grad_fn=<NllLoss2DBackward>)\n",
      "Loss = tensor(1.5868, device='cuda:0', grad_fn=<NllLoss2DBackward>)\n",
      "Loss = tensor(1.5388, device='cuda:0', grad_fn=<NllLoss2DBackward>)\n",
      "EPOCH:  10\n"
     ]
    },
    {
     "data": {
      "image/png": "[encoded data removed]",
      "text/plain": [
       "<PIL.Image.Image image mode=RGB size=60x60 at 0x7F1A3C22F550>"
      ]
     },
     "metadata": {},
     "output_type": "display_data"
    },
    {
     "name": "stdout",
     "output_type": "stream",
     "text": [
      "Learning rate:  0.00036\n",
      "Loss = tensor(1.5425, device='cuda:0', grad_fn=<NllLoss2DBackward>)\n",
      "Loss = tensor(1.5674, device='cuda:0', grad_fn=<NllLoss2DBackward>)\n",
      "EPOCH:  11\n"
     ]
    },
    {
     "data": {
      "image/png": "[encoded data removed]",
      "text/plain": [
       "<PIL.Image.Image image mode=RGB size=60x60 at 0x7F1A3C22F550>"
      ]
     },
     "metadata": {},
     "output_type": "display_data"
    },
    {
     "name": "stdout",
     "output_type": "stream",
     "text": [
      "Learning rate:  0.00036\n",
      "Loss = tensor(1.5661, device='cuda:0', grad_fn=<NllLoss2DBackward>)\n",
      "Loss = tensor(1.6166, device='cuda:0', grad_fn=<NllLoss2DBackward>)\n",
      "Loss = tensor(1.5510, device='cuda:0', grad_fn=<NllLoss2DBackward>)\n",
      "Loss = tensor(1.5457, device='cuda:0', grad_fn=<NllLoss2DBackward>)\n",
      "Loss = tensor(1.5237, device='cuda:0', grad_fn=<NllLoss2DBackward>)\n",
      "EPOCH:  11\n"
     ]
    },
    {
     "data": {
      "image/png": "[encoded data removed]",
      "text/plain": [
       "<PIL.Image.Image image mode=RGB size=60x60 at 0x7F1A3C22F550>"
      ]
     },
     "metadata": {},
     "output_type": "display_data"
    },
    {
     "name": "stdout",
     "output_type": "stream",
     "text": [
      "Learning rate:  0.00036\n",
      "Loss = tensor(1.5236, device='cuda:0', grad_fn=<NllLoss2DBackward>)\n",
      "Loss = tensor(1.5395, device='cuda:0', grad_fn=<NllLoss2DBackward>)\n",
      "Loss = tensor(1.5543, device='cuda:0', grad_fn=<NllLoss2DBackward>)\n",
      "Loss = tensor(1.5668, device='cuda:0', grad_fn=<NllLoss2DBackward>)\n",
      "Loss = tensor(1.5433, device='cuda:0', grad_fn=<NllLoss2DBackward>)\n",
      "EPOCH:  11\n"
     ]
    },
    {
     "data": {
      "image/png": "[encoded data removed]",
      "text/plain": [
       "<PIL.Image.Image image mode=RGB size=60x60 at 0x7F1A3C22F400>"
      ]
     },
     "metadata": {},
     "output_type": "display_data"
    },
    {
     "name": "stdout",
     "output_type": "stream",
     "text": [
      "Learning rate:  0.00036\n",
      "Loss = tensor(1.4987, device='cuda:0', grad_fn=<NllLoss2DBackward>)\n",
      "Loss = tensor(1.5980, device='cuda:0', grad_fn=<NllLoss2DBackward>)\n",
      "EPOCH:  12\n"
     ]
    },
    {
     "data": {
      "image/png": "[encoded data removed]",
      "text/plain": [
       "<PIL.Image.Image image mode=RGB size=60x60 at 0x7F1A3C22F550>"
      ]
     },
     "metadata": {},
     "output_type": "display_data"
    },
    {
     "name": "stdout",
     "output_type": "stream",
     "text": [
      "Learning rate:  0.00036\n",
      "Loss = tensor(1.5337, device='cuda:0', grad_fn=<NllLoss2DBackward>)\n",
      "Loss = tensor(1.5392, device='cuda:0', grad_fn=<NllLoss2DBackward>)\n",
      "Loss = tensor(1.5400, device='cuda:0', grad_fn=<NllLoss2DBackward>)\n",
      "Loss = tensor(1.5393, device='cuda:0', grad_fn=<NllLoss2DBackward>)\n",
      "Loss = tensor(1.5361, device='cuda:0', grad_fn=<NllLoss2DBackward>)\n",
      "EPOCH:  12\n"
     ]
    },
    {
     "data": {
      "image/png": "[encoded data removed]",
      "text/plain": [
       "<PIL.Image.Image image mode=RGB size=60x60 at 0x7F1A3C22F250>"
      ]
     },
     "metadata": {},
     "output_type": "display_data"
    },
    {
     "name": "stdout",
     "output_type": "stream",
     "text": [
      "Learning rate:  0.00036\n",
      "Loss = tensor(1.4995, device='cuda:0', grad_fn=<NllLoss2DBackward>)\n",
      "Loss = tensor(1.5313, device='cuda:0', grad_fn=<NllLoss2DBackward>)\n",
      "Loss = tensor(1.5007, device='cuda:0', grad_fn=<NllLoss2DBackward>)\n",
      "Loss = tensor(1.5933, device='cuda:0', grad_fn=<NllLoss2DBackward>)\n",
      "Loss = tensor(1.5279, device='cuda:0', grad_fn=<NllLoss2DBackward>)\n",
      "EPOCH:  12\n"
     ]
    },
    {
     "data": {
      "image/png": "[encoded data removed]",
      "text/plain": [
       "<PIL.Image.Image image mode=RGB size=60x60 at 0x7F1A3C22F250>"
      ]
     },
     "metadata": {},
     "output_type": "display_data"
    },
    {
     "name": "stdout",
     "output_type": "stream",
     "text": [
      "Learning rate:  0.00036\n",
      "Loss = tensor(1.5362, device='cuda:0', grad_fn=<NllLoss2DBackward>)\n",
      "Loss = tensor(1.5567, device='cuda:0', grad_fn=<NllLoss2DBackward>)\n",
      "EPOCH:  13\n"
     ]
    },
    {
     "data": {
      "image/png": "[encoded data removed]",
      "text/plain": [
       "<PIL.Image.Image image mode=RGB size=60x60 at 0x7F1A3C22F250>"
      ]
     },
     "metadata": {},
     "output_type": "display_data"
    },
    {
     "name": "stdout",
     "output_type": "stream",
     "text": [
      "Learning rate:  0.00036\n",
      "Loss = tensor(1.5383, device='cuda:0', grad_fn=<NllLoss2DBackward>)\n",
      "Loss = tensor(1.5101, device='cuda:0', grad_fn=<NllLoss2DBackward>)\n",
      "Loss = tensor(1.5355, device='cuda:0', grad_fn=<NllLoss2DBackward>)\n",
      "Loss = tensor(1.5148, device='cuda:0', grad_fn=<NllLoss2DBackward>)\n",
      "Loss = tensor(1.5381, device='cuda:0', grad_fn=<NllLoss2DBackward>)\n",
      "EPOCH:  13\n"
     ]
    },
    {
     "data": {
      "image/png": "[encoded data removed]",
      "text/plain": [
       "<PIL.Image.Image image mode=RGB size=60x60 at 0x7F1A3C22F250>"
      ]
     },
     "metadata": {},
     "output_type": "display_data"
    },
    {
     "name": "stdout",
     "output_type": "stream",
     "text": [
      "Learning rate:  0.00036\n",
      "Loss = tensor(1.5099, device='cuda:0', grad_fn=<NllLoss2DBackward>)\n",
      "Loss = tensor(1.5162, device='cuda:0', grad_fn=<NllLoss2DBackward>)\n",
      "Loss = tensor(1.5451, device='cuda:0', grad_fn=<NllLoss2DBackward>)\n",
      "Loss = tensor(1.5309, device='cuda:0', grad_fn=<NllLoss2DBackward>)\n",
      "Loss = tensor(1.5321, device='cuda:0', grad_fn=<NllLoss2DBackward>)\n",
      "EPOCH:  13\n"
     ]
    },
    {
     "data": {
      "image/png": "[encoded data removed]",
      "text/plain": [
       "<PIL.Image.Image image mode=RGB size=60x60 at 0x7F1A3C22F250>"
      ]
     },
     "metadata": {},
     "output_type": "display_data"
    },
    {
     "name": "stdout",
     "output_type": "stream",
     "text": [
      "Learning rate:  0.00036\n",
      "Loss = tensor(1.5020, device='cuda:0', grad_fn=<NllLoss2DBackward>)\n",
      "Loss = tensor(1.5250, device='cuda:0', grad_fn=<NllLoss2DBackward>)\n",
      "EPOCH:  14\n"
     ]
    },
    {
     "data": {
      "image/png": "[encoded data removed]",
      "text/plain": [
       "<PIL.Image.Image image mode=RGB size=60x60 at 0x7F1A3C22F250>"
      ]
     },
     "metadata": {},
     "output_type": "display_data"
    },
    {
     "name": "stdout",
     "output_type": "stream",
     "text": [
      "Learning rate:  0.00036\n",
      "Loss = tensor(1.5037, device='cuda:0', grad_fn=<NllLoss2DBackward>)\n",
      "Loss = tensor(1.5550, device='cuda:0', grad_fn=<NllLoss2DBackward>)\n",
      "Loss = tensor(1.5567, device='cuda:0', grad_fn=<NllLoss2DBackward>)\n",
      "Loss = tensor(1.5360, device='cuda:0', grad_fn=<NllLoss2DBackward>)\n",
      "Loss = tensor(1.4893, device='cuda:0', grad_fn=<NllLoss2DBackward>)\n",
      "EPOCH:  14\n"
     ]
    },
    {
     "data": {
      "image/png": "[encoded data removed]",
      "text/plain": [
       "<PIL.Image.Image image mode=RGB size=60x60 at 0x7F1A3C22F250>"
      ]
     },
     "metadata": {},
     "output_type": "display_data"
    },
    {
     "name": "stdout",
     "output_type": "stream",
     "text": [
      "Learning rate:  0.00036\n",
      "Loss = tensor(1.4845, device='cuda:0', grad_fn=<NllLoss2DBackward>)\n",
      "Loss = tensor(1.5057, device='cuda:0', grad_fn=<NllLoss2DBackward>)\n",
      "Loss = tensor(1.4811, device='cuda:0', grad_fn=<NllLoss2DBackward>)\n",
      "Loss = tensor(1.4900, device='cuda:0', grad_fn=<NllLoss2DBackward>)\n",
      "Loss = tensor(1.5108, device='cuda:0', grad_fn=<NllLoss2DBackward>)\n",
      "EPOCH:  14\n"
     ]
    },
    {
     "data": {
      "image/png": "[encoded data removed]",
      "text/plain": [
       "<PIL.Image.Image image mode=RGB size=60x60 at 0x7F1A3C22F400>"
      ]
     },
     "metadata": {},
     "output_type": "display_data"
    },
    {
     "name": "stdout",
     "output_type": "stream",
     "text": [
      "Learning rate:  0.00036\n",
      "Loss = tensor(1.4833, device='cuda:0', grad_fn=<NllLoss2DBackward>)\n",
      "Loss = tensor(1.4862, device='cuda:0', grad_fn=<NllLoss2DBackward>)\n",
      "EPOCH:  15\n"
     ]
    },
    {
     "data": {
      "image/png": "[encoded data removed]",
      "text/plain": [
       "<PIL.Image.Image image mode=RGB size=60x60 at 0x7F1A3C22F250>"
      ]
     },
     "metadata": {},
     "output_type": "display_data"
    },
    {
     "name": "stdout",
     "output_type": "stream",
     "text": [
      "Learning rate:  0.00036\n",
      "Loss = tensor(1.5272, device='cuda:0', grad_fn=<NllLoss2DBackward>)\n",
      "Loss = tensor(1.4955, device='cuda:0', grad_fn=<NllLoss2DBackward>)\n",
      "Loss = tensor(1.4614, device='cuda:0', grad_fn=<NllLoss2DBackward>)\n",
      "Loss = tensor(1.4938, device='cuda:0', grad_fn=<NllLoss2DBackward>)\n",
      "Loss = tensor(1.4756, device='cuda:0', grad_fn=<NllLoss2DBackward>)\n",
      "EPOCH:  15\n"
     ]
    },
    {
     "data": {
      "image/png": "[encoded data removed]",
      "text/plain": [
       "<PIL.Image.Image image mode=RGB size=60x60 at 0x7F1A3C22F550>"
      ]
     },
     "metadata": {},
     "output_type": "display_data"
    },
    {
     "name": "stdout",
     "output_type": "stream",
     "text": [
      "Learning rate:  0.00036\n",
      "Loss = tensor(1.4980, device='cuda:0', grad_fn=<NllLoss2DBackward>)\n",
      "Loss = tensor(1.4839, device='cuda:0', grad_fn=<NllLoss2DBackward>)\n",
      "Loss = tensor(1.4683, device='cuda:0', grad_fn=<NllLoss2DBackward>)\n",
      "Loss = tensor(1.4823, device='cuda:0', grad_fn=<NllLoss2DBackward>)\n",
      "Loss = tensor(1.4665, device='cuda:0', grad_fn=<NllLoss2DBackward>)\n",
      "EPOCH:  15\n"
     ]
    },
    {
     "data": {
      "image/png": "[encoded data removed]",
      "text/plain": [
       "<PIL.Image.Image image mode=RGB size=60x60 at 0x7F1A3C22F250>"
      ]
     },
     "metadata": {},
     "output_type": "display_data"
    },
    {
     "name": "stdout",
     "output_type": "stream",
     "text": [
      "Learning rate:  0.00036\n",
      "Loss = tensor(1.4798, device='cuda:0', grad_fn=<NllLoss2DBackward>)\n",
      "Loss = tensor(1.4559, device='cuda:0', grad_fn=<NllLoss2DBackward>)\n",
      "EPOCH:  16\n"
     ]
    },
    {
     "data": {
      "image/png": "[encoded data removed]",
      "text/plain": [
       "<PIL.Image.Image image mode=RGB size=60x60 at 0x7F1A3C22F250>"
      ]
     },
     "metadata": {},
     "output_type": "display_data"
    },
    {
     "name": "stdout",
     "output_type": "stream",
     "text": [
      "Learning rate:  0.00036\n",
      "Loss = tensor(1.4461, device='cuda:0', grad_fn=<NllLoss2DBackward>)\n",
      "Loss = tensor(1.4653, device='cuda:0', grad_fn=<NllLoss2DBackward>)\n",
      "Loss = tensor(1.4693, device='cuda:0', grad_fn=<NllLoss2DBackward>)\n",
      "Loss = tensor(1.4707, device='cuda:0', grad_fn=<NllLoss2DBackward>)\n",
      "Loss = tensor(1.4529, device='cuda:0', grad_fn=<NllLoss2DBackward>)\n",
      "EPOCH:  16\n"
     ]
    },
    {
     "data": {
      "image/png": "[encoded data removed]",
      "text/plain": [
       "<PIL.Image.Image image mode=RGB size=60x60 at 0x7F1A3C22F550>"
      ]
     },
     "metadata": {},
     "output_type": "display_data"
    },
    {
     "name": "stdout",
     "output_type": "stream",
     "text": [
      "Learning rate:  0.00036\n",
      "Loss = tensor(1.4664, device='cuda:0', grad_fn=<NllLoss2DBackward>)\n",
      "Loss = tensor(1.4414, device='cuda:0', grad_fn=<NllLoss2DBackward>)\n",
      "Loss = tensor(1.4564, device='cuda:0', grad_fn=<NllLoss2DBackward>)\n",
      "Loss = tensor(1.4510, device='cuda:0', grad_fn=<NllLoss2DBackward>)\n",
      "Loss = tensor(1.4370, device='cuda:0', grad_fn=<NllLoss2DBackward>)\n",
      "EPOCH:  16\n"
     ]
    },
    {
     "data": {
      "image/png": "[encoded data removed]",
      "text/plain": [
       "<PIL.Image.Image image mode=RGB size=60x60 at 0x7F1A3C22F250>"
      ]
     },
     "metadata": {},
     "output_type": "display_data"
    },
    {
     "name": "stdout",
     "output_type": "stream",
     "text": [
      "Learning rate:  0.00036\n",
      "Loss = tensor(1.4645, device='cuda:0', grad_fn=<NllLoss2DBackward>)\n",
      "Loss = tensor(1.4389, device='cuda:0', grad_fn=<NllLoss2DBackward>)\n",
      "EPOCH:  17\n"
     ]
    },
    {
     "data": {
      "image/png": "[encoded data removed]",
      "text/plain": [
       "<PIL.Image.Image image mode=RGB size=60x60 at 0x7F1A3C22F250>"
      ]
     },
     "metadata": {},
     "output_type": "display_data"
    },
    {
     "name": "stdout",
     "output_type": "stream",
     "text": [
      "Learning rate:  0.00036\n",
      "Loss = tensor(1.4250, device='cuda:0', grad_fn=<NllLoss2DBackward>)\n",
      "Loss = tensor(1.4499, device='cuda:0', grad_fn=<NllLoss2DBackward>)\n",
      "Loss = tensor(1.4330, device='cuda:0', grad_fn=<NllLoss2DBackward>)\n",
      "Loss = tensor(1.4099, device='cuda:0', grad_fn=<NllLoss2DBackward>)\n",
      "Loss = tensor(1.4224, device='cuda:0', grad_fn=<NllLoss2DBackward>)\n",
      "EPOCH:  17\n"
     ]
    },
    {
     "data": {
      "image/png": "[encoded data removed]",
      "text/plain": [
       "<PIL.Image.Image image mode=RGB size=60x60 at 0x7F1A3C22F550>"
      ]
     },
     "metadata": {},
     "output_type": "display_data"
    },
    {
     "name": "stdout",
     "output_type": "stream",
     "text": [
      "Learning rate:  0.00036\n",
      "Loss = tensor(1.4054, device='cuda:0', grad_fn=<NllLoss2DBackward>)\n",
      "Loss = tensor(1.4460, device='cuda:0', grad_fn=<NllLoss2DBackward>)\n",
      "Loss = tensor(1.4214, device='cuda:0', grad_fn=<NllLoss2DBackward>)\n",
      "Loss = tensor(1.4163, device='cuda:0', grad_fn=<NllLoss2DBackward>)\n",
      "Loss = tensor(1.4199, device='cuda:0', grad_fn=<NllLoss2DBackward>)\n",
      "EPOCH:  17\n"
     ]
    },
    {
     "data": {
      "image/png": "[encoded data removed]",
      "text/plain": [
       "<PIL.Image.Image image mode=RGB size=60x60 at 0x7F1A3C22F550>"
      ]
     },
     "metadata": {},
     "output_type": "display_data"
    },
    {
     "name": "stdout",
     "output_type": "stream",
     "text": [
      "Learning rate:  0.00036\n",
      "Loss = tensor(1.4237, device='cuda:0', grad_fn=<NllLoss2DBackward>)\n",
      "Loss = tensor(1.4034, device='cuda:0', grad_fn=<NllLoss2DBackward>)\n",
      "EPOCH:  18\n"
     ]
    },
    {
     "data": {
      "image/png": "[encoded data removed]",
      "text/plain": [
       "<PIL.Image.Image image mode=RGB size=60x60 at 0x7F1A3C22F550>"
      ]
     },
     "metadata": {},
     "output_type": "display_data"
    },
    {
     "name": "stdout",
     "output_type": "stream",
     "text": [
      "Learning rate:  0.00036\n",
      "Loss = tensor(1.3965, device='cuda:0', grad_fn=<NllLoss2DBackward>)\n",
      "Loss = tensor(1.3918, device='cuda:0', grad_fn=<NllLoss2DBackward>)\n",
      "Loss = tensor(1.4335, device='cuda:0', grad_fn=<NllLoss2DBackward>)\n",
      "Loss = tensor(1.3782, device='cuda:0', grad_fn=<NllLoss2DBackward>)\n",
      "Loss = tensor(1.4105, device='cuda:0', grad_fn=<NllLoss2DBackward>)\n",
      "EPOCH:  18\n"
     ]
    },
    {
     "data": {
      "image/png": "[encoded data removed]",
      "text/plain": [
       "<PIL.Image.Image image mode=RGB size=60x60 at 0x7F1A3C22F250>"
      ]
     },
     "metadata": {},
     "output_type": "display_data"
    },
    {
     "name": "stdout",
     "output_type": "stream",
     "text": [
      "Learning rate:  0.00036\n",
      "Loss = tensor(1.3706, device='cuda:0', grad_fn=<NllLoss2DBackward>)\n",
      "Loss = tensor(1.4325, device='cuda:0', grad_fn=<NllLoss2DBackward>)\n",
      "Loss = tensor(1.4166, device='cuda:0', grad_fn=<NllLoss2DBackward>)\n",
      "Loss = tensor(1.3989, device='cuda:0', grad_fn=<NllLoss2DBackward>)\n",
      "Loss = tensor(1.4290, device='cuda:0', grad_fn=<NllLoss2DBackward>)\n",
      "EPOCH:  18\n"
     ]
    },
    {
     "data": {
      "image/png": "[encoded data removed]",
      "text/plain": [
       "<PIL.Image.Image image mode=RGB size=60x60 at 0x7F1A3C22F550>"
      ]
     },
     "metadata": {},
     "output_type": "display_data"
    },
    {
     "name": "stdout",
     "output_type": "stream",
     "text": [
      "Learning rate:  0.00036\n",
      "Loss = tensor(1.3625, device='cuda:0', grad_fn=<NllLoss2DBackward>)\n",
      "Loss = tensor(1.4030, device='cuda:0', grad_fn=<NllLoss2DBackward>)\n",
      "EPOCH:  19\n"
     ]
    },
    {
     "data": {
      "image/png": "[encoded data removed]",
      "text/plain": [
       "<PIL.Image.Image image mode=RGB size=60x60 at 0x7F1A3C22F550>"
      ]
     },
     "metadata": {},
     "output_type": "display_data"
    },
    {
     "name": "stdout",
     "output_type": "stream",
     "text": [
      "Learning rate:  0.00036\n",
      "Loss = tensor(1.4258, device='cuda:0', grad_fn=<NllLoss2DBackward>)\n",
      "Loss = tensor(1.3711, device='cuda:0', grad_fn=<NllLoss2DBackward>)\n",
      "Loss = tensor(1.4068, device='cuda:0', grad_fn=<NllLoss2DBackward>)\n",
      "Loss = tensor(1.3811, device='cuda:0', grad_fn=<NllLoss2DBackward>)\n",
      "Loss = tensor(1.3815, device='cuda:0', grad_fn=<NllLoss2DBackward>)\n",
      "EPOCH:  19\n"
     ]
    },
    {
     "data": {
      "image/png": "[encoded data removed]",
      "text/plain": [
       "<PIL.Image.Image image mode=RGB size=60x60 at 0x7F1A3C22F550>"
      ]
     },
     "metadata": {},
     "output_type": "display_data"
    },
    {
     "name": "stdout",
     "output_type": "stream",
     "text": [
      "Learning rate:  0.00036\n",
      "Loss = tensor(1.3505, device='cuda:0', grad_fn=<NllLoss2DBackward>)\n",
      "Loss = tensor(1.3918, device='cuda:0', grad_fn=<NllLoss2DBackward>)\n",
      "Loss = tensor(1.3545, device='cuda:0', grad_fn=<NllLoss2DBackward>)\n",
      "Loss = tensor(1.3892, device='cuda:0', grad_fn=<NllLoss2DBackward>)\n",
      "Loss = tensor(1.3919, device='cuda:0', grad_fn=<NllLoss2DBackward>)\n",
      "EPOCH:  19\n"
     ]
    },
    {
     "data": {
      "image/png": "[encoded data removed]",
      "text/plain": [
       "<PIL.Image.Image image mode=RGB size=60x60 at 0x7F1A3C22F250>"
      ]
     },
     "metadata": {},
     "output_type": "display_data"
    },
    {
     "name": "stdout",
     "output_type": "stream",
     "text": [
      "Learning rate:  0.00036\n",
      "Loss = tensor(1.3928, device='cuda:0', grad_fn=<NllLoss2DBackward>)\n",
      "Loss = tensor(1.4221, device='cuda:0', grad_fn=<NllLoss2DBackward>)\n",
      "EPOCH:  20\n"
     ]
    },
    {
     "data": {
      "image/png": "[encoded data removed]",
      "text/plain": [
       "<PIL.Image.Image image mode=RGB size=60x60 at 0x7F1A3C22F250>"
      ]
     },
     "metadata": {},
     "output_type": "display_data"
    },
    {
     "name": "stdout",
     "output_type": "stream",
     "text": [
      "Learning rate:  0.00036\n",
      "Loss = tensor(1.3537, device='cuda:0', grad_fn=<NllLoss2DBackward>)\n",
      "Loss = tensor(1.3532, device='cuda:0', grad_fn=<NllLoss2DBackward>)\n",
      "Loss = tensor(1.4010, device='cuda:0', grad_fn=<NllLoss2DBackward>)\n",
      "Loss = tensor(1.3546, device='cuda:0', grad_fn=<NllLoss2DBackward>)\n",
      "Loss = tensor(1.3648, device='cuda:0', grad_fn=<NllLoss2DBackward>)\n",
      "EPOCH:  20\n"
     ]
    },
    {
     "data": {
      "image/png": "[encoded data removed]",
      "text/plain": [
       "<PIL.Image.Image image mode=RGB size=60x60 at 0x7F1A3C22F550>"
      ]
     },
     "metadata": {},
     "output_type": "display_data"
    },
    {
     "name": "stdout",
     "output_type": "stream",
     "text": [
      "Learning rate:  0.00036\n",
      "Loss = tensor(1.4136, device='cuda:0', grad_fn=<NllLoss2DBackward>)\n",
      "Loss = tensor(1.3768, device='cuda:0', grad_fn=<NllLoss2DBackward>)\n",
      "Loss = tensor(1.3769, device='cuda:0', grad_fn=<NllLoss2DBackward>)\n",
      "Loss = tensor(1.3752, device='cuda:0', grad_fn=<NllLoss2DBackward>)\n",
      "Loss = tensor(1.3682, device='cuda:0', grad_fn=<NllLoss2DBackward>)\n",
      "EPOCH:  20\n"
     ]
    },
    {
     "data": {
      "image/png": "[encoded data removed]",
      "text/plain": [
       "<PIL.Image.Image image mode=RGB size=60x60 at 0x7F1A3C22F250>"
      ]
     },
     "metadata": {},
     "output_type": "display_data"
    },
    {
     "name": "stdout",
     "output_type": "stream",
     "text": [
      "Learning rate:  0.00036\n",
      "Loss = tensor(1.3639, device='cuda:0', grad_fn=<NllLoss2DBackward>)\n",
      "Loss = tensor(1.3684, device='cuda:0', grad_fn=<NllLoss2DBackward>)\n",
      "EPOCH:  21\n"
     ]
    },
    {
     "data": {
      "image/png": "[encoded data removed]",
      "text/plain": [
       "<PIL.Image.Image image mode=RGB size=60x60 at 0x7F1A3C22F250>"
      ]
     },
     "metadata": {},
     "output_type": "display_data"
    },
    {
     "name": "stdout",
     "output_type": "stream",
     "text": [
      "Learning rate:  0.00036\n",
      "Loss = tensor(1.3398, device='cuda:0', grad_fn=<NllLoss2DBackward>)\n",
      "Loss = tensor(1.3521, device='cuda:0', grad_fn=<NllLoss2DBackward>)\n",
      "Loss = tensor(1.4157, device='cuda:0', grad_fn=<NllLoss2DBackward>)\n",
      "Loss = tensor(1.3661, device='cuda:0', grad_fn=<NllLoss2DBackward>)\n",
      "Loss = tensor(1.3962, device='cuda:0', grad_fn=<NllLoss2DBackward>)\n",
      "EPOCH:  21\n"
     ]
    },
    {
     "data": {
      "image/png": "[encoded data removed]",
      "text/plain": [
       "<PIL.Image.Image image mode=RGB size=60x60 at 0x7F1A3C22F400>"
      ]
     },
     "metadata": {},
     "output_type": "display_data"
    },
    {
     "name": "stdout",
     "output_type": "stream",
     "text": [
      "Learning rate:  0.00036\n",
      "Loss = tensor(1.3811, device='cuda:0', grad_fn=<NllLoss2DBackward>)\n",
      "Loss = tensor(1.3681, device='cuda:0', grad_fn=<NllLoss2DBackward>)\n",
      "Loss = tensor(1.3399, device='cuda:0', grad_fn=<NllLoss2DBackward>)\n",
      "Loss = tensor(1.3675, device='cuda:0', grad_fn=<NllLoss2DBackward>)\n",
      "Loss = tensor(1.3914, device='cuda:0', grad_fn=<NllLoss2DBackward>)\n",
      "EPOCH:  21\n"
     ]
    },
    {
     "data": {
      "image/png": "[encoded data removed]",
      "text/plain": [
       "<PIL.Image.Image image mode=RGB size=60x60 at 0x7F1A3C22F550>"
      ]
     },
     "metadata": {},
     "output_type": "display_data"
    },
    {
     "name": "stdout",
     "output_type": "stream",
     "text": [
      "Learning rate:  0.00036\n",
      "Loss = tensor(1.3747, device='cuda:0', grad_fn=<NllLoss2DBackward>)\n",
      "Loss = tensor(1.3522, device='cuda:0', grad_fn=<NllLoss2DBackward>)\n",
      "EPOCH:  22\n"
     ]
    },
    {
     "data": {
      "image/png": "[encoded data removed]",
      "text/plain": [
       "<PIL.Image.Image image mode=RGB size=60x60 at 0x7F1A3C22F550>"
      ]
     },
     "metadata": {},
     "output_type": "display_data"
    },
    {
     "name": "stdout",
     "output_type": "stream",
     "text": [
      "Learning rate:  0.00036\n",
      "Loss = tensor(1.3604, device='cuda:0', grad_fn=<NllLoss2DBackward>)\n",
      "Loss = tensor(1.4207, device='cuda:0', grad_fn=<NllLoss2DBackward>)\n",
      "Loss = tensor(1.3496, device='cuda:0', grad_fn=<NllLoss2DBackward>)\n",
      "Loss = tensor(1.3512, device='cuda:0', grad_fn=<NllLoss2DBackward>)\n",
      "Loss = tensor(1.3694, device='cuda:0', grad_fn=<NllLoss2DBackward>)\n",
      "EPOCH:  22\n"
     ]
    },
    {
     "data": {
      "image/png": "[encoded data removed]",
      "text/plain": [
       "<PIL.Image.Image image mode=RGB size=60x60 at 0x7F1A3C22F550>"
      ]
     },
     "metadata": {},
     "output_type": "display_data"
    },
    {
     "name": "stdout",
     "output_type": "stream",
     "text": [
      "Learning rate:  0.00036\n",
      "Loss = tensor(1.3707, device='cuda:0', grad_fn=<NllLoss2DBackward>)\n",
      "Loss = tensor(1.3611, device='cuda:0', grad_fn=<NllLoss2DBackward>)\n",
      "Loss = tensor(1.3645, device='cuda:0', grad_fn=<NllLoss2DBackward>)\n",
      "Loss = tensor(1.3575, device='cuda:0', grad_fn=<NllLoss2DBackward>)\n",
      "Loss = tensor(1.3849, device='cuda:0', grad_fn=<NllLoss2DBackward>)\n",
      "EPOCH:  22\n"
     ]
    },
    {
     "data": {
      "image/png": "[encoded data removed]",
      "text/plain": [
       "<PIL.Image.Image image mode=RGB size=60x60 at 0x7F1A3C22F400>"
      ]
     },
     "metadata": {},
     "output_type": "display_data"
    },
    {
     "name": "stdout",
     "output_type": "stream",
     "text": [
      "Learning rate:  0.00036\n",
      "Loss = tensor(1.3748, device='cuda:0', grad_fn=<NllLoss2DBackward>)\n",
      "Loss = tensor(1.3399, device='cuda:0', grad_fn=<NllLoss2DBackward>)\n",
      "EPOCH:  23\n"
     ]
    },
    {
     "data": {
      "image/png": "[encoded data removed]",
      "text/plain": [
       "<PIL.Image.Image image mode=RGB size=60x60 at 0x7F1A3C22F250>"
      ]
     },
     "metadata": {},
     "output_type": "display_data"
    },
    {
     "name": "stdout",
     "output_type": "stream",
     "text": [
      "Learning rate:  0.00036\n",
      "Loss = tensor(1.3727, device='cuda:0', grad_fn=<NllLoss2DBackward>)\n",
      "Loss = tensor(1.3511, device='cuda:0', grad_fn=<NllLoss2DBackward>)\n",
      "Loss = tensor(1.4092, device='cuda:0', grad_fn=<NllLoss2DBackward>)\n",
      "Loss = tensor(1.3374, device='cuda:0', grad_fn=<NllLoss2DBackward>)\n",
      "Loss = tensor(1.3485, device='cuda:0', grad_fn=<NllLoss2DBackward>)\n",
      "EPOCH:  23\n"
     ]
    },
    {
     "data": {
      "image/png": "[encoded data removed]",
      "text/plain": [
       "<PIL.Image.Image image mode=RGB size=60x60 at 0x7F1A3C22F550>"
      ]
     },
     "metadata": {},
     "output_type": "display_data"
    },
    {
     "name": "stdout",
     "output_type": "stream",
     "text": [
      "Learning rate:  0.00036\n",
      "Loss = tensor(1.3669, device='cuda:0', grad_fn=<NllLoss2DBackward>)\n",
      "Loss = tensor(1.3987, device='cuda:0', grad_fn=<NllLoss2DBackward>)\n",
      "Loss = tensor(1.3576, device='cuda:0', grad_fn=<NllLoss2DBackward>)\n",
      "Loss = tensor(1.3709, device='cuda:0', grad_fn=<NllLoss2DBackward>)\n",
      "Loss = tensor(1.3739, device='cuda:0', grad_fn=<NllLoss2DBackward>)\n",
      "EPOCH:  23\n"
     ]
    },
    {
     "data": {
      "image/png": "[encoded data removed]",
      "text/plain": [
       "<PIL.Image.Image image mode=RGB size=60x60 at 0x7F1A3C22F400>"
      ]
     },
     "metadata": {},
     "output_type": "display_data"
    },
    {
     "name": "stdout",
     "output_type": "stream",
     "text": [
      "Learning rate:  0.00036\n",
      "Loss = tensor(1.3525, device='cuda:0', grad_fn=<NllLoss2DBackward>)\n",
      "Loss = tensor(1.3774, device='cuda:0', grad_fn=<NllLoss2DBackward>)\n",
      "EPOCH:  24\n"
     ]
    },
    {
     "data": {
      "image/png": "[encoded data removed]",
      "text/plain": [
       "<PIL.Image.Image image mode=RGB size=60x60 at 0x7F1A3C22FFA0>"
      ]
     },
     "metadata": {},
     "output_type": "display_data"
    },
    {
     "name": "stdout",
     "output_type": "stream",
     "text": [
      "Learning rate:  0.00036\n",
      "Loss = tensor(1.3932, device='cuda:0', grad_fn=<NllLoss2DBackward>)\n",
      "Loss = tensor(1.3465, device='cuda:0', grad_fn=<NllLoss2DBackward>)\n",
      "Loss = tensor(1.3380, device='cuda:0', grad_fn=<NllLoss2DBackward>)\n",
      "Loss = tensor(1.3389, device='cuda:0', grad_fn=<NllLoss2DBackward>)\n",
      "Loss = tensor(1.3436, device='cuda:0', grad_fn=<NllLoss2DBackward>)\n",
      "EPOCH:  24\n"
     ]
    },
    {
     "data": {
      "image/png": "[encoded data removed]",
      "text/plain": [
       "<PIL.Image.Image image mode=RGB size=60x60 at 0x7F1A3C22F400>"
      ]
     },
     "metadata": {},
     "output_type": "display_data"
    },
    {
     "name": "stdout",
     "output_type": "stream",
     "text": [
      "Learning rate:  0.00036\n",
      "Loss = tensor(1.3510, device='cuda:0', grad_fn=<NllLoss2DBackward>)\n",
      "Loss = tensor(1.3598, device='cuda:0', grad_fn=<NllLoss2DBackward>)\n",
      "Loss = tensor(1.3721, device='cuda:0', grad_fn=<NllLoss2DBackward>)\n",
      "Loss = tensor(1.3977, device='cuda:0', grad_fn=<NllLoss2DBackward>)\n",
      "Loss = tensor(1.4027, device='cuda:0', grad_fn=<NllLoss2DBackward>)\n",
      "EPOCH:  24\n"
     ]
    },
    {
     "data": {
      "image/png": "[encoded data removed]",
      "text/plain": [
       "<PIL.Image.Image image mode=RGB size=60x60 at 0x7F1A3C22F3D0>"
      ]
     },
     "metadata": {},
     "output_type": "display_data"
    },
    {
     "name": "stdout",
     "output_type": "stream",
     "text": [
      "Learning rate:  0.00036\n",
      "Loss = tensor(1.3245, device='cuda:0', grad_fn=<NllLoss2DBackward>)\n",
      "Loss = tensor(1.3580, device='cuda:0', grad_fn=<NllLoss2DBackward>)\n",
      "EPOCH:  25\n"
     ]
    },
    {
     "data": {
      "image/png": "[encoded data removed]",
      "text/plain": [
       "<PIL.Image.Image image mode=RGB size=60x60 at 0x7F1A3C22FFA0>"
      ]
     },
     "metadata": {},
     "output_type": "display_data"
    },
    {
     "name": "stdout",
     "output_type": "stream",
     "text": [
      "Learning rate:  0.00036\n",
      "Loss = tensor(1.3167, device='cuda:0', grad_fn=<NllLoss2DBackward>)\n",
      "Loss = tensor(1.3574, device='cuda:0', grad_fn=<NllLoss2DBackward>)\n",
      "Loss = tensor(1.3749, device='cuda:0', grad_fn=<NllLoss2DBackward>)\n",
      "Loss = tensor(1.3865, device='cuda:0', grad_fn=<NllLoss2DBackward>)\n",
      "Loss = tensor(1.3607, device='cuda:0', grad_fn=<NllLoss2DBackward>)\n",
      "EPOCH:  25\n"
     ]
    },
    {
     "data": {
      "image/png": "[encoded data removed]",
      "text/plain": [
       "<PIL.Image.Image image mode=RGB size=60x60 at 0x7F1A3C22F400>"
      ]
     },
     "metadata": {},
     "output_type": "display_data"
    },
    {
     "name": "stdout",
     "output_type": "stream",
     "text": [
      "Learning rate:  0.00036\n",
      "Loss = tensor(1.3672, device='cuda:0', grad_fn=<NllLoss2DBackward>)\n",
      "Loss = tensor(1.3878, device='cuda:0', grad_fn=<NllLoss2DBackward>)\n",
      "Loss = tensor(1.3457, device='cuda:0', grad_fn=<NllLoss2DBackward>)\n",
      "Loss = tensor(1.3693, device='cuda:0', grad_fn=<NllLoss2DBackward>)\n",
      "Loss = tensor(1.3573, device='cuda:0', grad_fn=<NllLoss2DBackward>)\n",
      "EPOCH:  25\n"
     ]
    },
    {
     "data": {
      "image/png": "[encoded data removed]",
      "text/plain": [
       "<PIL.Image.Image image mode=RGB size=60x60 at 0x7F1A3C22FFA0>"
      ]
     },
     "metadata": {},
     "output_type": "display_data"
    },
    {
     "name": "stdout",
     "output_type": "stream",
     "text": [
      "Learning rate:  0.00036\n",
      "Loss = tensor(1.3538, device='cuda:0', grad_fn=<NllLoss2DBackward>)\n",
      "Loss = tensor(1.4048, device='cuda:0', grad_fn=<NllLoss2DBackward>)\n",
      "EPOCH:  26\n"
     ]
    },
    {
     "data": {
      "image/png": "[encoded data removed]",
      "text/plain": [
       "<PIL.Image.Image image mode=RGB size=60x60 at 0x7F1A3C22F400>"
      ]
     },
     "metadata": {},
     "output_type": "display_data"
    },
    {
     "name": "stdout",
     "output_type": "stream",
     "text": [
      "Learning rate:  0.00036\n",
      "Loss = tensor(1.3690, device='cuda:0', grad_fn=<NllLoss2DBackward>)\n",
      "Loss = tensor(1.3862, device='cuda:0', grad_fn=<NllLoss2DBackward>)\n",
      "Loss = tensor(1.3383, device='cuda:0', grad_fn=<NllLoss2DBackward>)\n",
      "Loss = tensor(1.3517, device='cuda:0', grad_fn=<NllLoss2DBackward>)\n",
      "Loss = tensor(1.3793, device='cuda:0', grad_fn=<NllLoss2DBackward>)\n",
      "EPOCH:  26\n"
     ]
    },
    {
     "data": {
      "image/png": "[encoded data removed]",
      "text/plain": [
       "<PIL.Image.Image image mode=RGB size=60x60 at 0x7F1A3C22F250>"
      ]
     },
     "metadata": {},
     "output_type": "display_data"
    },
    {
     "name": "stdout",
     "output_type": "stream",
     "text": [
      "Learning rate:  0.00036\n",
      "Loss = tensor(1.3432, device='cuda:0', grad_fn=<NllLoss2DBackward>)\n",
      "Loss = tensor(1.3516, device='cuda:0', grad_fn=<NllLoss2DBackward>)\n",
      "Loss = tensor(1.3360, device='cuda:0', grad_fn=<NllLoss2DBackward>)\n",
      "Loss = tensor(1.3835, device='cuda:0', grad_fn=<NllLoss2DBackward>)\n",
      "Loss = tensor(1.3470, device='cuda:0', grad_fn=<NllLoss2DBackward>)\n",
      "EPOCH:  26\n"
     ]
    },
    {
     "data": {
      "image/png": "[encoded data removed]",
      "text/plain": [
       "<PIL.Image.Image image mode=RGB size=60x60 at 0x7F1A3C22FFA0>"
      ]
     },
     "metadata": {},
     "output_type": "display_data"
    },
    {
     "name": "stdout",
     "output_type": "stream",
     "text": [
      "Learning rate:  0.00036\n",
      "Loss = tensor(1.3226, device='cuda:0', grad_fn=<NllLoss2DBackward>)\n",
      "Loss = tensor(1.3797, device='cuda:0', grad_fn=<NllLoss2DBackward>)\n",
      "EPOCH:  27\n"
     ]
    },
    {
     "data": {
      "image/png": "[encoded data removed]",
      "text/plain": [
       "<PIL.Image.Image image mode=RGB size=60x60 at 0x7F1A3C22FFA0>"
      ]
     },
     "metadata": {},
     "output_type": "display_data"
    },
    {
     "name": "stdout",
     "output_type": "stream",
     "text": [
      "Learning rate:  0.00036\n",
      "Loss = tensor(1.3796, device='cuda:0', grad_fn=<NllLoss2DBackward>)\n",
      "Loss = tensor(1.3676, device='cuda:0', grad_fn=<NllLoss2DBackward>)\n",
      "Loss = tensor(1.3367, device='cuda:0', grad_fn=<NllLoss2DBackward>)\n",
      "Loss = tensor(1.3569, device='cuda:0', grad_fn=<NllLoss2DBackward>)\n",
      "Loss = tensor(1.3410, device='cuda:0', grad_fn=<NllLoss2DBackward>)\n",
      "EPOCH:  27\n"
     ]
    },
    {
     "data": {
      "image/png": "[encoded data removed]",
      "text/plain": [
       "<PIL.Image.Image image mode=RGB size=60x60 at 0x7F1A3C22F250>"
      ]
     },
     "metadata": {},
     "output_type": "display_data"
    },
    {
     "name": "stdout",
     "output_type": "stream",
     "text": [
      "Learning rate:  0.00036\n",
      "Loss = tensor(1.3508, device='cuda:0', grad_fn=<NllLoss2DBackward>)\n",
      "Loss = tensor(1.3483, device='cuda:0', grad_fn=<NllLoss2DBackward>)\n",
      "Loss = tensor(1.3650, device='cuda:0', grad_fn=<NllLoss2DBackward>)\n",
      "Loss = tensor(1.3537, device='cuda:0', grad_fn=<NllLoss2DBackward>)\n",
      "Loss = tensor(1.3501, device='cuda:0', grad_fn=<NllLoss2DBackward>)\n",
      "EPOCH:  27\n"
     ]
    },
    {
     "data": {
      "image/png": "[encoded data removed]",
      "text/plain": [
       "<PIL.Image.Image image mode=RGB size=60x60 at 0x7F1A3C22F250>"
      ]
     },
     "metadata": {},
     "output_type": "display_data"
    },
    {
     "name": "stdout",
     "output_type": "stream",
     "text": [
      "Learning rate:  0.00036\n",
      "Loss = tensor(1.3501, device='cuda:0', grad_fn=<NllLoss2DBackward>)\n",
      "Loss = tensor(1.3352, device='cuda:0', grad_fn=<NllLoss2DBackward>)\n",
      "EPOCH:  28\n"
     ]
    },
    {
     "data": {
      "image/png": "[encoded data removed]",
      "text/plain": [
       "<PIL.Image.Image image mode=RGB size=60x60 at 0x7F1A3C22F550>"
      ]
     },
     "metadata": {},
     "output_type": "display_data"
    },
    {
     "name": "stdout",
     "output_type": "stream",
     "text": [
      "Learning rate:  0.00036\n",
      "Loss = tensor(1.3448, device='cuda:0', grad_fn=<NllLoss2DBackward>)\n",
      "Loss = tensor(1.3531, device='cuda:0', grad_fn=<NllLoss2DBackward>)\n",
      "Loss = tensor(1.3490, device='cuda:0', grad_fn=<NllLoss2DBackward>)\n",
      "Loss = tensor(1.3422, device='cuda:0', grad_fn=<NllLoss2DBackward>)\n",
      "Loss = tensor(1.3576, device='cuda:0', grad_fn=<NllLoss2DBackward>)\n",
      "EPOCH:  28\n"
     ]
    },
    {
     "data": {
      "image/png": "[encoded data removed]",
      "text/plain": [
       "<PIL.Image.Image image mode=RGB size=60x60 at 0x7F1A3C22F550>"
      ]
     },
     "metadata": {},
     "output_type": "display_data"
    },
    {
     "name": "stdout",
     "output_type": "stream",
     "text": [
      "Learning rate:  0.00036\n",
      "Loss = tensor(1.3486, device='cuda:0', grad_fn=<NllLoss2DBackward>)\n",
      "Loss = tensor(1.3403, device='cuda:0', grad_fn=<NllLoss2DBackward>)\n",
      "Loss = tensor(1.3756, device='cuda:0', grad_fn=<NllLoss2DBackward>)\n",
      "Loss = tensor(1.3804, device='cuda:0', grad_fn=<NllLoss2DBackward>)\n",
      "Loss = tensor(1.3465, device='cuda:0', grad_fn=<NllLoss2DBackward>)\n",
      "EPOCH:  28\n"
     ]
    },
    {
     "data": {
      "image/png": "[encoded data removed]",
      "text/plain": [
       "<PIL.Image.Image image mode=RGB size=60x60 at 0x7F1A3C22F550>"
      ]
     },
     "metadata": {},
     "output_type": "display_data"
    },
    {
     "name": "stdout",
     "output_type": "stream",
     "text": [
      "Learning rate:  0.00036\n",
      "Loss = tensor(1.4031, device='cuda:0', grad_fn=<NllLoss2DBackward>)\n",
      "Loss = tensor(1.3586, device='cuda:0', grad_fn=<NllLoss2DBackward>)\n",
      "EPOCH:  29\n"
     ]
    },
    {
     "data": {
      "image/png": "[encoded data removed]",
      "text/plain": [
       "<PIL.Image.Image image mode=RGB size=60x60 at 0x7F1A3C22F550>"
      ]
     },
     "metadata": {},
     "output_type": "display_data"
    },
    {
     "name": "stdout",
     "output_type": "stream",
     "text": [
      "Learning rate:  0.00036\n",
      "Loss = tensor(1.3562, device='cuda:0', grad_fn=<NllLoss2DBackward>)\n",
      "Loss = tensor(1.3569, device='cuda:0', grad_fn=<NllLoss2DBackward>)\n",
      "Loss = tensor(1.3353, device='cuda:0', grad_fn=<NllLoss2DBackward>)\n",
      "Loss = tensor(1.3325, device='cuda:0', grad_fn=<NllLoss2DBackward>)\n",
      "Loss = tensor(1.3869, device='cuda:0', grad_fn=<NllLoss2DBackward>)\n",
      "EPOCH:  29\n"
     ]
    },
    {
     "data": {
      "image/png": "[encoded data removed]",
      "text/plain": [
       "<PIL.Image.Image image mode=RGB size=60x60 at 0x7F1A3C22F550>"
      ]
     },
     "metadata": {},
     "output_type": "display_data"
    },
    {
     "name": "stdout",
     "output_type": "stream",
     "text": [
      "Learning rate:  0.00036\n",
      "Loss = tensor(1.3510, device='cuda:0', grad_fn=<NllLoss2DBackward>)\n",
      "Loss = tensor(1.3198, device='cuda:0', grad_fn=<NllLoss2DBackward>)\n",
      "Loss = tensor(1.3657, device='cuda:0', grad_fn=<NllLoss2DBackward>)\n",
      "Loss = tensor(1.3482, device='cuda:0', grad_fn=<NllLoss2DBackward>)\n",
      "Loss = tensor(1.3926, device='cuda:0', grad_fn=<NllLoss2DBackward>)\n",
      "EPOCH:  29\n"
     ]
    },
    {
     "data": {
      "image/png": "[encoded data removed]",
      "text/plain": [
       "<PIL.Image.Image image mode=RGB size=60x60 at 0x7F1A3C22FFA0>"
      ]
     },
     "metadata": {},
     "output_type": "display_data"
    },
    {
     "name": "stdout",
     "output_type": "stream",
     "text": [
      "Learning rate:  0.00036\n",
      "Loss = tensor(1.3511, device='cuda:0', grad_fn=<NllLoss2DBackward>)\n",
      "Loss = tensor(1.3471, device='cuda:0', grad_fn=<NllLoss2DBackward>)\n",
      "EPOCH:  30\n"
     ]
    },
    {
     "data": {
      "image/png": "[encoded data removed]",
      "text/plain": [
       "<PIL.Image.Image image mode=RGB size=60x60 at 0x7F1A3C22F550>"
      ]
     },
     "metadata": {},
     "output_type": "display_data"
    },
    {
     "name": "stdout",
     "output_type": "stream",
     "text": [
      "Learning rate:  0.00021600000000000002\n",
      "Loss = tensor(1.3752, device='cuda:0', grad_fn=<NllLoss2DBackward>)\n",
      "Loss = tensor(1.3763, device='cuda:0', grad_fn=<NllLoss2DBackward>)\n",
      "Loss = tensor(1.3518, device='cuda:0', grad_fn=<NllLoss2DBackward>)\n",
      "Loss = tensor(1.3732, device='cuda:0', grad_fn=<NllLoss2DBackward>)\n",
      "Loss = tensor(1.3682, device='cuda:0', grad_fn=<NllLoss2DBackward>)\n",
      "EPOCH:  30\n"
     ]
    },
    {
     "data": {
      "image/png": "[encoded data removed]",
      "text/plain": [
       "<PIL.Image.Image image mode=RGB size=60x60 at 0x7F1A3C22F400>"
      ]
     },
     "metadata": {},
     "output_type": "display_data"
    },
    {
     "name": "stdout",
     "output_type": "stream",
     "text": [
      "Learning rate:  0.00021600000000000002\n",
      "Loss = tensor(1.3458, device='cuda:0', grad_fn=<NllLoss2DBackward>)\n",
      "Loss = tensor(1.3423, device='cuda:0', grad_fn=<NllLoss2DBackward>)\n",
      "Loss = tensor(1.3618, device='cuda:0', grad_fn=<NllLoss2DBackward>)\n",
      "Loss = tensor(1.3119, device='cuda:0', grad_fn=<NllLoss2DBackward>)\n",
      "Loss = tensor(1.3366, device='cuda:0', grad_fn=<NllLoss2DBackward>)\n",
      "EPOCH:  30\n"
     ]
    },
    {
     "data": {
      "image/png": "[encoded data removed]",
      "text/plain": [
       "<PIL.Image.Image image mode=RGB size=60x60 at 0x7F1A3C22FFA0>"
      ]
     },
     "metadata": {},
     "output_type": "display_data"
    },
    {
     "name": "stdout",
     "output_type": "stream",
     "text": [
      "Learning rate:  0.00021600000000000002\n",
      "Loss = tensor(1.3544, device='cuda:0', grad_fn=<NllLoss2DBackward>)\n",
      "Loss = tensor(1.3459, device='cuda:0', grad_fn=<NllLoss2DBackward>)\n",
      "EPOCH:  31\n"
     ]
    },
    {
     "data": {
      "image/png": "[encoded data removed]",
      "text/plain": [
       "<PIL.Image.Image image mode=RGB size=60x60 at 0x7F1A3C22F550>"
      ]
     },
     "metadata": {},
     "output_type": "display_data"
    },
    {
     "name": "stdout",
     "output_type": "stream",
     "text": [
      "Learning rate:  0.00021600000000000002\n",
      "Loss = tensor(1.3635, device='cuda:0', grad_fn=<NllLoss2DBackward>)\n",
      "Loss = tensor(1.3820, device='cuda:0', grad_fn=<NllLoss2DBackward>)\n",
      "Loss = tensor(1.3603, device='cuda:0', grad_fn=<NllLoss2DBackward>)\n",
      "Loss = tensor(1.3704, device='cuda:0', grad_fn=<NllLoss2DBackward>)\n",
      "Loss = tensor(1.3411, device='cuda:0', grad_fn=<NllLoss2DBackward>)\n",
      "EPOCH:  31\n"
     ]
    },
    {
     "data": {
      "image/png": "[encoded data removed]",
      "text/plain": [
       "<PIL.Image.Image image mode=RGB size=60x60 at 0x7F1A3C22F400>"
      ]
     },
     "metadata": {},
     "output_type": "display_data"
    },
    {
     "name": "stdout",
     "output_type": "stream",
     "text": [
      "Learning rate:  0.00021600000000000002\n",
      "Loss = tensor(1.3689, device='cuda:0', grad_fn=<NllLoss2DBackward>)\n",
      "Loss = tensor(1.3193, device='cuda:0', grad_fn=<NllLoss2DBackward>)\n",
      "Loss = tensor(1.3234, device='cuda:0', grad_fn=<NllLoss2DBackward>)\n",
      "Loss = tensor(1.3474, device='cuda:0', grad_fn=<NllLoss2DBackward>)\n",
      "Loss = tensor(1.3413, device='cuda:0', grad_fn=<NllLoss2DBackward>)\n",
      "EPOCH:  31\n"
     ]
    },
    {
     "data": {
      "image/png": "[encoded data removed]",
      "text/plain": [
       "<PIL.Image.Image image mode=RGB size=60x60 at 0x7F1A3C22F400>"
      ]
     },
     "metadata": {},
     "output_type": "display_data"
    },
    {
     "name": "stdout",
     "output_type": "stream",
     "text": [
      "Learning rate:  0.00021600000000000002\n",
      "Loss = tensor(1.3777, device='cuda:0', grad_fn=<NllLoss2DBackward>)\n",
      "Loss = tensor(1.3272, device='cuda:0', grad_fn=<NllLoss2DBackward>)\n",
      "EPOCH:  32\n"
     ]
    },
    {
     "data": {
      "image/png": "[encoded data removed]",
      "text/plain": [
       "<PIL.Image.Image image mode=RGB size=60x60 at 0x7F1A3C22FFA0>"
      ]
     },
     "metadata": {},
     "output_type": "display_data"
    },
    {
     "name": "stdout",
     "output_type": "stream",
     "text": [
      "Learning rate:  0.00021600000000000002\n",
      "Loss = tensor(1.3542, device='cuda:0', grad_fn=<NllLoss2DBackward>)\n",
      "Loss = tensor(1.3699, device='cuda:0', grad_fn=<NllLoss2DBackward>)\n",
      "Loss = tensor(1.3670, device='cuda:0', grad_fn=<NllLoss2DBackward>)\n",
      "Loss = tensor(1.3581, device='cuda:0', grad_fn=<NllLoss2DBackward>)\n",
      "Loss = tensor(1.3405, device='cuda:0', grad_fn=<NllLoss2DBackward>)\n",
      "EPOCH:  32\n"
     ]
    },
    {
     "data": {
      "image/png": "[encoded data removed]",
      "text/plain": [
       "<PIL.Image.Image image mode=RGB size=60x60 at 0x7F1A3C22F400>"
      ]
     },
     "metadata": {},
     "output_type": "display_data"
    },
    {
     "name": "stdout",
     "output_type": "stream",
     "text": [
      "Learning rate:  0.00021600000000000002\n",
      "Loss = tensor(1.3917, device='cuda:0', grad_fn=<NllLoss2DBackward>)\n",
      "Loss = tensor(1.3254, device='cuda:0', grad_fn=<NllLoss2DBackward>)\n",
      "Loss = tensor(1.3542, device='cuda:0', grad_fn=<NllLoss2DBackward>)\n",
      "Loss = tensor(1.3464, device='cuda:0', grad_fn=<NllLoss2DBackward>)\n",
      "Loss = tensor(1.3550, device='cuda:0', grad_fn=<NllLoss2DBackward>)\n",
      "EPOCH:  32\n"
     ]
    },
    {
     "data": {
      "image/png": "[encoded data removed]",
      "text/plain": [
       "<PIL.Image.Image image mode=RGB size=60x60 at 0x7F1A3C22F550>"
      ]
     },
     "metadata": {},
     "output_type": "display_data"
    },
    {
     "name": "stdout",
     "output_type": "stream",
     "text": [
      "Learning rate:  0.00021600000000000002\n",
      "Loss = tensor(1.3541, device='cuda:0', grad_fn=<NllLoss2DBackward>)\n",
      "Loss = tensor(1.3644, device='cuda:0', grad_fn=<NllLoss2DBackward>)\n",
      "EPOCH:  33\n"
     ]
    },
    {
     "data": {
      "image/png": "[encoded data removed]",
      "text/plain": [
       "<PIL.Image.Image image mode=RGB size=60x60 at 0x7F1A3C22F400>"
      ]
     },
     "metadata": {},
     "output_type": "display_data"
    },
    {
     "name": "stdout",
     "output_type": "stream",
     "text": [
      "Learning rate:  0.00021600000000000002\n",
      "Loss = tensor(1.3276, device='cuda:0', grad_fn=<NllLoss2DBackward>)\n",
      "Loss = tensor(1.3807, device='cuda:0', grad_fn=<NllLoss2DBackward>)\n",
      "Loss = tensor(1.3536, device='cuda:0', grad_fn=<NllLoss2DBackward>)\n",
      "Loss = tensor(1.3413, device='cuda:0', grad_fn=<NllLoss2DBackward>)\n",
      "Loss = tensor(1.3532, device='cuda:0', grad_fn=<NllLoss2DBackward>)\n",
      "EPOCH:  33\n"
     ]
    },
    {
     "data": {
      "image/png": "[encoded data removed]",
      "text/plain": [
       "<PIL.Image.Image image mode=RGB size=60x60 at 0x7F1A3C22F400>"
      ]
     },
     "metadata": {},
     "output_type": "display_data"
    },
    {
     "name": "stdout",
     "output_type": "stream",
     "text": [
      "Learning rate:  0.00021600000000000002\n",
      "Loss = tensor(1.4073, device='cuda:0', grad_fn=<NllLoss2DBackward>)\n",
      "Loss = tensor(1.3522, device='cuda:0', grad_fn=<NllLoss2DBackward>)\n",
      "Loss = tensor(1.3565, device='cuda:0', grad_fn=<NllLoss2DBackward>)\n",
      "Loss = tensor(1.3200, device='cuda:0', grad_fn=<NllLoss2DBackward>)\n",
      "Loss = tensor(1.3375, device='cuda:0', grad_fn=<NllLoss2DBackward>)\n",
      "EPOCH:  33\n"
     ]
    },
    {
     "data": {
      "image/png": "[encoded data removed]",
      "text/plain": [
       "<PIL.Image.Image image mode=RGB size=60x60 at 0x7F1A3C22F400>"
      ]
     },
     "metadata": {},
     "output_type": "display_data"
    },
    {
     "name": "stdout",
     "output_type": "stream",
     "text": [
      "Learning rate:  0.00021600000000000002\n",
      "Loss = tensor(1.3392, device='cuda:0', grad_fn=<NllLoss2DBackward>)\n",
      "Loss = tensor(1.3333, device='cuda:0', grad_fn=<NllLoss2DBackward>)\n",
      "EPOCH:  34\n"
     ]
    },
    {
     "data": {
      "image/png": "[encoded data removed]",
      "text/plain": [
       "<PIL.Image.Image image mode=RGB size=60x60 at 0x7F1A3C22F250>"
      ]
     },
     "metadata": {},
     "output_type": "display_data"
    },
    {
     "name": "stdout",
     "output_type": "stream",
     "text": [
      "Learning rate:  0.00021600000000000002\n",
      "Loss = tensor(1.3438, device='cuda:0', grad_fn=<NllLoss2DBackward>)\n",
      "Loss = tensor(1.3688, device='cuda:0', grad_fn=<NllLoss2DBackward>)\n",
      "Loss = tensor(1.3197, device='cuda:0', grad_fn=<NllLoss2DBackward>)\n",
      "Loss = tensor(1.3374, device='cuda:0', grad_fn=<NllLoss2DBackward>)\n",
      "Loss = tensor(1.3648, device='cuda:0', grad_fn=<NllLoss2DBackward>)\n",
      "EPOCH:  34\n"
     ]
    },
    {
     "data": {
      "image/png": "[encoded data removed]",
      "text/plain": [
       "<PIL.Image.Image image mode=RGB size=60x60 at 0x7F1A3C22FEE0>"
      ]
     },
     "metadata": {},
     "output_type": "display_data"
    },
    {
     "name": "stdout",
     "output_type": "stream",
     "text": [
      "Learning rate:  0.00021600000000000002\n",
      "Loss = tensor(1.3613, device='cuda:0', grad_fn=<NllLoss2DBackward>)\n",
      "Loss = tensor(1.3323, device='cuda:0', grad_fn=<NllLoss2DBackward>)\n",
      "Loss = tensor(1.3431, device='cuda:0', grad_fn=<NllLoss2DBackward>)\n",
      "Loss = tensor(1.3635, device='cuda:0', grad_fn=<NllLoss2DBackward>)\n",
      "Loss = tensor(1.3549, device='cuda:0', grad_fn=<NllLoss2DBackward>)\n",
      "EPOCH:  34\n"
     ]
    },
    {
     "data": {
      "image/png": "[encoded data removed]",
      "text/plain": [
       "<PIL.Image.Image image mode=RGB size=60x60 at 0x7F1A3C22F250>"
      ]
     },
     "metadata": {},
     "output_type": "display_data"
    },
    {
     "name": "stdout",
     "output_type": "stream",
     "text": [
      "Learning rate:  0.00021600000000000002\n",
      "Loss = tensor(1.4053, device='cuda:0', grad_fn=<NllLoss2DBackward>)\n",
      "Loss = tensor(1.3719, device='cuda:0', grad_fn=<NllLoss2DBackward>)\n",
      "EPOCH:  35\n"
     ]
    },
    {
     "data": {
      "image/png": "[encoded data removed]",
      "text/plain": [
       "<PIL.Image.Image image mode=RGB size=60x60 at 0x7F1A3C22F550>"
      ]
     },
     "metadata": {},
     "output_type": "display_data"
    },
    {
     "name": "stdout",
     "output_type": "stream",
     "text": [
      "Learning rate:  0.00021600000000000002\n",
      "Loss = tensor(1.3495, device='cuda:0', grad_fn=<NllLoss2DBackward>)\n",
      "Loss = tensor(1.3454, device='cuda:0', grad_fn=<NllLoss2DBackward>)\n",
      "Loss = tensor(1.3390, device='cuda:0', grad_fn=<NllLoss2DBackward>)\n",
      "Loss = tensor(1.3369, device='cuda:0', grad_fn=<NllLoss2DBackward>)\n",
      "Loss = tensor(1.3584, device='cuda:0', grad_fn=<NllLoss2DBackward>)\n",
      "EPOCH:  35\n"
     ]
    },
    {
     "data": {
      "image/png": "[encoded data removed]",
      "text/plain": [
       "<PIL.Image.Image image mode=RGB size=60x60 at 0x7F1A3C22F550>"
      ]
     },
     "metadata": {},
     "output_type": "display_data"
    },
    {
     "name": "stdout",
     "output_type": "stream",
     "text": [
      "Learning rate:  0.00021600000000000002\n",
      "Loss = tensor(1.3290, device='cuda:0', grad_fn=<NllLoss2DBackward>)\n",
      "Loss = tensor(1.3208, device='cuda:0', grad_fn=<NllLoss2DBackward>)\n",
      "Loss = tensor(1.3699, device='cuda:0', grad_fn=<NllLoss2DBackward>)\n",
      "Loss = tensor(1.3411, device='cuda:0', grad_fn=<NllLoss2DBackward>)\n",
      "Loss = tensor(1.3610, device='cuda:0', grad_fn=<NllLoss2DBackward>)\n",
      "EPOCH:  35\n"
     ]
    },
    {
     "data": {
      "image/png": "[encoded data removed]",
      "text/plain": [
       "<PIL.Image.Image image mode=RGB size=60x60 at 0x7F1A3C22FFA0>"
      ]
     },
     "metadata": {},
     "output_type": "display_data"
    },
    {
     "name": "stdout",
     "output_type": "stream",
     "text": [
      "Learning rate:  0.00021600000000000002\n",
      "Loss = tensor(1.4015, device='cuda:0', grad_fn=<NllLoss2DBackward>)\n",
      "Loss = tensor(1.3497, device='cuda:0', grad_fn=<NllLoss2DBackward>)\n",
      "EPOCH:  36\n"
     ]
    },
    {
     "data": {
      "image/png": "[encoded data removed]",
      "text/plain": [
       "<PIL.Image.Image image mode=RGB size=60x60 at 0x7F1A3C22F3D0>"
      ]
     },
     "metadata": {},
     "output_type": "display_data"
    },
    {
     "name": "stdout",
     "output_type": "stream",
     "text": [
      "Learning rate:  0.00021600000000000002\n",
      "Loss = tensor(1.3570, device='cuda:0', grad_fn=<NllLoss2DBackward>)\n",
      "Loss = tensor(1.3438, device='cuda:0', grad_fn=<NllLoss2DBackward>)\n",
      "Loss = tensor(1.3444, device='cuda:0', grad_fn=<NllLoss2DBackward>)\n",
      "Loss = tensor(1.3248, device='cuda:0', grad_fn=<NllLoss2DBackward>)\n",
      "Loss = tensor(1.3442, device='cuda:0', grad_fn=<NllLoss2DBackward>)\n",
      "EPOCH:  36\n"
     ]
    },
    {
     "data": {
      "image/png": "[encoded data removed]",
      "text/plain": [
       "<PIL.Image.Image image mode=RGB size=60x60 at 0x7F18ECE60A60>"
      ]
     },
     "metadata": {},
     "output_type": "display_data"
    },
    {
     "name": "stdout",
     "output_type": "stream",
     "text": [
      "Learning rate:  0.00021600000000000002\n",
      "Loss = tensor(1.3722, device='cuda:0', grad_fn=<NllLoss2DBackward>)\n",
      "Loss = tensor(1.3531, device='cuda:0', grad_fn=<NllLoss2DBackward>)\n",
      "Loss = tensor(1.3896, device='cuda:0', grad_fn=<NllLoss2DBackward>)\n",
      "Loss = tensor(1.3730, device='cuda:0', grad_fn=<NllLoss2DBackward>)\n",
      "Loss = tensor(1.3253, device='cuda:0', grad_fn=<NllLoss2DBackward>)\n",
      "EPOCH:  36\n"
     ]
    },
    {
     "data": {
      "image/png": "[encoded data removed]",
      "text/plain": [
       "<PIL.Image.Image image mode=RGB size=60x60 at 0x7F18ECE60A60>"
      ]
     },
     "metadata": {},
     "output_type": "display_data"
    },
    {
     "name": "stdout",
     "output_type": "stream",
     "text": [
      "Learning rate:  0.00021600000000000002\n",
      "Loss = tensor(1.3382, device='cuda:0', grad_fn=<NllLoss2DBackward>)\n",
      "Loss = tensor(1.3602, device='cuda:0', grad_fn=<NllLoss2DBackward>)\n",
      "EPOCH:  37\n"
     ]
    },
    {
     "data": {
      "image/png": "[encoded data removed]",
      "text/plain": [
       "<PIL.Image.Image image mode=RGB size=60x60 at 0x7F1A3DAC7DF0>"
      ]
     },
     "metadata": {},
     "output_type": "display_data"
    },
    {
     "name": "stdout",
     "output_type": "stream",
     "text": [
      "Learning rate:  0.00021600000000000002\n",
      "Loss = tensor(1.3319, device='cuda:0', grad_fn=<NllLoss2DBackward>)\n",
      "Loss = tensor(1.3635, device='cuda:0', grad_fn=<NllLoss2DBackward>)\n",
      "Loss = tensor(1.3816, device='cuda:0', grad_fn=<NllLoss2DBackward>)\n",
      "Loss = tensor(1.3354, device='cuda:0', grad_fn=<NllLoss2DBackward>)\n",
      "Loss = tensor(1.3280, device='cuda:0', grad_fn=<NllLoss2DBackward>)\n",
      "EPOCH:  37\n"
     ]
    },
    {
     "data": {
      "image/png": "[encoded data removed]",
      "text/plain": [
       "<PIL.Image.Image image mode=RGB size=60x60 at 0x7F1A3DAC7DF0>"
      ]
     },
     "metadata": {},
     "output_type": "display_data"
    },
    {
     "name": "stdout",
     "output_type": "stream",
     "text": [
      "Learning rate:  0.00021600000000000002\n",
      "Loss = tensor(1.3567, device='cuda:0', grad_fn=<NllLoss2DBackward>)\n",
      "Loss = tensor(1.3586, device='cuda:0', grad_fn=<NllLoss2DBackward>)\n",
      "Loss = tensor(1.3232, device='cuda:0', grad_fn=<NllLoss2DBackward>)\n",
      "Loss = tensor(1.3421, device='cuda:0', grad_fn=<NllLoss2DBackward>)\n",
      "Loss = tensor(1.3509, device='cuda:0', grad_fn=<NllLoss2DBackward>)\n",
      "EPOCH:  37\n"
     ]
    },
    {
     "data": {
      "image/png": "[encoded data removed]",
      "text/plain": [
       "<PIL.Image.Image image mode=RGB size=60x60 at 0x7F1A3C22FFA0>"
      ]
     },
     "metadata": {},
     "output_type": "display_data"
    },
    {
     "name": "stdout",
     "output_type": "stream",
     "text": [
      "Learning rate:  0.00021600000000000002\n",
      "Loss = tensor(1.3763, device='cuda:0', grad_fn=<NllLoss2DBackward>)\n",
      "Loss = tensor(1.3786, device='cuda:0', grad_fn=<NllLoss2DBackward>)\n",
      "EPOCH:  38\n"
     ]
    },
    {
     "data": {
      "image/png": "[encoded data removed]",
      "text/plain": [
       "<PIL.Image.Image image mode=RGB size=60x60 at 0x7F1A3DAC7E80>"
      ]
     },
     "metadata": {},
     "output_type": "display_data"
    },
    {
     "name": "stdout",
     "output_type": "stream",
     "text": [
      "Learning rate:  0.00021600000000000002\n",
      "Loss = tensor(1.3257, device='cuda:0', grad_fn=<NllLoss2DBackward>)\n",
      "Loss = tensor(1.3723, device='cuda:0', grad_fn=<NllLoss2DBackward>)\n",
      "Loss = tensor(1.3355, device='cuda:0', grad_fn=<NllLoss2DBackward>)\n",
      "Loss = tensor(1.3525, device='cuda:0', grad_fn=<NllLoss2DBackward>)\n",
      "Loss = tensor(1.3282, device='cuda:0', grad_fn=<NllLoss2DBackward>)\n",
      "EPOCH:  38\n"
     ]
    },
    {
     "data": {
      "image/png": "[encoded data removed]",
      "text/plain": [
       "<PIL.Image.Image image mode=RGB size=60x60 at 0x7F1A3C22FCA0>"
      ]
     },
     "metadata": {},
     "output_type": "display_data"
    },
    {
     "name": "stdout",
     "output_type": "stream",
     "text": [
      "Learning rate:  0.00021600000000000002\n",
      "Loss = tensor(1.3425, device='cuda:0', grad_fn=<NllLoss2DBackward>)\n",
      "Loss = tensor(1.3374, device='cuda:0', grad_fn=<NllLoss2DBackward>)\n",
      "Loss = tensor(1.3401, device='cuda:0', grad_fn=<NllLoss2DBackward>)\n",
      "Loss = tensor(1.3695, device='cuda:0', grad_fn=<NllLoss2DBackward>)\n"
     ]
    },
    {
     "ename": "KeyboardInterrupt",
     "evalue": "",
     "output_type": "error",
     "traceback": [
      "\u001b[0;31m---------------------------------------------------------------------------\u001b[0m",
      "\u001b[0;31mKeyboardInterrupt\u001b[0m                         Traceback (most recent call last)",
      "\u001b[0;32m<ipython-input-20-8296ff189ec3>\u001b[0m in \u001b[0;36m<module>\u001b[0;34m\u001b[0m\n\u001b[1;32m     10\u001b[0m             \u001b[0mx\u001b[0m\u001b[0;34m,\u001b[0m \u001b[0mepoch_history\u001b[0m \u001b[0;34m=\u001b[0m \u001b[0mmodel\u001b[0m\u001b[0;34m.\u001b[0m\u001b[0mforward\u001b[0m\u001b[0;34m(\u001b[0m\u001b[0;36m130\u001b[0m\u001b[0;34m,\u001b[0m \u001b[0minputs\u001b[0m\u001b[0;34m,\u001b[0m \u001b[0mlast\u001b[0m\u001b[0;34m=\u001b[0m\u001b[0mlast\u001b[0m\u001b[0;34m)\u001b[0m\u001b[0;34m\u001b[0m\u001b[0;34m\u001b[0m\u001b[0m\n\u001b[1;32m     11\u001b[0m         \u001b[0;32melse\u001b[0m\u001b[0;34m:\u001b[0m\u001b[0;34m\u001b[0m\u001b[0;34m\u001b[0m\u001b[0m\n\u001b[0;32m---> 12\u001b[0;31m             \u001b[0mx\u001b[0m \u001b[0;34m=\u001b[0m \u001b[0mmodel\u001b[0m\u001b[0;34m.\u001b[0m\u001b[0mforward\u001b[0m\u001b[0;34m(\u001b[0m\u001b[0;36m130\u001b[0m\u001b[0;34m,\u001b[0m \u001b[0minputs\u001b[0m\u001b[0;34m,\u001b[0m \u001b[0mlast\u001b[0m\u001b[0;34m=\u001b[0m\u001b[0mlast\u001b[0m\u001b[0;34m)\u001b[0m\u001b[0;34m\u001b[0m\u001b[0;34m\u001b[0m\u001b[0m\n\u001b[0m\u001b[1;32m     13\u001b[0m \u001b[0;34m\u001b[0m\u001b[0m\n\u001b[1;32m     14\u001b[0m         \u001b[0mb\u001b[0m \u001b[0;34m=\u001b[0m \u001b[0mget_rgb\u001b[0m\u001b[0;34m(\u001b[0m\u001b[0mx\u001b[0m\u001b[0;34m)\u001b[0m\u001b[0;34m\u001b[0m\u001b[0;34m\u001b[0m\u001b[0m\n",
      "\u001b[0;32m<ipython-input-16-ede10e81c098>\u001b[0m in \u001b[0;36mforward\u001b[0;34m(self, steps, x, last)\u001b[0m\n\u001b[1;32m     85\u001b[0m             \u001b[0;32mfor\u001b[0m \u001b[0mi\u001b[0m \u001b[0;32min\u001b[0m \u001b[0mrange\u001b[0m\u001b[0;34m(\u001b[0m\u001b[0msteps\u001b[0m\u001b[0;34m)\u001b[0m\u001b[0;34m:\u001b[0m\u001b[0;34m\u001b[0m\u001b[0;34m\u001b[0m\u001b[0m\n\u001b[1;32m     86\u001b[0m                 \u001b[0mb\u001b[0m \u001b[0;34m=\u001b[0m \u001b[0mself\u001b[0m\u001b[0;34m.\u001b[0m\u001b[0mperceive\u001b[0m\u001b[0;34m(\u001b[0m\u001b[0mx\u001b[0m\u001b[0;34m)\u001b[0m\u001b[0;34m\u001b[0m\u001b[0;34m\u001b[0m\u001b[0m\n\u001b[0;32m---> 87\u001b[0;31m                 \u001b[0mbb\u001b[0m \u001b[0;34m=\u001b[0m \u001b[0mself\u001b[0m\u001b[0;34m.\u001b[0m\u001b[0mconv3\u001b[0m\u001b[0;34m(\u001b[0m\u001b[0mself\u001b[0m\u001b[0;34m.\u001b[0m\u001b[0mconv2\u001b[0m\u001b[0;34m(\u001b[0m\u001b[0;34m(\u001b[0m\u001b[0mself\u001b[0m\u001b[0;34m.\u001b[0m\u001b[0mconv1a\u001b[0m\u001b[0;34m(\u001b[0m\u001b[0mself\u001b[0m\u001b[0;34m.\u001b[0m\u001b[0mrelu\u001b[0m\u001b[0;34m(\u001b[0m\u001b[0mself\u001b[0m\u001b[0;34m.\u001b[0m\u001b[0mconv1\u001b[0m\u001b[0;34m(\u001b[0m\u001b[0mb\u001b[0m\u001b[0;34m)\u001b[0m\u001b[0;34m)\u001b[0m\u001b[0;34m)\u001b[0m\u001b[0;34m)\u001b[0m\u001b[0;34m)\u001b[0m\u001b[0;34m)\u001b[0m\u001b[0;34m\u001b[0m\u001b[0;34m\u001b[0m\u001b[0m\n\u001b[0m\u001b[1;32m     88\u001b[0m \u001b[0;34m\u001b[0m\u001b[0m\n\u001b[1;32m     89\u001b[0m                 \u001b[0mc\u001b[0m \u001b[0;34m=\u001b[0m \u001b[0mx\u001b[0m\u001b[0;34m.\u001b[0m\u001b[0mdetach\u001b[0m\u001b[0;34m(\u001b[0m\u001b[0;34m)\u001b[0m\u001b[0;34m.\u001b[0m\u001b[0mclone\u001b[0m\u001b[0;34m(\u001b[0m\u001b[0;34m)\u001b[0m\u001b[0;34m\u001b[0m\u001b[0;34m\u001b[0m\u001b[0m\n",
      "\u001b[0;32m/opt/conda/lib/python3.8/site-packages/torch/nn/modules/module.py\u001b[0m in \u001b[0;36m_call_impl\u001b[0;34m(self, *input, **kwargs)\u001b[0m\n\u001b[1;32m    887\u001b[0m             \u001b[0mresult\u001b[0m \u001b[0;34m=\u001b[0m \u001b[0mself\u001b[0m\u001b[0;34m.\u001b[0m\u001b[0m_slow_forward\u001b[0m\u001b[0;34m(\u001b[0m\u001b[0;34m*\u001b[0m\u001b[0minput\u001b[0m\u001b[0;34m,\u001b[0m \u001b[0;34m**\u001b[0m\u001b[0mkwargs\u001b[0m\u001b[0;34m)\u001b[0m\u001b[0;34m\u001b[0m\u001b[0;34m\u001b[0m\u001b[0m\n\u001b[1;32m    888\u001b[0m         \u001b[0;32melse\u001b[0m\u001b[0;34m:\u001b[0m\u001b[0;34m\u001b[0m\u001b[0;34m\u001b[0m\u001b[0m\n\u001b[0;32m--> 889\u001b[0;31m             \u001b[0mresult\u001b[0m \u001b[0;34m=\u001b[0m \u001b[0mself\u001b[0m\u001b[0;34m.\u001b[0m\u001b[0mforward\u001b[0m\u001b[0;34m(\u001b[0m\u001b[0;34m*\u001b[0m\u001b[0minput\u001b[0m\u001b[0;34m,\u001b[0m \u001b[0;34m**\u001b[0m\u001b[0mkwargs\u001b[0m\u001b[0;34m)\u001b[0m\u001b[0;34m\u001b[0m\u001b[0;34m\u001b[0m\u001b[0m\n\u001b[0m\u001b[1;32m    890\u001b[0m         for hook in itertools.chain(\n\u001b[1;32m    891\u001b[0m                 \u001b[0m_global_forward_hooks\u001b[0m\u001b[0;34m.\u001b[0m\u001b[0mvalues\u001b[0m\u001b[0;34m(\u001b[0m\u001b[0;34m)\u001b[0m\u001b[0;34m,\u001b[0m\u001b[0;34m\u001b[0m\u001b[0;34m\u001b[0m\u001b[0m\n",
      "\u001b[0;32m/opt/conda/lib/python3.8/site-packages/torch/nn/modules/conv.py\u001b[0m in \u001b[0;36mforward\u001b[0;34m(self, input)\u001b[0m\n\u001b[1;32m    397\u001b[0m \u001b[0;34m\u001b[0m\u001b[0m\n\u001b[1;32m    398\u001b[0m     \u001b[0;32mdef\u001b[0m \u001b[0mforward\u001b[0m\u001b[0;34m(\u001b[0m\u001b[0mself\u001b[0m\u001b[0;34m,\u001b[0m \u001b[0minput\u001b[0m\u001b[0;34m:\u001b[0m \u001b[0mTensor\u001b[0m\u001b[0;34m)\u001b[0m \u001b[0;34m->\u001b[0m \u001b[0mTensor\u001b[0m\u001b[0;34m:\u001b[0m\u001b[0;34m\u001b[0m\u001b[0;34m\u001b[0m\u001b[0m\n\u001b[0;32m--> 399\u001b[0;31m         \u001b[0;32mreturn\u001b[0m \u001b[0mself\u001b[0m\u001b[0;34m.\u001b[0m\u001b[0m_conv_forward\u001b[0m\u001b[0;34m(\u001b[0m\u001b[0minput\u001b[0m\u001b[0;34m,\u001b[0m \u001b[0mself\u001b[0m\u001b[0;34m.\u001b[0m\u001b[0mweight\u001b[0m\u001b[0;34m,\u001b[0m \u001b[0mself\u001b[0m\u001b[0;34m.\u001b[0m\u001b[0mbias\u001b[0m\u001b[0;34m)\u001b[0m\u001b[0;34m\u001b[0m\u001b[0;34m\u001b[0m\u001b[0m\n\u001b[0m\u001b[1;32m    400\u001b[0m \u001b[0;34m\u001b[0m\u001b[0m\n\u001b[1;32m    401\u001b[0m \u001b[0;32mclass\u001b[0m \u001b[0mConv3d\u001b[0m\u001b[0;34m(\u001b[0m\u001b[0m_ConvNd\u001b[0m\u001b[0;34m)\u001b[0m\u001b[0;34m:\u001b[0m\u001b[0;34m\u001b[0m\u001b[0;34m\u001b[0m\u001b[0m\n",
      "\u001b[0;32m/opt/conda/lib/python3.8/site-packages/torch/nn/modules/conv.py\u001b[0m in \u001b[0;36m_conv_forward\u001b[0;34m(self, input, weight, bias)\u001b[0m\n\u001b[1;32m    393\u001b[0m                             \u001b[0mweight\u001b[0m\u001b[0;34m,\u001b[0m \u001b[0mbias\u001b[0m\u001b[0;34m,\u001b[0m \u001b[0mself\u001b[0m\u001b[0;34m.\u001b[0m\u001b[0mstride\u001b[0m\u001b[0;34m,\u001b[0m\u001b[0;34m\u001b[0m\u001b[0;34m\u001b[0m\u001b[0m\n\u001b[1;32m    394\u001b[0m                             _pair(0), self.dilation, self.groups)\n\u001b[0;32m--> 395\u001b[0;31m         return F.conv2d(input, weight, bias, self.stride,\n\u001b[0m\u001b[1;32m    396\u001b[0m                         self.padding, self.dilation, self.groups)\n\u001b[1;32m    397\u001b[0m \u001b[0;34m\u001b[0m\u001b[0m\n",
      "\u001b[0;31mKeyboardInterrupt\u001b[0m: "
     ]
    }
   ],
   "source": [
    "# Cross-entropy training loop\n",
    "for epoch in range(epochs):\n",
    "    i = 0\n",
    "    # Last is so we can record the steps from the final epoch\n",
    "    last = False\n",
    "    if epoch == epochs:\n",
    "        last = True\n",
    "    for batch in train_loader_CE:\n",
    "        inputs, targets = batch\n",
    "        if last == True:\n",
    "            x, epoch_history = model.forward(130, inputs, last=last)\n",
    "        else:\n",
    "            x = model.forward(130, inputs, last=last)\n",
    "            \n",
    "        b = get_rgb(x)\n",
    "        #out = loss1(b,c) + 4*loss1(b[3],c[3])+15*loss1(b[4],c[4])+4*loss1(b[5],c[5])\n",
    "        out = loss2(b, targets.detach().long())\n",
    "        print(\"Loss =\", out)\n",
    "        loss_ce.append(float(out))\n",
    "        c = b.detach().clone()\n",
    "        \n",
    "        if (i % 5 == 0):\n",
    "            print(\"EPOCH: \", epoch)\n",
    "            display(ts(max_rgb(c)[0]))\n",
    "            print(\"Learning rate: \", scheduler.get_last_lr()[0])\n",
    "            del c\n",
    "        i += 1\n",
    "        \n",
    "        optimizer.zero_grad()\n",
    "        out.backward()\n",
    "        optimizer.step()\n",
    "    scheduler.step()"
   ]
  },
  {
   "cell_type": "code",
   "execution_count": 26,
   "id": "rocky-galaxy",
   "metadata": {},
   "outputs": [
    {
     "data": {
      "image/gif": "[encoded data removed]",
      "text/plain": [
       "<IPython.core.display.Image object>"
      ]
     },
     "execution_count": 26,
     "metadata": {},
     "output_type": "execute_result"
    }
   ],
   "source": [
    "from IPython.display import display, Image\n",
    "Image('final.gif')"
   ]
  },
  {
   "cell_type": "code",
   "execution_count": null,
   "id": "polished-bundle",
   "metadata": {},
   "outputs": [],
   "source": [
    "plt.plot(loss_mse)"
   ]
  },
  {
   "cell_type": "code",
   "execution_count": 27,
   "id": "incomplete-assets",
   "metadata": {},
   "outputs": [],
   "source": [
    "torch.save(model, 'naive.pth')"
   ]
  },
  {
   "cell_type": "code",
   "execution_count": 31,
   "id": "raised-rochester",
   "metadata": {},
   "outputs": [
    {
     "data": {
      "text/plain": [
       "torch.Size([5, 4900])"
      ]
     },
     "execution_count": 31,
     "metadata": {},
     "output_type": "execute_result"
    }
   ],
   "source": [
    "torch.argmax(get_rgb(x), dim=1).flatten(1,2).shape"
   ]
  },
  {
   "cell_type": "code",
   "execution_count": 28,
   "id": "absent-generic",
   "metadata": {},
   "outputs": [
    {
     "name": "stdout",
     "output_type": "stream",
     "text": [
      "torch.Size([60, 60, 4])\n"
     ]
    },
    {
     "data": {
      "image/png": "[encoded data removed]",
      "text/plain": [
       "<Figure size 432x288 with 1 Axes>"
      ]
     },
     "metadata": {
      "needs_background": "light"
     },
     "output_type": "display_data"
    }
   ],
   "source": [
    "# Show certainty of pixels\n",
    "\n",
    "a = max_rgba(b[0]).detach().clone().to('cpu')\n",
    "plt.imshow(a.transpose(1,2).transpose(0,2))\n",
    "plt.show()"
   ]
  },
  {
   "cell_type": "code",
   "execution_count": 39,
   "id": "suited-polish",
   "metadata": {},
   "outputs": [],
   "source": [
    "# Save final iterations as gif\n",
    "\n",
    "epoch_new = [ts(i) for i in epoch_history]\n",
    "epoch_new[0].save('anitest.gif',\n",
    "               save_all=True,\n",
    "               append_images=epoch_new[1:],\n",
    "               duration=1000,\n",
    "               loop=0)"
   ]
  },
  {
   "cell_type": "code",
   "execution_count": 12,
   "id": "framed-accreditation",
   "metadata": {},
   "outputs": [],
   "source": [
    "from sklearn.metrics import confusion_matrix\n",
    "from sklearn.metrics import mutual_info_score \n",
    "from sklearn.metrics import ConfusionMatrixDisplay\n",
    "\n",
    "def dice(pred, truth, epsilon=1e-6):\n",
    "    pred = pred.view(-1).cpu()\n",
    "    target = truth.view(-1).cpu()\n",
    "\n",
    "    x = confusion_matrix(pred, target)\n",
    "    \n",
    "    FP = x.sum(axis=0) - np.diag(x)\n",
    "    FN = x.sum(axis=1) - np.diag(x)\n",
    "    TP = np.diag(x)\n",
    "    TN = x.sum() - (FP + FN + TP)\n",
    "    \n",
    "    FP = np.sum(FP)\n",
    "    FN = np.sum(FN)\n",
    "    TP = np.sum(TP)\n",
    "    TN = np.sum(TN)\n",
    "    \n",
    "    d5 = 2*TP+FN+FP\n",
    "    if d5 == 0:\n",
    "        d5 = epsilon\n",
    "    dice = 2*TP/d5\n",
    "    \n",
    "    return dice  \n",
    "\n",
    "# Precision, Recall, Accuracy and Specificity Score\n",
    "def pras(pred, truth):\n",
    "    \n",
    "    # Convert to format for confusion matrix\n",
    "    pred = pred.view(-1).cpu()\n",
    "    target = truth.view(-1).cpu()\n",
    "\n",
    "    x = confusion_matrix(pred, target)\n",
    "\n",
    "    # Calculate FP, FN, TP, TN\n",
    "    FP = x.sum(axis=0) - np.diag(x)\n",
    "    FN = x.sum(axis=1) - np.diag(x)\n",
    "    TP = np.diag(x)\n",
    "    TN = x.sum() - (FP + FN + TP)\n",
    "    \n",
    "    # Set the denominators and deal with 0 denominators\n",
    "    d1 = TP+FP\n",
    "    d1[np.where(d1==0)] = -1\n",
    "    d2 = TP+FN\n",
    "    d2[np.where(d2==0)] = -1\n",
    "    d3 = TP+TN+FP+FN\n",
    "    d3[np.where(d3==0)] = -1\n",
    "    d4 = TN+FP\n",
    "    d4[np.where(d4==0)] = -1\n",
    "\n",
    "    # Calculate and return scores\n",
    "    precision = TP/d1\n",
    "    recall = TP/d2\n",
    "    accuracy = (TP+TN)/d3\n",
    "    specificity = TN/d4\n",
    "    \n",
    "    return precision, recall, accuracy, specificity\n",
    "\n",
    "# Recall Score\n",
    "def overall_pras(pred, truth):\n",
    "    \n",
    "    # Convert to format for confusion matrix\n",
    "    pred = pred.view(-1).cpu()\n",
    "    target = truth.view(-1).cpu()\n",
    "    \n",
    "    x = confusion_matrix(pred, target)\n",
    "\n",
    "    FP = x.sum(axis=0) - np.diag(x)  \n",
    "    FN = x.sum(axis=1) - np.diag(x)\n",
    "    TP = np.diag(x)\n",
    "    TN = x.sum() - (FP + FN + TP)\n",
    "    \n",
    "    # Sum the values for overall values\n",
    "    FP = np.sum(FP)\n",
    "    FN = np.sum(FN)\n",
    "    TP = np.sum(TP)\n",
    "    TN = np.sum(TN)\n",
    "    \n",
    "    # Set the denominators and deal with 0 denominators\n",
    "    d1 = TP+FP\n",
    "    d2 = TP+FN\n",
    "    d3 = TP+TN+FP+FN\n",
    "    d4 = TN+FP\n",
    "    \n",
    "    # Calculate and return scores and deal with potential 0 denominators\n",
    "    if d1 > 0:\n",
    "        precision = TP/d1\n",
    "    else:\n",
    "        precision = -1\n",
    "        \n",
    "    if d2 > 0:\n",
    "        recall = TP/d2\n",
    "    else:\n",
    "        recall = -1\n",
    "    \n",
    "    if d3 > 0:\n",
    "        accuracy = (TP+TN)/d3\n",
    "    else:\n",
    "        d3 = -1\n",
    "        \n",
    "    if d4 > 0:\n",
    "        specificity = TN/d4\n",
    "    else:\n",
    "        specificity = -1\n",
    "    \n",
    "    return precision, recall, accuracy, specificity\n",
    "\n",
    "# Mutual Information\n",
    "def mi(pred, target):\n",
    "    print(pred.squeeze().shape)\n",
    "    print(target.flatten().shape)\n",
    "    return mutual_info_score(pred.flatten().cpu(), target.flatten().cpu())\n",
    "\n",
    "def get_confusion(pred, target):\n",
    "    pred = pred.view(-1).cpu()\n",
    "    target = target.view(-1).cpu()\n",
    "    x = confusion_matrix(pred.cpu(), target.cpu())\n",
    "    return x\n",
    "\n",
    "def print_confusion(conf):\n",
    "    xt = [\"Background\", \"Hair\", \"Face\", \"Nose\", \"Eyes\", \"Mouth\"]\n",
    "    sns.set(font_scale=1.4, rc={'figure.figsize':(11.7,8.27)}) \n",
    "    sns.heatmap(conf, annot=True, annot_kws={\"size\": 16}, fmt='g', xticklabels=xt, yticklabels=xt)\n",
    "    plt.savefig(\"confusion.png\")"
   ]
  },
  {
   "cell_type": "code",
   "execution_count": 13,
   "id": "baking-version",
   "metadata": {},
   "outputs": [],
   "source": [
    "# Empty lists for precision, recall, accuracy, specificity, DICE\n",
    "\n",
    "po_list = []\n",
    "ro_list = []\n",
    "ao_list = []\n",
    "so_list = []\n",
    "\n",
    "p_list = []\n",
    "r_list = []\n",
    "a_list = []\n",
    "s_list = []\n",
    "\n",
    "dice_list = []\n",
    "mi_list = []"
   ]
  },
  {
   "cell_type": "code",
   "execution_count": 14,
   "id": "fantastic-basket",
   "metadata": {
    "scrolled": true
   },
   "outputs": [
    {
     "name": "stdout",
     "output_type": "stream",
     "text": [
      "Loss = tensor(1.6257, device='cuda:0')\n",
      "torch.Size([60, 60])\n",
      "torch.Size([3600])\n"
     ]
    },
    {
     "data": {
      "image/png": "[encoded data removed]",
      "text/plain": [
       "<PIL.Image.Image image mode=RGB size=60x60 at 0x7F1F9401FC10>"
      ]
     },
     "metadata": {},
     "output_type": "display_data"
    },
    {
     "name": "stdout",
     "output_type": "stream",
     "text": [
      "1.6256805658340454\n",
      "Loss = tensor(1.2909, device='cuda:0')\n",
      "torch.Size([60, 60])\n",
      "torch.Size([3600])\n"
     ]
    },
    {
     "data": {
      "image/png": "[encoded data removed]",
      "text/plain": [
       "<PIL.Image.Image image mode=RGB size=60x60 at 0x7F20E28352B0>"
      ]
     },
     "metadata": {},
     "output_type": "display_data"
    },
    {
     "name": "stdout",
     "output_type": "stream",
     "text": [
      "1.2909468412399292\n",
      "Loss = tensor(1.3848, device='cuda:0')\n",
      "torch.Size([60, 60])\n",
      "torch.Size([3600])\n"
     ]
    },
    {
     "data": {
      "image/png": "[encoded data removed]",
      "text/plain": [
       "<PIL.Image.Image image mode=RGB size=60x60 at 0x7F20E2835130>"
      ]
     },
     "metadata": {},
     "output_type": "display_data"
    },
    {
     "name": "stdout",
     "output_type": "stream",
     "text": [
      "1.3847682476043701\n",
      "Loss = tensor(1.3942, device='cuda:0')\n",
      "torch.Size([60, 60])\n",
      "torch.Size([3600])\n"
     ]
    },
    {
     "data": {
      "image/png": "[encoded data removed]",
      "text/plain": [
       "<PIL.Image.Image image mode=RGB size=60x60 at 0x7F20E2835130>"
      ]
     },
     "metadata": {},
     "output_type": "display_data"
    },
    {
     "name": "stdout",
     "output_type": "stream",
     "text": [
      "1.394240140914917\n",
      "Loss = tensor(1.2760, device='cuda:0')\n",
      "torch.Size([60, 60])\n",
      "torch.Size([3600])\n"
     ]
    },
    {
     "data": {
      "image/png": "[encoded data removed]",
      "text/plain": [
       "<PIL.Image.Image image mode=RGB size=60x60 at 0x7F2170595FA0>"
      ]
     },
     "metadata": {},
     "output_type": "display_data"
    },
    {
     "name": "stdout",
     "output_type": "stream",
     "text": [
      "1.275985836982727\n",
      "Loss = tensor(1.3382, device='cuda:0')\n",
      "torch.Size([60, 60])\n",
      "torch.Size([3600])\n"
     ]
    },
    {
     "data": {
      "image/png": "[encoded data removed]",
      "text/plain": [
       "<PIL.Image.Image image mode=RGB size=60x60 at 0x7F2170595DF0>"
      ]
     },
     "metadata": {},
     "output_type": "display_data"
    },
    {
     "name": "stdout",
     "output_type": "stream",
     "text": [
      "1.338197946548462\n",
      "Loss = tensor(1.3876, device='cuda:0')\n",
      "torch.Size([60, 60])\n",
      "torch.Size([3600])\n"
     ]
    },
    {
     "data": {
      "image/png": "[encoded data removed]",
      "text/plain": [
       "<PIL.Image.Image image mode=RGB size=60x60 at 0x7F2170595F10>"
      ]
     },
     "metadata": {},
     "output_type": "display_data"
    },
    {
     "name": "stdout",
     "output_type": "stream",
     "text": [
      "1.3876286745071411\n",
      "Loss = tensor(1.3286, device='cuda:0')\n",
      "torch.Size([60, 60])\n",
      "torch.Size([3600])\n"
     ]
    },
    {
     "data": {
      "image/png": "[encoded data removed]",
      "text/plain": [
       "<PIL.Image.Image image mode=RGB size=60x60 at 0x7F2170595580>"
      ]
     },
     "metadata": {},
     "output_type": "display_data"
    },
    {
     "name": "stdout",
     "output_type": "stream",
     "text": [
      "1.3285850286483765\n",
      "Loss = tensor(1.3165, device='cuda:0')\n",
      "torch.Size([60, 60])\n",
      "torch.Size([3600])\n"
     ]
    },
    {
     "data": {
      "image/png": "[encoded data removed]",
      "text/plain": [
       "<PIL.Image.Image image mode=RGB size=60x60 at 0x7F2170595FA0>"
      ]
     },
     "metadata": {},
     "output_type": "display_data"
    },
    {
     "name": "stdout",
     "output_type": "stream",
     "text": [
      "1.3164860010147095\n",
      "Loss = tensor(1.3535, device='cuda:0')\n",
      "torch.Size([60, 60])\n",
      "torch.Size([3600])\n"
     ]
    },
    {
     "data": {
      "image/png": "[encoded data removed]",
      "text/plain": [
       "<PIL.Image.Image image mode=RGB size=60x60 at 0x7F20E2835310>"
      ]
     },
     "metadata": {},
     "output_type": "display_data"
    },
    {
     "name": "stdout",
     "output_type": "stream",
     "text": [
      "1.3534773588180542\n",
      "Loss = tensor(1.2847, device='cuda:0')\n",
      "torch.Size([60, 60])\n",
      "torch.Size([3600])\n"
     ]
    },
    {
     "data": {
      "image/png": "[encoded data removed]",
      "text/plain": [
       "<PIL.Image.Image image mode=RGB size=60x60 at 0x7F20E28352B0>"
      ]
     },
     "metadata": {},
     "output_type": "display_data"
    },
    {
     "name": "stdout",
     "output_type": "stream",
     "text": [
      "1.284747838973999\n",
      "Loss = tensor(1.2992, device='cuda:0')\n",
      "torch.Size([60, 60])\n",
      "torch.Size([3600])\n"
     ]
    },
    {
     "data": {
      "image/png": "[encoded data removed]",
      "text/plain": [
       "<PIL.Image.Image image mode=RGB size=60x60 at 0x7F20E2835610>"
      ]
     },
     "metadata": {},
     "output_type": "display_data"
    },
    {
     "name": "stdout",
     "output_type": "stream",
     "text": [
      "1.2991952896118164\n",
      "Loss = tensor(1.4886, device='cuda:0')\n",
      "torch.Size([60, 60])\n",
      "torch.Size([3600])\n"
     ]
    },
    {
     "data": {
      "image/png": "[encoded data removed]",
      "text/plain": [
       "<PIL.Image.Image image mode=RGB size=60x60 at 0x7F20E28352B0>"
      ]
     },
     "metadata": {},
     "output_type": "display_data"
    },
    {
     "name": "stdout",
     "output_type": "stream",
     "text": [
      "1.488637089729309\n",
      "Loss = tensor(1.2852, device='cuda:0')\n",
      "torch.Size([60, 60])\n",
      "torch.Size([3600])\n"
     ]
    },
    {
     "data": {
      "image/png": "[encoded data removed]",
      "text/plain": [
       "<PIL.Image.Image image mode=RGB size=60x60 at 0x7F20E28352B0>"
      ]
     },
     "metadata": {},
     "output_type": "display_data"
    },
    {
     "name": "stdout",
     "output_type": "stream",
     "text": [
      "1.2851858139038086\n",
      "Loss = tensor(1.3334, device='cuda:0')\n",
      "torch.Size([60, 60])\n",
      "torch.Size([3600])\n"
     ]
    },
    {
     "data": {
      "image/png": "[encoded data removed]",
      "text/plain": [
       "<PIL.Image.Image image mode=RGB size=60x60 at 0x7F20E2835130>"
      ]
     },
     "metadata": {},
     "output_type": "display_data"
    },
    {
     "name": "stdout",
     "output_type": "stream",
     "text": [
      "1.3333861827850342\n",
      "Loss = tensor(1.2625, device='cuda:0')\n",
      "torch.Size([60, 60])\n",
      "torch.Size([3600])\n"
     ]
    },
    {
     "data": {
      "image/png": "[encoded data removed]",
      "text/plain": [
       "<PIL.Image.Image image mode=RGB size=60x60 at 0x7F2170595DF0>"
      ]
     },
     "metadata": {},
     "output_type": "display_data"
    },
    {
     "name": "stdout",
     "output_type": "stream",
     "text": [
      "1.2625274658203125\n",
      "Loss = tensor(1.3842, device='cuda:0')\n",
      "torch.Size([60, 60])\n",
      "torch.Size([3600])\n"
     ]
    },
    {
     "data": {
      "image/png": "[encoded data removed]",
      "text/plain": [
       "<PIL.Image.Image image mode=RGB size=60x60 at 0x7F20E28352B0>"
      ]
     },
     "metadata": {},
     "output_type": "display_data"
    },
    {
     "name": "stdout",
     "output_type": "stream",
     "text": [
      "1.3842464685440063\n",
      "Loss = tensor(1.2911, device='cuda:0')\n",
      "torch.Size([60, 60])\n",
      "torch.Size([3600])\n"
     ]
    },
    {
     "data": {
      "image/png": "[encoded data removed]",
      "text/plain": [
       "<PIL.Image.Image image mode=RGB size=60x60 at 0x7F2170595F10>"
      ]
     },
     "metadata": {},
     "output_type": "display_data"
    },
    {
     "name": "stdout",
     "output_type": "stream",
     "text": [
      "1.2910785675048828\n",
      "Loss = tensor(1.4117, device='cuda:0')\n",
      "torch.Size([60, 60])\n",
      "torch.Size([3600])\n"
     ]
    },
    {
     "data": {
      "image/png": "[encoded data removed]",
      "text/plain": [
       "<PIL.Image.Image image mode=RGB size=60x60 at 0x7F20E2835130>"
      ]
     },
     "metadata": {},
     "output_type": "display_data"
    },
    {
     "name": "stdout",
     "output_type": "stream",
     "text": [
      "1.4116612672805786\n",
      "Loss = tensor(1.3177, device='cuda:0')\n",
      "torch.Size([60, 60])\n",
      "torch.Size([3600])\n"
     ]
    },
    {
     "data": {
      "image/png": "[encoded data removed]",
      "text/plain": [
       "<PIL.Image.Image image mode=RGB size=60x60 at 0x7F20E2835130>"
      ]
     },
     "metadata": {},
     "output_type": "display_data"
    },
    {
     "name": "stdout",
     "output_type": "stream",
     "text": [
      "1.317700982093811\n",
      "Loss = tensor(1.2965, device='cuda:0')\n",
      "torch.Size([60, 60])\n",
      "torch.Size([3600])\n"
     ]
    },
    {
     "data": {
      "image/png": "[encoded data removed]",
      "text/plain": [
       "<PIL.Image.Image image mode=RGB size=60x60 at 0x7F2170595EE0>"
      ]
     },
     "metadata": {},
     "output_type": "display_data"
    },
    {
     "name": "stdout",
     "output_type": "stream",
     "text": [
      "1.2964756488800049\n",
      "Loss = tensor(1.3595, device='cuda:0')\n",
      "torch.Size([60, 60])\n",
      "torch.Size([3600])\n"
     ]
    },
    {
     "data": {
      "image/png": "[encoded data removed]",
      "text/plain": [
       "<PIL.Image.Image image mode=RGB size=60x60 at 0x7F2170595580>"
      ]
     },
     "metadata": {},
     "output_type": "display_data"
    },
    {
     "name": "stdout",
     "output_type": "stream",
     "text": [
      "1.3594715595245361\n",
      "Loss = tensor(1.3431, device='cuda:0')\n",
      "torch.Size([60, 60])\n",
      "torch.Size([3600])\n"
     ]
    },
    {
     "data": {
      "image/png": "[encoded data removed]",
      "text/plain": [
       "<PIL.Image.Image image mode=RGB size=60x60 at 0x7F2170595DF0>"
      ]
     },
     "metadata": {},
     "output_type": "display_data"
    },
    {
     "name": "stdout",
     "output_type": "stream",
     "text": [
      "1.3431376218795776\n",
      "Loss = tensor(1.3827, device='cuda:0')\n",
      "torch.Size([60, 60])\n",
      "torch.Size([3600])\n"
     ]
    },
    {
     "data": {
      "image/png": "[encoded data removed]",
      "text/plain": [
       "<PIL.Image.Image image mode=RGB size=60x60 at 0x7F20E28352B0>"
      ]
     },
     "metadata": {},
     "output_type": "display_data"
    },
    {
     "name": "stdout",
     "output_type": "stream",
     "text": [
      "1.3826584815979004\n",
      "Loss = tensor(1.3589, device='cuda:0')\n",
      "torch.Size([60, 60])\n",
      "torch.Size([3600])\n"
     ]
    },
    {
     "data": {
      "image/png": "[encoded data removed]",
      "text/plain": [
       "<PIL.Image.Image image mode=RGB size=60x60 at 0x7F2170595EE0>"
      ]
     },
     "metadata": {},
     "output_type": "display_data"
    },
    {
     "name": "stdout",
     "output_type": "stream",
     "text": [
      "1.358903169631958\n",
      "Loss = tensor(1.4311, device='cuda:0')\n",
      "torch.Size([60, 60])\n",
      "torch.Size([3600])\n"
     ]
    },
    {
     "data": {
      "image/png": "[encoded data removed]",
      "text/plain": [
       "<PIL.Image.Image image mode=RGB size=60x60 at 0x7F20E28350D0>"
      ]
     },
     "metadata": {},
     "output_type": "display_data"
    },
    {
     "name": "stdout",
     "output_type": "stream",
     "text": [
      "1.431139349937439\n",
      "Loss = tensor(1.2611, device='cuda:0')\n",
      "torch.Size([60, 60])\n",
      "torch.Size([3600])\n"
     ]
    },
    {
     "data": {
      "image/png": "[encoded data removed]",
      "text/plain": [
       "<PIL.Image.Image image mode=RGB size=60x60 at 0x7F20E2835610>"
      ]
     },
     "metadata": {},
     "output_type": "display_data"
    },
    {
     "name": "stdout",
     "output_type": "stream",
     "text": [
      "1.26105797290802\n",
      "Loss = tensor(1.3772, device='cuda:0')\n",
      "torch.Size([60, 60])\n",
      "torch.Size([3600])\n"
     ]
    },
    {
     "data": {
      "image/png": "[encoded data removed]",
      "text/plain": [
       "<PIL.Image.Image image mode=RGB size=60x60 at 0x7F20E2835610>"
      ]
     },
     "metadata": {},
     "output_type": "display_data"
    },
    {
     "name": "stdout",
     "output_type": "stream",
     "text": [
      "1.377220630645752\n",
      "Loss = tensor(1.3926, device='cuda:0')\n",
      "torch.Size([60, 60])\n",
      "torch.Size([3600])\n"
     ]
    },
    {
     "data": {
      "image/png": "[encoded data removed]",
      "text/plain": [
       "<PIL.Image.Image image mode=RGB size=60x60 at 0x7F2170595F10>"
      ]
     },
     "metadata": {},
     "output_type": "display_data"
    },
    {
     "name": "stdout",
     "output_type": "stream",
     "text": [
      "1.392622709274292\n",
      "Loss = tensor(1.4908, device='cuda:0')\n",
      "torch.Size([60, 60])\n",
      "torch.Size([3600])\n"
     ]
    },
    {
     "data": {
      "image/png": "[encoded data removed]",
      "text/plain": [
       "<PIL.Image.Image image mode=RGB size=60x60 at 0x7F2170595F10>"
      ]
     },
     "metadata": {},
     "output_type": "display_data"
    },
    {
     "name": "stdout",
     "output_type": "stream",
     "text": [
      "1.490848183631897\n"
     ]
    }
   ],
   "source": [
    "# Inference and test loss\n",
    "loss_test_ce = []\n",
    "batch_size=1\n",
    "conf_running = torch.zeros(6,6)\n",
    "\n",
    "with torch.no_grad():\n",
    "    for batch in test_loader_CE:\n",
    "        inputs, targets = batch\n",
    "        if last == True:\n",
    "            x, epoch_history = model.forward(130, inputs, last=last)\n",
    "        else:\n",
    "            x = model.forward(130, inputs, last=last)\n",
    "\n",
    "        b = get_rgb(x)\n",
    "        pred = torch.argmax(b, dim=1)\n",
    "        out = loss2(b, targets.detach().long())\n",
    "        print(\"Loss =\", out)\n",
    "        loss_test_ce.append(float(out))\n",
    "        c = b.detach().clone()\n",
    "        \n",
    "        target = targets.detach().long()\n",
    "        \n",
    "        # Log metrics\n",
    "        p,r,a,s = overall_pras(pred, target)\n",
    "        po_list.append(p)\n",
    "        ro_list.append(r)\n",
    "        ao_list.append(a)\n",
    "        so_list.append(s)\n",
    "        \n",
    "        d = dice(pred, target)\n",
    "        dice_list.append(d.item())\n",
    "        \n",
    "        m = mi(pred, target)\n",
    "        mi_list.append(m)\n",
    "        \n",
    "        p,r,a,s = pras(pred, target)\n",
    "        p_list.append(p)\n",
    "        r_list.append(r)\n",
    "        a_list.append(a)\n",
    "        s_list.append(s)\n",
    "        \n",
    "        conf_running += get_confusion(pred, target)\n",
    "        \n",
    "        for i in range(batch_size):\n",
    "            display(ts(max_rgb(c)[i]))\n",
    "        del c\n",
    "        print(float(out))"
   ]
  },
  {
   "cell_type": "code",
   "execution_count": 16,
   "id": "smart-fashion",
   "metadata": {},
   "outputs": [],
   "source": [
    "boxplot_p = np.array(p_list)\n",
    "boxplot_r = np.array(r_list)\n",
    "boxplot_a = np.array(a_list)\n",
    "boxplot_s = np.array(s_list)\n",
    "boxplot_mi = np.array(mi_list)\n",
    "\n",
    "np.save('metrics/naive_p.npy', boxplot_p)\n",
    "np.save('metrics/naive_r.npy', boxplot_r)\n",
    "np.save('metrics/naive_a.npy', boxplot_a)\n",
    "np.save('metrics/naive_s.npy', boxplot_s)\n",
    "np.save('metrics/naive_m.npy', boxplot_mi)\n",
    "np.save('metrics/naive_dice.npy', dice_list)"
   ]
  },
  {
   "cell_type": "code",
   "execution_count": 17,
   "id": "younger-services",
   "metadata": {},
   "outputs": [
    {
     "data": {
      "image/png": "[encoded data removed]",
      "text/plain": [
       "<Figure size 432x288 with 1 Axes>"
      ]
     },
     "metadata": {
      "needs_background": "light"
     },
     "output_type": "display_data"
    },
    {
     "data": {
      "image/png": "[encoded data removed]",
      "text/plain": [
       "<Figure size 864x864 with 4 Axes>"
      ]
     },
     "metadata": {
      "needs_background": "light"
     },
     "output_type": "display_data"
    }
   ],
   "source": [
    "pras_overall_list = [dice_list, po_list, ro_list, ao_list, so_list, mi_list]\n",
    "#sns.boxplot(x=np.array(pras_overall_list), y=np.array([1,2,3,4]))\n",
    "plt.boxplot(pras_overall_list)\n",
    "plt.xticks([1,2,3,4,5,6],[\"DICE\", \"Precision\", \"Recall\", \"Accuracy\", \"Specificity\", \"MI\"])\n",
    "plt.title(\"Overall Metrics for Test Set\")\n",
    "plt.savefig(\"1NaivePras.png\")\n",
    "\n",
    "\n",
    "fig, ((ax1, ax2), (ax3, ax4)) = plt.subplots(2,2)\n",
    "ax1.boxplot(boxplot_p)\n",
    "ax1.set_title(\"Precision\")\n",
    "ax1.set_xticklabels([\"Background\", \"Hair\", \"Face\", \"Nose\", \"Eyes\", \"Mouth\"])\n",
    "\n",
    "ax2.boxplot(boxplot_r)\n",
    "ax2.set_title(\"Recall\")\n",
    "ax2.set_xticklabels([\"Background\", \"Hair\", \"Face\", \"Nose\", \"Eyes\", \"Mouth\"])\n",
    "\n",
    "ax3.boxplot(boxplot_a)\n",
    "ax3.set_title(\"Accuracy\")\n",
    "ax3.set_xticklabels([\"Background\", \"Hair\", \"Face\", \"Nose\", \"Eyes\", \"Mouth\"])\n",
    "\n",
    "ax4.boxplot(boxplot_s)\n",
    "ax4.set_title(\"Specificity\")\n",
    "ax4.set_xticklabels([\"Background\", \"Hair\", \"Face\", \"Nose\", \"Eyes\", \"Mouth\"])\n",
    "\n",
    "fig.set_figwidth(12)\n",
    "fig.set_figheight(12)\n",
    "\n",
    "plt.setp(ax1.xaxis.get_majorticklabels(), rotation=45)\n",
    "plt.setp(ax2.xaxis.get_majorticklabels(), rotation=45)\n",
    "plt.setp(ax3.xaxis.get_majorticklabels(), rotation=45)\n",
    "plt.setp(ax4.xaxis.get_majorticklabels(), rotation=45)\n",
    "fig.suptitle('PRAS Across Classes')\n",
    "\n",
    "plt.savefig(\"1NaivePrasClass.png\")"
   ]
  },
  {
   "cell_type": "code",
   "execution_count": 22,
   "id": "comic-facing",
   "metadata": {},
   "outputs": [],
   "source": [
    "np.save('1dice_naive.npy', np.array(dice_list))"
   ]
  },
  {
   "cell_type": "code",
   "execution_count": 21,
   "id": "joined-silicon",
   "metadata": {
    "scrolled": true
   },
   "outputs": [
    {
     "name": "stdout",
     "output_type": "stream",
     "text": [
      "Steps: 10 0.7817777777777778\n",
      "Steps: 20 0.797861111111111\n",
      "Steps: 30 0.807185185185185\n",
      "Steps: 40 0.813111111111111\n",
      "Steps: 50 0.8173148148148148\n",
      "Steps: 60 0.8200833333333333\n",
      "Steps: 70 0.8221666666666667\n",
      "Steps: 80 0.8239166666666666\n",
      "Steps: 90 0.8246759259259259\n",
      "Steps: 100 0.8249537037037036\n",
      "Steps: 110 0.8254444444444444\n",
      "Steps: 120 0.8258425925925927\n",
      "Steps: 130 0.8262314814814816\n",
      "Steps: 140 0.8264907407407409\n",
      "Steps: 150 0.826648148148148\n",
      "Steps: 160 0.8268796296296297\n",
      "Steps: 170 0.8270833333333333\n",
      "Steps: 180 0.8273611111111112\n",
      "Steps: 190 0.8274814814814814\n",
      "Steps: 200 0.8275185185185183\n",
      "Steps: 210 0.8276296296296296\n",
      "Steps: 220 0.8277500000000001\n",
      "Steps: 230 0.8278148148148147\n",
      "Steps: 240 0.8277685185185184\n",
      "Steps: 250 0.8277222222222221\n",
      "Steps: 260 0.8277407407407408\n",
      "Steps: 270 0.8277962962962963\n",
      "Steps: 280 0.8278611111111108\n",
      "Steps: 290 0.827824074074074\n",
      "Steps: 300 0.8277592592592591\n",
      "Steps: 310 0.8277777777777778\n",
      "Steps: 320 0.8278055555555555\n",
      "Steps: 330 0.8278611111111112\n",
      "Steps: 340 0.8278240740740741\n",
      "Steps: 350 0.8277592592592593\n",
      "Steps: 360 0.8277777777777776\n",
      "Steps: 370 0.8278055555555555\n",
      "Steps: 380 0.8278611111111113\n",
      "Steps: 390 0.8278333333333333\n",
      "Steps: 400 0.8277685185185185\n",
      "Steps: 410 0.8277777777777776\n",
      "Steps: 420 0.8278055555555556\n",
      "Steps: 430 0.8278611111111112\n",
      "Steps: 440 0.8278425925925925\n",
      "Steps: 450 0.8277685185185187\n",
      "Steps: 460 0.8277777777777777\n",
      "Steps: 470 0.8278055555555556\n",
      "Steps: 480 0.827861111111111\n",
      "Steps: 490 0.8278425925925925\n"
     ]
    }
   ],
   "source": [
    "# Analysing stability using number of steps\n",
    "last = False\n",
    "stability_dice = []\n",
    "images = []\n",
    "batch_size = 1\n",
    "\n",
    "\n",
    "for i in range(1,50):\n",
    "    dice_list=[]\n",
    "    with torch.no_grad():\n",
    "        for batch in test_loader_CE:\n",
    "            inputs, targets = batch\n",
    "            if last == True:\n",
    "                x, epoch_history = model.forward(i*10, inputs, last=last)\n",
    "            else:\n",
    "                x = model.forward(i*10, inputs, last=last)\n",
    "\n",
    "            b = get_rgb(x)\n",
    "            pred = torch.argmax(b, dim=1)\n",
    "            out = loss2(b, targets.detach().long())\n",
    "            c = b.detach().clone()\n",
    "            images.append(c)\n",
    "        \n",
    "            target = targets.detach().long()\n",
    "        \n",
    "            d = dice(pred, target)\n",
    "            dice_list.append(d.item())\n",
    "                \n",
    "            \n",
    "        print(\"Steps: \" + str(10*i) + \" \" + str(np.mean(dice_list)))\n",
    "        stability_dice.append(np.mean(dice_list))\n",
    "    "
   ]
  },
  {
   "cell_type": "code",
   "execution_count": 14,
   "id": "generous-diving",
   "metadata": {},
   "outputs": [],
   "source": [
    "# Save the DICE scores for the stability plot\n",
    "np.save('metrics/stability_naive.npy', stability_dice)"
   ]
  },
  {
   "cell_type": "code",
   "execution_count": null,
   "id": "composite-lobby",
   "metadata": {},
   "outputs": [],
   "source": []
  }
 ],
 "metadata": {
  "kernelspec": {
   "display_name": "Python 3",
   "language": "python",
   "name": "python3"
  },
  "language_info": {
   "codemirror_mode": {
    "name": "ipython",
    "version": 3
   },
   "file_extension": ".py",
   "mimetype": "text/x-python",
   "name": "python",
   "nbconvert_exporter": "python",
   "pygments_lexer": "ipython3",
   "version": "3.8.5"
  }
 },
 "nbformat": 4,
 "nbformat_minor": 5
}
